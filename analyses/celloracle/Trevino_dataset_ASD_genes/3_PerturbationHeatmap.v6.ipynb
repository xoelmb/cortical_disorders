{
 "cells": [
  {
   "cell_type": "code",
   "execution_count": 1,
   "id": "3dd5ff81-5ab8-4562-bb12-1097a2f7617c",
   "metadata": {
    "tags": []
   },
   "outputs": [
    {
     "name": "stderr",
     "output_type": "stream",
     "text": [
      "Loading required package: grid\n",
      "\n",
      "========================================\n",
      "ComplexHeatmap version 2.15.2\n",
      "Bioconductor page: http://bioconductor.org/packages/ComplexHeatmap/\n",
      "Github page: https://github.com/jokergoo/ComplexHeatmap\n",
      "Documentation: http://jokergoo.github.io/ComplexHeatmap-reference\n",
      "\n",
      "If you use it in published research, please cite either one:\n",
      "- Gu, Z. Complex Heatmap Visualization. iMeta 2022.\n",
      "- Gu, Z. Complex heatmaps reveal patterns and correlations in multidimensional \n",
      "    genomic data. Bioinformatics 2016.\n",
      "\n",
      "\n",
      "The new InteractiveComplexHeatmap package can directly export static \n",
      "complex heatmaps into an interactive Shiny app with zero effort. Have a try!\n",
      "\n",
      "This message can be suppressed by:\n",
      "  suppressPackageStartupMessages(library(ComplexHeatmap))\n",
      "========================================\n",
      "\n",
      "\n",
      "========================================\n",
      "circlize version 0.4.15\n",
      "CRAN page: https://cran.r-project.org/package=circlize\n",
      "Github page: https://github.com/jokergoo/circlize\n",
      "Documentation: https://jokergoo.github.io/circlize_book/book/\n",
      "\n",
      "If you use it in published research, please cite:\n",
      "Gu, Z. circlize implements and enhances circular visualization\n",
      "  in R. Bioinformatics 2014.\n",
      "\n",
      "This message can be suppressed by:\n",
      "  suppressPackageStartupMessages(library(circlize))\n",
      "========================================\n",
      "\n",
      "\n"
     ]
    }
   ],
   "source": [
    "library(ComplexHeatmap)\n",
    "library(circlize)"
   ]
  },
  {
   "cell_type": "code",
   "execution_count": 2,
   "id": "67bcf2d7-563c-4c9a-961d-bd70e3f9d14b",
   "metadata": {},
   "outputs": [
    {
     "data": {
      "text/html": [
       "'/users/genomics/xoel/codebases/co_new/src/FOXG1_subanalysis'"
      ],
      "text/latex": [
       "'/users/genomics/xoel/codebases/co\\_new/src/FOXG1\\_subanalysis'"
      ],
      "text/markdown": [
       "'/users/genomics/xoel/codebases/co_new/src/FOXG1_subanalysis'"
      ],
      "text/plain": [
       "[1] \"/users/genomics/xoel/codebases/co_new/src/FOXG1_subanalysis\""
      ]
     },
     "metadata": {},
     "output_type": "display_data"
    }
   ],
   "source": [
    "getwd()"
   ]
  },
  {
   "cell_type": "markdown",
   "id": "31cb07fc-f90d-4f6b-a31f-1c2709842f43",
   "metadata": {},
   "source": [
    "# set-up"
   ]
  },
  {
   "cell_type": "markdown",
   "id": "f2838510-0ad4-4273-b95a-7ba0d8405103",
   "metadata": {},
   "source": [
    "Este notebook es como el 5_1, pero calculamos correlaciones entre log2FC y perturbaciones."
   ]
  },
  {
   "cell_type": "code",
   "execution_count": 3,
   "id": "6fe3ece3-83b0-43ad-9b7c-760c5c11b97d",
   "metadata": {},
   "outputs": [
    {
     "name": "stdout",
     "output_type": "stream",
     "text": [
      "Loading objects:\n",
      "  cell.type.colors\n",
      "  cell.types\n",
      "  cell.types.nohighmito\n",
      "  chr_df\n",
      "  donor_sex\n",
      "  fig\n",
      "  flora_paper_list\n",
      "  gene_type.df\n",
      "  imprinted.df\n",
      "  imprinted.genes\n",
      "  monkey_paper_list\n",
      "  monkey.genes\n",
      "  monkey.markers\n",
      "  nescreg.genes\n",
      "  nescreg.genes.no_trg\n",
      "  nescreg.genes.no_trg.early\n",
      "  nescreg.list\n",
      "  nescreg.list.no_trg\n",
      "  nescreg.list.no_trg.early\n",
      "  nescreg.markers\n",
      "  nescreg.markers.no_trg\n",
      "  nescreg.markers.no_trg.early\n",
      "  nicola_marker_list\n",
      "  origin_sex.colors\n",
      "  pat.de\n",
      "  pat.de.top20\n",
      "  pat.list\n",
      "  pat.neu.de\n",
      "  pat.neu.de.top20\n",
      "  pat.neu.list\n",
      "  pat.neu.top20\n",
      "  pat.top20\n",
      "  phases\n",
      "  phases.colors\n",
      "  protein_coding.genes\n",
      "  region.genes\n",
      "  region.list\n",
      "  region.markers\n",
      "  samples\n",
      "  samples.colors\n",
      "  sex_chr.genes\n",
      "  sex_chr.genes.x\n",
      "  sex_chr.genes.y\n",
      "  shown_2b_list\n",
      "  shown_4d_list\n",
      "  tf.genes\n",
      "  tfs.df\n",
      "  top100.sub.pat\n",
      "  top100.subtype\n",
      "  valid_chr\n"
     ]
    }
   ],
   "source": [
    "load('~/codebases/ASD_IPSC_sept/data/commons.rda', verbose=T)"
   ]
  },
  {
   "cell_type": "code",
   "execution_count": 4,
   "id": "1600c4ff-74c3-4905-8e17-b7e1d45cb276",
   "metadata": {
    "scrolled": true,
    "tags": []
   },
   "outputs": [
    {
     "name": "stdout",
     "output_type": "stream",
     "text": [
      "\n",
      "> setwd(\"/users/genomics/xoel/codebases/co_new/results/\")\n",
      "\n",
      "> plotdir <- \"Plots/\"\n",
      "\n",
      "> dir.create(plotdir, showWarnings = F)\n",
      "\n",
      "> library(ggplot2)\n"
     ]
    },
    {
     "name": "stderr",
     "output_type": "stream",
     "text": [
      "Warning message:\n",
      "“package ‘ggplot2’ was built under R version 4.2.3”\n"
     ]
    },
    {
     "name": "stdout",
     "output_type": "stream",
     "text": [
      "\n",
      "> library(ggh4x)\n",
      "\n",
      "> library(ggpubr)\n",
      "\n",
      "> library(ggrepel)\n"
     ]
    },
    {
     "name": "stderr",
     "output_type": "stream",
     "text": [
      "Warning message:\n",
      "“package ‘ggrepel’ was built under R version 4.2.2”\n"
     ]
    },
    {
     "name": "stdout",
     "output_type": "stream",
     "text": [
      "\n",
      "> library(tidyr)\n"
     ]
    },
    {
     "name": "stderr",
     "output_type": "stream",
     "text": [
      "Warning message:\n",
      "“package ‘tidyr’ was built under R version 4.2.2”\n"
     ]
    },
    {
     "name": "stdout",
     "output_type": "stream",
     "text": [
      "\n",
      "> library(dplyr)\n"
     ]
    },
    {
     "name": "stderr",
     "output_type": "stream",
     "text": [
      "Warning message:\n",
      "“package ‘dplyr’ was built under R version 4.2.3”\n",
      "\n",
      "Attaching package: ‘dplyr’\n",
      "\n",
      "\n",
      "The following objects are masked from ‘package:stats’:\n",
      "\n",
      "    filter, lag\n",
      "\n",
      "\n",
      "The following objects are masked from ‘package:base’:\n",
      "\n",
      "    intersect, setdiff, setequal, union\n",
      "\n",
      "\n"
     ]
    },
    {
     "name": "stdout",
     "output_type": "stream",
     "text": [
      "\n",
      "> fig <- function(width, heigth) {\n",
      "+     options(repr.plot.width = width, repr.plot.height = heigth)\n",
      "+ }\n",
      "\n",
      "> CellTypeAnnot <- c(\"vRG E\", \"vRG L\", \"tRG\", \"oRG E\", \n",
      "+     \"oRG L\", \"nIPC\", \"Neu E\", \"GluN3\", \"GluN1\", \"GluN2\", \"GluN7\", \n",
      "+     \"GluN5\", \"GluN4\", \" ...\" ... [TRUNCATED] \n",
      "\n",
      "> CellTypeOrder <- c(\"RGC\", \"vRG\", \"vtRG\", \"oRG\", \"RG E\", \n",
      "+     \"RG L\", \"vRG E\", \"vRG L\", \"tRG\", \"oRG E\", \"oRG L\", \"Neural\", \n",
      "+     \"GluN\", \"nIPC\", \" ...\" ... [TRUNCATED] \n",
      "\n",
      "> CellTypeLabels <- CellTypeOrder\n",
      "\n",
      "> CellTypeColor <- setNames(c(\"#bec1d4\", \"#7d87b9\", \n",
      "+     \"#023fa5\", \"#d6bcc0\", \"#bb7784\", \"#8e063b\", \"#b5bbe3\", \"#8595e1\", \n",
      "+     \"#4a6fe3\", \"#e6afb ...\" ... [TRUNCATED] \n",
      "\n",
      "> ctinfo <- data.frame(hex = CellTypeColor, Name = factor(names(CellTypeColor))) %>% \n",
      "+     mutate(`Common label` = Name)\n",
      "\n",
      "> plot.celltype <- ggplot(data = ctinfo, mapping = aes(x = 0, \n",
      "+     y = Name, fill = `Common label`)) + geom_tile() + scale_fill_manual(values = Cell .... [TRUNCATED] \n",
      "\n",
      "> plot.celltype\n",
      "\n",
      "> write.csv(ctinfo, file = \"CellTypeColorGroups.csv\", \n",
      "+     row.names = FALSE)\n",
      "\n",
      "> write.csv(ctinfo[, c(\"Name\", \"hex\")], file = \"CellTypeColor.csv\", \n",
      "+     row.names = FALSE)\n",
      "\n",
      "> RegulonDiseaseOrder <- c(\"Polymicrogyria\", \"RareMCD\", \n",
      "+     \"MDD_2018\", \"ASD_2019\", \"ASD_HC65\", \"SFAR_Synd\", \"SFAR_S1\", \n",
      "+     \"FCDandmTOR\", \"DevDy ...\" ... [TRUNCATED] \n",
      "\n",
      "> DiseaseOrder <- c(\"Microcephaly\", \"Hydrocephaly\", \n",
      "+     \"Cobblestone\", \"AN_2019\", \"AD_2019\", \"ADHD_2019\", \"BD_2019\", \n",
      "+     \"NEUROT_2018\", \"IQ_2018 ...\" ... [TRUNCATED] \n",
      "\n",
      "> DiseaseColor <- c(Microcephaly = \"#1f77b4\", Hydrocephaly = \"#aec7e8\", \n",
      "+     Cobblestone = \"#ff7f0e\", AN_2019 = \"#ffbb78\", AD_2019 = \"#2ca02c\", \n",
      "+   .... [TRUNCATED] \n",
      "\n",
      "> write.csv(as.data.frame(DiseaseColor), file = \"DiseaseColor.csv\")\n",
      "\n",
      "> DiseaseExclude <- c(\"CHD8\", \"FMRP\")\n",
      "\n",
      "> RoleOrder <- c(\"none\", \"Ultra peripheral\", \"Peripheral\", \n",
      "+     \"Connector\", \"Kinless\", \"Provincial Hub\", \"Connector Hub\", \n",
      "+     \"Kinless Hub\")\n",
      "\n",
      "> RoleColors <- c(none = \"black\", `Ultra peripheral` = \"#7B7578\", \n",
      "+     Peripheral = \"#F39D85\", Connector = \"#B8DC9F\", Kinless = \"#8F95C7\", \n",
      "+     `P .... [TRUNCATED] \n",
      "\n",
      "> SampleLabels <- c(RGCmaturation = \"NEP maturation\", \n",
      "+     NeuralPCW16 = \"Neurogenesis\", NeuralPCW20 = \"Neurogenesis\", \n",
      "+     NeuralPCW21 = \"Neuroge ...\" ... [TRUNCATED] \n",
      "\n",
      "> SampleOrder <- names(SampleLabels)\n",
      "\n",
      "> SampleLabelOrder <- c(\"NEP maturation\", \"Neurogenesis\", \n",
      "+     \"Gliogenesis\")\n",
      "\n",
      "> SampleInclude <- c(\"NeuralPCW20\", \"Gliogenesis\")\n",
      "\n",
      "> ScoreInclude <- c(\"degree_all\", \"degree_centrality_all\", \n",
      "+     \"degree_in\", \"degree_centrality_in\", \"degree_out\", \"degree_centrality_out\", \n",
      "+     \" ...\" ... [TRUNCATED] \n",
      "\n",
      "> ScoreLabels <- c(degree_all = \"Degree (all)\", degree_centrality_all = \"Degree centrality (all)\", \n",
      "+     degree_in = \"Degree (in)\", degree_centrality .... [TRUNCATED] \n",
      "\n",
      "> TranscriptionFactors <- read.csv(\"~/codebases/cortical_disorders2/raw/HumanTFs/DatabaseExtract_v_1.01.csv\", \n",
      "+     row.names = 1)\n",
      "\n",
      "> tf_genes <- unique(gsub(\" \", \"\", split(TranscriptionFactors, \n",
      "+     TranscriptionFactors$Is.TF.)[[\"Yes\"]]$HGNC.symbol, fixed = T))\n",
      "\n",
      "> DisRegulons.long <- read.csv(\"~/codebases/cortical_disorders2/results/RCT_diseases/cisTarget_regulons.csv\")\n",
      "\n",
      "> DisRegulons.long$Disease <- factor(DisRegulons.long$geneSet, \n",
      "+     DiseaseOrder)\n",
      "\n",
      "> regulon_list_per_disease <- split(DisRegulons.long, \n",
      "+     DisRegulons.long$Disease)\n",
      "\n",
      "> gene_list_per_disregulon <- lapply(regulon_list_per_disease, \n",
      "+     function(x) {\n",
      "+         unique(c(x$Core, x$Target))\n",
      "+     })\n",
      "\n",
      "> disregulon_genes <- unique(unlist(gene_list_per_disregulon))\n",
      "\n",
      "> PeakRegulons.long <- read.csv(\"~/codebases/cortical_disorders2/results/RCT_peaks/cisTarget_regulons.csv\")\n",
      "\n",
      "> PeakRegulons.long$Peak <- factor(PeakRegulons.long$geneSet, \n",
      "+     unique(PeakRegulons.long$geneSet))\n",
      "\n",
      "> regulon_list_per_peak <- split(PeakRegulons.long, \n",
      "+     PeakRegulons.long$Peak)\n",
      "\n",
      "> gene_list_per_peakregulon <- lapply(regulon_list_per_peak, \n",
      "+     function(x) {\n",
      "+         unique(c(x$Core, x$Target))\n",
      "+     })\n",
      "\n",
      "> peakregulon_genes <- unique(unlist(gene_list_per_peakregulon))\n",
      "\n",
      "> regulon_genes <- unique(c(disregulon_genes, peakregulon_genes))\n",
      "\n",
      "> regulon_cores <- unique(c(DisRegulons.long$Core, PeakRegulons.long$Core))\n",
      "\n",
      "> Diseases <- read.csv(\"~/codebases/cortical_disorders2/data/gene_disorder_associations.original_genes.csv\", \n",
      "+     row.names = 1)\n",
      "\n",
      "> Diseases <- Diseases[, !colnames(Diseases) %in% DiseaseExclude]\n",
      "\n",
      "> gene_list_per_disease <- lapply(Diseases, function(x) {\n",
      "+     y <- unique(ifelse(x == 1, rownames(Diseases), NA))\n",
      "+     y[!is.na(y)]\n",
      "+ })\n",
      "\n",
      "> gene_list_per_disease <- gene_list_per_disease[sapply(gene_list_per_disease, \n",
      "+     length) != 0]\n",
      "\n",
      "> disease_genes <- unique(unlist(gene_list_per_disease))\n",
      "\n",
      "> NetworkScores <- readxl::read_excel(\"NetworkScores.xlsx\")\n",
      "\n",
      "> NetworkScores$cell.type <- factor(NetworkScores$cell.type, \n",
      "+     levels = CellTypeOrder)\n",
      "\n",
      "> NetworkScores$SampleLabel <- factor(SampleLabels[NetworkScores$Sample], \n",
      "+     levels = SampleLabelOrder)\n",
      "\n",
      "> NetworkScoresDiseases <- list()\n",
      "\n",
      "> for (dis in names(gene_list_per_disease)) {\n",
      "+     dis_genes <- gene_list_per_disease[[dis]]\n",
      "+     dis_scores <- NetworkScores[NetworkScores$Gene %in .... [TRUNCATED] \n",
      "\n",
      "> NetworkScoresDiseases <- do.call(\"rbind\", NetworkScoresDiseases)\n",
      "\n",
      "> NetworkScoresDiseases$Disease <- factor(NetworkScoresDiseases$Disease, \n",
      "+     DiseaseOrder)\n",
      "\n",
      "> options(warn = -1)\n",
      "\n",
      "> Perturbations <- readxl::read_excel(\"PerturbationSummary.xlsx\")\n",
      "\n",
      "> Perturbations$log2_ratio <- as.numeric(Perturbations$log2_ratio)\n",
      "\n",
      "> Perturbations$cell.type <- factor(Perturbations$cell.type, \n",
      "+     levels = CellTypeOrder)\n",
      "\n",
      "> Perturbations$SampleLabel <- factor(SampleLabels[Perturbations$Sample], \n",
      "+     levels = SampleLabelOrder)\n",
      "\n",
      "> PerturbationsDiseases <- list()\n",
      "\n",
      "> for (dis in names(gene_list_per_disease)) {\n",
      "+     dis_genes <- gene_list_per_disease[[dis]]\n",
      "+     dis_pert <- Perturbations[Perturbations$Gene %in%  .... [TRUNCATED] \n",
      "\n",
      "> PerturbationsDiseases <- do.call(\"rbind\", PerturbationsDiseases)\n",
      "\n",
      "> PerturbationsDiseases$Disease <- factor(PerturbationsDiseases$Disease, \n",
      "+     DiseaseOrder)\n",
      "\n",
      "> PerturbationsCT <- readxl::read_excel(\"PerturbationCT2CT.xlsx\")\n",
      "\n",
      "> (unique(PerturbationsCT$CTF) %in% CellTypeOrder)\n",
      " [1] TRUE TRUE TRUE TRUE TRUE TRUE TRUE TRUE TRUE TRUE TRUE TRUE TRUE TRUE TRUE\n",
      "[16] TRUE TRUE TRUE TRUE\n",
      "\n",
      "> (unique(PerturbationsCT$CTO) %in% CellTypeOrder)\n",
      " [1] TRUE TRUE TRUE TRUE TRUE TRUE TRUE TRUE TRUE TRUE TRUE TRUE TRUE TRUE TRUE\n",
      "[16] TRUE TRUE TRUE TRUE\n",
      "\n",
      "> PerturbationsCT[c(\"trans.cells\", \"init.cells\", \"trans.pct\", \n",
      "+     \"Exp\")] <- apply(PerturbationsCT[c(\"trans.cells\", \"init.cells\", \n",
      "+     \"trans.pct ...\" ... [TRUNCATED] \n",
      "\n",
      "> PerturbationsCT$CTO <- factor(PerturbationsCT$CTO, \n",
      "+     levels = CellTypeOrder)\n",
      "\n",
      "> PerturbationsCT$CTF <- factor(PerturbationsCT$CTF, \n",
      "+     levels = CellTypeOrder)\n",
      "\n",
      "> PerturbationsCT$SampleLabel <- factor(SampleLabels[PerturbationsCT$Sample], \n",
      "+     levels = SampleLabelOrder)\n",
      "\n",
      "> PerturbationsCTNJ <- readxl::read_excel(\"PerturbationCT2CTNJ.xlsx\")\n",
      "\n",
      "> (unique(PerturbationsCTNJ$CTF) %in% CellTypeOrder)\n",
      " [1] TRUE TRUE TRUE TRUE TRUE TRUE TRUE TRUE TRUE TRUE TRUE TRUE TRUE TRUE TRUE\n",
      "[16] TRUE TRUE TRUE\n",
      "\n",
      "> (unique(PerturbationsCTNJ$CTO) %in% CellTypeOrder)\n",
      " [1] TRUE TRUE TRUE TRUE TRUE TRUE TRUE TRUE TRUE TRUE TRUE TRUE TRUE TRUE TRUE\n",
      "[16] TRUE TRUE TRUE\n",
      "\n",
      "> PerturbationsCTNJ[c(\"trans.cells\", \"init.cells\", \"trans.pct\", \n",
      "+     \"Exp\")] <- apply(PerturbationsCTNJ[c(\"trans.cells\", \"init.cells\", \n",
      "+     \"trans ...\" ... [TRUNCATED] \n",
      "\n",
      "> PerturbationsCTNJ$CTO <- factor(PerturbationsCTNJ$CTO, \n",
      "+     levels = CellTypeOrder)\n",
      "\n",
      "> PerturbationsCTNJ$CTF <- factor(PerturbationsCTNJ$CTF, \n",
      "+     levels = CellTypeOrder)\n",
      "\n",
      "> PerturbationsCTNJ$SampleLabel <- factor(SampleLabels[PerturbationsCTNJ$Sample], \n",
      "+     levels = SampleLabelOrder)\n",
      "\n",
      "> PerturbationsCTDiseases <- list()\n",
      "\n",
      "> for (dis in names(gene_list_per_disease)) {\n",
      "+     dis_genes <- gene_list_per_disease[[dis]]\n",
      "+     dis_pert <- PerturbationsCT[PerturbationsCT$Gene % .... [TRUNCATED] \n",
      "\n",
      "> PerturbationsCTDiseases <- do.call(\"rbind\", PerturbationsCTDiseases)\n",
      "\n",
      "> PerturbationsCTDiseases$Disease <- factor(PerturbationsCTDiseases$Disease, \n",
      "+     DiseaseOrder)\n",
      "\n",
      "> options(warn = 0)\n",
      "\n",
      "> Links <- data.table::fread(\"LinkFiltering.txt\")\n",
      "\n",
      "> Links$cell.type <- factor(Links$cell.type, levels = CellTypeOrder)\n",
      "\n",
      "> Links$Sample <- factor(Links$Sample, levels = SampleOrder)\n",
      "\n",
      "> Links2 <- Links %>% group_by(Sample, cell.type) %>% \n",
      "+     mutate(p_rank = rank(p, na.last = T), p_rank_fr = rank(p, \n",
      "+         na.last = T)/length( .... [TRUNCATED] \n",
      "\n",
      "> Links2[, c(\"source.in.reg\", \"target.in.reg\")] <- apply(Links2[, \n",
      "+     c(\"source\", \"target\")], 2, function(x) {\n",
      "+     x %in% regulon_genes\n",
      "+ })\n",
      "\n",
      "> Links2$any.in.reg <- apply(Links2[, c(\"source.in.reg\", \n",
      "+     \"target.in.reg\")], 1, any)\n",
      "\n",
      "> Links2[, c(\"source.is.tf\", \"target.is.tf\")] <- apply(Links2[, \n",
      "+     c(\"source\", \"target\")], 2, function(x) {\n",
      "+     x %in% tf_genes\n",
      "+ })\n",
      "\n",
      "> Links2$any.is.tf <- apply(Links2[, c(\"source.is.tf\", \n",
      "+     \"target.is.tf\")], 1, any)\n",
      "\n",
      "> Links2[, c(\"source.is.dis\", \"target.is.dis\")] <- apply(Links2[, \n",
      "+     c(\"source\", \"target\")], 2, function(x) {\n",
      "+     x %in% disease_genes\n",
      "+ })\n",
      "\n",
      "> Links2$any.is.dis <- apply(Links2[, c(\"source.is.dis\", \n",
      "+     \"target.is.dis\")], 1, any)\n",
      "\n",
      "> Peaks <- read.csv(\"~/codebases/cortical_disorders2/data/nico_peak_expression.csv\", \n",
      "+     row.names = 1)\n",
      "\n",
      "> gene.peak.order <- rownames(Peaks %>% arrange(desc(.)))\n",
      "\n",
      "> peak.per.gene <- apply(Peaks, 1, function(x) {\n",
      "+     colnames(Peaks)[which.max(x)]\n",
      "+ })\n",
      "\n",
      "> DisTargets <- lapply(split(DisRegulons.long$Target, \n",
      "+     DisRegulons.long$geneSet), unique)\n",
      "\n",
      "> distargets <- unique(unlist(DisTargets))\n",
      "\n",
      "> DisTargets <- data.frame(lapply(DisTargets, function(x) {\n",
      "+     distargets %in% x\n",
      "+ }), row.names = distargets)\n",
      "\n",
      "> DisCores <- lapply(split(DisRegulons.long$Core, DisRegulons.long$geneSet), \n",
      "+     unique)\n",
      "\n",
      "> discores <- unique(unlist(DisCores))\n",
      "\n",
      "> DisCores <- data.frame(lapply(DisCores, function(x) {\n",
      "+     discores %in% x\n",
      "+ }), row.names = discores)\n",
      "\n",
      "> PeakTargets <- lapply(split(PeakRegulons.long$Target, \n",
      "+     PeakRegulons.long$geneSet), unique)\n",
      "\n",
      "> peaktargets <- unique(unlist(PeakTargets))\n",
      "\n",
      "> PeakTargets <- data.frame(lapply(PeakTargets, function(x) {\n",
      "+     peaktargets %in% x\n",
      "+ }), row.names = peaktargets)\n",
      "\n",
      "> PeakCores <- lapply(split(PeakRegulons.long$Core, \n",
      "+     PeakRegulons.long$geneSet), unique)\n",
      "\n",
      "> peakcores <- unique(unlist(PeakCores))\n",
      "\n",
      "> PeakCores <- data.frame(lapply(PeakCores, function(x) {\n",
      "+     peakcores %in% x\n",
      "+ }), row.names = peakcores)\n",
      "\n",
      "> dis.conf.cols <- c(None = \"white\", Risk = \"grey\", \n",
      "+     Target = \"orange\", Core = \"darkred\", Both = \"darkred\")\n",
      "\n",
      "> get.conf.dis.df <- function(genes) {\n",
      "+     conf.risk <- Diseases[genes, ]\n",
      "+     rownames(conf.risk) <- genes\n",
      "+     conf.risk[is.na(conf.risk)] <- 0\n",
      " .... [TRUNCATED] \n",
      "\n",
      "> do.conf.dis.plot <- function(genes) {\n",
      "+     conf.dis.df <- get.conf.dis.df(genes)\n",
      "+     conf.dis.df$Gene <- factor(conf.dis.df$Gene, levels = rev(ge .... [TRUNCATED] \n",
      "\n",
      "> peak.conf.cols <- c(None = \"white\", Peak = \"grey\", \n",
      "+     Target = \"orange\", Core = \"darkred\", Both = \"darkred\")\n",
      "\n",
      "> get.conf.peak.df <- function(genes) {\n",
      "+     conf.peak <- Peaks[genes, ]\n",
      "+     rownames(conf.peak) <- genes\n",
      "+     conf.peak[is.na(conf.peak)] <- 0\n",
      "+  .... [TRUNCATED] \n",
      "\n",
      "> do.conf.peak.plot <- function(genes) {\n",
      "+     conf.peak.df <- get.conf.peak.df(genes)\n",
      "+     conf.peak.df$Gene <- factor(conf.peak.df$Gene, levels = r .... [TRUNCATED] \n",
      "\n",
      "> load(\"~/codebases/cortical_disorders2/data/graphical.rda\", \n",
      "+     verbose = T)\n",
      "Loading objects:\n",
      "  GeneAnnotation\n",
      "  meta.colors\n",
      "  facets\n",
      "\n",
      "> psss <- data.table::fread(\"PSSs.txt\", sep = \"\\t\", \n",
      "+     data.table = F)\n",
      "\n",
      "> psss$groupsample <- paste0(psss$group, \" (\", psss$sample, \n",
      "+     \")\")\n",
      "\n",
      "> psss$log1p <- log1p(psss$score)\n",
      "\n",
      "> psss$cell.type <- gsub(pattern = \"not_\", replacement = \"\", \n",
      "+     fixed = T, psss$group)\n",
      "\n",
      "> groups <- c(sapply(CellTypeOrder, function(x) c(x, \n",
      "+     paste0(\"not_\", x))), \"Whole data\", recursive = T)\n",
      "\n",
      "> groups <- groups[groups %in% unique(psss$group)]\n",
      "\n",
      "> unique(psss$group)[!unique(psss$group) %in% groups]\n",
      "character(0)\n",
      "\n",
      "> psss$groupFct <- factor(psss$group, groups)\n",
      "\n",
      "> psss <- psss %>% mutate(sampleFct = factor(sample))\n",
      "\n",
      "> psss <- psss %>% group_by(sample, group) %>% mutate(log1p.scaled = log1p/max(log1p, \n",
      "+     na.rm = T)) %>% as.data.frame()\n",
      "\n",
      "> psss$Control <- ifelse(grepl(\"not_\", psss$group, fixed = T), \n",
      "+     \"control\", \"test\")\n",
      "\n",
      "> rownames(psss) <- 1:nrow(psss)\n"
     ]
    },
    {
     "data": {
      "image/png": "[encoded data removed]",
      "text/plain": [
       "plot without title"
      ]
     },
     "metadata": {
      "image/png": {
       "height": 420,
       "width": 420
      }
     },
     "output_type": "display_data"
    }
   ],
   "source": [
    "source('../0_Rplots.R', echo=T)"
   ]
  },
  {
   "cell_type": "code",
   "execution_count": 5,
   "id": "c5bab53d-20be-4221-8ce1-af69aa542195",
   "metadata": {
    "scrolled": true,
    "tags": []
   },
   "outputs": [
    {
     "name": "stdout",
     "output_type": "stream",
     "text": [
      "\n",
      "> setwd(\"/users/genomics/xoel/codebases/co_new/results_foxg1/\")\n",
      "\n",
      "> plotdir <- \"Plots/\"\n",
      "\n",
      "> dir.create(plotdir, showWarnings = F)\n",
      "\n",
      "> NetworkScores <- readxl::read_excel(\"NetworkScoresFull.xlsx\")\n",
      "\n",
      "> NetworkScores <- readxl::read_excel(\"NetworkScores.xlsx\")\n",
      "\n",
      "> NetworkScores$cell.type <- factor(NetworkScores$cell.type, \n",
      "+     levels = CellTypeOrder)\n",
      "\n",
      "> NetworkScores$SampleLabel <- factor(SampleLabels[NetworkScores$Sample], \n",
      "+     levels = SampleLabelOrder)\n",
      "\n",
      "> NetworkScoresDiseases <- list()\n",
      "\n",
      "> for (dis in names(gene_list_per_disease)) {\n",
      "+     dis_genes <- gene_list_per_disease[[dis]]\n",
      "+     dis_scores <- NetworkScores[NetworkScores$Gene %in .... [TRUNCATED] \n",
      "\n",
      "> NetworkScoresDiseases <- do.call(\"rbind\", NetworkScoresDiseases)\n",
      "\n",
      "> NetworkScoresDiseases$Disease <- factor(NetworkScoresDiseases$Disease, \n",
      "+     DiseaseOrder)\n",
      "\n",
      "> options(warn = -1)\n",
      "\n",
      "> Perturbations <- readxl::read_excel(\"PerturbationSummary.xlsx\")\n",
      "\n",
      "> Perturbations$log2_ratio <- as.numeric(Perturbations$log2_ratio)\n",
      "\n",
      "> Perturbations$cell.type <- factor(Perturbations$cell.type, \n",
      "+     levels = CellTypeOrder)\n",
      "\n",
      "> Perturbations$SampleLabel <- factor(SampleLabels[Perturbations$Sample], \n",
      "+     levels = SampleLabelOrder)\n",
      "\n",
      "> PerturbationsDiseases <- list()\n",
      "\n",
      "> for (dis in names(gene_list_per_disease)) {\n",
      "+     dis_genes <- gene_list_per_disease[[dis]]\n",
      "+     dis_pert <- Perturbations[Perturbations$Gene %in%  .... [TRUNCATED] \n",
      "\n",
      "> PerturbationsDiseases <- do.call(\"rbind\", PerturbationsDiseases)\n",
      "\n",
      "> PerturbationsDiseases$Disease <- factor(PerturbationsDiseases$Disease, \n",
      "+     DiseaseOrder)\n",
      "\n",
      "> PerturbationsCT <- readxl::read_excel(\"PerturbationCT2CT.xlsx\")\n",
      "\n",
      "> (unique(PerturbationsCT$CTF) %in% CellTypeOrder)\n",
      " [1] TRUE TRUE TRUE TRUE TRUE TRUE TRUE TRUE TRUE TRUE TRUE TRUE TRUE TRUE TRUE\n",
      "[16] TRUE TRUE TRUE TRUE\n",
      "\n",
      "> (unique(PerturbationsCT$CTO) %in% CellTypeOrder)\n",
      " [1] TRUE TRUE TRUE TRUE TRUE TRUE TRUE TRUE TRUE TRUE TRUE TRUE TRUE TRUE TRUE\n",
      "[16] TRUE TRUE TRUE TRUE\n",
      "\n",
      "> PerturbationsCT[c(\"trans.cells\", \"init.cells\", \"trans.pct\", \n",
      "+     \"Exp\")] <- apply(PerturbationsCT[c(\"trans.cells\", \"init.cells\", \n",
      "+     \"trans.pct ...\" ... [TRUNCATED] \n",
      "\n",
      "> PerturbationsCT$CTO <- factor(PerturbationsCT$CTO, \n",
      "+     levels = CellTypeOrder)\n",
      "\n",
      "> PerturbationsCT$CTF <- factor(PerturbationsCT$CTF, \n",
      "+     levels = CellTypeOrder)\n",
      "\n",
      "> PerturbationsCT$SampleLabel <- factor(SampleLabels[PerturbationsCT$Sample], \n",
      "+     levels = SampleLabelOrder)\n",
      "\n",
      "> psss <- data.table::fread(\"PSSs.txt\", sep = \"\\t\", \n",
      "+     data.table = F)\n",
      "\n",
      "> psss$groupsample <- paste0(psss$group, \" (\", psss$sample, \n",
      "+     \")\")\n",
      "\n",
      "> psss$log1p <- log1p(psss$score)\n",
      "\n",
      "> psss$cell.type <- gsub(pattern = \"not_\", replacement = \"\", \n",
      "+     fixed = T, psss$group)\n",
      "\n",
      "> groups <- c(sapply(CellTypeOrder, function(x) c(x, \n",
      "+     paste0(\"not_\", x))), \"Whole data\", recursive = T)\n",
      "\n",
      "> groups <- groups[groups %in% unique(psss$group)]\n",
      "\n",
      "> unique(psss$group)[!unique(psss$group) %in% groups]\n",
      "character(0)\n",
      "\n",
      "> psss$groupFct <- factor(psss$group, groups)\n",
      "\n",
      "> psss <- psss %>% mutate(sampleFct = factor(sample))\n",
      "\n",
      "> psss <- psss %>% group_by(sample, group) %>% mutate(log1p.scaled = log1p/max(log1p, \n",
      "+     na.rm = T)) %>% as.data.frame()\n",
      "\n",
      "> psss$Control <- ifelse(grepl(\"not_\", psss$group, fixed = T), \n",
      "+     \"control\", \"test\")\n",
      "\n",
      "> rownames(psss) <- 1:nrow(psss)\n"
     ]
    }
   ],
   "source": [
    "source('../src/FOXG1_subanalysis/0_Rplots.R', echo=T)"
   ]
  },
  {
   "cell_type": "code",
   "execution_count": 6,
   "id": "04b721b1-d684-42b3-985f-a25da3dd9ac4",
   "metadata": {},
   "outputs": [
    {
     "data": {
      "text/html": [
       "<style>\n",
       ".list-inline {list-style: none; margin:0; padding: 0}\n",
       ".list-inline>li {display: inline-block}\n",
       ".list-inline>li:not(:last-child)::after {content: \"\\00b7\"; padding: 0 .5ex}\n",
       "</style>\n",
       "<ol class=list-inline><li>'none'</li><li>'Ultra peripheral'</li><li>'Peripheral'</li><li>'Connector'</li><li>'Kinless'</li><li>'Provincial Hub'</li><li>'Connector Hub'</li><li>'Kinless Hub'</li></ol>\n"
      ],
      "text/latex": [
       "\\begin{enumerate*}\n",
       "\\item 'none'\n",
       "\\item 'Ultra peripheral'\n",
       "\\item 'Peripheral'\n",
       "\\item 'Connector'\n",
       "\\item 'Kinless'\n",
       "\\item 'Provincial Hub'\n",
       "\\item 'Connector Hub'\n",
       "\\item 'Kinless Hub'\n",
       "\\end{enumerate*}\n"
      ],
      "text/markdown": [
       "1. 'none'\n",
       "2. 'Ultra peripheral'\n",
       "3. 'Peripheral'\n",
       "4. 'Connector'\n",
       "5. 'Kinless'\n",
       "6. 'Provincial Hub'\n",
       "7. 'Connector Hub'\n",
       "8. 'Kinless Hub'\n",
       "\n",
       "\n"
      ],
      "text/plain": [
       "[1] \"none\"             \"Ultra peripheral\" \"Peripheral\"       \"Connector\"       \n",
       "[5] \"Kinless\"          \"Provincial Hub\"   \"Connector Hub\"    \"Kinless Hub\"     "
      ]
     },
     "metadata": {},
     "output_type": "display_data"
    },
    {
     "data": {
      "image/png": "[encoded data removed]",
      "text/plain": [
       "plot without title"
      ]
     },
     "metadata": {
      "image/png": {
       "height": 300,
       "width": 300
      }
     },
     "output_type": "display_data"
    },
    {
     "data": {
      "image/png": "[encoded data removed]",
      "text/plain": [
       "plot without title"
      ]
     },
     "metadata": {
      "image/png": {
       "height": 300,
       "width": 300
      }
     },
     "output_type": "display_data"
    }
   ],
   "source": [
    "fig(5,5)\n",
    "names(RoleColors)\n",
    "scales::show_col(RoleColors)\n",
    "RoleColorsNew <- setNames(\n",
    "    c('white', ggsci::pal_simpsons()(16)[c(3,4,1,5,2,7,12)]),\n",
    "    names(RoleColors))\n",
    "RoleColorsNew['Peripheral Hub'] <- RoleColorsNew['Provincial Hub']\n",
    "RoleColorsNew <- RoleColorsNew[\n",
    "    c('none','Ultra peripheral','Peripheral','Connector','Kinless',\n",
    "      'Peripheral Hub','Provincial Hub','Connector Hub','Kinless Hub')]\n",
    "scales::show_col(RoleColorsNew)\n"
   ]
  },
  {
   "cell_type": "markdown",
   "id": "4e4a10cd-b936-49de-b277-35a5287b9c58",
   "metadata": {
    "tags": []
   },
   "source": [
    "## Functions"
   ]
  },
  {
   "cell_type": "markdown",
   "id": "e6bbfd9b-152c-481c-af50-92d1a11eae74",
   "metadata": {},
   "source": [
    "### `prepare plot parameters for each dataset`"
   ]
  },
  {
   "cell_type": "code",
   "execution_count": 7,
   "id": "874bd2cd-57d3-4a90-a2f4-acd87c687928",
   "metadata": {
    "scrolled": true,
    "tags": []
   },
   "outputs": [],
   "source": [
    "prepare_df <- function(\n",
    "    df,\n",
    "    value,\n",
    "    long.vars=NULL,\n",
    "    long = F,\n",
    "    gene = 'Gene',\n",
    "    na.fill.value = NA,\n",
    "    cluster_rows=F,\n",
    "    cluster_columns=F,\n",
    "    col=NULL,\n",
    "    rect_gp=list(col = \"#888888\", lwd = .5),\n",
    "    col_split=NULL,\n",
    "    col_title_gp=NULL,\n",
    "    col_names_gp=NULL,\n",
    "    col_label = NULL,\n",
    "    show_rows= T,\n",
    "    col_names_side = 'top',\n",
    "    border=TRUE,\n",
    "    num3D = F,\n",
    "    na_col = 'darkgrey',\n",
    "    ...\n",
    "){\n",
    "    list(\n",
    "        df=df,\n",
    "        value=value,\n",
    "        long.vars=long.vars,\n",
    "        long=long,\n",
    "        gene=gene,\n",
    "        na.fill.value=na.fill.value,\n",
    "        cluster_rows=cluster_rows,\n",
    "        cluster_columns=cluster_columns,\n",
    "        col=col,\n",
    "        rect_gp=rect_gp,\n",
    "        col_split=col_split,\n",
    "        col_title_gp=col_title_gp,\n",
    "        col_names_gp=col_names_gp,\n",
    "        col_label=col_label,\n",
    "        show_rows=show_rows,\n",
    "        col_names_side=col_names_side,\n",
    "        border=border,\n",
    "        num3D=num3D,\n",
    "        na_col=na_col\n",
    "    ) -> hargs\n",
    "    # print(hargs)\n",
    "    return(hargs)\n",
    "}"
   ]
  },
  {
   "cell_type": "markdown",
   "id": "3999dc0d-795a-4e4c-a039-eccfa74a1e9b",
   "metadata": {},
   "source": [
    "### `prepare plot matrix`"
   ]
  },
  {
   "cell_type": "code",
   "execution_count": 8,
   "id": "e6fa3e6e-6cb9-4d26-9257-86c420b076c5",
   "metadata": {
    "scrolled": true,
    "tags": []
   },
   "outputs": [],
   "source": [
    "prepare_matrix <- function(dfs){\n",
    "    ds <- dfs\n",
    "    mat <- NULL\n",
    "\n",
    "    for (i in 1:length(ds)){\n",
    "        ds[[i]]$df <- as.data.frame(ds[[i]]$df)\n",
    "        ds[[i]]$name <- names(ds)[i]\n",
    "    }\n",
    "    \n",
    "    for (d in ds){\n",
    "\n",
    "        d$meta.vars <- c(d$col_label, d$col_split)\n",
    "        if (d$long){\n",
    "            d$vars <- d$long.vars\n",
    "            d$df <- d$df %>% arrange_at(d$vars) \n",
    "            \n",
    "            if (!all(d$vars%in%colnames(d$df))){\n",
    "                print(colnames(d$df))\n",
    "                print(d$vars)\n",
    "                stop()\n",
    "            }\n",
    "            d$df$cast_lab <- apply(d$df[,d$vars, drop=F], 2, as.character)%>%apply( MARGIN = 1, FUN=paste, collapse='+')\n",
    "            d$df$cast_lab <- factor(d$df$cast_lab, unique(d$df$cast_lab))\n",
    "            d$meta.vars <- c(d$meta.vars, d$vars, 'cast_lab')\n",
    "\n",
    "            d$df %>% reshape2::dcast(paste(d$gene, 'cast_lab', sep='~'),\n",
    "                                     value.var = d$value) -> m\n",
    "            colnames(m) <- c('Gene',\n",
    "                             paste(d$name, tail(colnames(m),-1), sep='_')) %>% make.names()\n",
    "            ds[[d$name]]$meta <- unique(d$df[,d$meta.vars, drop=F]) %>%as.data.frame()\n",
    "            \n",
    "            rownames(ds[[d$name]]$meta) <- paste(d$name, ds[[d$name]]$meta$cast_lab, sep='_') %>% make.names()\n",
    "\n",
    "        } else {\n",
    "            m <- d$df[,c(d$gene, d$value),drop=F]\n",
    "            d$meta.vars <- c(d$meta.vars, d$value)\n",
    "            colnames(m) <- c('Gene',\n",
    "                             paste(d$name, d$value, sep='_')) %>% make.names()\n",
    "\n",
    "            ds[[d$name]]$meta <- data.frame(row.names = paste(d$name, d$value, sep='_') %>% make.names(),\n",
    "                                            value=d$value)\n",
    "            ds[[d$name]]$meta[, d$col_label] <- d$col_label\n",
    "\n",
    "        }\n",
    "\n",
    "        ds[[d$name]]$matnames <- tail(colnames(m),-1)\n",
    "        ds[[d$name]]$meta <- ds[[d$name]]$meta[ds[[d$name]]$matnames,,drop=F]\n",
    "\n",
    "\n",
    "        mat <- if(is.null(mat)){m}else{merge(mat, m, by='Gene', all=T)}\n",
    "    }\n",
    "    mat <- mat[!apply(is.na(mat), 1, all),] \n",
    "    rownames(mat) <- mat$Gene\n",
    "    return(list(ds=ds, mat=mat))\n",
    "}\n",
    "\n",
    "filter_geneset <- function(mat, geneset){\n",
    "    \n",
    "    if (!is.null(geneset)){\n",
    "        pmat <- mat\n",
    "        geneset.mask <- geneset %in% rownames(pmat)\n",
    "        if (sum(!geneset.mask)>0){message(glue::glue('Ignoring {sum(!geneset.mask)} genes [{paste(head(geneset[!geneset.mask]), collapse=\", \")}]'))}\n",
    "        geneset <- geneset[geneset.mask]\n",
    "        pmat <- pmat[geneset,, drop=F]\n",
    "        return(pmat)\n",
    "    } else {\n",
    "        return(mat)\n",
    "    }\n",
    "}\n"
   ]
  },
  {
   "cell_type": "markdown",
   "id": "801d7c61-f7af-4919-910b-adb8ca98bf91",
   "metadata": {},
   "source": [
    "### `ComplexHeatmap helpers`"
   ]
  },
  {
   "cell_type": "code",
   "execution_count": 9,
   "id": "13199881-1e83-420c-a96e-4f4478b226a5",
   "metadata": {},
   "outputs": [],
   "source": [
    "as.gpar <- function(l, def=gpar()){\n",
    "    if (is.null(l)){\n",
    "        l <- def\n",
    "   }else{\n",
    "        class(l) <- 'gpar'\n",
    "    }\n",
    "    return(l)\n",
    "}\n",
    "\n",
    "ht_opt$TITLE_PADDING = unit(c(4, 4), \"points\")\n",
    "\n",
    "do_heatmaps <- function(ds, mat, row_sorter){\n",
    "\n",
    "    lapply(ds, function(d){\n",
    "        \n",
    "        pmat <- mat[,d$matnames, drop=F] %>%mutate_all(function(x){ifelse(is.na(x), d$na.fill.value, x)}) %>% as.matrix\n",
    "        \n",
    "        col_split <- if(!is.null(d$col_split)){d$meta[,d$col_split]}else{NULL}\n",
    "        col_labels <- as.character(if(!is.null(d$col_label)){d$meta[,d$col_label,drop=T]}else{colnames(pmat)})        \n",
    "        # print(glue::glue('Plotting {nrow(pmat)} genes'))\n",
    "        htmp.args <- list(\n",
    "            matrix = pmat, \n",
    "            col=d$col, na_col=d$na_col,\n",
    "            border = d$border,\n",
    "            show_row_names = d$show_rows,\n",
    "            row_names_side = 'left',\n",
    "            column_names_side = d$col_names_side,\n",
    "            cluster_rows = d$cluster_rows, cluster_columns = d$cluster_columns,\n",
    "            column_split=col_split,\n",
    "            column_labels=col_labels,\n",
    "            name = d$name,\n",
    "            column_names_gp = as.gpar(d$col_names_gp),\n",
    "            column_title_gp = as.gpar(d$col_title_gp),\n",
    "            rect_gp = as.gpar(d$rect_gp) # this must be excluded in 3D\n",
    "        )\n",
    "        num3D.args <- head(names(htmp.args),-1)\n",
    "        \n",
    "        if (d$num3D){\n",
    "            if (nrow(pmat)>50){warning('Doing 3D plots for big matrices is discouraged.')}\n",
    "            h <- rlang::exec(.fn = Heatmap3D, !!!htmp.args[num3D.args])\n",
    "        } else {\n",
    "            h <- rlang::exec(.fn = Heatmap, !!!htmp.args)\n",
    "        }\n",
    "        h\n",
    "    }) -> htmps\n",
    "    return(htmps)\n",
    "}\n",
    "\n",
    "combine_heatmaps <- function(htmps){\n",
    "    htmp <- htmps[[1]]\n",
    "    for (i in 2:length(htmps)){\n",
    "        htmp <- htmp + htmps[[i]]\n",
    "    }\n",
    "    return(htmp)\n",
    "}\n"
   ]
  },
  {
   "cell_type": "markdown",
   "id": "47647985-336b-4437-83bf-e85e3ec87a58",
   "metadata": {},
   "source": [
    "### `saving plot`"
   ]
  },
  {
   "cell_type": "code",
   "execution_count": 10,
   "id": "7a17acd4-bba7-42d2-a401-3c0aff9cdf70",
   "metadata": {},
   "outputs": [],
   "source": [
    "# NG  H\n",
    "#########\n",
    "# 17  5\n",
    "# 141 22\n",
    "# 25 6\n",
    "# 36 7\n",
    "# 56 9.5\n",
    "h.lm <- lm(formula = 'y~x', data.frame(x=c(17,141,25,36,56), y= c(5,22,6,7,9.5)))$coefficients\n",
    "\n",
    "# NCT  W\n",
    "#########\n",
    "# 8  20\n",
    "w.lm <- lm(formula = 'y~x', data.frame(x=c(8,5), y= c(20,15)))$coefficients\n",
    "\n",
    "\n",
    "get_dims <- function(htmp, h.max=25, w.max=21){\n",
    "    base.dim <- dim(htmp@ht_list$`No. cells ratio\\nfinal/initial`)\n",
    "    # print(base.dim)\n",
    "    h <- min(h.lm['x']*base.dim[1]+h.lm[1], h.max)\n",
    "    w <- min(w.lm['x']*base.dim[2]+w.lm[1], w.max)\n",
    "    return(c( w=w, h=h))\n",
    "}"
   ]
  },
  {
   "cell_type": "markdown",
   "id": "d7953567-f0bb-4bdf-849d-f1f00392c4c6",
   "metadata": {},
   "source": [
    "### `matrix sorting`"
   ]
  },
  {
   "cell_type": "markdown",
   "id": "595e5b7b-d769-442b-bf98-8b42637c77a0",
   "metadata": {},
   "source": [
    "#### `general`"
   ]
  },
  {
   "cell_type": "code",
   "execution_count": 11,
   "id": "baa6e641-a21d-45d1-b6b2-98aa67611a79",
   "metadata": {},
   "outputs": [],
   "source": [
    "sort.vector.by.vector <- function(x, ref.vec, do.character=T, na.last=T){\n",
    "    \n",
    "    if (do.character){\n",
    "        ref.vec <- as.character(ref.vec)\n",
    "        x <- as.character(x)\n",
    "    }\n",
    "    s <- c(intersect(ref.vec, x))\n",
    "    if (na.last){\n",
    "        s <- c(s, c(x[!x%in%ref.vec]))\n",
    "    }\n",
    "\n",
    "    return(s)  \n",
    "}\n",
    "\n",
    "sort.matrix.by.vector <- function(x, ref.vec, cols=F, do.character=T, na.last=T){\n",
    "    if (cols){\n",
    "        return(x[, sort.vector.by.vector(colnames(x), ref.vec= ref.vec, do.character=do.character, na.last=na.last)]%>%t())\n",
    "    }else{\n",
    "        return(x[sort.vector.by.vector(rownames(x), ref.vec= ref.vec, do.character=do.character, na.last=na.last),])\n",
    "    }\n",
    "}\n",
    "\n",
    "\n",
    "\n",
    "sort.matrix.diagonal <- function(x, cols=F, direction=1){\n",
    "    if (cols){\n",
    "        return(sort.matrix.diagonal(t(x), cols=F, direction=direction)%>%t())\n",
    "    } else {\n",
    "        reshape2::melt(as.matrix(x)*direction) %>% rename(row=Var1, col=Var2)%>% \n",
    "            mutate(col=factor(as.character(col), colnames(x))) %>%\n",
    "            arrange(value) %>% group_by(row) %>% slice_head(n=1) %>% # select max col per row\n",
    "            ungroup() %>% arrange(col, value) %>% # sort columns and genes in max\n",
    "            select(row) %>% unlist(recursive=T) %>% as.character() -> sorted.rows        \n",
    "        return(x[sorted.rows,])\n",
    "    }\n",
    "}\n",
    "\n",
    "sort.matrix.grouped.diagonal <- function(x, groups, cols=F, direction=1){\n",
    "    if (cols){\n",
    "        return(sort.matrix.grouped.diagonal(t(x), groups, cols=F, direction=direction)%>%t())\n",
    "    } else {\n",
    "        xplit <- split(x, groups)\n",
    "        xplit <- lapply(xplit, sort.matrix.diagonal, direction=direction, cols=F) %>% setNames(nm=names(xplit))\n",
    "        xplit.avg <- lapply(xplit, colMeans) %>% do.call(what='rbind') %>% as.data.frame()\n",
    "        sorted.groups <- sort.matrix.diagonal(xplit.avg, direction=direction, cols=F) %>% rownames()\n",
    "        sorted.groups <- plyr::mapvalues(x=sorted.groups, from = rownames(xplit.avg), to=names(xplit))\n",
    "        sorted.rows <- xplit[sorted.groups] %>% lapply(rownames) %>% unlist()\n",
    "        return(x[sorted.rows,])       \n",
    "        \n",
    "    }\n",
    "}\n",
    "\n",
    "\n",
    "\n",
    "sort.cluster.matrix <- function(x, cols=F, direction=1, centers=5, iter.max = 100, ...){\n",
    "    if (cols){\n",
    "        return(sort.cluster.matrix(t(x), cols=F, direction=direction, centers=centers, iter.max = iter.max, ...) %>% t())\n",
    "    } else {\n",
    "        if (is.null(centers)){\n",
    "            centers <- sqrt(nrow(x))\n",
    "        }\n",
    "\n",
    "        km <- amap::Kmeans(x, centers=centers, iter.max = iter.max, ...)\n",
    "        row_clusters <- plyr::mapvalues(x=rownames(x), from=names(km$cluster), to=km$cluster)\n",
    "\n",
    "        return(sort.matrix.grouped.diagonal(x, groups=row_clusters, cols=F, direction=direction))\n",
    "    }\n",
    "}"
   ]
  },
  {
   "cell_type": "markdown",
   "id": "4a387d6b-b185-45f3-a4de-22f958bf0017",
   "metadata": {},
   "source": [
    "#### `for ComplexHeatmap`"
   ]
  },
  {
   "cell_type": "code",
   "execution_count": 12,
   "id": "dd93be5a-d582-4e83-96e8-4cb882fc4a1c",
   "metadata": {},
   "outputs": [],
   "source": [
    "sorting.funs <- list(\n",
    "    'sort by Peak phase'= function(x){\n",
    "        sort.matrix.by.vector(x, ref.vec=genes.phase_order, cols=F)\n",
    "    },\n",
    "    \n",
    "    \n",
    "    'sort by Transitions' = function(x){\n",
    "        use.cols <- grep('transition', colnames(x), value=T, fixed=T)\n",
    "        \n",
    "        gsub(use.cols, pattern='X..cells.transitioned_', replacement='', fixed=T)%>% \n",
    "        gsub(pattern='.KO', replacement='', fixed=T) -> cols\n",
    "        \n",
    "        use.cols <- use.cols[sapply(cols, function(x){\n",
    "            substr(x, start = 1, stop = floor(nchar(x)/2)) == substr(x, start = ceiling(nchar(x)/2)+1, stop=nchar(x))})]\n",
    "\n",
    "        sorted.genes <- rownames(sort.matrix.diagonal(x[,use.cols, drop=F], cols=F, direction=-1))\n",
    "        return(x[sorted.genes,])},\n",
    "    \n",
    "    \n",
    "    'cluster by Transitions' = function(x){\n",
    "        use.cols <- grep('transition', colnames(x), value=T, fixed=T)\n",
    "        \n",
    "        gsub(use.cols, pattern='X..cells.transitioned_', replacement='', fixed=T)%>% \n",
    "        gsub(pattern='.KO', replacement='', fixed=T) -> cols\n",
    "        \n",
    "        use.cols <- use.cols[sapply(cols, function(x){\n",
    "            substr(x, start = 1, stop = floor(nchar(x)/2)) == substr(x, start = ceiling(nchar(x)/2)+1, stop=nchar(x))})]\n",
    "\n",
    "        sorted.genes <- rownames(sort.cluster.matrix(x[,use.cols, drop=F], cols=F, direction=-1))\n",
    "        return(x[sorted.genes,])},\n",
    "    \n",
    "    \n",
    "    'sort by Ratio' = function(x){\n",
    "        use.cols <- grep('ratio', colnames(x), value=T, fixed=T)\n",
    "        sorted.genes <- rownames(sort.matrix.diagonal(x[,use.cols, drop=F], cols=F, direction=-1))\n",
    "        return(x[sorted.genes,])},\n",
    "    \n",
    "    \n",
    "    'cluster by Ratio' = function(x){\n",
    "        use.cols <- grep('ratio', colnames(x), value=T, fixed=T)\n",
    "        sorted.genes <- rownames(sort.cluster.matrix(x[,use.cols, drop=F], cols=F, direction=-1))\n",
    "        return(x[sorted.genes,])},\n",
    "    \n",
    "    \n",
    "    'sort by ASD' = function(x){\n",
    "        use.cols <- grep('FC', grep('ASD', colnames(x), value=T, fixed=T), value=T, fixed=T)\n",
    "        sorted.genes <- rownames(sort.matrix.diagonal(x[,use.cols, drop=F], cols=F, direction=-1))\n",
    "        return(x[sorted.genes,])},\n",
    "    \n",
    "    \n",
    "    'cluster by ASD' = function(x){\n",
    "        use.cols <- grep('FC', grep('ASD', colnames(x), value=T, fixed=T), value=T, fixed=T)\n",
    "        sorted.genes <- rownames(sort.cluster.matrix(x[,use.cols, drop=F], cols=F, direction=-1))\n",
    "        return(x[sorted.genes,])}\n",
    ")\n",
    "\n",
    "# X <- dsmats$Gliogenesis$mat[,c(dsmats$Gliogenesis$ds[['No. cells ratio\\nfinal/initial\\nscaled']]$matnames,\n",
    "#                                dsmats$Gliogenesis$ds[['% cells\\ntransitioned']]$matnames)]\n",
    "# X <- dsmats$Gliogenesis$mat"
   ]
  },
  {
   "cell_type": "markdown",
   "id": "344f5fb7-2e39-48e5-b926-1134aeb628ae",
   "metadata": {},
   "source": [
    "## Data for all versions"
   ]
  },
  {
   "cell_type": "markdown",
   "id": "d824eac4-b815-40ff-970a-2688656b47d7",
   "metadata": {},
   "source": [
    "### Perturbation data"
   ]
  },
  {
   "cell_type": "code",
   "execution_count": 13,
   "id": "4c41bddc-f275-4efd-a105-34cbc3a6d782",
   "metadata": {},
   "outputs": [
    {
     "data": {
      "text/html": [
       "79"
      ],
      "text/latex": [
       "79"
      ],
      "text/markdown": [
       "79"
      ],
      "text/plain": [
       "[1] 79"
      ]
     },
     "metadata": {},
     "output_type": "display_data"
    },
    {
     "data": {
      "text/html": [
       "357"
      ],
      "text/latex": [
       "357"
      ],
      "text/markdown": [
       "357"
      ],
      "text/plain": [
       "[1] 357"
      ]
     },
     "metadata": {},
     "output_type": "display_data"
    }
   ],
   "source": [
    "grep('FOXG1',unique(Perturbations$Gene))\n",
    "length(unique(Perturbations$Gene))"
   ]
  },
  {
   "cell_type": "markdown",
   "id": "4a9cfd82-c93e-4a5e-8ac6-b45cf8926579",
   "metadata": {},
   "source": [
    "### Gene sets"
   ]
  },
  {
   "cell_type": "code",
   "execution_count": 14,
   "id": "a62dd095-26f5-4284-8446-a7fe660ee708",
   "metadata": {
    "scrolled": true,
    "tags": []
   },
   "outputs": [],
   "source": [
    "geneset_list.general <- list(\n",
    "    `All TFs tested` = unique(Perturbations$Gene),\n",
    "    `Core TFs (Disease or Phase)` = regulon_cores,\n",
    "    `Regulons` = regulon_genes,\n",
    "    `Disease-linked` = disease_genes,\n",
    "    `Phase core TF or Disease-linked` = union(disease_genes, regulon_cores)\n",
    ") \n",
    "geneset_list.general <- geneset_list.general[names(sort(sapply(geneset_list.general, length)))]"
   ]
  },
  {
   "cell_type": "markdown",
   "id": "2b518b9d-24e7-4660-bf90-ba0ea49ab238",
   "metadata": {},
   "source": [
    "### Markers"
   ]
  },
  {
   "cell_type": "code",
   "execution_count": 15,
   "id": "ef64277f-6e80-412c-8efa-c08703d0feab",
   "metadata": {},
   "outputs": [],
   "source": [
    "filtered.marker.list <- data.table::fread('~/codebases/ASD_IPSC_sept/results/selected_markers/markers_per_donor.nohighmito.with_filters_and_crossed.csv', data.table=F, drop = 1) %>% subset(filter.over.max & !in.sex_chr & (anno_cluster_fct == 'RG early'))\n",
    "\n",
    "asd.lists <- split(filtered.marker.list$gene, filtered.marker.list$overexpressed.in) %>% lapply(unique)%>% lapply(sort)\n",
    "names(asd.lists) <- paste0('DEGs: Up in ', names(asd.lists))\n",
    "\n",
    "asd.lists$All_DEGs <- sort(unique(unlist(asd.lists)))\n"
   ]
  },
  {
   "cell_type": "code",
   "execution_count": 16,
   "id": "374b1223-90f1-43d2-9926-4ed524cf4616",
   "metadata": {},
   "outputs": [],
   "source": [
    "asd.df <- data.table::fread('~/codebases/ASD_IPSC_sept/results/markers/markers_per_donor.nohighmito.csv',\n",
    "                            data.table=F, drop=1)  %>% \n",
    "    mutate(Donor = gsub(pattern='D8_', replacement='', donor) %>%\n",
    "                   gsub(pattern='_', replacement=' ')) "
   ]
  },
  {
   "cell_type": "code",
   "execution_count": 35,
   "id": "9e57418d-75fe-4169-8991-379f05e0a1ea",
   "metadata": {},
   "outputs": [
    {
     "data": {
      "text/html": [
       "<table class=\"dataframe\">\n",
       "<caption>A tibble: 5 × 2</caption>\n",
       "<thead>\n",
       "\t<tr><th scope=col>Sample</th><th scope=col>length(unique(Gene))</th></tr>\n",
       "\t<tr><th scope=col>&lt;chr&gt;</th><th scope=col>&lt;int&gt;</th></tr>\n",
       "</thead>\n",
       "<tbody>\n",
       "\t<tr><td>Gliogenesis</td><td>20</td></tr>\n",
       "\t<tr><td>NeuralPCW16</td><td>18</td></tr>\n",
       "\t<tr><td>NeuralPCW20</td><td>19</td></tr>\n",
       "\t<tr><td>NeuralPCW21</td><td>11</td></tr>\n",
       "\t<tr><td>NeuralPCW24</td><td>18</td></tr>\n",
       "</tbody>\n",
       "</table>\n"
      ],
      "text/latex": [
       "A tibble: 5 × 2\n",
       "\\begin{tabular}{ll}\n",
       " Sample & length(unique(Gene))\\\\\n",
       " <chr> & <int>\\\\\n",
       "\\hline\n",
       "\t Gliogenesis & 20\\\\\n",
       "\t NeuralPCW16 & 18\\\\\n",
       "\t NeuralPCW20 & 19\\\\\n",
       "\t NeuralPCW21 & 11\\\\\n",
       "\t NeuralPCW24 & 18\\\\\n",
       "\\end{tabular}\n"
      ],
      "text/markdown": [
       "\n",
       "A tibble: 5 × 2\n",
       "\n",
       "| Sample &lt;chr&gt; | length(unique(Gene)) &lt;int&gt; |\n",
       "|---|---|\n",
       "| Gliogenesis | 20 |\n",
       "| NeuralPCW16 | 18 |\n",
       "| NeuralPCW20 | 19 |\n",
       "| NeuralPCW21 | 11 |\n",
       "| NeuralPCW24 | 18 |\n",
       "\n"
      ],
      "text/plain": [
       "  Sample      length(unique(Gene))\n",
       "1 Gliogenesis 20                  \n",
       "2 NeuralPCW16 18                  \n",
       "3 NeuralPCW20 19                  \n",
       "4 NeuralPCW21 11                  \n",
       "5 NeuralPCW24 18                  "
      ]
     },
     "metadata": {},
     "output_type": "display_data"
    }
   ],
   "source": [
    "subset(Perturbations, Gene %in% asd.lists$All_DEGs) %>% group_by(Sample) %>% summarise(length(unique(Gene)))"
   ]
  },
  {
   "cell_type": "markdown",
   "id": "f1e024c3-4c71-4dc4-bbb7-57c346288ec4",
   "metadata": {},
   "source": [
    "### Disease and phase"
   ]
  },
  {
   "cell_type": "code",
   "execution_count": 17,
   "id": "2f1a3652-ba72-4d93-a399-0072db0e1125",
   "metadata": {
    "scrolled": true,
    "tags": []
   },
   "outputs": [],
   "source": [
    "dis.df <- get.conf.dis.df(unique(Perturbations$Gene))\n",
    "peak.df <- data.frame(\n",
    "    Gene=names(peak.per.gene),\n",
    "    Core=ifelse(names(peak.per.gene)%in%peakcores, 'Core TF', 'Not core TF'),\n",
    "    PeakSample=peak.per.gene)\n",
    "\n",
    "peak.df %>% \n",
    "    mutate(ps=factor(PeakSample, names(meta.colors$PeakSample))) %>% \n",
    "    arrange(ps) %>% select(Gene)%>% \n",
    "    unlist(recursive = T)%>% unname -> genes.phase_order"
   ]
  },
  {
   "cell_type": "markdown",
   "id": "c378307a-0927-4507-ae50-406c657e57af",
   "metadata": {},
   "source": [
    "### Imprinting info"
   ]
  },
  {
   "cell_type": "code",
   "execution_count": 18,
   "id": "7b8491e2-fd90-4cfb-9a1f-ee0873567383",
   "metadata": {},
   "outputs": [
    {
     "data": {
      "text/html": [
       "<style>\n",
       ".dl-inline {width: auto; margin:0; padding: 0}\n",
       ".dl-inline>dt, .dl-inline>dd {float: none; width: auto; display: inline-block}\n",
       ".dl-inline>dt::after {content: \":\\0020\"; padding-right: .5ex}\n",
       ".dl-inline>dt:not(:first-of-type) {padding-left: .5ex}\n",
       "</style><dl class=dl-inline><dt>Maternal</dt><dd>'#DD2244'</dd><dt>Maternal (Predicted/Conflicting/Provisional)</dt><dd>'#DD88AA'</dd><dt>Paternal</dt><dd>'#4422DD'</dd><dt>Paternal (Predicted/Conflicting/Provisional)</dt><dd>'#AA88DD'</dd><dt>NA</dt><dd>'white'</dd></dl>\n"
      ],
      "text/latex": [
       "\\begin{description*}\n",
       "\\item[Maternal] '\\#DD2244'\n",
       "\\item[Maternal (Predicted/Conflicting/Provisional)] '\\#DD88AA'\n",
       "\\item[Paternal] '\\#4422DD'\n",
       "\\item[Paternal (Predicted/Conflicting/Provisional)] '\\#AA88DD'\n",
       "\\item[NA] 'white'\n",
       "\\end{description*}\n"
      ],
      "text/markdown": [
       "Maternal\n",
       ":   '#DD2244'Maternal (Predicted/Conflicting/Provisional)\n",
       ":   '#DD88AA'Paternal\n",
       ":   '#4422DD'Paternal (Predicted/Conflicting/Provisional)\n",
       ":   '#AA88DD'NA\n",
       ":   'white'\n",
       "\n"
      ],
      "text/plain": [
       "                                    Maternal \n",
       "                                   \"#DD2244\" \n",
       "Maternal (Predicted/Conflicting/Provisional) \n",
       "                                   \"#DD88AA\" \n",
       "                                    Paternal \n",
       "                                   \"#4422DD\" \n",
       "Paternal (Predicted/Conflicting/Provisional) \n",
       "                                   \"#AA88DD\" \n",
       "                                          NA \n",
       "                                     \"white\" "
      ]
     },
     "metadata": {},
     "output_type": "display_data"
    }
   ],
   "source": [
    "imprinted.df %>% \n",
    "    mutate(Status=plyr::mapvalues(x=Imprinted.Status,\n",
    "                                  from=c('Imprinted','Conflicting Data', 'Provisional Data', \n",
    "                                         'Predicted', 'Not Imprinted', 'Unknown'),\n",
    "                                  to=c('Imprinted', 'Predicted/Conflicting/Provisional', 'Predicted/Conflicting/Provisional',\n",
    "                                       'Predicted/Conflicting/Provisional', 'Not imprinted/No evidence', 'Unknown')),\n",
    "           Allele.Status = ifelse(Status=='Imprinted', Expressed.Allele, glue::glue('{Expressed.Allele} ({Status})'))\n",
    "    ) %>% subset(grepl('aternal', Expressed.Allele)) %>% select(gene, Allele.Status) %>% unique() -> imprinted.data\n",
    "imprinted.pal <- setNames(c('#DD2244', '#DD88AA', '#4422DD', '#AA88DD', 'white'),\n",
    "                          c(sort(unique(imprinted.data$Allele.Status)), 'NA'))\n",
    "imprinted.pal "
   ]
  },
  {
   "cell_type": "markdown",
   "id": "ee8c4db0-5b08-4b40-bc20-02cb221499b0",
   "metadata": {
    "tags": []
   },
   "source": [
    "### Prepare data"
   ]
  },
  {
   "cell_type": "code",
   "execution_count": 19,
   "id": "2637bf67-6b7a-4e59-ac1f-dadc9e47cbf1",
   "metadata": {},
   "outputs": [],
   "source": [
    "# markers.donors.asd # gene donor anno_cluster_fct avg_log2FC"
   ]
  },
  {
   "cell_type": "code",
   "execution_count": 20,
   "id": "d16a5d64-554d-44ac-bc5e-447e53133e35",
   "metadata": {
    "scrolled": true,
    "tags": []
   },
   "outputs": [],
   "source": [
    "list(\n",
    "    `Peak phase` = prepare_df(long = F,\n",
    "                              df = peak.df[, c('Gene', 'PeakSample'), drop=F],\n",
    "                              value = 'PeakSample',\n",
    "                              col=meta.colors$PeakSample,\n",
    "                              rect_gp=list(col = \"white\", lwd = 1),\n",
    "                              col_label = 'Peak phase'),\n",
    "    \n",
    "    `Imprinted` = prepare_df(long = F,\n",
    "                             df = imprinted.data,\n",
    "                             gene='gene',\n",
    "                             value = 'Allele.Status', na.fill.value='NA',\n",
    "                             col=imprinted.pal,\n",
    "                             col_label = 'Imprinted?'),\n",
    "    \n",
    "    `Phase regulon` = prepare_df(df = peak.df[, c('Gene', 'Core'), drop=F],\n",
    "                                 value = 'Core',\n",
    "                                 na.fill.value = 'Not core TF',\n",
    "                                 col=c('Core TF'='#000000', 'Not core TF'='#FFFFFF'),\n",
    "                                 col_label = 'Phase regulon'),\n",
    "    \n",
    "    `ASD FC` = prepare_df(df = asd.df,\n",
    "                          long = T, \n",
    "                          value = 'avg_log2FC', \n",
    "                          long.vars = c('Donor', 'anno_cluster_fct'),\n",
    "                          gene = 'gene',\n",
    "                          col_label = 'anno_cluster_fct', col_split = 'Donor',\n",
    "                          col_title_gp = list(fill = '#FFFFFF')),\n",
    "\n",
    "    `ASD RGe FC` = prepare_df(df = subset(asd.df, anno_cluster_fct == 'RG early'),\n",
    "                          long = T, \n",
    "                          value = 'avg_log2FC', \n",
    "                          long.vars = c('Donor', 'anno_cluster_fct'),\n",
    "                          gene = 'gene',\n",
    "                          col_label = 'Donor', col_split = 'anno_cluster_fct'),\n",
    "\n",
    "    `Disease association` = prepare_df(long = T,\n",
    "                                       df = dis.df,\n",
    "                                       long.vars = 'Disease',\n",
    "                                       value = 'Value',\n",
    "                                       na.fill.value = 'None',\n",
    "                                       col=dis.conf.cols,\n",
    "                                       col_label = 'Disease')\n",
    ") -> dfs.general\n",
    "\n"
   ]
  },
  {
   "cell_type": "markdown",
   "id": "04f52d0f-eed7-4945-bc10-d36494cde9e0",
   "metadata": {},
   "source": [
    "# Produce `[for each sample]`"
   ]
  },
  {
   "cell_type": "code",
   "execution_count": 21,
   "id": "9c915a27-d9b9-4871-b2b6-6f1389819c7c",
   "metadata": {
    "scrolled": true,
    "tags": []
   },
   "outputs": [
    {
     "data": {
      "text/html": [
       "<style>\n",
       ".list-inline {list-style: none; margin:0; padding: 0}\n",
       ".list-inline>li {display: inline-block}\n",
       ".list-inline>li:not(:last-child)::after {content: \"\\00b7\"; padding: 0 .5ex}\n",
       "</style>\n",
       "<ol class=list-inline><li>'Gliogenesis'</li><li>'NeuralPCW16'</li><li>'NeuralPCW20'</li><li>'NeuralPCW21'</li><li>'NeuralPCW24'</li></ol>\n"
      ],
      "text/latex": [
       "\\begin{enumerate*}\n",
       "\\item 'Gliogenesis'\n",
       "\\item 'NeuralPCW16'\n",
       "\\item 'NeuralPCW20'\n",
       "\\item 'NeuralPCW21'\n",
       "\\item 'NeuralPCW24'\n",
       "\\end{enumerate*}\n"
      ],
      "text/markdown": [
       "1. 'Gliogenesis'\n",
       "2. 'NeuralPCW16'\n",
       "3. 'NeuralPCW20'\n",
       "4. 'NeuralPCW21'\n",
       "5. 'NeuralPCW24'\n",
       "\n",
       "\n"
      ],
      "text/plain": [
       "[1] \"Gliogenesis\" \"NeuralPCW16\" \"NeuralPCW20\" \"NeuralPCW21\" \"NeuralPCW24\""
      ]
     },
     "metadata": {},
     "output_type": "display_data"
    }
   ],
   "source": [
    "plot.samples <- unique(Perturbations$Sample)\n",
    "# plot.samples <- SampleInclude\n",
    "plot.samples <- plot.samples[plot.samples!='RGCmaturation']\n",
    "plot.samples"
   ]
  },
  {
   "cell_type": "code",
   "execution_count": 22,
   "id": "13ac0c46-26c2-4f63-8dee-87e662d536b9",
   "metadata": {},
   "outputs": [],
   "source": [
    "plot.genesets <- c(asd.lists, geneset_list.general)"
   ]
  },
  {
   "cell_type": "code",
   "execution_count": 23,
   "id": "0d54930d-476a-4808-ae2a-4c1d0c0efee8",
   "metadata": {},
   "outputs": [],
   "source": [
    "dfs.order <- c(\n",
    "    # 'Peak phase',\n",
    "    # 'Phase regulon',\n",
    "    # 'Imprinted',\n",
    "    # 'ASD FC',\n",
    "    'ASD RGe FC',\n",
    "    'No. cells ratio\\nfinal/initial\\nscaled',\n",
    "    '% cells\\ntransitioned',\n",
    "    'Role in GRN'\n",
    "    # 'Disease association'\n",
    ")"
   ]
  },
  {
   "cell_type": "code",
   "execution_count": 24,
   "id": "03f8c163-3a8b-4672-bb50-bd24cf7ee02f",
   "metadata": {},
   "outputs": [],
   "source": [
    "out.folder <- glue::glue('/users/genomics/xoel/codebases/co_new/results_foxg1/Plots/Perturbation_heatmaps.{Sys.Date()}/')"
   ]
  },
  {
   "cell_type": "markdown",
   "id": "83accb8a-f662-4829-aa2f-bbb496ede06a",
   "metadata": {},
   "source": [
    "## Parametrize datasets (grouping variables, colors, labels...) "
   ]
  },
  {
   "cell_type": "code",
   "execution_count": 25,
   "id": "46c8d9d3-db67-43f7-b460-929a0bf0ae65",
   "metadata": {
    "scrolled": true,
    "tags": []
   },
   "outputs": [
    {
     "name": "stderr",
     "output_type": "stream",
     "text": [
      "Gliogenesis\n",
      "\n",
      "NeuralPCW16\n",
      "\n",
      "NeuralPCW20\n",
      "\n",
      "NeuralPCW21\n",
      "\n",
      "NeuralPCW24\n",
      "\n"
     ]
    }
   ],
   "source": [
    "dsmats <- list()\n",
    "for (this.sample in plot.samples){\n",
    "    message(this.sample)\n",
    "\n",
    "    pert.df <- subset(Perturbations, (Pert == 'KO')&(Sample == this.sample))\n",
    "    lapply(split(pert.df, apply(pert.df[,c('Pert', 'Sample', 'cell.type')], 1, paste, collapse='')), function(dct){\n",
    "        positives <- subset(dct, ratio>=1)    \n",
    "        negatives <- subset(dct, ratio<1)  \n",
    "        positives$ratio.scaled <- scales::rescale(x = positives$ratio, from=c(1, max(positives$ratio, na.rm = T)), to=c(0.5,1))\n",
    "        negatives$ratio.scaled <- scales::rescale(x = negatives$ratio, from=c(min(negatives$ratio, na.rm=T) ,1), to=c(0,0.5))\n",
    "        rbind(positives, negatives)\n",
    "    })%>% do.call(what='rbind') %>% as.data.frame() -> pert.df\n",
    "\n",
    "    trans.df <- subset(PerturbationsCT, (Pert == 'KO')&(Sample == this.sample))\n",
    "    network.df <- subset(NetworkScores, Sample == this.sample)\n",
    "\n",
    "\n",
    "    same.trans.col <- trans.df%>%select(CTO,CTF)%>%unique()%>% arrange_all() %>%\n",
    "        apply(1, function(x){if(x[1]==x[2]){'red'}else{'black'}})\n",
    "\n",
    "    this.dfs <- list(\n",
    "        \n",
    "        `No. cells ratio\\nfinal/initial\\nscaled` = prepare_df(\n",
    "            df = pert.df, \n",
    "            long = T, long.vars = c('cell.type','Pert'),\n",
    "            value = 'ratio.scaled',na.fill.value = NA,\n",
    "            col = colorRamp2(seq(from = 0, to=1, length.out = 3), c(\"darkblue\", \"#bbddcc\", \"#FFEE00\")),\n",
    "            col_label = 'cell.type'),  \n",
    "\n",
    "        `% cells\\ntransitioned` = prepare_df(\n",
    "            df = trans.df,\n",
    "            long = T, long.vars = c('CTO','CTF','Pert'),\n",
    "            value = 'trans.pct', na.fill.value = NA,\n",
    "            col = colorRamp2(seq(from = 0, to=100, length.out = 11), viridis::magma(11, direction = -1)),\n",
    "            col_label = 'CTF', col_split = 'CTO',\n",
    "            col_title_gp = list(fill = '#EEEEEE'), col_names_gp = list(col = same.trans.col),\n",
    "            num3D=F),\n",
    "    \n",
    "        `Role in GRN` = prepare_df(\n",
    "            df = network.df,\n",
    "            long = T, long.vars = c('cell.type'),\n",
    "            value = 'Role name', na.fill.value = 'none',\n",
    "            col=RoleColorsNew, col_label = 'cell.type'))\n",
    "    \n",
    "    dfs <- c(dfs.general, this.dfs)[dfs.order]\n",
    "    dsmats[[this.sample]] <- prepare_matrix(dfs)\n",
    "}"
   ]
  },
  {
   "cell_type": "code",
   "execution_count": 26,
   "id": "a14d992d-1cdb-4f56-8cf3-e2748aa6c621",
   "metadata": {},
   "outputs": [],
   "source": [
    "### subset to genes perturbed:\n",
    "for (this.sample in names(dsmats)){\n",
    "    dsmats[[this.sample]]$mat <- dsmats[[this.sample]]$mat[\n",
    "        rownames(dsmats[[this.sample]]$mat) %in% unique(subset(Perturbations, Sample==this.sample)$Gene),]\n",
    "}"
   ]
  },
  {
   "cell_type": "markdown",
   "id": "1b1cbdb5-aff0-466f-98b0-efb753a2c6bf",
   "metadata": {},
   "source": [
    "## All versions `[for each sorting method]` `[for each geneset]` "
   ]
  },
  {
   "cell_type": "code",
   "execution_count": 27,
   "id": "95dd1560-ad03-49f5-998e-d8ce7eb048e0",
   "metadata": {
    "scrolled": true,
    "tags": []
   },
   "outputs": [
    {
     "name": "stdout",
     "output_type": "stream",
     "text": [
      "[1] \"$$$$$$$$$$$$$$$$$$$$$$$$$$$$$$$$$$$$$$$$$$$$$$$$$$$$$$$$$$$$$$$$$$$$$$$$$$$$$$$\"\n",
      "[1] \"$$$$$$$$$$$$$$$$$$$$$$$$$$$$$$$$$$$$$$$$$$$$$$$$$$$$$$$$$$$$$$$$$$$$$$$$$$$$$$$\"\n",
      "[1] \"sort by Peak phase\"\n",
      "[1] \"$$$$$$$$$$$$$$$$$$$$$$$$$$$$$$$$$$$$$$$$$$$$$$$$$$$$$$$$$$$$$$$$$$$$$$$$$$$$$$$\"\n",
      "[1] \"DEGs: Up in ASD\"\n"
     ]
    },
    {
     "name": "stderr",
     "output_type": "stream",
     "text": [
      "Ignoring 65 genes [ACTA2, ARL2, ATP1A2, C4orf48, CARHSP1, CCK]\n",
      "\n",
      "Ignoring 65 genes [ACTA2, ARL2, ATP1A2, C4orf48, CARHSP1, CCK]\n",
      "\n",
      "Ignoring 65 genes [ACTA2, ARL2, ATP1A2, C4orf48, CARHSP1, CCK]\n",
      "\n",
      "Ignoring 69 genes [ACTA2, ARL2, ATP1A2, C4orf48, CARHSP1, CCK]\n",
      "\n",
      "Ignoring 65 genes [ACTA2, ARL2, ATP1A2, C4orf48, CARHSP1, CCK]\n",
      "\n"
     ]
    },
    {
     "name": "stdout",
     "output_type": "stream",
     "text": [
      "[1] \"$$$$$$$$$$$$$$$$$$$$$$$$$$$$$$$$$$$$$$$$$$$$$$$$$$$$$$$$$$$$$$$$$$$$$$$$$$$$$$$\"\n",
      "[1] \"DEGs: Up in Ctrl\"\n"
     ]
    },
    {
     "name": "stderr",
     "output_type": "stream",
     "text": [
      "Ignoring 40 genes [ALDH2, APOE, BASP1, CACHD1, CCDC144NL-AS1, CEMIP2]\n",
      "\n",
      "Ignoring 42 genes [ALDH2, APOE, BASP1, CACHD1, CCDC144NL-AS1, CEMIP2]\n",
      "\n",
      "Ignoring 41 genes [ALDH2, APOE, BASP1, CACHD1, CCDC144NL-AS1, CEMIP2]\n",
      "\n",
      "Ignoring 45 genes [ALDH2, APOE, BASP1, CACHD1, CCDC144NL-AS1, CEMIP2]\n",
      "\n",
      "Ignoring 42 genes [ALDH2, APOE, BASP1, CACHD1, CCDC144NL-AS1, CEMIP2]\n",
      "\n"
     ]
    },
    {
     "name": "stdout",
     "output_type": "stream",
     "text": [
      "[1] \"$$$$$$$$$$$$$$$$$$$$$$$$$$$$$$$$$$$$$$$$$$$$$$$$$$$$$$$$$$$$$$$$$$$$$$$$$$$$$$$\"\n",
      "[1] \"All_DEGs\"\n"
     ]
    },
    {
     "name": "stderr",
     "output_type": "stream",
     "text": [
      "Ignoring 99 genes [ACTA2, ALDH2, APOE, ARL2, ATP1A2, BASP1]\n",
      "\n",
      "Ignoring 101 genes [ACTA2, ALDH2, APOE, ARL2, ATP1A2, BASP1]\n",
      "\n",
      "Ignoring 100 genes [ACTA2, ALDH2, APOE, ARL2, ATP1A2, BASP1]\n",
      "\n",
      "Ignoring 108 genes [ACTA2, ALDH2, APOE, ARL2, ATP1A2, BASP1]\n",
      "\n",
      "Ignoring 101 genes [ACTA2, ALDH2, APOE, ARL2, ATP1A2, BASP1]\n",
      "\n"
     ]
    },
    {
     "name": "stdout",
     "output_type": "stream",
     "text": [
      "[1] \"$$$$$$$$$$$$$$$$$$$$$$$$$$$$$$$$$$$$$$$$$$$$$$$$$$$$$$$$$$$$$$$$$$$$$$$$$$$$$$$\"\n",
      "[1] \"Core TFs (Disease or Phase)\"\n"
     ]
    },
    {
     "name": "stderr",
     "output_type": "stream",
     "text": [
      "Ignoring 67 genes [ARNT2, CHD1, EP300, GLIS1, GTF2I, KLF16]\n",
      "\n",
      "Ignoring 73 genes [ARNT2, CHD1, EGR3, EP300, GLIS1, GTF2I]\n",
      "\n",
      "Ignoring 70 genes [ARNT2, CHD1, EP300, GLIS1, GTF2I, KLF16]\n",
      "\n",
      "Ignoring 72 genes [ARNT2, CHD1, EGR3, EP300, GLIS1, GTF2I]\n",
      "\n",
      "Ignoring 68 genes [ARNT2, CHD1, EP300, GLIS1, GTF2I, KLF16]\n",
      "\n"
     ]
    },
    {
     "name": "stdout",
     "output_type": "stream",
     "text": [
      "[1] \"$$$$$$$$$$$$$$$$$$$$$$$$$$$$$$$$$$$$$$$$$$$$$$$$$$$$$$$$$$$$$$$$$$$$$$$$$$$$$$$\"\n",
      "[1] \"All TFs tested\"\n"
     ]
    },
    {
     "name": "stderr",
     "output_type": "stream",
     "text": [
      "Ignoring 183 genes [SOX6, TBX15, LHX3, TCF7, ZFHX3, HIVEP1]\n",
      "\n",
      "Ignoring 205 genes [LMO2, SIN3A, MYBL2, ARID5B, GFI1B, FEZF1]\n",
      "\n",
      "Ignoring 180 genes [SIN3A, OSR1, MYBL2, SP9, AHRR, SOX17]\n",
      "\n",
      "Ignoring 207 genes [SIN3A, OSR1, SP9, AHRR, SOX17, GFI1B]\n",
      "\n",
      "Ignoring 179 genes [SIN3A, OSR1, MYBL2, AHRR, SOX17, GFI1B]\n",
      "\n"
     ]
    },
    {
     "name": "stdout",
     "output_type": "stream",
     "text": [
      "[1] \"$$$$$$$$$$$$$$$$$$$$$$$$$$$$$$$$$$$$$$$$$$$$$$$$$$$$$$$$$$$$$$$$$$$$$$$$$$$$$$$\"\n",
      "[1] \"Disease-linked\"\n"
     ]
    },
    {
     "name": "stderr",
     "output_type": "stream",
     "text": [
      "Ignoring 2211 genes [TSEN34, RAB18, CASK, CENPE, KIF14, QARS]\n",
      "\n",
      "Ignoring 2208 genes [TSEN34, RAB18, CASK, CENPE, KIF14, QARS]\n",
      "\n",
      "Ignoring 2202 genes [TSEN34, RAB18, CASK, CENPE, KIF14, QARS]\n",
      "\n",
      "Ignoring 2211 genes [TSEN34, RAB18, CASK, CENPE, KIF14, QARS]\n",
      "\n",
      "Ignoring 2200 genes [TSEN34, RAB18, CASK, CENPE, KIF14, QARS]\n",
      "\n"
     ]
    },
    {
     "name": "stdout",
     "output_type": "stream",
     "text": [
      "[1] \"$$$$$$$$$$$$$$$$$$$$$$$$$$$$$$$$$$$$$$$$$$$$$$$$$$$$$$$$$$$$$$$$$$$$$$$$$$$$$$$\"\n",
      "[1] \"Phase core TF or Disease-linked\"\n"
     ]
    },
    {
     "name": "stderr",
     "output_type": "stream",
     "text": [
      "Ignoring 2255 genes [TSEN34, RAB18, CASK, CENPE, KIF14, QARS]\n",
      "\n",
      "Ignoring 2255 genes [TSEN34, RAB18, CASK, CENPE, KIF14, QARS]\n",
      "\n",
      "Ignoring 2250 genes [TSEN34, RAB18, CASK, CENPE, KIF14, QARS]\n",
      "\n",
      "Ignoring 2258 genes [TSEN34, RAB18, CASK, CENPE, KIF14, QARS]\n",
      "\n",
      "Ignoring 2248 genes [TSEN34, RAB18, CASK, CENPE, KIF14, QARS]\n",
      "\n"
     ]
    },
    {
     "name": "stdout",
     "output_type": "stream",
     "text": [
      "[1] \"$$$$$$$$$$$$$$$$$$$$$$$$$$$$$$$$$$$$$$$$$$$$$$$$$$$$$$$$$$$$$$$$$$$$$$$$$$$$$$$\"\n",
      "[1] \"Regulons\"\n"
     ]
    },
    {
     "name": "stderr",
     "output_type": "stream",
     "text": [
      "Ignoring 3711 genes [SKI, CCND2, CENPF, CRB2, FAM20C, FGFR3]\n",
      "\n",
      "Ignoring 3712 genes [SKI, CCND2, CENPF, CRB2, FAM20C, FGFR3]\n",
      "\n",
      "Ignoring 3700 genes [SKI, CCND2, CENPF, CRB2, FAM20C, FGFR3]\n",
      "\n",
      "Ignoring 3721 genes [SKI, CCND2, CENPF, CRB2, FAM20C, FGFR3]\n",
      "\n",
      "Ignoring 3696 genes [SKI, CCND2, CENPF, CRB2, FAM20C, FGFR3]\n",
      "\n"
     ]
    },
    {
     "name": "stdout",
     "output_type": "stream",
     "text": [
      "[1] \"$$$$$$$$$$$$$$$$$$$$$$$$$$$$$$$$$$$$$$$$$$$$$$$$$$$$$$$$$$$$$$$$$$$$$$$$$$$$$$$\"\n",
      "[1] \"$$$$$$$$$$$$$$$$$$$$$$$$$$$$$$$$$$$$$$$$$$$$$$$$$$$$$$$$$$$$$$$$$$$$$$$$$$$$$$$\"\n",
      "[1] \"sort by Transitions\"\n",
      "[1] \"$$$$$$$$$$$$$$$$$$$$$$$$$$$$$$$$$$$$$$$$$$$$$$$$$$$$$$$$$$$$$$$$$$$$$$$$$$$$$$$\"\n",
      "[1] \"DEGs: Up in ASD\"\n"
     ]
    },
    {
     "name": "stderr",
     "output_type": "stream",
     "text": [
      "Ignoring 65 genes [ACTA2, ARL2, ATP1A2, C4orf48, CARHSP1, CCK]\n",
      "\n",
      "Ignoring 65 genes [ACTA2, ARL2, ATP1A2, C4orf48, CARHSP1, CCK]\n",
      "\n",
      "Ignoring 65 genes [ACTA2, ARL2, ATP1A2, C4orf48, CARHSP1, CCK]\n",
      "\n",
      "Ignoring 69 genes [ACTA2, ARL2, ATP1A2, C4orf48, CARHSP1, CCK]\n",
      "\n",
      "Ignoring 65 genes [ACTA2, ARL2, ATP1A2, C4orf48, CARHSP1, CCK]\n",
      "\n"
     ]
    },
    {
     "name": "stdout",
     "output_type": "stream",
     "text": [
      "[1] \"$$$$$$$$$$$$$$$$$$$$$$$$$$$$$$$$$$$$$$$$$$$$$$$$$$$$$$$$$$$$$$$$$$$$$$$$$$$$$$$\"\n",
      "[1] \"DEGs: Up in Ctrl\"\n"
     ]
    },
    {
     "name": "stderr",
     "output_type": "stream",
     "text": [
      "Ignoring 40 genes [ALDH2, APOE, BASP1, CACHD1, CCDC144NL-AS1, CEMIP2]\n",
      "\n",
      "Ignoring 42 genes [ALDH2, APOE, BASP1, CACHD1, CCDC144NL-AS1, CEMIP2]\n",
      "\n",
      "Ignoring 41 genes [ALDH2, APOE, BASP1, CACHD1, CCDC144NL-AS1, CEMIP2]\n",
      "\n",
      "Ignoring 45 genes [ALDH2, APOE, BASP1, CACHD1, CCDC144NL-AS1, CEMIP2]\n",
      "\n",
      "Ignoring 42 genes [ALDH2, APOE, BASP1, CACHD1, CCDC144NL-AS1, CEMIP2]\n",
      "\n"
     ]
    },
    {
     "name": "stdout",
     "output_type": "stream",
     "text": [
      "[1] \"$$$$$$$$$$$$$$$$$$$$$$$$$$$$$$$$$$$$$$$$$$$$$$$$$$$$$$$$$$$$$$$$$$$$$$$$$$$$$$$\"\n",
      "[1] \"All_DEGs\"\n"
     ]
    },
    {
     "name": "stderr",
     "output_type": "stream",
     "text": [
      "Ignoring 99 genes [ACTA2, ALDH2, APOE, ARL2, ATP1A2, BASP1]\n",
      "\n",
      "Ignoring 101 genes [ACTA2, ALDH2, APOE, ARL2, ATP1A2, BASP1]\n",
      "\n",
      "Ignoring 100 genes [ACTA2, ALDH2, APOE, ARL2, ATP1A2, BASP1]\n",
      "\n",
      "Ignoring 108 genes [ACTA2, ALDH2, APOE, ARL2, ATP1A2, BASP1]\n",
      "\n",
      "Ignoring 101 genes [ACTA2, ALDH2, APOE, ARL2, ATP1A2, BASP1]\n",
      "\n"
     ]
    },
    {
     "name": "stdout",
     "output_type": "stream",
     "text": [
      "[1] \"$$$$$$$$$$$$$$$$$$$$$$$$$$$$$$$$$$$$$$$$$$$$$$$$$$$$$$$$$$$$$$$$$$$$$$$$$$$$$$$\"\n",
      "[1] \"Core TFs (Disease or Phase)\"\n"
     ]
    },
    {
     "name": "stderr",
     "output_type": "stream",
     "text": [
      "Ignoring 67 genes [ARNT2, CHD1, EP300, GLIS1, GTF2I, KLF16]\n",
      "\n",
      "Ignoring 73 genes [ARNT2, CHD1, EGR3, EP300, GLIS1, GTF2I]\n",
      "\n",
      "Ignoring 70 genes [ARNT2, CHD1, EP300, GLIS1, GTF2I, KLF16]\n",
      "\n",
      "Ignoring 72 genes [ARNT2, CHD1, EGR3, EP300, GLIS1, GTF2I]\n",
      "\n",
      "Ignoring 68 genes [ARNT2, CHD1, EP300, GLIS1, GTF2I, KLF16]\n",
      "\n"
     ]
    },
    {
     "name": "stdout",
     "output_type": "stream",
     "text": [
      "[1] \"$$$$$$$$$$$$$$$$$$$$$$$$$$$$$$$$$$$$$$$$$$$$$$$$$$$$$$$$$$$$$$$$$$$$$$$$$$$$$$$\"\n",
      "[1] \"All TFs tested\"\n"
     ]
    },
    {
     "name": "stderr",
     "output_type": "stream",
     "text": [
      "Ignoring 183 genes [SOX6, TBX15, LHX3, TCF7, ZFHX3, HIVEP1]\n",
      "\n",
      "Ignoring 205 genes [LMO2, SIN3A, MYBL2, ARID5B, GFI1B, FEZF1]\n",
      "\n",
      "Ignoring 180 genes [SIN3A, OSR1, MYBL2, SP9, AHRR, SOX17]\n",
      "\n",
      "Ignoring 207 genes [SIN3A, OSR1, SP9, AHRR, SOX17, GFI1B]\n",
      "\n",
      "Ignoring 179 genes [SIN3A, OSR1, MYBL2, AHRR, SOX17, GFI1B]\n",
      "\n"
     ]
    },
    {
     "name": "stdout",
     "output_type": "stream",
     "text": [
      "[1] \"$$$$$$$$$$$$$$$$$$$$$$$$$$$$$$$$$$$$$$$$$$$$$$$$$$$$$$$$$$$$$$$$$$$$$$$$$$$$$$$\"\n",
      "[1] \"Disease-linked\"\n"
     ]
    },
    {
     "name": "stderr",
     "output_type": "stream",
     "text": [
      "Ignoring 2211 genes [TSEN34, RAB18, CASK, CENPE, KIF14, QARS]\n",
      "\n",
      "Ignoring 2208 genes [TSEN34, RAB18, CASK, CENPE, KIF14, QARS]\n",
      "\n",
      "Ignoring 2202 genes [TSEN34, RAB18, CASK, CENPE, KIF14, QARS]\n",
      "\n",
      "Ignoring 2211 genes [TSEN34, RAB18, CASK, CENPE, KIF14, QARS]\n",
      "\n",
      "Ignoring 2200 genes [TSEN34, RAB18, CASK, CENPE, KIF14, QARS]\n",
      "\n"
     ]
    },
    {
     "name": "stdout",
     "output_type": "stream",
     "text": [
      "[1] \"$$$$$$$$$$$$$$$$$$$$$$$$$$$$$$$$$$$$$$$$$$$$$$$$$$$$$$$$$$$$$$$$$$$$$$$$$$$$$$$\"\n",
      "[1] \"Phase core TF or Disease-linked\"\n"
     ]
    },
    {
     "name": "stderr",
     "output_type": "stream",
     "text": [
      "Ignoring 2255 genes [TSEN34, RAB18, CASK, CENPE, KIF14, QARS]\n",
      "\n",
      "Ignoring 2255 genes [TSEN34, RAB18, CASK, CENPE, KIF14, QARS]\n",
      "\n",
      "Ignoring 2250 genes [TSEN34, RAB18, CASK, CENPE, KIF14, QARS]\n",
      "\n",
      "Ignoring 2258 genes [TSEN34, RAB18, CASK, CENPE, KIF14, QARS]\n",
      "\n",
      "Ignoring 2248 genes [TSEN34, RAB18, CASK, CENPE, KIF14, QARS]\n",
      "\n"
     ]
    },
    {
     "name": "stdout",
     "output_type": "stream",
     "text": [
      "[1] \"$$$$$$$$$$$$$$$$$$$$$$$$$$$$$$$$$$$$$$$$$$$$$$$$$$$$$$$$$$$$$$$$$$$$$$$$$$$$$$$\"\n",
      "[1] \"Regulons\"\n"
     ]
    },
    {
     "name": "stderr",
     "output_type": "stream",
     "text": [
      "Ignoring 3711 genes [SKI, CCND2, CENPF, CRB2, FAM20C, FGFR3]\n",
      "\n",
      "Ignoring 3712 genes [SKI, CCND2, CENPF, CRB2, FAM20C, FGFR3]\n",
      "\n",
      "Ignoring 3700 genes [SKI, CCND2, CENPF, CRB2, FAM20C, FGFR3]\n",
      "\n",
      "Ignoring 3721 genes [SKI, CCND2, CENPF, CRB2, FAM20C, FGFR3]\n",
      "\n",
      "Ignoring 3696 genes [SKI, CCND2, CENPF, CRB2, FAM20C, FGFR3]\n",
      "\n"
     ]
    },
    {
     "name": "stdout",
     "output_type": "stream",
     "text": [
      "[1] \"$$$$$$$$$$$$$$$$$$$$$$$$$$$$$$$$$$$$$$$$$$$$$$$$$$$$$$$$$$$$$$$$$$$$$$$$$$$$$$$\"\n",
      "[1] \"$$$$$$$$$$$$$$$$$$$$$$$$$$$$$$$$$$$$$$$$$$$$$$$$$$$$$$$$$$$$$$$$$$$$$$$$$$$$$$$\"\n",
      "[1] \"cluster by Transitions\"\n",
      "[1] \"$$$$$$$$$$$$$$$$$$$$$$$$$$$$$$$$$$$$$$$$$$$$$$$$$$$$$$$$$$$$$$$$$$$$$$$$$$$$$$$\"\n",
      "[1] \"DEGs: Up in ASD\"\n"
     ]
    },
    {
     "name": "stderr",
     "output_type": "stream",
     "text": [
      "Ignoring 65 genes [ACTA2, ARL2, ATP1A2, C4orf48, CARHSP1, CCK]\n",
      "\n",
      "Ignoring 65 genes [ACTA2, ARL2, ATP1A2, C4orf48, CARHSP1, CCK]\n",
      "\n",
      "Ignoring 65 genes [ACTA2, ARL2, ATP1A2, C4orf48, CARHSP1, CCK]\n",
      "\n",
      "Ignoring 69 genes [ACTA2, ARL2, ATP1A2, C4orf48, CARHSP1, CCK]\n",
      "\n",
      "Ignoring 65 genes [ACTA2, ARL2, ATP1A2, C4orf48, CARHSP1, CCK]\n",
      "\n"
     ]
    },
    {
     "name": "stdout",
     "output_type": "stream",
     "text": [
      "[1] \"$$$$$$$$$$$$$$$$$$$$$$$$$$$$$$$$$$$$$$$$$$$$$$$$$$$$$$$$$$$$$$$$$$$$$$$$$$$$$$$\"\n",
      "[1] \"DEGs: Up in Ctrl\"\n"
     ]
    },
    {
     "name": "stderr",
     "output_type": "stream",
     "text": [
      "Ignoring 40 genes [ALDH2, APOE, BASP1, CACHD1, CCDC144NL-AS1, CEMIP2]\n",
      "\n",
      "Ignoring 42 genes [ALDH2, APOE, BASP1, CACHD1, CCDC144NL-AS1, CEMIP2]\n",
      "\n",
      "Ignoring 41 genes [ALDH2, APOE, BASP1, CACHD1, CCDC144NL-AS1, CEMIP2]\n",
      "\n",
      "Ignoring 45 genes [ALDH2, APOE, BASP1, CACHD1, CCDC144NL-AS1, CEMIP2]\n",
      "\n",
      "Ignoring 42 genes [ALDH2, APOE, BASP1, CACHD1, CCDC144NL-AS1, CEMIP2]\n",
      "\n"
     ]
    },
    {
     "name": "stdout",
     "output_type": "stream",
     "text": [
      "[1] \"$$$$$$$$$$$$$$$$$$$$$$$$$$$$$$$$$$$$$$$$$$$$$$$$$$$$$$$$$$$$$$$$$$$$$$$$$$$$$$$\"\n",
      "[1] \"All_DEGs\"\n"
     ]
    },
    {
     "name": "stderr",
     "output_type": "stream",
     "text": [
      "Ignoring 99 genes [ACTA2, ALDH2, APOE, ARL2, ATP1A2, BASP1]\n",
      "\n",
      "Ignoring 101 genes [ACTA2, ALDH2, APOE, ARL2, ATP1A2, BASP1]\n",
      "\n",
      "Ignoring 100 genes [ACTA2, ALDH2, APOE, ARL2, ATP1A2, BASP1]\n",
      "\n",
      "Ignoring 108 genes [ACTA2, ALDH2, APOE, ARL2, ATP1A2, BASP1]\n",
      "\n",
      "Ignoring 101 genes [ACTA2, ALDH2, APOE, ARL2, ATP1A2, BASP1]\n",
      "\n"
     ]
    },
    {
     "name": "stdout",
     "output_type": "stream",
     "text": [
      "[1] \"$$$$$$$$$$$$$$$$$$$$$$$$$$$$$$$$$$$$$$$$$$$$$$$$$$$$$$$$$$$$$$$$$$$$$$$$$$$$$$$\"\n",
      "[1] \"Core TFs (Disease or Phase)\"\n"
     ]
    },
    {
     "name": "stderr",
     "output_type": "stream",
     "text": [
      "Ignoring 67 genes [ARNT2, CHD1, EP300, GLIS1, GTF2I, KLF16]\n",
      "\n",
      "Ignoring 73 genes [ARNT2, CHD1, EGR3, EP300, GLIS1, GTF2I]\n",
      "\n",
      "Ignoring 70 genes [ARNT2, CHD1, EP300, GLIS1, GTF2I, KLF16]\n",
      "\n",
      "Ignoring 72 genes [ARNT2, CHD1, EGR3, EP300, GLIS1, GTF2I]\n",
      "\n",
      "Ignoring 68 genes [ARNT2, CHD1, EP300, GLIS1, GTF2I, KLF16]\n",
      "\n"
     ]
    },
    {
     "name": "stdout",
     "output_type": "stream",
     "text": [
      "[1] \"$$$$$$$$$$$$$$$$$$$$$$$$$$$$$$$$$$$$$$$$$$$$$$$$$$$$$$$$$$$$$$$$$$$$$$$$$$$$$$$\"\n",
      "[1] \"All TFs tested\"\n"
     ]
    },
    {
     "name": "stderr",
     "output_type": "stream",
     "text": [
      "Ignoring 183 genes [SOX6, TBX15, LHX3, TCF7, ZFHX3, HIVEP1]\n",
      "\n",
      "Ignoring 205 genes [LMO2, SIN3A, MYBL2, ARID5B, GFI1B, FEZF1]\n",
      "\n",
      "Ignoring 180 genes [SIN3A, OSR1, MYBL2, SP9, AHRR, SOX17]\n",
      "\n",
      "Ignoring 207 genes [SIN3A, OSR1, SP9, AHRR, SOX17, GFI1B]\n",
      "\n",
      "Ignoring 179 genes [SIN3A, OSR1, MYBL2, AHRR, SOX17, GFI1B]\n",
      "\n"
     ]
    },
    {
     "name": "stdout",
     "output_type": "stream",
     "text": [
      "[1] \"$$$$$$$$$$$$$$$$$$$$$$$$$$$$$$$$$$$$$$$$$$$$$$$$$$$$$$$$$$$$$$$$$$$$$$$$$$$$$$$\"\n",
      "[1] \"Disease-linked\"\n"
     ]
    },
    {
     "name": "stderr",
     "output_type": "stream",
     "text": [
      "Ignoring 2211 genes [TSEN34, RAB18, CASK, CENPE, KIF14, QARS]\n",
      "\n",
      "Ignoring 2208 genes [TSEN34, RAB18, CASK, CENPE, KIF14, QARS]\n",
      "\n",
      "Ignoring 2202 genes [TSEN34, RAB18, CASK, CENPE, KIF14, QARS]\n",
      "\n",
      "Ignoring 2211 genes [TSEN34, RAB18, CASK, CENPE, KIF14, QARS]\n",
      "\n",
      "Ignoring 2200 genes [TSEN34, RAB18, CASK, CENPE, KIF14, QARS]\n",
      "\n"
     ]
    },
    {
     "name": "stdout",
     "output_type": "stream",
     "text": [
      "[1] \"$$$$$$$$$$$$$$$$$$$$$$$$$$$$$$$$$$$$$$$$$$$$$$$$$$$$$$$$$$$$$$$$$$$$$$$$$$$$$$$\"\n",
      "[1] \"Phase core TF or Disease-linked\"\n"
     ]
    },
    {
     "name": "stderr",
     "output_type": "stream",
     "text": [
      "Ignoring 2255 genes [TSEN34, RAB18, CASK, CENPE, KIF14, QARS]\n",
      "\n",
      "Ignoring 2255 genes [TSEN34, RAB18, CASK, CENPE, KIF14, QARS]\n",
      "\n",
      "Ignoring 2250 genes [TSEN34, RAB18, CASK, CENPE, KIF14, QARS]\n",
      "\n",
      "Ignoring 2258 genes [TSEN34, RAB18, CASK, CENPE, KIF14, QARS]\n",
      "\n",
      "Ignoring 2248 genes [TSEN34, RAB18, CASK, CENPE, KIF14, QARS]\n",
      "\n"
     ]
    },
    {
     "name": "stdout",
     "output_type": "stream",
     "text": [
      "[1] \"$$$$$$$$$$$$$$$$$$$$$$$$$$$$$$$$$$$$$$$$$$$$$$$$$$$$$$$$$$$$$$$$$$$$$$$$$$$$$$$\"\n",
      "[1] \"Regulons\"\n"
     ]
    },
    {
     "name": "stderr",
     "output_type": "stream",
     "text": [
      "Ignoring 3711 genes [SKI, CCND2, CENPF, CRB2, FAM20C, FGFR3]\n",
      "\n",
      "Ignoring 3712 genes [SKI, CCND2, CENPF, CRB2, FAM20C, FGFR3]\n",
      "\n",
      "Ignoring 3700 genes [SKI, CCND2, CENPF, CRB2, FAM20C, FGFR3]\n",
      "\n",
      "Ignoring 3721 genes [SKI, CCND2, CENPF, CRB2, FAM20C, FGFR3]\n",
      "\n",
      "Ignoring 3696 genes [SKI, CCND2, CENPF, CRB2, FAM20C, FGFR3]\n",
      "\n"
     ]
    },
    {
     "name": "stdout",
     "output_type": "stream",
     "text": [
      "[1] \"$$$$$$$$$$$$$$$$$$$$$$$$$$$$$$$$$$$$$$$$$$$$$$$$$$$$$$$$$$$$$$$$$$$$$$$$$$$$$$$\"\n",
      "[1] \"$$$$$$$$$$$$$$$$$$$$$$$$$$$$$$$$$$$$$$$$$$$$$$$$$$$$$$$$$$$$$$$$$$$$$$$$$$$$$$$\"\n",
      "[1] \"sort by Ratio\"\n",
      "[1] \"$$$$$$$$$$$$$$$$$$$$$$$$$$$$$$$$$$$$$$$$$$$$$$$$$$$$$$$$$$$$$$$$$$$$$$$$$$$$$$$\"\n",
      "[1] \"DEGs: Up in ASD\"\n"
     ]
    },
    {
     "name": "stderr",
     "output_type": "stream",
     "text": [
      "Ignoring 65 genes [ACTA2, ARL2, ATP1A2, C4orf48, CARHSP1, CCK]\n",
      "\n",
      "Ignoring 65 genes [ACTA2, ARL2, ATP1A2, C4orf48, CARHSP1, CCK]\n",
      "\n",
      "Ignoring 65 genes [ACTA2, ARL2, ATP1A2, C4orf48, CARHSP1, CCK]\n",
      "\n",
      "Ignoring 69 genes [ACTA2, ARL2, ATP1A2, C4orf48, CARHSP1, CCK]\n",
      "\n",
      "Ignoring 65 genes [ACTA2, ARL2, ATP1A2, C4orf48, CARHSP1, CCK]\n",
      "\n"
     ]
    },
    {
     "name": "stdout",
     "output_type": "stream",
     "text": [
      "[1] \"$$$$$$$$$$$$$$$$$$$$$$$$$$$$$$$$$$$$$$$$$$$$$$$$$$$$$$$$$$$$$$$$$$$$$$$$$$$$$$$\"\n",
      "[1] \"DEGs: Up in Ctrl\"\n"
     ]
    },
    {
     "name": "stderr",
     "output_type": "stream",
     "text": [
      "Ignoring 40 genes [ALDH2, APOE, BASP1, CACHD1, CCDC144NL-AS1, CEMIP2]\n",
      "\n",
      "Ignoring 42 genes [ALDH2, APOE, BASP1, CACHD1, CCDC144NL-AS1, CEMIP2]\n",
      "\n",
      "Ignoring 41 genes [ALDH2, APOE, BASP1, CACHD1, CCDC144NL-AS1, CEMIP2]\n",
      "\n",
      "Ignoring 45 genes [ALDH2, APOE, BASP1, CACHD1, CCDC144NL-AS1, CEMIP2]\n",
      "\n",
      "Ignoring 42 genes [ALDH2, APOE, BASP1, CACHD1, CCDC144NL-AS1, CEMIP2]\n",
      "\n"
     ]
    },
    {
     "name": "stdout",
     "output_type": "stream",
     "text": [
      "[1] \"$$$$$$$$$$$$$$$$$$$$$$$$$$$$$$$$$$$$$$$$$$$$$$$$$$$$$$$$$$$$$$$$$$$$$$$$$$$$$$$\"\n",
      "[1] \"All_DEGs\"\n"
     ]
    },
    {
     "name": "stderr",
     "output_type": "stream",
     "text": [
      "Ignoring 99 genes [ACTA2, ALDH2, APOE, ARL2, ATP1A2, BASP1]\n",
      "\n",
      "Ignoring 101 genes [ACTA2, ALDH2, APOE, ARL2, ATP1A2, BASP1]\n",
      "\n",
      "Ignoring 100 genes [ACTA2, ALDH2, APOE, ARL2, ATP1A2, BASP1]\n",
      "\n",
      "Ignoring 108 genes [ACTA2, ALDH2, APOE, ARL2, ATP1A2, BASP1]\n",
      "\n",
      "Ignoring 101 genes [ACTA2, ALDH2, APOE, ARL2, ATP1A2, BASP1]\n",
      "\n"
     ]
    },
    {
     "name": "stdout",
     "output_type": "stream",
     "text": [
      "[1] \"$$$$$$$$$$$$$$$$$$$$$$$$$$$$$$$$$$$$$$$$$$$$$$$$$$$$$$$$$$$$$$$$$$$$$$$$$$$$$$$\"\n",
      "[1] \"Core TFs (Disease or Phase)\"\n"
     ]
    },
    {
     "name": "stderr",
     "output_type": "stream",
     "text": [
      "Ignoring 67 genes [ARNT2, CHD1, EP300, GLIS1, GTF2I, KLF16]\n",
      "\n",
      "Ignoring 73 genes [ARNT2, CHD1, EGR3, EP300, GLIS1, GTF2I]\n",
      "\n",
      "Ignoring 70 genes [ARNT2, CHD1, EP300, GLIS1, GTF2I, KLF16]\n",
      "\n",
      "Ignoring 72 genes [ARNT2, CHD1, EGR3, EP300, GLIS1, GTF2I]\n",
      "\n",
      "Ignoring 68 genes [ARNT2, CHD1, EP300, GLIS1, GTF2I, KLF16]\n",
      "\n"
     ]
    },
    {
     "name": "stdout",
     "output_type": "stream",
     "text": [
      "[1] \"$$$$$$$$$$$$$$$$$$$$$$$$$$$$$$$$$$$$$$$$$$$$$$$$$$$$$$$$$$$$$$$$$$$$$$$$$$$$$$$\"\n",
      "[1] \"All TFs tested\"\n"
     ]
    },
    {
     "name": "stderr",
     "output_type": "stream",
     "text": [
      "Ignoring 183 genes [SOX6, TBX15, LHX3, TCF7, ZFHX3, HIVEP1]\n",
      "\n",
      "Ignoring 205 genes [LMO2, SIN3A, MYBL2, ARID5B, GFI1B, FEZF1]\n",
      "\n",
      "Ignoring 180 genes [SIN3A, OSR1, MYBL2, SP9, AHRR, SOX17]\n",
      "\n",
      "Ignoring 207 genes [SIN3A, OSR1, SP9, AHRR, SOX17, GFI1B]\n",
      "\n",
      "Ignoring 179 genes [SIN3A, OSR1, MYBL2, AHRR, SOX17, GFI1B]\n",
      "\n"
     ]
    },
    {
     "name": "stdout",
     "output_type": "stream",
     "text": [
      "[1] \"$$$$$$$$$$$$$$$$$$$$$$$$$$$$$$$$$$$$$$$$$$$$$$$$$$$$$$$$$$$$$$$$$$$$$$$$$$$$$$$\"\n",
      "[1] \"Disease-linked\"\n"
     ]
    },
    {
     "name": "stderr",
     "output_type": "stream",
     "text": [
      "Ignoring 2211 genes [TSEN34, RAB18, CASK, CENPE, KIF14, QARS]\n",
      "\n",
      "Ignoring 2208 genes [TSEN34, RAB18, CASK, CENPE, KIF14, QARS]\n",
      "\n",
      "Ignoring 2202 genes [TSEN34, RAB18, CASK, CENPE, KIF14, QARS]\n",
      "\n",
      "Ignoring 2211 genes [TSEN34, RAB18, CASK, CENPE, KIF14, QARS]\n",
      "\n",
      "Ignoring 2200 genes [TSEN34, RAB18, CASK, CENPE, KIF14, QARS]\n",
      "\n"
     ]
    },
    {
     "name": "stdout",
     "output_type": "stream",
     "text": [
      "[1] \"$$$$$$$$$$$$$$$$$$$$$$$$$$$$$$$$$$$$$$$$$$$$$$$$$$$$$$$$$$$$$$$$$$$$$$$$$$$$$$$\"\n",
      "[1] \"Phase core TF or Disease-linked\"\n"
     ]
    },
    {
     "name": "stderr",
     "output_type": "stream",
     "text": [
      "Ignoring 2255 genes [TSEN34, RAB18, CASK, CENPE, KIF14, QARS]\n",
      "\n",
      "Ignoring 2255 genes [TSEN34, RAB18, CASK, CENPE, KIF14, QARS]\n",
      "\n",
      "Ignoring 2250 genes [TSEN34, RAB18, CASK, CENPE, KIF14, QARS]\n",
      "\n",
      "Ignoring 2258 genes [TSEN34, RAB18, CASK, CENPE, KIF14, QARS]\n",
      "\n",
      "Ignoring 2248 genes [TSEN34, RAB18, CASK, CENPE, KIF14, QARS]\n",
      "\n"
     ]
    },
    {
     "name": "stdout",
     "output_type": "stream",
     "text": [
      "[1] \"$$$$$$$$$$$$$$$$$$$$$$$$$$$$$$$$$$$$$$$$$$$$$$$$$$$$$$$$$$$$$$$$$$$$$$$$$$$$$$$\"\n",
      "[1] \"Regulons\"\n"
     ]
    },
    {
     "name": "stderr",
     "output_type": "stream",
     "text": [
      "Ignoring 3711 genes [SKI, CCND2, CENPF, CRB2, FAM20C, FGFR3]\n",
      "\n",
      "Ignoring 3712 genes [SKI, CCND2, CENPF, CRB2, FAM20C, FGFR3]\n",
      "\n",
      "Ignoring 3700 genes [SKI, CCND2, CENPF, CRB2, FAM20C, FGFR3]\n",
      "\n",
      "Ignoring 3721 genes [SKI, CCND2, CENPF, CRB2, FAM20C, FGFR3]\n",
      "\n",
      "Ignoring 3696 genes [SKI, CCND2, CENPF, CRB2, FAM20C, FGFR3]\n",
      "\n"
     ]
    },
    {
     "name": "stdout",
     "output_type": "stream",
     "text": [
      "[1] \"$$$$$$$$$$$$$$$$$$$$$$$$$$$$$$$$$$$$$$$$$$$$$$$$$$$$$$$$$$$$$$$$$$$$$$$$$$$$$$$\"\n",
      "[1] \"$$$$$$$$$$$$$$$$$$$$$$$$$$$$$$$$$$$$$$$$$$$$$$$$$$$$$$$$$$$$$$$$$$$$$$$$$$$$$$$\"\n",
      "[1] \"cluster by Ratio\"\n",
      "[1] \"$$$$$$$$$$$$$$$$$$$$$$$$$$$$$$$$$$$$$$$$$$$$$$$$$$$$$$$$$$$$$$$$$$$$$$$$$$$$$$$\"\n",
      "[1] \"DEGs: Up in ASD\"\n"
     ]
    },
    {
     "name": "stderr",
     "output_type": "stream",
     "text": [
      "Ignoring 65 genes [ACTA2, ARL2, ATP1A2, C4orf48, CARHSP1, CCK]\n",
      "\n",
      "Ignoring 65 genes [ACTA2, ARL2, ATP1A2, C4orf48, CARHSP1, CCK]\n",
      "\n",
      "Ignoring 65 genes [ACTA2, ARL2, ATP1A2, C4orf48, CARHSP1, CCK]\n",
      "\n",
      "Ignoring 69 genes [ACTA2, ARL2, ATP1A2, C4orf48, CARHSP1, CCK]\n",
      "\n",
      "Ignoring 65 genes [ACTA2, ARL2, ATP1A2, C4orf48, CARHSP1, CCK]\n",
      "\n"
     ]
    },
    {
     "name": "stdout",
     "output_type": "stream",
     "text": [
      "[1] \"$$$$$$$$$$$$$$$$$$$$$$$$$$$$$$$$$$$$$$$$$$$$$$$$$$$$$$$$$$$$$$$$$$$$$$$$$$$$$$$\"\n",
      "[1] \"DEGs: Up in Ctrl\"\n"
     ]
    },
    {
     "name": "stderr",
     "output_type": "stream",
     "text": [
      "Ignoring 40 genes [ALDH2, APOE, BASP1, CACHD1, CCDC144NL-AS1, CEMIP2]\n",
      "\n",
      "Ignoring 42 genes [ALDH2, APOE, BASP1, CACHD1, CCDC144NL-AS1, CEMIP2]\n",
      "\n",
      "Ignoring 41 genes [ALDH2, APOE, BASP1, CACHD1, CCDC144NL-AS1, CEMIP2]\n",
      "\n",
      "Ignoring 45 genes [ALDH2, APOE, BASP1, CACHD1, CCDC144NL-AS1, CEMIP2]\n",
      "\n",
      "Ignoring 42 genes [ALDH2, APOE, BASP1, CACHD1, CCDC144NL-AS1, CEMIP2]\n",
      "\n"
     ]
    },
    {
     "name": "stdout",
     "output_type": "stream",
     "text": [
      "[1] \"$$$$$$$$$$$$$$$$$$$$$$$$$$$$$$$$$$$$$$$$$$$$$$$$$$$$$$$$$$$$$$$$$$$$$$$$$$$$$$$\"\n",
      "[1] \"All_DEGs\"\n"
     ]
    },
    {
     "name": "stderr",
     "output_type": "stream",
     "text": [
      "Ignoring 99 genes [ACTA2, ALDH2, APOE, ARL2, ATP1A2, BASP1]\n",
      "\n",
      "Ignoring 101 genes [ACTA2, ALDH2, APOE, ARL2, ATP1A2, BASP1]\n",
      "\n",
      "Ignoring 100 genes [ACTA2, ALDH2, APOE, ARL2, ATP1A2, BASP1]\n",
      "\n",
      "Ignoring 108 genes [ACTA2, ALDH2, APOE, ARL2, ATP1A2, BASP1]\n",
      "\n",
      "Ignoring 101 genes [ACTA2, ALDH2, APOE, ARL2, ATP1A2, BASP1]\n",
      "\n"
     ]
    },
    {
     "name": "stdout",
     "output_type": "stream",
     "text": [
      "[1] \"$$$$$$$$$$$$$$$$$$$$$$$$$$$$$$$$$$$$$$$$$$$$$$$$$$$$$$$$$$$$$$$$$$$$$$$$$$$$$$$\"\n",
      "[1] \"Core TFs (Disease or Phase)\"\n"
     ]
    },
    {
     "name": "stderr",
     "output_type": "stream",
     "text": [
      "Ignoring 67 genes [ARNT2, CHD1, EP300, GLIS1, GTF2I, KLF16]\n",
      "\n",
      "Ignoring 73 genes [ARNT2, CHD1, EGR3, EP300, GLIS1, GTF2I]\n",
      "\n",
      "Ignoring 70 genes [ARNT2, CHD1, EP300, GLIS1, GTF2I, KLF16]\n",
      "\n",
      "Ignoring 72 genes [ARNT2, CHD1, EGR3, EP300, GLIS1, GTF2I]\n",
      "\n",
      "Ignoring 68 genes [ARNT2, CHD1, EP300, GLIS1, GTF2I, KLF16]\n",
      "\n"
     ]
    },
    {
     "name": "stdout",
     "output_type": "stream",
     "text": [
      "[1] \"$$$$$$$$$$$$$$$$$$$$$$$$$$$$$$$$$$$$$$$$$$$$$$$$$$$$$$$$$$$$$$$$$$$$$$$$$$$$$$$\"\n",
      "[1] \"All TFs tested\"\n"
     ]
    },
    {
     "name": "stderr",
     "output_type": "stream",
     "text": [
      "Ignoring 183 genes [SOX6, TBX15, LHX3, TCF7, ZFHX3, HIVEP1]\n",
      "\n",
      "Ignoring 205 genes [LMO2, SIN3A, MYBL2, ARID5B, GFI1B, FEZF1]\n",
      "\n",
      "Ignoring 180 genes [SIN3A, OSR1, MYBL2, SP9, AHRR, SOX17]\n",
      "\n",
      "Ignoring 207 genes [SIN3A, OSR1, SP9, AHRR, SOX17, GFI1B]\n",
      "\n",
      "Ignoring 179 genes [SIN3A, OSR1, MYBL2, AHRR, SOX17, GFI1B]\n",
      "\n"
     ]
    },
    {
     "name": "stdout",
     "output_type": "stream",
     "text": [
      "[1] \"$$$$$$$$$$$$$$$$$$$$$$$$$$$$$$$$$$$$$$$$$$$$$$$$$$$$$$$$$$$$$$$$$$$$$$$$$$$$$$$\"\n",
      "[1] \"Disease-linked\"\n"
     ]
    },
    {
     "name": "stderr",
     "output_type": "stream",
     "text": [
      "Ignoring 2211 genes [TSEN34, RAB18, CASK, CENPE, KIF14, QARS]\n",
      "\n",
      "Ignoring 2208 genes [TSEN34, RAB18, CASK, CENPE, KIF14, QARS]\n",
      "\n",
      "Ignoring 2202 genes [TSEN34, RAB18, CASK, CENPE, KIF14, QARS]\n",
      "\n",
      "Ignoring 2211 genes [TSEN34, RAB18, CASK, CENPE, KIF14, QARS]\n",
      "\n",
      "Ignoring 2200 genes [TSEN34, RAB18, CASK, CENPE, KIF14, QARS]\n",
      "\n"
     ]
    },
    {
     "name": "stdout",
     "output_type": "stream",
     "text": [
      "[1] \"$$$$$$$$$$$$$$$$$$$$$$$$$$$$$$$$$$$$$$$$$$$$$$$$$$$$$$$$$$$$$$$$$$$$$$$$$$$$$$$\"\n",
      "[1] \"Phase core TF or Disease-linked\"\n"
     ]
    },
    {
     "name": "stderr",
     "output_type": "stream",
     "text": [
      "Ignoring 2255 genes [TSEN34, RAB18, CASK, CENPE, KIF14, QARS]\n",
      "\n",
      "Ignoring 2255 genes [TSEN34, RAB18, CASK, CENPE, KIF14, QARS]\n",
      "\n",
      "Ignoring 2250 genes [TSEN34, RAB18, CASK, CENPE, KIF14, QARS]\n",
      "\n",
      "Ignoring 2258 genes [TSEN34, RAB18, CASK, CENPE, KIF14, QARS]\n",
      "\n",
      "Ignoring 2248 genes [TSEN34, RAB18, CASK, CENPE, KIF14, QARS]\n",
      "\n"
     ]
    },
    {
     "name": "stdout",
     "output_type": "stream",
     "text": [
      "[1] \"$$$$$$$$$$$$$$$$$$$$$$$$$$$$$$$$$$$$$$$$$$$$$$$$$$$$$$$$$$$$$$$$$$$$$$$$$$$$$$$\"\n",
      "[1] \"Regulons\"\n"
     ]
    },
    {
     "name": "stderr",
     "output_type": "stream",
     "text": [
      "Ignoring 3711 genes [SKI, CCND2, CENPF, CRB2, FAM20C, FGFR3]\n",
      "\n",
      "Ignoring 3712 genes [SKI, CCND2, CENPF, CRB2, FAM20C, FGFR3]\n",
      "\n",
      "Ignoring 3700 genes [SKI, CCND2, CENPF, CRB2, FAM20C, FGFR3]\n",
      "\n",
      "Ignoring 3721 genes [SKI, CCND2, CENPF, CRB2, FAM20C, FGFR3]\n",
      "\n",
      "Ignoring 3696 genes [SKI, CCND2, CENPF, CRB2, FAM20C, FGFR3]\n",
      "\n"
     ]
    },
    {
     "name": "stdout",
     "output_type": "stream",
     "text": [
      "[1] \"$$$$$$$$$$$$$$$$$$$$$$$$$$$$$$$$$$$$$$$$$$$$$$$$$$$$$$$$$$$$$$$$$$$$$$$$$$$$$$$\"\n",
      "[1] \"$$$$$$$$$$$$$$$$$$$$$$$$$$$$$$$$$$$$$$$$$$$$$$$$$$$$$$$$$$$$$$$$$$$$$$$$$$$$$$$\"\n",
      "[1] \"sort by ASD\"\n",
      "[1] \"$$$$$$$$$$$$$$$$$$$$$$$$$$$$$$$$$$$$$$$$$$$$$$$$$$$$$$$$$$$$$$$$$$$$$$$$$$$$$$$\"\n",
      "[1] \"DEGs: Up in ASD\"\n"
     ]
    },
    {
     "name": "stderr",
     "output_type": "stream",
     "text": [
      "Ignoring 65 genes [ACTA2, ARL2, ATP1A2, C4orf48, CARHSP1, CCK]\n",
      "\n",
      "Ignoring 65 genes [ACTA2, ARL2, ATP1A2, C4orf48, CARHSP1, CCK]\n",
      "\n",
      "Ignoring 65 genes [ACTA2, ARL2, ATP1A2, C4orf48, CARHSP1, CCK]\n",
      "\n",
      "Ignoring 69 genes [ACTA2, ARL2, ATP1A2, C4orf48, CARHSP1, CCK]\n",
      "\n",
      "Ignoring 65 genes [ACTA2, ARL2, ATP1A2, C4orf48, CARHSP1, CCK]\n",
      "\n"
     ]
    },
    {
     "name": "stdout",
     "output_type": "stream",
     "text": [
      "[1] \"$$$$$$$$$$$$$$$$$$$$$$$$$$$$$$$$$$$$$$$$$$$$$$$$$$$$$$$$$$$$$$$$$$$$$$$$$$$$$$$\"\n",
      "[1] \"DEGs: Up in Ctrl\"\n"
     ]
    },
    {
     "name": "stderr",
     "output_type": "stream",
     "text": [
      "Ignoring 40 genes [ALDH2, APOE, BASP1, CACHD1, CCDC144NL-AS1, CEMIP2]\n",
      "\n",
      "Ignoring 42 genes [ALDH2, APOE, BASP1, CACHD1, CCDC144NL-AS1, CEMIP2]\n",
      "\n",
      "Ignoring 41 genes [ALDH2, APOE, BASP1, CACHD1, CCDC144NL-AS1, CEMIP2]\n",
      "\n",
      "Ignoring 45 genes [ALDH2, APOE, BASP1, CACHD1, CCDC144NL-AS1, CEMIP2]\n",
      "\n",
      "Ignoring 42 genes [ALDH2, APOE, BASP1, CACHD1, CCDC144NL-AS1, CEMIP2]\n",
      "\n"
     ]
    },
    {
     "name": "stdout",
     "output_type": "stream",
     "text": [
      "[1] \"$$$$$$$$$$$$$$$$$$$$$$$$$$$$$$$$$$$$$$$$$$$$$$$$$$$$$$$$$$$$$$$$$$$$$$$$$$$$$$$\"\n",
      "[1] \"All_DEGs\"\n"
     ]
    },
    {
     "name": "stderr",
     "output_type": "stream",
     "text": [
      "Ignoring 99 genes [ACTA2, ALDH2, APOE, ARL2, ATP1A2, BASP1]\n",
      "\n",
      "Ignoring 101 genes [ACTA2, ALDH2, APOE, ARL2, ATP1A2, BASP1]\n",
      "\n",
      "Ignoring 100 genes [ACTA2, ALDH2, APOE, ARL2, ATP1A2, BASP1]\n",
      "\n",
      "Ignoring 108 genes [ACTA2, ALDH2, APOE, ARL2, ATP1A2, BASP1]\n",
      "\n",
      "Ignoring 101 genes [ACTA2, ALDH2, APOE, ARL2, ATP1A2, BASP1]\n",
      "\n"
     ]
    },
    {
     "name": "stdout",
     "output_type": "stream",
     "text": [
      "[1] \"$$$$$$$$$$$$$$$$$$$$$$$$$$$$$$$$$$$$$$$$$$$$$$$$$$$$$$$$$$$$$$$$$$$$$$$$$$$$$$$\"\n",
      "[1] \"Core TFs (Disease or Phase)\"\n"
     ]
    },
    {
     "name": "stderr",
     "output_type": "stream",
     "text": [
      "Ignoring 67 genes [ARNT2, CHD1, EP300, GLIS1, GTF2I, KLF16]\n",
      "\n",
      "Ignoring 73 genes [ARNT2, CHD1, EGR3, EP300, GLIS1, GTF2I]\n",
      "\n",
      "Ignoring 70 genes [ARNT2, CHD1, EP300, GLIS1, GTF2I, KLF16]\n",
      "\n",
      "Ignoring 72 genes [ARNT2, CHD1, EGR3, EP300, GLIS1, GTF2I]\n",
      "\n",
      "Ignoring 68 genes [ARNT2, CHD1, EP300, GLIS1, GTF2I, KLF16]\n",
      "\n"
     ]
    },
    {
     "name": "stdout",
     "output_type": "stream",
     "text": [
      "[1] \"$$$$$$$$$$$$$$$$$$$$$$$$$$$$$$$$$$$$$$$$$$$$$$$$$$$$$$$$$$$$$$$$$$$$$$$$$$$$$$$\"\n",
      "[1] \"All TFs tested\"\n"
     ]
    },
    {
     "name": "stderr",
     "output_type": "stream",
     "text": [
      "Ignoring 183 genes [SOX6, TBX15, LHX3, TCF7, ZFHX3, HIVEP1]\n",
      "\n",
      "Ignoring 205 genes [LMO2, SIN3A, MYBL2, ARID5B, GFI1B, FEZF1]\n",
      "\n",
      "Ignoring 180 genes [SIN3A, OSR1, MYBL2, SP9, AHRR, SOX17]\n",
      "\n",
      "Ignoring 207 genes [SIN3A, OSR1, SP9, AHRR, SOX17, GFI1B]\n",
      "\n",
      "Ignoring 179 genes [SIN3A, OSR1, MYBL2, AHRR, SOX17, GFI1B]\n",
      "\n"
     ]
    },
    {
     "name": "stdout",
     "output_type": "stream",
     "text": [
      "[1] \"$$$$$$$$$$$$$$$$$$$$$$$$$$$$$$$$$$$$$$$$$$$$$$$$$$$$$$$$$$$$$$$$$$$$$$$$$$$$$$$\"\n",
      "[1] \"Disease-linked\"\n"
     ]
    },
    {
     "name": "stderr",
     "output_type": "stream",
     "text": [
      "Ignoring 2211 genes [TSEN34, RAB18, CASK, CENPE, KIF14, QARS]\n",
      "\n",
      "Ignoring 2208 genes [TSEN34, RAB18, CASK, CENPE, KIF14, QARS]\n",
      "\n",
      "Ignoring 2202 genes [TSEN34, RAB18, CASK, CENPE, KIF14, QARS]\n",
      "\n",
      "Ignoring 2211 genes [TSEN34, RAB18, CASK, CENPE, KIF14, QARS]\n",
      "\n",
      "Ignoring 2200 genes [TSEN34, RAB18, CASK, CENPE, KIF14, QARS]\n",
      "\n"
     ]
    },
    {
     "name": "stdout",
     "output_type": "stream",
     "text": [
      "[1] \"$$$$$$$$$$$$$$$$$$$$$$$$$$$$$$$$$$$$$$$$$$$$$$$$$$$$$$$$$$$$$$$$$$$$$$$$$$$$$$$\"\n",
      "[1] \"Phase core TF or Disease-linked\"\n"
     ]
    },
    {
     "name": "stderr",
     "output_type": "stream",
     "text": [
      "Ignoring 2255 genes [TSEN34, RAB18, CASK, CENPE, KIF14, QARS]\n",
      "\n",
      "Ignoring 2255 genes [TSEN34, RAB18, CASK, CENPE, KIF14, QARS]\n",
      "\n",
      "Ignoring 2250 genes [TSEN34, RAB18, CASK, CENPE, KIF14, QARS]\n",
      "\n",
      "Ignoring 2258 genes [TSEN34, RAB18, CASK, CENPE, KIF14, QARS]\n",
      "\n",
      "Ignoring 2248 genes [TSEN34, RAB18, CASK, CENPE, KIF14, QARS]\n",
      "\n"
     ]
    },
    {
     "name": "stdout",
     "output_type": "stream",
     "text": [
      "[1] \"$$$$$$$$$$$$$$$$$$$$$$$$$$$$$$$$$$$$$$$$$$$$$$$$$$$$$$$$$$$$$$$$$$$$$$$$$$$$$$$\"\n",
      "[1] \"Regulons\"\n"
     ]
    },
    {
     "name": "stderr",
     "output_type": "stream",
     "text": [
      "Ignoring 3711 genes [SKI, CCND2, CENPF, CRB2, FAM20C, FGFR3]\n",
      "\n",
      "Ignoring 3712 genes [SKI, CCND2, CENPF, CRB2, FAM20C, FGFR3]\n",
      "\n",
      "Ignoring 3700 genes [SKI, CCND2, CENPF, CRB2, FAM20C, FGFR3]\n",
      "\n",
      "Ignoring 3721 genes [SKI, CCND2, CENPF, CRB2, FAM20C, FGFR3]\n",
      "\n",
      "Ignoring 3696 genes [SKI, CCND2, CENPF, CRB2, FAM20C, FGFR3]\n",
      "\n"
     ]
    },
    {
     "name": "stdout",
     "output_type": "stream",
     "text": [
      "[1] \"$$$$$$$$$$$$$$$$$$$$$$$$$$$$$$$$$$$$$$$$$$$$$$$$$$$$$$$$$$$$$$$$$$$$$$$$$$$$$$$\"\n",
      "[1] \"$$$$$$$$$$$$$$$$$$$$$$$$$$$$$$$$$$$$$$$$$$$$$$$$$$$$$$$$$$$$$$$$$$$$$$$$$$$$$$$\"\n",
      "[1] \"cluster by ASD\"\n",
      "[1] \"$$$$$$$$$$$$$$$$$$$$$$$$$$$$$$$$$$$$$$$$$$$$$$$$$$$$$$$$$$$$$$$$$$$$$$$$$$$$$$$\"\n",
      "[1] \"DEGs: Up in ASD\"\n"
     ]
    },
    {
     "name": "stderr",
     "output_type": "stream",
     "text": [
      "Ignoring 65 genes [ACTA2, ARL2, ATP1A2, C4orf48, CARHSP1, CCK]\n",
      "\n",
      "Ignoring 65 genes [ACTA2, ARL2, ATP1A2, C4orf48, CARHSP1, CCK]\n",
      "\n",
      "Ignoring 65 genes [ACTA2, ARL2, ATP1A2, C4orf48, CARHSP1, CCK]\n",
      "\n",
      "Ignoring 69 genes [ACTA2, ARL2, ATP1A2, C4orf48, CARHSP1, CCK]\n",
      "\n",
      "Ignoring 65 genes [ACTA2, ARL2, ATP1A2, C4orf48, CARHSP1, CCK]\n",
      "\n"
     ]
    },
    {
     "name": "stdout",
     "output_type": "stream",
     "text": [
      "[1] \"$$$$$$$$$$$$$$$$$$$$$$$$$$$$$$$$$$$$$$$$$$$$$$$$$$$$$$$$$$$$$$$$$$$$$$$$$$$$$$$\"\n",
      "[1] \"DEGs: Up in Ctrl\"\n"
     ]
    },
    {
     "name": "stderr",
     "output_type": "stream",
     "text": [
      "Ignoring 40 genes [ALDH2, APOE, BASP1, CACHD1, CCDC144NL-AS1, CEMIP2]\n",
      "\n",
      "Ignoring 42 genes [ALDH2, APOE, BASP1, CACHD1, CCDC144NL-AS1, CEMIP2]\n",
      "\n",
      "Ignoring 41 genes [ALDH2, APOE, BASP1, CACHD1, CCDC144NL-AS1, CEMIP2]\n",
      "\n",
      "Ignoring 45 genes [ALDH2, APOE, BASP1, CACHD1, CCDC144NL-AS1, CEMIP2]\n",
      "\n",
      "Ignoring 42 genes [ALDH2, APOE, BASP1, CACHD1, CCDC144NL-AS1, CEMIP2]\n",
      "\n"
     ]
    },
    {
     "name": "stdout",
     "output_type": "stream",
     "text": [
      "[1] \"$$$$$$$$$$$$$$$$$$$$$$$$$$$$$$$$$$$$$$$$$$$$$$$$$$$$$$$$$$$$$$$$$$$$$$$$$$$$$$$\"\n",
      "[1] \"All_DEGs\"\n"
     ]
    },
    {
     "name": "stderr",
     "output_type": "stream",
     "text": [
      "Ignoring 99 genes [ACTA2, ALDH2, APOE, ARL2, ATP1A2, BASP1]\n",
      "\n",
      "Ignoring 101 genes [ACTA2, ALDH2, APOE, ARL2, ATP1A2, BASP1]\n",
      "\n",
      "Ignoring 100 genes [ACTA2, ALDH2, APOE, ARL2, ATP1A2, BASP1]\n",
      "\n",
      "Ignoring 108 genes [ACTA2, ALDH2, APOE, ARL2, ATP1A2, BASP1]\n",
      "\n",
      "Ignoring 101 genes [ACTA2, ALDH2, APOE, ARL2, ATP1A2, BASP1]\n",
      "\n"
     ]
    },
    {
     "name": "stdout",
     "output_type": "stream",
     "text": [
      "[1] \"$$$$$$$$$$$$$$$$$$$$$$$$$$$$$$$$$$$$$$$$$$$$$$$$$$$$$$$$$$$$$$$$$$$$$$$$$$$$$$$\"\n",
      "[1] \"Core TFs (Disease or Phase)\"\n"
     ]
    },
    {
     "name": "stderr",
     "output_type": "stream",
     "text": [
      "Ignoring 67 genes [ARNT2, CHD1, EP300, GLIS1, GTF2I, KLF16]\n",
      "\n",
      "Ignoring 73 genes [ARNT2, CHD1, EGR3, EP300, GLIS1, GTF2I]\n",
      "\n",
      "Ignoring 70 genes [ARNT2, CHD1, EP300, GLIS1, GTF2I, KLF16]\n",
      "\n",
      "Ignoring 72 genes [ARNT2, CHD1, EGR3, EP300, GLIS1, GTF2I]\n",
      "\n",
      "Ignoring 68 genes [ARNT2, CHD1, EP300, GLIS1, GTF2I, KLF16]\n",
      "\n"
     ]
    },
    {
     "name": "stdout",
     "output_type": "stream",
     "text": [
      "[1] \"$$$$$$$$$$$$$$$$$$$$$$$$$$$$$$$$$$$$$$$$$$$$$$$$$$$$$$$$$$$$$$$$$$$$$$$$$$$$$$$\"\n",
      "[1] \"All TFs tested\"\n"
     ]
    },
    {
     "name": "stderr",
     "output_type": "stream",
     "text": [
      "Ignoring 183 genes [SOX6, TBX15, LHX3, TCF7, ZFHX3, HIVEP1]\n",
      "\n",
      "Ignoring 205 genes [LMO2, SIN3A, MYBL2, ARID5B, GFI1B, FEZF1]\n",
      "\n",
      "Ignoring 180 genes [SIN3A, OSR1, MYBL2, SP9, AHRR, SOX17]\n",
      "\n",
      "Ignoring 207 genes [SIN3A, OSR1, SP9, AHRR, SOX17, GFI1B]\n",
      "\n",
      "Ignoring 179 genes [SIN3A, OSR1, MYBL2, AHRR, SOX17, GFI1B]\n",
      "\n"
     ]
    },
    {
     "name": "stdout",
     "output_type": "stream",
     "text": [
      "[1] \"$$$$$$$$$$$$$$$$$$$$$$$$$$$$$$$$$$$$$$$$$$$$$$$$$$$$$$$$$$$$$$$$$$$$$$$$$$$$$$$\"\n",
      "[1] \"Disease-linked\"\n"
     ]
    },
    {
     "name": "stderr",
     "output_type": "stream",
     "text": [
      "Ignoring 2211 genes [TSEN34, RAB18, CASK, CENPE, KIF14, QARS]\n",
      "\n",
      "Ignoring 2208 genes [TSEN34, RAB18, CASK, CENPE, KIF14, QARS]\n",
      "\n",
      "Ignoring 2202 genes [TSEN34, RAB18, CASK, CENPE, KIF14, QARS]\n",
      "\n",
      "Ignoring 2211 genes [TSEN34, RAB18, CASK, CENPE, KIF14, QARS]\n",
      "\n",
      "Ignoring 2200 genes [TSEN34, RAB18, CASK, CENPE, KIF14, QARS]\n",
      "\n"
     ]
    },
    {
     "name": "stdout",
     "output_type": "stream",
     "text": [
      "[1] \"$$$$$$$$$$$$$$$$$$$$$$$$$$$$$$$$$$$$$$$$$$$$$$$$$$$$$$$$$$$$$$$$$$$$$$$$$$$$$$$\"\n",
      "[1] \"Phase core TF or Disease-linked\"\n"
     ]
    },
    {
     "name": "stderr",
     "output_type": "stream",
     "text": [
      "Ignoring 2255 genes [TSEN34, RAB18, CASK, CENPE, KIF14, QARS]\n",
      "\n",
      "Ignoring 2255 genes [TSEN34, RAB18, CASK, CENPE, KIF14, QARS]\n",
      "\n",
      "Ignoring 2250 genes [TSEN34, RAB18, CASK, CENPE, KIF14, QARS]\n",
      "\n",
      "Ignoring 2258 genes [TSEN34, RAB18, CASK, CENPE, KIF14, QARS]\n",
      "\n",
      "Ignoring 2248 genes [TSEN34, RAB18, CASK, CENPE, KIF14, QARS]\n",
      "\n"
     ]
    },
    {
     "name": "stdout",
     "output_type": "stream",
     "text": [
      "[1] \"$$$$$$$$$$$$$$$$$$$$$$$$$$$$$$$$$$$$$$$$$$$$$$$$$$$$$$$$$$$$$$$$$$$$$$$$$$$$$$$\"\n",
      "[1] \"Regulons\"\n"
     ]
    },
    {
     "name": "stderr",
     "output_type": "stream",
     "text": [
      "Ignoring 3711 genes [SKI, CCND2, CENPF, CRB2, FAM20C, FGFR3]\n",
      "\n",
      "Ignoring 3712 genes [SKI, CCND2, CENPF, CRB2, FAM20C, FGFR3]\n",
      "\n",
      "Ignoring 3700 genes [SKI, CCND2, CENPF, CRB2, FAM20C, FGFR3]\n",
      "\n",
      "Ignoring 3721 genes [SKI, CCND2, CENPF, CRB2, FAM20C, FGFR3]\n",
      "\n",
      "Ignoring 3696 genes [SKI, CCND2, CENPF, CRB2, FAM20C, FGFR3]\n",
      "\n"
     ]
    }
   ],
   "source": [
    "for (sort.by in names(sorting.funs)){\n",
    "    print('$$$$$$$$$$$$$$$$$$$$$$$$$$$$$$$$$$$$$$$$$$$$$$$$$$$$$$$$$$$$$$$$$$$$$$$$$$$$$$$')\n",
    "    print('$$$$$$$$$$$$$$$$$$$$$$$$$$$$$$$$$$$$$$$$$$$$$$$$$$$$$$$$$$$$$$$$$$$$$$$$$$$$$$$')\n",
    "    print(sort.by)\n",
    "    sort.fn <- sorting.funs[[sort.by]]\n",
    "    \n",
    "    for (gset.name in names(plot.genesets)){\n",
    "        print('$$$$$$$$$$$$$$$$$$$$$$$$$$$$$$$$$$$$$$$$$$$$$$$$$$$$$$$$$$$$$$$$$$$$$$$$$$$$$$$')\n",
    "        print(gset.name)\n",
    "        geneset <- plot.genesets[[gset.name]]\n",
    "        \n",
    "        htmps.samples <- list()\n",
    "        p.dims <- c(0,0)\n",
    "        \n",
    "        for (this.sample in names(dsmats)){\n",
    "            this.ds <- dsmats[[this.sample]]$ds\n",
    "            this.mat <- sort.fn(filter_geneset(dsmats[[this.sample]]$mat, geneset = geneset))\n",
    "            \n",
    "            htmps <- do_heatmaps(this.ds, this.mat)\n",
    "            htmp <- combine_heatmaps(htmps)\n",
    "            htmps.samples[[this.sample]] <- htmp\n",
    "            \n",
    "            this.dims <- get_dims(htmp)\n",
    "            p.dims[1] <- max(p.dims[1], this.dims[1])\n",
    "            p.dims[2] <- max(p.dims[2], this.dims[2])     \n",
    "        }\n",
    "        \n",
    "        plot.fname <- glue::glue('{out.folder}{sort.by}/{make.names(gset.name)}.pdf')\n",
    "        dir.create(dirname(plot.fname), recursive = T)\n",
    "        \n",
    "        cairo_pdf(plot.fname, onefile = T, width = p.dims[1], height = p.dims[2])\n",
    "        for (this.sample in names(htmps.samples)){\n",
    "            grid.newpage()\n",
    "            draw(htmps.samples[[this.sample]], \n",
    "                 column_title=glue::glue('{this.sample} ({sort.by})\\nKnock-out simulation results of {gset.name}'))\n",
    "        }\n",
    "        dev.off()\n",
    "        # stop()\n",
    "    }\n",
    "}"
   ]
  },
  {
   "cell_type": "code",
   "execution_count": null,
   "id": "de8d4549-b400-4aab-b1ef-55b82d322dca",
   "metadata": {},
   "outputs": [],
   "source": []
  },
  {
   "cell_type": "code",
   "execution_count": null,
   "id": "68b71f68-c881-4915-ba1b-ff1600090259",
   "metadata": {},
   "outputs": [],
   "source": []
  },
  {
   "cell_type": "code",
   "execution_count": null,
   "id": "31bb0dbb-b281-48ad-8fed-b3f382681b27",
   "metadata": {},
   "outputs": [],
   "source": []
  },
  {
   "cell_type": "code",
   "execution_count": null,
   "id": "e701a5cc-9833-4f9d-927e-d3efb2597dc0",
   "metadata": {},
   "outputs": [],
   "source": []
  },
  {
   "cell_type": "code",
   "execution_count": null,
   "id": "6ccec5d0-3c7a-4847-8be8-d291f57e36c9",
   "metadata": {},
   "outputs": [],
   "source": []
  },
  {
   "cell_type": "code",
   "execution_count": null,
   "id": "0872d229-4c2b-4159-b776-bcb319420069",
   "metadata": {},
   "outputs": [],
   "source": []
  },
  {
   "cell_type": "code",
   "execution_count": null,
   "id": "f4814411-7c9c-44e8-8ff8-b2eca3934c4f",
   "metadata": {},
   "outputs": [],
   "source": []
  }
 ],
 "metadata": {
  "kernelspec": {
   "display_name": "R 4.2.1 biobox",
   "language": "R",
   "name": "r_biobox"
  },
  "language_info": {
   "codemirror_mode": "r",
   "file_extension": ".r",
   "mimetype": "text/x-r-source",
   "name": "R",
   "pygments_lexer": "r",
   "version": "4.2.1"
  }
 },
 "nbformat": 4,
 "nbformat_minor": 5
}
