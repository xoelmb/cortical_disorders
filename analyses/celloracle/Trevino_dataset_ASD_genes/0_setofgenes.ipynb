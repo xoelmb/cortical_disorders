{
 "cells": [
  {
   "cell_type": "code",
   "execution_count": 1,
   "id": "a8e7b55e-54b3-41b4-96c3-9442e97d6c43",
   "metadata": {},
   "outputs": [],
   "source": [
    "import pandas as pd"
   ]
  },
  {
   "cell_type": "markdown",
   "id": "c8736269-51b3-4240-a61a-b9568cbc140d",
   "metadata": {
    "tags": []
   },
   "source": [
    "### **TRANSCRIPTION FACTORS**"
   ]
  },
  {
   "cell_type": "code",
   "execution_count": 2,
   "id": "c0039232-b3c3-4939-9baa-696da9262e12",
   "metadata": {},
   "outputs": [
    {
     "data": {
      "text/plain": [
       "array(['TFAP2A', 'TFAP2B', 'TFAP2C', ..., 'TOPORS', 'TSC22D1', 'XPA'],\n",
       "      dtype=object)"
      ]
     },
     "execution_count": 2,
     "metadata": {},
     "output_type": "execute_result"
    }
   ],
   "source": [
    "tfs_df = pd.read_csv('~/codebases/cortical_disorders2/raw/HumanTFs/DatabaseExtract_v_1.01.csv', index_col=0)\n",
    "tfs_df = tfs_df.loc[tfs_df['Is TF?'].str.contains('Yes'), :]\n",
    "tf_genes = tfs_df['HGNC symbol'].str.replace(' ', '').unique()\n",
    "\n",
    "tf_genes"
   ]
  },
  {
   "cell_type": "markdown",
   "id": "3ed3c6a1-7e88-4ac7-a813-f1f3c47e9332",
   "metadata": {
    "tags": []
   },
   "source": [
    "### **DE genes**"
   ]
  },
  {
   "cell_type": "raw",
   "id": "a2c3685c-4f3d-4aa8-81d2-831cdcbc1c2c",
   "metadata": {},
   "source": [
    "markers = pd.read_excel('/users/genomics/xoel/codebases/ASD_IPSC_sept/results/selected_markers/ASD_vs_Ctrl_markers.Annotated.Filter_filter.2of3.over.2of3.xlsx', sheet_name=None)"
   ]
  },
  {
   "cell_type": "raw",
   "id": "bc98d59d-e00d-4b6c-8a47-ef7a8e4b3e51",
   "metadata": {},
   "source": [
    "markers.keys()"
   ]
  },
  {
   "cell_type": "markdown",
   "id": "ac20c61e-e320-40e3-9277-0cde843352bc",
   "metadata": {},
   "source": [
    "### Using pseudobulk markers"
   ]
  },
  {
   "cell_type": "raw",
   "id": "e2aec218-9b31-44c9-a4f9-666ebb690ab8",
   "metadata": {},
   "source": [
    "mdf = markers['DESeq2.RGe.Filt']\n",
    "\n",
    "de_tfs = mdf['gene'][mdf['filter.2of3.over.2of3']&mdf['gene'].isin(tf_genes)].unique()"
   ]
  },
  {
   "cell_type": "raw",
   "id": "173a795b-6e9d-4b73-b371-69ac40686f76",
   "metadata": {},
   "source": [
    "with open('./tfs.txt', 'wt') as f:\n",
    "    f.writelines('\\n'.join(de_tfs.tolist()))\n"
   ]
  },
  {
   "cell_type": "markdown",
   "id": "0a6a3b64-7f78-48ce-aa6c-c95983d117fa",
   "metadata": {},
   "source": [
    "### Using single cell markers"
   ]
  },
  {
   "cell_type": "raw",
   "id": "b6bec3fc-13d8-4d6c-97a1-4589d9492ae2",
   "metadata": {},
   "source": [
    "tfs = markers['Seurat.All.TFs.Filtered'].gene.unique()\n",
    "\n",
    "with open('./tfs.txt', 'wt') as f:\n",
    "    f.writelines('\\n'.join(tfs.tolist()))\n",
    "    "
   ]
  },
  {
   "cell_type": "markdown",
   "id": "56973d91-37e8-40f4-8bbf-de18f1362fea",
   "metadata": {},
   "source": [
    "### Using der donor markers"
   ]
  },
  {
   "cell_type": "code",
   "execution_count": 5,
   "id": "2fa3313d-fbc2-4457-b9a1-d7d1e3ad80b4",
   "metadata": {},
   "outputs": [
    {
     "name": "stderr",
     "output_type": "stream",
     "text": [
      "/users/genomics/xoel/venvs/co_0.12/lib/python3.8/site-packages/IPython/core/interactiveshell.py:3460: DtypeWarning: Columns (1) have mixed types.Specify dtype option on import or set low_memory=False.\n",
      "  exec(code_obj, self.user_global_ns, self.user_ns)\n"
     ]
    }
   ],
   "source": [
    "int_levels = ['D8_ASD_375&D8_ASD_384&D8_ASD_494', 'D8_ASD_375&D8_ASD_384', 'D8_ASD_375&D8_ASD_494', 'D8_ASD_384&D8_ASD_494', 'D8_ASD_375', 'D8_ASD_384', 'D8_ASD_494']\n",
    "markers_donors = pd.read_csv('/users/genomics/xoel/codebases/ASD_IPSC_sept/results/selected_markers/markers_per_donor.nohighmito.with_filters_and_crossed.csv', index_col=0)"
   ]
  },
  {
   "cell_type": "code",
   "execution_count": 29,
   "id": "18e35eb6-db40-41a1-8faf-586042459d1a",
   "metadata": {},
   "outputs": [
    {
     "data": {
      "text/plain": [
       "{'FEZF1',\n",
       " 'IRX3',\n",
       " 'JUND',\n",
       " 'NR2F1',\n",
       " 'NR2F2',\n",
       " 'PHOX2B',\n",
       " 'PITX2',\n",
       " 'POU3F1',\n",
       " 'RFX4',\n",
       " 'SOX2',\n",
       " 'ZNF22',\n",
       " 'ZNF703'}"
      ]
     },
     "execution_count": 29,
     "metadata": {},
     "output_type": "execute_result"
    }
   ],
   "source": [
    "genes_rge = sorted(markers_donors.loc[\n",
    "    markers_donors['gene.is.tf']&\n",
    "    (markers_donors['anno_cluster_fct']=='RG early')&\n",
    "    ~markers_donors['in.sex_chr']&\n",
    "    ~markers_donors['matching.donors'].isna()&\n",
    "    markers_donors['filter.over.max'],\n",
    "    :]['gene'].unique())\n",
    "genes_rge\n",
    "genes_all = sorted(markers_donors.loc[\n",
    "    markers_donors['gene.is.tf']&\n",
    "    ~markers_donors['in.sex_chr']&\n",
    "    ~markers_donors['matching.donors'].isna()&\n",
    "    markers_donors['filter.over.max'],\n",
    "    :]['gene'].unique())\n",
    "set(genes_all) - set(genes_rge) "
   ]
  },
  {
   "cell_type": "code",
   "execution_count": 31,
   "id": "5a3586fe-a065-449c-b45e-fd66b089689f",
   "metadata": {},
   "outputs": [],
   "source": [
    "with open('./tfs.txt', 'wt') as f:\n",
    "    f.writelines('\\n'.join(genes_all))\n",
    "    "
   ]
  },
  {
   "cell_type": "code",
   "execution_count": 32,
   "id": "a657e399-cabb-498d-b324-c9dd90f97b74",
   "metadata": {},
   "outputs": [],
   "source": [
    "with open('./tfs_rge.txt', 'wt') as f:\n",
    "    f.writelines('\\n'.join(genes_rge))\n",
    "    "
   ]
  },
  {
   "cell_type": "code",
   "execution_count": null,
   "id": "14f9c827-cf51-4208-b5dd-5469163fd96e",
   "metadata": {},
   "outputs": [],
   "source": []
  }
 ],
 "metadata": {
  "kernelspec": {
   "display_name": "CellOracle 0.12 (Python 3.8.6)",
   "language": "python",
   "name": "co_0.12"
  },
  "language_info": {
   "codemirror_mode": {
    "name": "ipython",
    "version": 3
   },
   "file_extension": ".py",
   "mimetype": "text/x-python",
   "name": "python",
   "nbconvert_exporter": "python",
   "pygments_lexer": "ipython3",
   "version": "3.8.10"
  }
 },
 "nbformat": 4,
 "nbformat_minor": 5
}
