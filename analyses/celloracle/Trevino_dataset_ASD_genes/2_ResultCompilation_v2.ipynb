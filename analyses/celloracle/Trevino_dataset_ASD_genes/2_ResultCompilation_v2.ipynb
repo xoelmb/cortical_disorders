{
 "cells": [
  {
   "cell_type": "code",
   "execution_count": 1,
   "id": "c6c871e7-265b-4204-9d15-1b5b05cd9345",
   "metadata": {},
   "outputs": [],
   "source": [
    "import os"
   ]
  },
  {
   "cell_type": "code",
   "execution_count": 2,
   "id": "1bf782f5-27c2-4e4e-82c7-c7fc7e9abc51",
   "metadata": {},
   "outputs": [],
   "source": [
    "import pandas as pd\n",
    "import numpy as np\n",
    "from tqdm.notebook import tqdm"
   ]
  },
  {
   "cell_type": "code",
   "execution_count": 3,
   "id": "57906242-6d25-44cc-ba39-d5636ad8de22",
   "metadata": {},
   "outputs": [],
   "source": [
    "resultsdir = '/users/genomics/xoel/codebases/co_new/results_foxg1/'\n",
    "os.makedirs(resultsdir, exist_ok=True)\n",
    "os.chdir(resultsdir)"
   ]
  },
  {
   "cell_type": "code",
   "execution_count": 4,
   "id": "ceb959e9-cbe9-4011-864f-972420ea0859",
   "metadata": {},
   "outputs": [],
   "source": [
    "selected_samples = ['RGCmaturation',\n",
    "                    'NeuralPCW16',\n",
    "                    'NeuralPCW20',\n",
    "                    'NeuralPCW21',\n",
    "                    'NeuralPCW24',\n",
    "                    'Gliogenesis']"
   ]
  },
  {
   "cell_type": "code",
   "execution_count": 5,
   "id": "7f91dfdd-f6d9-4162-9146-5275f4634cd7",
   "metadata": {},
   "outputs": [
    {
     "data": {
      "text/plain": [
       "{'Gliogenesis': '/users/genomics/xoel/codebases/co_new/data_foxg1/Gliogenesis/',\n",
       " 'NeuralPCW16': '/users/genomics/xoel/codebases/co_new/data_foxg1/NeuralPCW16/',\n",
       " 'NeuralPCW20': '/users/genomics/xoel/codebases/co_new/data_foxg1/NeuralPCW20/',\n",
       " 'NeuralPCW21': '/users/genomics/xoel/codebases/co_new/data_foxg1/NeuralPCW21/',\n",
       " 'NeuralPCW24': '/users/genomics/xoel/codebases/co_new/data_foxg1/NeuralPCW24/'}"
      ]
     },
     "execution_count": 5,
     "metadata": {},
     "output_type": "execute_result"
    }
   ],
   "source": [
    "datadir = '/users/genomics/xoel/codebases/co_new/data_foxg1/'\n",
    "dirlist = {item: datadir+item+'/' for item in sorted(os.listdir(datadir)) if os.path.isdir(os.path.join(datadir, item)) if item[0]!='.' if item in selected_samples}\n",
    "dirlist"
   ]
  },
  {
   "cell_type": "code",
   "execution_count": 6,
   "id": "4fae7675-1b18-4383-a27e-8e35cf1279b4",
   "metadata": {},
   "outputs": [
    {
     "data": {
      "text/plain": [
       "96"
      ]
     },
     "execution_count": 6,
     "metadata": {},
     "output_type": "execute_result"
    }
   ],
   "source": [
    "n_cores = int(os.getenv('SLURM_JOB_CPUS_PER_NODE') or 16)\n",
    "n_cores"
   ]
  },
  {
   "cell_type": "markdown",
   "id": "45a06588-3a86-41cc-8e86-838999e2ed1b",
   "metadata": {
    "tags": []
   },
   "source": [
    "# Load genes of interest"
   ]
  },
  {
   "cell_type": "markdown",
   "id": "5201e1ec-acc4-4f4f-bc5b-bdc2ed6119f2",
   "metadata": {
    "tags": []
   },
   "source": [
    "## Gene lists"
   ]
  },
  {
   "cell_type": "markdown",
   "id": "d7ab9025-d910-48f7-921d-2428099ec2cb",
   "metadata": {},
   "source": [
    "### Diseases"
   ]
  },
  {
   "cell_type": "code",
   "execution_count": 7,
   "id": "ec8071c2-ef45-472a-b218-c65c063b2591",
   "metadata": {},
   "outputs": [],
   "source": [
    "diseases = pd.read_csv('/users/genomics/xoel/codebases/cortical_disorders2/data/gene_disorder_associations.intersectionExpData.csv', index_col=0)\n",
    "diseases = diseases[diseases.sum(1).astype(bool)]\n",
    "\n",
    "disease_genes = diseases.index.unique().tolist()"
   ]
  },
  {
   "cell_type": "raw",
   "id": "c09e8220-8957-4701-ad29-f635bca22515",
   "metadata": {},
   "source": [
    "diseases = pd.read_csv('/users/genomics/xoel/codebases/cortical_disorders/DATA/Regulons/Diseases/Disease_table.csv', index_col=0)\n",
    "diseases = diseases[diseases.sum(1).astype(bool)]\n",
    "disease_genes = diseases.index.unique().tolist()"
   ]
  },
  {
   "cell_type": "markdown",
   "id": "82924825-a60a-46fe-a296-5133f25065f1",
   "metadata": {},
   "source": [
    "### TFs"
   ]
  },
  {
   "cell_type": "code",
   "execution_count": 8,
   "id": "438d67f5-4dcf-4b7a-abc7-a3ac54f4b6ca",
   "metadata": {},
   "outputs": [],
   "source": [
    "tfs = pd.read_csv('/users/genomics/xoel/codebases/cortical_disorders2/raw/HumanTFs/DatabaseExtract_v_1.01.csv', index_col=0)\n",
    "tfs = tfs[tfs['Is TF?']=='Yes']\n",
    "tf_genes = tfs['HGNC symbol'].str.strip().unique().tolist()"
   ]
  },
  {
   "cell_type": "markdown",
   "id": "027c3ad7-2548-486a-9cdb-cb1c2c4df7f3",
   "metadata": {},
   "source": [
    "______________________"
   ]
  },
  {
   "cell_type": "code",
   "execution_count": 9,
   "id": "efaddd59-c5bc-487f-a174-b00c59578214",
   "metadata": {},
   "outputs": [],
   "source": [
    "glists = {'Diseases': disease_genes,\n",
    "          'TFs': tf_genes}"
   ]
  },
  {
   "cell_type": "markdown",
   "id": "b6e5d213-56cb-473d-abb3-244a820cc38e",
   "metadata": {
    "tags": []
   },
   "source": [
    "### Regulons"
   ]
  },
  {
   "cell_type": "markdown",
   "id": "9bf7b991-3f5f-4696-b3d2-fe0232fa6909",
   "metadata": {},
   "source": [
    "#### Disease"
   ]
  },
  {
   "cell_type": "code",
   "execution_count": 10,
   "id": "495accd1-05eb-426b-8bd8-4ca2cd0f104c",
   "metadata": {},
   "outputs": [],
   "source": [
    "disreg = pd.read_csv('/users/genomics/xoel/codebases/cortical_disorders2/results/RCT_diseases/cisTarget_regulons.csv')\n",
    "\n",
    "disreg_genes = np.unique(disreg[['Core', 'Target']].to_numpy().flatten()).tolist()\n",
    "disreg_cores = disreg['Core'].unique().tolist()\n",
    "disreg_targets = disreg['Target'].unique().tolist()\n",
    "\n",
    "glists['Disease regulon'] = disreg_genes\n",
    "glists['Disease core'] = disreg_cores\n",
    "glists['Disease target'] = disreg_targets"
   ]
  },
  {
   "cell_type": "code",
   "execution_count": 11,
   "id": "2e870b60-2c49-4edf-b88c-0c6c308721b0",
   "metadata": {},
   "outputs": [],
   "source": [
    "disset_cores = {k+' core': v['Core'].unique().tolist() for k,v in disreg.groupby('geneSet')}\n",
    "disset_targets = {k+' target': v['Target'].unique().tolist() for k,v in disreg.groupby('geneSet')}\n",
    "\n",
    "glists.update(disset_cores)\n",
    "glists.update(disset_targets)"
   ]
  },
  {
   "cell_type": "markdown",
   "id": "bba7c140-fbc7-48ff-992a-dfb23cf91ae0",
   "metadata": {},
   "source": [
    "#### Peaks"
   ]
  },
  {
   "cell_type": "code",
   "execution_count": 12,
   "id": "a8afe816-6cb5-43cb-9c1e-c862eae14ac0",
   "metadata": {},
   "outputs": [],
   "source": [
    "peakreg = pd.read_csv('/users/genomics/xoel/codebases/cortical_disorders2/results/RCT_peaks/cisTarget_regulons.csv')\n",
    "\n",
    "peakreg_genes = np.unique(peakreg[['Core', 'Target']].to_numpy().flatten())\n",
    "peakreg_cores = peakreg['Core'].unique()\n",
    "peakreg_targets = peakreg['Target'].unique()\n",
    "\n",
    "\n",
    "glists['Peak regulon'] = peakreg_genes\n",
    "glists['Peak core'] = peakreg_cores\n",
    "glists['Peak target'] = peakreg_targets"
   ]
  },
  {
   "cell_type": "code",
   "execution_count": 13,
   "id": "aa4234a0-7076-4d70-a9fe-3b309a46e2b5",
   "metadata": {},
   "outputs": [],
   "source": [
    "peakset_cores = {k+' core': v['Core'].unique().tolist() for k,v in peakreg.groupby('geneSet')}\n",
    "peakset_targets = {k+' target': v['Target'].unique().tolist() for k,v in peakreg.groupby('geneSet')}\n",
    "\n",
    "glists.update(peakset_cores)\n",
    "glists.update(peakset_targets)"
   ]
  },
  {
   "cell_type": "code",
   "execution_count": 14,
   "id": "a846f94c-9eaa-4fe9-9ee7-ea2569d65ad4",
   "metadata": {},
   "outputs": [],
   "source": [
    "regulon_genes = sorted(list(set(disreg_genes).union(set(peakreg_genes))))\n",
    "regulon_cores = sorted(list(set(disreg_cores).union(set(peakreg_cores))))\n",
    "regulon_targets = sorted(list(set(disreg_targets).union(set(peakreg_targets))))\n",
    "\n",
    "glists['Regulon gene'] = regulon_genes\n",
    "glists['Regulon core'] = regulon_cores\n",
    "glists['Regulon target'] = regulon_targets"
   ]
  },
  {
   "cell_type": "raw",
   "id": "daf96266-e9ef-4bb9-965d-b653438b5627",
   "metadata": {},
   "source": [
    "regulon_genes = pd.read_table('/users/genomics/xoel/codebases/cortical_disorders/DATA/Regulons/Diseases/Regulon_genes.txt', header=None)[0].unique().tolist()"
   ]
  },
  {
   "cell_type": "code",
   "execution_count": 15,
   "id": "ddc61e2c-f1de-46ca-a8aa-f43fc87bcefa",
   "metadata": {},
   "outputs": [],
   "source": [
    "g_subsets = {\n",
    "    'Cores': np.unique(glists['Regulon core']),\n",
    "    'Cores+Dis': np.unique(list(glists['Regulon core'])+list(glists['Diseases'])),\n",
    "    'DiseaseRisk': np.unique(glists['Diseases']),\n",
    "    'PeakCores+DisReg': np.unique(list(glists['Regulon core'])+list(glists['Disease regulon']))\n",
    "}"
   ]
  },
  {
   "cell_type": "markdown",
   "id": "c2c249c8-5f23-453f-9ebc-f9485eee87dd",
   "metadata": {
    "tags": []
   },
   "source": [
    "# Links filtering"
   ]
  },
  {
   "cell_type": "code",
   "execution_count": 34,
   "id": "45f9b4a3-8c7f-46cd-a532-8a1b49d68b5e",
   "metadata": {},
   "outputs": [
    {
     "data": {
      "text/plain": [
       "{'Gliogenesis': '/users/genomics/xoel/codebases/co_new/data_foxg1/Gliogenesis/cluster_GRN/',\n",
       " 'NeuralPCW16': '/users/genomics/xoel/codebases/co_new/data_foxg1/NeuralPCW16/cluster_GRN/',\n",
       " 'NeuralPCW20': '/users/genomics/xoel/codebases/co_new/data_foxg1/NeuralPCW20/cluster_GRN/',\n",
       " 'NeuralPCW21': '/users/genomics/xoel/codebases/co_new/data_foxg1/NeuralPCW21/cluster_GRN/',\n",
       " 'NeuralPCW24': '/users/genomics/xoel/codebases/co_new/data_foxg1/NeuralPCW24/cluster_GRN/'}"
      ]
     },
     "execution_count": 34,
     "metadata": {},
     "output_type": "execute_result"
    }
   ],
   "source": [
    "links_folders = {k: f+'cluster_GRN/' for k,f in dirlist.items()}\n",
    "links_folders"
   ]
  },
  {
   "cell_type": "code",
   "execution_count": 35,
   "id": "610eac63-6f7d-408b-8ff4-438c259ab909",
   "metadata": {
    "scrolled": true,
    "tags": []
   },
   "outputs": [
    {
     "data": {
      "application/vnd.jupyter.widget-view+json": {
       "model_id": "ec25310fe9c54357a71d56e8b7f865cb",
       "version_major": 2,
       "version_minor": 0
      },
      "text/plain": [
       "  0%|          | 0/5 [00:00<?, ?it/s]"
      ]
     },
     "metadata": {},
     "output_type": "display_data"
    },
    {
     "data": {
      "application/vnd.jupyter.widget-view+json": {
       "model_id": "d35c5d8c4407465e82f05c723439e018",
       "version_major": 2,
       "version_minor": 0
      },
      "text/plain": [
       "  0%|          | 0/8 [00:00<?, ?it/s]"
      ]
     },
     "metadata": {},
     "output_type": "display_data"
    },
    {
     "data": {
      "application/vnd.jupyter.widget-view+json": {
       "model_id": "c50c0d5f8f2045ef9365ec0cc573e360",
       "version_major": 2,
       "version_minor": 0
      },
      "text/plain": [
       "  0%|          | 0/10 [00:00<?, ?it/s]"
      ]
     },
     "metadata": {},
     "output_type": "display_data"
    },
    {
     "data": {
      "application/vnd.jupyter.widget-view+json": {
       "model_id": "b1833eaf865842d1b70ef31d7bb948fb",
       "version_major": 2,
       "version_minor": 0
      },
      "text/plain": [
       "  0%|          | 0/8 [00:00<?, ?it/s]"
      ]
     },
     "metadata": {},
     "output_type": "display_data"
    },
    {
     "data": {
      "application/vnd.jupyter.widget-view+json": {
       "model_id": "abfb653bcf1b466f84024f0beb707f98",
       "version_major": 2,
       "version_minor": 0
      },
      "text/plain": [
       "  0%|          | 0/8 [00:00<?, ?it/s]"
      ]
     },
     "metadata": {},
     "output_type": "display_data"
    },
    {
     "data": {
      "application/vnd.jupyter.widget-view+json": {
       "model_id": "4d14d7fe5d344b8e89e8a3d29b4db732",
       "version_major": 2,
       "version_minor": 0
      },
      "text/plain": [
       "  0%|          | 0/9 [00:00<?, ?it/s]"
      ]
     },
     "metadata": {},
     "output_type": "display_data"
    },
    {
     "name": "stdout",
     "output_type": "stream",
     "text": [
      "(5980706, 9)\n"
     ]
    }
   ],
   "source": [
    "grn_links = []\n",
    "\n",
    "for sample, link_folder in tqdm(links_folders.items()):\n",
    "    # print(sample)\n",
    "    link_files = os.listdir(link_folder)\n",
    "    clusters = set([f.split('.')[0] for f in link_files if f[0] != '.'])\n",
    "    clusters\n",
    "\n",
    "    grns_df = []\n",
    "\n",
    "    for cl in tqdm(clusters, colour='yellow'):\n",
    "        \n",
    "        raw_grn = pd.read_csv(\n",
    "            [os.path.join(link_folder, l) for l in link_files if cl in l and 'raw_GRN' in l][0], \n",
    "            index_col=[0]).sort_values(by='p', ascending=True)\n",
    "        \n",
    "        filt_grn = pd.read_csv(\n",
    "            [os.path.join(link_folder, l) for l in link_files if cl in l and 'filtered_GRN' in l][0], \n",
    "            index_col=[0]).sort_values(by='p', ascending=True)\n",
    "\n",
    "        raw_grn['cell.type'] = cl\n",
    "        raw_grn['kept'] = raw_grn.index.isin(filt_grn.index)\n",
    "\n",
    "        grns_df.append(raw_grn)\n",
    "#         # print(raw_grn.head())\n",
    "\n",
    "    grns_df = pd.concat(grns_df, ignore_index=True)\n",
    "    grns_df['Sample'] = sample\n",
    "\n",
    "    grn_links.append(grns_df)\n",
    "\n",
    "grn_links = pd.concat(grn_links, ignore_index=True)\n",
    "print(grn_links.shape)"
   ]
  },
  {
   "cell_type": "code",
   "execution_count": 36,
   "id": "1589311d-ef0f-455d-9b93-d94bfcb9d161",
   "metadata": {},
   "outputs": [],
   "source": [
    "grn_links = grn_links[~(grn_links['coef_mean'] == 0 & grn_links['p'].isna() & ~grn_links['kept'])]"
   ]
  },
  {
   "cell_type": "code",
   "execution_count": 37,
   "id": "c952fa97-78aa-46f5-b1c2-519d61fed7a5",
   "metadata": {
    "scrolled": true,
    "tags": []
   },
   "outputs": [],
   "source": [
    "grn_links.to_csv(resultsdir+'LinkFiltering.txt', index=False, header=True, sep='\\t')"
   ]
  },
  {
   "cell_type": "code",
   "execution_count": 38,
   "id": "ed2c10fb-13a1-4012-bb89-940255ce1152",
   "metadata": {
    "scrolled": true,
    "tags": []
   },
   "outputs": [
    {
     "name": "stdout",
     "output_type": "stream",
     "text": [
      "Writing excel sheet: Gliogenesis\n",
      "Dividing...\n",
      "Writing excel sheet: NeuralPCW16\n",
      "Dividing...\n",
      "Writing excel sheet: NeuralPCW20\n",
      "Dividing...\n",
      "Writing excel sheet: NeuralPCW21\n",
      "Writing excel sheet: NeuralPCW24\n",
      "Dividing...\n"
     ]
    }
   ],
   "source": [
    "max_excel_rows = 1048576\n",
    "\n",
    "with pd.ExcelWriter('LinkFiltering.xlsx') as writer:\n",
    "    for sample, sdf in grn_links.groupby('Sample'):\n",
    "        print(f'Writing excel sheet: {sample}')\n",
    "        if sdf.shape[0] < max_excel_rows:\n",
    "            sdf.to_excel(writer, sheet_name=sample, index=False, header=True)\n",
    "\n",
    "        else:\n",
    "            print('Dividing...')\n",
    "            sdf.iloc[:max_excel_rows,:].to_excel(writer, sheet_name=sample+'_1', index=False, header=True)\n",
    "            sdf.iloc[max_excel_rows:,:].to_excel(writer, sheet_name=sample+'_2', index=False, header=True)\n"
   ]
  },
  {
   "cell_type": "markdown",
   "id": "f8c3f10a-9c52-4c41-a12b-2850d9660948",
   "metadata": {
    "tags": []
   },
   "source": [
    "# Merged scores"
   ]
  },
  {
   "cell_type": "code",
   "execution_count": 39,
   "id": "061f23f1-7199-4b80-8861-6366d7988212",
   "metadata": {},
   "outputs": [
    {
     "name": "stderr",
     "output_type": "stream",
     "text": [
      "Matplotlib is building the font cache; this may take a moment.\n"
     ]
    }
   ],
   "source": [
    "import celloracle as co"
   ]
  },
  {
   "cell_type": "code",
   "execution_count": 40,
   "id": "2a80f314-c0de-4a66-b063-ad49918feb7a",
   "metadata": {},
   "outputs": [
    {
     "data": {
      "text/plain": [
       "dict_items([('Gliogenesis', '/users/genomics/xoel/codebases/co_new/data_foxg1/Gliogenesis/'), ('NeuralPCW16', '/users/genomics/xoel/codebases/co_new/data_foxg1/NeuralPCW16/'), ('NeuralPCW20', '/users/genomics/xoel/codebases/co_new/data_foxg1/NeuralPCW20/'), ('NeuralPCW21', '/users/genomics/xoel/codebases/co_new/data_foxg1/NeuralPCW21/'), ('NeuralPCW24', '/users/genomics/xoel/codebases/co_new/data_foxg1/NeuralPCW24/')])"
      ]
     },
     "execution_count": 40,
     "metadata": {},
     "output_type": "execute_result"
    }
   ],
   "source": [
    "dirlist.items()"
   ]
  },
  {
   "cell_type": "code",
   "execution_count": 41,
   "id": "ceb9f39b-183b-451a-a8fc-07a871f5da07",
   "metadata": {},
   "outputs": [
    {
     "data": {
      "text/plain": [
       "{'Gliogenesis': '/users/genomics/xoel/codebases/co_new/data_foxg1/Gliogenesis/Links.celloracle.links',\n",
       " 'NeuralPCW16': '/users/genomics/xoel/codebases/co_new/data_foxg1/NeuralPCW16/Links.celloracle.links',\n",
       " 'NeuralPCW20': '/users/genomics/xoel/codebases/co_new/data_foxg1/NeuralPCW20/Links.celloracle.links',\n",
       " 'NeuralPCW21': '/users/genomics/xoel/codebases/co_new/data_foxg1/NeuralPCW21/Links.celloracle.links',\n",
       " 'NeuralPCW24': '/users/genomics/xoel/codebases/co_new/data_foxg1/NeuralPCW24/Links.celloracle.links'}"
      ]
     },
     "execution_count": 41,
     "metadata": {},
     "output_type": "execute_result"
    }
   ],
   "source": [
    "links_files = {k: v+[f for f in os.listdir(v) if 'celloracle.links' in f and not 'Perturbation' in f][0] for k, v in dirlist.items()}\n",
    "links_files"
   ]
  },
  {
   "cell_type": "code",
   "execution_count": 42,
   "id": "5213f028-1f73-41c5-ac79-13f57e51bf0c",
   "metadata": {},
   "outputs": [
    {
     "name": "stdout",
     "output_type": "stream",
     "text": [
      "Gliogenesis\n",
      "NeuralPCW16\n",
      "NeuralPCW20\n",
      "NeuralPCW21\n",
      "NeuralPCW24\n"
     ]
    }
   ],
   "source": [
    "scores_df = []\n",
    "for tag, fname in links_files.items():\n",
    "    print(tag)\n",
    "    scores = co.load_hdf5(fname).merged_score.reset_index().rename(\n",
    "        columns={'name':'Gene', 'cluster': 'cell.type'})\n",
    "    scores['Sample'] = tag\n",
    "    scores_df.append(scores)\n",
    "scores_df = pd.concat(scores_df, axis=0, ignore_index=True)\n",
    "scores_df['is.source'] = scores_df['Gene'].isin(grn_links['source'].unique())"
   ]
  },
  {
   "cell_type": "code",
   "execution_count": 43,
   "id": "bff55776-03ac-45fc-915b-8580566b6863",
   "metadata": {},
   "outputs": [
    {
     "data": {
      "text/html": [
       "<div>\n",
       "<style scoped>\n",
       "    .dataframe tbody tr th:only-of-type {\n",
       "        vertical-align: middle;\n",
       "    }\n",
       "\n",
       "    .dataframe tbody tr th {\n",
       "        vertical-align: top;\n",
       "    }\n",
       "\n",
       "    .dataframe thead th {\n",
       "        text-align: right;\n",
       "    }\n",
       "</style>\n",
       "<table border=\"1\" class=\"dataframe\">\n",
       "  <thead>\n",
       "    <tr style=\"text-align: right;\">\n",
       "      <th></th>\n",
       "      <th>Gene</th>\n",
       "      <th>degree_all</th>\n",
       "      <th>degree_centrality_all</th>\n",
       "      <th>degree_in</th>\n",
       "      <th>degree_centrality_in</th>\n",
       "      <th>degree_out</th>\n",
       "      <th>degree_centrality_out</th>\n",
       "      <th>betweenness_centrality</th>\n",
       "      <th>eigenvector_centrality</th>\n",
       "      <th>cell.type</th>\n",
       "      <th>module</th>\n",
       "      <th>connectivity</th>\n",
       "      <th>participation</th>\n",
       "      <th>role</th>\n",
       "      <th>Role name</th>\n",
       "      <th>Sample</th>\n",
       "      <th>is.source</th>\n",
       "    </tr>\n",
       "  </thead>\n",
       "  <tbody>\n",
       "    <tr>\n",
       "      <th>0</th>\n",
       "      <td>FOS</td>\n",
       "      <td>88</td>\n",
       "      <td>0.153310</td>\n",
       "      <td>9</td>\n",
       "      <td>0.015679</td>\n",
       "      <td>79</td>\n",
       "      <td>0.137631</td>\n",
       "      <td>3170.0</td>\n",
       "      <td>1.000000</td>\n",
       "      <td>Astro</td>\n",
       "      <td>5</td>\n",
       "      <td>4.311375</td>\n",
       "      <td>0.649135</td>\n",
       "      <td>Connector Hub</td>\n",
       "      <td>Connector Hub</td>\n",
       "      <td>Gliogenesis</td>\n",
       "      <td>True</td>\n",
       "    </tr>\n",
       "    <tr>\n",
       "      <th>1</th>\n",
       "      <td>MALAT1</td>\n",
       "      <td>21</td>\n",
       "      <td>0.036585</td>\n",
       "      <td>21</td>\n",
       "      <td>0.036585</td>\n",
       "      <td>0</td>\n",
       "      <td>0.000000</td>\n",
       "      <td>0.0</td>\n",
       "      <td>0.472218</td>\n",
       "      <td>Astro</td>\n",
       "      <td>3</td>\n",
       "      <td>1.034229</td>\n",
       "      <td>0.680272</td>\n",
       "      <td>Connector</td>\n",
       "      <td>Connector</td>\n",
       "      <td>Gliogenesis</td>\n",
       "      <td>False</td>\n",
       "    </tr>\n",
       "    <tr>\n",
       "      <th>2</th>\n",
       "      <td>E2F1</td>\n",
       "      <td>97</td>\n",
       "      <td>0.168990</td>\n",
       "      <td>1</td>\n",
       "      <td>0.001742</td>\n",
       "      <td>96</td>\n",
       "      <td>0.167247</td>\n",
       "      <td>109.0</td>\n",
       "      <td>0.370791</td>\n",
       "      <td>Astro</td>\n",
       "      <td>4</td>\n",
       "      <td>8.938748</td>\n",
       "      <td>0.409939</td>\n",
       "      <td>Connector Hub</td>\n",
       "      <td>Connector Hub</td>\n",
       "      <td>Gliogenesis</td>\n",
       "      <td>True</td>\n",
       "    </tr>\n",
       "    <tr>\n",
       "      <th>3</th>\n",
       "      <td>CCNB2</td>\n",
       "      <td>8</td>\n",
       "      <td>0.013937</td>\n",
       "      <td>8</td>\n",
       "      <td>0.013937</td>\n",
       "      <td>0</td>\n",
       "      <td>0.000000</td>\n",
       "      <td>0.0</td>\n",
       "      <td>0.226789</td>\n",
       "      <td>Astro</td>\n",
       "      <td>3</td>\n",
       "      <td>-0.326599</td>\n",
       "      <td>0.718750</td>\n",
       "      <td>Connector</td>\n",
       "      <td>Connector</td>\n",
       "      <td>Gliogenesis</td>\n",
       "      <td>False</td>\n",
       "    </tr>\n",
       "    <tr>\n",
       "      <th>4</th>\n",
       "      <td>FOXM1</td>\n",
       "      <td>32</td>\n",
       "      <td>0.055749</td>\n",
       "      <td>1</td>\n",
       "      <td>0.001742</td>\n",
       "      <td>31</td>\n",
       "      <td>0.054007</td>\n",
       "      <td>31.0</td>\n",
       "      <td>0.074852</td>\n",
       "      <td>Astro</td>\n",
       "      <td>4</td>\n",
       "      <td>2.618966</td>\n",
       "      <td>0.408203</td>\n",
       "      <td>Connector Hub</td>\n",
       "      <td>Connector Hub</td>\n",
       "      <td>Gliogenesis</td>\n",
       "      <td>True</td>\n",
       "    </tr>\n",
       "  </tbody>\n",
       "</table>\n",
       "</div>"
      ],
      "text/plain": [
       "     Gene  degree_all  degree_centrality_all  degree_in  degree_centrality_in  \\\n",
       "0     FOS          88               0.153310          9              0.015679   \n",
       "1  MALAT1          21               0.036585         21              0.036585   \n",
       "2    E2F1          97               0.168990          1              0.001742   \n",
       "3   CCNB2           8               0.013937          8              0.013937   \n",
       "4   FOXM1          32               0.055749          1              0.001742   \n",
       "\n",
       "   degree_out  degree_centrality_out  betweenness_centrality  \\\n",
       "0          79               0.137631                  3170.0   \n",
       "1           0               0.000000                     0.0   \n",
       "2          96               0.167247                   109.0   \n",
       "3           0               0.000000                     0.0   \n",
       "4          31               0.054007                    31.0   \n",
       "\n",
       "   eigenvector_centrality cell.type  module  connectivity  participation  \\\n",
       "0                1.000000     Astro       5      4.311375       0.649135   \n",
       "1                0.472218     Astro       3      1.034229       0.680272   \n",
       "2                0.370791     Astro       4      8.938748       0.409939   \n",
       "3                0.226789     Astro       3     -0.326599       0.718750   \n",
       "4                0.074852     Astro       4      2.618966       0.408203   \n",
       "\n",
       "            role      Role name       Sample  is.source  \n",
       "0  Connector Hub  Connector Hub  Gliogenesis       True  \n",
       "1      Connector      Connector  Gliogenesis      False  \n",
       "2  Connector Hub  Connector Hub  Gliogenesis       True  \n",
       "3      Connector      Connector  Gliogenesis      False  \n",
       "4  Connector Hub  Connector Hub  Gliogenesis       True  "
      ]
     },
     "execution_count": 43,
     "metadata": {},
     "output_type": "execute_result"
    }
   ],
   "source": [
    "scores_df.head()"
   ]
  },
  {
   "cell_type": "code",
   "execution_count": 44,
   "id": "8a0c84fe-b97e-4d33-ad94-2afda0ff23cc",
   "metadata": {},
   "outputs": [],
   "source": [
    "scores_df.to_csv(resultsdir+'NetworkScores.txt', index=False, header=True, sep='\\t')\n",
    "scores_df.to_excel(resultsdir+'NetworkScores.xlsx', index=False, header=True)"
   ]
  },
  {
   "cell_type": "code",
   "execution_count": null,
   "id": "fd67f6f1-803e-4806-b0e5-a3d1986403e6",
   "metadata": {},
   "outputs": [],
   "source": []
  },
  {
   "cell_type": "code",
   "execution_count": 63,
   "id": "6feb0435-d061-4064-a95b-5cb410abb2fc",
   "metadata": {},
   "outputs": [],
   "source": [
    "scores_foxg1 = scores_df[scores_df['Gene']=='FOXG1'].copy()"
   ]
  },
  {
   "cell_type": "markdown",
   "id": "2cbd5239-5e62-421f-a5b6-9b71649df11e",
   "metadata": {
    "tags": []
   },
   "source": [
    "### Get scores from full model\n"
   ]
  },
  {
   "cell_type": "code",
   "execution_count": 68,
   "id": "f2b92a2b-bfd1-407e-b8d4-d63905064eb2",
   "metadata": {},
   "outputs": [
    {
     "data": {
      "text/plain": [
       "{'Gliogenesis': '/users/genomics/xoel/codebases/co_new/data/Gliogenesis/Links.celloracle.links',\n",
       " 'NeuralPCW16': '/users/genomics/xoel/codebases/co_new/data/NeuralPCW16/Links.celloracle.links',\n",
       " 'NeuralPCW20': '/users/genomics/xoel/codebases/co_new/data/NeuralPCW20/Links.celloracle.links',\n",
       " 'NeuralPCW21': '/users/genomics/xoel/codebases/co_new/data/NeuralPCW21/Links.celloracle.links',\n",
       " 'NeuralPCW24': '/users/genomics/xoel/codebases/co_new/data/NeuralPCW24/Links.celloracle.links'}"
      ]
     },
     "execution_count": 68,
     "metadata": {},
     "output_type": "execute_result"
    }
   ],
   "source": [
    "links_files = {k: v.replace('data_foxg1', 'data')+[f for f in os.listdir(v) if 'celloracle.links' in f and not 'Perturbation' in f][0] for k, v in dirlist.items()}\n",
    "links_files"
   ]
  },
  {
   "cell_type": "code",
   "execution_count": 69,
   "id": "039a17c5-3a07-4250-8de8-b994d89d3504",
   "metadata": {},
   "outputs": [
    {
     "name": "stdout",
     "output_type": "stream",
     "text": [
      "Gliogenesis\n",
      "NeuralPCW16\n",
      "NeuralPCW20\n",
      "NeuralPCW21\n",
      "NeuralPCW24\n"
     ]
    }
   ],
   "source": [
    "scores_df = []\n",
    "for tag, fname in links_files.items():\n",
    "    print(tag)\n",
    "    scores = co.load_hdf5(fname).merged_score.reset_index().rename(\n",
    "        columns={'name':'Gene', 'cluster': 'cell.type'})\n",
    "    scores['Sample'] = tag\n",
    "    scores_df.append(scores)\n",
    "scores_df = pd.concat(scores_df, axis=0, ignore_index=True)\n",
    "scores_df['is.source'] = scores_df['Gene'].isin(grn_links['source'].unique())"
   ]
  },
  {
   "cell_type": "code",
   "execution_count": 70,
   "id": "d671251a-e758-43fe-9f12-b558f71fa432",
   "metadata": {},
   "outputs": [],
   "source": [
    "scores_df = pd.concat([scores_df, scores_foxg1], axis=0, ignore_index=True)"
   ]
  },
  {
   "cell_type": "code",
   "execution_count": 71,
   "id": "4c396951-b182-472b-9d8d-3610ab5056da",
   "metadata": {},
   "outputs": [],
   "source": [
    "scores_df.to_csv(resultsdir+'NetworkScoresFull.txt', index=False, header=True, sep='\\t')\n",
    "scores_df.to_excel(resultsdir+'NetworkScoresFull.xlsx', index=False, header=True)"
   ]
  },
  {
   "cell_type": "markdown",
   "id": "d367491d-aa76-4a43-ba70-b20f5b9663d4",
   "metadata": {
    "tags": []
   },
   "source": [
    "# Perturbation per gene"
   ]
  },
  {
   "cell_type": "markdown",
   "id": "1ec7fb5f-0b70-4a83-bc03-8ff9e894c639",
   "metadata": {
    "tags": []
   },
   "source": [
    "### Funs"
   ]
  },
  {
   "cell_type": "code",
   "execution_count": 16,
   "id": "29a103af-3a04-4b4b-a803-31445a965dc9",
   "metadata": {},
   "outputs": [],
   "source": [
    "import numpy as np"
   ]
  },
  {
   "cell_type": "code",
   "execution_count": 17,
   "id": "81bc2983-f29f-416b-adee-d16a853ebb55",
   "metadata": {},
   "outputs": [],
   "source": [
    "from tqdm.contrib.concurrent import process_map  # or thread_map"
   ]
  },
  {
   "cell_type": "code",
   "execution_count": 18,
   "id": "0b594d12-add2-482b-a523-f5c1fe5131c3",
   "metadata": {},
   "outputs": [],
   "source": [
    "def _summarize_pert(df):\n",
    "    max_sim = max(df['Sim.step'])\n",
    "    n_replicates = len(df['Replicate'].unique())\n",
    "    n_cells = len(df['Cell.ID'].unique())\n",
    "    \n",
    "    seriess = []\n",
    "    for (ct, rep), d in df[df['Sim.step'].isin([0,max_sim])].groupby(['cell.type','Replicate']):\n",
    "\n",
    "        n_initial = (d['Sim.step'] == 0).sum()\n",
    "        n_final = (d['Sim.step'] == max_sim).sum()\n",
    "        n_change = n_final - n_initial\n",
    "                \n",
    "        ratio = n_final/n_initial\n",
    "        log2_ratio = np.log2(ratio)\n",
    "\n",
    "        seriess.append(pd.Series({\n",
    "            'cell.type':ct, \n",
    "            'Replicate': rep,\n",
    "            'n_initial':n_initial, \n",
    "            'n_final': n_final, \n",
    "            'n_change': n_change,\n",
    "            'ratio': ratio, \n",
    "            'log2_ratio': log2_ratio}))\n",
    "\n",
    "    summary = pd.concat(seriess, axis=1).T.groupby('cell.type').mean().reset_index().drop('Replicate', axis=1)\n",
    "    \n",
    "    summary['pct_initial'] = summary['n_initial']/n_cells * 100\n",
    "    summary['pct_final'] = summary['n_final']/n_cells * 100\n",
    "    summary['pct_change'] = summary['pct_final'] - summary['pct_initial']\n",
    "    \n",
    "    summary['n_steps'] = max_sim\n",
    "    summary['n_replicates'] = n_replicates\n",
    "    \n",
    "    return(summary)"
   ]
  },
  {
   "cell_type": "code",
   "execution_count": 19,
   "id": "3f9d5835-3550-4f2b-9a62-92f0f3983c5f",
   "metadata": {
    "scrolled": true,
    "tags": []
   },
   "outputs": [],
   "source": [
    "def _load_perturbation(pertdir, gp, summary=True, ct2ct=True, ct_common_labels=None):\n",
    "    gene, exp = gp.split('_') \n",
    "    gene = '.'.join(gene.split('.')[1:])\n",
    "    exp = '.'.join(exp.split('.')[:-1])\n",
    "    # print(gene, exp)\n",
    "\n",
    "    # pert_df = pd.read_csv(f'{pertdir}{gp}/markov_simulation_cell_types.csv', index_col=0).reset_index().rename(columns={'index':'Cell.ID'})\n",
    "    pert_df = pd.read_csv(f'{pertdir}{gp}',\n",
    "                          index_col=0).reset_index().rename(columns={'index':'Cell.ID'})\n",
    "    \n",
    "    if ct_common_labels:\n",
    "        pert_df = pert_df.replace(ct_common_labels)\n",
    "    \n",
    "    pert_df['Replicate'] = pert_df.groupby('Cell.ID').apply(lambda x: pd.Series(list(range(len(x))), index=x.index)).values\n",
    "    pert_df = pert_df.melt(id_vars=['Cell.ID', 'Replicate'], var_name='Sim.step', value_name='cell.type')\n",
    "    pert_df['Sim.step'] = pert_df['Sim.step'].astype(int)\n",
    "    \n",
    "    pert_df['Gene'] = gene\n",
    "    pert_df['Exp'] = exp\n",
    "    pert_df['Pert'] = 'KO' if float(exp) == 0 else 'OE'\n",
    "    \n",
    "    results = {'df': pert_df}\n",
    "\n",
    "    if summary:\n",
    "        summary = _summarize_pert(pert_df)\n",
    "        summary['Gene'] = gene\n",
    "        summary['Exp'] = exp\n",
    "        summary['Pert'] = 'KO' if float(exp) == 0 else 'OE'\n",
    "    \n",
    "        results['summary'] = summary\n",
    "        \n",
    "    if ct2ct:\n",
    "        max_sim = max(pert_df['Sim.step'])\n",
    "\n",
    "        inits = pert_df[pert_df['Sim.step']==0].drop('Replicate', axis=1)\n",
    "        inits = inits[~inits.duplicated()].value_counts('cell.type')\n",
    "        \n",
    "        trans = pert_df[pert_df['Sim.step'].isin([0,max_sim])].groupby(['Replicate', 'Cell.ID'])['cell.type'].apply(lambda x: {'CTO': x.iloc[0], 'CTF': x.iloc[1]}).unstack()\n",
    "        trans = trans.reset_index().value_counts(['Replicate', 'CTO', 'CTF']).reset_index().groupby(['CTO', 'CTF'])[0].mean().reset_index().rename({0: 'trans.cells'}, axis=1)\n",
    "\n",
    "        for cto in trans['CTO'].unique():\n",
    "            for ctf in trans['CTO'].unique():\n",
    "                if ~((trans['CTO'] == cto ) & (trans['CTF']==ctf)).any():\n",
    "                    trans = pd.concat([\n",
    "                        trans,\n",
    "                        pd.DataFrame({'CTO':cto, 'CTF':ctf, 'trans.cells':0}, index=[0])], \n",
    "                        axis=0, ignore_index=True)\n",
    "        \n",
    "        trans['init.cells'] = inits[trans.CTO].tolist()\n",
    "        trans['trans.pct'] = trans['trans.cells']/trans['init.cells']*100\n",
    "        \n",
    "        trans['Gene'] = gene\n",
    "        trans['Exp'] = exp\n",
    "        trans['Pert'] = 'KO' if float(exp) == 0 else 'OE'\n",
    "\n",
    "        # We want to show negative values for self-transitions\n",
    "        # trans['trans.pct'] = np.where(\n",
    "        #     trans['CTO']==trans['CTF'],\n",
    "        #     trans['trans.pct']-100,\n",
    "        #     trans['trans.pct'])\n",
    "        \n",
    "        results['ct2ct'] = trans\n",
    "    \n",
    "    return results"
   ]
  },
  {
   "cell_type": "markdown",
   "id": "0d782697-b586-4c0d-a2bf-b8997e52fe6b",
   "metadata": {
    "tags": []
   },
   "source": [
    "### For main figure"
   ]
  },
  {
   "cell_type": "code",
   "execution_count": 20,
   "id": "38e70b65-7b0f-4f90-9f57-e42eacfc3190",
   "metadata": {},
   "outputs": [
    {
     "data": {
      "text/plain": [
       "{'Gliogenesis': '/users/genomics/xoel/codebases/co_new/data_foxg1/Gliogenesis/pert_KO/perturbation_transitions/',\n",
       " 'NeuralPCW16': '/users/genomics/xoel/codebases/co_new/data_foxg1/NeuralPCW16/pert_KO/perturbation_transitions/',\n",
       " 'NeuralPCW20': '/users/genomics/xoel/codebases/co_new/data_foxg1/NeuralPCW20/pert_KO/perturbation_transitions/',\n",
       " 'NeuralPCW21': '/users/genomics/xoel/codebases/co_new/data_foxg1/NeuralPCW21/pert_KO/perturbation_transitions/',\n",
       " 'NeuralPCW24': '/users/genomics/xoel/codebases/co_new/data_foxg1/NeuralPCW24/pert_KO/perturbation_transitions/'}"
      ]
     },
     "execution_count": 20,
     "metadata": {},
     "output_type": "execute_result"
    }
   ],
   "source": [
    "pert_folders_ko = {k: f+'pert_KO/perturbation_transitions/' for k, f in dirlist.items()}\n",
    "# pert_folders['Gliogenesis'] = pert_folders['Gliogenesis'].replace('pert_KO', 'perturbations')\n",
    "pert_folders_ko"
   ]
  },
  {
   "cell_type": "code",
   "execution_count": 21,
   "id": "825dcfcf-ea11-448b-9e3b-4b3c7943afc5",
   "metadata": {},
   "outputs": [
    {
     "data": {
      "text/plain": [
       "{'Gliogenesis': '/users/genomics/xoel/codebases/co_new/data_foxg1/Gliogenesis/pert_KO_full/perturbation_transitions/',\n",
       " 'NeuralPCW16': '/users/genomics/xoel/codebases/co_new/data_foxg1/NeuralPCW16/pert_KO_full/perturbation_transitions/',\n",
       " 'NeuralPCW20': '/users/genomics/xoel/codebases/co_new/data_foxg1/NeuralPCW20/pert_KO_full/perturbation_transitions/',\n",
       " 'NeuralPCW21': '/users/genomics/xoel/codebases/co_new/data_foxg1/NeuralPCW21/pert_KO_full/perturbation_transitions/',\n",
       " 'NeuralPCW24': '/users/genomics/xoel/codebases/co_new/data_foxg1/NeuralPCW24/pert_KO_full/perturbation_transitions/'}"
      ]
     },
     "execution_count": 21,
     "metadata": {},
     "output_type": "execute_result"
    }
   ],
   "source": [
    "pert_folders_ko = {k: f+'pert_KO_full/perturbation_transitions/' for k, f in dirlist.items()}\n",
    "# pert_folders['Gliogenesis'] = pert_folders['Gliogenesis'].replace('pert_KO', 'perturbations')\n",
    "pert_folders_ko"
   ]
  },
  {
   "cell_type": "code",
   "execution_count": 22,
   "id": "1bda3882-4415-4e41-9ab0-5d17640a4a65",
   "metadata": {
    "scrolled": true,
    "tags": []
   },
   "outputs": [
    {
     "name": "stdout",
     "output_type": "stream",
     "text": [
      "Gliogenesis\n"
     ]
    },
    {
     "data": {
      "application/vnd.jupyter.widget-view+json": {
       "model_id": "e4e9db65d8c14f4cae128b67bef43985",
       "version_major": 2,
       "version_minor": 0
      },
      "text/plain": [
       "  0%|          | 0/174 [00:00<?, ?it/s]"
      ]
     },
     "metadata": {},
     "output_type": "display_data"
    },
    {
     "name": "stderr",
     "output_type": "stream",
     "text": [
      "/tmp/ipykernel_4176745/2658706054.py:14: RuntimeWarning: divide by zero encountered in log2\n",
      "  log2_ratio = np.log2(ratio)\n",
      "/tmp/ipykernel_4176745/2658706054.py:14: RuntimeWarning: divide by zero encountered in log2\n",
      "  log2_ratio = np.log2(ratio)\n",
      "/tmp/ipykernel_4176745/2658706054.py:14: RuntimeWarning: divide by zero encountered in log2\n",
      "  log2_ratio = np.log2(ratio)\n",
      "/tmp/ipykernel_4176745/2658706054.py:14: RuntimeWarning: divide by zero encountered in log2\n",
      "  log2_ratio = np.log2(ratio)\n",
      "/tmp/ipykernel_4176745/2658706054.py:14: RuntimeWarning: divide by zero encountered in log2\n",
      "  log2_ratio = np.log2(ratio)\n",
      "/tmp/ipykernel_4176745/2658706054.py:14: RuntimeWarning: divide by zero encountered in log2\n",
      "  log2_ratio = np.log2(ratio)\n",
      "/tmp/ipykernel_4176745/2658706054.py:14: RuntimeWarning: divide by zero encountered in log2\n",
      "  log2_ratio = np.log2(ratio)\n",
      "/tmp/ipykernel_4176745/2658706054.py:14: RuntimeWarning: divide by zero encountered in log2\n",
      "  log2_ratio = np.log2(ratio)\n",
      "/tmp/ipykernel_4176745/2658706054.py:14: RuntimeWarning: divide by zero encountered in log2\n",
      "  log2_ratio = np.log2(ratio)\n",
      "/tmp/ipykernel_4176745/2658706054.py:14: RuntimeWarning: divide by zero encountered in log2\n",
      "  log2_ratio = np.log2(ratio)\n",
      "/tmp/ipykernel_4176745/2658706054.py:14: RuntimeWarning: divide by zero encountered in log2\n",
      "  log2_ratio = np.log2(ratio)\n",
      "/tmp/ipykernel_4176745/2658706054.py:14: RuntimeWarning: divide by zero encountered in log2\n",
      "  log2_ratio = np.log2(ratio)\n"
     ]
    },
    {
     "name": "stdout",
     "output_type": "stream",
     "text": [
      "NeuralPCW16\n"
     ]
    },
    {
     "data": {
      "application/vnd.jupyter.widget-view+json": {
       "model_id": "ae681019fcf84484b7b990cffb2ba6b8",
       "version_major": 2,
       "version_minor": 0
      },
      "text/plain": [
       "  0%|          | 0/152 [00:00<?, ?it/s]"
      ]
     },
     "metadata": {},
     "output_type": "display_data"
    },
    {
     "name": "stdout",
     "output_type": "stream",
     "text": [
      "NeuralPCW20\n"
     ]
    },
    {
     "data": {
      "application/vnd.jupyter.widget-view+json": {
       "model_id": "ea89d721b0dc4590a177f2d98c3c2ae5",
       "version_major": 2,
       "version_minor": 0
      },
      "text/plain": [
       "  0%|          | 0/177 [00:00<?, ?it/s]"
      ]
     },
     "metadata": {},
     "output_type": "display_data"
    },
    {
     "name": "stderr",
     "output_type": "stream",
     "text": [
      "/tmp/ipykernel_4176745/2658706054.py:14: RuntimeWarning: divide by zero encountered in log2\n",
      "  log2_ratio = np.log2(ratio)\n"
     ]
    },
    {
     "name": "stdout",
     "output_type": "stream",
     "text": [
      "NeuralPCW21\n"
     ]
    },
    {
     "data": {
      "application/vnd.jupyter.widget-view+json": {
       "model_id": "27bf7e254bc0470a922b482e0edd9b21",
       "version_major": 2,
       "version_minor": 0
      },
      "text/plain": [
       "  0%|          | 0/150 [00:00<?, ?it/s]"
      ]
     },
     "metadata": {},
     "output_type": "display_data"
    },
    {
     "name": "stdout",
     "output_type": "stream",
     "text": [
      "NeuralPCW24\n"
     ]
    },
    {
     "data": {
      "application/vnd.jupyter.widget-view+json": {
       "model_id": "da731b5aa45446c8ba6d14dfa8ec1fa0",
       "version_major": 2,
       "version_minor": 0
      },
      "text/plain": [
       "  0%|          | 0/178 [00:00<?, ?it/s]"
      ]
     },
     "metadata": {},
     "output_type": "display_data"
    },
    {
     "name": "stderr",
     "output_type": "stream",
     "text": [
      "/tmp/ipykernel_4176745/2658706054.py:14: RuntimeWarning: divide by zero encountered in log2\n",
      "  log2_ratio = np.log2(ratio)\n"
     ]
    }
   ],
   "source": [
    "perturbations_ko = []\n",
    "perts_ct2ct_ko = []\n",
    "\n",
    "# for ko\n",
    "for sample, pertdir in pert_folders_ko.items():\n",
    "    \n",
    "    print(sample)\n",
    "    # if not sample in ['Gliogenesis', 'NeuralPCW20']:\n",
    "    #     continue\n",
    "    \n",
    "    # Group all RGC cell types in neurogenesis\n",
    "    if 'Neural' in sample:\n",
    "        ct_common_labels = {\n",
    "            'vRG E': 'RGC',\n",
    "            'vRG L': 'RGC',\n",
    "            'tRG': 'RGC',\n",
    "            'oRG E': 'RGC',\n",
    "            'oRG L': 'RGC'\n",
    "        }\n",
    "    else:\n",
    "        ct_common_labels = None\n",
    "    def __load_perturbation(gp, pertdir=pertdir):\n",
    "        return(_load_perturbation(pertdir=pertdir,\n",
    "                                  ct_common_labels=ct_common_labels,\n",
    "                                  gp=gp))\n",
    "\n",
    "    # raise\n",
    "    folders = [x for x in os.listdir(pertdir) if '.ipynb' not in x]\n",
    "    results = process_map(__load_perturbation, \n",
    "                          folders, \n",
    "                          max_workers=n_cores)\n",
    "    \n",
    "    \n",
    "    pert_dfs = pd.concat([x['summary'] for x in results], ignore_index=True)\n",
    "    pert_dfs['Sample'] = sample\n",
    "    perturbations_ko.append(pert_dfs)\n",
    "    \n",
    "    ct2ct = pd.concat([x['ct2ct'] for x in results], ignore_index=True)\n",
    "    ct2ct['Sample'] = sample\n",
    "    perts_ct2ct_ko.append(ct2ct)\n",
    "\n",
    "    # break\n",
    "    \n",
    "    "
   ]
  },
  {
   "cell_type": "code",
   "execution_count": 23,
   "id": "5c8360fe-c398-4bd2-bb57-2660cb9bbc7e",
   "metadata": {},
   "outputs": [
    {
     "data": {
      "text/plain": [
       "{'Gliogenesis': '/users/genomics/xoel/codebases/co_new/data_foxg1/Gliogenesis/pert_OE_full/perturbation_transitions/',\n",
       " 'NeuralPCW16': '/users/genomics/xoel/codebases/co_new/data_foxg1/NeuralPCW16/pert_OE_full/perturbation_transitions/',\n",
       " 'NeuralPCW20': '/users/genomics/xoel/codebases/co_new/data_foxg1/NeuralPCW20/pert_OE_full/perturbation_transitions/',\n",
       " 'NeuralPCW21': '/users/genomics/xoel/codebases/co_new/data_foxg1/NeuralPCW21/pert_OE_full/perturbation_transitions/',\n",
       " 'NeuralPCW24': '/users/genomics/xoel/codebases/co_new/data_foxg1/NeuralPCW24/pert_OE_full/perturbation_transitions/'}"
      ]
     },
     "execution_count": 23,
     "metadata": {},
     "output_type": "execute_result"
    }
   ],
   "source": [
    "pert_folders_oe = {k: f+'pert_OE_full/perturbation_transitions/' for k, f in dirlist.items()}\n",
    "# pert_folders['Gliogenesis'] = pert_folders['Gliogenesis'].replace('pert_KO', 'perturbations')\n",
    "pert_folders_oe"
   ]
  },
  {
   "cell_type": "code",
   "execution_count": 24,
   "id": "f2a48ea8-1d3b-467d-86da-b4d192c73bbc",
   "metadata": {
    "scrolled": true,
    "tags": []
   },
   "outputs": [
    {
     "name": "stdout",
     "output_type": "stream",
     "text": [
      "Gliogenesis\n"
     ]
    },
    {
     "data": {
      "application/vnd.jupyter.widget-view+json": {
       "model_id": "144f0afb380e4769894672a8f7bdabe4",
       "version_major": 2,
       "version_minor": 0
      },
      "text/plain": [
       "  0%|          | 0/174 [00:00<?, ?it/s]"
      ]
     },
     "metadata": {},
     "output_type": "display_data"
    },
    {
     "name": "stderr",
     "output_type": "stream",
     "text": [
      "/tmp/ipykernel_4176745/2658706054.py:14: RuntimeWarning: divide by zero encountered in log2\n",
      "  log2_ratio = np.log2(ratio)\n",
      "/tmp/ipykernel_4176745/2658706054.py:14: RuntimeWarning: divide by zero encountered in log2\n",
      "  log2_ratio = np.log2(ratio)\n",
      "/tmp/ipykernel_4176745/2658706054.py:14: RuntimeWarning: divide by zero encountered in log2\n",
      "  log2_ratio = np.log2(ratio)\n",
      "/tmp/ipykernel_4176745/2658706054.py:14: RuntimeWarning: divide by zero encountered in log2\n",
      "  log2_ratio = np.log2(ratio)\n",
      "/tmp/ipykernel_4176745/2658706054.py:14: RuntimeWarning: divide by zero encountered in log2\n",
      "  log2_ratio = np.log2(ratio)\n",
      "/tmp/ipykernel_4176745/2658706054.py:14: RuntimeWarning: divide by zero encountered in log2\n",
      "  log2_ratio = np.log2(ratio)\n",
      "/tmp/ipykernel_4176745/2658706054.py:14: RuntimeWarning: divide by zero encountered in log2\n",
      "  log2_ratio = np.log2(ratio)\n",
      "/tmp/ipykernel_4176745/2658706054.py:14: RuntimeWarning: divide by zero encountered in log2\n",
      "  log2_ratio = np.log2(ratio)\n",
      "/tmp/ipykernel_4176745/2658706054.py:14: RuntimeWarning: divide by zero encountered in log2\n",
      "  log2_ratio = np.log2(ratio)\n",
      "/tmp/ipykernel_4176745/2658706054.py:14: RuntimeWarning: divide by zero encountered in log2\n",
      "  log2_ratio = np.log2(ratio)\n",
      "/tmp/ipykernel_4176745/2658706054.py:14: RuntimeWarning: divide by zero encountered in log2\n",
      "  log2_ratio = np.log2(ratio)\n"
     ]
    },
    {
     "name": "stdout",
     "output_type": "stream",
     "text": [
      "NeuralPCW16\n"
     ]
    },
    {
     "data": {
      "application/vnd.jupyter.widget-view+json": {
       "model_id": "d0b6c9278b2b4972b1a8d7605fa016a1",
       "version_major": 2,
       "version_minor": 0
      },
      "text/plain": [
       "  0%|          | 0/152 [00:00<?, ?it/s]"
      ]
     },
     "metadata": {},
     "output_type": "display_data"
    },
    {
     "name": "stdout",
     "output_type": "stream",
     "text": [
      "NeuralPCW20\n"
     ]
    },
    {
     "data": {
      "application/vnd.jupyter.widget-view+json": {
       "model_id": "a998b5b31cd44812ac5ba13da4d8a23a",
       "version_major": 2,
       "version_minor": 0
      },
      "text/plain": [
       "  0%|          | 0/177 [00:00<?, ?it/s]"
      ]
     },
     "metadata": {},
     "output_type": "display_data"
    },
    {
     "name": "stdout",
     "output_type": "stream",
     "text": [
      "NeuralPCW21\n"
     ]
    },
    {
     "data": {
      "application/vnd.jupyter.widget-view+json": {
       "model_id": "226acfcd94a342e3abd1c5e15cc8e74c",
       "version_major": 2,
       "version_minor": 0
      },
      "text/plain": [
       "  0%|          | 0/150 [00:00<?, ?it/s]"
      ]
     },
     "metadata": {},
     "output_type": "display_data"
    },
    {
     "name": "stdout",
     "output_type": "stream",
     "text": [
      "NeuralPCW24\n"
     ]
    },
    {
     "data": {
      "application/vnd.jupyter.widget-view+json": {
       "model_id": "7e3ffa7099e04cc3b8389f102045ac9a",
       "version_major": 2,
       "version_minor": 0
      },
      "text/plain": [
       "  0%|          | 0/178 [00:00<?, ?it/s]"
      ]
     },
     "metadata": {},
     "output_type": "display_data"
    }
   ],
   "source": [
    "perturbations_oe = []\n",
    "perts_ct2ct_oe = []\n",
    "for sample, pertdir in pert_folders_oe.items():\n",
    "    \n",
    "    print(sample)\n",
    "    # if not sample in ['Gliogenesis', 'NeuralPCW20']:\n",
    "    #     continue\n",
    "\n",
    "    # Group all RGC cell types in neurogenesis\n",
    "    # if sample =='NeuralPCW21':\n",
    "    #     continue\n",
    "        \n",
    "    if 'Neural' in sample:\n",
    "        ct_common_labels = {\n",
    "            'vRG E': 'RGC',\n",
    "            'vRG L': 'RGC',\n",
    "            'tRG': 'RGC',\n",
    "            'oRG E': 'RGC',\n",
    "            'oRG L': 'RGC'\n",
    "        }\n",
    "    else:\n",
    "        ct_common_labels = None\n",
    "    def __load_perturbation(gp, pertdir=pertdir):\n",
    "        return(_load_perturbation(pertdir=pertdir,\n",
    "                                  ct_common_labels=ct_common_labels,\n",
    "                                  gp=gp))\n",
    "\n",
    "    # raise\n",
    "    folders = [x for x in os.listdir(pertdir) if '.ipynb' not in x]\n",
    "    results = process_map(__load_perturbation, \n",
    "                          folders, \n",
    "                          max_workers=n_cores)\n",
    "    \n",
    "    \n",
    "    pert_dfs = pd.concat([x['summary'] for x in results], ignore_index=True)\n",
    "    pert_dfs['Sample'] = sample\n",
    "    perturbations_oe.append(pert_dfs)\n",
    "    \n",
    "    ct2ct = pd.concat([x['ct2ct'] for x in results], ignore_index=True)\n",
    "    ct2ct['Sample'] = sample\n",
    "    perts_ct2ct_oe.append(ct2ct)\n",
    "\n",
    "    # break\n",
    "    "
   ]
  },
  {
   "cell_type": "code",
   "execution_count": 25,
   "id": "19e4a7fe-ccfc-453b-a554-f1a81f4a974f",
   "metadata": {
    "scrolled": true,
    "tags": []
   },
   "outputs": [],
   "source": [
    "perturbations = pd.concat(perturbations_ko+perturbations_oe, ignore_index=True)\n",
    "perts_ct2ct = pd.concat(perts_ct2ct_ko+perts_ct2ct_oe, ignore_index=True)"
   ]
  },
  {
   "cell_type": "code",
   "execution_count": 26,
   "id": "6d1e3289-4e1e-4267-a1af-cc7a1d539df4",
   "metadata": {
    "tags": []
   },
   "outputs": [],
   "source": [
    "# perturbations = pd.concat(perturbations_ko, ignore_index=True)\n",
    "# perts_ct2ct = pd.concat(perts_ct2ct_ko, ignore_index=True)"
   ]
  },
  {
   "cell_type": "code",
   "execution_count": 128,
   "id": "e8acb840-6f6a-4751-9c89-eda2947bacda",
   "metadata": {},
   "outputs": [
    {
     "data": {
      "text/plain": [
       "array(['Astro', 'OPC', 'mGPC', 'oRG E', 'oRG L', 'tRG', 'vRG E', 'vRG L'],\n",
       "      dtype=object)"
      ]
     },
     "execution_count": 128,
     "metadata": {},
     "output_type": "execute_result"
    }
   ],
   "source": [
    "perturbations.groupby('Sample')['cell.type'].unique()['Gliogenesis']"
   ]
  },
  {
   "cell_type": "code",
   "execution_count": 27,
   "id": "fa9233d1-16ee-4f51-998d-364ba6fda49f",
   "metadata": {},
   "outputs": [],
   "source": [
    "perturbations.to_csv(resultsdir+'PerturbationSummary.txt', index=False, header=True, sep='\\t')\n",
    "perturbations.to_excel(resultsdir+'PerturbationSummary.xlsx', index=False, header=True)"
   ]
  },
  {
   "cell_type": "code",
   "execution_count": 28,
   "id": "be2127c7-40d9-45ab-a52c-61608560865c",
   "metadata": {},
   "outputs": [],
   "source": [
    "perts_ct2ct.to_csv(resultsdir+'PerturbationCT2CT.txt', index=False, header=True, sep='\\t')\n",
    "perts_ct2ct.to_excel(resultsdir+'PerturbationCT2CT.xlsx', index=False, header=True)"
   ]
  },
  {
   "cell_type": "code",
   "execution_count": 131,
   "id": "4159d3f6-d774-46af-80f1-5a4f404ec1da",
   "metadata": {},
   "outputs": [],
   "source": [
    "perturbations_foxg1 = perturbations.copy()\n",
    "perts_ct2ct_foxg1 = perts_ct2ct.copy()"
   ]
  },
  {
   "cell_type": "markdown",
   "id": "76260b91-7ee2-4034-9c05-334b4141e7b3",
   "metadata": {
    "tags": []
   },
   "source": [
    "### Split RGCs"
   ]
  },
  {
   "cell_type": "raw",
   "id": "3f081edf-cb80-4075-bcce-47968c11acc1",
   "metadata": {
    "tags": []
   },
   "source": [
    "pert_folders_ko = {k: f+'pert_KO/perturbation_transitions/' for k, f in dirlist.items()}\n",
    "# pert_folders['Gliogenesis'] = pert_folders['Gliogenesis'].replace('pert_KO', 'perturbations')\n",
    "pert_folders_ko\n",
    "\n",
    "# pert_folders_oe = {k: f+'pert_OE/perturbation_transitions/' for k, f in dirlist.items()}\n",
    "# # pert_folders['Gliogenesis'] = pert_folders['Gliogenesis'].replace('pert_KO', 'perturbations')\n",
    "# pert_folders_oe\n",
    "\n",
    "perturbations_ko = []\n",
    "perts_ct2ct_ko = []\n",
    "\n",
    "# for ko\n",
    "for sample, pertdir in pert_folders_ko.items():\n",
    "    \n",
    "    print(sample)\n",
    "    \n",
    "    def __load_perturbation(gp, pertdir=pertdir):\n",
    "        return(_load_perturbation(pertdir=pertdir,\n",
    "                                  ct_common_labels=None,\n",
    "                                  gp=gp))\n",
    "\n",
    "    # raise\n",
    "    folders = [x for x in os.listdir(pertdir) if '.ipynb' not in x]\n",
    "    results = process_map(__load_perturbation, \n",
    "                          folders, \n",
    "                          max_workers=n_cores)\n",
    "    \n",
    "    \n",
    "    pert_dfs = pd.concat([x['summary'] for x in results], ignore_index=True)\n",
    "    pert_dfs['Sample'] = sample\n",
    "    perturbations_ko.append(pert_dfs)\n",
    "    \n",
    "    ct2ct = pd.concat([x['ct2ct'] for x in results], ignore_index=True)\n",
    "    ct2ct['Sample'] = sample\n",
    "    perts_ct2ct_ko.append(ct2ct)\n",
    "\n",
    "    # break\n",
    "    \n",
    "    \n",
    "\n",
    "perturbations_oe = []\n",
    "perts_ct2ct_oe = []\n",
    "# for sample, pertdir in pert_folders_oe.items():\n",
    "    \n",
    "#     print(sample)\n",
    "    \n",
    "#     def __load_perturbation(gp, pertdir=pertdir):\n",
    "#         return(_load_perturbation(pertdir=pertdir,\n",
    "#                                   ct_common_labels=None,\n",
    "#                                   gp=gp))\n",
    "\n",
    "#     # raise\n",
    "#     folders = [x for x in os.listdir(pertdir) if '.ipynb' not in x]\n",
    "#     results = process_map(__load_perturbation, \n",
    "#                           folders, \n",
    "#                           max_workers=n_cores)\n",
    "    \n",
    "    \n",
    "#     pert_dfs = pd.concat([x['summary'] for x in results], ignore_index=True)\n",
    "#     pert_dfs['Sample'] = sample\n",
    "#     perturbations_oe.append(pert_dfs)\n",
    "    \n",
    "#     ct2ct = pd.concat([x['ct2ct'] for x in results], ignore_index=True)\n",
    "#     ct2ct['Sample'] = sample\n",
    "#     perts_ct2ct_oe.append(ct2ct)\n",
    "\n",
    "    # break\n",
    "    \n",
    "\n",
    "perturbations = pd.concat(perturbations_ko+perturbations_oe, ignore_index=True)\n",
    "perts_ct2ct = pd.concat(perts_ct2ct_ko+perts_ct2ct_oe, ignore_index=True)\n",
    "\n",
    "# perturbations.groupby('Sample')['cell.type'].unique()['Gliogenesis']\n",
    "\n",
    "perturbations.to_csv(resultsdir+'PerturbationSummaryNotjoined.txt', index=False, header=True, sep='\\t')\n",
    "perturbations.to_excel(resultsdir+'PerturbationSummaryNotjoined.xlsx', index=False, header=True)\n",
    "\n",
    "perts_ct2ct.to_csv(resultsdir+'PerturbationCT2CTNotjoined.txt', index=False, header=True, sep='\\t')\n",
    "perts_ct2ct.to_excel(resultsdir+'PerturbationCT2CTNotjoined.xlsx', index=False, header=True)"
   ]
  },
  {
   "cell_type": "markdown",
   "id": "d35fbdde-dabc-4ba3-96ff-3b61044efd73",
   "metadata": {
    "tags": []
   },
   "source": [
    "## Load results from full perturbation model"
   ]
  },
  {
   "cell_type": "raw",
   "id": "7616f3df-cd17-4b5d-8173-5a93567f38c3",
   "metadata": {},
   "source": [
    "pert_folders = {k: f.replace('data_foxg1', 'data')+'perturbations/perturbation_transitions/' for k, f in dirlist.items()}\n",
    "# pert_folders['Gliogenesis'] = pert_folders['Gliogenesis'].replace('pert_KO', 'perturbations')\n",
    "pert_folders"
   ]
  },
  {
   "cell_type": "raw",
   "id": "40bc1d23-9ae9-40b4-aa40-a1170493ad77",
   "metadata": {
    "tags": []
   },
   "source": [
    "perturbations = []\n",
    "perts_ct2ct = []\n",
    "\n",
    "for sample, pertdir in pert_folders.items():\n",
    "    \n",
    "    print(sample)\n",
    "    \n",
    "    # Group all RGC cell types in neurogenesis\n",
    "    if 'Neural' in sample:\n",
    "        ct_common_labels = {\n",
    "            'vRG E': 'RGC',\n",
    "            'vRG L': 'RGC',\n",
    "            'tRG': 'RGC',\n",
    "            'oRG E': 'RGC',\n",
    "            'oRG L': 'RGC'\n",
    "        }\n",
    "    else:\n",
    "        ct_common_labels = None\n",
    "    def __load_perturbation(gp, pertdir=pertdir):\n",
    "        return(_load_perturbation(pertdir=pertdir,\n",
    "                                  ct_common_labels=ct_common_labels,\n",
    "                                  gp=gp))\n",
    "\n",
    "    # raise\n",
    "    folders = [x for x in os.listdir(pertdir) if '.ipynb' not in x]\n",
    "    results = process_map(__load_perturbation, \n",
    "                          folders, \n",
    "                          max_workers=n_cores)\n",
    "    \n",
    "    \n",
    "    pert_dfs = pd.concat([x['summary'] for x in results], ignore_index=True)\n",
    "    pert_dfs['Sample'] = sample\n",
    "    perturbations.append(pert_dfs)\n",
    "    \n",
    "    ct2ct = pd.concat([x['ct2ct'] for x in results], ignore_index=True)\n",
    "    ct2ct['Sample'] = sample\n",
    "    perts_ct2ct.append(ct2ct)\n",
    "\n",
    "    # break\n",
    "    \n",
    "perturbations = pd.concat(perturbations, ignore_index=True)\n",
    "perts_ct2ct = pd.concat(perts_ct2ct, ignore_index=True)"
   ]
  },
  {
   "cell_type": "raw",
   "id": "60e15b3e-8057-40ac-b7fe-e4cf17733b98",
   "metadata": {},
   "source": [
    "perturbations = pd.concat([perturbations.assign(model='full'), perturbations_foxg1.assign(model='foxg1')], axis=0, ignore_index=True)\n",
    "perts_ct2ct = pd.concat([perts_ct2ct.assign(model='full'), perts_ct2ct_foxg1.assign(model='foxg1')], axis=0, ignore_index=True)"
   ]
  },
  {
   "cell_type": "raw",
   "id": "6ab7a9fe-e45a-409f-88b8-d271582f1ea5",
   "metadata": {},
   "source": [
    "perturbations.to_csv(resultsdir+'PerturbationSummaryFull.txt', index=False, header=True, sep='\\t')\n",
    "perturbations.to_excel(resultsdir+'PerturbationSummaryFull.xlsx', index=False, header=True)"
   ]
  },
  {
   "cell_type": "raw",
   "id": "ccce53cf-5480-4b87-8178-5281c6e3b98f",
   "metadata": {},
   "source": [
    "perts_ct2ct.to_csv(resultsdir+'PerturbationCT2CTFull.txt', index=False, header=True, sep='\\t')\n",
    "perts_ct2ct.to_excel(resultsdir+'PerturbationCT2CTFull.xlsx', index=False, header=True)"
   ]
  },
  {
   "cell_type": "raw",
   "id": "2967877a-8127-4271-8dc7-a6c5c3b7d086",
   "metadata": {},
   "source": [
    "(perturbations['Pert'] == 'OE').value_counts()"
   ]
  },
  {
   "cell_type": "raw",
   "id": "7ad715f5-d239-42b2-a351-82bd14240e77",
   "metadata": {
    "tags": []
   },
   "source": [
    "### For comparison with Noack figure"
   ]
  },
  {
   "cell_type": "raw",
   "id": "0e60cfd5-b5d2-4b25-a792-57e593c99d1e",
   "metadata": {
    "tags": []
   },
   "source": [
    "#### Data from Trevino"
   ]
  },
  {
   "cell_type": "raw",
   "id": "b69566b2-432a-4e32-a06d-cd52a1d14fac",
   "metadata": {},
   "source": [
    "ct_common_labels = {\n",
    "    'vRG E': 'RGC',\n",
    "    'vRG L': 'RGC',\n",
    "    'tRG': 'RGC',\n",
    "    'oRG E': 'RGC',\n",
    "    'oRG L': 'RGC',\n",
    "\n",
    "    'nIPC': 'nIPC',\n",
    "\n",
    "    'Neu E': 'Neural'}\n",
    "ct_common_labels.update({f'GluN{i}':'Neural' for i in range(1, 9)})\n",
    "ct_common_labels"
   ]
  },
  {
   "cell_type": "raw",
   "id": "1174a937-f32d-4d93-bcf9-7c16f819cca8",
   "metadata": {
    "tags": []
   },
   "source": [
    "perturbations = []\n",
    "perts_ct2ct = []\n",
    "\n",
    "for sample, pertdir in pert_folders.items():\n",
    "    \n",
    "    \n",
    "    # Group all RGC cell types in neurogenesis\n",
    "    if not 'Neural' in sample:\n",
    "        continue\n",
    "    print(sample)\n",
    "        \n",
    "    def __load_perturbation(gp, pertdir=pertdir):\n",
    "        return(_load_perturbation(pertdir=pertdir,\n",
    "                                  ct_common_labels=ct_common_labels,\n",
    "                                  gp=gp))\n",
    "\n",
    "    # raise\n",
    "    folders = [x for x in os.listdir(pertdir) if '.ipynb' not in x]\n",
    "    results = process_map(__load_perturbation, \n",
    "                          folders, \n",
    "                          max_workers=n_cores)\n",
    "    \n",
    "    \n",
    "    pert_dfs = pd.concat([x['summary'] for x in results], ignore_index=True)\n",
    "    pert_dfs['Sample'] = sample\n",
    "    perturbations.append(pert_dfs)\n",
    "    \n",
    "    ct2ct = pd.concat([x['ct2ct'] for x in results], ignore_index=True)\n",
    "    ct2ct['Sample'] = sample\n",
    "    perts_ct2ct.append(ct2ct)\n",
    "\n",
    "    # break\n",
    "    \n",
    "perturbations = pd.concat(perturbations, ignore_index=True)\n",
    "perts_ct2ct = pd.concat(perts_ct2ct, ignore_index=True)"
   ]
  },
  {
   "cell_type": "raw",
   "id": "6db1e72d-2269-48d5-b42d-17a2b3a904ba",
   "metadata": {},
   "source": [
    "perturbations.groupby('Sample')['cell.type'].unique()['NeuralPCW20']"
   ]
  },
  {
   "cell_type": "raw",
   "id": "c49ac1f6-d25c-4fdd-a376-540ee20a5551",
   "metadata": {},
   "source": [
    "perturbations.to_csv(resultsdir+'PerturbationSummaryNeurogenesis.txt', index=False, header=True, sep='\\t')\n",
    "perturbations.to_excel(resultsdir+'PerturbationSummaryNeurogenesis.xlsx', index=False, header=True)"
   ]
  },
  {
   "cell_type": "raw",
   "id": "763d6668-db9c-4d6f-bcdf-1311d1f671c7",
   "metadata": {},
   "source": [
    "perts_ct2ct.to_csv(resultsdir+'PerturbationCT2CTNeurogenesis.txt', index=False, header=True, sep='\\t')\n",
    "perts_ct2ct.to_excel(resultsdir+'PerturbationCT2CTNeurogenesis.xlsx', index=False, header=True)"
   ]
  },
  {
   "cell_type": "raw",
   "id": "b7976efc-126c-4ea5-8d84-72cb8652d2e8",
   "metadata": {},
   "source": [
    "perturbations"
   ]
  },
  {
   "cell_type": "raw",
   "id": "371a86fd-f89f-4cf0-a678-05acb5360c12",
   "metadata": {},
   "source": [
    "#### Data from Noack"
   ]
  },
  {
   "cell_type": "raw",
   "id": "372f2514-df35-4291-bee9-69cfabc41e0a",
   "metadata": {},
   "source": [
    "ct_common_labels = {\n",
    "    'IPC': 'nIPC', \n",
    "    'IPC_M': 'nIPC', \n",
    "    'NSC': 'NSC',\n",
    "    'NSC_M': 'NSC',\n",
    "    'PN1': 'Neural',\n",
    "    'PN2': 'Neural',\n",
    "    'PN3': 'Neural'\n",
    "}"
   ]
  },
  {
   "cell_type": "raw",
   "id": "4e1d37c4-ca21-4225-acc6-1a80003f97e8",
   "metadata": {
    "tags": []
   },
   "source": [
    "perturbations = []\n",
    "perts_ct2ct = []\n",
    "\n",
    "sample, pertdir = 'noack','/users/genomics/xoel/codebases/co_noack/data/original/perturbations/perturbation_transitions/'\n",
    "\n",
    "\n",
    "\n",
    "def __load_perturbation(gp, pertdir=pertdir):\n",
    "    return(_load_perturbation(pertdir=pertdir,\n",
    "                              ct_common_labels=ct_common_labels,\n",
    "                              gp=gp))\n",
    "\n",
    "# raise\n",
    "folders = [x for x in os.listdir(pertdir) if '.ipynb' not in x]\n",
    "results = process_map(__load_perturbation, \n",
    "                      folders, \n",
    "                      max_workers=n_cores)\n",
    "\n",
    "\n",
    "pert_dfs = pd.concat([x['summary'] for x in results], ignore_index=True)\n",
    "pert_dfs['Sample'] = sample\n",
    "\n",
    "ct2ct = pd.concat([x['ct2ct'] for x in results], ignore_index=True)\n",
    "ct2ct['Sample'] = sample\n",
    "# break\n"
   ]
  },
  {
   "cell_type": "raw",
   "id": "549dfd9a-6b32-4e54-809e-cfbc75c396f4",
   "metadata": {},
   "source": [
    "pert_dfs['cell.type'].unique()"
   ]
  },
  {
   "cell_type": "raw",
   "id": "6bed62c0-0b4d-493a-b709-e63198514c88",
   "metadata": {},
   "source": [
    "pert_dfs.to_csv(resultsdir+'PerturbationSummaryNoack.txt', index=False, header=True, sep='\\t')\n",
    "pert_dfs.to_excel(resultsdir+'PerturbationSummaryNoack.xlsx', index=False, header=True)"
   ]
  },
  {
   "cell_type": "raw",
   "id": "e10c67e9-5cd7-4c6c-a79c-f8f20f9c8d31",
   "metadata": {},
   "source": [
    "ct2ct.to_csv(resultsdir+'PerturbationCT2CTNoack.txt', index=False, header=True, sep='\\t')\n",
    "ct2ct.to_excel(resultsdir+'PerturbationCT2CTNoack.xlsx', index=False, header=True)"
   ]
  },
  {
   "cell_type": "raw",
   "id": "3603f447-ef19-41bb-a556-4254eb445d38",
   "metadata": {},
   "source": [
    "pert_dfs"
   ]
  },
  {
   "cell_type": "raw",
   "id": "ed625524-c481-46c3-a865-2b7ac314c5cf",
   "metadata": {},
   "source": []
  },
  {
   "cell_type": "raw",
   "id": "6a7a7358-2ff0-4b52-8eb1-93d6057c8993",
   "metadata": {},
   "source": [
    "### Tests"
   ]
  },
  {
   "cell_type": "raw",
   "id": "5aabc880-129f-487d-8c22-5cfd8803b459",
   "metadata": {},
   "source": [
    "order_neu = ['RGC', 'nIPC', 'Neural']"
   ]
  },
  {
   "cell_type": "raw",
   "id": "fe6fab41-f818-4666-8ecd-6d611ee0f04e",
   "metadata": {},
   "source": [
    "test_ct2ct = perts_ct2ct[perts_ct2ct['Sample']=='NeuralPCW20']\n",
    "test_ct2ct = test_ct2ct[test_ct2ct['CTO'] != test_ct2ct['CTF']]"
   ]
  },
  {
   "cell_type": "raw",
   "id": "804e0c26-c42f-47b8-bede-b1edcfcf7e21",
   "metadata": {},
   "source": [
    "test_ct2ct = test_ct2ct.assign(\n",
    "    CTO=pd.Categorical(test_ct2ct['CTO'], order_neu),\n",
    "    CTF=pd.Categorical(test_ct2ct['CTF'], order_neu))"
   ]
  },
  {
   "cell_type": "raw",
   "id": "25dcb6d4-9767-4ebf-9a8a-ef040d65afb2",
   "metadata": {},
   "source": [
    "pivoted = test_ct2ct.pivot(index=['Gene'], values='trans.pct', columns=['CTO', 'CTF'])"
   ]
  },
  {
   "cell_type": "raw",
   "id": "402bf038-2dff-4eb6-a307-f15a6c148f72",
   "metadata": {},
   "source": [
    "pivoted"
   ]
  },
  {
   "cell_type": "raw",
   "id": "8dfc7982-3efd-4467-bc71-aaea2fe989b4",
   "metadata": {},
   "source": [
    "import seaborn as sns"
   ]
  },
  {
   "cell_type": "raw",
   "id": "58ad18ab-e67e-4ba8-9702-f87d75f2e993",
   "metadata": {},
   "source": [
    "sns.clustermap(pivoted)"
   ]
  },
  {
   "cell_type": "markdown",
   "id": "7866243c-929d-4c3e-9935-8c6ed28995b4",
   "metadata": {
    "tags": []
   },
   "source": [
    "# Perturbation Score Sums (PSSs)"
   ]
  },
  {
   "cell_type": "code",
   "execution_count": 29,
   "id": "20ef60ff-36ed-4aea-b9b8-76b747edee9d",
   "metadata": {},
   "outputs": [
    {
     "data": {
      "text/plain": [
       "{'Gliogenesis': '/users/genomics/xoel/codebases/co_new/data_foxg1/Gliogenesis/pert_KO_full/perturbation_hdf5/',\n",
       " 'NeuralPCW16': '/users/genomics/xoel/codebases/co_new/data_foxg1/NeuralPCW16/pert_KO_full/perturbation_hdf5/',\n",
       " 'NeuralPCW20': '/users/genomics/xoel/codebases/co_new/data_foxg1/NeuralPCW20/pert_KO_full/perturbation_hdf5/',\n",
       " 'NeuralPCW21': '/users/genomics/xoel/codebases/co_new/data_foxg1/NeuralPCW21/pert_KO_full/perturbation_hdf5/',\n",
       " 'NeuralPCW24': '/users/genomics/xoel/codebases/co_new/data_foxg1/NeuralPCW24/pert_KO_full/perturbation_hdf5/'}"
      ]
     },
     "execution_count": 29,
     "metadata": {},
     "output_type": "execute_result"
    }
   ],
   "source": [
    "pss_folders = {k: f+'pert_KO_full/perturbation_hdf5/' for k, f in dirlist.items()}\n",
    "# pss_folders['Gliogenesis'] = pss_folders['Gliogenesis'].replace('pert_KO', 'perturbations')\n",
    "pss_folders"
   ]
  },
  {
   "cell_type": "code",
   "execution_count": 30,
   "id": "39d490c1-70c0-4b3b-a3ec-eb7eba2b925e",
   "metadata": {},
   "outputs": [],
   "source": [
    "psss = pd.concat([pd.concat([pd.read_csv(v+s, index_col=0) for s in os.listdir(v) if '.csv' in s], ignore_index=True).assign(sample=k) for k, v in pss_folders.items() ], ignore_index=True)"
   ]
  },
  {
   "cell_type": "raw",
   "id": "726433e9-e3fb-49bd-87cd-afaf8fac8431",
   "metadata": {},
   "source": [
    "psss = pd.concat([pd.read_csv(\n",
    "    v+'KO.PerturbationScores.csv', index_col=0\n",
    "    ).assign(sample=k) for k, v in pss_folders.items()],\n",
    "                axis=0, ignore_index=True)"
   ]
  },
  {
   "cell_type": "code",
   "execution_count": 31,
   "id": "a64f93dc-3757-4a61-82bc-a1895cd10874",
   "metadata": {
    "tags": []
   },
   "outputs": [
    {
     "data": {
      "text/html": [
       "<div>\n",
       "<style scoped>\n",
       "    .dataframe tbody tr th:only-of-type {\n",
       "        vertical-align: middle;\n",
       "    }\n",
       "\n",
       "    .dataframe tbody tr th {\n",
       "        vertical-align: top;\n",
       "    }\n",
       "\n",
       "    .dataframe thead th {\n",
       "        text-align: right;\n",
       "    }\n",
       "</style>\n",
       "<table border=\"1\" class=\"dataframe\">\n",
       "  <thead>\n",
       "    <tr style=\"text-align: right;\">\n",
       "      <th></th>\n",
       "      <th>group</th>\n",
       "      <th>score</th>\n",
       "      <th>gene</th>\n",
       "      <th>sample</th>\n",
       "    </tr>\n",
       "  </thead>\n",
       "  <tbody>\n",
       "    <tr>\n",
       "      <th>0</th>\n",
       "      <td>vRG</td>\n",
       "      <td>0.055545</td>\n",
       "      <td>TFAP2C</td>\n",
       "      <td>Gliogenesis</td>\n",
       "    </tr>\n",
       "    <tr>\n",
       "      <th>1</th>\n",
       "      <td>vtRG</td>\n",
       "      <td>0.054022</td>\n",
       "      <td>TFAP2C</td>\n",
       "      <td>Gliogenesis</td>\n",
       "    </tr>\n",
       "    <tr>\n",
       "      <th>2</th>\n",
       "      <td>oRG</td>\n",
       "      <td>0.092332</td>\n",
       "      <td>TFAP2C</td>\n",
       "      <td>Gliogenesis</td>\n",
       "    </tr>\n",
       "    <tr>\n",
       "      <th>3</th>\n",
       "      <td>RG E</td>\n",
       "      <td>0.042577</td>\n",
       "      <td>TFAP2C</td>\n",
       "      <td>Gliogenesis</td>\n",
       "    </tr>\n",
       "    <tr>\n",
       "      <th>4</th>\n",
       "      <td>RG L</td>\n",
       "      <td>0.055545</td>\n",
       "      <td>TFAP2C</td>\n",
       "      <td>Gliogenesis</td>\n",
       "    </tr>\n",
       "    <tr>\n",
       "      <th>...</th>\n",
       "      <td>...</td>\n",
       "      <td>...</td>\n",
       "      <td>...</td>\n",
       "      <td>...</td>\n",
       "    </tr>\n",
       "    <tr>\n",
       "      <th>28382</th>\n",
       "      <td>not_nIPC</td>\n",
       "      <td>1.240779</td>\n",
       "      <td>SOX8</td>\n",
       "      <td>NeuralPCW24</td>\n",
       "    </tr>\n",
       "    <tr>\n",
       "      <th>28383</th>\n",
       "      <td>not_Neu E</td>\n",
       "      <td>1.894556</td>\n",
       "      <td>SOX8</td>\n",
       "      <td>NeuralPCW24</td>\n",
       "    </tr>\n",
       "    <tr>\n",
       "      <th>28384</th>\n",
       "      <td>not_GluN5</td>\n",
       "      <td>1.441386</td>\n",
       "      <td>SOX8</td>\n",
       "      <td>NeuralPCW24</td>\n",
       "    </tr>\n",
       "    <tr>\n",
       "      <th>28385</th>\n",
       "      <td>not_GluN6</td>\n",
       "      <td>1.560752</td>\n",
       "      <td>SOX8</td>\n",
       "      <td>NeuralPCW24</td>\n",
       "    </tr>\n",
       "    <tr>\n",
       "      <th>28386</th>\n",
       "      <td>not_GluN8</td>\n",
       "      <td>1.759076</td>\n",
       "      <td>SOX8</td>\n",
       "      <td>NeuralPCW24</td>\n",
       "    </tr>\n",
       "  </tbody>\n",
       "</table>\n",
       "<p>28387 rows × 4 columns</p>\n",
       "</div>"
      ],
      "text/plain": [
       "           group     score    gene       sample\n",
       "0            vRG  0.055545  TFAP2C  Gliogenesis\n",
       "1           vtRG  0.054022  TFAP2C  Gliogenesis\n",
       "2            oRG  0.092332  TFAP2C  Gliogenesis\n",
       "3           RG E  0.042577  TFAP2C  Gliogenesis\n",
       "4           RG L  0.055545  TFAP2C  Gliogenesis\n",
       "...          ...       ...     ...          ...\n",
       "28382   not_nIPC  1.240779    SOX8  NeuralPCW24\n",
       "28383  not_Neu E  1.894556    SOX8  NeuralPCW24\n",
       "28384  not_GluN5  1.441386    SOX8  NeuralPCW24\n",
       "28385  not_GluN6  1.560752    SOX8  NeuralPCW24\n",
       "28386  not_GluN8  1.759076    SOX8  NeuralPCW24\n",
       "\n",
       "[28387 rows x 4 columns]"
      ]
     },
     "execution_count": 31,
     "metadata": {},
     "output_type": "execute_result"
    }
   ],
   "source": [
    "psss"
   ]
  },
  {
   "cell_type": "code",
   "execution_count": 32,
   "id": "efe0da7d-90f9-4b82-8948-63c474c169c7",
   "metadata": {},
   "outputs": [],
   "source": [
    "psss.group = pd.Categorical(psss.group, psss.group.unique())"
   ]
  },
  {
   "cell_type": "code",
   "execution_count": 33,
   "id": "e14a1eef-e7a5-4c0b-8516-058cfb07e168",
   "metadata": {},
   "outputs": [],
   "source": [
    "psss.to_csv(resultsdir+'PSSs.txt', index=False, header=True, sep='\\t')"
   ]
  },
  {
   "cell_type": "code",
   "execution_count": 79,
   "id": "c50634a6-5039-4ae3-981e-47fd319b0eb1",
   "metadata": {},
   "outputs": [],
   "source": [
    "# psss_wide = psss.pivot(index='gene', columns=['sample', 'group'], values='log1p')\n",
    "# psss_wide.to_excel(resultsdir+'PSSs.xlsx', index=False, header=True)"
   ]
  },
  {
   "cell_type": "raw",
   "id": "262a0fd2-6ff7-4258-96f3-08b21fbc345b",
   "metadata": {},
   "source": [
    "import seaborn as sns\n",
    "{k: sns.clustermap(\n",
    "    v.pivot(columns='gene', index='group', values='log1p').fillna(0).loc[lambda x: x.sum(1)!=0, lambda x: x.sum(0)!=0],\n",
    "    row_cluster=False, \n",
    "    standard_scale=1,\n",
    "    figsize=(15,8),\n",
    "    cbar_pos=None,\n",
    "    cbar=False,\n",
    ")\n",
    " for k, v in psss.groupby('sample', dropna=True, as_index=False)}"
   ]
  },
  {
   "cell_type": "code",
   "execution_count": 80,
   "id": "cf60a9d5-4ff1-44fe-988a-8b79cd8b8696",
   "metadata": {},
   "outputs": [],
   "source": [
    "psss_foxg1 = psss.copy()"
   ]
  },
  {
   "cell_type": "markdown",
   "id": "5b1fef2e-48bf-49e2-87e5-e8077e7280a1",
   "metadata": {},
   "source": [
    "### Add full model"
   ]
  },
  {
   "cell_type": "code",
   "execution_count": 81,
   "id": "195bc30a-0203-44ef-96c5-bc99aa47ed83",
   "metadata": {},
   "outputs": [
    {
     "data": {
      "text/plain": [
       "{'Gliogenesis': '/users/genomics/xoel/codebases/co_new/data/Gliogenesis/perturbations/perturbation_hdf5/',\n",
       " 'NeuralPCW16': '/users/genomics/xoel/codebases/co_new/data/NeuralPCW16/perturbations/perturbation_hdf5/',\n",
       " 'NeuralPCW20': '/users/genomics/xoel/codebases/co_new/data/NeuralPCW20/perturbations/perturbation_hdf5/',\n",
       " 'NeuralPCW21': '/users/genomics/xoel/codebases/co_new/data/NeuralPCW21/perturbations/perturbation_hdf5/',\n",
       " 'NeuralPCW24': '/users/genomics/xoel/codebases/co_new/data/NeuralPCW24/perturbations/perturbation_hdf5/'}"
      ]
     },
     "execution_count": 81,
     "metadata": {},
     "output_type": "execute_result"
    }
   ],
   "source": [
    "pss_folders = {k: f.replace('data_foxg1', 'data')+'perturbations/perturbation_hdf5/' for k, f in dirlist.items()}\n",
    "# pss_folders['Gliogenesis'] = pss_folders['Gliogenesis'].replace('pert_KO', 'perturbations')\n",
    "pss_folders"
   ]
  },
  {
   "cell_type": "code",
   "execution_count": 82,
   "id": "49a4251f-f722-4ae4-8fc2-fe5703fa10e2",
   "metadata": {},
   "outputs": [
    {
     "data": {
      "text/plain": [
       "{'Gliogenesis': '/users/genomics/xoel/codebases/co_new/data/Gliogenesis/perturbations/perturbation_hdf5/',\n",
       " 'NeuralPCW16': '/users/genomics/xoel/codebases/co_new/data/NeuralPCW16/perturbations/perturbation_hdf5/',\n",
       " 'NeuralPCW20': '/users/genomics/xoel/codebases/co_new/data/NeuralPCW20/perturbations/perturbation_hdf5/',\n",
       " 'NeuralPCW21': '/users/genomics/xoel/codebases/co_new/data/NeuralPCW21/perturbations/perturbation_hdf5/',\n",
       " 'NeuralPCW24': '/users/genomics/xoel/codebases/co_new/data/NeuralPCW24/perturbations/perturbation_hdf5/'}"
      ]
     },
     "execution_count": 82,
     "metadata": {},
     "output_type": "execute_result"
    }
   ],
   "source": [
    "pss_folders"
   ]
  },
  {
   "cell_type": "code",
   "execution_count": 83,
   "id": "cd206691-6ab2-48ad-a81e-e5f99551a700",
   "metadata": {},
   "outputs": [
    {
     "data": {
      "application/vnd.jupyter.widget-view+json": {
       "model_id": "78d2c905c13144b8b453c116fb2a79e1",
       "version_major": 2,
       "version_minor": 0
      },
      "text/plain": [
       "  0%|          | 0/5 [00:00<?, ?it/s]"
      ]
     },
     "metadata": {},
     "output_type": "display_data"
    }
   ],
   "source": [
    "psss = pd.concat([pd.concat([pd.read_csv(v+s, index_col=0) for s in os.listdir(v) if '.csv' in s], ignore_index=True).assign(sample=k) for k, v in tqdm(pss_folders.items()) ], ignore_index=True)"
   ]
  },
  {
   "cell_type": "raw",
   "id": "19290980-25e7-4145-ba96-7f89d18317da",
   "metadata": {},
   "source": [
    "psss = pd.concat([pd.read_csv(\n",
    "    v+'KO.PerturbationScores.csv', index_col=0\n",
    "    ).assign(sample=k) for k, v in pss_folders.items()],\n",
    "                axis=0, ignore_index=True)"
   ]
  },
  {
   "cell_type": "code",
   "execution_count": 84,
   "id": "658ccdb4-e1f5-4fb7-8667-40a9732b2579",
   "metadata": {
    "tags": []
   },
   "outputs": [
    {
     "data": {
      "text/html": [
       "<div>\n",
       "<style scoped>\n",
       "    .dataframe tbody tr th:only-of-type {\n",
       "        vertical-align: middle;\n",
       "    }\n",
       "\n",
       "    .dataframe tbody tr th {\n",
       "        vertical-align: top;\n",
       "    }\n",
       "\n",
       "    .dataframe thead th {\n",
       "        text-align: right;\n",
       "    }\n",
       "</style>\n",
       "<table border=\"1\" class=\"dataframe\">\n",
       "  <thead>\n",
       "    <tr style=\"text-align: right;\">\n",
       "      <th></th>\n",
       "      <th>group</th>\n",
       "      <th>score</th>\n",
       "      <th>gene</th>\n",
       "      <th>sample</th>\n",
       "    </tr>\n",
       "  </thead>\n",
       "  <tbody>\n",
       "    <tr>\n",
       "      <th>0</th>\n",
       "      <td>vRG</td>\n",
       "      <td>0.009213</td>\n",
       "      <td>MEF2C</td>\n",
       "      <td>Gliogenesis</td>\n",
       "    </tr>\n",
       "    <tr>\n",
       "      <th>1</th>\n",
       "      <td>vtRG</td>\n",
       "      <td>0.009381</td>\n",
       "      <td>MEF2C</td>\n",
       "      <td>Gliogenesis</td>\n",
       "    </tr>\n",
       "    <tr>\n",
       "      <th>2</th>\n",
       "      <td>oRG</td>\n",
       "      <td>0.158319</td>\n",
       "      <td>MEF2C</td>\n",
       "      <td>Gliogenesis</td>\n",
       "    </tr>\n",
       "    <tr>\n",
       "      <th>3</th>\n",
       "      <td>RG E</td>\n",
       "      <td>0.004935</td>\n",
       "      <td>MEF2C</td>\n",
       "      <td>Gliogenesis</td>\n",
       "    </tr>\n",
       "    <tr>\n",
       "      <th>4</th>\n",
       "      <td>RG L</td>\n",
       "      <td>0.009213</td>\n",
       "      <td>MEF2C</td>\n",
       "      <td>Gliogenesis</td>\n",
       "    </tr>\n",
       "    <tr>\n",
       "      <th>...</th>\n",
       "      <td>...</td>\n",
       "      <td>...</td>\n",
       "      <td>...</td>\n",
       "      <td>...</td>\n",
       "    </tr>\n",
       "    <tr>\n",
       "      <th>26806</th>\n",
       "      <td>not_nIPC</td>\n",
       "      <td>19.159503</td>\n",
       "      <td>CREB5</td>\n",
       "      <td>NeuralPCW24</td>\n",
       "    </tr>\n",
       "    <tr>\n",
       "      <th>26807</th>\n",
       "      <td>not_Neu E</td>\n",
       "      <td>20.262669</td>\n",
       "      <td>CREB5</td>\n",
       "      <td>NeuralPCW24</td>\n",
       "    </tr>\n",
       "    <tr>\n",
       "      <th>26808</th>\n",
       "      <td>not_GluN5</td>\n",
       "      <td>7.495030</td>\n",
       "      <td>CREB5</td>\n",
       "      <td>NeuralPCW24</td>\n",
       "    </tr>\n",
       "    <tr>\n",
       "      <th>26809</th>\n",
       "      <td>not_GluN6</td>\n",
       "      <td>17.094604</td>\n",
       "      <td>CREB5</td>\n",
       "      <td>NeuralPCW24</td>\n",
       "    </tr>\n",
       "    <tr>\n",
       "      <th>26810</th>\n",
       "      <td>not_GluN8</td>\n",
       "      <td>15.078649</td>\n",
       "      <td>CREB5</td>\n",
       "      <td>NeuralPCW24</td>\n",
       "    </tr>\n",
       "  </tbody>\n",
       "</table>\n",
       "<p>26811 rows × 4 columns</p>\n",
       "</div>"
      ],
      "text/plain": [
       "           group      score   gene       sample\n",
       "0            vRG   0.009213  MEF2C  Gliogenesis\n",
       "1           vtRG   0.009381  MEF2C  Gliogenesis\n",
       "2            oRG   0.158319  MEF2C  Gliogenesis\n",
       "3           RG E   0.004935  MEF2C  Gliogenesis\n",
       "4           RG L   0.009213  MEF2C  Gliogenesis\n",
       "...          ...        ...    ...          ...\n",
       "26806   not_nIPC  19.159503  CREB5  NeuralPCW24\n",
       "26807  not_Neu E  20.262669  CREB5  NeuralPCW24\n",
       "26808  not_GluN5   7.495030  CREB5  NeuralPCW24\n",
       "26809  not_GluN6  17.094604  CREB5  NeuralPCW24\n",
       "26810  not_GluN8  15.078649  CREB5  NeuralPCW24\n",
       "\n",
       "[26811 rows x 4 columns]"
      ]
     },
     "execution_count": 84,
     "metadata": {},
     "output_type": "execute_result"
    }
   ],
   "source": [
    "psss"
   ]
  },
  {
   "cell_type": "code",
   "execution_count": 85,
   "id": "120c5456-d2a6-4259-ae09-24bda68381e1",
   "metadata": {},
   "outputs": [],
   "source": [
    "psss.group = pd.Categorical(psss.group, psss.group.unique())"
   ]
  },
  {
   "cell_type": "code",
   "execution_count": 86,
   "id": "4dffab94-e24a-4687-8494-2ec004e10c59",
   "metadata": {},
   "outputs": [],
   "source": [
    "psssfull = pd.concat([psss.assign(model='full'), psss_foxg1.assign(model='foxg1')], axis=0, ignore_index=True)"
   ]
  },
  {
   "cell_type": "code",
   "execution_count": 87,
   "id": "d4cb19ef-902d-4c3b-8ac3-d9a78cf8585c",
   "metadata": {},
   "outputs": [
    {
     "data": {
      "text/plain": [
       "full     26811\n",
       "foxg1     3993\n",
       "Name: model, dtype: int64"
      ]
     },
     "execution_count": 87,
     "metadata": {},
     "output_type": "execute_result"
    }
   ],
   "source": [
    "psssfull.model.value_counts()"
   ]
  },
  {
   "cell_type": "code",
   "execution_count": 88,
   "id": "066f34c9-d435-42ac-866f-e5dba5d57d15",
   "metadata": {},
   "outputs": [],
   "source": [
    "psssfull.to_csv(resultsdir+'PSSsFull.txt', index=False, header=True, sep='\\t')"
   ]
  },
  {
   "cell_type": "markdown",
   "id": "101bf312-d1e0-4e58-982a-d62237aa01fe",
   "metadata": {
    "tags": []
   },
   "source": [
    "# Gene presence"
   ]
  },
  {
   "cell_type": "code",
   "execution_count": 45,
   "id": "9d2227a5-3a98-4825-bd94-c1a39c306275",
   "metadata": {},
   "outputs": [],
   "source": [
    "import pandas as pd\n",
    "import numpy as np"
   ]
  },
  {
   "cell_type": "code",
   "execution_count": 46,
   "id": "efbb181e-14a4-445c-99cb-77a9619185fb",
   "metadata": {},
   "outputs": [],
   "source": [
    "## Files"
   ]
  },
  {
   "cell_type": "code",
   "execution_count": 47,
   "id": "0754f47b-b9e0-4a42-afeb-a4738efe65c8",
   "metadata": {},
   "outputs": [],
   "source": [
    "from tqdm.auto import tqdm"
   ]
  },
  {
   "cell_type": "code",
   "execution_count": 48,
   "id": "e12c3bfc-6be3-4b8d-aeb4-b3323c1ce1e1",
   "metadata": {},
   "outputs": [],
   "source": [
    "import scanpy as sc\n",
    "import pandas as pd\n",
    "import numpy as np\n",
    "from tqdm.contrib.concurrent import process_map  # or thread_map"
   ]
  },
  {
   "cell_type": "code",
   "execution_count": 51,
   "id": "2b1ab67f-6096-4543-8435-5a91c6516449",
   "metadata": {},
   "outputs": [
    {
     "data": {
      "text/html": [
       "<div>\n",
       "<style scoped>\n",
       "    .dataframe tbody tr th:only-of-type {\n",
       "        vertical-align: middle;\n",
       "    }\n",
       "\n",
       "    .dataframe tbody tr th {\n",
       "        vertical-align: top;\n",
       "    }\n",
       "\n",
       "    .dataframe thead th {\n",
       "        text-align: right;\n",
       "    }\n",
       "</style>\n",
       "<table border=\"1\" class=\"dataframe\">\n",
       "  <thead>\n",
       "    <tr style=\"text-align: right;\">\n",
       "      <th></th>\n",
       "      <th>path</th>\n",
       "      <th>type</th>\n",
       "    </tr>\n",
       "  </thead>\n",
       "  <tbody>\n",
       "    <tr>\n",
       "      <th>ATAC GRN</th>\n",
       "      <td>base_grn.coaccessibility=0.8.score=8.base_grn....</td>\n",
       "      <td>parquet</td>\n",
       "    </tr>\n",
       "    <tr>\n",
       "      <th>CT GRN dir</th>\n",
       "      <td>cluster_GRN/</td>\n",
       "      <td>folder</td>\n",
       "    </tr>\n",
       "    <tr>\n",
       "      <th>Perturbation dir</th>\n",
       "      <td>pert_KO_full/perturbation_transitions/</td>\n",
       "      <td>folder</td>\n",
       "    </tr>\n",
       "    <tr>\n",
       "      <th>RNA HV</th>\n",
       "      <td>RNA.processed.h5ad</td>\n",
       "      <td>h5ad</td>\n",
       "    </tr>\n",
       "    <tr>\n",
       "      <th>RNA dataset</th>\n",
       "      <td>RNA.unprocessed.h5ad</td>\n",
       "      <td>h5ad</td>\n",
       "    </tr>\n",
       "  </tbody>\n",
       "</table>\n",
       "</div>"
      ],
      "text/plain": [
       "                                                               path     type\n",
       "ATAC GRN          base_grn.coaccessibility=0.8.score=8.base_grn....  parquet\n",
       "CT GRN dir                                             cluster_GRN/   folder\n",
       "Perturbation dir             pert_KO_full/perturbation_transitions/   folder\n",
       "RNA HV                                           RNA.processed.h5ad     h5ad\n",
       "RNA dataset                                    RNA.unprocessed.h5ad     h5ad"
      ]
     },
     "execution_count": 51,
     "metadata": {},
     "output_type": "execute_result"
    }
   ],
   "source": [
    "paths = pd.DataFrame({'path': {\n",
    "    'RNA dataset': 'RNA.unprocessed.h5ad',\n",
    "    'RNA HV': 'RNA.processed.h5ad',\n",
    "    'ATAC GRN': 'base_grn.coaccessibility=0.8.score=8.base_grn.parquet',\n",
    "    'CT GRN dir': 'cluster_GRN/',\n",
    "    'Perturbation dir': 'pert_KO_full/perturbation_transitions/'\n",
    "}})\n",
    "\n",
    "paths['type'] = paths['path'].apply(lambda x:\n",
    "                                    'folder' if x[-1] == '/' else x.split('.')[-1])\n",
    "\n",
    "paths"
   ]
  },
  {
   "cell_type": "code",
   "execution_count": 52,
   "id": "7c47f4e7-4b36-4e71-bd95-46abe58235a8",
   "metadata": {},
   "outputs": [],
   "source": [
    "def search_genes_in_pertdir(x, genetable):\n",
    "    \n",
    "    pert_genes = list({y.split('_')[0].split('.')[1] for y in os.listdir(x['path'])})\n",
    "        \n",
    "    genetable['Perturbed'] = genetable.index.isin(pert_genes)\n",
    "    \n",
    "    \n",
    "    return(genetable)\n",
    "\n",
    "def search_genes_in_ct_grns(x, genetable):\n",
    "    \n",
    "    grn_csvs = {k.split('.')[0]: x['path']+k for k in [p for p in os.listdir(x['path']) if \n",
    "                                                                     'raw_GRN' not in p and\n",
    "                                                                     '.ipynb' not in p]}\n",
    "    # print(grn_csvs)\n",
    "    grn_csvs = {k: pd.read_csv(f, index_col=0) for k,f in grn_csvs.items()}  \n",
    "    # print(grn_csvs)\n",
    "    grn_genes = {f'{k} GRN {t}': v.unique().tolist() for k,df in grn_csvs.items() for t,v in df[['source', 'target']].items()}\n",
    "    # print(grn_genes)\n",
    "    for col, gs in grn_genes.items():\n",
    "        genetable[col] = genetable.index.isin(gs)\n",
    "    \n",
    "    return(genetable)\n",
    "\n",
    "def search_genes_in_parquet(x, genetable):\n",
    "    data = pd.read_parquet(x['path'])\n",
    "    tfs = data.columns[2:].unique().tolist()\n",
    "    targets = data['gene_short_name'].unique().tolist()\n",
    "    \n",
    "    genetable[x.name + ' SOURCE'] = genetable.index.isin(tfs)\n",
    "    genetable[x.name + ' TARGET'] = genetable.index.isin(targets)\n",
    "    \n",
    "    \n",
    "    return(genetable)\n",
    "\n",
    "def search_genes_in_h5ad(x, genetable):\n",
    "    \n",
    "    data = sc.read_h5ad(x['path'], backed=True)\n",
    "    gset = data.var.index.unique().tolist()\n",
    "    \n",
    "    genetable[x.name] = genetable.index.isin(gset)\n",
    "    \n",
    "    \n",
    "    return(genetable)\n",
    "\n",
    "def search_genes(x, genelists):\n",
    "    \n",
    "    \n",
    "    genes = pd.Series(list({g for _,gs in glists.items() for g in gs}))\n",
    "    genetable = pd.DataFrame({k: genes.isin(gs) for k, gs in glists.items()})\n",
    "    genetable.index = genes.tolist()\n",
    "    \n",
    "    \n",
    "    \n",
    "    \n",
    "    if x['type'] == 'parquet':\n",
    "        # print('Doing parquet')\n",
    "        genetable = search_genes_in_parquet(x, genetable=genetable)\n",
    "        # print('Done')\n",
    "        \n",
    "    if x['type'] == 'h5ad':\n",
    "        # print('Doing h5ad')\n",
    "        genetable = search_genes_in_h5ad(x, genetable=genetable)\n",
    "        # print('Done')\n",
    "        \n",
    "    if 'cluster_GRN/' in x['path']:\n",
    "        # print('Doing cluster GRN')\n",
    "        genetable = search_genes_in_ct_grns(x, genetable=genetable)    \n",
    "        # print('Done')\n",
    "        \n",
    "    if 'perturbations/' in x['path']:\n",
    "        # print('Doing perturbations')\n",
    "        genetable = search_genes_in_pertdir(x, genetable=genetable)    \n",
    "        # print('Done')\n",
    "\n",
    "        \n",
    "    return(genetable)\n",
    "\n",
    "def search_path_prefix(prefix, paths, genelists):\n",
    "    \n",
    "    paths['path'] = prefix+paths['path']\n",
    "\n",
    "    genetable = None\n",
    "    dfs = list()\n",
    "    for i in tqdm(range(paths.shape[0])):\n",
    "        # print(f'Processing {paths.iloc[i,0]}')\n",
    "        df = search_genes(x=paths.iloc[i,:], genelists=genelists)\n",
    "        if genetable is None:\n",
    "            genetable = df[list(genelists.keys())]\n",
    "        dfs.append(df.drop(list(genelists.keys()), axis=1))\n",
    "\n",
    "    genetable = pd.merge(\n",
    "        genetable,\n",
    "        pd.concat(dfs, axis=1, ignore_index=False),\n",
    "        left_index=True, right_index=True)    \n",
    "    \n",
    "    return(genetable)\n",
    "\n",
    "def _search_path_prefix(prefix):\n",
    "    return(search_path_prefix(prefix=prefix, paths=paths.copy(), genelists=glists))\n"
   ]
  },
  {
   "cell_type": "code",
   "execution_count": 53,
   "id": "c32fb27d-75a3-4c6e-8f73-45829ca058a4",
   "metadata": {
    "tags": []
   },
   "outputs": [],
   "source": [
    "# presence_dfs = {k: search_path_prefix(prefix=v, paths=paths.copy(), genelists=glists) for k, v in dirlist.items()}\n",
    "# presence_dfs"
   ]
  },
  {
   "cell_type": "code",
   "execution_count": 54,
   "id": "1e5fa053-876b-4efb-9746-0ff3a9a9c4fb",
   "metadata": {},
   "outputs": [],
   "source": [
    "ks,vs = tuple(zip(*dirlist.items()))"
   ]
  },
  {
   "cell_type": "code",
   "execution_count": 55,
   "id": "40a7ec65-11be-4d19-b76a-0525eca6ac49",
   "metadata": {
    "tags": []
   },
   "outputs": [
    {
     "data": {
      "application/vnd.jupyter.widget-view+json": {
       "model_id": "ea374bf7b3dc44ee81937abacb8b724c",
       "version_major": 2,
       "version_minor": 0
      },
      "text/plain": [
       "  0%|          | 0/5 [00:00<?, ?it/s]"
      ]
     },
     "metadata": {},
     "output_type": "display_data"
    },
    {
     "ename": "FileNotFoundError",
     "evalue": "[Errno 2] No such file or directory: '/users/genomics/xoel/codebases/co_new/data_foxg1/Gliogenesis/base_grn.coaccessibility=0.8.score=8.base_grn.parquet'",
     "output_type": "error",
     "traceback": [
      "\u001b[0;31m---------------------------------------------------------------------------\u001b[0m",
      "\u001b[0;31m_RemoteTraceback\u001b[0m                          Traceback (most recent call last)",
      "\u001b[0;31m_RemoteTraceback\u001b[0m: \n\"\"\"\nTraceback (most recent call last):\n  File \"/soft/system/software/Python/3.8.6-GCCcore-10.2.0/lib/python3.8/concurrent/futures/process.py\", line 239, in _process_worker\n    r = call_item.fn(*call_item.args, **call_item.kwargs)\n  File \"/soft/system/software/Python/3.8.6-GCCcore-10.2.0/lib/python3.8/concurrent/futures/process.py\", line 198, in _process_chunk\n    return [fn(*args) for args in chunk]\n  File \"/soft/system/software/Python/3.8.6-GCCcore-10.2.0/lib/python3.8/concurrent/futures/process.py\", line 198, in <listcomp>\n    return [fn(*args) for args in chunk]\n  File \"/tmp/ipykernel_4176745/1737670586.py\", line 100, in _search_path_prefix\n    return(search_path_prefix(prefix=prefix, paths=paths.copy(), genelists=glists))\n  File \"/tmp/ipykernel_4176745/1737670586.py\", line 87, in search_path_prefix\n    df = search_genes(x=paths.iloc[i,:], genelists=genelists)\n  File \"/tmp/ipykernel_4176745/1737670586.py\", line 58, in search_genes\n    genetable = search_genes_in_parquet(x, genetable=genetable)\n  File \"/tmp/ipykernel_4176745/1737670586.py\", line 26, in search_genes_in_parquet\n    data = pd.read_parquet(x['path'])\n  File \"/users/genomics/xoel/venvs/co_0.12/lib/python3.8/site-packages/pandas/io/parquet.py\", line 495, in read_parquet\n    return impl.read(\n  File \"/users/genomics/xoel/venvs/co_0.12/lib/python3.8/site-packages/pandas/io/parquet.py\", line 232, in read\n    path_or_handle, handles, kwargs[\"filesystem\"] = _get_path_or_handle(\n  File \"/users/genomics/xoel/venvs/co_0.12/lib/python3.8/site-packages/pandas/io/parquet.py\", line 101, in _get_path_or_handle\n    handles = get_handle(\n  File \"/users/genomics/xoel/venvs/co_0.12/lib/python3.8/site-packages/pandas/io/common.py\", line 711, in get_handle\n    handle = open(handle, ioargs.mode)\nFileNotFoundError: [Errno 2] No such file or directory: '/users/genomics/xoel/codebases/co_new/data_foxg1/Gliogenesis/base_grn.coaccessibility=0.8.score=8.base_grn.parquet'\n\"\"\"",
      "\nThe above exception was the direct cause of the following exception:\n",
      "\u001b[0;31mFileNotFoundError\u001b[0m                         Traceback (most recent call last)",
      "Cell \u001b[0;32mIn[55], line 8\u001b[0m\n\u001b[1;32m      1\u001b[0m \u001b[38;5;66;03m# presence_dfs = {}\u001b[39;00m\n\u001b[1;32m      2\u001b[0m \u001b[38;5;66;03m# for k, v in dirlist.items():\u001b[39;00m\n\u001b[1;32m      3\u001b[0m \u001b[38;5;66;03m#     print(k)\u001b[39;00m\n\u001b[1;32m      4\u001b[0m \u001b[38;5;66;03m#     presence_dfs[k] = search_path_prefix(prefix=v, paths=paths.copy(), genelists=glists)\u001b[39;00m\n\u001b[1;32m      7\u001b[0m presence_dfs \u001b[38;5;241m=\u001b[39m \u001b[38;5;28mdict\u001b[39m(\u001b[38;5;28mlist\u001b[39m(\u001b[38;5;28mzip\u001b[39m(ks, \n\u001b[0;32m----> 8\u001b[0m                              \u001b[43mprocess_map\u001b[49m\u001b[43m(\u001b[49m\u001b[43m_search_path_prefix\u001b[49m\u001b[43m,\u001b[49m\u001b[43m \u001b[49m\u001b[43mvs\u001b[49m\u001b[43m,\u001b[49m\u001b[43m \u001b[49m\u001b[43mmax_workers\u001b[49m\u001b[38;5;241;43m=\u001b[39;49m\u001b[38;5;28;43mlen\u001b[39;49m\u001b[43m(\u001b[49m\u001b[43mvs\u001b[49m\u001b[43m)\u001b[49m\u001b[43m)\u001b[49m)))\n",
      "File \u001b[0;32m~/venvs/co_0.12/lib/python3.8/site-packages/tqdm/contrib/concurrent.py:130\u001b[0m, in \u001b[0;36mprocess_map\u001b[0;34m(fn, *iterables, **tqdm_kwargs)\u001b[0m\n\u001b[1;32m    128\u001b[0m     tqdm_kwargs \u001b[38;5;241m=\u001b[39m tqdm_kwargs\u001b[38;5;241m.\u001b[39mcopy()\n\u001b[1;32m    129\u001b[0m     tqdm_kwargs[\u001b[38;5;124m\"\u001b[39m\u001b[38;5;124mlock_name\u001b[39m\u001b[38;5;124m\"\u001b[39m] \u001b[38;5;241m=\u001b[39m \u001b[38;5;124m\"\u001b[39m\u001b[38;5;124mmp_lock\u001b[39m\u001b[38;5;124m\"\u001b[39m\n\u001b[0;32m--> 130\u001b[0m \u001b[38;5;28;01mreturn\u001b[39;00m \u001b[43m_executor_map\u001b[49m\u001b[43m(\u001b[49m\u001b[43mProcessPoolExecutor\u001b[49m\u001b[43m,\u001b[49m\u001b[43m \u001b[49m\u001b[43mfn\u001b[49m\u001b[43m,\u001b[49m\u001b[43m \u001b[49m\u001b[38;5;241;43m*\u001b[39;49m\u001b[43miterables\u001b[49m\u001b[43m,\u001b[49m\u001b[43m \u001b[49m\u001b[38;5;241;43m*\u001b[39;49m\u001b[38;5;241;43m*\u001b[39;49m\u001b[43mtqdm_kwargs\u001b[49m\u001b[43m)\u001b[49m\n",
      "File \u001b[0;32m~/venvs/co_0.12/lib/python3.8/site-packages/tqdm/contrib/concurrent.py:76\u001b[0m, in \u001b[0;36m_executor_map\u001b[0;34m(PoolExecutor, fn, *iterables, **tqdm_kwargs)\u001b[0m\n\u001b[1;32m     74\u001b[0m     map_args\u001b[38;5;241m.\u001b[39mupdate(chunksize\u001b[38;5;241m=\u001b[39mchunksize)\n\u001b[1;32m     75\u001b[0m \u001b[38;5;28;01mwith\u001b[39;00m PoolExecutor(\u001b[38;5;241m*\u001b[39m\u001b[38;5;241m*\u001b[39mpool_kwargs) \u001b[38;5;28;01mas\u001b[39;00m ex:\n\u001b[0;32m---> 76\u001b[0m     \u001b[38;5;28;01mreturn\u001b[39;00m \u001b[38;5;28;43mlist\u001b[39;49m\u001b[43m(\u001b[49m\u001b[43mtqdm_class\u001b[49m\u001b[43m(\u001b[49m\u001b[43mex\u001b[49m\u001b[38;5;241;43m.\u001b[39;49m\u001b[43mmap\u001b[49m\u001b[43m(\u001b[49m\u001b[43mfn\u001b[49m\u001b[43m,\u001b[49m\u001b[43m \u001b[49m\u001b[38;5;241;43m*\u001b[39;49m\u001b[43miterables\u001b[49m\u001b[43m,\u001b[49m\u001b[43m \u001b[49m\u001b[38;5;241;43m*\u001b[39;49m\u001b[38;5;241;43m*\u001b[39;49m\u001b[43mmap_args\u001b[49m\u001b[43m)\u001b[49m\u001b[43m,\u001b[49m\u001b[43m \u001b[49m\u001b[38;5;241;43m*\u001b[39;49m\u001b[38;5;241;43m*\u001b[39;49m\u001b[43mkwargs\u001b[49m\u001b[43m)\u001b[49m\u001b[43m)\u001b[49m\n",
      "File \u001b[0;32m~/venvs/co_0.12/lib/python3.8/site-packages/tqdm/notebook.py:259\u001b[0m, in \u001b[0;36mtqdm_notebook.__iter__\u001b[0;34m(self)\u001b[0m\n\u001b[1;32m    257\u001b[0m \u001b[38;5;28;01mtry\u001b[39;00m:\n\u001b[1;32m    258\u001b[0m     it \u001b[38;5;241m=\u001b[39m \u001b[38;5;28msuper\u001b[39m(tqdm_notebook, \u001b[38;5;28mself\u001b[39m)\u001b[38;5;241m.\u001b[39m\u001b[38;5;21m__iter__\u001b[39m()\n\u001b[0;32m--> 259\u001b[0m     \u001b[38;5;28;01mfor\u001b[39;00m obj \u001b[38;5;129;01min\u001b[39;00m it:\n\u001b[1;32m    260\u001b[0m         \u001b[38;5;66;03m# return super(tqdm...) will not catch exception\u001b[39;00m\n\u001b[1;32m    261\u001b[0m         \u001b[38;5;28;01myield\u001b[39;00m obj\n\u001b[1;32m    262\u001b[0m \u001b[38;5;66;03m# NB: except ... [ as ...] breaks IPython async KeyboardInterrupt\u001b[39;00m\n",
      "File \u001b[0;32m~/venvs/co_0.12/lib/python3.8/site-packages/tqdm/std.py:1195\u001b[0m, in \u001b[0;36mtqdm.__iter__\u001b[0;34m(self)\u001b[0m\n\u001b[1;32m   1192\u001b[0m time \u001b[38;5;241m=\u001b[39m \u001b[38;5;28mself\u001b[39m\u001b[38;5;241m.\u001b[39m_time\n\u001b[1;32m   1194\u001b[0m \u001b[38;5;28;01mtry\u001b[39;00m:\n\u001b[0;32m-> 1195\u001b[0m     \u001b[38;5;28;01mfor\u001b[39;00m obj \u001b[38;5;129;01min\u001b[39;00m iterable:\n\u001b[1;32m   1196\u001b[0m         \u001b[38;5;28;01myield\u001b[39;00m obj\n\u001b[1;32m   1197\u001b[0m         \u001b[38;5;66;03m# Update and possibly print the progressbar.\u001b[39;00m\n\u001b[1;32m   1198\u001b[0m         \u001b[38;5;66;03m# Note: does not call self.update(1) for speed optimisation.\u001b[39;00m\n",
      "File \u001b[0;32m/soft/system/software/Python/3.8.6-GCCcore-10.2.0/lib/python3.8/concurrent/futures/process.py:484\u001b[0m, in \u001b[0;36m_chain_from_iterable_of_lists\u001b[0;34m(iterable)\u001b[0m\n\u001b[1;32m    478\u001b[0m \u001b[38;5;28;01mdef\u001b[39;00m \u001b[38;5;21m_chain_from_iterable_of_lists\u001b[39m(iterable):\n\u001b[1;32m    479\u001b[0m \u001b[38;5;250m    \u001b[39m\u001b[38;5;124;03m\"\"\"\u001b[39;00m\n\u001b[1;32m    480\u001b[0m \u001b[38;5;124;03m    Specialized implementation of itertools.chain.from_iterable.\u001b[39;00m\n\u001b[1;32m    481\u001b[0m \u001b[38;5;124;03m    Each item in *iterable* should be a list.  This function is\u001b[39;00m\n\u001b[1;32m    482\u001b[0m \u001b[38;5;124;03m    careful not to keep references to yielded objects.\u001b[39;00m\n\u001b[1;32m    483\u001b[0m \u001b[38;5;124;03m    \"\"\"\u001b[39;00m\n\u001b[0;32m--> 484\u001b[0m     \u001b[38;5;28;01mfor\u001b[39;00m element \u001b[38;5;129;01min\u001b[39;00m iterable:\n\u001b[1;32m    485\u001b[0m         element\u001b[38;5;241m.\u001b[39mreverse()\n\u001b[1;32m    486\u001b[0m         \u001b[38;5;28;01mwhile\u001b[39;00m element:\n",
      "File \u001b[0;32m/soft/system/software/Python/3.8.6-GCCcore-10.2.0/lib/python3.8/concurrent/futures/_base.py:611\u001b[0m, in \u001b[0;36mExecutor.map.<locals>.result_iterator\u001b[0;34m()\u001b[0m\n\u001b[1;32m    608\u001b[0m \u001b[38;5;28;01mwhile\u001b[39;00m fs:\n\u001b[1;32m    609\u001b[0m     \u001b[38;5;66;03m# Careful not to keep a reference to the popped future\u001b[39;00m\n\u001b[1;32m    610\u001b[0m     \u001b[38;5;28;01mif\u001b[39;00m timeout \u001b[38;5;129;01mis\u001b[39;00m \u001b[38;5;28;01mNone\u001b[39;00m:\n\u001b[0;32m--> 611\u001b[0m         \u001b[38;5;28;01myield\u001b[39;00m \u001b[43mfs\u001b[49m\u001b[38;5;241;43m.\u001b[39;49m\u001b[43mpop\u001b[49m\u001b[43m(\u001b[49m\u001b[43m)\u001b[49m\u001b[38;5;241;43m.\u001b[39;49m\u001b[43mresult\u001b[49m\u001b[43m(\u001b[49m\u001b[43m)\u001b[49m\n\u001b[1;32m    612\u001b[0m     \u001b[38;5;28;01melse\u001b[39;00m:\n\u001b[1;32m    613\u001b[0m         \u001b[38;5;28;01myield\u001b[39;00m fs\u001b[38;5;241m.\u001b[39mpop()\u001b[38;5;241m.\u001b[39mresult(end_time \u001b[38;5;241m-\u001b[39m time\u001b[38;5;241m.\u001b[39mmonotonic())\n",
      "File \u001b[0;32m/soft/system/software/Python/3.8.6-GCCcore-10.2.0/lib/python3.8/concurrent/futures/_base.py:439\u001b[0m, in \u001b[0;36mFuture.result\u001b[0;34m(self, timeout)\u001b[0m\n\u001b[1;32m    437\u001b[0m     \u001b[38;5;28;01mraise\u001b[39;00m CancelledError()\n\u001b[1;32m    438\u001b[0m \u001b[38;5;28;01melif\u001b[39;00m \u001b[38;5;28mself\u001b[39m\u001b[38;5;241m.\u001b[39m_state \u001b[38;5;241m==\u001b[39m FINISHED:\n\u001b[0;32m--> 439\u001b[0m     \u001b[38;5;28;01mreturn\u001b[39;00m \u001b[38;5;28;43mself\u001b[39;49m\u001b[38;5;241;43m.\u001b[39;49m\u001b[43m__get_result\u001b[49m\u001b[43m(\u001b[49m\u001b[43m)\u001b[49m\n\u001b[1;32m    440\u001b[0m \u001b[38;5;28;01melse\u001b[39;00m:\n\u001b[1;32m    441\u001b[0m     \u001b[38;5;28;01mraise\u001b[39;00m \u001b[38;5;167;01mTimeoutError\u001b[39;00m()\n",
      "File \u001b[0;32m/soft/system/software/Python/3.8.6-GCCcore-10.2.0/lib/python3.8/concurrent/futures/_base.py:388\u001b[0m, in \u001b[0;36mFuture.__get_result\u001b[0;34m(self)\u001b[0m\n\u001b[1;32m    386\u001b[0m \u001b[38;5;28;01mdef\u001b[39;00m \u001b[38;5;21m__get_result\u001b[39m(\u001b[38;5;28mself\u001b[39m):\n\u001b[1;32m    387\u001b[0m     \u001b[38;5;28;01mif\u001b[39;00m \u001b[38;5;28mself\u001b[39m\u001b[38;5;241m.\u001b[39m_exception:\n\u001b[0;32m--> 388\u001b[0m         \u001b[38;5;28;01mraise\u001b[39;00m \u001b[38;5;28mself\u001b[39m\u001b[38;5;241m.\u001b[39m_exception\n\u001b[1;32m    389\u001b[0m     \u001b[38;5;28;01melse\u001b[39;00m:\n\u001b[1;32m    390\u001b[0m         \u001b[38;5;28;01mreturn\u001b[39;00m \u001b[38;5;28mself\u001b[39m\u001b[38;5;241m.\u001b[39m_result\n",
      "\u001b[0;31mFileNotFoundError\u001b[0m: [Errno 2] No such file or directory: '/users/genomics/xoel/codebases/co_new/data_foxg1/Gliogenesis/base_grn.coaccessibility=0.8.score=8.base_grn.parquet'"
     ]
    }
   ],
   "source": [
    "# presence_dfs = {}\n",
    "# for k, v in dirlist.items():\n",
    "#     print(k)\n",
    "#     presence_dfs[k] = search_path_prefix(prefix=v, paths=paths.copy(), genelists=glists)\n",
    "    \n",
    "\n",
    "presence_dfs = dict(list(zip(ks, \n",
    "                             process_map(_search_path_prefix, vs, max_workers=len(vs)))))"
   ]
  },
  {
   "cell_type": "code",
   "execution_count": null,
   "id": "28051c05-a5b3-44fe-94e8-54ca3b03ba89",
   "metadata": {},
   "outputs": [],
   "source": [
    "[df.index.str.strip().is_unique for k, df in presence_dfs.items()]"
   ]
  },
  {
   "cell_type": "code",
   "execution_count": null,
   "id": "d785542c-0f42-4dff-a0e4-124de527ee7a",
   "metadata": {},
   "outputs": [],
   "source": [
    "presencedir =  resultsdir+'GenePresence/'\n",
    "os.makedirs(presencedir, exist_ok=True)"
   ]
  },
  {
   "cell_type": "code",
   "execution_count": null,
   "id": "22bdc9e3-2b69-48e4-b6ea-a31c06ffc892",
   "metadata": {
    "tags": []
   },
   "outputs": [],
   "source": [
    "with pd.ExcelWriter(presencedir+'GenePresence.xlsx') as writer:\n",
    "    for sample, sdf in presence_dfs.items():\n",
    "        print(f'Writing excel sheet: {sample}')\n",
    "        sdf.to_excel(writer, sheet_name=sample, index=True, header=True)\n",
    "        sdf.to_csv(presencedir+sample+'.xlsx', index=True, header=True)\n",
    "        "
   ]
  },
  {
   "cell_type": "code",
   "execution_count": null,
   "id": "85ae1759-71a2-4d1c-aa83-3ac0b8609252",
   "metadata": {
    "tags": []
   },
   "outputs": [],
   "source": [
    "### Long format"
   ]
  },
  {
   "cell_type": "code",
   "execution_count": null,
   "id": "15fe78ec-20ad-461b-880a-3aad5cb95b97",
   "metadata": {},
   "outputs": [],
   "source": [
    "pres_long = []\n",
    "for sample, df in presence_dfs.items():\n",
    "    df = df.reset_index().melt(id_vars=['index']+list(glists.keys())).rename({'index':'Gene'}, axis=1)\n",
    "    df['Sample'] = sample\n",
    "    pres_long.append(df)\n",
    "pres_long = pd.concat(pres_long, axis=0)"
   ]
  },
  {
   "cell_type": "code",
   "execution_count": null,
   "id": "770c558b-1c81-4017-ac2a-bc096ed76b68",
   "metadata": {},
   "outputs": [],
   "source": [
    "steps = {\n",
    "    'ATAC GRN SOURCE':1, \n",
    "    'ATAC GRN TARGET':2, \n",
    "\n",
    "    'RNA dataset':3,\n",
    "    'RNA HV':4,\n",
    "    \n",
    "    'Perturbed':6}\n",
    "\n",
    "pres_long['step'] = pres_long.variable.replace(steps)\n",
    "pres_long.loc[pres_long.variable.apply(lambda x: 'GRN' in x and 'ATAC' not in x), 'step'] = 5    \n"
   ]
  },
  {
   "cell_type": "code",
   "execution_count": null,
   "id": "b4757dce-2bb6-4e2a-bf69-cb97661caf7b",
   "metadata": {},
   "outputs": [],
   "source": [
    "pres_long['Cell type'] = np.where(\n",
    "    pres_long.step == 5,\n",
    "    pres_long.variable.apply(lambda x: x.split(' GRN')[0]),\n",
    "    np.nan)"
   ]
  },
  {
   "cell_type": "code",
   "execution_count": null,
   "id": "41a5d856-ebb7-4c8f-8675-dc782d8a3697",
   "metadata": {},
   "outputs": [],
   "source": [
    "pres_long.variable.unique()"
   ]
  },
  {
   "cell_type": "code",
   "execution_count": null,
   "id": "261b2282-30e6-43f7-89fc-6e586d69a5e5",
   "metadata": {},
   "outputs": [],
   "source": [
    "pres_long.to_excel(presencedir+'GenePresenceLong.xlsx', sheet_name='GenePresence', index=False, header=True)\n",
    "pres_long.to_csv(presencedir+'GenePresenceLong.csv', index=False, header=True)"
   ]
  },
  {
   "cell_type": "code",
   "execution_count": null,
   "id": "82019823-1ec5-461c-a9a4-349193e4ce2d",
   "metadata": {},
   "outputs": [],
   "source": [
    "pres_long[(pres_long['Gene']=='FOXG1') & (pres_long['variable'].str.startswith('RNA'))]"
   ]
  },
  {
   "cell_type": "code",
   "execution_count": null,
   "id": "cd8cf3ab-1b1d-4461-8a9a-1b4b74d80b39",
   "metadata": {},
   "outputs": [],
   "source": []
  }
 ],
 "metadata": {
  "kernelspec": {
   "display_name": "CellOracle 0.12 (Python 3.8.6)",
   "language": "python",
   "name": "co_0.12"
  },
  "language_info": {
   "codemirror_mode": {
    "name": "ipython",
    "version": 3
   },
   "file_extension": ".py",
   "mimetype": "text/x-python",
   "name": "python",
   "nbconvert_exporter": "python",
   "pygments_lexer": "ipython3",
   "version": "3.8.10"
  }
 },
 "nbformat": 4,
 "nbformat_minor": 5
}
