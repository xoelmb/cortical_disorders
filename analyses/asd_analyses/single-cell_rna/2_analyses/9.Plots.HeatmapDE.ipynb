{
 "cells": [
  {
   "cell_type": "code",
   "execution_count": 1,
   "id": "fa95d86b-2f4d-40f0-a477-f696fd48e6da",
   "metadata": {},
   "outputs": [
    {
     "name": "stderr",
     "output_type": "stream",
     "text": [
      "\n",
      "Attaching package: ‘dplyr’\n",
      "\n",
      "\n",
      "The following objects are masked from ‘package:stats’:\n",
      "\n",
      "    filter, lag\n",
      "\n",
      "\n",
      "The following objects are masked from ‘package:base’:\n",
      "\n",
      "    intersect, setdiff, setequal, union\n",
      "\n",
      "\n",
      "Loading required package: grid\n",
      "\n",
      "========================================\n",
      "ComplexHeatmap version 2.16.0\n",
      "Bioconductor page: http://bioconductor.org/packages/ComplexHeatmap/\n",
      "Github page: https://github.com/jokergoo/ComplexHeatmap\n",
      "Documentation: http://jokergoo.github.io/ComplexHeatmap-reference\n",
      "\n",
      "If you use it in published research, please cite either one:\n",
      "- Gu, Z. Complex Heatmap Visualization. iMeta 2022.\n",
      "- Gu, Z. Complex heatmaps reveal patterns and correlations in multidimensional \n",
      "    genomic data. Bioinformatics 2016.\n",
      "\n",
      "\n",
      "The new InteractiveComplexHeatmap package can directly export static \n",
      "complex heatmaps into an interactive Shiny app with zero effort. Have a try!\n",
      "\n",
      "This message can be suppressed by:\n",
      "  suppressPackageStartupMessages(library(ComplexHeatmap))\n",
      "========================================\n",
      "\n",
      "\n",
      "Loading required package: viridisLite\n",
      "\n",
      "========================================\n",
      "circlize version 0.4.15\n",
      "CRAN page: https://cran.r-project.org/package=circlize\n",
      "Github page: https://github.com/jokergoo/circlize\n",
      "Documentation: https://jokergoo.github.io/circlize_book/book/\n",
      "\n",
      "If you use it in published research, please cite:\n",
      "Gu, Z. circlize implements and enhances circular visualization\n",
      "  in R. Bioinformatics 2014.\n",
      "\n",
      "This message can be suppressed by:\n",
      "  suppressPackageStartupMessages(library(circlize))\n",
      "========================================\n",
      "\n",
      "\n"
     ]
    }
   ],
   "source": [
    "# library(Seurat)\n",
    "library(dplyr)\n",
    "\n",
    "library(ComplexHeatmap)\n",
    "library(viridis)\n",
    "library(circlize)"
   ]
  },
  {
   "cell_type": "markdown",
   "id": "1ecacbf3-a4a3-449c-9110-19e256ca6191",
   "metadata": {
    "tags": []
   },
   "source": [
    "# Data load"
   ]
  },
  {
   "cell_type": "code",
   "execution_count": 2,
   "id": "c403d829-054a-4207-ae46-f94f46cce701",
   "metadata": {},
   "outputs": [
    {
     "name": "stdout",
     "output_type": "stream",
     "text": [
      "Loading objects:\n",
      "  cell.type.colors\n",
      "  cell.types\n",
      "  cell.types.nohighmito\n",
      "  chr_df\n",
      "  donor_sex\n",
      "  fig\n",
      "  flora_paper_list\n",
      "  gene_type.df\n",
      "  imprinted.df\n",
      "  imprinted.genes\n",
      "  monkey_paper_list\n",
      "  monkey.genes\n",
      "  monkey.markers\n",
      "  nescreg.genes\n",
      "  nescreg.genes.no_trg\n",
      "  nescreg.genes.no_trg.early\n",
      "  nescreg.list\n",
      "  nescreg.list.no_trg\n",
      "  nescreg.list.no_trg.early\n",
      "  nescreg.markers\n",
      "  nescreg.markers.no_trg\n",
      "  nescreg.markers.no_trg.early\n",
      "  nicola_marker_list\n",
      "  origin_sex.colors\n",
      "  pat.de\n",
      "  pat.de.top20\n",
      "  pat.list\n",
      "  pat.neu.de\n",
      "  pat.neu.de.top20\n",
      "  pat.neu.list\n",
      "  pat.neu.top20\n",
      "  pat.top20\n",
      "  phases\n",
      "  phases.colors\n",
      "  protein_coding.genes\n",
      "  region.genes\n",
      "  region.list\n",
      "  region.markers\n",
      "  samples\n",
      "  samples.colors\n",
      "  sex_chr.genes\n",
      "  sex_chr.genes.x\n",
      "  sex_chr.genes.y\n",
      "  shown_2b_list\n",
      "  shown_4d_list\n",
      "  tf.genes\n",
      "  tfs.df\n",
      "  top100.sub.pat\n",
      "  top100.subtype\n",
      "  valid_chr\n",
      "Loading objects:\n",
      "  exp.filt.opts\n",
      "  phase.filt.opts\n",
      "  pval.filt.opts\n",
      "  tf.filt.opts\n",
      "  filt.grid\n",
      "  filt.grid.desc\n"
     ]
    }
   ],
   "source": [
    "load('../data/commons.rda', verbose = T)\n",
    "load('../data/filter.list.rda', verbose=T)\n",
    "\n",
    "subset.top <- readRDS('../data/subset.top.fun.rds')"
   ]
  },
  {
   "cell_type": "code",
   "execution_count": 3,
   "id": "af2000ff-17ef-4a59-b17a-161fbcec342f",
   "metadata": {},
   "outputs": [
    {
     "name": "stderr",
     "output_type": "stream",
     "text": [
      "Warning message in dir.create(\"../plots\"):\n",
      "“'../plots' already exists”\n"
     ]
    }
   ],
   "source": [
    "today_dir <- glue::glue('../plots/5e2_{Sys.Date()}/')\n",
    "\n",
    "dir.create('../plots')\n",
    "dir.create(today_dir)"
   ]
  },
  {
   "cell_type": "markdown",
   "id": "40adf0ff-7db6-45aa-93b2-dcd797edadfc",
   "metadata": {},
   "source": [
    "## Markers"
   ]
  },
  {
   "cell_type": "code",
   "execution_count": 4,
   "id": "9432fb8b-0c60-4e80-a5e4-287126086744",
   "metadata": {
    "scrolled": true,
    "tags": []
   },
   "outputs": [],
   "source": [
    "int.levels <- c( 'D8_ASD_375&D8_ASD_384&D8_ASD_494', 'D8_ASD_375&D8_ASD_384', 'D8_ASD_375&D8_ASD_494', 'D8_ASD_384&D8_ASD_494', 'D8_ASD_375', 'D8_ASD_384', 'D8_ASD_494')\n",
    "\n",
    "markers.donors <- data.table::fread('../results/selected_markers/markers_per_donor.nohighmito.with_filters_and_crossed.csv', data.table=F, drop = 1) %>% \n",
    "    mutate(\n",
    "        anno_cluster_fct = factor(anno_cluster_fct, cell.types.nohighmito),\n",
    "        matching.donors = factor(matching.donors, int.levels))\n",
    "crossed.sub <- subset(markers.donors, filter.over.max)\n",
    "crossed.sub.no_sex <- subset(markers.donors, filter.over.max & !in.sex_chr)\n",
    "crossed.sub.no_sex.tf_only <- subset(markers.donors, filter.over.max & !in.sex_chr & gene.is.tf)"
   ]
  },
  {
   "cell_type": "code",
   "execution_count": 5,
   "id": "b25cde5a-56a5-40d4-906d-d83d6891848e",
   "metadata": {},
   "outputs": [],
   "source": [
    "rge.ind.marker.df <- subset(markers.donors, filter.over.max & gene.is.tf & !in.sex_chr & (anno_cluster_fct=='RG early'))\n",
    "rge.ind.marker.genes <- rge.ind.marker.df$gene\n"
   ]
  },
  {
   "cell_type": "raw",
   "id": "6b0dcc9a-d5df-4274-b1d1-7798bcbc9ad4",
   "metadata": {},
   "source": [
    "openxlsx::getSheetNames('../results/selected_markers/ASD_vs_Ctrl_markers.Annotated.Filter_filter.2of3.over.2of3.xlsx')\n",
    "\n",
    "markers.all <- openxlsx::read.xlsx('../results/selected_markers/ASD_vs_Ctrl_markers.Annotated.Filter_filter.2of3.over.2of3.xlsx',\n",
    "                                   sheet='Seurat.All.Filt')\n",
    "markers.rge <- openxlsx::read.xlsx('../results/selected_markers/ASD_vs_Ctrl_markers.Annotated.Filter_filter.2of3.over.2of3.xlsx',\n",
    "                                   sheet='DESeq2.RGe.Filt')\n",
    "markers.phase <- openxlsx::read.xlsx('../results/selected_markers/ASD_vs_Ctrl_markers.Annotated.Filter_filter.2of3.over.2of3.xlsx',\n",
    "                                     sheet='DESeq2.RGe.PerPhase.Filt')\n",
    "\n",
    "# Get dataframe of results\n",
    "rge.dea.df <- markers.rge "
   ]
  },
  {
   "cell_type": "markdown",
   "id": "9ffa999e-e310-4002-ab7b-9d6527328a07",
   "metadata": {
    "tags": []
   },
   "source": [
    "### Markers: per donor"
   ]
  },
  {
   "cell_type": "raw",
   "id": "324bb593-00c8-4b13-91bd-83dd4d338fb5",
   "metadata": {
    "tags": []
   },
   "source": [
    "int.levels <- c( 'D8_ASD_375&D8_ASD_384&D8_ASD_494', 'D8_ASD_375&D8_ASD_384', 'D8_ASD_375&D8_ASD_494', 'D8_ASD_384&D8_ASD_494', 'D8_ASD_375', 'D8_ASD_384', 'D8_ASD_494')\n",
    "markers.donors <- data.table::fread('../results/selected_markers/markers_per_donor.nohighmito.with_filters_and_crossed.csv', data.table=F, drop = 1) %>%\n",
    "    mutate(\n",
    "        anno_cluster_fct = factor(anno_cluster_fct, cell.types.nohighmito),\n",
    "        matching.donors = factor(matching.donors, int.levels))\n",
    "\n",
    "markers.donors <- markers.donors[markers.donors[,'filter.over.max']&!markers.donors$in.sex_chr, ]"
   ]
  },
  {
   "cell_type": "raw",
   "id": "c53b938c-7262-46b6-bc7c-44cf670f8b0c",
   "metadata": {},
   "source": [
    "oe.marker.list <- split(filt.dat, filt.dat$overexpressed.in)\n",
    "\n",
    "\n",
    "for (oe in names(oe.marker.list)){\n",
    "    ct.inters.list <- split(oe.marker.list[[oe]], oe.marker.list[[oe]]$anno_cluster_fct) \n",
    "    \n",
    "    for (ct in names(ct.inters.list)){\n",
    "        dinters.list <- lapply(split(ct.inters.list[[ct]]$gene, ct.inters.list[[ct]][,'matching.donors']), unique)\n",
    "        ct <- gsub(pattern = '/', replacement = '_', x = ct, fixed = T)\n",
    "        dotplot.save(with_clustering = F, gene.list = dinters.list, seu = seu,save.dir = paste0(mdonor_dir, oe, '/'),\n",
    "                     name=glue::glue('{x}.{ct}.Differentially expressed genes (ASD vs Ctrl) per donor'))\n",
    "    }\n",
    "}\n",
    "\n",
    "names(ct.inters.list)%>%\n",
    "gsub(pattern='ASD.', fixed=T, replacement = 'Higher in ASD\\n') %>%\n",
    "gsub(pattern='Ctrl.', fixed=T, replacement = 'Higher in Ctrl\\n')%>%\n",
    "# gsub(pattern='&', fixed=T, replacement = ' &\\n')%>%\n",
    "gsub(pattern='D8_', fixed=T, replacement = '') -> names(ct.inters.list)"
   ]
  },
  {
   "cell_type": "markdown",
   "id": "7dd75c63-139b-44dd-ab17-51e3aa584be0",
   "metadata": {
    "tags": []
   },
   "source": [
    "## **single-cell**"
   ]
  },
  {
   "cell_type": "markdown",
   "id": "a1e819d0-cd4c-402a-8460-439b03322ae3",
   "metadata": {
    "tags": []
   },
   "source": [
    "### Markers: no high-mito"
   ]
  },
  {
   "cell_type": "raw",
   "id": "b8d29a8e-03bd-46b7-9ec1-c443d28f6885",
   "metadata": {},
   "source": [
    "# Get dataframe of results\n",
    "sc.dea.df <- markers.all %>%\n",
    "    mutate(V1=NULL, anno_cluster_fct=factor(anno_cluster_fct, cell.types.nohighmito))\n",
    "sc.dea.df <- subset(sc.dea.df, anno_cluster_fct !='High-mito')\n",
    "\n",
    "# Get table of logFC\n",
    "sc.fc.table <- reshape2::dcast(sc.dea.df, value.var='avg_log2FC',\n",
    "                               formula = 'gene ~ anno_cluster_fct')\n",
    "rownames(sc.fc.table) <- sc.fc.table$gene\n",
    "sc.fc.table$gene <- NULL\n",
    "\n",
    "# Get table of p-vals\n",
    "sc.pval.table <- reshape2::dcast(sc.dea.df, value.var='p_val',\n",
    "                                 formula = 'gene ~ anno_cluster_fct')\n",
    "rownames(sc.pval.table) <- sc.pval.table$gene\n",
    "sc.pval.table$gene <- NULL\n",
    "\n",
    "# Turn p-vals into annotations\n",
    "sc.sig.table <- plyr::mapvalues(sc.pval.table <= 0.05,\n",
    "                                from=c(TRUE, FALSE, NA), c('*', '', ''))"
   ]
  },
  {
   "cell_type": "markdown",
   "id": "65e34ed0-4f8a-41e0-8b81-29d3f5301123",
   "metadata": {
    "tags": []
   },
   "source": [
    "## **bulk data**"
   ]
  },
  {
   "cell_type": "markdown",
   "id": "ae07794f-1fcd-473d-895e-6a2ecfd5698f",
   "metadata": {
    "tags": []
   },
   "source": [
    "### Common"
   ]
  },
  {
   "cell_type": "code",
   "execution_count": 6,
   "id": "fa38b9ea-9e09-493f-8f63-b82fe7430101",
   "metadata": {},
   "outputs": [],
   "source": [
    "# Load bulk count matrix\n",
    "bulk.tpm <- readRDS('~/codebases/ASD_bulk/BulkLines_TPM.rds')\n",
    "bulk.raw <- readRDS('~/codebases/ASD_bulk/BulkLines_RAWcounts.rds')\n",
    "\n",
    "# Log2 TPM\n",
    "bulk.tpm[,-1] <- log2(bulk.tpm[,-1]+1)"
   ]
  },
  {
   "cell_type": "markdown",
   "id": "16fdce0d-2c46-417e-b37b-acc68450c0b2",
   "metadata": {
    "tags": []
   },
   "source": [
    "#### metadata"
   ]
  },
  {
   "cell_type": "code",
   "execution_count": 7,
   "id": "938eae9b-cf43-4948-9ea2-330173cd16af",
   "metadata": {
    "scrolled": true,
    "tags": []
   },
   "outputs": [
    {
     "data": {
      "text/html": [
       "<table class=\"dataframe\">\n",
       "<caption>A data.frame: 60 × 11</caption>\n",
       "<thead>\n",
       "\t<tr><th></th><th scope=col>Line</th><th scope=col>Passage2</th><th scope=col>X20ng.ml.FGF2</th><th scope=col>sample.ID</th><th scope=col>Disease</th><th scope=col>experiment</th><th scope=col>timepoint</th><th scope=col>ExpStep</th><th scope=col>FGF</th><th scope=col>Condition</th><th scope=col>test.name</th></tr>\n",
       "\t<tr><th></th><th scope=col>&lt;int&gt;</th><th scope=col>&lt;chr&gt;</th><th scope=col>&lt;chr&gt;</th><th scope=col>&lt;chr&gt;</th><th scope=col>&lt;chr&gt;</th><th scope=col>&lt;chr&gt;</th><th scope=col>&lt;dbl&gt;</th><th scope=col>&lt;fct&gt;</th><th scope=col>&lt;dbl&gt;</th><th scope=col>&lt;fct&gt;</th><th scope=col>&lt;chr&gt;</th></tr>\n",
       "</thead>\n",
       "<tbody>\n",
       "\t<tr><th scope=row>S_A</th><td>290</td><td>DIV 8   </td><td>NA      </td><td>S_A      </td><td>CNTR</td><td>DV</td><td> 8</td><td>DIV 8   </td><td>  NA</td><td>Ctrl</td><td>DV_8   </td></tr>\n",
       "\t<tr><th scope=row>S_B</th><td>311</td><td>DIV 8   </td><td>NA      </td><td>S_B      </td><td>CNTR</td><td>DV</td><td> 8</td><td>DIV 8   </td><td>  NA</td><td>Ctrl</td><td>DV_8   </td></tr>\n",
       "\t<tr><th scope=row>S_C</th><td>317</td><td>DIV 8   </td><td>NA      </td><td>S_C      </td><td>CNTR</td><td>DV</td><td> 8</td><td>DIV 8   </td><td>  NA</td><td>Ctrl</td><td>DV_8   </td></tr>\n",
       "\t<tr><th scope=row>S_D</th><td>375</td><td>DIV 8   </td><td>NA      </td><td>S_D      </td><td>ASD </td><td>DV</td><td> 8</td><td>DIV 8   </td><td>  NA</td><td>ASD </td><td>DV_8   </td></tr>\n",
       "\t<tr><th scope=row>S_E</th><td>384</td><td>DIV 8   </td><td>NA      </td><td>S_E      </td><td>ASD </td><td>DV</td><td> 8</td><td>DIV 8   </td><td>  NA</td><td>ASD </td><td>DV_8   </td></tr>\n",
       "\t<tr><th scope=row>S_F</th><td>434</td><td>DIV 8   </td><td>NA      </td><td>S_F      </td><td>ASD </td><td>DV</td><td> 8</td><td>DIV 8   </td><td>  NA</td><td>ASD </td><td>DV_8   </td></tr>\n",
       "\t<tr><th scope=row>S_G</th><td>290</td><td>DIV 17  </td><td>NA      </td><td>S_G      </td><td>CNTR</td><td>DV</td><td>17</td><td>DIV 17  </td><td>  NA</td><td>Ctrl</td><td>DV_17  </td></tr>\n",
       "\t<tr><th scope=row>S_H</th><td>311</td><td>DIV 17  </td><td>NA      </td><td>S_H      </td><td>CNTR</td><td>DV</td><td>17</td><td>DIV 17  </td><td>  NA</td><td>Ctrl</td><td>DV_17  </td></tr>\n",
       "\t<tr><th scope=row>S_I</th><td>317</td><td>DIV 17  </td><td>NA      </td><td>S_I      </td><td>CNTR</td><td>DV</td><td>17</td><td>DIV 17  </td><td>  NA</td><td>Ctrl</td><td>DV_17  </td></tr>\n",
       "\t<tr><th scope=row>S_J</th><td>375</td><td>DIV 17  </td><td>NA      </td><td>S_J      </td><td>ASD </td><td>DV</td><td>17</td><td>DIV 17  </td><td>  NA</td><td>ASD </td><td>DV_17  </td></tr>\n",
       "\t<tr><th scope=row>S_K</th><td>384</td><td>DIV 17  </td><td>NA      </td><td>S_K      </td><td>ASD </td><td>DV</td><td>17</td><td>DIV 17  </td><td>  NA</td><td>ASD </td><td>DV_17  </td></tr>\n",
       "\t<tr><th scope=row>S_L</th><td>434</td><td>DIV 17  </td><td>NA      </td><td>S_L      </td><td>ASD </td><td>DV</td><td>17</td><td>DIV 17  </td><td>  NA</td><td>ASD </td><td>DV_17  </td></tr>\n",
       "\t<tr><th scope=row>S_M</th><td>290</td><td>DIV 30  </td><td>NA      </td><td>S_M      </td><td>CNTR</td><td>DV</td><td>30</td><td>DIV 30  </td><td>  NA</td><td>Ctrl</td><td>DV_30  </td></tr>\n",
       "\t<tr><th scope=row>S_N</th><td>311</td><td>DIV 30  </td><td>NA      </td><td>S_N      </td><td>CNTR</td><td>DV</td><td>30</td><td>DIV 30  </td><td>  NA</td><td>Ctrl</td><td>DV_30  </td></tr>\n",
       "\t<tr><th scope=row>S_O</th><td>317</td><td>DIV 30  </td><td>NA      </td><td>S_O      </td><td>CNTR</td><td>DV</td><td>30</td><td>DIV 30  </td><td>  NA</td><td>Ctrl</td><td>DV_30  </td></tr>\n",
       "\t<tr><th scope=row>S_P</th><td>375</td><td>DIV 30  </td><td>NA      </td><td>S_P      </td><td>ASD </td><td>DV</td><td>30</td><td>DIV 30  </td><td>  NA</td><td>ASD </td><td>DV_30  </td></tr>\n",
       "\t<tr><th scope=row>S_Q</th><td>384</td><td>DIV 30  </td><td>NA      </td><td>S_Q      </td><td>ASD </td><td>DV</td><td>30</td><td>DIV 30  </td><td>  NA</td><td>ASD </td><td>DV_30  </td></tr>\n",
       "\t<tr><th scope=row>S_R</th><td>434</td><td>DIV 30  </td><td>NA      </td><td>S_R      </td><td>ASD </td><td>DV</td><td>30</td><td>DIV 30  </td><td>  NA</td><td>ASD </td><td>DV_30  </td></tr>\n",
       "\t<tr><th scope=row>S_S</th><td>290</td><td>DIV 38  </td><td>NA      </td><td>S_S      </td><td>CNTR</td><td>DV</td><td>38</td><td>DIV 38  </td><td>  NA</td><td>Ctrl</td><td>DV_38  </td></tr>\n",
       "\t<tr><th scope=row>S_T</th><td>311</td><td>DIV 38  </td><td>NA      </td><td>S_T      </td><td>CNTR</td><td>DV</td><td>38</td><td>DIV 38  </td><td>  NA</td><td>Ctrl</td><td>DV_38  </td></tr>\n",
       "\t<tr><th scope=row>S_U</th><td>317</td><td>DIV 38  </td><td>NA      </td><td>S_U      </td><td>CNTR</td><td>DV</td><td>38</td><td>DIV 38  </td><td>  NA</td><td>Ctrl</td><td>DV_38  </td></tr>\n",
       "\t<tr><th scope=row>S_V</th><td>375</td><td>DIV 38  </td><td>NA      </td><td>S_V      </td><td>ASD </td><td>DV</td><td>38</td><td>DIV 38  </td><td>  NA</td><td>ASD </td><td>DV_38  </td></tr>\n",
       "\t<tr><th scope=row>S_W</th><td>384</td><td>DIV 38  </td><td>NA      </td><td>S_W      </td><td>ASD </td><td>DV</td><td>38</td><td>DIV 38  </td><td>  NA</td><td>ASD </td><td>DV_38  </td></tr>\n",
       "\t<tr><th scope=row>S_X</th><td>434</td><td>DIV 38  </td><td>NA      </td><td>S_X      </td><td>ASD </td><td>DV</td><td>38</td><td>DIV 38  </td><td>  NA</td><td>ASD </td><td>DV_38  </td></tr>\n",
       "\t<tr><th scope=row>S_1</th><td>290</td><td>Passage2</td><td>20_FGF2 </td><td>S_1      </td><td>CNTR</td><td>PA</td><td> 2</td><td>Passage2</td><td>20.0</td><td>Ctrl</td><td>PA_2_20</td></tr>\n",
       "\t<tr><th scope=row>S_2</th><td>311</td><td>Passage2</td><td>20_FGF2 </td><td>S_2      </td><td>CNTR</td><td>PA</td><td> 2</td><td>Passage2</td><td>20.0</td><td>Ctrl</td><td>PA_2_20</td></tr>\n",
       "\t<tr><th scope=row>S_3</th><td>317</td><td>Passage2</td><td>20_FGF2 </td><td>S_3      </td><td>CNTR</td><td>PA</td><td> 2</td><td>Passage2</td><td>20.0</td><td>Ctrl</td><td>PA_2_20</td></tr>\n",
       "\t<tr><th scope=row>S_4</th><td>375</td><td>Passage2</td><td>20_FGF2 </td><td>S_4      </td><td>ASD </td><td>PA</td><td> 2</td><td>Passage2</td><td>20.0</td><td>ASD </td><td>PA_2_20</td></tr>\n",
       "\t<tr><th scope=row>S_5</th><td>384</td><td>Passage2</td><td>20_FGF2 </td><td>S_5      </td><td>ASD </td><td>PA</td><td> 2</td><td>Passage2</td><td>20.0</td><td>ASD </td><td>PA_2_20</td></tr>\n",
       "\t<tr><th scope=row>S_6</th><td>434</td><td>Passage2</td><td>20_FGF2 </td><td>S_6      </td><td>ASD </td><td>PA</td><td> 2</td><td>Passage2</td><td>20.0</td><td>ASD </td><td>PA_2_20</td></tr>\n",
       "\t<tr><th scope=row>S_1alpha</th><td>290</td><td>Passage2</td><td>0.1_FGF2</td><td>S_1alpha </td><td>CNTR</td><td>PA</td><td> 2</td><td>Passage2</td><td> 0.1</td><td>Ctrl</td><td>PA_2_01</td></tr>\n",
       "\t<tr><th scope=row>S_2alpha</th><td>311</td><td>Passage2</td><td>0.1_FGF2</td><td>S_2alpha </td><td>CNTR</td><td>PA</td><td> 2</td><td>Passage2</td><td> 0.1</td><td>Ctrl</td><td>PA_2_01</td></tr>\n",
       "\t<tr><th scope=row>S_3alpha</th><td>317</td><td>Passage2</td><td>0.1_FGF2</td><td>S_3alpha </td><td>CNTR</td><td>PA</td><td> 2</td><td>Passage2</td><td> 0.1</td><td>Ctrl</td><td>PA_2_01</td></tr>\n",
       "\t<tr><th scope=row>S_4alpha</th><td>375</td><td>Passage2</td><td>0.1_FGF2</td><td>S_4alpha </td><td>ASD </td><td>PA</td><td> 2</td><td>Passage2</td><td> 0.1</td><td>ASD </td><td>PA_2_01</td></tr>\n",
       "\t<tr><th scope=row>S_5alpha</th><td>384</td><td>Passage2</td><td>0.1_FGF2</td><td>S_5alpha </td><td>ASD </td><td>PA</td><td> 2</td><td>Passage2</td><td> 0.1</td><td>ASD </td><td>PA_2_01</td></tr>\n",
       "\t<tr><th scope=row>S_6alpha</th><td>434</td><td>Passage2</td><td>0.1_FGF2</td><td>S_6alpha </td><td>ASD </td><td>PA</td><td> 2</td><td>Passage2</td><td> 0.1</td><td>ASD </td><td>PA_2_01</td></tr>\n",
       "\t<tr><th scope=row>S_7</th><td>290</td><td>Passage4</td><td>20_FGF2 </td><td>S_7      </td><td>CNTR</td><td>PA</td><td> 4</td><td>Passage4</td><td>20.0</td><td>Ctrl</td><td>PA_4_20</td></tr>\n",
       "\t<tr><th scope=row>S_8</th><td>311</td><td>Passage4</td><td>20_FGF2 </td><td>S_8      </td><td>CNTR</td><td>PA</td><td> 4</td><td>Passage4</td><td>20.0</td><td>Ctrl</td><td>PA_4_20</td></tr>\n",
       "\t<tr><th scope=row>S_9</th><td>317</td><td>Passage4</td><td>20_FGF2 </td><td>S_9      </td><td>CNTR</td><td>PA</td><td> 4</td><td>Passage4</td><td>20.0</td><td>Ctrl</td><td>PA_4_20</td></tr>\n",
       "\t<tr><th scope=row>S_10</th><td>375</td><td>Passage4</td><td>20_FGF2 </td><td>S_10     </td><td>ASD </td><td>PA</td><td> 4</td><td>Passage4</td><td>20.0</td><td>ASD </td><td>PA_4_20</td></tr>\n",
       "\t<tr><th scope=row>S_11</th><td>384</td><td>Passage4</td><td>20_FGF2 </td><td>S_11     </td><td>ASD </td><td>PA</td><td> 4</td><td>Passage4</td><td>20.0</td><td>ASD </td><td>PA_4_20</td></tr>\n",
       "\t<tr><th scope=row>S_12</th><td>434</td><td>Passage4</td><td>20_FGF2 </td><td>S_12     </td><td>ASD </td><td>PA</td><td> 4</td><td>Passage4</td><td>20.0</td><td>ASD </td><td>PA_4_20</td></tr>\n",
       "\t<tr><th scope=row>S_7alpha</th><td>290</td><td>Passage4</td><td>0.1_FGF2</td><td>S_7alpha </td><td>CNTR</td><td>PA</td><td> 4</td><td>Passage4</td><td> 0.1</td><td>Ctrl</td><td>PA_4_01</td></tr>\n",
       "\t<tr><th scope=row>S_8alpha</th><td>311</td><td>Passage4</td><td>0.1_FGF2</td><td>S_8alpha </td><td>CNTR</td><td>PA</td><td> 4</td><td>Passage4</td><td> 0.1</td><td>Ctrl</td><td>PA_4_01</td></tr>\n",
       "\t<tr><th scope=row>S_9alpha</th><td>317</td><td>Passage4</td><td>0.1_FGF2</td><td>S_9alpha </td><td>CNTR</td><td>PA</td><td> 4</td><td>Passage4</td><td> 0.1</td><td>Ctrl</td><td>PA_4_01</td></tr>\n",
       "\t<tr><th scope=row>S_10alpha</th><td>375</td><td>Passage4</td><td>0.1_FGF2</td><td>S_10alpha</td><td>ASD </td><td>PA</td><td> 4</td><td>Passage4</td><td> 0.1</td><td>ASD </td><td>PA_4_01</td></tr>\n",
       "\t<tr><th scope=row>S_11alpha</th><td>384</td><td>Passage4</td><td>0.1_FGF2</td><td>S_11alpha</td><td>ASD </td><td>PA</td><td> 4</td><td>Passage4</td><td> 0.1</td><td>ASD </td><td>PA_4_01</td></tr>\n",
       "\t<tr><th scope=row>S_12alpha</th><td>434</td><td>Passage4</td><td>0.1_FGF2</td><td>S_12alpha</td><td>ASD </td><td>PA</td><td> 4</td><td>Passage4</td><td> 0.1</td><td>ASD </td><td>PA_4_01</td></tr>\n",
       "\t<tr><th scope=row>S_13</th><td>290</td><td>Passage8</td><td>20_FGF2 </td><td>S_13     </td><td>CNTR</td><td>PA</td><td> 8</td><td>Passage8</td><td>20.0</td><td>Ctrl</td><td>PA_8_20</td></tr>\n",
       "\t<tr><th scope=row>S_14</th><td>311</td><td>Passage8</td><td>20_FGF2 </td><td>S_14     </td><td>CNTR</td><td>PA</td><td> 8</td><td>Passage8</td><td>20.0</td><td>Ctrl</td><td>PA_8_20</td></tr>\n",
       "\t<tr><th scope=row>S_15</th><td>317</td><td>Passage8</td><td>20_FGF2 </td><td>S_15     </td><td>CNTR</td><td>PA</td><td> 8</td><td>Passage8</td><td>20.0</td><td>Ctrl</td><td>PA_8_20</td></tr>\n",
       "\t<tr><th scope=row>S_16</th><td>375</td><td>Passage8</td><td>20_FGF2 </td><td>S_16     </td><td>ASD </td><td>PA</td><td> 8</td><td>Passage8</td><td>20.0</td><td>ASD </td><td>PA_8_20</td></tr>\n",
       "\t<tr><th scope=row>S_17</th><td>384</td><td>Passage8</td><td>20_FGF2 </td><td>S_17     </td><td>ASD </td><td>PA</td><td> 8</td><td>Passage8</td><td>20.0</td><td>ASD </td><td>PA_8_20</td></tr>\n",
       "\t<tr><th scope=row>S_18</th><td>434</td><td>Passage8</td><td>20_FGF2 </td><td>S_18     </td><td>ASD </td><td>PA</td><td> 8</td><td>Passage8</td><td>20.0</td><td>ASD </td><td>PA_8_20</td></tr>\n",
       "\t<tr><th scope=row>S_13alpha</th><td>290</td><td>Passage8</td><td>0.1_FGF2</td><td>S_13alpha</td><td>CNTR</td><td>PA</td><td> 8</td><td>Passage8</td><td> 0.1</td><td>Ctrl</td><td>PA_8_01</td></tr>\n",
       "\t<tr><th scope=row>S_14alpha</th><td>311</td><td>Passage8</td><td>0.1_FGF2</td><td>S_14alpha</td><td>CNTR</td><td>PA</td><td> 8</td><td>Passage8</td><td> 0.1</td><td>Ctrl</td><td>PA_8_01</td></tr>\n",
       "\t<tr><th scope=row>S_15alpha</th><td>317</td><td>Passage8</td><td>0.1_FGF2</td><td>S_15alpha</td><td>CNTR</td><td>PA</td><td> 8</td><td>Passage8</td><td> 0.1</td><td>Ctrl</td><td>PA_8_01</td></tr>\n",
       "\t<tr><th scope=row>S_16alpha</th><td>375</td><td>Passage8</td><td>0.1_FGF2</td><td>S_16alpha</td><td>ASD </td><td>PA</td><td> 8</td><td>Passage8</td><td> 0.1</td><td>ASD </td><td>PA_8_01</td></tr>\n",
       "\t<tr><th scope=row>S_17alpha</th><td>384</td><td>Passage8</td><td>0.1_FGF2</td><td>S_17alpha</td><td>ASD </td><td>PA</td><td> 8</td><td>Passage8</td><td> 0.1</td><td>ASD </td><td>PA_8_01</td></tr>\n",
       "\t<tr><th scope=row>S_18alpha</th><td>434</td><td>Passage8</td><td>0.1_FGF2</td><td>S_18alpha</td><td>ASD </td><td>PA</td><td> 8</td><td>Passage8</td><td> 0.1</td><td>ASD </td><td>PA_8_01</td></tr>\n",
       "</tbody>\n",
       "</table>\n"
      ],
      "text/latex": [
       "A data.frame: 60 × 11\n",
       "\\begin{tabular}{r|lllllllllll}\n",
       "  & Line & Passage2 & X20ng.ml.FGF2 & sample.ID & Disease & experiment & timepoint & ExpStep & FGF & Condition & test.name\\\\\n",
       "  & <int> & <chr> & <chr> & <chr> & <chr> & <chr> & <dbl> & <fct> & <dbl> & <fct> & <chr>\\\\\n",
       "\\hline\n",
       "\tS\\_A & 290 & DIV 8    & NA       & S\\_A       & CNTR & DV &  8 & DIV 8    &   NA & Ctrl & DV\\_8   \\\\\n",
       "\tS\\_B & 311 & DIV 8    & NA       & S\\_B       & CNTR & DV &  8 & DIV 8    &   NA & Ctrl & DV\\_8   \\\\\n",
       "\tS\\_C & 317 & DIV 8    & NA       & S\\_C       & CNTR & DV &  8 & DIV 8    &   NA & Ctrl & DV\\_8   \\\\\n",
       "\tS\\_D & 375 & DIV 8    & NA       & S\\_D       & ASD  & DV &  8 & DIV 8    &   NA & ASD  & DV\\_8   \\\\\n",
       "\tS\\_E & 384 & DIV 8    & NA       & S\\_E       & ASD  & DV &  8 & DIV 8    &   NA & ASD  & DV\\_8   \\\\\n",
       "\tS\\_F & 434 & DIV 8    & NA       & S\\_F       & ASD  & DV &  8 & DIV 8    &   NA & ASD  & DV\\_8   \\\\\n",
       "\tS\\_G & 290 & DIV 17   & NA       & S\\_G       & CNTR & DV & 17 & DIV 17   &   NA & Ctrl & DV\\_17  \\\\\n",
       "\tS\\_H & 311 & DIV 17   & NA       & S\\_H       & CNTR & DV & 17 & DIV 17   &   NA & Ctrl & DV\\_17  \\\\\n",
       "\tS\\_I & 317 & DIV 17   & NA       & S\\_I       & CNTR & DV & 17 & DIV 17   &   NA & Ctrl & DV\\_17  \\\\\n",
       "\tS\\_J & 375 & DIV 17   & NA       & S\\_J       & ASD  & DV & 17 & DIV 17   &   NA & ASD  & DV\\_17  \\\\\n",
       "\tS\\_K & 384 & DIV 17   & NA       & S\\_K       & ASD  & DV & 17 & DIV 17   &   NA & ASD  & DV\\_17  \\\\\n",
       "\tS\\_L & 434 & DIV 17   & NA       & S\\_L       & ASD  & DV & 17 & DIV 17   &   NA & ASD  & DV\\_17  \\\\\n",
       "\tS\\_M & 290 & DIV 30   & NA       & S\\_M       & CNTR & DV & 30 & DIV 30   &   NA & Ctrl & DV\\_30  \\\\\n",
       "\tS\\_N & 311 & DIV 30   & NA       & S\\_N       & CNTR & DV & 30 & DIV 30   &   NA & Ctrl & DV\\_30  \\\\\n",
       "\tS\\_O & 317 & DIV 30   & NA       & S\\_O       & CNTR & DV & 30 & DIV 30   &   NA & Ctrl & DV\\_30  \\\\\n",
       "\tS\\_P & 375 & DIV 30   & NA       & S\\_P       & ASD  & DV & 30 & DIV 30   &   NA & ASD  & DV\\_30  \\\\\n",
       "\tS\\_Q & 384 & DIV 30   & NA       & S\\_Q       & ASD  & DV & 30 & DIV 30   &   NA & ASD  & DV\\_30  \\\\\n",
       "\tS\\_R & 434 & DIV 30   & NA       & S\\_R       & ASD  & DV & 30 & DIV 30   &   NA & ASD  & DV\\_30  \\\\\n",
       "\tS\\_S & 290 & DIV 38   & NA       & S\\_S       & CNTR & DV & 38 & DIV 38   &   NA & Ctrl & DV\\_38  \\\\\n",
       "\tS\\_T & 311 & DIV 38   & NA       & S\\_T       & CNTR & DV & 38 & DIV 38   &   NA & Ctrl & DV\\_38  \\\\\n",
       "\tS\\_U & 317 & DIV 38   & NA       & S\\_U       & CNTR & DV & 38 & DIV 38   &   NA & Ctrl & DV\\_38  \\\\\n",
       "\tS\\_V & 375 & DIV 38   & NA       & S\\_V       & ASD  & DV & 38 & DIV 38   &   NA & ASD  & DV\\_38  \\\\\n",
       "\tS\\_W & 384 & DIV 38   & NA       & S\\_W       & ASD  & DV & 38 & DIV 38   &   NA & ASD  & DV\\_38  \\\\\n",
       "\tS\\_X & 434 & DIV 38   & NA       & S\\_X       & ASD  & DV & 38 & DIV 38   &   NA & ASD  & DV\\_38  \\\\\n",
       "\tS\\_1 & 290 & Passage2 & 20\\_FGF2  & S\\_1       & CNTR & PA &  2 & Passage2 & 20.0 & Ctrl & PA\\_2\\_20\\\\\n",
       "\tS\\_2 & 311 & Passage2 & 20\\_FGF2  & S\\_2       & CNTR & PA &  2 & Passage2 & 20.0 & Ctrl & PA\\_2\\_20\\\\\n",
       "\tS\\_3 & 317 & Passage2 & 20\\_FGF2  & S\\_3       & CNTR & PA &  2 & Passage2 & 20.0 & Ctrl & PA\\_2\\_20\\\\\n",
       "\tS\\_4 & 375 & Passage2 & 20\\_FGF2  & S\\_4       & ASD  & PA &  2 & Passage2 & 20.0 & ASD  & PA\\_2\\_20\\\\\n",
       "\tS\\_5 & 384 & Passage2 & 20\\_FGF2  & S\\_5       & ASD  & PA &  2 & Passage2 & 20.0 & ASD  & PA\\_2\\_20\\\\\n",
       "\tS\\_6 & 434 & Passage2 & 20\\_FGF2  & S\\_6       & ASD  & PA &  2 & Passage2 & 20.0 & ASD  & PA\\_2\\_20\\\\\n",
       "\tS\\_1alpha & 290 & Passage2 & 0.1\\_FGF2 & S\\_1alpha  & CNTR & PA &  2 & Passage2 &  0.1 & Ctrl & PA\\_2\\_01\\\\\n",
       "\tS\\_2alpha & 311 & Passage2 & 0.1\\_FGF2 & S\\_2alpha  & CNTR & PA &  2 & Passage2 &  0.1 & Ctrl & PA\\_2\\_01\\\\\n",
       "\tS\\_3alpha & 317 & Passage2 & 0.1\\_FGF2 & S\\_3alpha  & CNTR & PA &  2 & Passage2 &  0.1 & Ctrl & PA\\_2\\_01\\\\\n",
       "\tS\\_4alpha & 375 & Passage2 & 0.1\\_FGF2 & S\\_4alpha  & ASD  & PA &  2 & Passage2 &  0.1 & ASD  & PA\\_2\\_01\\\\\n",
       "\tS\\_5alpha & 384 & Passage2 & 0.1\\_FGF2 & S\\_5alpha  & ASD  & PA &  2 & Passage2 &  0.1 & ASD  & PA\\_2\\_01\\\\\n",
       "\tS\\_6alpha & 434 & Passage2 & 0.1\\_FGF2 & S\\_6alpha  & ASD  & PA &  2 & Passage2 &  0.1 & ASD  & PA\\_2\\_01\\\\\n",
       "\tS\\_7 & 290 & Passage4 & 20\\_FGF2  & S\\_7       & CNTR & PA &  4 & Passage4 & 20.0 & Ctrl & PA\\_4\\_20\\\\\n",
       "\tS\\_8 & 311 & Passage4 & 20\\_FGF2  & S\\_8       & CNTR & PA &  4 & Passage4 & 20.0 & Ctrl & PA\\_4\\_20\\\\\n",
       "\tS\\_9 & 317 & Passage4 & 20\\_FGF2  & S\\_9       & CNTR & PA &  4 & Passage4 & 20.0 & Ctrl & PA\\_4\\_20\\\\\n",
       "\tS\\_10 & 375 & Passage4 & 20\\_FGF2  & S\\_10      & ASD  & PA &  4 & Passage4 & 20.0 & ASD  & PA\\_4\\_20\\\\\n",
       "\tS\\_11 & 384 & Passage4 & 20\\_FGF2  & S\\_11      & ASD  & PA &  4 & Passage4 & 20.0 & ASD  & PA\\_4\\_20\\\\\n",
       "\tS\\_12 & 434 & Passage4 & 20\\_FGF2  & S\\_12      & ASD  & PA &  4 & Passage4 & 20.0 & ASD  & PA\\_4\\_20\\\\\n",
       "\tS\\_7alpha & 290 & Passage4 & 0.1\\_FGF2 & S\\_7alpha  & CNTR & PA &  4 & Passage4 &  0.1 & Ctrl & PA\\_4\\_01\\\\\n",
       "\tS\\_8alpha & 311 & Passage4 & 0.1\\_FGF2 & S\\_8alpha  & CNTR & PA &  4 & Passage4 &  0.1 & Ctrl & PA\\_4\\_01\\\\\n",
       "\tS\\_9alpha & 317 & Passage4 & 0.1\\_FGF2 & S\\_9alpha  & CNTR & PA &  4 & Passage4 &  0.1 & Ctrl & PA\\_4\\_01\\\\\n",
       "\tS\\_10alpha & 375 & Passage4 & 0.1\\_FGF2 & S\\_10alpha & ASD  & PA &  4 & Passage4 &  0.1 & ASD  & PA\\_4\\_01\\\\\n",
       "\tS\\_11alpha & 384 & Passage4 & 0.1\\_FGF2 & S\\_11alpha & ASD  & PA &  4 & Passage4 &  0.1 & ASD  & PA\\_4\\_01\\\\\n",
       "\tS\\_12alpha & 434 & Passage4 & 0.1\\_FGF2 & S\\_12alpha & ASD  & PA &  4 & Passage4 &  0.1 & ASD  & PA\\_4\\_01\\\\\n",
       "\tS\\_13 & 290 & Passage8 & 20\\_FGF2  & S\\_13      & CNTR & PA &  8 & Passage8 & 20.0 & Ctrl & PA\\_8\\_20\\\\\n",
       "\tS\\_14 & 311 & Passage8 & 20\\_FGF2  & S\\_14      & CNTR & PA &  8 & Passage8 & 20.0 & Ctrl & PA\\_8\\_20\\\\\n",
       "\tS\\_15 & 317 & Passage8 & 20\\_FGF2  & S\\_15      & CNTR & PA &  8 & Passage8 & 20.0 & Ctrl & PA\\_8\\_20\\\\\n",
       "\tS\\_16 & 375 & Passage8 & 20\\_FGF2  & S\\_16      & ASD  & PA &  8 & Passage8 & 20.0 & ASD  & PA\\_8\\_20\\\\\n",
       "\tS\\_17 & 384 & Passage8 & 20\\_FGF2  & S\\_17      & ASD  & PA &  8 & Passage8 & 20.0 & ASD  & PA\\_8\\_20\\\\\n",
       "\tS\\_18 & 434 & Passage8 & 20\\_FGF2  & S\\_18      & ASD  & PA &  8 & Passage8 & 20.0 & ASD  & PA\\_8\\_20\\\\\n",
       "\tS\\_13alpha & 290 & Passage8 & 0.1\\_FGF2 & S\\_13alpha & CNTR & PA &  8 & Passage8 &  0.1 & Ctrl & PA\\_8\\_01\\\\\n",
       "\tS\\_14alpha & 311 & Passage8 & 0.1\\_FGF2 & S\\_14alpha & CNTR & PA &  8 & Passage8 &  0.1 & Ctrl & PA\\_8\\_01\\\\\n",
       "\tS\\_15alpha & 317 & Passage8 & 0.1\\_FGF2 & S\\_15alpha & CNTR & PA &  8 & Passage8 &  0.1 & Ctrl & PA\\_8\\_01\\\\\n",
       "\tS\\_16alpha & 375 & Passage8 & 0.1\\_FGF2 & S\\_16alpha & ASD  & PA &  8 & Passage8 &  0.1 & ASD  & PA\\_8\\_01\\\\\n",
       "\tS\\_17alpha & 384 & Passage8 & 0.1\\_FGF2 & S\\_17alpha & ASD  & PA &  8 & Passage8 &  0.1 & ASD  & PA\\_8\\_01\\\\\n",
       "\tS\\_18alpha & 434 & Passage8 & 0.1\\_FGF2 & S\\_18alpha & ASD  & PA &  8 & Passage8 &  0.1 & ASD  & PA\\_8\\_01\\\\\n",
       "\\end{tabular}\n"
      ],
      "text/markdown": [
       "\n",
       "A data.frame: 60 × 11\n",
       "\n",
       "| <!--/--> | Line &lt;int&gt; | Passage2 &lt;chr&gt; | X20ng.ml.FGF2 &lt;chr&gt; | sample.ID &lt;chr&gt; | Disease &lt;chr&gt; | experiment &lt;chr&gt; | timepoint &lt;dbl&gt; | ExpStep &lt;fct&gt; | FGF &lt;dbl&gt; | Condition &lt;fct&gt; | test.name &lt;chr&gt; |\n",
       "|---|---|---|---|---|---|---|---|---|---|---|---|\n",
       "| S_A | 290 | DIV 8    | NA       | S_A       | CNTR | DV |  8 | DIV 8    |   NA | Ctrl | DV_8    |\n",
       "| S_B | 311 | DIV 8    | NA       | S_B       | CNTR | DV |  8 | DIV 8    |   NA | Ctrl | DV_8    |\n",
       "| S_C | 317 | DIV 8    | NA       | S_C       | CNTR | DV |  8 | DIV 8    |   NA | Ctrl | DV_8    |\n",
       "| S_D | 375 | DIV 8    | NA       | S_D       | ASD  | DV |  8 | DIV 8    |   NA | ASD  | DV_8    |\n",
       "| S_E | 384 | DIV 8    | NA       | S_E       | ASD  | DV |  8 | DIV 8    |   NA | ASD  | DV_8    |\n",
       "| S_F | 434 | DIV 8    | NA       | S_F       | ASD  | DV |  8 | DIV 8    |   NA | ASD  | DV_8    |\n",
       "| S_G | 290 | DIV 17   | NA       | S_G       | CNTR | DV | 17 | DIV 17   |   NA | Ctrl | DV_17   |\n",
       "| S_H | 311 | DIV 17   | NA       | S_H       | CNTR | DV | 17 | DIV 17   |   NA | Ctrl | DV_17   |\n",
       "| S_I | 317 | DIV 17   | NA       | S_I       | CNTR | DV | 17 | DIV 17   |   NA | Ctrl | DV_17   |\n",
       "| S_J | 375 | DIV 17   | NA       | S_J       | ASD  | DV | 17 | DIV 17   |   NA | ASD  | DV_17   |\n",
       "| S_K | 384 | DIV 17   | NA       | S_K       | ASD  | DV | 17 | DIV 17   |   NA | ASD  | DV_17   |\n",
       "| S_L | 434 | DIV 17   | NA       | S_L       | ASD  | DV | 17 | DIV 17   |   NA | ASD  | DV_17   |\n",
       "| S_M | 290 | DIV 30   | NA       | S_M       | CNTR | DV | 30 | DIV 30   |   NA | Ctrl | DV_30   |\n",
       "| S_N | 311 | DIV 30   | NA       | S_N       | CNTR | DV | 30 | DIV 30   |   NA | Ctrl | DV_30   |\n",
       "| S_O | 317 | DIV 30   | NA       | S_O       | CNTR | DV | 30 | DIV 30   |   NA | Ctrl | DV_30   |\n",
       "| S_P | 375 | DIV 30   | NA       | S_P       | ASD  | DV | 30 | DIV 30   |   NA | ASD  | DV_30   |\n",
       "| S_Q | 384 | DIV 30   | NA       | S_Q       | ASD  | DV | 30 | DIV 30   |   NA | ASD  | DV_30   |\n",
       "| S_R | 434 | DIV 30   | NA       | S_R       | ASD  | DV | 30 | DIV 30   |   NA | ASD  | DV_30   |\n",
       "| S_S | 290 | DIV 38   | NA       | S_S       | CNTR | DV | 38 | DIV 38   |   NA | Ctrl | DV_38   |\n",
       "| S_T | 311 | DIV 38   | NA       | S_T       | CNTR | DV | 38 | DIV 38   |   NA | Ctrl | DV_38   |\n",
       "| S_U | 317 | DIV 38   | NA       | S_U       | CNTR | DV | 38 | DIV 38   |   NA | Ctrl | DV_38   |\n",
       "| S_V | 375 | DIV 38   | NA       | S_V       | ASD  | DV | 38 | DIV 38   |   NA | ASD  | DV_38   |\n",
       "| S_W | 384 | DIV 38   | NA       | S_W       | ASD  | DV | 38 | DIV 38   |   NA | ASD  | DV_38   |\n",
       "| S_X | 434 | DIV 38   | NA       | S_X       | ASD  | DV | 38 | DIV 38   |   NA | ASD  | DV_38   |\n",
       "| S_1 | 290 | Passage2 | 20_FGF2  | S_1       | CNTR | PA |  2 | Passage2 | 20.0 | Ctrl | PA_2_20 |\n",
       "| S_2 | 311 | Passage2 | 20_FGF2  | S_2       | CNTR | PA |  2 | Passage2 | 20.0 | Ctrl | PA_2_20 |\n",
       "| S_3 | 317 | Passage2 | 20_FGF2  | S_3       | CNTR | PA |  2 | Passage2 | 20.0 | Ctrl | PA_2_20 |\n",
       "| S_4 | 375 | Passage2 | 20_FGF2  | S_4       | ASD  | PA |  2 | Passage2 | 20.0 | ASD  | PA_2_20 |\n",
       "| S_5 | 384 | Passage2 | 20_FGF2  | S_5       | ASD  | PA |  2 | Passage2 | 20.0 | ASD  | PA_2_20 |\n",
       "| S_6 | 434 | Passage2 | 20_FGF2  | S_6       | ASD  | PA |  2 | Passage2 | 20.0 | ASD  | PA_2_20 |\n",
       "| S_1alpha | 290 | Passage2 | 0.1_FGF2 | S_1alpha  | CNTR | PA |  2 | Passage2 |  0.1 | Ctrl | PA_2_01 |\n",
       "| S_2alpha | 311 | Passage2 | 0.1_FGF2 | S_2alpha  | CNTR | PA |  2 | Passage2 |  0.1 | Ctrl | PA_2_01 |\n",
       "| S_3alpha | 317 | Passage2 | 0.1_FGF2 | S_3alpha  | CNTR | PA |  2 | Passage2 |  0.1 | Ctrl | PA_2_01 |\n",
       "| S_4alpha | 375 | Passage2 | 0.1_FGF2 | S_4alpha  | ASD  | PA |  2 | Passage2 |  0.1 | ASD  | PA_2_01 |\n",
       "| S_5alpha | 384 | Passage2 | 0.1_FGF2 | S_5alpha  | ASD  | PA |  2 | Passage2 |  0.1 | ASD  | PA_2_01 |\n",
       "| S_6alpha | 434 | Passage2 | 0.1_FGF2 | S_6alpha  | ASD  | PA |  2 | Passage2 |  0.1 | ASD  | PA_2_01 |\n",
       "| S_7 | 290 | Passage4 | 20_FGF2  | S_7       | CNTR | PA |  4 | Passage4 | 20.0 | Ctrl | PA_4_20 |\n",
       "| S_8 | 311 | Passage4 | 20_FGF2  | S_8       | CNTR | PA |  4 | Passage4 | 20.0 | Ctrl | PA_4_20 |\n",
       "| S_9 | 317 | Passage4 | 20_FGF2  | S_9       | CNTR | PA |  4 | Passage4 | 20.0 | Ctrl | PA_4_20 |\n",
       "| S_10 | 375 | Passage4 | 20_FGF2  | S_10      | ASD  | PA |  4 | Passage4 | 20.0 | ASD  | PA_4_20 |\n",
       "| S_11 | 384 | Passage4 | 20_FGF2  | S_11      | ASD  | PA |  4 | Passage4 | 20.0 | ASD  | PA_4_20 |\n",
       "| S_12 | 434 | Passage4 | 20_FGF2  | S_12      | ASD  | PA |  4 | Passage4 | 20.0 | ASD  | PA_4_20 |\n",
       "| S_7alpha | 290 | Passage4 | 0.1_FGF2 | S_7alpha  | CNTR | PA |  4 | Passage4 |  0.1 | Ctrl | PA_4_01 |\n",
       "| S_8alpha | 311 | Passage4 | 0.1_FGF2 | S_8alpha  | CNTR | PA |  4 | Passage4 |  0.1 | Ctrl | PA_4_01 |\n",
       "| S_9alpha | 317 | Passage4 | 0.1_FGF2 | S_9alpha  | CNTR | PA |  4 | Passage4 |  0.1 | Ctrl | PA_4_01 |\n",
       "| S_10alpha | 375 | Passage4 | 0.1_FGF2 | S_10alpha | ASD  | PA |  4 | Passage4 |  0.1 | ASD  | PA_4_01 |\n",
       "| S_11alpha | 384 | Passage4 | 0.1_FGF2 | S_11alpha | ASD  | PA |  4 | Passage4 |  0.1 | ASD  | PA_4_01 |\n",
       "| S_12alpha | 434 | Passage4 | 0.1_FGF2 | S_12alpha | ASD  | PA |  4 | Passage4 |  0.1 | ASD  | PA_4_01 |\n",
       "| S_13 | 290 | Passage8 | 20_FGF2  | S_13      | CNTR | PA |  8 | Passage8 | 20.0 | Ctrl | PA_8_20 |\n",
       "| S_14 | 311 | Passage8 | 20_FGF2  | S_14      | CNTR | PA |  8 | Passage8 | 20.0 | Ctrl | PA_8_20 |\n",
       "| S_15 | 317 | Passage8 | 20_FGF2  | S_15      | CNTR | PA |  8 | Passage8 | 20.0 | Ctrl | PA_8_20 |\n",
       "| S_16 | 375 | Passage8 | 20_FGF2  | S_16      | ASD  | PA |  8 | Passage8 | 20.0 | ASD  | PA_8_20 |\n",
       "| S_17 | 384 | Passage8 | 20_FGF2  | S_17      | ASD  | PA |  8 | Passage8 | 20.0 | ASD  | PA_8_20 |\n",
       "| S_18 | 434 | Passage8 | 20_FGF2  | S_18      | ASD  | PA |  8 | Passage8 | 20.0 | ASD  | PA_8_20 |\n",
       "| S_13alpha | 290 | Passage8 | 0.1_FGF2 | S_13alpha | CNTR | PA |  8 | Passage8 |  0.1 | Ctrl | PA_8_01 |\n",
       "| S_14alpha | 311 | Passage8 | 0.1_FGF2 | S_14alpha | CNTR | PA |  8 | Passage8 |  0.1 | Ctrl | PA_8_01 |\n",
       "| S_15alpha | 317 | Passage8 | 0.1_FGF2 | S_15alpha | CNTR | PA |  8 | Passage8 |  0.1 | Ctrl | PA_8_01 |\n",
       "| S_16alpha | 375 | Passage8 | 0.1_FGF2 | S_16alpha | ASD  | PA |  8 | Passage8 |  0.1 | ASD  | PA_8_01 |\n",
       "| S_17alpha | 384 | Passage8 | 0.1_FGF2 | S_17alpha | ASD  | PA |  8 | Passage8 |  0.1 | ASD  | PA_8_01 |\n",
       "| S_18alpha | 434 | Passage8 | 0.1_FGF2 | S_18alpha | ASD  | PA |  8 | Passage8 |  0.1 | ASD  | PA_8_01 |\n",
       "\n"
      ],
      "text/plain": [
       "          Line Passage2 X20ng.ml.FGF2 sample.ID Disease experiment timepoint\n",
       "S_A       290  DIV 8    NA            S_A       CNTR    DV          8       \n",
       "S_B       311  DIV 8    NA            S_B       CNTR    DV          8       \n",
       "S_C       317  DIV 8    NA            S_C       CNTR    DV          8       \n",
       "S_D       375  DIV 8    NA            S_D       ASD     DV          8       \n",
       "S_E       384  DIV 8    NA            S_E       ASD     DV          8       \n",
       "S_F       434  DIV 8    NA            S_F       ASD     DV          8       \n",
       "S_G       290  DIV 17   NA            S_G       CNTR    DV         17       \n",
       "S_H       311  DIV 17   NA            S_H       CNTR    DV         17       \n",
       "S_I       317  DIV 17   NA            S_I       CNTR    DV         17       \n",
       "S_J       375  DIV 17   NA            S_J       ASD     DV         17       \n",
       "S_K       384  DIV 17   NA            S_K       ASD     DV         17       \n",
       "S_L       434  DIV 17   NA            S_L       ASD     DV         17       \n",
       "S_M       290  DIV 30   NA            S_M       CNTR    DV         30       \n",
       "S_N       311  DIV 30   NA            S_N       CNTR    DV         30       \n",
       "S_O       317  DIV 30   NA            S_O       CNTR    DV         30       \n",
       "S_P       375  DIV 30   NA            S_P       ASD     DV         30       \n",
       "S_Q       384  DIV 30   NA            S_Q       ASD     DV         30       \n",
       "S_R       434  DIV 30   NA            S_R       ASD     DV         30       \n",
       "S_S       290  DIV 38   NA            S_S       CNTR    DV         38       \n",
       "S_T       311  DIV 38   NA            S_T       CNTR    DV         38       \n",
       "S_U       317  DIV 38   NA            S_U       CNTR    DV         38       \n",
       "S_V       375  DIV 38   NA            S_V       ASD     DV         38       \n",
       "S_W       384  DIV 38   NA            S_W       ASD     DV         38       \n",
       "S_X       434  DIV 38   NA            S_X       ASD     DV         38       \n",
       "S_1       290  Passage2 20_FGF2       S_1       CNTR    PA          2       \n",
       "S_2       311  Passage2 20_FGF2       S_2       CNTR    PA          2       \n",
       "S_3       317  Passage2 20_FGF2       S_3       CNTR    PA          2       \n",
       "S_4       375  Passage2 20_FGF2       S_4       ASD     PA          2       \n",
       "S_5       384  Passage2 20_FGF2       S_5       ASD     PA          2       \n",
       "S_6       434  Passage2 20_FGF2       S_6       ASD     PA          2       \n",
       "S_1alpha  290  Passage2 0.1_FGF2      S_1alpha  CNTR    PA          2       \n",
       "S_2alpha  311  Passage2 0.1_FGF2      S_2alpha  CNTR    PA          2       \n",
       "S_3alpha  317  Passage2 0.1_FGF2      S_3alpha  CNTR    PA          2       \n",
       "S_4alpha  375  Passage2 0.1_FGF2      S_4alpha  ASD     PA          2       \n",
       "S_5alpha  384  Passage2 0.1_FGF2      S_5alpha  ASD     PA          2       \n",
       "S_6alpha  434  Passage2 0.1_FGF2      S_6alpha  ASD     PA          2       \n",
       "S_7       290  Passage4 20_FGF2       S_7       CNTR    PA          4       \n",
       "S_8       311  Passage4 20_FGF2       S_8       CNTR    PA          4       \n",
       "S_9       317  Passage4 20_FGF2       S_9       CNTR    PA          4       \n",
       "S_10      375  Passage4 20_FGF2       S_10      ASD     PA          4       \n",
       "S_11      384  Passage4 20_FGF2       S_11      ASD     PA          4       \n",
       "S_12      434  Passage4 20_FGF2       S_12      ASD     PA          4       \n",
       "S_7alpha  290  Passage4 0.1_FGF2      S_7alpha  CNTR    PA          4       \n",
       "S_8alpha  311  Passage4 0.1_FGF2      S_8alpha  CNTR    PA          4       \n",
       "S_9alpha  317  Passage4 0.1_FGF2      S_9alpha  CNTR    PA          4       \n",
       "S_10alpha 375  Passage4 0.1_FGF2      S_10alpha ASD     PA          4       \n",
       "S_11alpha 384  Passage4 0.1_FGF2      S_11alpha ASD     PA          4       \n",
       "S_12alpha 434  Passage4 0.1_FGF2      S_12alpha ASD     PA          4       \n",
       "S_13      290  Passage8 20_FGF2       S_13      CNTR    PA          8       \n",
       "S_14      311  Passage8 20_FGF2       S_14      CNTR    PA          8       \n",
       "S_15      317  Passage8 20_FGF2       S_15      CNTR    PA          8       \n",
       "S_16      375  Passage8 20_FGF2       S_16      ASD     PA          8       \n",
       "S_17      384  Passage8 20_FGF2       S_17      ASD     PA          8       \n",
       "S_18      434  Passage8 20_FGF2       S_18      ASD     PA          8       \n",
       "S_13alpha 290  Passage8 0.1_FGF2      S_13alpha CNTR    PA          8       \n",
       "S_14alpha 311  Passage8 0.1_FGF2      S_14alpha CNTR    PA          8       \n",
       "S_15alpha 317  Passage8 0.1_FGF2      S_15alpha CNTR    PA          8       \n",
       "S_16alpha 375  Passage8 0.1_FGF2      S_16alpha ASD     PA          8       \n",
       "S_17alpha 384  Passage8 0.1_FGF2      S_17alpha ASD     PA          8       \n",
       "S_18alpha 434  Passage8 0.1_FGF2      S_18alpha ASD     PA          8       \n",
       "          ExpStep  FGF  Condition test.name\n",
       "S_A       DIV 8      NA Ctrl      DV_8     \n",
       "S_B       DIV 8      NA Ctrl      DV_8     \n",
       "S_C       DIV 8      NA Ctrl      DV_8     \n",
       "S_D       DIV 8      NA ASD       DV_8     \n",
       "S_E       DIV 8      NA ASD       DV_8     \n",
       "S_F       DIV 8      NA ASD       DV_8     \n",
       "S_G       DIV 17     NA Ctrl      DV_17    \n",
       "S_H       DIV 17     NA Ctrl      DV_17    \n",
       "S_I       DIV 17     NA Ctrl      DV_17    \n",
       "S_J       DIV 17     NA ASD       DV_17    \n",
       "S_K       DIV 17     NA ASD       DV_17    \n",
       "S_L       DIV 17     NA ASD       DV_17    \n",
       "S_M       DIV 30     NA Ctrl      DV_30    \n",
       "S_N       DIV 30     NA Ctrl      DV_30    \n",
       "S_O       DIV 30     NA Ctrl      DV_30    \n",
       "S_P       DIV 30     NA ASD       DV_30    \n",
       "S_Q       DIV 30     NA ASD       DV_30    \n",
       "S_R       DIV 30     NA ASD       DV_30    \n",
       "S_S       DIV 38     NA Ctrl      DV_38    \n",
       "S_T       DIV 38     NA Ctrl      DV_38    \n",
       "S_U       DIV 38     NA Ctrl      DV_38    \n",
       "S_V       DIV 38     NA ASD       DV_38    \n",
       "S_W       DIV 38     NA ASD       DV_38    \n",
       "S_X       DIV 38     NA ASD       DV_38    \n",
       "S_1       Passage2 20.0 Ctrl      PA_2_20  \n",
       "S_2       Passage2 20.0 Ctrl      PA_2_20  \n",
       "S_3       Passage2 20.0 Ctrl      PA_2_20  \n",
       "S_4       Passage2 20.0 ASD       PA_2_20  \n",
       "S_5       Passage2 20.0 ASD       PA_2_20  \n",
       "S_6       Passage2 20.0 ASD       PA_2_20  \n",
       "S_1alpha  Passage2  0.1 Ctrl      PA_2_01  \n",
       "S_2alpha  Passage2  0.1 Ctrl      PA_2_01  \n",
       "S_3alpha  Passage2  0.1 Ctrl      PA_2_01  \n",
       "S_4alpha  Passage2  0.1 ASD       PA_2_01  \n",
       "S_5alpha  Passage2  0.1 ASD       PA_2_01  \n",
       "S_6alpha  Passage2  0.1 ASD       PA_2_01  \n",
       "S_7       Passage4 20.0 Ctrl      PA_4_20  \n",
       "S_8       Passage4 20.0 Ctrl      PA_4_20  \n",
       "S_9       Passage4 20.0 Ctrl      PA_4_20  \n",
       "S_10      Passage4 20.0 ASD       PA_4_20  \n",
       "S_11      Passage4 20.0 ASD       PA_4_20  \n",
       "S_12      Passage4 20.0 ASD       PA_4_20  \n",
       "S_7alpha  Passage4  0.1 Ctrl      PA_4_01  \n",
       "S_8alpha  Passage4  0.1 Ctrl      PA_4_01  \n",
       "S_9alpha  Passage4  0.1 Ctrl      PA_4_01  \n",
       "S_10alpha Passage4  0.1 ASD       PA_4_01  \n",
       "S_11alpha Passage4  0.1 ASD       PA_4_01  \n",
       "S_12alpha Passage4  0.1 ASD       PA_4_01  \n",
       "S_13      Passage8 20.0 Ctrl      PA_8_20  \n",
       "S_14      Passage8 20.0 Ctrl      PA_8_20  \n",
       "S_15      Passage8 20.0 Ctrl      PA_8_20  \n",
       "S_16      Passage8 20.0 ASD       PA_8_20  \n",
       "S_17      Passage8 20.0 ASD       PA_8_20  \n",
       "S_18      Passage8 20.0 ASD       PA_8_20  \n",
       "S_13alpha Passage8  0.1 Ctrl      PA_8_01  \n",
       "S_14alpha Passage8  0.1 Ctrl      PA_8_01  \n",
       "S_15alpha Passage8  0.1 Ctrl      PA_8_01  \n",
       "S_16alpha Passage8  0.1 ASD       PA_8_01  \n",
       "S_17alpha Passage8  0.1 ASD       PA_8_01  \n",
       "S_18alpha Passage8  0.1 ASD       PA_8_01  "
      ]
     },
     "metadata": {},
     "output_type": "display_data"
    }
   ],
   "source": [
    "# Load metadata\n",
    "bulk.meta <- readRDS('~/codebases/ASD_bulk//Metadata.rds')\n",
    "rownames(bulk.meta) <- bulk.meta$sample.ID\n",
    "\n",
    "# Add metadata variables\n",
    "# Rename columns/Factors\n",
    "bulk.meta <- bulk.meta %>% mutate(\n",
    "    experiment = ifelse(is.na(X20ng.ml.FGF2), 'DV', 'PA'),\n",
    "    timepoint = readr::parse_number(Passage2),\n",
    "    ExpStep = factor(Passage2, levels=unique(Passage2)), \n",
    "    FGF = readr::parse_number(X20ng.ml.FGF2),\n",
    "    Condition=factor(Disease=='CNTR', levels=c('FALSE', 'TRUE'), labels=c('ASD','Ctrl')))\n",
    "\n",
    "bulk.meta$test.name <- paste(bulk.meta$experiment, bulk.meta$timepoint, sep='_')\n",
    "bulk.meta$test.name <- ifelse(bulk.meta$experiment == 'PA', \n",
    "                              paste(bulk.meta$test.name, gsub(as.character(bulk.meta$FGF), pattern='.', replacement='', fixed=T), sep='_'),\n",
    "                              bulk.meta$test.name)\n",
    "# Sort meta\n",
    "bulk.meta <- bulk.meta %>% arrange(experiment, timepoint, desc(X20ng.ml.FGF2), desc(Disease), Line)\n",
    "\n",
    "bulk.meta"
   ]
  },
  {
   "cell_type": "markdown",
   "id": "07ba28cd-4f4c-4625-9edf-b3a4534dbaee",
   "metadata": {
    "tags": []
   },
   "source": [
    "#### genes"
   ]
  },
  {
   "cell_type": "code",
   "execution_count": 8,
   "id": "38757ace-80a1-4c96-89ac-38c4332cf62c",
   "metadata": {},
   "outputs": [],
   "source": [
    "# Load gene metadata\n",
    "bulk.genemeta <- readRDS('~/codebases/ASD_bulk/GeneInfo.rds') %>% dplyr::rename(GeneID=V1, GeneName=V2, GeneType=V3)\n",
    "rownames(bulk.genemeta) <- bulk.genemeta$GeneID\n",
    "\n",
    "# Deduplicate gene symbols\n",
    "bulk.genemeta$tpm.sum <- rowSums(bulk.tpm[,-1])[bulk.genemeta$GeneID]\n",
    "bulk.genemeta$raw.sum <- rowSums(bulk.raw[,-1])[bulk.genemeta$GeneID]\n",
    "\n",
    "# subset(bulk.genemeta,\n",
    "#        GeneName %in% GeneName[duplicated(GeneName)]) %>% arrange(GeneName,desc(raw.sum)) \n",
    "\n",
    "\n",
    "# This is also done in the Seurat function, decide where, probably here\n",
    "# Keep only top expressed ID per Symbol\n",
    "bulk.genemeta <- bulk.genemeta %>% arrange(desc(raw.sum)) %>% group_by(GeneName) %>% slice_head(n = 1)\n",
    "\n",
    "# Reindex matrices\n",
    "bulk.tpm <- bulk.tpm[bulk.genemeta$GeneID,]\n",
    "bulk.raw <- bulk.raw[bulk.genemeta$GeneID,]"
   ]
  },
  {
   "cell_type": "markdown",
   "id": "6b885851-f673-432f-a7d1-8ec41e7ef122",
   "metadata": {
    "tags": []
   },
   "source": [
    "#### split"
   ]
  },
  {
   "cell_type": "code",
   "execution_count": 9,
   "id": "3d1b04b0-5bf3-4edb-93eb-3975a9be190f",
   "metadata": {},
   "outputs": [],
   "source": [
    "# Split metadata\n",
    "bulk.meta.split <- split(bulk.meta,bulk.meta$experiment)\n",
    "pass.meta <- bulk.meta.split[['PA']]\n",
    "div.meta <- bulk.meta.split[['DV']]"
   ]
  },
  {
   "cell_type": "code",
   "execution_count": 10,
   "id": "432238de-a6d2-49e2-8426-73ec5121d3b1",
   "metadata": {},
   "outputs": [],
   "source": [
    "# Split experiments\n",
    "bulk.data.list <- list(\n",
    "    'PA' = list(\n",
    "        exp.raw = bulk.raw[, rownames(pass.meta)],\n",
    "        exp.tpm = bulk.tpm[, rownames(pass.meta)],\n",
    "        sample.meta = pass.meta,\n",
    "        gene.meta = bulk.genemeta),\n",
    "    'DV' = list(\n",
    "        exp.raw = bulk.raw[, rownames(div.meta)],\n",
    "        exp.tpm = bulk.tpm[, rownames(div.meta)],\n",
    "        sample.meta = div.meta,\n",
    "        gene.meta = bulk.genemeta)\n",
    ")"
   ]
  },
  {
   "cell_type": "markdown",
   "id": "e50bcd81-997e-43bd-ba74-ea00329a5119",
   "metadata": {
    "tags": []
   },
   "source": [
    "### Bulk DEGs"
   ]
  },
  {
   "cell_type": "code",
   "execution_count": 11,
   "id": "7c37ae86-d033-4c28-9b0d-e76770cef656",
   "metadata": {},
   "outputs": [
    {
     "name": "stdout",
     "output_type": "stream",
     "text": [
      " [1] \"DV_8\"    \"DV_17\"   \"DV_30\"   \"DV_38\"   \"PA_2_20\" \"PA_4_20\" \"PA_8_20\"\n",
      " [8] \"PA_2_01\" \"PA_4_01\" \"PA_8_01\"\n"
     ]
    }
   ],
   "source": [
    "# Load DE results\n",
    "bulk.deg.file <- '~/codebases/ASD_bulk/BulkLinesDiffExpression.xlsx'\n",
    "test.names <- openxlsx::getSheetNames(bulk.deg.file)\n",
    "print(test.names)\n",
    "\n",
    "# Open all sheets: conditions tested\n",
    "bulk.dea.df <- do.call('rbind', lapply(test.names, function(sheet){\n",
    "    \n",
    "    df <- openxlsx::read.xlsx(bulk.deg.file, sheet = sheet, rowNames = F)\n",
    "    colnames(df)[1] <- 'gene'\n",
    "    df %>% mutate(test.name=sheet, \n",
    "                  geneID=sapply(gene, function(g) {strsplit(g, split='|', fixed=T)[[1]][1]}), \n",
    "                  geneSymbol=sapply(gene, function(g) {strsplit(g, split='|', fixed=T)[[1]][2]}))\n",
    "    }))\n",
    "\n",
    "# Gather log2FC for these genes and samples\n",
    "bulk.dea.df.all <- bulk.dea.df\n",
    "bulk.dea.df <- subset(bulk.dea.df, (test.name%in%unique(bulk.meta$test.name))&(geneID%in%bulk.genemeta$GeneID))"
   ]
  },
  {
   "cell_type": "markdown",
   "id": "8fc7b581-1dac-4772-a356-bc469d4026b9",
   "metadata": {},
   "source": [
    "### Supplementary table 10"
   ]
  },
  {
   "cell_type": "code",
   "execution_count": 12,
   "id": "9a86b84e-d4e7-4026-8039-417bbb1de5e8",
   "metadata": {},
   "outputs": [],
   "source": [
    "sorted.testnames <- c(\"DV_8\",\n",
    "\"DV_17\",\n",
    "\"DV_30\",\n",
    "\"DV_38\",\n",
    "\"PA_2_20\",\n",
    "\"PA_2_01\",\n",
    "\"PA_4_20\",\n",
    "\"PA_4_01\",\n",
    "\"PA_8_20\",\n",
    "\"PA_8_01\")"
   ]
  },
  {
   "cell_type": "code",
   "execution_count": 13,
   "id": "7f540ccb-35a3-4405-8c9c-974792f80b17",
   "metadata": {},
   "outputs": [],
   "source": [
    "bulk.dea.df %>% \n",
    "    mutate(div_or_passage = factor(test.name, sorted.testnames),\n",
    "           Up.in.ASD.or.control = plyr::mapvalues(sign(log2FoldChange), from=c(-1,0,1), to=c('Control', 'None', 'ASD'))) %>%\n",
    "\n",
    "    arrange(div_or_passage, Up.in.ASD.or.control, desc(abs(log2FoldChange))) %>%\n",
    "    select(gene, div_or_passage, baseMean, log2FoldChange, lfcSE, stat, pvalue, padj, Up.in.ASD.or.control) -> dfs\n",
    "\n",
    "split(dfs, ifelse(grepl('DV_', dfs$div_or_passage), 'Differentiation DEGs', 'Passaging DEGs')) %>% rev-> dfs\n",
    "\n",
    "lapply(dfs, subset, padj <= 0.05) %>% setNames(nm=paste('Filtered', names(dfs))) %>% c(., dfs) -> dfs\n",
    "\n",
    "openxlsx::write.xlsx(x = dfs, file = '../results/supp_table.10.bulk_differentiation_and_passaging_DEGs.xlsx')"
   ]
  },
  {
   "cell_type": "code",
   "execution_count": 14,
   "id": "e2e83086-f94c-49b0-811f-1ebe5f018258",
   "metadata": {},
   "outputs": [],
   "source": [
    "# Get table of logFC\n",
    "bulk.fc.table <- reshape2::dcast(bulk.dea.df, 'geneSymbol ~ test.name', value.var='log2FoldChange')\n",
    "rownames(bulk.fc.table) <- bulk.fc.table$geneSymbol\n",
    "bulk.fc.table$geneSymbol <- NULL\n",
    "bulk.fc.table <- bulk.fc.table[,unique(bulk.meta$test.name)]\n",
    "# Add rows for genes from single cell\n",
    "# bulk.fc.table <- bulk.fc.table[sc.genes,]\n",
    "# bulk.fc.table[is.na(bulk.fc.table)] <- 0\n",
    "# rownames(bulk.fc.table) <- sc.genes\n",
    "\n",
    "\n",
    "# Get table of p-vals\n",
    "bulk.pval.table <- reshape2::dcast(bulk.dea.df, 'geneSymbol ~ test.name', value.var='padj')\n",
    "rownames(bulk.pval.table) <- bulk.pval.table$geneSymbol\n",
    "bulk.pval.table$geneSymbol <- NULL\n",
    "bulk.pval.table <- bulk.pval.table[,unique(bulk.meta$test.name)]\n",
    "# Add rows for genes from single cell\n",
    "# bulk.pval.table <- bulk.pval.table[sc.genes,]\n",
    "# bulk.pval.table[is.na(bulk.pval.table)] <- NA\n",
    "# rownames(bulk.pval.table) <- sc.genes\n",
    "\n",
    "# Turn p-vals into annotations\n",
    "bulk.sig.table <- plyr::mapvalues(bulk.pval.table <= 0.05, c('TRUE', 'FALSE', NA), c('*', '', ''))\n"
   ]
  },
  {
   "cell_type": "code",
   "execution_count": 14,
   "id": "8ef68fa0-5721-45ee-91f1-ea8bf5187c2f",
   "metadata": {
    "scrolled": true,
    "tags": []
   },
   "outputs": [],
   "source": [
    "# Invert signs since it was computed the other way, with ASD as denominator\n",
    "# bulk.fc.table <- bulk.fc.table*-1"
   ]
  },
  {
   "cell_type": "markdown",
   "id": "5ecde684-9200-46a4-8fe1-6fdaf3ae75ec",
   "metadata": {
    "tags": []
   },
   "source": [
    "## Seurat objects for bulk data"
   ]
  },
  {
   "cell_type": "code",
   "execution_count": 15,
   "id": "10ceaab0-74b6-4e1a-a2c3-1ef834ac7b31",
   "metadata": {},
   "outputs": [],
   "source": [
    "prepare.bulk.seurat <- function(\n",
    "    raw,\n",
    "    data = NULL,\n",
    "    \n",
    "    gene.meta, sample.meta,\n",
    "    \n",
    "    rm.zero.exp = T,\n",
    "    only.genes = NULL,\n",
    "    use.symbols = T,\n",
    "    dedup.symbols = T\n",
    "    \n",
    "){\n",
    "    require(Seurat)\n",
    "    exp.r <- raw\n",
    "    exp.t <- data\n",
    "    smeta <- sample.meta\n",
    "    gmeta <- gene.meta\n",
    "    \n",
    "    if (rm.zero.exp){\n",
    "        # Filter 0 exp genes\n",
    "        exp.genes <- rownames(exp.r)[rowSums(exp.r)>0]\n",
    "\n",
    "        exp.r <- exp.r[rownames(exp.r)%in%exp.genes,]\n",
    "        exp.t <- exp.t[rownames(exp.t)%in%exp.genes,]\n",
    "\n",
    "        gmeta <- subset(gmeta, GeneID %in%exp.genes)\n",
    "    }\n",
    "    \n",
    "    # Filter out genes not in list \n",
    "    if (!is.null(only.genes)){\n",
    "        \n",
    "        gmeta <- subset(gmeta, GeneName %in%only.genes)\n",
    "\n",
    "        exp.r <- exp.r[rownames(exp.r)%in%gmeta$GeneID,]\n",
    "        exp.t <- exp.t[rownames(exp.t)%in%gmeta$GeneID,]\n",
    "    }\n",
    "    \n",
    "    # Deduplicate gene symbols keeping gene with highest expression\n",
    "    if (dedup.symbols){\n",
    "        gmeta <- gmeta %>% mutate(countSum=rowSums(exp.r[GeneID,])) %>% group_by(GeneName) %>% mutate(dup.rank = order(countSum, decreasing = T)) %>% ungroup()\n",
    "\n",
    "        gmeta <- subset(gmeta, dup.rank == 1)\n",
    "\n",
    "        exp.r <- exp.r[rownames(exp.r)%in%gmeta$GeneID,]\n",
    "        exp.t <- exp.t[rownames(exp.t)%in%gmeta$GeneID,]\n",
    "    }\n",
    "    \n",
    "    # Rename gene ids to symbols\n",
    "    if(use.symbols){\n",
    "        rownames(exp.r) <- plyr::mapvalues(x=rownames(exp.r),\n",
    "                                             from=gmeta$GeneID,\n",
    "                                             to=gmeta$GeneName)\n",
    "        rownames(exp.t) <- plyr::mapvalues(x=rownames(exp.t),\n",
    "                                             from=gmeta$GeneID,\n",
    "                                             to=gmeta$GeneName)\n",
    "    }\n",
    "    \n",
    "    # Add 0 values for missing genes\n",
    "\n",
    "    if (!is.null(only.genes)){        \n",
    "        \n",
    "        exp.r <- exp.r[only.genes,]\n",
    "        rownames(exp.r) <- only.genes\n",
    "        exp.r[is.na(exp.r)] <- 0\n",
    "\n",
    "        exp.t <- exp.t[only.genes,]\n",
    "        rownames(exp.t) <- only.genes\n",
    "        exp.t[is.na(exp.t)] <- 0\n",
    "    }\n",
    "    \n",
    "    # Create seurat\n",
    "    bulk.seu <- CreateSeuratObject(counts = exp.r, \n",
    "                                   # data=exp.t, \n",
    "                                   assay = 'RNA',\n",
    "                                   meta.data = smeta,\n",
    "                                   min.cells = 0, min.features = 0)\n",
    "    bulk.seu[['RNA']]@data <- as.matrix(exp.t)\n",
    "    # Fill scale.data\n",
    "    bulk.seu[['RNA']]@scale.data <- apply(\n",
    "        exp.t, 1, function(x){\n",
    "            if (all(x==0)){x}else{setNames(scales::rescale_max(x), names(x))}}\n",
    "    ) %>% t() %>% as.matrix()\n",
    "    \n",
    "    return(bulk.seu)\n",
    "    \n",
    "}"
   ]
  },
  {
   "cell_type": "code",
   "execution_count": 16,
   "id": "2d6fac6d-c5aa-4f59-a6c8-dee9869ccfb9",
   "metadata": {},
   "outputs": [
    {
     "name": "stderr",
     "output_type": "stream",
     "text": [
      "Loading required package: Seurat\n",
      "\n",
      "The legacy packages maptools, rgdal, and rgeos, underpinning the sp package,\n",
      "which was just loaded, will retire in October 2023.\n",
      "Please refer to R-spatial evolution reports for details, especially\n",
      "https://r-spatial.org/r/2023/05/15/evolution4.html.\n",
      "It may be desirable to make the sf package available;\n",
      "package maintainers should consider adding sf to Suggests:.\n",
      "The sp package is now running under evolution status 2\n",
      "     (status 2 uses the sf package in place of rgdal)\n",
      "\n",
      "Attaching SeuratObject\n",
      "\n",
      "Seurat v4 was just loaded with SeuratObject v5; disabling v5 assays and\n",
      "validation routines, and ensuring assays work in strict v3/v4\n",
      "compatibility mode\n",
      "\n",
      "Warning message:\n",
      "“Feature names cannot have underscores ('_'), replacing with dashes ('-')”\n",
      "Warning message:\n",
      "“Feature names cannot have underscores ('_'), replacing with dashes ('-')”\n",
      "Warning message:\n",
      "“Feature names cannot have underscores ('_'), replacing with dashes ('-')”\n",
      "Warning message:\n",
      "“Feature names cannot have underscores ('_'), replacing with dashes ('-')”\n"
     ]
    }
   ],
   "source": [
    "bulk.seurats <- lapply(names(bulk.data.list),\n",
    "                      function(ex){\n",
    "                          bdata <- bulk.data.list[[ex]]\n",
    "                          prepare.bulk.seurat(\n",
    "                              raw = bdata$exp.raw,\n",
    "                              data = bdata$exp.tpm,\n",
    "                              sample.meta = bdata$sample.meta,\n",
    "                              dedup.symbols=F, \n",
    "                              gene.meta = bdata$gene.meta\n",
    "                              # only.genes = sc.genes\n",
    "                          )})\n",
    "names(bulk.seurats) <- names(bulk.data.list)"
   ]
  },
  {
   "cell_type": "code",
   "execution_count": 17,
   "id": "2d96d358-a1b9-474d-8978-ce888c46db80",
   "metadata": {},
   "outputs": [
    {
     "data": {
      "text/plain": [
       "$PA\n",
       "An object of class Seurat \n",
       "45072 features across 36 samples within 1 assay \n",
       "Active assay: RNA (45072 features, 0 variable features)\n",
       " 3 layers present: counts, data, scale.data\n",
       "\n",
       "$DV\n",
       "An object of class Seurat \n",
       "45112 features across 24 samples within 1 assay \n",
       "Active assay: RNA (45112 features, 0 variable features)\n",
       " 3 layers present: counts, data, scale.data\n"
      ]
     },
     "metadata": {},
     "output_type": "display_data"
    }
   ],
   "source": [
    "bulk.seurats"
   ]
  },
  {
   "cell_type": "code",
   "execution_count": 18,
   "id": "b69febb0-9ad8-4302-990e-222058649ec7",
   "metadata": {},
   "outputs": [],
   "source": [
    "suppressPackageStartupMessages(library(DESeq2))\n",
    "dv.dds <- readRDS('~/codebases/ASD_bulk/DDS.DV.rds')\n",
    "dv.rld <- DESeq2::vst(dv.dds)\n",
    "\n",
    "pa.dds <- readRDS('~/codebases/ASD_bulk/DDS.PA.rds')\n",
    "pa.rld <- DESeq2::vst(pa.dds)"
   ]
  },
  {
   "cell_type": "markdown",
   "id": "efc102bd-a83f-4bc7-8e4e-9a7350e48553",
   "metadata": {},
   "source": [
    "#### Meta for htmp"
   ]
  },
  {
   "cell_type": "code",
   "execution_count": 19,
   "id": "491ce23f-966c-4116-b75a-cf3cbdab325b",
   "metadata": {},
   "outputs": [],
   "source": [
    "order_rows <- function(mat, n.bins=10, axis=2){\n",
    "    if (axis == 2){\n",
    "        apply(mat, 2, function(x){cut(-x, breaks = n.bins) %>% as.numeric}) %>% \n",
    "            as.data.frame(row.names = rownames(mat))%>%\n",
    "            arrange_all%>%rownames() %>%\n",
    "        return()\n",
    "    } else {\n",
    "        apply(mat, 1, function(x){cut(-x, breaks = n.bins) %>% as.numeric}) %>% t() %>%\n",
    "            as.data.frame()%>%\n",
    "            arrange_all%>%rownames() %>%\n",
    "        return()\n",
    "    }\n",
    "}"
   ]
  },
  {
   "cell_type": "code",
   "execution_count": 20,
   "id": "3675c211-0e01-4d78-b058-ac6848aafdfc",
   "metadata": {
    "tags": []
   },
   "outputs": [],
   "source": [
    "lines <- setNames(\n",
    "    sapply(strsplit(names(samples.colors), split='_', fixed=T), function(x)paste(x[-1], collapse=' ')),\n",
    "    sapply(strsplit(names(samples.colors), split='_', fixed=T), function(x)x[3]))\n",
    "           \n",
    "\n",
    "DV_cols <- setNames(rev(rev(RColorBrewer::brewer.pal('RdPu', n=6)[-1])[-1]), c('DIV 8', 'DIV 17', 'DIV 30', 'DIV 38'))\n",
    "# PA_cols <- setNames(rev(rev(RColorBrewer::brewer.pal('PuBu', n=5)[-1])[-1]), c('Passage2','Passage4','Passage8'))\n",
    "PA_cols <- c('Passage2 20'='#006D2C','Passage4 20'='#A50F15','Passage8 20'='#252525',\n",
    "             'Passage2 0.1'='#BAE4B3','Passage4 0.1'='#FCAE91','Passage8 0.1'='#CCCCCC')\n",
    "\n",
    "meta.cols <- list(\n",
    "    Condition=c('ASD'='orangered2', 'Ctrl'='#0981D1'),\n",
    "    # Experiment=c(\n",
    "    #     'PA'=rev(RColorBrewer::brewer.pal('PuBu', n=8))[3],\n",
    "    #     'DV' = rev(RColorBrewer::brewer.pal('RdPu', n=8))[3]),\n",
    "    Experiment=c(\n",
    "        'PA'='lightgreen',\n",
    "        'DV' ='gold'),\n",
    "    Step=c(DV_cols, PA_cols),\n",
    "    Passaging=PA_cols,\n",
    "    Differentiation=DV_cols,\n",
    "    FGF = c('20'='#1F1F1F', '0.1'='#BABABA'),\n",
    "    Line=setNames(samples.colors, lines)\n",
    ")"
   ]
  },
  {
   "cell_type": "code",
   "execution_count": 21,
   "id": "579d6956-9309-4e7a-a3c5-3e0702c33968",
   "metadata": {},
   "outputs": [],
   "source": [
    "bulk.meta %>% arrange(ExpStep, desc(FGF), Condition, Line) %>% rownames -> sorted.samples\n",
    "bulk.meta <- bulk.meta[sorted.samples, ]\n",
    "\n",
    "exp.meta <- bulk.meta[sorted.samples,] %>% select(experiment, ExpStep, FGF, Line, Condition, test.name) %>%\n",
    "    mutate_all(function(x){if(is.numeric(x)){as.character(x)}else{x}}) %>% \n",
    "    mutate(Step=ExpStep, Experiment=experiment,ExpStep=NULL,experiment=NULL ) %>% \n",
    "    mutate(Step=ifelse(Experiment=='PA', paste(as.character(Step), FGF), as.character(Step)), \n",
    "           Step=factor(Step, levels=unique(Step)),\n",
    "           FGF=NULL, \n",
    "           Line=gsub(x=Line, pattern='434', replacement='494'),\n",
    "           Line=factor(lines[Line], lines)) %>% \n",
    "    select(test.name, Experiment, Step, Line) \n",
    "\n",
    "mat.meta <- unique(exp.meta%>%mutate(Line=NULL, Condition=NULL))\n",
    "rownames(mat.meta) <- mat.meta$test.name\n",
    "mat.meta$test.name <- NULL\n",
    "\n",
    "pa.mat.meta <- subset(mat.meta, Experiment == 'PA') %>% dplyr::rename(Passaging=Step)\n",
    "dv.mat.meta <- subset(mat.meta, Experiment == 'DV') %>% dplyr::rename(Differentiation=Step)\n",
    "pa.meta <- subset(exp.meta, Experiment == 'PA') %>% dplyr::rename(Passaging=Step)%>% mutate(test.name=NULL)\n",
    "dv.meta <- subset(exp.meta, Experiment == 'DV') %>% dplyr::rename(Differentiation=Step)%>% mutate(test.name=NULL)"
   ]
  },
  {
   "cell_type": "markdown",
   "id": "9257ce91-ad90-492b-9d5a-dce17d6164e7",
   "metadata": {},
   "source": [
    "#### Def genes"
   ]
  },
  {
   "cell_type": "code",
   "execution_count": 22,
   "id": "d29aa552-88b2-4c02-a21f-0dc60165afa0",
   "metadata": {},
   "outputs": [
    {
     "data": {
      "text/html": [
       "TRUE"
      ],
      "text/latex": [
       "TRUE"
      ],
      "text/markdown": [
       "TRUE"
      ],
      "text/plain": [
       "[1] TRUE"
      ]
     },
     "metadata": {},
     "output_type": "display_data"
    },
    {
     "data": {
      "text/html": [
       "23"
      ],
      "text/latex": [
       "23"
      ],
      "text/markdown": [
       "23"
      ],
      "text/plain": [
       "[1] 23"
      ]
     },
     "metadata": {},
     "output_type": "display_data"
    }
   ],
   "source": [
    "# genes <- subset(sc.dea.df, (p_val_adj < 0.05) & gene.is.tf & filter.2of3.over.2of3 & !in.sex_chr)$gene %>% unique()\n",
    "# genes <- subset(markers.donors, gene.is.tf)$gene %>% unique()\n",
    "genes <- sort(rge.ind.marker.genes)\n",
    "\n",
    "all(genes%in%rownames(bulk.fc.table))\n",
    "length(genes)\n",
    "\n",
    "valid.genes <- genes # only significant: genes[genes%in%rownames(bulk.sig.table)[rowSums(bulk.sig.table!='')!=0 ]]\n",
    "\n",
    "smat <- bulk.sig.table[genes,rownames(mat.meta)]\n",
    "mat <- as.matrix(bulk.fc.table[valid.genes, rownames(mat.meta)])"
   ]
  },
  {
   "cell_type": "code",
   "execution_count": 23,
   "id": "57e13cfd-e9e1-49d6-9d3a-c4bb6e5c38a9",
   "metadata": {},
   "outputs": [
    {
     "data": {
      "text/html": [
       "<table class=\"dataframe\">\n",
       "<caption>A matrix: 23 × 10 of type dbl</caption>\n",
       "<thead>\n",
       "\t<tr><th></th><th scope=col>PA_2_20</th><th scope=col>PA_2_01</th><th scope=col>PA_4_20</th><th scope=col>PA_4_01</th><th scope=col>PA_8_20</th><th scope=col>PA_8_01</th><th scope=col>DV_8</th><th scope=col>DV_17</th><th scope=col>DV_30</th><th scope=col>DV_38</th></tr>\n",
       "</thead>\n",
       "<tbody>\n",
       "\t<tr><th scope=row>DMRTA1</th><td>-0.32902143</td><td>-0.2547414</td><td> 0.84184135</td><td> 0.9161214</td><td> 0.12259939</td><td> 0.19687945</td><td>-0.24933358</td><td>-0.46343611</td><td>-0.65882981</td><td>-0.74718896</td></tr>\n",
       "\t<tr><th scope=row>EGR1</th><td> 0.57407122</td><td>-0.1319549</td><td> 0.09421314</td><td>-0.6118129</td><td> 2.40773232</td><td> 1.70170624</td><td>-0.10785768</td><td>-0.60488822</td><td> 0.04504802</td><td> 0.81745055</td></tr>\n",
       "\t<tr><th scope=row>EMX2</th><td> 0.24329974</td><td> 0.2606112</td><td> 0.17486186</td><td> 0.1921733</td><td> 1.70850637</td><td> 1.72581778</td><td>-2.03854381</td><td>-1.20893533</td><td>-0.67958528</td><td>-1.15699077</td></tr>\n",
       "\t<tr><th scope=row>FEZF2</th><td>-0.38366907</td><td>-0.3723914</td><td> 0.54131748</td><td> 0.5525951</td><td> 0.89075611</td><td> 0.90203376</td><td>-0.41295257</td><td>-0.06610991</td><td>-0.94543869</td><td>-1.14083966</td></tr>\n",
       "\t<tr><th scope=row>FOXB1</th><td>-1.11317037</td><td>-1.2369058</td><td> 1.06591080</td><td> 0.9421753</td><td>-1.24730335</td><td>-1.37103881</td><td>-1.20172329</td><td>-0.30552272</td><td>-1.25346356</td><td>-1.26213249</td></tr>\n",
       "\t<tr><th scope=row>FOXG1</th><td> 2.29609231</td><td> 2.6870313</td><td> 1.88895661</td><td> 2.2798956</td><td> 2.35320960</td><td> 2.74414858</td><td> 3.71274008</td><td> 1.24265118</td><td> 1.22572079</td><td> 1.34483387</td></tr>\n",
       "\t<tr><th scope=row>HES1</th><td> 0.50704323</td><td> 0.2180123</td><td> 0.52788015</td><td> 0.2388492</td><td> 0.24732834</td><td>-0.04170262</td><td> 0.47073952</td><td> 0.52461036</td><td> 0.44786149</td><td> 0.75283394</td></tr>\n",
       "\t<tr><th scope=row>HES4</th><td> 0.45194581</td><td> 0.2211811</td><td> 1.50576202</td><td> 1.2749973</td><td>-0.03108490</td><td>-0.26184965</td><td> 0.59074432</td><td> 0.81406307</td><td> 0.22735202</td><td>-0.16226058</td></tr>\n",
       "\t<tr><th scope=row>HES5</th><td> 1.66871056</td><td> 1.0115631</td><td> 2.20557038</td><td> 1.5484229</td><td>-0.74724132</td><td>-1.40438880</td><td> 0.49567209</td><td> 0.77926958</td><td>-0.02678524</td><td> 0.58450197</td></tr>\n",
       "\t<tr><th scope=row>LHX2</th><td> 1.10119977</td><td> 0.6802226</td><td> 1.04023063</td><td> 0.6192535</td><td> 1.66566902</td><td> 1.24469185</td><td> 1.62216685</td><td> 0.09927040</td><td>-0.14389375</td><td>-0.29017859</td></tr>\n",
       "\t<tr><th scope=row>MEIS2</th><td> 1.59030890</td><td> 1.3514532</td><td>-0.49660409</td><td>-0.7354597</td><td>-0.89028681</td><td>-1.12914245</td><td> 0.80212779</td><td> 0.17105523</td><td> 0.37520671</td><td>-0.06736598</td></tr>\n",
       "\t<tr><th scope=row>NR6A1</th><td> 0.19393873</td><td>-0.1527218</td><td> 0.10705657</td><td>-0.2396040</td><td>-0.79608278</td><td>-1.14274333</td><td> 0.15336888</td><td>-0.01171444</td><td> 0.28317221</td><td> 0.28573571</td></tr>\n",
       "\t<tr><th scope=row>PAX6</th><td>-0.09872272</td><td>-0.3384843</td><td> 0.75157991</td><td> 0.5118183</td><td> 1.60022087</td><td> 1.36045927</td><td>-0.18807321</td><td>-0.18714021</td><td>-1.41927258</td><td>-2.02765069</td></tr>\n",
       "\t<tr><th scope=row>PEG3</th><td>-0.72974558</td><td>-0.2222976</td><td>-1.02526407</td><td>-0.5178161</td><td>-1.27515296</td><td>-0.76770501</td><td>-2.29989539</td><td>-2.84155047</td><td>-2.98857404</td><td>-3.89810072</td></tr>\n",
       "\t<tr><th scope=row>POU3F2</th><td> 0.04702338</td><td>-0.2818637</td><td>-0.13041296</td><td>-0.4593001</td><td>-0.59793990</td><td>-0.92682699</td><td>-0.43185737</td><td>-0.71498381</td><td>-0.64564519</td><td>-0.69019879</td></tr>\n",
       "\t<tr><th scope=row>RAX</th><td>-0.07199412</td><td>-0.5092776</td><td> 1.37517113</td><td> 0.9378876</td><td> 2.48205755</td><td> 2.04477405</td><td>-0.05273492</td><td>-2.54378310</td><td>-3.02914840</td><td>-2.48310967</td></tr>\n",
       "\t<tr><th scope=row>SALL4</th><td>-0.22144146</td><td>-0.3103113</td><td> 0.46340770</td><td> 0.3745379</td><td>-1.39383434</td><td>-1.48270414</td><td>-0.19884367</td><td>-0.17411927</td><td>-0.41919994</td><td>-0.20075515</td></tr>\n",
       "\t<tr><th scope=row>SIX3</th><td> 0.91015889</td><td> 0.7306246</td><td> 0.85648130</td><td> 0.6769470</td><td> 1.31623795</td><td> 1.13670364</td><td> 1.07417056</td><td>-0.11429097</td><td>-0.31644121</td><td>-0.69703393</td></tr>\n",
       "\t<tr><th scope=row>SOX4</th><td>-0.21851363</td><td>-0.2116817</td><td> 0.20440329</td><td> 0.2112352</td><td> 0.37667929</td><td> 0.38351121</td><td> 0.21876154</td><td> 0.01526273</td><td>-0.01243898</td><td>-0.19344167</td></tr>\n",
       "\t<tr><th scope=row>TAL2</th><td> 0.57415340</td><td>-0.1494478</td><td> 1.12093914</td><td> 0.3973380</td><td>-2.45549403</td><td>-3.17909521</td><td> 0.93316043</td><td>-0.32229169</td><td> 0.44787274</td><td> 1.63262513</td></tr>\n",
       "\t<tr><th scope=row>VAX2</th><td> 2.19715247</td><td> 1.3925297</td><td> 1.23148099</td><td> 0.4268582</td><td> 0.99685104</td><td> 0.19222823</td><td> 1.64523998</td><td> 0.01691608</td><td> 0.18338129</td><td> 0.98794804</td></tr>\n",
       "\t<tr><th scope=row>YBX3</th><td>-0.00119848</td><td> 0.2667521</td><td> 0.05738207</td><td> 0.3253326</td><td>-0.30450421</td><td>-0.03655364</td><td>-0.12634437</td><td> 0.15986543</td><td> 0.16616304</td><td> 0.11703207</td></tr>\n",
       "\t<tr><th scope=row>ZNF503</th><td> 0.38005254</td><td> 0.1709085</td><td>-0.08599727</td><td>-0.2951413</td><td>-0.01271929</td><td>-0.22186334</td><td>-0.17546921</td><td>-0.79528157</td><td>-0.32429267</td><td>-0.21017734</td></tr>\n",
       "</tbody>\n",
       "</table>\n"
      ],
      "text/latex": [
       "A matrix: 23 × 10 of type dbl\n",
       "\\begin{tabular}{r|llllllllll}\n",
       "  & PA\\_2\\_20 & PA\\_2\\_01 & PA\\_4\\_20 & PA\\_4\\_01 & PA\\_8\\_20 & PA\\_8\\_01 & DV\\_8 & DV\\_17 & DV\\_30 & DV\\_38\\\\\n",
       "\\hline\n",
       "\tDMRTA1 & -0.32902143 & -0.2547414 &  0.84184135 &  0.9161214 &  0.12259939 &  0.19687945 & -0.24933358 & -0.46343611 & -0.65882981 & -0.74718896\\\\\n",
       "\tEGR1 &  0.57407122 & -0.1319549 &  0.09421314 & -0.6118129 &  2.40773232 &  1.70170624 & -0.10785768 & -0.60488822 &  0.04504802 &  0.81745055\\\\\n",
       "\tEMX2 &  0.24329974 &  0.2606112 &  0.17486186 &  0.1921733 &  1.70850637 &  1.72581778 & -2.03854381 & -1.20893533 & -0.67958528 & -1.15699077\\\\\n",
       "\tFEZF2 & -0.38366907 & -0.3723914 &  0.54131748 &  0.5525951 &  0.89075611 &  0.90203376 & -0.41295257 & -0.06610991 & -0.94543869 & -1.14083966\\\\\n",
       "\tFOXB1 & -1.11317037 & -1.2369058 &  1.06591080 &  0.9421753 & -1.24730335 & -1.37103881 & -1.20172329 & -0.30552272 & -1.25346356 & -1.26213249\\\\\n",
       "\tFOXG1 &  2.29609231 &  2.6870313 &  1.88895661 &  2.2798956 &  2.35320960 &  2.74414858 &  3.71274008 &  1.24265118 &  1.22572079 &  1.34483387\\\\\n",
       "\tHES1 &  0.50704323 &  0.2180123 &  0.52788015 &  0.2388492 &  0.24732834 & -0.04170262 &  0.47073952 &  0.52461036 &  0.44786149 &  0.75283394\\\\\n",
       "\tHES4 &  0.45194581 &  0.2211811 &  1.50576202 &  1.2749973 & -0.03108490 & -0.26184965 &  0.59074432 &  0.81406307 &  0.22735202 & -0.16226058\\\\\n",
       "\tHES5 &  1.66871056 &  1.0115631 &  2.20557038 &  1.5484229 & -0.74724132 & -1.40438880 &  0.49567209 &  0.77926958 & -0.02678524 &  0.58450197\\\\\n",
       "\tLHX2 &  1.10119977 &  0.6802226 &  1.04023063 &  0.6192535 &  1.66566902 &  1.24469185 &  1.62216685 &  0.09927040 & -0.14389375 & -0.29017859\\\\\n",
       "\tMEIS2 &  1.59030890 &  1.3514532 & -0.49660409 & -0.7354597 & -0.89028681 & -1.12914245 &  0.80212779 &  0.17105523 &  0.37520671 & -0.06736598\\\\\n",
       "\tNR6A1 &  0.19393873 & -0.1527218 &  0.10705657 & -0.2396040 & -0.79608278 & -1.14274333 &  0.15336888 & -0.01171444 &  0.28317221 &  0.28573571\\\\\n",
       "\tPAX6 & -0.09872272 & -0.3384843 &  0.75157991 &  0.5118183 &  1.60022087 &  1.36045927 & -0.18807321 & -0.18714021 & -1.41927258 & -2.02765069\\\\\n",
       "\tPEG3 & -0.72974558 & -0.2222976 & -1.02526407 & -0.5178161 & -1.27515296 & -0.76770501 & -2.29989539 & -2.84155047 & -2.98857404 & -3.89810072\\\\\n",
       "\tPOU3F2 &  0.04702338 & -0.2818637 & -0.13041296 & -0.4593001 & -0.59793990 & -0.92682699 & -0.43185737 & -0.71498381 & -0.64564519 & -0.69019879\\\\\n",
       "\tRAX & -0.07199412 & -0.5092776 &  1.37517113 &  0.9378876 &  2.48205755 &  2.04477405 & -0.05273492 & -2.54378310 & -3.02914840 & -2.48310967\\\\\n",
       "\tSALL4 & -0.22144146 & -0.3103113 &  0.46340770 &  0.3745379 & -1.39383434 & -1.48270414 & -0.19884367 & -0.17411927 & -0.41919994 & -0.20075515\\\\\n",
       "\tSIX3 &  0.91015889 &  0.7306246 &  0.85648130 &  0.6769470 &  1.31623795 &  1.13670364 &  1.07417056 & -0.11429097 & -0.31644121 & -0.69703393\\\\\n",
       "\tSOX4 & -0.21851363 & -0.2116817 &  0.20440329 &  0.2112352 &  0.37667929 &  0.38351121 &  0.21876154 &  0.01526273 & -0.01243898 & -0.19344167\\\\\n",
       "\tTAL2 &  0.57415340 & -0.1494478 &  1.12093914 &  0.3973380 & -2.45549403 & -3.17909521 &  0.93316043 & -0.32229169 &  0.44787274 &  1.63262513\\\\\n",
       "\tVAX2 &  2.19715247 &  1.3925297 &  1.23148099 &  0.4268582 &  0.99685104 &  0.19222823 &  1.64523998 &  0.01691608 &  0.18338129 &  0.98794804\\\\\n",
       "\tYBX3 & -0.00119848 &  0.2667521 &  0.05738207 &  0.3253326 & -0.30450421 & -0.03655364 & -0.12634437 &  0.15986543 &  0.16616304 &  0.11703207\\\\\n",
       "\tZNF503 &  0.38005254 &  0.1709085 & -0.08599727 & -0.2951413 & -0.01271929 & -0.22186334 & -0.17546921 & -0.79528157 & -0.32429267 & -0.21017734\\\\\n",
       "\\end{tabular}\n"
      ],
      "text/markdown": [
       "\n",
       "A matrix: 23 × 10 of type dbl\n",
       "\n",
       "| <!--/--> | PA_2_20 | PA_2_01 | PA_4_20 | PA_4_01 | PA_8_20 | PA_8_01 | DV_8 | DV_17 | DV_30 | DV_38 |\n",
       "|---|---|---|---|---|---|---|---|---|---|---|\n",
       "| DMRTA1 | -0.32902143 | -0.2547414 |  0.84184135 |  0.9161214 |  0.12259939 |  0.19687945 | -0.24933358 | -0.46343611 | -0.65882981 | -0.74718896 |\n",
       "| EGR1 |  0.57407122 | -0.1319549 |  0.09421314 | -0.6118129 |  2.40773232 |  1.70170624 | -0.10785768 | -0.60488822 |  0.04504802 |  0.81745055 |\n",
       "| EMX2 |  0.24329974 |  0.2606112 |  0.17486186 |  0.1921733 |  1.70850637 |  1.72581778 | -2.03854381 | -1.20893533 | -0.67958528 | -1.15699077 |\n",
       "| FEZF2 | -0.38366907 | -0.3723914 |  0.54131748 |  0.5525951 |  0.89075611 |  0.90203376 | -0.41295257 | -0.06610991 | -0.94543869 | -1.14083966 |\n",
       "| FOXB1 | -1.11317037 | -1.2369058 |  1.06591080 |  0.9421753 | -1.24730335 | -1.37103881 | -1.20172329 | -0.30552272 | -1.25346356 | -1.26213249 |\n",
       "| FOXG1 |  2.29609231 |  2.6870313 |  1.88895661 |  2.2798956 |  2.35320960 |  2.74414858 |  3.71274008 |  1.24265118 |  1.22572079 |  1.34483387 |\n",
       "| HES1 |  0.50704323 |  0.2180123 |  0.52788015 |  0.2388492 |  0.24732834 | -0.04170262 |  0.47073952 |  0.52461036 |  0.44786149 |  0.75283394 |\n",
       "| HES4 |  0.45194581 |  0.2211811 |  1.50576202 |  1.2749973 | -0.03108490 | -0.26184965 |  0.59074432 |  0.81406307 |  0.22735202 | -0.16226058 |\n",
       "| HES5 |  1.66871056 |  1.0115631 |  2.20557038 |  1.5484229 | -0.74724132 | -1.40438880 |  0.49567209 |  0.77926958 | -0.02678524 |  0.58450197 |\n",
       "| LHX2 |  1.10119977 |  0.6802226 |  1.04023063 |  0.6192535 |  1.66566902 |  1.24469185 |  1.62216685 |  0.09927040 | -0.14389375 | -0.29017859 |\n",
       "| MEIS2 |  1.59030890 |  1.3514532 | -0.49660409 | -0.7354597 | -0.89028681 | -1.12914245 |  0.80212779 |  0.17105523 |  0.37520671 | -0.06736598 |\n",
       "| NR6A1 |  0.19393873 | -0.1527218 |  0.10705657 | -0.2396040 | -0.79608278 | -1.14274333 |  0.15336888 | -0.01171444 |  0.28317221 |  0.28573571 |\n",
       "| PAX6 | -0.09872272 | -0.3384843 |  0.75157991 |  0.5118183 |  1.60022087 |  1.36045927 | -0.18807321 | -0.18714021 | -1.41927258 | -2.02765069 |\n",
       "| PEG3 | -0.72974558 | -0.2222976 | -1.02526407 | -0.5178161 | -1.27515296 | -0.76770501 | -2.29989539 | -2.84155047 | -2.98857404 | -3.89810072 |\n",
       "| POU3F2 |  0.04702338 | -0.2818637 | -0.13041296 | -0.4593001 | -0.59793990 | -0.92682699 | -0.43185737 | -0.71498381 | -0.64564519 | -0.69019879 |\n",
       "| RAX | -0.07199412 | -0.5092776 |  1.37517113 |  0.9378876 |  2.48205755 |  2.04477405 | -0.05273492 | -2.54378310 | -3.02914840 | -2.48310967 |\n",
       "| SALL4 | -0.22144146 | -0.3103113 |  0.46340770 |  0.3745379 | -1.39383434 | -1.48270414 | -0.19884367 | -0.17411927 | -0.41919994 | -0.20075515 |\n",
       "| SIX3 |  0.91015889 |  0.7306246 |  0.85648130 |  0.6769470 |  1.31623795 |  1.13670364 |  1.07417056 | -0.11429097 | -0.31644121 | -0.69703393 |\n",
       "| SOX4 | -0.21851363 | -0.2116817 |  0.20440329 |  0.2112352 |  0.37667929 |  0.38351121 |  0.21876154 |  0.01526273 | -0.01243898 | -0.19344167 |\n",
       "| TAL2 |  0.57415340 | -0.1494478 |  1.12093914 |  0.3973380 | -2.45549403 | -3.17909521 |  0.93316043 | -0.32229169 |  0.44787274 |  1.63262513 |\n",
       "| VAX2 |  2.19715247 |  1.3925297 |  1.23148099 |  0.4268582 |  0.99685104 |  0.19222823 |  1.64523998 |  0.01691608 |  0.18338129 |  0.98794804 |\n",
       "| YBX3 | -0.00119848 |  0.2667521 |  0.05738207 |  0.3253326 | -0.30450421 | -0.03655364 | -0.12634437 |  0.15986543 |  0.16616304 |  0.11703207 |\n",
       "| ZNF503 |  0.38005254 |  0.1709085 | -0.08599727 | -0.2951413 | -0.01271929 | -0.22186334 | -0.17546921 | -0.79528157 | -0.32429267 | -0.21017734 |\n",
       "\n"
      ],
      "text/plain": [
       "       PA_2_20     PA_2_01    PA_4_20     PA_4_01    PA_8_20     PA_8_01    \n",
       "DMRTA1 -0.32902143 -0.2547414  0.84184135  0.9161214  0.12259939  0.19687945\n",
       "EGR1    0.57407122 -0.1319549  0.09421314 -0.6118129  2.40773232  1.70170624\n",
       "EMX2    0.24329974  0.2606112  0.17486186  0.1921733  1.70850637  1.72581778\n",
       "FEZF2  -0.38366907 -0.3723914  0.54131748  0.5525951  0.89075611  0.90203376\n",
       "FOXB1  -1.11317037 -1.2369058  1.06591080  0.9421753 -1.24730335 -1.37103881\n",
       "FOXG1   2.29609231  2.6870313  1.88895661  2.2798956  2.35320960  2.74414858\n",
       "HES1    0.50704323  0.2180123  0.52788015  0.2388492  0.24732834 -0.04170262\n",
       "HES4    0.45194581  0.2211811  1.50576202  1.2749973 -0.03108490 -0.26184965\n",
       "HES5    1.66871056  1.0115631  2.20557038  1.5484229 -0.74724132 -1.40438880\n",
       "LHX2    1.10119977  0.6802226  1.04023063  0.6192535  1.66566902  1.24469185\n",
       "MEIS2   1.59030890  1.3514532 -0.49660409 -0.7354597 -0.89028681 -1.12914245\n",
       "NR6A1   0.19393873 -0.1527218  0.10705657 -0.2396040 -0.79608278 -1.14274333\n",
       "PAX6   -0.09872272 -0.3384843  0.75157991  0.5118183  1.60022087  1.36045927\n",
       "PEG3   -0.72974558 -0.2222976 -1.02526407 -0.5178161 -1.27515296 -0.76770501\n",
       "POU3F2  0.04702338 -0.2818637 -0.13041296 -0.4593001 -0.59793990 -0.92682699\n",
       "RAX    -0.07199412 -0.5092776  1.37517113  0.9378876  2.48205755  2.04477405\n",
       "SALL4  -0.22144146 -0.3103113  0.46340770  0.3745379 -1.39383434 -1.48270414\n",
       "SIX3    0.91015889  0.7306246  0.85648130  0.6769470  1.31623795  1.13670364\n",
       "SOX4   -0.21851363 -0.2116817  0.20440329  0.2112352  0.37667929  0.38351121\n",
       "TAL2    0.57415340 -0.1494478  1.12093914  0.3973380 -2.45549403 -3.17909521\n",
       "VAX2    2.19715247  1.3925297  1.23148099  0.4268582  0.99685104  0.19222823\n",
       "YBX3   -0.00119848  0.2667521  0.05738207  0.3253326 -0.30450421 -0.03655364\n",
       "ZNF503  0.38005254  0.1709085 -0.08599727 -0.2951413 -0.01271929 -0.22186334\n",
       "       DV_8        DV_17       DV_30       DV_38      \n",
       "DMRTA1 -0.24933358 -0.46343611 -0.65882981 -0.74718896\n",
       "EGR1   -0.10785768 -0.60488822  0.04504802  0.81745055\n",
       "EMX2   -2.03854381 -1.20893533 -0.67958528 -1.15699077\n",
       "FEZF2  -0.41295257 -0.06610991 -0.94543869 -1.14083966\n",
       "FOXB1  -1.20172329 -0.30552272 -1.25346356 -1.26213249\n",
       "FOXG1   3.71274008  1.24265118  1.22572079  1.34483387\n",
       "HES1    0.47073952  0.52461036  0.44786149  0.75283394\n",
       "HES4    0.59074432  0.81406307  0.22735202 -0.16226058\n",
       "HES5    0.49567209  0.77926958 -0.02678524  0.58450197\n",
       "LHX2    1.62216685  0.09927040 -0.14389375 -0.29017859\n",
       "MEIS2   0.80212779  0.17105523  0.37520671 -0.06736598\n",
       "NR6A1   0.15336888 -0.01171444  0.28317221  0.28573571\n",
       "PAX6   -0.18807321 -0.18714021 -1.41927258 -2.02765069\n",
       "PEG3   -2.29989539 -2.84155047 -2.98857404 -3.89810072\n",
       "POU3F2 -0.43185737 -0.71498381 -0.64564519 -0.69019879\n",
       "RAX    -0.05273492 -2.54378310 -3.02914840 -2.48310967\n",
       "SALL4  -0.19884367 -0.17411927 -0.41919994 -0.20075515\n",
       "SIX3    1.07417056 -0.11429097 -0.31644121 -0.69703393\n",
       "SOX4    0.21876154  0.01526273 -0.01243898 -0.19344167\n",
       "TAL2    0.93316043 -0.32229169  0.44787274  1.63262513\n",
       "VAX2    1.64523998  0.01691608  0.18338129  0.98794804\n",
       "YBX3   -0.12634437  0.15986543  0.16616304  0.11703207\n",
       "ZNF503 -0.17546921 -0.79528157 -0.32429267 -0.21017734"
      ]
     },
     "metadata": {},
     "output_type": "display_data"
    }
   ],
   "source": [
    "mat"
   ]
  },
  {
   "cell_type": "code",
   "execution_count": 24,
   "id": "fee450de-e81a-4d38-bdb2-9ebe45c95845",
   "metadata": {},
   "outputs": [],
   "source": [
    "pa.lfc <- mat[, rownames(pa.mat.meta)]\n",
    "dv.lfc <- mat[, rownames(dv.mat.meta)]"
   ]
  },
  {
   "cell_type": "markdown",
   "id": "9fe199d6-80c0-43bc-b106-3247379ae676",
   "metadata": {},
   "source": [
    "### Conf matrix"
   ]
  },
  {
   "cell_type": "code",
   "execution_count": 25,
   "id": "ff4c6682-16ed-49ae-8d36-c70d214565e8",
   "metadata": {},
   "outputs": [
    {
     "data": {
      "text/html": [
       "<table class=\"dataframe\">\n",
       "<caption>A data.frame: 23 × 3</caption>\n",
       "<thead>\n",
       "\t<tr><th></th><th scope=col>gene</th><th scope=col>matching.donors</th><th scope=col>overexpressed.in</th></tr>\n",
       "\t<tr><th></th><th scope=col>&lt;chr&gt;</th><th scope=col>&lt;fct&gt;</th><th scope=col>&lt;chr&gt;</th></tr>\n",
       "</thead>\n",
       "<tbody>\n",
       "\t<tr><th scope=row>226452</th><td>PEG3  </td><td>D8_ASD_375</td><td>Ctrl</td></tr>\n",
       "\t<tr><th scope=row>226503</th><td>DMRTA1</td><td>D8_ASD_384</td><td>Ctrl</td></tr>\n",
       "\t<tr><th scope=row>226506</th><td>EGR1  </td><td>D8_ASD_384</td><td>Ctrl</td></tr>\n",
       "\t<tr><th scope=row>226512</th><td>EMX2  </td><td>D8_ASD_384</td><td>Ctrl</td></tr>\n",
       "\t<tr><th scope=row>226519</th><td>FEZF2 </td><td>D8_ASD_384</td><td>Ctrl</td></tr>\n",
       "\t<tr><th scope=row>226523</th><td>FOXB1 </td><td>D8_ASD_384</td><td>Ctrl</td></tr>\n",
       "\t<tr><th scope=row>226526</th><td>FOXG1 </td><td>D8_ASD_384</td><td>ASD </td></tr>\n",
       "\t<tr><th scope=row>226534</th><td>HES1  </td><td>D8_ASD_384</td><td>ASD </td></tr>\n",
       "\t<tr><th scope=row>226556</th><td>LHX2  </td><td>D8_ASD_384</td><td>ASD </td></tr>\n",
       "\t<tr><th scope=row>226562</th><td>MEIS2 </td><td>D8_ASD_384</td><td>ASD </td></tr>\n",
       "\t<tr><th scope=row>226576</th><td>PAX6  </td><td>D8_ASD_384</td><td>Ctrl</td></tr>\n",
       "\t<tr><th scope=row>226582</th><td>POU3F2</td><td>D8_ASD_384</td><td>Ctrl</td></tr>\n",
       "\t<tr><th scope=row>226598</th><td>SALL4 </td><td>D8_ASD_384</td><td>Ctrl</td></tr>\n",
       "\t<tr><th scope=row>226607</th><td>SIX3  </td><td>D8_ASD_384</td><td>ASD </td></tr>\n",
       "\t<tr><th scope=row>226612</th><td>SOX4  </td><td>D8_ASD_384</td><td>ASD </td></tr>\n",
       "\t<tr><th scope=row>226621</th><td>TAL2  </td><td>D8_ASD_384</td><td>ASD </td></tr>\n",
       "\t<tr><th scope=row>226640</th><td>VAX2  </td><td>D8_ASD_384</td><td>ASD </td></tr>\n",
       "\t<tr><th scope=row>226650</th><td>ZNF503</td><td>D8_ASD_384</td><td>Ctrl</td></tr>\n",
       "\t<tr><th scope=row>226672</th><td>HES4  </td><td>D8_ASD_494</td><td>ASD </td></tr>\n",
       "\t<tr><th scope=row>226674</th><td>HES5  </td><td>D8_ASD_494</td><td>ASD </td></tr>\n",
       "\t<tr><th scope=row>226682</th><td>NR6A1 </td><td>D8_ASD_494</td><td>ASD </td></tr>\n",
       "\t<tr><th scope=row>226692</th><td>RAX   </td><td>D8_ASD_494</td><td>Ctrl</td></tr>\n",
       "\t<tr><th scope=row>226706</th><td>YBX3  </td><td>D8_ASD_494</td><td>Ctrl</td></tr>\n",
       "</tbody>\n",
       "</table>\n"
      ],
      "text/latex": [
       "A data.frame: 23 × 3\n",
       "\\begin{tabular}{r|lll}\n",
       "  & gene & matching.donors & overexpressed.in\\\\\n",
       "  & <chr> & <fct> & <chr>\\\\\n",
       "\\hline\n",
       "\t226452 & PEG3   & D8\\_ASD\\_375 & Ctrl\\\\\n",
       "\t226503 & DMRTA1 & D8\\_ASD\\_384 & Ctrl\\\\\n",
       "\t226506 & EGR1   & D8\\_ASD\\_384 & Ctrl\\\\\n",
       "\t226512 & EMX2   & D8\\_ASD\\_384 & Ctrl\\\\\n",
       "\t226519 & FEZF2  & D8\\_ASD\\_384 & Ctrl\\\\\n",
       "\t226523 & FOXB1  & D8\\_ASD\\_384 & Ctrl\\\\\n",
       "\t226526 & FOXG1  & D8\\_ASD\\_384 & ASD \\\\\n",
       "\t226534 & HES1   & D8\\_ASD\\_384 & ASD \\\\\n",
       "\t226556 & LHX2   & D8\\_ASD\\_384 & ASD \\\\\n",
       "\t226562 & MEIS2  & D8\\_ASD\\_384 & ASD \\\\\n",
       "\t226576 & PAX6   & D8\\_ASD\\_384 & Ctrl\\\\\n",
       "\t226582 & POU3F2 & D8\\_ASD\\_384 & Ctrl\\\\\n",
       "\t226598 & SALL4  & D8\\_ASD\\_384 & Ctrl\\\\\n",
       "\t226607 & SIX3   & D8\\_ASD\\_384 & ASD \\\\\n",
       "\t226612 & SOX4   & D8\\_ASD\\_384 & ASD \\\\\n",
       "\t226621 & TAL2   & D8\\_ASD\\_384 & ASD \\\\\n",
       "\t226640 & VAX2   & D8\\_ASD\\_384 & ASD \\\\\n",
       "\t226650 & ZNF503 & D8\\_ASD\\_384 & Ctrl\\\\\n",
       "\t226672 & HES4   & D8\\_ASD\\_494 & ASD \\\\\n",
       "\t226674 & HES5   & D8\\_ASD\\_494 & ASD \\\\\n",
       "\t226682 & NR6A1  & D8\\_ASD\\_494 & ASD \\\\\n",
       "\t226692 & RAX    & D8\\_ASD\\_494 & Ctrl\\\\\n",
       "\t226706 & YBX3   & D8\\_ASD\\_494 & Ctrl\\\\\n",
       "\\end{tabular}\n"
      ],
      "text/markdown": [
       "\n",
       "A data.frame: 23 × 3\n",
       "\n",
       "| <!--/--> | gene &lt;chr&gt; | matching.donors &lt;fct&gt; | overexpressed.in &lt;chr&gt; |\n",
       "|---|---|---|---|\n",
       "| 226452 | PEG3   | D8_ASD_375 | Ctrl |\n",
       "| 226503 | DMRTA1 | D8_ASD_384 | Ctrl |\n",
       "| 226506 | EGR1   | D8_ASD_384 | Ctrl |\n",
       "| 226512 | EMX2   | D8_ASD_384 | Ctrl |\n",
       "| 226519 | FEZF2  | D8_ASD_384 | Ctrl |\n",
       "| 226523 | FOXB1  | D8_ASD_384 | Ctrl |\n",
       "| 226526 | FOXG1  | D8_ASD_384 | ASD  |\n",
       "| 226534 | HES1   | D8_ASD_384 | ASD  |\n",
       "| 226556 | LHX2   | D8_ASD_384 | ASD  |\n",
       "| 226562 | MEIS2  | D8_ASD_384 | ASD  |\n",
       "| 226576 | PAX6   | D8_ASD_384 | Ctrl |\n",
       "| 226582 | POU3F2 | D8_ASD_384 | Ctrl |\n",
       "| 226598 | SALL4  | D8_ASD_384 | Ctrl |\n",
       "| 226607 | SIX3   | D8_ASD_384 | ASD  |\n",
       "| 226612 | SOX4   | D8_ASD_384 | ASD  |\n",
       "| 226621 | TAL2   | D8_ASD_384 | ASD  |\n",
       "| 226640 | VAX2   | D8_ASD_384 | ASD  |\n",
       "| 226650 | ZNF503 | D8_ASD_384 | Ctrl |\n",
       "| 226672 | HES4   | D8_ASD_494 | ASD  |\n",
       "| 226674 | HES5   | D8_ASD_494 | ASD  |\n",
       "| 226682 | NR6A1  | D8_ASD_494 | ASD  |\n",
       "| 226692 | RAX    | D8_ASD_494 | Ctrl |\n",
       "| 226706 | YBX3   | D8_ASD_494 | Ctrl |\n",
       "\n"
      ],
      "text/plain": [
       "       gene   matching.donors overexpressed.in\n",
       "226452 PEG3   D8_ASD_375      Ctrl            \n",
       "226503 DMRTA1 D8_ASD_384      Ctrl            \n",
       "226506 EGR1   D8_ASD_384      Ctrl            \n",
       "226512 EMX2   D8_ASD_384      Ctrl            \n",
       "226519 FEZF2  D8_ASD_384      Ctrl            \n",
       "226523 FOXB1  D8_ASD_384      Ctrl            \n",
       "226526 FOXG1  D8_ASD_384      ASD             \n",
       "226534 HES1   D8_ASD_384      ASD             \n",
       "226556 LHX2   D8_ASD_384      ASD             \n",
       "226562 MEIS2  D8_ASD_384      ASD             \n",
       "226576 PAX6   D8_ASD_384      Ctrl            \n",
       "226582 POU3F2 D8_ASD_384      Ctrl            \n",
       "226598 SALL4  D8_ASD_384      Ctrl            \n",
       "226607 SIX3   D8_ASD_384      ASD             \n",
       "226612 SOX4   D8_ASD_384      ASD             \n",
       "226621 TAL2   D8_ASD_384      ASD             \n",
       "226640 VAX2   D8_ASD_384      ASD             \n",
       "226650 ZNF503 D8_ASD_384      Ctrl            \n",
       "226672 HES4   D8_ASD_494      ASD             \n",
       "226674 HES5   D8_ASD_494      ASD             \n",
       "226682 NR6A1  D8_ASD_494      ASD             \n",
       "226692 RAX    D8_ASD_494      Ctrl            \n",
       "226706 YBX3   D8_ASD_494      Ctrl            "
      ]
     },
     "metadata": {},
     "output_type": "display_data"
    }
   ],
   "source": [
    "subset(rge.ind.marker.df, gene%in%valid.genes)[,c('gene', 'matching.donors', 'overexpressed.in')]"
   ]
  },
  {
   "cell_type": "code",
   "execution_count": 26,
   "id": "aa815399-05c8-4d15-9229-40646e1c8644",
   "metadata": {
    "tags": []
   },
   "outputs": [
    {
     "name": "stderr",
     "output_type": "stream",
     "text": [
      "Using overexpressed.in as value column: use value.var to override.\n",
      "\n"
     ]
    }
   ],
   "source": [
    "unique(subset(rge.ind.marker.df, gene%in%valid.genes)[,c('gene', 'matching.donors', 'overexpressed.in')]) %>% tidyr::separate_rows('matching.donors', sep = '&') %>% reshape2::dcast('gene ~ matching.donors', fun.aggregate = function(x){\n",
    "    if (length(x)==0) 'None' else{paste(sort(unique(x)), collapse=' ')}}) -> confusion.matrix\n",
    "\n",
    "rownames(confusion.matrix) <- confusion.matrix$gene\n",
    "confusion.matrix$gene <- NULL\n",
    "confusion.matrix <- confusion.matrix[valid.genes, ]"
   ]
  },
  {
   "cell_type": "markdown",
   "id": "05a5faf2-5fae-4e72-a817-aedd4d89279e",
   "metadata": {},
   "source": [
    "### Htmp"
   ]
  },
  {
   "cell_type": "markdown",
   "id": "ddb20971-f645-4138-b229-bc4cda020c53",
   "metadata": {},
   "source": [
    "### Htmp + exp"
   ]
  },
  {
   "cell_type": "code",
   "execution_count": 27,
   "id": "5321ef10-e7cb-4057-a6cc-3ffef8ed3974",
   "metadata": {},
   "outputs": [],
   "source": [
    "# expression, from DESeq2::vst\n",
    "pa.mat <- assay(pa.rld)[sapply(valid.genes, function(x){grepl(pattern=x, x=rownames(pa.rld))})%>%rowSums()%>%as.logical,]\n",
    "rownames(pa.mat) <- strsplit(rownames(pa.mat), split='|', fixed=T) %>% sapply(function(x){x[2]}) %>% make.unique()\n",
    "pa.mat <- pa.mat[valid.genes, rownames(pa.meta)]\n",
    "# bulk.seurats$PA[['RNA']]@scale.data[valid.genes,]\n",
    "\n",
    "dv.mat <- assay(dv.rld)[sapply(valid.genes, function(x){grepl(pattern=x, x=rownames(dv.rld))})%>%rowSums()%>%as.logical,]\n",
    "rownames(dv.mat) <- strsplit(rownames(dv.mat), split='|', fixed=T) %>% sapply(function(x){x[2]}) %>% make.unique()\n",
    "dv.mat <- dv.mat[valid.genes, rownames(dv.meta)] \n",
    "# bulk.seurats$DV[['RNA']]@scale.data[valid.genes,]"
   ]
  },
  {
   "cell_type": "markdown",
   "id": "a91417c3-fedf-4eb9-bb6e-93c6a1364994",
   "metadata": {},
   "source": [
    "### Order"
   ]
  },
  {
   "cell_type": "code",
   "execution_count": 28,
   "id": "9c299e9c-697d-4bb2-b17a-ee1dfc6aca75",
   "metadata": {},
   "outputs": [],
   "source": [
    "rng <- range(mat)\n",
    "col <- colorRamp2(breaks = c(rng[1], 0, rng[2]), colors = c('Blue', 'lightyellow', 'Red'))\n",
    "\n",
    "mat <- mat[valid.genes,]\n",
    "smat <- smat[valid.genes,]\n",
    "pa.lfc <- pa.lfc[valid.genes,]\n",
    "dv.lfc <- dv.lfc[valid.genes,]\n",
    "pa.smat <- smat[valid.genes,colnames(pa.lfc)]\n",
    "dv.smat <- smat[valid.genes,colnames(dv.lfc)]\n",
    "pa.mat <- pa.mat[valid.genes,]\n",
    "dv.mat <- dv.mat[valid.genes,]\n",
    "confusion.matrix <- confusion.matrix[valid.genes,]\n",
    "\n",
    "topa.pa <- HeatmapAnnotation(df = pa.mat.meta[,colnames(pa.mat.meta)!='Experiment', drop=F],\n",
    "                             na_col = 'white', col = meta.cols, show_annotation_name = F)\n",
    "topa.dv <- HeatmapAnnotation(df = dv.mat.meta[,colnames(dv.mat.meta)!='Experiment', drop=F],\n",
    "                             na_col = 'white', col = meta.cols, show_annotation_name = F)\n",
    "\n",
    "bottoma.pa <- HeatmapAnnotation(df = pa.mat.meta[,colnames(pa.mat.meta)=='Experiment', drop=F],\n",
    "                                na_col = 'white', col = meta.cols, show_annotation_name = T,\n",
    "                                annotation_name_side = 'left')\n",
    "bottoma.dv <- HeatmapAnnotation(df = dv.mat.meta[,colnames(dv.mat.meta)=='Experiment', drop=F],\n",
    "                                na_col = 'white', col = meta.cols, show_annotation_name = F)\n",
    "\n",
    "topb.pa <- HeatmapAnnotation(df = pa.meta[,colnames(pa.meta)!='Experiment', drop=F], \n",
    "                             show_annotation_name = F,  na_col = 'white', col = meta.cols)\n",
    "topb.dv <- HeatmapAnnotation(df = dv.meta[,colnames(dv.meta)!='Experiment', drop=F], \n",
    "                             show_annotation_name = F, na_col = 'white', col = meta.cols,\n",
    "                             annotation_name_side = 'right')\n",
    "\n",
    "bottomb.pa <- HeatmapAnnotation(df = pa.meta[,colnames(pa.meta)=='Experiment', drop=F], \n",
    "                             show_annotation_name = F,  na_col = 'white', col = meta.cols,\n",
    "                             annotation_name_side = 'left')\n",
    "bottomb.dv <- HeatmapAnnotation(df = dv.meta[,colnames(dv.meta)=='Experiment', drop=F], \n",
    "                             show_annotation_name = F, na_col = 'white', col = meta.cols,\n",
    "                             annotation_name_side = 'right')\n",
    "\n",
    "\n",
    "\n",
    "orders <- list(\n",
    "    'ASD/Ctrl expression bias\\n(in Passaging experiment)' = order_rows(pa.lfc),\n",
    "    'Gene expression\\n(in Passaging experiment)' = order_rows(pa.mat, n.bins = 20),\n",
    "    'ASD/Ctrl expression bias\\n(in Differentiation experiment)' = order_rows(dv.lfc),\n",
    "    'Gene expression\\n(in Differentiation experiment)' = order_rows(dv.mat, n.bins = 20)\n",
    "    # 'ASD/Ctrl expression bias\\n(in both experiments)' = order_rows(mat),\n",
    "    # 'Gene expression\\n(in both experiments)' = order_rows(cbind(pa.mat, dv.mat), n.bins = 20),\n",
    ")\n",
    "\n"
   ]
  },
  {
   "cell_type": "code",
   "execution_count": 29,
   "id": "f63cd71e-2e42-4240-b5e9-d0d8b553bba9",
   "metadata": {
    "scrolled": true,
    "tags": []
   },
   "outputs": [
    {
     "name": "stderr",
     "output_type": "stream",
     "text": [
      "'magick' package is suggested to install to give better rasterization.\n",
      "\n",
      "Set `ht_opt$message = FALSE` to turn off this message.\n",
      "\n",
      "'magick' package is suggested to install to give better rasterization.\n",
      "\n",
      "Set `ht_opt$message = FALSE` to turn off this message.\n",
      "\n",
      "Warning message:\n",
      "“The input is a data frame-like object, convert it to a matrix.”\n",
      "Warning message:\n",
      "“Note: not all columns in the data frame are numeric. The data frame\n",
      "will be converted into a character matrix.”\n",
      "'magick' package is suggested to install to give better rasterization.\n",
      "\n",
      "Set `ht_opt$message = FALSE` to turn off this message.\n",
      "\n",
      "'magick' package is suggested to install to give better rasterization.\n",
      "\n",
      "Set `ht_opt$message = FALSE` to turn off this message.\n",
      "\n",
      "Warning message:\n",
      "“The input is a data frame-like object, convert it to a matrix.”\n",
      "Warning message:\n",
      "“Note: not all columns in the data frame are numeric. The data frame\n",
      "will be converted into a character matrix.”\n",
      "'magick' package is suggested to install to give better rasterization.\n",
      "\n",
      "Set `ht_opt$message = FALSE` to turn off this message.\n",
      "\n",
      "'magick' package is suggested to install to give better rasterization.\n",
      "\n",
      "Set `ht_opt$message = FALSE` to turn off this message.\n",
      "\n",
      "Warning message:\n",
      "“The input is a data frame-like object, convert it to a matrix.”\n",
      "Warning message:\n",
      "“Note: not all columns in the data frame are numeric. The data frame\n",
      "will be converted into a character matrix.”\n",
      "'magick' package is suggested to install to give better rasterization.\n",
      "\n",
      "Set `ht_opt$message = FALSE` to turn off this message.\n",
      "\n",
      "'magick' package is suggested to install to give better rasterization.\n",
      "\n",
      "Set `ht_opt$message = FALSE` to turn off this message.\n",
      "\n",
      "Warning message:\n",
      "“The input is a data frame-like object, convert it to a matrix.”\n",
      "Warning message:\n",
      "“Note: not all columns in the data frame are numeric. The data frame\n",
      "will be converted into a character matrix.”\n"
     ]
    },
    {
     "data": {
      "image/png": "[encoded data removed]",
      "text/plain": [
       "plot without title"
      ]
     },
     "metadata": {
      "image/png": {
       "height": 360,
       "width": 1020
      }
     },
     "output_type": "display_data"
    }
   ],
   "source": [
    "fig(w = 17,6)\n",
    "\n",
    "lapply(names(orders), function(order.name){\n",
    "    \n",
    "    these.genes <- orders[[order.name]]\n",
    "    \n",
    "    mat <- mat[these.genes,]\n",
    "    smat <- smat[these.genes,]\n",
    "    pa.lfc <- pa.lfc[these.genes,]\n",
    "    dv.lfc <- dv.lfc[these.genes,]\n",
    "    pa.smat <- smat[these.genes,colnames(pa.lfc)]\n",
    "    dv.smat <- smat[these.genes,colnames(dv.lfc)]\n",
    "    pa.mat <- pa.mat[these.genes,]\n",
    "    dv.mat <- dv.mat[these.genes,]\n",
    "    confusion.matrix <- confusion.matrix[these.genes,]\n",
    "\n",
    "    cell_fun_pa <- function(j, i, x, y, w, h, col) { # add text to each grid\n",
    "        r = min(unit.c(w, h))*0.4\n",
    "        if(pa.smat[i, j]!='') {\n",
    "            grid.circle(x, y, r, gp = gpar(fill = \"black\", col = \"black\"))\n",
    "        }\n",
    "\n",
    "    }\n",
    "    cell_fun_dv <- function(j, i, x, y, w, h, col) { # add text to each grid\n",
    "        r = min(unit.c(w, h))*0.6\n",
    "        if(dv.smat[i, j]!='') {\n",
    "            grid.circle(x, y, r, gp = gpar(fill = \"black\", col = \"black\"))\n",
    "        }\n",
    "\n",
    "    }\n",
    "\n",
    "\n",
    "    htmp.pa.lfc <- Heatmap(\n",
    "        \n",
    "        row_title=paste0('sorted by: ', order.name),\n",
    "        \n",
    "        matrix = pa.lfc, top_annotation = topa.pa, bottom_annotation = bottoma.pa, cell_fun = cell_fun_pa,\n",
    "        column_title='(Passaging)\\nASD/Ctrl\\nExpression bias', column_title_side = 'bottom',\n",
    "        name='ASD/Ctrl -', show_heatmap_legend = F, col = col, \n",
    "        column_labels=pa.mat.meta$Passaging,\n",
    "        rect_gp = gpar(col = \"black\", lwd = .3),\n",
    "        cluster_rows = F, cluster_columns = F, cluster_row_slices = F,    cluster_column_slices = F,\n",
    "        row_names_side = 'left', show_row_names = T,  show_column_names = T, column_names_side = 'top',\n",
    "        use_raster=T)\n",
    "\n",
    "    htmp.dv.lfc <- Heatmap(\n",
    "        matrix = dv.lfc, top_annotation = topa.dv, bottom_annotation = bottoma.dv, cell_fun = cell_fun_dv,\n",
    "        column_title='(Differentiation)\\nASD/Ctrl\\nExpression bias',column_title_side = 'bottom',\n",
    "        name='ASD/Ctrl\\nbias', col = col,\n",
    "        column_labels=dv.mat.meta$Differentiation,\n",
    "        rect_gp = gpar(col = \"black\", lwd = .3),\n",
    "        cluster_rows = F, cluster_columns = F, cluster_row_slices = F,    cluster_column_slices = F,\n",
    "        row_names_side = 'left', show_row_names = T,  show_column_names = T, column_names_side = 'top',\n",
    "        use_raster=T)\n",
    "\n",
    "    pa.exp.htmp <- Heatmap(pa.mat, top_annotation = topb.pa, bottom_annotation = bottomb.pa,\n",
    "                           column_split = pa.meta$Passaging,\n",
    "                           column_title='(Passaging)\\nGene expression\\nper donor',column_title_side = 'bottom',\n",
    "                           col=magma(300),#c('lightyellow', 'skyblue4'),\n",
    "                           show_heatmap_legend = F,\n",
    "                           rect_gp = gpar(col = \"black\", lwd = .3),\n",
    "                           cluster_rows=F, cluster_columns=F,cluster_row_slices=F, \n",
    "                           show_column_names=F, show_row_names = T, name='Expression - ')\n",
    "\n",
    "    dv.exp.htmp <- Heatmap(dv.mat, top_annotation = topb.dv, bottom_annotation = bottomb.dv, \n",
    "                           column_split = dv.meta$Differentiation,\n",
    "                           column_title='(Differentiation)\\nGene expression\\nper donor',column_title_side = 'bottom',\n",
    "                           col=magma(300), show_heatmap_legend = T,\n",
    "                           rect_gp = gpar(col = \"black\", lwd = .5),\n",
    "                           cluster_rows=F, cluster_columns=F, cluster_row_slices=F,\n",
    "                           show_column_names=F, show_row_names = F, name='Expr.')\n",
    "\n",
    "\n",
    "    conf.htmp <- Heatmap(confusion.matrix, name='Per donor\\nSC bias',\n",
    "                         column_labels = colnames(confusion.matrix)%>%\n",
    "                             gsub(pattern='_',replacement=' ')%>%gsub(pattern='D8 ',replacement=''),\n",
    "                         column_title='Per donor\\nexpression bias\\n(DIV 8 scRNA)',\n",
    "                         column_names_side = 'top',column_title_side = 'bottom',\n",
    "                         rect_gp = gpar(col = \"black\", lwd = .3),\n",
    "                         col=setNames(c('white', 'orangered2', '#0981D1', 'purple'),c('None', 'ASD', 'Ctrl', 'ASD Ctrl')))\n",
    "    \n",
    "    draw(htmp.pa.lfc + \n",
    "    pa.exp.htmp +\n",
    "    htmp.dv.lfc+\n",
    "    dv.exp.htmp +\n",
    "    conf.htmp)\n",
    "    \n",
    "}) -> htmp.ordereds"
   ]
  },
  {
   "cell_type": "code",
   "execution_count": 30,
   "id": "f8e6f756-b279-47aa-afc5-d45d335ad110",
   "metadata": {
    "tags": []
   },
   "outputs": [
    {
     "data": {
      "text/html": [
       "<strong>png:</strong> 2"
      ],
      "text/latex": [
       "\\textbf{png:} 2"
      ],
      "text/markdown": [
       "**png:** 2"
      ],
      "text/plain": [
       "png \n",
       "  2 "
      ]
     },
     "metadata": {},
     "output_type": "display_data"
    }
   ],
   "source": [
    "cairo_pdf(glue::glue('{today_dir}Overview.pdf'),width=17, height=6, onefile = T)\n",
    "for(htmp in htmp.ordereds){\n",
    "    grid.newpage()\n",
    "    draw(htmp)\n",
    "}\n",
    "\n",
    "dev.off()\n"
   ]
  },
  {
   "cell_type": "code",
   "execution_count": 31,
   "id": "8970b5fb-9b4c-47a3-aa1b-17c67a1cbc0b",
   "metadata": {
    "tags": []
   },
   "outputs": [
    {
     "data": {
      "text/html": [
       "<strong>png:</strong> 2"
      ],
      "text/latex": [
       "\\textbf{png:} 2"
      ],
      "text/markdown": [
       "**png:** 2"
      ],
      "text/plain": [
       "png \n",
       "  2 "
      ]
     },
     "metadata": {},
     "output_type": "display_data"
    }
   ],
   "source": [
    "cairo_pdf(glue::glue('{today_dir}Selected.pdf'),width=17, height=6, onefile = T)\n",
    "for(htmp in htmp.ordereds[1]){\n",
    "    grid.newpage()\n",
    "    draw(htmp)\n",
    "}\n",
    "\n",
    "dev.off()\n"
   ]
  },
  {
   "cell_type": "markdown",
   "id": "e763bfbc-83f9-41f9-85b4-2cf632b30c7b",
   "metadata": {},
   "source": [
    "### Scatter"
   ]
  },
  {
   "cell_type": "code",
   "execution_count": 32,
   "id": "54f8b5b5-a136-42e0-9634-3cb8e078cd9e",
   "metadata": {},
   "outputs": [],
   "source": [
    "library(ggplot2)\n",
    "library(ggh4x)\n",
    "library(ggpubr)"
   ]
  },
  {
   "cell_type": "code",
   "execution_count": 33,
   "id": "ff531a7d-e566-4d91-9605-4b4524de7bb0",
   "metadata": {},
   "outputs": [],
   "source": [
    "scatter.meta <- bulk.meta[sorted.samples,] %>% \n",
    "    mutate_at(vars(experiment, ExpStep, FGF, Line, Condition, test.name),\n",
    "        function(x){if(is.numeric(x)){as.character(x)}else{x}}) %>% \n",
    "    mutate(Step=ExpStep, Experiment=experiment,ExpStep=NULL,experiment=NULL ) %>% \n",
    "    mutate(Step=ifelse(Experiment=='PA', paste(as.character(Step), FGF), as.character(Step)), \n",
    "           Step=factor(Step, levels=unique(Step)),\n",
    "           # FGF=NULL, \n",
    "           Line=gsub(x=Line, pattern='434', replacement='494'),\n",
    "           Line=factor(lines[Line], lines)) %>% \n",
    "    mutate(\n",
    "        Experiment = factor(Experiment, levels=c('PA', 'DV'), labels=c('Passaging', 'Differentiation')),\n",
    "        Passage2 = gsub(Passage2, pattern='Passage', replacement='Passage ') %>% factor(., levels=unique(.)),\n",
    "        FGF2 = factor(ifelse(is.na(FGF), '', paste(FGF, 'FGF')), levels=c('20 FGF','0.1 FGF', '')))"
   ]
  },
  {
   "cell_type": "code",
   "execution_count": 34,
   "id": "c9695d81-98de-48cd-b399-de54a1caa0a6",
   "metadata": {},
   "outputs": [],
   "source": [
    "plot_one_gene <- function(G, exp.scatter, exp.units, with_lines=T){\n",
    "        \n",
    "    min.max <- range(subset(exp.scatter, Gene==G)$value)\n",
    "    min.max[1] <- min.max[1]-.1*(min.max[2]-min.max[1])\n",
    "    plot.bottom <- min.max[1]\n",
    "    # print(G)\n",
    "    # print(plot.bottom)\n",
    "\n",
    "    ggplot(subset(exp.scatter, Gene==G), \n",
    "           aes(y=value,\n",
    "           # x=Line, color=Condition, shape=Line)) + \n",
    "           # x=Line, fill=Line, shape=Line)) -> p \n",
    "           x=Condition, fill=Line, shape=Line)) -> p \n",
    "\n",
    "    if (with_lines){\n",
    "        p <- p + geom_linerange(aes(ymin=max(plot.bottom, ybottom), ymax=value, color=Condition),\n",
    "                               # color='#000000AA',\n",
    "                               linewidth=.5, linetype=2) + \n",
    "            scale_color_manual(values=meta.cols$Condition)\n",
    "    }\n",
    "\n",
    "    p <- p + geom_point(size=4,stroke=1) + \n",
    "\n",
    "        scale_fill_manual(values=paste0(meta.cols$Line, 'AA')) + \n",
    "        scale_shape_manual(values=c(23:25, 23:25)) + \n",
    "\n",
    "        facet_nested(nest_line = T, solo_line = F, \n",
    "                     rows=vars(glue::glue('Gene expression ({exp.units})')), \n",
    "                     cols=vars(Experiment, Passage2, FGF2),\n",
    "                     switch='y') -> p\n",
    "\n",
    "        p <- p + theme_bw() + labs_pubr() + theme(panel.grid.major.x = element_blank())\n",
    "        p <- p + theme(strip.placement = 'outside', strip.background = element_rect(fill='#00000022', color='transparent'))\n",
    "\n",
    "        p <- p + labs(y=NULL, x=paste0('Expression per line (', exp.units, ')')) + ggtitle(paste0(G, ': Passaging & Differentiation bulk experiments'))\n",
    "\n",
    "#         p <- p + scale_x_discrete(labels=function(x){sapply(strsplit(x, split=' ', fixed=T),\n",
    "#                                                             function(y){y[1]})%>%ifelse(test = c(F,T,F,F,T,F), no='')})\n",
    "\n",
    "        if (exp.units=='log10 counts'){\n",
    "            p <- p + scale_y_log10(limits = min.max, expand=expansion(mult=c(0,0.1)))\n",
    "        } else {\n",
    "            p <- p + scale_y_continuous(limits = min.max, expand=expansion(mult=c(0,0.1)))\n",
    "        }\n",
    "\n",
    "    return(p)\n",
    "}"
   ]
  },
  {
   "cell_type": "code",
   "execution_count": 35,
   "id": "f042d7f0-d4dc-4143-b679-c80745d29d9f",
   "metadata": {
    "scrolled": true,
    "tags": []
   },
   "outputs": [],
   "source": [
    "fig(17,5)\n",
    "    \n",
    "exp.genes <- rge.ind.marker.genes\n",
    "# expression, from DESeq2::vst"
   ]
  },
  {
   "cell_type": "code",
   "execution_count": 36,
   "id": "2feac032-1ef9-480b-8bd9-5f34ab2fda11",
   "metadata": {
    "scrolled": true,
    "tags": []
   },
   "outputs": [],
   "source": [
    "# for (exp.units in c('log_counts', 'tpm', 'scaled_tpm', 'vst')){\n",
    "for (exp.units in c('vst')){\n",
    "    \n",
    "    ybottom <- 0\n",
    "    if (exp.units == 'log_counts'){\n",
    "        exp.units <- 'log10 counts'\n",
    "        pa.exp.scatter <- bulk.seurats$PA[['RNA']]@counts[exp.genes,rownames(pa.meta)] + 1\n",
    "        dv.exp.scatter <- bulk.seurats$DV[['RNA']]@counts[exp.genes,rownames(dv.meta)] + 1\n",
    "        ybottom <- 1\n",
    "    }else if (exp.units == 'tpm'){\n",
    "        exp.units <- 'TPM'\n",
    "        pa.exp.scatter <- bulk.seurats$PA[['RNA']]@data[exp.genes,rownames(pa.meta)]\n",
    "        dv.exp.scatter <- bulk.seurats$DV[['RNA']]@data[exp.genes,rownames(dv.meta)]\n",
    "    }else if (exp.units == 'scaled_tpm'){\n",
    "        exp.units <- 'scaled TPM'\n",
    "        pa.exp.scatter <- bulk.seurats$PA[['RNA']]@scale.data[exp.genes,rownames(pa.meta)]\n",
    "        dv.exp.scatter <- bulk.seurats$DV[['RNA']]@scale.data[exp.genes,rownames(dv.meta)]\n",
    "    }else if (exp.units == 'vst'){\n",
    "        exp.units <- 'VST'\n",
    "\n",
    "        # expression, from DESeq2::vst\n",
    "        pa.exp.scatter <- assay(pa.rld)[sapply(exp.genes, function(x){grepl(pattern=x, x=rownames(pa.rld))})%>%rowSums()%>%as.logical,]\n",
    "        rownames(pa.exp.scatter) <- strsplit(rownames(pa.exp.scatter), split='|', fixed=T) %>% sapply(function(x){x[2]}) %>% make.unique()\n",
    "        pa.exp.scatter <- pa.exp.scatter[exp.genes, rownames(pa.meta)]\n",
    "\n",
    "        dv.exp.scatter <- assay(dv.rld)[sapply(exp.genes, function(x){grepl(pattern=x, x=rownames(dv.rld))})%>%rowSums()%>%as.logical,]\n",
    "        rownames(dv.exp.scatter) <- strsplit(rownames(dv.exp.scatter), split='|', fixed=T) %>% sapply(function(x){x[2]}) %>% make.unique()\n",
    "        dv.exp.scatter <- dv.exp.scatter[exp.genes, rownames(dv.meta)] \n",
    "    }\n",
    "\n",
    "    exp.scatter <- cbind(pa.exp.scatter, dv.exp.scatter) %>% as.matrix()\n",
    "    exp.scatter <- reshape2::melt(exp.scatter) %>%dplyr::rename(Gene=Var1, Sample=Var2)%>% \n",
    "        merge(y=scatter.meta, by.x='Sample', by.y='row.names') %>% as.data.frame()\n",
    "    # stop()\n",
    "    lapply(exp.genes, function(G){\n",
    "        plot_one_gene(G, exp.scatter, exp.units, with_lines=F)\n",
    "    }) -> ps\n",
    "\n",
    "    \n",
    "    cairo_pdf(glue::glue('{today_dir}Bulk_expression_per_line.{exp.units}.pdf'),\n",
    "              width=17, height=5, onefile = T)\n",
    "    for(p in ps){\n",
    "        plot(p)\n",
    "    }\n",
    "\n",
    "    dev.off()\n",
    "    \n",
    "    # break\n",
    "    }"
   ]
  },
  {
   "cell_type": "code",
   "execution_count": 37,
   "id": "ea296991-eed9-47b3-b16c-38319d9c6281",
   "metadata": {
    "scrolled": true,
    "tags": []
   },
   "outputs": [
    {
     "name": "stderr",
     "output_type": "stream",
     "text": [
      "Saving Passage2 20\n",
      "\n",
      "Saving Passage2 0.1\n",
      "\n",
      "Saving Passage4 20\n",
      "\n",
      "Saving Passage4 0.1\n",
      "\n",
      "Saving Passage8 20\n",
      "\n",
      "Saving Passage8 0.1\n",
      "\n",
      "Saving DIV 8\n",
      "\n",
      "Saving DIV 17\n",
      "\n",
      "Saving DIV 30\n",
      "\n",
      "Saving DIV 38\n",
      "\n"
     ]
    }
   ],
   "source": [
    "# expression, from DESeq2::vst\n",
    "\n",
    "# for (exp.units in c('log_counts', 'tpm', 'scaled_tpm', 'vst')){\n",
    "for (exp.units in c('vst')){\n",
    "    \n",
    "    ybottom <- 0\n",
    "    if (exp.units == 'log_counts'){\n",
    "        exp.units <- 'log10 counts'\n",
    "        pa.exp.scatter <- bulk.seurats$PA[['RNA']]@counts[exp.genes,rownames(pa.meta)] + 1\n",
    "        dv.exp.scatter <- bulk.seurats$DV[['RNA']]@counts[exp.genes,rownames(dv.meta)] + 1\n",
    "        ybottom <- 1\n",
    "    }else if (exp.units == 'tpm'){\n",
    "        exp.units <- 'TPM'\n",
    "        pa.exp.scatter <- bulk.seurats$PA[['RNA']]@data[exp.genes,rownames(pa.meta)]\n",
    "        dv.exp.scatter <- bulk.seurats$DV[['RNA']]@data[exp.genes,rownames(dv.meta)]\n",
    "    }else if (exp.units == 'scaled_tpm'){\n",
    "        exp.units <- 'scaled TPM'\n",
    "        pa.exp.scatter <- bulk.seurats$PA[['RNA']]@scale.data[exp.genes,rownames(pa.meta)]\n",
    "        dv.exp.scatter <- bulk.seurats$DV[['RNA']]@scale.data[exp.genes,rownames(dv.meta)]\n",
    "    }else if (exp.units == 'vst'){\n",
    "        exp.units <- 'VST'\n",
    "\n",
    "        # expression, from DESeq2::vst\n",
    "        pa.exp.scatter <- assay(pa.rld)[sapply(exp.genes, function(x){grepl(pattern=x, x=rownames(pa.rld))})%>%rowSums()%>%as.logical,]\n",
    "        rownames(pa.exp.scatter) <- strsplit(rownames(pa.exp.scatter), split='|', fixed=T) %>% sapply(function(x){x[2]}) %>% make.unique()\n",
    "        pa.exp.scatter <- pa.exp.scatter[exp.genes, rownames(pa.meta)]\n",
    "\n",
    "        dv.exp.scatter <- assay(dv.rld)[sapply(exp.genes, function(x){grepl(pattern=x, x=rownames(dv.rld))})%>%rowSums()%>%as.logical,]\n",
    "        rownames(dv.exp.scatter) <- strsplit(rownames(dv.exp.scatter), split='|', fixed=T) %>% sapply(function(x){x[2]}) %>% make.unique()\n",
    "        dv.exp.scatter <- dv.exp.scatter[exp.genes, rownames(dv.meta)] \n",
    "    }\n",
    "\n",
    "    \n",
    "    exp.scatter <- cbind(pa.exp.scatter, dv.exp.scatter) %>% as.matrix()\n",
    "    exp.scatter <- reshape2::melt(exp.scatter) %>%dplyr::rename(Gene=Var1, Sample=Var2)%>% \n",
    "        merge(y=scatter.meta, by.x='Sample', by.y='row.names') %>% as.data.frame()\n",
    "    \n",
    "    \n",
    "    split(exp.scatter, exp.scatter$Step) -> exp.steps.scatter\n",
    "    \n",
    "    lapply(names(exp.steps.scatter), function(step){\n",
    "        \n",
    "        lapply(exp.genes, function(G){\n",
    "            plot_one_gene(G, exp.scatter=exp.steps.scatter[[step]], exp.units, with_lines=F) + ggtitle(glue::glue('{G}\\n{step}'))\n",
    "        }) -> ps\n",
    "    }) %>%setNames(nm=names(exp.steps.scatter)) -> exp.step.plots\n",
    "\n",
    "\n",
    "    for (step in names(exp.step.plots)){\n",
    "        \n",
    "        message(glue::glue('Saving {step}'))\n",
    "        \n",
    "        cairo_pdf(glue::glue('{today_dir}Bulk_expression_per_line.{exp.units}.{step}.pdf'),\n",
    "                  width=4, height=5, onefile = T)\n",
    "        for(p in exp.step.plots[[step]]){ plot(p) }\n",
    "        dev.off()\n",
    "    }\n",
    "    break\n",
    "}"
   ]
  },
  {
   "cell_type": "code",
   "execution_count": null,
   "id": "1eb5a2d6-204d-4cd2-9893-173d11760759",
   "metadata": {},
   "outputs": [],
   "source": []
  },
  {
   "cell_type": "code",
   "execution_count": null,
   "id": "e6c76fb8-89db-4489-86d0-55eb4d2d0fc8",
   "metadata": {},
   "outputs": [],
   "source": []
  },
  {
   "cell_type": "code",
   "execution_count": null,
   "id": "4e083395-5645-4737-85d3-174a231632ca",
   "metadata": {},
   "outputs": [],
   "source": []
  },
  {
   "cell_type": "code",
   "execution_count": null,
   "id": "2aefb9f2-2646-425d-81c4-d3fa0ed6e605",
   "metadata": {},
   "outputs": [],
   "source": []
  },
  {
   "cell_type": "code",
   "execution_count": null,
   "id": "5244d74c-3956-4f51-8478-5b2ba91b6c86",
   "metadata": {},
   "outputs": [],
   "source": []
  },
  {
   "cell_type": "code",
   "execution_count": null,
   "id": "a80a2a5f-8ba3-4b06-ae60-c2fa0ad8f063",
   "metadata": {},
   "outputs": [],
   "source": []
  },
  {
   "cell_type": "code",
   "execution_count": null,
   "id": "e1f7bb6b-f4df-4fb0-9ddc-5609b090be74",
   "metadata": {},
   "outputs": [],
   "source": []
  },
  {
   "cell_type": "code",
   "execution_count": null,
   "id": "cdbf613a-71b7-4cef-9fb6-4fc8f26f717f",
   "metadata": {},
   "outputs": [],
   "source": []
  },
  {
   "cell_type": "code",
   "execution_count": null,
   "id": "80cfa9c0-1573-407e-9e8e-b07c63d2d531",
   "metadata": {},
   "outputs": [],
   "source": []
  },
  {
   "cell_type": "markdown",
   "id": "077b558f-45fc-49c1-8282-36ceeaea4add",
   "metadata": {},
   "source": [
    "### Clusters"
   ]
  },
  {
   "cell_type": "code",
   "execution_count": 151,
   "id": "70ac2723-7d53-44cd-909d-e6e954ece190",
   "metadata": {
    "tags": []
   },
   "outputs": [],
   "source": [
    "k <- 4\n",
    "\n",
    "library(amap)\n",
    "gene_clusters <- Kmeans(x = cbind(pa.mat, dv.mat)[,sorted_samples], centers=k, method=\"pearson\", iter.max=100)$cluster\n",
    "\n",
    "gene.clus <- gene_clusters\n",
    "sapply(split(names(gene.clus), gene.clus), function(gs){\n",
    "    mean(mat[gs,])\n",
    "}) %>% sort %>% names %>% rev -> cl.order\n",
    "cl.labels <- LETTERS[1:length(unique(cl.order))]\n",
    "\n",
    "gene.clus <- setNames(factor(as.character(gene.clus), levels=cl.order, labels=LETTERS[1:length(unique(gene.clus))]), names(gene.clus))\n",
    "grow <- 6\n",
    "gcol <- 4\n",
    "\n",
    "cl.annot <- sapply(split(names(gene.clus), gene.clus), function(gs){\n",
    "    gss <- rowSums(mat[gs,, drop=F])%>% sort%>% rev %>% head(gcol*grow)\n",
    "    gss <- c(gss, rep('', gcol*grow))[1:(gcol*grow)]\n",
    "    gss <- matrix(names(gss), ncol = gcol, byrow = T) %>% apply(MARGIN=1, function(x){paste0(x[x!=''], collapse=',')})#%>% paste0(`.`[.!=''], collapse='\\n')\n",
    "    gss <- paste(gss[gss!=''], collapse='\\n')\n",
    "    gss\n",
    "}) "
   ]
  },
  {
   "cell_type": "code",
   "execution_count": null,
   "id": "9db60bdf-1edb-4d92-9213-23851ef97ef3",
   "metadata": {},
   "outputs": [],
   "source": []
  },
  {
   "cell_type": "code",
   "execution_count": null,
   "id": "9b50ddfe-c06a-438e-8b6d-7f32baef31bc",
   "metadata": {},
   "outputs": [],
   "source": []
  },
  {
   "cell_type": "code",
   "execution_count": null,
   "id": "893baea6-d5a9-422a-8af9-b4b6db873191",
   "metadata": {},
   "outputs": [],
   "source": []
  },
  {
   "cell_type": "code",
   "execution_count": null,
   "id": "0df4ef21-0d8b-48c8-bc65-4b870e54f929",
   "metadata": {},
   "outputs": [],
   "source": []
  },
  {
   "cell_type": "code",
   "execution_count": null,
   "id": "6fff1a3c-99b7-4e52-bec5-37a1fa7df6e2",
   "metadata": {},
   "outputs": [],
   "source": []
  },
  {
   "cell_type": "code",
   "execution_count": 36,
   "id": "c9b2d7a6-2898-430b-8f60-0af3ff01d334",
   "metadata": {
    "tags": []
   },
   "outputs": [],
   "source": [
    "# exp.type <- 'raw'\n",
    "\n",
    "# if (exp.type=='tpm'){\n",
    "#     bulk.exp <- bulk.tpm\n",
    "# } else {\n",
    "#     bulk.exp <- bulk.raw\n",
    "#     bulk.exp[,-1] <- log2(bulk.exp[,-1]+1)\n",
    "# }\n",
    "\n",
    "# bulk.genemeta$cluster <- NA\n",
    "\n",
    "# bulk.genemeta$cluster <- ifelse(\n",
    "#     bulk.genemeta$GeneName%in%names(gene.clus),\n",
    "#     plyr::mapvalues(\n",
    "#         x=bulk.genemeta$GeneName, \n",
    "#         from=names(gene.clus),\n",
    "#         to=as.character(gene.clus)),\n",
    "#     bulk.genemeta$cluster) %>% factor(levels=cl.labels)\n",
    "\n",
    "# subset(bulk.genemeta, !is.na(cluster) )%>% \n",
    "#     select(GeneID, GeneName, cluster) %>%\n",
    "#     merge(y = reshape2::melt(bulk.exp, id.vars='GENE', variable.name='sample'), value.name='expression', by.x='GeneID',by.y='GENE', all.x=T, all.y=F) %>%\n",
    "#     merge(y = bulk.meta%>% mutate(sample=rownames(bulk.meta)), by='sample', all.x=T, all.y=F) -> exp.annot.long\n",
    "\n",
    "# library(ggplot2)\n",
    "# library(ggh4x)\n",
    "# library(ggpubr)\n",
    "\n",
    "# exp.annot.long <- exp.annot.long %>% mutate(\n",
    "#     Experiment=factor(as.character(experiment), levels=c('PA', 'DV')),\n",
    "#     `FGF2 Dose` = ifelse(is.na(FGF), '', as.character(FGF)),\n",
    "#     gene.line.group = paste(GeneID, Line))    \n",
    "\n",
    "# p <- ggplot(exp.annot.long, \n",
    "#                 aes(x = ExpStep,\n",
    "#                     y=value, \n",
    "#                     color = Condition,  \n",
    "#                     linetype=Condition, \n",
    "#                     fill = Condition)) + \n",
    "#     geom_line(aes(group =gene.line.group), alpha=0.1, linewidth=0.1) +\n",
    "#     # geom_boxplot() +\n",
    "#     geom_smooth(aes(group =Condition)) +\n",
    "#     scale_color_manual(values=c('ASD'='darkred', 'Ctrl'='darkblue')) +\n",
    "#     scale_fill_manual(values=c('ASD'='tomato', 'Ctrl'='cadetblue2')) +\n",
    "#     facet_nested(rows=vars(cluster), \n",
    "#                  cols=vars(Experiment, `FGF2 Dose`), \n",
    "#                  scales='free', independent='x', switch='y', nest_line=T) +\n",
    "#     # guides(linetype=guide_none()) +\n",
    "#     labs(y=NULL, x='Experimental step') +\n",
    "#     # theme_minimal() +\n",
    "#     theme_pubr() + \n",
    "#     theme_minimal() +\n",
    "#     theme(strip.text.y.left = element_text(angle=0, vjust=1, hjust=1),\n",
    "#         strip.placement = 'outside',\n",
    "#         axis.line.x.top = element_line(size=.3),\n",
    "#         axis.line.x.bottom = element_line(size=.3),\n",
    "#         axis.line.y.left = element_line(size=.3),\n",
    "#         axis.line.y.right = element_line(size=.3),\n",
    "#         plot.margin = unit(c(1,1,0,0), \"cm\"), legend.position='top') +\n",
    "#     ggtitle('Expression of DE TFs accross timepoints and FGF2 conditions\\nin bulk experiments',\n",
    "#             subtitle=glue::glue('Expression: TPM\\nGenes grouped in {k} expression patterns'))\n",
    "\n",
    "# topnames <- data.frame(annot=cl.annot, cl = names(cl.annot), Experiment=NA, FGF=NA) %>% ggplot() + \n",
    "#     geom_text( \n",
    "#               mapping=aes(x=0,y=0, label=annot),\n",
    "#               vjust=1, hjust=0,\n",
    "#               size=3)+ \n",
    "#     theme_pubr() + \n",
    "#     theme(axis.line = element_blank(), strip.text = element_blank(),\n",
    "#           axis.ticks = element_blank(), axis.text = element_blank()) + \n",
    "#     scale_x_continuous(limits=c(0,1))+\n",
    "#     scale_y_continuous(limits=c(-1,0)) + \n",
    "#     theme(plot.margin = unit(c(0,0,0,0), \"cm\"), \n",
    "#           axis.line.y.left = element_line(size=.4)) +\n",
    "#     facet_nested(rows=vars(cl), cols=vars(Experiment, FGF), nest_line = T, independent='x', scales='free') +\n",
    "#     labs(x=NULL, y=NULL)\n",
    "\n",
    "# suppressMessages(expr={suppressWarnings(expr = {\n",
    "#     combined.p <- cowplot::plot_grid(p, topnames, align='h', axis='tb', nrow=1, rel_widths = c(5,1.4))\n",
    "# })})\n",
    "# combined.p\n",
    "\n",
    "# fig(15,13)\n",
    "# combined.phtmp <- cowplot::plot_grid( grid.grabExpr(expr = {draw(htmp, merge_legend = TRUE)}), combined.p, rel_widths = c(3,7))\n",
    "# plot(combined.phtmp)\n",
    "\n",
    "# cairo_pdf(glue::glue('{today_dir}fig_5_e.k_{k}.data_{exp.type}.pdf'),width=10, height=12, onefile = T)\n",
    "# draw(htmp, merge_legend = TRUE)\n",
    "# plot(combined.p)\n",
    "# dev.off()\n",
    "\n",
    "# cairo_pdf(glue::glue('{today_dir}fig_5_e_combined.k_{k}.data_{exp.type}.pdf'),width=15, height=13, onefile = T)\n",
    "# plot(combined.phtmp)\n",
    "# dev.off()"
   ]
  },
  {
   "cell_type": "markdown",
   "id": "9a1c990b-0af9-4c81-804f-4e696218f0e7",
   "metadata": {
    "tags": []
   },
   "source": [
    "# Functions"
   ]
  },
  {
   "cell_type": "markdown",
   "id": "340b598f-da32-4302-a5d6-e1e1f578f35b",
   "metadata": {
    "tags": []
   },
   "source": [
    "## ComplexHeatmap of a seurat object"
   ]
  },
  {
   "cell_type": "code",
   "execution_count": null,
   "id": "69b57451-f8c0-4204-acba-c14c91bcbd64",
   "metadata": {},
   "outputs": [],
   "source": [
    "do.Heatmap <- function(\n",
    "    obj, genes,\n",
    "    # core=NULL,\n",
    "    gene.split.var = NULL,\n",
    "    annot.sample.vars = NULL,\n",
    "    annot.sample.colors = NULL,\n",
    "    \n",
    "    row.name.size = 12,\n",
    "    \n",
    "    group.sample.vars=NULL,\n",
    "    split.sample.vars=NULL,\n",
    "    \n",
    "    exp.slot='scale.data',\n",
    "    exp.col = NULL,\n",
    "    exp.name=NULL,\n",
    "    disp.min=NULL, disp.max=NULL,\n",
    "    \n",
    "    cluster_rows = T,\n",
    "    cluster_columns = F,\n",
    "\n",
    "    annot.gene.means = T,\n",
    "    gene.means.exp.slot = 'data',\n",
    "    \n",
    "    add.FC.heatmap = T,\n",
    "    FC.table = FC_table,\n",
    "    FC.column.var=NULL,\n",
    "    \n",
    "    use_raster = T,\n",
    "    \n",
    "    rm.zero.counts.genes = T,\n",
    "    \n",
    "    label.prefix=NULL, \n",
    "    \n",
    "    min.counts = 3,...\n",
    "    \n",
    "){\n",
    "    \n",
    "    # Function to label text\n",
    "    label.with.prefix <- function(lab, prefix=label.prefix, sep=' '){\n",
    "        if(is.null(prefix)){\n",
    "            return(lab)\n",
    "        }else{\n",
    "            paste(prefix, lab, sep=sep)\n",
    "        }\n",
    "    }\n",
    "\n",
    "    # Minimum display value (all values below are clipped)\n",
    "    if (is.null(disp.min)){\n",
    "        disp.min <- if(exp.slot=='scale.data'){-2.5}else{0}\n",
    "    }\n",
    "    if (is.null(disp.max)){\n",
    "        # Maximum display value (all values above are clipped); defaults to 2.5 if slot is 'scale.data', 6 otherwise\n",
    "        disp.max <- if(exp.slot=='scale.data'){2.5}else{6}\n",
    "    }\n",
    "    if (is.null(exp.col)){\n",
    "        if (exp.slot=='scale.data'){\n",
    "            # exp.col <- colorRamp2(c(disp.min, 0, disp.max), c(\"blue\", \"lightyellow\", \"tomato\"))\n",
    "            exp.col <- colorRamp2(c(disp.min, 0, disp.max), c('#0D0887','#CC4678','#F0F921'))\n",
    "        } else {\n",
    "            exp.col <- colorRamp2(c(disp.min, disp.max), c(\"lightyellow\", \"tomato\"))\n",
    "        }\n",
    "    }\n",
    "    \n",
    "    if (rm.zero.counts.genes){\n",
    "        zero.counts <- FetchData(obj, vars = genes, slot = 'counts') %>% colSums()\n",
    "        present <- names(zero.counts)\n",
    "        zero.counts <- names(zero.counts)[zero.counts<min.counts]\n",
    "        message(paste0('Found ', length(zero.counts), ' zero-expression genes (provided: ', length(genes), '; in exp: ', length(present),')'))\n",
    "        \n",
    "        valid.genes <- genes[(genes%in%present)&!(genes%in%zero.counts)]\n",
    "    } else {\n",
    "        valid.genes <- genes\n",
    "    }\n",
    "    \n",
    "    if (length(group.sample.vars) > 0){\n",
    "        # Find groups\n",
    "        groups <- unique(obj@meta.data[unique(c(group.sample.vars, annot.sample.vars))])\n",
    "        groups <- groups %>% mutate(label=apply(groups[group.sample.vars], 1, paste, collapse='_'))\n",
    "        rownames(groups) <- groups$label\n",
    "\n",
    "        if (length(valid.genes)==1){\n",
    "            print('Extra gene-trick for grouped expression')\n",
    "            extra.gene <- rownames(obj)[!rownames(obj)%in%valid.genes][1]\n",
    "            avg.obj <- AverageExpression(obj, features = c(valid.genes, extra.gene), group.by = group.sample.vars, return.seurat = T, min.cells=0, min.features=0)\n",
    "            avg.obj <- avg.obj[rownames(avg.obj)%in% valid.genes,]\n",
    "        } else {\n",
    "            avg.obj <- AverageExpression(obj, features = valid.genes, group.by = group.sample.vars, return.seurat = T, min.cells=0, min.features=0)\n",
    "        }\n",
    "\n",
    "        avg.obj@meta.data <- cbind(avg.obj@meta.data, groups[rownames(avg.obj@meta.data),])\n",
    "        exp.obj <- avg.obj \n",
    "\n",
    "    } else {\n",
    "        exp.obj <- obj\n",
    "    }\n",
    "\n",
    "    if (length(annot.sample.vars) > 0){\n",
    "        annot.sample.data <- FetchData(exp.obj, vars = annot.sample.vars)\n",
    "        annot.sample.row <- HeatmapAnnotation(df = annot.sample.data,\n",
    "                                              annotation_name_side = 'left',\n",
    "                                              col = annot.sample.colors)\n",
    "    } else {\n",
    "        annot.sample.row <- NULL\n",
    "    }\n",
    "\n",
    "    if (length(split.sample.vars) > 0){\n",
    "        split.sample.data <- FetchData(exp.obj, vars = split.sample.vars)\n",
    "        group.split <- factor(apply(split.sample.data, 1, c))\n",
    "    } else {\n",
    "        group.split <- NULL\n",
    "    }\n",
    "    \n",
    "    \n",
    "    # print('exp.data')\n",
    "    exp.data <- FetchData(exp.obj, vars = valid.genes, slot = exp.slot)\n",
    "    exp.data[exp.data<disp.min] <- disp.min\n",
    "    exp.data[exp.data>disp.max] <- disp.max\n",
    "\n",
    "    \n",
    "    valid.genes <- valid.genes[valid.genes%in%colnames(exp.data)]\n",
    "    \n",
    "    if (length(valid.genes) == 0 ){\n",
    "        \n",
    "        message('No valid genes provided')\n",
    "        print(head(exp.data))\n",
    "    }\n",
    "    \n",
    "    if (length(valid.genes) == 1 ){\n",
    "        \n",
    "        message('One-gene plot')\n",
    "\n",
    "    }\n",
    "    \n",
    "#     if((5*length(valid.genes)) > 150){\n",
    "#         row.height <- 150/length(valid.genes)\n",
    "#     } else {\n",
    "#     }\n",
    "#     row.height <- 0.2\n",
    "    font.size <- grid::gpar(fontsize = unit(row.name.size, 'mm'))\n",
    "    # } else {\n",
    "    #     font.size <- NULL\n",
    "    # }\n",
    "\n",
    "\n",
    "    exp.data <- t(exp.data)\n",
    "\n",
    "\n",
    "    # To do: receive from seurat\n",
    "    if (!is.null(gene.split.var)){\n",
    "        \n",
    "        if (length(gene.split.var)==1){\n",
    "            gene.split <- as.factor(seu[['RNA']]@meta.features[valid.genes,gene.split.var])\n",
    "        } else {\n",
    "            gene.split <- gene.split.var\n",
    "        }\n",
    "    } else {\n",
    "        gene.split <- NULL\n",
    "    }\n",
    "\n",
    "    if (is.null(exp.name)){\n",
    "        exp.name <- c('scale.data'='ScaledExp', 'data'='LogNormExp', 'counts'='RawExp')[exp.slot]\n",
    "        exp.name <- label.with.prefix(exp.name)\n",
    "    } \n",
    "    \n",
    "    \n",
    "    htmp <- Heatmap(exp.name,\n",
    "\n",
    "                    show_parent_dend_line = F,\n",
    "\n",
    "                    matrix = exp.data,\n",
    "                    col = exp.col,\n",
    "                    # height = unit(5, \"mm\")*length(valid.genes),\n",
    "                    width = 41,\n",
    "\n",
    "                    cluster_rows = cluster_rows, \n",
    "                    cluster_columns = cluster_columns, \n",
    "                    cluster_row_slices = F,\n",
    "                    cluster_column_slices = F,\n",
    "                    row_names_side = 'left',\n",
    "                    show_row_names = T, \n",
    "                    row_names_gp = font.size,\n",
    "                    row_split = gene.split,\n",
    "                    column_split = group.split,\n",
    "                    show_column_names = F, \n",
    "\n",
    "                    top_annotation = annot.sample.row,\n",
    "                    \n",
    "                    \n",
    "                    use_raster=T\n",
    "\n",
    "                    # right_annotation = mean_column\n",
    "                    )\n",
    "    full.heatmap <- htmp\n",
    "\n",
    "    if (annot.gene.means){\n",
    "        \n",
    "        mean.exp.name <- label.with.prefix('MeanExp')\n",
    "        annot.gene.data <- data.frame(FetchData(exp.obj, vars = valid.genes, slot = gene.means.exp.slot) %>% colMeans())\n",
    "        colnames(annot.gene.data) <- mean.exp.name\n",
    "        annot.gene.mean.column <- Heatmap(name = mean.exp.name,\n",
    "                                          show_row_names = T,\n",
    "                                          matrix = annot.gene.data, \n",
    "                                          width=1,\n",
    "                                          col=if (length(valid.genes) == 1) {NULL} else {RColorBrewer::brewer.pal(n=9,  name = 'Blues')})\n",
    "\n",
    "        full.heatmap <- full.heatmap + annot.gene.mean.column\n",
    "    } \n",
    "\n",
    "\n",
    "    if (add.FC.heatmap){\n",
    "        FC.data <- FC.table[valid.genes,]\n",
    "        FC.data[is.na(FC.data)] <- 0\n",
    "        rownames(FC.data) <- valid.genes\n",
    "        \n",
    "        if (!is.null(FC.column.var)){\n",
    "            annot.cluster.fc <- data.frame(colnames(FC.data))\n",
    "            colnames(annot.cluster.fc)[1] <- FC.column.var\n",
    "            annot.cluster.fc <- HeatmapAnnotation(df = annot.cluster.fc,\n",
    "                                                  show_legend = F,\n",
    "                                                  show_annotation_name = F,\n",
    "                                                  col = annot.sample.colors)\n",
    "        } else {\n",
    "            annot.cluster.fc <- NULL\n",
    "        }\n",
    "\n",
    "\n",
    "        FC.rng <- max(abs(FC.data))\n",
    "        FC.rng <- c(-FC.rng,0,FC.rng)\n",
    "        # FC.color <- colorRamp2(FC.rng, c(\"brown\", \"white\", \"forestgreen\"))\n",
    "        FC.color <- colorRamp2(FC.rng, c(\"darkblue\", \"white\", \"darkred\"))\n",
    "        \n",
    "        fc.htmp <- Heatmap(name = 'ASD/Ctrl\\nExpFC', \n",
    "                           matrix = FC.data,\n",
    "                           col = FC.color,\n",
    "                           # row_names_gp = font.size,\n",
    "                           row_names_gp = font.size,\n",
    "                           cluster_columns = F, \n",
    "                           width=7,\n",
    "                           top_annotation = annot.cluster.fc)\n",
    "\n",
    "        full.heatmap <- full.heatmap + fc.htmp\n",
    "\n",
    "    }\n",
    "\n",
    "    return(full.heatmap)\n",
    "    \n",
    "}"
   ]
  },
  {
   "cell_type": "markdown",
   "id": "9d2f1991-7a99-4ee2-a7e9-4b473ad3086a",
   "metadata": {
    "tags": []
   },
   "source": [
    "# Parameters"
   ]
  },
  {
   "cell_type": "code",
   "execution_count": null,
   "id": "62934d7c-1aad-42d2-925c-3374d6d3430a",
   "metadata": {},
   "outputs": [],
   "source": [
    "# To show grouped cells, not every cell\n",
    "group.sample.vars <- c('anno_cluster_fct', 'cell_origin')\n",
    "# To color on top of heatmap\n",
    "annot.sample.vars <- c('anno_cluster_fct', 'cell_origin', 'origin_sex')\n",
    "# To choose colors to show\n",
    "annot.sample.colors <- list('cell_origin'=samples.colors, \n",
    "                            'anno_cluster_fct'=cell.type.colors,\n",
    "                            'origin_sex'=origin_sex.colors)\n"
   ]
  },
  {
   "cell_type": "markdown",
   "id": "aa416286-3e99-4656-b359-509a3c0752a9",
   "metadata": {},
   "source": [
    "# Figures"
   ]
  },
  {
   "cell_type": "code",
   "execution_count": null,
   "id": "9e1b265f-483d-4ca0-b899-35943373bf3a",
   "metadata": {
    "scrolled": true,
    "tags": []
   },
   "outputs": [],
   "source": [
    "fres <- subset(sc.dea.df, filter.2of3.over.2of3  & (p_val_adj < 0.05) & gene.is.tf)\n",
    "\n",
    "fres <- fres %>% group_by(gene) %>% reframe(g=paste(sort(unique(overexpressed.in.)), collapse=','))\n",
    "fres"
   ]
  },
  {
   "cell_type": "code",
   "execution_count": null,
   "id": "e53e9d89-abd1-4e33-9aa5-2b1a3182aa01",
   "metadata": {
    "scrolled": true,
    "tags": []
   },
   "outputs": [],
   "source": [
    "genes1 <- fres$gene\n",
    "genes1.cat <- factor(fres$g, c('Ctrl', 'ASD', 'ASD,Ctrl'))"
   ]
  },
  {
   "cell_type": "markdown",
   "id": "40078f6b-1761-4af8-a430-b09f93c26cfc",
   "metadata": {},
   "source": [
    "## Panel E  \n",
    "- logFC of ASD-Ctrl in bulk experiments\n",
    "- clustered together\n",
    "- with stars for significant logFCs"
   ]
  },
  {
   "cell_type": "code",
   "execution_count": null,
   "id": "72d59474-d92b-4c3a-aafb-e2a46edb35b2",
   "metadata": {},
   "outputs": [],
   "source": [
    "exp.join <- cbind(\n",
    "    bulk.seurats$PA[['RNA']]@scale.data,\n",
    "    bulk.seurats$DV[['RNA']]@scale.data)\n",
    "meta.join <- rbind(\n",
    "    bulk.seurats$PA@meta.data,\n",
    "    bulk.seurats$DV@meta.data)\n",
    "\n",
    "smat <- bulk.sig.table[genes1,]\n",
    "smat <- smat[apply(smat != '',1, any),]\n",
    "pmat <- bulk.fc.table[rownames(smat),]\n",
    "\n",
    "# pmat\n",
    "# smat\n",
    "\n",
    "cell_fun <- function(j, i, x, y, w, h, col) { # add text to each grid\n",
    "    grid.text(smat[i, j], x, y)\n",
    "}\n",
    "\n",
    "range(pmat)\n",
    "\n",
    "fig(7,15)\n",
    "Heatmap(\n",
    "    cell_fun = cell_fun,\n",
    "    col = circlize::colorRamp2(colors=c('blue', 'white', 'red'), breaks = c(-7,0,17)),\n",
    "    pmat, cluster_columns = F, column_split = c(rep('DIV',4), rep('PA',6)),\n",
    "    # row_split = genes1.cat[genes1%in%rownames(pmat)]\n",
    ")"
   ]
  },
  {
   "cell_type": "markdown",
   "id": "87dc1054-2218-4183-b393-4361f820f72d",
   "metadata": {
    "tags": []
   },
   "source": [
    "### All genes"
   ]
  },
  {
   "cell_type": "markdown",
   "id": "77881478-827b-4d2a-a031-074de6f24cd2",
   "metadata": {
    "tags": []
   },
   "source": [
    "#### Test"
   ]
  },
  {
   "cell_type": "code",
   "execution_count": null,
   "id": "4eaf378e-88b8-499a-ba19-e816595ad676",
   "metadata": {},
   "outputs": [],
   "source": [
    "htmp <- do.Heatmap( \n",
    "    obj=seu,\n",
    "    genes=genes1,\n",
    "\n",
    "    annot.sample.vars = annot.sample.vars,\n",
    "    annot.sample.colors = annot.sample.colors,\n",
    "\n",
    "    group.sample.vars = group.sample.vars,\n",
    "    split.sample.vars = c('anno_cluster_fct'),\n",
    "\n",
    "    exp.slot='scale.data',\n",
    "    # exp.col = viridis(300, option='cividis', direction=1),\n",
    "\n",
    "    cluster_rows = T,\n",
    "    cluster_columns = F,\n",
    "\n",
    "    annot.gene.means = T,\n",
    "\n",
    "    add.FC.heatmap = T,\n",
    "    FC.table = sc.fc.table,\n",
    "    FC.column.var='anno_cluster_fct'\n",
    ")\n",
    "\n",
    "fig(15,10)\n",
    "htmp"
   ]
  },
  {
   "cell_type": "code",
   "execution_count": null,
   "id": "05da94b1-6cd0-4e67-8a56-9c14d91d573d",
   "metadata": {},
   "outputs": [],
   "source": [
    "dev.off()"
   ]
  },
  {
   "cell_type": "code",
   "execution_count": null,
   "id": "b9e43188-86cf-4db7-874c-4194684deaa1",
   "metadata": {},
   "outputs": [],
   "source": [
    "pdf('./Heatmap.av_genes.SC_FC.pdf', width=12, height=6)\n",
    "plot(htmp)\n",
    "dev.off()"
   ]
  },
  {
   "cell_type": "raw",
   "id": "cc9f0f11-860c-48ef-9028-2e864f169f56",
   "metadata": {
    "tags": []
   },
   "source": [
    "for (reg.file in reg.filelist){\n",
    "    if (!grepl(x = reg.file, pattern = 'FOXG1')){next()}\n",
    "    \n",
    "    reg <- read.csv(reg.file, row.names=1)\n",
    "    reg.core <- strsplit(x=basename(reg.file), split='.', fixed=1)[[1]][1]\n",
    "    print(reg.core)\n",
    "    \n",
    "    \n",
    "    reg.genes <- unique(c(unlist(reg[,1:2]), recursive=T)) %>% sort()\n",
    "    reg.sources <- unique(reg$source)\n",
    "    reg.targets <- unique(reg$target)\n",
    "\n",
    "    genes <-  unique(c(reg.core, reg.genes)) \n",
    "    \n",
    "    \n",
    "    seu[['RNA']]@meta.features$reg.role <- plyr::mapvalues(\n",
    "        paste(rownames(seu[['RNA']]@meta.features)%in%reg.sources,\n",
    "              rownames(seu[['RNA']]@meta.features)%in%reg.targets),\n",
    "        from=c('TRUE TRUE', 'TRUE FALSE', 'FALSE TRUE', 'FALSE FALSE'),\n",
    "        to=c('Upst&Downs', 'Upstream', 'Downstream', NA), warn_missing = F) %>%\n",
    "        factor(levels=c('Upst&Downs', 'Upstream', 'Downstream', NA))\n",
    "    \n",
    "    seu[['RNA']]@meta.features$reg.core <- plyr::mapvalues(\n",
    "        as.character(rownames(seu[['RNA']]@meta.features)==reg.core),\n",
    "        from=c('TRUE','FALSE'),\n",
    "        to=c('Core', ''), warn_missing = F) %>%\n",
    "        factor(levels=c('Core', ''))\n",
    "    \n",
    "    htmp <- do.Heatmap( \n",
    "        obj=seu,\n",
    "        genes=genes, gene.split='reg.core',\n",
    "\n",
    "        annot.sample.vars = annot.sample.vars,\n",
    "        annot.sample.colors = annot.sample.colors,\n",
    "\n",
    "        group.sample.vars = group.sample.vars,\n",
    "        split.sample.vars = c('anno_cluster'),\n",
    "\n",
    "        exp.slot='scale.data',\n",
    "        # exp.col = viridis(300, option='cividis', direction=1),\n",
    "\n",
    "        cluster_rows = T,\n",
    "        cluster_columns = F,\n",
    "\n",
    "        annot.gene.means = T,\n",
    "\n",
    "        add.FC.heatmap = T,\n",
    "        FC.table = FC_table,\n",
    "        FC.column.var='anno_cluster'\n",
    "    )\n",
    "    break\n",
    "}"
   ]
  },
  {
   "cell_type": "raw",
   "id": "379cafc7-4737-4845-bc00-e1ce56f3a6a1",
   "metadata": {
    "jupyter": {
     "outputs_hidden": true
    },
    "tags": []
   },
   "source": [
    "fig(20,20)\n",
    "htmp"
   ]
  },
  {
   "cell_type": "markdown",
   "id": "e45684a3-cf23-46bc-85c8-1eceedc7280a",
   "metadata": {
    "tags": []
   },
   "source": [
    "#### All regulons"
   ]
  },
  {
   "cell_type": "raw",
   "id": "014d3703-76ba-470f-a44a-5b7e2ea8c352",
   "metadata": {
    "tags": []
   },
   "source": [
    "# y <- c()\n",
    "# x <- c()\n",
    "for (exp.slot in c('scale.data', 'data')){\n",
    "    print(paste(rep('#', 100), collapse='exp.slot'))\n",
    "    \n",
    "    for (do.groups in c(T,F)){\n",
    "        print(paste(rep('#', 100), collapse='do.groups'))\n",
    "        \n",
    "        for (do.cluster in c(T,F)){\n",
    "            print(paste(rep('#', 100), collapse='do.cluster'))\n",
    "            \n",
    "            if (!do.groups & do.cluster){next()}\n",
    "            for (reg.file in reg.filelist){\n",
    "                # if (!grepl(x = reg.file, pattern = 'YBX3')){next()}\n",
    "                # if (length(x)>20){break}\n",
    "                \n",
    "                reg <- read.csv(reg.file, row.names=1)\n",
    "                reg.genes <- unique(c(unlist(reg[,1:2]), recursive=T)) %>% sort()\n",
    "\n",
    "                reg.core <- strsplit(x=basename(reg.file), split='.', fixed=1)[[1]][1]\n",
    "\n",
    "                genes <-  unique(c(reg.core, reg.genes)) \n",
    "                n.valid.genes <- sum(genes%in%rownames(seu))\n",
    "                print(paste(reg.core, n.valid.genes, reg.file))\n",
    "                \n",
    "                # if (n.valid.genes>57){next()}\n",
    "                # if (n.valid.genes>3){next()}\n",
    "                if (n.valid.genes==0){next()}\n",
    "                # x <- c(x, n.valid.genes)\n",
    "                \n",
    "                htmp <- do.Heatmap(\n",
    "                    obj=seu,\n",
    "                    genes=genes, core=reg.core,\n",
    "\n",
    "                    annot.sample.vars = annot.sample.vars,\n",
    "                    annot.sample.colors = annot.sample.colors,\n",
    "\n",
    "                    group.sample.vars = if(do.groups){group.sample.vars} else NULL,\n",
    "                    split.sample.vars = c('anno_cluster'),\n",
    "\n",
    "                    exp.slot=exp.slot,\n",
    "                    # exp.col = viridis(300, option='cividis', direction=1),\n",
    "\n",
    "                    cluster_rows = T,\n",
    "                    cluster_columns = do.cluster,\n",
    "\n",
    "                    annot.gene.means = T,\n",
    "\n",
    "                    add.FC.heatmap = T,\n",
    "                    FC.table = FC_table\n",
    "                )\n",
    "                \n",
    "                \n",
    "                # dev.capture()\n",
    "                pdf(\n",
    "                    # paste0(\"test_heatmap_nr_\", n.valid.genes, '.', reg.core, \".pdf\"), \n",
    "                    stringr::str_replace(\n",
    "                        reg.file,\n",
    "                        pattern = '.csv$',\n",
    "                        paste0('.data_', exp.slot, '.cluster_', do.cluster, '.grouped_', do.groups, '.Heatmap.pdf')),\n",
    "                    width = 12,\n",
    "                    height = 10)\n",
    "\n",
    "                ht <- draw(htmp)#, height = unit(9.8, 'in'))\n",
    "                # ht_height = sum(component_height(ht)) + unit(0.2, \"in\")\n",
    "                # print(ht_height)\n",
    "                # ht_height = convertHeight(ht_height, \"in\", valueOnly = TRUE)\n",
    "                # y = c(y, ht_height)\n",
    "                # print(component_width(ht))\n",
    "                dev.off()\n",
    "            }\n",
    "        }\n",
    "    }\n",
    "}"
   ]
  },
  {
   "cell_type": "markdown",
   "id": "950c10b0-d5c6-497e-8096-d9414dc6172a",
   "metadata": {},
   "source": [
    "# Add bulk to heatmap"
   ]
  },
  {
   "cell_type": "code",
   "execution_count": null,
   "id": "13fc7c3f-fbd8-4889-be91-24dd70828938",
   "metadata": {},
   "outputs": [],
   "source": [
    "first(annot.sample.colors$cell_origin)"
   ]
  },
  {
   "cell_type": "code",
   "execution_count": null,
   "id": "2247c500-247f-4f72-a04a-10662852ca34",
   "metadata": {},
   "outputs": [],
   "source": [
    "unique(bulk.seurats$DV$ExpStep)"
   ]
  },
  {
   "cell_type": "code",
   "execution_count": null,
   "id": "0d9cc2e8-6f87-49a2-85fc-833dc081f4b4",
   "metadata": {},
   "outputs": [],
   "source": [
    "bulk.sample.colors <- list(\n",
    "    'ExpStep' = c(\n",
    "        setNames(\n",
    "            RColorBrewer::brewer.pal(n = 4, name = 'PuBuGn')[-1],\n",
    "            unique(bulk.seurats$PA$ExpStep)),\n",
    "        setNames(\n",
    "            RColorBrewer::brewer.pal(n = 4, name = 'PuOr'),\n",
    "            unique(bulk.seurats$DV$ExpStep))),\n",
    "    'FGF' = setNames(\n",
    "        c('forestgreen', 'lightgreen'),\n",
    "        unique(bulk.seurats$PA$FGF)),\n",
    "    'Condition' = c('ASD'=first(annot.sample.colors$cell_origin),\n",
    "                  'Ctrl'=unname(annot.sample.colors$cell_origin[4]))\n",
    ")"
   ]
  },
  {
   "cell_type": "code",
   "execution_count": null,
   "id": "f4fc90b5-020a-4490-abfa-63bc1ba2c932",
   "metadata": {},
   "outputs": [],
   "source": [
    "unique(bulk.seurats$PA$FGF)"
   ]
  },
  {
   "cell_type": "markdown",
   "id": "28e24be7-aca4-488a-b0c7-64f46409636f",
   "metadata": {},
   "source": [
    "### Plot a list of genes"
   ]
  },
  {
   "cell_type": "code",
   "execution_count": null,
   "id": "2a29b10b-473c-4a29-b1f1-c97f85d9524e",
   "metadata": {},
   "outputs": [],
   "source": [
    "# rownames(htmp@ht_list$ScaledExp@matrix) ->  prev.htmp.genes\n",
    "# TFDE_genes -> prev.htmp.genes\n",
    "genes1 -> prev.htmp.genes"
   ]
  },
  {
   "cell_type": "code",
   "execution_count": null,
   "id": "517f1f46-59dd-4eaa-adf4-793f9ec7c29c",
   "metadata": {},
   "outputs": [],
   "source": []
  },
  {
   "cell_type": "code",
   "execution_count": null,
   "id": "dfaa3caa-9846-4308-bf64-b924035a54b9",
   "metadata": {},
   "outputs": [],
   "source": [
    "pa.htmp <- do.Heatmap(rm.zero.counts.genes = F,\n",
    "                      exp.name = 'Passaging',\n",
    "                      obj=bulk.seurats$PA,\n",
    "                      genes=prev.htmp.genes,\n",
    "                      row.name.size=7,\n",
    "                      gene.split.var = genes1.cat,\n",
    "                      annot.sample.vars = c('ExpStep', 'FGF', 'Condition'),\n",
    "                      annot.sample.colors = bulk.sample.colors,\n",
    "                \n",
    "                      # group.sample.vars = c('ExpStep', 'FGF', 'Condition'),\n",
    "                      split.sample.vars = c('test.name'),\n",
    "\n",
    "                      exp.slot='scale.data', disp.min=0, disp.max=1,\n",
    "                      # exp.col = viridis(300, option='cividis', direction=1),\n",
    "                      exp.col = colorRamp2(breaks = c(0,1), colors = c('lightyellow', 'tomato')),\n",
    "                      # cluster_rows = T,\n",
    "                      cluster_columns = F,\n",
    "\n",
    "                      annot.gene.means = T,\n",
    "                      label.prefix='BulkPA',\n",
    "\n",
    "                      add.FC.heatmap = F,\n",
    "                      # FC.table = FC_table\n",
    ")\n",
    "\n",
    "pa.fc.cols <- bulk.seurats$PA@meta.data$test.name %>% unique()\n",
    "\n",
    "pa.fc.htmp <- Heatmap(name = 'PA log2FC', row_names_gp = grid::gpar(fontsize = unit(7, 'mm')),\n",
    "\n",
    "                      matrix = bulk.fc.table[prev.htmp.genes,pa.fc.cols], cluster_columns = F)"
   ]
  },
  {
   "cell_type": "code",
   "execution_count": null,
   "id": "07b629bc-2518-46a6-99ed-3e7a7e7526fc",
   "metadata": {},
   "outputs": [],
   "source": [
    "pa.full.htmp <- pa.htmp + pa.fc.htmp"
   ]
  },
  {
   "cell_type": "code",
   "execution_count": null,
   "id": "ee8a155c-2670-4fb3-b34f-7e24d2800c72",
   "metadata": {
    "scrolled": true,
    "tags": []
   },
   "outputs": [],
   "source": [
    "fig(10,15)\n",
    "pa.full.htmp"
   ]
  },
  {
   "cell_type": "code",
   "execution_count": null,
   "id": "62d23bec-a675-49a4-ad18-ea3dde200380",
   "metadata": {},
   "outputs": [],
   "source": [
    "dv.htmp <- do.Heatmap(rm.zero.counts.genes = F,\n",
    "                        exp.name = 'Differentiation',\n",
    "                        obj=bulk.seurats$DV,\n",
    "                        genes=prev.htmp.genes,\n",
    "                      row.name.size=7,\n",
    "\n",
    "                        annot.sample.vars = c('ExpStep', 'Condition'),\n",
    "                        annot.sample.colors = bulk.sample.colors,\n",
    "\n",
    "                        # group.sample.vars = c('Passage2', 'X20ng.ml.FGF2', 'Disease'),\n",
    "                        split.sample.vars = c('ExpStep'),\n",
    "\n",
    "                        exp.slot='scale.data', disp.min=0, disp.max=1,\n",
    "                        # exp.col = viridis(300, option='cividis', direction=1),\n",
    "                        exp.col = colorRamp2(breaks = c(0,1), colors = c('lightyellow', 'tomato')),\n",
    "                        # cluster_rows = T,\n",
    "                        cluster_columns = F,\n",
    "\n",
    "                        annot.gene.means = T,\n",
    "                        label.prefix='BulkDV',\n",
    "\n",
    "                        add.FC.heatmap = F,\n",
    "                        # FC.table = FC_table\n",
    ")\n",
    "\n",
    "dv.fc.cols <- bulk.seurats$DV@meta.data$test.name %>% unique()\n",
    "\n",
    "dv.fc.htmp <- Heatmap(name = 'DV log2FC', row_split=\n",
    "                      row_names_gp = grid::gpar(fontsize = unit(7, 'mm')),\n",
    "                      matrix = bulk.fc.table[prev.htmp.genes,dv.fc.cols], cluster_columns = F)\n",
    "\n",
    "dv.full.htmp <- dv.htmp + dv.fc.htmp"
   ]
  },
  {
   "cell_type": "code",
   "execution_count": null,
   "id": "db5709f5-dfa7-46c9-9758-cf84e175ccff",
   "metadata": {},
   "outputs": [],
   "source": [
    "fig(6,8)\n",
    "pa.fc.htmp + dv.fc.htmp"
   ]
  },
  {
   "cell_type": "code",
   "execution_count": null,
   "id": "b83db427-3c57-4fc7-9f6d-3aa3afc44dd7",
   "metadata": {},
   "outputs": [],
   "source": [
    "pdf('./Heatmap.detf_genes.PAFC_DVFC.pdf', width=4, height=7)\n",
    "pa.fc.htmp + dv.fc.htmp\n",
    "\n",
    "dev.off()"
   ]
  },
  {
   "cell_type": "code",
   "execution_count": null,
   "id": "29ead8f6-20ca-486d-aaa6-612d67ab27b9",
   "metadata": {},
   "outputs": [],
   "source": [
    "fig(20,10)"
   ]
  },
  {
   "cell_type": "code",
   "execution_count": null,
   "id": "7c9da0a8-68fc-4359-b089-572404b5e035",
   "metadata": {},
   "outputs": [],
   "source": [
    "pa.full.htmp + dv.full.htmp"
   ]
  },
  {
   "cell_type": "code",
   "execution_count": null,
   "id": "e0b47304-f812-4335-8a43-b28cad9878e1",
   "metadata": {},
   "outputs": [],
   "source": [
    "htmp + pa.full.htmp + dv.full.htmp"
   ]
  },
  {
   "cell_type": "code",
   "execution_count": null,
   "id": "72e64755-f704-4059-a655-a7f56a036977",
   "metadata": {},
   "outputs": [],
   "source": [
    "htmp + bulk.fc.htmp"
   ]
  },
  {
   "cell_type": "code",
   "execution_count": null,
   "id": "6e852464-30b0-4d9d-84f1-9b53c2f541ba",
   "metadata": {},
   "outputs": [],
   "source": [
    "genes <- rownames(htmp@ht_list[[1]]@matrix)"
   ]
  },
  {
   "cell_type": "code",
   "execution_count": null,
   "id": "b5722f49-bf0d-4234-9a4d-0f19ac06f811",
   "metadata": {},
   "outputs": [],
   "source": [
    "exp.mat <- bulk.seurats$PA[['RNA']]@data[genes,]\n",
    "rownames(exp.mat) <- genes\n",
    "exp.mat[is.na(exp.mat)] <- 0\n",
    "exp.mat <- apply(exp.mat, 1, function(x){x/(max(c(x,1)))}) %>% t() %>% as.data.frame()"
   ]
  },
  {
   "cell_type": "code",
   "execution_count": null,
   "id": "e7ed8986-aadf-48a5-8bad-316ba8ecd1b1",
   "metadata": {},
   "outputs": [],
   "source": [
    "fig(20,10)"
   ]
  },
  {
   "cell_type": "code",
   "execution_count": null,
   "id": "1a5a4da5-7ce0-44ca-b586-060783188eee",
   "metadata": {},
   "outputs": [],
   "source": [
    "htmp + Heatmap(exp.mat, cluster_rows = T, cluster_columns = T)"
   ]
  },
  {
   "cell_type": "raw",
   "id": "3da804b5-7525-4018-b18a-be76bf05c781",
   "metadata": {},
   "source": [
    "lm(y ~ x)\n",
    "# Call:\n",
    "# lm(formula = y ~ x)\n",
    "\n",
    "# Coefficients:\n",
    "# (Intercept)            x  \n",
    "#      2.0920       0.1969 "
   ]
  },
  {
   "cell_type": "markdown",
   "id": "bcc069bc-948f-46d8-ab93-1ecd46ab9c95",
   "metadata": {
    "tags": []
   },
   "source": [
    "# ASD/Ctrl DEGs"
   ]
  },
  {
   "cell_type": "markdown",
   "id": "35eb5723-b7c6-4251-9d33-0b2d37bf6d75",
   "metadata": {},
   "source": [
    "## Macaque"
   ]
  },
  {
   "cell_type": "code",
   "execution_count": null,
   "id": "1fb046d3-1c49-4cf6-9227-6b9e9379dc8b",
   "metadata": {},
   "outputs": [],
   "source": [
    "macaque_regulon_table <- openxlsx::read.xlsx('../table S5 PAT_TFnetwork.xlsx', startRow = 2)"
   ]
  },
  {
   "cell_type": "code",
   "execution_count": null,
   "id": "512849b5-916e-491f-af3d-44e8a175cfec",
   "metadata": {},
   "outputs": [],
   "source": [
    "get.macaque.regulon <- function(gene, upstream=T, downstream=T, other.edges=F, as.graph=F){\n",
    "    regulon <- data.frame()\n",
    "    up.genes <- c()\n",
    "    down.genes <- c()\n",
    "    \n",
    "    if (upstream){\n",
    "        up.reg <- subset(macaque_regulon_table, to == gene)\n",
    "        up.genes <- unique(up.reg$from)\n",
    "        regulon <- plyr::rbind.fill(regulon, up.reg)\n",
    "    }\n",
    "    if (downstream){\n",
    "        down.reg <- subset(macaque_regulon_table, from == gene)\n",
    "        down.genes <- unique(down.reg$to)\n",
    "        regulon <- plyr::rbind.fill(regulon, down.reg)\n",
    "    }\n",
    "    if (other.edges){\n",
    "        all.genes <- unique(c(up.genes, down.genes, gene, recursive = T))\n",
    "        other.reg <- subset(macaque_regulon_table, (from %in% all.genes) & (to %in% all.genes))\n",
    "        regulon <- plyr::rbind.fill(regulon, other.reg)\n",
    "    }\n",
    "    \n",
    "    regulon <- unique(regulon)\n",
    "    regulon <- regulon[,c(TRUE, TRUE, colSums(regulon[,-(1:2)]) != 0)]\n",
    "    \n",
    "    if (as.graph){\n",
    "        g <- igraph::graph_from_data_frame(d = regulon, directed = T)\n",
    "        return(g)\n",
    "    } else {\n",
    "        return(regulon)\n",
    "    }\n",
    "}"
   ]
  },
  {
   "cell_type": "code",
   "execution_count": null,
   "id": "149a31ae-2cf0-44d5-ae40-4ad60cc8b678",
   "metadata": {},
   "outputs": [],
   "source": [
    "g <- get.macaque.regulon(gene = 'FOXG1', as.graph=T, other.edges = T)"
   ]
  },
  {
   "cell_type": "code",
   "execution_count": null,
   "id": "3db56d3d-5905-4b7c-b275-4a3b99b77fb2",
   "metadata": {},
   "outputs": [],
   "source": [
    "regulon.df <- get.macaque.regulon(gene = 'FOXG1', as.graph=F, other.edges = T)"
   ]
  },
  {
   "cell_type": "code",
   "execution_count": null,
   "id": "c8c9ea14-41f9-414c-bb0c-c15e0baed840",
   "metadata": {},
   "outputs": [],
   "source": [
    "plot(g, layout = get_fr_layout(g))"
   ]
  },
  {
   "cell_type": "code",
   "execution_count": null,
   "id": "4675fd26-88fe-4408-97ba-e9228939cbd0",
   "metadata": {},
   "outputs": [],
   "source": [
    "macaque_regulon_sources <- unique(macaque_regulon_table$from)"
   ]
  },
  {
   "cell_type": "code",
   "execution_count": null,
   "id": "32d53567-d503-4561-b3e5-6709d8260333",
   "metadata": {},
   "outputs": [],
   "source": [
    "DE_genes[DE_genes %in% macaque_regulon_sources]"
   ]
  },
  {
   "cell_type": "code",
   "execution_count": null,
   "id": "0ad6b9be-9cc8-4089-8b3f-3aeeb9461bd2",
   "metadata": {},
   "outputs": [],
   "source": [
    "source <- 'FOXG1'\n",
    "reg.genes <- unique(c(unlist(regulon.df[,1:2]), recursive=T))"
   ]
  },
  {
   "cell_type": "code",
   "execution_count": null,
   "id": "208f0919-23b8-4cfa-bb55-057a275f8833",
   "metadata": {},
   "outputs": [],
   "source": [
    "seu <-Seurat::ScaleData(seu, features=reg.genes)"
   ]
  },
  {
   "cell_type": "code",
   "execution_count": null,
   "id": "75766142-25d2-4200-bc6b-e6e88155a1fc",
   "metadata": {},
   "outputs": [],
   "source": [
    "cluster.order <- c('FGF17-like','RG early','RG late','Mes prog','Neral crest/Mes','Neuron','High-mito')\n",
    "seu@meta.data$anno_cluster <-factor(seu@meta.data$anno_cluster, cluster.order)"
   ]
  },
  {
   "cell_type": "code",
   "execution_count": null,
   "id": "89c98bd8-77c7-4ad5-8edd-b5767f52e708",
   "metadata": {},
   "outputs": [],
   "source": [
    "seu@meta.data$cell_origin <- factor(seu@meta.data$cell_origin, sort(unique(seu@meta.data$cell_origin)))"
   ]
  },
  {
   "cell_type": "raw",
   "id": "65ca4863-58d3-47c6-84b6-1459a8185a7e",
   "metadata": {},
   "source": [
    "# seu$anno_origin <- interaction(seu$anno_cluster, seu$cell_origin, lex.order = T)\n",
    "seu$anno_origin <- paste(as.character(seu$anno_cluster), as.character(seu$cell_origin), sep = '_')\n",
    "seu$anno_origin <- factor(seu$anno_origin, sapply(levels(seu$anno_cluster), function(x){paste(x, levels(seu$cell_origin), sep = '_')}))\n",
    "Idents(seu) <- 'anno_origin'"
   ]
  },
  {
   "cell_type": "raw",
   "id": "7972e478-67e3-4357-9455-50799120db0e",
   "metadata": {},
   "source": [
    "donor_color <- setNames(RColorBrewer::brewer.pal(n = 6, name = 'RdBu'), levels(seu@meta.data$cell_origin))"
   ]
  },
  {
   "cell_type": "raw",
   "id": "a03103a4-5307-4ff3-ab54-c907fb5dde5c",
   "metadata": {},
   "source": [
    "donor_color_clusters <- sapply(levels(seu$anno_origin), function(x){unname(donor_color[strsplit(x, split='_', fixed=T)[[1]][2]])})"
   ]
  },
  {
   "cell_type": "raw",
   "id": "97a71928-6660-48ec-b73b-42315710a08f",
   "metadata": {},
   "source": [
    "levels(seu$anno_origin)"
   ]
  },
  {
   "cell_type": "raw",
   "id": "00290f8a-5820-4bcc-9f96-b0c0c78c4843",
   "metadata": {},
   "source": [
    "donor_color_clusters[levels(seu$anno_origin)]"
   ]
  },
  {
   "cell_type": "code",
   "execution_count": null,
   "id": "1a5dcd9f-ffc2-410b-b5c6-497d584bdeac",
   "metadata": {},
   "outputs": [],
   "source": [
    "avgexp <- Seurat::AverageExpression(seu, group.by = c('anno_cluster', 'cell_origin'), return.seurat = T)\n",
    "\n"
   ]
  },
  {
   "cell_type": "code",
   "execution_count": null,
   "id": "621edd65-1820-4d11-b117-e0294a7bf1a6",
   "metadata": {},
   "outputs": [],
   "source": [
    "avgexp$anno_origin <- rownames(avgexp@meta.data)"
   ]
  },
  {
   "cell_type": "code",
   "execution_count": null,
   "id": "69212ea6-976a-4612-b677-7056fd5193d1",
   "metadata": {},
   "outputs": [],
   "source": [
    "avgexp$anno_origin"
   ]
  },
  {
   "cell_type": "code",
   "execution_count": null,
   "id": "1be8c763",
   "metadata": {},
   "outputs": [],
   "source": [
    "pdf('test.pdf', width=20, height=10)\n",
    "Seurat::DoHeatmap(object = avgexp, features=reg.genes, slot='scale.data', group.colors = donor_color, raster = F, group.by = 'anno_origin')\n",
    "dev.off()"
   ]
  },
  {
   "cell_type": "code",
   "execution_count": null,
   "id": "71babe4d-91a1-4bf5-9717-8adde54c53e6",
   "metadata": {},
   "outputs": [],
   "source": [
    "pdf('test.pdf', width=20, height=10)\n",
    "Seurat::(object = seu, features=reg.genes, slot='scale.data', group.colors = donor_color_clusters, raster = F, group.by = 'anno_origin')\n",
    "dev.off()"
   ]
  },
  {
   "cell_type": "code",
   "execution_count": null,
   "id": "690a1b2b-f535-498b-acd2-7f0ed39f1da7",
   "metadata": {},
   "outputs": [],
   "source": []
  },
  {
   "cell_type": "code",
   "execution_count": null,
   "id": "e2c93583-de80-4822-9086-882dd2763158",
   "metadata": {},
   "outputs": [],
   "source": [
    "plot.regulon.exp <- function(source, regulon.df, seu, include.source=T, combine.vars='ident', slot='scale.data', ...){\n",
    "    reg.genes <- unique(c(unlist(regulon.df[,1:2]), recursive=T))\n",
    "    \n",
    "}"
   ]
  },
  {
   "cell_type": "markdown",
   "id": "bf05c936-4933-4aeb-b3fd-e3068d0a7826",
   "metadata": {
    "jp-MarkdownHeadingCollapsed": true,
    "tags": []
   },
   "source": [
    "# cisTarget regulon"
   ]
  },
  {
   "cell_type": "code",
   "execution_count": null,
   "id": "89199764-59d9-46ff-8624-db4763809c3e",
   "metadata": {},
   "outputs": [],
   "source": [
    "cist_dis_regulon_table <- read.csv(file = '~/codebases/cortical_disorders2/results/RCT_diseases/cisTarget_regulons.csv')\n",
    "cist_temp_regulon_table <- read.csv(file = '~/codebases/cortical_disorders2/results/RCT_peaks//cisTarget_regulons.csv')"
   ]
  },
  {
   "cell_type": "code",
   "execution_count": null,
   "id": "cc578c19-24b7-405a-bd17-90e71929aa70",
   "metadata": {},
   "outputs": [],
   "source": [
    "get.rct.regulon <- function(gene, rct.table='disease', upstream=T, downstream=T, other.edges=F, as.graph=F, rm.geneset = F){\n",
    "    \n",
    "    if (rct.table == 'disease'){\n",
    "        regulons_table <- cist_dis_regulon_table\n",
    "    } else if (rct.table == 'temporal'){\n",
    "        regulons_table <- cist_temp_regulon_table\n",
    "    }\n",
    "    \n",
    "    regulon <- data.frame()\n",
    "    up.genes <- c()\n",
    "    down.genes <- c()\n",
    "    \n",
    "    if (upstream){\n",
    "        up.reg <- subset(regulons_table, Target == gene)\n",
    "        up.genes <- unique(up.reg$Core)\n",
    "        regulon <- plyr::rbind.fill(regulon, up.reg)\n",
    "    }\n",
    "    if (downstream){\n",
    "        down.reg <- subset(regulons_table, Core == gene)\n",
    "        down.genes <- unique(down.reg$Target)\n",
    "        regulon <- plyr::rbind.fill(regulon, down.reg)\n",
    "    }\n",
    "    if (other.edges){\n",
    "        all.genes <- unique(c(up.genes, down.genes, gene, recursive = T))\n",
    "        other.reg <- subset(regulons_table, (Core %in% all.genes) & (Target %in% all.genes))\n",
    "        regulon <- plyr::rbind.fill(regulon, other.reg)\n",
    "    }\n",
    "    \n",
    "    if (rm.geneset){\n",
    "        regulon <- regulon %>% mutate(geneSet = NULL, n.motifs = NULL, all.motifs = NULL)\n",
    "    }\n",
    "    \n",
    "    regulon <- unique(regulon) %>% relocate(Core, Target) %>% arrange_all()\n",
    "\n",
    "    \n",
    "    if (as.graph){\n",
    "        g <- igraph::graph_from_data_frame(d = regulon, directed = T)\n",
    "        return(g)\n",
    "    } else {\n",
    "        return(regulon)\n",
    "    }\n",
    "}"
   ]
  },
  {
   "cell_type": "code",
   "execution_count": null,
   "id": "589872cc",
   "metadata": {},
   "outputs": [],
   "source": [
    "g <- get.rct.regulon(gene = 'FOXG1', rct.table='disease', as.graph=T, other.edges = T)\n",
    "# g <- get.rct.regulon(gene = 'FOXG1', rct.table='temporal', as.graph=T, other.edges = T)\n",
    "g"
   ]
  },
  {
   "cell_type": "code",
   "execution_count": null,
   "id": "aae3b7ce-55d7-4f80-87c2-6eee033c8a4c",
   "metadata": {},
   "outputs": [],
   "source": [
    "plot(g, layout = get_fr_layout(g))"
   ]
  },
  {
   "cell_type": "code",
   "execution_count": null,
   "id": "2aa35a95-001c-46de-8de0-edee177aad80",
   "metadata": {},
   "outputs": [],
   "source": [
    "DE_genes[DE_genes %in% V(g)$name]"
   ]
  },
  {
   "cell_type": "markdown",
   "id": "a9705f87-973a-4a27-b64d-61034881f1f2",
   "metadata": {
    "jp-MarkdownHeadingCollapsed": true,
    "tags": []
   },
   "source": [
    "seu# CellOracle's regulon"
   ]
  },
  {
   "cell_type": "code",
   "execution_count": null,
   "id": "7f4d30d1-bb22-42b0-8ec7-26798041719c",
   "metadata": {},
   "outputs": [],
   "source": [
    "co_dir <- '~/codebases/co_new/data_foxg1/'"
   ]
  },
  {
   "cell_type": "code",
   "execution_count": null,
   "id": "0ecb391c-bceb-4d64-ac54-b75161595df8",
   "metadata": {},
   "outputs": [],
   "source": [
    "subsets <- list.files(co_dir)"
   ]
  },
  {
   "cell_type": "code",
   "execution_count": null,
   "id": "8a353fed-aff9-478d-bb80-a435b00e27db",
   "metadata": {
    "tags": []
   },
   "outputs": [],
   "source": [
    "library(dplyr)"
   ]
  },
  {
   "cell_type": "code",
   "execution_count": null,
   "id": "b8387283-b413-45c6-aca7-d8a69359a135",
   "metadata": {},
   "outputs": [],
   "source": [
    "grns <- list()\n",
    "for (subs in subsets){\n",
    "    message(subs)\n",
    "\n",
    "    grn_files <- list.files(full.names = T, file.path(co_dir, subs, 'cluster_GRN')) %>% grep(pattern='raw', value=T, fixed=T)\n",
    "\n",
    "    for (f in grn_files){\n",
    "        ct <- ((strsplit(f, split='.raw', fixed=T)[[1]][1] %>% strsplit(split='/', fixed=T))[[1]] %>% rev())[1]\n",
    "        grn <- data.table::fread(f) %>% mutate(V1=NULL)\n",
    "        # grn <- subset(grn, ((source=='FOXG1') | (target == 'FOXG1')) & (p < 0.05))\n",
    "        grn$cell.type <- ct\n",
    "        grn$subset <- subs\n",
    "        grns[[f]] <- grn\n",
    "    }\n",
    "\n",
    "}\n",
    "grns <- as.data.frame(do.call('rbind', grns))\n",
    "rownames(grns) <- NULL"
   ]
  },
  {
   "cell_type": "code",
   "execution_count": null,
   "id": "b36c74e6-7a49-40a2-88d8-b13c0d9d648d",
   "metadata": {},
   "outputs": [],
   "source": [
    "ct.factors <- c('vRG E', 'vRG L', 'tRG', 'oRG E', 'oRG L', 'nIPC', 'mGPC', 'Neu E', 'GluN1', 'GluN2', 'GluN3', 'GluN4', 'GluN5', 'GluN6', 'GluN7', 'GluN8', 'Astro', 'OPC')\n",
    "grns$cell.type <- factor(grns$cell.type, ct.factors)"
   ]
  },
  {
   "cell_type": "code",
   "execution_count": null,
   "id": "ebfac7b2-9dc2-4e0a-a28b-95dfd1431664",
   "metadata": {},
   "outputs": [],
   "source": [
    "grn.df <- grns[sample(1:nrow(grns), size=0.1*nrow(grns), replace=F), ]"
   ]
  },
  {
   "cell_type": "code",
   "execution_count": null,
   "id": "4ffc6fd6-3db1-40f2-ad5a-6f3dc892dd7a",
   "metadata": {},
   "outputs": [],
   "source": [
    "gene.to.color <- 'FOXG1'"
   ]
  },
  {
   "cell_type": "markdown",
   "id": "7dae0a7d-2b4f-4ef7-a8cf-a4f6ed913fa2",
   "metadata": {},
   "source": [
    "### Histogram/Density/Vulcano of p-values/coefs"
   ]
  },
  {
   "cell_type": "code",
   "execution_count": null,
   "id": "25154ebe-2334-445b-916d-474d020ce52a",
   "metadata": {
    "scrolled": true,
    "tags": []
   },
   "outputs": [],
   "source": [
    "library(ggplot2)\n",
    "library(ggh4x)\n",
    "library(ggpubr)"
   ]
  },
  {
   "cell_type": "code",
   "execution_count": null,
   "id": "0b3f13da-3573-49ec-b4f1-6f6ed1ad7b59",
   "metadata": {},
   "outputs": [],
   "source": [
    "fig(20,20)"
   ]
  },
  {
   "cell_type": "code",
   "execution_count": null,
   "id": "bfe5207b-a0ac-422f-bd51-160da344bb03",
   "metadata": {},
   "outputs": [],
   "source": [
    "prepare.celloracle.color <- function(grn.df, \n",
    "                                     gene.to.color='FOXG1', \n",
    "                                     up.down.color.split=F, pos.neg.color.split = F){\n",
    "\n",
    "    grn.df['color'] <- ''\n",
    "    if (!is.null(gene.to.color)){\n",
    "        \n",
    "        if (up.down.color.split){\n",
    "            grn.df['up.down'] <- plyr::mapvalues(\n",
    "                x = paste(grn.df$source == gene.to.color, grn.df$target == gene.to.color),\n",
    "                from = c('TRUE TRUE', 'TRUE FALSE', 'FALSE TRUE', 'FALSE FALSE'),\n",
    "                to = c('Self-regulation', 'Genes targetted by it', 'Genes regulating it', ''))\n",
    "            grn.df['color'] <- grn.df['up.down']\n",
    "            \n",
    "        } else {\n",
    "            grn.df['color'] <- ifelse(\n",
    "                ((grn.df$source == gene.to.color) | (grn.df$target == gene.to.color)),\n",
    "                paste0(gene.to.color, ' link'), '')\n",
    "        }\n",
    "        \n",
    "        if (pos.neg.color.split){\n",
    "            grn.df['pos.neg'] <- ifelse(grn.df[,'coef_mean', drop=T] > 0, '(Pos.)', '(Neg.)')\n",
    "            grn.df['color'] <- ifelse(grn.df[,'color', drop=T] == '', '',\n",
    "                                      paste(grn.df[,'color', drop=T], grn.df[,'pos.neg', drop=T]))\n",
    "        }\n",
    "        \n",
    "    }\n",
    "    \n",
    "    grn.df <- grn.df %>% arrange(color)\n",
    "    return(grn.df)\n",
    "}"
   ]
  },
  {
   "cell_type": "code",
   "execution_count": null,
   "id": "38448f2b-3535-46ad-b7ef-c626adbf7f33",
   "metadata": {},
   "outputs": [],
   "source": [
    "do.celloracle.histogram <- function(grn.df, \n",
    "                                    stat.plot='-logp',\n",
    "                                    hist.or.dens = 'dens',\n",
    "                                    overlay = T,\n",
    "                                    \n",
    "                                    gene.to.color='FOXG1', \n",
    "                                    up.down.color.split=F, pos.neg.color.split = F){\n",
    "    \n",
    "    \n",
    "    grn.df <- prepare.celloracle.color(grn.df, gene.to.color=gene.to.color, \n",
    "                                       up.down.color.split=up.down.color.split, \n",
    "                                       pos.neg.color.split = pos.neg.color.split)\n",
    "    \n",
    "    \n",
    "    p <- ggplot(\n",
    "            grn.df %>% mutate(stat = grn.df[,stat.plot, drop=T]), \n",
    "            aes(x = stat, fill=color, color=color)) + \n",
    "    \n",
    "        labs(x=stat.plot, color=gene.to.color, fill=gene.to.color) + \n",
    "\n",
    "        facet_nested(rows=vars(cell.type),  \n",
    "                     cols=vars(subset), \n",
    "                     independent = 'y', scales='free', space='fixed')\n",
    "\n",
    "    if (hist.or.dens == 'dens'){\n",
    "        p <- p + geom_density(fill='transparent', position = \"identity\")\n",
    "    } else {\n",
    "        if (overlay){\n",
    "            p <- p + geom_histogram(alpha = 0.5, position = \"identity\")\n",
    "        } else {\n",
    "            p <- p + geom_histogram(position = \"stack\")\n",
    "        }\n",
    "    }\n",
    "    if(stat.plot=='-logp'){\n",
    "        p <- p + geom_vline(xintercept = -log10(0.05))\n",
    "        p <- p + geom_vline(xintercept = -log10(0.001))\n",
    "    }else{\n",
    "        p <- p + geom_vline(xintercept = 0)\n",
    "    }\n",
    "    \n",
    "    p <- p + theme_pubr(base_family = 'ArialMT')\n",
    "    \n",
    "    return(p)\n",
    "}"
   ]
  },
  {
   "cell_type": "raw",
   "id": "8c4f9120-da9d-4ddd-a56f-8eaaff34ed5a",
   "metadata": {},
   "source": [
    "d <- do.celloracle.histogram(sub, stat.plot = '-logp', gene.to.color='FOXG1', up.down.color.split=T, pos.neg.color.split=F)"
   ]
  },
  {
   "cell_type": "code",
   "execution_count": null,
   "id": "ff061262-3395-4700-bd4f-6e6ce00d9825",
   "metadata": {},
   "outputs": [],
   "source": [
    "do.celloracle.vulcano <- function(grn.df=grns,\n",
    "                                  gene.to.color='FOXG1',\n",
    "                                  up.down.color.split=F, \n",
    "                                  pos.neg.color.split = F){\n",
    "    \n",
    "    \n",
    "    grn.df <- prepare.celloracle.color(grn.df, gene.to.color=gene.to.color, \n",
    "                                       up.down.color.split=up.down.color.split, \n",
    "                                       pos.neg.color.split = pos.neg.color.split)\n",
    "\n",
    "    grn.df$color <- ifelse(grn.df$color == '', NA, grn.df$color)\n",
    "    \n",
    "    p <- ggplot(\n",
    "        grn.df,\n",
    "        aes(x = coef_mean, y=`-logp`, color=color, fill=color)) +\n",
    "\n",
    "    labs(color=gene.to.color, fill=gene.to.color) + \n",
    "\n",
    "    facet_nested(rows=vars(cell.type),  \n",
    "                 cols=vars(subset), \n",
    "                 independent = 'y',\n",
    "                 scales='free', space='fixed') +\n",
    "    \n",
    "    geom_point(shape=16,alpha=0.5) +\n",
    "    geom_vline(xintercept = 0) + geom_hline(yintercept=-log(0.05)) + \n",
    "    scale_fill_discrete(na.value = 'grey') + \n",
    "    scale_color_discrete(na.value = 'grey') +\n",
    "    theme_pubr(base_family = 'ArialMT')\n",
    "\n",
    "    return(p)\n",
    "    \n",
    "}"
   ]
  },
  {
   "cell_type": "raw",
   "id": "402cfddc-4e35-4b5b-a274-acdcd589cbb7",
   "metadata": {},
   "source": [
    "svg('./test.svg', width = 20, height = 20)\n",
    "sub <- grns[sample(1:nrow(grns), size=0.05*nrow(grns), replace=F), ]\n",
    "plot(do.celloracle.vulcano(sub, gene.to.color='FOXG1', up.down.color.split=T, pos.neg.color.split=F))\n",
    "dev.off()"
   ]
  },
  {
   "cell_type": "markdown",
   "id": "d7034b23-d250-47f2-8ba4-201a42fd2215",
   "metadata": {},
   "source": [
    "### Extract regulon"
   ]
  },
  {
   "cell_type": "code",
   "execution_count": null,
   "id": "93f2ee49-af00-407b-893c-acc004c04eab",
   "metadata": {},
   "outputs": [],
   "source": [
    "get.co.regulon <- function(gene, regulons_table=grns, upstream=T, downstream=T, other.edges=F, as.graph=F, per.subset.per.celltype=F){\n",
    "\n",
    "    if (!per.subset.per.celltype){\n",
    "        regulon <- data.frame()\n",
    "        up.genes <- c()\n",
    "        down.genes <- c()\n",
    "\n",
    "        if (upstream){\n",
    "            up.reg <- subset(regulons_table, target == gene)\n",
    "            up.genes <- unique(up.reg$source)\n",
    "            regulon <- plyr::rbind.fill(regulon, up.reg)\n",
    "        }\n",
    "        if (downstream){\n",
    "            down.reg <- subset(regulons_table, source == gene)\n",
    "            down.genes <- unique(down.reg$target)\n",
    "            regulon <- plyr::rbind.fill(regulon, down.reg)\n",
    "        }\n",
    "        if (other.edges){\n",
    "            all.genes <- unique(c(up.genes, down.genes, gene, recursive = T))\n",
    "            other.reg <- subset(regulons_table, (source %in% all.genes) & (target %in% all.genes))\n",
    "            regulon <- plyr::rbind.fill(regulon, other.reg)\n",
    "        }\n",
    "\n",
    "        regulon <- unique(regulon) %>% relocate(source, target) %>% arrange_all()\n",
    "\n",
    "        if (as.graph){\n",
    "            g <- igraph::graph_from_data_frame(d = regulon, directed = T)\n",
    "            return(g)\n",
    "        } else {\n",
    "            return(regulon)\n",
    "        }\n",
    "    } else {\n",
    "        \n",
    "        regulon.list <- list()\n",
    "        \n",
    "        for (subs in unique(regulons_table$subset)){\n",
    "            \n",
    "            # message(subs)\n",
    "\n",
    "            for (ct in unique(regulons_table$cell.type)){\n",
    "                \n",
    "                # message(paste(subs, ct))\n",
    "                \n",
    "                sub.ct.grn <- subset(regulons_table, (subset == subs)&(cell.type==ct))\n",
    "                sub.ct.regulon <- get.co.regulon(gene=gene, regulons_table=sub.ct.grn,\n",
    "                                                 upstream=upstream, downstream=downstream, other.edges=other.edges, \n",
    "                                                 as.graph=F, per.subset.per.celltype=F)\n",
    "                regulon.list[[paste(subs, ct)]] <- sub.ct.regulon\n",
    "            }\n",
    "        }\n",
    "        \n",
    "        regulon <- do.call('rbind', regulon.list) %>% as.data.frame() %>% relocate(source, target, subset, cell.type) %>% arrange_all()\n",
    "        rownames(regulon) <- 1:nrow(regulon)\n",
    "        \n",
    "        if (as.graph){\n",
    "            g <- igraph::graph_from_data_frame(d = regulon, directed = T)\n",
    "            return(g)\n",
    "        } else {\n",
    "            return(regulon)\n",
    "        }\n",
    "    }\n",
    "}"
   ]
  },
  {
   "cell_type": "code",
   "execution_count": null,
   "id": "6c52f57c-ac94-4be3-bfd9-d328d98f1e84",
   "metadata": {},
   "outputs": [],
   "source": [
    "regulon.df <- get.co.regulon(gene='FOXG1', regulons_table = grns, other.edges = T, per.subset.per.celltype = T, as.graph = F)"
   ]
  },
  {
   "cell_type": "raw",
   "id": "b7b2a567-1431-459e-9b07-d59549aa7666",
   "metadata": {},
   "source": [
    "regulon.df %>% group_by(subset, cell.type) %>% slice_max(order_by = coef_abs, n=100)"
   ]
  },
  {
   "cell_type": "code",
   "execution_count": null,
   "id": "dacc9efe-8652-45d1-97b1-bac71c980c14",
   "metadata": {},
   "outputs": [],
   "source": [
    "g <- igraph::graph_from_data_frame(d = regulon.df, directed = T)\n",
    "common.layout <- get_fr_layout(g)\n",
    "\n",
    "# plot(g, layout = common.layout, vertex.size=2)\n",
    "\n",
    "\n",
    "edge.mask <- (edge_attr(g, name = 'subset') == 'Gliogenesis') & (edge_attr(g, name = 'cell.type') == 'vRG E')\n",
    "\n",
    "sub.g <- subgraph.edges(graph = g, eids = E(g)[edge.mask])\n",
    "sub.layout <- common.layout[V(sub.g)$name,]\n",
    "\n",
    "# plot(sub.g, layout = sub.layout, vertex.size=2)"
   ]
  },
  {
   "cell_type": "code",
   "execution_count": null,
   "id": "9e1b7233-b92e-4248-8b1d-15007c1219f9",
   "metadata": {},
   "outputs": [],
   "source": [
    "plot.co.reg.per.subset <- function(grn.df, common.layout=NULL, groupby='subset', v=T){\n",
    "    \n",
    "    # First, the LAYOUT\n",
    "    if (is.null(common.layout)){\n",
    "        common.layout <- get_fr_layout(graph_from_data_frame(grn.df, directed = T))\n",
    "    }\n",
    "    \n",
    "    \n",
    "    for (group in c('GENERAL_PLOT', unique(grn.df[, groupby, drop=T]))){\n",
    "        \n",
    "        if (v){message(group)}\n",
    "        \n",
    "        # Subset grn\n",
    "        if (group != 'GENERAL_PLOT'){\n",
    "            sub.grn <- grn.df[grn.df[groupby]==group,]\n",
    "        } else {\n",
    "            sub.grn <- grn.df\n",
    "        }\n",
    "        # Condense edges\n",
    "        sub.grn <- sub.grn %>% group_by(source, target) %>% summarise_all(function(x){paste(as.character(x), collapse = ';')})\n",
    "        \n",
    "        # Convert to graph\n",
    "        sub.g <- graph_from_data_frame(sub.grn, directed = T)\n",
    "        \n",
    "        # Retrieve layout\n",
    "        sub.layout <- common.layout[V(sub.g)$name,]\n",
    "\n",
    "        # Plot\n",
    "        plot(sub.g, layout = sub.layout, vertex.size=3)\n",
    "        mtext(group)\n",
    "    }\n",
    "        \n",
    "    \n",
    "    \n",
    "}"
   ]
  },
  {
   "cell_type": "code",
   "execution_count": null,
   "id": "3ec02b30-1f73-4e94-915b-c02a8630aad7",
   "metadata": {},
   "outputs": [],
   "source": [
    "table(DE_genes%in%grns$source)"
   ]
  },
  {
   "cell_type": "code",
   "execution_count": null,
   "id": "3095bcfd-b7f2-42b5-a302-8f9bbfc391a3",
   "metadata": {},
   "outputs": [],
   "source": [
    "DE_sources <- DE_genes[DE_genes%in%grns$source]\n",
    "sort(DE_sources)"
   ]
  },
  {
   "cell_type": "markdown",
   "id": "6d01a4b7-0edc-432c-a6c6-991f02b99669",
   "metadata": {},
   "source": [
    "### AV GENES\n",
    "- ONECUT2 is a gene expressed in neurons derived from RPC\n",
    "- FOXG1  \n",
    "- HES4\n",
    "- HES5\n",
    "- FEZF2  \n",
    "### DORSAL/CAUDAL\n",
    "\n"
   ]
  },
  {
   "cell_type": "code",
   "execution_count": null,
   "id": "482cc830-6e12-465d-9d20-2e4f962bebec",
   "metadata": {},
   "outputs": [],
   "source": [
    "for (DEG in unique(c('FOXG1', DE_sources))){\n",
    "    print(DEG)\n",
    "    \n",
    "    dens.1 <- do.celloracle.histogram(grns, stat.plot = '-logp', gene.to.color=DEG, \n",
    "                                      hist.or.dens = 'dens', overlay = T, \n",
    "                                      up.down.color.split=F, pos.neg.color.split=F) + \n",
    "        ggtitle(DEG, subtitle=paste('Distribution of p-values of all genes compared to', DEG))\n",
    "    \n",
    "    vulc.1 <- do.celloracle.vulcano(grns, gene.to.color=DEG, \n",
    "                                    up.down.color.split=F, pos.neg.color.split=F) + \n",
    "        ggtitle(DEG, subtitle=paste('Vulcano of p-values and coefficient of all genes compared to', DEG))\n",
    "    \n",
    "    pdf(paste0('DEG_plots/', DEG, '.ComparedToAll.pdf'), height=27, width=21)\n",
    "    plot(dens.1)\n",
    "    plot(vulc.1)\n",
    "    dev.off()\n",
    "    \n",
    "    # # This regulon contains extra edges (to get the common layout)\n",
    "    # regulon.all <- get.co.regulon(gene=DEG, regulons_table = grns, other.edges = T, per.subset.per.celltype = T, as.graph = F)\n",
    "    # # Filter by p-value\n",
    "    # regulon.all <- subset(regulon.all, p < 0.001) # Used in celloracle\n",
    "    # # Get common layout\n",
    "    # common.layout <- get_fr_layout(graph_from_data_frame(regulon.all, directed = T))\n",
    "    \n",
    "    \n",
    "    # This regulon does NOT contain extra edges\n",
    "    regulon.df <- get.co.regulon(gene=DEG, regulons_table = grns, other.edges = F, \n",
    "                                 per.subset.per.celltype = T, as.graph = F)\n",
    "    \n",
    "    hist.2 <- do.celloracle.histogram(grn.df = regulon.df, stat.plot = '-logp', gene.to.color=DEG, \n",
    "                                      hist.or.dens = 'hist', overlay = F,\n",
    "                                      up.down.color.split=T, pos.neg.color.split=T) + \n",
    "        ggtitle(DEG, subtitle=paste('Distribution of p-values of all links connected to', DEG))\n",
    "    \n",
    "    vulc.2 <- do.celloracle.vulcano(grn.df = regulon.df, gene.to.color=DEG, \n",
    "                                    up.down.color.split=T, pos.neg.color.split=F) + \n",
    "        ggtitle(DEG, subtitle=paste('Vulcano of p-values and coefficients of all links connected to', DEG))\n",
    "\n",
    "    pdf(paste0('DEG_plots/', DEG, '.Distribution.pdf'), height=27, width=21)\n",
    "    plot(hist.2)\n",
    "    plot(vulc.2)\n",
    "    dev.off()\n",
    "    \n",
    "    # Filter by p-value\n",
    "    regulon.df <- subset(regulon.df, p < 0.001) # Used in celloracle\n",
    "    # Select top n by coef\n",
    "    regulon.df <- regulon.df %>% group_by(subset, cell.type) %>% slice_max(order_by = coef_abs, n=100)\n",
    "    \n",
    "    # Plot networks\n",
    "    pdf(paste0('DEG_plots/', DEG, '.RegulonsPerSubset.pdf'), height=25, width=25)\n",
    "    plot.co.reg.per.subset(grn.df = regulon.df, groupby = 'subset', common.layout = NULL, v = T)\n",
    "    dev.off()\n",
    "}"
   ]
  },
  {
   "cell_type": "markdown",
   "id": "3cc8fcd4-c197-4fe1-8a69-682f16d0190c",
   "metadata": {
    "tags": []
   },
   "source": [
    "###  First: heatmap me"
   ]
  },
  {
   "cell_type": "code",
   "execution_count": null,
   "id": "e860f7ff-2eea-470b-b21a-9dff10da908d",
   "metadata": {
    "scrolled": true,
    "tags": []
   },
   "outputs": [],
   "source": [
    "foxg1.sources <- subset(grns, (target == 'FOXG1')) %>% mutate(type = 'downstream', gene = source)\n",
    "foxg1.targets <- subset(grns, (source == 'FOXG1')) %>% mutate(type = 'upstream', gene = target)\n",
    "foxg1.htmp.data <- plyr::rbind.fill(foxg1.targets, foxg1.sources) %>% mutate(pos.neg=ifelse(sign(coef_mean)==1, 'pos', 'neg'))\n",
    "foxg1.htmp.data"
   ]
  },
  {
   "cell_type": "code",
   "execution_count": null,
   "id": "4c68c505-c98e-4f84-9518-11103ab39a93",
   "metadata": {},
   "outputs": [],
   "source": [
    "library(ggplot2)\n",
    "library(ggh4x)\n",
    "library(ggpubr)"
   ]
  },
  {
   "cell_type": "code",
   "execution_count": null,
   "id": "0327906d-35d0-40c1-b62a-a7f99ee55d9d",
   "metadata": {},
   "outputs": [],
   "source": [
    "options(repr.plot.height=20, repr.plot.width=10)"
   ]
  },
  {
   "cell_type": "code",
   "execution_count": null,
   "id": "6813abd3-f1f3-4476-9551-dbe8a908aad4",
   "metadata": {},
   "outputs": [],
   "source": [
    "ggplot(subset(foxg1.htmp.data, p < 0.05), \n",
    "       aes(x=cell.type, y=gene)) + geom_point(aes(color=type, size=coef_abs), shape=16) + facet_grid(cols=vars(subset), space='free', scales='free') + geom_point(aes(shape=pos.neg)) + scale_shape_manual(values=c('pos'=NA, 'neg'=4))"
   ]
  },
  {
   "cell_type": "code",
   "execution_count": null,
   "id": "c60a42f6-23c3-4c5e-b7d2-3538484800ff",
   "metadata": {},
   "outputs": [],
   "source": [
    "options(repr.plot.height=10, repr.plot.width=10)"
   ]
  },
  {
   "cell_type": "code",
   "execution_count": null,
   "id": "fe818e0f-13b5-4f1e-851b-7c7349d675e8",
   "metadata": {},
   "outputs": [],
   "source": [
    "sources.subset<- foxg1.sources %>% arrange(p) %>% group_by(subset, cell.type) %>% slice_head(n=10)\n",
    "sources.subset <- subset(foxg1.sources, gene %in%unique(sources.subset$gene))"
   ]
  },
  {
   "cell_type": "code",
   "execution_count": null,
   "id": "9ef113b2-a2ae-44c1-8802-d43f8ff67c5c",
   "metadata": {},
   "outputs": [],
   "source": [
    "foxg1.source.matrix <- sources.subset %>% reshape2::dcast('gene ~ subset+cell.type', value.var = 'coef_abs', fun.aggregate = mean)\n",
    "foxg1.source.matrix[is.na(foxg1.source.matrix)] <- 0\n",
    "\n",
    "rownames(foxg1.source.matrix) <- foxg1.source.matrix$gene\n",
    "\n",
    "source.hc <- hclust(dist(foxg1.source.matrix[,-1]))\n",
    "source.levels <- rownames(foxg1.source.matrix)[source.hc$order]"
   ]
  },
  {
   "cell_type": "code",
   "execution_count": null,
   "id": "1b7a10f3-3d3d-41c9-82b1-bf3028c7ff9c",
   "metadata": {},
   "outputs": [],
   "source": [
    "ggplot(sources.subset, aes(x=cell.type, y=factor(gene, source.levels))) + geom_point(aes(fill=coef_mean, size=`-logp`), shape=21, stroke=1) + facet_nested(cols=vars(type, subset), space='free', scales='free') + scale_fill_gradient2(low='darkblue', mid='white', high='tomato') + theme_pubr() + theme(panel.grid.major = element_line(color='lightgrey', linewidth=.5), axis.text.x=element_text(angle=90, hjust=1, vjust=0.5))"
   ]
  },
  {
   "cell_type": "code",
   "execution_count": null,
   "id": "ea004145-63d4-4872-90fa-2b3963471afb",
   "metadata": {},
   "outputs": [],
   "source": [
    "targets.subset<- foxg1.targets %>% arrange(p) %>% group_by(subset, cell.type) %>% slice_head(n=5)\n",
    "targets.subset <- subset(foxg1.targets, gene %in%unique(targets.subset$gene))"
   ]
  },
  {
   "cell_type": "code",
   "execution_count": null,
   "id": "24715647-d781-401d-90a7-107083a2ddf1",
   "metadata": {},
   "outputs": [],
   "source": [
    "\n",
    "foxg1.target.matrix <- targets.subset %>% reshape2::dcast('gene ~ subset+cell.type', value.var = 'coef_abs')\n",
    "foxg1.target.matrix[is.na(foxg1.target.matrix)] <- 0\n",
    "\n",
    "rownames(foxg1.target.matrix) <- foxg1.target.matrix$gene\n",
    "\n",
    "targets.hc <- hclust(dist(foxg1.target.matrix[,-1]))\n",
    "target.levels <- rownames(foxg1.target.matrix)[targets.hc$order]"
   ]
  },
  {
   "cell_type": "code",
   "execution_count": null,
   "id": "8c60f237-e260-4013-b277-c941250df79b",
   "metadata": {},
   "outputs": [],
   "source": [
    "ggplot(targets.subset, aes(x=cell.type, y=factor(gene, target.levels))) + geom_point(aes(fill=coef_mean, size=`-logp`), shape=21, stroke=1) + facet_nested(cols=vars(type, subset), space='free', scales='free') + scale_fill_gradient2(low='darkblue', mid='white', high='tomato') + theme_pubr() + theme(panel.grid.major = element_line(color='lightgrey', linewidth=.5), axis.text.x=element_text(angle=90, hjust=1, vjust=0.5))"
   ]
  },
  {
   "cell_type": "code",
   "execution_count": null,
   "id": "f90b9abf-922e-4e61-ab34-14843288e334",
   "metadata": {},
   "outputs": [],
   "source": []
  },
  {
   "cell_type": "raw",
   "id": "b184b7cf-d635-4a14-9e9a-b95fc59320ca",
   "metadata": {},
   "source": [
    "g <- graph_from_data_frame(d = grns, directed = T)\n",
    "\n",
    "layouts <- grep('^layout_.', lsf.str('package:igraph'), value=T)\n",
    "\n",
    "for (layout in layouts){\n",
    "    message(layout)\n",
    "    \n",
    "    png(paste0(layout, '.png'))\n",
    "    tryCatch(expr = {plot(g, layout = get(layout))}, \n",
    "             error = function(cond){print(as.character(cond))},\n",
    "             cond = function(cond){print(as.character(cond))})\n",
    "    dev.off()\n",
    "}"
   ]
  },
  {
   "cell_type": "raw",
   "id": "bf242493-289e-4cec-9cb4-7f9cf6420f79",
   "metadata": {},
   "source": [
    "# First, an overview network\n",
    "dense.foxg1 <- subset(grns, ((source == 'FOXG1') | (target == 'FOXG1')) & (p < 0.05))\n",
    "\n",
    "dense.foxg1 <- dense.foxg1 %>% reshape2::dcast('source+target~cell.type', value.var = 'subset', fun.aggregate = function(x){paste(x, collapse=',')})\n",
    "\n",
    "\n",
    "\n",
    "g <- graph_from_data_frame(dense.foxg1)\n",
    "\n",
    "plot(g, layout=get_fr_layout(g, area.fct = 3.1, repulse.pwr = 5),vertex.size=2, vertex.label=NA)"
   ]
  },
  {
   "cell_type": "code",
   "execution_count": null,
   "id": "8bbc4fe0-a14f-4237-b622-f921434d2563",
   "metadata": {},
   "outputs": [],
   "source": [
    "# Iterate GRNs of specific cell.types"
   ]
  },
  {
   "cell_type": "code",
   "execution_count": null,
   "id": "ada7ace7-b4fc-47fa-b5f4-635a4558d545",
   "metadata": {},
   "outputs": [],
   "source": [
    "grn.per.subset <- split(grns, grns$subset)"
   ]
  },
  {
   "cell_type": "code",
   "execution_count": null,
   "id": "79a88b8d-73a5-45a6-a053-664c776fe602",
   "metadata": {},
   "outputs": [],
   "source": [
    "grn <- grn.per.subset$Gliogenesis\n",
    "\n",
    "presence.grn <- reshape2::dcast(subset(grn, p < 0.05), 'source+target ~ cell.type', value.var='coef_abs', fun.aggregate = length)\n",
    "grn <- grn %>% subset(p<0.05) %>% group_by(source, target) %>% summarise(weight=mean(coef_mean, na.rm=T))\n",
    "\n",
    "\n",
    "grn <- merge(presence.grn, grn, by=c('source', 'target'))"
   ]
  },
  {
   "cell_type": "code",
   "execution_count": null,
   "id": "efff5a0f-2541-4b1d-aaa5-211e48fdebce",
   "metadata": {},
   "outputs": [],
   "source": [
    "foxg1.contacts <- unique(c(unlist(subset(grn, (source=='FOXG1')| (target=='FOXG1'))[,c('source', 'target')]), recursive = T))\n",
    "foxg1.inter <- subset(grn, (source %in% foxg1.contacts) & (target %in% foxg1.contacts))"
   ]
  },
  {
   "cell_type": "code",
   "execution_count": null,
   "id": "938f2af3-8e4e-4d61-a28c-c254bb3e6631",
   "metadata": {},
   "outputs": [],
   "source": [
    "g.inter <- graph_from_data_frame(foxg1.inter)"
   ]
  },
  {
   "cell_type": "code",
   "execution_count": null,
   "id": "87b2f5d7-65cb-4cb2-baaa-3b5f6f86b5dd",
   "metadata": {},
   "outputs": [],
   "source": [
    "grn"
   ]
  },
  {
   "cell_type": "code",
   "execution_count": null,
   "id": "2d72e035-f907-4b38-bef0-c2e7fc7ebaf1",
   "metadata": {},
   "outputs": [],
   "source": [
    "foxg1.grn <- subset(grn, (source == 'FOXG1') | (target == 'FOXG1'))"
   ]
  },
  {
   "cell_type": "code",
   "execution_count": null,
   "id": "9d54d4ba-26b4-463e-b1dd-1c8b8bb6585f",
   "metadata": {},
   "outputs": [],
   "source": [
    "g <- graph_from_data_frame(foxg1.grn)"
   ]
  },
  {
   "cell_type": "code",
   "execution_count": null,
   "id": "0a133f50-441f-4ae4-b74c-5d7b94fa9665",
   "metadata": {},
   "outputs": [],
   "source": [
    "plot(g, layout=get_fr_layout(g.inter, area.fct = 2, repulse.pwr = 50)[V(g)$name,], vertex.size=2)"
   ]
  },
  {
   "cell_type": "code",
   "execution_count": null,
   "id": "2f487fa6-2cdc-4814-9eeb-58e8e9d0ae27",
   "metadata": {},
   "outputs": [],
   "source": []
  },
  {
   "cell_type": "code",
   "execution_count": null,
   "id": "f6a397fa-7f21-4975-8e4b-8acba6d831b0",
   "metadata": {},
   "outputs": [],
   "source": []
  }
 ],
 "metadata": {
  "kernelspec": {
   "display_name": "Portfolio (R)",
   "language": "R",
   "name": "portfolio-r"
  },
  "language_info": {
   "codemirror_mode": "r",
   "file_extension": ".r",
   "mimetype": "text/x-r-source",
   "name": "R",
   "pygments_lexer": "r",
   "version": "4.3.1"
  }
 },
 "nbformat": 4,
 "nbformat_minor": 5
}
