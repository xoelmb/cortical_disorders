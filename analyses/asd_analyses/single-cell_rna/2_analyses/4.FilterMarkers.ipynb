{
 "cells": [
  {
   "cell_type": "code",
   "execution_count": 1,
   "id": "05d940a6-df86-4eed-8c44-1e7b1e3d9cba",
   "metadata": {},
   "outputs": [
    {
     "name": "stderr",
     "output_type": "stream",
     "text": [
      "The legacy packages maptools, rgdal, and rgeos, underpinning the sp package,\n",
      "which was just loaded, will retire in October 2023.\n",
      "Please refer to R-spatial evolution reports for details, especially\n",
      "https://r-spatial.org/r/2023/05/15/evolution4.html.\n",
      "It may be desirable to make the sf package available;\n",
      "package maintainers should consider adding sf to Suggests:.\n",
      "The sp package is now running under evolution status 2\n",
      "     (status 2 uses the sf package in place of rgdal)\n",
      "\n",
      "Attaching SeuratObject\n",
      "\n",
      "Seurat v4 was just loaded with SeuratObject v5; disabling v5 assays and\n",
      "validation routines, and ensuring assays work in strict v3/v4\n",
      "compatibility mode\n",
      "\n",
      "\n",
      "Attaching package: ‘dplyr’\n",
      "\n",
      "\n",
      "The following objects are masked from ‘package:stats’:\n",
      "\n",
      "    filter, lag\n",
      "\n",
      "\n",
      "The following objects are masked from ‘package:base’:\n",
      "\n",
      "    intersect, setdiff, setequal, union\n",
      "\n",
      "\n"
     ]
    }
   ],
   "source": [
    "library(Seurat)\n",
    "library(dplyr)"
   ]
  },
  {
   "cell_type": "markdown",
   "id": "1aff4adc-612f-4c59-a5c8-e11138f32986",
   "metadata": {
    "tags": []
   },
   "source": [
    "# Data load"
   ]
  },
  {
   "cell_type": "code",
   "execution_count": 2,
   "id": "0ea505c4-0471-440e-aac5-9cb1f8285217",
   "metadata": {
    "scrolled": true,
    "tags": []
   },
   "outputs": [
    {
     "name": "stdout",
     "output_type": "stream",
     "text": [
      "Loading objects:\n",
      "  cell.type.colors\n",
      "  cell.types\n",
      "  cell.types.nohighmito\n",
      "  chr_df\n",
      "  donor_sex\n",
      "  fig\n",
      "  flora_paper_list\n",
      "  gene_type.df\n",
      "  imprinted.df\n",
      "  imprinted.genes\n",
      "  monkey_paper_list\n",
      "  monkey.genes\n",
      "  monkey.markers\n",
      "  nescreg.genes\n",
      "  nescreg.genes.no_trg\n",
      "  nescreg.genes.no_trg.early\n",
      "  nescreg.list\n",
      "  nescreg.list.no_trg\n",
      "  nescreg.list.no_trg.early\n",
      "  nescreg.markers\n",
      "  nescreg.markers.no_trg\n",
      "  nescreg.markers.no_trg.early\n",
      "  nicola_marker_list\n",
      "  origin_sex.colors\n",
      "  pat.de\n",
      "  pat.de.top20\n",
      "  pat.list\n",
      "  pat.neu.de\n",
      "  pat.neu.de.top20\n",
      "  pat.neu.list\n",
      "  pat.neu.top20\n",
      "  pat.top20\n",
      "  phases\n",
      "  phases.colors\n",
      "  protein_coding.genes\n",
      "  region.genes\n",
      "  region.list\n",
      "  region.markers\n",
      "  samples\n",
      "  samples.colors\n",
      "  sex_chr.genes\n",
      "  sex_chr.genes.x\n",
      "  sex_chr.genes.y\n",
      "  shown_2b_list\n",
      "  shown_4d_list\n",
      "  tf.genes\n",
      "  tfs.df\n",
      "  top100.sub.pat\n",
      "  top100.subtype\n",
      "  valid_chr\n"
     ]
    }
   ],
   "source": [
    "load('../data/commons.rda', verbose = T)"
   ]
  },
  {
   "cell_type": "code",
   "execution_count": 3,
   "id": "8d6bda59-f93d-495c-8c41-a0849416357e",
   "metadata": {},
   "outputs": [
    {
     "name": "stderr",
     "output_type": "stream",
     "text": [
      "Warning message in dir.create(\"../results/selected_markers/\"):\n",
      "“'../results/selected_markers' already exists”\n"
     ]
    }
   ],
   "source": [
    "dir.create('../results/selected_markers/')"
   ]
  },
  {
   "cell_type": "markdown",
   "id": "2b4d107f-c648-4ece-a8ed-3ef3f8632301",
   "metadata": {
    "tags": []
   },
   "source": [
    "## Expression data"
   ]
  },
  {
   "cell_type": "code",
   "execution_count": 39,
   "id": "5137d189-b47a-4d67-b54b-09b83ff26ded",
   "metadata": {
    "tags": []
   },
   "outputs": [],
   "source": [
    "## no high-mito\n",
    "# Read\n",
    "seu <- readRDS('../data/DE_DS.NoHighMito.pp.scaled.RDS')\n",
    "\n",
    "## RG early\n",
    "# Read\n",
    "seu.rge <- readRDS('../data/DE_DS.RGearly.pp.scaled.RDS')\n",
    "\n",
    "\n",
    "# Vector of donor-condition equivalences\n",
    "id_conditions <- with(unique(seu.rge@meta.data[,c('cell_origin', 'condition')]),\n",
    "                      {setNames(condition, cell_origin)})\n",
    "\n",
    "id_conditions\n"
   ]
  },
  {
   "cell_type": "markdown",
   "id": "707b014d-171c-47c6-9188-3672231c2bb9",
   "metadata": {
    "jp-MarkdownHeadingCollapsed": true,
    "tags": []
   },
   "source": [
    "## Seurat markers"
   ]
  },
  {
   "cell_type": "code",
   "execution_count": 42,
   "id": "9ef33bb8-1b73-421b-8d46-be8697c7b8ac",
   "metadata": {},
   "outputs": [],
   "source": [
    "# no high-mito\n",
    "\n",
    "res <- data.table::fread('../results/markers/markers.nohighmito.csv', data.table = F) %>% mutate(V1=NULL, anno_cluster_fct=factor(anno_cluster_fct, cell.types.nohighmito))\n",
    "res <- subset(res, anno_cluster_fct !='High-mito')\n",
    "\n",
    "# RG early\n",
    "res.rge <- data.table::fread('../results/markers/markers.rge_phases.csv', data.table = F) %>% mutate(V1=NULL)"
   ]
  },
  {
   "cell_type": "markdown",
   "id": "e74af94d-8794-4d6e-93e4-b5ba18132be7",
   "metadata": {
    "jp-MarkdownHeadingCollapsed": true,
    "tags": []
   },
   "source": [
    "## Seurat markers per donor"
   ]
  },
  {
   "cell_type": "code",
   "execution_count": 43,
   "id": "f3dd4a2f-4a9c-4c0a-a1f9-fea1bd7cbf44",
   "metadata": {},
   "outputs": [],
   "source": [
    "# per donor no high-mito\n",
    "\n",
    "res.donors <- data.table::fread('../results/markers/markers_per_donor.nohighmito.csv', data.table = F) %>%\n",
    "    mutate(V1=NULL,\n",
    "           anno_cluster_fct=factor(anno_cluster_fct, cell.types.nohighmito),\n",
    "           donor=factor(donor, samples[samples%in%unique(donor)]))\n",
    "res.donors <- subset(res.donors, anno_cluster_fct !='High-mito')\n"
   ]
  },
  {
   "cell_type": "markdown",
   "id": "df96e004-9383-44f2-abd1-fdf2919b5601",
   "metadata": {
    "jp-MarkdownHeadingCollapsed": true,
    "tags": []
   },
   "source": [
    "## Pseudobulk markers"
   ]
  },
  {
   "cell_type": "code",
   "execution_count": 44,
   "id": "44e34be6-5196-43be-940f-4b1bf5ad48bb",
   "metadata": {},
   "outputs": [],
   "source": [
    "# rge\n",
    "pb.res <- data.table::fread('../results/markers_pseudobulk/neighbors_3_314/ASD_vs_Ctrl.csv', data.table = F) %>% mutate(V1=NULL)\n",
    "# phases\n",
    "pb.phase.res <- data.table::fread('../results/markers_pseudobulk/neighbors_3_314/ASD_vs_Ctrl_perPhase.csv', data.table = F) %>% mutate(V1=NULL)"
   ]
  },
  {
   "cell_type": "markdown",
   "id": "78a27e0e-2bd5-42ee-978d-8efd6c8a581b",
   "metadata": {
    "tags": []
   },
   "source": [
    "# Functions"
   ]
  },
  {
   "cell_type": "markdown",
   "id": "fc1c9641-dc59-4a28-908c-dcdf23a5115d",
   "metadata": {
    "jp-MarkdownHeadingCollapsed": true,
    "tags": []
   },
   "source": [
    "### Annotate"
   ]
  },
  {
   "cell_type": "code",
   "execution_count": 161,
   "id": "5200b1f6-924b-48dc-813b-b9a6438905de",
   "metadata": {},
   "outputs": [],
   "source": [
    "annotate_markers <- function(df, gene_var='gene', logfc_var='avg_log2FC',\n",
    "                             tfs = T, imprinting = T, chromosome=T, biotype=T,\n",
    "                             direction=T, ranking=T, pos='ASD', neg='Ctrl',\n",
    "                             extra_genesets = NULL, drop_existing=T){\n",
    "    \n",
    "    df$gene_var_temp <- df[,gene_var, drop=T]\n",
    "    \n",
    "    if (drop_existing){\n",
    "        drop.cols <- c(\n",
    "            'gene.is.tf', 'Imprinted.Status', 'Expressed.Allele', 'rank.Ctrl',\n",
    "            'rank.ASD', 'overexpressed.in', 'overexpressed.in.', 'av.in.monkey',\n",
    "            'chromosome', 'in.sex_chr', 'gene_biotype', 'protein_coding')\n",
    "        to.drop <- colnames(df)%in%drop.cols\n",
    "        if (sum(to.drop)>0){\n",
    "            message(glue::glue('Dropping [{paste0(colnames(df)[to.drop], collapse=\", \")}]'))\n",
    "            df <- df[,!to.drop]\n",
    "        }\n",
    "    }\n",
    "    \n",
    "    if (direction | ranking){\n",
    "        df$logfc_var_temp <- df[,logfc_var, drop=T]\n",
    "    }\n",
    "    \n",
    "    if (tfs){\n",
    "        # TF genes\n",
    "        df$gene.is.tf  <- df$gene_var_temp %in% tf.genes\n",
    "    }\n",
    "    \n",
    "    if (imprinting){\n",
    "        # Imprinting data\n",
    "        df <- merge(df, imprinted.df, by='gene', all.x=T, all.y=F)\n",
    "        # Set NAs\n",
    "        df[, colnames(df)%in%colnames(imprinted.df)][is.na(df[, colnames(df)%in%colnames(imprinted.df)])] <- 'Not in DB'\n",
    "        # table(df$Imprinted.Status)\n",
    "    }\n",
    "    \n",
    "    if (biotype){\n",
    "        # biotype/protein_coding data\n",
    "        df <- merge(df, gene_type.df, by.x='gene', by.y='hgnc_symbol', all.x=T, all.y=F)\n",
    "        # Set NAs\n",
    "        df[is.na(df$protein_coding),'protein_coding'] <- F\n",
    "        df[, colnames(df)%in%colnames(gene_type.df)][is.na(df[, colnames(df)%in%colnames(gene_type.df)])] <- 'Not in DB'\n",
    "        # table(df$Imprinted.Status)\n",
    "    }\n",
    "    \n",
    "    # Direction and rank\n",
    "    if (direction){\n",
    "        df$overexpressed.in <- plyr::mapvalues(x = sign(df$logfc_var_temp), from=c(1,-1,0), to=c(pos, neg, 'None'))\n",
    "    }\n",
    "    if (ranking){\n",
    "        df <- df %>% ungroup() %>% mutate(rank.pos = ifelse(logfc_var_temp>0, rank(desc(logfc_var_temp)), Inf),\n",
    "                                          rank.neg = ifelse(logfc_var_temp<0, rank(logfc_var_temp), Inf))\n",
    "        colnames(df) <- colnames(df) %>% \n",
    "            gsub(pattern='rank.neg', replacement=paste0('rank.', neg)) %>% \n",
    "            gsub(pattern='rank.pos', replacement=paste0('rank.', pos))\n",
    "    }\n",
    "\n",
    "\n",
    "    if (!is.null(extra_genesets)){\n",
    "        # Extra boolean columns\n",
    "        for (col in names(extra_genesets)){\n",
    "            df[,col] <- df$gene_var_temp %in% extra_genesets[[col]]\n",
    "        }\n",
    "    }\n",
    "    \n",
    "    if (chromosome){\n",
    "        # Chromosome\n",
    "        df <- merge(df, chr_df, by.x='gene', by.y='hgnc_symbol', all.x=T, all.y=F) %>% dplyr::rename(chromosome=chr)\n",
    "\n",
    "        # Sex chromosomes' genes\n",
    "        df$in.sex_chr <- df$gene_var_temp %in% sex_chr.genes\n",
    "    }\n",
    "    \n",
    "    return(df[,-grep('_var_temp', colnames(df))])\n",
    "}"
   ]
  },
  {
   "cell_type": "markdown",
   "id": "767a8ee1-bec7-4ec3-aa33-a494c18cbeae",
   "metadata": {
    "jp-MarkdownHeadingCollapsed": true,
    "tags": []
   },
   "source": [
    "### Report"
   ]
  },
  {
   "cell_type": "code",
   "execution_count": 162,
   "id": "4832506d-6e47-4631-bf9d-c0b246ee094e",
   "metadata": {},
   "outputs": [],
   "source": [
    "report.markers <- function(df, by.group=NULL){\n",
    "    if (is.null(by.group)){\n",
    "        message(paste('Number of genes:', length(unique(df$gene))))\n",
    "    } else {\n",
    "        # print('Reporting with group')\n",
    "        lapply(split(df, as.character(df[,by.group, drop=T])), function(df){\n",
    "            tag <- df[1,by.group] \n",
    "            message(paste0('Number of genes in ', tag, ': ', length(unique(df$gene))))\n",
    "        })\n",
    "    }\n",
    "    return()\n",
    "}"
   ]
  },
  {
   "cell_type": "markdown",
   "id": "8b3a33ef-5c51-4b62-85cb-2b12bd46db22",
   "metadata": {
    "jp-MarkdownHeadingCollapsed": true,
    "tags": []
   },
   "source": [
    "### Filter top"
   ]
  },
  {
   "cell_type": "code",
   "execution_count": 163,
   "id": "9e2cf33c-c03c-4262-9025-01a30ced15ca",
   "metadata": {},
   "outputs": [],
   "source": [
    "subset.top <- function(df, topby='pval', topn=30, by.group=NULL){\n",
    "\n",
    "    if (is.null(by.group)){\n",
    "        if (topby == 'pval'){\n",
    "            if (!'pval'%in%colnames(df)){stop('wtf')}\n",
    "            df <- df %>% slice_min(p_val, n=topn, with_ties = F) \n",
    "        } else if (topby == 'logfc'){\n",
    "            if (!'logfc'%in%colnames(df)){stop('wtf')}\n",
    "            df <- df %>% slice_max(abs(logfc), n=topn, with_ties = F)\n",
    "        } else {\n",
    "            stop('Valid topby: pval, logfc')\n",
    "        }\n",
    "        return(df)\n",
    "        \n",
    "    } else {\n",
    "        df <- do.call('rbind',lapply(\n",
    "            split(df, apply(df[,by.group, drop=F], 1, paste, collapse=' ')),\n",
    "            function(gr.df){\n",
    "                ddf <- subset.top(gr.df,\n",
    "                                  topby=topby, \n",
    "                                  topn=topn, \n",
    "                                  by.group=NULL)\n",
    "                return(ddf)\n",
    "                })) %>% as.data.frame()\n",
    "        rownames(df) <- NULL\n",
    "        return(df)\n",
    "    }}\n",
    "\n",
    "saveRDS(subset.top, '../data/subset.top.fun.rds')"
   ]
  },
  {
   "cell_type": "markdown",
   "id": "139edaf6-758b-47b3-8e31-e1b15b8d1a70",
   "metadata": {
    "jp-MarkdownHeadingCollapsed": true,
    "tags": []
   },
   "source": [
    "### Filter pct of condition"
   ]
  },
  {
   "cell_type": "code",
   "execution_count": 164,
   "id": "62d018f9-4222-4cdc-8957-4bbf3bdb6374",
   "metadata": {},
   "outputs": [],
   "source": [
    "get.exp.data <- function(seu, features, ...){\n",
    "    # print('ñ1')\n",
    "    d <- Seurat::DotPlot(object = seu, features = unique(features), ...)$data\n",
    "    # print('ñ2')\n",
    "    return(d)\n",
    "}"
   ]
  },
  {
   "cell_type": "code",
   "execution_count": 165,
   "id": "6a550158-6f3c-475b-b349-c301ca29a74a",
   "metadata": {},
   "outputs": [],
   "source": [
    "get.genes.fraction.cond.samples.over.controls <- function(\n",
    "    exp.data, \n",
    "    id_conditions,\n",
    "    control.cond = 'Ctrl',\n",
    "    summary.function = median,\n",
    "    fr.cond.over.control = 1\n",
    "    \n",
    "){\n",
    "    \n",
    "    exp.data <- exp.data %>% mutate(condition=plyr::mapvalues(id, from=names(id_conditions), to=id_conditions))\n",
    "\n",
    "    control.stats <- subset(exp.data, condition == control.cond) %>% group_by(features.plot, condition) %>% summarise_at(summary.function, .vars=vars(avg.exp, pct.exp, avg.exp.scaled))\n",
    "\n",
    "    exp.data <- merge(\n",
    "        subset(exp.data, condition != control.cond),\n",
    "        control.stats, by='features.plot', \n",
    "        suffixes=c('','.ctrl'))\n",
    "\n",
    "    cond.summary <- exp.data %>% mutate(\n",
    "        avg.exp.diff = avg.exp - avg.exp.ctrl,\n",
    "        pct.exp.diff = pct.exp - pct.exp.ctrl,\n",
    "        avg.exp.scaled.diff = avg.exp.scaled - avg.exp.scaled.ctrl) %>%\n",
    "    group_by(features.plot) %>%\n",
    "    summarise(\n",
    "        avg.exp.cond.over.control = mean(avg.exp.diff > 0),\n",
    "        pct.exp.cond.over.control = mean(pct.exp.diff > 0),\n",
    "        avg.exp.scaled.cond.over.control = mean(avg.exp.scaled.diff > 0))\n",
    "\n",
    "    genes.over <- as.character(cond.summary[,1, drop=T][(cond.summary[,-1]>=fr.cond.over.control) %>% apply(MARGIN = 1, FUN = all)])    \n",
    "    \n",
    "    return(genes.over)\n",
    "}"
   ]
  },
  {
   "cell_type": "code",
   "execution_count": 166,
   "id": "ebab8609-5688-47f8-bc79-802f79ceb534",
   "metadata": {},
   "outputs": [],
   "source": [
    "filter.condition.comparison <- function(res, seu,\n",
    "                                        id_conditions,\n",
    "                                        by.group = 'anno_cluster',\n",
    "                                        id.sample = 'cell_origin',\n",
    "                                        group.var = 'anno_cluster',\n",
    "                                        \n",
    "                                        control.cond = 'Ctrl',\n",
    "                                        test.cond = 'ASD',\n",
    "                                        summary.function = median,\n",
    "                                        fr.cond.over.control = 1, \n",
    "                                        topn=20, topby='logfc',\n",
    "                                        consistent.logfc = T){\n",
    "    if (is.null(by.group)){\n",
    "        res$temp_id <- 'temp'\n",
    "        by.group <- 'temp_id'\n",
    "        \n",
    "    } else {\n",
    "        res$temp_id <- res[,by.group]\n",
    "    }\n",
    "    \n",
    "    # if (is.null(group.var)){\n",
    "    #     group.var <- 'temp_id'\n",
    "    #     seu$temp_id <- 'temp'\n",
    "    # } \n",
    "\n",
    "    list.markers <- split(res$gene, res$temp_id)\n",
    "    list.markers <- list.markers[sapply(list.markers, length)!=0]\n",
    "    \n",
    "    exp.data.list <- lapply(\n",
    "        names(list.markers),\n",
    "        function(cl){\n",
    "            message(cl)\n",
    "            subseu <- if(is.null(group.var)){seu}else{seu[, FetchData(seu, group.var) == cl]}\n",
    "            get.exp.data(\n",
    "                subseu,\n",
    "                # subset(seu, anno_cluster == cl),\n",
    "                list.markers[[cl]],\n",
    "                group.by=id.sample) %>% mutate(cluster=cl)\n",
    "            })\n",
    "    # print('2')\n",
    "    \n",
    "    res.test <- do.call('rbind', lapply(\n",
    "        exp.data.list,\n",
    "        function(exp.data){\n",
    "            valid.genes <- get.genes.fraction.cond.samples.over.controls(\n",
    "                exp.data, \n",
    "                control.cond = control.cond,\n",
    "                fr.cond.over.control=fr.cond.over.control,\n",
    "                summary.function = summary.function,\n",
    "                id_conditions = id_conditions)\n",
    "            cl <- unique(exp.data[,'cluster',drop=T])[1]\n",
    "            clres <- res[(res[, by.group, drop=T]==cl)&(res$gene%in%valid.genes),]\n",
    "            # message(paste(cl, length(valid.genes)))\n",
    "            return(clres)\n",
    "\n",
    "        })) %>% as.data.frame()\n",
    "    \n",
    "    res.control <- do.call('rbind', lapply(\n",
    "        exp.data.list,\n",
    "        function(exp.data){\n",
    "            valid.genes <- get.genes.fraction.cond.samples.over.controls(\n",
    "                exp.data, \n",
    "                control.cond = test.cond,\n",
    "                fr.cond.over.control=fr.cond.over.control,\n",
    "                summary.function = summary.function,\n",
    "                id_conditions = id_conditions)\n",
    "            cl <- unique(exp.data[,'cluster',drop=T])[1]\n",
    "            clres <- res[(res[, by.group, drop=T]==cl)&(res$gene%in%valid.genes),]\n",
    "            # message(paste(cl, length(valid.genes)))\n",
    "            return(clres)\n",
    "\n",
    "        })) %>% as.data.frame()\n",
    "    \n",
    "    print(paste(test.cond,'markers'))\n",
    "    report.markers(res.test, by.group=by.group)\n",
    "    print(paste(control.cond,'markers'))\n",
    "    report.markers(res.control, by.group=by.group)\n",
    "    \n",
    "    if (consistent.logfc){\n",
    "        print('Filtering genes with consistent test/control logFC')\n",
    "        res.test <- res.test %>% subset(logfc>0)         \n",
    "        res.control <- res.control %>% subset(logfc<0)\n",
    "        print('Test condition')\n",
    "        report.markers(res.test, by.group=by.group)\n",
    "        print('Control condition')\n",
    "        report.markers(res.control, by.group=by.group)\n",
    "    }\n",
    "    \n",
    "    if (is.finite(topn)){\n",
    "        print(paste('Filtering top-n:', topn, ', by: ', topby))\n",
    "        res.test <- res.test %>% subset.top(topby=topby, topn=topn, by.group=by.group)\n",
    "        res.control <- res.control %>% subset.top(topby=topby, topn=topn, by.group=by.group)\n",
    "        print('Test condition')\n",
    "        report.markers(res.test, by.group=by.group)\n",
    "        print('Control condition')\n",
    "        report.markers(res.control, by.group=by.group)\n",
    "    }\n",
    "    \n",
    "    filt.res <- rbind(res.test, res.control)\n",
    "    rownames(filt.res) <- NULL\n",
    "    \n",
    "    res$temp_id <- NULL\n",
    "    \n",
    "    return(filt.res)\n",
    "    \n",
    "}"
   ]
  },
  {
   "cell_type": "markdown",
   "id": "afaa8436-658d-4fbd-a5b9-5f424fbaa63f",
   "metadata": {
    "tags": []
   },
   "source": [
    "### Filter general function"
   ]
  },
  {
   "cell_type": "code",
   "execution_count": 167,
   "id": "83bff480-d770-4f27-a1a1-b39cb0599a89",
   "metadata": {},
   "outputs": [],
   "source": [
    "filter.marker.genes <- function(res, seu = NULL,\n",
    "                                by.group = 'anno_cluster',\n",
    "                                group.var = 'anno_cluster',\n",
    "                                \n",
    "                                p_val_thres = 0.05,\n",
    "                                p_val_var = 'p_val',\n",
    "                                logfc_var = 'avg_log2FC',\n",
    "                                logfc_thres = NULL,\n",
    "                                pct.exp.thres = 0.05,\n",
    "                                pct.exp.diff.thres = 0.05,\n",
    "                                \n",
    "                                topn=Inf,\n",
    "                                topby='logfc', \n",
    "\n",
    "                                compare.conditions = T,\n",
    "                                \n",
    "                                id_conditions=NULL,\n",
    "                                id.sample = 'cell_origin',\n",
    "                                control.cond = 'Ctrl',\n",
    "                                test.cond = 'ASD',\n",
    "                                summary.function = mean,\n",
    "                                fr.cond.over.control = 1, \n",
    "                                comp.topn=Inf, \n",
    "                                comp.topby='logfc',\n",
    "                                consistent.logfc = T,                             \n",
    "                                \n",
    "                                return_full = F){\n",
    "    \n",
    "    \n",
    "    res$logfc <- res[,logfc_var]\n",
    "\n",
    "    if (return_full){\n",
    "        res$filt.index <- 1:nrow(res)\n",
    "    }\n",
    "    \n",
    "    filt.res <- res %>% arrange(desc(logfc))\n",
    "    \n",
    "    report.markers(filt.res, by.group=by.group)\n",
    "    \n",
    "    if (!is.null(p_val_thres)){\n",
    "        print(paste('Filtering by p_val:', p_val_thres))\n",
    "        filt.res <- filt.res[!is.na(filt.res[ ,p_val_var]), ]\n",
    "        filt.res <- filt.res[filt.res[ ,p_val_var] <= p_val_thres, ]\n",
    "        report.markers(filt.res, by.group=by.group)\n",
    "    }\n",
    "            \n",
    "    if (!is.null(logfc_thres)){\n",
    "        print(paste('Filtering by logFC:', as.character(logfc_thres)))\n",
    "        filt.res <- filt.res[!is.na(filt.res[ ,'logfc']), ]\n",
    "        filt.res <- filt.res[abs(filt.res[ ,'logfc']) >= logfc_thres, ]\n",
    "        report.markers(filt.res, by.group=by.group)\n",
    "    }\n",
    "        \n",
    "    if (!is.null(pct.exp.thres)){\n",
    "        print(paste('Filtering by pct of expressing cells:', pct.exp.thres))\n",
    "        \n",
    "        filt.res <- filt.res[ifelse(\n",
    "            sign(filt.res$logfc) == 1,\n",
    "            filt.res$pct.1 >= pct.exp.thres,\n",
    "            filt.res$pct.2 >= pct.exp.thres), ]\n",
    "        report.markers(filt.res, by.group=by.group)\n",
    "    }\n",
    "        \n",
    "    if (!is.null(pct.exp.diff.thres)){\n",
    "        print(paste('Filtering by difference of pct of expressing cells:', pct.exp.diff.thres))\n",
    "        \n",
    "        filt.res <- filt.res[ifelse(\n",
    "            sign(filt.res$logfc) == 1,\n",
    "            (filt.res$pct.1 - filt.res$pct.2 >= pct.exp.diff.thres)| (filt.res$pct.2==0),\n",
    "            (filt.res$pct.2 - filt.res$pct.1 >= pct.exp.diff.thres)| (filt.res$pct.1==0)), ]\n",
    "        report.markers(filt.res, by.group=by.group)\n",
    "    }\n",
    "        \n",
    "    if (is.finite(topn)){\n",
    "        print(paste('Filtering top-n:', topn, ', by: ', topby))\n",
    "        filt.res <- subset.top(filt.res, topby=topby, topn=topn, by.group = by.group)\n",
    "        report.markers(filt.res, by.group=by.group)\n",
    "    }\n",
    "    if (compare.conditions){\n",
    "        print(paste('Comparison of conditions:', test.cond, control.cond))\n",
    "        filt.res <- filter.condition.comparison(\n",
    "            res=filt.res, seu=seu,\n",
    "            id_conditions=id_conditions,\n",
    "            by.group = by.group, \n",
    "            group.var = group.var,\n",
    "            id.sample = id.sample,\n",
    "            control.cond = control.cond,\n",
    "            test.cond = test.cond,\n",
    "            summary.function = summary.function,\n",
    "            fr.cond.over.control = fr.cond.over.control, \n",
    "            topn=comp.topn, topby=comp.topby,\n",
    "            consistent.logfc = consistent.logfc)\n",
    "\n",
    "        print('After condition comparison')\n",
    "        report.markers(filt.res, by.group=by.group)\n",
    "    }\n",
    "    \n",
    "    \n",
    "    if (!return_full){\n",
    "        return(filt.res)\n",
    "    } else {\n",
    "        return(\n",
    "            res %>% mutate(\n",
    "                filter.ok = filt.index %in% unique(filt.res$filt.index),\n",
    "                filt.index = NULL)\n",
    "            )\n",
    "    }\n",
    "}"
   ]
  },
  {
   "cell_type": "code",
   "execution_count": 168,
   "id": "c75bc364-4db3-42e7-b4ac-68137e3ac739",
   "metadata": {},
   "outputs": [
    {
     "data": {
      "text/html": [
       "2"
      ],
      "text/latex": [
       "2"
      ],
      "text/markdown": [
       "2"
      ],
      "text/plain": [
       "[1] 2"
      ]
     },
     "metadata": {},
     "output_type": "display_data"
    }
   ],
   "source": [
    "second.lowest <- function(x,how.many.lower=2){x[order(x)][how.many.lower]}\n",
    "second.lowest(c(1,2,3,4,10,3,4,5))"
   ]
  },
  {
   "cell_type": "code",
   "execution_count": 169,
   "id": "a00311c1-a0ba-4520-b943-9c19c27ebbca",
   "metadata": {},
   "outputs": [],
   "source": [
    "## Tests that we want to run\n",
    "\n",
    "# pvalue\n",
    "# always 0.05 and adjusted\n",
    "\n",
    "# top filtering: None\n",
    "# sorting: log2fc\n",
    "\n",
    "# minimum pct in the overexpressing group: 5%\n",
    "\n",
    "# condition comparisons\n",
    "# 2/3 > 2/3 # at least two of three have bigger expression than 2 of 3 from the other group\n",
    "# 3/3 > 3/3 # all of them have bigger expression than all the other group\n",
    "# 2/3 > 3/3 # at least two have bigger expression than all the other group\n",
    "\n",
    "\n",
    "all_tests <- function(res, p_val_var = 'p_val_adj', ...){\n",
    "    \n",
    "    fixed.args <- list(\n",
    "        p_val_var = p_val_var,\n",
    "        p_val_thres = 0.05,\n",
    "        \n",
    "        \n",
    "        topn=Inf,\n",
    "        topby='logfc', \n",
    "        pct.exp.diff.thres = 0.1,\n",
    "        pct.exp.thres = .1,\n",
    "        logfc_thres = .5,\n",
    "\n",
    "        compare.conditions = T,\n",
    "        id.sample = 'cell_origin',\n",
    "        control.cond = 'Ctrl',\n",
    "        id_conditions=id_conditions,\n",
    "        test.cond = 'ASD',\n",
    "        comp.topn=Inf, \n",
    "        comp.topby='logfc',\n",
    "        consistent.logfc = T,\n",
    "        return_full = T\n",
    "    )\n",
    "    \n",
    "    iter.args <- list(\n",
    "        filter.2of3.over.2of3 = list(summary.function = second.lowest, fr.cond.over.control = 2/3),\n",
    "        filter.2of3.over.max = list(summary.function = max, fr.cond.over.control = 2/3),\n",
    "        filter.all.over.2of3 = list(summary.function = second.lowest, fr.cond.over.control = 3/3),\n",
    "        filter.all.over.max = list(summary.function = max, fr.cond.over.control = 3/3)\n",
    "    )\n",
    "\n",
    "    provided.args <- list(...)\n",
    "    \n",
    "    \n",
    "    for (filt in (names(iter.args))){\n",
    "        for(i in 1:3){print(paste(rep('#', 60), collapse=''))}\n",
    "        message(filt)\n",
    "        for(i in 1:3){print(paste(rep('#', 60), collapse=''))}\n",
    "\n",
    "        iargs <- c(iter.args[[filt]], fixed.args)\n",
    "        for (i in names(provided.args)){\n",
    "            iargs[i] <- provided.args[i]\n",
    "        }\n",
    "        \n",
    "        # return(iargs)\n",
    "        # return(paste(paste(names(iargs), as.character(iargs), sep=\"=\"), collapse=\", \"))\n",
    "        rlang::exec(.fn = filter.marker.genes, res=res, !!!iargs) -> res\n",
    "        colnames(res) <- ifelse(colnames(res)=='filter.ok', filt, colnames(res))\n",
    "        \n",
    "    }\n",
    "\n",
    "    return(res)\n",
    "}\n"
   ]
  },
  {
   "cell_type": "markdown",
   "id": "f195a1f6-5039-4471-881b-68d320414d60",
   "metadata": {
    "jp-MarkdownHeadingCollapsed": true,
    "tags": []
   },
   "source": [
    "# Whole data"
   ]
  },
  {
   "cell_type": "code",
   "execution_count": 170,
   "id": "caf4b4aa-2ab9-439e-9b87-0be060efd423",
   "metadata": {
    "tags": []
   },
   "outputs": [
    {
     "name": "stderr",
     "output_type": "stream",
     "text": [
      "Dropping [gene.is.tf, Imprinted.Status, Expressed.Allele, rank.Ctrl, rank.ASD, overexpressed.in., av.in.monkey, chromosome, in.sex_chr]\n",
      "\n"
     ]
    }
   ],
   "source": [
    "filt.res <- annotate_markers(res)"
   ]
  },
  {
   "cell_type": "code",
   "execution_count": 171,
   "id": "5acfc77d-79f6-44de-8e5a-58259a5755c8",
   "metadata": {
    "scrolled": true,
    "tags": []
   },
   "outputs": [
    {
     "name": "stdout",
     "output_type": "stream",
     "text": [
      "[1] \"############################################################\"\n",
      "[1] \"############################################################\"\n",
      "[1] \"############################################################\"\n"
     ]
    },
    {
     "name": "stderr",
     "output_type": "stream",
     "text": [
      "filter.2of3.over.2of3\n",
      "\n"
     ]
    },
    {
     "name": "stdout",
     "output_type": "stream",
     "text": [
      "[1] \"############################################################\"\n",
      "[1] \"############################################################\"\n",
      "[1] \"############################################################\"\n"
     ]
    },
    {
     "name": "stderr",
     "output_type": "stream",
     "text": [
      "Number of genes in FGF17-like: 37733\n",
      "\n",
      "Number of genes in Mes prog: 37733\n",
      "\n",
      "Number of genes in Neral crest/Mes: 37733\n",
      "\n",
      "Number of genes in Neuron: 37733\n",
      "\n",
      "Number of genes in RG early: 37733\n",
      "\n",
      "Number of genes in RG late: 37733\n",
      "\n"
     ]
    },
    {
     "name": "stdout",
     "output_type": "stream",
     "text": [
      "[1] \"Filtering by p_val: 0.05\"\n"
     ]
    },
    {
     "name": "stderr",
     "output_type": "stream",
     "text": [
      "Number of genes in Mes prog: 1423\n",
      "\n",
      "Number of genes in Neral crest/Mes: 51\n",
      "\n",
      "Number of genes in Neuron: 79\n",
      "\n",
      "Number of genes in RG early: 3821\n",
      "\n",
      "Number of genes in RG late: 242\n",
      "\n"
     ]
    },
    {
     "name": "stdout",
     "output_type": "stream",
     "text": [
      "[1] \"Filtering by logFC: 0.5\"\n"
     ]
    },
    {
     "name": "stderr",
     "output_type": "stream",
     "text": [
      "Number of genes in Mes prog: 13\n",
      "\n",
      "Number of genes in Neral crest/Mes: 31\n",
      "\n",
      "Number of genes in Neuron: 30\n",
      "\n",
      "Number of genes in RG early: 11\n",
      "\n",
      "Number of genes in RG late: 17\n",
      "\n"
     ]
    },
    {
     "name": "stdout",
     "output_type": "stream",
     "text": [
      "[1] \"Filtering by pct of expressing cells: 0.1\"\n"
     ]
    },
    {
     "name": "stderr",
     "output_type": "stream",
     "text": [
      "Number of genes in Mes prog: 13\n",
      "\n",
      "Number of genes in Neral crest/Mes: 31\n",
      "\n",
      "Number of genes in Neuron: 30\n",
      "\n",
      "Number of genes in RG early: 11\n",
      "\n",
      "Number of genes in RG late: 17\n",
      "\n"
     ]
    },
    {
     "name": "stdout",
     "output_type": "stream",
     "text": [
      "[1] \"Filtering by difference of pct of expressing cells: 0.1\"\n"
     ]
    },
    {
     "name": "stderr",
     "output_type": "stream",
     "text": [
      "Number of genes in Mes prog: 11\n",
      "\n",
      "Number of genes in Neral crest/Mes: 13\n",
      "\n",
      "Number of genes in Neuron: 23\n",
      "\n",
      "Number of genes in RG early: 9\n",
      "\n",
      "Number of genes in RG late: 14\n",
      "\n"
     ]
    },
    {
     "name": "stdout",
     "output_type": "stream",
     "text": [
      "[1] \"Comparison of conditions: ASD Ctrl\"\n"
     ]
    },
    {
     "name": "stderr",
     "output_type": "stream",
     "text": [
      "Mes prog\n",
      "\n",
      "RG early\n",
      "\n",
      "RG late\n",
      "\n",
      "Neral crest/Mes\n",
      "\n",
      "Neuron\n",
      "\n",
      "The following `from` values were not present in `x`: D8_Ctrl_317\n",
      "\n",
      "The following `from` values were not present in `x`: D8_Ctrl_317\n",
      "\n"
     ]
    },
    {
     "name": "stdout",
     "output_type": "stream",
     "text": [
      "[1] \"ASD markers\"\n"
     ]
    },
    {
     "name": "stderr",
     "output_type": "stream",
     "text": [
      "Number of genes in Mes prog: 7\n",
      "\n",
      "Number of genes in Neral crest/Mes: 3\n",
      "\n",
      "Number of genes in Neuron: 10\n",
      "\n",
      "Number of genes in RG early: 7\n",
      "\n",
      "Number of genes in RG late: 11\n",
      "\n"
     ]
    },
    {
     "name": "stdout",
     "output_type": "stream",
     "text": [
      "[1] \"Ctrl markers\"\n"
     ]
    },
    {
     "name": "stderr",
     "output_type": "stream",
     "text": [
      "Number of genes in Mes prog: 4\n",
      "\n",
      "Number of genes in Neral crest/Mes: 6\n",
      "\n",
      "Number of genes in Neuron: 11\n",
      "\n",
      "Number of genes in RG early: 2\n",
      "\n",
      "Number of genes in RG late: 3\n",
      "\n"
     ]
    },
    {
     "name": "stdout",
     "output_type": "stream",
     "text": [
      "[1] \"Filtering genes with consistent test/control logFC\"\n",
      "[1] \"Test condition\"\n"
     ]
    },
    {
     "name": "stderr",
     "output_type": "stream",
     "text": [
      "Number of genes in Mes prog: 6\n",
      "\n",
      "Number of genes in Neral crest/Mes: 3\n",
      "\n",
      "Number of genes in Neuron: 10\n",
      "\n",
      "Number of genes in RG early: 7\n",
      "\n",
      "Number of genes in RG late: 11\n",
      "\n"
     ]
    },
    {
     "name": "stdout",
     "output_type": "stream",
     "text": [
      "[1] \"Control condition\"\n"
     ]
    },
    {
     "name": "stderr",
     "output_type": "stream",
     "text": [
      "Number of genes in Mes prog: 3\n",
      "\n",
      "Number of genes in Neral crest/Mes: 6\n",
      "\n",
      "Number of genes in Neuron: 10\n",
      "\n",
      "Number of genes in RG early: 2\n",
      "\n",
      "Number of genes in RG late: 3\n",
      "\n"
     ]
    },
    {
     "name": "stdout",
     "output_type": "stream",
     "text": [
      "[1] \"After condition comparison\"\n"
     ]
    },
    {
     "name": "stderr",
     "output_type": "stream",
     "text": [
      "Number of genes in Mes prog: 9\n",
      "\n",
      "Number of genes in Neral crest/Mes: 9\n",
      "\n",
      "Number of genes in Neuron: 20\n",
      "\n",
      "Number of genes in RG early: 9\n",
      "\n",
      "Number of genes in RG late: 14\n",
      "\n"
     ]
    },
    {
     "name": "stdout",
     "output_type": "stream",
     "text": [
      "[1] \"############################################################\"\n",
      "[1] \"############################################################\"\n",
      "[1] \"############################################################\"\n"
     ]
    },
    {
     "name": "stderr",
     "output_type": "stream",
     "text": [
      "filter.2of3.over.max\n",
      "\n"
     ]
    },
    {
     "name": "stdout",
     "output_type": "stream",
     "text": [
      "[1] \"############################################################\"\n",
      "[1] \"############################################################\"\n",
      "[1] \"############################################################\"\n"
     ]
    },
    {
     "name": "stderr",
     "output_type": "stream",
     "text": [
      "Number of genes in FGF17-like: 37733\n",
      "\n",
      "Number of genes in Mes prog: 37733\n",
      "\n",
      "Number of genes in Neral crest/Mes: 37733\n",
      "\n",
      "Number of genes in Neuron: 37733\n",
      "\n",
      "Number of genes in RG early: 37733\n",
      "\n",
      "Number of genes in RG late: 37733\n",
      "\n"
     ]
    },
    {
     "name": "stdout",
     "output_type": "stream",
     "text": [
      "[1] \"Filtering by p_val: 0.05\"\n"
     ]
    },
    {
     "name": "stderr",
     "output_type": "stream",
     "text": [
      "Number of genes in Mes prog: 1423\n",
      "\n",
      "Number of genes in Neral crest/Mes: 51\n",
      "\n",
      "Number of genes in Neuron: 79\n",
      "\n",
      "Number of genes in RG early: 3821\n",
      "\n",
      "Number of genes in RG late: 242\n",
      "\n"
     ]
    },
    {
     "name": "stdout",
     "output_type": "stream",
     "text": [
      "[1] \"Filtering by logFC: 0.5\"\n"
     ]
    },
    {
     "name": "stderr",
     "output_type": "stream",
     "text": [
      "Number of genes in Mes prog: 13\n",
      "\n",
      "Number of genes in Neral crest/Mes: 31\n",
      "\n",
      "Number of genes in Neuron: 30\n",
      "\n",
      "Number of genes in RG early: 11\n",
      "\n",
      "Number of genes in RG late: 17\n",
      "\n"
     ]
    },
    {
     "name": "stdout",
     "output_type": "stream",
     "text": [
      "[1] \"Filtering by pct of expressing cells: 0.1\"\n"
     ]
    },
    {
     "name": "stderr",
     "output_type": "stream",
     "text": [
      "Number of genes in Mes prog: 13\n",
      "\n",
      "Number of genes in Neral crest/Mes: 31\n",
      "\n",
      "Number of genes in Neuron: 30\n",
      "\n",
      "Number of genes in RG early: 11\n",
      "\n",
      "Number of genes in RG late: 17\n",
      "\n"
     ]
    },
    {
     "name": "stdout",
     "output_type": "stream",
     "text": [
      "[1] \"Filtering by difference of pct of expressing cells: 0.1\"\n"
     ]
    },
    {
     "name": "stderr",
     "output_type": "stream",
     "text": [
      "Number of genes in Mes prog: 11\n",
      "\n",
      "Number of genes in Neral crest/Mes: 13\n",
      "\n",
      "Number of genes in Neuron: 23\n",
      "\n",
      "Number of genes in RG early: 9\n",
      "\n",
      "Number of genes in RG late: 14\n",
      "\n"
     ]
    },
    {
     "name": "stdout",
     "output_type": "stream",
     "text": [
      "[1] \"Comparison of conditions: ASD Ctrl\"\n"
     ]
    },
    {
     "name": "stderr",
     "output_type": "stream",
     "text": [
      "Mes prog\n",
      "\n",
      "RG early\n",
      "\n",
      "RG late\n",
      "\n",
      "Neral crest/Mes\n",
      "\n",
      "Neuron\n",
      "\n",
      "The following `from` values were not present in `x`: D8_Ctrl_317\n",
      "\n",
      "The following `from` values were not present in `x`: D8_Ctrl_317\n",
      "\n"
     ]
    },
    {
     "name": "stdout",
     "output_type": "stream",
     "text": [
      "[1] \"ASD markers\"\n"
     ]
    },
    {
     "name": "stderr",
     "output_type": "stream",
     "text": [
      "Number of genes in Mes prog: 4\n",
      "\n",
      "Number of genes in Neral crest/Mes: 3\n",
      "\n",
      "Number of genes in Neuron: 3\n",
      "\n",
      "Number of genes in RG early: 3\n",
      "\n",
      "Number of genes in RG late: 7\n",
      "\n"
     ]
    },
    {
     "name": "stdout",
     "output_type": "stream",
     "text": [
      "[1] \"Ctrl markers\"\n"
     ]
    },
    {
     "name": "stderr",
     "output_type": "stream",
     "text": [
      "Number of genes in Mes prog: 3\n",
      "\n",
      "Number of genes in Neral crest/Mes: 3\n",
      "\n",
      "Number of genes in Neuron: 6\n",
      "\n",
      "Number of genes in RG early: 2\n",
      "\n",
      "Number of genes in RG late: 1\n",
      "\n"
     ]
    },
    {
     "name": "stdout",
     "output_type": "stream",
     "text": [
      "[1] \"Filtering genes with consistent test/control logFC\"\n",
      "[1] \"Test condition\"\n"
     ]
    },
    {
     "name": "stderr",
     "output_type": "stream",
     "text": [
      "Number of genes in Mes prog: 4\n",
      "\n",
      "Number of genes in Neral crest/Mes: 3\n",
      "\n",
      "Number of genes in Neuron: 3\n",
      "\n",
      "Number of genes in RG early: 3\n",
      "\n",
      "Number of genes in RG late: 7\n",
      "\n"
     ]
    },
    {
     "name": "stdout",
     "output_type": "stream",
     "text": [
      "[1] \"Control condition\"\n"
     ]
    },
    {
     "name": "stderr",
     "output_type": "stream",
     "text": [
      "Number of genes in Mes prog: 3\n",
      "\n",
      "Number of genes in Neral crest/Mes: 3\n",
      "\n",
      "Number of genes in Neuron: 6\n",
      "\n",
      "Number of genes in RG early: 2\n",
      "\n",
      "Number of genes in RG late: 1\n",
      "\n"
     ]
    },
    {
     "name": "stdout",
     "output_type": "stream",
     "text": [
      "[1] \"After condition comparison\"\n"
     ]
    },
    {
     "name": "stderr",
     "output_type": "stream",
     "text": [
      "Number of genes in Mes prog: 7\n",
      "\n",
      "Number of genes in Neral crest/Mes: 6\n",
      "\n",
      "Number of genes in Neuron: 9\n",
      "\n",
      "Number of genes in RG early: 5\n",
      "\n",
      "Number of genes in RG late: 8\n",
      "\n"
     ]
    },
    {
     "name": "stdout",
     "output_type": "stream",
     "text": [
      "[1] \"############################################################\"\n",
      "[1] \"############################################################\"\n",
      "[1] \"############################################################\"\n"
     ]
    },
    {
     "name": "stderr",
     "output_type": "stream",
     "text": [
      "filter.all.over.2of3\n",
      "\n"
     ]
    },
    {
     "name": "stdout",
     "output_type": "stream",
     "text": [
      "[1] \"############################################################\"\n",
      "[1] \"############################################################\"\n",
      "[1] \"############################################################\"\n"
     ]
    },
    {
     "name": "stderr",
     "output_type": "stream",
     "text": [
      "Number of genes in FGF17-like: 37733\n",
      "\n",
      "Number of genes in Mes prog: 37733\n",
      "\n",
      "Number of genes in Neral crest/Mes: 37733\n",
      "\n",
      "Number of genes in Neuron: 37733\n",
      "\n",
      "Number of genes in RG early: 37733\n",
      "\n",
      "Number of genes in RG late: 37733\n",
      "\n"
     ]
    },
    {
     "name": "stdout",
     "output_type": "stream",
     "text": [
      "[1] \"Filtering by p_val: 0.05\"\n"
     ]
    },
    {
     "name": "stderr",
     "output_type": "stream",
     "text": [
      "Number of genes in Mes prog: 1423\n",
      "\n",
      "Number of genes in Neral crest/Mes: 51\n",
      "\n",
      "Number of genes in Neuron: 79\n",
      "\n",
      "Number of genes in RG early: 3821\n",
      "\n",
      "Number of genes in RG late: 242\n",
      "\n"
     ]
    },
    {
     "name": "stdout",
     "output_type": "stream",
     "text": [
      "[1] \"Filtering by logFC: 0.5\"\n"
     ]
    },
    {
     "name": "stderr",
     "output_type": "stream",
     "text": [
      "Number of genes in Mes prog: 13\n",
      "\n",
      "Number of genes in Neral crest/Mes: 31\n",
      "\n",
      "Number of genes in Neuron: 30\n",
      "\n",
      "Number of genes in RG early: 11\n",
      "\n",
      "Number of genes in RG late: 17\n",
      "\n"
     ]
    },
    {
     "name": "stdout",
     "output_type": "stream",
     "text": [
      "[1] \"Filtering by pct of expressing cells: 0.1\"\n"
     ]
    },
    {
     "name": "stderr",
     "output_type": "stream",
     "text": [
      "Number of genes in Mes prog: 13\n",
      "\n",
      "Number of genes in Neral crest/Mes: 31\n",
      "\n",
      "Number of genes in Neuron: 30\n",
      "\n",
      "Number of genes in RG early: 11\n",
      "\n",
      "Number of genes in RG late: 17\n",
      "\n"
     ]
    },
    {
     "name": "stdout",
     "output_type": "stream",
     "text": [
      "[1] \"Filtering by difference of pct of expressing cells: 0.1\"\n"
     ]
    },
    {
     "name": "stderr",
     "output_type": "stream",
     "text": [
      "Number of genes in Mes prog: 11\n",
      "\n",
      "Number of genes in Neral crest/Mes: 13\n",
      "\n",
      "Number of genes in Neuron: 23\n",
      "\n",
      "Number of genes in RG early: 9\n",
      "\n",
      "Number of genes in RG late: 14\n",
      "\n"
     ]
    },
    {
     "name": "stdout",
     "output_type": "stream",
     "text": [
      "[1] \"Comparison of conditions: ASD Ctrl\"\n"
     ]
    },
    {
     "name": "stderr",
     "output_type": "stream",
     "text": [
      "Mes prog\n",
      "\n",
      "RG early\n",
      "\n",
      "RG late\n",
      "\n",
      "Neral crest/Mes\n",
      "\n",
      "Neuron\n",
      "\n",
      "The following `from` values were not present in `x`: D8_Ctrl_317\n",
      "\n",
      "The following `from` values were not present in `x`: D8_Ctrl_317\n",
      "\n"
     ]
    },
    {
     "name": "stdout",
     "output_type": "stream",
     "text": [
      "[1] \"ASD markers\"\n"
     ]
    },
    {
     "name": "stderr",
     "output_type": "stream",
     "text": [
      "Number of genes in Mes prog: 6\n",
      "\n",
      "Number of genes in Neral crest/Mes: 1\n",
      "\n",
      "Number of genes in Neuron: 8\n",
      "\n",
      "Number of genes in RG early: 6\n",
      "\n",
      "Number of genes in RG late: 8\n",
      "\n"
     ]
    },
    {
     "name": "stdout",
     "output_type": "stream",
     "text": [
      "[1] \"Ctrl markers\"\n"
     ]
    },
    {
     "name": "stderr",
     "output_type": "stream",
     "text": [
      "Number of genes in Mes prog: 1\n",
      "\n",
      "Number of genes in Neral crest/Mes: 6\n",
      "\n",
      "Number of genes in Neuron: 6\n",
      "\n",
      "Number of genes in RG early: 1\n",
      "\n"
     ]
    },
    {
     "name": "stdout",
     "output_type": "stream",
     "text": [
      "[1] \"Filtering genes with consistent test/control logFC\"\n",
      "[1] \"Test condition\"\n"
     ]
    },
    {
     "name": "stderr",
     "output_type": "stream",
     "text": [
      "Number of genes in Mes prog: 6\n",
      "\n",
      "Number of genes in Neral crest/Mes: 1\n",
      "\n",
      "Number of genes in Neuron: 8\n",
      "\n",
      "Number of genes in RG early: 6\n",
      "\n",
      "Number of genes in RG late: 8\n",
      "\n"
     ]
    },
    {
     "name": "stdout",
     "output_type": "stream",
     "text": [
      "[1] \"Control condition\"\n"
     ]
    },
    {
     "name": "stderr",
     "output_type": "stream",
     "text": [
      "Number of genes in Mes prog: 1\n",
      "\n",
      "Number of genes in Neral crest/Mes: 6\n",
      "\n",
      "Number of genes in Neuron: 6\n",
      "\n",
      "Number of genes in RG early: 1\n",
      "\n"
     ]
    },
    {
     "name": "stdout",
     "output_type": "stream",
     "text": [
      "[1] \"After condition comparison\"\n"
     ]
    },
    {
     "name": "stderr",
     "output_type": "stream",
     "text": [
      "Number of genes in Mes prog: 7\n",
      "\n",
      "Number of genes in Neral crest/Mes: 7\n",
      "\n",
      "Number of genes in Neuron: 14\n",
      "\n",
      "Number of genes in RG early: 7\n",
      "\n",
      "Number of genes in RG late: 8\n",
      "\n"
     ]
    },
    {
     "name": "stdout",
     "output_type": "stream",
     "text": [
      "[1] \"############################################################\"\n",
      "[1] \"############################################################\"\n",
      "[1] \"############################################################\"\n"
     ]
    },
    {
     "name": "stderr",
     "output_type": "stream",
     "text": [
      "filter.all.over.max\n",
      "\n"
     ]
    },
    {
     "name": "stdout",
     "output_type": "stream",
     "text": [
      "[1] \"############################################################\"\n",
      "[1] \"############################################################\"\n",
      "[1] \"############################################################\"\n"
     ]
    },
    {
     "name": "stderr",
     "output_type": "stream",
     "text": [
      "Number of genes in FGF17-like: 37733\n",
      "\n",
      "Number of genes in Mes prog: 37733\n",
      "\n",
      "Number of genes in Neral crest/Mes: 37733\n",
      "\n",
      "Number of genes in Neuron: 37733\n",
      "\n",
      "Number of genes in RG early: 37733\n",
      "\n",
      "Number of genes in RG late: 37733\n",
      "\n"
     ]
    },
    {
     "name": "stdout",
     "output_type": "stream",
     "text": [
      "[1] \"Filtering by p_val: 0.05\"\n"
     ]
    },
    {
     "name": "stderr",
     "output_type": "stream",
     "text": [
      "Number of genes in Mes prog: 1423\n",
      "\n",
      "Number of genes in Neral crest/Mes: 51\n",
      "\n",
      "Number of genes in Neuron: 79\n",
      "\n",
      "Number of genes in RG early: 3821\n",
      "\n",
      "Number of genes in RG late: 242\n",
      "\n"
     ]
    },
    {
     "name": "stdout",
     "output_type": "stream",
     "text": [
      "[1] \"Filtering by logFC: 0.5\"\n"
     ]
    },
    {
     "name": "stderr",
     "output_type": "stream",
     "text": [
      "Number of genes in Mes prog: 13\n",
      "\n",
      "Number of genes in Neral crest/Mes: 31\n",
      "\n",
      "Number of genes in Neuron: 30\n",
      "\n",
      "Number of genes in RG early: 11\n",
      "\n",
      "Number of genes in RG late: 17\n",
      "\n"
     ]
    },
    {
     "name": "stdout",
     "output_type": "stream",
     "text": [
      "[1] \"Filtering by pct of expressing cells: 0.1\"\n"
     ]
    },
    {
     "name": "stderr",
     "output_type": "stream",
     "text": [
      "Number of genes in Mes prog: 13\n",
      "\n",
      "Number of genes in Neral crest/Mes: 31\n",
      "\n",
      "Number of genes in Neuron: 30\n",
      "\n",
      "Number of genes in RG early: 11\n",
      "\n",
      "Number of genes in RG late: 17\n",
      "\n"
     ]
    },
    {
     "name": "stdout",
     "output_type": "stream",
     "text": [
      "[1] \"Filtering by difference of pct of expressing cells: 0.1\"\n"
     ]
    },
    {
     "name": "stderr",
     "output_type": "stream",
     "text": [
      "Number of genes in Mes prog: 11\n",
      "\n",
      "Number of genes in Neral crest/Mes: 13\n",
      "\n",
      "Number of genes in Neuron: 23\n",
      "\n",
      "Number of genes in RG early: 9\n",
      "\n",
      "Number of genes in RG late: 14\n",
      "\n"
     ]
    },
    {
     "name": "stdout",
     "output_type": "stream",
     "text": [
      "[1] \"Comparison of conditions: ASD Ctrl\"\n"
     ]
    },
    {
     "name": "stderr",
     "output_type": "stream",
     "text": [
      "Mes prog\n",
      "\n",
      "RG early\n",
      "\n",
      "RG late\n",
      "\n",
      "Neral crest/Mes\n",
      "\n",
      "Neuron\n",
      "\n",
      "The following `from` values were not present in `x`: D8_Ctrl_317\n",
      "\n",
      "The following `from` values were not present in `x`: D8_Ctrl_317\n",
      "\n"
     ]
    },
    {
     "name": "stdout",
     "output_type": "stream",
     "text": [
      "[1] \"ASD markers\"\n"
     ]
    },
    {
     "name": "stderr",
     "output_type": "stream",
     "text": [
      "Number of genes in Mes prog: 3\n",
      "\n",
      "Number of genes in Neral crest/Mes: 1\n",
      "\n",
      "Number of genes in Neuron: 1\n",
      "\n",
      "Number of genes in RG early: 2\n",
      "\n",
      "Number of genes in RG late: 2\n",
      "\n"
     ]
    },
    {
     "name": "stdout",
     "output_type": "stream",
     "text": [
      "[1] \"Ctrl markers\"\n"
     ]
    },
    {
     "name": "stderr",
     "output_type": "stream",
     "text": [
      "Number of genes in Mes prog: 1\n",
      "\n",
      "Number of genes in Neral crest/Mes: 3\n",
      "\n",
      "Number of genes in Neuron: 2\n",
      "\n",
      "Number of genes in RG early: 1\n",
      "\n"
     ]
    },
    {
     "name": "stdout",
     "output_type": "stream",
     "text": [
      "[1] \"Filtering genes with consistent test/control logFC\"\n",
      "[1] \"Test condition\"\n"
     ]
    },
    {
     "name": "stderr",
     "output_type": "stream",
     "text": [
      "Number of genes in Mes prog: 3\n",
      "\n",
      "Number of genes in Neral crest/Mes: 1\n",
      "\n",
      "Number of genes in Neuron: 1\n",
      "\n",
      "Number of genes in RG early: 2\n",
      "\n",
      "Number of genes in RG late: 2\n",
      "\n"
     ]
    },
    {
     "name": "stdout",
     "output_type": "stream",
     "text": [
      "[1] \"Control condition\"\n"
     ]
    },
    {
     "name": "stderr",
     "output_type": "stream",
     "text": [
      "Number of genes in Mes prog: 1\n",
      "\n",
      "Number of genes in Neral crest/Mes: 3\n",
      "\n",
      "Number of genes in Neuron: 2\n",
      "\n",
      "Number of genes in RG early: 1\n",
      "\n"
     ]
    },
    {
     "name": "stdout",
     "output_type": "stream",
     "text": [
      "[1] \"After condition comparison\"\n"
     ]
    },
    {
     "name": "stderr",
     "output_type": "stream",
     "text": [
      "Number of genes in Mes prog: 4\n",
      "\n",
      "Number of genes in Neral crest/Mes: 4\n",
      "\n",
      "Number of genes in Neuron: 3\n",
      "\n",
      "Number of genes in RG early: 3\n",
      "\n",
      "Number of genes in RG late: 2\n",
      "\n"
     ]
    }
   ],
   "source": [
    "tryCatch(expr={all_tests(filt.res, seu=seu,\n",
    "                         by.group = 'anno_cluster_fct',\n",
    "                         group.var = 'anno_cluster')}, \n",
    "         cond=function(cond){print(as.character(cond)); return(cond)},\n",
    "         error=function(cond){print(as.character(cond)); return(cond)}) -> filt.res"
   ]
  },
  {
   "cell_type": "code",
   "execution_count": 172,
   "id": "45dc334d-939f-4af5-88c9-4fecdf124e3b",
   "metadata": {
    "tags": []
   },
   "outputs": [],
   "source": [
    "## Export\n",
    "write.csv(filt.res, '../results/selected_markers/markers_with_filters.nohighmito.csv')"
   ]
  },
  {
   "cell_type": "markdown",
   "id": "c69f2fd6-54a5-4811-9108-107f3d01fdaf",
   "metadata": {
    "jp-MarkdownHeadingCollapsed": true,
    "tags": []
   },
   "source": [
    "# RG early per Phase"
   ]
  },
  {
   "cell_type": "code",
   "execution_count": 173,
   "id": "5e501fe7-4603-4209-ab54-2c9ded913311",
   "metadata": {
    "scrolled": true,
    "tags": []
   },
   "outputs": [
    {
     "name": "stderr",
     "output_type": "stream",
     "text": [
      "Dropping [gene.is.tf, Imprinted.Status, Expressed.Allele, rank.Ctrl, rank.ASD, overexpressed.in., av.in.monkey, chromosome, in.sex_chr]\n",
      "\n"
     ]
    },
    {
     "name": "stdout",
     "output_type": "stream",
     "text": [
      "[1] \"############################################################\"\n",
      "[1] \"############################################################\"\n",
      "[1] \"############################################################\"\n"
     ]
    },
    {
     "name": "stderr",
     "output_type": "stream",
     "text": [
      "filter.2of3.over.2of3\n",
      "\n"
     ]
    },
    {
     "name": "stdout",
     "output_type": "stream",
     "text": [
      "[1] \"############################################################\"\n",
      "[1] \"############################################################\"\n",
      "[1] \"############################################################\"\n"
     ]
    },
    {
     "name": "stderr",
     "output_type": "stream",
     "text": [
      "Number of genes in G1: 37733\n",
      "\n",
      "Number of genes in G2M: 37733\n",
      "\n",
      "Number of genes in S: 37733\n",
      "\n"
     ]
    },
    {
     "name": "stdout",
     "output_type": "stream",
     "text": [
      "[1] \"Filtering by p_val: 0.05\"\n"
     ]
    },
    {
     "name": "stderr",
     "output_type": "stream",
     "text": [
      "Number of genes in G1: 1684\n",
      "\n",
      "Number of genes in G2M: 2048\n",
      "\n",
      "Number of genes in S: 1251\n",
      "\n"
     ]
    },
    {
     "name": "stdout",
     "output_type": "stream",
     "text": [
      "[1] \"Filtering by logFC: 0.5\"\n"
     ]
    },
    {
     "name": "stderr",
     "output_type": "stream",
     "text": [
      "Number of genes in G1: 17\n",
      "\n",
      "Number of genes in G2M: 12\n",
      "\n",
      "Number of genes in S: 10\n",
      "\n"
     ]
    },
    {
     "name": "stdout",
     "output_type": "stream",
     "text": [
      "[1] \"Filtering by pct of expressing cells: 0.1\"\n"
     ]
    },
    {
     "name": "stderr",
     "output_type": "stream",
     "text": [
      "Number of genes in G1: 17\n",
      "\n",
      "Number of genes in G2M: 12\n",
      "\n",
      "Number of genes in S: 10\n",
      "\n"
     ]
    },
    {
     "name": "stdout",
     "output_type": "stream",
     "text": [
      "[1] \"Filtering by difference of pct of expressing cells: 0.1\"\n"
     ]
    },
    {
     "name": "stderr",
     "output_type": "stream",
     "text": [
      "Number of genes in G1: 15\n",
      "\n",
      "Number of genes in G2M: 9\n",
      "\n",
      "Number of genes in S: 8\n",
      "\n"
     ]
    },
    {
     "name": "stdout",
     "output_type": "stream",
     "text": [
      "[1] \"Comparison of conditions: ASD Ctrl\"\n"
     ]
    },
    {
     "name": "stderr",
     "output_type": "stream",
     "text": [
      "G1\n",
      "\n",
      "G2M\n",
      "\n",
      "S\n",
      "\n"
     ]
    },
    {
     "name": "stdout",
     "output_type": "stream",
     "text": [
      "[1] \"ASD markers\"\n"
     ]
    },
    {
     "name": "stderr",
     "output_type": "stream",
     "text": [
      "Number of genes in G1: 10\n",
      "\n",
      "Number of genes in G2M: 7\n",
      "\n",
      "Number of genes in S: 5\n",
      "\n"
     ]
    },
    {
     "name": "stdout",
     "output_type": "stream",
     "text": [
      "[1] \"Ctrl markers\"\n"
     ]
    },
    {
     "name": "stderr",
     "output_type": "stream",
     "text": [
      "Number of genes in G1: 5\n",
      "\n",
      "Number of genes in G2M: 2\n",
      "\n",
      "Number of genes in S: 3\n",
      "\n"
     ]
    },
    {
     "name": "stdout",
     "output_type": "stream",
     "text": [
      "[1] \"Filtering genes with consistent test/control logFC\"\n",
      "[1] \"Test condition\"\n"
     ]
    },
    {
     "name": "stderr",
     "output_type": "stream",
     "text": [
      "Number of genes in G1: 10\n",
      "\n",
      "Number of genes in G2M: 7\n",
      "\n",
      "Number of genes in S: 5\n",
      "\n"
     ]
    },
    {
     "name": "stdout",
     "output_type": "stream",
     "text": [
      "[1] \"Control condition\"\n"
     ]
    },
    {
     "name": "stderr",
     "output_type": "stream",
     "text": [
      "Number of genes in G1: 5\n",
      "\n",
      "Number of genes in G2M: 2\n",
      "\n",
      "Number of genes in S: 3\n",
      "\n"
     ]
    },
    {
     "name": "stdout",
     "output_type": "stream",
     "text": [
      "[1] \"After condition comparison\"\n"
     ]
    },
    {
     "name": "stderr",
     "output_type": "stream",
     "text": [
      "Number of genes in G1: 15\n",
      "\n",
      "Number of genes in G2M: 9\n",
      "\n",
      "Number of genes in S: 8\n",
      "\n"
     ]
    },
    {
     "name": "stdout",
     "output_type": "stream",
     "text": [
      "[1] \"############################################################\"\n",
      "[1] \"############################################################\"\n",
      "[1] \"############################################################\"\n"
     ]
    },
    {
     "name": "stderr",
     "output_type": "stream",
     "text": [
      "filter.2of3.over.max\n",
      "\n"
     ]
    },
    {
     "name": "stdout",
     "output_type": "stream",
     "text": [
      "[1] \"############################################################\"\n",
      "[1] \"############################################################\"\n",
      "[1] \"############################################################\"\n"
     ]
    },
    {
     "name": "stderr",
     "output_type": "stream",
     "text": [
      "Number of genes in G1: 37733\n",
      "\n",
      "Number of genes in G2M: 37733\n",
      "\n",
      "Number of genes in S: 37733\n",
      "\n"
     ]
    },
    {
     "name": "stdout",
     "output_type": "stream",
     "text": [
      "[1] \"Filtering by p_val: 0.05\"\n"
     ]
    },
    {
     "name": "stderr",
     "output_type": "stream",
     "text": [
      "Number of genes in G1: 1684\n",
      "\n",
      "Number of genes in G2M: 2048\n",
      "\n",
      "Number of genes in S: 1251\n",
      "\n"
     ]
    },
    {
     "name": "stdout",
     "output_type": "stream",
     "text": [
      "[1] \"Filtering by logFC: 0.5\"\n"
     ]
    },
    {
     "name": "stderr",
     "output_type": "stream",
     "text": [
      "Number of genes in G1: 17\n",
      "\n",
      "Number of genes in G2M: 12\n",
      "\n",
      "Number of genes in S: 10\n",
      "\n"
     ]
    },
    {
     "name": "stdout",
     "output_type": "stream",
     "text": [
      "[1] \"Filtering by pct of expressing cells: 0.1\"\n"
     ]
    },
    {
     "name": "stderr",
     "output_type": "stream",
     "text": [
      "Number of genes in G1: 17\n",
      "\n",
      "Number of genes in G2M: 12\n",
      "\n",
      "Number of genes in S: 10\n",
      "\n"
     ]
    },
    {
     "name": "stdout",
     "output_type": "stream",
     "text": [
      "[1] \"Filtering by difference of pct of expressing cells: 0.1\"\n"
     ]
    },
    {
     "name": "stderr",
     "output_type": "stream",
     "text": [
      "Number of genes in G1: 15\n",
      "\n",
      "Number of genes in G2M: 9\n",
      "\n",
      "Number of genes in S: 8\n",
      "\n"
     ]
    },
    {
     "name": "stdout",
     "output_type": "stream",
     "text": [
      "[1] \"Comparison of conditions: ASD Ctrl\"\n"
     ]
    },
    {
     "name": "stderr",
     "output_type": "stream",
     "text": [
      "G1\n",
      "\n",
      "G2M\n",
      "\n",
      "S\n",
      "\n"
     ]
    },
    {
     "name": "stdout",
     "output_type": "stream",
     "text": [
      "[1] \"ASD markers\"\n"
     ]
    },
    {
     "name": "stderr",
     "output_type": "stream",
     "text": [
      "Number of genes in G1: 6\n",
      "\n",
      "Number of genes in G2M: 2\n",
      "\n",
      "Number of genes in S: 2\n",
      "\n"
     ]
    },
    {
     "name": "stdout",
     "output_type": "stream",
     "text": [
      "[1] \"Ctrl markers\"\n"
     ]
    },
    {
     "name": "stderr",
     "output_type": "stream",
     "text": [
      "Number of genes in G1: 5\n",
      "\n",
      "Number of genes in G2M: 2\n",
      "\n",
      "Number of genes in S: 2\n",
      "\n"
     ]
    },
    {
     "name": "stdout",
     "output_type": "stream",
     "text": [
      "[1] \"Filtering genes with consistent test/control logFC\"\n",
      "[1] \"Test condition\"\n"
     ]
    },
    {
     "name": "stderr",
     "output_type": "stream",
     "text": [
      "Number of genes in G1: 6\n",
      "\n",
      "Number of genes in G2M: 2\n",
      "\n",
      "Number of genes in S: 2\n",
      "\n"
     ]
    },
    {
     "name": "stdout",
     "output_type": "stream",
     "text": [
      "[1] \"Control condition\"\n"
     ]
    },
    {
     "name": "stderr",
     "output_type": "stream",
     "text": [
      "Number of genes in G1: 5\n",
      "\n",
      "Number of genes in G2M: 2\n",
      "\n",
      "Number of genes in S: 2\n",
      "\n"
     ]
    },
    {
     "name": "stdout",
     "output_type": "stream",
     "text": [
      "[1] \"After condition comparison\"\n"
     ]
    },
    {
     "name": "stderr",
     "output_type": "stream",
     "text": [
      "Number of genes in G1: 11\n",
      "\n",
      "Number of genes in G2M: 4\n",
      "\n",
      "Number of genes in S: 4\n",
      "\n"
     ]
    },
    {
     "name": "stdout",
     "output_type": "stream",
     "text": [
      "[1] \"############################################################\"\n",
      "[1] \"############################################################\"\n",
      "[1] \"############################################################\"\n"
     ]
    },
    {
     "name": "stderr",
     "output_type": "stream",
     "text": [
      "filter.all.over.2of3\n",
      "\n"
     ]
    },
    {
     "name": "stdout",
     "output_type": "stream",
     "text": [
      "[1] \"############################################################\"\n",
      "[1] \"############################################################\"\n",
      "[1] \"############################################################\"\n"
     ]
    },
    {
     "name": "stderr",
     "output_type": "stream",
     "text": [
      "Number of genes in G1: 37733\n",
      "\n",
      "Number of genes in G2M: 37733\n",
      "\n",
      "Number of genes in S: 37733\n",
      "\n"
     ]
    },
    {
     "name": "stdout",
     "output_type": "stream",
     "text": [
      "[1] \"Filtering by p_val: 0.05\"\n"
     ]
    },
    {
     "name": "stderr",
     "output_type": "stream",
     "text": [
      "Number of genes in G1: 1684\n",
      "\n",
      "Number of genes in G2M: 2048\n",
      "\n",
      "Number of genes in S: 1251\n",
      "\n"
     ]
    },
    {
     "name": "stdout",
     "output_type": "stream",
     "text": [
      "[1] \"Filtering by logFC: 0.5\"\n"
     ]
    },
    {
     "name": "stderr",
     "output_type": "stream",
     "text": [
      "Number of genes in G1: 17\n",
      "\n",
      "Number of genes in G2M: 12\n",
      "\n",
      "Number of genes in S: 10\n",
      "\n"
     ]
    },
    {
     "name": "stdout",
     "output_type": "stream",
     "text": [
      "[1] \"Filtering by pct of expressing cells: 0.1\"\n"
     ]
    },
    {
     "name": "stderr",
     "output_type": "stream",
     "text": [
      "Number of genes in G1: 17\n",
      "\n",
      "Number of genes in G2M: 12\n",
      "\n",
      "Number of genes in S: 10\n",
      "\n"
     ]
    },
    {
     "name": "stdout",
     "output_type": "stream",
     "text": [
      "[1] \"Filtering by difference of pct of expressing cells: 0.1\"\n"
     ]
    },
    {
     "name": "stderr",
     "output_type": "stream",
     "text": [
      "Number of genes in G1: 15\n",
      "\n",
      "Number of genes in G2M: 9\n",
      "\n",
      "Number of genes in S: 8\n",
      "\n"
     ]
    },
    {
     "name": "stdout",
     "output_type": "stream",
     "text": [
      "[1] \"Comparison of conditions: ASD Ctrl\"\n"
     ]
    },
    {
     "name": "stderr",
     "output_type": "stream",
     "text": [
      "G1\n",
      "\n",
      "G2M\n",
      "\n",
      "S\n",
      "\n"
     ]
    },
    {
     "name": "stdout",
     "output_type": "stream",
     "text": [
      "[1] \"ASD markers\"\n"
     ]
    },
    {
     "name": "stderr",
     "output_type": "stream",
     "text": [
      "Number of genes in G1: 9\n",
      "\n",
      "Number of genes in G2M: 5\n",
      "\n",
      "Number of genes in S: 4\n",
      "\n"
     ]
    },
    {
     "name": "stdout",
     "output_type": "stream",
     "text": [
      "[1] \"Ctrl markers\"\n"
     ]
    },
    {
     "name": "stderr",
     "output_type": "stream",
     "text": [
      "Number of genes in G1: 3\n",
      "\n",
      "Number of genes in S: 2\n",
      "\n"
     ]
    },
    {
     "name": "stdout",
     "output_type": "stream",
     "text": [
      "[1] \"Filtering genes with consistent test/control logFC\"\n",
      "[1] \"Test condition\"\n"
     ]
    },
    {
     "name": "stderr",
     "output_type": "stream",
     "text": [
      "Number of genes in G1: 9\n",
      "\n",
      "Number of genes in G2M: 5\n",
      "\n",
      "Number of genes in S: 4\n",
      "\n"
     ]
    },
    {
     "name": "stdout",
     "output_type": "stream",
     "text": [
      "[1] \"Control condition\"\n"
     ]
    },
    {
     "name": "stderr",
     "output_type": "stream",
     "text": [
      "Number of genes in G1: 3\n",
      "\n",
      "Number of genes in S: 2\n",
      "\n"
     ]
    },
    {
     "name": "stdout",
     "output_type": "stream",
     "text": [
      "[1] \"After condition comparison\"\n"
     ]
    },
    {
     "name": "stderr",
     "output_type": "stream",
     "text": [
      "Number of genes in G1: 12\n",
      "\n",
      "Number of genes in G2M: 5\n",
      "\n",
      "Number of genes in S: 6\n",
      "\n"
     ]
    },
    {
     "name": "stdout",
     "output_type": "stream",
     "text": [
      "[1] \"############################################################\"\n",
      "[1] \"############################################################\"\n",
      "[1] \"############################################################\"\n"
     ]
    },
    {
     "name": "stderr",
     "output_type": "stream",
     "text": [
      "filter.all.over.max\n",
      "\n"
     ]
    },
    {
     "name": "stdout",
     "output_type": "stream",
     "text": [
      "[1] \"############################################################\"\n",
      "[1] \"############################################################\"\n",
      "[1] \"############################################################\"\n"
     ]
    },
    {
     "name": "stderr",
     "output_type": "stream",
     "text": [
      "Number of genes in G1: 37733\n",
      "\n",
      "Number of genes in G2M: 37733\n",
      "\n",
      "Number of genes in S: 37733\n",
      "\n"
     ]
    },
    {
     "name": "stdout",
     "output_type": "stream",
     "text": [
      "[1] \"Filtering by p_val: 0.05\"\n"
     ]
    },
    {
     "name": "stderr",
     "output_type": "stream",
     "text": [
      "Number of genes in G1: 1684\n",
      "\n",
      "Number of genes in G2M: 2048\n",
      "\n",
      "Number of genes in S: 1251\n",
      "\n"
     ]
    },
    {
     "name": "stdout",
     "output_type": "stream",
     "text": [
      "[1] \"Filtering by logFC: 0.5\"\n"
     ]
    },
    {
     "name": "stderr",
     "output_type": "stream",
     "text": [
      "Number of genes in G1: 17\n",
      "\n",
      "Number of genes in G2M: 12\n",
      "\n",
      "Number of genes in S: 10\n",
      "\n"
     ]
    },
    {
     "name": "stdout",
     "output_type": "stream",
     "text": [
      "[1] \"Filtering by pct of expressing cells: 0.1\"\n"
     ]
    },
    {
     "name": "stderr",
     "output_type": "stream",
     "text": [
      "Number of genes in G1: 17\n",
      "\n",
      "Number of genes in G2M: 12\n",
      "\n",
      "Number of genes in S: 10\n",
      "\n"
     ]
    },
    {
     "name": "stdout",
     "output_type": "stream",
     "text": [
      "[1] \"Filtering by difference of pct of expressing cells: 0.1\"\n"
     ]
    },
    {
     "name": "stderr",
     "output_type": "stream",
     "text": [
      "Number of genes in G1: 15\n",
      "\n",
      "Number of genes in G2M: 9\n",
      "\n",
      "Number of genes in S: 8\n",
      "\n"
     ]
    },
    {
     "name": "stdout",
     "output_type": "stream",
     "text": [
      "[1] \"Comparison of conditions: ASD Ctrl\"\n"
     ]
    },
    {
     "name": "stderr",
     "output_type": "stream",
     "text": [
      "G1\n",
      "\n",
      "G2M\n",
      "\n",
      "S\n",
      "\n"
     ]
    },
    {
     "name": "stdout",
     "output_type": "stream",
     "text": [
      "[1] \"ASD markers\"\n"
     ]
    },
    {
     "name": "stderr",
     "output_type": "stream",
     "text": [
      "Number of genes in G1: 4\n",
      "\n",
      "Number of genes in G2M: 1\n",
      "\n",
      "Number of genes in S: 2\n",
      "\n"
     ]
    },
    {
     "name": "stdout",
     "output_type": "stream",
     "text": [
      "[1] \"Ctrl markers\"\n"
     ]
    },
    {
     "name": "stderr",
     "output_type": "stream",
     "text": [
      "Number of genes in G1: 1\n",
      "\n",
      "Number of genes in S: 1\n",
      "\n"
     ]
    },
    {
     "name": "stdout",
     "output_type": "stream",
     "text": [
      "[1] \"Filtering genes with consistent test/control logFC\"\n",
      "[1] \"Test condition\"\n"
     ]
    },
    {
     "name": "stderr",
     "output_type": "stream",
     "text": [
      "Number of genes in G1: 4\n",
      "\n",
      "Number of genes in G2M: 1\n",
      "\n",
      "Number of genes in S: 2\n",
      "\n"
     ]
    },
    {
     "name": "stdout",
     "output_type": "stream",
     "text": [
      "[1] \"Control condition\"\n"
     ]
    },
    {
     "name": "stderr",
     "output_type": "stream",
     "text": [
      "Number of genes in G1: 1\n",
      "\n",
      "Number of genes in S: 1\n",
      "\n"
     ]
    },
    {
     "name": "stdout",
     "output_type": "stream",
     "text": [
      "[1] \"After condition comparison\"\n"
     ]
    },
    {
     "name": "stderr",
     "output_type": "stream",
     "text": [
      "Number of genes in G1: 5\n",
      "\n",
      "Number of genes in G2M: 1\n",
      "\n",
      "Number of genes in S: 3\n",
      "\n"
     ]
    },
    {
     "data": {
      "text/html": [
       "<table class=\"dataframe\">\n",
       "<caption>A data.frame: 113199 × 28</caption>\n",
       "<thead>\n",
       "\t<tr><th scope=col>gene</th><th scope=col>p_val</th><th scope=col>avg_log2FC</th><th scope=col>pct.1</th><th scope=col>pct.2</th><th scope=col>p_val_adj</th><th scope=col>ident.1</th><th scope=col>ident.2</th><th scope=col>ncells.1</th><th scope=col>ncells.2</th><th scope=col>⋯</th><th scope=col>overexpressed.in</th><th scope=col>rank.ASD</th><th scope=col>rank.Ctrl</th><th scope=col>chromosome</th><th scope=col>in.sex_chr</th><th scope=col>logfc</th><th scope=col>filter.2of3.over.2of3</th><th scope=col>filter.2of3.over.max</th><th scope=col>filter.all.over.2of3</th><th scope=col>filter.all.over.max</th></tr>\n",
       "\t<tr><th scope=col>&lt;chr&gt;</th><th scope=col>&lt;dbl&gt;</th><th scope=col>&lt;dbl&gt;</th><th scope=col>&lt;dbl&gt;</th><th scope=col>&lt;dbl&gt;</th><th scope=col>&lt;dbl&gt;</th><th scope=col>&lt;chr&gt;</th><th scope=col>&lt;chr&gt;</th><th scope=col>&lt;int&gt;</th><th scope=col>&lt;int&gt;</th><th scope=col>⋯</th><th scope=col>&lt;chr&gt;</th><th scope=col>&lt;dbl&gt;</th><th scope=col>&lt;dbl&gt;</th><th scope=col>&lt;chr&gt;</th><th scope=col>&lt;lgl&gt;</th><th scope=col>&lt;dbl&gt;</th><th scope=col>&lt;lgl&gt;</th><th scope=col>&lt;lgl&gt;</th><th scope=col>&lt;lgl&gt;</th><th scope=col>&lt;lgl&gt;</th></tr>\n",
       "</thead>\n",
       "<tbody>\n",
       "\t<tr><td>A1BG     </td><td>0.6037602603</td><td>-6.837629e-05</td><td>0.088</td><td>0.098</td><td>1</td><td>ASD</td><td>Ctrl</td><td>3971</td><td>4634</td><td>⋯</td><td>Ctrl</td><td>  Inf</td><td>37276</td><td>19</td><td>FALSE</td><td>-6.837629e-05</td><td>FALSE</td><td>FALSE</td><td>FALSE</td><td>FALSE</td></tr>\n",
       "\t<tr><td>A1BG     </td><td>0.6947624072</td><td> 1.044563e-02</td><td>0.121</td><td>0.119</td><td>1</td><td>ASD</td><td>Ctrl</td><td>6033</td><td>5116</td><td>⋯</td><td>ASD </td><td>12158</td><td>  Inf</td><td>19</td><td>FALSE</td><td> 1.044563e-02</td><td>FALSE</td><td>FALSE</td><td>FALSE</td><td>FALSE</td></tr>\n",
       "\t<tr><td>A1BG     </td><td>0.1560858882</td><td>-1.932446e-02</td><td>0.084</td><td>0.088</td><td>1</td><td>ASD</td><td>Ctrl</td><td>7530</td><td>5289</td><td>⋯</td><td>Ctrl</td><td>  Inf</td><td>10873</td><td>19</td><td>FALSE</td><td>-1.932446e-02</td><td>FALSE</td><td>FALSE</td><td>FALSE</td><td>FALSE</td></tr>\n",
       "\t<tr><td>A1BG-AS1 </td><td>0.2663185805</td><td>-6.692442e-03</td><td>0.024</td><td>0.029</td><td>1</td><td>ASD</td><td>Ctrl</td><td>6033</td><td>5116</td><td>⋯</td><td>Ctrl</td><td>  Inf</td><td>17005</td><td>19</td><td>FALSE</td><td>-6.692442e-03</td><td>FALSE</td><td>FALSE</td><td>FALSE</td><td>FALSE</td></tr>\n",
       "\t<tr><td>A1BG-AS1 </td><td>0.5659545658</td><td>-3.957209e-03</td><td>0.023</td><td>0.028</td><td>1</td><td>ASD</td><td>Ctrl</td><td>3971</td><td>4634</td><td>⋯</td><td>Ctrl</td><td>  Inf</td><td>19702</td><td>19</td><td>FALSE</td><td>-3.957209e-03</td><td>FALSE</td><td>FALSE</td><td>FALSE</td><td>FALSE</td></tr>\n",
       "\t<tr><td>A1BG-AS1 </td><td>0.1763785442</td><td>-5.599441e-03</td><td>0.018</td><td>0.023</td><td>1</td><td>ASD</td><td>Ctrl</td><td>7530</td><td>5289</td><td>⋯</td><td>Ctrl</td><td>  Inf</td><td>17943</td><td>19</td><td>FALSE</td><td>-5.599441e-03</td><td>FALSE</td><td>FALSE</td><td>FALSE</td><td>FALSE</td></tr>\n",
       "\t<tr><td>A1CF     </td><td>0.0185157613</td><td>-1.032206e-03</td><td>0.000</td><td>0.001</td><td>1</td><td>ASD</td><td>Ctrl</td><td>6033</td><td>5116</td><td>⋯</td><td>Ctrl</td><td>  Inf</td><td>27041</td><td>10</td><td>FALSE</td><td>-1.032206e-03</td><td>FALSE</td><td>FALSE</td><td>FALSE</td><td>FALSE</td></tr>\n",
       "\t<tr><td>A1CF     </td><td>0.0879682269</td><td>-1.528657e-03</td><td>0.000</td><td>0.001</td><td>1</td><td>ASD</td><td>Ctrl</td><td>3971</td><td>4634</td><td>⋯</td><td>Ctrl</td><td>  Inf</td><td>24827</td><td>10</td><td>FALSE</td><td>-1.528657e-03</td><td>FALSE</td><td>FALSE</td><td>FALSE</td><td>FALSE</td></tr>\n",
       "\t<tr><td>A1CF     </td><td>0.1158903721</td><td> 2.162832e-03</td><td>0.001</td><td>0.000</td><td>1</td><td>ASD</td><td>Ctrl</td><td>7530</td><td>5289</td><td>⋯</td><td>ASD </td><td>22181</td><td>  Inf</td><td>10</td><td>FALSE</td><td> 2.162832e-03</td><td>FALSE</td><td>FALSE</td><td>FALSE</td><td>FALSE</td></tr>\n",
       "\t<tr><td>A2M      </td><td>0.9071098234</td><td>-2.790128e-05</td><td>0.001</td><td>0.001</td><td>1</td><td>ASD</td><td>Ctrl</td><td>3971</td><td>4634</td><td>⋯</td><td>Ctrl</td><td>  Inf</td><td>37700</td><td>12</td><td>FALSE</td><td>-2.790128e-05</td><td>FALSE</td><td>FALSE</td><td>FALSE</td><td>FALSE</td></tr>\n",
       "\t<tr><td>A2M      </td><td>0.9156817197</td><td>-1.371904e-04</td><td>0.002</td><td>0.002</td><td>1</td><td>ASD</td><td>Ctrl</td><td>6033</td><td>5116</td><td>⋯</td><td>Ctrl</td><td>  Inf</td><td>36168</td><td>12</td><td>FALSE</td><td>-1.371904e-04</td><td>FALSE</td><td>FALSE</td><td>FALSE</td><td>FALSE</td></tr>\n",
       "\t<tr><td>A2M      </td><td>0.3539900943</td><td>-8.955793e-04</td><td>0.002</td><td>0.002</td><td>1</td><td>ASD</td><td>Ctrl</td><td>7530</td><td>5289</td><td>⋯</td><td>Ctrl</td><td>  Inf</td><td>27858</td><td>12</td><td>FALSE</td><td>-8.955793e-04</td><td>FALSE</td><td>FALSE</td><td>FALSE</td><td>FALSE</td></tr>\n",
       "\t<tr><td>A2M-AS1  </td><td>0.0001332122</td><td> 2.454457e-02</td><td>0.024</td><td>0.014</td><td>1</td><td>ASD</td><td>Ctrl</td><td>7530</td><td>5289</td><td>⋯</td><td>ASD </td><td> 7172</td><td>  Inf</td><td>12</td><td>FALSE</td><td> 2.454457e-02</td><td>FALSE</td><td>FALSE</td><td>FALSE</td><td>FALSE</td></tr>\n",
       "\t<tr><td>A2M-AS1  </td><td>0.6602939251</td><td> 3.872115e-03</td><td>0.025</td><td>0.023</td><td>1</td><td>ASD</td><td>Ctrl</td><td>3971</td><td>4634</td><td>⋯</td><td>ASD </td><td>18337</td><td>  Inf</td><td>12</td><td>FALSE</td><td> 3.872115e-03</td><td>FALSE</td><td>FALSE</td><td>FALSE</td><td>FALSE</td></tr>\n",
       "\t<tr><td>A2M-AS1  </td><td>0.0002658463</td><td> 1.984769e-02</td><td>0.035</td><td>0.025</td><td>1</td><td>ASD</td><td>Ctrl</td><td>6033</td><td>5116</td><td>⋯</td><td>ASD </td><td> 8350</td><td>  Inf</td><td>12</td><td>FALSE</td><td> 1.984769e-02</td><td>FALSE</td><td>FALSE</td><td>FALSE</td><td>FALSE</td></tr>\n",
       "\t<tr><td>A2ML1    </td><td>0.3860612110</td><td>-9.024968e-04</td><td>0.000</td><td>0.001</td><td>1</td><td>ASD</td><td>Ctrl</td><td>7530</td><td>5289</td><td>⋯</td><td>Ctrl</td><td>  Inf</td><td>27807</td><td>12</td><td>FALSE</td><td>-9.024968e-04</td><td>FALSE</td><td>FALSE</td><td>FALSE</td><td>FALSE</td></tr>\n",
       "\t<tr><td>A2ML1    </td><td>0.0185155875</td><td>-1.387259e-03</td><td>0.000</td><td>0.001</td><td>1</td><td>ASD</td><td>Ctrl</td><td>6033</td><td>5116</td><td>⋯</td><td>Ctrl</td><td>  Inf</td><td>25351</td><td>12</td><td>FALSE</td><td>-1.387259e-03</td><td>FALSE</td><td>FALSE</td><td>FALSE</td><td>FALSE</td></tr>\n",
       "\t<tr><td>A2ML1    </td><td>0.2390192915</td><td>-2.671410e-04</td><td>0.000</td><td>0.000</td><td>1</td><td>ASD</td><td>Ctrl</td><td>3971</td><td>4634</td><td>⋯</td><td>Ctrl</td><td>  Inf</td><td>34236</td><td>12</td><td>FALSE</td><td>-2.671410e-04</td><td>FALSE</td><td>FALSE</td><td>FALSE</td><td>FALSE</td></tr>\n",
       "\t<tr><td>A2ML1-AS1</td><td>0.2390246082</td><td> 6.031263e-04</td><td>0.000</td><td>0.000</td><td>1</td><td>ASD</td><td>Ctrl</td><td>7530</td><td>5289</td><td>⋯</td><td>ASD </td><td>31296</td><td>  Inf</td><td>12</td><td>FALSE</td><td> 6.031263e-04</td><td>FALSE</td><td>FALSE</td><td>FALSE</td><td>FALSE</td></tr>\n",
       "\t<tr><td>A2ML1-AS1</td><td>1.0000000000</td><td> 1.942942e-04</td><td>0.000</td><td>0.000</td><td>1</td><td>ASD</td><td>Ctrl</td><td>6033</td><td>5116</td><td>⋯</td><td>ASD </td><td>37335</td><td>  Inf</td><td>12</td><td>FALSE</td><td> 1.942942e-04</td><td>FALSE</td><td>FALSE</td><td>FALSE</td><td>FALSE</td></tr>\n",
       "\t<tr><td>A2ML1-AS1</td><td>0.0958622891</td><td>-1.102303e-03</td><td>0.000</td><td>0.000</td><td>1</td><td>ASD</td><td>Ctrl</td><td>3971</td><td>4634</td><td>⋯</td><td>Ctrl</td><td>  Inf</td><td>26654</td><td>12</td><td>FALSE</td><td>-1.102303e-03</td><td>FALSE</td><td>FALSE</td><td>FALSE</td><td>FALSE</td></tr>\n",
       "\t<tr><td>A2ML1-AS2</td><td>1.0000000000</td><td> 0.000000e+00</td><td>0.000</td><td>0.000</td><td>1</td><td>ASD</td><td>Ctrl</td><td>6033</td><td>5116</td><td>⋯</td><td>None</td><td>  Inf</td><td>  Inf</td><td>12</td><td>FALSE</td><td> 0.000000e+00</td><td>FALSE</td><td>FALSE</td><td>FALSE</td><td>FALSE</td></tr>\n",
       "\t<tr><td>A2ML1-AS2</td><td>1.0000000000</td><td> 0.000000e+00</td><td>0.000</td><td>0.000</td><td>1</td><td>ASD</td><td>Ctrl</td><td>7530</td><td>5289</td><td>⋯</td><td>None</td><td>  Inf</td><td>  Inf</td><td>12</td><td>FALSE</td><td> 0.000000e+00</td><td>FALSE</td><td>FALSE</td><td>FALSE</td><td>FALSE</td></tr>\n",
       "\t<tr><td>A2ML1-AS2</td><td>1.0000000000</td><td> 0.000000e+00</td><td>0.000</td><td>0.000</td><td>1</td><td>ASD</td><td>Ctrl</td><td>3971</td><td>4634</td><td>⋯</td><td>None</td><td>  Inf</td><td>  Inf</td><td>12</td><td>FALSE</td><td> 0.000000e+00</td><td>FALSE</td><td>FALSE</td><td>FALSE</td><td>FALSE</td></tr>\n",
       "\t<tr><td>A3GALT2  </td><td>0.2390192915</td><td> 6.925082e-04</td><td>0.000</td><td>0.000</td><td>1</td><td>ASD</td><td>Ctrl</td><td>3971</td><td>4634</td><td>⋯</td><td>ASD </td><td>30282</td><td>  Inf</td><td>1 </td><td>FALSE</td><td> 6.925082e-04</td><td>FALSE</td><td>FALSE</td><td>FALSE</td><td>FALSE</td></tr>\n",
       "\t<tr><td>A3GALT2  </td><td>1.0000000000</td><td> 0.000000e+00</td><td>0.000</td><td>0.000</td><td>1</td><td>ASD</td><td>Ctrl</td><td>6033</td><td>5116</td><td>⋯</td><td>None</td><td>  Inf</td><td>  Inf</td><td>1 </td><td>FALSE</td><td> 0.000000e+00</td><td>FALSE</td><td>FALSE</td><td>FALSE</td><td>FALSE</td></tr>\n",
       "\t<tr><td>A3GALT2  </td><td>1.0000000000</td><td> 0.000000e+00</td><td>0.000</td><td>0.000</td><td>1</td><td>ASD</td><td>Ctrl</td><td>7530</td><td>5289</td><td>⋯</td><td>None</td><td>  Inf</td><td>  Inf</td><td>1 </td><td>FALSE</td><td> 0.000000e+00</td><td>FALSE</td><td>FALSE</td><td>FALSE</td><td>FALSE</td></tr>\n",
       "\t<tr><td>A4GALT   </td><td>0.3080024574</td><td> 6.900461e-03</td><td>0.013</td><td>0.012</td><td>1</td><td>ASD</td><td>Ctrl</td><td>7530</td><td>5289</td><td>⋯</td><td>ASD </td><td>14768</td><td>  Inf</td><td>22</td><td>FALSE</td><td> 6.900461e-03</td><td>FALSE</td><td>FALSE</td><td>FALSE</td><td>FALSE</td></tr>\n",
       "\t<tr><td>A4GALT   </td><td>0.9338155479</td><td>-8.302042e-04</td><td>0.016</td><td>0.018</td><td>1</td><td>ASD</td><td>Ctrl</td><td>6033</td><td>5116</td><td>⋯</td><td>Ctrl</td><td>  Inf</td><td>28264</td><td>22</td><td>FALSE</td><td>-8.302042e-04</td><td>FALSE</td><td>FALSE</td><td>FALSE</td><td>FALSE</td></tr>\n",
       "\t<tr><td>A4GALT   </td><td>0.2547396627</td><td>-2.615959e-03</td><td>0.014</td><td>0.017</td><td>1</td><td>ASD</td><td>Ctrl</td><td>3971</td><td>4634</td><td>⋯</td><td>Ctrl</td><td>  Inf</td><td>21821</td><td>22</td><td>FALSE</td><td>-2.615959e-03</td><td>FALSE</td><td>FALSE</td><td>FALSE</td><td>FALSE</td></tr>\n",
       "\t<tr><td>⋮</td><td>⋮</td><td>⋮</td><td>⋮</td><td>⋮</td><td>⋮</td><td>⋮</td><td>⋮</td><td>⋮</td><td>⋮</td><td>⋱</td><td>⋮</td><td>⋮</td><td>⋮</td><td>⋮</td><td>⋮</td><td>⋮</td><td>⋮</td><td>⋮</td><td>⋮</td><td>⋮</td></tr>\n",
       "\t<tr><td>ZWILCH</td><td>7.591677e-01</td><td>-0.0063619690</td><td>0.185</td><td>0.203</td><td>1.000000e+00</td><td>ASD</td><td>Ctrl</td><td>3971</td><td>4634</td><td>⋯</td><td>Ctrl</td><td>  Inf</td><td>17275</td><td>15</td><td>FALSE</td><td>-0.0063619690</td><td>FALSE</td><td>FALSE</td><td>FALSE</td><td>FALSE</td></tr>\n",
       "\t<tr><td>ZWILCH</td><td>2.178590e-01</td><td> 0.0235298960</td><td>0.219</td><td>0.222</td><td>1.000000e+00</td><td>ASD</td><td>Ctrl</td><td>6033</td><td>5116</td><td>⋯</td><td>ASD </td><td> 7390</td><td>  Inf</td><td>15</td><td>FALSE</td><td> 0.0235298960</td><td>FALSE</td><td>FALSE</td><td>FALSE</td><td>FALSE</td></tr>\n",
       "\t<tr><td>ZWILCH</td><td>3.971278e-04</td><td> 0.0568471771</td><td>0.131</td><td>0.114</td><td>1.000000e+00</td><td>ASD</td><td>Ctrl</td><td>7530</td><td>5289</td><td>⋯</td><td>ASD </td><td> 3122</td><td>  Inf</td><td>15</td><td>FALSE</td><td> 0.0568471771</td><td>FALSE</td><td>FALSE</td><td>FALSE</td><td>FALSE</td></tr>\n",
       "\t<tr><td>ZWINT </td><td>1.703722e-02</td><td> 0.0577514748</td><td>0.221</td><td>0.205</td><td>1.000000e+00</td><td>ASD</td><td>Ctrl</td><td>7530</td><td>5289</td><td>⋯</td><td>ASD </td><td> 3058</td><td>  Inf</td><td>10</td><td>FALSE</td><td> 0.0577514748</td><td>FALSE</td><td>FALSE</td><td>FALSE</td><td>FALSE</td></tr>\n",
       "\t<tr><td>ZWINT </td><td>2.625770e-08</td><td>-0.1128787308</td><td>0.425</td><td>0.493</td><td>9.907819e-04</td><td>ASD</td><td>Ctrl</td><td>3971</td><td>4634</td><td>⋯</td><td>Ctrl</td><td>  Inf</td><td> 1286</td><td>10</td><td>FALSE</td><td>-0.1128787308</td><td>FALSE</td><td>FALSE</td><td>FALSE</td><td>FALSE</td></tr>\n",
       "\t<tr><td>ZWINT </td><td>1.764183e-10</td><td>-0.0995162981</td><td>0.437</td><td>0.503</td><td>6.656793e-06</td><td>ASD</td><td>Ctrl</td><td>6033</td><td>5116</td><td>⋯</td><td>Ctrl</td><td>  Inf</td><td> 1639</td><td>10</td><td>FALSE</td><td>-0.0995162981</td><td>FALSE</td><td>FALSE</td><td>FALSE</td><td>FALSE</td></tr>\n",
       "\t<tr><td>ZXDA  </td><td>2.008700e-17</td><td>-0.0201291836</td><td>0.000</td><td>0.011</td><td>7.579429e-13</td><td>ASD</td><td>Ctrl</td><td>6033</td><td>5116</td><td>⋯</td><td>Ctrl</td><td>  Inf</td><td>10610</td><td>X </td><td> TRUE</td><td>-0.0201291836</td><td>FALSE</td><td>FALSE</td><td>FALSE</td><td>FALSE</td></tr>\n",
       "\t<tr><td>ZXDA  </td><td>1.026449e-14</td><td>-0.0199803018</td><td>0.000</td><td>0.011</td><td>3.873100e-10</td><td>ASD</td><td>Ctrl</td><td>3971</td><td>4634</td><td>⋯</td><td>Ctrl</td><td>  Inf</td><td>10656</td><td>X </td><td> TRUE</td><td>-0.0199803018</td><td>FALSE</td><td>FALSE</td><td>FALSE</td><td>FALSE</td></tr>\n",
       "\t<tr><td>ZXDA  </td><td>2.655785e-10</td><td>-0.0199211476</td><td>0.001</td><td>0.009</td><td>1.002108e-05</td><td>ASD</td><td>Ctrl</td><td>7530</td><td>5289</td><td>⋯</td><td>Ctrl</td><td>  Inf</td><td>10674</td><td>X </td><td> TRUE</td><td>-0.0199211476</td><td>FALSE</td><td>FALSE</td><td>FALSE</td><td>FALSE</td></tr>\n",
       "\t<tr><td>ZXDB  </td><td>5.366785e-01</td><td>-0.0042726395</td><td>0.015</td><td>0.017</td><td>1.000000e+00</td><td>ASD</td><td>Ctrl</td><td>3971</td><td>4634</td><td>⋯</td><td>Ctrl</td><td>  Inf</td><td>19332</td><td>X </td><td> TRUE</td><td>-0.0042726395</td><td>FALSE</td><td>FALSE</td><td>FALSE</td><td>FALSE</td></tr>\n",
       "\t<tr><td>ZXDB  </td><td>2.040992e-03</td><td>-0.0169390835</td><td>0.016</td><td>0.030</td><td>1.000000e+00</td><td>ASD</td><td>Ctrl</td><td>6033</td><td>5116</td><td>⋯</td><td>Ctrl</td><td>  Inf</td><td>11710</td><td>X </td><td> TRUE</td><td>-0.0169390835</td><td>FALSE</td><td>FALSE</td><td>FALSE</td><td>FALSE</td></tr>\n",
       "\t<tr><td>ZXDB  </td><td>2.283563e-01</td><td>-0.0082274396</td><td>0.014</td><td>0.017</td><td>1.000000e+00</td><td>ASD</td><td>Ctrl</td><td>7530</td><td>5289</td><td>⋯</td><td>Ctrl</td><td>  Inf</td><td>15976</td><td>X </td><td> TRUE</td><td>-0.0082274396</td><td>FALSE</td><td>FALSE</td><td>FALSE</td><td>FALSE</td></tr>\n",
       "\t<tr><td>ZXDC  </td><td>9.420664e-01</td><td> 0.0061564200</td><td>0.060</td><td>0.066</td><td>1.000000e+00</td><td>ASD</td><td>Ctrl</td><td>3971</td><td>4634</td><td>⋯</td><td>ASD </td><td>15455</td><td>  Inf</td><td>3 </td><td>FALSE</td><td> 0.0061564200</td><td>FALSE</td><td>FALSE</td><td>FALSE</td><td>FALSE</td></tr>\n",
       "\t<tr><td>ZXDC  </td><td>8.489432e-01</td><td> 0.0022316157</td><td>0.057</td><td>0.056</td><td>1.000000e+00</td><td>ASD</td><td>Ctrl</td><td>7530</td><td>5289</td><td>⋯</td><td>ASD </td><td>21989</td><td>  Inf</td><td>3 </td><td>FALSE</td><td> 0.0022316157</td><td>FALSE</td><td>FALSE</td><td>FALSE</td><td>FALSE</td></tr>\n",
       "\t<tr><td>ZXDC  </td><td>1.164666e-01</td><td>-0.0053253334</td><td>0.084</td><td>0.099</td><td>1.000000e+00</td><td>ASD</td><td>Ctrl</td><td>6033</td><td>5116</td><td>⋯</td><td>Ctrl</td><td>  Inf</td><td>18209</td><td>3 </td><td>FALSE</td><td>-0.0053253334</td><td>FALSE</td><td>FALSE</td><td>FALSE</td><td>FALSE</td></tr>\n",
       "\t<tr><td>ZYG11A</td><td>5.395807e-01</td><td> 0.0004202721</td><td>0.001</td><td>0.001</td><td>1.000000e+00</td><td>ASD</td><td>Ctrl</td><td>6033</td><td>5116</td><td>⋯</td><td>ASD </td><td>33756</td><td>  Inf</td><td>1 </td><td>FALSE</td><td> 0.0004202721</td><td>FALSE</td><td>FALSE</td><td>FALSE</td><td>FALSE</td></tr>\n",
       "\t<tr><td>ZYG11A</td><td>1.563456e-01</td><td>-0.0021977504</td><td>0.000</td><td>0.001</td><td>1.000000e+00</td><td>ASD</td><td>Ctrl</td><td>7530</td><td>5289</td><td>⋯</td><td>Ctrl</td><td>  Inf</td><td>22777</td><td>1 </td><td>FALSE</td><td>-0.0021977504</td><td>FALSE</td><td>FALSE</td><td>FALSE</td><td>FALSE</td></tr>\n",
       "\t<tr><td>ZYG11A</td><td>8.864184e-01</td><td> 0.0008688577</td><td>0.001</td><td>0.002</td><td>1.000000e+00</td><td>ASD</td><td>Ctrl</td><td>3971</td><td>4634</td><td>⋯</td><td>ASD </td><td>28636</td><td>  Inf</td><td>1 </td><td>FALSE</td><td> 0.0008688577</td><td>FALSE</td><td>FALSE</td><td>FALSE</td><td>FALSE</td></tr>\n",
       "\t<tr><td>ZYG11B</td><td>4.697780e-01</td><td> 0.0021767667</td><td>0.179</td><td>0.196</td><td>1.000000e+00</td><td>ASD</td><td>Ctrl</td><td>3971</td><td>4634</td><td>⋯</td><td>ASD </td><td>22134</td><td>  Inf</td><td>1 </td><td>FALSE</td><td> 0.0021767667</td><td>FALSE</td><td>FALSE</td><td>FALSE</td><td>FALSE</td></tr>\n",
       "\t<tr><td>ZYG11B</td><td>3.049269e-02</td><td>-0.0233714684</td><td>0.156</td><td>0.166</td><td>1.000000e+00</td><td>ASD</td><td>Ctrl</td><td>7530</td><td>5289</td><td>⋯</td><td>Ctrl</td><td>  Inf</td><td> 9622</td><td>1 </td><td>FALSE</td><td>-0.0233714684</td><td>FALSE</td><td>FALSE</td><td>FALSE</td><td>FALSE</td></tr>\n",
       "\t<tr><td>ZYG11B</td><td>5.023478e-01</td><td>-0.0131631036</td><td>0.253</td><td>0.264</td><td>1.000000e+00</td><td>ASD</td><td>Ctrl</td><td>6033</td><td>5116</td><td>⋯</td><td>Ctrl</td><td>  Inf</td><td>13347</td><td>1 </td><td>FALSE</td><td>-0.0131631036</td><td>FALSE</td><td>FALSE</td><td>FALSE</td><td>FALSE</td></tr>\n",
       "\t<tr><td>ZYX   </td><td>4.276690e-01</td><td> 0.0165925939</td><td>0.263</td><td>0.264</td><td>1.000000e+00</td><td>ASD</td><td>Ctrl</td><td>6033</td><td>5116</td><td>⋯</td><td>ASD </td><td> 9407</td><td>  Inf</td><td>7 </td><td>FALSE</td><td> 0.0165925939</td><td>FALSE</td><td>FALSE</td><td>FALSE</td><td>FALSE</td></tr>\n",
       "\t<tr><td>ZYX   </td><td>2.513154e-01</td><td> 0.0209003322</td><td>0.185</td><td>0.195</td><td>1.000000e+00</td><td>ASD</td><td>Ctrl</td><td>3971</td><td>4634</td><td>⋯</td><td>ASD </td><td> 8075</td><td>  Inf</td><td>7 </td><td>FALSE</td><td> 0.0209003322</td><td>FALSE</td><td>FALSE</td><td>FALSE</td><td>FALSE</td></tr>\n",
       "\t<tr><td>ZYX   </td><td>9.731919e-02</td><td> 0.0294858970</td><td>0.186</td><td>0.179</td><td>1.000000e+00</td><td>ASD</td><td>Ctrl</td><td>7530</td><td>5289</td><td>⋯</td><td>ASD </td><td> 6166</td><td>  Inf</td><td>7 </td><td>FALSE</td><td> 0.0294858970</td><td>FALSE</td><td>FALSE</td><td>FALSE</td><td>FALSE</td></tr>\n",
       "\t<tr><td>ZZEF1 </td><td>2.301902e-01</td><td> 0.0125409174</td><td>0.059</td><td>0.058</td><td>1.000000e+00</td><td>ASD</td><td>Ctrl</td><td>6033</td><td>5116</td><td>⋯</td><td>ASD </td><td>11040</td><td>  Inf</td><td>17</td><td>FALSE</td><td> 0.0125409174</td><td>FALSE</td><td>FALSE</td><td>FALSE</td><td>FALSE</td></tr>\n",
       "\t<tr><td>ZZEF1 </td><td>4.012106e-01</td><td>-0.0094820255</td><td>0.041</td><td>0.042</td><td>1.000000e+00</td><td>ASD</td><td>Ctrl</td><td>7530</td><td>5289</td><td>⋯</td><td>Ctrl</td><td>  Inf</td><td>15235</td><td>17</td><td>FALSE</td><td>-0.0094820255</td><td>FALSE</td><td>FALSE</td><td>FALSE</td><td>FALSE</td></tr>\n",
       "\t<tr><td>ZZEF1 </td><td>8.719074e-01</td><td> 0.0022016992</td><td>0.043</td><td>0.048</td><td>1.000000e+00</td><td>ASD</td><td>Ctrl</td><td>3971</td><td>4634</td><td>⋯</td><td>ASD </td><td>22064</td><td>  Inf</td><td>17</td><td>FALSE</td><td> 0.0022016992</td><td>FALSE</td><td>FALSE</td><td>FALSE</td><td>FALSE</td></tr>\n",
       "\t<tr><td>ZZZ3  </td><td>6.077996e-02</td><td>-0.0115052184</td><td>0.172</td><td>0.199</td><td>1.000000e+00</td><td>ASD</td><td>Ctrl</td><td>3971</td><td>4634</td><td>⋯</td><td>Ctrl</td><td>  Inf</td><td>14136</td><td>1 </td><td>FALSE</td><td>-0.0115052184</td><td>FALSE</td><td>FALSE</td><td>FALSE</td><td>FALSE</td></tr>\n",
       "\t<tr><td>ZZZ3  </td><td>1.548332e-04</td><td>-0.0667335222</td><td>0.140</td><td>0.163</td><td>1.000000e+00</td><td>ASD</td><td>Ctrl</td><td>7530</td><td>5289</td><td>⋯</td><td>Ctrl</td><td>  Inf</td><td> 3240</td><td>1 </td><td>FALSE</td><td>-0.0667335222</td><td>FALSE</td><td>FALSE</td><td>FALSE</td><td>FALSE</td></tr>\n",
       "\t<tr><td>ZZZ3  </td><td>3.989893e-04</td><td>-0.0521693933</td><td>0.216</td><td>0.248</td><td>1.000000e+00</td><td>ASD</td><td>Ctrl</td><td>6033</td><td>5116</td><td>⋯</td><td>Ctrl</td><td>  Inf</td><td> 4530</td><td>1 </td><td>FALSE</td><td>-0.0521693933</td><td>FALSE</td><td>FALSE</td><td>FALSE</td><td>FALSE</td></tr>\n",
       "</tbody>\n",
       "</table>\n"
      ],
      "text/latex": [
       "A data.frame: 113199 × 28\n",
       "\\begin{tabular}{lllllllllllllllllllll}\n",
       " gene & p\\_val & avg\\_log2FC & pct.1 & pct.2 & p\\_val\\_adj & ident.1 & ident.2 & ncells.1 & ncells.2 & ⋯ & overexpressed.in & rank.ASD & rank.Ctrl & chromosome & in.sex\\_chr & logfc & filter.2of3.over.2of3 & filter.2of3.over.max & filter.all.over.2of3 & filter.all.over.max\\\\\n",
       " <chr> & <dbl> & <dbl> & <dbl> & <dbl> & <dbl> & <chr> & <chr> & <int> & <int> & ⋯ & <chr> & <dbl> & <dbl> & <chr> & <lgl> & <dbl> & <lgl> & <lgl> & <lgl> & <lgl>\\\\\n",
       "\\hline\n",
       "\t A1BG      & 0.6037602603 & -6.837629e-05 & 0.088 & 0.098 & 1 & ASD & Ctrl & 3971 & 4634 & ⋯ & Ctrl &   Inf & 37276 & 19 & FALSE & -6.837629e-05 & FALSE & FALSE & FALSE & FALSE\\\\\n",
       "\t A1BG      & 0.6947624072 &  1.044563e-02 & 0.121 & 0.119 & 1 & ASD & Ctrl & 6033 & 5116 & ⋯ & ASD  & 12158 &   Inf & 19 & FALSE &  1.044563e-02 & FALSE & FALSE & FALSE & FALSE\\\\\n",
       "\t A1BG      & 0.1560858882 & -1.932446e-02 & 0.084 & 0.088 & 1 & ASD & Ctrl & 7530 & 5289 & ⋯ & Ctrl &   Inf & 10873 & 19 & FALSE & -1.932446e-02 & FALSE & FALSE & FALSE & FALSE\\\\\n",
       "\t A1BG-AS1  & 0.2663185805 & -6.692442e-03 & 0.024 & 0.029 & 1 & ASD & Ctrl & 6033 & 5116 & ⋯ & Ctrl &   Inf & 17005 & 19 & FALSE & -6.692442e-03 & FALSE & FALSE & FALSE & FALSE\\\\\n",
       "\t A1BG-AS1  & 0.5659545658 & -3.957209e-03 & 0.023 & 0.028 & 1 & ASD & Ctrl & 3971 & 4634 & ⋯ & Ctrl &   Inf & 19702 & 19 & FALSE & -3.957209e-03 & FALSE & FALSE & FALSE & FALSE\\\\\n",
       "\t A1BG-AS1  & 0.1763785442 & -5.599441e-03 & 0.018 & 0.023 & 1 & ASD & Ctrl & 7530 & 5289 & ⋯ & Ctrl &   Inf & 17943 & 19 & FALSE & -5.599441e-03 & FALSE & FALSE & FALSE & FALSE\\\\\n",
       "\t A1CF      & 0.0185157613 & -1.032206e-03 & 0.000 & 0.001 & 1 & ASD & Ctrl & 6033 & 5116 & ⋯ & Ctrl &   Inf & 27041 & 10 & FALSE & -1.032206e-03 & FALSE & FALSE & FALSE & FALSE\\\\\n",
       "\t A1CF      & 0.0879682269 & -1.528657e-03 & 0.000 & 0.001 & 1 & ASD & Ctrl & 3971 & 4634 & ⋯ & Ctrl &   Inf & 24827 & 10 & FALSE & -1.528657e-03 & FALSE & FALSE & FALSE & FALSE\\\\\n",
       "\t A1CF      & 0.1158903721 &  2.162832e-03 & 0.001 & 0.000 & 1 & ASD & Ctrl & 7530 & 5289 & ⋯ & ASD  & 22181 &   Inf & 10 & FALSE &  2.162832e-03 & FALSE & FALSE & FALSE & FALSE\\\\\n",
       "\t A2M       & 0.9071098234 & -2.790128e-05 & 0.001 & 0.001 & 1 & ASD & Ctrl & 3971 & 4634 & ⋯ & Ctrl &   Inf & 37700 & 12 & FALSE & -2.790128e-05 & FALSE & FALSE & FALSE & FALSE\\\\\n",
       "\t A2M       & 0.9156817197 & -1.371904e-04 & 0.002 & 0.002 & 1 & ASD & Ctrl & 6033 & 5116 & ⋯ & Ctrl &   Inf & 36168 & 12 & FALSE & -1.371904e-04 & FALSE & FALSE & FALSE & FALSE\\\\\n",
       "\t A2M       & 0.3539900943 & -8.955793e-04 & 0.002 & 0.002 & 1 & ASD & Ctrl & 7530 & 5289 & ⋯ & Ctrl &   Inf & 27858 & 12 & FALSE & -8.955793e-04 & FALSE & FALSE & FALSE & FALSE\\\\\n",
       "\t A2M-AS1   & 0.0001332122 &  2.454457e-02 & 0.024 & 0.014 & 1 & ASD & Ctrl & 7530 & 5289 & ⋯ & ASD  &  7172 &   Inf & 12 & FALSE &  2.454457e-02 & FALSE & FALSE & FALSE & FALSE\\\\\n",
       "\t A2M-AS1   & 0.6602939251 &  3.872115e-03 & 0.025 & 0.023 & 1 & ASD & Ctrl & 3971 & 4634 & ⋯ & ASD  & 18337 &   Inf & 12 & FALSE &  3.872115e-03 & FALSE & FALSE & FALSE & FALSE\\\\\n",
       "\t A2M-AS1   & 0.0002658463 &  1.984769e-02 & 0.035 & 0.025 & 1 & ASD & Ctrl & 6033 & 5116 & ⋯ & ASD  &  8350 &   Inf & 12 & FALSE &  1.984769e-02 & FALSE & FALSE & FALSE & FALSE\\\\\n",
       "\t A2ML1     & 0.3860612110 & -9.024968e-04 & 0.000 & 0.001 & 1 & ASD & Ctrl & 7530 & 5289 & ⋯ & Ctrl &   Inf & 27807 & 12 & FALSE & -9.024968e-04 & FALSE & FALSE & FALSE & FALSE\\\\\n",
       "\t A2ML1     & 0.0185155875 & -1.387259e-03 & 0.000 & 0.001 & 1 & ASD & Ctrl & 6033 & 5116 & ⋯ & Ctrl &   Inf & 25351 & 12 & FALSE & -1.387259e-03 & FALSE & FALSE & FALSE & FALSE\\\\\n",
       "\t A2ML1     & 0.2390192915 & -2.671410e-04 & 0.000 & 0.000 & 1 & ASD & Ctrl & 3971 & 4634 & ⋯ & Ctrl &   Inf & 34236 & 12 & FALSE & -2.671410e-04 & FALSE & FALSE & FALSE & FALSE\\\\\n",
       "\t A2ML1-AS1 & 0.2390246082 &  6.031263e-04 & 0.000 & 0.000 & 1 & ASD & Ctrl & 7530 & 5289 & ⋯ & ASD  & 31296 &   Inf & 12 & FALSE &  6.031263e-04 & FALSE & FALSE & FALSE & FALSE\\\\\n",
       "\t A2ML1-AS1 & 1.0000000000 &  1.942942e-04 & 0.000 & 0.000 & 1 & ASD & Ctrl & 6033 & 5116 & ⋯ & ASD  & 37335 &   Inf & 12 & FALSE &  1.942942e-04 & FALSE & FALSE & FALSE & FALSE\\\\\n",
       "\t A2ML1-AS1 & 0.0958622891 & -1.102303e-03 & 0.000 & 0.000 & 1 & ASD & Ctrl & 3971 & 4634 & ⋯ & Ctrl &   Inf & 26654 & 12 & FALSE & -1.102303e-03 & FALSE & FALSE & FALSE & FALSE\\\\\n",
       "\t A2ML1-AS2 & 1.0000000000 &  0.000000e+00 & 0.000 & 0.000 & 1 & ASD & Ctrl & 6033 & 5116 & ⋯ & None &   Inf &   Inf & 12 & FALSE &  0.000000e+00 & FALSE & FALSE & FALSE & FALSE\\\\\n",
       "\t A2ML1-AS2 & 1.0000000000 &  0.000000e+00 & 0.000 & 0.000 & 1 & ASD & Ctrl & 7530 & 5289 & ⋯ & None &   Inf &   Inf & 12 & FALSE &  0.000000e+00 & FALSE & FALSE & FALSE & FALSE\\\\\n",
       "\t A2ML1-AS2 & 1.0000000000 &  0.000000e+00 & 0.000 & 0.000 & 1 & ASD & Ctrl & 3971 & 4634 & ⋯ & None &   Inf &   Inf & 12 & FALSE &  0.000000e+00 & FALSE & FALSE & FALSE & FALSE\\\\\n",
       "\t A3GALT2   & 0.2390192915 &  6.925082e-04 & 0.000 & 0.000 & 1 & ASD & Ctrl & 3971 & 4634 & ⋯ & ASD  & 30282 &   Inf & 1  & FALSE &  6.925082e-04 & FALSE & FALSE & FALSE & FALSE\\\\\n",
       "\t A3GALT2   & 1.0000000000 &  0.000000e+00 & 0.000 & 0.000 & 1 & ASD & Ctrl & 6033 & 5116 & ⋯ & None &   Inf &   Inf & 1  & FALSE &  0.000000e+00 & FALSE & FALSE & FALSE & FALSE\\\\\n",
       "\t A3GALT2   & 1.0000000000 &  0.000000e+00 & 0.000 & 0.000 & 1 & ASD & Ctrl & 7530 & 5289 & ⋯ & None &   Inf &   Inf & 1  & FALSE &  0.000000e+00 & FALSE & FALSE & FALSE & FALSE\\\\\n",
       "\t A4GALT    & 0.3080024574 &  6.900461e-03 & 0.013 & 0.012 & 1 & ASD & Ctrl & 7530 & 5289 & ⋯ & ASD  & 14768 &   Inf & 22 & FALSE &  6.900461e-03 & FALSE & FALSE & FALSE & FALSE\\\\\n",
       "\t A4GALT    & 0.9338155479 & -8.302042e-04 & 0.016 & 0.018 & 1 & ASD & Ctrl & 6033 & 5116 & ⋯ & Ctrl &   Inf & 28264 & 22 & FALSE & -8.302042e-04 & FALSE & FALSE & FALSE & FALSE\\\\\n",
       "\t A4GALT    & 0.2547396627 & -2.615959e-03 & 0.014 & 0.017 & 1 & ASD & Ctrl & 3971 & 4634 & ⋯ & Ctrl &   Inf & 21821 & 22 & FALSE & -2.615959e-03 & FALSE & FALSE & FALSE & FALSE\\\\\n",
       "\t ⋮ & ⋮ & ⋮ & ⋮ & ⋮ & ⋮ & ⋮ & ⋮ & ⋮ & ⋮ & ⋱ & ⋮ & ⋮ & ⋮ & ⋮ & ⋮ & ⋮ & ⋮ & ⋮ & ⋮ & ⋮\\\\\n",
       "\t ZWILCH & 7.591677e-01 & -0.0063619690 & 0.185 & 0.203 & 1.000000e+00 & ASD & Ctrl & 3971 & 4634 & ⋯ & Ctrl &   Inf & 17275 & 15 & FALSE & -0.0063619690 & FALSE & FALSE & FALSE & FALSE\\\\\n",
       "\t ZWILCH & 2.178590e-01 &  0.0235298960 & 0.219 & 0.222 & 1.000000e+00 & ASD & Ctrl & 6033 & 5116 & ⋯ & ASD  &  7390 &   Inf & 15 & FALSE &  0.0235298960 & FALSE & FALSE & FALSE & FALSE\\\\\n",
       "\t ZWILCH & 3.971278e-04 &  0.0568471771 & 0.131 & 0.114 & 1.000000e+00 & ASD & Ctrl & 7530 & 5289 & ⋯ & ASD  &  3122 &   Inf & 15 & FALSE &  0.0568471771 & FALSE & FALSE & FALSE & FALSE\\\\\n",
       "\t ZWINT  & 1.703722e-02 &  0.0577514748 & 0.221 & 0.205 & 1.000000e+00 & ASD & Ctrl & 7530 & 5289 & ⋯ & ASD  &  3058 &   Inf & 10 & FALSE &  0.0577514748 & FALSE & FALSE & FALSE & FALSE\\\\\n",
       "\t ZWINT  & 2.625770e-08 & -0.1128787308 & 0.425 & 0.493 & 9.907819e-04 & ASD & Ctrl & 3971 & 4634 & ⋯ & Ctrl &   Inf &  1286 & 10 & FALSE & -0.1128787308 & FALSE & FALSE & FALSE & FALSE\\\\\n",
       "\t ZWINT  & 1.764183e-10 & -0.0995162981 & 0.437 & 0.503 & 6.656793e-06 & ASD & Ctrl & 6033 & 5116 & ⋯ & Ctrl &   Inf &  1639 & 10 & FALSE & -0.0995162981 & FALSE & FALSE & FALSE & FALSE\\\\\n",
       "\t ZXDA   & 2.008700e-17 & -0.0201291836 & 0.000 & 0.011 & 7.579429e-13 & ASD & Ctrl & 6033 & 5116 & ⋯ & Ctrl &   Inf & 10610 & X  &  TRUE & -0.0201291836 & FALSE & FALSE & FALSE & FALSE\\\\\n",
       "\t ZXDA   & 1.026449e-14 & -0.0199803018 & 0.000 & 0.011 & 3.873100e-10 & ASD & Ctrl & 3971 & 4634 & ⋯ & Ctrl &   Inf & 10656 & X  &  TRUE & -0.0199803018 & FALSE & FALSE & FALSE & FALSE\\\\\n",
       "\t ZXDA   & 2.655785e-10 & -0.0199211476 & 0.001 & 0.009 & 1.002108e-05 & ASD & Ctrl & 7530 & 5289 & ⋯ & Ctrl &   Inf & 10674 & X  &  TRUE & -0.0199211476 & FALSE & FALSE & FALSE & FALSE\\\\\n",
       "\t ZXDB   & 5.366785e-01 & -0.0042726395 & 0.015 & 0.017 & 1.000000e+00 & ASD & Ctrl & 3971 & 4634 & ⋯ & Ctrl &   Inf & 19332 & X  &  TRUE & -0.0042726395 & FALSE & FALSE & FALSE & FALSE\\\\\n",
       "\t ZXDB   & 2.040992e-03 & -0.0169390835 & 0.016 & 0.030 & 1.000000e+00 & ASD & Ctrl & 6033 & 5116 & ⋯ & Ctrl &   Inf & 11710 & X  &  TRUE & -0.0169390835 & FALSE & FALSE & FALSE & FALSE\\\\\n",
       "\t ZXDB   & 2.283563e-01 & -0.0082274396 & 0.014 & 0.017 & 1.000000e+00 & ASD & Ctrl & 7530 & 5289 & ⋯ & Ctrl &   Inf & 15976 & X  &  TRUE & -0.0082274396 & FALSE & FALSE & FALSE & FALSE\\\\\n",
       "\t ZXDC   & 9.420664e-01 &  0.0061564200 & 0.060 & 0.066 & 1.000000e+00 & ASD & Ctrl & 3971 & 4634 & ⋯ & ASD  & 15455 &   Inf & 3  & FALSE &  0.0061564200 & FALSE & FALSE & FALSE & FALSE\\\\\n",
       "\t ZXDC   & 8.489432e-01 &  0.0022316157 & 0.057 & 0.056 & 1.000000e+00 & ASD & Ctrl & 7530 & 5289 & ⋯ & ASD  & 21989 &   Inf & 3  & FALSE &  0.0022316157 & FALSE & FALSE & FALSE & FALSE\\\\\n",
       "\t ZXDC   & 1.164666e-01 & -0.0053253334 & 0.084 & 0.099 & 1.000000e+00 & ASD & Ctrl & 6033 & 5116 & ⋯ & Ctrl &   Inf & 18209 & 3  & FALSE & -0.0053253334 & FALSE & FALSE & FALSE & FALSE\\\\\n",
       "\t ZYG11A & 5.395807e-01 &  0.0004202721 & 0.001 & 0.001 & 1.000000e+00 & ASD & Ctrl & 6033 & 5116 & ⋯ & ASD  & 33756 &   Inf & 1  & FALSE &  0.0004202721 & FALSE & FALSE & FALSE & FALSE\\\\\n",
       "\t ZYG11A & 1.563456e-01 & -0.0021977504 & 0.000 & 0.001 & 1.000000e+00 & ASD & Ctrl & 7530 & 5289 & ⋯ & Ctrl &   Inf & 22777 & 1  & FALSE & -0.0021977504 & FALSE & FALSE & FALSE & FALSE\\\\\n",
       "\t ZYG11A & 8.864184e-01 &  0.0008688577 & 0.001 & 0.002 & 1.000000e+00 & ASD & Ctrl & 3971 & 4634 & ⋯ & ASD  & 28636 &   Inf & 1  & FALSE &  0.0008688577 & FALSE & FALSE & FALSE & FALSE\\\\\n",
       "\t ZYG11B & 4.697780e-01 &  0.0021767667 & 0.179 & 0.196 & 1.000000e+00 & ASD & Ctrl & 3971 & 4634 & ⋯ & ASD  & 22134 &   Inf & 1  & FALSE &  0.0021767667 & FALSE & FALSE & FALSE & FALSE\\\\\n",
       "\t ZYG11B & 3.049269e-02 & -0.0233714684 & 0.156 & 0.166 & 1.000000e+00 & ASD & Ctrl & 7530 & 5289 & ⋯ & Ctrl &   Inf &  9622 & 1  & FALSE & -0.0233714684 & FALSE & FALSE & FALSE & FALSE\\\\\n",
       "\t ZYG11B & 5.023478e-01 & -0.0131631036 & 0.253 & 0.264 & 1.000000e+00 & ASD & Ctrl & 6033 & 5116 & ⋯ & Ctrl &   Inf & 13347 & 1  & FALSE & -0.0131631036 & FALSE & FALSE & FALSE & FALSE\\\\\n",
       "\t ZYX    & 4.276690e-01 &  0.0165925939 & 0.263 & 0.264 & 1.000000e+00 & ASD & Ctrl & 6033 & 5116 & ⋯ & ASD  &  9407 &   Inf & 7  & FALSE &  0.0165925939 & FALSE & FALSE & FALSE & FALSE\\\\\n",
       "\t ZYX    & 2.513154e-01 &  0.0209003322 & 0.185 & 0.195 & 1.000000e+00 & ASD & Ctrl & 3971 & 4634 & ⋯ & ASD  &  8075 &   Inf & 7  & FALSE &  0.0209003322 & FALSE & FALSE & FALSE & FALSE\\\\\n",
       "\t ZYX    & 9.731919e-02 &  0.0294858970 & 0.186 & 0.179 & 1.000000e+00 & ASD & Ctrl & 7530 & 5289 & ⋯ & ASD  &  6166 &   Inf & 7  & FALSE &  0.0294858970 & FALSE & FALSE & FALSE & FALSE\\\\\n",
       "\t ZZEF1  & 2.301902e-01 &  0.0125409174 & 0.059 & 0.058 & 1.000000e+00 & ASD & Ctrl & 6033 & 5116 & ⋯ & ASD  & 11040 &   Inf & 17 & FALSE &  0.0125409174 & FALSE & FALSE & FALSE & FALSE\\\\\n",
       "\t ZZEF1  & 4.012106e-01 & -0.0094820255 & 0.041 & 0.042 & 1.000000e+00 & ASD & Ctrl & 7530 & 5289 & ⋯ & Ctrl &   Inf & 15235 & 17 & FALSE & -0.0094820255 & FALSE & FALSE & FALSE & FALSE\\\\\n",
       "\t ZZEF1  & 8.719074e-01 &  0.0022016992 & 0.043 & 0.048 & 1.000000e+00 & ASD & Ctrl & 3971 & 4634 & ⋯ & ASD  & 22064 &   Inf & 17 & FALSE &  0.0022016992 & FALSE & FALSE & FALSE & FALSE\\\\\n",
       "\t ZZZ3   & 6.077996e-02 & -0.0115052184 & 0.172 & 0.199 & 1.000000e+00 & ASD & Ctrl & 3971 & 4634 & ⋯ & Ctrl &   Inf & 14136 & 1  & FALSE & -0.0115052184 & FALSE & FALSE & FALSE & FALSE\\\\\n",
       "\t ZZZ3   & 1.548332e-04 & -0.0667335222 & 0.140 & 0.163 & 1.000000e+00 & ASD & Ctrl & 7530 & 5289 & ⋯ & Ctrl &   Inf &  3240 & 1  & FALSE & -0.0667335222 & FALSE & FALSE & FALSE & FALSE\\\\\n",
       "\t ZZZ3   & 3.989893e-04 & -0.0521693933 & 0.216 & 0.248 & 1.000000e+00 & ASD & Ctrl & 6033 & 5116 & ⋯ & Ctrl &   Inf &  4530 & 1  & FALSE & -0.0521693933 & FALSE & FALSE & FALSE & FALSE\\\\\n",
       "\\end{tabular}\n"
      ],
      "text/markdown": [
       "\n",
       "A data.frame: 113199 × 28\n",
       "\n",
       "| gene &lt;chr&gt; | p_val &lt;dbl&gt; | avg_log2FC &lt;dbl&gt; | pct.1 &lt;dbl&gt; | pct.2 &lt;dbl&gt; | p_val_adj &lt;dbl&gt; | ident.1 &lt;chr&gt; | ident.2 &lt;chr&gt; | ncells.1 &lt;int&gt; | ncells.2 &lt;int&gt; | ⋯ ⋯ | overexpressed.in &lt;chr&gt; | rank.ASD &lt;dbl&gt; | rank.Ctrl &lt;dbl&gt; | chromosome &lt;chr&gt; | in.sex_chr &lt;lgl&gt; | logfc &lt;dbl&gt; | filter.2of3.over.2of3 &lt;lgl&gt; | filter.2of3.over.max &lt;lgl&gt; | filter.all.over.2of3 &lt;lgl&gt; | filter.all.over.max &lt;lgl&gt; |\n",
       "|---|---|---|---|---|---|---|---|---|---|---|---|---|---|---|---|---|---|---|---|---|\n",
       "| A1BG      | 0.6037602603 | -6.837629e-05 | 0.088 | 0.098 | 1 | ASD | Ctrl | 3971 | 4634 | ⋯ | Ctrl |   Inf | 37276 | 19 | FALSE | -6.837629e-05 | FALSE | FALSE | FALSE | FALSE |\n",
       "| A1BG      | 0.6947624072 |  1.044563e-02 | 0.121 | 0.119 | 1 | ASD | Ctrl | 6033 | 5116 | ⋯ | ASD  | 12158 |   Inf | 19 | FALSE |  1.044563e-02 | FALSE | FALSE | FALSE | FALSE |\n",
       "| A1BG      | 0.1560858882 | -1.932446e-02 | 0.084 | 0.088 | 1 | ASD | Ctrl | 7530 | 5289 | ⋯ | Ctrl |   Inf | 10873 | 19 | FALSE | -1.932446e-02 | FALSE | FALSE | FALSE | FALSE |\n",
       "| A1BG-AS1  | 0.2663185805 | -6.692442e-03 | 0.024 | 0.029 | 1 | ASD | Ctrl | 6033 | 5116 | ⋯ | Ctrl |   Inf | 17005 | 19 | FALSE | -6.692442e-03 | FALSE | FALSE | FALSE | FALSE |\n",
       "| A1BG-AS1  | 0.5659545658 | -3.957209e-03 | 0.023 | 0.028 | 1 | ASD | Ctrl | 3971 | 4634 | ⋯ | Ctrl |   Inf | 19702 | 19 | FALSE | -3.957209e-03 | FALSE | FALSE | FALSE | FALSE |\n",
       "| A1BG-AS1  | 0.1763785442 | -5.599441e-03 | 0.018 | 0.023 | 1 | ASD | Ctrl | 7530 | 5289 | ⋯ | Ctrl |   Inf | 17943 | 19 | FALSE | -5.599441e-03 | FALSE | FALSE | FALSE | FALSE |\n",
       "| A1CF      | 0.0185157613 | -1.032206e-03 | 0.000 | 0.001 | 1 | ASD | Ctrl | 6033 | 5116 | ⋯ | Ctrl |   Inf | 27041 | 10 | FALSE | -1.032206e-03 | FALSE | FALSE | FALSE | FALSE |\n",
       "| A1CF      | 0.0879682269 | -1.528657e-03 | 0.000 | 0.001 | 1 | ASD | Ctrl | 3971 | 4634 | ⋯ | Ctrl |   Inf | 24827 | 10 | FALSE | -1.528657e-03 | FALSE | FALSE | FALSE | FALSE |\n",
       "| A1CF      | 0.1158903721 |  2.162832e-03 | 0.001 | 0.000 | 1 | ASD | Ctrl | 7530 | 5289 | ⋯ | ASD  | 22181 |   Inf | 10 | FALSE |  2.162832e-03 | FALSE | FALSE | FALSE | FALSE |\n",
       "| A2M       | 0.9071098234 | -2.790128e-05 | 0.001 | 0.001 | 1 | ASD | Ctrl | 3971 | 4634 | ⋯ | Ctrl |   Inf | 37700 | 12 | FALSE | -2.790128e-05 | FALSE | FALSE | FALSE | FALSE |\n",
       "| A2M       | 0.9156817197 | -1.371904e-04 | 0.002 | 0.002 | 1 | ASD | Ctrl | 6033 | 5116 | ⋯ | Ctrl |   Inf | 36168 | 12 | FALSE | -1.371904e-04 | FALSE | FALSE | FALSE | FALSE |\n",
       "| A2M       | 0.3539900943 | -8.955793e-04 | 0.002 | 0.002 | 1 | ASD | Ctrl | 7530 | 5289 | ⋯ | Ctrl |   Inf | 27858 | 12 | FALSE | -8.955793e-04 | FALSE | FALSE | FALSE | FALSE |\n",
       "| A2M-AS1   | 0.0001332122 |  2.454457e-02 | 0.024 | 0.014 | 1 | ASD | Ctrl | 7530 | 5289 | ⋯ | ASD  |  7172 |   Inf | 12 | FALSE |  2.454457e-02 | FALSE | FALSE | FALSE | FALSE |\n",
       "| A2M-AS1   | 0.6602939251 |  3.872115e-03 | 0.025 | 0.023 | 1 | ASD | Ctrl | 3971 | 4634 | ⋯ | ASD  | 18337 |   Inf | 12 | FALSE |  3.872115e-03 | FALSE | FALSE | FALSE | FALSE |\n",
       "| A2M-AS1   | 0.0002658463 |  1.984769e-02 | 0.035 | 0.025 | 1 | ASD | Ctrl | 6033 | 5116 | ⋯ | ASD  |  8350 |   Inf | 12 | FALSE |  1.984769e-02 | FALSE | FALSE | FALSE | FALSE |\n",
       "| A2ML1     | 0.3860612110 | -9.024968e-04 | 0.000 | 0.001 | 1 | ASD | Ctrl | 7530 | 5289 | ⋯ | Ctrl |   Inf | 27807 | 12 | FALSE | -9.024968e-04 | FALSE | FALSE | FALSE | FALSE |\n",
       "| A2ML1     | 0.0185155875 | -1.387259e-03 | 0.000 | 0.001 | 1 | ASD | Ctrl | 6033 | 5116 | ⋯ | Ctrl |   Inf | 25351 | 12 | FALSE | -1.387259e-03 | FALSE | FALSE | FALSE | FALSE |\n",
       "| A2ML1     | 0.2390192915 | -2.671410e-04 | 0.000 | 0.000 | 1 | ASD | Ctrl | 3971 | 4634 | ⋯ | Ctrl |   Inf | 34236 | 12 | FALSE | -2.671410e-04 | FALSE | FALSE | FALSE | FALSE |\n",
       "| A2ML1-AS1 | 0.2390246082 |  6.031263e-04 | 0.000 | 0.000 | 1 | ASD | Ctrl | 7530 | 5289 | ⋯ | ASD  | 31296 |   Inf | 12 | FALSE |  6.031263e-04 | FALSE | FALSE | FALSE | FALSE |\n",
       "| A2ML1-AS1 | 1.0000000000 |  1.942942e-04 | 0.000 | 0.000 | 1 | ASD | Ctrl | 6033 | 5116 | ⋯ | ASD  | 37335 |   Inf | 12 | FALSE |  1.942942e-04 | FALSE | FALSE | FALSE | FALSE |\n",
       "| A2ML1-AS1 | 0.0958622891 | -1.102303e-03 | 0.000 | 0.000 | 1 | ASD | Ctrl | 3971 | 4634 | ⋯ | Ctrl |   Inf | 26654 | 12 | FALSE | -1.102303e-03 | FALSE | FALSE | FALSE | FALSE |\n",
       "| A2ML1-AS2 | 1.0000000000 |  0.000000e+00 | 0.000 | 0.000 | 1 | ASD | Ctrl | 6033 | 5116 | ⋯ | None |   Inf |   Inf | 12 | FALSE |  0.000000e+00 | FALSE | FALSE | FALSE | FALSE |\n",
       "| A2ML1-AS2 | 1.0000000000 |  0.000000e+00 | 0.000 | 0.000 | 1 | ASD | Ctrl | 7530 | 5289 | ⋯ | None |   Inf |   Inf | 12 | FALSE |  0.000000e+00 | FALSE | FALSE | FALSE | FALSE |\n",
       "| A2ML1-AS2 | 1.0000000000 |  0.000000e+00 | 0.000 | 0.000 | 1 | ASD | Ctrl | 3971 | 4634 | ⋯ | None |   Inf |   Inf | 12 | FALSE |  0.000000e+00 | FALSE | FALSE | FALSE | FALSE |\n",
       "| A3GALT2   | 0.2390192915 |  6.925082e-04 | 0.000 | 0.000 | 1 | ASD | Ctrl | 3971 | 4634 | ⋯ | ASD  | 30282 |   Inf | 1  | FALSE |  6.925082e-04 | FALSE | FALSE | FALSE | FALSE |\n",
       "| A3GALT2   | 1.0000000000 |  0.000000e+00 | 0.000 | 0.000 | 1 | ASD | Ctrl | 6033 | 5116 | ⋯ | None |   Inf |   Inf | 1  | FALSE |  0.000000e+00 | FALSE | FALSE | FALSE | FALSE |\n",
       "| A3GALT2   | 1.0000000000 |  0.000000e+00 | 0.000 | 0.000 | 1 | ASD | Ctrl | 7530 | 5289 | ⋯ | None |   Inf |   Inf | 1  | FALSE |  0.000000e+00 | FALSE | FALSE | FALSE | FALSE |\n",
       "| A4GALT    | 0.3080024574 |  6.900461e-03 | 0.013 | 0.012 | 1 | ASD | Ctrl | 7530 | 5289 | ⋯ | ASD  | 14768 |   Inf | 22 | FALSE |  6.900461e-03 | FALSE | FALSE | FALSE | FALSE |\n",
       "| A4GALT    | 0.9338155479 | -8.302042e-04 | 0.016 | 0.018 | 1 | ASD | Ctrl | 6033 | 5116 | ⋯ | Ctrl |   Inf | 28264 | 22 | FALSE | -8.302042e-04 | FALSE | FALSE | FALSE | FALSE |\n",
       "| A4GALT    | 0.2547396627 | -2.615959e-03 | 0.014 | 0.017 | 1 | ASD | Ctrl | 3971 | 4634 | ⋯ | Ctrl |   Inf | 21821 | 22 | FALSE | -2.615959e-03 | FALSE | FALSE | FALSE | FALSE |\n",
       "| ⋮ | ⋮ | ⋮ | ⋮ | ⋮ | ⋮ | ⋮ | ⋮ | ⋮ | ⋮ | ⋱ | ⋮ | ⋮ | ⋮ | ⋮ | ⋮ | ⋮ | ⋮ | ⋮ | ⋮ | ⋮ |\n",
       "| ZWILCH | 7.591677e-01 | -0.0063619690 | 0.185 | 0.203 | 1.000000e+00 | ASD | Ctrl | 3971 | 4634 | ⋯ | Ctrl |   Inf | 17275 | 15 | FALSE | -0.0063619690 | FALSE | FALSE | FALSE | FALSE |\n",
       "| ZWILCH | 2.178590e-01 |  0.0235298960 | 0.219 | 0.222 | 1.000000e+00 | ASD | Ctrl | 6033 | 5116 | ⋯ | ASD  |  7390 |   Inf | 15 | FALSE |  0.0235298960 | FALSE | FALSE | FALSE | FALSE |\n",
       "| ZWILCH | 3.971278e-04 |  0.0568471771 | 0.131 | 0.114 | 1.000000e+00 | ASD | Ctrl | 7530 | 5289 | ⋯ | ASD  |  3122 |   Inf | 15 | FALSE |  0.0568471771 | FALSE | FALSE | FALSE | FALSE |\n",
       "| ZWINT  | 1.703722e-02 |  0.0577514748 | 0.221 | 0.205 | 1.000000e+00 | ASD | Ctrl | 7530 | 5289 | ⋯ | ASD  |  3058 |   Inf | 10 | FALSE |  0.0577514748 | FALSE | FALSE | FALSE | FALSE |\n",
       "| ZWINT  | 2.625770e-08 | -0.1128787308 | 0.425 | 0.493 | 9.907819e-04 | ASD | Ctrl | 3971 | 4634 | ⋯ | Ctrl |   Inf |  1286 | 10 | FALSE | -0.1128787308 | FALSE | FALSE | FALSE | FALSE |\n",
       "| ZWINT  | 1.764183e-10 | -0.0995162981 | 0.437 | 0.503 | 6.656793e-06 | ASD | Ctrl | 6033 | 5116 | ⋯ | Ctrl |   Inf |  1639 | 10 | FALSE | -0.0995162981 | FALSE | FALSE | FALSE | FALSE |\n",
       "| ZXDA   | 2.008700e-17 | -0.0201291836 | 0.000 | 0.011 | 7.579429e-13 | ASD | Ctrl | 6033 | 5116 | ⋯ | Ctrl |   Inf | 10610 | X  |  TRUE | -0.0201291836 | FALSE | FALSE | FALSE | FALSE |\n",
       "| ZXDA   | 1.026449e-14 | -0.0199803018 | 0.000 | 0.011 | 3.873100e-10 | ASD | Ctrl | 3971 | 4634 | ⋯ | Ctrl |   Inf | 10656 | X  |  TRUE | -0.0199803018 | FALSE | FALSE | FALSE | FALSE |\n",
       "| ZXDA   | 2.655785e-10 | -0.0199211476 | 0.001 | 0.009 | 1.002108e-05 | ASD | Ctrl | 7530 | 5289 | ⋯ | Ctrl |   Inf | 10674 | X  |  TRUE | -0.0199211476 | FALSE | FALSE | FALSE | FALSE |\n",
       "| ZXDB   | 5.366785e-01 | -0.0042726395 | 0.015 | 0.017 | 1.000000e+00 | ASD | Ctrl | 3971 | 4634 | ⋯ | Ctrl |   Inf | 19332 | X  |  TRUE | -0.0042726395 | FALSE | FALSE | FALSE | FALSE |\n",
       "| ZXDB   | 2.040992e-03 | -0.0169390835 | 0.016 | 0.030 | 1.000000e+00 | ASD | Ctrl | 6033 | 5116 | ⋯ | Ctrl |   Inf | 11710 | X  |  TRUE | -0.0169390835 | FALSE | FALSE | FALSE | FALSE |\n",
       "| ZXDB   | 2.283563e-01 | -0.0082274396 | 0.014 | 0.017 | 1.000000e+00 | ASD | Ctrl | 7530 | 5289 | ⋯ | Ctrl |   Inf | 15976 | X  |  TRUE | -0.0082274396 | FALSE | FALSE | FALSE | FALSE |\n",
       "| ZXDC   | 9.420664e-01 |  0.0061564200 | 0.060 | 0.066 | 1.000000e+00 | ASD | Ctrl | 3971 | 4634 | ⋯ | ASD  | 15455 |   Inf | 3  | FALSE |  0.0061564200 | FALSE | FALSE | FALSE | FALSE |\n",
       "| ZXDC   | 8.489432e-01 |  0.0022316157 | 0.057 | 0.056 | 1.000000e+00 | ASD | Ctrl | 7530 | 5289 | ⋯ | ASD  | 21989 |   Inf | 3  | FALSE |  0.0022316157 | FALSE | FALSE | FALSE | FALSE |\n",
       "| ZXDC   | 1.164666e-01 | -0.0053253334 | 0.084 | 0.099 | 1.000000e+00 | ASD | Ctrl | 6033 | 5116 | ⋯ | Ctrl |   Inf | 18209 | 3  | FALSE | -0.0053253334 | FALSE | FALSE | FALSE | FALSE |\n",
       "| ZYG11A | 5.395807e-01 |  0.0004202721 | 0.001 | 0.001 | 1.000000e+00 | ASD | Ctrl | 6033 | 5116 | ⋯ | ASD  | 33756 |   Inf | 1  | FALSE |  0.0004202721 | FALSE | FALSE | FALSE | FALSE |\n",
       "| ZYG11A | 1.563456e-01 | -0.0021977504 | 0.000 | 0.001 | 1.000000e+00 | ASD | Ctrl | 7530 | 5289 | ⋯ | Ctrl |   Inf | 22777 | 1  | FALSE | -0.0021977504 | FALSE | FALSE | FALSE | FALSE |\n",
       "| ZYG11A | 8.864184e-01 |  0.0008688577 | 0.001 | 0.002 | 1.000000e+00 | ASD | Ctrl | 3971 | 4634 | ⋯ | ASD  | 28636 |   Inf | 1  | FALSE |  0.0008688577 | FALSE | FALSE | FALSE | FALSE |\n",
       "| ZYG11B | 4.697780e-01 |  0.0021767667 | 0.179 | 0.196 | 1.000000e+00 | ASD | Ctrl | 3971 | 4634 | ⋯ | ASD  | 22134 |   Inf | 1  | FALSE |  0.0021767667 | FALSE | FALSE | FALSE | FALSE |\n",
       "| ZYG11B | 3.049269e-02 | -0.0233714684 | 0.156 | 0.166 | 1.000000e+00 | ASD | Ctrl | 7530 | 5289 | ⋯ | Ctrl |   Inf |  9622 | 1  | FALSE | -0.0233714684 | FALSE | FALSE | FALSE | FALSE |\n",
       "| ZYG11B | 5.023478e-01 | -0.0131631036 | 0.253 | 0.264 | 1.000000e+00 | ASD | Ctrl | 6033 | 5116 | ⋯ | Ctrl |   Inf | 13347 | 1  | FALSE | -0.0131631036 | FALSE | FALSE | FALSE | FALSE |\n",
       "| ZYX    | 4.276690e-01 |  0.0165925939 | 0.263 | 0.264 | 1.000000e+00 | ASD | Ctrl | 6033 | 5116 | ⋯ | ASD  |  9407 |   Inf | 7  | FALSE |  0.0165925939 | FALSE | FALSE | FALSE | FALSE |\n",
       "| ZYX    | 2.513154e-01 |  0.0209003322 | 0.185 | 0.195 | 1.000000e+00 | ASD | Ctrl | 3971 | 4634 | ⋯ | ASD  |  8075 |   Inf | 7  | FALSE |  0.0209003322 | FALSE | FALSE | FALSE | FALSE |\n",
       "| ZYX    | 9.731919e-02 |  0.0294858970 | 0.186 | 0.179 | 1.000000e+00 | ASD | Ctrl | 7530 | 5289 | ⋯ | ASD  |  6166 |   Inf | 7  | FALSE |  0.0294858970 | FALSE | FALSE | FALSE | FALSE |\n",
       "| ZZEF1  | 2.301902e-01 |  0.0125409174 | 0.059 | 0.058 | 1.000000e+00 | ASD | Ctrl | 6033 | 5116 | ⋯ | ASD  | 11040 |   Inf | 17 | FALSE |  0.0125409174 | FALSE | FALSE | FALSE | FALSE |\n",
       "| ZZEF1  | 4.012106e-01 | -0.0094820255 | 0.041 | 0.042 | 1.000000e+00 | ASD | Ctrl | 7530 | 5289 | ⋯ | Ctrl |   Inf | 15235 | 17 | FALSE | -0.0094820255 | FALSE | FALSE | FALSE | FALSE |\n",
       "| ZZEF1  | 8.719074e-01 |  0.0022016992 | 0.043 | 0.048 | 1.000000e+00 | ASD | Ctrl | 3971 | 4634 | ⋯ | ASD  | 22064 |   Inf | 17 | FALSE |  0.0022016992 | FALSE | FALSE | FALSE | FALSE |\n",
       "| ZZZ3   | 6.077996e-02 | -0.0115052184 | 0.172 | 0.199 | 1.000000e+00 | ASD | Ctrl | 3971 | 4634 | ⋯ | Ctrl |   Inf | 14136 | 1  | FALSE | -0.0115052184 | FALSE | FALSE | FALSE | FALSE |\n",
       "| ZZZ3   | 1.548332e-04 | -0.0667335222 | 0.140 | 0.163 | 1.000000e+00 | ASD | Ctrl | 7530 | 5289 | ⋯ | Ctrl |   Inf |  3240 | 1  | FALSE | -0.0667335222 | FALSE | FALSE | FALSE | FALSE |\n",
       "| ZZZ3   | 3.989893e-04 | -0.0521693933 | 0.216 | 0.248 | 1.000000e+00 | ASD | Ctrl | 6033 | 5116 | ⋯ | Ctrl |   Inf |  4530 | 1  | FALSE | -0.0521693933 | FALSE | FALSE | FALSE | FALSE |\n",
       "\n"
      ],
      "text/plain": [
       "       gene      p_val        avg_log2FC    pct.1 pct.2 p_val_adj    ident.1\n",
       "1      A1BG      0.6037602603 -6.837629e-05 0.088 0.098 1            ASD    \n",
       "2      A1BG      0.6947624072  1.044563e-02 0.121 0.119 1            ASD    \n",
       "3      A1BG      0.1560858882 -1.932446e-02 0.084 0.088 1            ASD    \n",
       "4      A1BG-AS1  0.2663185805 -6.692442e-03 0.024 0.029 1            ASD    \n",
       "5      A1BG-AS1  0.5659545658 -3.957209e-03 0.023 0.028 1            ASD    \n",
       "6      A1BG-AS1  0.1763785442 -5.599441e-03 0.018 0.023 1            ASD    \n",
       "7      A1CF      0.0185157613 -1.032206e-03 0.000 0.001 1            ASD    \n",
       "8      A1CF      0.0879682269 -1.528657e-03 0.000 0.001 1            ASD    \n",
       "9      A1CF      0.1158903721  2.162832e-03 0.001 0.000 1            ASD    \n",
       "10     A2M       0.9071098234 -2.790128e-05 0.001 0.001 1            ASD    \n",
       "11     A2M       0.9156817197 -1.371904e-04 0.002 0.002 1            ASD    \n",
       "12     A2M       0.3539900943 -8.955793e-04 0.002 0.002 1            ASD    \n",
       "13     A2M-AS1   0.0001332122  2.454457e-02 0.024 0.014 1            ASD    \n",
       "14     A2M-AS1   0.6602939251  3.872115e-03 0.025 0.023 1            ASD    \n",
       "15     A2M-AS1   0.0002658463  1.984769e-02 0.035 0.025 1            ASD    \n",
       "16     A2ML1     0.3860612110 -9.024968e-04 0.000 0.001 1            ASD    \n",
       "17     A2ML1     0.0185155875 -1.387259e-03 0.000 0.001 1            ASD    \n",
       "18     A2ML1     0.2390192915 -2.671410e-04 0.000 0.000 1            ASD    \n",
       "19     A2ML1-AS1 0.2390246082  6.031263e-04 0.000 0.000 1            ASD    \n",
       "20     A2ML1-AS1 1.0000000000  1.942942e-04 0.000 0.000 1            ASD    \n",
       "21     A2ML1-AS1 0.0958622891 -1.102303e-03 0.000 0.000 1            ASD    \n",
       "22     A2ML1-AS2 1.0000000000  0.000000e+00 0.000 0.000 1            ASD    \n",
       "23     A2ML1-AS2 1.0000000000  0.000000e+00 0.000 0.000 1            ASD    \n",
       "24     A2ML1-AS2 1.0000000000  0.000000e+00 0.000 0.000 1            ASD    \n",
       "25     A3GALT2   0.2390192915  6.925082e-04 0.000 0.000 1            ASD    \n",
       "26     A3GALT2   1.0000000000  0.000000e+00 0.000 0.000 1            ASD    \n",
       "27     A3GALT2   1.0000000000  0.000000e+00 0.000 0.000 1            ASD    \n",
       "28     A4GALT    0.3080024574  6.900461e-03 0.013 0.012 1            ASD    \n",
       "29     A4GALT    0.9338155479 -8.302042e-04 0.016 0.018 1            ASD    \n",
       "30     A4GALT    0.2547396627 -2.615959e-03 0.014 0.017 1            ASD    \n",
       "⋮      ⋮         ⋮            ⋮             ⋮     ⋮     ⋮            ⋮      \n",
       "113170 ZWILCH    7.591677e-01 -0.0063619690 0.185 0.203 1.000000e+00 ASD    \n",
       "113171 ZWILCH    2.178590e-01  0.0235298960 0.219 0.222 1.000000e+00 ASD    \n",
       "113172 ZWILCH    3.971278e-04  0.0568471771 0.131 0.114 1.000000e+00 ASD    \n",
       "113173 ZWINT     1.703722e-02  0.0577514748 0.221 0.205 1.000000e+00 ASD    \n",
       "113174 ZWINT     2.625770e-08 -0.1128787308 0.425 0.493 9.907819e-04 ASD    \n",
       "113175 ZWINT     1.764183e-10 -0.0995162981 0.437 0.503 6.656793e-06 ASD    \n",
       "113176 ZXDA      2.008700e-17 -0.0201291836 0.000 0.011 7.579429e-13 ASD    \n",
       "113177 ZXDA      1.026449e-14 -0.0199803018 0.000 0.011 3.873100e-10 ASD    \n",
       "113178 ZXDA      2.655785e-10 -0.0199211476 0.001 0.009 1.002108e-05 ASD    \n",
       "113179 ZXDB      5.366785e-01 -0.0042726395 0.015 0.017 1.000000e+00 ASD    \n",
       "113180 ZXDB      2.040992e-03 -0.0169390835 0.016 0.030 1.000000e+00 ASD    \n",
       "113181 ZXDB      2.283563e-01 -0.0082274396 0.014 0.017 1.000000e+00 ASD    \n",
       "113182 ZXDC      9.420664e-01  0.0061564200 0.060 0.066 1.000000e+00 ASD    \n",
       "113183 ZXDC      8.489432e-01  0.0022316157 0.057 0.056 1.000000e+00 ASD    \n",
       "113184 ZXDC      1.164666e-01 -0.0053253334 0.084 0.099 1.000000e+00 ASD    \n",
       "113185 ZYG11A    5.395807e-01  0.0004202721 0.001 0.001 1.000000e+00 ASD    \n",
       "113186 ZYG11A    1.563456e-01 -0.0021977504 0.000 0.001 1.000000e+00 ASD    \n",
       "113187 ZYG11A    8.864184e-01  0.0008688577 0.001 0.002 1.000000e+00 ASD    \n",
       "113188 ZYG11B    4.697780e-01  0.0021767667 0.179 0.196 1.000000e+00 ASD    \n",
       "113189 ZYG11B    3.049269e-02 -0.0233714684 0.156 0.166 1.000000e+00 ASD    \n",
       "113190 ZYG11B    5.023478e-01 -0.0131631036 0.253 0.264 1.000000e+00 ASD    \n",
       "113191 ZYX       4.276690e-01  0.0165925939 0.263 0.264 1.000000e+00 ASD    \n",
       "113192 ZYX       2.513154e-01  0.0209003322 0.185 0.195 1.000000e+00 ASD    \n",
       "113193 ZYX       9.731919e-02  0.0294858970 0.186 0.179 1.000000e+00 ASD    \n",
       "113194 ZZEF1     2.301902e-01  0.0125409174 0.059 0.058 1.000000e+00 ASD    \n",
       "113195 ZZEF1     4.012106e-01 -0.0094820255 0.041 0.042 1.000000e+00 ASD    \n",
       "113196 ZZEF1     8.719074e-01  0.0022016992 0.043 0.048 1.000000e+00 ASD    \n",
       "113197 ZZZ3      6.077996e-02 -0.0115052184 0.172 0.199 1.000000e+00 ASD    \n",
       "113198 ZZZ3      1.548332e-04 -0.0667335222 0.140 0.163 1.000000e+00 ASD    \n",
       "113199 ZZZ3      3.989893e-04 -0.0521693933 0.216 0.248 1.000000e+00 ASD    \n",
       "       ident.2 ncells.1 ncells.2 ⋯ overexpressed.in rank.ASD rank.Ctrl\n",
       "1      Ctrl    3971     4634     ⋯ Ctrl               Inf    37276    \n",
       "2      Ctrl    6033     5116     ⋯ ASD              12158      Inf    \n",
       "3      Ctrl    7530     5289     ⋯ Ctrl               Inf    10873    \n",
       "4      Ctrl    6033     5116     ⋯ Ctrl               Inf    17005    \n",
       "5      Ctrl    3971     4634     ⋯ Ctrl               Inf    19702    \n",
       "6      Ctrl    7530     5289     ⋯ Ctrl               Inf    17943    \n",
       "7      Ctrl    6033     5116     ⋯ Ctrl               Inf    27041    \n",
       "8      Ctrl    3971     4634     ⋯ Ctrl               Inf    24827    \n",
       "9      Ctrl    7530     5289     ⋯ ASD              22181      Inf    \n",
       "10     Ctrl    3971     4634     ⋯ Ctrl               Inf    37700    \n",
       "11     Ctrl    6033     5116     ⋯ Ctrl               Inf    36168    \n",
       "12     Ctrl    7530     5289     ⋯ Ctrl               Inf    27858    \n",
       "13     Ctrl    7530     5289     ⋯ ASD               7172      Inf    \n",
       "14     Ctrl    3971     4634     ⋯ ASD              18337      Inf    \n",
       "15     Ctrl    6033     5116     ⋯ ASD               8350      Inf    \n",
       "16     Ctrl    7530     5289     ⋯ Ctrl               Inf    27807    \n",
       "17     Ctrl    6033     5116     ⋯ Ctrl               Inf    25351    \n",
       "18     Ctrl    3971     4634     ⋯ Ctrl               Inf    34236    \n",
       "19     Ctrl    7530     5289     ⋯ ASD              31296      Inf    \n",
       "20     Ctrl    6033     5116     ⋯ ASD              37335      Inf    \n",
       "21     Ctrl    3971     4634     ⋯ Ctrl               Inf    26654    \n",
       "22     Ctrl    6033     5116     ⋯ None               Inf      Inf    \n",
       "23     Ctrl    7530     5289     ⋯ None               Inf      Inf    \n",
       "24     Ctrl    3971     4634     ⋯ None               Inf      Inf    \n",
       "25     Ctrl    3971     4634     ⋯ ASD              30282      Inf    \n",
       "26     Ctrl    6033     5116     ⋯ None               Inf      Inf    \n",
       "27     Ctrl    7530     5289     ⋯ None               Inf      Inf    \n",
       "28     Ctrl    7530     5289     ⋯ ASD              14768      Inf    \n",
       "29     Ctrl    6033     5116     ⋯ Ctrl               Inf    28264    \n",
       "30     Ctrl    3971     4634     ⋯ Ctrl               Inf    21821    \n",
       "⋮      ⋮       ⋮        ⋮        ⋱ ⋮                ⋮        ⋮        \n",
       "113170 Ctrl    3971     4634     ⋯ Ctrl               Inf    17275    \n",
       "113171 Ctrl    6033     5116     ⋯ ASD               7390      Inf    \n",
       "113172 Ctrl    7530     5289     ⋯ ASD               3122      Inf    \n",
       "113173 Ctrl    7530     5289     ⋯ ASD               3058      Inf    \n",
       "113174 Ctrl    3971     4634     ⋯ Ctrl               Inf     1286    \n",
       "113175 Ctrl    6033     5116     ⋯ Ctrl               Inf     1639    \n",
       "113176 Ctrl    6033     5116     ⋯ Ctrl               Inf    10610    \n",
       "113177 Ctrl    3971     4634     ⋯ Ctrl               Inf    10656    \n",
       "113178 Ctrl    7530     5289     ⋯ Ctrl               Inf    10674    \n",
       "113179 Ctrl    3971     4634     ⋯ Ctrl               Inf    19332    \n",
       "113180 Ctrl    6033     5116     ⋯ Ctrl               Inf    11710    \n",
       "113181 Ctrl    7530     5289     ⋯ Ctrl               Inf    15976    \n",
       "113182 Ctrl    3971     4634     ⋯ ASD              15455      Inf    \n",
       "113183 Ctrl    7530     5289     ⋯ ASD              21989      Inf    \n",
       "113184 Ctrl    6033     5116     ⋯ Ctrl               Inf    18209    \n",
       "113185 Ctrl    6033     5116     ⋯ ASD              33756      Inf    \n",
       "113186 Ctrl    7530     5289     ⋯ Ctrl               Inf    22777    \n",
       "113187 Ctrl    3971     4634     ⋯ ASD              28636      Inf    \n",
       "113188 Ctrl    3971     4634     ⋯ ASD              22134      Inf    \n",
       "113189 Ctrl    7530     5289     ⋯ Ctrl               Inf     9622    \n",
       "113190 Ctrl    6033     5116     ⋯ Ctrl               Inf    13347    \n",
       "113191 Ctrl    6033     5116     ⋯ ASD               9407      Inf    \n",
       "113192 Ctrl    3971     4634     ⋯ ASD               8075      Inf    \n",
       "113193 Ctrl    7530     5289     ⋯ ASD               6166      Inf    \n",
       "113194 Ctrl    6033     5116     ⋯ ASD              11040      Inf    \n",
       "113195 Ctrl    7530     5289     ⋯ Ctrl               Inf    15235    \n",
       "113196 Ctrl    3971     4634     ⋯ ASD              22064      Inf    \n",
       "113197 Ctrl    3971     4634     ⋯ Ctrl               Inf    14136    \n",
       "113198 Ctrl    7530     5289     ⋯ Ctrl               Inf     3240    \n",
       "113199 Ctrl    6033     5116     ⋯ Ctrl               Inf     4530    \n",
       "       chromosome in.sex_chr logfc         filter.2of3.over.2of3\n",
       "1      19         FALSE      -6.837629e-05 FALSE                \n",
       "2      19         FALSE       1.044563e-02 FALSE                \n",
       "3      19         FALSE      -1.932446e-02 FALSE                \n",
       "4      19         FALSE      -6.692442e-03 FALSE                \n",
       "5      19         FALSE      -3.957209e-03 FALSE                \n",
       "6      19         FALSE      -5.599441e-03 FALSE                \n",
       "7      10         FALSE      -1.032206e-03 FALSE                \n",
       "8      10         FALSE      -1.528657e-03 FALSE                \n",
       "9      10         FALSE       2.162832e-03 FALSE                \n",
       "10     12         FALSE      -2.790128e-05 FALSE                \n",
       "11     12         FALSE      -1.371904e-04 FALSE                \n",
       "12     12         FALSE      -8.955793e-04 FALSE                \n",
       "13     12         FALSE       2.454457e-02 FALSE                \n",
       "14     12         FALSE       3.872115e-03 FALSE                \n",
       "15     12         FALSE       1.984769e-02 FALSE                \n",
       "16     12         FALSE      -9.024968e-04 FALSE                \n",
       "17     12         FALSE      -1.387259e-03 FALSE                \n",
       "18     12         FALSE      -2.671410e-04 FALSE                \n",
       "19     12         FALSE       6.031263e-04 FALSE                \n",
       "20     12         FALSE       1.942942e-04 FALSE                \n",
       "21     12         FALSE      -1.102303e-03 FALSE                \n",
       "22     12         FALSE       0.000000e+00 FALSE                \n",
       "23     12         FALSE       0.000000e+00 FALSE                \n",
       "24     12         FALSE       0.000000e+00 FALSE                \n",
       "25     1          FALSE       6.925082e-04 FALSE                \n",
       "26     1          FALSE       0.000000e+00 FALSE                \n",
       "27     1          FALSE       0.000000e+00 FALSE                \n",
       "28     22         FALSE       6.900461e-03 FALSE                \n",
       "29     22         FALSE      -8.302042e-04 FALSE                \n",
       "30     22         FALSE      -2.615959e-03 FALSE                \n",
       "⋮      ⋮          ⋮          ⋮             ⋮                    \n",
       "113170 15         FALSE      -0.0063619690 FALSE                \n",
       "113171 15         FALSE       0.0235298960 FALSE                \n",
       "113172 15         FALSE       0.0568471771 FALSE                \n",
       "113173 10         FALSE       0.0577514748 FALSE                \n",
       "113174 10         FALSE      -0.1128787308 FALSE                \n",
       "113175 10         FALSE      -0.0995162981 FALSE                \n",
       "113176 X           TRUE      -0.0201291836 FALSE                \n",
       "113177 X           TRUE      -0.0199803018 FALSE                \n",
       "113178 X           TRUE      -0.0199211476 FALSE                \n",
       "113179 X           TRUE      -0.0042726395 FALSE                \n",
       "113180 X           TRUE      -0.0169390835 FALSE                \n",
       "113181 X           TRUE      -0.0082274396 FALSE                \n",
       "113182 3          FALSE       0.0061564200 FALSE                \n",
       "113183 3          FALSE       0.0022316157 FALSE                \n",
       "113184 3          FALSE      -0.0053253334 FALSE                \n",
       "113185 1          FALSE       0.0004202721 FALSE                \n",
       "113186 1          FALSE      -0.0021977504 FALSE                \n",
       "113187 1          FALSE       0.0008688577 FALSE                \n",
       "113188 1          FALSE       0.0021767667 FALSE                \n",
       "113189 1          FALSE      -0.0233714684 FALSE                \n",
       "113190 1          FALSE      -0.0131631036 FALSE                \n",
       "113191 7          FALSE       0.0165925939 FALSE                \n",
       "113192 7          FALSE       0.0209003322 FALSE                \n",
       "113193 7          FALSE       0.0294858970 FALSE                \n",
       "113194 17         FALSE       0.0125409174 FALSE                \n",
       "113195 17         FALSE      -0.0094820255 FALSE                \n",
       "113196 17         FALSE       0.0022016992 FALSE                \n",
       "113197 1          FALSE      -0.0115052184 FALSE                \n",
       "113198 1          FALSE      -0.0667335222 FALSE                \n",
       "113199 1          FALSE      -0.0521693933 FALSE                \n",
       "       filter.2of3.over.max filter.all.over.2of3 filter.all.over.max\n",
       "1      FALSE                FALSE                FALSE              \n",
       "2      FALSE                FALSE                FALSE              \n",
       "3      FALSE                FALSE                FALSE              \n",
       "4      FALSE                FALSE                FALSE              \n",
       "5      FALSE                FALSE                FALSE              \n",
       "6      FALSE                FALSE                FALSE              \n",
       "7      FALSE                FALSE                FALSE              \n",
       "8      FALSE                FALSE                FALSE              \n",
       "9      FALSE                FALSE                FALSE              \n",
       "10     FALSE                FALSE                FALSE              \n",
       "11     FALSE                FALSE                FALSE              \n",
       "12     FALSE                FALSE                FALSE              \n",
       "13     FALSE                FALSE                FALSE              \n",
       "14     FALSE                FALSE                FALSE              \n",
       "15     FALSE                FALSE                FALSE              \n",
       "16     FALSE                FALSE                FALSE              \n",
       "17     FALSE                FALSE                FALSE              \n",
       "18     FALSE                FALSE                FALSE              \n",
       "19     FALSE                FALSE                FALSE              \n",
       "20     FALSE                FALSE                FALSE              \n",
       "21     FALSE                FALSE                FALSE              \n",
       "22     FALSE                FALSE                FALSE              \n",
       "23     FALSE                FALSE                FALSE              \n",
       "24     FALSE                FALSE                FALSE              \n",
       "25     FALSE                FALSE                FALSE              \n",
       "26     FALSE                FALSE                FALSE              \n",
       "27     FALSE                FALSE                FALSE              \n",
       "28     FALSE                FALSE                FALSE              \n",
       "29     FALSE                FALSE                FALSE              \n",
       "30     FALSE                FALSE                FALSE              \n",
       "⋮      ⋮                    ⋮                    ⋮                  \n",
       "113170 FALSE                FALSE                FALSE              \n",
       "113171 FALSE                FALSE                FALSE              \n",
       "113172 FALSE                FALSE                FALSE              \n",
       "113173 FALSE                FALSE                FALSE              \n",
       "113174 FALSE                FALSE                FALSE              \n",
       "113175 FALSE                FALSE                FALSE              \n",
       "113176 FALSE                FALSE                FALSE              \n",
       "113177 FALSE                FALSE                FALSE              \n",
       "113178 FALSE                FALSE                FALSE              \n",
       "113179 FALSE                FALSE                FALSE              \n",
       "113180 FALSE                FALSE                FALSE              \n",
       "113181 FALSE                FALSE                FALSE              \n",
       "113182 FALSE                FALSE                FALSE              \n",
       "113183 FALSE                FALSE                FALSE              \n",
       "113184 FALSE                FALSE                FALSE              \n",
       "113185 FALSE                FALSE                FALSE              \n",
       "113186 FALSE                FALSE                FALSE              \n",
       "113187 FALSE                FALSE                FALSE              \n",
       "113188 FALSE                FALSE                FALSE              \n",
       "113189 FALSE                FALSE                FALSE              \n",
       "113190 FALSE                FALSE                FALSE              \n",
       "113191 FALSE                FALSE                FALSE              \n",
       "113192 FALSE                FALSE                FALSE              \n",
       "113193 FALSE                FALSE                FALSE              \n",
       "113194 FALSE                FALSE                FALSE              \n",
       "113195 FALSE                FALSE                FALSE              \n",
       "113196 FALSE                FALSE                FALSE              \n",
       "113197 FALSE                FALSE                FALSE              \n",
       "113198 FALSE                FALSE                FALSE              \n",
       "113199 FALSE                FALSE                FALSE              "
      ]
     },
     "metadata": {},
     "output_type": "display_data"
    }
   ],
   "source": [
    "filt.res.rge <- annotate_markers(res.rge)\n",
    "\n",
    "tryCatch(expr={all_tests(filt.res.rge, seu=seu.rge,\n",
    "                         by.group = 'Phase',\n",
    "                         group.var = 'Phase')}, \n",
    "         cond=function(cond){as.character(cond); return(cond)},\n",
    "         error=function(cond){as.character(cond); return(cond)}) -> filt.res.rge\n",
    "filt.res.rge\n",
    "## Export\n",
    "write.csv(filt.res.rge, '../results/selected_markers/markers_with_filters.rge_phases.csv')"
   ]
  },
  {
   "cell_type": "markdown",
   "id": "6501e815-8a51-4b76-a43a-dd6599fa82ba",
   "metadata": {
    "tags": []
   },
   "source": [
    "# RG early Pseudobulk"
   ]
  },
  {
   "cell_type": "code",
   "execution_count": 174,
   "id": "56a68e34-88f6-4356-965d-4bf688fba651",
   "metadata": {
    "scrolled": true,
    "tags": []
   },
   "outputs": [
    {
     "name": "stdout",
     "output_type": "stream",
     "text": [
      "[1] \"############################################################\"\n",
      "[1] \"############################################################\"\n",
      "[1] \"############################################################\"\n"
     ]
    },
    {
     "name": "stderr",
     "output_type": "stream",
     "text": [
      "filter.2of3.over.2of3\n",
      "\n"
     ]
    },
    {
     "name": "stdout",
     "output_type": "stream",
     "text": [
      "[1] \"############################################################\"\n",
      "[1] \"############################################################\"\n",
      "[1] \"############################################################\"\n"
     ]
    },
    {
     "name": "stderr",
     "output_type": "stream",
     "text": [
      "Number of genes: 37733\n",
      "\n"
     ]
    },
    {
     "name": "stdout",
     "output_type": "stream",
     "text": [
      "[1] \"Filtering by p_val: 0.05\"\n"
     ]
    },
    {
     "name": "stderr",
     "output_type": "stream",
     "text": [
      "Number of genes: 4834\n",
      "\n"
     ]
    },
    {
     "name": "stdout",
     "output_type": "stream",
     "text": [
      "[1] \"Filtering by logFC: 0.5\"\n"
     ]
    },
    {
     "name": "stderr",
     "output_type": "stream",
     "text": [
      "Number of genes: 1326\n",
      "\n"
     ]
    },
    {
     "name": "stdout",
     "output_type": "stream",
     "text": [
      "[1] \"Comparison of conditions: ASD Ctrl\"\n"
     ]
    },
    {
     "name": "stderr",
     "output_type": "stream",
     "text": [
      "temp\n",
      "\n"
     ]
    },
    {
     "name": "stdout",
     "output_type": "stream",
     "text": [
      "[1] \"ASD markers\"\n"
     ]
    },
    {
     "name": "stderr",
     "output_type": "stream",
     "text": [
      "Number of genes in temp: 919\n",
      "\n"
     ]
    },
    {
     "name": "stdout",
     "output_type": "stream",
     "text": [
      "[1] \"Ctrl markers\"\n"
     ]
    },
    {
     "name": "stderr",
     "output_type": "stream",
     "text": [
      "Number of genes in temp: 368\n",
      "\n"
     ]
    },
    {
     "name": "stdout",
     "output_type": "stream",
     "text": [
      "[1] \"Filtering genes with consistent test/control logFC\"\n",
      "[1] \"Test condition\"\n"
     ]
    },
    {
     "name": "stderr",
     "output_type": "stream",
     "text": [
      "Number of genes in temp: 908\n",
      "\n"
     ]
    },
    {
     "name": "stdout",
     "output_type": "stream",
     "text": [
      "[1] \"Control condition\"\n"
     ]
    },
    {
     "name": "stderr",
     "output_type": "stream",
     "text": [
      "Number of genes in temp: 355\n",
      "\n"
     ]
    },
    {
     "name": "stdout",
     "output_type": "stream",
     "text": [
      "[1] \"After condition comparison\"\n"
     ]
    },
    {
     "name": "stderr",
     "output_type": "stream",
     "text": [
      "Number of genes: 1263\n",
      "\n"
     ]
    },
    {
     "name": "stdout",
     "output_type": "stream",
     "text": [
      "[1] \"############################################################\"\n",
      "[1] \"############################################################\"\n",
      "[1] \"############################################################\"\n"
     ]
    },
    {
     "name": "stderr",
     "output_type": "stream",
     "text": [
      "filter.2of3.over.max\n",
      "\n"
     ]
    },
    {
     "name": "stdout",
     "output_type": "stream",
     "text": [
      "[1] \"############################################################\"\n",
      "[1] \"############################################################\"\n",
      "[1] \"############################################################\"\n"
     ]
    },
    {
     "name": "stderr",
     "output_type": "stream",
     "text": [
      "Number of genes: 37733\n",
      "\n"
     ]
    },
    {
     "name": "stdout",
     "output_type": "stream",
     "text": [
      "[1] \"Filtering by p_val: 0.05\"\n"
     ]
    },
    {
     "name": "stderr",
     "output_type": "stream",
     "text": [
      "Number of genes: 4834\n",
      "\n"
     ]
    },
    {
     "name": "stdout",
     "output_type": "stream",
     "text": [
      "[1] \"Filtering by logFC: 0.5\"\n"
     ]
    },
    {
     "name": "stderr",
     "output_type": "stream",
     "text": [
      "Number of genes: 1326\n",
      "\n"
     ]
    },
    {
     "name": "stdout",
     "output_type": "stream",
     "text": [
      "[1] \"Comparison of conditions: ASD Ctrl\"\n"
     ]
    },
    {
     "name": "stderr",
     "output_type": "stream",
     "text": [
      "temp\n",
      "\n"
     ]
    },
    {
     "name": "stdout",
     "output_type": "stream",
     "text": [
      "[1] \"ASD markers\"\n"
     ]
    },
    {
     "name": "stderr",
     "output_type": "stream",
     "text": [
      "Number of genes in temp: 489\n",
      "\n"
     ]
    },
    {
     "name": "stdout",
     "output_type": "stream",
     "text": [
      "[1] \"Ctrl markers\"\n"
     ]
    },
    {
     "name": "stderr",
     "output_type": "stream",
     "text": [
      "Number of genes in temp: 270\n",
      "\n"
     ]
    },
    {
     "name": "stdout",
     "output_type": "stream",
     "text": [
      "[1] \"Filtering genes with consistent test/control logFC\"\n",
      "[1] \"Test condition\"\n"
     ]
    },
    {
     "name": "stderr",
     "output_type": "stream",
     "text": [
      "Number of genes in temp: 487\n",
      "\n"
     ]
    },
    {
     "name": "stdout",
     "output_type": "stream",
     "text": [
      "[1] \"Control condition\"\n"
     ]
    },
    {
     "name": "stderr",
     "output_type": "stream",
     "text": [
      "Number of genes in temp: 270\n",
      "\n"
     ]
    },
    {
     "name": "stdout",
     "output_type": "stream",
     "text": [
      "[1] \"After condition comparison\"\n"
     ]
    },
    {
     "name": "stderr",
     "output_type": "stream",
     "text": [
      "Number of genes: 757\n",
      "\n"
     ]
    },
    {
     "name": "stdout",
     "output_type": "stream",
     "text": [
      "[1] \"############################################################\"\n",
      "[1] \"############################################################\"\n",
      "[1] \"############################################################\"\n"
     ]
    },
    {
     "name": "stderr",
     "output_type": "stream",
     "text": [
      "filter.all.over.2of3\n",
      "\n"
     ]
    },
    {
     "name": "stdout",
     "output_type": "stream",
     "text": [
      "[1] \"############################################################\"\n",
      "[1] \"############################################################\"\n",
      "[1] \"############################################################\"\n"
     ]
    },
    {
     "name": "stderr",
     "output_type": "stream",
     "text": [
      "Number of genes: 37733\n",
      "\n"
     ]
    },
    {
     "name": "stdout",
     "output_type": "stream",
     "text": [
      "[1] \"Filtering by p_val: 0.05\"\n"
     ]
    },
    {
     "name": "stderr",
     "output_type": "stream",
     "text": [
      "Number of genes: 4834\n",
      "\n"
     ]
    },
    {
     "name": "stdout",
     "output_type": "stream",
     "text": [
      "[1] \"Filtering by logFC: 0.5\"\n"
     ]
    },
    {
     "name": "stderr",
     "output_type": "stream",
     "text": [
      "Number of genes: 1326\n",
      "\n"
     ]
    },
    {
     "name": "stdout",
     "output_type": "stream",
     "text": [
      "[1] \"Comparison of conditions: ASD Ctrl\"\n"
     ]
    },
    {
     "name": "stderr",
     "output_type": "stream",
     "text": [
      "temp\n",
      "\n"
     ]
    },
    {
     "name": "stdout",
     "output_type": "stream",
     "text": [
      "[1] \"ASD markers\"\n"
     ]
    },
    {
     "name": "stderr",
     "output_type": "stream",
     "text": [
      "Number of genes in temp: 667\n",
      "\n"
     ]
    },
    {
     "name": "stdout",
     "output_type": "stream",
     "text": [
      "[1] \"Ctrl markers\"\n"
     ]
    },
    {
     "name": "stderr",
     "output_type": "stream",
     "text": [
      "Number of genes in temp: 280\n",
      "\n"
     ]
    },
    {
     "name": "stdout",
     "output_type": "stream",
     "text": [
      "[1] \"Filtering genes with consistent test/control logFC\"\n",
      "[1] \"Test condition\"\n"
     ]
    },
    {
     "name": "stderr",
     "output_type": "stream",
     "text": [
      "Number of genes in temp: 667\n",
      "\n"
     ]
    },
    {
     "name": "stdout",
     "output_type": "stream",
     "text": [
      "[1] \"Control condition\"\n"
     ]
    },
    {
     "name": "stderr",
     "output_type": "stream",
     "text": [
      "Number of genes in temp: 280\n",
      "\n"
     ]
    },
    {
     "name": "stdout",
     "output_type": "stream",
     "text": [
      "[1] \"After condition comparison\"\n"
     ]
    },
    {
     "name": "stderr",
     "output_type": "stream",
     "text": [
      "Number of genes: 947\n",
      "\n"
     ]
    },
    {
     "name": "stdout",
     "output_type": "stream",
     "text": [
      "[1] \"############################################################\"\n",
      "[1] \"############################################################\"\n",
      "[1] \"############################################################\"\n"
     ]
    },
    {
     "name": "stderr",
     "output_type": "stream",
     "text": [
      "filter.all.over.max\n",
      "\n"
     ]
    },
    {
     "name": "stdout",
     "output_type": "stream",
     "text": [
      "[1] \"############################################################\"\n",
      "[1] \"############################################################\"\n",
      "[1] \"############################################################\"\n"
     ]
    },
    {
     "name": "stderr",
     "output_type": "stream",
     "text": [
      "Number of genes: 37733\n",
      "\n"
     ]
    },
    {
     "name": "stdout",
     "output_type": "stream",
     "text": [
      "[1] \"Filtering by p_val: 0.05\"\n"
     ]
    },
    {
     "name": "stderr",
     "output_type": "stream",
     "text": [
      "Number of genes: 4834\n",
      "\n"
     ]
    },
    {
     "name": "stdout",
     "output_type": "stream",
     "text": [
      "[1] \"Filtering by logFC: 0.5\"\n"
     ]
    },
    {
     "name": "stderr",
     "output_type": "stream",
     "text": [
      "Number of genes: 1326\n",
      "\n"
     ]
    },
    {
     "name": "stdout",
     "output_type": "stream",
     "text": [
      "[1] \"Comparison of conditions: ASD Ctrl\"\n"
     ]
    },
    {
     "name": "stderr",
     "output_type": "stream",
     "text": [
      "temp\n",
      "\n"
     ]
    },
    {
     "name": "stdout",
     "output_type": "stream",
     "text": [
      "[1] \"ASD markers\"\n"
     ]
    },
    {
     "name": "stderr",
     "output_type": "stream",
     "text": [
      "Number of genes in temp: 172\n",
      "\n"
     ]
    },
    {
     "name": "stdout",
     "output_type": "stream",
     "text": [
      "[1] \"Ctrl markers\"\n"
     ]
    },
    {
     "name": "stderr",
     "output_type": "stream",
     "text": [
      "Number of genes in temp: 143\n",
      "\n"
     ]
    },
    {
     "name": "stdout",
     "output_type": "stream",
     "text": [
      "[1] \"Filtering genes with consistent test/control logFC\"\n",
      "[1] \"Test condition\"\n"
     ]
    },
    {
     "name": "stderr",
     "output_type": "stream",
     "text": [
      "Number of genes in temp: 172\n",
      "\n"
     ]
    },
    {
     "name": "stdout",
     "output_type": "stream",
     "text": [
      "[1] \"Control condition\"\n"
     ]
    },
    {
     "name": "stderr",
     "output_type": "stream",
     "text": [
      "Number of genes in temp: 143\n",
      "\n"
     ]
    },
    {
     "name": "stdout",
     "output_type": "stream",
     "text": [
      "[1] \"After condition comparison\"\n"
     ]
    },
    {
     "name": "stderr",
     "output_type": "stream",
     "text": [
      "Number of genes: 315\n",
      "\n"
     ]
    }
   ],
   "source": [
    "filt.pb.rge <- annotate_markers(pb.res, logfc_var = 'log2FoldChange')\n",
    "\n",
    "tryCatch(expr={all_tests(res = filt.pb.rge,\n",
    "                         seu=seu.rge, \n",
    "                         logfc_var = 'log2FoldChange',\n",
    "                         p_val_var=\"padj\",\n",
    "                         pct.exp.diff.thres = NULL, pct.exp.thres = NULL,\n",
    "                         by.group=NULL,\n",
    "                         group.var=NULL)}, \n",
    "         cond=function(cond){as.character(cond); return(cond)},\n",
    "         error=function(cond){as.character(cond); return(cond)}) -> filt.pb.rge\n",
    "\n",
    "write.csv(filt.pb.rge, '../results/selected_markers/markers_with_filters.rge_pseudobulk.csv')"
   ]
  },
  {
   "cell_type": "markdown",
   "id": "71ac9422-f735-4657-adcd-4d8060447c0f",
   "metadata": {
    "jp-MarkdownHeadingCollapsed": true,
    "tags": []
   },
   "source": [
    "# RG early per Phase Pseudobulk"
   ]
  },
  {
   "cell_type": "code",
   "execution_count": 175,
   "id": "a7591c02-0858-4592-b87d-e15be34d162a",
   "metadata": {
    "scrolled": true,
    "tags": []
   },
   "outputs": [
    {
     "name": "stdout",
     "output_type": "stream",
     "text": [
      "[1] \"############################################################\"\n",
      "[1] \"############################################################\"\n",
      "[1] \"############################################################\"\n"
     ]
    },
    {
     "name": "stderr",
     "output_type": "stream",
     "text": [
      "filter.2of3.over.2of3\n",
      "\n"
     ]
    },
    {
     "name": "stdout",
     "output_type": "stream",
     "text": [
      "[1] \"############################################################\"\n",
      "[1] \"############################################################\"\n",
      "[1] \"############################################################\"\n"
     ]
    },
    {
     "name": "stderr",
     "output_type": "stream",
     "text": [
      "Number of genes in G1: 37733\n",
      "\n",
      "Number of genes in G2M: 37733\n",
      "\n",
      "Number of genes in S: 37733\n",
      "\n"
     ]
    },
    {
     "name": "stdout",
     "output_type": "stream",
     "text": [
      "[1] \"Filtering by p_val: 0.05\"\n"
     ]
    },
    {
     "name": "stderr",
     "output_type": "stream",
     "text": [
      "Number of genes in G1: 2410\n",
      "\n",
      "Number of genes in G2M: 1800\n",
      "\n",
      "Number of genes in S: 1486\n",
      "\n"
     ]
    },
    {
     "name": "stdout",
     "output_type": "stream",
     "text": [
      "[1] \"Filtering by logFC: 0.5\"\n"
     ]
    },
    {
     "name": "stderr",
     "output_type": "stream",
     "text": [
      "Number of genes in G1: 1171\n",
      "\n",
      "Number of genes in G2M: 751\n",
      "\n",
      "Number of genes in S: 670\n",
      "\n"
     ]
    },
    {
     "name": "stdout",
     "output_type": "stream",
     "text": [
      "[1] \"Comparison of conditions: ASD Ctrl\"\n"
     ]
    },
    {
     "name": "stderr",
     "output_type": "stream",
     "text": [
      "G1\n",
      "\n",
      "G2M\n",
      "\n",
      "S\n",
      "\n"
     ]
    },
    {
     "name": "stdout",
     "output_type": "stream",
     "text": [
      "[1] \"ASD markers\"\n"
     ]
    },
    {
     "name": "stderr",
     "output_type": "stream",
     "text": [
      "Number of genes in G1: 803\n",
      "\n",
      "Number of genes in G2M: 515\n",
      "\n",
      "Number of genes in S: 443\n",
      "\n"
     ]
    },
    {
     "name": "stdout",
     "output_type": "stream",
     "text": [
      "[1] \"Ctrl markers\"\n"
     ]
    },
    {
     "name": "stderr",
     "output_type": "stream",
     "text": [
      "Number of genes in G1: 353\n",
      "\n",
      "Number of genes in G2M: 217\n",
      "\n",
      "Number of genes in S: 207\n",
      "\n"
     ]
    },
    {
     "name": "stdout",
     "output_type": "stream",
     "text": [
      "[1] \"Filtering genes with consistent test/control logFC\"\n",
      "[1] \"Test condition\"\n"
     ]
    },
    {
     "name": "stderr",
     "output_type": "stream",
     "text": [
      "Number of genes in G1: 794\n",
      "\n",
      "Number of genes in G2M: 509\n",
      "\n",
      "Number of genes in S: 438\n",
      "\n"
     ]
    },
    {
     "name": "stdout",
     "output_type": "stream",
     "text": [
      "[1] \"Control condition\"\n"
     ]
    },
    {
     "name": "stderr",
     "output_type": "stream",
     "text": [
      "Number of genes in G1: 346\n",
      "\n",
      "Number of genes in G2M: 212\n",
      "\n",
      "Number of genes in S: 205\n",
      "\n"
     ]
    },
    {
     "name": "stdout",
     "output_type": "stream",
     "text": [
      "[1] \"After condition comparison\"\n"
     ]
    },
    {
     "name": "stderr",
     "output_type": "stream",
     "text": [
      "Number of genes in G1: 1140\n",
      "\n",
      "Number of genes in G2M: 721\n",
      "\n",
      "Number of genes in S: 643\n",
      "\n"
     ]
    },
    {
     "name": "stdout",
     "output_type": "stream",
     "text": [
      "[1] \"############################################################\"\n",
      "[1] \"############################################################\"\n",
      "[1] \"############################################################\"\n"
     ]
    },
    {
     "name": "stderr",
     "output_type": "stream",
     "text": [
      "filter.2of3.over.max\n",
      "\n"
     ]
    },
    {
     "name": "stdout",
     "output_type": "stream",
     "text": [
      "[1] \"############################################################\"\n",
      "[1] \"############################################################\"\n",
      "[1] \"############################################################\"\n"
     ]
    },
    {
     "name": "stderr",
     "output_type": "stream",
     "text": [
      "Number of genes in G1: 37733\n",
      "\n",
      "Number of genes in G2M: 37733\n",
      "\n",
      "Number of genes in S: 37733\n",
      "\n"
     ]
    },
    {
     "name": "stdout",
     "output_type": "stream",
     "text": [
      "[1] \"Filtering by p_val: 0.05\"\n"
     ]
    },
    {
     "name": "stderr",
     "output_type": "stream",
     "text": [
      "Number of genes in G1: 2410\n",
      "\n",
      "Number of genes in G2M: 1800\n",
      "\n",
      "Number of genes in S: 1486\n",
      "\n"
     ]
    },
    {
     "name": "stdout",
     "output_type": "stream",
     "text": [
      "[1] \"Filtering by logFC: 0.5\"\n"
     ]
    },
    {
     "name": "stderr",
     "output_type": "stream",
     "text": [
      "Number of genes in G1: 1171\n",
      "\n",
      "Number of genes in G2M: 751\n",
      "\n",
      "Number of genes in S: 670\n",
      "\n"
     ]
    },
    {
     "name": "stdout",
     "output_type": "stream",
     "text": [
      "[1] \"Comparison of conditions: ASD Ctrl\"\n"
     ]
    },
    {
     "name": "stderr",
     "output_type": "stream",
     "text": [
      "G1\n",
      "\n",
      "G2M\n",
      "\n",
      "S\n",
      "\n"
     ]
    },
    {
     "name": "stdout",
     "output_type": "stream",
     "text": [
      "[1] \"ASD markers\"\n"
     ]
    },
    {
     "name": "stderr",
     "output_type": "stream",
     "text": [
      "Number of genes in G1: 589\n",
      "\n",
      "Number of genes in G2M: 269\n",
      "\n",
      "Number of genes in S: 227\n",
      "\n"
     ]
    },
    {
     "name": "stdout",
     "output_type": "stream",
     "text": [
      "[1] \"Ctrl markers\"\n"
     ]
    },
    {
     "name": "stderr",
     "output_type": "stream",
     "text": [
      "Number of genes in G1: 261\n",
      "\n",
      "Number of genes in G2M: 155\n",
      "\n",
      "Number of genes in S: 151\n",
      "\n"
     ]
    },
    {
     "name": "stdout",
     "output_type": "stream",
     "text": [
      "[1] \"Filtering genes with consistent test/control logFC\"\n",
      "[1] \"Test condition\"\n"
     ]
    },
    {
     "name": "stderr",
     "output_type": "stream",
     "text": [
      "Number of genes in G1: 589\n",
      "\n",
      "Number of genes in G2M: 269\n",
      "\n",
      "Number of genes in S: 225\n",
      "\n"
     ]
    },
    {
     "name": "stdout",
     "output_type": "stream",
     "text": [
      "[1] \"Control condition\"\n"
     ]
    },
    {
     "name": "stderr",
     "output_type": "stream",
     "text": [
      "Number of genes in G1: 261\n",
      "\n",
      "Number of genes in G2M: 155\n",
      "\n",
      "Number of genes in S: 151\n",
      "\n"
     ]
    },
    {
     "name": "stdout",
     "output_type": "stream",
     "text": [
      "[1] \"After condition comparison\"\n"
     ]
    },
    {
     "name": "stderr",
     "output_type": "stream",
     "text": [
      "Number of genes in G1: 850\n",
      "\n",
      "Number of genes in G2M: 424\n",
      "\n",
      "Number of genes in S: 376\n",
      "\n"
     ]
    },
    {
     "name": "stdout",
     "output_type": "stream",
     "text": [
      "[1] \"############################################################\"\n",
      "[1] \"############################################################\"\n",
      "[1] \"############################################################\"\n"
     ]
    },
    {
     "name": "stderr",
     "output_type": "stream",
     "text": [
      "filter.all.over.2of3\n",
      "\n"
     ]
    },
    {
     "name": "stdout",
     "output_type": "stream",
     "text": [
      "[1] \"############################################################\"\n",
      "[1] \"############################################################\"\n",
      "[1] \"############################################################\"\n"
     ]
    },
    {
     "name": "stderr",
     "output_type": "stream",
     "text": [
      "Number of genes in G1: 37733\n",
      "\n",
      "Number of genes in G2M: 37733\n",
      "\n",
      "Number of genes in S: 37733\n",
      "\n"
     ]
    },
    {
     "name": "stdout",
     "output_type": "stream",
     "text": [
      "[1] \"Filtering by p_val: 0.05\"\n"
     ]
    },
    {
     "name": "stderr",
     "output_type": "stream",
     "text": [
      "Number of genes in G1: 2410\n",
      "\n",
      "Number of genes in G2M: 1800\n",
      "\n",
      "Number of genes in S: 1486\n",
      "\n"
     ]
    },
    {
     "name": "stdout",
     "output_type": "stream",
     "text": [
      "[1] \"Filtering by logFC: 0.5\"\n"
     ]
    },
    {
     "name": "stderr",
     "output_type": "stream",
     "text": [
      "Number of genes in G1: 1171\n",
      "\n",
      "Number of genes in G2M: 751\n",
      "\n",
      "Number of genes in S: 670\n",
      "\n"
     ]
    },
    {
     "name": "stdout",
     "output_type": "stream",
     "text": [
      "[1] \"Comparison of conditions: ASD Ctrl\"\n"
     ]
    },
    {
     "name": "stderr",
     "output_type": "stream",
     "text": [
      "G1\n",
      "\n",
      "G2M\n",
      "\n",
      "S\n",
      "\n"
     ]
    },
    {
     "name": "stdout",
     "output_type": "stream",
     "text": [
      "[1] \"ASD markers\"\n"
     ]
    },
    {
     "name": "stderr",
     "output_type": "stream",
     "text": [
      "Number of genes in G1: 639\n",
      "\n",
      "Number of genes in G2M: 387\n",
      "\n",
      "Number of genes in S: 305\n",
      "\n"
     ]
    },
    {
     "name": "stdout",
     "output_type": "stream",
     "text": [
      "[1] \"Ctrl markers\"\n"
     ]
    },
    {
     "name": "stderr",
     "output_type": "stream",
     "text": [
      "Number of genes in G1: 278\n",
      "\n",
      "Number of genes in G2M: 172\n",
      "\n",
      "Number of genes in S: 173\n",
      "\n"
     ]
    },
    {
     "name": "stdout",
     "output_type": "stream",
     "text": [
      "[1] \"Filtering genes with consistent test/control logFC\"\n",
      "[1] \"Test condition\"\n"
     ]
    },
    {
     "name": "stderr",
     "output_type": "stream",
     "text": [
      "Number of genes in G1: 639\n",
      "\n",
      "Number of genes in G2M: 387\n",
      "\n",
      "Number of genes in S: 305\n",
      "\n"
     ]
    },
    {
     "name": "stdout",
     "output_type": "stream",
     "text": [
      "[1] \"Control condition\"\n"
     ]
    },
    {
     "name": "stderr",
     "output_type": "stream",
     "text": [
      "Number of genes in G1: 278\n",
      "\n",
      "Number of genes in G2M: 172\n",
      "\n",
      "Number of genes in S: 173\n",
      "\n"
     ]
    },
    {
     "name": "stdout",
     "output_type": "stream",
     "text": [
      "[1] \"After condition comparison\"\n"
     ]
    },
    {
     "name": "stderr",
     "output_type": "stream",
     "text": [
      "Number of genes in G1: 917\n",
      "\n",
      "Number of genes in G2M: 559\n",
      "\n",
      "Number of genes in S: 478\n",
      "\n"
     ]
    },
    {
     "name": "stdout",
     "output_type": "stream",
     "text": [
      "[1] \"############################################################\"\n",
      "[1] \"############################################################\"\n",
      "[1] \"############################################################\"\n"
     ]
    },
    {
     "name": "stderr",
     "output_type": "stream",
     "text": [
      "filter.all.over.max\n",
      "\n"
     ]
    },
    {
     "name": "stdout",
     "output_type": "stream",
     "text": [
      "[1] \"############################################################\"\n",
      "[1] \"############################################################\"\n",
      "[1] \"############################################################\"\n"
     ]
    },
    {
     "name": "stderr",
     "output_type": "stream",
     "text": [
      "Number of genes in G1: 37733\n",
      "\n",
      "Number of genes in G2M: 37733\n",
      "\n",
      "Number of genes in S: 37733\n",
      "\n"
     ]
    },
    {
     "name": "stdout",
     "output_type": "stream",
     "text": [
      "[1] \"Filtering by p_val: 0.05\"\n"
     ]
    },
    {
     "name": "stderr",
     "output_type": "stream",
     "text": [
      "Number of genes in G1: 2410\n",
      "\n",
      "Number of genes in G2M: 1800\n",
      "\n",
      "Number of genes in S: 1486\n",
      "\n"
     ]
    },
    {
     "name": "stdout",
     "output_type": "stream",
     "text": [
      "[1] \"Filtering by logFC: 0.5\"\n"
     ]
    },
    {
     "name": "stderr",
     "output_type": "stream",
     "text": [
      "Number of genes in G1: 1171\n",
      "\n",
      "Number of genes in G2M: 751\n",
      "\n",
      "Number of genes in S: 670\n",
      "\n"
     ]
    },
    {
     "name": "stdout",
     "output_type": "stream",
     "text": [
      "[1] \"Comparison of conditions: ASD Ctrl\"\n"
     ]
    },
    {
     "name": "stderr",
     "output_type": "stream",
     "text": [
      "G1\n",
      "\n",
      "G2M\n",
      "\n",
      "S\n",
      "\n"
     ]
    },
    {
     "name": "stdout",
     "output_type": "stream",
     "text": [
      "[1] \"ASD markers\"\n"
     ]
    },
    {
     "name": "stderr",
     "output_type": "stream",
     "text": [
      "Number of genes in G1: 287\n",
      "\n",
      "Number of genes in G2M: 101\n",
      "\n",
      "Number of genes in S: 80\n",
      "\n"
     ]
    },
    {
     "name": "stdout",
     "output_type": "stream",
     "text": [
      "[1] \"Ctrl markers\"\n"
     ]
    },
    {
     "name": "stderr",
     "output_type": "stream",
     "text": [
      "Number of genes in G1: 147\n",
      "\n",
      "Number of genes in G2M: 83\n",
      "\n",
      "Number of genes in S: 81\n",
      "\n"
     ]
    },
    {
     "name": "stdout",
     "output_type": "stream",
     "text": [
      "[1] \"Filtering genes with consistent test/control logFC\"\n",
      "[1] \"Test condition\"\n"
     ]
    },
    {
     "name": "stderr",
     "output_type": "stream",
     "text": [
      "Number of genes in G1: 287\n",
      "\n",
      "Number of genes in G2M: 101\n",
      "\n",
      "Number of genes in S: 80\n",
      "\n"
     ]
    },
    {
     "name": "stdout",
     "output_type": "stream",
     "text": [
      "[1] \"Control condition\"\n"
     ]
    },
    {
     "name": "stderr",
     "output_type": "stream",
     "text": [
      "Number of genes in G1: 147\n",
      "\n",
      "Number of genes in G2M: 83\n",
      "\n",
      "Number of genes in S: 81\n",
      "\n"
     ]
    },
    {
     "name": "stdout",
     "output_type": "stream",
     "text": [
      "[1] \"After condition comparison\"\n"
     ]
    },
    {
     "name": "stderr",
     "output_type": "stream",
     "text": [
      "Number of genes in G1: 434\n",
      "\n",
      "Number of genes in G2M: 184\n",
      "\n",
      "Number of genes in S: 161\n",
      "\n"
     ]
    }
   ],
   "source": [
    "filt.pb.phase <- annotate_markers(pb.phase.res, logfc_var = 'log2FoldChange')\n",
    "\n",
    "\n",
    "tryCatch(expr={all_tests(filt.pb.phase, seu=seu.rge,\n",
    "                         p_val_var = 'padj',\n",
    "                         logfc_var = 'log2FoldChange',\n",
    "                         pct.exp.diff.thres = NULL, pct.exp.thres = NULL,\n",
    "                         by.group = 'Phase',\n",
    "                         group.var = 'Phase')}, \n",
    "         cond=function(cond){as.character(cond); return(cond)},\n",
    "         error=function(cond){as.character(cond); return(cond)}) -> filt.pb.phase\n",
    "\n",
    "\n",
    "## Export\n",
    "\n",
    "write.csv(filt.pb.phase, '../results/selected_markers/markers_with_filters.rge_perPhase_pseudobulk.csv')"
   ]
  },
  {
   "cell_type": "markdown",
   "id": "b725667a-32ea-4129-b851-f24d9c7657e8",
   "metadata": {
    "tags": []
   },
   "source": [
    "# Add RG early phase results"
   ]
  },
  {
   "cell_type": "markdown",
   "id": "4e5d5096-095d-48f4-aeb1-8521d3b7d145",
   "metadata": {
    "jp-MarkdownHeadingCollapsed": true,
    "tags": []
   },
   "source": [
    "## Phases from pseudobulk"
   ]
  },
  {
   "cell_type": "code",
   "execution_count": 176,
   "id": "d2b53d11-17ff-419d-b318-4f336c188bbc",
   "metadata": {},
   "outputs": [
    {
     "data": {
      "text/html": [
       "<table class=\"dataframe\">\n",
       "<caption>A matrix: 6 × 8 of type chr</caption>\n",
       "<thead>\n",
       "\t<tr><th scope=col>gene</th><th scope=col>bias.G1</th><th scope=col>bias.G2M</th><th scope=col>bias.S</th><th scope=col>bias.per.phase</th><th scope=col>is.biased.in.any.phase</th><th scope=col>same.bias.in.all.phases</th><th scope=col>phase.bias</th></tr>\n",
       "</thead>\n",
       "<tbody>\n",
       "\t<tr><td>A1BG    </td><td>DOWN</td><td>UP  </td><td>UP  </td><td>bias.G1:DOWN|bias.G2M:UP|bias.S:UP    </td><td>TRUE</td><td>FALSE</td><td>DOWN,UP</td></tr>\n",
       "\t<tr><td>A1BG-AS1</td><td>DOWN</td><td>DOWN</td><td>DOWN</td><td>bias.G1:DOWN|bias.G2M:DOWN|bias.S:DOWN</td><td>TRUE</td><td>TRUE </td><td>DOWN   </td></tr>\n",
       "\t<tr><td>A1CF    </td><td>UP  </td><td>DOWN</td><td>DOWN</td><td>bias.G1:UP|bias.G2M:DOWN|bias.S:DOWN  </td><td>TRUE</td><td>FALSE</td><td>DOWN,UP</td></tr>\n",
       "\t<tr><td>A2M     </td><td>DOWN</td><td>UP  </td><td>UP  </td><td>bias.G1:DOWN|bias.G2M:UP|bias.S:UP    </td><td>TRUE</td><td>FALSE</td><td>DOWN,UP</td></tr>\n",
       "\t<tr><td>A2M-AS1 </td><td>UP  </td><td>UP  </td><td>UP  </td><td>bias.G1:UP|bias.G2M:UP|bias.S:UP      </td><td>TRUE</td><td>TRUE </td><td>UP     </td></tr>\n",
       "\t<tr><td>A2ML1   </td><td>DOWN</td><td>DOWN</td><td>UP  </td><td>bias.G1:DOWN|bias.G2M:DOWN|bias.S:UP  </td><td>TRUE</td><td>FALSE</td><td>DOWN,UP</td></tr>\n",
       "</tbody>\n",
       "</table>\n"
      ],
      "text/latex": [
       "A matrix: 6 × 8 of type chr\n",
       "\\begin{tabular}{llllllll}\n",
       " gene & bias.G1 & bias.G2M & bias.S & bias.per.phase & is.biased.in.any.phase & same.bias.in.all.phases & phase.bias\\\\\n",
       "\\hline\n",
       "\t A1BG     & DOWN & UP   & UP   & bias.G1:DOWN\\textbar{}bias.G2M:UP\\textbar{}bias.S:UP     & TRUE & FALSE & DOWN,UP\\\\\n",
       "\t A1BG-AS1 & DOWN & DOWN & DOWN & bias.G1:DOWN\\textbar{}bias.G2M:DOWN\\textbar{}bias.S:DOWN & TRUE & TRUE  & DOWN   \\\\\n",
       "\t A1CF     & UP   & DOWN & DOWN & bias.G1:UP\\textbar{}bias.G2M:DOWN\\textbar{}bias.S:DOWN   & TRUE & FALSE & DOWN,UP\\\\\n",
       "\t A2M      & DOWN & UP   & UP   & bias.G1:DOWN\\textbar{}bias.G2M:UP\\textbar{}bias.S:UP     & TRUE & FALSE & DOWN,UP\\\\\n",
       "\t A2M-AS1  & UP   & UP   & UP   & bias.G1:UP\\textbar{}bias.G2M:UP\\textbar{}bias.S:UP       & TRUE & TRUE  & UP     \\\\\n",
       "\t A2ML1    & DOWN & DOWN & UP   & bias.G1:DOWN\\textbar{}bias.G2M:DOWN\\textbar{}bias.S:UP   & TRUE & FALSE & DOWN,UP\\\\\n",
       "\\end{tabular}\n"
      ],
      "text/markdown": [
       "\n",
       "A matrix: 6 × 8 of type chr\n",
       "\n",
       "| gene | bias.G1 | bias.G2M | bias.S | bias.per.phase | is.biased.in.any.phase | same.bias.in.all.phases | phase.bias |\n",
       "|---|---|---|---|---|---|---|---|\n",
       "| A1BG     | DOWN | UP   | UP   | bias.G1:DOWN|bias.G2M:UP|bias.S:UP     | TRUE | FALSE | DOWN,UP |\n",
       "| A1BG-AS1 | DOWN | DOWN | DOWN | bias.G1:DOWN|bias.G2M:DOWN|bias.S:DOWN | TRUE | TRUE  | DOWN    |\n",
       "| A1CF     | UP   | DOWN | DOWN | bias.G1:UP|bias.G2M:DOWN|bias.S:DOWN   | TRUE | FALSE | DOWN,UP |\n",
       "| A2M      | DOWN | UP   | UP   | bias.G1:DOWN|bias.G2M:UP|bias.S:UP     | TRUE | FALSE | DOWN,UP |\n",
       "| A2M-AS1  | UP   | UP   | UP   | bias.G1:UP|bias.G2M:UP|bias.S:UP       | TRUE | TRUE  | UP      |\n",
       "| A2ML1    | DOWN | DOWN | UP   | bias.G1:DOWN|bias.G2M:DOWN|bias.S:UP   | TRUE | FALSE | DOWN,UP |\n",
       "\n"
      ],
      "text/plain": [
       "     gene     bias.G1 bias.G2M bias.S bias.per.phase                        \n",
       "[1,] A1BG     DOWN    UP       UP     bias.G1:DOWN|bias.G2M:UP|bias.S:UP    \n",
       "[2,] A1BG-AS1 DOWN    DOWN     DOWN   bias.G1:DOWN|bias.G2M:DOWN|bias.S:DOWN\n",
       "[3,] A1CF     UP      DOWN     DOWN   bias.G1:UP|bias.G2M:DOWN|bias.S:DOWN  \n",
       "[4,] A2M      DOWN    UP       UP     bias.G1:DOWN|bias.G2M:UP|bias.S:UP    \n",
       "[5,] A2M-AS1  UP      UP       UP     bias.G1:UP|bias.G2M:UP|bias.S:UP      \n",
       "[6,] A2ML1    DOWN    DOWN     UP     bias.G1:DOWN|bias.G2M:DOWN|bias.S:UP  \n",
       "     is.biased.in.any.phase same.bias.in.all.phases phase.bias\n",
       "[1,] TRUE                   FALSE                   DOWN,UP   \n",
       "[2,] TRUE                   TRUE                    DOWN      \n",
       "[3,] TRUE                   FALSE                   DOWN,UP   \n",
       "[4,] TRUE                   FALSE                   DOWN,UP   \n",
       "[5,] TRUE                   TRUE                    UP        \n",
       "[6,] TRUE                   FALSE                   DOWN,UP   "
      ]
     },
     "metadata": {},
     "output_type": "display_data"
    }
   ],
   "source": [
    "phase.gene.bias <- filt.pb.phase%>%mutate(bias.up.down=plyr::mapvalues(sign(logfc), from=c(1,-1,0, NA), to=c('UP', 'DOWN', 'None', 'None')))\n",
    "\n",
    "phase.gene.bias <- reshape2::dcast(phase.gene.bias, gene ~ Phase , value.var = 'bias.up.down')\n",
    "colnames(phase.gene.bias)[-1] <- paste('bias', sep='.', colnames(phase.gene.bias)[-1])\n",
    "\n",
    "phase.gene.bias <- apply(\n",
    "    phase.gene.bias, 1, function(x){\n",
    "        biases <- x[-1]\n",
    "        x['bias.per.phase'] <- paste(paste(names(biases), biases, sep=':'), collapse='|')\n",
    "        x['is.biased.in.any.phase'] <- any(biases!='None')\n",
    "        x['same.bias.in.all.phases'] <- (length(unique(biases))==1)&(!'None' %in% biases)\n",
    "        x['phase.bias'] <- paste(sort(unique(biases)), collapse=',')\n",
    "        x\n",
    "    })%>%t()\n",
    "\n",
    "head(phase.gene.bias)"
   ]
  },
  {
   "cell_type": "markdown",
   "id": "8591a45b-a89a-48d0-94cd-f46d7c6af497",
   "metadata": {},
   "source": [
    "#### Results of PB RGE"
   ]
  },
  {
   "cell_type": "code",
   "execution_count": 177,
   "id": "615583af-9afc-45d5-b9fa-ecc97c7e1dab",
   "metadata": {},
   "outputs": [
    {
     "data": {
      "text/plain": [
       "\n",
       "FALSE  TRUE \n",
       "14899 22834 "
      ]
     },
     "metadata": {},
     "output_type": "display_data"
    },
    {
     "data": {
      "text/plain": [
       "\n",
       " TRUE \n",
       "37733 "
      ]
     },
     "metadata": {},
     "output_type": "display_data"
    },
    {
     "data": {
      "text/html": [
       "<table class=\"dataframe\">\n",
       "<caption>A data.frame: 6 × 32</caption>\n",
       "<thead>\n",
       "\t<tr><th></th><th scope=col>gene</th><th scope=col>baseMean</th><th scope=col>log2FoldChange</th><th scope=col>lfcSE</th><th scope=col>stat</th><th scope=col>pvalue</th><th scope=col>padj</th><th scope=col>gene.is.tf</th><th scope=col>Imprinted.Status</th><th scope=col>Expressed.Allele</th><th scope=col>⋯</th><th scope=col>bias.up.down</th><th scope=col>bias.G1</th><th scope=col>bias.G2M</th><th scope=col>bias.S</th><th scope=col>bias.per.phase</th><th scope=col>is.biased.in.any.phase</th><th scope=col>same.bias.in.all.phases</th><th scope=col>phase.bias</th><th scope=col>same.bias.with.all.phases</th><th scope=col>same.bias.with.any.phase</th></tr>\n",
       "\t<tr><th></th><th scope=col>&lt;chr&gt;</th><th scope=col>&lt;dbl&gt;</th><th scope=col>&lt;dbl&gt;</th><th scope=col>&lt;dbl&gt;</th><th scope=col>&lt;dbl&gt;</th><th scope=col>&lt;dbl&gt;</th><th scope=col>&lt;dbl&gt;</th><th scope=col>&lt;lgl&gt;</th><th scope=col>&lt;chr&gt;</th><th scope=col>&lt;chr&gt;</th><th scope=col>⋯</th><th scope=col>&lt;chr&gt;</th><th scope=col>&lt;chr&gt;</th><th scope=col>&lt;chr&gt;</th><th scope=col>&lt;chr&gt;</th><th scope=col>&lt;chr&gt;</th><th scope=col>&lt;chr&gt;</th><th scope=col>&lt;chr&gt;</th><th scope=col>&lt;chr&gt;</th><th scope=col>&lt;lgl&gt;</th><th scope=col>&lt;lgl&gt;</th></tr>\n",
       "</thead>\n",
       "<tbody>\n",
       "\t<tr><th scope=row>1</th><td>A1BG    </td><td>32.65552211</td><td> 0.13081070</td><td>0.08679529</td><td> 1.50711746</td><td>0.131780553</td><td>0.280381286</td><td>FALSE</td><td>Not in DB</td><td>Not in DB</td><td>⋯</td><td>UP  </td><td>DOWN</td><td>UP  </td><td>UP  </td><td>bias.G1:DOWN|bias.G2M:UP|bias.S:UP    </td><td>TRUE</td><td>FALSE</td><td>DOWN,UP</td><td>FALSE</td><td>TRUE</td></tr>\n",
       "\t<tr><th scope=row>2</th><td>A1BG-AS1</td><td> 7.35297715</td><td>-0.24742138</td><td>0.16505485</td><td>-1.49902518</td><td>0.133867100</td><td>0.283618115</td><td>FALSE</td><td>Not in DB</td><td>Not in DB</td><td>⋯</td><td>DOWN</td><td>DOWN</td><td>DOWN</td><td>DOWN</td><td>bias.G1:DOWN|bias.G2M:DOWN|bias.S:DOWN</td><td>TRUE</td><td>TRUE </td><td>DOWN   </td><td> TRUE</td><td>TRUE</td></tr>\n",
       "\t<tr><th scope=row>3</th><td>A1CF    </td><td> 0.20725657</td><td> 0.09920926</td><td>1.22785182</td><td> 0.08079905</td><td>0.935601763</td><td>         NA</td><td>FALSE</td><td>Not in DB</td><td>Not in DB</td><td>⋯</td><td>UP  </td><td>UP  </td><td>DOWN</td><td>DOWN</td><td>bias.G1:UP|bias.G2M:DOWN|bias.S:DOWN  </td><td>TRUE</td><td>FALSE</td><td>DOWN,UP</td><td>FALSE</td><td>TRUE</td></tr>\n",
       "\t<tr><th scope=row>4</th><td>A2M     </td><td> 0.52103211</td><td> 0.27161128</td><td>0.57447193</td><td> 0.47280165</td><td>0.636354696</td><td>0.783817530</td><td>FALSE</td><td>Not in DB</td><td>Not in DB</td><td>⋯</td><td>UP  </td><td>DOWN</td><td>UP  </td><td>UP  </td><td>bias.G1:DOWN|bias.G2M:UP|bias.S:UP    </td><td>TRUE</td><td>FALSE</td><td>DOWN,UP</td><td>FALSE</td><td>TRUE</td></tr>\n",
       "\t<tr><th scope=row>5</th><td>A2M-AS1 </td><td> 7.38696178</td><td> 0.53908219</td><td>0.16937609</td><td> 3.18275256</td><td>0.001458822</td><td>0.007910834</td><td>FALSE</td><td>Not in DB</td><td>Not in DB</td><td>⋯</td><td>UP  </td><td>UP  </td><td>UP  </td><td>UP  </td><td>bias.G1:UP|bias.G2M:UP|bias.S:UP      </td><td>TRUE</td><td>TRUE </td><td>UP     </td><td> TRUE</td><td>TRUE</td></tr>\n",
       "\t<tr><th scope=row>6</th><td>A2ML1   </td><td> 0.07158771</td><td>-0.44759408</td><td>2.93759833</td><td>-0.15236735</td><td>0.878897206</td><td>         NA</td><td>FALSE</td><td>Not in DB</td><td>Not in DB</td><td>⋯</td><td>DOWN</td><td>DOWN</td><td>DOWN</td><td>UP  </td><td>bias.G1:DOWN|bias.G2M:DOWN|bias.S:UP  </td><td>TRUE</td><td>FALSE</td><td>DOWN,UP</td><td>FALSE</td><td>TRUE</td></tr>\n",
       "</tbody>\n",
       "</table>\n"
      ],
      "text/latex": [
       "A data.frame: 6 × 32\n",
       "\\begin{tabular}{r|lllllllllllllllllllll}\n",
       "  & gene & baseMean & log2FoldChange & lfcSE & stat & pvalue & padj & gene.is.tf & Imprinted.Status & Expressed.Allele & ⋯ & bias.up.down & bias.G1 & bias.G2M & bias.S & bias.per.phase & is.biased.in.any.phase & same.bias.in.all.phases & phase.bias & same.bias.with.all.phases & same.bias.with.any.phase\\\\\n",
       "  & <chr> & <dbl> & <dbl> & <dbl> & <dbl> & <dbl> & <dbl> & <lgl> & <chr> & <chr> & ⋯ & <chr> & <chr> & <chr> & <chr> & <chr> & <chr> & <chr> & <chr> & <lgl> & <lgl>\\\\\n",
       "\\hline\n",
       "\t1 & A1BG     & 32.65552211 &  0.13081070 & 0.08679529 &  1.50711746 & 0.131780553 & 0.280381286 & FALSE & Not in DB & Not in DB & ⋯ & UP   & DOWN & UP   & UP   & bias.G1:DOWN\\textbar{}bias.G2M:UP\\textbar{}bias.S:UP     & TRUE & FALSE & DOWN,UP & FALSE & TRUE\\\\\n",
       "\t2 & A1BG-AS1 &  7.35297715 & -0.24742138 & 0.16505485 & -1.49902518 & 0.133867100 & 0.283618115 & FALSE & Not in DB & Not in DB & ⋯ & DOWN & DOWN & DOWN & DOWN & bias.G1:DOWN\\textbar{}bias.G2M:DOWN\\textbar{}bias.S:DOWN & TRUE & TRUE  & DOWN    &  TRUE & TRUE\\\\\n",
       "\t3 & A1CF     &  0.20725657 &  0.09920926 & 1.22785182 &  0.08079905 & 0.935601763 &          NA & FALSE & Not in DB & Not in DB & ⋯ & UP   & UP   & DOWN & DOWN & bias.G1:UP\\textbar{}bias.G2M:DOWN\\textbar{}bias.S:DOWN   & TRUE & FALSE & DOWN,UP & FALSE & TRUE\\\\\n",
       "\t4 & A2M      &  0.52103211 &  0.27161128 & 0.57447193 &  0.47280165 & 0.636354696 & 0.783817530 & FALSE & Not in DB & Not in DB & ⋯ & UP   & DOWN & UP   & UP   & bias.G1:DOWN\\textbar{}bias.G2M:UP\\textbar{}bias.S:UP     & TRUE & FALSE & DOWN,UP & FALSE & TRUE\\\\\n",
       "\t5 & A2M-AS1  &  7.38696178 &  0.53908219 & 0.16937609 &  3.18275256 & 0.001458822 & 0.007910834 & FALSE & Not in DB & Not in DB & ⋯ & UP   & UP   & UP   & UP   & bias.G1:UP\\textbar{}bias.G2M:UP\\textbar{}bias.S:UP       & TRUE & TRUE  & UP      &  TRUE & TRUE\\\\\n",
       "\t6 & A2ML1    &  0.07158771 & -0.44759408 & 2.93759833 & -0.15236735 & 0.878897206 &          NA & FALSE & Not in DB & Not in DB & ⋯ & DOWN & DOWN & DOWN & UP   & bias.G1:DOWN\\textbar{}bias.G2M:DOWN\\textbar{}bias.S:UP   & TRUE & FALSE & DOWN,UP & FALSE & TRUE\\\\\n",
       "\\end{tabular}\n"
      ],
      "text/markdown": [
       "\n",
       "A data.frame: 6 × 32\n",
       "\n",
       "| <!--/--> | gene &lt;chr&gt; | baseMean &lt;dbl&gt; | log2FoldChange &lt;dbl&gt; | lfcSE &lt;dbl&gt; | stat &lt;dbl&gt; | pvalue &lt;dbl&gt; | padj &lt;dbl&gt; | gene.is.tf &lt;lgl&gt; | Imprinted.Status &lt;chr&gt; | Expressed.Allele &lt;chr&gt; | ⋯ ⋯ | bias.up.down &lt;chr&gt; | bias.G1 &lt;chr&gt; | bias.G2M &lt;chr&gt; | bias.S &lt;chr&gt; | bias.per.phase &lt;chr&gt; | is.biased.in.any.phase &lt;chr&gt; | same.bias.in.all.phases &lt;chr&gt; | phase.bias &lt;chr&gt; | same.bias.with.all.phases &lt;lgl&gt; | same.bias.with.any.phase &lt;lgl&gt; |\n",
       "|---|---|---|---|---|---|---|---|---|---|---|---|---|---|---|---|---|---|---|---|---|---|\n",
       "| 1 | A1BG     | 32.65552211 |  0.13081070 | 0.08679529 |  1.50711746 | 0.131780553 | 0.280381286 | FALSE | Not in DB | Not in DB | ⋯ | UP   | DOWN | UP   | UP   | bias.G1:DOWN|bias.G2M:UP|bias.S:UP     | TRUE | FALSE | DOWN,UP | FALSE | TRUE |\n",
       "| 2 | A1BG-AS1 |  7.35297715 | -0.24742138 | 0.16505485 | -1.49902518 | 0.133867100 | 0.283618115 | FALSE | Not in DB | Not in DB | ⋯ | DOWN | DOWN | DOWN | DOWN | bias.G1:DOWN|bias.G2M:DOWN|bias.S:DOWN | TRUE | TRUE  | DOWN    |  TRUE | TRUE |\n",
       "| 3 | A1CF     |  0.20725657 |  0.09920926 | 1.22785182 |  0.08079905 | 0.935601763 |          NA | FALSE | Not in DB | Not in DB | ⋯ | UP   | UP   | DOWN | DOWN | bias.G1:UP|bias.G2M:DOWN|bias.S:DOWN   | TRUE | FALSE | DOWN,UP | FALSE | TRUE |\n",
       "| 4 | A2M      |  0.52103211 |  0.27161128 | 0.57447193 |  0.47280165 | 0.636354696 | 0.783817530 | FALSE | Not in DB | Not in DB | ⋯ | UP   | DOWN | UP   | UP   | bias.G1:DOWN|bias.G2M:UP|bias.S:UP     | TRUE | FALSE | DOWN,UP | FALSE | TRUE |\n",
       "| 5 | A2M-AS1  |  7.38696178 |  0.53908219 | 0.16937609 |  3.18275256 | 0.001458822 | 0.007910834 | FALSE | Not in DB | Not in DB | ⋯ | UP   | UP   | UP   | UP   | bias.G1:UP|bias.G2M:UP|bias.S:UP       | TRUE | TRUE  | UP      |  TRUE | TRUE |\n",
       "| 6 | A2ML1    |  0.07158771 | -0.44759408 | 2.93759833 | -0.15236735 | 0.878897206 |          NA | FALSE | Not in DB | Not in DB | ⋯ | DOWN | DOWN | DOWN | UP   | bias.G1:DOWN|bias.G2M:DOWN|bias.S:UP   | TRUE | FALSE | DOWN,UP | FALSE | TRUE |\n",
       "\n"
      ],
      "text/plain": [
       "  gene     baseMean    log2FoldChange lfcSE      stat        pvalue     \n",
       "1 A1BG     32.65552211  0.13081070    0.08679529  1.50711746 0.131780553\n",
       "2 A1BG-AS1  7.35297715 -0.24742138    0.16505485 -1.49902518 0.133867100\n",
       "3 A1CF      0.20725657  0.09920926    1.22785182  0.08079905 0.935601763\n",
       "4 A2M       0.52103211  0.27161128    0.57447193  0.47280165 0.636354696\n",
       "5 A2M-AS1   7.38696178  0.53908219    0.16937609  3.18275256 0.001458822\n",
       "6 A2ML1     0.07158771 -0.44759408    2.93759833 -0.15236735 0.878897206\n",
       "  padj        gene.is.tf Imprinted.Status Expressed.Allele ⋯ bias.up.down\n",
       "1 0.280381286 FALSE      Not in DB        Not in DB        ⋯ UP          \n",
       "2 0.283618115 FALSE      Not in DB        Not in DB        ⋯ DOWN        \n",
       "3          NA FALSE      Not in DB        Not in DB        ⋯ UP          \n",
       "4 0.783817530 FALSE      Not in DB        Not in DB        ⋯ UP          \n",
       "5 0.007910834 FALSE      Not in DB        Not in DB        ⋯ UP          \n",
       "6          NA FALSE      Not in DB        Not in DB        ⋯ DOWN        \n",
       "  bias.G1 bias.G2M bias.S bias.per.phase                        \n",
       "1 DOWN    UP       UP     bias.G1:DOWN|bias.G2M:UP|bias.S:UP    \n",
       "2 DOWN    DOWN     DOWN   bias.G1:DOWN|bias.G2M:DOWN|bias.S:DOWN\n",
       "3 UP      DOWN     DOWN   bias.G1:UP|bias.G2M:DOWN|bias.S:DOWN  \n",
       "4 DOWN    UP       UP     bias.G1:DOWN|bias.G2M:UP|bias.S:UP    \n",
       "5 UP      UP       UP     bias.G1:UP|bias.G2M:UP|bias.S:UP      \n",
       "6 DOWN    DOWN     UP     bias.G1:DOWN|bias.G2M:DOWN|bias.S:UP  \n",
       "  is.biased.in.any.phase same.bias.in.all.phases phase.bias\n",
       "1 TRUE                   FALSE                   DOWN,UP   \n",
       "2 TRUE                   TRUE                    DOWN      \n",
       "3 TRUE                   FALSE                   DOWN,UP   \n",
       "4 TRUE                   FALSE                   DOWN,UP   \n",
       "5 TRUE                   TRUE                    UP        \n",
       "6 TRUE                   FALSE                   DOWN,UP   \n",
       "  same.bias.with.all.phases same.bias.with.any.phase\n",
       "1 FALSE                     TRUE                    \n",
       "2  TRUE                     TRUE                    \n",
       "3 FALSE                     TRUE                    \n",
       "4 FALSE                     TRUE                    \n",
       "5  TRUE                     TRUE                    \n",
       "6 FALSE                     TRUE                    "
      ]
     },
     "metadata": {},
     "output_type": "display_data"
    }
   ],
   "source": [
    "# Annotate phase bias in result of RGE\n",
    "pb_rge.with_pb_phase <- merge(\n",
    "    filt.pb.rge%>% mutate(bias.up.down=plyr::mapvalues(sign(log2FoldChange), from=c(1,-1,0, NA), to=c('UP', 'DOWN', 'None', 'None'))), \n",
    "    phase.gene.bias, \n",
    "    by='gene', all=T,\n",
    ")\n",
    "\n",
    "\n",
    "# Annotate coincidence of bias with previous results\n",
    "pb_rge.with_pb_phase$same.bias.with.all.phases <- with(pb_rge.with_pb_phase, {phase.bias == bias.up.down})\n",
    "pb_rge.with_pb_phase$same.bias.with.any.phase <- apply(pb_rge.with_pb_phase, MARGIN=1, \n",
    "                                                        function(x){grepl(pattern=x['bias.up.down'], x=x['phase.bias'], fixed=T)})\n",
    "\n",
    "table(pb_rge.with_pb_phase$same.bias.with.all.phases)\n",
    "table(pb_rge.with_pb_phase$same.bias.with.any.phase)\n",
    "\n",
    "head(pb_rge.with_pb_phase)\n",
    "\n",
    "write.csv(pb_rge.with_pb_phase, '../results/selected_markers/markers_with_filters_and_pb_phases.pb_rge.csv')"
   ]
  },
  {
   "cell_type": "markdown",
   "id": "b5fe2a85-eb0b-4dcd-86d3-94df6c74080e",
   "metadata": {},
   "source": [
    "#### Results of SC all"
   ]
  },
  {
   "cell_type": "code",
   "execution_count": 178,
   "id": "d41df061-c6bd-48bc-9f06-491253651f63",
   "metadata": {},
   "outputs": [
    {
     "name": "stderr",
     "output_type": "stream",
     "text": [
      "The following `from` values were not present in `x`: NA\n",
      "\n"
     ]
    },
    {
     "data": {
      "text/plain": [
       "\n",
       " FALSE   TRUE \n",
       "119184 107214 "
      ]
     },
     "metadata": {},
     "output_type": "display_data"
    },
    {
     "data": {
      "text/plain": [
       "\n",
       " FALSE   TRUE \n",
       " 56207 170191 "
      ]
     },
     "metadata": {},
     "output_type": "display_data"
    },
    {
     "data": {
      "text/html": [
       "<table class=\"dataframe\">\n",
       "<caption>A data.frame: 6 × 38</caption>\n",
       "<thead>\n",
       "\t<tr><th></th><th scope=col>gene</th><th scope=col>p_val</th><th scope=col>avg_log2FC</th><th scope=col>pct.1</th><th scope=col>pct.2</th><th scope=col>p_val_adj</th><th scope=col>ident.1</th><th scope=col>ident.2</th><th scope=col>ncells.1</th><th scope=col>ncells.2</th><th scope=col>⋯</th><th scope=col>bias.up.down</th><th scope=col>bias.G1</th><th scope=col>bias.G2M</th><th scope=col>bias.S</th><th scope=col>bias.per.phase</th><th scope=col>is.biased.in.any.phase</th><th scope=col>same.bias.in.all.phases</th><th scope=col>phase.bias</th><th scope=col>same.bias.with.all.phases</th><th scope=col>same.bias.with.any.phase</th></tr>\n",
       "\t<tr><th></th><th scope=col>&lt;chr&gt;</th><th scope=col>&lt;dbl&gt;</th><th scope=col>&lt;dbl&gt;</th><th scope=col>&lt;dbl&gt;</th><th scope=col>&lt;dbl&gt;</th><th scope=col>&lt;dbl&gt;</th><th scope=col>&lt;chr&gt;</th><th scope=col>&lt;chr&gt;</th><th scope=col>&lt;int&gt;</th><th scope=col>&lt;int&gt;</th><th scope=col>⋯</th><th scope=col>&lt;chr&gt;</th><th scope=col>&lt;chr&gt;</th><th scope=col>&lt;chr&gt;</th><th scope=col>&lt;chr&gt;</th><th scope=col>&lt;chr&gt;</th><th scope=col>&lt;chr&gt;</th><th scope=col>&lt;chr&gt;</th><th scope=col>&lt;chr&gt;</th><th scope=col>&lt;lgl&gt;</th><th scope=col>&lt;lgl&gt;</th></tr>\n",
       "</thead>\n",
       "<tbody>\n",
       "\t<tr><th scope=row>1</th><td>A1BG</td><td>0.00273237</td><td>-0.03120904</td><td>0.103</td><td>0.146</td><td>1</td><td>ASD</td><td>Ctrl</td><td> 4754</td><td> 2302</td><td>⋯</td><td>DOWN</td><td>DOWN</td><td>UP</td><td>UP</td><td>bias.G1:DOWN|bias.G2M:UP|bias.S:UP</td><td>TRUE</td><td>FALSE</td><td>DOWN,UP</td><td>FALSE</td><td>TRUE</td></tr>\n",
       "\t<tr><th scope=row>2</th><td>A1BG</td><td>0.81236035</td><td>-0.00357126</td><td>0.098</td><td>0.102</td><td>1</td><td>ASD</td><td>Ctrl</td><td>17534</td><td>15039</td><td>⋯</td><td>DOWN</td><td>DOWN</td><td>UP</td><td>UP</td><td>bias.G1:DOWN|bias.G2M:UP|bias.S:UP</td><td>TRUE</td><td>FALSE</td><td>DOWN,UP</td><td>FALSE</td><td>TRUE</td></tr>\n",
       "\t<tr><th scope=row>3</th><td>A1BG</td><td>0.96515642</td><td> 0.01174854</td><td>0.078</td><td>0.062</td><td>1</td><td>ASD</td><td>Ctrl</td><td>  256</td><td>   32</td><td>⋯</td><td>UP  </td><td>DOWN</td><td>UP</td><td>UP</td><td>bias.G1:DOWN|bias.G2M:UP|bias.S:UP</td><td>TRUE</td><td>FALSE</td><td>DOWN,UP</td><td>FALSE</td><td>TRUE</td></tr>\n",
       "\t<tr><th scope=row>4</th><td>A1BG</td><td>0.09186323</td><td>-0.08173770</td><td>0.057</td><td>0.072</td><td>1</td><td>ASD</td><td>Ctrl</td><td> 2136</td><td> 1326</td><td>⋯</td><td>DOWN</td><td>DOWN</td><td>UP</td><td>UP</td><td>bias.G1:DOWN|bias.G2M:UP|bias.S:UP</td><td>TRUE</td><td>FALSE</td><td>DOWN,UP</td><td>FALSE</td><td>TRUE</td></tr>\n",
       "\t<tr><th scope=row>5</th><td>A1BG</td><td>0.14248611</td><td> 0.13532952</td><td>0.087</td><td>0.034</td><td>1</td><td>ASD</td><td>Ctrl</td><td>  126</td><td>   89</td><td>⋯</td><td>UP  </td><td>DOWN</td><td>UP</td><td>UP</td><td>bias.G1:DOWN|bias.G2M:UP|bias.S:UP</td><td>TRUE</td><td>FALSE</td><td>DOWN,UP</td><td>FALSE</td><td>TRUE</td></tr>\n",
       "\t<tr><th scope=row>6</th><td>A1BG</td><td>0.23931497</td><td>-0.07603715</td><td>0.121</td><td>0.163</td><td>1</td><td>ASD</td><td>Ctrl</td><td>  447</td><td>  270</td><td>⋯</td><td>DOWN</td><td>DOWN</td><td>UP</td><td>UP</td><td>bias.G1:DOWN|bias.G2M:UP|bias.S:UP</td><td>TRUE</td><td>FALSE</td><td>DOWN,UP</td><td>FALSE</td><td>TRUE</td></tr>\n",
       "</tbody>\n",
       "</table>\n"
      ],
      "text/latex": [
       "A data.frame: 6 × 38\n",
       "\\begin{tabular}{r|lllllllllllllllllllll}\n",
       "  & gene & p\\_val & avg\\_log2FC & pct.1 & pct.2 & p\\_val\\_adj & ident.1 & ident.2 & ncells.1 & ncells.2 & ⋯ & bias.up.down & bias.G1 & bias.G2M & bias.S & bias.per.phase & is.biased.in.any.phase & same.bias.in.all.phases & phase.bias & same.bias.with.all.phases & same.bias.with.any.phase\\\\\n",
       "  & <chr> & <dbl> & <dbl> & <dbl> & <dbl> & <dbl> & <chr> & <chr> & <int> & <int> & ⋯ & <chr> & <chr> & <chr> & <chr> & <chr> & <chr> & <chr> & <chr> & <lgl> & <lgl>\\\\\n",
       "\\hline\n",
       "\t1 & A1BG & 0.00273237 & -0.03120904 & 0.103 & 0.146 & 1 & ASD & Ctrl &  4754 &  2302 & ⋯ & DOWN & DOWN & UP & UP & bias.G1:DOWN\\textbar{}bias.G2M:UP\\textbar{}bias.S:UP & TRUE & FALSE & DOWN,UP & FALSE & TRUE\\\\\n",
       "\t2 & A1BG & 0.81236035 & -0.00357126 & 0.098 & 0.102 & 1 & ASD & Ctrl & 17534 & 15039 & ⋯ & DOWN & DOWN & UP & UP & bias.G1:DOWN\\textbar{}bias.G2M:UP\\textbar{}bias.S:UP & TRUE & FALSE & DOWN,UP & FALSE & TRUE\\\\\n",
       "\t3 & A1BG & 0.96515642 &  0.01174854 & 0.078 & 0.062 & 1 & ASD & Ctrl &   256 &    32 & ⋯ & UP   & DOWN & UP & UP & bias.G1:DOWN\\textbar{}bias.G2M:UP\\textbar{}bias.S:UP & TRUE & FALSE & DOWN,UP & FALSE & TRUE\\\\\n",
       "\t4 & A1BG & 0.09186323 & -0.08173770 & 0.057 & 0.072 & 1 & ASD & Ctrl &  2136 &  1326 & ⋯ & DOWN & DOWN & UP & UP & bias.G1:DOWN\\textbar{}bias.G2M:UP\\textbar{}bias.S:UP & TRUE & FALSE & DOWN,UP & FALSE & TRUE\\\\\n",
       "\t5 & A1BG & 0.14248611 &  0.13532952 & 0.087 & 0.034 & 1 & ASD & Ctrl &   126 &    89 & ⋯ & UP   & DOWN & UP & UP & bias.G1:DOWN\\textbar{}bias.G2M:UP\\textbar{}bias.S:UP & TRUE & FALSE & DOWN,UP & FALSE & TRUE\\\\\n",
       "\t6 & A1BG & 0.23931497 & -0.07603715 & 0.121 & 0.163 & 1 & ASD & Ctrl &   447 &   270 & ⋯ & DOWN & DOWN & UP & UP & bias.G1:DOWN\\textbar{}bias.G2M:UP\\textbar{}bias.S:UP & TRUE & FALSE & DOWN,UP & FALSE & TRUE\\\\\n",
       "\\end{tabular}\n"
      ],
      "text/markdown": [
       "\n",
       "A data.frame: 6 × 38\n",
       "\n",
       "| <!--/--> | gene &lt;chr&gt; | p_val &lt;dbl&gt; | avg_log2FC &lt;dbl&gt; | pct.1 &lt;dbl&gt; | pct.2 &lt;dbl&gt; | p_val_adj &lt;dbl&gt; | ident.1 &lt;chr&gt; | ident.2 &lt;chr&gt; | ncells.1 &lt;int&gt; | ncells.2 &lt;int&gt; | ⋯ ⋯ | bias.up.down &lt;chr&gt; | bias.G1 &lt;chr&gt; | bias.G2M &lt;chr&gt; | bias.S &lt;chr&gt; | bias.per.phase &lt;chr&gt; | is.biased.in.any.phase &lt;chr&gt; | same.bias.in.all.phases &lt;chr&gt; | phase.bias &lt;chr&gt; | same.bias.with.all.phases &lt;lgl&gt; | same.bias.with.any.phase &lt;lgl&gt; |\n",
       "|---|---|---|---|---|---|---|---|---|---|---|---|---|---|---|---|---|---|---|---|---|---|\n",
       "| 1 | A1BG | 0.00273237 | -0.03120904 | 0.103 | 0.146 | 1 | ASD | Ctrl |  4754 |  2302 | ⋯ | DOWN | DOWN | UP | UP | bias.G1:DOWN|bias.G2M:UP|bias.S:UP | TRUE | FALSE | DOWN,UP | FALSE | TRUE |\n",
       "| 2 | A1BG | 0.81236035 | -0.00357126 | 0.098 | 0.102 | 1 | ASD | Ctrl | 17534 | 15039 | ⋯ | DOWN | DOWN | UP | UP | bias.G1:DOWN|bias.G2M:UP|bias.S:UP | TRUE | FALSE | DOWN,UP | FALSE | TRUE |\n",
       "| 3 | A1BG | 0.96515642 |  0.01174854 | 0.078 | 0.062 | 1 | ASD | Ctrl |   256 |    32 | ⋯ | UP   | DOWN | UP | UP | bias.G1:DOWN|bias.G2M:UP|bias.S:UP | TRUE | FALSE | DOWN,UP | FALSE | TRUE |\n",
       "| 4 | A1BG | 0.09186323 | -0.08173770 | 0.057 | 0.072 | 1 | ASD | Ctrl |  2136 |  1326 | ⋯ | DOWN | DOWN | UP | UP | bias.G1:DOWN|bias.G2M:UP|bias.S:UP | TRUE | FALSE | DOWN,UP | FALSE | TRUE |\n",
       "| 5 | A1BG | 0.14248611 |  0.13532952 | 0.087 | 0.034 | 1 | ASD | Ctrl |   126 |    89 | ⋯ | UP   | DOWN | UP | UP | bias.G1:DOWN|bias.G2M:UP|bias.S:UP | TRUE | FALSE | DOWN,UP | FALSE | TRUE |\n",
       "| 6 | A1BG | 0.23931497 | -0.07603715 | 0.121 | 0.163 | 1 | ASD | Ctrl |   447 |   270 | ⋯ | DOWN | DOWN | UP | UP | bias.G1:DOWN|bias.G2M:UP|bias.S:UP | TRUE | FALSE | DOWN,UP | FALSE | TRUE |\n",
       "\n"
      ],
      "text/plain": [
       "  gene p_val      avg_log2FC  pct.1 pct.2 p_val_adj ident.1 ident.2 ncells.1\n",
       "1 A1BG 0.00273237 -0.03120904 0.103 0.146 1         ASD     Ctrl     4754   \n",
       "2 A1BG 0.81236035 -0.00357126 0.098 0.102 1         ASD     Ctrl    17534   \n",
       "3 A1BG 0.96515642  0.01174854 0.078 0.062 1         ASD     Ctrl      256   \n",
       "4 A1BG 0.09186323 -0.08173770 0.057 0.072 1         ASD     Ctrl     2136   \n",
       "5 A1BG 0.14248611  0.13532952 0.087 0.034 1         ASD     Ctrl      126   \n",
       "6 A1BG 0.23931497 -0.07603715 0.121 0.163 1         ASD     Ctrl      447   \n",
       "  ncells.2 ⋯ bias.up.down bias.G1 bias.G2M bias.S\n",
       "1  2302    ⋯ DOWN         DOWN    UP       UP    \n",
       "2 15039    ⋯ DOWN         DOWN    UP       UP    \n",
       "3    32    ⋯ UP           DOWN    UP       UP    \n",
       "4  1326    ⋯ DOWN         DOWN    UP       UP    \n",
       "5    89    ⋯ UP           DOWN    UP       UP    \n",
       "6   270    ⋯ DOWN         DOWN    UP       UP    \n",
       "  bias.per.phase                     is.biased.in.any.phase\n",
       "1 bias.G1:DOWN|bias.G2M:UP|bias.S:UP TRUE                  \n",
       "2 bias.G1:DOWN|bias.G2M:UP|bias.S:UP TRUE                  \n",
       "3 bias.G1:DOWN|bias.G2M:UP|bias.S:UP TRUE                  \n",
       "4 bias.G1:DOWN|bias.G2M:UP|bias.S:UP TRUE                  \n",
       "5 bias.G1:DOWN|bias.G2M:UP|bias.S:UP TRUE                  \n",
       "6 bias.G1:DOWN|bias.G2M:UP|bias.S:UP TRUE                  \n",
       "  same.bias.in.all.phases phase.bias same.bias.with.all.phases\n",
       "1 FALSE                   DOWN,UP    FALSE                    \n",
       "2 FALSE                   DOWN,UP    FALSE                    \n",
       "3 FALSE                   DOWN,UP    FALSE                    \n",
       "4 FALSE                   DOWN,UP    FALSE                    \n",
       "5 FALSE                   DOWN,UP    FALSE                    \n",
       "6 FALSE                   DOWN,UP    FALSE                    \n",
       "  same.bias.with.any.phase\n",
       "1 TRUE                    \n",
       "2 TRUE                    \n",
       "3 TRUE                    \n",
       "4 TRUE                    \n",
       "5 TRUE                    \n",
       "6 TRUE                    "
      ]
     },
     "metadata": {},
     "output_type": "display_data"
    }
   ],
   "source": [
    "# Annotate phase bias in result of all markers\n",
    "res.with_pb_phase <- merge(\n",
    "    filt.res%>% mutate(bias.up.down=plyr::mapvalues(sign(avg_log2FC), from=c(1,-1,0, NA), to=c('UP', 'DOWN', 'None', 'None'))), \n",
    "    phase.gene.bias, \n",
    "    by='gene', all.x=T, all.y=F\n",
    ")\n",
    "\n",
    "# Annotate coincidence of bias with previous results\n",
    "res.with_pb_phase$same.bias.with.all.phases <- with(res.with_pb_phase, {phase.bias == bias.up.down})\n",
    "res.with_pb_phase$same.bias.with.any.phase <- apply(res.with_pb_phase, MARGIN=1, \n",
    "                                                     function(x){grepl(pattern=x['bias.up.down'], x=x['phase.bias'], fixed=T)})\n",
    "\n",
    "table(res.with_pb_phase$same.bias.with.all.phases)\n",
    "table(res.with_pb_phase$same.bias.with.any.phase)\n",
    "\n",
    "head(res.with_pb_phase)\n",
    "\n",
    "write.csv(res.with_pb_phase, '../results/selected_markers/markers_with_filters_and_pb_phases.nohighmito.csv')"
   ]
  },
  {
   "cell_type": "markdown",
   "id": "a81812b5-d616-42e1-aece-9c7e913382f8",
   "metadata": {
    "jp-MarkdownHeadingCollapsed": true,
    "tags": []
   },
   "source": [
    "## Phases from seurat"
   ]
  },
  {
   "cell_type": "code",
   "execution_count": 179,
   "id": "b62686e4-3c9f-46a9-8baa-f77922bf454b",
   "metadata": {},
   "outputs": [
    {
     "name": "stderr",
     "output_type": "stream",
     "text": [
      "The following `from` values were not present in `x`: NA\n",
      "\n"
     ]
    },
    {
     "data": {
      "text/html": [
       "<table class=\"dataframe\">\n",
       "<caption>A matrix: 6 × 8 of type chr</caption>\n",
       "<thead>\n",
       "\t<tr><th scope=col>gene</th><th scope=col>bias.G1</th><th scope=col>bias.G2M</th><th scope=col>bias.S</th><th scope=col>bias.per.phase</th><th scope=col>is.biased.in.any.phase</th><th scope=col>same.bias.in.all.phases</th><th scope=col>phase.bias</th></tr>\n",
       "</thead>\n",
       "<tbody>\n",
       "\t<tr><td>A1BG    </td><td>DOWN</td><td>UP  </td><td>DOWN</td><td>bias.G1:DOWN|bias.G2M:UP|bias.S:DOWN  </td><td>TRUE</td><td>FALSE</td><td>DOWN,UP</td></tr>\n",
       "\t<tr><td>A1BG-AS1</td><td>DOWN</td><td>DOWN</td><td>DOWN</td><td>bias.G1:DOWN|bias.G2M:DOWN|bias.S:DOWN</td><td>TRUE</td><td>TRUE </td><td>DOWN   </td></tr>\n",
       "\t<tr><td>A1CF    </td><td>UP  </td><td>DOWN</td><td>DOWN</td><td>bias.G1:UP|bias.G2M:DOWN|bias.S:DOWN  </td><td>TRUE</td><td>FALSE</td><td>DOWN,UP</td></tr>\n",
       "\t<tr><td>A2M     </td><td>DOWN</td><td>DOWN</td><td>DOWN</td><td>bias.G1:DOWN|bias.G2M:DOWN|bias.S:DOWN</td><td>TRUE</td><td>TRUE </td><td>DOWN   </td></tr>\n",
       "\t<tr><td>A2M-AS1 </td><td>UP  </td><td>UP  </td><td>UP  </td><td>bias.G1:UP|bias.G2M:UP|bias.S:UP      </td><td>TRUE</td><td>TRUE </td><td>UP     </td></tr>\n",
       "\t<tr><td>A2ML1   </td><td>DOWN</td><td>DOWN</td><td>DOWN</td><td>bias.G1:DOWN|bias.G2M:DOWN|bias.S:DOWN</td><td>TRUE</td><td>TRUE </td><td>DOWN   </td></tr>\n",
       "</tbody>\n",
       "</table>\n"
      ],
      "text/latex": [
       "A matrix: 6 × 8 of type chr\n",
       "\\begin{tabular}{llllllll}\n",
       " gene & bias.G1 & bias.G2M & bias.S & bias.per.phase & is.biased.in.any.phase & same.bias.in.all.phases & phase.bias\\\\\n",
       "\\hline\n",
       "\t A1BG     & DOWN & UP   & DOWN & bias.G1:DOWN\\textbar{}bias.G2M:UP\\textbar{}bias.S:DOWN   & TRUE & FALSE & DOWN,UP\\\\\n",
       "\t A1BG-AS1 & DOWN & DOWN & DOWN & bias.G1:DOWN\\textbar{}bias.G2M:DOWN\\textbar{}bias.S:DOWN & TRUE & TRUE  & DOWN   \\\\\n",
       "\t A1CF     & UP   & DOWN & DOWN & bias.G1:UP\\textbar{}bias.G2M:DOWN\\textbar{}bias.S:DOWN   & TRUE & FALSE & DOWN,UP\\\\\n",
       "\t A2M      & DOWN & DOWN & DOWN & bias.G1:DOWN\\textbar{}bias.G2M:DOWN\\textbar{}bias.S:DOWN & TRUE & TRUE  & DOWN   \\\\\n",
       "\t A2M-AS1  & UP   & UP   & UP   & bias.G1:UP\\textbar{}bias.G2M:UP\\textbar{}bias.S:UP       & TRUE & TRUE  & UP     \\\\\n",
       "\t A2ML1    & DOWN & DOWN & DOWN & bias.G1:DOWN\\textbar{}bias.G2M:DOWN\\textbar{}bias.S:DOWN & TRUE & TRUE  & DOWN   \\\\\n",
       "\\end{tabular}\n"
      ],
      "text/markdown": [
       "\n",
       "A matrix: 6 × 8 of type chr\n",
       "\n",
       "| gene | bias.G1 | bias.G2M | bias.S | bias.per.phase | is.biased.in.any.phase | same.bias.in.all.phases | phase.bias |\n",
       "|---|---|---|---|---|---|---|---|\n",
       "| A1BG     | DOWN | UP   | DOWN | bias.G1:DOWN|bias.G2M:UP|bias.S:DOWN   | TRUE | FALSE | DOWN,UP |\n",
       "| A1BG-AS1 | DOWN | DOWN | DOWN | bias.G1:DOWN|bias.G2M:DOWN|bias.S:DOWN | TRUE | TRUE  | DOWN    |\n",
       "| A1CF     | UP   | DOWN | DOWN | bias.G1:UP|bias.G2M:DOWN|bias.S:DOWN   | TRUE | FALSE | DOWN,UP |\n",
       "| A2M      | DOWN | DOWN | DOWN | bias.G1:DOWN|bias.G2M:DOWN|bias.S:DOWN | TRUE | TRUE  | DOWN    |\n",
       "| A2M-AS1  | UP   | UP   | UP   | bias.G1:UP|bias.G2M:UP|bias.S:UP       | TRUE | TRUE  | UP      |\n",
       "| A2ML1    | DOWN | DOWN | DOWN | bias.G1:DOWN|bias.G2M:DOWN|bias.S:DOWN | TRUE | TRUE  | DOWN    |\n",
       "\n"
      ],
      "text/plain": [
       "     gene     bias.G1 bias.G2M bias.S bias.per.phase                        \n",
       "[1,] A1BG     DOWN    UP       DOWN   bias.G1:DOWN|bias.G2M:UP|bias.S:DOWN  \n",
       "[2,] A1BG-AS1 DOWN    DOWN     DOWN   bias.G1:DOWN|bias.G2M:DOWN|bias.S:DOWN\n",
       "[3,] A1CF     UP      DOWN     DOWN   bias.G1:UP|bias.G2M:DOWN|bias.S:DOWN  \n",
       "[4,] A2M      DOWN    DOWN     DOWN   bias.G1:DOWN|bias.G2M:DOWN|bias.S:DOWN\n",
       "[5,] A2M-AS1  UP      UP       UP     bias.G1:UP|bias.G2M:UP|bias.S:UP      \n",
       "[6,] A2ML1    DOWN    DOWN     DOWN   bias.G1:DOWN|bias.G2M:DOWN|bias.S:DOWN\n",
       "     is.biased.in.any.phase same.bias.in.all.phases phase.bias\n",
       "[1,] TRUE                   FALSE                   DOWN,UP   \n",
       "[2,] TRUE                   TRUE                    DOWN      \n",
       "[3,] TRUE                   FALSE                   DOWN,UP   \n",
       "[4,] TRUE                   TRUE                    DOWN      \n",
       "[5,] TRUE                   TRUE                    UP        \n",
       "[6,] TRUE                   TRUE                    DOWN      "
      ]
     },
     "metadata": {},
     "output_type": "display_data"
    }
   ],
   "source": [
    "scphase.gene.bias <- filt.res.rge%>%mutate(bias.up.down=plyr::mapvalues(sign(avg_log2FC), from=c(1,-1,0, NA), to=c('UP', 'DOWN', 'None', 'None')))\n",
    "\n",
    "scphase.gene.bias <- reshape2::dcast(scphase.gene.bias, gene ~ Phase , value.var = 'bias.up.down')\n",
    "colnames(scphase.gene.bias)[-1] <- paste('bias', sep='.', colnames(scphase.gene.bias)[-1])\n",
    "\n",
    "scphase.gene.bias <- apply(\n",
    "    scphase.gene.bias, 1, function(x){\n",
    "        biases <- x[-1]\n",
    "        x['bias.per.phase'] <- paste(paste(names(biases), biases, sep=':'), collapse='|')\n",
    "        x['is.biased.in.any.phase'] <- any(biases!='None')\n",
    "        x['same.bias.in.all.phases'] <- (length(unique(biases))==1)&(!'None' %in% biases)\n",
    "        x['phase.bias'] <- paste(sort(unique(biases)), collapse=',')\n",
    "        x\n",
    "    })%>%t()\n",
    "\n",
    "head(scphase.gene.bias)"
   ]
  },
  {
   "cell_type": "markdown",
   "id": "bb4ac5d3-7dba-41f0-9f5b-81ce999f894b",
   "metadata": {},
   "source": [
    "#### Results of SC all"
   ]
  },
  {
   "cell_type": "code",
   "execution_count": 180,
   "id": "b51287ca-9fc7-40e7-84b4-01fd7b8cf76b",
   "metadata": {},
   "outputs": [
    {
     "name": "stderr",
     "output_type": "stream",
     "text": [
      "The following `from` values were not present in `x`: NA\n",
      "\n"
     ]
    },
    {
     "data": {
      "text/plain": [
       "\n",
       " FALSE   TRUE \n",
       "122454 103944 "
      ]
     },
     "metadata": {},
     "output_type": "display_data"
    },
    {
     "data": {
      "text/plain": [
       "\n",
       " FALSE   TRUE \n",
       " 43223 183175 "
      ]
     },
     "metadata": {},
     "output_type": "display_data"
    },
    {
     "data": {
      "text/html": [
       "<table class=\"dataframe\">\n",
       "<caption>A data.frame: 6 × 38</caption>\n",
       "<thead>\n",
       "\t<tr><th></th><th scope=col>gene</th><th scope=col>p_val</th><th scope=col>avg_log2FC</th><th scope=col>pct.1</th><th scope=col>pct.2</th><th scope=col>p_val_adj</th><th scope=col>ident.1</th><th scope=col>ident.2</th><th scope=col>ncells.1</th><th scope=col>ncells.2</th><th scope=col>⋯</th><th scope=col>bias.up.down</th><th scope=col>bias.G1</th><th scope=col>bias.G2M</th><th scope=col>bias.S</th><th scope=col>bias.per.phase</th><th scope=col>is.biased.in.any.phase</th><th scope=col>same.bias.in.all.phases</th><th scope=col>phase.bias</th><th scope=col>phase.bias.coincident.all</th><th scope=col>phase.bias.coincident.any</th></tr>\n",
       "\t<tr><th></th><th scope=col>&lt;chr&gt;</th><th scope=col>&lt;dbl&gt;</th><th scope=col>&lt;dbl&gt;</th><th scope=col>&lt;dbl&gt;</th><th scope=col>&lt;dbl&gt;</th><th scope=col>&lt;dbl&gt;</th><th scope=col>&lt;chr&gt;</th><th scope=col>&lt;chr&gt;</th><th scope=col>&lt;int&gt;</th><th scope=col>&lt;int&gt;</th><th scope=col>⋯</th><th scope=col>&lt;chr&gt;</th><th scope=col>&lt;chr&gt;</th><th scope=col>&lt;chr&gt;</th><th scope=col>&lt;chr&gt;</th><th scope=col>&lt;chr&gt;</th><th scope=col>&lt;chr&gt;</th><th scope=col>&lt;chr&gt;</th><th scope=col>&lt;chr&gt;</th><th scope=col>&lt;lgl&gt;</th><th scope=col>&lt;lgl&gt;</th></tr>\n",
       "</thead>\n",
       "<tbody>\n",
       "\t<tr><th scope=row>1</th><td>A1BG</td><td>0.00273237</td><td>-0.03120904</td><td>0.103</td><td>0.146</td><td>1</td><td>ASD</td><td>Ctrl</td><td> 4754</td><td> 2302</td><td>⋯</td><td>DOWN</td><td>DOWN</td><td>UP</td><td>DOWN</td><td>bias.G1:DOWN|bias.G2M:UP|bias.S:DOWN</td><td>TRUE</td><td>FALSE</td><td>DOWN,UP</td><td>FALSE</td><td>TRUE</td></tr>\n",
       "\t<tr><th scope=row>2</th><td>A1BG</td><td>0.81236035</td><td>-0.00357126</td><td>0.098</td><td>0.102</td><td>1</td><td>ASD</td><td>Ctrl</td><td>17534</td><td>15039</td><td>⋯</td><td>DOWN</td><td>DOWN</td><td>UP</td><td>DOWN</td><td>bias.G1:DOWN|bias.G2M:UP|bias.S:DOWN</td><td>TRUE</td><td>FALSE</td><td>DOWN,UP</td><td>FALSE</td><td>TRUE</td></tr>\n",
       "\t<tr><th scope=row>3</th><td>A1BG</td><td>0.96515642</td><td> 0.01174854</td><td>0.078</td><td>0.062</td><td>1</td><td>ASD</td><td>Ctrl</td><td>  256</td><td>   32</td><td>⋯</td><td>UP  </td><td>DOWN</td><td>UP</td><td>DOWN</td><td>bias.G1:DOWN|bias.G2M:UP|bias.S:DOWN</td><td>TRUE</td><td>FALSE</td><td>DOWN,UP</td><td>FALSE</td><td>TRUE</td></tr>\n",
       "\t<tr><th scope=row>4</th><td>A1BG</td><td>0.09186323</td><td>-0.08173770</td><td>0.057</td><td>0.072</td><td>1</td><td>ASD</td><td>Ctrl</td><td> 2136</td><td> 1326</td><td>⋯</td><td>DOWN</td><td>DOWN</td><td>UP</td><td>DOWN</td><td>bias.G1:DOWN|bias.G2M:UP|bias.S:DOWN</td><td>TRUE</td><td>FALSE</td><td>DOWN,UP</td><td>FALSE</td><td>TRUE</td></tr>\n",
       "\t<tr><th scope=row>5</th><td>A1BG</td><td>0.14248611</td><td> 0.13532952</td><td>0.087</td><td>0.034</td><td>1</td><td>ASD</td><td>Ctrl</td><td>  126</td><td>   89</td><td>⋯</td><td>UP  </td><td>DOWN</td><td>UP</td><td>DOWN</td><td>bias.G1:DOWN|bias.G2M:UP|bias.S:DOWN</td><td>TRUE</td><td>FALSE</td><td>DOWN,UP</td><td>FALSE</td><td>TRUE</td></tr>\n",
       "\t<tr><th scope=row>6</th><td>A1BG</td><td>0.23931497</td><td>-0.07603715</td><td>0.121</td><td>0.163</td><td>1</td><td>ASD</td><td>Ctrl</td><td>  447</td><td>  270</td><td>⋯</td><td>DOWN</td><td>DOWN</td><td>UP</td><td>DOWN</td><td>bias.G1:DOWN|bias.G2M:UP|bias.S:DOWN</td><td>TRUE</td><td>FALSE</td><td>DOWN,UP</td><td>FALSE</td><td>TRUE</td></tr>\n",
       "</tbody>\n",
       "</table>\n"
      ],
      "text/latex": [
       "A data.frame: 6 × 38\n",
       "\\begin{tabular}{r|lllllllllllllllllllll}\n",
       "  & gene & p\\_val & avg\\_log2FC & pct.1 & pct.2 & p\\_val\\_adj & ident.1 & ident.2 & ncells.1 & ncells.2 & ⋯ & bias.up.down & bias.G1 & bias.G2M & bias.S & bias.per.phase & is.biased.in.any.phase & same.bias.in.all.phases & phase.bias & phase.bias.coincident.all & phase.bias.coincident.any\\\\\n",
       "  & <chr> & <dbl> & <dbl> & <dbl> & <dbl> & <dbl> & <chr> & <chr> & <int> & <int> & ⋯ & <chr> & <chr> & <chr> & <chr> & <chr> & <chr> & <chr> & <chr> & <lgl> & <lgl>\\\\\n",
       "\\hline\n",
       "\t1 & A1BG & 0.00273237 & -0.03120904 & 0.103 & 0.146 & 1 & ASD & Ctrl &  4754 &  2302 & ⋯ & DOWN & DOWN & UP & DOWN & bias.G1:DOWN\\textbar{}bias.G2M:UP\\textbar{}bias.S:DOWN & TRUE & FALSE & DOWN,UP & FALSE & TRUE\\\\\n",
       "\t2 & A1BG & 0.81236035 & -0.00357126 & 0.098 & 0.102 & 1 & ASD & Ctrl & 17534 & 15039 & ⋯ & DOWN & DOWN & UP & DOWN & bias.G1:DOWN\\textbar{}bias.G2M:UP\\textbar{}bias.S:DOWN & TRUE & FALSE & DOWN,UP & FALSE & TRUE\\\\\n",
       "\t3 & A1BG & 0.96515642 &  0.01174854 & 0.078 & 0.062 & 1 & ASD & Ctrl &   256 &    32 & ⋯ & UP   & DOWN & UP & DOWN & bias.G1:DOWN\\textbar{}bias.G2M:UP\\textbar{}bias.S:DOWN & TRUE & FALSE & DOWN,UP & FALSE & TRUE\\\\\n",
       "\t4 & A1BG & 0.09186323 & -0.08173770 & 0.057 & 0.072 & 1 & ASD & Ctrl &  2136 &  1326 & ⋯ & DOWN & DOWN & UP & DOWN & bias.G1:DOWN\\textbar{}bias.G2M:UP\\textbar{}bias.S:DOWN & TRUE & FALSE & DOWN,UP & FALSE & TRUE\\\\\n",
       "\t5 & A1BG & 0.14248611 &  0.13532952 & 0.087 & 0.034 & 1 & ASD & Ctrl &   126 &    89 & ⋯ & UP   & DOWN & UP & DOWN & bias.G1:DOWN\\textbar{}bias.G2M:UP\\textbar{}bias.S:DOWN & TRUE & FALSE & DOWN,UP & FALSE & TRUE\\\\\n",
       "\t6 & A1BG & 0.23931497 & -0.07603715 & 0.121 & 0.163 & 1 & ASD & Ctrl &   447 &   270 & ⋯ & DOWN & DOWN & UP & DOWN & bias.G1:DOWN\\textbar{}bias.G2M:UP\\textbar{}bias.S:DOWN & TRUE & FALSE & DOWN,UP & FALSE & TRUE\\\\\n",
       "\\end{tabular}\n"
      ],
      "text/markdown": [
       "\n",
       "A data.frame: 6 × 38\n",
       "\n",
       "| <!--/--> | gene &lt;chr&gt; | p_val &lt;dbl&gt; | avg_log2FC &lt;dbl&gt; | pct.1 &lt;dbl&gt; | pct.2 &lt;dbl&gt; | p_val_adj &lt;dbl&gt; | ident.1 &lt;chr&gt; | ident.2 &lt;chr&gt; | ncells.1 &lt;int&gt; | ncells.2 &lt;int&gt; | ⋯ ⋯ | bias.up.down &lt;chr&gt; | bias.G1 &lt;chr&gt; | bias.G2M &lt;chr&gt; | bias.S &lt;chr&gt; | bias.per.phase &lt;chr&gt; | is.biased.in.any.phase &lt;chr&gt; | same.bias.in.all.phases &lt;chr&gt; | phase.bias &lt;chr&gt; | phase.bias.coincident.all &lt;lgl&gt; | phase.bias.coincident.any &lt;lgl&gt; |\n",
       "|---|---|---|---|---|---|---|---|---|---|---|---|---|---|---|---|---|---|---|---|---|---|\n",
       "| 1 | A1BG | 0.00273237 | -0.03120904 | 0.103 | 0.146 | 1 | ASD | Ctrl |  4754 |  2302 | ⋯ | DOWN | DOWN | UP | DOWN | bias.G1:DOWN|bias.G2M:UP|bias.S:DOWN | TRUE | FALSE | DOWN,UP | FALSE | TRUE |\n",
       "| 2 | A1BG | 0.81236035 | -0.00357126 | 0.098 | 0.102 | 1 | ASD | Ctrl | 17534 | 15039 | ⋯ | DOWN | DOWN | UP | DOWN | bias.G1:DOWN|bias.G2M:UP|bias.S:DOWN | TRUE | FALSE | DOWN,UP | FALSE | TRUE |\n",
       "| 3 | A1BG | 0.96515642 |  0.01174854 | 0.078 | 0.062 | 1 | ASD | Ctrl |   256 |    32 | ⋯ | UP   | DOWN | UP | DOWN | bias.G1:DOWN|bias.G2M:UP|bias.S:DOWN | TRUE | FALSE | DOWN,UP | FALSE | TRUE |\n",
       "| 4 | A1BG | 0.09186323 | -0.08173770 | 0.057 | 0.072 | 1 | ASD | Ctrl |  2136 |  1326 | ⋯ | DOWN | DOWN | UP | DOWN | bias.G1:DOWN|bias.G2M:UP|bias.S:DOWN | TRUE | FALSE | DOWN,UP | FALSE | TRUE |\n",
       "| 5 | A1BG | 0.14248611 |  0.13532952 | 0.087 | 0.034 | 1 | ASD | Ctrl |   126 |    89 | ⋯ | UP   | DOWN | UP | DOWN | bias.G1:DOWN|bias.G2M:UP|bias.S:DOWN | TRUE | FALSE | DOWN,UP | FALSE | TRUE |\n",
       "| 6 | A1BG | 0.23931497 | -0.07603715 | 0.121 | 0.163 | 1 | ASD | Ctrl |   447 |   270 | ⋯ | DOWN | DOWN | UP | DOWN | bias.G1:DOWN|bias.G2M:UP|bias.S:DOWN | TRUE | FALSE | DOWN,UP | FALSE | TRUE |\n",
       "\n"
      ],
      "text/plain": [
       "  gene p_val      avg_log2FC  pct.1 pct.2 p_val_adj ident.1 ident.2 ncells.1\n",
       "1 A1BG 0.00273237 -0.03120904 0.103 0.146 1         ASD     Ctrl     4754   \n",
       "2 A1BG 0.81236035 -0.00357126 0.098 0.102 1         ASD     Ctrl    17534   \n",
       "3 A1BG 0.96515642  0.01174854 0.078 0.062 1         ASD     Ctrl      256   \n",
       "4 A1BG 0.09186323 -0.08173770 0.057 0.072 1         ASD     Ctrl     2136   \n",
       "5 A1BG 0.14248611  0.13532952 0.087 0.034 1         ASD     Ctrl      126   \n",
       "6 A1BG 0.23931497 -0.07603715 0.121 0.163 1         ASD     Ctrl      447   \n",
       "  ncells.2 ⋯ bias.up.down bias.G1 bias.G2M bias.S\n",
       "1  2302    ⋯ DOWN         DOWN    UP       DOWN  \n",
       "2 15039    ⋯ DOWN         DOWN    UP       DOWN  \n",
       "3    32    ⋯ UP           DOWN    UP       DOWN  \n",
       "4  1326    ⋯ DOWN         DOWN    UP       DOWN  \n",
       "5    89    ⋯ UP           DOWN    UP       DOWN  \n",
       "6   270    ⋯ DOWN         DOWN    UP       DOWN  \n",
       "  bias.per.phase                       is.biased.in.any.phase\n",
       "1 bias.G1:DOWN|bias.G2M:UP|bias.S:DOWN TRUE                  \n",
       "2 bias.G1:DOWN|bias.G2M:UP|bias.S:DOWN TRUE                  \n",
       "3 bias.G1:DOWN|bias.G2M:UP|bias.S:DOWN TRUE                  \n",
       "4 bias.G1:DOWN|bias.G2M:UP|bias.S:DOWN TRUE                  \n",
       "5 bias.G1:DOWN|bias.G2M:UP|bias.S:DOWN TRUE                  \n",
       "6 bias.G1:DOWN|bias.G2M:UP|bias.S:DOWN TRUE                  \n",
       "  same.bias.in.all.phases phase.bias phase.bias.coincident.all\n",
       "1 FALSE                   DOWN,UP    FALSE                    \n",
       "2 FALSE                   DOWN,UP    FALSE                    \n",
       "3 FALSE                   DOWN,UP    FALSE                    \n",
       "4 FALSE                   DOWN,UP    FALSE                    \n",
       "5 FALSE                   DOWN,UP    FALSE                    \n",
       "6 FALSE                   DOWN,UP    FALSE                    \n",
       "  phase.bias.coincident.any\n",
       "1 TRUE                     \n",
       "2 TRUE                     \n",
       "3 TRUE                     \n",
       "4 TRUE                     \n",
       "5 TRUE                     \n",
       "6 TRUE                     "
      ]
     },
     "metadata": {},
     "output_type": "display_data"
    }
   ],
   "source": [
    "# Annotate phase bias in result of all markers\n",
    "res.with_sc_phase <- merge(\n",
    "    filt.res%>% mutate(bias.up.down=plyr::mapvalues(sign(avg_log2FC), from=c(1,-1,0, NA), to=c('UP', 'DOWN', 'None', 'None'))), \n",
    "    scphase.gene.bias, \n",
    "    by='gene', all.x=T, all.y=F\n",
    ")\n",
    "\n",
    "# Annotate coincidence of bias with previous results\n",
    "res.with_sc_phase$phase.bias.coincident.all <- with(res.with_sc_phase, {phase.bias == bias.up.down})\n",
    "res.with_sc_phase$phase.bias.coincident.any <- apply(res.with_sc_phase, MARGIN=1, \n",
    "                                                     function(x){grepl(pattern=x['bias.up.down'], x=x['phase.bias'], fixed=T)})\n",
    "\n",
    "table(res.with_sc_phase$phase.bias.coincident.all)\n",
    "table(res.with_sc_phase$phase.bias.coincident.any)\n",
    "\n",
    "head(res.with_sc_phase)\n",
    "\n",
    "write.csv(res.with_sc_phase, '../results/selected_markers/markers_with_filters_and_sc_phases.nohighmito.csv')"
   ]
  },
  {
   "cell_type": "markdown",
   "id": "f71d281e-7f1a-4aa3-abf6-b5ade5a52e93",
   "metadata": {
    "tags": []
   },
   "source": [
    "## Export"
   ]
  },
  {
   "cell_type": "code",
   "execution_count": 181,
   "id": "78684445-cee8-4495-b814-25eab70fa5f7",
   "metadata": {},
   "outputs": [
    {
     "data": {
      "text/html": [
       "<style>\n",
       ".list-inline {list-style: none; margin:0; padding: 0}\n",
       ".list-inline>li {display: inline-block}\n",
       ".list-inline>li:not(:last-child)::after {content: \"\\00b7\"; padding: 0 .5ex}\n",
       "</style>\n",
       "<ol class=list-inline><li>'filter.2of3.over.2of3'</li><li>'filter.2of3.over.max'</li><li>'filter.all.over.2of3'</li><li>'filter.all.over.max'</li></ol>\n"
      ],
      "text/latex": [
       "\\begin{enumerate*}\n",
       "\\item 'filter.2of3.over.2of3'\n",
       "\\item 'filter.2of3.over.max'\n",
       "\\item 'filter.all.over.2of3'\n",
       "\\item 'filter.all.over.max'\n",
       "\\end{enumerate*}\n"
      ],
      "text/markdown": [
       "1. 'filter.2of3.over.2of3'\n",
       "2. 'filter.2of3.over.max'\n",
       "3. 'filter.all.over.2of3'\n",
       "4. 'filter.all.over.max'\n",
       "\n",
       "\n"
      ],
      "text/plain": [
       "[1] \"filter.2of3.over.2of3\" \"filter.2of3.over.max\"  \"filter.all.over.2of3\" \n",
       "[4] \"filter.all.over.max\"  "
      ]
     },
     "metadata": {},
     "output_type": "display_data"
    },
    {
     "data": {
      "text/html": [
       "<style>\n",
       ".list-inline {list-style: none; margin:0; padding: 0}\n",
       ".list-inline>li {display: inline-block}\n",
       ".list-inline>li:not(:last-child)::after {content: \"\\00b7\"; padding: 0 .5ex}\n",
       "</style>\n",
       "<ol class=list-inline><li>'filter.2of3.over.2of3'</li><li>'filter.2of3.over.max'</li><li>'filter.all.over.2of3'</li><li>'filter.all.over.max'</li></ol>\n"
      ],
      "text/latex": [
       "\\begin{enumerate*}\n",
       "\\item 'filter.2of3.over.2of3'\n",
       "\\item 'filter.2of3.over.max'\n",
       "\\item 'filter.all.over.2of3'\n",
       "\\item 'filter.all.over.max'\n",
       "\\end{enumerate*}\n"
      ],
      "text/markdown": [
       "1. 'filter.2of3.over.2of3'\n",
       "2. 'filter.2of3.over.max'\n",
       "3. 'filter.all.over.2of3'\n",
       "4. 'filter.all.over.max'\n",
       "\n",
       "\n"
      ],
      "text/plain": [
       "[1] \"filter.2of3.over.2of3\" \"filter.2of3.over.max\"  \"filter.all.over.2of3\" \n",
       "[4] \"filter.all.over.max\"  "
      ]
     },
     "metadata": {},
     "output_type": "display_data"
    },
    {
     "data": {
      "text/html": [
       "<style>\n",
       ".list-inline {list-style: none; margin:0; padding: 0}\n",
       ".list-inline>li {display: inline-block}\n",
       ".list-inline>li:not(:last-child)::after {content: \"\\00b7\"; padding: 0 .5ex}\n",
       "</style>\n",
       "<ol class=list-inline><li>'filter.2of3.over.2of3'</li><li>'filter.2of3.over.max'</li><li>'filter.all.over.2of3'</li><li>'filter.all.over.max'</li></ol>\n"
      ],
      "text/latex": [
       "\\begin{enumerate*}\n",
       "\\item 'filter.2of3.over.2of3'\n",
       "\\item 'filter.2of3.over.max'\n",
       "\\item 'filter.all.over.2of3'\n",
       "\\item 'filter.all.over.max'\n",
       "\\end{enumerate*}\n"
      ],
      "text/markdown": [
       "1. 'filter.2of3.over.2of3'\n",
       "2. 'filter.2of3.over.max'\n",
       "3. 'filter.all.over.2of3'\n",
       "4. 'filter.all.over.max'\n",
       "\n",
       "\n"
      ],
      "text/plain": [
       "[1] \"filter.2of3.over.2of3\" \"filter.2of3.over.max\"  \"filter.all.over.2of3\" \n",
       "[4] \"filter.all.over.max\"  "
      ]
     },
     "metadata": {},
     "output_type": "display_data"
    }
   ],
   "source": [
    "grep(colnames(res.with_pb_phase), pattern='filter.', fixed=T, value=T)\n",
    "grep(colnames(pb_rge.with_pb_phase), pattern='filter.', fixed=T, value=T)\n",
    "grep(colnames(filt.pb.phase), pattern='filter.', fixed=T, value=T)"
   ]
  },
  {
   "cell_type": "code",
   "execution_count": 182,
   "id": "ecf51306-fb9d-481a-a479-850e16bd87af",
   "metadata": {},
   "outputs": [],
   "source": [
    "filters <- c('filter.2of3.over.2of3',\n",
    "'filter.2of3.over.max',\n",
    "'filter.all.over.2of3',\n",
    "'filter.all.over.max')"
   ]
  },
  {
   "cell_type": "code",
   "execution_count": 183,
   "id": "9ae67e4f-94dc-45d8-8f7e-4be2219b99b2",
   "metadata": {},
   "outputs": [
    {
     "name": "stderr",
     "output_type": "stream",
     "text": [
      "NA\n",
      "\n",
      "filter.2of3.over.2of3\n",
      "\n",
      "filter.2of3.over.max\n",
      "\n",
      "filter.all.over.2of3\n",
      "\n",
      "filter.all.over.max\n",
      "\n"
     ]
    }
   ],
   "source": [
    "for (filt in c(NA, filters)){\n",
    "    \n",
    "\n",
    "    message(filt)\n",
    "    if (is.na(filt)){\n",
    "        filt <- 'None'\n",
    "        dfs <- list(\n",
    "            # res.with_sc_phase or res.with_pb_phase\n",
    "            Seurat.All = res.with_pb_phase,\n",
    "            Seurat.All.TFs = res.with_pb_phase[res.with_pb_phase[,'gene.is.tf'] ,],\n",
    "            DESeq2.RGe = pb_rge.with_pb_phase,\n",
    "            DESeq2.RGe.TFs = pb_rge.with_pb_phase[pb_rge.with_pb_phase[,'gene.is.tf'] ,],\n",
    "            DESeq2.RGe.PerPhase=filt.pb.phase,\n",
    "            DESeq2.RGe.PerPhase.TFs=filt.pb.phase[filt.pb.phase[,'gene.is.tf'] ,] \n",
    "        )\n",
    "    } else {\n",
    "        dfs <- list(\n",
    "            # res.with_sc_phase or res.with_pb_phase\n",
    "            Seurat.All.Filt = res.with_pb_phase[res.with_pb_phase[,filt],],\n",
    "            Seurat.All.TFs.Filt = res.with_pb_phase[res.with_pb_phase[,filt] & res.with_pb_phase[,'gene.is.tf'] ,],\n",
    "            DESeq2.RGe.Filt = pb_rge.with_pb_phase[pb_rge.with_pb_phase[,filt],],\n",
    "            DESeq2.RGe.TFs.Filt = pb_rge.with_pb_phase[pb_rge.with_pb_phase[,filt] & pb_rge.with_pb_phase[,'gene.is.tf'] ,],\n",
    "            DESeq2.RGe.PerPhase.Filt=filt.pb.phase[filt.pb.phase[,filt],],\n",
    "            DESeq2.RGe.PerPhase.TFs.Filt=filt.pb.phase[filt.pb.phase[,filt] & filt.pb.phase[,'gene.is.tf'] ,] \n",
    "        )\n",
    "        \n",
    "    }\n",
    "    \n",
    "    openxlsx::write.xlsx(dfs, file=glue::glue(\n",
    "        '../results/selected_markers/ASD_vs_Ctrl_markers.Annotated.Filter_{filt}.xlsx'))\n",
    "}"
   ]
  },
  {
   "cell_type": "markdown",
   "id": "55e76255-84c5-4a5d-ba17-47a30c29ea6d",
   "metadata": {
    "tags": []
   },
   "source": [
    "### Available filters"
   ]
  },
  {
   "cell_type": "code",
   "execution_count": 184,
   "id": "1b7eba6d-31b3-4361-ab90-4d50bfd30628",
   "metadata": {},
   "outputs": [],
   "source": [
    "exp.filt.opts <- list(\n",
    "    'filter.2of3.over.2of3' = 'At least 2/3 of one group has higher expression than 2/3 of the opposit group',\n",
    "    'filter.2of3.over.max' = 'At least 2/3 of one group has higher expression than any of the opposit group',\n",
    "    'filter.all.over.2of3' = 'All of one group has higher expression than 2/3 of the opposit group',\n",
    "    'filter.all.over.max' = 'All of one group has higher expression than any of the opposit group'\n",
    "    # 'NA' = 'Not filtered by number of overexpressing samples'\n",
    "    )\n",
    "\n",
    "phase.filt.opts <- list(\n",
    "    # 'same.bias.with.all.phases'='All CC phases in RGe show the same bias',\n",
    "    # 'same.bias.with.any.phase'='At least 1 CC phase in RGe show the same bias',\n",
    "    'NA'='Not filtered by CC phase bias'\n",
    ")\n",
    "\n",
    "pval.filt.opts <- list(\n",
    "    'p_val_adj'='Adjusted p-val < 0.05'#,\n",
    "    # 'NA'='Not filtered by p-value'\n",
    ")\n",
    "\n",
    "\n",
    "tf.filt.opts <- list('gene.is.tf'='Only TFs', 'NA'='Not only TFs')\n",
    "\n",
    "filt.grid.desc <- expand.grid(\n",
    "    exp.filt=exp.filt.opts,\n",
    "    phase.filt=phase.filt.opts,\n",
    "    pval.filt=pval.filt.opts,\n",
    "    tf.filt=tf.filt.opts)\n",
    "\n",
    "filt.grid <- expand.grid(\n",
    "    exp.filt=names(exp.filt.opts),\n",
    "    phase.filt=names(phase.filt.opts),\n",
    "    pval.filt=names(pval.filt.opts),\n",
    "    tf.filt=names(tf.filt.opts))"
   ]
  },
  {
   "cell_type": "code",
   "execution_count": 185,
   "id": "0b60b187-0fee-4cf1-b6f0-447f608ee102",
   "metadata": {},
   "outputs": [],
   "source": [
    "save(list = c('exp.filt.opts', 'phase.filt.opts', 'pval.filt.opts','tf.filt.opts', 'filt.grid', 'filt.grid.desc'), file = '../data/filter.list.rda')"
   ]
  },
  {
   "cell_type": "markdown",
   "id": "5c88b1d3-64db-4cfc-b958-2ef810187598",
   "metadata": {
    "tags": []
   },
   "source": [
    "# Per donor"
   ]
  },
  {
   "cell_type": "markdown",
   "id": "882be30c-772d-4e98-9e69-2713a4daff3b",
   "metadata": {
    "jp-MarkdownHeadingCollapsed": true,
    "tags": []
   },
   "source": [
    "## Functions to build intersections"
   ]
  },
  {
   "cell_type": "code",
   "execution_count": 186,
   "id": "88c9406e-ef26-4982-8705-0b7e395538f0",
   "metadata": {},
   "outputs": [],
   "source": [
    "get_presence_table <- function(sets){\n",
    "    \n",
    "    elements <- unlist(sets)%>%unique()\n",
    "    int.tbl <- lapply(sets, function(x){elements%in%x})%>%do.call(what='cbind')%>%as.data.frame()\n",
    "    rownames(int.tbl) <- elements\n",
    "    return(int.tbl)\n",
    "}"
   ]
  },
  {
   "cell_type": "code",
   "execution_count": 187,
   "id": "3c3b7142-340f-4c77-876a-dfd5c8790d74",
   "metadata": {},
   "outputs": [],
   "source": [
    "get_intersections <- function(bool_tbl, return.as='list'){\n",
    "    \n",
    "    int.stat <- apply(bool_tbl, 1, function(x){colnames(bool_tbl)[x]%>% paste(collapse='&')})\n",
    "    if (return.as == 'data.frame'){\n",
    "        return(cbind(bool_tbl, int.stat)%>%as.data.frame())\n",
    "    } else if (return.as=='table') {\n",
    "        return(table(int.stat))\n",
    "    } else if (return.as == 'list'){\n",
    "        int.sets <- split(rownames(bool_tbl), int.stat)\n",
    "        return(int.sets)\n",
    "    }\n",
    "}"
   ]
  },
  {
   "cell_type": "markdown",
   "id": "b8c28159-928a-4d76-939b-1ee03633ce4b",
   "metadata": {
    "tags": []
   },
   "source": [
    "## filters"
   ]
  },
  {
   "cell_type": "code",
   "execution_count": 188,
   "id": "07ee0ca1-22d5-48b6-9b14-03b92e289789",
   "metadata": {},
   "outputs": [],
   "source": [
    "## Tests that we want to run\n",
    "\n",
    "all_tests.donors <- function(res, ...){\n",
    "    \n",
    "    fixed.args <- list(\n",
    "        group.var= 'anno_cluster_fct',\n",
    "        \n",
    "        p_val_thres = 0.05,\n",
    "        pct.exp.thres = .1,\n",
    "        pct.exp.diff.thres = 0.05,\n",
    "        topby='logfc', \n",
    "        logfc_thres = .4,\n",
    "        \n",
    "        compare.conditions = T,\n",
    "        id.sample = 'cell_origin',\n",
    "        control.cond = 'Ctrl',\n",
    "        id_conditions=id_conditions,\n",
    "        test.cond = 'ASD',\n",
    "        comp.topn=Inf, \n",
    "        comp.topby='logfc',\n",
    "        consistent.logfc = T,\n",
    "\n",
    "        summary.function = max, fr.cond.over.control = 3/3,\n",
    "        \n",
    "        return_full = T\n",
    "    )\n",
    "    \n",
    "    iter.args <- list(\n",
    "        filter.over.max = list(p_val_var = 'p_val_adj', topn=Inf)\n",
    "             )\n",
    "\n",
    "    provided.args <- list(...)\n",
    "    \n",
    "    \n",
    "    for (filt in (names(iter.args))){\n",
    "        for(i in 1:3){print(paste(rep('#', 60), collapse=''))}\n",
    "        message(filt)\n",
    "        for(i in 1:3){print(paste(rep('#', 60), collapse=''))}\n",
    "\n",
    "        iargs <- c(iter.args[[filt]], fixed.args)\n",
    "        for (i in names(provided.args)){\n",
    "            iargs[i] <- provided.args[i]\n",
    "        }\n",
    "        \n",
    "        # return(iargs)\n",
    "        # return(paste(paste(names(iargs), as.character(iargs), sep=\"=\"), collapse=\", \"))\n",
    "        rlang::exec(.fn = filter.marker.genes, res=res, !!!iargs) -> res\n",
    "        colnames(res) <- ifelse(colnames(res)=='filter.ok', filt, colnames(res))\n",
    "        \n",
    "    }\n",
    "\n",
    "    return(res)\n",
    "}\n"
   ]
  },
  {
   "cell_type": "code",
   "execution_count": 189,
   "id": "6391d45d-a21b-4a45-8b21-0ffae810b0fb",
   "metadata": {},
   "outputs": [
    {
     "data": {
      "text/html": [
       "TRUE"
      ],
      "text/latex": [
       "TRUE"
      ],
      "text/markdown": [
       "TRUE"
      ],
      "text/plain": [
       "[1] TRUE"
      ]
     },
     "metadata": {},
     "output_type": "display_data"
    }
   ],
   "source": [
    "'dseus'%in%ls()"
   ]
  },
  {
   "cell_type": "code",
   "execution_count": 190,
   "id": "0bb56028-0906-4427-94ec-dd814a70fade",
   "metadata": {},
   "outputs": [],
   "source": [
    "if (!'dseus'%in%ls()) {dseus <- list()}\n",
    "get_donor_seu <- function(seu, donor){\n",
    "    dseu <- subset(seu, (cell_origin == donor) | (condition=='Ctrl'))\n",
    "    dseu <- ScaleData(dseu, verbose=T)\n",
    "    return(dseu)\n",
    "}"
   ]
  },
  {
   "cell_type": "code",
   "execution_count": 191,
   "id": "2612e3e4-8c18-4572-a2f4-e2ebad408f84",
   "metadata": {
    "scrolled": true,
    "tags": []
   },
   "outputs": [
    {
     "name": "stderr",
     "output_type": "stream",
     "text": [
      "Centering and scaling data matrix\n",
      "\n",
      "D8_ASD_375\n",
      "\n"
     ]
    },
    {
     "name": "stdout",
     "output_type": "stream",
     "text": [
      "[1] \"############################################################\"\n",
      "[1] \"############################################################\"\n",
      "[1] \"############################################################\"\n"
     ]
    },
    {
     "name": "stderr",
     "output_type": "stream",
     "text": [
      "filter.over.max\n",
      "\n"
     ]
    },
    {
     "name": "stdout",
     "output_type": "stream",
     "text": [
      "[1] \"############################################################\"\n",
      "[1] \"############################################################\"\n",
      "[1] \"############################################################\"\n"
     ]
    },
    {
     "name": "stderr",
     "output_type": "stream",
     "text": [
      "Number of genes in FGF17-like: 37733\n",
      "\n",
      "Number of genes in Mes prog: 37733\n",
      "\n",
      "Number of genes in Neral crest/Mes: 37733\n",
      "\n",
      "Number of genes in Neuron: 37733\n",
      "\n",
      "Number of genes in RG early: 37733\n",
      "\n",
      "Number of genes in RG late: 37733\n",
      "\n"
     ]
    },
    {
     "name": "stdout",
     "output_type": "stream",
     "text": [
      "[1] \"Filtering by p_val: 0.05\"\n"
     ]
    },
    {
     "name": "stderr",
     "output_type": "stream",
     "text": [
      "Number of genes in FGF17-like: 1\n",
      "\n",
      "Number of genes in Mes prog: 265\n",
      "\n",
      "Number of genes in Neuron: 5\n",
      "\n",
      "Number of genes in RG early: 1461\n",
      "\n",
      "Number of genes in RG late: 74\n",
      "\n"
     ]
    },
    {
     "name": "stdout",
     "output_type": "stream",
     "text": [
      "[1] \"Filtering by logFC: 0.4\"\n"
     ]
    },
    {
     "name": "stderr",
     "output_type": "stream",
     "text": [
      "Number of genes in FGF17-like: 1\n",
      "\n",
      "Number of genes in Mes prog: 26\n",
      "\n",
      "Number of genes in Neuron: 5\n",
      "\n",
      "Number of genes in RG early: 27\n",
      "\n",
      "Number of genes in RG late: 34\n",
      "\n"
     ]
    },
    {
     "name": "stdout",
     "output_type": "stream",
     "text": [
      "[1] \"Filtering by pct of expressing cells: 0.1\"\n"
     ]
    },
    {
     "name": "stderr",
     "output_type": "stream",
     "text": [
      "Number of genes in FGF17-like: 1\n",
      "\n",
      "Number of genes in Mes prog: 26\n",
      "\n",
      "Number of genes in Neuron: 5\n",
      "\n",
      "Number of genes in RG early: 27\n",
      "\n",
      "Number of genes in RG late: 34\n",
      "\n"
     ]
    },
    {
     "name": "stdout",
     "output_type": "stream",
     "text": [
      "[1] \"Filtering by difference of pct of expressing cells: 0.05\"\n"
     ]
    },
    {
     "name": "stderr",
     "output_type": "stream",
     "text": [
      "Number of genes in FGF17-like: 1\n",
      "\n",
      "Number of genes in Mes prog: 23\n",
      "\n",
      "Number of genes in Neuron: 4\n",
      "\n",
      "Number of genes in RG early: 25\n",
      "\n",
      "Number of genes in RG late: 34\n",
      "\n"
     ]
    },
    {
     "name": "stdout",
     "output_type": "stream",
     "text": [
      "[1] \"Comparison of conditions: ASD Ctrl\"\n"
     ]
    },
    {
     "name": "stderr",
     "output_type": "stream",
     "text": [
      "FGF17-like\n",
      "\n",
      "Warning message:\n",
      "“Scaling data with a low number of groups may produce misleading results”\n",
      "Mes prog\n",
      "\n",
      "Warning message:\n",
      "“Scaling data with a low number of groups may produce misleading results”\n",
      "RG early\n",
      "\n",
      "Warning message:\n",
      "“Scaling data with a low number of groups may produce misleading results”\n",
      "RG late\n",
      "\n",
      "Warning message:\n",
      "“Scaling data with a low number of groups may produce misleading results”\n",
      "Neuron\n",
      "\n",
      "Warning message:\n",
      "“Scaling data with a low number of groups may produce misleading results”\n",
      "The following `from` values were not present in `x`: D8_ASD_384, D8_ASD_494\n",
      "\n",
      "The following `from` values were not present in `x`: D8_ASD_384, D8_ASD_494\n",
      "\n",
      "The following `from` values were not present in `x`: D8_ASD_384, D8_ASD_494\n",
      "\n",
      "The following `from` values were not present in `x`: D8_ASD_384, D8_ASD_494\n",
      "\n",
      "The following `from` values were not present in `x`: D8_ASD_384, D8_ASD_494\n",
      "\n",
      "The following `from` values were not present in `x`: D8_ASD_384, D8_ASD_494\n",
      "\n",
      "The following `from` values were not present in `x`: D8_ASD_384, D8_ASD_494\n",
      "\n",
      "The following `from` values were not present in `x`: D8_ASD_384, D8_ASD_494\n",
      "\n",
      "The following `from` values were not present in `x`: D8_ASD_384, D8_ASD_494\n",
      "\n",
      "The following `from` values were not present in `x`: D8_ASD_384, D8_ASD_494\n",
      "\n"
     ]
    },
    {
     "name": "stdout",
     "output_type": "stream",
     "text": [
      "[1] \"ASD markers\"\n"
     ]
    },
    {
     "name": "stderr",
     "output_type": "stream",
     "text": [
      "Number of genes in Mes prog: 12\n",
      "\n",
      "Number of genes in Neuron: 2\n",
      "\n",
      "Number of genes in RG early: 11\n",
      "\n",
      "Number of genes in RG late: 16\n",
      "\n"
     ]
    },
    {
     "name": "stdout",
     "output_type": "stream",
     "text": [
      "[1] \"Ctrl markers\"\n"
     ]
    },
    {
     "name": "stderr",
     "output_type": "stream",
     "text": [
      "Number of genes in FGF17-like: 1\n",
      "\n",
      "Number of genes in Mes prog: 5\n",
      "\n",
      "Number of genes in Neuron: 2\n",
      "\n",
      "Number of genes in RG early: 8\n",
      "\n",
      "Number of genes in RG late: 2\n",
      "\n"
     ]
    },
    {
     "name": "stdout",
     "output_type": "stream",
     "text": [
      "[1] \"Filtering genes with consistent test/control logFC\"\n",
      "[1] \"Test condition\"\n"
     ]
    },
    {
     "name": "stderr",
     "output_type": "stream",
     "text": [
      "Number of genes in Mes prog: 12\n",
      "\n",
      "Number of genes in Neuron: 2\n",
      "\n",
      "Number of genes in RG early: 11\n",
      "\n",
      "Number of genes in RG late: 16\n",
      "\n"
     ]
    },
    {
     "name": "stdout",
     "output_type": "stream",
     "text": [
      "[1] \"Control condition\"\n"
     ]
    },
    {
     "name": "stderr",
     "output_type": "stream",
     "text": [
      "Number of genes in FGF17-like: 1\n",
      "\n",
      "Number of genes in Mes prog: 5\n",
      "\n",
      "Number of genes in Neuron: 2\n",
      "\n",
      "Number of genes in RG early: 8\n",
      "\n",
      "Number of genes in RG late: 2\n",
      "\n"
     ]
    },
    {
     "name": "stdout",
     "output_type": "stream",
     "text": [
      "[1] \"After condition comparison\"\n"
     ]
    },
    {
     "name": "stderr",
     "output_type": "stream",
     "text": [
      "Number of genes in FGF17-like: 1\n",
      "\n",
      "Number of genes in Mes prog: 17\n",
      "\n",
      "Number of genes in Neuron: 4\n",
      "\n",
      "Number of genes in RG early: 19\n",
      "\n",
      "Number of genes in RG late: 18\n",
      "\n",
      "Centering and scaling data matrix\n",
      "\n",
      "D8_ASD_384\n",
      "\n"
     ]
    },
    {
     "name": "stdout",
     "output_type": "stream",
     "text": [
      "[1] \"############################################################\"\n",
      "[1] \"############################################################\"\n",
      "[1] \"############################################################\"\n"
     ]
    },
    {
     "name": "stderr",
     "output_type": "stream",
     "text": [
      "filter.over.max\n",
      "\n"
     ]
    },
    {
     "name": "stdout",
     "output_type": "stream",
     "text": [
      "[1] \"############################################################\"\n",
      "[1] \"############################################################\"\n",
      "[1] \"############################################################\"\n"
     ]
    },
    {
     "name": "stderr",
     "output_type": "stream",
     "text": [
      "Number of genes in FGF17-like: 37733\n",
      "\n",
      "Number of genes in Mes prog: 37733\n",
      "\n",
      "Number of genes in Neral crest/Mes: 37733\n",
      "\n",
      "Number of genes in Neuron: 37733\n",
      "\n",
      "Number of genes in RG early: 37733\n",
      "\n",
      "Number of genes in RG late: 37733\n",
      "\n"
     ]
    },
    {
     "name": "stdout",
     "output_type": "stream",
     "text": [
      "[1] \"Filtering by p_val: 0.05\"\n"
     ]
    },
    {
     "name": "stderr",
     "output_type": "stream",
     "text": [
      "Number of genes in FGF17-like: 7\n",
      "\n",
      "Number of genes in Mes prog: 1247\n",
      "\n",
      "Number of genes in Neuron: 1\n",
      "\n",
      "Number of genes in RG early: 3329\n",
      "\n",
      "Number of genes in RG late: 335\n",
      "\n"
     ]
    },
    {
     "name": "stdout",
     "output_type": "stream",
     "text": [
      "[1] \"Filtering by logFC: 0.4\"\n"
     ]
    },
    {
     "name": "stderr",
     "output_type": "stream",
     "text": [
      "Number of genes in FGF17-like: 7\n",
      "\n",
      "Number of genes in Mes prog: 85\n",
      "\n",
      "Number of genes in Neuron: 1\n",
      "\n",
      "Number of genes in RG early: 115\n",
      "\n",
      "Number of genes in RG late: 124\n",
      "\n"
     ]
    },
    {
     "name": "stdout",
     "output_type": "stream",
     "text": [
      "[1] \"Filtering by pct of expressing cells: 0.1\"\n"
     ]
    },
    {
     "name": "stderr",
     "output_type": "stream",
     "text": [
      "Number of genes in FGF17-like: 7\n",
      "\n",
      "Number of genes in Mes prog: 85\n",
      "\n",
      "Number of genes in Neuron: 1\n",
      "\n",
      "Number of genes in RG early: 115\n",
      "\n",
      "Number of genes in RG late: 123\n",
      "\n"
     ]
    },
    {
     "name": "stdout",
     "output_type": "stream",
     "text": [
      "[1] \"Filtering by difference of pct of expressing cells: 0.05\"\n"
     ]
    },
    {
     "name": "stderr",
     "output_type": "stream",
     "text": [
      "Number of genes in FGF17-like: 7\n",
      "\n",
      "Number of genes in Mes prog: 74\n",
      "\n",
      "Number of genes in RG early: 106\n",
      "\n",
      "Number of genes in RG late: 119\n",
      "\n"
     ]
    },
    {
     "name": "stdout",
     "output_type": "stream",
     "text": [
      "[1] \"Comparison of conditions: ASD Ctrl\"\n"
     ]
    },
    {
     "name": "stderr",
     "output_type": "stream",
     "text": [
      "FGF17-like\n",
      "\n",
      "Warning message:\n",
      "“Scaling data with a low number of groups may produce misleading results”\n",
      "Mes prog\n",
      "\n",
      "Warning message:\n",
      "“Scaling data with a low number of groups may produce misleading results”\n",
      "RG early\n",
      "\n",
      "Warning message:\n",
      "“Scaling data with a low number of groups may produce misleading results”\n",
      "RG late\n",
      "\n",
      "Warning message:\n",
      "“Scaling data with a low number of groups may produce misleading results”\n",
      "The following `from` values were not present in `x`: D8_ASD_375, D8_ASD_494\n",
      "\n",
      "The following `from` values were not present in `x`: D8_ASD_375, D8_ASD_494\n",
      "\n",
      "The following `from` values were not present in `x`: D8_ASD_375, D8_ASD_494\n",
      "\n",
      "The following `from` values were not present in `x`: D8_ASD_375, D8_ASD_494\n",
      "\n",
      "The following `from` values were not present in `x`: D8_ASD_375, D8_ASD_494\n",
      "\n",
      "The following `from` values were not present in `x`: D8_ASD_375, D8_ASD_494\n",
      "\n",
      "The following `from` values were not present in `x`: D8_ASD_375, D8_ASD_494\n",
      "\n",
      "The following `from` values were not present in `x`: D8_ASD_375, D8_ASD_494\n",
      "\n"
     ]
    },
    {
     "name": "stdout",
     "output_type": "stream",
     "text": [
      "[1] \"ASD markers\"\n"
     ]
    },
    {
     "name": "stderr",
     "output_type": "stream",
     "text": [
      "Number of genes in FGF17-like: 6\n",
      "\n",
      "Number of genes in Mes prog: 36\n",
      "\n",
      "Number of genes in RG early: 60\n",
      "\n",
      "Number of genes in RG late: 65\n",
      "\n"
     ]
    },
    {
     "name": "stdout",
     "output_type": "stream",
     "text": [
      "[1] \"Ctrl markers\"\n"
     ]
    },
    {
     "name": "stderr",
     "output_type": "stream",
     "text": [
      "Number of genes in FGF17-like: 1\n",
      "\n",
      "Number of genes in Mes prog: 26\n",
      "\n",
      "Number of genes in RG early: 39\n",
      "\n",
      "Number of genes in RG late: 27\n",
      "\n"
     ]
    },
    {
     "name": "stdout",
     "output_type": "stream",
     "text": [
      "[1] \"Filtering genes with consistent test/control logFC\"\n",
      "[1] \"Test condition\"\n"
     ]
    },
    {
     "name": "stderr",
     "output_type": "stream",
     "text": [
      "Number of genes in FGF17-like: 6\n",
      "\n",
      "Number of genes in Mes prog: 36\n",
      "\n",
      "Number of genes in RG early: 60\n",
      "\n",
      "Number of genes in RG late: 65\n",
      "\n"
     ]
    },
    {
     "name": "stdout",
     "output_type": "stream",
     "text": [
      "[1] \"Control condition\"\n"
     ]
    },
    {
     "name": "stderr",
     "output_type": "stream",
     "text": [
      "Number of genes in FGF17-like: 1\n",
      "\n",
      "Number of genes in Mes prog: 26\n",
      "\n",
      "Number of genes in RG early: 39\n",
      "\n",
      "Number of genes in RG late: 27\n",
      "\n"
     ]
    },
    {
     "name": "stdout",
     "output_type": "stream",
     "text": [
      "[1] \"After condition comparison\"\n"
     ]
    },
    {
     "name": "stderr",
     "output_type": "stream",
     "text": [
      "Number of genes in FGF17-like: 7\n",
      "\n",
      "Number of genes in Mes prog: 62\n",
      "\n",
      "Number of genes in RG early: 99\n",
      "\n",
      "Number of genes in RG late: 92\n",
      "\n",
      "Centering and scaling data matrix\n",
      "\n",
      "D8_ASD_494\n",
      "\n"
     ]
    },
    {
     "name": "stdout",
     "output_type": "stream",
     "text": [
      "[1] \"############################################################\"\n",
      "[1] \"############################################################\"\n",
      "[1] \"############################################################\"\n"
     ]
    },
    {
     "name": "stderr",
     "output_type": "stream",
     "text": [
      "filter.over.max\n",
      "\n"
     ]
    },
    {
     "name": "stdout",
     "output_type": "stream",
     "text": [
      "[1] \"############################################################\"\n",
      "[1] \"############################################################\"\n",
      "[1] \"############################################################\"\n"
     ]
    },
    {
     "name": "stderr",
     "output_type": "stream",
     "text": [
      "Number of genes in FGF17-like: 37733\n",
      "\n",
      "Number of genes in Mes prog: 37733\n",
      "\n",
      "Number of genes in Neral crest/Mes: 37733\n",
      "\n",
      "Number of genes in Neuron: 37733\n",
      "\n",
      "Number of genes in RG early: 37733\n",
      "\n",
      "Number of genes in RG late: 37733\n",
      "\n"
     ]
    },
    {
     "name": "stdout",
     "output_type": "stream",
     "text": [
      "[1] \"Filtering by p_val: 0.05\"\n"
     ]
    },
    {
     "name": "stderr",
     "output_type": "stream",
     "text": [
      "Number of genes in FGF17-like: 3\n",
      "\n",
      "Number of genes in Mes prog: 2458\n",
      "\n",
      "Number of genes in Neral crest/Mes: 63\n",
      "\n",
      "Number of genes in Neuron: 104\n",
      "\n",
      "Number of genes in RG early: 2833\n",
      "\n",
      "Number of genes in RG late: 306\n",
      "\n"
     ]
    },
    {
     "name": "stdout",
     "output_type": "stream",
     "text": [
      "[1] \"Filtering by logFC: 0.4\"\n"
     ]
    },
    {
     "name": "stderr",
     "output_type": "stream",
     "text": [
      "Number of genes in FGF17-like: 3\n",
      "\n",
      "Number of genes in Mes prog: 138\n",
      "\n",
      "Number of genes in Neral crest/Mes: 49\n",
      "\n",
      "Number of genes in Neuron: 69\n",
      "\n",
      "Number of genes in RG early: 59\n",
      "\n",
      "Number of genes in RG late: 86\n",
      "\n"
     ]
    },
    {
     "name": "stdout",
     "output_type": "stream",
     "text": [
      "[1] \"Filtering by pct of expressing cells: 0.1\"\n"
     ]
    },
    {
     "name": "stderr",
     "output_type": "stream",
     "text": [
      "Number of genes in FGF17-like: 3\n",
      "\n",
      "Number of genes in Mes prog: 138\n",
      "\n",
      "Number of genes in Neral crest/Mes: 49\n",
      "\n",
      "Number of genes in Neuron: 69\n",
      "\n",
      "Number of genes in RG early: 59\n",
      "\n",
      "Number of genes in RG late: 86\n",
      "\n"
     ]
    },
    {
     "name": "stdout",
     "output_type": "stream",
     "text": [
      "[1] \"Filtering by difference of pct of expressing cells: 0.05\"\n"
     ]
    },
    {
     "name": "stderr",
     "output_type": "stream",
     "text": [
      "Number of genes in Mes prog: 110\n",
      "\n",
      "Number of genes in Neral crest/Mes: 20\n",
      "\n",
      "Number of genes in Neuron: 54\n",
      "\n",
      "Number of genes in RG early: 40\n",
      "\n",
      "Number of genes in RG late: 73\n",
      "\n"
     ]
    },
    {
     "name": "stdout",
     "output_type": "stream",
     "text": [
      "[1] \"Comparison of conditions: ASD Ctrl\"\n"
     ]
    },
    {
     "name": "stderr",
     "output_type": "stream",
     "text": [
      "Mes prog\n",
      "\n",
      "Warning message:\n",
      "“Scaling data with a low number of groups may produce misleading results”\n",
      "RG early\n",
      "\n",
      "Warning message:\n",
      "“Scaling data with a low number of groups may produce misleading results”\n",
      "RG late\n",
      "\n",
      "Warning message:\n",
      "“Scaling data with a low number of groups may produce misleading results”\n",
      "Neral crest/Mes\n",
      "\n",
      "Warning message:\n",
      "“Scaling data with a low number of groups may produce misleading results”\n",
      "Neuron\n",
      "\n",
      "Warning message:\n",
      "“Scaling data with a low number of groups may produce misleading results”\n",
      "The following `from` values were not present in `x`: D8_ASD_375, D8_ASD_384\n",
      "\n",
      "The following `from` values were not present in `x`: D8_ASD_375, D8_ASD_384\n",
      "\n",
      "The following `from` values were not present in `x`: D8_ASD_375, D8_ASD_384\n",
      "\n",
      "The following `from` values were not present in `x`: D8_Ctrl_317, D8_ASD_375, D8_ASD_384\n",
      "\n",
      "The following `from` values were not present in `x`: D8_ASD_375, D8_ASD_384\n",
      "\n",
      "The following `from` values were not present in `x`: D8_ASD_375, D8_ASD_384\n",
      "\n",
      "The following `from` values were not present in `x`: D8_ASD_375, D8_ASD_384\n",
      "\n",
      "The following `from` values were not present in `x`: D8_ASD_375, D8_ASD_384\n",
      "\n",
      "The following `from` values were not present in `x`: D8_Ctrl_317, D8_ASD_375, D8_ASD_384\n",
      "\n",
      "The following `from` values were not present in `x`: D8_ASD_375, D8_ASD_384\n",
      "\n"
     ]
    },
    {
     "name": "stdout",
     "output_type": "stream",
     "text": [
      "[1] \"ASD markers\"\n"
     ]
    },
    {
     "name": "stderr",
     "output_type": "stream",
     "text": [
      "Number of genes in Mes prog: 32\n",
      "\n",
      "Number of genes in Neral crest/Mes: 5\n",
      "\n",
      "Number of genes in Neuron: 12\n",
      "\n",
      "Number of genes in RG early: 17\n",
      "\n",
      "Number of genes in RG late: 41\n",
      "\n"
     ]
    },
    {
     "name": "stdout",
     "output_type": "stream",
     "text": [
      "[1] \"Ctrl markers\"\n"
     ]
    },
    {
     "name": "stderr",
     "output_type": "stream",
     "text": [
      "Number of genes in Mes prog: 68\n",
      "\n",
      "Number of genes in Neral crest/Mes: 12\n",
      "\n",
      "Number of genes in Neuron: 31\n",
      "\n",
      "Number of genes in RG early: 16\n",
      "\n",
      "Number of genes in RG late: 13\n",
      "\n"
     ]
    },
    {
     "name": "stdout",
     "output_type": "stream",
     "text": [
      "[1] \"Filtering genes with consistent test/control logFC\"\n",
      "[1] \"Test condition\"\n"
     ]
    },
    {
     "name": "stderr",
     "output_type": "stream",
     "text": [
      "Number of genes in Mes prog: 32\n",
      "\n",
      "Number of genes in Neral crest/Mes: 5\n",
      "\n",
      "Number of genes in Neuron: 12\n",
      "\n",
      "Number of genes in RG early: 17\n",
      "\n",
      "Number of genes in RG late: 41\n",
      "\n"
     ]
    },
    {
     "name": "stdout",
     "output_type": "stream",
     "text": [
      "[1] \"Control condition\"\n"
     ]
    },
    {
     "name": "stderr",
     "output_type": "stream",
     "text": [
      "Number of genes in Mes prog: 68\n",
      "\n",
      "Number of genes in Neral crest/Mes: 12\n",
      "\n",
      "Number of genes in Neuron: 31\n",
      "\n",
      "Number of genes in RG early: 16\n",
      "\n",
      "Number of genes in RG late: 13\n",
      "\n"
     ]
    },
    {
     "name": "stdout",
     "output_type": "stream",
     "text": [
      "[1] \"After condition comparison\"\n"
     ]
    },
    {
     "name": "stderr",
     "output_type": "stream",
     "text": [
      "Number of genes in Mes prog: 100\n",
      "\n",
      "Number of genes in Neral crest/Mes: 17\n",
      "\n",
      "Number of genes in Neuron: 43\n",
      "\n",
      "Number of genes in RG early: 33\n",
      "\n",
      "Number of genes in RG late: 54\n",
      "\n"
     ]
    }
   ],
   "source": [
    "res.donors.annot <- annotate_markers(res.donors)\n",
    "\n",
    "lapply(\n",
    "    split(res.donors.annot, res.donors.annot$donor), function(filt.res){\n",
    "\n",
    "        donor <- unique(as.character(filt.res$donor))\n",
    "        if (donor %in% names(dseus)){\n",
    "            dseu <- dseus[[donor]]\n",
    "        } else{\n",
    "            dseu <- get_donor_seu(seu, donor)\n",
    "            dseus[[donor]] <- dseu\n",
    "        }\n",
    "        message(donor)\n",
    "        tryCatch(expr={all_tests.donors(seu = dseu, filt.res,\n",
    "                                        by.group = 'anno_cluster_fct')}, \n",
    "                 cond=function(cond){print(as.character(cond)); return(cond)},\n",
    "                 error=function(cond){print(as.character(cond)); return(cond)}) -> filt.res\n",
    "    }) %>% do.call(what='rbind') %>% as.data.frame() -> filt.res.donors"
   ]
  },
  {
   "cell_type": "markdown",
   "id": "3058a431-8dea-4a53-b836-ec61bb53ba1c",
   "metadata": {
    "tags": []
   },
   "source": [
    "## cross results"
   ]
  },
  {
   "cell_type": "code",
   "execution_count": 192,
   "id": "7393af8e-739d-475e-845d-70e0380321c2",
   "metadata": {},
   "outputs": [
    {
     "data": {
      "text/plain": [
       "\n",
       " FALSE   TRUE \n",
       "678628    566 "
      ]
     },
     "metadata": {},
     "output_type": "display_data"
    }
   ],
   "source": [
    "table(filt.res.donors$filter.over.max)"
   ]
  },
  {
   "cell_type": "code",
   "execution_count": 193,
   "id": "4393b8cc-adfd-41d6-bad4-ba93bebd8436",
   "metadata": {},
   "outputs": [
    {
     "data": {
      "text/html": [
       "<style>\n",
       ".list-inline {list-style: none; margin:0; padding: 0}\n",
       ".list-inline>li {display: inline-block}\n",
       ".list-inline>li:not(:last-child)::after {content: \"\\00b7\"; padding: 0 .5ex}\n",
       "</style>\n",
       "<ol class=list-inline><li>'D8_ASD_375'</li><li>'D8_ASD_384'</li><li>'D8_ASD_494'</li></ol>\n"
      ],
      "text/latex": [
       "\\begin{enumerate*}\n",
       "\\item 'D8\\_ASD\\_375'\n",
       "\\item 'D8\\_ASD\\_384'\n",
       "\\item 'D8\\_ASD\\_494'\n",
       "\\end{enumerate*}\n"
      ],
      "text/markdown": [
       "1. 'D8_ASD_375'\n",
       "2. 'D8_ASD_384'\n",
       "3. 'D8_ASD_494'\n",
       "\n",
       "\n"
      ],
      "text/plain": [
       "[1] \"D8_ASD_375\" \"D8_ASD_384\" \"D8_ASD_494\""
      ]
     },
     "metadata": {},
     "output_type": "display_data"
    },
    {
     "data": {
      "text/html": [
       "<style>\n",
       ".list-inline {list-style: none; margin:0; padding: 0}\n",
       ".list-inline>li {display: inline-block}\n",
       ".list-inline>li:not(:last-child)::after {content: \"\\00b7\"; padding: 0 .5ex}\n",
       "</style>\n",
       "<ol class=list-inline><li>'D8_ASD_375&amp;D8_ASD_384&amp;D8_ASD_494'</li><li>'D8_ASD_375&amp;D8_ASD_384'</li><li>'D8_ASD_375&amp;D8_ASD_494'</li><li>'D8_ASD_384&amp;D8_ASD_494'</li><li>'D8_ASD_375'</li><li>'D8_ASD_384'</li><li>'D8_ASD_494'</li></ol>\n"
      ],
      "text/latex": [
       "\\begin{enumerate*}\n",
       "\\item 'D8\\_ASD\\_375\\&D8\\_ASD\\_384\\&D8\\_ASD\\_494'\n",
       "\\item 'D8\\_ASD\\_375\\&D8\\_ASD\\_384'\n",
       "\\item 'D8\\_ASD\\_375\\&D8\\_ASD\\_494'\n",
       "\\item 'D8\\_ASD\\_384\\&D8\\_ASD\\_494'\n",
       "\\item 'D8\\_ASD\\_375'\n",
       "\\item 'D8\\_ASD\\_384'\n",
       "\\item 'D8\\_ASD\\_494'\n",
       "\\end{enumerate*}\n"
      ],
      "text/markdown": [
       "1. 'D8_ASD_375&amp;D8_ASD_384&amp;D8_ASD_494'\n",
       "2. 'D8_ASD_375&amp;D8_ASD_384'\n",
       "3. 'D8_ASD_375&amp;D8_ASD_494'\n",
       "4. 'D8_ASD_384&amp;D8_ASD_494'\n",
       "5. 'D8_ASD_375'\n",
       "6. 'D8_ASD_384'\n",
       "7. 'D8_ASD_494'\n",
       "\n",
       "\n"
      ],
      "text/plain": [
       "[1] \"D8_ASD_375&D8_ASD_384&D8_ASD_494\" \"D8_ASD_375&D8_ASD_384\"           \n",
       "[3] \"D8_ASD_375&D8_ASD_494\"            \"D8_ASD_384&D8_ASD_494\"           \n",
       "[5] \"D8_ASD_375\"                       \"D8_ASD_384\"                      \n",
       "[7] \"D8_ASD_494\"                      "
      ]
     },
     "metadata": {},
     "output_type": "display_data"
    }
   ],
   "source": [
    "donors <- samples[samples%in%unique(filt.res.donors$donor)]\n",
    "donors\n",
    "\n",
    "donors.ints <- c(\n",
    "    paste(donors, collapse='&'),\n",
    "    apply(subset(expand.grid(d1=donors, d2=donors), d1!=d2),1, sort)%>%t()%>%unique()%>% apply(1, paste, collapse='&')%>%unname(),\n",
    "    donors)\n",
    "donors.ints"
   ]
  },
  {
   "cell_type": "code",
   "execution_count": 196,
   "id": "68e07472-4c69-4922-8556-55485aba9fb1",
   "metadata": {
    "scrolled": true,
    "tags": []
   },
   "outputs": [
    {
     "name": "stdout",
     "output_type": "stream",
     "text": [
      "[1] 507   7\n"
     ]
    },
    {
     "data": {
      "text/html": [
       "<table class=\"dataframe\">\n",
       "<caption>A data.frame: 1169 × 27</caption>\n",
       "<thead>\n",
       "\t<tr><th></th><th scope=col>matching.donors</th><th scope=col>donor</th><th scope=col>gene</th><th scope=col>anno_cluster_fct</th><th scope=col>overexpressed.in</th><th scope=col>p_val</th><th scope=col>avg_log2FC</th><th scope=col>pct.1</th><th scope=col>pct.2</th><th scope=col>p_val_adj</th><th scope=col>⋯</th><th scope=col>Imprinted.Status</th><th scope=col>Expressed.Allele</th><th scope=col>gene_biotype</th><th scope=col>protein_coding</th><th scope=col>rank.ASD</th><th scope=col>rank.Ctrl</th><th scope=col>chromosome</th><th scope=col>in.sex_chr</th><th scope=col>logfc</th><th scope=col>filter.over.max</th></tr>\n",
       "\t<tr><th></th><th scope=col>&lt;fct&gt;</th><th scope=col>&lt;fct&gt;</th><th scope=col>&lt;chr&gt;</th><th scope=col>&lt;fct&gt;</th><th scope=col>&lt;chr&gt;</th><th scope=col>&lt;dbl&gt;</th><th scope=col>&lt;dbl&gt;</th><th scope=col>&lt;dbl&gt;</th><th scope=col>&lt;dbl&gt;</th><th scope=col>&lt;dbl&gt;</th><th scope=col>⋯</th><th scope=col>&lt;chr&gt;</th><th scope=col>&lt;chr&gt;</th><th scope=col>&lt;chr&gt;</th><th scope=col>&lt;lgl&gt;</th><th scope=col>&lt;dbl&gt;</th><th scope=col>&lt;dbl&gt;</th><th scope=col>&lt;chr&gt;</th><th scope=col>&lt;lgl&gt;</th><th scope=col>&lt;dbl&gt;</th><th scope=col>&lt;lgl&gt;</th></tr>\n",
       "</thead>\n",
       "<tbody>\n",
       "\t<tr><th scope=row>1</th><td>D8_ASD_375                      </td><td>D8_ASD_375</td><td>NNAT      </td><td>FGF17-like</td><td>Ctrl</td><td> 9.786744e-12</td><td>-1.88104826</td><td>0.000</td><td>0.750</td><td> 3.692832e-07</td><td>⋯</td><td>Imprinted</td><td>Paternal </td><td>protein_coding</td><td> TRUE</td><td>  Inf</td><td>    9</td><td>20</td><td>FALSE</td><td>-1.88104826</td><td> TRUE</td></tr>\n",
       "\t<tr><th scope=row>2</th><td>D8_ASD_384                      </td><td>D8_ASD_375</td><td>CSRP2     </td><td>FGF17-like</td><td>ASD </td><td> 5.039917e-02</td><td> 0.63652145</td><td>0.839</td><td>0.781</td><td> 1.000000e+00</td><td>⋯</td><td>Not in DB</td><td>Not in DB</td><td>protein_coding</td><td> TRUE</td><td> 1130</td><td>  Inf</td><td>12</td><td>FALSE</td><td> 0.63652145</td><td>FALSE</td></tr>\n",
       "\t<tr><th scope=row>3</th><td>D8_ASD_384                      </td><td>D8_ASD_384</td><td>CSRP2     </td><td>FGF17-like</td><td>ASD </td><td> 5.248847e-07</td><td> 0.94249968</td><td>0.966</td><td>0.781</td><td> 1.980548e-02</td><td>⋯</td><td>Not in DB</td><td>Not in DB</td><td>protein_coding</td><td> TRUE</td><td>  272</td><td>  Inf</td><td>12</td><td>FALSE</td><td> 0.94249968</td><td> TRUE</td></tr>\n",
       "\t<tr><th scope=row>4</th><td>D8_ASD_384                      </td><td>D8_ASD_494</td><td>CSRP2     </td><td>FGF17-like</td><td>ASD </td><td> 5.538582e-01</td><td> 0.01286255</td><td>0.808</td><td>0.781</td><td> 1.000000e+00</td><td>⋯</td><td>Not in DB</td><td>Not in DB</td><td>protein_coding</td><td> TRUE</td><td>95527</td><td>  Inf</td><td>12</td><td>FALSE</td><td> 0.01286255</td><td>FALSE</td></tr>\n",
       "\t<tr><th scope=row>5</th><td>D8_ASD_384                      </td><td>D8_ASD_375</td><td>FGF8      </td><td>FGF17-like</td><td>ASD </td><td> 2.668402e-05</td><td> 0.92950781</td><td>0.355</td><td>0.000</td><td> 1.000000e+00</td><td>⋯</td><td>Not in DB</td><td>Not in DB</td><td>protein_coding</td><td> TRUE</td><td>  292</td><td>  Inf</td><td>10</td><td>FALSE</td><td> 0.92950781</td><td>FALSE</td></tr>\n",
       "\t<tr><th scope=row>6</th><td>D8_ASD_384                      </td><td>D8_ASD_384</td><td>FGF8      </td><td>FGF17-like</td><td>ASD </td><td> 1.399141e-08</td><td> 1.54070324</td><td>0.558</td><td>0.000</td><td> 5.279377e-04</td><td>⋯</td><td>Not in DB</td><td>Not in DB</td><td>protein_coding</td><td> TRUE</td><td>   34</td><td>  Inf</td><td>10</td><td>FALSE</td><td> 1.54070324</td><td> TRUE</td></tr>\n",
       "\t<tr><th scope=row>7</th><td>D8_ASD_384                      </td><td>D8_ASD_494</td><td>FGF8      </td><td>FGF17-like</td><td>ASD </td><td> 3.796737e-02</td><td> 0.11542748</td><td>0.051</td><td>0.000</td><td> 1.000000e+00</td><td>⋯</td><td>Not in DB</td><td>Not in DB</td><td>protein_coding</td><td> TRUE</td><td>28046</td><td>  Inf</td><td>10</td><td>FALSE</td><td> 0.11542748</td><td>FALSE</td></tr>\n",
       "\t<tr><th scope=row>8</th><td>D8_ASD_384                      </td><td>D8_ASD_375</td><td>FZD5      </td><td>FGF17-like</td><td>ASD </td><td> 4.050033e-03</td><td> 0.58516809</td><td>0.419</td><td>0.125</td><td> 1.000000e+00</td><td>⋯</td><td>Not in DB</td><td>Not in DB</td><td>protein_coding</td><td> TRUE</td><td> 1446</td><td>  Inf</td><td>2 </td><td>FALSE</td><td> 0.58516809</td><td>FALSE</td></tr>\n",
       "\t<tr><th scope=row>9</th><td>D8_ASD_384                      </td><td>D8_ASD_384</td><td>FZD5      </td><td>FGF17-like</td><td>ASD </td><td> 2.885716e-10</td><td> 1.54827818</td><td>0.694</td><td>0.125</td><td> 1.088867e-05</td><td>⋯</td><td>Not in DB</td><td>Not in DB</td><td>protein_coding</td><td> TRUE</td><td>   32</td><td>  Inf</td><td>2 </td><td>FALSE</td><td> 1.54827818</td><td> TRUE</td></tr>\n",
       "\t<tr><th scope=row>10</th><td>D8_ASD_384                      </td><td>D8_ASD_375</td><td>SFRP1     </td><td>FGF17-like</td><td>ASD </td><td> 7.200298e-02</td><td> 0.37547466</td><td>0.871</td><td>0.719</td><td> 1.000000e+00</td><td>⋯</td><td>Not in DB</td><td>Not in DB</td><td>protein_coding</td><td> TRUE</td><td> 4780</td><td>  Inf</td><td>8 </td><td>FALSE</td><td> 0.37547466</td><td>FALSE</td></tr>\n",
       "\t<tr><th scope=row>11</th><td>D8_ASD_384                      </td><td>D8_ASD_384</td><td>SFRP1     </td><td>FGF17-like</td><td>ASD </td><td> 1.233532e-07</td><td> 1.65719135</td><td>0.980</td><td>0.719</td><td> 4.654485e-03</td><td>⋯</td><td>Not in DB</td><td>Not in DB</td><td>protein_coding</td><td> TRUE</td><td>   23</td><td>  Inf</td><td>8 </td><td>FALSE</td><td> 1.65719135</td><td> TRUE</td></tr>\n",
       "\t<tr><th scope=row>12</th><td>D8_ASD_384                      </td><td>D8_ASD_375</td><td>SIX3      </td><td>FGF17-like</td><td>ASD </td><td> 1.117304e-04</td><td> 0.96742824</td><td>0.484</td><td>0.094</td><td> 1.000000e+00</td><td>⋯</td><td>Not in DB</td><td>Not in DB</td><td>protein_coding</td><td> TRUE</td><td>  241</td><td>  Inf</td><td>2 </td><td>FALSE</td><td> 0.96742824</td><td>FALSE</td></tr>\n",
       "\t<tr><th scope=row>13</th><td>D8_ASD_384                      </td><td>D8_ASD_384</td><td>SIX3      </td><td>FGF17-like</td><td>ASD </td><td> 1.940362e-13</td><td> 2.17974669</td><td>0.823</td><td>0.094</td><td> 7.321567e-09</td><td>⋯</td><td>Not in DB</td><td>Not in DB</td><td>protein_coding</td><td> TRUE</td><td>    5</td><td>  Inf</td><td>2 </td><td>FALSE</td><td> 2.17974669</td><td> TRUE</td></tr>\n",
       "\t<tr><th scope=row>14</th><td>D8_ASD_384                      </td><td>D8_ASD_375</td><td>SPRY1     </td><td>FGF17-like</td><td>ASD </td><td> 1.227639e-02</td><td> 0.67526205</td><td>0.452</td><td>0.219</td><td> 1.000000e+00</td><td>⋯</td><td>Not in DB</td><td>Not in DB</td><td>protein_coding</td><td> TRUE</td><td>  950</td><td>  Inf</td><td>4 </td><td>FALSE</td><td> 0.67526205</td><td>FALSE</td></tr>\n",
       "\t<tr><th scope=row>15</th><td>D8_ASD_384                      </td><td>D8_ASD_384</td><td>SPRY1     </td><td>FGF17-like</td><td>ASD </td><td> 1.425529e-08</td><td> 1.59178802</td><td>0.701</td><td>0.219</td><td> 5.378950e-04</td><td>⋯</td><td>Not in DB</td><td>Not in DB</td><td>protein_coding</td><td> TRUE</td><td>   27</td><td>  Inf</td><td>4 </td><td>FALSE</td><td> 1.59178802</td><td> TRUE</td></tr>\n",
       "\t<tr><th scope=row>16</th><td>D8_ASD_384                      </td><td>D8_ASD_375</td><td>WLS       </td><td>FGF17-like</td><td>Ctrl</td><td> 1.658967e-02</td><td>-0.84957618</td><td>0.387</td><td>0.625</td><td> 1.000000e+00</td><td>⋯</td><td>Not in DB</td><td>Not in DB</td><td>protein_coding</td><td> TRUE</td><td>  Inf</td><td>  298</td><td>1 </td><td>FALSE</td><td>-0.84957618</td><td>FALSE</td></tr>\n",
       "\t<tr><th scope=row>17</th><td>D8_ASD_384                      </td><td>D8_ASD_384</td><td>WLS       </td><td>FGF17-like</td><td>Ctrl</td><td> 3.377871e-07</td><td>-1.62631883</td><td>0.048</td><td>0.625</td><td> 1.274572e-02</td><td>⋯</td><td>Not in DB</td><td>Not in DB</td><td>protein_coding</td><td> TRUE</td><td>  Inf</td><td>   18</td><td>1 </td><td>FALSE</td><td>-1.62631883</td><td> TRUE</td></tr>\n",
       "\t<tr><th scope=row>18</th><td>D8_ASD_384                      </td><td>D8_ASD_494</td><td>WLS       </td><td>FGF17-like</td><td>Ctrl</td><td> 8.515464e-01</td><td>-0.17570394</td><td>0.679</td><td>0.625</td><td> 1.000000e+00</td><td>⋯</td><td>Not in DB</td><td>Not in DB</td><td>protein_coding</td><td> TRUE</td><td>  Inf</td><td>18626</td><td>1 </td><td>FALSE</td><td>-0.17570394</td><td>FALSE</td></tr>\n",
       "\t<tr><th scope=row>113200</th><td>D8_ASD_375&amp;D8_ASD_384&amp;D8_ASD_494</td><td>D8_ASD_375</td><td><span style=white-space:pre-wrap>EIF1AY    </span></td><td><span style=white-space:pre-wrap>Mes prog  </span></td><td>ASD </td><td>5.754530e-112</td><td> 0.77080555</td><td>0.478</td><td>0.040</td><td>2.171357e-107</td><td>⋯</td><td>Not in DB</td><td>Not in DB</td><td>protein_coding</td><td> TRUE</td><td><span style=white-space:pre-wrap>  606</span></td><td><span style=white-space:pre-wrap>  Inf</span></td><td>Y </td><td> TRUE</td><td> 0.77080555</td><td> TRUE</td></tr>\n",
       "\t<tr><th scope=row>113201</th><td>D8_ASD_375&amp;D8_ASD_384&amp;D8_ASD_494</td><td>D8_ASD_384</td><td><span style=white-space:pre-wrap>EIF1AY    </span></td><td><span style=white-space:pre-wrap>Mes prog  </span></td><td>ASD </td><td> 3.392059e-65</td><td> 0.43731715</td><td>0.239</td><td>0.040</td><td> 1.279926e-60</td><td>⋯</td><td>Not in DB</td><td>Not in DB</td><td>protein_coding</td><td> TRUE</td><td> 3304</td><td><span style=white-space:pre-wrap>  Inf</span></td><td>Y </td><td> TRUE</td><td> 0.43731715</td><td> TRUE</td></tr>\n",
       "\t<tr><th scope=row>113202</th><td>D8_ASD_375&amp;D8_ASD_384&amp;D8_ASD_494</td><td>D8_ASD_494</td><td><span style=white-space:pre-wrap>EIF1AY    </span></td><td><span style=white-space:pre-wrap>Mes prog  </span></td><td>ASD </td><td>7.304610e-103</td><td> 0.48328625</td><td>0.247</td><td>0.040</td><td> 2.756249e-98</td><td>⋯</td><td>Not in DB</td><td>Not in DB</td><td>protein_coding</td><td> TRUE</td><td> 2494</td><td><span style=white-space:pre-wrap>  Inf</span></td><td>Y </td><td> TRUE</td><td> 0.48328625</td><td> TRUE</td></tr>\n",
       "\t<tr><th scope=row>113203</th><td>D8_ASD_375&amp;D8_ASD_384&amp;D8_ASD_494</td><td>D8_ASD_375</td><td><span style=white-space:pre-wrap>MEG3      </span></td><td><span style=white-space:pre-wrap>Mes prog  </span></td><td>ASD </td><td>2.658315e-151</td><td> 1.96999476</td><td>0.535</td><td>0.066</td><td>1.003062e-146</td><td>⋯</td><td>Imprinted</td><td>Maternal </td><td><span style=white-space:pre-wrap>lncRNA        </span></td><td>FALSE</td><td><span style=white-space:pre-wrap>   10</span></td><td><span style=white-space:pre-wrap>  Inf</span></td><td>14</td><td>FALSE</td><td> 1.96999476</td><td> TRUE</td></tr>\n",
       "\t<tr><th scope=row>113204</th><td>D8_ASD_375&amp;D8_ASD_384&amp;D8_ASD_494</td><td>D8_ASD_384</td><td><span style=white-space:pre-wrap>MEG3      </span></td><td><span style=white-space:pre-wrap>Mes prog  </span></td><td>ASD </td><td> 4.305348e-31</td><td> 0.51594650</td><td>0.175</td><td>0.066</td><td> 1.624537e-26</td><td>⋯</td><td>Imprinted</td><td>Maternal </td><td><span style=white-space:pre-wrap>lncRNA        </span></td><td>FALSE</td><td> 2053</td><td><span style=white-space:pre-wrap>  Inf</span></td><td>14</td><td>FALSE</td><td> 0.51594650</td><td> TRUE</td></tr>\n",
       "\t<tr><th scope=row>113205</th><td>D8_ASD_375&amp;D8_ASD_384&amp;D8_ASD_494</td><td>D8_ASD_494</td><td><span style=white-space:pre-wrap>MEG3      </span></td><td><span style=white-space:pre-wrap>Mes prog  </span></td><td>ASD </td><td> 3.505927e-53</td><td> 0.52354547</td><td>0.177</td><td>0.066</td><td> 1.322892e-48</td><td>⋯</td><td>Imprinted</td><td>Maternal </td><td><span style=white-space:pre-wrap>lncRNA        </span></td><td>FALSE</td><td> 1945</td><td><span style=white-space:pre-wrap>  Inf</span></td><td>14</td><td>FALSE</td><td> 0.52354547</td><td> TRUE</td></tr>\n",
       "\t<tr><th scope=row>113206</th><td><span style=white-space:pre-wrap>D8_ASD_375&amp;D8_ASD_384           </span></td><td>D8_ASD_375</td><td><span style=white-space:pre-wrap>IGDCC3    </span></td><td><span style=white-space:pre-wrap>Mes prog  </span></td><td>Ctrl</td><td> 2.216460e-28</td><td>-0.52386032</td><td>0.304</td><td>0.502</td><td> 8.363370e-24</td><td>⋯</td><td>Not in DB</td><td>Not in DB</td><td>protein_coding</td><td> TRUE</td><td><span style=white-space:pre-wrap>  Inf</span></td><td> 1611</td><td>15</td><td>FALSE</td><td>-0.52386032</td><td> TRUE</td></tr>\n",
       "\t<tr><th scope=row>113207</th><td><span style=white-space:pre-wrap>D8_ASD_375&amp;D8_ASD_384           </span></td><td>D8_ASD_384</td><td><span style=white-space:pre-wrap>IGDCC3    </span></td><td><span style=white-space:pre-wrap>Mes prog  </span></td><td>Ctrl</td><td> 1.731685e-78</td><td>-0.64228064</td><td>0.199</td><td>0.502</td><td> 6.534167e-74</td><td>⋯</td><td>Not in DB</td><td>Not in DB</td><td>protein_coding</td><td> TRUE</td><td><span style=white-space:pre-wrap>  Inf</span></td><td><span style=white-space:pre-wrap>  815</span></td><td>15</td><td>FALSE</td><td>-0.64228064</td><td> TRUE</td></tr>\n",
       "\t<tr><th scope=row>113208</th><td><span style=white-space:pre-wrap>D8_ASD_375&amp;D8_ASD_384           </span></td><td>D8_ASD_375</td><td><span style=white-space:pre-wrap>TAGLN     </span></td><td><span style=white-space:pre-wrap>Mes prog  </span></td><td>ASD </td><td> 2.902237e-17</td><td> 0.68830288</td><td>0.905</td><td>0.849</td><td> 1.095101e-12</td><td>⋯</td><td>Not in DB</td><td>Not in DB</td><td>protein_coding</td><td> TRUE</td><td><span style=white-space:pre-wrap>  896</span></td><td><span style=white-space:pre-wrap>  Inf</span></td><td>11</td><td>FALSE</td><td> 0.68830288</td><td> TRUE</td></tr>\n",
       "\t<tr><th scope=row>113209</th><td><span style=white-space:pre-wrap>D8_ASD_375&amp;D8_ASD_384           </span></td><td>D8_ASD_384</td><td><span style=white-space:pre-wrap>TAGLN     </span></td><td><span style=white-space:pre-wrap>Mes prog  </span></td><td>ASD </td><td> 1.270721e-48</td><td> 0.87807818</td><td>0.917</td><td>0.849</td><td> 4.794811e-44</td><td>⋯</td><td>Not in DB</td><td>Not in DB</td><td>protein_coding</td><td> TRUE</td><td><span style=white-space:pre-wrap>  372</span></td><td><span style=white-space:pre-wrap>  Inf</span></td><td>11</td><td>FALSE</td><td> 0.87807818</td><td> TRUE</td></tr>\n",
       "\t<tr><th scope=row>113210</th><td><span style=white-space:pre-wrap>D8_ASD_375&amp;D8_ASD_384           </span></td><td>D8_ASD_375</td><td>ZNF528-AS1</td><td><span style=white-space:pre-wrap>Mes prog  </span></td><td>ASD </td><td> 4.404637e-40</td><td> 0.41037411</td><td>0.292</td><td>0.062</td><td> 1.662002e-35</td><td>⋯</td><td>Not in DB</td><td>Not in DB</td><td><span style=white-space:pre-wrap>lncRNA        </span></td><td>FALSE</td><td> 3907</td><td><span style=white-space:pre-wrap>  Inf</span></td><td>19</td><td>FALSE</td><td> 0.41037411</td><td> TRUE</td></tr>\n",
       "\t<tr><th scope=row>113211</th><td><span style=white-space:pre-wrap>D8_ASD_375&amp;D8_ASD_384           </span></td><td>D8_ASD_384</td><td>ZNF528-AS1</td><td><span style=white-space:pre-wrap>Mes prog  </span></td><td>ASD </td><td> 7.478380e-87</td><td> 0.59388264</td><td>0.329</td><td>0.062</td><td> 2.821817e-82</td><td>⋯</td><td>Not in DB</td><td>Not in DB</td><td><span style=white-space:pre-wrap>lncRNA        </span></td><td>FALSE</td><td> 1380</td><td><span style=white-space:pre-wrap>  Inf</span></td><td>19</td><td>FALSE</td><td> 0.59388264</td><td> TRUE</td></tr>\n",
       "\t<tr><th scope=row>⋮</th><td>⋮</td><td>⋮</td><td>⋮</td><td>⋮</td><td>⋮</td><td>⋮</td><td>⋮</td><td>⋮</td><td>⋮</td><td>⋮</td><td>⋱</td><td>⋮</td><td>⋮</td><td>⋮</td><td>⋮</td><td>⋮</td><td>⋮</td><td>⋮</td><td>⋮</td><td>⋮</td><td>⋮</td></tr>\n",
       "\t<tr><th scope=row>566080</th><td>D8_ASD_494</td><td>D8_ASD_375</td><td>SEC61G</td><td>Neuron</td><td>Ctrl</td><td>8.220362e-02</td><td>-0.35789369</td><td>0.585</td><td>0.667</td><td>1.000000e+00</td><td>⋯</td><td>Not in DB    </td><td>Not in DB</td><td>protein_coding</td><td> TRUE</td><td>  Inf</td><td> 4785</td><td>7 </td><td>FALSE</td><td>-0.35789369</td><td>FALSE</td></tr>\n",
       "\t<tr><th scope=row>566081</th><td>D8_ASD_494</td><td>D8_ASD_384</td><td>SEC61G</td><td>Neuron</td><td>Ctrl</td><td>1.241454e-01</td><td>-0.66263541</td><td>0.500</td><td>0.667</td><td>1.000000e+00</td><td>⋯</td><td>Not in DB    </td><td>Not in DB</td><td>protein_coding</td><td> TRUE</td><td>  Inf</td><td>  740</td><td>7 </td><td>FALSE</td><td>-0.66263541</td><td>FALSE</td></tr>\n",
       "\t<tr><th scope=row>566082</th><td>D8_ASD_494</td><td>D8_ASD_494</td><td>SEC61G</td><td>Neuron</td><td>Ctrl</td><td>8.058250e-09</td><td>-0.52174608</td><td>0.443</td><td>0.667</td><td>3.040619e-04</td><td>⋯</td><td>Not in DB    </td><td>Not in DB</td><td>protein_coding</td><td> TRUE</td><td>  Inf</td><td> 1636</td><td>7 </td><td>FALSE</td><td>-0.52174608</td><td> TRUE</td></tr>\n",
       "\t<tr><th scope=row>566083</th><td>D8_ASD_494</td><td>D8_ASD_375</td><td>SNHG5 </td><td>Neuron</td><td>Ctrl</td><td>3.832999e-01</td><td>-0.34427048</td><td>0.677</td><td>0.559</td><td>1.000000e+00</td><td>⋯</td><td>Not in DB    </td><td>Not in DB</td><td>lncRNA        </td><td>FALSE</td><td>  Inf</td><td> 5280</td><td>6 </td><td>FALSE</td><td>-0.34427048</td><td>FALSE</td></tr>\n",
       "\t<tr><th scope=row>566084</th><td>D8_ASD_494</td><td>D8_ASD_384</td><td>SNHG5 </td><td>Neuron</td><td>Ctrl</td><td>3.283340e-01</td><td>-0.43923006</td><td>0.583</td><td>0.559</td><td>1.000000e+00</td><td>⋯</td><td>Not in DB    </td><td>Not in DB</td><td>lncRNA        </td><td>FALSE</td><td>  Inf</td><td> 2773</td><td>6 </td><td>FALSE</td><td>-0.43923006</td><td>FALSE</td></tr>\n",
       "\t<tr><th scope=row>566085</th><td>D8_ASD_494</td><td>D8_ASD_494</td><td>SNHG5 </td><td>Neuron</td><td>Ctrl</td><td>3.492036e-26</td><td>-1.36899578</td><td>0.168</td><td>0.559</td><td>1.317650e-21</td><td>⋯</td><td>Not in DB    </td><td>Not in DB</td><td>lncRNA        </td><td>FALSE</td><td>  Inf</td><td>   36</td><td>6 </td><td>FALSE</td><td>-1.36899578</td><td> TRUE</td></tr>\n",
       "\t<tr><th scope=row>566086</th><td>D8_ASD_494</td><td>D8_ASD_375</td><td>SNRPF </td><td>Neuron</td><td>Ctrl</td><td>2.742604e-01</td><td>-0.20196223</td><td>0.738</td><td>0.778</td><td>1.000000e+00</td><td>⋯</td><td>Not in DB    </td><td>Not in DB</td><td>protein_coding</td><td> TRUE</td><td>  Inf</td><td>15063</td><td>12</td><td>FALSE</td><td>-0.20196223</td><td>FALSE</td></tr>\n",
       "\t<tr><th scope=row>566087</th><td>D8_ASD_494</td><td>D8_ASD_384</td><td>SNRPF </td><td>Neuron</td><td>Ctrl</td><td>4.894163e-01</td><td>-0.75273781</td><td>0.667</td><td>0.778</td><td>1.000000e+00</td><td>⋯</td><td>Not in DB    </td><td>Not in DB</td><td>protein_coding</td><td> TRUE</td><td>  Inf</td><td>  479</td><td>12</td><td>FALSE</td><td>-0.75273781</td><td>FALSE</td></tr>\n",
       "\t<tr><th scope=row>566088</th><td>D8_ASD_494</td><td>D8_ASD_494</td><td>SNRPF </td><td>Neuron</td><td>Ctrl</td><td>6.149457e-09</td><td>-0.53719354</td><td>0.584</td><td>0.778</td><td>2.320375e-04</td><td>⋯</td><td>Not in DB    </td><td>Not in DB</td><td>protein_coding</td><td> TRUE</td><td>  Inf</td><td> 1461</td><td>12</td><td>FALSE</td><td>-0.53719354</td><td> TRUE</td></tr>\n",
       "\t<tr><th scope=row>566089</th><td>D8_ASD_494</td><td>D8_ASD_384</td><td>SOX2  </td><td>Neuron</td><td>Ctrl</td><td>6.816992e-01</td><td>-0.07056003</td><td>0.750</td><td>0.774</td><td>1.000000e+00</td><td>⋯</td><td>Not in DB    </td><td>Not in DB</td><td>protein_coding</td><td> TRUE</td><td>  Inf</td><td>49466</td><td>3 </td><td>FALSE</td><td>-0.07056003</td><td>FALSE</td></tr>\n",
       "\t<tr><th scope=row>566090</th><td>D8_ASD_494</td><td>D8_ASD_494</td><td>SOX2  </td><td>Neuron</td><td>Ctrl</td><td>9.020251e-07</td><td>-0.46501162</td><td>0.600</td><td>0.774</td><td>3.403611e-02</td><td>⋯</td><td>Not in DB    </td><td>Not in DB</td><td>protein_coding</td><td> TRUE</td><td>  Inf</td><td> 2321</td><td>3 </td><td>FALSE</td><td>-0.46501162</td><td> TRUE</td></tr>\n",
       "\t<tr><th scope=row>566091</th><td>D8_ASD_494</td><td>D8_ASD_384</td><td>SPEGNB</td><td>Neuron</td><td>ASD </td><td>2.317993e-01</td><td> 0.12719243</td><td>0.083</td><td>0.026</td><td>1.000000e+00</td><td>⋯</td><td>Not in DB    </td><td>Not in DB</td><td>protein_coding</td><td> TRUE</td><td>25440</td><td>  Inf</td><td>2 </td><td>FALSE</td><td> 0.12719243</td><td>FALSE</td></tr>\n",
       "\t<tr><th scope=row>566092</th><td>D8_ASD_494</td><td>D8_ASD_494</td><td>SPEGNB</td><td>Neuron</td><td>ASD </td><td>4.809227e-07</td><td> 0.47320612</td><td>0.116</td><td>0.026</td><td>1.814666e-02</td><td>⋯</td><td>Not in DB    </td><td>Not in DB</td><td>protein_coding</td><td> TRUE</td><td> 2641</td><td>  Inf</td><td>2 </td><td>FALSE</td><td> 0.47320612</td><td> TRUE</td></tr>\n",
       "\t<tr><th scope=row>566093</th><td>D8_ASD_494</td><td>D8_ASD_375</td><td>STRAP </td><td>Neuron</td><td>Ctrl</td><td>7.619041e-01</td><td>-0.08039598</td><td>0.692</td><td>0.700</td><td>1.000000e+00</td><td>⋯</td><td>Not in DB    </td><td>Not in DB</td><td>protein_coding</td><td> TRUE</td><td>  Inf</td><td>44199</td><td>12</td><td>FALSE</td><td>-0.08039598</td><td>FALSE</td></tr>\n",
       "\t<tr><th scope=row>566094</th><td>D8_ASD_494</td><td>D8_ASD_384</td><td>STRAP </td><td>Neuron</td><td>Ctrl</td><td>1.330348e-01</td><td>-0.39437775</td><td>0.583</td><td>0.700</td><td>1.000000e+00</td><td>⋯</td><td>Not in DB    </td><td>Not in DB</td><td>protein_coding</td><td> TRUE</td><td>  Inf</td><td> 3756</td><td>12</td><td>FALSE</td><td>-0.39437775</td><td>FALSE</td></tr>\n",
       "\t<tr><th scope=row>566095</th><td>D8_ASD_494</td><td>D8_ASD_494</td><td>STRAP </td><td>Neuron</td><td>Ctrl</td><td>1.476223e-08</td><td>-0.46566023</td><td>0.497</td><td>0.700</td><td>5.570232e-04</td><td>⋯</td><td>Not in DB    </td><td>Not in DB</td><td>protein_coding</td><td> TRUE</td><td>  Inf</td><td> 2310</td><td>12</td><td>FALSE</td><td>-0.46566023</td><td> TRUE</td></tr>\n",
       "\t<tr><th scope=row>566096</th><td>D8_ASD_494</td><td>D8_ASD_384</td><td>TPBG  </td><td>Neuron</td><td>Ctrl</td><td>1.074606e-02</td><td>-2.01752026</td><td>0.167</td><td>0.681</td><td>1.000000e+00</td><td>⋯</td><td>Not in DB    </td><td>Not in DB</td><td>protein_coding</td><td> TRUE</td><td>  Inf</td><td>    6</td><td>6 </td><td>FALSE</td><td>-2.01752026</td><td>FALSE</td></tr>\n",
       "\t<tr><th scope=row>566097</th><td>D8_ASD_494</td><td>D8_ASD_494</td><td>TPBG  </td><td>Neuron</td><td>Ctrl</td><td>1.443624e-09</td><td>-0.70630029</td><td>0.454</td><td>0.681</td><td>5.447225e-05</td><td>⋯</td><td>Not in DB    </td><td>Not in DB</td><td>protein_coding</td><td> TRUE</td><td>  Inf</td><td>  589</td><td>6 </td><td>FALSE</td><td>-0.70630029</td><td> TRUE</td></tr>\n",
       "\t<tr><th scope=row>566098</th><td>D8_ASD_494</td><td>D8_ASD_375</td><td>TPI1  </td><td>Neuron</td><td>ASD </td><td>6.356882e-01</td><td> 0.03745301</td><td>0.877</td><td>0.830</td><td>1.000000e+00</td><td>⋯</td><td>Not in DB    </td><td>Not in DB</td><td>protein_coding</td><td> TRUE</td><td>62655</td><td>  Inf</td><td>12</td><td>FALSE</td><td> 0.03745301</td><td>FALSE</td></tr>\n",
       "\t<tr><th scope=row>566099</th><td>D8_ASD_494</td><td>D8_ASD_384</td><td>TPI1  </td><td>Neuron</td><td>ASD </td><td>1.224679e-01</td><td> 0.49822464</td><td>0.917</td><td>0.830</td><td>1.000000e+00</td><td>⋯</td><td>Not in DB    </td><td>Not in DB</td><td>protein_coding</td><td> TRUE</td><td> 2266</td><td>  Inf</td><td>12</td><td>FALSE</td><td> 0.49822464</td><td>FALSE</td></tr>\n",
       "\t<tr><th scope=row>566100</th><td>D8_ASD_494</td><td>D8_ASD_494</td><td>TPI1  </td><td>Neuron</td><td>ASD </td><td>8.386408e-10</td><td> 0.69313934</td><td>0.892</td><td>0.830</td><td>3.164443e-05</td><td>⋯</td><td>Not in DB    </td><td>Not in DB</td><td>protein_coding</td><td> TRUE</td><td>  872</td><td>  Inf</td><td>12</td><td>FALSE</td><td> 0.69313934</td><td> TRUE</td></tr>\n",
       "\t<tr><th scope=row>566101</th><td>D8_ASD_494</td><td>D8_ASD_375</td><td>VIM   </td><td>Neuron</td><td>Ctrl</td><td>9.480798e-01</td><td>-0.20307508</td><td>0.923</td><td>0.852</td><td>1.000000e+00</td><td>⋯</td><td>Not in DB    </td><td>Not in DB</td><td>protein_coding</td><td> TRUE</td><td>  Inf</td><td>14952</td><td>10</td><td>FALSE</td><td>-0.20307508</td><td>FALSE</td></tr>\n",
       "\t<tr><th scope=row>566102</th><td>D8_ASD_494</td><td>D8_ASD_384</td><td>VIM   </td><td>Neuron</td><td>Ctrl</td><td>2.720707e-01</td><td>-0.57875546</td><td>0.917</td><td>0.852</td><td>1.000000e+00</td><td>⋯</td><td>Not in DB    </td><td>Not in DB</td><td>protein_coding</td><td> TRUE</td><td>  Inf</td><td> 1150</td><td>10</td><td>FALSE</td><td>-0.57875546</td><td>FALSE</td></tr>\n",
       "\t<tr><th scope=row>566103</th><td>D8_ASD_494</td><td>D8_ASD_494</td><td>VIM   </td><td>Neuron</td><td>Ctrl</td><td>8.036771e-12</td><td>-0.80861521</td><td>0.689</td><td>0.852</td><td>3.032515e-07</td><td>⋯</td><td>Not in DB    </td><td>Not in DB</td><td>protein_coding</td><td> TRUE</td><td>  Inf</td><td>  372</td><td>10</td><td>FALSE</td><td>-0.80861521</td><td> TRUE</td></tr>\n",
       "\t<tr><th scope=row>566104</th><td>D8_ASD_494</td><td>D8_ASD_375</td><td>XIST  </td><td>Neuron</td><td>Ctrl</td><td>1.262309e-04</td><td>-1.02444314</td><td>0.000</td><td>0.170</td><td>1.000000e+00</td><td>⋯</td><td>Not Imprinted</td><td>Biallelic</td><td>lncRNA        </td><td>FALSE</td><td>  Inf</td><td>  140</td><td>X </td><td> TRUE</td><td>-1.02444314</td><td>FALSE</td></tr>\n",
       "\t<tr><th scope=row>566105</th><td>D8_ASD_494</td><td>D8_ASD_384</td><td>XIST  </td><td>Neuron</td><td>Ctrl</td><td>1.000000e+00</td><td>-1.02444314</td><td>0.000</td><td>0.170</td><td>1.000000e+00</td><td>⋯</td><td>Not Imprinted</td><td>Biallelic</td><td>lncRNA        </td><td>FALSE</td><td>  Inf</td><td>  140</td><td>X </td><td> TRUE</td><td>-1.02444314</td><td>FALSE</td></tr>\n",
       "\t<tr><th scope=row>566106</th><td>D8_ASD_494</td><td>D8_ASD_494</td><td>XIST  </td><td>Neuron</td><td>Ctrl</td><td>1.586638e-16</td><td>-1.02444314</td><td>0.000</td><td>0.170</td><td>5.986862e-12</td><td>⋯</td><td>Not Imprinted</td><td>Biallelic</td><td>lncRNA        </td><td>FALSE</td><td>  Inf</td><td>  140</td><td>X </td><td> TRUE</td><td>-1.02444314</td><td> TRUE</td></tr>\n",
       "\t<tr><th scope=row>566107</th><td>D8_ASD_494</td><td>D8_ASD_375</td><td>YBX3  </td><td>Neuron</td><td>Ctrl</td><td>6.738589e-01</td><td>-0.19082949</td><td>0.323</td><td>0.385</td><td>1.000000e+00</td><td>⋯</td><td>Not in DB    </td><td>Not in DB</td><td>protein_coding</td><td> TRUE</td><td>  Inf</td><td>16458</td><td>12</td><td>FALSE</td><td>-0.19082949</td><td>FALSE</td></tr>\n",
       "\t<tr><th scope=row>566108</th><td>D8_ASD_494</td><td>D8_ASD_384</td><td>YBX3  </td><td>Neuron</td><td>Ctrl</td><td>2.400862e-01</td><td>-0.30022806</td><td>0.333</td><td>0.385</td><td>1.000000e+00</td><td>⋯</td><td>Not in DB    </td><td>Not in DB</td><td>protein_coding</td><td> TRUE</td><td>  Inf</td><td> 7263</td><td>12</td><td>FALSE</td><td>-0.30022806</td><td>FALSE</td></tr>\n",
       "\t<tr><th scope=row>566109</th><td>D8_ASD_494</td><td>D8_ASD_494</td><td>YBX3  </td><td>Neuron</td><td>Ctrl</td><td>6.491612e-08</td><td>-0.46688104</td><td>0.173</td><td>0.385</td><td>2.449480e-03</td><td>⋯</td><td>Not in DB    </td><td>Not in DB</td><td>protein_coding</td><td> TRUE</td><td>  Inf</td><td> 2292</td><td>12</td><td>FALSE</td><td>-0.46688104</td><td> TRUE</td></tr>\n",
       "</tbody>\n",
       "</table>\n"
      ],
      "text/latex": [
       "A data.frame: 1169 × 27\n",
       "\\begin{tabular}{r|lllllllllllllllllllll}\n",
       "  & matching.donors & donor & gene & anno\\_cluster\\_fct & overexpressed.in & p\\_val & avg\\_log2FC & pct.1 & pct.2 & p\\_val\\_adj & ⋯ & Imprinted.Status & Expressed.Allele & gene\\_biotype & protein\\_coding & rank.ASD & rank.Ctrl & chromosome & in.sex\\_chr & logfc & filter.over.max\\\\\n",
       "  & <fct> & <fct> & <chr> & <fct> & <chr> & <dbl> & <dbl> & <dbl> & <dbl> & <dbl> & ⋯ & <chr> & <chr> & <chr> & <lgl> & <dbl> & <dbl> & <chr> & <lgl> & <dbl> & <lgl>\\\\\n",
       "\\hline\n",
       "\t1 & D8\\_ASD\\_375                       & D8\\_ASD\\_375 & NNAT       & FGF17-like & Ctrl &  9.786744e-12 & -1.88104826 & 0.000 & 0.750 &  3.692832e-07 & ⋯ & Imprinted & Paternal  & protein\\_coding &  TRUE &   Inf &     9 & 20 & FALSE & -1.88104826 &  TRUE\\\\\n",
       "\t2 & D8\\_ASD\\_384                       & D8\\_ASD\\_375 & CSRP2      & FGF17-like & ASD  &  5.039917e-02 &  0.63652145 & 0.839 & 0.781 &  1.000000e+00 & ⋯ & Not in DB & Not in DB & protein\\_coding &  TRUE &  1130 &   Inf & 12 & FALSE &  0.63652145 & FALSE\\\\\n",
       "\t3 & D8\\_ASD\\_384                       & D8\\_ASD\\_384 & CSRP2      & FGF17-like & ASD  &  5.248847e-07 &  0.94249968 & 0.966 & 0.781 &  1.980548e-02 & ⋯ & Not in DB & Not in DB & protein\\_coding &  TRUE &   272 &   Inf & 12 & FALSE &  0.94249968 &  TRUE\\\\\n",
       "\t4 & D8\\_ASD\\_384                       & D8\\_ASD\\_494 & CSRP2      & FGF17-like & ASD  &  5.538582e-01 &  0.01286255 & 0.808 & 0.781 &  1.000000e+00 & ⋯ & Not in DB & Not in DB & protein\\_coding &  TRUE & 95527 &   Inf & 12 & FALSE &  0.01286255 & FALSE\\\\\n",
       "\t5 & D8\\_ASD\\_384                       & D8\\_ASD\\_375 & FGF8       & FGF17-like & ASD  &  2.668402e-05 &  0.92950781 & 0.355 & 0.000 &  1.000000e+00 & ⋯ & Not in DB & Not in DB & protein\\_coding &  TRUE &   292 &   Inf & 10 & FALSE &  0.92950781 & FALSE\\\\\n",
       "\t6 & D8\\_ASD\\_384                       & D8\\_ASD\\_384 & FGF8       & FGF17-like & ASD  &  1.399141e-08 &  1.54070324 & 0.558 & 0.000 &  5.279377e-04 & ⋯ & Not in DB & Not in DB & protein\\_coding &  TRUE &    34 &   Inf & 10 & FALSE &  1.54070324 &  TRUE\\\\\n",
       "\t7 & D8\\_ASD\\_384                       & D8\\_ASD\\_494 & FGF8       & FGF17-like & ASD  &  3.796737e-02 &  0.11542748 & 0.051 & 0.000 &  1.000000e+00 & ⋯ & Not in DB & Not in DB & protein\\_coding &  TRUE & 28046 &   Inf & 10 & FALSE &  0.11542748 & FALSE\\\\\n",
       "\t8 & D8\\_ASD\\_384                       & D8\\_ASD\\_375 & FZD5       & FGF17-like & ASD  &  4.050033e-03 &  0.58516809 & 0.419 & 0.125 &  1.000000e+00 & ⋯ & Not in DB & Not in DB & protein\\_coding &  TRUE &  1446 &   Inf & 2  & FALSE &  0.58516809 & FALSE\\\\\n",
       "\t9 & D8\\_ASD\\_384                       & D8\\_ASD\\_384 & FZD5       & FGF17-like & ASD  &  2.885716e-10 &  1.54827818 & 0.694 & 0.125 &  1.088867e-05 & ⋯ & Not in DB & Not in DB & protein\\_coding &  TRUE &    32 &   Inf & 2  & FALSE &  1.54827818 &  TRUE\\\\\n",
       "\t10 & D8\\_ASD\\_384                       & D8\\_ASD\\_375 & SFRP1      & FGF17-like & ASD  &  7.200298e-02 &  0.37547466 & 0.871 & 0.719 &  1.000000e+00 & ⋯ & Not in DB & Not in DB & protein\\_coding &  TRUE &  4780 &   Inf & 8  & FALSE &  0.37547466 & FALSE\\\\\n",
       "\t11 & D8\\_ASD\\_384                       & D8\\_ASD\\_384 & SFRP1      & FGF17-like & ASD  &  1.233532e-07 &  1.65719135 & 0.980 & 0.719 &  4.654485e-03 & ⋯ & Not in DB & Not in DB & protein\\_coding &  TRUE &    23 &   Inf & 8  & FALSE &  1.65719135 &  TRUE\\\\\n",
       "\t12 & D8\\_ASD\\_384                       & D8\\_ASD\\_375 & SIX3       & FGF17-like & ASD  &  1.117304e-04 &  0.96742824 & 0.484 & 0.094 &  1.000000e+00 & ⋯ & Not in DB & Not in DB & protein\\_coding &  TRUE &   241 &   Inf & 2  & FALSE &  0.96742824 & FALSE\\\\\n",
       "\t13 & D8\\_ASD\\_384                       & D8\\_ASD\\_384 & SIX3       & FGF17-like & ASD  &  1.940362e-13 &  2.17974669 & 0.823 & 0.094 &  7.321567e-09 & ⋯ & Not in DB & Not in DB & protein\\_coding &  TRUE &     5 &   Inf & 2  & FALSE &  2.17974669 &  TRUE\\\\\n",
       "\t14 & D8\\_ASD\\_384                       & D8\\_ASD\\_375 & SPRY1      & FGF17-like & ASD  &  1.227639e-02 &  0.67526205 & 0.452 & 0.219 &  1.000000e+00 & ⋯ & Not in DB & Not in DB & protein\\_coding &  TRUE &   950 &   Inf & 4  & FALSE &  0.67526205 & FALSE\\\\\n",
       "\t15 & D8\\_ASD\\_384                       & D8\\_ASD\\_384 & SPRY1      & FGF17-like & ASD  &  1.425529e-08 &  1.59178802 & 0.701 & 0.219 &  5.378950e-04 & ⋯ & Not in DB & Not in DB & protein\\_coding &  TRUE &    27 &   Inf & 4  & FALSE &  1.59178802 &  TRUE\\\\\n",
       "\t16 & D8\\_ASD\\_384                       & D8\\_ASD\\_375 & WLS        & FGF17-like & Ctrl &  1.658967e-02 & -0.84957618 & 0.387 & 0.625 &  1.000000e+00 & ⋯ & Not in DB & Not in DB & protein\\_coding &  TRUE &   Inf &   298 & 1  & FALSE & -0.84957618 & FALSE\\\\\n",
       "\t17 & D8\\_ASD\\_384                       & D8\\_ASD\\_384 & WLS        & FGF17-like & Ctrl &  3.377871e-07 & -1.62631883 & 0.048 & 0.625 &  1.274572e-02 & ⋯ & Not in DB & Not in DB & protein\\_coding &  TRUE &   Inf &    18 & 1  & FALSE & -1.62631883 &  TRUE\\\\\n",
       "\t18 & D8\\_ASD\\_384                       & D8\\_ASD\\_494 & WLS        & FGF17-like & Ctrl &  8.515464e-01 & -0.17570394 & 0.679 & 0.625 &  1.000000e+00 & ⋯ & Not in DB & Not in DB & protein\\_coding &  TRUE &   Inf & 18626 & 1  & FALSE & -0.17570394 & FALSE\\\\\n",
       "\t113200 & D8\\_ASD\\_375\\&D8\\_ASD\\_384\\&D8\\_ASD\\_494 & D8\\_ASD\\_375 & EIF1AY     & Mes prog   & ASD  & 5.754530e-112 &  0.77080555 & 0.478 & 0.040 & 2.171357e-107 & ⋯ & Not in DB & Not in DB & protein\\_coding &  TRUE &   606 &   Inf & Y  &  TRUE &  0.77080555 &  TRUE\\\\\n",
       "\t113201 & D8\\_ASD\\_375\\&D8\\_ASD\\_384\\&D8\\_ASD\\_494 & D8\\_ASD\\_384 & EIF1AY     & Mes prog   & ASD  &  3.392059e-65 &  0.43731715 & 0.239 & 0.040 &  1.279926e-60 & ⋯ & Not in DB & Not in DB & protein\\_coding &  TRUE &  3304 &   Inf & Y  &  TRUE &  0.43731715 &  TRUE\\\\\n",
       "\t113202 & D8\\_ASD\\_375\\&D8\\_ASD\\_384\\&D8\\_ASD\\_494 & D8\\_ASD\\_494 & EIF1AY     & Mes prog   & ASD  & 7.304610e-103 &  0.48328625 & 0.247 & 0.040 &  2.756249e-98 & ⋯ & Not in DB & Not in DB & protein\\_coding &  TRUE &  2494 &   Inf & Y  &  TRUE &  0.48328625 &  TRUE\\\\\n",
       "\t113203 & D8\\_ASD\\_375\\&D8\\_ASD\\_384\\&D8\\_ASD\\_494 & D8\\_ASD\\_375 & MEG3       & Mes prog   & ASD  & 2.658315e-151 &  1.96999476 & 0.535 & 0.066 & 1.003062e-146 & ⋯ & Imprinted & Maternal  & lncRNA         & FALSE &    10 &   Inf & 14 & FALSE &  1.96999476 &  TRUE\\\\\n",
       "\t113204 & D8\\_ASD\\_375\\&D8\\_ASD\\_384\\&D8\\_ASD\\_494 & D8\\_ASD\\_384 & MEG3       & Mes prog   & ASD  &  4.305348e-31 &  0.51594650 & 0.175 & 0.066 &  1.624537e-26 & ⋯ & Imprinted & Maternal  & lncRNA         & FALSE &  2053 &   Inf & 14 & FALSE &  0.51594650 &  TRUE\\\\\n",
       "\t113205 & D8\\_ASD\\_375\\&D8\\_ASD\\_384\\&D8\\_ASD\\_494 & D8\\_ASD\\_494 & MEG3       & Mes prog   & ASD  &  3.505927e-53 &  0.52354547 & 0.177 & 0.066 &  1.322892e-48 & ⋯ & Imprinted & Maternal  & lncRNA         & FALSE &  1945 &   Inf & 14 & FALSE &  0.52354547 &  TRUE\\\\\n",
       "\t113206 & D8\\_ASD\\_375\\&D8\\_ASD\\_384            & D8\\_ASD\\_375 & IGDCC3     & Mes prog   & Ctrl &  2.216460e-28 & -0.52386032 & 0.304 & 0.502 &  8.363370e-24 & ⋯ & Not in DB & Not in DB & protein\\_coding &  TRUE &   Inf &  1611 & 15 & FALSE & -0.52386032 &  TRUE\\\\\n",
       "\t113207 & D8\\_ASD\\_375\\&D8\\_ASD\\_384            & D8\\_ASD\\_384 & IGDCC3     & Mes prog   & Ctrl &  1.731685e-78 & -0.64228064 & 0.199 & 0.502 &  6.534167e-74 & ⋯ & Not in DB & Not in DB & protein\\_coding &  TRUE &   Inf &   815 & 15 & FALSE & -0.64228064 &  TRUE\\\\\n",
       "\t113208 & D8\\_ASD\\_375\\&D8\\_ASD\\_384            & D8\\_ASD\\_375 & TAGLN      & Mes prog   & ASD  &  2.902237e-17 &  0.68830288 & 0.905 & 0.849 &  1.095101e-12 & ⋯ & Not in DB & Not in DB & protein\\_coding &  TRUE &   896 &   Inf & 11 & FALSE &  0.68830288 &  TRUE\\\\\n",
       "\t113209 & D8\\_ASD\\_375\\&D8\\_ASD\\_384            & D8\\_ASD\\_384 & TAGLN      & Mes prog   & ASD  &  1.270721e-48 &  0.87807818 & 0.917 & 0.849 &  4.794811e-44 & ⋯ & Not in DB & Not in DB & protein\\_coding &  TRUE &   372 &   Inf & 11 & FALSE &  0.87807818 &  TRUE\\\\\n",
       "\t113210 & D8\\_ASD\\_375\\&D8\\_ASD\\_384            & D8\\_ASD\\_375 & ZNF528-AS1 & Mes prog   & ASD  &  4.404637e-40 &  0.41037411 & 0.292 & 0.062 &  1.662002e-35 & ⋯ & Not in DB & Not in DB & lncRNA         & FALSE &  3907 &   Inf & 19 & FALSE &  0.41037411 &  TRUE\\\\\n",
       "\t113211 & D8\\_ASD\\_375\\&D8\\_ASD\\_384            & D8\\_ASD\\_384 & ZNF528-AS1 & Mes prog   & ASD  &  7.478380e-87 &  0.59388264 & 0.329 & 0.062 &  2.821817e-82 & ⋯ & Not in DB & Not in DB & lncRNA         & FALSE &  1380 &   Inf & 19 & FALSE &  0.59388264 &  TRUE\\\\\n",
       "\t⋮ & ⋮ & ⋮ & ⋮ & ⋮ & ⋮ & ⋮ & ⋮ & ⋮ & ⋮ & ⋮ & ⋱ & ⋮ & ⋮ & ⋮ & ⋮ & ⋮ & ⋮ & ⋮ & ⋮ & ⋮ & ⋮\\\\\n",
       "\t566080 & D8\\_ASD\\_494 & D8\\_ASD\\_375 & SEC61G & Neuron & Ctrl & 8.220362e-02 & -0.35789369 & 0.585 & 0.667 & 1.000000e+00 & ⋯ & Not in DB     & Not in DB & protein\\_coding &  TRUE &   Inf &  4785 & 7  & FALSE & -0.35789369 & FALSE\\\\\n",
       "\t566081 & D8\\_ASD\\_494 & D8\\_ASD\\_384 & SEC61G & Neuron & Ctrl & 1.241454e-01 & -0.66263541 & 0.500 & 0.667 & 1.000000e+00 & ⋯ & Not in DB     & Not in DB & protein\\_coding &  TRUE &   Inf &   740 & 7  & FALSE & -0.66263541 & FALSE\\\\\n",
       "\t566082 & D8\\_ASD\\_494 & D8\\_ASD\\_494 & SEC61G & Neuron & Ctrl & 8.058250e-09 & -0.52174608 & 0.443 & 0.667 & 3.040619e-04 & ⋯ & Not in DB     & Not in DB & protein\\_coding &  TRUE &   Inf &  1636 & 7  & FALSE & -0.52174608 &  TRUE\\\\\n",
       "\t566083 & D8\\_ASD\\_494 & D8\\_ASD\\_375 & SNHG5  & Neuron & Ctrl & 3.832999e-01 & -0.34427048 & 0.677 & 0.559 & 1.000000e+00 & ⋯ & Not in DB     & Not in DB & lncRNA         & FALSE &   Inf &  5280 & 6  & FALSE & -0.34427048 & FALSE\\\\\n",
       "\t566084 & D8\\_ASD\\_494 & D8\\_ASD\\_384 & SNHG5  & Neuron & Ctrl & 3.283340e-01 & -0.43923006 & 0.583 & 0.559 & 1.000000e+00 & ⋯ & Not in DB     & Not in DB & lncRNA         & FALSE &   Inf &  2773 & 6  & FALSE & -0.43923006 & FALSE\\\\\n",
       "\t566085 & D8\\_ASD\\_494 & D8\\_ASD\\_494 & SNHG5  & Neuron & Ctrl & 3.492036e-26 & -1.36899578 & 0.168 & 0.559 & 1.317650e-21 & ⋯ & Not in DB     & Not in DB & lncRNA         & FALSE &   Inf &    36 & 6  & FALSE & -1.36899578 &  TRUE\\\\\n",
       "\t566086 & D8\\_ASD\\_494 & D8\\_ASD\\_375 & SNRPF  & Neuron & Ctrl & 2.742604e-01 & -0.20196223 & 0.738 & 0.778 & 1.000000e+00 & ⋯ & Not in DB     & Not in DB & protein\\_coding &  TRUE &   Inf & 15063 & 12 & FALSE & -0.20196223 & FALSE\\\\\n",
       "\t566087 & D8\\_ASD\\_494 & D8\\_ASD\\_384 & SNRPF  & Neuron & Ctrl & 4.894163e-01 & -0.75273781 & 0.667 & 0.778 & 1.000000e+00 & ⋯ & Not in DB     & Not in DB & protein\\_coding &  TRUE &   Inf &   479 & 12 & FALSE & -0.75273781 & FALSE\\\\\n",
       "\t566088 & D8\\_ASD\\_494 & D8\\_ASD\\_494 & SNRPF  & Neuron & Ctrl & 6.149457e-09 & -0.53719354 & 0.584 & 0.778 & 2.320375e-04 & ⋯ & Not in DB     & Not in DB & protein\\_coding &  TRUE &   Inf &  1461 & 12 & FALSE & -0.53719354 &  TRUE\\\\\n",
       "\t566089 & D8\\_ASD\\_494 & D8\\_ASD\\_384 & SOX2   & Neuron & Ctrl & 6.816992e-01 & -0.07056003 & 0.750 & 0.774 & 1.000000e+00 & ⋯ & Not in DB     & Not in DB & protein\\_coding &  TRUE &   Inf & 49466 & 3  & FALSE & -0.07056003 & FALSE\\\\\n",
       "\t566090 & D8\\_ASD\\_494 & D8\\_ASD\\_494 & SOX2   & Neuron & Ctrl & 9.020251e-07 & -0.46501162 & 0.600 & 0.774 & 3.403611e-02 & ⋯ & Not in DB     & Not in DB & protein\\_coding &  TRUE &   Inf &  2321 & 3  & FALSE & -0.46501162 &  TRUE\\\\\n",
       "\t566091 & D8\\_ASD\\_494 & D8\\_ASD\\_384 & SPEGNB & Neuron & ASD  & 2.317993e-01 &  0.12719243 & 0.083 & 0.026 & 1.000000e+00 & ⋯ & Not in DB     & Not in DB & protein\\_coding &  TRUE & 25440 &   Inf & 2  & FALSE &  0.12719243 & FALSE\\\\\n",
       "\t566092 & D8\\_ASD\\_494 & D8\\_ASD\\_494 & SPEGNB & Neuron & ASD  & 4.809227e-07 &  0.47320612 & 0.116 & 0.026 & 1.814666e-02 & ⋯ & Not in DB     & Not in DB & protein\\_coding &  TRUE &  2641 &   Inf & 2  & FALSE &  0.47320612 &  TRUE\\\\\n",
       "\t566093 & D8\\_ASD\\_494 & D8\\_ASD\\_375 & STRAP  & Neuron & Ctrl & 7.619041e-01 & -0.08039598 & 0.692 & 0.700 & 1.000000e+00 & ⋯ & Not in DB     & Not in DB & protein\\_coding &  TRUE &   Inf & 44199 & 12 & FALSE & -0.08039598 & FALSE\\\\\n",
       "\t566094 & D8\\_ASD\\_494 & D8\\_ASD\\_384 & STRAP  & Neuron & Ctrl & 1.330348e-01 & -0.39437775 & 0.583 & 0.700 & 1.000000e+00 & ⋯ & Not in DB     & Not in DB & protein\\_coding &  TRUE &   Inf &  3756 & 12 & FALSE & -0.39437775 & FALSE\\\\\n",
       "\t566095 & D8\\_ASD\\_494 & D8\\_ASD\\_494 & STRAP  & Neuron & Ctrl & 1.476223e-08 & -0.46566023 & 0.497 & 0.700 & 5.570232e-04 & ⋯ & Not in DB     & Not in DB & protein\\_coding &  TRUE &   Inf &  2310 & 12 & FALSE & -0.46566023 &  TRUE\\\\\n",
       "\t566096 & D8\\_ASD\\_494 & D8\\_ASD\\_384 & TPBG   & Neuron & Ctrl & 1.074606e-02 & -2.01752026 & 0.167 & 0.681 & 1.000000e+00 & ⋯ & Not in DB     & Not in DB & protein\\_coding &  TRUE &   Inf &     6 & 6  & FALSE & -2.01752026 & FALSE\\\\\n",
       "\t566097 & D8\\_ASD\\_494 & D8\\_ASD\\_494 & TPBG   & Neuron & Ctrl & 1.443624e-09 & -0.70630029 & 0.454 & 0.681 & 5.447225e-05 & ⋯ & Not in DB     & Not in DB & protein\\_coding &  TRUE &   Inf &   589 & 6  & FALSE & -0.70630029 &  TRUE\\\\\n",
       "\t566098 & D8\\_ASD\\_494 & D8\\_ASD\\_375 & TPI1   & Neuron & ASD  & 6.356882e-01 &  0.03745301 & 0.877 & 0.830 & 1.000000e+00 & ⋯ & Not in DB     & Not in DB & protein\\_coding &  TRUE & 62655 &   Inf & 12 & FALSE &  0.03745301 & FALSE\\\\\n",
       "\t566099 & D8\\_ASD\\_494 & D8\\_ASD\\_384 & TPI1   & Neuron & ASD  & 1.224679e-01 &  0.49822464 & 0.917 & 0.830 & 1.000000e+00 & ⋯ & Not in DB     & Not in DB & protein\\_coding &  TRUE &  2266 &   Inf & 12 & FALSE &  0.49822464 & FALSE\\\\\n",
       "\t566100 & D8\\_ASD\\_494 & D8\\_ASD\\_494 & TPI1   & Neuron & ASD  & 8.386408e-10 &  0.69313934 & 0.892 & 0.830 & 3.164443e-05 & ⋯ & Not in DB     & Not in DB & protein\\_coding &  TRUE &   872 &   Inf & 12 & FALSE &  0.69313934 &  TRUE\\\\\n",
       "\t566101 & D8\\_ASD\\_494 & D8\\_ASD\\_375 & VIM    & Neuron & Ctrl & 9.480798e-01 & -0.20307508 & 0.923 & 0.852 & 1.000000e+00 & ⋯ & Not in DB     & Not in DB & protein\\_coding &  TRUE &   Inf & 14952 & 10 & FALSE & -0.20307508 & FALSE\\\\\n",
       "\t566102 & D8\\_ASD\\_494 & D8\\_ASD\\_384 & VIM    & Neuron & Ctrl & 2.720707e-01 & -0.57875546 & 0.917 & 0.852 & 1.000000e+00 & ⋯ & Not in DB     & Not in DB & protein\\_coding &  TRUE &   Inf &  1150 & 10 & FALSE & -0.57875546 & FALSE\\\\\n",
       "\t566103 & D8\\_ASD\\_494 & D8\\_ASD\\_494 & VIM    & Neuron & Ctrl & 8.036771e-12 & -0.80861521 & 0.689 & 0.852 & 3.032515e-07 & ⋯ & Not in DB     & Not in DB & protein\\_coding &  TRUE &   Inf &   372 & 10 & FALSE & -0.80861521 &  TRUE\\\\\n",
       "\t566104 & D8\\_ASD\\_494 & D8\\_ASD\\_375 & XIST   & Neuron & Ctrl & 1.262309e-04 & -1.02444314 & 0.000 & 0.170 & 1.000000e+00 & ⋯ & Not Imprinted & Biallelic & lncRNA         & FALSE &   Inf &   140 & X  &  TRUE & -1.02444314 & FALSE\\\\\n",
       "\t566105 & D8\\_ASD\\_494 & D8\\_ASD\\_384 & XIST   & Neuron & Ctrl & 1.000000e+00 & -1.02444314 & 0.000 & 0.170 & 1.000000e+00 & ⋯ & Not Imprinted & Biallelic & lncRNA         & FALSE &   Inf &   140 & X  &  TRUE & -1.02444314 & FALSE\\\\\n",
       "\t566106 & D8\\_ASD\\_494 & D8\\_ASD\\_494 & XIST   & Neuron & Ctrl & 1.586638e-16 & -1.02444314 & 0.000 & 0.170 & 5.986862e-12 & ⋯ & Not Imprinted & Biallelic & lncRNA         & FALSE &   Inf &   140 & X  &  TRUE & -1.02444314 &  TRUE\\\\\n",
       "\t566107 & D8\\_ASD\\_494 & D8\\_ASD\\_375 & YBX3   & Neuron & Ctrl & 6.738589e-01 & -0.19082949 & 0.323 & 0.385 & 1.000000e+00 & ⋯ & Not in DB     & Not in DB & protein\\_coding &  TRUE &   Inf & 16458 & 12 & FALSE & -0.19082949 & FALSE\\\\\n",
       "\t566108 & D8\\_ASD\\_494 & D8\\_ASD\\_384 & YBX3   & Neuron & Ctrl & 2.400862e-01 & -0.30022806 & 0.333 & 0.385 & 1.000000e+00 & ⋯ & Not in DB     & Not in DB & protein\\_coding &  TRUE &   Inf &  7263 & 12 & FALSE & -0.30022806 & FALSE\\\\\n",
       "\t566109 & D8\\_ASD\\_494 & D8\\_ASD\\_494 & YBX3   & Neuron & Ctrl & 6.491612e-08 & -0.46688104 & 0.173 & 0.385 & 2.449480e-03 & ⋯ & Not in DB     & Not in DB & protein\\_coding &  TRUE &   Inf &  2292 & 12 & FALSE & -0.46688104 &  TRUE\\\\\n",
       "\\end{tabular}\n"
      ],
      "text/markdown": [
       "\n",
       "A data.frame: 1169 × 27\n",
       "\n",
       "| <!--/--> | matching.donors &lt;fct&gt; | donor &lt;fct&gt; | gene &lt;chr&gt; | anno_cluster_fct &lt;fct&gt; | overexpressed.in &lt;chr&gt; | p_val &lt;dbl&gt; | avg_log2FC &lt;dbl&gt; | pct.1 &lt;dbl&gt; | pct.2 &lt;dbl&gt; | p_val_adj &lt;dbl&gt; | ⋯ ⋯ | Imprinted.Status &lt;chr&gt; | Expressed.Allele &lt;chr&gt; | gene_biotype &lt;chr&gt; | protein_coding &lt;lgl&gt; | rank.ASD &lt;dbl&gt; | rank.Ctrl &lt;dbl&gt; | chromosome &lt;chr&gt; | in.sex_chr &lt;lgl&gt; | logfc &lt;dbl&gt; | filter.over.max &lt;lgl&gt; |\n",
       "|---|---|---|---|---|---|---|---|---|---|---|---|---|---|---|---|---|---|---|---|---|---|\n",
       "| 1 | D8_ASD_375                       | D8_ASD_375 | NNAT       | FGF17-like | Ctrl |  9.786744e-12 | -1.88104826 | 0.000 | 0.750 |  3.692832e-07 | ⋯ | Imprinted | Paternal  | protein_coding |  TRUE |   Inf |     9 | 20 | FALSE | -1.88104826 |  TRUE |\n",
       "| 2 | D8_ASD_384                       | D8_ASD_375 | CSRP2      | FGF17-like | ASD  |  5.039917e-02 |  0.63652145 | 0.839 | 0.781 |  1.000000e+00 | ⋯ | Not in DB | Not in DB | protein_coding |  TRUE |  1130 |   Inf | 12 | FALSE |  0.63652145 | FALSE |\n",
       "| 3 | D8_ASD_384                       | D8_ASD_384 | CSRP2      | FGF17-like | ASD  |  5.248847e-07 |  0.94249968 | 0.966 | 0.781 |  1.980548e-02 | ⋯ | Not in DB | Not in DB | protein_coding |  TRUE |   272 |   Inf | 12 | FALSE |  0.94249968 |  TRUE |\n",
       "| 4 | D8_ASD_384                       | D8_ASD_494 | CSRP2      | FGF17-like | ASD  |  5.538582e-01 |  0.01286255 | 0.808 | 0.781 |  1.000000e+00 | ⋯ | Not in DB | Not in DB | protein_coding |  TRUE | 95527 |   Inf | 12 | FALSE |  0.01286255 | FALSE |\n",
       "| 5 | D8_ASD_384                       | D8_ASD_375 | FGF8       | FGF17-like | ASD  |  2.668402e-05 |  0.92950781 | 0.355 | 0.000 |  1.000000e+00 | ⋯ | Not in DB | Not in DB | protein_coding |  TRUE |   292 |   Inf | 10 | FALSE |  0.92950781 | FALSE |\n",
       "| 6 | D8_ASD_384                       | D8_ASD_384 | FGF8       | FGF17-like | ASD  |  1.399141e-08 |  1.54070324 | 0.558 | 0.000 |  5.279377e-04 | ⋯ | Not in DB | Not in DB | protein_coding |  TRUE |    34 |   Inf | 10 | FALSE |  1.54070324 |  TRUE |\n",
       "| 7 | D8_ASD_384                       | D8_ASD_494 | FGF8       | FGF17-like | ASD  |  3.796737e-02 |  0.11542748 | 0.051 | 0.000 |  1.000000e+00 | ⋯ | Not in DB | Not in DB | protein_coding |  TRUE | 28046 |   Inf | 10 | FALSE |  0.11542748 | FALSE |\n",
       "| 8 | D8_ASD_384                       | D8_ASD_375 | FZD5       | FGF17-like | ASD  |  4.050033e-03 |  0.58516809 | 0.419 | 0.125 |  1.000000e+00 | ⋯ | Not in DB | Not in DB | protein_coding |  TRUE |  1446 |   Inf | 2  | FALSE |  0.58516809 | FALSE |\n",
       "| 9 | D8_ASD_384                       | D8_ASD_384 | FZD5       | FGF17-like | ASD  |  2.885716e-10 |  1.54827818 | 0.694 | 0.125 |  1.088867e-05 | ⋯ | Not in DB | Not in DB | protein_coding |  TRUE |    32 |   Inf | 2  | FALSE |  1.54827818 |  TRUE |\n",
       "| 10 | D8_ASD_384                       | D8_ASD_375 | SFRP1      | FGF17-like | ASD  |  7.200298e-02 |  0.37547466 | 0.871 | 0.719 |  1.000000e+00 | ⋯ | Not in DB | Not in DB | protein_coding |  TRUE |  4780 |   Inf | 8  | FALSE |  0.37547466 | FALSE |\n",
       "| 11 | D8_ASD_384                       | D8_ASD_384 | SFRP1      | FGF17-like | ASD  |  1.233532e-07 |  1.65719135 | 0.980 | 0.719 |  4.654485e-03 | ⋯ | Not in DB | Not in DB | protein_coding |  TRUE |    23 |   Inf | 8  | FALSE |  1.65719135 |  TRUE |\n",
       "| 12 | D8_ASD_384                       | D8_ASD_375 | SIX3       | FGF17-like | ASD  |  1.117304e-04 |  0.96742824 | 0.484 | 0.094 |  1.000000e+00 | ⋯ | Not in DB | Not in DB | protein_coding |  TRUE |   241 |   Inf | 2  | FALSE |  0.96742824 | FALSE |\n",
       "| 13 | D8_ASD_384                       | D8_ASD_384 | SIX3       | FGF17-like | ASD  |  1.940362e-13 |  2.17974669 | 0.823 | 0.094 |  7.321567e-09 | ⋯ | Not in DB | Not in DB | protein_coding |  TRUE |     5 |   Inf | 2  | FALSE |  2.17974669 |  TRUE |\n",
       "| 14 | D8_ASD_384                       | D8_ASD_375 | SPRY1      | FGF17-like | ASD  |  1.227639e-02 |  0.67526205 | 0.452 | 0.219 |  1.000000e+00 | ⋯ | Not in DB | Not in DB | protein_coding |  TRUE |   950 |   Inf | 4  | FALSE |  0.67526205 | FALSE |\n",
       "| 15 | D8_ASD_384                       | D8_ASD_384 | SPRY1      | FGF17-like | ASD  |  1.425529e-08 |  1.59178802 | 0.701 | 0.219 |  5.378950e-04 | ⋯ | Not in DB | Not in DB | protein_coding |  TRUE |    27 |   Inf | 4  | FALSE |  1.59178802 |  TRUE |\n",
       "| 16 | D8_ASD_384                       | D8_ASD_375 | WLS        | FGF17-like | Ctrl |  1.658967e-02 | -0.84957618 | 0.387 | 0.625 |  1.000000e+00 | ⋯ | Not in DB | Not in DB | protein_coding |  TRUE |   Inf |   298 | 1  | FALSE | -0.84957618 | FALSE |\n",
       "| 17 | D8_ASD_384                       | D8_ASD_384 | WLS        | FGF17-like | Ctrl |  3.377871e-07 | -1.62631883 | 0.048 | 0.625 |  1.274572e-02 | ⋯ | Not in DB | Not in DB | protein_coding |  TRUE |   Inf |    18 | 1  | FALSE | -1.62631883 |  TRUE |\n",
       "| 18 | D8_ASD_384                       | D8_ASD_494 | WLS        | FGF17-like | Ctrl |  8.515464e-01 | -0.17570394 | 0.679 | 0.625 |  1.000000e+00 | ⋯ | Not in DB | Not in DB | protein_coding |  TRUE |   Inf | 18626 | 1  | FALSE | -0.17570394 | FALSE |\n",
       "| 113200 | D8_ASD_375&amp;D8_ASD_384&amp;D8_ASD_494 | D8_ASD_375 | EIF1AY     | Mes prog   | ASD  | 5.754530e-112 |  0.77080555 | 0.478 | 0.040 | 2.171357e-107 | ⋯ | Not in DB | Not in DB | protein_coding |  TRUE |   606 |   Inf | Y  |  TRUE |  0.77080555 |  TRUE |\n",
       "| 113201 | D8_ASD_375&amp;D8_ASD_384&amp;D8_ASD_494 | D8_ASD_384 | EIF1AY     | Mes prog   | ASD  |  3.392059e-65 |  0.43731715 | 0.239 | 0.040 |  1.279926e-60 | ⋯ | Not in DB | Not in DB | protein_coding |  TRUE |  3304 |   Inf | Y  |  TRUE |  0.43731715 |  TRUE |\n",
       "| 113202 | D8_ASD_375&amp;D8_ASD_384&amp;D8_ASD_494 | D8_ASD_494 | EIF1AY     | Mes prog   | ASD  | 7.304610e-103 |  0.48328625 | 0.247 | 0.040 |  2.756249e-98 | ⋯ | Not in DB | Not in DB | protein_coding |  TRUE |  2494 |   Inf | Y  |  TRUE |  0.48328625 |  TRUE |\n",
       "| 113203 | D8_ASD_375&amp;D8_ASD_384&amp;D8_ASD_494 | D8_ASD_375 | MEG3       | Mes prog   | ASD  | 2.658315e-151 |  1.96999476 | 0.535 | 0.066 | 1.003062e-146 | ⋯ | Imprinted | Maternal  | lncRNA         | FALSE |    10 |   Inf | 14 | FALSE |  1.96999476 |  TRUE |\n",
       "| 113204 | D8_ASD_375&amp;D8_ASD_384&amp;D8_ASD_494 | D8_ASD_384 | MEG3       | Mes prog   | ASD  |  4.305348e-31 |  0.51594650 | 0.175 | 0.066 |  1.624537e-26 | ⋯ | Imprinted | Maternal  | lncRNA         | FALSE |  2053 |   Inf | 14 | FALSE |  0.51594650 |  TRUE |\n",
       "| 113205 | D8_ASD_375&amp;D8_ASD_384&amp;D8_ASD_494 | D8_ASD_494 | MEG3       | Mes prog   | ASD  |  3.505927e-53 |  0.52354547 | 0.177 | 0.066 |  1.322892e-48 | ⋯ | Imprinted | Maternal  | lncRNA         | FALSE |  1945 |   Inf | 14 | FALSE |  0.52354547 |  TRUE |\n",
       "| 113206 | D8_ASD_375&amp;D8_ASD_384            | D8_ASD_375 | IGDCC3     | Mes prog   | Ctrl |  2.216460e-28 | -0.52386032 | 0.304 | 0.502 |  8.363370e-24 | ⋯ | Not in DB | Not in DB | protein_coding |  TRUE |   Inf |  1611 | 15 | FALSE | -0.52386032 |  TRUE |\n",
       "| 113207 | D8_ASD_375&amp;D8_ASD_384            | D8_ASD_384 | IGDCC3     | Mes prog   | Ctrl |  1.731685e-78 | -0.64228064 | 0.199 | 0.502 |  6.534167e-74 | ⋯ | Not in DB | Not in DB | protein_coding |  TRUE |   Inf |   815 | 15 | FALSE | -0.64228064 |  TRUE |\n",
       "| 113208 | D8_ASD_375&amp;D8_ASD_384            | D8_ASD_375 | TAGLN      | Mes prog   | ASD  |  2.902237e-17 |  0.68830288 | 0.905 | 0.849 |  1.095101e-12 | ⋯ | Not in DB | Not in DB | protein_coding |  TRUE |   896 |   Inf | 11 | FALSE |  0.68830288 |  TRUE |\n",
       "| 113209 | D8_ASD_375&amp;D8_ASD_384            | D8_ASD_384 | TAGLN      | Mes prog   | ASD  |  1.270721e-48 |  0.87807818 | 0.917 | 0.849 |  4.794811e-44 | ⋯ | Not in DB | Not in DB | protein_coding |  TRUE |   372 |   Inf | 11 | FALSE |  0.87807818 |  TRUE |\n",
       "| 113210 | D8_ASD_375&amp;D8_ASD_384            | D8_ASD_375 | ZNF528-AS1 | Mes prog   | ASD  |  4.404637e-40 |  0.41037411 | 0.292 | 0.062 |  1.662002e-35 | ⋯ | Not in DB | Not in DB | lncRNA         | FALSE |  3907 |   Inf | 19 | FALSE |  0.41037411 |  TRUE |\n",
       "| 113211 | D8_ASD_375&amp;D8_ASD_384            | D8_ASD_384 | ZNF528-AS1 | Mes prog   | ASD  |  7.478380e-87 |  0.59388264 | 0.329 | 0.062 |  2.821817e-82 | ⋯ | Not in DB | Not in DB | lncRNA         | FALSE |  1380 |   Inf | 19 | FALSE |  0.59388264 |  TRUE |\n",
       "| ⋮ | ⋮ | ⋮ | ⋮ | ⋮ | ⋮ | ⋮ | ⋮ | ⋮ | ⋮ | ⋮ | ⋱ | ⋮ | ⋮ | ⋮ | ⋮ | ⋮ | ⋮ | ⋮ | ⋮ | ⋮ | ⋮ |\n",
       "| 566080 | D8_ASD_494 | D8_ASD_375 | SEC61G | Neuron | Ctrl | 8.220362e-02 | -0.35789369 | 0.585 | 0.667 | 1.000000e+00 | ⋯ | Not in DB     | Not in DB | protein_coding |  TRUE |   Inf |  4785 | 7  | FALSE | -0.35789369 | FALSE |\n",
       "| 566081 | D8_ASD_494 | D8_ASD_384 | SEC61G | Neuron | Ctrl | 1.241454e-01 | -0.66263541 | 0.500 | 0.667 | 1.000000e+00 | ⋯ | Not in DB     | Not in DB | protein_coding |  TRUE |   Inf |   740 | 7  | FALSE | -0.66263541 | FALSE |\n",
       "| 566082 | D8_ASD_494 | D8_ASD_494 | SEC61G | Neuron | Ctrl | 8.058250e-09 | -0.52174608 | 0.443 | 0.667 | 3.040619e-04 | ⋯ | Not in DB     | Not in DB | protein_coding |  TRUE |   Inf |  1636 | 7  | FALSE | -0.52174608 |  TRUE |\n",
       "| 566083 | D8_ASD_494 | D8_ASD_375 | SNHG5  | Neuron | Ctrl | 3.832999e-01 | -0.34427048 | 0.677 | 0.559 | 1.000000e+00 | ⋯ | Not in DB     | Not in DB | lncRNA         | FALSE |   Inf |  5280 | 6  | FALSE | -0.34427048 | FALSE |\n",
       "| 566084 | D8_ASD_494 | D8_ASD_384 | SNHG5  | Neuron | Ctrl | 3.283340e-01 | -0.43923006 | 0.583 | 0.559 | 1.000000e+00 | ⋯ | Not in DB     | Not in DB | lncRNA         | FALSE |   Inf |  2773 | 6  | FALSE | -0.43923006 | FALSE |\n",
       "| 566085 | D8_ASD_494 | D8_ASD_494 | SNHG5  | Neuron | Ctrl | 3.492036e-26 | -1.36899578 | 0.168 | 0.559 | 1.317650e-21 | ⋯ | Not in DB     | Not in DB | lncRNA         | FALSE |   Inf |    36 | 6  | FALSE | -1.36899578 |  TRUE |\n",
       "| 566086 | D8_ASD_494 | D8_ASD_375 | SNRPF  | Neuron | Ctrl | 2.742604e-01 | -0.20196223 | 0.738 | 0.778 | 1.000000e+00 | ⋯ | Not in DB     | Not in DB | protein_coding |  TRUE |   Inf | 15063 | 12 | FALSE | -0.20196223 | FALSE |\n",
       "| 566087 | D8_ASD_494 | D8_ASD_384 | SNRPF  | Neuron | Ctrl | 4.894163e-01 | -0.75273781 | 0.667 | 0.778 | 1.000000e+00 | ⋯ | Not in DB     | Not in DB | protein_coding |  TRUE |   Inf |   479 | 12 | FALSE | -0.75273781 | FALSE |\n",
       "| 566088 | D8_ASD_494 | D8_ASD_494 | SNRPF  | Neuron | Ctrl | 6.149457e-09 | -0.53719354 | 0.584 | 0.778 | 2.320375e-04 | ⋯ | Not in DB     | Not in DB | protein_coding |  TRUE |   Inf |  1461 | 12 | FALSE | -0.53719354 |  TRUE |\n",
       "| 566089 | D8_ASD_494 | D8_ASD_384 | SOX2   | Neuron | Ctrl | 6.816992e-01 | -0.07056003 | 0.750 | 0.774 | 1.000000e+00 | ⋯ | Not in DB     | Not in DB | protein_coding |  TRUE |   Inf | 49466 | 3  | FALSE | -0.07056003 | FALSE |\n",
       "| 566090 | D8_ASD_494 | D8_ASD_494 | SOX2   | Neuron | Ctrl | 9.020251e-07 | -0.46501162 | 0.600 | 0.774 | 3.403611e-02 | ⋯ | Not in DB     | Not in DB | protein_coding |  TRUE |   Inf |  2321 | 3  | FALSE | -0.46501162 |  TRUE |\n",
       "| 566091 | D8_ASD_494 | D8_ASD_384 | SPEGNB | Neuron | ASD  | 2.317993e-01 |  0.12719243 | 0.083 | 0.026 | 1.000000e+00 | ⋯ | Not in DB     | Not in DB | protein_coding |  TRUE | 25440 |   Inf | 2  | FALSE |  0.12719243 | FALSE |\n",
       "| 566092 | D8_ASD_494 | D8_ASD_494 | SPEGNB | Neuron | ASD  | 4.809227e-07 |  0.47320612 | 0.116 | 0.026 | 1.814666e-02 | ⋯ | Not in DB     | Not in DB | protein_coding |  TRUE |  2641 |   Inf | 2  | FALSE |  0.47320612 |  TRUE |\n",
       "| 566093 | D8_ASD_494 | D8_ASD_375 | STRAP  | Neuron | Ctrl | 7.619041e-01 | -0.08039598 | 0.692 | 0.700 | 1.000000e+00 | ⋯ | Not in DB     | Not in DB | protein_coding |  TRUE |   Inf | 44199 | 12 | FALSE | -0.08039598 | FALSE |\n",
       "| 566094 | D8_ASD_494 | D8_ASD_384 | STRAP  | Neuron | Ctrl | 1.330348e-01 | -0.39437775 | 0.583 | 0.700 | 1.000000e+00 | ⋯ | Not in DB     | Not in DB | protein_coding |  TRUE |   Inf |  3756 | 12 | FALSE | -0.39437775 | FALSE |\n",
       "| 566095 | D8_ASD_494 | D8_ASD_494 | STRAP  | Neuron | Ctrl | 1.476223e-08 | -0.46566023 | 0.497 | 0.700 | 5.570232e-04 | ⋯ | Not in DB     | Not in DB | protein_coding |  TRUE |   Inf |  2310 | 12 | FALSE | -0.46566023 |  TRUE |\n",
       "| 566096 | D8_ASD_494 | D8_ASD_384 | TPBG   | Neuron | Ctrl | 1.074606e-02 | -2.01752026 | 0.167 | 0.681 | 1.000000e+00 | ⋯ | Not in DB     | Not in DB | protein_coding |  TRUE |   Inf |     6 | 6  | FALSE | -2.01752026 | FALSE |\n",
       "| 566097 | D8_ASD_494 | D8_ASD_494 | TPBG   | Neuron | Ctrl | 1.443624e-09 | -0.70630029 | 0.454 | 0.681 | 5.447225e-05 | ⋯ | Not in DB     | Not in DB | protein_coding |  TRUE |   Inf |   589 | 6  | FALSE | -0.70630029 |  TRUE |\n",
       "| 566098 | D8_ASD_494 | D8_ASD_375 | TPI1   | Neuron | ASD  | 6.356882e-01 |  0.03745301 | 0.877 | 0.830 | 1.000000e+00 | ⋯ | Not in DB     | Not in DB | protein_coding |  TRUE | 62655 |   Inf | 12 | FALSE |  0.03745301 | FALSE |\n",
       "| 566099 | D8_ASD_494 | D8_ASD_384 | TPI1   | Neuron | ASD  | 1.224679e-01 |  0.49822464 | 0.917 | 0.830 | 1.000000e+00 | ⋯ | Not in DB     | Not in DB | protein_coding |  TRUE |  2266 |   Inf | 12 | FALSE |  0.49822464 | FALSE |\n",
       "| 566100 | D8_ASD_494 | D8_ASD_494 | TPI1   | Neuron | ASD  | 8.386408e-10 |  0.69313934 | 0.892 | 0.830 | 3.164443e-05 | ⋯ | Not in DB     | Not in DB | protein_coding |  TRUE |   872 |   Inf | 12 | FALSE |  0.69313934 |  TRUE |\n",
       "| 566101 | D8_ASD_494 | D8_ASD_375 | VIM    | Neuron | Ctrl | 9.480798e-01 | -0.20307508 | 0.923 | 0.852 | 1.000000e+00 | ⋯ | Not in DB     | Not in DB | protein_coding |  TRUE |   Inf | 14952 | 10 | FALSE | -0.20307508 | FALSE |\n",
       "| 566102 | D8_ASD_494 | D8_ASD_384 | VIM    | Neuron | Ctrl | 2.720707e-01 | -0.57875546 | 0.917 | 0.852 | 1.000000e+00 | ⋯ | Not in DB     | Not in DB | protein_coding |  TRUE |   Inf |  1150 | 10 | FALSE | -0.57875546 | FALSE |\n",
       "| 566103 | D8_ASD_494 | D8_ASD_494 | VIM    | Neuron | Ctrl | 8.036771e-12 | -0.80861521 | 0.689 | 0.852 | 3.032515e-07 | ⋯ | Not in DB     | Not in DB | protein_coding |  TRUE |   Inf |   372 | 10 | FALSE | -0.80861521 |  TRUE |\n",
       "| 566104 | D8_ASD_494 | D8_ASD_375 | XIST   | Neuron | Ctrl | 1.262309e-04 | -1.02444314 | 0.000 | 0.170 | 1.000000e+00 | ⋯ | Not Imprinted | Biallelic | lncRNA         | FALSE |   Inf |   140 | X  |  TRUE | -1.02444314 | FALSE |\n",
       "| 566105 | D8_ASD_494 | D8_ASD_384 | XIST   | Neuron | Ctrl | 1.000000e+00 | -1.02444314 | 0.000 | 0.170 | 1.000000e+00 | ⋯ | Not Imprinted | Biallelic | lncRNA         | FALSE |   Inf |   140 | X  |  TRUE | -1.02444314 | FALSE |\n",
       "| 566106 | D8_ASD_494 | D8_ASD_494 | XIST   | Neuron | Ctrl | 1.586638e-16 | -1.02444314 | 0.000 | 0.170 | 5.986862e-12 | ⋯ | Not Imprinted | Biallelic | lncRNA         | FALSE |   Inf |   140 | X  |  TRUE | -1.02444314 |  TRUE |\n",
       "| 566107 | D8_ASD_494 | D8_ASD_375 | YBX3   | Neuron | Ctrl | 6.738589e-01 | -0.19082949 | 0.323 | 0.385 | 1.000000e+00 | ⋯ | Not in DB     | Not in DB | protein_coding |  TRUE |   Inf | 16458 | 12 | FALSE | -0.19082949 | FALSE |\n",
       "| 566108 | D8_ASD_494 | D8_ASD_384 | YBX3   | Neuron | Ctrl | 2.400862e-01 | -0.30022806 | 0.333 | 0.385 | 1.000000e+00 | ⋯ | Not in DB     | Not in DB | protein_coding |  TRUE |   Inf |  7263 | 12 | FALSE | -0.30022806 | FALSE |\n",
       "| 566109 | D8_ASD_494 | D8_ASD_494 | YBX3   | Neuron | Ctrl | 6.491612e-08 | -0.46688104 | 0.173 | 0.385 | 2.449480e-03 | ⋯ | Not in DB     | Not in DB | protein_coding |  TRUE |   Inf |  2292 | 12 | FALSE | -0.46688104 |  TRUE |\n",
       "\n"
      ],
      "text/plain": [
       "       matching.donors                  donor      gene       anno_cluster_fct\n",
       "1      D8_ASD_375                       D8_ASD_375 NNAT       FGF17-like      \n",
       "2      D8_ASD_384                       D8_ASD_375 CSRP2      FGF17-like      \n",
       "3      D8_ASD_384                       D8_ASD_384 CSRP2      FGF17-like      \n",
       "4      D8_ASD_384                       D8_ASD_494 CSRP2      FGF17-like      \n",
       "5      D8_ASD_384                       D8_ASD_375 FGF8       FGF17-like      \n",
       "6      D8_ASD_384                       D8_ASD_384 FGF8       FGF17-like      \n",
       "7      D8_ASD_384                       D8_ASD_494 FGF8       FGF17-like      \n",
       "8      D8_ASD_384                       D8_ASD_375 FZD5       FGF17-like      \n",
       "9      D8_ASD_384                       D8_ASD_384 FZD5       FGF17-like      \n",
       "10     D8_ASD_384                       D8_ASD_375 SFRP1      FGF17-like      \n",
       "11     D8_ASD_384                       D8_ASD_384 SFRP1      FGF17-like      \n",
       "12     D8_ASD_384                       D8_ASD_375 SIX3       FGF17-like      \n",
       "13     D8_ASD_384                       D8_ASD_384 SIX3       FGF17-like      \n",
       "14     D8_ASD_384                       D8_ASD_375 SPRY1      FGF17-like      \n",
       "15     D8_ASD_384                       D8_ASD_384 SPRY1      FGF17-like      \n",
       "16     D8_ASD_384                       D8_ASD_375 WLS        FGF17-like      \n",
       "17     D8_ASD_384                       D8_ASD_384 WLS        FGF17-like      \n",
       "18     D8_ASD_384                       D8_ASD_494 WLS        FGF17-like      \n",
       "113200 D8_ASD_375&D8_ASD_384&D8_ASD_494 D8_ASD_375 EIF1AY     Mes prog        \n",
       "113201 D8_ASD_375&D8_ASD_384&D8_ASD_494 D8_ASD_384 EIF1AY     Mes prog        \n",
       "113202 D8_ASD_375&D8_ASD_384&D8_ASD_494 D8_ASD_494 EIF1AY     Mes prog        \n",
       "113203 D8_ASD_375&D8_ASD_384&D8_ASD_494 D8_ASD_375 MEG3       Mes prog        \n",
       "113204 D8_ASD_375&D8_ASD_384&D8_ASD_494 D8_ASD_384 MEG3       Mes prog        \n",
       "113205 D8_ASD_375&D8_ASD_384&D8_ASD_494 D8_ASD_494 MEG3       Mes prog        \n",
       "113206 D8_ASD_375&D8_ASD_384            D8_ASD_375 IGDCC3     Mes prog        \n",
       "113207 D8_ASD_375&D8_ASD_384            D8_ASD_384 IGDCC3     Mes prog        \n",
       "113208 D8_ASD_375&D8_ASD_384            D8_ASD_375 TAGLN      Mes prog        \n",
       "113209 D8_ASD_375&D8_ASD_384            D8_ASD_384 TAGLN      Mes prog        \n",
       "113210 D8_ASD_375&D8_ASD_384            D8_ASD_375 ZNF528-AS1 Mes prog        \n",
       "113211 D8_ASD_375&D8_ASD_384            D8_ASD_384 ZNF528-AS1 Mes prog        \n",
       "⋮      ⋮                                ⋮          ⋮          ⋮               \n",
       "566080 D8_ASD_494                       D8_ASD_375 SEC61G     Neuron          \n",
       "566081 D8_ASD_494                       D8_ASD_384 SEC61G     Neuron          \n",
       "566082 D8_ASD_494                       D8_ASD_494 SEC61G     Neuron          \n",
       "566083 D8_ASD_494                       D8_ASD_375 SNHG5      Neuron          \n",
       "566084 D8_ASD_494                       D8_ASD_384 SNHG5      Neuron          \n",
       "566085 D8_ASD_494                       D8_ASD_494 SNHG5      Neuron          \n",
       "566086 D8_ASD_494                       D8_ASD_375 SNRPF      Neuron          \n",
       "566087 D8_ASD_494                       D8_ASD_384 SNRPF      Neuron          \n",
       "566088 D8_ASD_494                       D8_ASD_494 SNRPF      Neuron          \n",
       "566089 D8_ASD_494                       D8_ASD_384 SOX2       Neuron          \n",
       "566090 D8_ASD_494                       D8_ASD_494 SOX2       Neuron          \n",
       "566091 D8_ASD_494                       D8_ASD_384 SPEGNB     Neuron          \n",
       "566092 D8_ASD_494                       D8_ASD_494 SPEGNB     Neuron          \n",
       "566093 D8_ASD_494                       D8_ASD_375 STRAP      Neuron          \n",
       "566094 D8_ASD_494                       D8_ASD_384 STRAP      Neuron          \n",
       "566095 D8_ASD_494                       D8_ASD_494 STRAP      Neuron          \n",
       "566096 D8_ASD_494                       D8_ASD_384 TPBG       Neuron          \n",
       "566097 D8_ASD_494                       D8_ASD_494 TPBG       Neuron          \n",
       "566098 D8_ASD_494                       D8_ASD_375 TPI1       Neuron          \n",
       "566099 D8_ASD_494                       D8_ASD_384 TPI1       Neuron          \n",
       "566100 D8_ASD_494                       D8_ASD_494 TPI1       Neuron          \n",
       "566101 D8_ASD_494                       D8_ASD_375 VIM        Neuron          \n",
       "566102 D8_ASD_494                       D8_ASD_384 VIM        Neuron          \n",
       "566103 D8_ASD_494                       D8_ASD_494 VIM        Neuron          \n",
       "566104 D8_ASD_494                       D8_ASD_375 XIST       Neuron          \n",
       "566105 D8_ASD_494                       D8_ASD_384 XIST       Neuron          \n",
       "566106 D8_ASD_494                       D8_ASD_494 XIST       Neuron          \n",
       "566107 D8_ASD_494                       D8_ASD_375 YBX3       Neuron          \n",
       "566108 D8_ASD_494                       D8_ASD_384 YBX3       Neuron          \n",
       "566109 D8_ASD_494                       D8_ASD_494 YBX3       Neuron          \n",
       "       overexpressed.in p_val         avg_log2FC  pct.1 pct.2 p_val_adj     ⋯\n",
       "1      Ctrl              9.786744e-12 -1.88104826 0.000 0.750  3.692832e-07 ⋯\n",
       "2      ASD               5.039917e-02  0.63652145 0.839 0.781  1.000000e+00 ⋯\n",
       "3      ASD               5.248847e-07  0.94249968 0.966 0.781  1.980548e-02 ⋯\n",
       "4      ASD               5.538582e-01  0.01286255 0.808 0.781  1.000000e+00 ⋯\n",
       "5      ASD               2.668402e-05  0.92950781 0.355 0.000  1.000000e+00 ⋯\n",
       "6      ASD               1.399141e-08  1.54070324 0.558 0.000  5.279377e-04 ⋯\n",
       "7      ASD               3.796737e-02  0.11542748 0.051 0.000  1.000000e+00 ⋯\n",
       "8      ASD               4.050033e-03  0.58516809 0.419 0.125  1.000000e+00 ⋯\n",
       "9      ASD               2.885716e-10  1.54827818 0.694 0.125  1.088867e-05 ⋯\n",
       "10     ASD               7.200298e-02  0.37547466 0.871 0.719  1.000000e+00 ⋯\n",
       "11     ASD               1.233532e-07  1.65719135 0.980 0.719  4.654485e-03 ⋯\n",
       "12     ASD               1.117304e-04  0.96742824 0.484 0.094  1.000000e+00 ⋯\n",
       "13     ASD               1.940362e-13  2.17974669 0.823 0.094  7.321567e-09 ⋯\n",
       "14     ASD               1.227639e-02  0.67526205 0.452 0.219  1.000000e+00 ⋯\n",
       "15     ASD               1.425529e-08  1.59178802 0.701 0.219  5.378950e-04 ⋯\n",
       "16     Ctrl              1.658967e-02 -0.84957618 0.387 0.625  1.000000e+00 ⋯\n",
       "17     Ctrl              3.377871e-07 -1.62631883 0.048 0.625  1.274572e-02 ⋯\n",
       "18     Ctrl              8.515464e-01 -0.17570394 0.679 0.625  1.000000e+00 ⋯\n",
       "113200 ASD              5.754530e-112  0.77080555 0.478 0.040 2.171357e-107 ⋯\n",
       "113201 ASD               3.392059e-65  0.43731715 0.239 0.040  1.279926e-60 ⋯\n",
       "113202 ASD              7.304610e-103  0.48328625 0.247 0.040  2.756249e-98 ⋯\n",
       "113203 ASD              2.658315e-151  1.96999476 0.535 0.066 1.003062e-146 ⋯\n",
       "113204 ASD               4.305348e-31  0.51594650 0.175 0.066  1.624537e-26 ⋯\n",
       "113205 ASD               3.505927e-53  0.52354547 0.177 0.066  1.322892e-48 ⋯\n",
       "113206 Ctrl              2.216460e-28 -0.52386032 0.304 0.502  8.363370e-24 ⋯\n",
       "113207 Ctrl              1.731685e-78 -0.64228064 0.199 0.502  6.534167e-74 ⋯\n",
       "113208 ASD               2.902237e-17  0.68830288 0.905 0.849  1.095101e-12 ⋯\n",
       "113209 ASD               1.270721e-48  0.87807818 0.917 0.849  4.794811e-44 ⋯\n",
       "113210 ASD               4.404637e-40  0.41037411 0.292 0.062  1.662002e-35 ⋯\n",
       "113211 ASD               7.478380e-87  0.59388264 0.329 0.062  2.821817e-82 ⋯\n",
       "⋮      ⋮                ⋮             ⋮           ⋮     ⋮     ⋮             ⋱\n",
       "566080 Ctrl             8.220362e-02  -0.35789369 0.585 0.667 1.000000e+00  ⋯\n",
       "566081 Ctrl             1.241454e-01  -0.66263541 0.500 0.667 1.000000e+00  ⋯\n",
       "566082 Ctrl             8.058250e-09  -0.52174608 0.443 0.667 3.040619e-04  ⋯\n",
       "566083 Ctrl             3.832999e-01  -0.34427048 0.677 0.559 1.000000e+00  ⋯\n",
       "566084 Ctrl             3.283340e-01  -0.43923006 0.583 0.559 1.000000e+00  ⋯\n",
       "566085 Ctrl             3.492036e-26  -1.36899578 0.168 0.559 1.317650e-21  ⋯\n",
       "566086 Ctrl             2.742604e-01  -0.20196223 0.738 0.778 1.000000e+00  ⋯\n",
       "566087 Ctrl             4.894163e-01  -0.75273781 0.667 0.778 1.000000e+00  ⋯\n",
       "566088 Ctrl             6.149457e-09  -0.53719354 0.584 0.778 2.320375e-04  ⋯\n",
       "566089 Ctrl             6.816992e-01  -0.07056003 0.750 0.774 1.000000e+00  ⋯\n",
       "566090 Ctrl             9.020251e-07  -0.46501162 0.600 0.774 3.403611e-02  ⋯\n",
       "566091 ASD              2.317993e-01   0.12719243 0.083 0.026 1.000000e+00  ⋯\n",
       "566092 ASD              4.809227e-07   0.47320612 0.116 0.026 1.814666e-02  ⋯\n",
       "566093 Ctrl             7.619041e-01  -0.08039598 0.692 0.700 1.000000e+00  ⋯\n",
       "566094 Ctrl             1.330348e-01  -0.39437775 0.583 0.700 1.000000e+00  ⋯\n",
       "566095 Ctrl             1.476223e-08  -0.46566023 0.497 0.700 5.570232e-04  ⋯\n",
       "566096 Ctrl             1.074606e-02  -2.01752026 0.167 0.681 1.000000e+00  ⋯\n",
       "566097 Ctrl             1.443624e-09  -0.70630029 0.454 0.681 5.447225e-05  ⋯\n",
       "566098 ASD              6.356882e-01   0.03745301 0.877 0.830 1.000000e+00  ⋯\n",
       "566099 ASD              1.224679e-01   0.49822464 0.917 0.830 1.000000e+00  ⋯\n",
       "566100 ASD              8.386408e-10   0.69313934 0.892 0.830 3.164443e-05  ⋯\n",
       "566101 Ctrl             9.480798e-01  -0.20307508 0.923 0.852 1.000000e+00  ⋯\n",
       "566102 Ctrl             2.720707e-01  -0.57875546 0.917 0.852 1.000000e+00  ⋯\n",
       "566103 Ctrl             8.036771e-12  -0.80861521 0.689 0.852 3.032515e-07  ⋯\n",
       "566104 Ctrl             1.262309e-04  -1.02444314 0.000 0.170 1.000000e+00  ⋯\n",
       "566105 Ctrl             1.000000e+00  -1.02444314 0.000 0.170 1.000000e+00  ⋯\n",
       "566106 Ctrl             1.586638e-16  -1.02444314 0.000 0.170 5.986862e-12  ⋯\n",
       "566107 Ctrl             6.738589e-01  -0.19082949 0.323 0.385 1.000000e+00  ⋯\n",
       "566108 Ctrl             2.400862e-01  -0.30022806 0.333 0.385 1.000000e+00  ⋯\n",
       "566109 Ctrl             6.491612e-08  -0.46688104 0.173 0.385 2.449480e-03  ⋯\n",
       "       Imprinted.Status Expressed.Allele gene_biotype   protein_coding rank.ASD\n",
       "1      Imprinted        Paternal         protein_coding  TRUE            Inf   \n",
       "2      Not in DB        Not in DB        protein_coding  TRUE           1130   \n",
       "3      Not in DB        Not in DB        protein_coding  TRUE            272   \n",
       "4      Not in DB        Not in DB        protein_coding  TRUE          95527   \n",
       "5      Not in DB        Not in DB        protein_coding  TRUE            292   \n",
       "6      Not in DB        Not in DB        protein_coding  TRUE             34   \n",
       "7      Not in DB        Not in DB        protein_coding  TRUE          28046   \n",
       "8      Not in DB        Not in DB        protein_coding  TRUE           1446   \n",
       "9      Not in DB        Not in DB        protein_coding  TRUE             32   \n",
       "10     Not in DB        Not in DB        protein_coding  TRUE           4780   \n",
       "11     Not in DB        Not in DB        protein_coding  TRUE             23   \n",
       "12     Not in DB        Not in DB        protein_coding  TRUE            241   \n",
       "13     Not in DB        Not in DB        protein_coding  TRUE              5   \n",
       "14     Not in DB        Not in DB        protein_coding  TRUE            950   \n",
       "15     Not in DB        Not in DB        protein_coding  TRUE             27   \n",
       "16     Not in DB        Not in DB        protein_coding  TRUE            Inf   \n",
       "17     Not in DB        Not in DB        protein_coding  TRUE            Inf   \n",
       "18     Not in DB        Not in DB        protein_coding  TRUE            Inf   \n",
       "113200 Not in DB        Not in DB        protein_coding  TRUE            606   \n",
       "113201 Not in DB        Not in DB        protein_coding  TRUE           3304   \n",
       "113202 Not in DB        Not in DB        protein_coding  TRUE           2494   \n",
       "113203 Imprinted        Maternal         lncRNA         FALSE             10   \n",
       "113204 Imprinted        Maternal         lncRNA         FALSE           2053   \n",
       "113205 Imprinted        Maternal         lncRNA         FALSE           1945   \n",
       "113206 Not in DB        Not in DB        protein_coding  TRUE            Inf   \n",
       "113207 Not in DB        Not in DB        protein_coding  TRUE            Inf   \n",
       "113208 Not in DB        Not in DB        protein_coding  TRUE            896   \n",
       "113209 Not in DB        Not in DB        protein_coding  TRUE            372   \n",
       "113210 Not in DB        Not in DB        lncRNA         FALSE           3907   \n",
       "113211 Not in DB        Not in DB        lncRNA         FALSE           1380   \n",
       "⋮      ⋮                ⋮                ⋮              ⋮              ⋮       \n",
       "566080 Not in DB        Not in DB        protein_coding  TRUE            Inf   \n",
       "566081 Not in DB        Not in DB        protein_coding  TRUE            Inf   \n",
       "566082 Not in DB        Not in DB        protein_coding  TRUE            Inf   \n",
       "566083 Not in DB        Not in DB        lncRNA         FALSE            Inf   \n",
       "566084 Not in DB        Not in DB        lncRNA         FALSE            Inf   \n",
       "566085 Not in DB        Not in DB        lncRNA         FALSE            Inf   \n",
       "566086 Not in DB        Not in DB        protein_coding  TRUE            Inf   \n",
       "566087 Not in DB        Not in DB        protein_coding  TRUE            Inf   \n",
       "566088 Not in DB        Not in DB        protein_coding  TRUE            Inf   \n",
       "566089 Not in DB        Not in DB        protein_coding  TRUE            Inf   \n",
       "566090 Not in DB        Not in DB        protein_coding  TRUE            Inf   \n",
       "566091 Not in DB        Not in DB        protein_coding  TRUE          25440   \n",
       "566092 Not in DB        Not in DB        protein_coding  TRUE           2641   \n",
       "566093 Not in DB        Not in DB        protein_coding  TRUE            Inf   \n",
       "566094 Not in DB        Not in DB        protein_coding  TRUE            Inf   \n",
       "566095 Not in DB        Not in DB        protein_coding  TRUE            Inf   \n",
       "566096 Not in DB        Not in DB        protein_coding  TRUE            Inf   \n",
       "566097 Not in DB        Not in DB        protein_coding  TRUE            Inf   \n",
       "566098 Not in DB        Not in DB        protein_coding  TRUE          62655   \n",
       "566099 Not in DB        Not in DB        protein_coding  TRUE           2266   \n",
       "566100 Not in DB        Not in DB        protein_coding  TRUE            872   \n",
       "566101 Not in DB        Not in DB        protein_coding  TRUE            Inf   \n",
       "566102 Not in DB        Not in DB        protein_coding  TRUE            Inf   \n",
       "566103 Not in DB        Not in DB        protein_coding  TRUE            Inf   \n",
       "566104 Not Imprinted    Biallelic        lncRNA         FALSE            Inf   \n",
       "566105 Not Imprinted    Biallelic        lncRNA         FALSE            Inf   \n",
       "566106 Not Imprinted    Biallelic        lncRNA         FALSE            Inf   \n",
       "566107 Not in DB        Not in DB        protein_coding  TRUE            Inf   \n",
       "566108 Not in DB        Not in DB        protein_coding  TRUE            Inf   \n",
       "566109 Not in DB        Not in DB        protein_coding  TRUE            Inf   \n",
       "       rank.Ctrl chromosome in.sex_chr logfc       filter.over.max\n",
       "1          9     20         FALSE      -1.88104826  TRUE          \n",
       "2        Inf     12         FALSE       0.63652145 FALSE          \n",
       "3        Inf     12         FALSE       0.94249968  TRUE          \n",
       "4        Inf     12         FALSE       0.01286255 FALSE          \n",
       "5        Inf     10         FALSE       0.92950781 FALSE          \n",
       "6        Inf     10         FALSE       1.54070324  TRUE          \n",
       "7        Inf     10         FALSE       0.11542748 FALSE          \n",
       "8        Inf     2          FALSE       0.58516809 FALSE          \n",
       "9        Inf     2          FALSE       1.54827818  TRUE          \n",
       "10       Inf     8          FALSE       0.37547466 FALSE          \n",
       "11       Inf     8          FALSE       1.65719135  TRUE          \n",
       "12       Inf     2          FALSE       0.96742824 FALSE          \n",
       "13       Inf     2          FALSE       2.17974669  TRUE          \n",
       "14       Inf     4          FALSE       0.67526205 FALSE          \n",
       "15       Inf     4          FALSE       1.59178802  TRUE          \n",
       "16       298     1          FALSE      -0.84957618 FALSE          \n",
       "17        18     1          FALSE      -1.62631883  TRUE          \n",
       "18     18626     1          FALSE      -0.17570394 FALSE          \n",
       "113200   Inf     Y           TRUE       0.77080555  TRUE          \n",
       "113201   Inf     Y           TRUE       0.43731715  TRUE          \n",
       "113202   Inf     Y           TRUE       0.48328625  TRUE          \n",
       "113203   Inf     14         FALSE       1.96999476  TRUE          \n",
       "113204   Inf     14         FALSE       0.51594650  TRUE          \n",
       "113205   Inf     14         FALSE       0.52354547  TRUE          \n",
       "113206  1611     15         FALSE      -0.52386032  TRUE          \n",
       "113207   815     15         FALSE      -0.64228064  TRUE          \n",
       "113208   Inf     11         FALSE       0.68830288  TRUE          \n",
       "113209   Inf     11         FALSE       0.87807818  TRUE          \n",
       "113210   Inf     19         FALSE       0.41037411  TRUE          \n",
       "113211   Inf     19         FALSE       0.59388264  TRUE          \n",
       "⋮      ⋮         ⋮          ⋮          ⋮           ⋮              \n",
       "566080  4785     7          FALSE      -0.35789369 FALSE          \n",
       "566081   740     7          FALSE      -0.66263541 FALSE          \n",
       "566082  1636     7          FALSE      -0.52174608  TRUE          \n",
       "566083  5280     6          FALSE      -0.34427048 FALSE          \n",
       "566084  2773     6          FALSE      -0.43923006 FALSE          \n",
       "566085    36     6          FALSE      -1.36899578  TRUE          \n",
       "566086 15063     12         FALSE      -0.20196223 FALSE          \n",
       "566087   479     12         FALSE      -0.75273781 FALSE          \n",
       "566088  1461     12         FALSE      -0.53719354  TRUE          \n",
       "566089 49466     3          FALSE      -0.07056003 FALSE          \n",
       "566090  2321     3          FALSE      -0.46501162  TRUE          \n",
       "566091   Inf     2          FALSE       0.12719243 FALSE          \n",
       "566092   Inf     2          FALSE       0.47320612  TRUE          \n",
       "566093 44199     12         FALSE      -0.08039598 FALSE          \n",
       "566094  3756     12         FALSE      -0.39437775 FALSE          \n",
       "566095  2310     12         FALSE      -0.46566023  TRUE          \n",
       "566096     6     6          FALSE      -2.01752026 FALSE          \n",
       "566097   589     6          FALSE      -0.70630029  TRUE          \n",
       "566098   Inf     12         FALSE       0.03745301 FALSE          \n",
       "566099   Inf     12         FALSE       0.49822464 FALSE          \n",
       "566100   Inf     12         FALSE       0.69313934  TRUE          \n",
       "566101 14952     10         FALSE      -0.20307508 FALSE          \n",
       "566102  1150     10         FALSE      -0.57875546 FALSE          \n",
       "566103   372     10         FALSE      -0.80861521  TRUE          \n",
       "566104   140     X           TRUE      -1.02444314 FALSE          \n",
       "566105   140     X           TRUE      -1.02444314 FALSE          \n",
       "566106   140     X           TRUE      -1.02444314  TRUE          \n",
       "566107 16458     12         FALSE      -0.19082949 FALSE          \n",
       "566108  7263     12         FALSE      -0.30022806 FALSE          \n",
       "566109  2292     12         FALSE      -0.46688104  TRUE          "
      ]
     },
     "metadata": {},
     "output_type": "display_data"
    }
   ],
   "source": [
    "crossed.res <- filt.res.donors\n",
    "\n",
    "filt <- 'filter.over.max'\n",
    "int.levels <- c( 'D8_ASD_375&D8_ASD_384&D8_ASD_494', 'D8_ASD_375&D8_ASD_384', 'D8_ASD_375&D8_ASD_494', 'D8_ASD_384&D8_ASD_494', 'D8_ASD_375', 'D8_ASD_384', 'D8_ASD_494')\n",
    "\n",
    "filt.dat <- filt.res.donors[filt.res.donors[, filt],] %>% mutate(donor=factor(as.character(donor), donors))\n",
    "bias_ct_donor.markers <- split(filt.dat,\n",
    "                               apply(filt.dat[c('overexpressed.in', 'anno_cluster_fct')], 1, paste, collapse='...'))\n",
    "\n",
    "all_intersections <- data.frame()\n",
    "for (g in names(bias_ct_donor.markers)){\n",
    "\n",
    "    donor.marker.split <- split(bias_ct_donor.markers[[g]]$gene, bias_ct_donor.markers[[g]]$donor) \n",
    "    intersections <-get_presence_table(donor.marker.split)%>% get_intersections(return.as='data.frame')\n",
    "    intersections$gene <- rownames(intersections)\n",
    "    strsplit(g, split='...', fixed=T)[[1]] -> bias.ct\n",
    "    intersections <- intersections %>% mutate(overexpressed.in=bias.ct[1], anno_cluster_fct=bias.ct[2])\n",
    "    colnames(intersections)[colnames(intersections)=='int.stat'] <- paste0(filt, '.crossed')\n",
    "    all_intersections <- rbind(all_intersections, intersections) %>% as.data.frame\n",
    "}\n",
    "\n",
    "print(dim(all_intersections))\n",
    "crossed.res <- merge(crossed.res, all_intersections[,-c(1:3)], by=c('gene', 'anno_cluster_fct', 'overexpressed.in'), all.x=T) \n",
    "\n",
    "crossed.res %>% \n",
    "    mutate(matching.donors = factor(filter.over.max.crossed, int.levels)) %>%\n",
    "    mutate(filter.over.max.crossed=NULL) %>%\n",
    "    select(matching.donors, donor, everything()) %>% \n",
    "    group_by(anno_cluster_fct, matching.donors) %>% arrange(gene, donor) %>% ungroup() %>%\n",
    "    arrange(anno_cluster_fct, matching.donors) %>% \n",
    "    as.data.frame() -> crossed.res\n",
    "\n",
    "subset(crossed.res, !is.na(matching.donors))"
   ]
  },
  {
   "cell_type": "code",
   "execution_count": 197,
   "id": "f8e7a32f-c95a-4e67-b599-62c8f48e7748",
   "metadata": {},
   "outputs": [],
   "source": [
    "write.csv(crossed.res, '../results/selected_markers/markers_per_donor.nohighmito.with_filters_and_crossed.csv')"
   ]
  },
  {
   "cell_type": "code",
   "execution_count": null,
   "id": "f1371740-8147-4e1d-ad6b-fe0b95dee594",
   "metadata": {},
   "outputs": [],
   "source": []
  },
  {
   "cell_type": "code",
   "execution_count": null,
   "id": "f5db15d4-a578-4cf4-9170-eaf51d03c9cd",
   "metadata": {},
   "outputs": [],
   "source": []
  },
  {
   "cell_type": "code",
   "execution_count": null,
   "id": "d129ac63-e480-4543-9ee2-4735c2c60549",
   "metadata": {},
   "outputs": [],
   "source": []
  }
 ],
 "metadata": {
  "kernelspec": {
   "display_name": "Portfolio (R)",
   "language": "R",
   "name": "portfolio-r"
  },
  "language_info": {
   "codemirror_mode": "r",
   "file_extension": ".r",
   "mimetype": "text/x-r-source",
   "name": "R",
   "pygments_lexer": "r",
   "version": "4.3.1"
  },
  "toc-autonumbering": false,
  "toc-showcode": true,
  "toc-showmarkdowntxt": false,
  "toc-showtags": false
 },
 "nbformat": 4,
 "nbformat_minor": 5
}
