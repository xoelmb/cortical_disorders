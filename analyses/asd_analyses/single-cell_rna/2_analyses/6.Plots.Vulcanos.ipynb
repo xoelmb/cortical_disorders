{
 "cells": [
  {
   "cell_type": "code",
   "execution_count": 1,
   "id": "09d5fbfc-0c0f-4c93-a35e-3a38fb7dc9d4",
   "metadata": {},
   "outputs": [
    {
     "name": "stderr",
     "output_type": "stream",
     "text": [
      "\n",
      "Attaching package: ‘dplyr’\n",
      "\n",
      "\n",
      "The following objects are masked from ‘package:stats’:\n",
      "\n",
      "    filter, lag\n",
      "\n",
      "\n",
      "The following objects are masked from ‘package:base’:\n",
      "\n",
      "    intersect, setdiff, setequal, union\n",
      "\n",
      "\n"
     ]
    }
   ],
   "source": [
    "library(dplyr)\n",
    "library(ggplot2)\n",
    "library(ggpubr)\n",
    "library(ggrepel)\n",
    "library(ggpubr)\n",
    "library(ggh4x)"
   ]
  },
  {
   "cell_type": "markdown",
   "id": "9ed38b6d-3965-444e-aabf-0070a5828e52",
   "metadata": {
    "tags": []
   },
   "source": [
    "# Data load"
   ]
  },
  {
   "cell_type": "code",
   "execution_count": 2,
   "id": "f9ef2839-e41d-492a-a53a-00e49dd67343",
   "metadata": {},
   "outputs": [
    {
     "name": "stdout",
     "output_type": "stream",
     "text": [
      "Loading objects:\n",
      "  cell.type.colors\n",
      "  cell.types\n",
      "  cell.types.nohighmito\n",
      "  chr_df\n",
      "  donor_sex\n",
      "  fig\n",
      "  flora_paper_list\n",
      "  gene_type.df\n",
      "  imprinted.df\n",
      "  imprinted.genes\n",
      "  monkey_paper_list\n",
      "  monkey.genes\n",
      "  monkey.markers\n",
      "  nescreg.genes\n",
      "  nescreg.genes.no_trg\n",
      "  nescreg.genes.no_trg.early\n",
      "  nescreg.list\n",
      "  nescreg.list.no_trg\n",
      "  nescreg.list.no_trg.early\n",
      "  nescreg.markers\n",
      "  nescreg.markers.no_trg\n",
      "  nescreg.markers.no_trg.early\n",
      "  nicola_marker_list\n",
      "  origin_sex.colors\n",
      "  pat.de\n",
      "  pat.de.top20\n",
      "  pat.list\n",
      "  pat.neu.de\n",
      "  pat.neu.de.top20\n",
      "  pat.neu.list\n",
      "  pat.neu.top20\n",
      "  pat.top20\n",
      "  phases\n",
      "  phases.colors\n",
      "  protein_coding.genes\n",
      "  region.genes\n",
      "  region.list\n",
      "  region.markers\n",
      "  samples\n",
      "  samples.colors\n",
      "  sex_chr.genes\n",
      "  sex_chr.genes.x\n",
      "  sex_chr.genes.y\n",
      "  shown_2b_list\n",
      "  shown_4d_list\n",
      "  tf.genes\n",
      "  tfs.df\n",
      "  top100.sub.pat\n",
      "  top100.subtype\n",
      "  valid_chr\n"
     ]
    }
   ],
   "source": [
    "load('../data/commons.rda', verbose = T)"
   ]
  },
  {
   "cell_type": "code",
   "execution_count": 3,
   "id": "3f24ea1e-b00e-4988-8199-33c7864db04f",
   "metadata": {
    "scrolled": true,
    "tags": []
   },
   "outputs": [
    {
     "name": "stdout",
     "output_type": "stream",
     "text": [
      "Loading objects:\n",
      "  exp.filt.opts\n",
      "  phase.filt.opts\n",
      "  pval.filt.opts\n",
      "  tf.filt.opts\n",
      "  filt.grid\n",
      "  filt.grid.desc\n"
     ]
    }
   ],
   "source": [
    "load('../data/filter.list.rda', verbose=T)"
   ]
  },
  {
   "cell_type": "code",
   "execution_count": 4,
   "id": "4ebc558a-c396-41a2-91e0-36620bb79d0b",
   "metadata": {},
   "outputs": [],
   "source": [
    "today_dir <- glue::glue('../plots/vulcanos_{Sys.Date()}/')\n",
    "\n",
    "dir.create(today_dir)"
   ]
  },
  {
   "cell_type": "markdown",
   "id": "5c6c969b-b869-4e3d-9a20-c2d2957a7b02",
   "metadata": {},
   "source": [
    "## Markers"
   ]
  },
  {
   "cell_type": "code",
   "execution_count": 5,
   "id": "4120bb95-a318-412c-a23a-69bac07e1124",
   "metadata": {},
   "outputs": [
    {
     "data": {
      "text/html": [
       "<style>\n",
       ".list-inline {list-style: none; margin:0; padding: 0}\n",
       ".list-inline>li {display: inline-block}\n",
       ".list-inline>li:not(:last-child)::after {content: \"\\00b7\"; padding: 0 .5ex}\n",
       "</style>\n",
       "<ol class=list-inline><li>'Seurat.All'</li><li>'Seurat.All.TFs'</li><li>'DESeq2.RGe'</li><li>'DESeq2.RGe.TFs'</li><li>'DESeq2.RGe.PerPhase'</li><li>'DESeq2.RGe.PerPhase.TFs'</li></ol>\n"
      ],
      "text/latex": [
       "\\begin{enumerate*}\n",
       "\\item 'Seurat.All'\n",
       "\\item 'Seurat.All.TFs'\n",
       "\\item 'DESeq2.RGe'\n",
       "\\item 'DESeq2.RGe.TFs'\n",
       "\\item 'DESeq2.RGe.PerPhase'\n",
       "\\item 'DESeq2.RGe.PerPhase.TFs'\n",
       "\\end{enumerate*}\n"
      ],
      "text/markdown": [
       "1. 'Seurat.All'\n",
       "2. 'Seurat.All.TFs'\n",
       "3. 'DESeq2.RGe'\n",
       "4. 'DESeq2.RGe.TFs'\n",
       "5. 'DESeq2.RGe.PerPhase'\n",
       "6. 'DESeq2.RGe.PerPhase.TFs'\n",
       "\n",
       "\n"
      ],
      "text/plain": [
       "[1] \"Seurat.All\"              \"Seurat.All.TFs\"         \n",
       "[3] \"DESeq2.RGe\"              \"DESeq2.RGe.TFs\"         \n",
       "[5] \"DESeq2.RGe.PerPhase\"     \"DESeq2.RGe.PerPhase.TFs\""
      ]
     },
     "metadata": {},
     "output_type": "display_data"
    }
   ],
   "source": [
    "openxlsx::getSheetNames('../results/selected_markers/ASD_vs_Ctrl_markers.Annotated.Filter_None.xlsx')\n",
    "\n",
    "# markers.all <- openxlsx::read.xlsx('../results/selected_markers/ASD_vs_Ctrl_markers.Annotated.Filter_None.xlsx',\n",
    "#                                    sheet='Seurat.All')\n",
    "markers.rge <- openxlsx::read.xlsx('../results/selected_markers/ASD_vs_Ctrl_markers.Annotated.Filter_None.xlsx',\n",
    "                                   sheet='DESeq2.RGe')\n",
    "markers.phase <- openxlsx::read.xlsx('../results/selected_markers/ASD_vs_Ctrl_markers.Annotated.Filter_None.xlsx',\n",
    "                                     sheet='DESeq2.RGe.PerPhase')"
   ]
  },
  {
   "cell_type": "markdown",
   "id": "d4d0a0d2-48d9-4202-bd9a-dba6bdb59fe8",
   "metadata": {
    "tags": []
   },
   "source": [
    "# Functions"
   ]
  },
  {
   "cell_type": "code",
   "execution_count": 6,
   "id": "928effd4-43f6-45c6-9b54-ec99bab2d045",
   "metadata": {},
   "outputs": [],
   "source": [
    "quantile.n <- function(nums, n){\n",
    "    q <- data.frame(nums=nums, i=1:length(nums), q=0) %>% arrange(nums, na.last=T)\n",
    "    \n",
    "    many <- floor(nrow(subset(q, !is.na(nums)))/n)\n",
    "    for (ni in 1:n){\n",
    "        init <- many*(ni-1)+1\n",
    "        fini <- if (ni!=n){many*ni}else{nrow(q)}\n",
    "        q[init:fini,'q'] <- ni\n",
    "    }\n",
    "    q <- q %>% mutate(q=ifelse(is.na(nums), NA, q))\n",
    "    qs <- (q%>% arrange(i))$q\n",
    "    return(qs)\n",
    "}"
   ]
  },
  {
   "cell_type": "code",
   "execution_count": 7,
   "id": "65609bdf-2176-4fcf-8932-3311b243a356",
   "metadata": {},
   "outputs": [],
   "source": [
    "# Helper to deal with 0 p-values\n",
    "clip.zero <- function(x, clip=NULL){\n",
    "    if (is.null(clip)){\n",
    "        clip <- min(x[x!=0], na.rm = T)\n",
    "    }\n",
    "    return(ifelse(x==0, clip, x))\n",
    "}\n",
    "# Helper to make any range symmetric\n",
    "symmetric_limits <- function (x) \n",
    "{\n",
    "    max <- max(abs(x))\n",
    "    c(-max, max)\n",
    "}"
   ]
  },
  {
   "cell_type": "code",
   "execution_count": 8,
   "id": "fa60a07c-5aed-4c24-9b68-2b757f7639dc",
   "metadata": {},
   "outputs": [],
   "source": [
    "basic.volcano <- function(df,\n",
    "                          p_val='p_val', logFC='avg_log2FC', label=NULL,\n",
    "                          \n",
    "                          label.groups = NULL, label.colors=NULL, \n",
    "                          label.sides=T, label.sides.movement='y',\n",
    "                          label.segment.curvature = -1e-20, label.segment.alpha=0.4,\n",
    "                          label.arrow = arrow(length = unit(0.015, \"npc\")),\n",
    "                          \n",
    "                          label.xlim.factor=1, expand.y.factor=0.4, distribute.labels.y = F,\n",
    "                          \n",
    "                          unified_non_significants = T,\n",
    "                          \n",
    "                          axis.line.p = T, axis.line.FC = T,\n",
    "                          p.lines = c(.05), fc.lines = c(0.2, 0.5, 1), lines.color='grey',\n",
    "                          \n",
    "                          quadrants = c(.05, 0.2), \n",
    "                          quadrants.colors = c('tomato', 'blue', 'grey', 'grey', 'lightgrey'), \n",
    "                          \n",
    "                          alpha.quadrants = T, \n",
    "                          quadrants.alphas = c(0.9, .5,.5,.5),\n",
    "                          \n",
    "                          fill.logFC = T, palette = 'turbo', palette.type='viridis',\n",
    "                          symmetric_logFC=T,\n",
    "                          \n",
    "                          xlab='log2FC', ylab='-log10(p)',\n",
    "                          title='Vulcano plot', subtitle=NULL,\n",
    "                          \n",
    "                          facet.wrap = NULL,\n",
    "                          \n",
    "                          size.point = 2, size.stroke=0.1, size.text=3,\n",
    "                          \n",
    "                          theming=T, ...\n",
    "                         ){\n",
    "    \n",
    "    #################\n",
    "    # PREPARE\n",
    "    #################\n",
    "    require(dplyr)\n",
    "    require(ggplot2)\n",
    "    require(ggpubr)\n",
    "    require(ggrepel)\n",
    "    require(ggpubr)\n",
    "    require(ggh4x)    \n",
    "\n",
    "    dfp <- df \n",
    "    \n",
    "    # Standard columns (axes)\n",
    "    #################\n",
    "    dfp['p_val'] <- dfp[,p_val]\n",
    "    dfp['logFC'] <- dfp[,logFC]\n",
    "    if (!is.null(facet.wrap)){\n",
    "        dfp['facet'] <- dfp[,facet.wrap]\n",
    "    }\n",
    "    \n",
    "    # Define quadrants\n",
    "    #################\n",
    "    q.lvls <- c(glue::glue('p<={quadrants[1]} & |logFC|>={quadrants[2]}'),\n",
    "                glue::glue('p<={quadrants[1]} & |logFC|<{quadrants[2]}'),\n",
    "                glue::glue('p>{quadrants[1]} & |logFC|>={quadrants[2]}'),\n",
    "                glue::glue('p>{quadrants[1]} & |logFC|<{quadrants[2]}'))\n",
    "                             \n",
    "    if (unified_non_significants){\n",
    "        q.lvls[2:4] <- 'NS'\n",
    "    }\n",
    "    \n",
    "    # Get quadrant\n",
    "    dfp['quadrant'] <- paste(ifelse(dfp[,'p_val'] <= quadrants[1], \n",
    "                                    glue::glue('p<={quadrants[1]}'), glue::glue('p>{quadrants[1]}')),\n",
    "                             ifelse(abs(dfp[,'logFC']) >= quadrants[2], \n",
    "                                    glue::glue('|logFC|>={quadrants[2]}'), glue::glue('|logFC|<{quadrants[2]}')),\n",
    "                             sep=' & ')\n",
    "    # Get if it is in significant quadrant\n",
    "    dfp['q.sig'] <- dfp$quadrant==q.lvls[1]\n",
    "    fill.logFC <- fill.logFC & any(dfp$q.sig)\n",
    "                             \n",
    "    if (length(quadrants.colors) == 5){\n",
    "        dfp <- dfp %>% mutate(quadrant = ifelse(quadrant == q.lvls[1],\n",
    "                                                paste(ifelse(logFC>0, 'UP', 'DOWN'), quadrant),\n",
    "                                                quadrant))\n",
    "        q.lvls <- c(paste('UP', q.lvls[1]), paste('DOWN', q.lvls[1]), q.lvls[-1])\n",
    "        if(length(quadrants.alphas)==4){\n",
    "            quadrants.alphas <- c(quadrants.alphas[1], quadrants.alphas)\n",
    "        }\n",
    "    }\n",
    "    if (unified_non_significants){\n",
    "        quadrants.colors <- rev(rev(quadrants.colors)[-c(2:3)])\n",
    "        q.lvls <- rev(rev(q.lvls)[-c(2:3)])\n",
    "    } \n",
    "    q.colors <- setNames(quadrants.colors, q.lvls)\n",
    "    dfp['quadrant'] <- factor(ifelse(dfp[,'quadrant']%in%q.lvls, dfp[,'quadrant'], 'NS'), levels=unique(q.lvls))\n",
    "                              \n",
    "\n",
    "                             \n",
    "    \n",
    "    \n",
    "    # Get labels\n",
    "    #################\n",
    "    if (!is.null(label)){\n",
    "        dfp['label'] <- ifelse(dfp[,'q.sig'], dfp[,label], NA)\n",
    "        dfp['label.color'] <- if (!is.null(label.groups)){dfp[,label.groups]} else {NA}\n",
    "    }\n",
    "    \n",
    "    # return(dfp)\n",
    "    \n",
    "    #################\n",
    "    ## PLOT\n",
    "    #################\n",
    "    x.lim <- max(abs(range(dfp['logFC'])), na.rm=T)\n",
    "    y.lim <- max(-log10(clip.zero(dfp$p_val)))\n",
    "    y.lim.nolog <- min(clip.zero(dfp$p_val))\n",
    "    \n",
    "    # Basic axes\n",
    "    p <- ggplot(dfp, aes(x=logFC, y=-log10(clip.zero(p_val))))\n",
    "\n",
    "    # Symmetric logFC axis\n",
    "    if (symmetric_logFC){ p <- p + scale_x_continuous(limits = symmetric_limits)}\n",
    "    \n",
    "    # Labels and titles\n",
    "    p <- p + labs(x=xlab, y=ylab)\n",
    "    p <- p + ggtitle(title, subtitle)\n",
    "    \n",
    "    \n",
    "    # Geom_point\n",
    "    #################\n",
    "    gpoint_aes <- aes()\n",
    "    ## Fill\n",
    "    gpoint_aes$fill <- if (fill.logFC){quote(ifelse(q.sig, logFC, NA)) } else {quote(quadrant) }\n",
    "    ## Alpha\n",
    "    if (alpha.quadrants){\n",
    "        gpoint_aes$alpha <- quote(quadrant)\n",
    "    }\n",
    "    \n",
    "    p <- p + geom_point(mapping=gpoint_aes,\n",
    "                        shape=21, stroke=size.stroke, size=size.point)\n",
    "    \n",
    "    # Scales\n",
    "    #################\n",
    "    ## Fill\n",
    "    if (fill.logFC){\n",
    "        if (palette.type=='viridis'){\n",
    "            p <- p + viridis::scale_fill_viridis(xlab, option = palette, limits = symmetric_limits, na.value=rev(q.colors)[1])\n",
    "        } else if(palette.type=='distiller'){\n",
    "            p <- p + scale_fill_distiller(xlab, palette = palette, limits = symmetric_limits, na.value=rev(q.colors)[1])\n",
    "        } else if(palette.type == 'colorspace'){\n",
    "            p <- p + scale_fill_continuous_diverging(palette, name=xlab, limits = symmetric_limits, na.value=rev(q.colors)[1])\n",
    "\n",
    "        }\n",
    "    } else {\n",
    "        p <- p + scale_fill_manual('Significance', values=q.colors)\n",
    "    }\n",
    "    ## Alpha\n",
    "    if (alpha.quadrants){\n",
    "        p <- p + scale_alpha_manual('Significance', values=quadrants.alphas)\n",
    "    }\n",
    "\n",
    "    # Lines\n",
    "    #################\n",
    "    ## p-val\n",
    "    if (axis.line.p){p <- p + geom_hline(yintercept=0)}\n",
    "    if (!is.null(p.lines)){ for (l in p.lines){ p <- p + geom_hline(yintercept=-log10(l), color=lines.color, linetype = \"dashed\") }}\n",
    "    ## logFC\n",
    "    if (axis.line.FC){p <- p + geom_vline(xintercept=0)}\n",
    "    if (!is.null(fc.lines)){ for (l in fc.lines){ p <- p + geom_vline(xintercept=c(-l,l), color=lines.color, linetype = \"dashed\") }}\n",
    "    \n",
    "    \n",
    "    \n",
    "    # Labels of genes\n",
    "    #################\n",
    "    if (!is.null(label) & any(!is.na(dfp$label))){\n",
    "        \n",
    "        # p <- p +geom_text(aes(label=label))\n",
    "        repel.aes <- aes(label=label, nudge_x=nudge_x, color=label.color, nudge_y =label.y)\n",
    "        if (is.null(label.colors)) { repel.aes <- repel.aes[-3]}\n",
    "        \n",
    "        \n",
    "        if (!label.sides){ \n",
    "            repel.aes <- repel.aes[-2]\n",
    "        } else {\n",
    "            \n",
    "            p$data$nudge_x <- if (length(label.xlim.factor)>1){\n",
    "                cut(p$data$p_val,\n",
    "                    include.lowest = T, \n",
    "                    quantile(subset(p$data, !is.na(label))$p_val, probs = c(0, 1/(rev(1:length(label.xlim.factor))))), \n",
    "                    labels=c(label.xlim.factor)) %>% as.character%>%as.numeric \n",
    "            } else {label.xlim.factor}\n",
    "            \n",
    "            p$data$nudge_x <- sign(p$data[,'logFC'])*x.lim*p$data$nudge_x\n",
    "            \n",
    "            if (max(label.xlim.factor)> 1){\n",
    "                if (symmetric_logFC){ \n",
    "                    p <- p + scale_x_continuous(\n",
    "                        expand = expansion(mult=c(max(label.xlim.factor)-1, max(label.xlim.factor)-1)),\n",
    "                        limits = symmetric_limits)\n",
    "                } else { \n",
    "                    p <- p +scale_x_continuous(expand = expansion(mult=c(NA, max(label.xlim.factor)-1)))\n",
    "                }\n",
    "            }\n",
    "        }\n",
    "        \n",
    "\n",
    "        \n",
    "        if (distribute.labels.y){\n",
    "            \n",
    "            if (length(label.xlim.factor)==1){\n",
    "                adapted.y <- (subset(p$data, !is.na(label)) %>% group_by(sign(logFC)) %>% \n",
    "                    mutate(adapted.y = scales::rescale(rank(padj, ties.method = 'random'),\n",
    "                                                       to = c(0, y.lim)))) %>% as.data.frame()\n",
    "\n",
    "\n",
    "                p$data$label.y <- ifelse(!is.na(p$data$label),\n",
    "                                         plyr::mapvalues(p$data$label, from=adapted.y$label, to=adapted.y$adapted.y),\n",
    "                                         NA) %>% as.numeric()\n",
    "            } else {\n",
    "                n.div <- length(label.xlim.factor)\n",
    "                \n",
    "                \n",
    "                p$data <- p$data %>% group_by(sign(logFC)) %>% mutate(qs=quantile.n(ifelse(is.na(label), NA, p_val), n.div),\n",
    "                                                                      qs=ifelse(is.na(qs), 0, qs)) %>% as.data.frame()\n",
    "                p$data <- lapply(split(p$data, p$data$qs),\n",
    "                                 function(pdata){\n",
    "                                     qs <- unique(pdata$qs)\n",
    "                                     if(all(qs==0)){\n",
    "                                         pdata$label.y <- NA\n",
    "                                     } else {\n",
    "                                         pdata$label.y <- scales::rescale(\n",
    "                                             rank(pdata$padj, ties.method = 'random'),\n",
    "                                             to = c(y.lim/n.div*(qs-1), y.lim/n.div*qs))\n",
    "                                     }\n",
    "                                     return(pdata)\n",
    "                                 }) %>% do.call(what='rbind')  %>% as.data.frame()\n",
    "            }\n",
    "        } else{\n",
    "            repel.aes <- repel.aes[-length(repel.aes)]\n",
    "        }\n",
    "        \n",
    "        p <- p + geom_text_repel(\n",
    "            mapping=repel.aes, \n",
    "            size=size.text, \n",
    "            segment.alpha=label.segment.alpha,\n",
    "            direction = label.sides.movement, \n",
    "            segment.curvature = label.segment.curvature,\n",
    "            arrow=label.arrow,\n",
    "            ...)\n",
    "        \n",
    "        if (!is.null(label.colors) ){\n",
    "            p <- p + scale_color_manual(label.groups, values=label.colors)\n",
    "        }\n",
    "    }\n",
    "    \n",
    "    # Facets\n",
    "    #################\n",
    "    if (!is.null(facet.wrap)){\n",
    "        p <- p + facet_wrap2(facets = vars(facet), scales = 'free')\n",
    "    }\n",
    "    # Make 0 the bottom\n",
    "    p <- p + scale_y_continuous(expand = expansion(mult=c(0, expand.y.factor)))\n",
    "    # Theming\n",
    "    #################\n",
    "    if (theming){p <- p + theme_minimal() + labs_pubr()}\n",
    "    \n",
    "    return(p)\n",
    "}"
   ]
  },
  {
   "cell_type": "code",
   "execution_count": 9,
   "id": "e9b258be-906f-476f-9ae7-af7a09fc3734",
   "metadata": {},
   "outputs": [],
   "source": [
    "safe.function <- function(fun, safe.ggplot=F, ...){\n",
    "    par.safe <- list(...)\n",
    "    \n",
    "    safe.wrap <- function(...){\n",
    "        x <- tryCatch({\n",
    "            x <- rlang::exec(fun, ...)\n",
    "            if (safe.ggplot){\n",
    "                y <- ggplot2::ggplot_build(x)\n",
    "                eval(y)\n",
    "                }\n",
    "            return(x)\n",
    "        }, cond= function(cond){\n",
    "            message(glue::glue('Condition in unsafe function. Running in safe mode. {as.character(cond)}'))\n",
    "            rlang::exec(fun, !!!par.safe, ...)\n",
    "        }, error= function(error){\n",
    "            message(glue::glue('ERROR in unsafe function. Running in safe mode. {as.character(error)}'))\n",
    "            rlang::exec(fun, !!!par.safe, ...)\n",
    "        })\n",
    "        \n",
    "        return(x)\n",
    "    }\n",
    "    \n",
    "    return(safe.wrap)\n",
    "}"
   ]
  },
  {
   "cell_type": "code",
   "execution_count": 10,
   "id": "d9043358-59cd-4195-82db-bb2363621283",
   "metadata": {},
   "outputs": [],
   "source": [
    "safe.volcano <- safe.function(basic.volcano, plot.sides = F, safe.ggplot=T)"
   ]
  },
  {
   "cell_type": "code",
   "execution_count": 11,
   "id": "49a2427d-46e5-4734-ba00-60e3be58563f",
   "metadata": {},
   "outputs": [],
   "source": [
    "compute_rank <- function(x, mode='pval', mask=NULL){\n",
    "    \n",
    "    r <- rep(Inf, length.out = length(x))\n",
    "    \n",
    "    if (is.null(mask)){\n",
    "        mask <- rep(T, length.out = length(x))\n",
    "    }\n",
    "    \n",
    "    if (mode %in% c('pval', 'p', 'p-val', 'p_val', 'pvalue')){\n",
    "        r[mask] <- rank(x[mask], ties.method = 'random')\n",
    "    } else {\n",
    "        r[mask] <- rank(-abs(x[mask]), ties.method = 'random')\n",
    "    }\n",
    "    return(r)\n",
    "}"
   ]
  },
  {
   "cell_type": "markdown",
   "id": "c18a9443-12b6-46e5-8ada-45ca8d697b44",
   "metadata": {
    "tags": []
   },
   "source": [
    "# Plots"
   ]
  },
  {
   "cell_type": "markdown",
   "id": "7ed58006-e0b9-4d0e-b241-cd7bef279873",
   "metadata": {
    "tags": []
   },
   "source": [
    "## Pseudobulk"
   ]
  },
  {
   "cell_type": "code",
   "execution_count": 12,
   "id": "44dc1eda-744f-4677-bc6e-aae8061aaff4",
   "metadata": {},
   "outputs": [],
   "source": [
    "# Colors\n",
    "col.labs <- setNames(\n",
    "    c('TRUE TRUE', 'TRUE FALSE', 'FALSE TRUE', 'FALSE FALSE'),\n",
    "    c('TF in sex chr.', 'TF', 'Gene in sex chr.', 'Gene'))\n",
    "volc.colors <- setNames(\n",
    "    c('#ff7878', 'darkred', 'grey', 'black'), names(col.labs))\n",
    "\n",
    "top.n.gral <- 30\n",
    "n_by_side <- T\n",
    "padj.thres <- .05\n",
    "logfc.thres <- 0.5 #round(log2(1.5), 2)\n",
    "\n",
    "max.overlaps <- Inf\n",
    "max.iter <- 2E6\n",
    "max.time <- 10\n",
    "label.segment.curvature <- 0\n"
   ]
  },
  {
   "cell_type": "code",
   "execution_count": 13,
   "id": "4f383890-1bf1-4078-a8d4-8d07aecc8258",
   "metadata": {},
   "outputs": [],
   "source": [
    "check_ranks <- c('FOXG1')\n",
    "check_ranks_only <- F"
   ]
  },
  {
   "cell_type": "code",
   "execution_count": 14,
   "id": "63f30173-1847-467d-8500-40168e39a588",
   "metadata": {},
   "outputs": [],
   "source": [
    "fig(10,10)"
   ]
  },
  {
   "cell_type": "code",
   "execution_count": 15,
   "id": "8fdc390a-2030-476d-a1aa-4a1e839a608a",
   "metadata": {},
   "outputs": [
    {
     "data": {
      "text/html": [
       "28.7823136624256"
      ],
      "text/latex": [
       "28.7823136624256"
      ],
      "text/markdown": [
       "28.7823136624256"
      ],
      "text/plain": [
       "[1] 28.78231"
      ]
     },
     "metadata": {},
     "output_type": "display_data"
    }
   ],
   "source": [
    "-log(1/10^12.5)"
   ]
  },
  {
   "cell_type": "code",
   "execution_count": 16,
   "id": "e850a463-c539-42e2-82e3-d6061a2c08fc",
   "metadata": {},
   "outputs": [
    {
     "data": {
      "text/html": [
       "3.16227766016838e-13"
      ],
      "text/latex": [
       "3.16227766016838e-13"
      ],
      "text/markdown": [
       "3.16227766016838e-13"
      ],
      "text/plain": [
       "[1] 3.162278e-13"
      ]
     },
     "metadata": {},
     "output_type": "display_data"
    }
   ],
   "source": [
    "# this is filthy\n",
    "p.val.max <- 1e-100\n",
    "p.val.override <- 1/(10^12.5)\n",
    "p.val.override"
   ]
  },
  {
   "cell_type": "code",
   "execution_count": 17,
   "id": "d53908ea-1616-426c-b395-a4df58cb65a0",
   "metadata": {
    "tags": []
   },
   "outputs": [
    {
     "name": "stdout",
     "output_type": "stream",
     "text": [
      "[1] \"filter.None\"\n"
     ]
    },
    {
     "name": "stderr",
     "output_type": "stream",
     "text": [
      "The following `from` values were not present in `x`: TRUE TRUE, FALSE TRUE\n",
      "\n",
      "\u001b[1m\u001b[22mScale for \u001b[32mx\u001b[39m is already present.\n",
      "Adding another scale for \u001b[32mx\u001b[39m, which will replace the existing scale.\n",
      "Warning message in geom_text_repel(mapping = repel.aes, size = size.text, segment.alpha = label.segment.alpha, :\n",
      "“\u001b[1m\u001b[22mIgnoring unknown aesthetics: \u001b[32mnudge_x\u001b[39m”\n",
      "\u001b[1m\u001b[22mScale for \u001b[32my\u001b[39m is already present.\n",
      "Adding another scale for \u001b[32my\u001b[39m, which will replace the existing scale.\n"
     ]
    }
   ],
   "source": [
    "for (gene.lab in c('label_top_lfc')){\n",
    "    \n",
    "    # cairo_pdf(glue::glue('{today_dir}pseudobulk_rge.{gene.lab}_notENSID.pdf'), height=8, width=10, onefile = T)\n",
    "    # for(exp.filt in c('filter.None', names(exp.filt.opts))){\n",
    "    for(exp.filt in c('filter.None'\n",
    "                      #'filter.2of3.over.2of3'\n",
    "                      #'filter.2of3.over.max','filter.all.over.2of3','filter.all.over.max'\n",
    "                     )){\n",
    "\n",
    "#         match.files <- list.files(today_dir) %>% grep(pattern=gene.lab, value=T) %>% grep(pattern='per_phase', invert=T, value=T)\n",
    "#         unique(sapply(strsplit(match.files, split='.filter.', fixed=T), \n",
    "#                       function(x){gsub(x[2], pattern='.pdf', fixed=T, replacement='')})) %>% paste0('filter.',.)-> done.filts \n",
    "\n",
    "#         filts.to.do <- c('filter.None', names(exp.filt.opts))[! c('filter.None', names(exp.filt.opts)) %in% done.filts]\n",
    "#         if (length(filts.to.do)==0){\n",
    "#             break\n",
    "#         }\n",
    "\n",
    "#         exp.filt <- filts.to.do[1]\n",
    "        print(exp.filt)\n",
    "        top.n <- top.n.gral\n",
    "\n",
    "        pseudobulk.res <- subset(markers.rge, !gene%in%sex_chr.genes)\n",
    "\n",
    "        # fill na and remove 0\n",
    "        pseudobulk.res <- subset(pseudobulk.res, baseMean!=0)\n",
    "        pseudobulk.res <- pseudobulk.res %>% mutate(padj = ifelse(is.na(padj),1, padj))\n",
    "\n",
    "        # categorise genes\n",
    "        pseudobulk.res$`Gene class` <- plyr::mapvalues(\n",
    "            x = paste(pseudobulk.res$gene%in%tf.genes, pseudobulk.res$gene%in%sex_chr.genes),\n",
    "            from = col.labs, to=names(col.labs))\n",
    "\n",
    "        # Apply filter\n",
    "        pseudobulk.res$filt <- if (exp.filt == 'filter.None'){T} else{ pseudobulk.res[,exp.filt]}\n",
    "        pseudobulk.res$filt <- pseudobulk.res$filt & \n",
    "            (pseudobulk.res$padj < padj.thres)&\n",
    "            (abs(pseudobulk.res$log2FoldChange)>=logfc.thres) &\n",
    "            # pseudobulk.res$protein_coding\n",
    "            !stringr::str_starts(string = pseudobulk.res$gene, pattern = 'ENSG')\n",
    "        \n",
    "        \n",
    "        to_rank <- if (!n_by_side){ list(pseudobulk.res)\n",
    "                                  } else {to_rank <- split(pseudobulk.res, pseudobulk.res$overexpressed.in)}\n",
    "        \n",
    "        lapply(to_rank, function(res){\n",
    "            \n",
    "            res$rank.lfc <- compute_rank(res$log2FoldChange, mask = res$filt, mode='lfc')\n",
    "            res$rank.pval <- compute_rank(res$padj, mask = res$filt, mode='pval')\n",
    "            \n",
    "            res$do.label.rank <- if (gene.lab == 'label_top_both'){\n",
    "                rank(apply(res[,c('rank.lfc', 'rank.pval')], 1, mean))\n",
    "            }else if(gene.lab == 'label_top_lfc'){res$rank.lfc}else{res$rank.pval}\n",
    "                \n",
    "            return(res)\n",
    "        }) %>% do.call(what='rbind') %>% as.data.frame() -> pseudobulk.res\n",
    "        \n",
    "        \n",
    "        if (!is.null(check_ranks)){\n",
    "            \n",
    "            checked_ranks <- subset(pseudobulk.res, gene%in%check_ranks)[,c('gene', 'do.label.rank')]\n",
    "            min.rank <- max(checked_ranks[is.finite(checked_ranks[,2]),2])\n",
    "            \n",
    "            if (!is.null(min.rank)){ if(min.rank >top.n){\n",
    "                z <- if (n_by_side){5}else{10}\n",
    "                top.n <- ceiling(min.rank/z)*z\n",
    "                print(glue::glue('Updading number of genes {top.n.gral} < {min.rank} ->>> {top.n}'))\n",
    "            }}\n",
    "                        \n",
    "            if (check_ranks_only){ next() }\n",
    "        }\n",
    "        \n",
    "        pseudobulk.res$do.label <- pseudobulk.res$do.label.rank <= top.n\n",
    "        # delete this \n",
    "        pseudobulk.res$do.label <- pseudobulk.res$do.label | (pseudobulk.res$padj < p.val.override)\n",
    "        pseudobulk.res[, gene.lab] <- ifelse(pseudobulk.res$do.label, pseudobulk.res$gene, NA)\n",
    "\n",
    "        basic.volcano(\n",
    "            pseudobulk.res, \n",
    "\n",
    "            p.lines = c(padj.thres),\n",
    "            fc.lines = c(logfc.thres),\n",
    "\n",
    "            size.text = if(p.val.override > -Inf){1.5}else{3},\n",
    "            distribute.labels.y = F,\n",
    "            quadrants.colors =  c('tomato', 'blue', 'grey', 'grey', 'darkgrey'),\n",
    "            fill.logFC = F,\n",
    "            expand.y.factor = 0.01,\n",
    "            label.xlim.factor = rev(c(1.3, 1.5, 1.5)),\n",
    "            # label.xlim.factor =1.5,\n",
    "\n",
    "            quadrants = c(padj.thres, logfc.thres),\n",
    "            # palette = 'Blue-Red 2', palette.type='colorspace', \n",
    "            palette='turbo', palette.type='viridis',\n",
    "            label.sides.movement='y',\n",
    "\n",
    "            title='ASD vs Control gene expression in Early Radial Glia', \n",
    "            subtitle=glue::glue('Labeled top {sum(!is.na(pseudobulk.res[,gene.lab]))} genes over- and underexpressed (adj. p-val < {padj.thres})\\n{if (exp.filt==\"filter.None\"){\"\"}else{exp.filt.opts[[exp.filt]]}}'),\n",
    "\n",
    "            p_val = 'padj', logFC = 'log2FoldChange',\n",
    "            label = gene.lab, label.sides = T,\n",
    "\n",
    "\n",
    "            label.groups='Gene class', label.colors=volc.colors, label.segment.alpha=0.3,\n",
    "            max.overlaps=max.overlaps, max.iter=max.iter, max.time=max.time, label.segment.curvature=label.segment.curvature) -> p3\n",
    "\n",
    "\n",
    "        p3$data$p_val[p3$data$p_val < p.val.max] <- p.val.max\n",
    "        p3 + scale_y_continuous(labels=function(x){c(head(x,-1), paste('>', tail(x,1)))}) -> p3\n",
    "        \n",
    "        # plot(p3)\n",
    "        # data.table::fwrite(p3$data, glue::glue('{today_dir}pseudobulk_rge.{gene.lab}_notENSID.table.{exp.filt}.csv'))\n",
    "    }\n",
    "    # dev.off()    \n",
    "}\n",
    "# plot(p3)\n"
   ]
  },
  {
   "cell_type": "markdown",
   "id": "4e363976-1032-4d89-beaf-f2a385c257d5",
   "metadata": {},
   "source": [
    "### Supplementary table 8"
   ]
  },
  {
   "cell_type": "code",
   "execution_count": 29,
   "id": "620cbdc0-3fa3-4638-b0ff-237db03e8c5d",
   "metadata": {},
   "outputs": [],
   "source": [
    "dfs <- subset(p3$data, !in.sex_chr)[,c(\n",
    "    'gene', 'baseMean', 'log2FoldChange', 'lfcSE', 'stat', 'pvalue', 'padj',\n",
    "    'gene.is.tf', 'gene_biotype', 'Imprinted.Status','Expressed.Allele')] %>% \n",
    "    mutate(Up.in.ASD.or.control = plyr::mapvalues(sign(log2FoldChange), from=c(-1,0,1), to=c('Control', 'None', 'ASD'))) %>%\n",
    "    arrange(Up.in.ASD.or.control, desc(abs(log2FoldChange)))\n",
    "\n",
    "dfs <- list(\n",
    "    'Filtered pseudobulk DEGs' = subset(dfs) %>% subset((padj <= .05) & (abs(log2FoldChange) >= 0.5)),\n",
    "    'Pseudobulk DEGs' = dfs)\n",
    "\n",
    "openxlsx::write.xlsx(x = dfs, file = '../results/supp_table.8.pseudobulk_DEGs.xlsx')"
   ]
  },
  {
   "cell_type": "code",
   "execution_count": 19,
   "id": "d7bc049c-8e04-4c19-9611-927d07f3373a",
   "metadata": {},
   "outputs": [
    {
     "data": {
      "text/html": [
       "<table class=\"dataframe\">\n",
       "<caption>A data.frame: 1 × 39</caption>\n",
       "<thead>\n",
       "\t<tr><th></th><th scope=col>gene</th><th scope=col>baseMean</th><th scope=col>log2FoldChange</th><th scope=col>lfcSE</th><th scope=col>stat</th><th scope=col>pvalue</th><th scope=col>padj</th><th scope=col>gene.is.tf</th><th scope=col>Imprinted.Status</th><th scope=col>Expressed.Allele</th><th scope=col>⋯</th><th scope=col>phase.bias</th><th scope=col>same.bias.with.all.phases</th><th scope=col>same.bias.with.any.phase</th><th scope=col>Gene class</th><th scope=col>filt</th><th scope=col>rank.lfc</th><th scope=col>rank.pval</th><th scope=col>do.label.rank</th><th scope=col>do.label</th><th scope=col>label_top_lfc</th></tr>\n",
       "\t<tr><th></th><th scope=col>&lt;chr&gt;</th><th scope=col>&lt;dbl&gt;</th><th scope=col>&lt;dbl&gt;</th><th scope=col>&lt;dbl&gt;</th><th scope=col>&lt;dbl&gt;</th><th scope=col>&lt;dbl&gt;</th><th scope=col>&lt;dbl&gt;</th><th scope=col>&lt;lgl&gt;</th><th scope=col>&lt;chr&gt;</th><th scope=col>&lt;chr&gt;</th><th scope=col>⋯</th><th scope=col>&lt;chr&gt;</th><th scope=col>&lt;lgl&gt;</th><th scope=col>&lt;lgl&gt;</th><th scope=col>&lt;chr&gt;</th><th scope=col>&lt;lgl&gt;</th><th scope=col>&lt;dbl&gt;</th><th scope=col>&lt;dbl&gt;</th><th scope=col>&lt;dbl&gt;</th><th scope=col>&lt;lgl&gt;</th><th scope=col>&lt;chr&gt;</th></tr>\n",
       "</thead>\n",
       "<tbody>\n",
       "\t<tr><th scope=row>ASD.19281</th><td>FOXG1</td><td>18.446</td><td>4.515627</td><td>0.4114345</td><td>10.97532</td><td>5.022538e-28</td><td>8.188615e-26</td><td>TRUE</td><td>Predicted</td><td>Paternal</td><td>⋯</td><td>UP</td><td>TRUE</td><td>TRUE</td><td>TF</td><td>TRUE</td><td>5</td><td>48</td><td>5</td><td>TRUE</td><td>FOXG1</td></tr>\n",
       "</tbody>\n",
       "</table>\n"
      ],
      "text/latex": [
       "A data.frame: 1 × 39\n",
       "\\begin{tabular}{r|lllllllllllllllllllll}\n",
       "  & gene & baseMean & log2FoldChange & lfcSE & stat & pvalue & padj & gene.is.tf & Imprinted.Status & Expressed.Allele & ⋯ & phase.bias & same.bias.with.all.phases & same.bias.with.any.phase & Gene class & filt & rank.lfc & rank.pval & do.label.rank & do.label & label\\_top\\_lfc\\\\\n",
       "  & <chr> & <dbl> & <dbl> & <dbl> & <dbl> & <dbl> & <dbl> & <lgl> & <chr> & <chr> & ⋯ & <chr> & <lgl> & <lgl> & <chr> & <lgl> & <dbl> & <dbl> & <dbl> & <lgl> & <chr>\\\\\n",
       "\\hline\n",
       "\tASD.19281 & FOXG1 & 18.446 & 4.515627 & 0.4114345 & 10.97532 & 5.022538e-28 & 8.188615e-26 & TRUE & Predicted & Paternal & ⋯ & UP & TRUE & TRUE & TF & TRUE & 5 & 48 & 5 & TRUE & FOXG1\\\\\n",
       "\\end{tabular}\n"
      ],
      "text/markdown": [
       "\n",
       "A data.frame: 1 × 39\n",
       "\n",
       "| <!--/--> | gene &lt;chr&gt; | baseMean &lt;dbl&gt; | log2FoldChange &lt;dbl&gt; | lfcSE &lt;dbl&gt; | stat &lt;dbl&gt; | pvalue &lt;dbl&gt; | padj &lt;dbl&gt; | gene.is.tf &lt;lgl&gt; | Imprinted.Status &lt;chr&gt; | Expressed.Allele &lt;chr&gt; | ⋯ ⋯ | phase.bias &lt;chr&gt; | same.bias.with.all.phases &lt;lgl&gt; | same.bias.with.any.phase &lt;lgl&gt; | Gene class &lt;chr&gt; | filt &lt;lgl&gt; | rank.lfc &lt;dbl&gt; | rank.pval &lt;dbl&gt; | do.label.rank &lt;dbl&gt; | do.label &lt;lgl&gt; | label_top_lfc &lt;chr&gt; |\n",
       "|---|---|---|---|---|---|---|---|---|---|---|---|---|---|---|---|---|---|---|---|---|---|\n",
       "| ASD.19281 | FOXG1 | 18.446 | 4.515627 | 0.4114345 | 10.97532 | 5.022538e-28 | 8.188615e-26 | TRUE | Predicted | Paternal | ⋯ | UP | TRUE | TRUE | TF | TRUE | 5 | 48 | 5 | TRUE | FOXG1 |\n",
       "\n"
      ],
      "text/plain": [
       "          gene  baseMean log2FoldChange lfcSE     stat     pvalue      \n",
       "ASD.19281 FOXG1 18.446   4.515627       0.4114345 10.97532 5.022538e-28\n",
       "          padj         gene.is.tf Imprinted.Status Expressed.Allele ⋯\n",
       "ASD.19281 8.188615e-26 TRUE       Predicted        Paternal         ⋯\n",
       "          phase.bias same.bias.with.all.phases same.bias.with.any.phase\n",
       "ASD.19281 UP         TRUE                      TRUE                    \n",
       "          Gene class filt rank.lfc rank.pval do.label.rank do.label\n",
       "ASD.19281 TF         TRUE 5        48        5             TRUE    \n",
       "          label_top_lfc\n",
       "ASD.19281 FOXG1        "
      ]
     },
     "metadata": {},
     "output_type": "display_data"
    }
   ],
   "source": [
    "subset(pseudobulk.res, gene =='FOXG1')"
   ]
  },
  {
   "cell_type": "code",
   "execution_count": 27,
   "id": "333cc92e-2ac0-459d-8df0-58f20b08050a",
   "metadata": {},
   "outputs": [],
   "source": [
    "pseudobulk.res <- pseudobulk.res %>% mutate(is.de = (padj < padj.thres)&(abs(log2FoldChange) > logfc.thres),\n",
    "                                            is.up = is.de & (log2FoldChange>0),\n",
    "                                            is.down = is.de & (log2FoldChange<0),\n",
    "                                            # is.imprinted = Imprinted.Status %in%c('Predicted', 'Imprinted'))\n",
    "                                            is.imprinted = Imprinted.Status %in%c('Imprinted'),\n",
    "                                            is.maternal = is.imprinted & (Expressed.Allele == 'Maternal'),\n",
    "                                            is.paternal = is.imprinted & (Expressed.Allele == 'Paternal')\n",
    "                                           )"
   ]
  },
  {
   "cell_type": "code",
   "execution_count": 28,
   "id": "82a3f6b7-ce70-4561-881b-55ce7e04f09b",
   "metadata": {},
   "outputs": [
    {
     "data": {
      "text/html": [
       "0"
      ],
      "text/latex": [
       "0"
      ],
      "text/markdown": [
       "0"
      ],
      "text/plain": [
       "[1] 0"
      ]
     },
     "metadata": {},
     "output_type": "display_data"
    },
    {
     "data": {
      "text/html": [
       "<style>\n",
       ".list-inline {list-style: none; margin:0; padding: 0}\n",
       ".list-inline>li {display: inline-block}\n",
       ".list-inline>li:not(:last-child)::after {content: \"\\00b7\"; padding: 0 .5ex}\n",
       "</style>\n",
       "<ol class=list-inline><li>'Not in DB'</li><li>'Maternal'</li><li>'Paternal'</li><li>'Biallelic'</li><li>'Isoform Dependent'</li><li>'Random'</li><li>'Unknown'</li><li>''</li></ol>\n"
      ],
      "text/latex": [
       "\\begin{enumerate*}\n",
       "\\item 'Not in DB'\n",
       "\\item 'Maternal'\n",
       "\\item 'Paternal'\n",
       "\\item 'Biallelic'\n",
       "\\item 'Isoform Dependent'\n",
       "\\item 'Random'\n",
       "\\item 'Unknown'\n",
       "\\item ''\n",
       "\\end{enumerate*}\n"
      ],
      "text/markdown": [
       "1. 'Not in DB'\n",
       "2. 'Maternal'\n",
       "3. 'Paternal'\n",
       "4. 'Biallelic'\n",
       "5. 'Isoform Dependent'\n",
       "6. 'Random'\n",
       "7. 'Unknown'\n",
       "8. ''\n",
       "\n",
       "\n"
      ],
      "text/plain": [
       "[1] \"Not in DB\"         \"Maternal\"          \"Paternal\"         \n",
       "[4] \"Biallelic\"         \"Isoform Dependent\" \"Random\"           \n",
       "[7] \"Unknown\"           \"\"                 "
      ]
     },
     "metadata": {},
     "output_type": "display_data"
    }
   ],
   "source": [
    "duplicated(pseudobulk.res$gene) %>% sum\n",
    "unique(pseudobulk.res$Expressed.Allele)"
   ]
  },
  {
   "cell_type": "code",
   "execution_count": 53,
   "id": "5fbe0fd5-dba4-4839-a6e8-f094ff7729ee",
   "metadata": {},
   "outputs": [
    {
     "data": {
      "text/plain": [
       "       is.lnc\n",
       "is.de    TRUE FALSE\n",
       "  TRUE    294   965\n",
       "  FALSE  9781 15368"
      ]
     },
     "metadata": {},
     "output_type": "display_data"
    },
    {
     "data": {
      "text/plain": [
       "\n",
       "\tFisher's Exact Test for Count Data\n",
       "\n",
       "data:  lnc.enrich\n",
       "p-value = 1\n",
       "alternative hypothesis: true odds ratio is greater than 1\n",
       "95 percent confidence interval:\n",
       " 0.4268724       Inf\n",
       "sample estimates:\n",
       "odds ratio \n",
       " 0.4787043 \n"
      ]
     },
     "metadata": {},
     "output_type": "display_data"
    },
    {
     "data": {
      "text/plain": [
       "       is.lnc\n",
       "is.up    TRUE FALSE\n",
       "  TRUE    187   721\n",
       "  FALSE  9888 15612"
      ]
     },
     "metadata": {},
     "output_type": "display_data"
    },
    {
     "data": {
      "text/plain": [
       "\n",
       "\tFisher's Exact Test for Count Data\n",
       "\n",
       "data:  lnc.enrich.up\n",
       "p-value = 1\n",
       "alternative hypothesis: true odds ratio is greater than 1\n",
       "95 percent confidence interval:\n",
       " 0.3555549       Inf\n",
       "sample estimates:\n",
       "odds ratio \n",
       "  0.409517 \n"
      ]
     },
     "metadata": {},
     "output_type": "display_data"
    },
    {
     "data": {
      "text/plain": [
       "       is.lnc\n",
       "is.down  TRUE FALSE\n",
       "  TRUE    107   244\n",
       "  FALSE  9968 16089"
      ]
     },
     "metadata": {},
     "output_type": "display_data"
    },
    {
     "data": {
      "text/plain": [
       "\n",
       "\tFisher's Exact Test for Count Data\n",
       "\n",
       "data:  lnc.enrich.down\n",
       "p-value = 0.9989\n",
       "alternative hypothesis: true odds ratio is greater than 1\n",
       "95 percent confidence interval:\n",
       " 0.5793052       Inf\n",
       "sample estimates:\n",
       "odds ratio \n",
       " 0.7078162 \n"
      ]
     },
     "metadata": {},
     "output_type": "display_data"
    }
   ],
   "source": [
    "lnc.enrich <- table(subset(pseudobulk.res, !in.sex_chr)%>%mutate(is.lnc = gene_biotype == 'lncRNA')%>%select(is.de, is.lnc))[2:1,2:1]\n",
    "lnc.enrich.test <- fisher.test(lnc.enrich, alternative = 'greater')\n",
    "lnc.enrich\n",
    "lnc.enrich.test\n",
    "\n",
    "\n",
    "lnc.enrich.up <- table(subset(pseudobulk.res, !in.sex_chr)%>%mutate(is.lnc = gene_biotype == 'lncRNA')%>%select(is.up, is.lnc))[2:1,2:1]\n",
    "lnc.enrich.up.test <- fisher.test(lnc.enrich.up, alternative = 'greater')\n",
    "lnc.enrich.up\n",
    "lnc.enrich.up.test\n",
    "\n",
    "\n",
    "\n",
    "lnc.enrich.down <- table(subset(pseudobulk.res, !in.sex_chr)%>%mutate(is.lnc = gene_biotype == 'lncRNA')%>%select(is.down, is.lnc))[2:1,2:1]\n",
    "lnc.enrich.down.test <- fisher.test(lnc.enrich.down, alternative = 'greater')\n",
    "lnc.enrich.down\n",
    "lnc.enrich.down.test"
   ]
  },
  {
   "cell_type": "code",
   "execution_count": 43,
   "id": "bf2bba5d-0559-40ec-bb42-d1a897d8c7d8",
   "metadata": {},
   "outputs": [
    {
     "data": {
      "text/plain": [
       "       is.imprinted\n",
       "is.de    TRUE FALSE\n",
       "  TRUE     19  1240\n",
       "  FALSE    80 25069"
      ]
     },
     "metadata": {},
     "output_type": "display_data"
    },
    {
     "data": {
      "text/plain": [
       "\n",
       "\tFisher's Exact Test for Count Data\n",
       "\n",
       "data:  impr.enrich\n",
       "p-value = 1.909e-07\n",
       "alternative hypothesis: true odds ratio is greater than 1\n",
       "95 percent confidence interval:\n",
       " 2.997872      Inf\n",
       "sample estimates:\n",
       "odds ratio \n",
       "  4.801473 \n"
      ]
     },
     "metadata": {},
     "output_type": "display_data"
    }
   ],
   "source": [
    "impr.enrich <- table(subset(pseudobulk.res, !in.sex_chr)%>%select(is.de, is.imprinted))[2:1,2:1]\n",
    "impr.enrich.test <- fisher.test(impr.enrich, alternative = 'greater')\n",
    "impr.enrich\n",
    "impr.enrich.test"
   ]
  },
  {
   "cell_type": "code",
   "execution_count": 54,
   "id": "cfcbb0a5-1d6b-4dfb-87f6-9cca88b74f77",
   "metadata": {},
   "outputs": [
    {
     "data": {
      "text/plain": [
       "       is.imprinted\n",
       "is.up    TRUE FALSE\n",
       "  TRUE     12   896\n",
       "  FALSE    87 25413"
      ]
     },
     "metadata": {},
     "output_type": "display_data"
    },
    {
     "data": {
      "text/plain": [
       "\n",
       "\tFisher's Exact Test for Count Data\n",
       "\n",
       "data:  impr.enrich.up\n",
       "p-value = 0.0001507\n",
       "alternative hypothesis: true odds ratio is greater than 1\n",
       "95 percent confidence interval:\n",
       " 2.175164      Inf\n",
       "sample estimates:\n",
       "odds ratio \n",
       "  3.911884 \n"
      ]
     },
     "metadata": {},
     "output_type": "display_data"
    }
   ],
   "source": [
    "impr.enrich.up <- table(subset(pseudobulk.res, !in.sex_chr)%>%select(is.up, is.imprinted))[2:1,2:1]\n",
    "impr.enrich.up.test <- fisher.test(impr.enrich.up, alternative = 'greater')\n",
    "impr.enrich.up\n",
    "impr.enrich.up.test"
   ]
  },
  {
   "cell_type": "code",
   "execution_count": 55,
   "id": "f9f5391f-28c6-4f98-b595-186916563049",
   "metadata": {},
   "outputs": [
    {
     "data": {
      "text/plain": [
       "       is.imprinted\n",
       "is.down  TRUE FALSE\n",
       "  TRUE      7   344\n",
       "  FALSE    92 25965"
      ]
     },
     "metadata": {},
     "output_type": "display_data"
    },
    {
     "data": {
      "text/plain": [
       "\n",
       "\tFisher's Exact Test for Count Data\n",
       "\n",
       "data:  impr.enrich.down\n",
       "p-value = 0.0003608\n",
       "alternative hypothesis: true odds ratio is greater than 1\n",
       "95 percent confidence interval:\n",
       " 2.610641      Inf\n",
       "sample estimates:\n",
       "odds ratio \n",
       "  5.742012 \n"
      ]
     },
     "metadata": {},
     "output_type": "display_data"
    }
   ],
   "source": [
    "impr.enrich.down <- table(subset(pseudobulk.res, !in.sex_chr)%>%select(is.down, is.imprinted))[2:1,2:1]\n",
    "impr.enrich.down.test <- fisher.test(impr.enrich.down, alternative = 'greater')\n",
    "impr.enrich.down\n",
    "impr.enrich.down.test"
   ]
  },
  {
   "cell_type": "code",
   "execution_count": 44,
   "id": "7b7a9fb0-2881-4649-a782-0d24a8bd9945",
   "metadata": {},
   "outputs": [
    {
     "data": {
      "text/plain": [
       "       is.maternal\n",
       "is.de    TRUE FALSE\n",
       "  TRUE      8  1251\n",
       "  FALSE    24 25125"
      ]
     },
     "metadata": {},
     "output_type": "display_data"
    },
    {
     "data": {
      "text/plain": [
       "\n",
       "\tFisher's Exact Test for Count Data\n",
       "\n",
       "data:  mat.impr.enrich\n",
       "p-value = 9.849e-05\n",
       "alternative hypothesis: true odds ratio is greater than 1\n",
       "95 percent confidence interval:\n",
       " 3.019694      Inf\n",
       "sample estimates:\n",
       "odds ratio \n",
       "  6.692275 \n"
      ]
     },
     "metadata": {},
     "output_type": "display_data"
    }
   ],
   "source": [
    "mat.impr.enrich <- table(subset(pseudobulk.res, !in.sex_chr)%>%select(is.de, is.maternal))[2:1,2:1]\n",
    "mat.impr.enrich.test <- fisher.test(mat.impr.enrich, alternative = 'greater')\n",
    "mat.impr.enrich\n",
    "mat.impr.enrich.test"
   ]
  },
  {
   "cell_type": "code",
   "execution_count": 45,
   "id": "5260de4f-1b4d-4720-a0bd-cb6eb7ffb582",
   "metadata": {},
   "outputs": [
    {
     "data": {
      "text/html": [
       "<table class=\"dataframe\">\n",
       "<caption>A data.frame: 6 × 45</caption>\n",
       "<thead>\n",
       "\t<tr><th></th><th scope=col>gene</th><th scope=col>is.up</th><th scope=col>is.maternal</th><th scope=col>baseMean</th><th scope=col>log2FoldChange</th><th scope=col>lfcSE</th><th scope=col>stat</th><th scope=col>pvalue</th><th scope=col>padj</th><th scope=col>gene.is.tf</th><th scope=col>⋯</th><th scope=col>filt</th><th scope=col>rank.lfc</th><th scope=col>rank.pval</th><th scope=col>do.label.rank</th><th scope=col>do.label</th><th scope=col>label_top_lfc</th><th scope=col>is.de</th><th scope=col>is.down</th><th scope=col>is.imprinted</th><th scope=col>is.paternal</th></tr>\n",
       "\t<tr><th></th><th scope=col>&lt;chr&gt;</th><th scope=col>&lt;lgl&gt;</th><th scope=col>&lt;lgl&gt;</th><th scope=col>&lt;dbl&gt;</th><th scope=col>&lt;dbl&gt;</th><th scope=col>&lt;dbl&gt;</th><th scope=col>&lt;dbl&gt;</th><th scope=col>&lt;dbl&gt;</th><th scope=col>&lt;dbl&gt;</th><th scope=col>&lt;lgl&gt;</th><th scope=col>⋯</th><th scope=col>&lt;lgl&gt;</th><th scope=col>&lt;dbl&gt;</th><th scope=col>&lt;dbl&gt;</th><th scope=col>&lt;dbl&gt;</th><th scope=col>&lt;lgl&gt;</th><th scope=col>&lt;chr&gt;</th><th scope=col>&lt;lgl&gt;</th><th scope=col>&lt;lgl&gt;</th><th scope=col>&lt;lgl&gt;</th><th scope=col>&lt;lgl&gt;</th></tr>\n",
       "</thead>\n",
       "<tbody>\n",
       "\t<tr><th scope=row>ASD.4894</th><td>DIO3OS</td><td>TRUE</td><td>TRUE</td><td>  2.454944</td><td>1.6332275</td><td>0.3754242</td><td> 4.350352</td><td> 1.359189e-05</td><td> 1.368553e-04</td><td>FALSE</td><td>⋯</td><td>TRUE</td><td>102</td><td>406</td><td>102</td><td>FALSE</td><td>NA  </td><td>TRUE</td><td>FALSE</td><td>TRUE</td><td>FALSE</td></tr>\n",
       "\t<tr><th scope=row>ASD.20398</th><td>H19   </td><td>TRUE</td><td>TRUE</td><td>  4.476916</td><td>1.2347929</td><td>0.2623510</td><td> 4.706644</td><td> 2.518278e-06</td><td> 3.102498e-05</td><td>FALSE</td><td>⋯</td><td>TRUE</td><td>219</td><td>354</td><td>219</td><td>FALSE</td><td>NA  </td><td>TRUE</td><td>FALSE</td><td>TRUE</td><td>FALSE</td></tr>\n",
       "\t<tr><th scope=row>ASD.26145</th><td>MEG3  </td><td>TRUE</td><td>TRUE</td><td>142.954244</td><td>3.7573414</td><td>0.1183913</td><td>31.736628</td><td>4.856293e-221</td><td>8.471804e-217</td><td>FALSE</td><td>⋯</td><td>TRUE</td><td>  9</td><td>  1</td><td>  9</td><td> TRUE</td><td>MEG3</td><td>TRUE</td><td>FALSE</td><td>TRUE</td><td>FALSE</td></tr>\n",
       "\t<tr><th scope=row>ASD.26146</th><td>MEG8  </td><td>TRUE</td><td>TRUE</td><td> 29.041581</td><td>3.1389680</td><td>0.1742565</td><td>18.013492</td><td> 1.526866e-72</td><td> 1.902584e-69</td><td>FALSE</td><td>⋯</td><td>TRUE</td><td> 16</td><td>  8</td><td> 16</td><td> TRUE</td><td>MEG8</td><td>TRUE</td><td>FALSE</td><td>TRUE</td><td>FALSE</td></tr>\n",
       "\t<tr><th scope=row>ASD.27863</th><td>NTM   </td><td>TRUE</td><td>TRUE</td><td>  8.146661</td><td>0.6734064</td><td>0.2078325</td><td> 3.240140</td><td> 1.194710e-03</td><td> 6.688612e-03</td><td>FALSE</td><td>⋯</td><td>TRUE</td><td>572</td><td>604</td><td>572</td><td>FALSE</td><td>NA  </td><td>TRUE</td><td>FALSE</td><td>TRUE</td><td>FALSE</td></tr>\n",
       "\t<tr><th scope=row>ASD.28527</th><td>OSBPL5</td><td>TRUE</td><td>TRUE</td><td>  7.072213</td><td>0.5198947</td><td>0.1663144</td><td> 3.125976</td><td> 1.772163e-03</td><td> 9.317473e-03</td><td>FALSE</td><td>⋯</td><td>TRUE</td><td>781</td><td>637</td><td>781</td><td>FALSE</td><td>NA  </td><td>TRUE</td><td>FALSE</td><td>TRUE</td><td>FALSE</td></tr>\n",
       "</tbody>\n",
       "</table>\n"
      ],
      "text/latex": [
       "A data.frame: 6 × 45\n",
       "\\begin{tabular}{r|lllllllllllllllllllll}\n",
       "  & gene & is.up & is.maternal & baseMean & log2FoldChange & lfcSE & stat & pvalue & padj & gene.is.tf & ⋯ & filt & rank.lfc & rank.pval & do.label.rank & do.label & label\\_top\\_lfc & is.de & is.down & is.imprinted & is.paternal\\\\\n",
       "  & <chr> & <lgl> & <lgl> & <dbl> & <dbl> & <dbl> & <dbl> & <dbl> & <dbl> & <lgl> & ⋯ & <lgl> & <dbl> & <dbl> & <dbl> & <lgl> & <chr> & <lgl> & <lgl> & <lgl> & <lgl>\\\\\n",
       "\\hline\n",
       "\tASD.4894 & DIO3OS & TRUE & TRUE &   2.454944 & 1.6332275 & 0.3754242 &  4.350352 &  1.359189e-05 &  1.368553e-04 & FALSE & ⋯ & TRUE & 102 & 406 & 102 & FALSE & NA   & TRUE & FALSE & TRUE & FALSE\\\\\n",
       "\tASD.20398 & H19    & TRUE & TRUE &   4.476916 & 1.2347929 & 0.2623510 &  4.706644 &  2.518278e-06 &  3.102498e-05 & FALSE & ⋯ & TRUE & 219 & 354 & 219 & FALSE & NA   & TRUE & FALSE & TRUE & FALSE\\\\\n",
       "\tASD.26145 & MEG3   & TRUE & TRUE & 142.954244 & 3.7573414 & 0.1183913 & 31.736628 & 4.856293e-221 & 8.471804e-217 & FALSE & ⋯ & TRUE &   9 &   1 &   9 &  TRUE & MEG3 & TRUE & FALSE & TRUE & FALSE\\\\\n",
       "\tASD.26146 & MEG8   & TRUE & TRUE &  29.041581 & 3.1389680 & 0.1742565 & 18.013492 &  1.526866e-72 &  1.902584e-69 & FALSE & ⋯ & TRUE &  16 &   8 &  16 &  TRUE & MEG8 & TRUE & FALSE & TRUE & FALSE\\\\\n",
       "\tASD.27863 & NTM    & TRUE & TRUE &   8.146661 & 0.6734064 & 0.2078325 &  3.240140 &  1.194710e-03 &  6.688612e-03 & FALSE & ⋯ & TRUE & 572 & 604 & 572 & FALSE & NA   & TRUE & FALSE & TRUE & FALSE\\\\\n",
       "\tASD.28527 & OSBPL5 & TRUE & TRUE &   7.072213 & 0.5198947 & 0.1663144 &  3.125976 &  1.772163e-03 &  9.317473e-03 & FALSE & ⋯ & TRUE & 781 & 637 & 781 & FALSE & NA   & TRUE & FALSE & TRUE & FALSE\\\\\n",
       "\\end{tabular}\n"
      ],
      "text/markdown": [
       "\n",
       "A data.frame: 6 × 45\n",
       "\n",
       "| <!--/--> | gene &lt;chr&gt; | is.up &lt;lgl&gt; | is.maternal &lt;lgl&gt; | baseMean &lt;dbl&gt; | log2FoldChange &lt;dbl&gt; | lfcSE &lt;dbl&gt; | stat &lt;dbl&gt; | pvalue &lt;dbl&gt; | padj &lt;dbl&gt; | gene.is.tf &lt;lgl&gt; | ⋯ ⋯ | filt &lt;lgl&gt; | rank.lfc &lt;dbl&gt; | rank.pval &lt;dbl&gt; | do.label.rank &lt;dbl&gt; | do.label &lt;lgl&gt; | label_top_lfc &lt;chr&gt; | is.de &lt;lgl&gt; | is.down &lt;lgl&gt; | is.imprinted &lt;lgl&gt; | is.paternal &lt;lgl&gt; |\n",
       "|---|---|---|---|---|---|---|---|---|---|---|---|---|---|---|---|---|---|---|---|---|---|\n",
       "| ASD.4894 | DIO3OS | TRUE | TRUE |   2.454944 | 1.6332275 | 0.3754242 |  4.350352 |  1.359189e-05 |  1.368553e-04 | FALSE | ⋯ | TRUE | 102 | 406 | 102 | FALSE | NA   | TRUE | FALSE | TRUE | FALSE |\n",
       "| ASD.20398 | H19    | TRUE | TRUE |   4.476916 | 1.2347929 | 0.2623510 |  4.706644 |  2.518278e-06 |  3.102498e-05 | FALSE | ⋯ | TRUE | 219 | 354 | 219 | FALSE | NA   | TRUE | FALSE | TRUE | FALSE |\n",
       "| ASD.26145 | MEG3   | TRUE | TRUE | 142.954244 | 3.7573414 | 0.1183913 | 31.736628 | 4.856293e-221 | 8.471804e-217 | FALSE | ⋯ | TRUE |   9 |   1 |   9 |  TRUE | MEG3 | TRUE | FALSE | TRUE | FALSE |\n",
       "| ASD.26146 | MEG8   | TRUE | TRUE |  29.041581 | 3.1389680 | 0.1742565 | 18.013492 |  1.526866e-72 |  1.902584e-69 | FALSE | ⋯ | TRUE |  16 |   8 |  16 |  TRUE | MEG8 | TRUE | FALSE | TRUE | FALSE |\n",
       "| ASD.27863 | NTM    | TRUE | TRUE |   8.146661 | 0.6734064 | 0.2078325 |  3.240140 |  1.194710e-03 |  6.688612e-03 | FALSE | ⋯ | TRUE | 572 | 604 | 572 | FALSE | NA   | TRUE | FALSE | TRUE | FALSE |\n",
       "| ASD.28527 | OSBPL5 | TRUE | TRUE |   7.072213 | 0.5198947 | 0.1663144 |  3.125976 |  1.772163e-03 |  9.317473e-03 | FALSE | ⋯ | TRUE | 781 | 637 | 781 | FALSE | NA   | TRUE | FALSE | TRUE | FALSE |\n",
       "\n"
      ],
      "text/plain": [
       "          gene   is.up is.maternal baseMean   log2FoldChange lfcSE    \n",
       "ASD.4894  DIO3OS TRUE  TRUE          2.454944 1.6332275      0.3754242\n",
       "ASD.20398 H19    TRUE  TRUE          4.476916 1.2347929      0.2623510\n",
       "ASD.26145 MEG3   TRUE  TRUE        142.954244 3.7573414      0.1183913\n",
       "ASD.26146 MEG8   TRUE  TRUE         29.041581 3.1389680      0.1742565\n",
       "ASD.27863 NTM    TRUE  TRUE          8.146661 0.6734064      0.2078325\n",
       "ASD.28527 OSBPL5 TRUE  TRUE          7.072213 0.5198947      0.1663144\n",
       "          stat      pvalue        padj          gene.is.tf ⋯ filt rank.lfc\n",
       "ASD.4894   4.350352  1.359189e-05  1.368553e-04 FALSE      ⋯ TRUE 102     \n",
       "ASD.20398  4.706644  2.518278e-06  3.102498e-05 FALSE      ⋯ TRUE 219     \n",
       "ASD.26145 31.736628 4.856293e-221 8.471804e-217 FALSE      ⋯ TRUE   9     \n",
       "ASD.26146 18.013492  1.526866e-72  1.902584e-69 FALSE      ⋯ TRUE  16     \n",
       "ASD.27863  3.240140  1.194710e-03  6.688612e-03 FALSE      ⋯ TRUE 572     \n",
       "ASD.28527  3.125976  1.772163e-03  9.317473e-03 FALSE      ⋯ TRUE 781     \n",
       "          rank.pval do.label.rank do.label label_top_lfc is.de is.down\n",
       "ASD.4894  406       102           FALSE    NA            TRUE  FALSE  \n",
       "ASD.20398 354       219           FALSE    NA            TRUE  FALSE  \n",
       "ASD.26145   1         9            TRUE    MEG3          TRUE  FALSE  \n",
       "ASD.26146   8        16            TRUE    MEG8          TRUE  FALSE  \n",
       "ASD.27863 604       572           FALSE    NA            TRUE  FALSE  \n",
       "ASD.28527 637       781           FALSE    NA            TRUE  FALSE  \n",
       "          is.imprinted is.paternal\n",
       "ASD.4894  TRUE         FALSE      \n",
       "ASD.20398 TRUE         FALSE      \n",
       "ASD.26145 TRUE         FALSE      \n",
       "ASD.26146 TRUE         FALSE      \n",
       "ASD.27863 TRUE         FALSE      \n",
       "ASD.28527 TRUE         FALSE      "
      ]
     },
     "metadata": {},
     "output_type": "display_data"
    },
    {
     "data": {
      "text/plain": [
       "       is.maternal\n",
       "is.up    TRUE FALSE\n",
       "  TRUE      6   902\n",
       "  FALSE    26 25474"
      ]
     },
     "metadata": {},
     "output_type": "display_data"
    },
    {
     "data": {
      "text/plain": [
       "\n",
       "\tFisher's Exact Test for Count Data\n",
       "\n",
       "data:  up.mat.impr.enrich\n",
       "p-value = 0.0006846\n",
       "alternative hypothesis: true odds ratio is greater than 1\n",
       "95 percent confidence interval:\n",
       " 2.615557      Inf\n",
       "sample estimates:\n",
       "odds ratio \n",
       "  6.516151 \n"
      ]
     },
     "metadata": {},
     "output_type": "display_data"
    }
   ],
   "source": [
    "up.mat.impr.enrich <- table(subset(pseudobulk.res, !in.sex_chr)%>%select(is.up, is.maternal))[2:1,2:1]\n",
    "up.mat.impr.enrich.test <- fisher.test(up.mat.impr.enrich, alternative = 'greater')\n",
    "subset(pseudobulk.res, !in.sex_chr&is.up&is.maternal)%>%select(gene, is.up, is.maternal, everything())\n",
    "up.mat.impr.enrich\n",
    "up.mat.impr.enrich.test"
   ]
  },
  {
   "cell_type": "code",
   "execution_count": 46,
   "id": "85a7d89c-ba54-4b94-ac47-c85b35bce5dd",
   "metadata": {},
   "outputs": [
    {
     "data": {
      "text/plain": [
       "       is.paternal\n",
       "is.de    TRUE FALSE\n",
       "  TRUE      8  1251\n",
       "  FALSE    47 25102"
      ]
     },
     "metadata": {},
     "output_type": "display_data"
    },
    {
     "data": {
      "text/plain": [
       "\n",
       "\tFisher's Exact Test for Count Data\n",
       "\n",
       "data:  pat.impr.enrich\n",
       "p-value = 0.004327\n",
       "alternative hypothesis: true odds ratio is greater than 1\n",
       "95 percent confidence interval:\n",
       " 1.611558      Inf\n",
       "sample estimates:\n",
       "odds ratio \n",
       "   3.41511 \n"
      ]
     },
     "metadata": {},
     "output_type": "display_data"
    }
   ],
   "source": [
    "pat.impr.enrich <- table(subset(pseudobulk.res, !in.sex_chr)%>%select(is.de, is.paternal))[2:1,2:1]\n",
    "pat.impr.enrich.test <- fisher.test(pat.impr.enrich, alternative = 'greater')\n",
    "pat.impr.enrich\n",
    "pat.impr.enrich.test"
   ]
  },
  {
   "cell_type": "code",
   "execution_count": 47,
   "id": "904234a7-fefa-47e3-86a3-c10f49dd066e",
   "metadata": {},
   "outputs": [
    {
     "data": {
      "text/plain": [
       "       is.imprinted\n",
       "is.de   TRUE FALSE\n",
       "  TRUE     3   128\n",
       "  FALSE   18  1310"
      ]
     },
     "metadata": {},
     "output_type": "display_data"
    },
    {
     "data": {
      "text/plain": [
       "\n",
       "\tFisher's Exact Test for Count Data\n",
       "\n",
       "data:  tf.impr.enrich\n",
       "p-value = 0.2903\n",
       "alternative hypothesis: true odds ratio is greater than 1\n",
       "95 percent confidence interval:\n",
       " 0.4221044       Inf\n",
       "sample estimates:\n",
       "odds ratio \n",
       "  1.704953 \n"
      ]
     },
     "metadata": {},
     "output_type": "display_data"
    }
   ],
   "source": [
    "tf.impr.enrich <- table(subset(pseudobulk.res, (!in.sex_chr)&gene.is.tf)%>%select(is.de, is.imprinted))[2:1,2:1]\n",
    "tf.impr.enrich.test <- fisher.test(tf.impr.enrich, alternative = 'greater')\n",
    "tf.impr.enrich\n",
    "tf.impr.enrich.test"
   ]
  },
  {
   "cell_type": "code",
   "execution_count": 70,
   "id": "c771b0e9-2008-4b1a-b6cc-bcd6f0b9f787",
   "metadata": {},
   "outputs": [
    {
     "name": "stdout",
     "output_type": "stream",
     "text": [
      "[1] 0.05\n",
      "[1] 0.5\n"
     ]
    },
    {
     "data": {
      "text/plain": [
       "log2FoldChange\n",
       " -1   1 \n",
       "351 908 "
      ]
     },
     "metadata": {},
     "output_type": "display_data"
    },
    {
     "data": {
      "text/html": [
       "1259"
      ],
      "text/latex": [
       "1259"
      ],
      "text/markdown": [
       "1259"
      ],
      "text/plain": [
       "[1] 1259"
      ]
     },
     "metadata": {},
     "output_type": "display_data"
    },
    {
     "data": {
      "text/plain": [
       "log2FoldChange\n",
       "-1  1 \n",
       "40 91 "
      ]
     },
     "metadata": {},
     "output_type": "display_data"
    },
    {
     "data": {
      "text/html": [
       "131"
      ],
      "text/latex": [
       "131"
      ],
      "text/markdown": [
       "131"
      ],
      "text/plain": [
       "[1] 131"
      ]
     },
     "metadata": {},
     "output_type": "display_data"
    }
   ],
   "source": [
    "unique(subset(pseudobulk.res, !(in.sex_chr) & (padj < padj.thres)&(abs(log2FoldChange) > logfc.thres))%>% \n",
    "           select(log2FoldChange)) %>% \n",
    "    mutate(log2FoldChange=sign(log2FoldChange))%>%\n",
    "    table() -> a\n",
    "unique(subset(pseudobulk.res, !(in.sex_chr) & (padj < padj.thres)&(abs(log2FoldChange) > logfc.thres) & gene.is.tf)%>% \n",
    "           select(log2FoldChange)) %>% \n",
    "    mutate(log2FoldChange=sign(log2FoldChange))%>%\n",
    "    table() -> b\n",
    "# unique(subset(pseudobulk.res, !(in.sex_chr) & (padj < padj.thres)&(abs(log2FoldChange) > logfc.thres)&gene.is.tf)$gene)%>%length()\n",
    "print(padj.thres)\n",
    "print(logfc.thres)\n",
    "a\n",
    "sum(a)\n",
    "b\n",
    "sum(b)"
   ]
  },
  {
   "cell_type": "markdown",
   "id": "654270fb-308e-408e-abcc-73b64e5b131c",
   "metadata": {
    "tags": []
   },
   "source": [
    "### PSEUDOBULK PER PHASE"
   ]
  },
  {
   "cell_type": "code",
   "execution_count": 18,
   "id": "8c22a618-1c20-4bc2-ad9e-03fcd83c3e58",
   "metadata": {
    "scrolled": true,
    "tags": []
   },
   "outputs": [
    {
     "name": "stdout",
     "output_type": "stream",
     "text": [
      "[1] \"filter.None\"\n"
     ]
    },
    {
     "name": "stderr",
     "output_type": "stream",
     "text": [
      "The following `from` values were not present in `x`: TRUE TRUE, FALSE TRUE\n",
      "\n",
      "The following `from` values were not present in `x`: TRUE TRUE, FALSE TRUE\n",
      "\n",
      "The following `from` values were not present in `x`: TRUE TRUE, FALSE TRUE\n",
      "\n",
      "\u001b[1m\u001b[22mScale for \u001b[32mx\u001b[39m is already present.\n",
      "Adding another scale for \u001b[32mx\u001b[39m, which will replace the existing scale.\n",
      "Warning message in geom_text_repel(mapping = repel.aes, size = size.text, segment.alpha = label.segment.alpha, :\n",
      "“\u001b[1m\u001b[22mIgnoring unknown aesthetics: \u001b[32mnudge_x\u001b[39m”\n",
      "\u001b[1m\u001b[22mScale for \u001b[32mx\u001b[39m is already present.\n",
      "Adding another scale for \u001b[32mx\u001b[39m, which will replace the existing scale.\n",
      "Warning message in geom_text_repel(mapping = repel.aes, size = size.text, segment.alpha = label.segment.alpha, :\n",
      "“\u001b[1m\u001b[22mIgnoring unknown aesthetics: \u001b[32mnudge_x\u001b[39m”\n",
      "\u001b[1m\u001b[22mScale for \u001b[32mx\u001b[39m is already present.\n",
      "Adding another scale for \u001b[32mx\u001b[39m, which will replace the existing scale.\n",
      "Warning message in geom_text_repel(mapping = repel.aes, size = size.text, segment.alpha = label.segment.alpha, :\n",
      "“\u001b[1m\u001b[22mIgnoring unknown aesthetics: \u001b[32mnudge_x\u001b[39m”\n",
      "Warning message:\n",
      "“\u001b[1m\u001b[22mRemoved 26352 rows containing missing values (`geom_text_repel()`).”\n",
      "Warning message:\n",
      "“\u001b[1m\u001b[22mRemoved 26352 rows containing missing values (`geom_text_repel()`).”\n",
      "Warning message:\n",
      "“\u001b[1m\u001b[22mRemoved 26352 rows containing missing values (`geom_text_repel()`).”\n",
      "Warning message:\n",
      "“\u001b[1m\u001b[22mRemoved 26352 rows containing missing values (`geom_text_repel()`).”\n"
     ]
    },
    {
     "name": "stdout",
     "output_type": "stream",
     "text": [
      "[1] \"filter.None\"\n"
     ]
    },
    {
     "name": "stderr",
     "output_type": "stream",
     "text": [
      "The following `from` values were not present in `x`: TRUE TRUE, FALSE TRUE\n",
      "\n"
     ]
    },
    {
     "name": "stdout",
     "output_type": "stream",
     "text": [
      "Updading number of genes 30 < 79 ->>> 80\n"
     ]
    },
    {
     "name": "stderr",
     "output_type": "stream",
     "text": [
      "The following `from` values were not present in `x`: TRUE TRUE, FALSE TRUE\n",
      "\n"
     ]
    },
    {
     "name": "stdout",
     "output_type": "stream",
     "text": [
      "Updading number of genes 30 < 54 ->>> 55\n"
     ]
    },
    {
     "name": "stderr",
     "output_type": "stream",
     "text": [
      "The following `from` values were not present in `x`: TRUE TRUE, FALSE TRUE\n",
      "\n"
     ]
    },
    {
     "name": "stdout",
     "output_type": "stream",
     "text": [
      "Updading number of genes 30 < 57 ->>> 60\n"
     ]
    },
    {
     "name": "stderr",
     "output_type": "stream",
     "text": [
      "\u001b[1m\u001b[22mScale for \u001b[32mx\u001b[39m is already present.\n",
      "Adding another scale for \u001b[32mx\u001b[39m, which will replace the existing scale.\n",
      "Warning message in geom_text_repel(mapping = repel.aes, size = size.text, segment.alpha = label.segment.alpha, :\n",
      "“\u001b[1m\u001b[22mIgnoring unknown aesthetics: \u001b[32mnudge_x\u001b[39m”\n",
      "\u001b[1m\u001b[22mScale for \u001b[32mx\u001b[39m is already present.\n",
      "Adding another scale for \u001b[32mx\u001b[39m, which will replace the existing scale.\n",
      "Warning message in geom_text_repel(mapping = repel.aes, size = size.text, segment.alpha = label.segment.alpha, :\n",
      "“\u001b[1m\u001b[22mIgnoring unknown aesthetics: \u001b[32mnudge_x\u001b[39m”\n",
      "\u001b[1m\u001b[22mScale for \u001b[32mx\u001b[39m is already present.\n",
      "Adding another scale for \u001b[32mx\u001b[39m, which will replace the existing scale.\n",
      "Warning message in geom_text_repel(mapping = repel.aes, size = size.text, segment.alpha = label.segment.alpha, :\n",
      "“\u001b[1m\u001b[22mIgnoring unknown aesthetics: \u001b[32mnudge_x\u001b[39m”\n",
      "Warning message:\n",
      "“\u001b[1m\u001b[22mRemoved 26252 rows containing missing values (`geom_text_repel()`).”\n",
      "Warning message:\n",
      "“\u001b[1m\u001b[22mRemoved 26252 rows containing missing values (`geom_text_repel()`).”\n",
      "Warning message:\n",
      "“\u001b[1m\u001b[22mRemoved 26292 rows containing missing values (`geom_text_repel()`).”\n",
      "Warning message:\n",
      "“\u001b[1m\u001b[22mRemoved 26302 rows containing missing values (`geom_text_repel()`).”\n",
      "Warning message:\n",
      "“ggrepel: 74 unlabeled data points (too many overlaps). Consider increasing max.overlaps”\n",
      "Warning message:\n",
      "“ggrepel: 48 unlabeled data points (too many overlaps). Consider increasing max.overlaps”\n",
      "Warning message:\n",
      "“ggrepel: 16 unlabeled data points (too many overlaps). Consider increasing max.overlaps”\n"
     ]
    }
   ],
   "source": [
    "for (gene.lab in c('label_top_lfc', 'label_top_pva')){\n",
    "    # top.n <- if (gene.lab=='label_top_lfc'){50}else{70}\n",
    "    cairo_pdf(glue::glue('{today_dir}pseudobulk_rge.per_phases.{gene.lab}_notENSID.pdf'), height=8, width=20, onefile = T)\n",
    "    # for(exp.filt in c('filter.None', names(exp.filt.opts))){\n",
    "    for(exp.filt in c('filter.None')){\n",
    "\n",
    "        print(exp.filt)\n",
    "\n",
    "        # data\n",
    "        marker_dfs <- lapply(split(markers.phase, markers.phase$Phase), function(x){\n",
    "\n",
    "            top.n <- top.n.gral\n",
    "\n",
    "            # fill na and remove 0\n",
    "            pseudobulk.res <- subset(x, (baseMean!=0) & !gene%in%sex_chr.genes)\n",
    "            pseudobulk.res <- pseudobulk.res %>% mutate(padj = ifelse(is.na(padj),1, padj))\n",
    "\n",
    "            # categorise genes\n",
    "            pseudobulk.res$`Gene class` <- plyr::mapvalues(\n",
    "                x = paste(pseudobulk.res$gene%in%tf.genes, pseudobulk.res$gene%in%sex_chr.genes),\n",
    "                from = col.labs, to=names(col.labs))\n",
    "\n",
    "            # Apply filter\n",
    "            pseudobulk.res$filt <- if (exp.filt == 'filter.None'){T} else{ pseudobulk.res[,exp.filt]}\n",
    "            pseudobulk.res$filt <- pseudobulk.res$filt & \n",
    "                (pseudobulk.res$padj < padj.thres)&\n",
    "                (abs(pseudobulk.res$log2FoldChange)>=logfc.thres)#&\n",
    "                # pseudobulk.res$protein_coding\n",
    "                # !stringr::str_starts(string = pseudobulk.res$gene, pattern = 'ENSG')\n",
    "\n",
    "\n",
    "            to_rank <- if (!n_by_side){ list(pseudobulk.res)\n",
    "                                      } else {to_rank <- split(pseudobulk.res, pseudobulk.res$overexpressed.in)}\n",
    "\n",
    "            lapply(to_rank, function(res){\n",
    "                res$do.label.rank <- if(gene.lab == 'label_top_lfc'){compute_rank(res$log2FoldChange, mask = res$filt, mode='lfc')        \n",
    "                                                                    }else{compute_rank(res$padj, mask = res$filt, mode='pval')}\n",
    "                return(res)\n",
    "            }) %>% do.call(what='rbind') %>% as.data.frame() -> pseudobulk.res\n",
    "\n",
    "\n",
    "            if (!is.null(check_ranks)){\n",
    "\n",
    "                checked_ranks <- subset(pseudobulk.res, gene%in%check_ranks)[,c('gene', 'do.label.rank')]\n",
    "                min.rank <- max(checked_ranks[is.finite(checked_ranks[,2]),2])\n",
    "\n",
    "                if (!is.null(min.rank)){ if(min.rank >top.n){\n",
    "                    z <- if (n_by_side){5}else{10}\n",
    "                    top.n <- ceiling(min.rank/z)*z\n",
    "                    print(glue::glue('Updading number of genes {top.n.gral} < {min.rank} ->>> {top.n}'))\n",
    "                }}\n",
    "\n",
    "                if (check_ranks_only){ next() }\n",
    "            }\n",
    "            pseudobulk.res$do.label <- pseudobulk.res$do.label.rank <= top.n\n",
    "            pseudobulk.res[, gene.lab] <- ifelse(pseudobulk.res$do.label, pseudobulk.res$gene, NA)\n",
    "\n",
    "            \n",
    "            pseudobulk.res\n",
    "        })\n",
    "\n",
    "        # plots\n",
    "        lapply(marker_dfs[c(1,3,2)], function(x){\n",
    "               basic.volcano(x,\n",
    "                distribute.labels.y = F,\n",
    "                quadrants.colors =  c('tomato', 'blue', 'grey', 'grey', 'darkgrey'),\n",
    "                fill.logFC = F,\n",
    "                p.lines = c(padj.thres),\n",
    "                fc.lines = c(logfc.thres),\n",
    "                expand.y.factor = 0.01,\n",
    "                label.xlim.factor = rev(c(1.3, 1.5, 1.5)),\n",
    "                # label.xlim.factor =1.5,\n",
    "\n",
    "                quadrants = c(padj.thres, logfc.thres),\n",
    "                # palette = 'Blue-Red 2', palette.type='colorspace', \n",
    "                palette='turbo', palette.type='viridis',\n",
    "                label.sides.movement='y',\n",
    "\n",
    "                title=glue::glue('ASD vs Control gene expression in {unique(x$Phase)} (Early Radial Glia)'), \n",
    "                subtitle=glue::glue(\n",
    "                    'Labeled top {sum(!is.na(x[,gene.lab]))} genes over- and underexpressed (adj. p-val < {padj.thres})\\n{if (exp.filt==\"filter.None\"){\"\"}else{exp.filt.opts[[exp.filt]]}}'),\n",
    "\n",
    "                p_val = 'padj', logFC = 'log2FoldChange',\n",
    "                label = gene.lab, label.sides = T,\n",
    "\n",
    "\n",
    "                label.groups='Gene class', label.colors=volc.colors, label.segment.alpha=0.3,\n",
    "                max.overlaps=20, max.iter=2E6, max.time=25, label.segment.curvature=0) + \n",
    "            theme(plot.subtitle=element_text(size=6))\n",
    "\n",
    "        }) -> p3.phases\n",
    "        # combine\n",
    "        p3.combined <- ggarrange(plotlist = p3.phases, nrow=1, align='h', common.legend = T)\n",
    "\n",
    "        # save\n",
    "        plot(p3.combined)\n",
    "    }\n",
    "    dev.off()\n",
    "}"
   ]
  },
  {
   "cell_type": "raw",
   "id": "f2fe07f5-12b9-47d8-a94d-a3a8be1b8d73",
   "metadata": {
    "tags": []
   },
   "source": [
    "basic.volcano(\n",
    "    distribute.labels.y = T,\n",
    "    quadrants.colors =  c('tomato', 'blue', 'grey', 'grey', 'darkgrey'),\n",
    "    fill.logFC = F,\n",
    "    p.lines = c(padj.thres),\n",
    "    fc.lines = c(logfc.thres),\n",
    "    expand.y.factor = 0.01,\n",
    "    label.xlim.factor = rev(c(1.1, 1.3, 1.5)),\n",
    "    # label.xlim.factor =1.5,\n",
    "    \n",
    "    quadrants = c(padj.thres, logfc.thres),\n",
    "    # palette = 'Blue-Red 2', palette.type='colorspace', \n",
    "    palette='turbo', palette.type='viridis',\n",
    "    pseudobulk.res, label.sides.movement='both',\n",
    "    \n",
    "    title='ASD vs Control gene expression in Early Radial Glia', \n",
    "    subtitle=glue::glue('Top genes over- and underexpressed (adj. p-val < {padj.thres})'),\n",
    "    \n",
    "    p_val = 'padj', logFC = 'log2FoldChange',\n",
    "    label = 'gene.filt.ANY', label.sides = T,\n",
    "    \n",
    "    \n",
    "    label.groups='Gene class', label.colors=volc.colors, label.segment.alpha=0.3,\n",
    "    max.overlaps=15, max.iter=1E6, max.time=20, label.segment.curvature=0) -> p1\n",
    "\n",
    "fig(10,7)\n",
    "p1\n",
    "\n",
    "basic.volcano(\n",
    "    distribute.labels.y = F,\n",
    "    quadrants.colors =  c('tomato', 'blue', 'grey', 'grey', 'darkgrey'),\n",
    "    fill.logFC = F,\n",
    "    p.lines = c(padj.thres),\n",
    "    fc.lines = c(logfc.thres),\n",
    "    expand.y.factor = 0.01,\n",
    "    label.xlim.factor = c(.5, .5, .7,  1.3),\n",
    "    # label.xlim.factor =1.5,\n",
    "    \n",
    "    quadrants = c(padj.thres, logfc.thres),\n",
    "    # palette = 'Blue-Red 2', palette.type='colorspace', \n",
    "    palette='turbo', palette.type='viridis',\n",
    "    pseudobulk.res, label.sides.movement='both',\n",
    "    \n",
    "    title='ASD vs Control gene expression in Early Radial Glia', \n",
    "    subtitle=glue::glue('Top genes over- and underexpressed (adj. p-val < {padj.thres})'),\n",
    "    \n",
    "    p_val = 'padj', logFC = 'log2FoldChange',\n",
    "    label = 'gene.filt.ANY', label.sides = T,\n",
    "    \n",
    "    \n",
    "    label.groups='Gene class', label.colors=volc.colors, label.segment.alpha=0.3,\n",
    "    max.overlaps=15, max.iter=1E6, max.time=20, label.segment.curvature=0) -> p2\n",
    "\n",
    "fig(10,7)\n",
    "p2\n",
    "\n",
    "cairo_pdf(glue::glue('{today_dir}pseudobulk_rge.1.pdf'), height=7, width=10)\n",
    "plot(p1)\n",
    "dev.off()\n",
    "\n",
    "cairo_pdf(glue::glue('{today_dir}pseudobulk_rge.2.pdf'), height=7, width=10)\n",
    "plot(p2)\n",
    "dev.off()"
   ]
  }
 ],
 "metadata": {
  "kernelspec": {
   "display_name": "Portfolio (R)",
   "language": "R",
   "name": "portfolio-r"
  },
  "language_info": {
   "codemirror_mode": "r",
   "file_extension": ".r",
   "mimetype": "text/x-r-source",
   "name": "R",
   "pygments_lexer": "r",
   "version": "4.3.1"
  }
 },
 "nbformat": 4,
 "nbformat_minor": 5
}
