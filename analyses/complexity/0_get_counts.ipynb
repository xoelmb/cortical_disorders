{
 "cells": [
  {
   "cell_type": "code",
   "execution_count": null,
   "id": "8b3c73e8-5077-4d84-88df-bab3c2c8d257",
   "metadata": {
    "execution": {
     "iopub.execute_input": "2024-12-03T14:24:52.942329Z",
     "iopub.status.busy": "2024-12-03T14:24:52.941793Z",
     "iopub.status.idle": "2024-12-03T14:30:01.075414Z",
     "shell.execute_reply": "2024-12-03T14:30:01.073540Z",
     "shell.execute_reply.started": "2024-12-03T14:24:52.942268Z"
    }
   },
   "outputs": [],
   "source": [
    "import os\n",
    "import numpy as np\n",
    "from tqdm.auto import tqdm\n",
    "import pandas as pd\n",
    "import scanpy as sc\n",
    "import celloracle as co"
   ]
  },
  {
   "cell_type": "code",
   "execution_count": null,
   "id": "bc97c49d-83ee-4d0f-a4ea-7aa129802220",
   "metadata": {
    "execution": {
     "iopub.execute_input": "2024-12-03T14:30:01.083689Z",
     "iopub.status.busy": "2024-12-03T14:30:01.083201Z",
     "iopub.status.idle": "2024-12-03T14:39:50.261476Z",
     "shell.execute_reply": "2024-12-03T14:39:50.259474Z",
     "shell.execute_reply.started": "2024-12-03T14:30:01.083629Z"
    },
    "scrolled": true
   },
   "outputs": [],
   "source": [
    "# Define path for the main AnnData file\n",
    "adata_path = '/users/genomics/xoel/codebases/co_new/data/Trevino.RNA.reannotated.slim.h5ad'\n",
    "# Load counts of the dataset\n",
    "adata = sc.read_h5ad(adata_path, backed=False)"
   ]
  },
  {
   "cell_type": "code",
   "execution_count": null,
   "id": "301111c3-357b-4c51-a573-9ab684f29fc1",
   "metadata": {
    "execution": {
     "iopub.execute_input": "2024-12-03T14:39:50.269895Z",
     "iopub.status.busy": "2024-12-03T14:39:50.269358Z",
     "iopub.status.idle": "2024-12-03T14:42:34.451195Z",
     "shell.execute_reply": "2024-12-03T14:42:34.449280Z",
     "shell.execute_reply.started": "2024-12-03T14:39:50.269835Z"
    },
    "scrolled": true
   },
   "outputs": [],
   "source": [
    "# Define base directory for CellOracle files\n",
    "bdir = '/users/genomics/xoel/codebases/co_new/data/'\n",
    "ocle_files = !find {bdir} -maxdepth 2 -type f -name '*Oracle.Perturbation.celloracle.oracle'\n",
    "ocle_files = {os.path.basename(os.path.dirname(v)): v for v in ocle_files}\n",
    "\n",
    "ocle_metas = {k: co.load_hdf5(v).adata.obs[['final.label']] for k, v in ocle_files.items()}\n"
   ]
  },
  {
   "cell_type": "code",
   "execution_count": 4,
   "id": "6ad7e719-ad3c-4da0-8916-e4e2ff694e8f",
   "metadata": {
    "execution": {
     "iopub.execute_input": "2024-12-03T14:42:34.472885Z",
     "iopub.status.busy": "2024-12-03T14:42:34.472362Z",
     "iopub.status.idle": "2024-12-03T14:42:34.490711Z",
     "shell.execute_reply": "2024-12-03T14:42:34.489163Z",
     "shell.execute_reply.started": "2024-12-03T14:42:34.472827Z"
    }
   },
   "outputs": [
    {
     "data": {
      "text/plain": [
       "AnnData object with n_obs × n_vars = 57868 × 21720\n",
       "    obs: 'Cell.ID', 'Sample.ID', 'Age', 'Tissue.ID', 'Sample.Type', 'Assay', 'Batch', 'seurat_clusters', 'RNA.Counts', 'RNA.Features', 'Percent.MT', 'Percent.Ribo', 'Cell.Barcode', 'DF_pANN', 'DF_classification', 'DF_pANN_quantile', 'Spliced.Counts', 'Spliced.Features', 'Unspliced.Counts', 'Unspliced.Features', 'Ambiguous.Counts', 'Ambiguous.Features', 'Cluster.ID', 'Cluster.Name', 'Cluster.LongName', 'Cluster.In.GluN.trajectory', 'Cluster.Color', 'Cluster.Order', 'Cluster.N_cells', 'cell.type', 'UMAP_0', 'UMAP_1', 'velocity_pseudotime', 'initial_size_unspliced', 'initial_size_spliced', 'initial_size', 'n_counts', 'velocity_self_transition', 'CellType', 'Lineage', 'root_cells', 'end_points', 'nesc_id', 'nesc_id.is_rgc', 'rgcs_id', 'rgcs_id.is_rgc', 'new.annot', 'annot.qc.pass', 'log10.RNA.Counts', 'S_score', 'G2M_score', 'phase', 'n_genes_by_counts', 'log1p_n_genes_by_counts', 'total_counts', 'log1p_total_counts', 'pct_counts_in_top_50_genes', 'pct_counts_in_top_100_genes', 'pct_counts_in_top_200_genes', 'pct_counts_in_top_500_genes', 'reannotated type', 'was reannot', 'original type', 'failed reannot', 'final type', 'final.label', 'label.color'\n",
       "    var: 'Gene.ID', 'Gene.Symbol', 'Gene.Name', 'Is TF?'\n",
       "    uns: 'final.label_colors'\n",
       "    obsm: 'X_umap', 'X_umap_original'"
      ]
     },
     "execution_count": 4,
     "metadata": {},
     "output_type": "execute_result"
    }
   ],
   "source": [
    "adata"
   ]
  },
  {
   "cell_type": "code",
   "execution_count": null,
   "id": "9c4ebd76-778f-4ea5-8143-a4018718f18d",
   "metadata": {
    "execution": {
     "iopub.execute_input": "2024-12-03T15:04:10.627743Z",
     "iopub.status.busy": "2024-12-03T15:04:10.627238Z"
    }
   },
   "outputs": [
    {
     "data": {
      "application/vnd.jupyter.widget-view+json": {
       "model_id": "8f598aaafa7942a69674209b74677054",
       "version_major": 2,
       "version_minor": 0
      },
      "text/plain": [
       "  0%|          | 0/7 [00:00<?, ?it/s]"
      ]
     },
     "metadata": {},
     "output_type": "display_data"
    },
    {
     "name": "stdout",
     "output_type": "stream",
     "text": [
      "NeuralPCW24\n"
     ]
    }
   ],
   "source": [
    "for k, v in tqdm(ocle_metas.items()):\n",
    "\n",
    "    print(k)\n",
    "    v.to_csv(f'{k}.metadata.csv')\n",
    "    \n",
    "    pd.DataFrame(adata[v.index.tolist(),:].X,\n",
    "                 index=v.index,\n",
    "                 columns=adata.var_names).to_csv(f'{k}.counts.csv')\n",
    "    "
   ]
  }
 ],
 "metadata": {
  "kernelspec": {
   "display_name": "CellOracle 0.12 (Python 3.8.6)",
   "language": "python",
   "name": "co_0.12"
  },
  "language_info": {
   "codemirror_mode": {
    "name": "ipython",
    "version": 3
   },
   "file_extension": ".py",
   "mimetype": "text/x-python",
   "name": "python",
   "nbconvert_exporter": "python",
   "pygments_lexer": "ipython3",
   "version": "3.8.10"
  }
 },
 "nbformat": 4,
 "nbformat_minor": 5
}
