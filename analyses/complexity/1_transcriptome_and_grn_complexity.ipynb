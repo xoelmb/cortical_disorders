{
 "cells": [
  {
   "cell_type": "markdown",
   "id": "5cc319b3-4e9f-4b5d-b17b-d0c186048dc3",
   "metadata": {},
   "source": [
    "# Set up"
   ]
  },
  {
   "cell_type": "code",
   "execution_count": null,
   "id": "9c39e8a3-3e21-4aaf-841c-47073030f96f",
   "metadata": {
    "execution": {
     "iopub.execute_input": "2024-12-05T11:24:10.462073Z",
     "iopub.status.busy": "2024-12-05T11:24:10.459104Z",
     "iopub.status.idle": "2024-12-05T11:25:22.443258Z",
     "shell.execute_reply": "2024-12-05T11:25:22.440841Z"
    },
    "scrolled": true,
    "tags": [],
    "vscode": {
     "languageId": "r"
    }
   },
   "outputs": [
    {
     "name": "stdout",
     "output_type": "stream",
     "text": [
      "\n",
      "> setwd(\"/users/genomics/xoel/codebases/co_new/results/\")\n",
      "\n",
      "> plotdir <- \"Plots/\"\n",
      "\n",
      "> dir.create(plotdir, showWarnings = F)\n",
      "\n",
      "> library(ggplot2)\n",
      "\n",
      "> library(ggh4x)\n",
      "\n",
      "> library(ggpubr)\n",
      "\n",
      "> library(ggrepel)\n",
      "\n",
      "> library(tidyr)\n",
      "\n",
      "> library(dplyr)\n"
     ]
    },
    {
     "name": "stderr",
     "output_type": "stream",
     "text": [
      "\n",
      "Attaching package: ‘dplyr’\n",
      "\n",
      "\n",
      "The following objects are masked from ‘package:stats’:\n",
      "\n",
      "    filter, lag\n",
      "\n",
      "\n",
      "The following objects are masked from ‘package:base’:\n",
      "\n",
      "    intersect, setdiff, setequal, union\n",
      "\n",
      "\n"
     ]
    },
    {
     "name": "stdout",
     "output_type": "stream",
     "text": [
      "\n",
      "> fig <- function(width, heigth) {\n",
      "+     options(repr.plot.width = width, repr.plot.height = heigth)\n",
      "+ }\n",
      "\n",
      "> CellTypeAnnot <- c(\"vRG E\", \"vRG L\", \"tRG\", \"oRG E\", \n",
      "+     \"oRG L\", \"nIPC\", \"Neu E\", \"GluN3\", \"GluN1\", \"GluN2\", \"GluN7\", \n",
      "+     \"GluN5\", \"GluN4\", \" ...\" ... [TRUNCATED] \n",
      "\n",
      "> CellTypeOrder <- c(\"RGC\", \"vRG\", \"vtRG\", \"oRG\", \"RG E\", \n",
      "+     \"RG L\", \"vRG E\", \"vRG L\", \"tRG\", \"oRG E\", \"oRG L\", \"Neural\", \n",
      "+     \"GluN\", \"nIPC\", \" ...\" ... [TRUNCATED] \n",
      "\n",
      "> CellTypeLabels <- CellTypeOrder\n",
      "\n",
      "> CellTypeColor <- setNames(c(\"#bec1d4\", \"#7d87b9\", \n",
      "+     \"#023fa5\", \"#d6bcc0\", \"#bb7784\", \"#8e063b\", \"#b5bbe3\", \"#8595e1\", \n",
      "+     \"#4a6fe3\", \"#e6afb ...\" ... [TRUNCATED] \n",
      "\n",
      "> ctinfo <- data.frame(hex = CellTypeColor, Name = factor(names(CellTypeColor))) %>% \n",
      "+     mutate(`Common label` = Name)\n",
      "\n",
      "> plot.celltype <- ggplot(data = ctinfo, mapping = aes(x = 0, \n",
      "+     y = Name, fill = `Common label`)) + geom_tile() + scale_fill_manual(values = Cell .... [TRUNCATED] \n",
      "\n",
      "> plot.celltype\n",
      "\n",
      "> write.csv(ctinfo, file = \"CellTypeColorGroups.csv\", \n",
      "+     row.names = FALSE)\n",
      "\n",
      "> write.csv(ctinfo[, c(\"Name\", \"hex\")], file = \"CellTypeColor.csv\", \n",
      "+     row.names = FALSE)\n",
      "\n",
      "> RegulonDiseaseOrder <- c(\"Polymicrogyria\", \"RareMCD\", \n",
      "+     \"MDD_2018\", \"ASD_2019\", \"ASD_HC65\", \"SFAR_Synd\", \"SFAR_S1\", \n",
      "+     \"FCDandmTOR\", \"DevDy ...\" ... [TRUNCATED] \n",
      "\n",
      "> DiseaseOrder <- c(\"Microcephaly\", \"Hydrocephaly\", \n",
      "+     \"Cobblestone\", \"AN_2019\", \"AD_2019\", \"ADHD_2019\", \"BD_2019\", \n",
      "+     \"NEUROT_2018\", \"IQ_2018 ...\" ... [TRUNCATED] \n",
      "\n",
      "> DiseaseColor <- c(Microcephaly = \"#1f77b4\", Hydrocephaly = \"#aec7e8\", \n",
      "+     Cobblestone = \"#ff7f0e\", AN_2019 = \"#ffbb78\", AD_2019 = \"#2ca02c\", \n",
      "+   .... [TRUNCATED] \n",
      "\n",
      "> write.csv(as.data.frame(DiseaseColor), file = \"DiseaseColor.csv\")\n",
      "\n",
      "> DiseaseExclude <- c(\"CHD8\", \"FMRP\")\n",
      "\n",
      "> RoleOrder <- c(\"none\", \"Ultra peripheral\", \"Peripheral\", \n",
      "+     \"Connector\", \"Kinless\", \"Provincial Hub\", \"Connector Hub\", \n",
      "+     \"Kinless Hub\")\n",
      "\n",
      "> RoleColors <- c(none = \"black\", `Ultra peripheral` = \"#7B7578\", \n",
      "+     Peripheral = \"#F39D85\", Connector = \"#B8DC9F\", Kinless = \"#8F95C7\", \n",
      "+     `P .... [TRUNCATED] \n",
      "\n",
      "> SampleLabels <- c(RGCmaturation = \"NEP maturation\", \n",
      "+     NeuralPCW16 = \"Neurogenesis\", NeuralPCW20 = \"Neurogenesis\", \n",
      "+     NeuralPCW21 = \"Neuroge ...\" ... [TRUNCATED] \n",
      "\n",
      "> SampleOrder <- names(SampleLabels)\n",
      "\n",
      "> SampleLabelOrder <- c(\"NEP maturation\", \"Neurogenesis\", \n",
      "+     \"Gliogenesis\")\n",
      "\n",
      "> SampleInclude <- c(\"NeuralPCW20\", \"Gliogenesis\")\n",
      "\n",
      "> ScoreInclude <- c(\"degree_all\", \"degree_centrality_all\", \n",
      "+     \"degree_in\", \"degree_centrality_in\", \"degree_out\", \"degree_centrality_out\", \n",
      "+     \" ...\" ... [TRUNCATED] \n",
      "\n",
      "> ScoreLabels <- c(degree_all = \"Degree (all)\", degree_centrality_all = \"Degree centrality (all)\", \n",
      "+     degree_in = \"Degree (in)\", degree_centrality .... [TRUNCATED] \n",
      "\n",
      "> TranscriptionFactors <- read.csv(\"~/codebases/cortical_disorders2/raw/HumanTFs/DatabaseExtract_v_1.01.csv\", \n",
      "+     row.names = 1)\n",
      "\n",
      "> tf_genes <- unique(gsub(\" \", \"\", split(TranscriptionFactors, \n",
      "+     TranscriptionFactors$Is.TF.)[[\"Yes\"]]$HGNC.symbol, fixed = T))\n",
      "\n",
      "> DisRegulons.long <- read.csv(\"~/codebases/cortical_disorders2/results/RCT_diseases/cisTarget_regulons.csv\")\n",
      "\n",
      "> DisRegulons.long$Disease <- factor(DisRegulons.long$geneSet, \n",
      "+     DiseaseOrder)\n",
      "\n",
      "> regulon_list_per_disease <- split(DisRegulons.long, \n",
      "+     DisRegulons.long$Disease)\n",
      "\n",
      "> gene_list_per_disregulon <- lapply(regulon_list_per_disease, \n",
      "+     function(x) {\n",
      "+         unique(c(x$Core, x$Target))\n",
      "+     })\n",
      "\n",
      "> disregulon_genes <- unique(unlist(gene_list_per_disregulon))\n",
      "\n",
      "> PeakRegulons.long <- read.csv(\"~/codebases/cortical_disorders2/results/RCT_peaks/cisTarget_regulons.csv\")\n",
      "\n",
      "> PeakRegulons.long$Peak <- factor(PeakRegulons.long$geneSet, \n",
      "+     unique(PeakRegulons.long$geneSet))\n",
      "\n",
      "> regulon_list_per_peak <- split(PeakRegulons.long, \n",
      "+     PeakRegulons.long$Peak)\n",
      "\n",
      "> gene_list_per_peakregulon <- lapply(regulon_list_per_peak, \n",
      "+     function(x) {\n",
      "+         unique(c(x$Core, x$Target))\n",
      "+     })\n",
      "\n",
      "> peakregulon_genes <- unique(unlist(gene_list_per_peakregulon))\n",
      "\n",
      "> regulon_genes <- unique(c(disregulon_genes, peakregulon_genes))\n",
      "\n",
      "> regulon_cores <- unique(c(DisRegulons.long$Core, PeakRegulons.long$Core))\n",
      "\n",
      "> Diseases <- read.csv(\"~/codebases/cortical_disorders2/data/gene_disorder_associations.original_genes.csv\", \n",
      "+     row.names = 1)\n",
      "\n",
      "> Diseases <- Diseases[, !colnames(Diseases) %in% DiseaseExclude]\n",
      "\n",
      "> gene_list_per_disease <- lapply(Diseases, function(x) {\n",
      "+     y <- unique(ifelse(x == 1, rownames(Diseases), NA))\n",
      "+     y[!is.na(y)]\n",
      "+ })\n",
      "\n",
      "> gene_list_per_disease <- gene_list_per_disease[sapply(gene_list_per_disease, \n",
      "+     length) != 0]\n",
      "\n",
      "> disease_genes <- unique(unlist(gene_list_per_disease))\n",
      "\n",
      "> NetworkScores <- readxl::read_excel(\"NetworkScores.xlsx\")\n",
      "\n",
      "> NetworkScores$cell.type <- factor(NetworkScores$cell.type, \n",
      "+     levels = CellTypeOrder)\n",
      "\n",
      "> NetworkScores$SampleLabel <- factor(SampleLabels[NetworkScores$Sample], \n",
      "+     levels = SampleLabelOrder)\n",
      "\n",
      "> NetworkScoresDiseases <- list()\n",
      "\n",
      "> for (dis in names(gene_list_per_disease)) {\n",
      "+     dis_genes <- gene_list_per_disease[[dis]]\n",
      "+     dis_scores <- NetworkScores[NetworkScores$Gene %in .... [TRUNCATED] \n",
      "\n",
      "> NetworkScoresDiseases <- do.call(\"rbind\", NetworkScoresDiseases)\n",
      "\n",
      "> NetworkScoresDiseases$Disease <- factor(NetworkScoresDiseases$Disease, \n",
      "+     DiseaseOrder)\n",
      "\n",
      "> options(warn = -1)\n",
      "\n",
      "> Perturbations <- readxl::read_excel(\"PerturbationSummary.xlsx\")\n",
      "\n",
      "> Perturbations$log2_ratio <- as.numeric(Perturbations$log2_ratio)\n",
      "\n",
      "> Perturbations$cell.type <- factor(Perturbations$cell.type, \n",
      "+     levels = CellTypeOrder)\n",
      "\n",
      "> Perturbations$SampleLabel <- factor(SampleLabels[Perturbations$Sample], \n",
      "+     levels = SampleLabelOrder)\n",
      "\n",
      "> PerturbationsDiseases <- list()\n",
      "\n",
      "> for (dis in names(gene_list_per_disease)) {\n",
      "+     dis_genes <- gene_list_per_disease[[dis]]\n",
      "+     dis_pert <- Perturbations[Perturbations$Gene %in%  .... [TRUNCATED] \n",
      "\n",
      "> PerturbationsDiseases <- do.call(\"rbind\", PerturbationsDiseases)\n",
      "\n",
      "> PerturbationsDiseases$Disease <- factor(PerturbationsDiseases$Disease, \n",
      "+     DiseaseOrder)\n",
      "\n",
      "> PerturbationsCT <- readxl::read_excel(\"PerturbationCT2CT.xlsx\")\n",
      "\n",
      "> (unique(PerturbationsCT$CTF) %in% CellTypeOrder)\n",
      " [1] TRUE TRUE TRUE TRUE TRUE TRUE TRUE TRUE TRUE TRUE TRUE TRUE TRUE TRUE TRUE\n",
      "[16] TRUE TRUE TRUE TRUE\n",
      "\n",
      "> (unique(PerturbationsCT$CTO) %in% CellTypeOrder)\n",
      " [1] TRUE TRUE TRUE TRUE TRUE TRUE TRUE TRUE TRUE TRUE TRUE TRUE TRUE TRUE TRUE\n",
      "[16] TRUE TRUE TRUE TRUE\n",
      "\n",
      "> PerturbationsCT[c(\"trans.cells\", \"init.cells\", \"trans.pct\", \n",
      "+     \"Exp\")] <- apply(PerturbationsCT[c(\"trans.cells\", \"init.cells\", \n",
      "+     \"trans.pct ...\" ... [TRUNCATED] \n",
      "\n",
      "> PerturbationsCT$CTO <- factor(PerturbationsCT$CTO, \n",
      "+     levels = CellTypeOrder)\n",
      "\n",
      "> PerturbationsCT$CTF <- factor(PerturbationsCT$CTF, \n",
      "+     levels = CellTypeOrder)\n",
      "\n",
      "> PerturbationsCT$SampleLabel <- factor(SampleLabels[PerturbationsCT$Sample], \n",
      "+     levels = SampleLabelOrder)\n",
      "\n",
      "> PerturbationsCTNJ <- readxl::read_excel(\"PerturbationCT2CTNJ.xlsx\")\n",
      "\n",
      "> (unique(PerturbationsCTNJ$CTF) %in% CellTypeOrder)\n",
      " [1] TRUE TRUE TRUE TRUE TRUE TRUE TRUE TRUE TRUE TRUE TRUE TRUE TRUE TRUE TRUE\n",
      "[16] TRUE TRUE TRUE\n",
      "\n",
      "> (unique(PerturbationsCTNJ$CTO) %in% CellTypeOrder)\n",
      " [1] TRUE TRUE TRUE TRUE TRUE TRUE TRUE TRUE TRUE TRUE TRUE TRUE TRUE TRUE TRUE\n",
      "[16] TRUE TRUE TRUE\n",
      "\n",
      "> PerturbationsCTNJ[c(\"trans.cells\", \"init.cells\", \"trans.pct\", \n",
      "+     \"Exp\")] <- apply(PerturbationsCTNJ[c(\"trans.cells\", \"init.cells\", \n",
      "+     \"trans ...\" ... [TRUNCATED] \n",
      "\n",
      "> PerturbationsCTNJ$CTO <- factor(PerturbationsCTNJ$CTO, \n",
      "+     levels = CellTypeOrder)\n",
      "\n",
      "> PerturbationsCTNJ$CTF <- factor(PerturbationsCTNJ$CTF, \n",
      "+     levels = CellTypeOrder)\n",
      "\n",
      "> PerturbationsCTNJ$SampleLabel <- factor(SampleLabels[PerturbationsCTNJ$Sample], \n",
      "+     levels = SampleLabelOrder)\n",
      "\n",
      "> PerturbationsCTDiseases <- list()\n",
      "\n",
      "> for (dis in names(gene_list_per_disease)) {\n",
      "+     dis_genes <- gene_list_per_disease[[dis]]\n",
      "+     dis_pert <- PerturbationsCT[PerturbationsCT$Gene % .... [TRUNCATED] \n",
      "\n",
      "> PerturbationsCTDiseases <- do.call(\"rbind\", PerturbationsCTDiseases)\n",
      "\n",
      "> PerturbationsCTDiseases$Disease <- factor(PerturbationsCTDiseases$Disease, \n",
      "+     DiseaseOrder)\n",
      "\n",
      "> options(warn = 0)\n",
      "\n",
      "> Links <- data.table::fread(\"LinkFiltering.txt\")\n",
      "\n",
      "> Links$cell.type <- factor(Links$cell.type, levels = CellTypeOrder)\n",
      "\n",
      "> Links$Sample <- factor(Links$Sample, levels = SampleOrder)\n",
      "\n",
      "> Links2 <- Links %>% group_by(Sample, cell.type) %>% \n",
      "+     mutate(p_rank = rank(p, na.last = T), p_rank_fr = rank(p, \n",
      "+         na.last = T)/length( .... [TRUNCATED] \n",
      "\n",
      "> Links2[, c(\"source.in.reg\", \"target.in.reg\")] <- apply(Links2[, \n",
      "+     c(\"source\", \"target\")], 2, function(x) {\n",
      "+     x %in% regulon_genes\n",
      "+ })\n",
      "\n",
      "> Links2$any.in.reg <- apply(Links2[, c(\"source.in.reg\", \n",
      "+     \"target.in.reg\")], 1, any)\n",
      "\n",
      "> Links2[, c(\"source.is.tf\", \"target.is.tf\")] <- apply(Links2[, \n",
      "+     c(\"source\", \"target\")], 2, function(x) {\n",
      "+     x %in% tf_genes\n",
      "+ })\n",
      "\n",
      "> Links2$any.is.tf <- apply(Links2[, c(\"source.is.tf\", \n",
      "+     \"target.is.tf\")], 1, any)\n",
      "\n",
      "> Links2[, c(\"source.is.dis\", \"target.is.dis\")] <- apply(Links2[, \n",
      "+     c(\"source\", \"target\")], 2, function(x) {\n",
      "+     x %in% disease_genes\n",
      "+ })\n",
      "\n",
      "> Links2$any.is.dis <- apply(Links2[, c(\"source.is.dis\", \n",
      "+     \"target.is.dis\")], 1, any)\n",
      "\n",
      "> Peaks <- read.csv(\"~/codebases/cortical_disorders2/data/nico_peak_expression.csv\", \n",
      "+     row.names = 1)\n",
      "\n",
      "> gene.peak.order <- rownames(Peaks %>% arrange(desc(.)))\n",
      "\n",
      "> peak.per.gene <- apply(Peaks, 1, function(x) {\n",
      "+     colnames(Peaks)[which.max(x)]\n",
      "+ })\n",
      "\n",
      "> DisTargets <- lapply(split(DisRegulons.long$Target, \n",
      "+     DisRegulons.long$geneSet), unique)\n",
      "\n",
      "> distargets <- unique(unlist(DisTargets))\n",
      "\n",
      "> DisTargets <- data.frame(lapply(DisTargets, function(x) {\n",
      "+     distargets %in% x\n",
      "+ }), row.names = distargets)\n",
      "\n",
      "> DisCores <- lapply(split(DisRegulons.long$Core, DisRegulons.long$geneSet), \n",
      "+     unique)\n",
      "\n",
      "> discores <- unique(unlist(DisCores))\n",
      "\n",
      "> DisCores <- data.frame(lapply(DisCores, function(x) {\n",
      "+     discores %in% x\n",
      "+ }), row.names = discores)\n",
      "\n",
      "> PeakTargets <- lapply(split(PeakRegulons.long$Target, \n",
      "+     PeakRegulons.long$geneSet), unique)\n",
      "\n",
      "> peaktargets <- unique(unlist(PeakTargets))\n",
      "\n",
      "> PeakTargets <- data.frame(lapply(PeakTargets, function(x) {\n",
      "+     peaktargets %in% x\n",
      "+ }), row.names = peaktargets)\n",
      "\n",
      "> PeakCores <- lapply(split(PeakRegulons.long$Core, \n",
      "+     PeakRegulons.long$geneSet), unique)\n",
      "\n",
      "> peakcores <- unique(unlist(PeakCores))\n",
      "\n",
      "> PeakCores <- data.frame(lapply(PeakCores, function(x) {\n",
      "+     peakcores %in% x\n",
      "+ }), row.names = peakcores)\n",
      "\n",
      "> dis.conf.cols <- c(None = \"white\", Risk = \"grey\", \n",
      "+     Target = \"orange\", Core = \"darkred\", Both = \"darkred\")\n",
      "\n",
      "> get.conf.dis.df <- function(genes) {\n",
      "+     conf.risk <- Diseases[genes, ]\n",
      "+     rownames(conf.risk) <- genes\n",
      "+     conf.risk[is.na(conf.risk)] <- 0\n",
      " .... [TRUNCATED] \n",
      "\n",
      "> do.conf.dis.plot <- function(genes) {\n",
      "+     conf.dis.df <- get.conf.dis.df(genes)\n",
      "+     conf.dis.df$Gene <- factor(conf.dis.df$Gene, levels = rev(ge .... [TRUNCATED] \n",
      "\n",
      "> peak.conf.cols <- c(None = \"white\", Peak = \"grey\", \n",
      "+     Target = \"orange\", Core = \"darkred\", Both = \"darkred\")\n",
      "\n",
      "> get.conf.peak.df <- function(genes) {\n",
      "+     conf.peak <- Peaks[genes, ]\n",
      "+     rownames(conf.peak) <- genes\n",
      "+     conf.peak[is.na(conf.peak)] <- 0\n",
      "+  .... [TRUNCATED] \n",
      "\n",
      "> do.conf.peak.plot <- function(genes) {\n",
      "+     conf.peak.df <- get.conf.peak.df(genes)\n",
      "+     conf.peak.df$Gene <- factor(conf.peak.df$Gene, levels = r .... [TRUNCATED] \n",
      "\n",
      "> load(\"~/codebases/cortical_disorders2/data/graphical.rda\", \n",
      "+     verbose = T)\n",
      "Loading objects:\n",
      "  GeneAnnotation\n",
      "  meta.colors\n",
      "  facets\n",
      "\n",
      "> psss <- data.table::fread(\"PSSs.txt\", sep = \"\\t\", \n",
      "+     data.table = F)\n",
      "\n",
      "> psss$groupsample <- paste0(psss$group, \" (\", psss$sample, \n",
      "+     \")\")\n",
      "\n",
      "> psss$log1p <- log1p(psss$score)\n",
      "\n",
      "> psss$cell.type <- gsub(pattern = \"not_\", replacement = \"\", \n",
      "+     fixed = T, psss$group)\n",
      "\n",
      "> groups <- c(sapply(CellTypeOrder, function(x) c(x, \n",
      "+     paste0(\"not_\", x))), \"Whole data\", recursive = T)\n",
      "\n",
      "> groups <- groups[groups %in% unique(psss$group)]\n",
      "\n",
      "> unique(psss$group)[!unique(psss$group) %in% groups]\n",
      "character(0)\n",
      "\n",
      "> psss$groupFct <- factor(psss$group, groups)\n",
      "\n",
      "> psss <- psss %>% mutate(sampleFct = factor(sample))\n",
      "\n",
      "> psss <- psss %>% group_by(sample, group) %>% mutate(log1p.scaled = log1p/max(log1p, \n",
      "+     na.rm = T)) %>% as.data.frame()\n",
      "\n",
      "> psss$Control <- ifelse(grepl(\"not_\", psss$group, fixed = T), \n",
      "+     \"control\", \"test\")\n",
      "\n",
      "> rownames(psss) <- 1:nrow(psss)\n"
     ]
    },
    {
     "data": {
      "text/html": [
       "<style>\n",
       ".list-inline {list-style: none; margin:0; padding: 0}\n",
       ".list-inline>li {display: inline-block}\n",
       ".list-inline>li:not(:last-child)::after {content: \"\\00b7\"; padding: 0 .5ex}\n",
       "</style>\n",
       "<ol class=list-inline><li>'none'</li><li>'Ultra peripheral'</li><li>'Peripheral'</li><li>'Connector'</li><li>'Kinless'</li><li>'Provincial Hub'</li><li>'Connector Hub'</li><li>'Kinless Hub'</li></ol>\n"
      ],
      "text/latex": [
       "\\begin{enumerate*}\n",
       "\\item 'none'\n",
       "\\item 'Ultra peripheral'\n",
       "\\item 'Peripheral'\n",
       "\\item 'Connector'\n",
       "\\item 'Kinless'\n",
       "\\item 'Provincial Hub'\n",
       "\\item 'Connector Hub'\n",
       "\\item 'Kinless Hub'\n",
       "\\end{enumerate*}\n"
      ],
      "text/markdown": [
       "1. 'none'\n",
       "2. 'Ultra peripheral'\n",
       "3. 'Peripheral'\n",
       "4. 'Connector'\n",
       "5. 'Kinless'\n",
       "6. 'Provincial Hub'\n",
       "7. 'Connector Hub'\n",
       "8. 'Kinless Hub'\n",
       "\n",
       "\n"
      ],
      "text/plain": [
       "[1] \"none\"             \"Ultra peripheral\" \"Peripheral\"       \"Connector\"       \n",
       "[5] \"Kinless\"          \"Provincial Hub\"   \"Connector Hub\"    \"Kinless Hub\"     "
      ]
     },
     "metadata": {},
     "output_type": "display_data"
    },
    {
     "data": {
      "image/png": "[encoded data removed]",
      "text/plain": [
       "plot without title"
      ]
     },
     "metadata": {
      "image/png": {
       "height": 420,
       "width": 420
      }
     },
     "output_type": "display_data"
    },
    {
     "data": {
      "image/png": "[encoded data removed]",
      "text/plain": [
       "plot without title"
      ]
     },
     "metadata": {
      "image/png": {
       "height": 300,
       "width": 300
      }
     },
     "output_type": "display_data"
    },
    {
     "data": {
      "image/png": "[encoded data removed]",
      "text/plain": [
       "plot without title"
      ]
     },
     "metadata": {
      "image/png": {
       "height": 300,
       "width": 300
      }
     },
     "output_type": "display_data"
    }
   ],
   "source": [
    "# Path to the R script containing common functions and color definitions\n",
    "config_script_path <- '/users/genomics/xoel/codebases/co_new/src/0_Rplots.R'\n",
    "source(config_script_path, echo=T)\n",
    "\n",
    "fig(5,5)\n",
    "names(RoleColors)\n",
    "scales::show_col(RoleColors)\n",
    "RoleColorsNew <- setNames(\n",
    "    c('white', ggsci::pal_simpsons()(16)[c(3,4,1,5,2,7,12)]),\n",
    "    names(RoleColors))\n",
    "RoleColorsNew['Peripheral Hub'] <- RoleColorsNew['Provincial Hub']\n",
    "RoleColorsNew <- RoleColorsNew[\n",
    "    c('none','Ultra peripheral','Peripheral','Connector','Kinless',\n",
    "      'Peripheral Hub','Provincial Hub','Connector Hub','Kinless Hub')]\n",
    "scales::show_col(RoleColorsNew)\n"
   ]
  },
  {
   "cell_type": "code",
   "execution_count": 2,
   "id": "0fe8ce29-29ea-4167-aa0e-c86507b43527",
   "metadata": {
    "execution": {
     "iopub.execute_input": "2024-12-05T11:25:22.490395Z",
     "iopub.status.busy": "2024-12-05T11:25:22.446864Z",
     "iopub.status.idle": "2024-12-05T11:25:22.514863Z",
     "shell.execute_reply": "2024-12-05T11:25:22.512502Z"
    },
    "scrolled": true,
    "tags": [],
    "vscode": {
     "languageId": "r"
    }
   },
   "outputs": [
    {
     "data": {
      "text/html": [
       "48"
      ],
      "text/latex": [
       "48"
      ],
      "text/markdown": [
       "48"
      ],
      "text/plain": [
       "[1] 48"
      ]
     },
     "metadata": {},
     "output_type": "display_data"
    }
   ],
   "source": [
    "n.cores <- Sys.getenv('SLURM_CPUS_PER_TASK')\n",
    "if(!is.numeric(n.cores)){\n",
    "    n.cores <- as.numeric(n.cores)\n",
    "} else {\n",
    "    n.cores <- parallel::detectCores()\n",
    "}\n",
    "n.cores"
   ]
  },
  {
   "cell_type": "code",
   "execution_count": 3,
   "id": "eb00b9fb-8ce7-4222-8cb2-2771e32e1f9c",
   "metadata": {
    "execution": {
     "iopub.execute_input": "2024-12-05T11:25:22.520305Z",
     "iopub.status.busy": "2024-12-05T11:25:22.518434Z",
     "iopub.status.idle": "2024-12-05T11:25:22.546979Z",
     "shell.execute_reply": "2024-12-05T11:25:22.535248Z"
    },
    "vscode": {
     "languageId": "r"
    }
   },
   "outputs": [],
   "source": [
    "style <- function(p, major.x = F, major.y = T){\n",
    "    p <- p + \n",
    "    theme_light() +\n",
    "    ggpubr::labs_pubr() +\n",
    "    theme(axis.text.x = element_text(angle = 90, hjust = 1, vjust=0.5), \n",
    "          panel.grid.minor = element_blank(),\n",
    "          panel.grid.major = element_blank(),\n",
    "          strip.placement = 'outside',\n",
    "          strip.text = element_text(color = 'black', angle=0),\n",
    "          strip.background = element_rect(fill='#DDDDDD', color = 'transparent'),\n",
    "          panel.spacing.y = unit(1, 'mm'),\n",
    "          panel.spacing.x = unit(3, 'mm'),\n",
    "          panel.border = element_rect(fill='transparent', color = 'black', linewidth = 1))\n",
    "\n",
    "    if (major.x){\n",
    "        p <- p + theme(panel.grid.major.x = element_line(color = 'darkgrey', linewidth  = .2))\n",
    "    }\n",
    "    if (major.y){\n",
    "        p <- p + theme(panel.grid.major.y = element_line(color = 'darkgrey', linewidth  = .2))\n",
    "    }\n",
    "    p\n",
    "}"
   ]
  },
  {
   "cell_type": "code",
   "execution_count": 4,
   "id": "81d35e66-48b3-4e20-8b54-507f1a71931a",
   "metadata": {
    "execution": {
     "iopub.execute_input": "2024-12-05T11:25:22.552284Z",
     "iopub.status.busy": "2024-12-05T11:25:22.550536Z",
     "iopub.status.idle": "2024-12-05T11:25:22.569029Z",
     "shell.execute_reply": "2024-12-05T11:25:22.566859Z"
    },
    "vscode": {
     "languageId": "r"
    }
   },
   "outputs": [],
   "source": [
    "score.comparison <- function(scores.df, type = 'violin', \n",
    "                             color = 'black', linewidth = 0.2, \n",
    "                             boxplot.outliers = F, boxplot.fill = 'white',\n",
    "                             barplot.position = 'stack', barplot.palette = NULL){\n",
    "    fig(12,17)\n",
    "\n",
    "    p <- ggplot(scores.df, aes(x = cell.type, y = value, fill = cell.type)) + \n",
    "    labs(x = 'Lineage & Cell type', color='Cell type', y = 'GRN score') +\n",
    "    facet_grid(rows=vars(variable), cols = vars(Sample), scales ='free', space = 'free_x', switch = 'y')+ \n",
    "    scale_fill_manual(values = CellTypeColor)\n",
    "    \n",
    "    if (type == 'violin'){\n",
    "        p <- p + geom_violin(color = 'black', linewidth = 0.2) +\n",
    "            geom_boxplot(color = color, linewidth = linewidth, outliers = boxplot.outliers, fill = boxplot.fill, alpha = 0.5, width = .25)\n",
    "    } else if (type == 'barplot'){\n",
    "        fig(12,6)\n",
    "        p <- p + geom_bar(color = color, linewidth = linewidth, \n",
    "                          position = barplot.position,\n",
    "                          mapping = aes(x = cell.type, fill = value), inherit.aes = F) + \n",
    "            scale_fill_manual(name = 'Category', values = barplot.palette) + \n",
    "            scale_y_continuous(expand = expansion(mult = c(0,0)), labels = if(barplot.position == 'fill'){scales::label_percent()}else{NULL})\n",
    "    } else {\n",
    "        p <- p + geom_boxplot(color = color, linewidth = linewidth, outliers = boxplot.outliers)\n",
    "    } \n",
    "    return(style(p) + theme(panel.spacing.y = unit(3, 'mm')))\n",
    "}"
   ]
  },
  {
   "cell_type": "code",
   "execution_count": 5,
   "id": "e120dd17-f21c-48e1-9601-3d249bf0807b",
   "metadata": {
    "execution": {
     "iopub.execute_input": "2024-12-05T11:25:22.574213Z",
     "iopub.status.busy": "2024-12-05T11:25:22.572386Z",
     "iopub.status.idle": "2024-12-05T11:25:22.589247Z",
     "shell.execute_reply": "2024-12-05T11:25:22.587118Z"
    },
    "vscode": {
     "languageId": "r"
    }
   },
   "outputs": [],
   "source": [
    "SampleOrder <- c('Gliogenesis','NeuralPCW20','NeuralPCW21','NeuralPCW24')"
   ]
  },
  {
   "cell_type": "markdown",
   "id": "4329da44-ed62-4101-b560-51f4b3f9032c",
   "metadata": {},
   "source": [
    "# List of TFs  \n",
    "We might want to focus on the dynamics of TFs."
   ]
  },
  {
   "cell_type": "code",
   "execution_count": null,
   "id": "2c55096c-2048-463d-ba9d-69a72bd7e4d1",
   "metadata": {
    "execution": {
     "iopub.execute_input": "2024-12-05T11:25:22.594411Z",
     "iopub.status.busy": "2024-12-05T11:25:22.592633Z",
     "iopub.status.idle": "2024-12-05T11:25:22.655101Z",
     "shell.execute_reply": "2024-12-05T11:25:22.652680Z"
    },
    "vscode": {
     "languageId": "r"
    }
   },
   "outputs": [],
   "source": [
    "# Path to the CSV file containing the list of human transcription factors\n",
    "tf_list_path <- '/projects_ng/HumanTFs/DatabaseExtract_v_1.01.csv'\n",
    "tf.geneset <- data.table::fread(tf_list_path, nThread=n.cores, data.table=F)[,-1] %>% subset(grepl('Yes', `Is TF?`)) %>% select(`HGNC symbol`) %>% unlist %>% gsub(pattern=' ', replacement = '', fixed=T) %>%unique %>% sort()"
   ]
  },
  {
   "cell_type": "markdown",
   "id": "2b176301-932c-4f40-91de-2d9f7cd74da3",
   "metadata": {},
   "source": [
    "# Transcriptomic complexity GRNs  \n",
    "By comparison of different network scores already computed during CellOracle's pipeline"
   ]
  },
  {
   "cell_type": "code",
   "execution_count": 7,
   "id": "eb16089f-12ea-4f2d-8709-acb90f9b471c",
   "metadata": {
    "execution": {
     "iopub.execute_input": "2024-12-05T11:25:22.660453Z",
     "iopub.status.busy": "2024-12-05T11:25:22.658615Z",
     "iopub.status.idle": "2024-12-05T11:25:23.265551Z",
     "shell.execute_reply": "2024-12-05T11:25:23.261759Z"
    },
    "vscode": {
     "languageId": "r"
    }
   },
   "outputs": [],
   "source": [
    "# First melt the dataframe so that we have one line per variable and observation\n",
    "scores.df <- reshape2::melt(NetworkScores, id.vars = c('is.source', 'Gene', 'cell.type', 'Sample', 'SampleLabel')) %>%\n",
    "subset((!variable%in%c('role', 'Role name', 'module')) &  (Sample %in% SampleOrder)) %>% \n",
    "mutate(value = as.numeric(value), \n",
    "       is.tf = Gene %in% tf.geneset)"
   ]
  },
  {
   "cell_type": "code",
   "execution_count": null,
   "id": "65e09eef-b225-48ba-8347-7bc14b9cfdd9",
   "metadata": {
    "execution": {
     "iopub.execute_input": "2024-12-05T11:25:23.272004Z",
     "iopub.status.busy": "2024-12-05T11:25:23.269938Z",
     "iopub.status.idle": "2024-12-05T11:26:33.550046Z",
     "shell.execute_reply": "2024-12-05T11:26:33.547575Z"
    },
    "vscode": {
     "languageId": "r"
    }
   },
   "outputs": [
    {
     "data": {
      "text/html": [
       "<strong>pdf:</strong> 2"
      ],
      "text/latex": [
       "\\textbf{pdf:} 2"
      ],
      "text/markdown": [
       "**pdf:** 2"
      ],
      "text/plain": [
       "pdf \n",
       "  2 "
      ]
     },
     "metadata": {},
     "output_type": "display_data"
    },
    {
     "data": {
      "text/html": [
       "<strong>pdf:</strong> 2"
      ],
      "text/latex": [
       "\\textbf{pdf:} 2"
      ],
      "text/markdown": [
       "**pdf:** 2"
      ],
      "text/plain": [
       "pdf \n",
       "  2 "
      ]
     },
     "metadata": {},
     "output_type": "display_data"
    },
    {
     "data": {
      "text/html": [
       "<strong>pdf:</strong> 2"
      ],
      "text/latex": [
       "\\textbf{pdf:} 2"
      ],
      "text/markdown": [
       "**pdf:** 2"
      ],
      "text/plain": [
       "pdf \n",
       "  2 "
      ]
     },
     "metadata": {},
     "output_type": "display_data"
    }
   ],
   "source": [
    "# Define output path for network scores plot (all genes)\n",
    "network_scores_all_pdf <- '/users/genomics/xoel/Review_CD/centrality_comparison/network_scores.all_genes.v1.pdf'\n",
    "cairo_pdf(network_scores_all_pdf, width = 12, height = 17, onefile = T)\n",
    "score.comparison(scores.df)\n",
    "score.comparison(scores.df, type = '')\n",
    "dev.off()\n",
    "\n",
    "# Define output path for network scores plot (source genes)\n",
    "network_scores_source_pdf <- '/users/genomics/xoel/Review_CD/centrality_comparison/network_scores.source_genes.v1.pdf'\n",
    "cairo_pdf(network_scores_source_pdf, width = 12, height = 17, onefile = T)\n",
    "score.comparison(subset(scores.df, is.source))\n",
    "score.comparison(subset(scores.df, is.source), type = '')\n",
    "dev.off()\n",
    "\n",
    "# Define output path for network scores plot (TF genes)\n",
    "network_scores_tf_pdf <- '/users/genomics/xoel/Review_CD/centrality_comparison/network_scores.TF_genes.v1.pdf'\n",
    "cairo_pdf(network_scores_tf_pdf, width = 12, height = 17, onefile = T)\n",
    "score.comparison(subset(scores.df, is.tf))\n",
    "score.comparison(subset(scores.df, is.tf), type = '')\n",
    "dev.off()"
   ]
  },
  {
   "cell_type": "code",
   "execution_count": 9,
   "id": "7fc1e18b-5f4e-4b2c-9877-9a18b70540e8",
   "metadata": {
    "execution": {
     "iopub.execute_input": "2024-12-05T11:26:33.555562Z",
     "iopub.status.busy": "2024-12-05T11:26:33.553680Z",
     "iopub.status.idle": "2024-12-05T11:26:34.123192Z",
     "shell.execute_reply": "2024-12-05T11:26:34.120609Z"
    },
    "vscode": {
     "languageId": "r"
    }
   },
   "outputs": [],
   "source": [
    "# First melt the dataframe so that we have one line per variable and observation\n",
    "scores.df2 <- reshape2::melt(NetworkScores, id.vars = c('is.source', 'Gene', 'cell.type', 'Sample', 'SampleLabel')) %>%\n",
    "subset((variable%in%c('Role name', 'module')) &  (Sample %in% SampleOrder)) %>% \n",
    "mutate(value = as.character(value), \n",
    "       is.tf = Gene %in% tf.geneset)\n",
    "# define all possible values\n",
    "module.levels <- subset(scores.df2, variable == 'module')$value %>% unique %>% as.numeric %>% sort %>% as.character\n",
    "module.colors <- setNames(viridis::turbo(n = length(module.levels)+2)[-c(1, length(module.levels))], nm = module.levels)\n",
    "all.levels <- c(names(RoleColorsNew), module.levels)\n",
    "all.colors <- c(RoleColorsNew, module.colors)\n",
    "\n",
    "hub.values <- grep(names(RoleColorsNew), pattern = 'Hub', value =T)\n",
    "scores.df2 <- scores.df2 %>% mutate(value = factor(value, levels = all.levels),\n",
    "                                    variable = ifelse(value %in% hub.values, 'Hub roles', as.character(variable)),\n",
    "                                    variable = gsub('Role name', replacement = 'Non-hub roles', fixed = T, x = variable),\n",
    "                                    variable = gsub('module', replacement = 'GRN module', fixed = T, x = variable)\n",
    "                                    )"
   ]
  },
  {
   "cell_type": "code",
   "execution_count": null,
   "id": "dccedef0-9943-4e05-9cf8-6b5a9e224629",
   "metadata": {
    "execution": {
     "iopub.execute_input": "2024-12-05T11:37:57.249691Z",
     "iopub.status.busy": "2024-12-05T11:37:57.245971Z",
     "iopub.status.idle": "2024-12-05T11:38:01.241884Z",
     "shell.execute_reply": "2024-12-05T11:38:01.240598Z"
    },
    "vscode": {
     "languageId": "r"
    }
   },
   "outputs": [
    {
     "name": "stderr",
     "output_type": "stream",
     "text": [
      "\u001b[1m\u001b[22mScale for \u001b[32mfill\u001b[39m is already present.\n",
      "Adding another scale for \u001b[32mfill\u001b[39m, which will replace the existing scale.\n",
      "\u001b[1m\u001b[22mScale for \u001b[32mfill\u001b[39m is already present.\n",
      "Adding another scale for \u001b[32mfill\u001b[39m, which will replace the existing scale.\n"
     ]
    },
    {
     "data": {
      "text/html": [
       "<strong>pdf:</strong> 2"
      ],
      "text/latex": [
       "\\textbf{pdf:} 2"
      ],
      "text/markdown": [
       "**pdf:** 2"
      ],
      "text/plain": [
       "pdf \n",
       "  2 "
      ]
     },
     "metadata": {},
     "output_type": "display_data"
    },
    {
     "name": "stderr",
     "output_type": "stream",
     "text": [
      "\u001b[1m\u001b[22mScale for \u001b[32mfill\u001b[39m is already present.\n",
      "Adding another scale for \u001b[32mfill\u001b[39m, which will replace the existing scale.\n",
      "\u001b[1m\u001b[22mScale for \u001b[32mfill\u001b[39m is already present.\n",
      "Adding another scale for \u001b[32mfill\u001b[39m, which will replace the existing scale.\n"
     ]
    },
    {
     "data": {
      "text/html": [
       "<strong>pdf:</strong> 2"
      ],
      "text/latex": [
       "\\textbf{pdf:} 2"
      ],
      "text/markdown": [
       "**pdf:** 2"
      ],
      "text/plain": [
       "pdf \n",
       "  2 "
      ]
     },
     "metadata": {},
     "output_type": "display_data"
    }
   ],
   "source": [
    "# Define output path for network scores plot (module/role, all genes)\n",
    "network_scores_module_role_all_pdf <- '/users/genomics/xoel/Review_CD/centrality_comparison/network_scores.module_and_role.all_genes.v1.pdf'\n",
    "cairo_pdf(network_scores_module_role_all_pdf, \n",
    "          width = 12, height = 8, onefile = T)\n",
    "score.comparison(scores.df2, type = 'barplot', barplot.palette = all.colors)\n",
    "score.comparison(scores.df2, type = 'barplot', barplot.palette = all.colors, barplot.position = 'fill')\n",
    "dev.off()\n",
    "\n",
    "# Define output path for network scores plot (module/role, TF genes)\n",
    "network_scores_module_role_tf_pdf <- '/users/genomics/xoel/Review_CD/centrality_comparison/network_scores.module_and_role.TF_genes.v1.pdf'\n",
    "cairo_pdf(network_scores_module_role_tf_pdf, \n",
    "          width = 12, height = 8, onefile = T)\n",
    "score.comparison(subset(scores.df2, is.tf), type = 'barplot', barplot.palette = all.colors)\n",
    "score.comparison(subset(scores.df2, is.tf), type = 'barplot', barplot.palette = all.colors, barplot.position = 'fill')\n",
    "dev.off()"
   ]
  },
  {
   "cell_type": "markdown",
   "id": "074e1c29-637f-490f-892a-7a4b6b45e8bf",
   "metadata": {},
   "source": [
    "# Transcriptomic complexity in scRNA-seq data  \n",
    "Single-cell RNA sequencing (scRNA-seq) datasets provide a powerful means to explore transcriptomic complexity across individual cells. A typical scRNA-seq dataset consists of a cell-by-gene count matrix, where each element represents the expression level (counts) of a gene in a specific cell. Understanding transcriptomic complexity is key to uncovering biological diversity, cellular states, and regulatory mechanisms. \n",
    "\n",
    "This notebook outlines methods to quantify transcriptomic complexity from scRNA-seq data, with accompanying explanations, formulas, and example code snippets for implementation."
   ]
  },
  {
   "cell_type": "code",
   "execution_count": null,
   "id": "924bf986-0716-4650-9b5b-b71198d362fa",
   "metadata": {
    "execution": {
     "iopub.execute_input": "2024-12-05T11:26:41.414273Z",
     "iopub.status.busy": "2024-12-05T11:26:41.412434Z",
     "iopub.status.idle": "2024-12-05T11:26:41.439344Z",
     "shell.execute_reply": "2024-12-05T11:26:41.437036Z"
    },
    "vscode": {
     "languageId": "r"
    }
   },
   "outputs": [],
   "source": [
    "# Base directory for input data (counts and metadata files)\n",
    "input_data_dir <- '/users/genomics/xoel/Review_CD/centrality_comparison/'\n",
    "# List of files in the base directory matching the pattern 'counts.csv'\n",
    "datasets <- list.files(input_data_dir, pattern = 'counts.csv', full.names = T) \n",
    "# Set names for the list elements based on file names\n",
    "datasets <- setNames(datasets, nm = datasets %>% basename %>% gsub(pattern = '.counts.csv', replacement = '', fixed = T))\n",
    "# Order the datasets based on the predefined sample order\n",
    "datasets <- datasets[SampleOrder]\n"
   ]
  },
  {
   "cell_type": "code",
   "execution_count": 12,
   "id": "457160fd-9bf5-41e7-ace7-f78465d42394",
   "metadata": {
    "execution": {
     "iopub.execute_input": "2024-12-05T11:26:41.444572Z",
     "iopub.status.busy": "2024-12-05T11:26:41.442775Z",
     "iopub.status.idle": "2024-12-05T11:26:49.246281Z",
     "shell.execute_reply": "2024-12-05T11:26:49.243456Z"
    },
    "vscode": {
     "languageId": "r"
    }
   },
   "outputs": [
    {
     "name": "stderr",
     "output_type": "stream",
     "text": [
      "Gliogenesis\n",
      "\n",
      "NeuralPCW20\n",
      "\n",
      "NeuralPCW21\n",
      "\n",
      "NeuralPCW24\n",
      "\n"
     ]
    }
   ],
   "source": [
    "# First, let's load the data we need\n",
    "exp.mats <- list()\n",
    "cell.metas <- list()\n",
    "\n",
    "for (s in names(datasets)){\n",
    "    message(s)\n",
    "    counts.file <- datasets[s]\n",
    "    metadata.file <- counts.file %>% gsub(pattern = '.counts.', replacement = '.metadata.', fixed=T)\n",
    "\n",
    "    d <- data.table::fread(counts.file, nThread = n.cores, data.table = F, header = T)\n",
    "    rownames(d) <- d[,1]\n",
    "    d <- d[,-1]\n",
    "    m <- data.table::fread(metadata.file, nThread = n.cores, data.table = F, header = T) \n",
    "    m <- m %>% mutate(CellType = factor(final.label, CellTypeOrder))\n",
    "\n",
    "    exp.mats[[s]] <- d\n",
    "    cell.metas[[s]] <- m\n",
    "}\n"
   ]
  },
  {
   "cell_type": "markdown",
   "id": "e01d5faf-4bea-480f-a0f0-d7914e46f71a",
   "metadata": {},
   "source": [
    "---\n",
    "## **1. Number of Genes Expressed per Cell**\n",
    "- **Description:** The number of genes expressed above a certain threshold (e.g., counts > 0 or TPM/CPM > 1) in each cell.\n",
    "- **Formula:** \n",
    "  \\[\n",
    "  N_{\\text{genes expressed}} = \\sum_{i} \\mathbb{I}(x_i > \\text{threshold})\n",
    "  \\]\n",
    "  Where \\( x_i \\) is the count of gene \\( i \\), and \\( \\mathbb{I} \\) is an indicator function.\n",
    "- **Code:**\n",
    "  ```python\n",
    "  import numpy as np\n",
    "\n",
    "  # Counts matrix: rows = cells, columns = genes\n",
    "  counts_matrix = np.array([[...], [...], [...]])  # Replace with your data\n",
    "\n",
    "  # Number of expressed genes per cell\n",
    "  num_genes_expressed = (counts_matrix > 0).sum(axis=1)\n",
    "  ```\n",
    "\n"
   ]
  },
  {
   "cell_type": "code",
   "execution_count": null,
   "id": "402631cc-5ad8-4c59-af90-e6d228a19085",
   "metadata": {
    "execution": {
     "iopub.execute_input": "2024-12-05T11:26:49.252322Z",
     "iopub.status.busy": "2024-12-05T11:26:49.250298Z",
     "iopub.status.idle": "2024-12-05T11:26:49.273396Z",
     "shell.execute_reply": "2024-12-05T11:26:49.270626Z"
    },
    "scrolled": true,
    "vscode": {
     "languageId": "r"
    }
   },
   "outputs": [],
   "source": [
    "# number of genes expressed by cell:\n",
    "\n",
    "measure.n.genes <- function(d, m, type = 'boxplot'){\n",
    "    \n",
    "    n.exp <- data.frame(V1 = rownames(d), n.genes = rowSums(d > 0))\n",
    "    m <- merge(m, n.exp, by ='V1', all=T)\n",
    "    \n",
    "    if (!all(colSums(is.na(m[,c('final.label', 'n.genes')])) == 0 )){\n",
    "        stop('Check the merging: it produced NA values in n.genes or final.label')\n",
    "    }\n",
    "    \n",
    "    p <- ggplot(m, aes(fill = CellType, y = CellType, x = n.genes)) +\n",
    "    scale_fill_manual(values = CellTypeColor)\n",
    "    \n",
    "    if (type == 'violin'){\n",
    "        p <- p + geom_violin(color = 'black', linewidth = 0.2) +\n",
    "            geom_boxplot(color = 'black', fill = 'white', alpha = 0.5, width = 0.25, linewidth = 0.2, outliers = F)\n",
    "    } else {\n",
    "        p <- p + geom_boxplot(color = 'black', linewidth = 0.2, outliers = F)\n",
    "    } \n",
    "    \n",
    "    return(list(plot = style(p), data = m))\n",
    "}"
   ]
  },
  {
   "cell_type": "markdown",
   "id": "1f4d0c6a-f307-4c5e-8543-46c1302aec4a",
   "metadata": {},
   "source": [
    "---\n",
    "## **2. Shannon Entropy**\n",
    "- **Description:** Measures the uniformity of gene expression in each cell, reflecting transcript diversity.\n",
    "- **Formula:** \n",
    "  \\[\n",
    "  H = - \\sum_{i} p_i \\log_2(p_i)\n",
    "  \\]\n",
    "  Where \\( p_i \\) is the proportion of expression of gene \\( i \\) in a cell:\n",
    "  \\[\n",
    "  p_i = \\frac{x_i}{\\sum_{j} x_j}\n",
    "  \\]\n",
    "- **Code:**\n",
    "  ```python\n",
    "  # Calculate proportions for each gene in each cell\n",
    "  proportions = counts_matrix / counts_matrix.sum(axis=1, keepdims=True)\n",
    "\n",
    "  # Calculate entropy per cell\n",
    "  entropy = -np.nansum(proportions * np.log2(proportions), axis=1)\n",
    "  ```"
   ]
  },
  {
   "cell_type": "code",
   "execution_count": null,
   "id": "f75b84fc-1cab-450f-85c9-7163ffc2cd40",
   "metadata": {
    "execution": {
     "iopub.execute_input": "2024-12-05T11:26:49.279743Z",
     "iopub.status.busy": "2024-12-05T11:26:49.277488Z",
     "iopub.status.idle": "2024-12-05T11:26:49.303014Z",
     "shell.execute_reply": "2024-12-05T11:26:49.300197Z"
    },
    "scrolled": true,
    "vscode": {
     "languageId": "r"
    }
   },
   "outputs": [],
   "source": [
    "# number of genes expressed by cell:\n",
    "\n",
    "measure.shannon.entropy <- function(d, m, type = 'boxplot'){\n",
    "\n",
    "    \n",
    "    props <- d/rowSums(d)\n",
    "    pp <- props * log2(props)\n",
    "    entropy <- data.frame(V1 = rownames(d), \n",
    "                          entropy = -rowSums(pp, na.rm = T))\n",
    "    m <- merge(m, entropy, by ='V1', all=T)\n",
    "    \n",
    "    if (!all(colSums(is.na(m[,c('final.label', 'entropy')])) == 0 )){\n",
    "        stop('Check the merging: it produced NA values in entropy or final.label')\n",
    "    }\n",
    "    \n",
    "    p <- ggplot(m, aes(fill = CellType, y = CellType, x = entropy)) +\n",
    "    scale_fill_manual(values = CellTypeColor)\n",
    "    \n",
    "    if (type == 'violin'){\n",
    "        p <- p + geom_violin(color = 'black', linewidth = 0.2) +\n",
    "            geom_boxplot(color = 'black', fill = 'white', alpha = 0.5, width = 0.25, linewidth = 0.2, outliers = F)\n",
    "    } else {\n",
    "        p <- p + geom_boxplot(color = 'black', linewidth = 0.2, outliers = F)\n",
    "    } \n",
    "    \n",
    "    return(list(plot = style(p), data = m))\n",
    "}"
   ]
  },
  {
   "cell_type": "markdown",
   "id": "0d2a3316-c15f-4e59-a6ab-e6abf6958aa1",
   "metadata": {},
   "source": [
    "---\n",
    "## **3. Richness and Diversity Indices**\n",
    "#### **~Richness~**\n",
    "- **Description:** The total number of genes expressed above a certain threshold in a cell (similar to Method #1).\n",
    "#### **Simpson's Diversity Index**\n",
    "- **Description:** Reflects the probability that two randomly chosen counts belong to the same gene.\n",
    "- **Formula:** \n",
    "  \\[\n",
    "  D = 1 - \\sum_{i} p_i^2\n",
    "  \\]\n",
    "- **Code:**\n",
    "  ```python\n",
    "  # Simpson's diversity index per cell\n",
    "  simpson_diversity = 1 - np.sum(proportions ** 2, axis=1)\n",
    "  ```"
   ]
  },
  {
   "cell_type": "code",
   "execution_count": null,
   "id": "9f82a4a0-f0c3-4abb-a712-2395621f8c0b",
   "metadata": {
    "execution": {
     "iopub.execute_input": "2024-12-05T11:26:49.309487Z",
     "iopub.status.busy": "2024-12-05T11:26:49.307298Z",
     "iopub.status.idle": "2024-12-05T11:26:49.333056Z",
     "shell.execute_reply": "2024-12-05T11:26:49.330052Z"
    },
    "scrolled": true,
    "vscode": {
     "languageId": "r"
    }
   },
   "outputs": [],
   "source": [
    "# number of genes expressed by cell:\n",
    "\n",
    "measure.simpsons.diversity <- function(d, m, type = 'boxplot'){\n",
    "\n",
    "    \n",
    "    props <- d/rowSums(d)\n",
    "    diversity <- data.frame(V1 = rownames(d), \n",
    "                            diversity = 1-rowSums(props **2))\n",
    "    m <- merge(m, diversity, by ='V1', all=T)\n",
    "    \n",
    "    if (!all(colSums(is.na(m[,c('final.label', 'diversity')])) == 0 )){\n",
    "        stop('Check the merging: it produced NA values in diversity or final.label')\n",
    "    }\n",
    "    \n",
    "    p <- ggplot(m, aes(fill = CellType, y = CellType, x = diversity)) +\n",
    "    scale_fill_manual(values = CellTypeColor)\n",
    "    \n",
    "    if (type == 'violin'){\n",
    "        p <- p + geom_violin(color = 'black', linewidth = 0.2) +\n",
    "            geom_boxplot(color = 'black', fill = 'white', alpha = 0.5, width = 0.25, linewidth = 0.2, outliers = F)\n",
    "    } else {\n",
    "        p <- p + geom_boxplot(color = 'black', linewidth = 0.2, outliers = F)\n",
    "    } \n",
    "    \n",
    "    return(list(plot = style(p), data = m))\n",
    "}"
   ]
  },
  {
   "cell_type": "markdown",
   "id": "35317bd5-d21f-48a7-bc75-133e7ab17e57",
   "metadata": {
    "jp-MarkdownHeadingCollapsed": true
   },
   "source": [
    "---\n",
    "\n",
    "## **~4. Alternative Splicing~**\n",
    "- **Description:** If isoform data is available, analyze the proportion of isoforms expressed per gene to assess transcript diversity.\n",
    "- **Approach:** Use transcript-level quantifications from tools like Kallisto or Salmon to calculate entropy or richness metrics for isoforms."
   ]
  },
  {
   "cell_type": "markdown",
   "id": "d6676c53-dcb0-47cf-8e72-95cf50b35b75",
   "metadata": {},
   "source": [
    "---\n",
    "\n",
    "## **5. Variability Analysis**\n",
    "- **Description:** Examine inter- and intra-cellular variability in gene expression using metrics like the Coefficient of Variation (CV).\n",
    "- **Formula:** \n",
    "  \\[\n",
    "  CV = \\frac{\\sigma}{\\mu}\n",
    "  \\]\n",
    "  Where \\( \\sigma \\) is the standard deviation and \\( \\mu \\) is the mean expression level of a gene across cells.\n",
    "\n",
    "- **Code:**\n",
    "  ```python\n",
    "  # Mean and standard deviation of gene expression across cells\n",
    "  gene_means = counts_matrix.mean(axis=0)\n",
    "  gene_stds = counts_matrix.std(axis=0)\n",
    "\n",
    "  # Coefficient of Variation\n",
    "  cv = gene_stds / gene_means\n",
    "  ```"
   ]
  },
  {
   "cell_type": "code",
   "execution_count": null,
   "id": "3939bebe-689b-40d9-b322-6a754306a403",
   "metadata": {
    "execution": {
     "iopub.execute_input": "2024-12-05T11:26:49.339905Z",
     "iopub.status.busy": "2024-12-05T11:26:49.337584Z",
     "iopub.status.idle": "2024-12-05T11:26:49.364673Z",
     "shell.execute_reply": "2024-12-05T11:26:49.361817Z"
    },
    "vscode": {
     "languageId": "r"
    }
   },
   "outputs": [],
   "source": [
    "compute_cv <- function(d){\n",
    "    colMeans(d) / apply(d, 2, sd)\n",
    "}\n",
    "\n",
    "measure.cv.in.groups <- function(d, group.vec, type = 'boxplot'){\n",
    "    cvs <- split(d, group.vec) %>% lapply(compute_cv)\n",
    "    # cvs$AllCells <- compute_cv(d)\n",
    "    \n",
    "    lapply(names(cvs), function(x){\n",
    "        xx <- data.frame(CV = cvs[[x]], CellType = x)\n",
    "        xx$Gene <- rownames(xx)\n",
    "        rownames(xx) <- NULL\n",
    "        xx\n",
    "    }) %>% do.call(what = 'rbind') -> cvs\n",
    "    if (is.factor(group.vec)){\n",
    "        cvs$CellType <- factor(cvs$CellType, levels(group.vec))\n",
    "    }\n",
    "\n",
    "    \n",
    "    p <- ggplot(cvs, aes(fill = CellType, y = CellType, x = CV)) +\n",
    "    scale_fill_manual(values = CellTypeColor)\n",
    "    \n",
    "    if (type == 'violin'){\n",
    "        p <- p + geom_violin(color = 'black', linewidth = 0.2) +\n",
    "            geom_boxplot(color = 'black', fill = 'white', alpha = 0.5, width = 0.25, linewidth = 0.2, outliers = F)\n",
    "    } else {\n",
    "        p <- p + geom_boxplot(color = 'black', linewidth = 0.2, outliers = F)\n",
    "    } \n",
    "\n",
    "    return(list(plot = style(p), data = cvs))\n",
    "    \n",
    "}"
   ]
  },
  {
   "cell_type": "markdown",
   "id": "98ad32a3-10c2-4e5b-bf9b-1b1ef8a37ece",
   "metadata": {},
   "source": [
    "---\n",
    "\n",
    "## **Conclusion**\n",
    "This notebook provides a comprehensive overview of methods to quantify transcriptomic complexity in scRNA-seq datasets. These metrics are essential for understanding cellular diversity and uncovering biological insights."
   ]
  },
  {
   "cell_type": "code",
   "execution_count": null,
   "id": "e7296197-0d44-41a4-9147-c462f90b4143",
   "metadata": {
    "execution": {
     "iopub.execute_input": "2024-12-05T11:26:49.370939Z",
     "iopub.status.busy": "2024-12-05T11:26:49.368761Z",
     "iopub.status.idle": "2024-12-05T11:31:45.059923Z",
     "shell.execute_reply": "2024-12-05T11:31:45.058252Z"
    },
    "scrolled": true,
    "vscode": {
     "languageId": "r"
    }
   },
   "outputs": [
    {
     "name": "stdout",
     "output_type": "stream",
     "text": [
      "[1] \"Gliogenesis\"\n",
      "[1] \"all\"\n"
     ]
    },
    {
     "name": "stderr",
     "output_type": "stream",
     "text": [
      "N genes\n",
      "\n",
      "Shannon.entropy\n",
      "\n",
      "Simpsons.diversity\n",
      "\n",
      "CVs\n",
      "\n"
     ]
    },
    {
     "name": "stdout",
     "output_type": "stream",
     "text": [
      "[1] \"tfs\"\n"
     ]
    },
    {
     "name": "stderr",
     "output_type": "stream",
     "text": [
      "N genes\n",
      "\n",
      "Shannon.entropy\n",
      "\n",
      "Simpsons.diversity\n",
      "\n",
      "CVs\n",
      "\n"
     ]
    },
    {
     "name": "stdout",
     "output_type": "stream",
     "text": [
      "[1] \"NeuralPCW20\"\n",
      "[1] \"all\"\n"
     ]
    },
    {
     "name": "stderr",
     "output_type": "stream",
     "text": [
      "N genes\n",
      "\n",
      "Shannon.entropy\n",
      "\n",
      "Simpsons.diversity\n",
      "\n",
      "CVs\n",
      "\n"
     ]
    },
    {
     "name": "stdout",
     "output_type": "stream",
     "text": [
      "[1] \"tfs\"\n"
     ]
    },
    {
     "name": "stderr",
     "output_type": "stream",
     "text": [
      "N genes\n",
      "\n",
      "Shannon.entropy\n",
      "\n",
      "Simpsons.diversity\n",
      "\n",
      "CVs\n",
      "\n"
     ]
    },
    {
     "name": "stdout",
     "output_type": "stream",
     "text": [
      "[1] \"NeuralPCW21\"\n",
      "[1] \"all\"\n"
     ]
    },
    {
     "name": "stderr",
     "output_type": "stream",
     "text": [
      "N genes\n",
      "\n",
      "Shannon.entropy\n",
      "\n",
      "Simpsons.diversity\n",
      "\n",
      "CVs\n",
      "\n"
     ]
    },
    {
     "name": "stdout",
     "output_type": "stream",
     "text": [
      "[1] \"tfs\"\n"
     ]
    },
    {
     "name": "stderr",
     "output_type": "stream",
     "text": [
      "N genes\n",
      "\n",
      "Shannon.entropy\n",
      "\n",
      "Simpsons.diversity\n",
      "\n",
      "CVs\n",
      "\n"
     ]
    },
    {
     "name": "stdout",
     "output_type": "stream",
     "text": [
      "[1] \"NeuralPCW24\"\n",
      "[1] \"all\"\n"
     ]
    },
    {
     "name": "stderr",
     "output_type": "stream",
     "text": [
      "N genes\n",
      "\n",
      "Shannon.entropy\n",
      "\n",
      "Simpsons.diversity\n",
      "\n",
      "CVs\n",
      "\n"
     ]
    },
    {
     "name": "stdout",
     "output_type": "stream",
     "text": [
      "[1] \"tfs\"\n"
     ]
    },
    {
     "name": "stderr",
     "output_type": "stream",
     "text": [
      "N genes\n",
      "\n",
      "Shannon.entropy\n",
      "\n",
      "Simpsons.diversity\n",
      "\n",
      "CVs\n",
      "\n"
     ]
    }
   ],
   "source": [
    "# Initialize list to store results for all genes, per sample\n",
    "r <- list()\n",
    "# Initialize list to store results for TF genes only, per sample\n",
    "r.tfs <- list()\n",
    "\n",
    "# Loop through each sample name ('s') in the loaded expression matrices\n",
    "for (s in names(exp.mats)){\n",
    "    print(s)\n",
    "    # Get expression matrix for all genes for the current sample\n",
    "    d.all <- exp.mats[[s]]\n",
    "    # Get expression matrix for TF genes only for the current sample\n",
    "    d.tfs <- d.all[,colnames(d.all)%in%tf.geneset]\n",
    "    # Get cell metadata for the current sample\n",
    "    m <- cell.metas[[s]]\n",
    "\n",
    "    # Loop through gene sets ('all', 'tfs')\n",
    "    for (set in c('all', 'tfs')){\n",
    "        print(set)\n",
    "        # Assign the appropriate expression matrix ('d') based on the current gene set\n",
    "        if (set == 'all'){\n",
    "            d <- d.all\n",
    "        } else {\n",
    "            d <- d.tfs\n",
    "        }\n",
    "        \n",
    "        # Calculate metrics using the current expression matrix ('d') and metadata ('m')\n",
    "        message('N genes')\n",
    "        N.genes <- measure.n.genes(d, m)$data\n",
    "        message('Shannon.entropy')\n",
    "        Shannon.entropy <- measure.shannon.entropy(d, m)$data\n",
    "        message('Simpsons.diversity')\n",
    "        Simpsons.diversity <- measure.simpsons.diversity(d, m)$data\n",
    "        message('CVs')\n",
    "        CVs <- measure.cv.in.groups(d, droplevels(m$CellType))$data\n",
    "    \n",
    "        # Reshape results into long format\n",
    "        N.genes <- N.genes %>% \n",
    "            mutate(variable = 'n.genes', final.label = NULL, FA1 = NULL, FA2 = NULL) %>% \n",
    "            rename(value = n.genes, cell.type = CellType, obs = V1) %>% \n",
    "            select(obs, cell.type, variable, value)\n",
    "        Shannon.entropy <- Shannon.entropy %>% \n",
    "            mutate(variable = 'entropy', final.label = NULL, FA1 = NULL, FA2 = NULL) %>% \n",
    "            rename(value = entropy, cell.type = CellType, obs = V1) %>% \n",
    "            select(obs, cell.type, variable, value)\n",
    "        Simpsons.diversity <- Simpsons.diversity %>% \n",
    "            mutate(variable = 'diversity', final.label = NULL, FA1 = NULL, FA2 = NULL) %>% \n",
    "            rename(value = diversity, cell.type = CellType, obs = V1) %>% \n",
    "            select(obs, cell.type, variable, value)\n",
    "        CVs <- CVs %>% mutate(variable = 'cv') %>% \n",
    "            rename(value = CV, cell.type = CellType, obs = Gene) %>% \n",
    "            select(obs, cell.type, variable, value)\n",
    "\n",
    "        # Combine reshaped results into a single data frame ('rdf') for the current sample and gene set\n",
    "        rdf <- do.call(what = 'rbind', list(N.genes, Shannon.entropy, Simpsons.diversity, CVs)) %>% mutate(Sample = factor(s, SampleOrder))\n",
    "        \n",
    "        # Store the results data frame ('rdf') in the appropriate list ('r' or 'r.tfs')\n",
    "        if (set == 'all'){\n",
    "            r[[s]] <- rdf\n",
    "        } else {\n",
    "            r.tfs[[s]] <- rdf\n",
    "        }\n",
    "        \n",
    "    }\n",
    "}\n",
    "\n",
    "# Combine results from all samples into single data frames ('r' and 'r.tfs')\n",
    "r <- do.call(what='rbind', r)\n",
    "r.tfs <- do.call(what='rbind', r.tfs)"
   ]
  },
  {
   "cell_type": "code",
   "execution_count": null,
   "id": "a73a47ef-dca0-4a04-a71b-584a3720d38f",
   "metadata": {
    "execution": {
     "iopub.execute_input": "2024-12-05T11:31:45.063039Z",
     "iopub.status.busy": "2024-12-05T11:31:45.062035Z",
     "iopub.status.idle": "2024-12-05T11:31:55.006074Z",
     "shell.execute_reply": "2024-12-05T11:31:55.004667Z"
    },
    "vscode": {
     "languageId": "r"
    }
   },
   "outputs": [
    {
     "name": "stderr",
     "output_type": "stream",
     "text": [
      "Warning message:\n",
      "“\u001b[1m\u001b[22mRemoved 230974 rows containing non-finite outside the scale range\n",
      "(`stat_ydensity()`).”\n",
      "Warning message:\n",
      "“\u001b[1m\u001b[22mRemoved 230974 rows containing non-finite outside the scale range\n",
      "(`stat_boxplot()`).”\n",
      "Warning message:\n",
      "“\u001b[1m\u001b[22mRemoved 230974 rows containing non-finite outside the scale range\n",
      "(`stat_boxplot()`).”\n"
     ]
    },
    {
     "data": {
      "text/html": [
       "<strong>pdf:</strong> 2"
      ],
      "text/latex": [
       "\\textbf{pdf:} 2"
      ],
      "text/markdown": [
       "**pdf:** 2"
      ],
      "text/plain": [
       "pdf \n",
       "  2 "
      ]
     },
     "metadata": {},
     "output_type": "display_data"
    }
   ],
   "source": [
    "# Define output path for scRNA complexity scores plot (all genes)\n",
    "scrna_scores_all_pdf <- '/users/genomics/xoel/Review_CD/centrality_comparison/scrna_scores.all_genes.v1.pdf'\n",
    "cairo_pdf(scrna_scores_all_pdf, width = 12, height = 7, onefile = T)\n",
    "score.comparison(r)\n",
    "score.comparison(r, type = 'boxplot')\n",
    "dev.off()"
   ]
  },
  {
   "cell_type": "code",
   "execution_count": null,
   "id": "c5706e2a-e4fc-425e-b278-255acfc6aee1",
   "metadata": {
    "execution": {
     "iopub.execute_input": "2024-12-05T11:31:55.008998Z",
     "iopub.status.busy": "2024-12-05T11:31:55.007996Z",
     "iopub.status.idle": "2024-12-05T11:32:01.313119Z",
     "shell.execute_reply": "2024-12-05T11:32:01.311688Z"
    },
    "vscode": {
     "languageId": "r"
    }
   },
   "outputs": [
    {
     "name": "stderr",
     "output_type": "stream",
     "text": [
      "Warning message:\n",
      "“\u001b[1m\u001b[22mRemoved 11823 rows containing non-finite outside the scale range\n",
      "(`stat_ydensity()`).”\n",
      "Warning message:\n",
      "“\u001b[1m\u001b[22mRemoved 11823 rows containing non-finite outside the scale range\n",
      "(`stat_boxplot()`).”\n",
      "Warning message:\n",
      "“\u001b[1m\u001b[22mRemoved 11823 rows containing non-finite outside the scale range\n",
      "(`stat_boxplot()`).”\n"
     ]
    },
    {
     "data": {
      "text/html": [
       "<strong>pdf:</strong> 2"
      ],
      "text/latex": [
       "\\textbf{pdf:} 2"
      ],
      "text/markdown": [
       "**pdf:** 2"
      ],
      "text/plain": [
       "pdf \n",
       "  2 "
      ]
     },
     "metadata": {},
     "output_type": "display_data"
    }
   ],
   "source": [
    "# Define output path for scRNA complexity scores plot (TF genes)\n",
    "scrna_scores_tf_pdf <- '/users/genomics/xoel/Review_CD/centrality_comparison/scrna_scores.TF_genes.v1.pdf'\n",
    "cairo_pdf(scrna_scores_tf_pdf, width = 12, height = 7, onefile = T)\n",
    "score.comparison(r.tfs)\n",
    "score.comparison(r.tfs, type = 'boxplot')\n",
    "dev.off()"
   ]
  }
 ],
 "metadata": {
  "kernelspec": {
   "display_name": "EWCE (R 4.4.1) [NG]",
   "language": "R",
   "name": "ewce2024_r_ng"
  },
  "language_info": {
   "codemirror_mode": "r",
   "file_extension": ".r",
   "mimetype": "text/x-r-source",
   "name": "R",
   "pygments_lexer": "r",
   "version": "4.4.1"
  }
 },
 "nbformat": 4,
 "nbformat_minor": 5
}
