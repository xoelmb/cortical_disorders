{
 "cells": [
  {
   "cell_type": "code",
   "execution_count": 5,
   "id": "885bcf37-81e0-4f37-907c-5b59b0574174",
   "metadata": {
    "scrolled": true,
    "tags": []
   },
   "outputs": [
    {
     "name": "stdout",
     "output_type": "stream",
     "text": [
      "'envir' chosen:<environment: R_GlobalEnv>\n",
      "encoding = \"native.enc\" chosen\n",
      " --> from_file='TRUE'\n",
      " lines:function (x, ...)  \n",
      "--> parsed 32 expressions; now eval(.)ing them:\n",
      "\n",
      ">>>> eval(expression_nr. 1 )\n",
      "\t\t =================\n",
      "\n",
      "> Sys.setenv(LOG_LEVEL = \"TRACE\")\n",
      "curr.fun: symbol Sys.setenv\n",
      " .. after ‘expression(Sys.setenv(LOG_LEVEL = \"TRACE\"))’\n",
      "\n",
      ">>>> eval(expression_nr. 2 )\n",
      "\t\t =================\n",
      "\n",
      "> Sys.getenv(\"R_HOME\")\n",
      "curr.fun: symbol Sys.getenv\n",
      "[1] \"/users/genomics/xoel/canonades/RcisTarget/conda_env/lib/R\"\n",
      " .. after ‘expression(Sys.getenv(\"R_HOME\"))’\n",
      "\n",
      ">>>> eval(expression_nr. 3 )\n",
      "\t\t =================\n",
      "\n",
      "> PAR_METHOD <- \"iCisTarget\"\n",
      "curr.fun: symbol <-\n",
      " .. after ‘expression(PAR_METHOD <- \"iCisTarget\")’\n",
      "\n",
      ">>>> eval(expression_nr. 4 )\n",
      "\t\t =================\n",
      "\n",
      "> PAR_SEARCH_RANGE <- \"long\"\n",
      "curr.fun: symbol <-\n",
      " .. after ‘expression(PAR_SEARCH_RANGE <- \"long\")’\n",
      "\n",
      ">>>> eval(expression_nr. 5 )\n",
      "\t\t =================\n",
      "\n",
      "> PAR_MOTIF_NES <- 3\n",
      "curr.fun: symbol <-\n",
      " .. after ‘expression(PAR_MOTIF_NES <- 3)’\n",
      "\n",
      ">>>> eval(expression_nr. 6 )\n",
      "\t\t =================\n",
      "\n",
      "> PAR_MOTIF_DB_V <- \"V10\"\n",
      "curr.fun: symbol <-\n",
      " .. after ‘expression(PAR_MOTIF_DB_V <- \"V10\")’\n",
      "\n",
      ">>>> eval(expression_nr. 7 )\n",
      "\t\t =================\n",
      "\n",
      "> PAR_DB_DIR <- \"/users/genomics/xoel/canonades/RcisTarget/cistarget_dbs/\"\n",
      "curr.fun: symbol <-\n",
      " .. after ‘expression(PAR_DB_DIR <- \"/users/genomics/xoel/canonades/RcisTarget/cistarget_dbs/\")’\n",
      "\n",
      ">>>> eval(expression_nr. 8 )\n",
      "\t\t =================\n",
      "\n",
      "> PAR_RES_DIR <- \"./cistarget_results/\"\n",
      "curr.fun: symbol <-\n",
      " .. after ‘expression(PAR_RES_DIR <- \"./cistarget_results/\")’\n",
      "\n",
      ">>>> eval(expression_nr. 9 )\n",
      "\t\t =================\n",
      "\n",
      "> PAR_CORES <- 80\n",
      "curr.fun: symbol <-\n",
      " .. after ‘expression(PAR_CORES <- 80)’\n",
      "\n",
      ">>>> eval(expression_nr. 10 )\n",
      "\t\t =================\n",
      "\n",
      "> PAR_MOTIF_DB_INFO <- list(V9 = list(MOTIF_TF_URL = \"https://resources.aertslab.org/cistarget/motif2tf/motifs-v9-nr.hgnc-m0.001-o0.0.tbl\", \n",
      "+     IND .... [TRUNCATED] \n",
      "curr.fun: symbol <-\n",
      " .. after ‘expression(PAR_MOTIF_DB_INFO <- list(V9 = list(MOTIF_TF_URL = \"https://resources.aertslab.org/cistarget/motif2tf/motifs-v9-nr.hgnc-m0.001-o0.0.tbl\", ’‘    INDEX_COL = \"features\", MOTIF_SEARCH_URL = list(short = \"https://resources.aertslab.org/cistarget/databases/homo_sapiens/hg38/refseq_r80/mc9nr/gene_based/hg38__refseq-r80__500bp_up_and_100bp_down_tss.mc9nr.feather\", ’‘        long = \"https://resources.aertslab.org/cistarget/databases/homo_sapiens/hg38/refseq_r80/mc9nr/gene_based/hg38__refseq-r80__10kb_up_and_down_tss.mc9nr.feather\")), ’‘    V10 = list(MOTIF_TF_URL = \"https://resources.aertslab.org/cistarget/motif2tf/motifs-v10nr_clust-nr.hgnc-m0.001-o0.0.tbl\", ’‘        INDEX_COL = \"motifs\", MOTIF_SEARCH_URL = list(short = \"https://resources.aertslab.org/cistarget/databases/homo_sapiens/hg38/refseq_r80/mc_v10_clust/gene_based/hg38_500bp_up_100bp_down_full_tx_v10_clust.genes_vs_motifs.rankings.feather\", ’‘            long = \"https://resources.aertslab.org/cistarget/databases/homo_sapiens/hg38/refseq_r80/mc_v10_clust/gene_based/hg38_10kbp_up_10kbp_down_full_tx_v10_clust.genes_vs_motifs.rankings.feather\"))))’\n",
      "\n",
      ">>>> eval(expression_nr. 11 )\n",
      "\t\t =================\n",
      "\n",
      "> download_dbs <- function(motif_db = PAR_MOTIF_DB_V, \n",
      "+     motif_search_range = PAR_SEARCH_RANGE, motif_db_dir = PAR_DB_DIR) {\n",
      "+     dir.create(moti .... [TRUNCATED] \n",
      "curr.fun: symbol <-\n",
      " .. after ‘expression(download_dbs <- function(motif_db = PAR_MOTIF_DB_V, ’‘    motif_search_range = PAR_SEARCH_RANGE, motif_db_dir = PAR_DB_DIR) {’‘    dir.create(motif_db_dir, showWarnings = F)’‘    pars <- PAR_MOTIF_DB_INFO[[motif_db]]’‘    motif_tf_destfile <- file.path(motif_db_dir, basename(pars$MOTIF_TF_URL))’‘    if (!file.exists(motif_tf_destfile)) {’‘        rlog::log_info(\"Downloading motif-TF DB\")’‘        download.file(url = pars$MOTIF_TF_URL, destfile = motif_tf_destfile, ’‘            verbose = T, quiet = F, method = \"wget\")’‘    }’‘    else {’‘        rlog::log_info(\"Motif-TF DB already downloaded\")’‘    }’‘    motif_db_url <- pars$MOTIF_SEARCH_URL[[motif_search_range]]’‘    motif_db_destfile <- file.path(motif_db_dir, basename(motif_db_url))’‘    if (!file.exists(motif_db_destfile)) {’‘        rlog::log_info(\"Downloading motif ranking DB\")’‘        download.file(url = motif_db_url, destfile = motif_db_destfile, ’‘            verbose = T, quiet = F, method = \"wget\")’‘    }’‘    else {’‘        rlog::log_info(\"Motif ranking DB already downloaded\")’‘    }’‘    rlog::log_info(\"Loading motif annotations...\")’‘    motifRankings <- RcisTarget::importRankings(motif_db_destfile, ’‘        indexCol = pars$INDEX_COL)’‘    motifAnnotations <- RcisTarget::importAnnotations(motif_tf_destfile, ’‘        motifsInRanking = RcisTarget::getRanking(motifRankings)[, ’‘            pars$INDEX_COL, drop = T], columnsToKeep = NULL)’‘    return(list(motifRankings = motifRankings, motifAnnotations = motifAnnotations))’‘})’\n",
      "\n",
      ">>>> eval(expression_nr. 12 )\n",
      "\t\t =================\n",
      "\n",
      "> clean_genes_df <- function(df, motif_dbs) {\n",
      "+     genes.in.ranking <- colnames(motif_dbs$motifRankings@rankings)[-1]\n",
      "+     clean.df <- df[rownames(d .... [TRUNCATED] \n",
      "curr.fun: symbol <-\n",
      " .. after ‘expression(clean_genes_df <- function(df, motif_dbs) {’‘    genes.in.ranking <- colnames(motif_dbs$motifRankings@rankings)[-1]’‘    clean.df <- df[rownames(df) %in% genes.in.ranking, ]’‘    n.genes.original <- colSums(df)’‘    n.genes.clean <- colSums(clean.df)’‘    rlog::log_trace(\"Number of genes NOT present in Motif Ranking DB\")’‘    rlog::log_trace(paste(names(n.genes.original), n.genes.original - ’‘        n.genes.clean, \"(\", round((n.genes.original - n.genes.clean)/n.genes.original * ’‘        100, 2), \"% )\"))’‘    if (any(n.genes.clean == 0)) {’‘        rlog::log_info(\"Removing the following gene lists after cleaning\")’‘        rlog::log_info(names(n.genes.clean)[n.genes.clean == ’‘            0])’‘        clean.df <- clean.df[, n.genes.clean != 0]’‘    }’‘    return(clean.df)’‘})’\n",
      "\n",
      ">>>> eval(expression_nr. 13 )\n",
      "\t\t =================\n",
      "\n",
      "> df_to_genelist <- function(df) {\n",
      "+     return(lapply(df, FUN = function(x) {\n",
      "+         rownames(df)[as.logical(x)]\n",
      "+     }))\n",
      "+ }\n",
      "curr.fun: symbol <-\n",
      " .. after ‘expression(df_to_genelist <- function(df) {’‘    return(lapply(df, FUN = function(x) {’‘        rownames(df)[as.logical(x)]’‘    }))’‘})’\n",
      "\n",
      ">>>> eval(expression_nr. 14 )\n",
      "\t\t =================\n",
      "\n",
      "> compute_RCT <- function(geneLists, motif_dbs, ncores = PAR_CORES, \n",
      "+     nes_threshold = PAR_MOTIF_NES, method = PAR_METHOD, verbose = T) {\n",
      "+     t0 .... [TRUNCATED] \n",
      "curr.fun: symbol <-\n",
      " .. after ‘expression(compute_RCT <- function(geneLists, motif_dbs, ncores = PAR_CORES, ’‘    nes_threshold = PAR_MOTIF_NES, method = PAR_METHOD, verbose = T) {’‘    t0 <- Sys.time()’‘    rlog::log_info(\"Running RcisTarget\")’‘    rlog::log_debug(\"1/4\")’‘    motifs_AUC <- RcisTarget::calcAUC(geneLists, motif_dbs$motifRankings, ’‘        nCores = ncores, verbose = verbose)’‘    rlog::log_debug(\"2/4\")’‘    motifEnrichmentTable <- RcisTarget::addMotifAnnotation(motifs_AUC, ’‘        nesThreshold = nes_threshold, motifAnnot = motif_dbs$motifAnnotations)’‘    rlog::log_debug(\"3/4\")’‘    motifEnrichmentTable <- RcisTarget::addSignificantGenes(motifEnrichmentTable, ’‘        rankings = motif_dbs$motifRankings, geneSets = geneLists, ’‘        method = method, nCores = ncores)’‘    rlog::log_debug(\"4/4\")’‘    motifEnrichmentTable <- RcisTarget::addLogo(motifEnrichmentTable)’‘    motifEnrichmentTable$TF_highConf <- gsub(\").\", \");\", motifEnrichmentTable$TF_highConf, ’‘        fixed = T)’‘    rlog::log_debug(capture.output(Sys.time() - t0))’‘    return(motifEnrichmentTable)’‘})’\n",
      "\n",
      ">>>> eval(expression_nr. 15 )\n",
      "\t\t =================\n",
      "\n",
      "> motifEnrTbl_to_long <- function(motifEnrichmentTable, \n",
      "+     geneLists) {\n",
      "+     library(dplyr)\n",
      "+     longMotifEnrTbl <- tidyr::separate_rows(motifEn .... [TRUNCATED] \n",
      "curr.fun: symbol <-\n",
      " .. after ‘expression(motifEnrTbl_to_long <- function(motifEnrichmentTable, ’‘    geneLists) {’‘    library(dplyr)’‘    longMotifEnrTbl <- tidyr::separate_rows(motifEnrichmentTable, ’‘        TF_highConf, sep = \";\")’‘    longMotifEnrTbl$TF_directAnnotation <- grepl(\"directAnnotation\", ’‘        longMotifEnrTbl$TF_highConf, fixed = T)’‘    longMotifEnrTbl <- longMotifEnrTbl[sapply(longMotifEnrTbl$TF_highConf, ’‘        nchar) != 1, ]’‘    longMotifEnrTbl$TF_highConf <- gsub(\"\\\\s*\\\\([^\\\\)]+\\\\)\", ’‘        \"\", longMotifEnrTbl$TF_highConf)’‘    longMotifEnrTbl$TF_highConf <- gsub(\" \", \"\", longMotifEnrTbl$TF_highConf, ’‘        fixed = T)’‘    longMotifEnrTbl$TF_inGeneList <- apply(longMotifEnrTbl, 1, ’‘        function(x) {’‘            x[\"TF_highConf\"] %in% geneLists[[x[\"geneSet\"]]]’‘        })’‘    longMotifEnrTbl <- tidyr::separate_rows(longMotifEnrTbl, ’‘        enrichedGenes, sep = \";\")’‘    longMotifEnrTblSelf <- subset(longMotifEnrTbl, TF_inGeneList)’‘    return(list(motEnrTblLong = longMotifEnrTbl, motEnrTblLongSelf = longMotifEnrTblSelf))’‘})’\n",
      "\n",
      ">>>> eval(expression_nr. 16 )\n",
      "\t\t =================\n",
      "\n",
      "> longSelf_to_summary <- function(motifEnrichmentTableLongSelf) {\n",
      "+     summaryTbl <- motifEnrichmentTableLongSelf %>% group_by(geneSet, \n",
      "+         TF .... [TRUNCATED] \n",
      "curr.fun: symbol <-\n",
      " .. after ‘expression(longSelf_to_summary <- function(motifEnrichmentTableLongSelf) {’‘    summaryTbl <- motifEnrichmentTableLongSelf %>% group_by(geneSet, ’‘        TF_highConf) %>% summarise(n.motifs = length(unique(motif)), ’‘        all.motifs = paste(unique(motif), collapse = \"; \"), n.targets = length(unique(enrichedGenes)), ’‘        all.targets = paste(unique(enrichedGenes), collapse = \"; \"))’‘    return(summaryTbl)’‘})’\n",
      "\n",
      ">>>> eval(expression_nr. 17 )\n",
      "\t\t =================\n",
      "\n",
      "> longSelf_to_regulon <- function(motifEnrichmentTableLongSelf) {\n",
      "+     regulonTbl <- motifEnrichmentTableLongSelf %>% group_by(geneSet, \n",
      "+         TF .... [TRUNCATED] \n",
      "curr.fun: symbol <-\n",
      " .. after ‘expression(longSelf_to_regulon <- function(motifEnrichmentTableLongSelf) {’‘    regulonTbl <- motifEnrichmentTableLongSelf %>% group_by(geneSet, ’‘        TF_highConf, enrichedGenes) %>% summarise(n.motifs = length(unique(motif)), ’‘        all.motifs = paste(unique(motif), collapse = \"; \")) %>% ’‘        rename(Core = TF_highConf, Target = enrichedGenes)’‘    return(regulonTbl)’‘})’\n",
      "\n",
      ">>>> eval(expression_nr. 18 )\n",
      "\t\t =================\n",
      "\n",
      "> run_pipe <- function(genes.df, motif_search_range = PAR_SEARCH_RANGE, \n",
      "+     motif_NES_threshold = PAR_MOTIF_NES, motif_db = PAR_MOTIF_DB_V, \n",
      "+      .... [TRUNCATED] \n",
      "curr.fun: symbol <-\n",
      " .. after ‘expression(run_pipe <- function(genes.df, motif_search_range = PAR_SEARCH_RANGE, ’‘    motif_NES_threshold = PAR_MOTIF_NES, motif_db = PAR_MOTIF_DB_V, ’‘    motif_db_dir = PAR_DB_DIR, motif_method = PAR_METHOD, ncores = PAR_CORES) {’‘    run.pars <- list(motif_search_range = motif_search_range, ’‘        motif_NES_threshold = motif_NES_threshold, motif_db = motif_db, ’‘        motif_db_dir = motif_db_dir, motif_method = motif_method, ’‘        ncores = ncores)’‘    motif_dbs <- download_dbs(motif_db = motif_db, motif_search_range = motif_search_range, ’‘        motif_db_dir = motif_db_dir)’‘    clean.df <- clean_genes_df(genes.df, motif_dbs)’‘    geneLists <- df_to_genelist(clean.df)’‘    gene.order.original <- rownames(clean.df)’‘    motifEnrichmentTable <- compute_RCT(geneLists, motif_dbs = motif_dbs, ’‘        ncores = ncores, nes_threshold = motif_NES_threshold, ’‘        method = motif_method, verbose = T)’‘    longTbls <- motifEnrTbl_to_long(motifEnrichmentTable, geneLists = geneLists)’‘    motEnrTblLong <- longTbls$motEnrTblLong’‘    motEnrTblLongSelf <- longTbls$motEnrTblLongSelf’‘    summaryTbl <- longSelf_to_summary(motEnrTblLongSelf)’‘    regulonTbl <- longSelf_to_regulon(motEnrTblLongSelf)’‘    targetLists <- split(regulonTbl$Target, paste(regulonTbl$geneSet, ’‘        regulonTbl$Core))’‘    RCT_PKG <- list(input.df = genes.df, clean.df = clean.df, ’‘        motif_dbs = motif_dbs, geneLists = geneLists, motifEnrichmentTable = motifEnrichmentTable, ’‘        motifEnrichmentTableLong = motEnrTblLong, motifEnrichmentTableLongSelf = motEnrTblLongSelf, ’‘        summaryTbl = summaryTbl, regulonTbl = regulonTbl, targetLists = targetLists, ’‘        pars = run.pars, plots = list())’‘    return(RCT_PKG)’‘})’\n",
      "\n",
      ">>>> eval(expression_nr. 19 )\n",
      "\t\t =================\n",
      "\n",
      "> save_RCT <- function(RCT_results, save_dir = PAR_RES_DIR) {\n",
      "+     rlog::log_info(paste(\"Saving RCT to\", save_dir))\n",
      "+     dir.create(save_dir, showWa .... [TRUNCATED] \n",
      "curr.fun: symbol <-\n",
      " .. after ‘expression(save_RCT <- function(RCT_results, save_dir = PAR_RES_DIR) {’‘    rlog::log_info(paste(\"Saving RCT to\", save_dir))’‘    dir.create(save_dir, showWarnings = F, recursive = T)’‘    if (\"permutations\" %in% names(RCT_results)) {’‘        rlog::log_info(\"Saving permutated results\")’‘        write.csv(RCT_results$regulonTblPvals, file = file.path(save_dir, ’‘            \"cisTarget_regulons.permuted.csv\"), row.names = F)’‘        saveRDS(RCT_results, file = file.path(save_dir, \"cisTarget_results.permuted.rds\"))’‘    }’‘    else {’‘        rlog::log_info(\"Saving results without permutations\")’‘        write.csv(RCT_results$regulonTbl, file = file.path(save_dir, ’‘            \"cisTarget_regulons.csv\"), row.names = F)’‘        saveRDS(RCT_results, file = file.path(save_dir, \"cisTarget_results.rds\"))’‘    }’‘    write.csv(RCT_results$summaryTbl, file = file.path(save_dir, ’‘        \"cisTarget_regulons.summary.csv\"), row.names = F)’‘    if (\"bicorRes\" %in% names(RCT_results)) {’‘        rlog::log_info(\"Saving results of bicorrelations\")’‘        write.csv(RCT_results$bicorRes$bicorSummary, file = file.path(save_dir, ’‘            \"cisTarget_regulons.bicorsSummary.csv\"), row.names = F)’‘        write.csv(RCT_results$bicorRes$bicorRes, file = file.path(save_dir, ’‘            \"cisTarget_regulons.bicorResults.csv\"), row.names = F)’‘    }’‘})’\n",
      "\n",
      ">>>> eval(expression_nr. 20 )\n",
      "\t\t =================\n",
      "\n",
      "> shuffle_df_with_suffix <- function(df, suffix) {\n",
      "+     set.seed(suffix)\n",
      "+     shuf.df <- data.frame(apply(df, 2, sample, replace = F), \n",
      "+         ro .... [TRUNCATED] \n",
      "curr.fun: symbol <-\n",
      " .. after ‘expression(shuffle_df_with_suffix <- function(df, suffix) {’‘    set.seed(suffix)’‘    shuf.df <- data.frame(apply(df, 2, sample, replace = F), ’‘        row.names = rownames(df))’‘    colnames(shuf.df) <- paste(colnames(df), as.character(suffix), ’‘        sep = \".rep\")’‘    return(shuf.df)’‘})’\n",
      "\n",
      ">>>> eval(expression_nr. 21 )\n",
      "\t\t =================\n",
      "\n",
      "> permute_df <- function(df, ncores = PAR_CORES, n.copies = 100) {\n",
      "+     library(doParallel)\n",
      "+     cl <- makeCluster(min(20, ncores))\n",
      "+     registerDo .... [TRUNCATED] \n",
      "curr.fun: symbol <-\n",
      " .. after ‘expression(permute_df <- function(df, ncores = PAR_CORES, n.copies = 100) {’‘    library(doParallel)’‘    cl <- makeCluster(min(20, ncores))’‘    registerDoParallel(cl)’‘    on.exit(stopCluster(cl))’‘    perm.df <- do.call(\"cbind\", foreach(i = 1:n.copies, .export = c(\"shuffle_df_with_suffix\")) %dopar% ’‘        shuffle_df_with_suffix(df, i))’‘    return(perm.df)’‘})’\n",
      "\n",
      ">>>> eval(expression_nr. 22 )\n",
      "\t\t =================\n",
      "\n",
      "> compute_permutations <- function(df, motif_dbs, n.permutations = 10, \n",
      "+     ncores = PAR_CORES, nes_threshold = PAR_MOTIF_NES, method = PAR_METHOD,  .... [TRUNCATED] \n",
      "curr.fun: symbol <-\n",
      " .. after ‘expression(compute_permutations <- function(df, motif_dbs, n.permutations = 10, ’‘    ncores = PAR_CORES, nes_threshold = PAR_MOTIF_NES, method = PAR_METHOD, ’‘    verbose = T) {’‘    perm.df <- permute_df(df, ncores = ncores, n.copies = n.permutations)’‘    perm.geneLists <- df_to_genelist(perm.df)’‘    perm.res <- compute_RCT(perm.geneLists, motif_dbs = motif_dbs, ’‘        ncores = ncores, nes_threshold = nes_threshold, method = method, ’‘        verbose = T)’‘    perm.longres <- motifEnrTbl_to_long(perm.res, geneLists = perm.geneLists)$motEnrTblLong’‘    perm.longres[, c(\"geneSet\", \"rep\")] <- matrix(unlist(strsplit(perm.longres$geneSet, ’‘        split = \".rep\", fixed = T)), ncol = 2, byrow = T)’‘    perm.cores <- perm.longres %>% group_by(geneSet, TF_highConf) %>% ’‘        summarise(counts = length(unique(rep)))’‘    perm.cores$pval.nom <- perm.cores$counts/n.permutations’‘    perm.cores$pval.adj <- p.adjust(perm.cores$pval.nom, method = \"fdr\")’‘    perm.cores <- perm.cores %>% group_by(geneSet) %>% summarize(TF_highConf, ’‘        TFperm_counts = counts, TFperm_pval.nom = pval.nom, TFperm_pval.adj = pval.adj, ’‘        TFperm_pval.adj.geneSet = p.adjust(pval.nom, method = \"fdr\"))’‘    return(list(perm.df = perm.df, perm.longres = perm.longres, ’‘        perm.cores = perm.cores))’‘})’\n",
      "\n",
      ">>>> eval(expression_nr. 23 )\n",
      "\t\t =================\n",
      "\n",
      "> permute_RCT <- function(RCT_result, n.permutations = 10, \n",
      "+     only_regulons = TRUE) {\n",
      "+     if (!only_regulons) {\n",
      "+         df.to_permute <- RCT_r .... [TRUNCATED] \n",
      "curr.fun: symbol <-\n",
      " .. after ‘expression(permute_RCT <- function(RCT_result, n.permutations = 10, ’‘    only_regulons = TRUE) {’‘    if (!only_regulons) {’‘        df.to_permute <- RCT_result$clean.df’‘    }’‘    else {’‘        df.to_permute <- RCT_result$clean.df[, colnames(RCT_result$clean.df) %in% ’‘            unique(RCT_result$regulonTbl$geneSet)]’‘    }’‘    message(paste0(\"Number of genesets to permute: \", ncol(df.to_permute)))’‘    perm.reslist <- compute_permutations(df = df.to_permute, ’‘        motif_dbs = RCT_result$motif_dbs, n.permutations = n.permutations, ’‘        ncores = RCT_result$pars$ncores, nes_threshold = RCT_result$pars$motif_NES_threshold, ’‘        method = RCT_result$pars$motif_method, verbose = T)’‘    regulonTblPvals <- merge(RCT_result$regulonTbl, perm.reslist$perm.cores, ’‘        by.x = c(\"geneSet\", \"Core\"), by.y = c(\"geneSet\", \"TF_highConf\"), ’‘        all.x = T, all.y = F)’‘    regulonTblPvals[is.na(regulonTblPvals)] <- 0’‘    RCT_result[[\"regulonTblPvals\"]] <- regulonTblPvals’‘    RCT_result[[\"permutations\"]] <- perm.reslist’‘    return(RCT_result)’‘})’\n",
      "\n",
      ">>>> eval(expression_nr. 24 )\n",
      "\t\t =================\n",
      "\n",
      "> get_probability_matrix <- function(RCT_result, exp.data) {\n",
      "+     max_sample <- apply(exp.data, 1, function(x) {\n",
      "+         names(x)[which.max(x)]\n",
      "+   .... [TRUNCATED] \n",
      "curr.fun: symbol <-\n",
      " .. after ‘expression(get_probability_matrix <- function(RCT_result, exp.data) {’‘    max_sample <- apply(exp.data, 1, function(x) {’‘        names(x)[which.max(x)]’‘    })’‘    max_sample.ngenes <- table(max_sample)[colnames(exp.data)]’‘    geneLists.exp <- lapply(RCT_result$geneLists, function(x) {’‘        x[x %in% names(max_sample)]’‘    })’‘    genes.per.sample <- do.call(\"rbind\", lapply(geneLists.exp, ’‘        function(x) {’‘            setNames(table(max_sample[x])[colnames(exp.data)], ’‘                colnames(exp.data))’‘        }))’‘    genes.per.sample[is.na(genes.per.sample)] <- 0’‘    fracs.per.sample <- genes.per.sample/rowSums(genes.per.sample)’‘    probs.per.sample <- data.frame(t(apply(fracs.per.sample, ’‘        1, function(x) {’‘            x/max_sample.ngenes’‘        })))’‘    probs.per.gene <- apply(probs.per.sample, 1, function(x) {’‘        setNames(x[max_sample], names(max_sample))’‘    })’‘    return(probs.per.gene)’‘})’\n",
      "\n",
      ">>>> eval(expression_nr. 25 )\n",
      "\t\t =================\n",
      "\n",
      "> get_bicor <- function(core, targets, exp.data, geneset = NULL) {\n",
      "+     require(dplyr)\n",
      "+     rlog::log_trace(paste(\"Core in expression data:\", core % .... [TRUNCATED] \n",
      "curr.fun: symbol <-\n",
      " .. after ‘expression(get_bicor <- function(core, targets, exp.data, geneset = NULL) {’‘    require(dplyr)’‘    rlog::log_trace(paste(\"Core in expression data:\", core %in% ’‘        rownames(exp.data)))’‘    rlog::log_trace(paste(\"Targets not in expression data:\", ’‘        sum(!targets %in% rownames(exp.data))))’‘    targets <- targets[targets %in% rownames(exp.data)]’‘    core.exp <- t(as.matrix(exp.data[core, ]))’‘    targets.exp <- t(exp.data[targets, ])’‘    bicor.list <- WGCNA::bicorAndPvalue(x = core.exp, y = targets.exp, ’‘        alternative = \"two.sided\")’‘    bicor.df <- as.data.frame(t(do.call(\"rbind\", bicor.list)))’‘    colnames(bicor.df) <- c(\"bicor\", paste(\"bicor\", names(bicor.list)[-1], ’‘        sep = \".\"))’‘    bicor.df$Target <- rownames(bicor.df)’‘    rownames(bicor.df) <- NULL’‘    bicor.df$Core <- core’‘    summary.df <- bicor.df %>% summarise(Core = unique(Core), ’‘        mean.abs = mean(abs(bicor), na.rm = T), median.abs = median(abs(bicor), ’‘            na.rm = T), n.sign = sum(bicor.p < 0.05, na.rm = T), ’‘        fr.sign = sum(bicor.p < 0.05, na.rm = T)/length(bicor), ’‘        mean.pos = mean(bicor[bicor > 0], na.rm = T), median.pos = median(bicor[bicor > ’‘            0], na.rm = T), n.sign.pos = sum(bicor.p[bicor > ’‘            0] < 0.05, na.rm = T), fr.sign.pos = sum(bicor.p[bicor > ’‘            0] < 0.05, na.rm = T)/length(bicor), mean.neg = mean(bicor[bicor < ’‘            0], na.rm = T), median.neg = median(bicor[bicor < ’‘            0], na.rm = T), n.sign.neg = sum(bicor.p[bicor < ’‘            0] < 0.05, na.rm = T), fr.sign.neg = sum(bicor.p[bicor < ’‘            0] < 0.05, na.rm = T)/length(bicor))’‘    if (!is.null(geneset)) {’‘        bicor.df$geneSet <- geneset’‘        summary.df$geneSet <- geneset’‘    }’‘    return(list(bicors = bicor.df, summary = summary.df))’‘})’\n",
      "\n",
      ">>>> eval(expression_nr. 26 )\n",
      "\t\t =================\n",
      "\n",
      "> permute_bicor <- function(exp.data, core, geneset, \n",
      "+     n.targets, n.permutations = 100, exp.probs = NULL, ncores = PAR_CORES) {\n",
      "+     require(doP .... [TRUNCATED] \n",
      "curr.fun: symbol <-\n",
      " .. after ‘expression(permute_bicor <- function(exp.data, core, geneset, ’‘    n.targets, n.permutations = 100, exp.probs = NULL, ncores = PAR_CORES) {’‘    require(doParallel)’‘    cl <- makeCluster(PAR_CORES)’‘    registerDoParallel(cl)’‘    on.exit(stopCluster(cl))’‘    rndBicorRes <- foreach(i = 1:n.permutations, .export = c(\"get_bicor\")) %dopar% ’‘        {’‘            random.targets <- sample(x = rownames(exp.data), ’‘                replace = F, size = n.targets, prob = exp.probs)’‘            bicorRes <- get_bicor(core = core, targets = random.targets, ’‘                exp.data = exp.data, geneset = paste(geneset, ’‘                  i, sep = \".rep\"))’‘        }’‘    longRndBicor <- do.call(\"rbind\", lapply(rndBicorRes, function(x) {’‘        x[[1]]’‘    }))’‘    sumRndBicor <- do.call(\"rbind\", lapply(rndBicorRes, function(x) {’‘        x[[2]]’‘    }))’‘    return(list(fullBicors = longRndBicor, summBicors = sumRndBicor))’‘})’\n",
      "\n",
      ">>>> eval(expression_nr. 27 )\n",
      "\t\t =================\n",
      "\n",
      "> annotate_bicor_summary <- function(bicorRes, bicorResPerm) {\n",
      "+     annot.summary <- bicorRes$summary %>% summarise(Core, geneSet, \n",
      "+         mean.ab .... [TRUNCATED] \n",
      "curr.fun: symbol <-\n",
      " .. after ‘expression(annotate_bicor_summary <- function(bicorRes, bicorResPerm) {’‘    annot.summary <- bicorRes$summary %>% summarise(Core, geneSet, ’‘        mean.abs, mean.abs.pval = mean(bicorResPerm$summBicors$mean.abs > ’‘            bicorRes$summary$mean.abs, na.rm = T), median.abs, ’‘        median.abs.pval = mean(bicorResPerm$summBicors$median.abs > ’‘            bicorRes$summary$median.abs, na.rm = T), n.sign, ’‘        n.sign.pval = mean(bicorResPerm$summBicors$n.sign > bicorRes$summary$n.sign, ’‘            na.rm = T), fr.sign, fr.sign.pval = mean(bicorResPerm$summBicors$fr.sign > ’‘            bicorRes$summary$fr.sign, na.rm = T), mean.pos, mean.pos.pval = mean(bicorResPerm$summBicors$mean.pos > ’‘            bicorRes$summary$mean.pos, na.rm = T), median.pos, ’‘        median.pos.pval = mean(bicorResPerm$summBicors$median.pos > ’‘            bicorRes$summary$median.pos, na.rm = T), n.sign.pos, ’‘        n.sign.pos.pval = mean(bicorResPerm$summBicors$n.sign.pos > ’‘            bicorRes$summary$n.sign.pos, na.rm = T), fr.sign.pos, ’‘        fr.sign.pos.pval = mean(bicorResPerm$summBicors$fr.sign.pos > ’‘            bicorRes$summary$fr.sign.pos, na.rm = T), mean.neg, ’‘        mean.neg.pval = mean(bicorResPerm$summBicors$mean.neg < ’‘            bicorRes$summary$mean.neg, na.rm = T), median.neg, ’‘        median.neg.pval = mean(bicorResPerm$summBicors$median.neg < ’‘            bicorRes$summary$median.neg, na.rm = T), n.sign.neg, ’‘        n.sign.neg.pval = mean(bicorResPerm$summBicors$n.sign.neg > ’‘            bicorRes$summary$n.sign.neg, na.rm = T), fr.sign.neg, ’‘        fr.sign.neg.pval = mean(bicorResPerm$summBicors$fr.sign.neg > ’‘            bicorRes$summary$fr.sign.neg, na.rm = T))’‘    return(annot.summary)’‘})’\n",
      "\n",
      ">>>> eval(expression_nr. 28 )\n",
      "\t\t =================\n",
      "\n",
      "> compute_bicors <- function(RCT_result, exp.data, n.permutations = 10, \n",
      "+     ncores = PAR_CORES) {\n",
      "+     sampling.prob.matrix <- get_probability_mat .... [TRUNCATED] \n",
      "curr.fun: symbol <-\n",
      " .. after ‘expression(compute_bicors <- function(RCT_result, exp.data, n.permutations = 10, ’‘    ncores = PAR_CORES) {’‘    sampling.prob.matrix <- get_probability_matrix(RCT_result = RCT_result, ’‘        exp.data = exp.data)’‘    bicor.summs <- list()’‘    bicor.dfs <- list()’‘    perm.summs <- list()’‘    perm.dfs <- list()’‘    filt.regTbl <- subset(RCT_result$regulonTbl, Target %in% ’‘        rownames(sampling.prob.matrix))’‘    for (geneset in unique(RCT_result$regulonTbl$geneSet)) {’‘        rlog::log_debug(paste(\"[BICOR] geneSet\", geneset))’‘        geneset.geneprobs <- sampling.prob.matrix[, geneset, ’‘            drop = T]’‘        for (core in unique(subset(filt.regTbl, geneSet == geneset)$Core)) {’‘            rlog::log_debug(paste(\"[BICOR]    Core\", core))’‘            targets <- subset(filt.regTbl, geneSet == geneset & ’‘                Core == core)$Target’‘            n.targets <- length(targets)’‘            bicorRes <- get_bicor(core = core, targets = targets, ’‘                exp.data = exp.data, geneset = geneset)’‘            bicorResPerm <- permute_bicor(exp.data = exp.data, ’‘                core = core, geneset = geneset, n.targets = n.targets, ’‘                n.permutations = n.permutations, exp.probs = geneset.geneprobs, ’‘                ncores = ncores)’‘            annot.bicor.summ <- annotate_bicor_summary(bicorRes = bicorRes, ’‘                bicorResPerm = bicorResPerm)’‘            bicor.summs[[paste(geneset, core)]] <- annot.bicor.summ’‘            bicor.dfs[[paste(geneset, core)]] <- bicorRes$bicors’‘            perm.summs[[paste(geneset, core)]] <- bicorResPerm$summBicors’‘            perm.dfs[[paste(geneset, core)]] <- bicorResPerm$fullBicors’‘        }’‘    }’‘    bicor.summs.dense <- do.call(\"rbind\", bicor.summs)’‘    bicor.dfs.dense <- do.call(\"rbind\", bicor.dfs)’‘    perm.summs.dense <- do.call(\"rbind\", perm.summs)’‘    perm.dfs.dense <- do.call(\"rbind\", perm.dfs)’‘    return(list(bicorSummary = bicor.summs.dense, bicorRes = bicor.dfs.dense, ’‘        permSummary = perm.summs.dense, permRes = perm.dfs.dense, ’‘        n.permutations = n.permutations))’‘})’\n",
      "\n",
      ">>>> eval(expression_nr. 29 )\n",
      "\t\t =================\n",
      "\n",
      "> fisher.reg.test <- function(geneset.genes, reg.genes, \n",
      "+     test.genes, haldane_correction = T) {\n",
      "+     require(dplyr)\n",
      "+     lvls <- c(\"REG TEST\",  .... [TRUNCATED] \n",
      "curr.fun: symbol <-\n",
      " .. after ‘expression(fisher.reg.test <- function(geneset.genes, reg.genes, ’‘    test.genes, haldane_correction = T) {’‘    require(dplyr)’‘    lvls <- c(\"REG TEST\", \"REG NOT TEST\", \"NOT REG TEST\", \"NOT REG NOT TEST\")’‘    in.reg <- ifelse(geneset.genes %in% reg.genes, \"REG\", \"NOT REG\")’‘    in.test <- ifelse(geneset.genes %in% test.genes, \"TEST\", ’‘        \"NOT TEST\")’‘    ot <- table(paste(in.reg, in.test, sep = \" \"))’‘    correct_haldane <- F’‘    for (cc in lvls[!lvls %in% names(ot)]) {’‘        ot[cc] <- 0’‘        correct_haldane <- T’‘    }’‘    ot <- ot[lvls]’‘    fish <- unlist(fisher.test(matrix(ot, ncol = 2, nrow = 2, ’‘        byrow = T), alternative = \"greater\"))’‘    names(fish) <- names(fish) %>% gsub(pattern = \"conf.int2\", ’‘        replacement = \"conf.int.max\") %>% gsub(pattern = \"conf.int1\", ’‘        replacement = \"conf.int.min\")’‘    fish <- fish[1:(length(fish) - 2)]’‘    fish <- c(ot, fish)’‘    if (haldane_correction & correct_haldane) {’‘        message(\"Using Haldane correction\")’‘        ot <- ot + 0.5’‘        fish[\"estimate.odds ratio\"] <- unname((ot[1] * ot[4])/(ot[2] * ’‘            ot[3]))’‘        fish[\"alternative\"] <- \"haldane\"’‘    }’‘    fish <- as.data.frame(t(as.data.frame(fish)))’‘    return(fish)’‘})’\n",
      "\n",
      ">>>> eval(expression_nr. 30 )\n",
      "\t\t =================\n",
      "\n",
      "> odds.ratio.RCT <- function(RCT_result, df_to_test, \n",
      "+     haldane_correction = T) {\n",
      "+     regulonTbl <- RCT_result$regulonTbl\n",
      "+     untested.ngenes  .... [TRUNCATED] \n",
      "curr.fun: symbol <-\n",
      " .. after ‘expression(odds.ratio.RCT <- function(RCT_result, df_to_test, ’‘    haldane_correction = T) {’‘    regulonTbl <- RCT_result$regulonTbl’‘    untested.ngenes <- sum(!rownames(df_to_test) %in% rownames(RCT_result$clean.df))’‘    rlog::log_info(paste0(\"Number of genes not tested in RcisTarget: \", ’‘        untested.ngenes))’‘    df_to_test <- df_to_test[rownames(df_to_test) %in% rownames(RCT_result$clean.df), ’‘        ]’‘    fishes <- list()’‘    for (geneset in unique(regulonTbl$geneSet)) {’‘        genesetTbl <- subset(regulonTbl, geneSet == geneset)’‘        genesetGenes <- RCT_result$geneLists[[geneset]]’‘        rlog::log_info(paste0(geneset, \": \", length(genesetGenes)))’‘        for (core in unique(genesetTbl$Core)) {’‘            coreTbl <- subset(genesetTbl, Core == core)’‘            regGenes <- unique(c(coreTbl$Core, coreTbl$Target))’‘            rlog::log_info(paste0(\"Regulon core \", core, \": \", ’‘                length(regGenes)))’‘            for (test.gs in colnames(df_to_test)) {’‘                testGenes <- rownames(df_to_test)[as.logical(df_to_test[, ’‘                  test.gs])]’‘                rlog::log_info(paste0(\"\\tTesting \", test.gs, ’‘                  \": \", length(testGenes)))’‘                fish <- fisher.reg.test(geneset.genes = genesetGenes, ’‘                  reg.genes = regGenes, test.genes = testGenes, ’‘                  haldane_correction = haldane_correction)’‘                fish$geneSet <- geneset’‘                fish$Core <- core’‘                fish$testSet <- test.gs’‘                fishes[[length(fishes) + 1]] <- fish’‘            }’‘        }’‘    }’‘    fishes <- do.call(\"rbind\", fishes)’‘    rownames(fishes) <- 1:nrow(fishes)’‘    fishes[, 1:9] <- apply(fishes[, 1:9], 2, as.numeric)’‘    fishes <- fishes %>% group_by(geneSet, Core) %>% mutate(p.value.adj.core = p.adjust(p.value, ’‘        method = \"fdr\"))’‘    fishes <- fishes %>% group_by(geneSet) %>% mutate(p.value.adj.geneset = p.adjust(p.value, ’‘        method = \"fdr\"))’‘    fishes <- fishes %>% group_by(testSet) %>% mutate(p.value.adj.testset = p.adjust(p.value, ’‘        method = \"fdr\"))’‘    fishes$p.value.adj <- p.adjust(fishes$p.value, method = \"fdr\")’‘    fishes$OR.log2 <- log2(fishes$`estimate.odds ratio`)’‘    return(fishes)’‘})’\n",
      "\n",
      ">>>> eval(expression_nr. 31 )\n",
      "\t\t =================\n",
      "\n",
      "> PAR_EXPORT <- FALSE\n",
      "curr.fun: symbol <-\n",
      " .. after ‘expression(PAR_EXPORT <- FALSE)’\n",
      "\n",
      ">>>> eval(expression_nr. 32 )\n",
      "\t\t =================\n",
      "\n",
      "> if (PAR_EXPORT) {\n",
      "+     message(\"Exporting code...\")\n",
      "+     system(command = \"jupyter nbconvert --to script --output RCTpipe --output-dir ./src/ ./RC ...\" ... [TRUNCATED] \n",
      "curr.fun: symbol if\n",
      " .. after ‘expression(if (PAR_EXPORT) {’‘    message(\"Exporting code...\")’‘    system(command = \"jupyter nbconvert --to script --output RCTpipe --output-dir ./src/ ./RCTpipe.ipynb\", ’‘        intern = TRUE)’‘})’\n"
     ]
    }
   ],
   "source": [
    "source('~/canonades/RcisTarget/src/RCTpipe.r', echo = T, verbose = T)"
   ]
  },
  {
   "cell_type": "markdown",
   "id": "9c67961c-7702-456e-a4c0-947f9996c00e",
   "metadata": {
    "tags": []
   },
   "source": [
    "### Parameters, files and dirs"
   ]
  },
  {
   "cell_type": "code",
   "execution_count": 6,
   "id": "1788e723-7344-47a7-a6c7-caee7d80016a",
   "metadata": {},
   "outputs": [],
   "source": [
    "# Input file\n",
    "input.fname <- 'data/nico_peak_expression.csv'\n",
    "\n",
    "# Results directory\n",
    "results.dir <- './results/RCT_peaks/'"
   ]
  },
  {
   "cell_type": "code",
   "execution_count": 7,
   "id": "9707048a-32bb-49e7-b612-9bc1351323eb",
   "metadata": {},
   "outputs": [],
   "source": [
    "# Number of cores\n",
    "n.cores <- parallel::detectCores()\n",
    "# Number of permutations\n",
    "n.perms <- 1000"
   ]
  },
  {
   "cell_type": "code",
   "execution_count": 8,
   "id": "423a7e91-d634-476b-a24c-71f0213a0d1d",
   "metadata": {},
   "outputs": [],
   "source": [
    "# Expression data for bicorrelations\n",
    "exp.fname <- 'data/nico_expression_log2.onlyExpressed.csv'\n",
    "# exp.fname <- 'data/nico_expression_log2.original_genes.csv'\n",
    "# Disease data for bicorrelations\n",
    "dis.fname <- 'data/gene_disorder_associations.intersectionExpData.csv'\n"
   ]
  },
  {
   "cell_type": "markdown",
   "id": "41c95b94-d200-4029-99e6-a1278501ddaf",
   "metadata": {
    "tags": []
   },
   "source": [
    "# Data"
   ]
  },
  {
   "cell_type": "code",
   "execution_count": 9,
   "id": "bed1557c-df96-48ea-981d-9522173e3232",
   "metadata": {},
   "outputs": [
    {
     "data": {
      "text/html": [
       "<style>\n",
       ".list-inline {list-style: none; margin:0; padding: 0}\n",
       ".list-inline>li {display: inline-block}\n",
       ".list-inline>li:not(:last-child)::after {content: \"\\00b7\"; padding: 0 .5ex}\n",
       "</style>\n",
       "<ol class=list-inline><li>19735</li><li>20</li></ol>\n"
      ],
      "text/latex": [
       "\\begin{enumerate*}\n",
       "\\item 19735\n",
       "\\item 20\n",
       "\\end{enumerate*}\n"
      ],
      "text/markdown": [
       "1. 19735\n",
       "2. 20\n",
       "\n",
       "\n"
      ],
      "text/plain": [
       "[1] 19735    20"
      ]
     },
     "metadata": {},
     "output_type": "display_data"
    },
    {
     "data": {
      "text/html": [
       "<table class=\"dataframe\">\n",
       "<caption>A data.frame: 6 × 20</caption>\n",
       "<thead>\n",
       "\t<tr><th></th><th scope=col>P2.FGF20</th><th scope=col>P2.FGF10</th><th scope=col>P2.FGF1</th><th scope=col>P2.FGF0.1</th><th scope=col>P3.FGF20</th><th scope=col>P3.FGF10</th><th scope=col>P3.FGF1</th><th scope=col>P3.FGF0.1</th><th scope=col>P4.FGF20</th><th scope=col>P4.FGF10</th><th scope=col>P4.FGF1</th><th scope=col>P4.FGF0.1</th><th scope=col>P6.FGF20</th><th scope=col>P6.FGF10</th><th scope=col>P6.FGF1</th><th scope=col>P6.FGF0.1</th><th scope=col>P8.FGF20</th><th scope=col>P8.FGF10</th><th scope=col>P8.FGF1</th><th scope=col>P8.FGF0.1</th></tr>\n",
       "\t<tr><th></th><th scope=col>&lt;int&gt;</th><th scope=col>&lt;int&gt;</th><th scope=col>&lt;int&gt;</th><th scope=col>&lt;int&gt;</th><th scope=col>&lt;int&gt;</th><th scope=col>&lt;int&gt;</th><th scope=col>&lt;int&gt;</th><th scope=col>&lt;int&gt;</th><th scope=col>&lt;int&gt;</th><th scope=col>&lt;int&gt;</th><th scope=col>&lt;int&gt;</th><th scope=col>&lt;int&gt;</th><th scope=col>&lt;int&gt;</th><th scope=col>&lt;int&gt;</th><th scope=col>&lt;int&gt;</th><th scope=col>&lt;int&gt;</th><th scope=col>&lt;int&gt;</th><th scope=col>&lt;int&gt;</th><th scope=col>&lt;int&gt;</th><th scope=col>&lt;int&gt;</th></tr>\n",
       "</thead>\n",
       "<tbody>\n",
       "\t<tr><th scope=row>RPPH1</th><td>1</td><td>0</td><td>0</td><td>0</td><td>0</td><td>0</td><td>0</td><td>0</td><td>0</td><td>0</td><td>0</td><td>0</td><td>0</td><td>0</td><td>0</td><td>0</td><td>0</td><td>0</td><td>0</td><td>0</td></tr>\n",
       "\t<tr><th scope=row>RMRP</th><td>0</td><td>0</td><td>0</td><td>0</td><td>0</td><td>0</td><td>1</td><td>0</td><td>0</td><td>0</td><td>0</td><td>0</td><td>0</td><td>0</td><td>0</td><td>0</td><td>0</td><td>0</td><td>0</td><td>0</td></tr>\n",
       "\t<tr><th scope=row>EEF1A1</th><td>0</td><td>0</td><td>0</td><td>0</td><td>0</td><td>0</td><td>0</td><td>0</td><td>0</td><td>1</td><td>0</td><td>0</td><td>0</td><td>0</td><td>0</td><td>0</td><td>0</td><td>0</td><td>0</td><td>0</td></tr>\n",
       "\t<tr><th scope=row>RPS27</th><td>0</td><td>0</td><td>0</td><td>1</td><td>0</td><td>0</td><td>0</td><td>0</td><td>0</td><td>0</td><td>0</td><td>0</td><td>0</td><td>0</td><td>0</td><td>0</td><td>0</td><td>0</td><td>0</td><td>0</td></tr>\n",
       "\t<tr><th scope=row>HIST1H4E</th><td>0</td><td>0</td><td>0</td><td>0</td><td>0</td><td>0</td><td>0</td><td>0</td><td>0</td><td>0</td><td>0</td><td>0</td><td>0</td><td>1</td><td>0</td><td>0</td><td>0</td><td>0</td><td>0</td><td>0</td></tr>\n",
       "\t<tr><th scope=row>RPL23</th><td>0</td><td>0</td><td>0</td><td>0</td><td>0</td><td>0</td><td>0</td><td>0</td><td>0</td><td>0</td><td>1</td><td>0</td><td>0</td><td>0</td><td>0</td><td>0</td><td>0</td><td>0</td><td>0</td><td>0</td></tr>\n",
       "</tbody>\n",
       "</table>\n"
      ],
      "text/latex": [
       "A data.frame: 6 × 20\n",
       "\\begin{tabular}{r|llllllllllllllllllll}\n",
       "  & P2.FGF20 & P2.FGF10 & P2.FGF1 & P2.FGF0.1 & P3.FGF20 & P3.FGF10 & P3.FGF1 & P3.FGF0.1 & P4.FGF20 & P4.FGF10 & P4.FGF1 & P4.FGF0.1 & P6.FGF20 & P6.FGF10 & P6.FGF1 & P6.FGF0.1 & P8.FGF20 & P8.FGF10 & P8.FGF1 & P8.FGF0.1\\\\\n",
       "  & <int> & <int> & <int> & <int> & <int> & <int> & <int> & <int> & <int> & <int> & <int> & <int> & <int> & <int> & <int> & <int> & <int> & <int> & <int> & <int>\\\\\n",
       "\\hline\n",
       "\tRPPH1 & 1 & 0 & 0 & 0 & 0 & 0 & 0 & 0 & 0 & 0 & 0 & 0 & 0 & 0 & 0 & 0 & 0 & 0 & 0 & 0\\\\\n",
       "\tRMRP & 0 & 0 & 0 & 0 & 0 & 0 & 1 & 0 & 0 & 0 & 0 & 0 & 0 & 0 & 0 & 0 & 0 & 0 & 0 & 0\\\\\n",
       "\tEEF1A1 & 0 & 0 & 0 & 0 & 0 & 0 & 0 & 0 & 0 & 1 & 0 & 0 & 0 & 0 & 0 & 0 & 0 & 0 & 0 & 0\\\\\n",
       "\tRPS27 & 0 & 0 & 0 & 1 & 0 & 0 & 0 & 0 & 0 & 0 & 0 & 0 & 0 & 0 & 0 & 0 & 0 & 0 & 0 & 0\\\\\n",
       "\tHIST1H4E & 0 & 0 & 0 & 0 & 0 & 0 & 0 & 0 & 0 & 0 & 0 & 0 & 0 & 1 & 0 & 0 & 0 & 0 & 0 & 0\\\\\n",
       "\tRPL23 & 0 & 0 & 0 & 0 & 0 & 0 & 0 & 0 & 0 & 0 & 1 & 0 & 0 & 0 & 0 & 0 & 0 & 0 & 0 & 0\\\\\n",
       "\\end{tabular}\n"
      ],
      "text/markdown": [
       "\n",
       "A data.frame: 6 × 20\n",
       "\n",
       "| <!--/--> | P2.FGF20 &lt;int&gt; | P2.FGF10 &lt;int&gt; | P2.FGF1 &lt;int&gt; | P2.FGF0.1 &lt;int&gt; | P3.FGF20 &lt;int&gt; | P3.FGF10 &lt;int&gt; | P3.FGF1 &lt;int&gt; | P3.FGF0.1 &lt;int&gt; | P4.FGF20 &lt;int&gt; | P4.FGF10 &lt;int&gt; | P4.FGF1 &lt;int&gt; | P4.FGF0.1 &lt;int&gt; | P6.FGF20 &lt;int&gt; | P6.FGF10 &lt;int&gt; | P6.FGF1 &lt;int&gt; | P6.FGF0.1 &lt;int&gt; | P8.FGF20 &lt;int&gt; | P8.FGF10 &lt;int&gt; | P8.FGF1 &lt;int&gt; | P8.FGF0.1 &lt;int&gt; |\n",
       "|---|---|---|---|---|---|---|---|---|---|---|---|---|---|---|---|---|---|---|---|---|\n",
       "| RPPH1 | 1 | 0 | 0 | 0 | 0 | 0 | 0 | 0 | 0 | 0 | 0 | 0 | 0 | 0 | 0 | 0 | 0 | 0 | 0 | 0 |\n",
       "| RMRP | 0 | 0 | 0 | 0 | 0 | 0 | 1 | 0 | 0 | 0 | 0 | 0 | 0 | 0 | 0 | 0 | 0 | 0 | 0 | 0 |\n",
       "| EEF1A1 | 0 | 0 | 0 | 0 | 0 | 0 | 0 | 0 | 0 | 1 | 0 | 0 | 0 | 0 | 0 | 0 | 0 | 0 | 0 | 0 |\n",
       "| RPS27 | 0 | 0 | 0 | 1 | 0 | 0 | 0 | 0 | 0 | 0 | 0 | 0 | 0 | 0 | 0 | 0 | 0 | 0 | 0 | 0 |\n",
       "| HIST1H4E | 0 | 0 | 0 | 0 | 0 | 0 | 0 | 0 | 0 | 0 | 0 | 0 | 0 | 1 | 0 | 0 | 0 | 0 | 0 | 0 |\n",
       "| RPL23 | 0 | 0 | 0 | 0 | 0 | 0 | 0 | 0 | 0 | 0 | 1 | 0 | 0 | 0 | 0 | 0 | 0 | 0 | 0 | 0 |\n",
       "\n"
      ],
      "text/plain": [
       "         P2.FGF20 P2.FGF10 P2.FGF1 P2.FGF0.1 P3.FGF20 P3.FGF10 P3.FGF1\n",
       "RPPH1    1        0        0       0         0        0        0      \n",
       "RMRP     0        0        0       0         0        0        1      \n",
       "EEF1A1   0        0        0       0         0        0        0      \n",
       "RPS27    0        0        0       1         0        0        0      \n",
       "HIST1H4E 0        0        0       0         0        0        0      \n",
       "RPL23    0        0        0       0         0        0        0      \n",
       "         P3.FGF0.1 P4.FGF20 P4.FGF10 P4.FGF1 P4.FGF0.1 P6.FGF20 P6.FGF10\n",
       "RPPH1    0         0        0        0       0         0        0       \n",
       "RMRP     0         0        0        0       0         0        0       \n",
       "EEF1A1   0         0        1        0       0         0        0       \n",
       "RPS27    0         0        0        0       0         0        0       \n",
       "HIST1H4E 0         0        0        0       0         0        1       \n",
       "RPL23    0         0        0        1       0         0        0       \n",
       "         P6.FGF1 P6.FGF0.1 P8.FGF20 P8.FGF10 P8.FGF1 P8.FGF0.1\n",
       "RPPH1    0       0         0        0        0       0        \n",
       "RMRP     0       0         0        0        0       0        \n",
       "EEF1A1   0       0         0        0        0       0        \n",
       "RPS27    0       0         0        0        0       0        \n",
       "HIST1H4E 0       0         0        0        0       0        \n",
       "RPL23    0       0         0        0        0       0        "
      ]
     },
     "metadata": {},
     "output_type": "display_data"
    }
   ],
   "source": [
    "peaks.df <- read.csv(input.fname, row.names=1)\n",
    "dim(peaks.df)\n",
    "head(peaks.df)"
   ]
  },
  {
   "cell_type": "code",
   "execution_count": 10,
   "id": "f7e4c6dd-eca1-4346-977d-7ea91037127f",
   "metadata": {},
   "outputs": [
    {
     "data": {
      "text/html": [
       "<style>\n",
       ".list-inline {list-style: none; margin:0; padding: 0}\n",
       ".list-inline>li {display: inline-block}\n",
       ".list-inline>li:not(:last-child)::after {content: \"\\00b7\"; padding: 0 .5ex}\n",
       "</style>\n",
       "<ol class=list-inline><li>19735</li><li>20</li></ol>\n"
      ],
      "text/latex": [
       "\\begin{enumerate*}\n",
       "\\item 19735\n",
       "\\item 20\n",
       "\\end{enumerate*}\n"
      ],
      "text/markdown": [
       "1. 19735\n",
       "2. 20\n",
       "\n",
       "\n"
      ],
      "text/plain": [
       "[1] 19735    20"
      ]
     },
     "metadata": {},
     "output_type": "display_data"
    },
    {
     "data": {
      "text/html": [
       "<table class=\"dataframe\">\n",
       "<caption>A data.frame: 6 × 20</caption>\n",
       "<thead>\n",
       "\t<tr><th></th><th scope=col>P2.FGF20</th><th scope=col>P2.FGF10</th><th scope=col>P2.FGF1</th><th scope=col>P2.FGF0.1</th><th scope=col>P3.FGF20</th><th scope=col>P3.FGF10</th><th scope=col>P3.FGF1</th><th scope=col>P3.FGF0.1</th><th scope=col>P4.FGF20</th><th scope=col>P4.FGF10</th><th scope=col>P4.FGF1</th><th scope=col>P4.FGF0.1</th><th scope=col>P6.FGF20</th><th scope=col>P6.FGF10</th><th scope=col>P6.FGF1</th><th scope=col>P6.FGF0.1</th><th scope=col>P8.FGF20</th><th scope=col>P8.FGF10</th><th scope=col>P8.FGF1</th><th scope=col>P8.FGF0.1</th></tr>\n",
       "\t<tr><th></th><th scope=col>&lt;dbl&gt;</th><th scope=col>&lt;dbl&gt;</th><th scope=col>&lt;dbl&gt;</th><th scope=col>&lt;dbl&gt;</th><th scope=col>&lt;dbl&gt;</th><th scope=col>&lt;dbl&gt;</th><th scope=col>&lt;dbl&gt;</th><th scope=col>&lt;dbl&gt;</th><th scope=col>&lt;dbl&gt;</th><th scope=col>&lt;dbl&gt;</th><th scope=col>&lt;dbl&gt;</th><th scope=col>&lt;dbl&gt;</th><th scope=col>&lt;dbl&gt;</th><th scope=col>&lt;dbl&gt;</th><th scope=col>&lt;dbl&gt;</th><th scope=col>&lt;dbl&gt;</th><th scope=col>&lt;dbl&gt;</th><th scope=col>&lt;dbl&gt;</th><th scope=col>&lt;dbl&gt;</th><th scope=col>&lt;dbl&gt;</th></tr>\n",
       "</thead>\n",
       "<tbody>\n",
       "\t<tr><th scope=row>RPPH1</th><td>13.04623</td><td>12.28241</td><td>11.24364</td><td>12.27173</td><td>12.12812</td><td>12.03452</td><td>13.00799</td><td>12.17872</td><td>12.05932</td><td>11.86173</td><td>11.98733</td><td>11.62126</td><td>12.00351</td><td>12.63748</td><td>11.93306</td><td>12.33148</td><td>12.23537</td><td>12.43607</td><td>12.59975</td><td>12.52714</td></tr>\n",
       "\t<tr><th scope=row>RMRP</th><td>12.48491</td><td>12.11243</td><td>11.38070</td><td>12.09172</td><td>12.34055</td><td>12.44420</td><td>13.10532</td><td>12.28078</td><td>12.08826</td><td>11.46426</td><td>11.66939</td><td>11.90056</td><td>11.91875</td><td>11.97331</td><td>11.51441</td><td>11.98859</td><td>11.76499</td><td>12.19002</td><td>12.34510</td><td>12.08683</td></tr>\n",
       "\t<tr><th scope=row>EEF1A1</th><td>11.62933</td><td>11.59329</td><td>11.66738</td><td>11.63242</td><td>11.68348</td><td>11.69902</td><td>11.56305</td><td>11.34799</td><td>11.76610</td><td>11.79932</td><td>11.75743</td><td>11.05350</td><td>11.49185</td><td>11.69776</td><td>11.58537</td><td>11.67830</td><td>11.39488</td><td>11.75448</td><td>11.73382</td><td>11.78609</td></tr>\n",
       "\t<tr><th scope=row>RPS27</th><td>10.51746</td><td>11.34083</td><td>11.32416</td><td>11.54350</td><td>11.45687</td><td>11.54094</td><td>11.09534</td><td>11.39159</td><td>11.34469</td><td>11.30040</td><td>11.33700</td><td>10.87653</td><td>11.00994</td><td>10.38989</td><td>11.26149</td><td>11.32254</td><td>10.69421</td><td>11.16709</td><td>11.29963</td><td>11.25599</td></tr>\n",
       "\t<tr><th scope=row>HIST1H4E</th><td>11.86527</td><td>10.61179</td><td>10.55470</td><td>10.90878</td><td>11.08158</td><td>10.89391</td><td>11.72504</td><td>10.57039</td><td>11.11413</td><td>10.92014</td><td>11.03981</td><td>10.98338</td><td>11.24872</td><td>12.17598</td><td>10.92614</td><td>10.78664</td><td>10.62988</td><td>10.98815</td><td>10.69400</td><td>10.27310</td></tr>\n",
       "\t<tr><th scope=row>RPL23</th><td>11.09727</td><td>11.02227</td><td>11.07019</td><td>11.00418</td><td>10.98213</td><td>10.96352</td><td>10.80222</td><td>10.86794</td><td>10.96422</td><td>11.07841</td><td>11.12587</td><td>10.65969</td><td>10.70524</td><td>11.06947</td><td>11.07815</td><td>10.82535</td><td>10.72543</td><td>10.96961</td><td>10.94586</td><td>10.90868</td></tr>\n",
       "</tbody>\n",
       "</table>\n"
      ],
      "text/latex": [
       "A data.frame: 6 × 20\n",
       "\\begin{tabular}{r|llllllllllllllllllll}\n",
       "  & P2.FGF20 & P2.FGF10 & P2.FGF1 & P2.FGF0.1 & P3.FGF20 & P3.FGF10 & P3.FGF1 & P3.FGF0.1 & P4.FGF20 & P4.FGF10 & P4.FGF1 & P4.FGF0.1 & P6.FGF20 & P6.FGF10 & P6.FGF1 & P6.FGF0.1 & P8.FGF20 & P8.FGF10 & P8.FGF1 & P8.FGF0.1\\\\\n",
       "  & <dbl> & <dbl> & <dbl> & <dbl> & <dbl> & <dbl> & <dbl> & <dbl> & <dbl> & <dbl> & <dbl> & <dbl> & <dbl> & <dbl> & <dbl> & <dbl> & <dbl> & <dbl> & <dbl> & <dbl>\\\\\n",
       "\\hline\n",
       "\tRPPH1 & 13.04623 & 12.28241 & 11.24364 & 12.27173 & 12.12812 & 12.03452 & 13.00799 & 12.17872 & 12.05932 & 11.86173 & 11.98733 & 11.62126 & 12.00351 & 12.63748 & 11.93306 & 12.33148 & 12.23537 & 12.43607 & 12.59975 & 12.52714\\\\\n",
       "\tRMRP & 12.48491 & 12.11243 & 11.38070 & 12.09172 & 12.34055 & 12.44420 & 13.10532 & 12.28078 & 12.08826 & 11.46426 & 11.66939 & 11.90056 & 11.91875 & 11.97331 & 11.51441 & 11.98859 & 11.76499 & 12.19002 & 12.34510 & 12.08683\\\\\n",
       "\tEEF1A1 & 11.62933 & 11.59329 & 11.66738 & 11.63242 & 11.68348 & 11.69902 & 11.56305 & 11.34799 & 11.76610 & 11.79932 & 11.75743 & 11.05350 & 11.49185 & 11.69776 & 11.58537 & 11.67830 & 11.39488 & 11.75448 & 11.73382 & 11.78609\\\\\n",
       "\tRPS27 & 10.51746 & 11.34083 & 11.32416 & 11.54350 & 11.45687 & 11.54094 & 11.09534 & 11.39159 & 11.34469 & 11.30040 & 11.33700 & 10.87653 & 11.00994 & 10.38989 & 11.26149 & 11.32254 & 10.69421 & 11.16709 & 11.29963 & 11.25599\\\\\n",
       "\tHIST1H4E & 11.86527 & 10.61179 & 10.55470 & 10.90878 & 11.08158 & 10.89391 & 11.72504 & 10.57039 & 11.11413 & 10.92014 & 11.03981 & 10.98338 & 11.24872 & 12.17598 & 10.92614 & 10.78664 & 10.62988 & 10.98815 & 10.69400 & 10.27310\\\\\n",
       "\tRPL23 & 11.09727 & 11.02227 & 11.07019 & 11.00418 & 10.98213 & 10.96352 & 10.80222 & 10.86794 & 10.96422 & 11.07841 & 11.12587 & 10.65969 & 10.70524 & 11.06947 & 11.07815 & 10.82535 & 10.72543 & 10.96961 & 10.94586 & 10.90868\\\\\n",
       "\\end{tabular}\n"
      ],
      "text/markdown": [
       "\n",
       "A data.frame: 6 × 20\n",
       "\n",
       "| <!--/--> | P2.FGF20 &lt;dbl&gt; | P2.FGF10 &lt;dbl&gt; | P2.FGF1 &lt;dbl&gt; | P2.FGF0.1 &lt;dbl&gt; | P3.FGF20 &lt;dbl&gt; | P3.FGF10 &lt;dbl&gt; | P3.FGF1 &lt;dbl&gt; | P3.FGF0.1 &lt;dbl&gt; | P4.FGF20 &lt;dbl&gt; | P4.FGF10 &lt;dbl&gt; | P4.FGF1 &lt;dbl&gt; | P4.FGF0.1 &lt;dbl&gt; | P6.FGF20 &lt;dbl&gt; | P6.FGF10 &lt;dbl&gt; | P6.FGF1 &lt;dbl&gt; | P6.FGF0.1 &lt;dbl&gt; | P8.FGF20 &lt;dbl&gt; | P8.FGF10 &lt;dbl&gt; | P8.FGF1 &lt;dbl&gt; | P8.FGF0.1 &lt;dbl&gt; |\n",
       "|---|---|---|---|---|---|---|---|---|---|---|---|---|---|---|---|---|---|---|---|---|\n",
       "| RPPH1 | 13.04623 | 12.28241 | 11.24364 | 12.27173 | 12.12812 | 12.03452 | 13.00799 | 12.17872 | 12.05932 | 11.86173 | 11.98733 | 11.62126 | 12.00351 | 12.63748 | 11.93306 | 12.33148 | 12.23537 | 12.43607 | 12.59975 | 12.52714 |\n",
       "| RMRP | 12.48491 | 12.11243 | 11.38070 | 12.09172 | 12.34055 | 12.44420 | 13.10532 | 12.28078 | 12.08826 | 11.46426 | 11.66939 | 11.90056 | 11.91875 | 11.97331 | 11.51441 | 11.98859 | 11.76499 | 12.19002 | 12.34510 | 12.08683 |\n",
       "| EEF1A1 | 11.62933 | 11.59329 | 11.66738 | 11.63242 | 11.68348 | 11.69902 | 11.56305 | 11.34799 | 11.76610 | 11.79932 | 11.75743 | 11.05350 | 11.49185 | 11.69776 | 11.58537 | 11.67830 | 11.39488 | 11.75448 | 11.73382 | 11.78609 |\n",
       "| RPS27 | 10.51746 | 11.34083 | 11.32416 | 11.54350 | 11.45687 | 11.54094 | 11.09534 | 11.39159 | 11.34469 | 11.30040 | 11.33700 | 10.87653 | 11.00994 | 10.38989 | 11.26149 | 11.32254 | 10.69421 | 11.16709 | 11.29963 | 11.25599 |\n",
       "| HIST1H4E | 11.86527 | 10.61179 | 10.55470 | 10.90878 | 11.08158 | 10.89391 | 11.72504 | 10.57039 | 11.11413 | 10.92014 | 11.03981 | 10.98338 | 11.24872 | 12.17598 | 10.92614 | 10.78664 | 10.62988 | 10.98815 | 10.69400 | 10.27310 |\n",
       "| RPL23 | 11.09727 | 11.02227 | 11.07019 | 11.00418 | 10.98213 | 10.96352 | 10.80222 | 10.86794 | 10.96422 | 11.07841 | 11.12587 | 10.65969 | 10.70524 | 11.06947 | 11.07815 | 10.82535 | 10.72543 | 10.96961 | 10.94586 | 10.90868 |\n",
       "\n"
      ],
      "text/plain": [
       "         P2.FGF20 P2.FGF10 P2.FGF1  P2.FGF0.1 P3.FGF20 P3.FGF10 P3.FGF1 \n",
       "RPPH1    13.04623 12.28241 11.24364 12.27173  12.12812 12.03452 13.00799\n",
       "RMRP     12.48491 12.11243 11.38070 12.09172  12.34055 12.44420 13.10532\n",
       "EEF1A1   11.62933 11.59329 11.66738 11.63242  11.68348 11.69902 11.56305\n",
       "RPS27    10.51746 11.34083 11.32416 11.54350  11.45687 11.54094 11.09534\n",
       "HIST1H4E 11.86527 10.61179 10.55470 10.90878  11.08158 10.89391 11.72504\n",
       "RPL23    11.09727 11.02227 11.07019 11.00418  10.98213 10.96352 10.80222\n",
       "         P3.FGF0.1 P4.FGF20 P4.FGF10 P4.FGF1  P4.FGF0.1 P6.FGF20 P6.FGF10\n",
       "RPPH1    12.17872  12.05932 11.86173 11.98733 11.62126  12.00351 12.63748\n",
       "RMRP     12.28078  12.08826 11.46426 11.66939 11.90056  11.91875 11.97331\n",
       "EEF1A1   11.34799  11.76610 11.79932 11.75743 11.05350  11.49185 11.69776\n",
       "RPS27    11.39159  11.34469 11.30040 11.33700 10.87653  11.00994 10.38989\n",
       "HIST1H4E 10.57039  11.11413 10.92014 11.03981 10.98338  11.24872 12.17598\n",
       "RPL23    10.86794  10.96422 11.07841 11.12587 10.65969  10.70524 11.06947\n",
       "         P6.FGF1  P6.FGF0.1 P8.FGF20 P8.FGF10 P8.FGF1  P8.FGF0.1\n",
       "RPPH1    11.93306 12.33148  12.23537 12.43607 12.59975 12.52714 \n",
       "RMRP     11.51441 11.98859  11.76499 12.19002 12.34510 12.08683 \n",
       "EEF1A1   11.58537 11.67830  11.39488 11.75448 11.73382 11.78609 \n",
       "RPS27    11.26149 11.32254  10.69421 11.16709 11.29963 11.25599 \n",
       "HIST1H4E 10.92614 10.78664  10.62988 10.98815 10.69400 10.27310 \n",
       "RPL23    11.07815 10.82535  10.72543 10.96961 10.94586 10.90868 "
      ]
     },
     "metadata": {},
     "output_type": "display_data"
    }
   ],
   "source": [
    "exp.data <- read.csv(exp.fname, row.names=1)\n",
    "dim(exp.data)\n",
    "head(exp.data)"
   ]
  },
  {
   "cell_type": "code",
   "execution_count": 11,
   "id": "a1c112a1-e516-4921-bc55-8bc3cea9c6b3",
   "metadata": {},
   "outputs": [
    {
     "data": {
      "text/html": [
       "<style>\n",
       ".list-inline {list-style: none; margin:0; padding: 0}\n",
       ".list-inline>li {display: inline-block}\n",
       ".list-inline>li:not(:last-child)::after {content: \"\\00b7\"; padding: 0 .5ex}\n",
       "</style>\n",
       "<ol class=list-inline><li>19735</li><li>19</li></ol>\n"
      ],
      "text/latex": [
       "\\begin{enumerate*}\n",
       "\\item 19735\n",
       "\\item 19\n",
       "\\end{enumerate*}\n"
      ],
      "text/markdown": [
       "1. 19735\n",
       "2. 19\n",
       "\n",
       "\n"
      ],
      "text/plain": [
       "[1] 19735    19"
      ]
     },
     "metadata": {},
     "output_type": "display_data"
    },
    {
     "data": {
      "text/html": [
       "<table class=\"dataframe\">\n",
       "<caption>A data.frame: 6 × 19</caption>\n",
       "<thead>\n",
       "\t<tr><th></th><th scope=col>Microcephaly</th><th scope=col>Hydrocephaly</th><th scope=col>RareMCD</th><th scope=col>MDD_2018</th><th scope=col>Polymicrogyria</th><th scope=col>SCZ_2020</th><th scope=col>AN_2019</th><th scope=col>NEUROT_2018</th><th scope=col>PD_2014</th><th scope=col>AD_2019</th><th scope=col>Lissencephaly</th><th scope=col>BD_2019</th><th scope=col>DevDyslexia</th><th scope=col>Heterotopia</th><th scope=col>ADHD_2019</th><th scope=col>DD</th><th scope=col>FCDandmTOR</th><th scope=col>Cobblestone</th><th scope=col>ASD</th></tr>\n",
       "\t<tr><th></th><th scope=col>&lt;int&gt;</th><th scope=col>&lt;int&gt;</th><th scope=col>&lt;int&gt;</th><th scope=col>&lt;int&gt;</th><th scope=col>&lt;int&gt;</th><th scope=col>&lt;int&gt;</th><th scope=col>&lt;int&gt;</th><th scope=col>&lt;int&gt;</th><th scope=col>&lt;int&gt;</th><th scope=col>&lt;int&gt;</th><th scope=col>&lt;int&gt;</th><th scope=col>&lt;int&gt;</th><th scope=col>&lt;int&gt;</th><th scope=col>&lt;int&gt;</th><th scope=col>&lt;int&gt;</th><th scope=col>&lt;int&gt;</th><th scope=col>&lt;int&gt;</th><th scope=col>&lt;int&gt;</th><th scope=col>&lt;int&gt;</th></tr>\n",
       "</thead>\n",
       "<tbody>\n",
       "\t<tr><th scope=row>RPPH1</th><td>0</td><td>0</td><td>0</td><td>0</td><td>0</td><td>0</td><td>0</td><td>0</td><td>0</td><td>0</td><td>0</td><td>0</td><td>0</td><td>0</td><td>0</td><td>0</td><td>0</td><td>0</td><td>0</td></tr>\n",
       "\t<tr><th scope=row>RMRP</th><td>0</td><td>0</td><td>0</td><td>0</td><td>0</td><td>0</td><td>0</td><td>0</td><td>0</td><td>0</td><td>0</td><td>0</td><td>0</td><td>0</td><td>0</td><td>0</td><td>0</td><td>0</td><td>0</td></tr>\n",
       "\t<tr><th scope=row>EEF1A1</th><td>0</td><td>0</td><td>0</td><td>0</td><td>0</td><td>0</td><td>0</td><td>0</td><td>0</td><td>0</td><td>0</td><td>0</td><td>0</td><td>0</td><td>0</td><td>0</td><td>0</td><td>0</td><td>0</td></tr>\n",
       "\t<tr><th scope=row>RPS27</th><td>0</td><td>0</td><td>0</td><td>0</td><td>0</td><td>0</td><td>0</td><td>0</td><td>0</td><td>0</td><td>0</td><td>0</td><td>0</td><td>0</td><td>0</td><td>0</td><td>0</td><td>0</td><td>0</td></tr>\n",
       "\t<tr><th scope=row>HIST1H4E</th><td>0</td><td>0</td><td>0</td><td>0</td><td>0</td><td>0</td><td>0</td><td>0</td><td>0</td><td>0</td><td>0</td><td>0</td><td>0</td><td>0</td><td>0</td><td>0</td><td>0</td><td>0</td><td>0</td></tr>\n",
       "\t<tr><th scope=row>RPL23</th><td>0</td><td>0</td><td>0</td><td>0</td><td>0</td><td>0</td><td>0</td><td>0</td><td>0</td><td>0</td><td>0</td><td>0</td><td>0</td><td>0</td><td>0</td><td>0</td><td>0</td><td>0</td><td>0</td></tr>\n",
       "</tbody>\n",
       "</table>\n"
      ],
      "text/latex": [
       "A data.frame: 6 × 19\n",
       "\\begin{tabular}{r|lllllllllllllllllll}\n",
       "  & Microcephaly & Hydrocephaly & RareMCD & MDD\\_2018 & Polymicrogyria & SCZ\\_2020 & AN\\_2019 & NEUROT\\_2018 & PD\\_2014 & AD\\_2019 & Lissencephaly & BD\\_2019 & DevDyslexia & Heterotopia & ADHD\\_2019 & DD & FCDandmTOR & Cobblestone & ASD\\\\\n",
       "  & <int> & <int> & <int> & <int> & <int> & <int> & <int> & <int> & <int> & <int> & <int> & <int> & <int> & <int> & <int> & <int> & <int> & <int> & <int>\\\\\n",
       "\\hline\n",
       "\tRPPH1 & 0 & 0 & 0 & 0 & 0 & 0 & 0 & 0 & 0 & 0 & 0 & 0 & 0 & 0 & 0 & 0 & 0 & 0 & 0\\\\\n",
       "\tRMRP & 0 & 0 & 0 & 0 & 0 & 0 & 0 & 0 & 0 & 0 & 0 & 0 & 0 & 0 & 0 & 0 & 0 & 0 & 0\\\\\n",
       "\tEEF1A1 & 0 & 0 & 0 & 0 & 0 & 0 & 0 & 0 & 0 & 0 & 0 & 0 & 0 & 0 & 0 & 0 & 0 & 0 & 0\\\\\n",
       "\tRPS27 & 0 & 0 & 0 & 0 & 0 & 0 & 0 & 0 & 0 & 0 & 0 & 0 & 0 & 0 & 0 & 0 & 0 & 0 & 0\\\\\n",
       "\tHIST1H4E & 0 & 0 & 0 & 0 & 0 & 0 & 0 & 0 & 0 & 0 & 0 & 0 & 0 & 0 & 0 & 0 & 0 & 0 & 0\\\\\n",
       "\tRPL23 & 0 & 0 & 0 & 0 & 0 & 0 & 0 & 0 & 0 & 0 & 0 & 0 & 0 & 0 & 0 & 0 & 0 & 0 & 0\\\\\n",
       "\\end{tabular}\n"
      ],
      "text/markdown": [
       "\n",
       "A data.frame: 6 × 19\n",
       "\n",
       "| <!--/--> | Microcephaly &lt;int&gt; | Hydrocephaly &lt;int&gt; | RareMCD &lt;int&gt; | MDD_2018 &lt;int&gt; | Polymicrogyria &lt;int&gt; | SCZ_2020 &lt;int&gt; | AN_2019 &lt;int&gt; | NEUROT_2018 &lt;int&gt; | PD_2014 &lt;int&gt; | AD_2019 &lt;int&gt; | Lissencephaly &lt;int&gt; | BD_2019 &lt;int&gt; | DevDyslexia &lt;int&gt; | Heterotopia &lt;int&gt; | ADHD_2019 &lt;int&gt; | DD &lt;int&gt; | FCDandmTOR &lt;int&gt; | Cobblestone &lt;int&gt; | ASD &lt;int&gt; |\n",
       "|---|---|---|---|---|---|---|---|---|---|---|---|---|---|---|---|---|---|---|---|\n",
       "| RPPH1 | 0 | 0 | 0 | 0 | 0 | 0 | 0 | 0 | 0 | 0 | 0 | 0 | 0 | 0 | 0 | 0 | 0 | 0 | 0 |\n",
       "| RMRP | 0 | 0 | 0 | 0 | 0 | 0 | 0 | 0 | 0 | 0 | 0 | 0 | 0 | 0 | 0 | 0 | 0 | 0 | 0 |\n",
       "| EEF1A1 | 0 | 0 | 0 | 0 | 0 | 0 | 0 | 0 | 0 | 0 | 0 | 0 | 0 | 0 | 0 | 0 | 0 | 0 | 0 |\n",
       "| RPS27 | 0 | 0 | 0 | 0 | 0 | 0 | 0 | 0 | 0 | 0 | 0 | 0 | 0 | 0 | 0 | 0 | 0 | 0 | 0 |\n",
       "| HIST1H4E | 0 | 0 | 0 | 0 | 0 | 0 | 0 | 0 | 0 | 0 | 0 | 0 | 0 | 0 | 0 | 0 | 0 | 0 | 0 |\n",
       "| RPL23 | 0 | 0 | 0 | 0 | 0 | 0 | 0 | 0 | 0 | 0 | 0 | 0 | 0 | 0 | 0 | 0 | 0 | 0 | 0 |\n",
       "\n"
      ],
      "text/plain": [
       "         Microcephaly Hydrocephaly RareMCD MDD_2018 Polymicrogyria SCZ_2020\n",
       "RPPH1    0            0            0       0        0              0       \n",
       "RMRP     0            0            0       0        0              0       \n",
       "EEF1A1   0            0            0       0        0              0       \n",
       "RPS27    0            0            0       0        0              0       \n",
       "HIST1H4E 0            0            0       0        0              0       \n",
       "RPL23    0            0            0       0        0              0       \n",
       "         AN_2019 NEUROT_2018 PD_2014 AD_2019 Lissencephaly BD_2019 DevDyslexia\n",
       "RPPH1    0       0           0       0       0             0       0          \n",
       "RMRP     0       0           0       0       0             0       0          \n",
       "EEF1A1   0       0           0       0       0             0       0          \n",
       "RPS27    0       0           0       0       0             0       0          \n",
       "HIST1H4E 0       0           0       0       0             0       0          \n",
       "RPL23    0       0           0       0       0             0       0          \n",
       "         Heterotopia ADHD_2019 DD FCDandmTOR Cobblestone ASD\n",
       "RPPH1    0           0         0  0          0           0  \n",
       "RMRP     0           0         0  0          0           0  \n",
       "EEF1A1   0           0         0  0          0           0  \n",
       "RPS27    0           0         0  0          0           0  \n",
       "HIST1H4E 0           0         0  0          0           0  \n",
       "RPL23    0           0         0  0          0           0  "
      ]
     },
     "metadata": {},
     "output_type": "display_data"
    }
   ],
   "source": [
    "diseases.df <- read.csv(dis.fname, row.names=1)[rownames(peaks.df),]\n",
    "dim(diseases.df)\n",
    "head(diseases.df)"
   ]
  },
  {
   "cell_type": "markdown",
   "id": "2b6da0c5-2f20-486e-ade8-f2a4d7fdc621",
   "metadata": {
    "tags": []
   },
   "source": [
    "# Run"
   ]
  },
  {
   "cell_type": "markdown",
   "id": "e78b4423-949f-43b8-b2ba-9cbc5319e8bd",
   "metadata": {
    "jp-MarkdownHeadingCollapsed": true,
    "tags": []
   },
   "source": [
    "### Regulons"
   ]
  },
  {
   "cell_type": "code",
   "execution_count": null,
   "id": "fb75e528-3598-46a9-8c24-ae3a4c239b32",
   "metadata": {
    "scrolled": true,
    "tags": []
   },
   "outputs": [],
   "source": [
    "RCT <- run_pipe(\n",
    "    genes.df = peaks.df,\n",
    "    ncores = n.cores\n",
    ")"
   ]
  },
  {
   "cell_type": "code",
   "execution_count": 9,
   "id": "4433865a-be9f-4701-86a3-215d5e289059",
   "metadata": {},
   "outputs": [
    {
     "data": {
      "text/html": [
       "<dl>\n",
       "\t<dt>$P2.FGF1</dt>\n",
       "\t\t<dd>'OVOL1'</dd>\n",
       "\t<dt>$P2.FGF10</dt>\n",
       "\t\t<dd>'ZNF667'</dd>\n",
       "\t<dt>$P2.FGF20</dt>\n",
       "\t\t<dd>'THAP11'</dd>\n",
       "\t<dt>$P3.FGF0.1</dt>\n",
       "\t\t<dd><style>\n",
       ".list-inline {list-style: none; margin:0; padding: 0}\n",
       ".list-inline>li {display: inline-block}\n",
       ".list-inline>li:not(:last-child)::after {content: \"\\00b7\"; padding: 0 .5ex}\n",
       "</style>\n",
       "<ol class=list-inline><li>'ATF4'</li><li>'ZBTB6'</li></ol>\n",
       "</dd>\n",
       "\t<dt>$P3.FGF10</dt>\n",
       "\t\t<dd>'DMRT1'</dd>\n",
       "\t<dt>$P4.FGF0.1</dt>\n",
       "\t\t<dd><style>\n",
       ".list-inline {list-style: none; margin:0; padding: 0}\n",
       ".list-inline>li {display: inline-block}\n",
       ".list-inline>li:not(:last-child)::after {content: \"\\00b7\"; padding: 0 .5ex}\n",
       "</style>\n",
       "<ol class=list-inline><li>'BCL6B'</li><li>'DIDO1'</li><li>'E2F3'</li><li>'GLIS2'</li><li>'ILF3'</li><li>'KLF7'</li><li>'KLF8'</li><li>'MECP2'</li><li>'MTF1'</li><li>'PLAGL1'</li><li>'RBAK'</li><li>'SIN3A'</li><li>'SMAD9'</li><li>'SP1'</li><li>'SP2'</li><li>'SREBF2'</li><li>'TAF1'</li><li>'TFDP1'</li><li>'ZBTB10'</li><li>'ZBTB5'</li><li>'ZBTB8A'</li><li>'ZFHX2'</li><li>'ZNF142'</li><li>'ZNF37A'</li><li>'ZNF383'</li><li>'ZNF398'</li><li>'ZNF460'</li><li>'ZNF519'</li><li>'ZNF704'</li><li>'ZNF846'</li><li>'ZSCAN22'</li><li>'ZXDB'</li><li>'ZXDC'</li></ol>\n",
       "</dd>\n",
       "\t<dt>$P4.FGF10</dt>\n",
       "\t\t<dd>'PLAG1'</dd>\n",
       "\t<dt>$P6.FGF0.1</dt>\n",
       "\t\t<dd><style>\n",
       ".list-inline {list-style: none; margin:0; padding: 0}\n",
       ".list-inline>li {display: inline-block}\n",
       ".list-inline>li:not(:last-child)::after {content: \"\\00b7\"; padding: 0 .5ex}\n",
       "</style>\n",
       "<ol class=list-inline><li>'MEIS1'</li><li>'SOX4'</li></ol>\n",
       "</dd>\n",
       "\t<dt>$P6.FGF10</dt>\n",
       "\t\t<dd>'GMEB1'</dd>\n",
       "\t<dt>$P6.FGF20</dt>\n",
       "\t\t<dd>'NR1H4'</dd>\n",
       "\t<dt>$P8.FGF0.1</dt>\n",
       "\t\t<dd>'PURA'</dd>\n",
       "\t<dt>$P8.FGF1</dt>\n",
       "\t\t<dd><style>\n",
       ".list-inline {list-style: none; margin:0; padding: 0}\n",
       ".list-inline>li {display: inline-block}\n",
       ".list-inline>li:not(:last-child)::after {content: \"\\00b7\"; padding: 0 .5ex}\n",
       "</style>\n",
       "<ol class=list-inline><li>'CEBPD'</li><li>'PITX3'</li><li>'VSX2'</li></ol>\n",
       "</dd>\n",
       "\t<dt>$P8.FGF10</dt>\n",
       "\t\t<dd>'PRDM9'</dd>\n",
       "\t<dt>$P8.FGF20</dt>\n",
       "\t\t<dd><style>\n",
       ".list-inline {list-style: none; margin:0; padding: 0}\n",
       ".list-inline>li {display: inline-block}\n",
       ".list-inline>li:not(:last-child)::after {content: \"\\00b7\"; padding: 0 .5ex}\n",
       "</style>\n",
       "<ol class=list-inline><li>'EGR1'</li><li>'EGR2'</li><li>'ETV5'</li><li>'KLF10'</li><li>'KLF17'</li><li>'KLF3'</li><li>'NR3C1'</li><li>'SP6'</li><li>'YY2'</li><li>'ZBTB37'</li><li>'ZNF148'</li></ol>\n",
       "</dd>\n",
       "</dl>\n"
      ],
      "text/latex": [
       "\\begin{description}\n",
       "\\item[\\$P2.FGF1] 'OVOL1'\n",
       "\\item[\\$P2.FGF10] 'ZNF667'\n",
       "\\item[\\$P2.FGF20] 'THAP11'\n",
       "\\item[\\$P3.FGF0.1] \\begin{enumerate*}\n",
       "\\item 'ATF4'\n",
       "\\item 'ZBTB6'\n",
       "\\end{enumerate*}\n",
       "\n",
       "\\item[\\$P3.FGF10] 'DMRT1'\n",
       "\\item[\\$P4.FGF0.1] \\begin{enumerate*}\n",
       "\\item 'BCL6B'\n",
       "\\item 'DIDO1'\n",
       "\\item 'E2F3'\n",
       "\\item 'GLIS2'\n",
       "\\item 'ILF3'\n",
       "\\item 'KLF7'\n",
       "\\item 'KLF8'\n",
       "\\item 'MECP2'\n",
       "\\item 'MTF1'\n",
       "\\item 'PLAGL1'\n",
       "\\item 'RBAK'\n",
       "\\item 'SIN3A'\n",
       "\\item 'SMAD9'\n",
       "\\item 'SP1'\n",
       "\\item 'SP2'\n",
       "\\item 'SREBF2'\n",
       "\\item 'TAF1'\n",
       "\\item 'TFDP1'\n",
       "\\item 'ZBTB10'\n",
       "\\item 'ZBTB5'\n",
       "\\item 'ZBTB8A'\n",
       "\\item 'ZFHX2'\n",
       "\\item 'ZNF142'\n",
       "\\item 'ZNF37A'\n",
       "\\item 'ZNF383'\n",
       "\\item 'ZNF398'\n",
       "\\item 'ZNF460'\n",
       "\\item 'ZNF519'\n",
       "\\item 'ZNF704'\n",
       "\\item 'ZNF846'\n",
       "\\item 'ZSCAN22'\n",
       "\\item 'ZXDB'\n",
       "\\item 'ZXDC'\n",
       "\\end{enumerate*}\n",
       "\n",
       "\\item[\\$P4.FGF10] 'PLAG1'\n",
       "\\item[\\$P6.FGF0.1] \\begin{enumerate*}\n",
       "\\item 'MEIS1'\n",
       "\\item 'SOX4'\n",
       "\\end{enumerate*}\n",
       "\n",
       "\\item[\\$P6.FGF10] 'GMEB1'\n",
       "\\item[\\$P6.FGF20] 'NR1H4'\n",
       "\\item[\\$P8.FGF0.1] 'PURA'\n",
       "\\item[\\$P8.FGF1] \\begin{enumerate*}\n",
       "\\item 'CEBPD'\n",
       "\\item 'PITX3'\n",
       "\\item 'VSX2'\n",
       "\\end{enumerate*}\n",
       "\n",
       "\\item[\\$P8.FGF10] 'PRDM9'\n",
       "\\item[\\$P8.FGF20] \\begin{enumerate*}\n",
       "\\item 'EGR1'\n",
       "\\item 'EGR2'\n",
       "\\item 'ETV5'\n",
       "\\item 'KLF10'\n",
       "\\item 'KLF17'\n",
       "\\item 'KLF3'\n",
       "\\item 'NR3C1'\n",
       "\\item 'SP6'\n",
       "\\item 'YY2'\n",
       "\\item 'ZBTB37'\n",
       "\\item 'ZNF148'\n",
       "\\end{enumerate*}\n",
       "\n",
       "\\end{description}\n"
      ],
      "text/markdown": [
       "$P2.FGF1\n",
       ":   'OVOL1'\n",
       "$P2.FGF10\n",
       ":   'ZNF667'\n",
       "$P2.FGF20\n",
       ":   'THAP11'\n",
       "$P3.FGF0.1\n",
       ":   1. 'ATF4'\n",
       "2. 'ZBTB6'\n",
       "\n",
       "\n",
       "\n",
       "$P3.FGF10\n",
       ":   'DMRT1'\n",
       "$P4.FGF0.1\n",
       ":   1. 'BCL6B'\n",
       "2. 'DIDO1'\n",
       "3. 'E2F3'\n",
       "4. 'GLIS2'\n",
       "5. 'ILF3'\n",
       "6. 'KLF7'\n",
       "7. 'KLF8'\n",
       "8. 'MECP2'\n",
       "9. 'MTF1'\n",
       "10. 'PLAGL1'\n",
       "11. 'RBAK'\n",
       "12. 'SIN3A'\n",
       "13. 'SMAD9'\n",
       "14. 'SP1'\n",
       "15. 'SP2'\n",
       "16. 'SREBF2'\n",
       "17. 'TAF1'\n",
       "18. 'TFDP1'\n",
       "19. 'ZBTB10'\n",
       "20. 'ZBTB5'\n",
       "21. 'ZBTB8A'\n",
       "22. 'ZFHX2'\n",
       "23. 'ZNF142'\n",
       "24. 'ZNF37A'\n",
       "25. 'ZNF383'\n",
       "26. 'ZNF398'\n",
       "27. 'ZNF460'\n",
       "28. 'ZNF519'\n",
       "29. 'ZNF704'\n",
       "30. 'ZNF846'\n",
       "31. 'ZSCAN22'\n",
       "32. 'ZXDB'\n",
       "33. 'ZXDC'\n",
       "\n",
       "\n",
       "\n",
       "$P4.FGF10\n",
       ":   'PLAG1'\n",
       "$P6.FGF0.1\n",
       ":   1. 'MEIS1'\n",
       "2. 'SOX4'\n",
       "\n",
       "\n",
       "\n",
       "$P6.FGF10\n",
       ":   'GMEB1'\n",
       "$P6.FGF20\n",
       ":   'NR1H4'\n",
       "$P8.FGF0.1\n",
       ":   'PURA'\n",
       "$P8.FGF1\n",
       ":   1. 'CEBPD'\n",
       "2. 'PITX3'\n",
       "3. 'VSX2'\n",
       "\n",
       "\n",
       "\n",
       "$P8.FGF10\n",
       ":   'PRDM9'\n",
       "$P8.FGF20\n",
       ":   1. 'EGR1'\n",
       "2. 'EGR2'\n",
       "3. 'ETV5'\n",
       "4. 'KLF10'\n",
       "5. 'KLF17'\n",
       "6. 'KLF3'\n",
       "7. 'NR3C1'\n",
       "8. 'SP6'\n",
       "9. 'YY2'\n",
       "10. 'ZBTB37'\n",
       "11. 'ZNF148'\n",
       "\n",
       "\n",
       "\n",
       "\n",
       "\n"
      ],
      "text/plain": [
       "$P2.FGF1\n",
       "[1] \"OVOL1\"\n",
       "\n",
       "$P2.FGF10\n",
       "[1] \"ZNF667\"\n",
       "\n",
       "$P2.FGF20\n",
       "[1] \"THAP11\"\n",
       "\n",
       "$P3.FGF0.1\n",
       "[1] \"ATF4\"  \"ZBTB6\"\n",
       "\n",
       "$P3.FGF10\n",
       "[1] \"DMRT1\"\n",
       "\n",
       "$P4.FGF0.1\n",
       " [1] \"BCL6B\"   \"DIDO1\"   \"E2F3\"    \"GLIS2\"   \"ILF3\"    \"KLF7\"    \"KLF8\"   \n",
       " [8] \"MECP2\"   \"MTF1\"    \"PLAGL1\"  \"RBAK\"    \"SIN3A\"   \"SMAD9\"   \"SP1\"    \n",
       "[15] \"SP2\"     \"SREBF2\"  \"TAF1\"    \"TFDP1\"   \"ZBTB10\"  \"ZBTB5\"   \"ZBTB8A\" \n",
       "[22] \"ZFHX2\"   \"ZNF142\"  \"ZNF37A\"  \"ZNF383\"  \"ZNF398\"  \"ZNF460\"  \"ZNF519\" \n",
       "[29] \"ZNF704\"  \"ZNF846\"  \"ZSCAN22\" \"ZXDB\"    \"ZXDC\"   \n",
       "\n",
       "$P4.FGF10\n",
       "[1] \"PLAG1\"\n",
       "\n",
       "$P6.FGF0.1\n",
       "[1] \"MEIS1\" \"SOX4\" \n",
       "\n",
       "$P6.FGF10\n",
       "[1] \"GMEB1\"\n",
       "\n",
       "$P6.FGF20\n",
       "[1] \"NR1H4\"\n",
       "\n",
       "$P8.FGF0.1\n",
       "[1] \"PURA\"\n",
       "\n",
       "$P8.FGF1\n",
       "[1] \"CEBPD\" \"PITX3\" \"VSX2\" \n",
       "\n",
       "$P8.FGF10\n",
       "[1] \"PRDM9\"\n",
       "\n",
       "$P8.FGF20\n",
       " [1] \"EGR1\"   \"EGR2\"   \"ETV5\"   \"KLF10\"  \"KLF17\"  \"KLF3\"   \"NR3C1\"  \"SP6\"   \n",
       " [9] \"YY2\"    \"ZBTB37\" \"ZNF148\"\n"
      ]
     },
     "metadata": {},
     "output_type": "display_data"
    }
   ],
   "source": [
    "split(RCT$summaryTbl$TF_highConf, RCT$summaryTbl$geneSet)"
   ]
  },
  {
   "cell_type": "markdown",
   "id": "5455d4a1-2e1f-45d0-a82c-6660681d14b6",
   "metadata": {
    "jp-MarkdownHeadingCollapsed": true,
    "tags": []
   },
   "source": [
    "## Odds-ratios"
   ]
  },
  {
   "cell_type": "code",
   "execution_count": 10,
   "id": "5211eb6a-462c-4df5-af1e-abef507d07be",
   "metadata": {
    "scrolled": true,
    "tags": []
   },
   "outputs": [
    {
     "name": "stdout",
     "output_type": "stream",
     "text": [
      "2023-01-26 18:00:14 [INFO] Number of genes not tested in RcisTarget: 1840\n",
      "2023-01-26 18:00:14 [INFO] P2.FGF1: 1113\n",
      "2023-01-26 18:00:14 [INFO] Regulon core OVOL1: 199\n",
      "2023-01-26 18:00:14 [INFO] \tTesting Microcephaly: 64\n",
      "2023-01-26 18:00:14 [INFO] \tTesting Hydrocephaly: 105\n",
      "2023-01-26 18:00:14 [INFO] \tTesting RareMCD: 23\n"
     ]
    },
    {
     "name": "stderr",
     "output_type": "stream",
     "text": [
      "Using Haldane correction\n",
      "\n"
     ]
    },
    {
     "name": "stdout",
     "output_type": "stream",
     "text": [
      "2023-01-26 18:00:14 [INFO] \tTesting MDD_2018: 51\n",
      "2023-01-26 18:00:14 [INFO] \tTesting Polymicrogyria: 28\n"
     ]
    },
    {
     "name": "stderr",
     "output_type": "stream",
     "text": [
      "Using Haldane correction\n",
      "\n"
     ]
    },
    {
     "name": "stdout",
     "output_type": "stream",
     "text": [
      "2023-01-26 18:00:14 [INFO] \tTesting SCZ_2020: 108\n",
      "2023-01-26 18:00:14 [INFO] \tTesting AN_2019: 99\n",
      "2023-01-26 18:00:14 [INFO] \tTesting NEUROT_2018: 268\n",
      "2023-01-26 18:00:14 [INFO] \tTesting PD_2014: 29\n",
      "2023-01-26 18:00:14 [INFO] \tTesting AD_2019: 175\n",
      "2023-01-26 18:00:14 [INFO] \tTesting Lissencephaly: 40\n"
     ]
    },
    {
     "name": "stderr",
     "output_type": "stream",
     "text": [
      "Using Haldane correction\n",
      "\n"
     ]
    },
    {
     "name": "stdout",
     "output_type": "stream",
     "text": [
      "2023-01-26 18:00:14 [INFO] \tTesting BD_2019: 194\n"
     ]
    },
    {
     "name": "stderr",
     "output_type": "stream",
     "text": [
      "Using Haldane correction\n",
      "\n"
     ]
    },
    {
     "name": "stdout",
     "output_type": "stream",
     "text": [
      "2023-01-26 18:00:14 [INFO] \tTesting DevDyslexia: 24\n"
     ]
    },
    {
     "name": "stderr",
     "output_type": "stream",
     "text": [
      "Using Haldane correction\n",
      "\n"
     ]
    },
    {
     "name": "stdout",
     "output_type": "stream",
     "text": [
      "2023-01-26 18:00:14 [INFO] \tTesting Heterotopia: 13\n"
     ]
    },
    {
     "name": "stderr",
     "output_type": "stream",
     "text": [
      "Using Haldane correction\n",
      "\n"
     ]
    },
    {
     "name": "stdout",
     "output_type": "stream",
     "text": [
      "2023-01-26 18:00:14 [INFO] \tTesting ADHD_2019: 26\n"
     ]
    },
    {
     "name": "stderr",
     "output_type": "stream",
     "text": [
      "Using Haldane correction\n",
      "\n"
     ]
    },
    {
     "name": "stdout",
     "output_type": "stream",
     "text": [
      "2023-01-26 18:00:14 [INFO] \tTesting DD: 90\n"
     ]
    },
    {
     "name": "stderr",
     "output_type": "stream",
     "text": [
      "Using Haldane correction\n",
      "\n"
     ]
    },
    {
     "name": "stdout",
     "output_type": "stream",
     "text": [
      "2023-01-26 18:00:14 [INFO] \tTesting FCDandmTOR: 64\n"
     ]
    },
    {
     "name": "stderr",
     "output_type": "stream",
     "text": [
      "Using Haldane correction\n",
      "\n"
     ]
    },
    {
     "name": "stdout",
     "output_type": "stream",
     "text": [
      "2023-01-26 18:00:14 [INFO] \tTesting Cobblestone: 14\n"
     ]
    },
    {
     "name": "stderr",
     "output_type": "stream",
     "text": [
      "Using Haldane correction\n",
      "\n"
     ]
    },
    {
     "name": "stdout",
     "output_type": "stream",
     "text": [
      "2023-01-26 18:00:14 [INFO] \tTesting ASD: 965\n",
      "2023-01-26 18:00:14 [INFO] P2.FGF10: 578\n",
      "2023-01-26 18:00:14 [INFO] Regulon core ZNF667: 73\n",
      "2023-01-26 18:00:14 [INFO] \tTesting Microcephaly: 64\n"
     ]
    },
    {
     "name": "stderr",
     "output_type": "stream",
     "text": [
      "Using Haldane correction\n",
      "\n"
     ]
    },
    {
     "name": "stdout",
     "output_type": "stream",
     "text": [
      "2023-01-26 18:00:14 [INFO] \tTesting Hydrocephaly: 105\n",
      "2023-01-26 18:00:14 [INFO] \tTesting RareMCD: 23\n"
     ]
    },
    {
     "name": "stderr",
     "output_type": "stream",
     "text": [
      "Using Haldane correction\n",
      "\n"
     ]
    },
    {
     "name": "stdout",
     "output_type": "stream",
     "text": [
      "2023-01-26 18:00:14 [INFO] \tTesting MDD_2018: 51\n"
     ]
    },
    {
     "name": "stderr",
     "output_type": "stream",
     "text": [
      "Using Haldane correction\n",
      "\n"
     ]
    },
    {
     "name": "stdout",
     "output_type": "stream",
     "text": [
      "2023-01-26 18:00:14 [INFO] \tTesting Polymicrogyria: 28\n"
     ]
    },
    {
     "name": "stderr",
     "output_type": "stream",
     "text": [
      "Using Haldane correction\n",
      "\n"
     ]
    },
    {
     "name": "stdout",
     "output_type": "stream",
     "text": [
      "2023-01-26 18:00:14 [INFO] \tTesting SCZ_2020: 108\n",
      "2023-01-26 18:00:14 [INFO] \tTesting AN_2019: 99\n"
     ]
    },
    {
     "name": "stderr",
     "output_type": "stream",
     "text": [
      "Using Haldane correction\n",
      "\n"
     ]
    },
    {
     "name": "stdout",
     "output_type": "stream",
     "text": [
      "2023-01-26 18:00:14 [INFO] \tTesting NEUROT_2018: 268\n"
     ]
    },
    {
     "name": "stderr",
     "output_type": "stream",
     "text": [
      "Using Haldane correction\n",
      "\n"
     ]
    },
    {
     "name": "stdout",
     "output_type": "stream",
     "text": [
      "2023-01-26 18:00:14 [INFO] \tTesting PD_2014: 29\n"
     ]
    },
    {
     "name": "stderr",
     "output_type": "stream",
     "text": [
      "Using Haldane correction\n",
      "\n"
     ]
    },
    {
     "name": "stdout",
     "output_type": "stream",
     "text": [
      "2023-01-26 18:00:14 [INFO] \tTesting AD_2019: 175\n",
      "2023-01-26 18:00:14 [INFO] \tTesting Lissencephaly: 40\n"
     ]
    },
    {
     "name": "stderr",
     "output_type": "stream",
     "text": [
      "Using Haldane correction\n",
      "\n"
     ]
    },
    {
     "name": "stdout",
     "output_type": "stream",
     "text": [
      "2023-01-26 18:00:14 [INFO] \tTesting BD_2019: 194\n",
      "2023-01-26 18:00:14 [INFO] \tTesting DevDyslexia: 24\n"
     ]
    },
    {
     "name": "stderr",
     "output_type": "stream",
     "text": [
      "Using Haldane correction\n",
      "\n"
     ]
    },
    {
     "name": "stdout",
     "output_type": "stream",
     "text": [
      "2023-01-26 18:00:14 [INFO] \tTesting Heterotopia: 13\n"
     ]
    },
    {
     "name": "stderr",
     "output_type": "stream",
     "text": [
      "Using Haldane correction\n",
      "\n"
     ]
    },
    {
     "name": "stdout",
     "output_type": "stream",
     "text": [
      "2023-01-26 18:00:14 [INFO] \tTesting ADHD_2019: 26\n"
     ]
    },
    {
     "name": "stderr",
     "output_type": "stream",
     "text": [
      "Using Haldane correction\n",
      "\n"
     ]
    },
    {
     "name": "stdout",
     "output_type": "stream",
     "text": [
      "2023-01-26 18:00:14 [INFO] \tTesting DD: 90\n"
     ]
    },
    {
     "name": "stderr",
     "output_type": "stream",
     "text": [
      "Using Haldane correction\n",
      "\n"
     ]
    },
    {
     "name": "stdout",
     "output_type": "stream",
     "text": [
      "2023-01-26 18:00:14 [INFO] \tTesting FCDandmTOR: 64\n"
     ]
    },
    {
     "name": "stderr",
     "output_type": "stream",
     "text": [
      "Using Haldane correction\n",
      "\n"
     ]
    },
    {
     "name": "stdout",
     "output_type": "stream",
     "text": [
      "2023-01-26 18:00:14 [INFO] \tTesting Cobblestone: 14\n"
     ]
    },
    {
     "name": "stderr",
     "output_type": "stream",
     "text": [
      "Using Haldane correction\n",
      "\n"
     ]
    },
    {
     "name": "stdout",
     "output_type": "stream",
     "text": [
      "2023-01-26 18:00:14 [INFO] \tTesting ASD: 965\n",
      "2023-01-26 18:00:14 [INFO] P2.FGF20: 1432\n",
      "2023-01-26 18:00:14 [INFO] Regulon core THAP11: 145\n",
      "2023-01-26 18:00:14 [INFO] \tTesting Microcephaly: 64\n"
     ]
    },
    {
     "name": "stderr",
     "output_type": "stream",
     "text": [
      "Using Haldane correction\n",
      "\n"
     ]
    },
    {
     "name": "stdout",
     "output_type": "stream",
     "text": [
      "2023-01-26 18:00:14 [INFO] \tTesting Hydrocephaly: 105\n",
      "2023-01-26 18:00:14 [INFO] \tTesting RareMCD: 23\n"
     ]
    },
    {
     "name": "stderr",
     "output_type": "stream",
     "text": [
      "Using Haldane correction\n",
      "\n"
     ]
    },
    {
     "name": "stdout",
     "output_type": "stream",
     "text": [
      "2023-01-26 18:00:14 [INFO] \tTesting MDD_2018: 51\n"
     ]
    },
    {
     "name": "stderr",
     "output_type": "stream",
     "text": [
      "Using Haldane correction\n",
      "\n"
     ]
    },
    {
     "name": "stdout",
     "output_type": "stream",
     "text": [
      "2023-01-26 18:00:14 [INFO] \tTesting Polymicrogyria: 28\n"
     ]
    },
    {
     "name": "stderr",
     "output_type": "stream",
     "text": [
      "Using Haldane correction\n",
      "\n"
     ]
    },
    {
     "name": "stdout",
     "output_type": "stream",
     "text": [
      "2023-01-26 18:00:14 [INFO] \tTesting SCZ_2020: 108\n",
      "2023-01-26 18:00:14 [INFO] \tTesting AN_2019: 99\n",
      "2023-01-26 18:00:14 [INFO] \tTesting NEUROT_2018: 268\n",
      "2023-01-26 18:00:14 [INFO] \tTesting PD_2014: 29\n"
     ]
    },
    {
     "name": "stderr",
     "output_type": "stream",
     "text": [
      "Using Haldane correction\n",
      "\n"
     ]
    },
    {
     "name": "stdout",
     "output_type": "stream",
     "text": [
      "2023-01-26 18:00:14 [INFO] \tTesting AD_2019: 175\n",
      "2023-01-26 18:00:14 [INFO] \tTesting Lissencephaly: 40\n"
     ]
    },
    {
     "name": "stderr",
     "output_type": "stream",
     "text": [
      "Using Haldane correction\n",
      "\n"
     ]
    },
    {
     "name": "stdout",
     "output_type": "stream",
     "text": [
      "2023-01-26 18:00:14 [INFO] \tTesting BD_2019: 194\n",
      "2023-01-26 18:00:14 [INFO] \tTesting DevDyslexia: 24\n"
     ]
    },
    {
     "name": "stderr",
     "output_type": "stream",
     "text": [
      "Using Haldane correction\n",
      "\n"
     ]
    },
    {
     "name": "stdout",
     "output_type": "stream",
     "text": [
      "2023-01-26 18:00:14 [INFO] \tTesting Heterotopia: 13\n"
     ]
    },
    {
     "name": "stderr",
     "output_type": "stream",
     "text": [
      "Using Haldane correction\n",
      "\n"
     ]
    },
    {
     "name": "stdout",
     "output_type": "stream",
     "text": [
      "2023-01-26 18:00:14 [INFO] \tTesting ADHD_2019: 26\n"
     ]
    },
    {
     "name": "stderr",
     "output_type": "stream",
     "text": [
      "Using Haldane correction\n",
      "\n"
     ]
    },
    {
     "name": "stdout",
     "output_type": "stream",
     "text": [
      "2023-01-26 18:00:14 [INFO] \tTesting DD: 90\n",
      "2023-01-26 18:00:14 [INFO] \tTesting FCDandmTOR: 64\n"
     ]
    },
    {
     "name": "stderr",
     "output_type": "stream",
     "text": [
      "Using Haldane correction\n",
      "\n"
     ]
    },
    {
     "name": "stdout",
     "output_type": "stream",
     "text": [
      "2023-01-26 18:00:14 [INFO] \tTesting Cobblestone: 14\n"
     ]
    },
    {
     "name": "stderr",
     "output_type": "stream",
     "text": [
      "Using Haldane correction\n",
      "\n"
     ]
    },
    {
     "name": "stdout",
     "output_type": "stream",
     "text": [
      "2023-01-26 18:00:14 [INFO] \tTesting ASD: 965\n",
      "2023-01-26 18:00:14 [INFO] P3.FGF0.1: 961\n",
      "2023-01-26 18:00:14 [INFO] Regulon core ATF4: 77\n",
      "2023-01-26 18:00:14 [INFO] \tTesting Microcephaly: 64\n",
      "2023-01-26 18:00:14 [INFO] \tTesting Hydrocephaly: 105\n",
      "2023-01-26 18:00:14 [INFO] \tTesting RareMCD: 23\n"
     ]
    },
    {
     "name": "stderr",
     "output_type": "stream",
     "text": [
      "Using Haldane correction\n",
      "\n"
     ]
    },
    {
     "name": "stdout",
     "output_type": "stream",
     "text": [
      "2023-01-26 18:00:14 [INFO] \tTesting MDD_2018: 51\n"
     ]
    },
    {
     "name": "stderr",
     "output_type": "stream",
     "text": [
      "Using Haldane correction\n",
      "\n"
     ]
    },
    {
     "name": "stdout",
     "output_type": "stream",
     "text": [
      "2023-01-26 18:00:14 [INFO] \tTesting Polymicrogyria: 28\n",
      "2023-01-26 18:00:14 [INFO] \tTesting SCZ_2020: 108\n"
     ]
    },
    {
     "name": "stderr",
     "output_type": "stream",
     "text": [
      "Using Haldane correction\n",
      "\n"
     ]
    },
    {
     "name": "stdout",
     "output_type": "stream",
     "text": [
      "2023-01-26 18:00:14 [INFO] \tTesting AN_2019: 99\n"
     ]
    },
    {
     "name": "stderr",
     "output_type": "stream",
     "text": [
      "Using Haldane correction\n",
      "\n"
     ]
    },
    {
     "name": "stdout",
     "output_type": "stream",
     "text": [
      "2023-01-26 18:00:14 [INFO] \tTesting NEUROT_2018: 268\n",
      "2023-01-26 18:00:14 [INFO] \tTesting PD_2014: 29\n"
     ]
    },
    {
     "name": "stderr",
     "output_type": "stream",
     "text": [
      "Using Haldane correction\n",
      "\n"
     ]
    },
    {
     "name": "stdout",
     "output_type": "stream",
     "text": [
      "2023-01-26 18:00:14 [INFO] \tTesting AD_2019: 175\n"
     ]
    },
    {
     "name": "stderr",
     "output_type": "stream",
     "text": [
      "Using Haldane correction\n",
      "\n"
     ]
    },
    {
     "name": "stdout",
     "output_type": "stream",
     "text": [
      "2023-01-26 18:00:14 [INFO] \tTesting Lissencephaly: 40\n"
     ]
    },
    {
     "name": "stderr",
     "output_type": "stream",
     "text": [
      "Using Haldane correction\n",
      "\n"
     ]
    },
    {
     "name": "stdout",
     "output_type": "stream",
     "text": [
      "2023-01-26 18:00:14 [INFO] \tTesting BD_2019: 194\n",
      "2023-01-26 18:00:14 [INFO] \tTesting DevDyslexia: 24\n"
     ]
    },
    {
     "name": "stderr",
     "output_type": "stream",
     "text": [
      "Using Haldane correction\n",
      "\n"
     ]
    },
    {
     "name": "stdout",
     "output_type": "stream",
     "text": [
      "2023-01-26 18:00:14 [INFO] \tTesting Heterotopia: 13\n"
     ]
    },
    {
     "name": "stderr",
     "output_type": "stream",
     "text": [
      "Using Haldane correction\n",
      "\n"
     ]
    },
    {
     "name": "stdout",
     "output_type": "stream",
     "text": [
      "2023-01-26 18:00:14 [INFO] \tTesting ADHD_2019: 26\n",
      "2023-01-26 18:00:14 [INFO] \tTesting DD: 90\n"
     ]
    },
    {
     "name": "stderr",
     "output_type": "stream",
     "text": [
      "Using Haldane correction\n",
      "\n"
     ]
    },
    {
     "name": "stdout",
     "output_type": "stream",
     "text": [
      "2023-01-26 18:00:14 [INFO] \tTesting FCDandmTOR: 64\n"
     ]
    },
    {
     "name": "stderr",
     "output_type": "stream",
     "text": [
      "Using Haldane correction\n",
      "\n"
     ]
    },
    {
     "name": "stdout",
     "output_type": "stream",
     "text": [
      "2023-01-26 18:00:14 [INFO] \tTesting Cobblestone: 14\n"
     ]
    },
    {
     "name": "stderr",
     "output_type": "stream",
     "text": [
      "Using Haldane correction\n",
      "\n"
     ]
    },
    {
     "name": "stdout",
     "output_type": "stream",
     "text": [
      "2023-01-26 18:00:14 [INFO] \tTesting ASD: 965\n",
      "2023-01-26 18:00:14 [INFO] Regulon core ZBTB6: 33\n",
      "2023-01-26 18:00:14 [INFO] \tTesting Microcephaly: 64\n"
     ]
    },
    {
     "name": "stderr",
     "output_type": "stream",
     "text": [
      "Using Haldane correction\n",
      "\n"
     ]
    },
    {
     "name": "stdout",
     "output_type": "stream",
     "text": [
      "2023-01-26 18:00:14 [INFO] \tTesting Hydrocephaly: 105\n"
     ]
    },
    {
     "name": "stderr",
     "output_type": "stream",
     "text": [
      "Using Haldane correction\n",
      "\n"
     ]
    },
    {
     "name": "stdout",
     "output_type": "stream",
     "text": [
      "2023-01-26 18:00:14 [INFO] \tTesting RareMCD: 23\n"
     ]
    },
    {
     "name": "stderr",
     "output_type": "stream",
     "text": [
      "Using Haldane correction\n",
      "\n"
     ]
    },
    {
     "name": "stdout",
     "output_type": "stream",
     "text": [
      "2023-01-26 18:00:14 [INFO] \tTesting MDD_2018: 51\n",
      "2023-01-26 18:00:14 [INFO] \tTesting Polymicrogyria: 28\n"
     ]
    },
    {
     "name": "stderr",
     "output_type": "stream",
     "text": [
      "Using Haldane correction\n",
      "\n"
     ]
    },
    {
     "name": "stdout",
     "output_type": "stream",
     "text": [
      "2023-01-26 18:00:14 [INFO] \tTesting SCZ_2020: 108\n"
     ]
    },
    {
     "name": "stderr",
     "output_type": "stream",
     "text": [
      "Using Haldane correction\n",
      "\n"
     ]
    },
    {
     "name": "stdout",
     "output_type": "stream",
     "text": [
      "2023-01-26 18:00:14 [INFO] \tTesting AN_2019: 99\n"
     ]
    },
    {
     "name": "stderr",
     "output_type": "stream",
     "text": [
      "Using Haldane correction\n",
      "\n"
     ]
    },
    {
     "name": "stdout",
     "output_type": "stream",
     "text": [
      "2023-01-26 18:00:14 [INFO] \tTesting NEUROT_2018: 268\n",
      "2023-01-26 18:00:14 [INFO] \tTesting PD_2014: 29\n"
     ]
    },
    {
     "name": "stderr",
     "output_type": "stream",
     "text": [
      "Using Haldane correction\n",
      "\n"
     ]
    },
    {
     "name": "stdout",
     "output_type": "stream",
     "text": [
      "2023-01-26 18:00:14 [INFO] \tTesting AD_2019: 175\n"
     ]
    },
    {
     "name": "stderr",
     "output_type": "stream",
     "text": [
      "Using Haldane correction\n",
      "\n"
     ]
    },
    {
     "name": "stdout",
     "output_type": "stream",
     "text": [
      "2023-01-26 18:00:14 [INFO] \tTesting Lissencephaly: 40\n"
     ]
    },
    {
     "name": "stderr",
     "output_type": "stream",
     "text": [
      "Using Haldane correction\n",
      "\n"
     ]
    },
    {
     "name": "stdout",
     "output_type": "stream",
     "text": [
      "2023-01-26 18:00:14 [INFO] \tTesting BD_2019: 194\n"
     ]
    },
    {
     "name": "stderr",
     "output_type": "stream",
     "text": [
      "Using Haldane correction\n",
      "\n"
     ]
    },
    {
     "name": "stdout",
     "output_type": "stream",
     "text": [
      "2023-01-26 18:00:14 [INFO] \tTesting DevDyslexia: 24\n"
     ]
    },
    {
     "name": "stderr",
     "output_type": "stream",
     "text": [
      "Using Haldane correction\n",
      "\n"
     ]
    },
    {
     "name": "stdout",
     "output_type": "stream",
     "text": [
      "2023-01-26 18:00:14 [INFO] \tTesting Heterotopia: 13\n"
     ]
    },
    {
     "name": "stderr",
     "output_type": "stream",
     "text": [
      "Using Haldane correction\n",
      "\n"
     ]
    },
    {
     "name": "stdout",
     "output_type": "stream",
     "text": [
      "2023-01-26 18:00:14 [INFO] \tTesting ADHD_2019: 26\n"
     ]
    },
    {
     "name": "stderr",
     "output_type": "stream",
     "text": [
      "Using Haldane correction\n",
      "\n"
     ]
    },
    {
     "name": "stdout",
     "output_type": "stream",
     "text": [
      "2023-01-26 18:00:14 [INFO] \tTesting DD: 90\n"
     ]
    },
    {
     "name": "stderr",
     "output_type": "stream",
     "text": [
      "Using Haldane correction\n",
      "\n"
     ]
    },
    {
     "name": "stdout",
     "output_type": "stream",
     "text": [
      "2023-01-26 18:00:14 [INFO] \tTesting FCDandmTOR: 64\n"
     ]
    },
    {
     "name": "stderr",
     "output_type": "stream",
     "text": [
      "Using Haldane correction\n",
      "\n"
     ]
    },
    {
     "name": "stdout",
     "output_type": "stream",
     "text": [
      "2023-01-26 18:00:14 [INFO] \tTesting Cobblestone: 14\n"
     ]
    },
    {
     "name": "stderr",
     "output_type": "stream",
     "text": [
      "Using Haldane correction\n",
      "\n"
     ]
    },
    {
     "name": "stdout",
     "output_type": "stream",
     "text": [
      "2023-01-26 18:00:14 [INFO] \tTesting ASD: 965\n",
      "2023-01-26 18:00:14 [INFO] P3.FGF10: 436\n",
      "2023-01-26 18:00:14 [INFO] Regulon core DMRT1: 42\n",
      "2023-01-26 18:00:14 [INFO] \tTesting Microcephaly: 64\n"
     ]
    },
    {
     "name": "stderr",
     "output_type": "stream",
     "text": [
      "Using Haldane correction\n",
      "\n"
     ]
    },
    {
     "name": "stdout",
     "output_type": "stream",
     "text": [
      "2023-01-26 18:00:14 [INFO] \tTesting Hydrocephaly: 105\n"
     ]
    },
    {
     "name": "stderr",
     "output_type": "stream",
     "text": [
      "Using Haldane correction\n",
      "\n"
     ]
    },
    {
     "name": "stdout",
     "output_type": "stream",
     "text": [
      "2023-01-26 18:00:14 [INFO] \tTesting RareMCD: 23\n"
     ]
    },
    {
     "name": "stderr",
     "output_type": "stream",
     "text": [
      "Using Haldane correction\n",
      "\n"
     ]
    },
    {
     "name": "stdout",
     "output_type": "stream",
     "text": [
      "2023-01-26 18:00:14 [INFO] \tTesting MDD_2018: 51\n"
     ]
    },
    {
     "name": "stderr",
     "output_type": "stream",
     "text": [
      "Using Haldane correction\n",
      "\n"
     ]
    },
    {
     "name": "stdout",
     "output_type": "stream",
     "text": [
      "2023-01-26 18:00:14 [INFO] \tTesting Polymicrogyria: 28\n"
     ]
    },
    {
     "name": "stderr",
     "output_type": "stream",
     "text": [
      "Using Haldane correction\n",
      "\n"
     ]
    },
    {
     "name": "stdout",
     "output_type": "stream",
     "text": [
      "2023-01-26 18:00:14 [INFO] \tTesting SCZ_2020: 108\n",
      "2023-01-26 18:00:14 [INFO] \tTesting AN_2019: 99\n"
     ]
    },
    {
     "name": "stderr",
     "output_type": "stream",
     "text": [
      "Using Haldane correction\n",
      "\n"
     ]
    },
    {
     "name": "stdout",
     "output_type": "stream",
     "text": [
      "2023-01-26 18:00:14 [INFO] \tTesting NEUROT_2018: 268\n",
      "2023-01-26 18:00:14 [INFO] \tTesting PD_2014: 29\n"
     ]
    },
    {
     "name": "stderr",
     "output_type": "stream",
     "text": [
      "Using Haldane correction\n",
      "\n"
     ]
    },
    {
     "name": "stdout",
     "output_type": "stream",
     "text": [
      "2023-01-26 18:00:14 [INFO] \tTesting AD_2019: 175\n"
     ]
    },
    {
     "name": "stderr",
     "output_type": "stream",
     "text": [
      "Using Haldane correction\n",
      "\n"
     ]
    },
    {
     "name": "stdout",
     "output_type": "stream",
     "text": [
      "2023-01-26 18:00:14 [INFO] \tTesting Lissencephaly: 40\n"
     ]
    },
    {
     "name": "stderr",
     "output_type": "stream",
     "text": [
      "Using Haldane correction\n",
      "\n"
     ]
    },
    {
     "name": "stdout",
     "output_type": "stream",
     "text": [
      "2023-01-26 18:00:14 [INFO] \tTesting BD_2019: 194\n"
     ]
    },
    {
     "name": "stderr",
     "output_type": "stream",
     "text": [
      "Using Haldane correction\n",
      "\n"
     ]
    },
    {
     "name": "stdout",
     "output_type": "stream",
     "text": [
      "2023-01-26 18:00:14 [INFO] \tTesting DevDyslexia: 24\n"
     ]
    },
    {
     "name": "stderr",
     "output_type": "stream",
     "text": [
      "Using Haldane correction\n",
      "\n"
     ]
    },
    {
     "name": "stdout",
     "output_type": "stream",
     "text": [
      "2023-01-26 18:00:14 [INFO] \tTesting Heterotopia: 13\n"
     ]
    },
    {
     "name": "stderr",
     "output_type": "stream",
     "text": [
      "Using Haldane correction\n",
      "\n"
     ]
    },
    {
     "name": "stdout",
     "output_type": "stream",
     "text": [
      "2023-01-26 18:00:14 [INFO] \tTesting ADHD_2019: 26\n"
     ]
    },
    {
     "name": "stderr",
     "output_type": "stream",
     "text": [
      "Using Haldane correction\n",
      "\n"
     ]
    },
    {
     "name": "stdout",
     "output_type": "stream",
     "text": [
      "2023-01-26 18:00:14 [INFO] \tTesting DD: 90\n"
     ]
    },
    {
     "name": "stderr",
     "output_type": "stream",
     "text": [
      "Using Haldane correction\n",
      "\n"
     ]
    },
    {
     "name": "stdout",
     "output_type": "stream",
     "text": [
      "2023-01-26 18:00:14 [INFO] \tTesting FCDandmTOR: 64\n"
     ]
    },
    {
     "name": "stderr",
     "output_type": "stream",
     "text": [
      "Using Haldane correction\n",
      "\n"
     ]
    },
    {
     "name": "stdout",
     "output_type": "stream",
     "text": [
      "2023-01-26 18:00:14 [INFO] \tTesting Cobblestone: 14\n"
     ]
    },
    {
     "name": "stderr",
     "output_type": "stream",
     "text": [
      "Using Haldane correction\n",
      "\n"
     ]
    },
    {
     "name": "stdout",
     "output_type": "stream",
     "text": [
      "2023-01-26 18:00:14 [INFO] \tTesting ASD: 965\n",
      "2023-01-26 18:00:14 [INFO] P4.FGF0.1: 1649\n",
      "2023-01-26 18:00:14 [INFO] Regulon core BCL6B: 465\n",
      "2023-01-26 18:00:14 [INFO] \tTesting Microcephaly: 64\n",
      "2023-01-26 18:00:14 [INFO] \tTesting Hydrocephaly: 105\n",
      "2023-01-26 18:00:14 [INFO] \tTesting RareMCD: 23\n"
     ]
    },
    {
     "name": "stderr",
     "output_type": "stream",
     "text": [
      "Using Haldane correction\n",
      "\n"
     ]
    },
    {
     "name": "stdout",
     "output_type": "stream",
     "text": [
      "2023-01-26 18:00:14 [INFO] \tTesting MDD_2018: 51\n",
      "2023-01-26 18:00:14 [INFO] \tTesting Polymicrogyria: 28\n",
      "2023-01-26 18:00:14 [INFO] \tTesting SCZ_2020: 108\n",
      "2023-01-26 18:00:14 [INFO] \tTesting AN_2019: 99\n",
      "2023-01-26 18:00:14 [INFO] \tTesting NEUROT_2018: 268\n",
      "2023-01-26 18:00:14 [INFO] \tTesting PD_2014: 29\n"
     ]
    },
    {
     "name": "stderr",
     "output_type": "stream",
     "text": [
      "Using Haldane correction\n",
      "\n"
     ]
    },
    {
     "name": "stdout",
     "output_type": "stream",
     "text": [
      "2023-01-26 18:00:14 [INFO] \tTesting AD_2019: 175\n",
      "2023-01-26 18:00:14 [INFO] \tTesting Lissencephaly: 40\n",
      "2023-01-26 18:00:14 [INFO] \tTesting BD_2019: 194\n",
      "2023-01-26 18:00:14 [INFO] \tTesting DevDyslexia: 24\n",
      "2023-01-26 18:00:14 [INFO] \tTesting Heterotopia: 13\n"
     ]
    },
    {
     "name": "stderr",
     "output_type": "stream",
     "text": [
      "Using Haldane correction\n",
      "\n"
     ]
    },
    {
     "name": "stdout",
     "output_type": "stream",
     "text": [
      "2023-01-26 18:00:15 [INFO] \tTesting ADHD_2019: 26\n"
     ]
    },
    {
     "name": "stderr",
     "output_type": "stream",
     "text": [
      "Using Haldane correction\n",
      "\n"
     ]
    },
    {
     "name": "stdout",
     "output_type": "stream",
     "text": [
      "2023-01-26 18:00:15 [INFO] \tTesting DD: 90\n",
      "2023-01-26 18:00:15 [INFO] \tTesting FCDandmTOR: 64\n",
      "2023-01-26 18:00:15 [INFO] \tTesting Cobblestone: 14\n"
     ]
    },
    {
     "name": "stderr",
     "output_type": "stream",
     "text": [
      "Using Haldane correction\n",
      "\n"
     ]
    },
    {
     "name": "stdout",
     "output_type": "stream",
     "text": [
      "2023-01-26 18:00:15 [INFO] \tTesting ASD: 965\n",
      "2023-01-26 18:00:15 [INFO] Regulon core DIDO1: 603\n",
      "2023-01-26 18:00:15 [INFO] \tTesting Microcephaly: 64\n",
      "2023-01-26 18:00:15 [INFO] \tTesting Hydrocephaly: 105\n",
      "2023-01-26 18:00:15 [INFO] \tTesting RareMCD: 23\n"
     ]
    },
    {
     "name": "stderr",
     "output_type": "stream",
     "text": [
      "Using Haldane correction\n",
      "\n"
     ]
    },
    {
     "name": "stdout",
     "output_type": "stream",
     "text": [
      "2023-01-26 18:00:15 [INFO] \tTesting MDD_2018: 51\n",
      "2023-01-26 18:00:15 [INFO] \tTesting Polymicrogyria: 28\n",
      "2023-01-26 18:00:15 [INFO] \tTesting SCZ_2020: 108\n",
      "2023-01-26 18:00:15 [INFO] \tTesting AN_2019: 99\n",
      "2023-01-26 18:00:15 [INFO] \tTesting NEUROT_2018: 268\n",
      "2023-01-26 18:00:15 [INFO] \tTesting PD_2014: 29\n",
      "2023-01-26 18:00:15 [INFO] \tTesting AD_2019: 175\n",
      "2023-01-26 18:00:15 [INFO] \tTesting Lissencephaly: 40\n",
      "2023-01-26 18:00:15 [INFO] \tTesting BD_2019: 194\n",
      "2023-01-26 18:00:15 [INFO] \tTesting DevDyslexia: 24\n",
      "2023-01-26 18:00:15 [INFO] \tTesting Heterotopia: 13\n"
     ]
    },
    {
     "name": "stderr",
     "output_type": "stream",
     "text": [
      "Using Haldane correction\n",
      "\n"
     ]
    },
    {
     "name": "stdout",
     "output_type": "stream",
     "text": [
      "2023-01-26 18:00:15 [INFO] \tTesting ADHD_2019: 26\n"
     ]
    },
    {
     "name": "stderr",
     "output_type": "stream",
     "text": [
      "Using Haldane correction\n",
      "\n"
     ]
    },
    {
     "name": "stdout",
     "output_type": "stream",
     "text": [
      "2023-01-26 18:00:15 [INFO] \tTesting DD: 90\n",
      "2023-01-26 18:00:15 [INFO] \tTesting FCDandmTOR: 64\n",
      "2023-01-26 18:00:15 [INFO] \tTesting Cobblestone: 14\n"
     ]
    },
    {
     "name": "stderr",
     "output_type": "stream",
     "text": [
      "Using Haldane correction\n",
      "\n"
     ]
    },
    {
     "name": "stdout",
     "output_type": "stream",
     "text": [
      "2023-01-26 18:00:15 [INFO] \tTesting ASD: 965\n",
      "2023-01-26 18:00:15 [INFO] Regulon core E2F3: 766\n",
      "2023-01-26 18:00:15 [INFO] \tTesting Microcephaly: 64\n",
      "2023-01-26 18:00:15 [INFO] \tTesting Hydrocephaly: 105\n",
      "2023-01-26 18:00:15 [INFO] \tTesting RareMCD: 23\n"
     ]
    },
    {
     "name": "stderr",
     "output_type": "stream",
     "text": [
      "Using Haldane correction\n",
      "\n"
     ]
    },
    {
     "name": "stdout",
     "output_type": "stream",
     "text": [
      "2023-01-26 18:00:15 [INFO] \tTesting MDD_2018: 51\n",
      "2023-01-26 18:00:15 [INFO] \tTesting Polymicrogyria: 28\n",
      "2023-01-26 18:00:15 [INFO] \tTesting SCZ_2020: 108\n",
      "2023-01-26 18:00:15 [INFO] \tTesting AN_2019: 99\n",
      "2023-01-26 18:00:15 [INFO] \tTesting NEUROT_2018: 268\n",
      "2023-01-26 18:00:15 [INFO] \tTesting PD_2014: 29\n",
      "2023-01-26 18:00:15 [INFO] \tTesting AD_2019: 175\n",
      "2023-01-26 18:00:15 [INFO] \tTesting Lissencephaly: 40\n",
      "2023-01-26 18:00:15 [INFO] \tTesting BD_2019: 194\n",
      "2023-01-26 18:00:15 [INFO] \tTesting DevDyslexia: 24\n",
      "2023-01-26 18:00:15 [INFO] \tTesting Heterotopia: 13\n"
     ]
    },
    {
     "name": "stderr",
     "output_type": "stream",
     "text": [
      "Using Haldane correction\n",
      "\n"
     ]
    },
    {
     "name": "stdout",
     "output_type": "stream",
     "text": [
      "2023-01-26 18:00:15 [INFO] \tTesting ADHD_2019: 26\n"
     ]
    },
    {
     "name": "stderr",
     "output_type": "stream",
     "text": [
      "Using Haldane correction\n",
      "\n"
     ]
    },
    {
     "name": "stdout",
     "output_type": "stream",
     "text": [
      "2023-01-26 18:00:15 [INFO] \tTesting DD: 90\n",
      "2023-01-26 18:00:15 [INFO] \tTesting FCDandmTOR: 64\n",
      "2023-01-26 18:00:15 [INFO] \tTesting Cobblestone: 14\n"
     ]
    },
    {
     "name": "stderr",
     "output_type": "stream",
     "text": [
      "Using Haldane correction\n",
      "\n"
     ]
    },
    {
     "name": "stdout",
     "output_type": "stream",
     "text": [
      "2023-01-26 18:00:15 [INFO] \tTesting ASD: 965\n",
      "2023-01-26 18:00:15 [INFO] Regulon core GLIS2: 596\n",
      "2023-01-26 18:00:15 [INFO] \tTesting Microcephaly: 64\n",
      "2023-01-26 18:00:15 [INFO] \tTesting Hydrocephaly: 105\n",
      "2023-01-26 18:00:15 [INFO] \tTesting RareMCD: 23\n"
     ]
    },
    {
     "name": "stderr",
     "output_type": "stream",
     "text": [
      "Using Haldane correction\n",
      "\n"
     ]
    },
    {
     "name": "stdout",
     "output_type": "stream",
     "text": [
      "2023-01-26 18:00:15 [INFO] \tTesting MDD_2018: 51\n",
      "2023-01-26 18:00:15 [INFO] \tTesting Polymicrogyria: 28\n",
      "2023-01-26 18:00:15 [INFO] \tTesting SCZ_2020: 108\n",
      "2023-01-26 18:00:15 [INFO] \tTesting AN_2019: 99\n",
      "2023-01-26 18:00:15 [INFO] \tTesting NEUROT_2018: 268\n",
      "2023-01-26 18:00:15 [INFO] \tTesting PD_2014: 29\n",
      "2023-01-26 18:00:15 [INFO] \tTesting AD_2019: 175\n",
      "2023-01-26 18:00:15 [INFO] \tTesting Lissencephaly: 40\n",
      "2023-01-26 18:00:15 [INFO] \tTesting BD_2019: 194\n",
      "2023-01-26 18:00:15 [INFO] \tTesting DevDyslexia: 24\n",
      "2023-01-26 18:00:15 [INFO] \tTesting Heterotopia: 13\n"
     ]
    },
    {
     "name": "stderr",
     "output_type": "stream",
     "text": [
      "Using Haldane correction\n",
      "\n"
     ]
    },
    {
     "name": "stdout",
     "output_type": "stream",
     "text": [
      "2023-01-26 18:00:15 [INFO] \tTesting ADHD_2019: 26\n"
     ]
    },
    {
     "name": "stderr",
     "output_type": "stream",
     "text": [
      "Using Haldane correction\n",
      "\n"
     ]
    },
    {
     "name": "stdout",
     "output_type": "stream",
     "text": [
      "2023-01-26 18:00:15 [INFO] \tTesting DD: 90\n",
      "2023-01-26 18:00:15 [INFO] \tTesting FCDandmTOR: 64\n",
      "2023-01-26 18:00:15 [INFO] \tTesting Cobblestone: 14\n"
     ]
    },
    {
     "name": "stderr",
     "output_type": "stream",
     "text": [
      "Using Haldane correction\n",
      "\n"
     ]
    },
    {
     "name": "stdout",
     "output_type": "stream",
     "text": [
      "2023-01-26 18:00:15 [INFO] \tTesting ASD: 965\n",
      "2023-01-26 18:00:15 [INFO] Regulon core ILF3: 603\n",
      "2023-01-26 18:00:15 [INFO] \tTesting Microcephaly: 64\n",
      "2023-01-26 18:00:15 [INFO] \tTesting Hydrocephaly: 105\n",
      "2023-01-26 18:00:15 [INFO] \tTesting RareMCD: 23\n"
     ]
    },
    {
     "name": "stderr",
     "output_type": "stream",
     "text": [
      "Using Haldane correction\n",
      "\n"
     ]
    },
    {
     "name": "stdout",
     "output_type": "stream",
     "text": [
      "2023-01-26 18:00:15 [INFO] \tTesting MDD_2018: 51\n",
      "2023-01-26 18:00:15 [INFO] \tTesting Polymicrogyria: 28\n",
      "2023-01-26 18:00:15 [INFO] \tTesting SCZ_2020: 108\n",
      "2023-01-26 18:00:15 [INFO] \tTesting AN_2019: 99\n",
      "2023-01-26 18:00:15 [INFO] \tTesting NEUROT_2018: 268\n",
      "2023-01-26 18:00:15 [INFO] \tTesting PD_2014: 29\n",
      "2023-01-26 18:00:15 [INFO] \tTesting AD_2019: 175\n",
      "2023-01-26 18:00:15 [INFO] \tTesting Lissencephaly: 40\n",
      "2023-01-26 18:00:15 [INFO] \tTesting BD_2019: 194\n",
      "2023-01-26 18:00:15 [INFO] \tTesting DevDyslexia: 24\n",
      "2023-01-26 18:00:15 [INFO] \tTesting Heterotopia: 13\n"
     ]
    },
    {
     "name": "stderr",
     "output_type": "stream",
     "text": [
      "Using Haldane correction\n",
      "\n"
     ]
    },
    {
     "name": "stdout",
     "output_type": "stream",
     "text": [
      "2023-01-26 18:00:15 [INFO] \tTesting ADHD_2019: 26\n"
     ]
    },
    {
     "name": "stderr",
     "output_type": "stream",
     "text": [
      "Using Haldane correction\n",
      "\n"
     ]
    },
    {
     "name": "stdout",
     "output_type": "stream",
     "text": [
      "2023-01-26 18:00:15 [INFO] \tTesting DD: 90\n",
      "2023-01-26 18:00:15 [INFO] \tTesting FCDandmTOR: 64\n",
      "2023-01-26 18:00:15 [INFO] \tTesting Cobblestone: 14\n"
     ]
    },
    {
     "name": "stderr",
     "output_type": "stream",
     "text": [
      "Using Haldane correction\n",
      "\n"
     ]
    },
    {
     "name": "stdout",
     "output_type": "stream",
     "text": [
      "2023-01-26 18:00:15 [INFO] \tTesting ASD: 965\n",
      "2023-01-26 18:00:15 [INFO] Regulon core KLF7: 714\n",
      "2023-01-26 18:00:15 [INFO] \tTesting Microcephaly: 64\n",
      "2023-01-26 18:00:15 [INFO] \tTesting Hydrocephaly: 105\n",
      "2023-01-26 18:00:15 [INFO] \tTesting RareMCD: 23\n"
     ]
    },
    {
     "name": "stderr",
     "output_type": "stream",
     "text": [
      "Using Haldane correction\n",
      "\n"
     ]
    },
    {
     "name": "stdout",
     "output_type": "stream",
     "text": [
      "2023-01-26 18:00:15 [INFO] \tTesting MDD_2018: 51\n",
      "2023-01-26 18:00:15 [INFO] \tTesting Polymicrogyria: 28\n",
      "2023-01-26 18:00:15 [INFO] \tTesting SCZ_2020: 108\n",
      "2023-01-26 18:00:15 [INFO] \tTesting AN_2019: 99\n",
      "2023-01-26 18:00:15 [INFO] \tTesting NEUROT_2018: 268\n",
      "2023-01-26 18:00:15 [INFO] \tTesting PD_2014: 29\n",
      "2023-01-26 18:00:15 [INFO] \tTesting AD_2019: 175\n",
      "2023-01-26 18:00:15 [INFO] \tTesting Lissencephaly: 40\n",
      "2023-01-26 18:00:15 [INFO] \tTesting BD_2019: 194\n",
      "2023-01-26 18:00:15 [INFO] \tTesting DevDyslexia: 24\n",
      "2023-01-26 18:00:15 [INFO] \tTesting Heterotopia: 13\n"
     ]
    },
    {
     "name": "stderr",
     "output_type": "stream",
     "text": [
      "Using Haldane correction\n",
      "\n"
     ]
    },
    {
     "name": "stdout",
     "output_type": "stream",
     "text": [
      "2023-01-26 18:00:15 [INFO] \tTesting ADHD_2019: 26\n"
     ]
    },
    {
     "name": "stderr",
     "output_type": "stream",
     "text": [
      "Using Haldane correction\n",
      "\n"
     ]
    },
    {
     "name": "stdout",
     "output_type": "stream",
     "text": [
      "2023-01-26 18:00:15 [INFO] \tTesting DD: 90\n",
      "2023-01-26 18:00:15 [INFO] \tTesting FCDandmTOR: 64\n",
      "2023-01-26 18:00:15 [INFO] \tTesting Cobblestone: 14\n"
     ]
    },
    {
     "name": "stderr",
     "output_type": "stream",
     "text": [
      "Using Haldane correction\n",
      "\n"
     ]
    },
    {
     "name": "stdout",
     "output_type": "stream",
     "text": [
      "2023-01-26 18:00:15 [INFO] \tTesting ASD: 965\n",
      "2023-01-26 18:00:15 [INFO] Regulon core KLF8: 772\n",
      "2023-01-26 18:00:15 [INFO] \tTesting Microcephaly: 64\n",
      "2023-01-26 18:00:15 [INFO] \tTesting Hydrocephaly: 105\n",
      "2023-01-26 18:00:15 [INFO] \tTesting RareMCD: 23\n"
     ]
    },
    {
     "name": "stderr",
     "output_type": "stream",
     "text": [
      "Using Haldane correction\n",
      "\n"
     ]
    },
    {
     "name": "stdout",
     "output_type": "stream",
     "text": [
      "2023-01-26 18:00:15 [INFO] \tTesting MDD_2018: 51\n",
      "2023-01-26 18:00:15 [INFO] \tTesting Polymicrogyria: 28\n",
      "2023-01-26 18:00:15 [INFO] \tTesting SCZ_2020: 108\n",
      "2023-01-26 18:00:15 [INFO] \tTesting AN_2019: 99\n",
      "2023-01-26 18:00:15 [INFO] \tTesting NEUROT_2018: 268\n",
      "2023-01-26 18:00:15 [INFO] \tTesting PD_2014: 29\n",
      "2023-01-26 18:00:15 [INFO] \tTesting AD_2019: 175\n",
      "2023-01-26 18:00:15 [INFO] \tTesting Lissencephaly: 40\n",
      "2023-01-26 18:00:15 [INFO] \tTesting BD_2019: 194\n",
      "2023-01-26 18:00:15 [INFO] \tTesting DevDyslexia: 24\n",
      "2023-01-26 18:00:15 [INFO] \tTesting Heterotopia: 13\n"
     ]
    },
    {
     "name": "stderr",
     "output_type": "stream",
     "text": [
      "Using Haldane correction\n",
      "\n"
     ]
    },
    {
     "name": "stdout",
     "output_type": "stream",
     "text": [
      "2023-01-26 18:00:15 [INFO] \tTesting ADHD_2019: 26\n"
     ]
    },
    {
     "name": "stderr",
     "output_type": "stream",
     "text": [
      "Using Haldane correction\n",
      "\n"
     ]
    },
    {
     "name": "stdout",
     "output_type": "stream",
     "text": [
      "2023-01-26 18:00:15 [INFO] \tTesting DD: 90\n",
      "2023-01-26 18:00:15 [INFO] \tTesting FCDandmTOR: 64\n",
      "2023-01-26 18:00:15 [INFO] \tTesting Cobblestone: 14\n"
     ]
    },
    {
     "name": "stderr",
     "output_type": "stream",
     "text": [
      "Using Haldane correction\n",
      "\n"
     ]
    },
    {
     "name": "stdout",
     "output_type": "stream",
     "text": [
      "2023-01-26 18:00:15 [INFO] \tTesting ASD: 965\n",
      "2023-01-26 18:00:15 [INFO] Regulon core MECP2: 622\n",
      "2023-01-26 18:00:15 [INFO] \tTesting Microcephaly: 64\n",
      "2023-01-26 18:00:15 [INFO] \tTesting Hydrocephaly: 105\n",
      "2023-01-26 18:00:15 [INFO] \tTesting RareMCD: 23\n"
     ]
    },
    {
     "name": "stderr",
     "output_type": "stream",
     "text": [
      "Using Haldane correction\n",
      "\n"
     ]
    },
    {
     "name": "stdout",
     "output_type": "stream",
     "text": [
      "2023-01-26 18:00:15 [INFO] \tTesting MDD_2018: 51\n",
      "2023-01-26 18:00:15 [INFO] \tTesting Polymicrogyria: 28\n",
      "2023-01-26 18:00:15 [INFO] \tTesting SCZ_2020: 108\n",
      "2023-01-26 18:00:15 [INFO] \tTesting AN_2019: 99\n",
      "2023-01-26 18:00:15 [INFO] \tTesting NEUROT_2018: 268\n",
      "2023-01-26 18:00:15 [INFO] \tTesting PD_2014: 29\n",
      "2023-01-26 18:00:15 [INFO] \tTesting AD_2019: 175\n",
      "2023-01-26 18:00:15 [INFO] \tTesting Lissencephaly: 40\n",
      "2023-01-26 18:00:15 [INFO] \tTesting BD_2019: 194\n",
      "2023-01-26 18:00:15 [INFO] \tTesting DevDyslexia: 24\n",
      "2023-01-26 18:00:15 [INFO] \tTesting Heterotopia: 13\n"
     ]
    },
    {
     "name": "stderr",
     "output_type": "stream",
     "text": [
      "Using Haldane correction\n",
      "\n"
     ]
    },
    {
     "name": "stdout",
     "output_type": "stream",
     "text": [
      "2023-01-26 18:00:15 [INFO] \tTesting ADHD_2019: 26\n"
     ]
    },
    {
     "name": "stderr",
     "output_type": "stream",
     "text": [
      "Using Haldane correction\n",
      "\n"
     ]
    },
    {
     "name": "stdout",
     "output_type": "stream",
     "text": [
      "2023-01-26 18:00:15 [INFO] \tTesting DD: 90\n",
      "2023-01-26 18:00:15 [INFO] \tTesting FCDandmTOR: 64\n",
      "2023-01-26 18:00:15 [INFO] \tTesting Cobblestone: 14\n"
     ]
    },
    {
     "name": "stderr",
     "output_type": "stream",
     "text": [
      "Using Haldane correction\n",
      "\n"
     ]
    },
    {
     "name": "stdout",
     "output_type": "stream",
     "text": [
      "2023-01-26 18:00:15 [INFO] \tTesting ASD: 965\n",
      "2023-01-26 18:00:15 [INFO] Regulon core MTF1: 702\n",
      "2023-01-26 18:00:15 [INFO] \tTesting Microcephaly: 64\n",
      "2023-01-26 18:00:15 [INFO] \tTesting Hydrocephaly: 105\n",
      "2023-01-26 18:00:15 [INFO] \tTesting RareMCD: 23\n"
     ]
    },
    {
     "name": "stderr",
     "output_type": "stream",
     "text": [
      "Using Haldane correction\n",
      "\n"
     ]
    },
    {
     "name": "stdout",
     "output_type": "stream",
     "text": [
      "2023-01-26 18:00:15 [INFO] \tTesting MDD_2018: 51\n",
      "2023-01-26 18:00:15 [INFO] \tTesting Polymicrogyria: 28\n",
      "2023-01-26 18:00:15 [INFO] \tTesting SCZ_2020: 108\n",
      "2023-01-26 18:00:15 [INFO] \tTesting AN_2019: 99\n",
      "2023-01-26 18:00:15 [INFO] \tTesting NEUROT_2018: 268\n",
      "2023-01-26 18:00:15 [INFO] \tTesting PD_2014: 29\n",
      "2023-01-26 18:00:15 [INFO] \tTesting AD_2019: 175\n",
      "2023-01-26 18:00:15 [INFO] \tTesting Lissencephaly: 40\n",
      "2023-01-26 18:00:15 [INFO] \tTesting BD_2019: 194\n",
      "2023-01-26 18:00:15 [INFO] \tTesting DevDyslexia: 24\n",
      "2023-01-26 18:00:15 [INFO] \tTesting Heterotopia: 13\n"
     ]
    },
    {
     "name": "stderr",
     "output_type": "stream",
     "text": [
      "Using Haldane correction\n",
      "\n"
     ]
    },
    {
     "name": "stdout",
     "output_type": "stream",
     "text": [
      "2023-01-26 18:00:15 [INFO] \tTesting ADHD_2019: 26\n"
     ]
    },
    {
     "name": "stderr",
     "output_type": "stream",
     "text": [
      "Using Haldane correction\n",
      "\n"
     ]
    },
    {
     "name": "stdout",
     "output_type": "stream",
     "text": [
      "2023-01-26 18:00:15 [INFO] \tTesting DD: 90\n",
      "2023-01-26 18:00:15 [INFO] \tTesting FCDandmTOR: 64\n",
      "2023-01-26 18:00:15 [INFO] \tTesting Cobblestone: 14\n"
     ]
    },
    {
     "name": "stderr",
     "output_type": "stream",
     "text": [
      "Using Haldane correction\n",
      "\n"
     ]
    },
    {
     "name": "stdout",
     "output_type": "stream",
     "text": [
      "2023-01-26 18:00:15 [INFO] \tTesting ASD: 965\n",
      "2023-01-26 18:00:15 [INFO] Regulon core PLAGL1: 644\n",
      "2023-01-26 18:00:15 [INFO] \tTesting Microcephaly: 64\n",
      "2023-01-26 18:00:15 [INFO] \tTesting Hydrocephaly: 105\n",
      "2023-01-26 18:00:15 [INFO] \tTesting RareMCD: 23\n"
     ]
    },
    {
     "name": "stderr",
     "output_type": "stream",
     "text": [
      "Using Haldane correction\n",
      "\n"
     ]
    },
    {
     "name": "stdout",
     "output_type": "stream",
     "text": [
      "2023-01-26 18:00:15 [INFO] \tTesting MDD_2018: 51\n",
      "2023-01-26 18:00:15 [INFO] \tTesting Polymicrogyria: 28\n",
      "2023-01-26 18:00:15 [INFO] \tTesting SCZ_2020: 108\n",
      "2023-01-26 18:00:15 [INFO] \tTesting AN_2019: 99\n",
      "2023-01-26 18:00:15 [INFO] \tTesting NEUROT_2018: 268\n",
      "2023-01-26 18:00:15 [INFO] \tTesting PD_2014: 29\n"
     ]
    },
    {
     "name": "stderr",
     "output_type": "stream",
     "text": [
      "Using Haldane correction\n",
      "\n"
     ]
    },
    {
     "name": "stdout",
     "output_type": "stream",
     "text": [
      "2023-01-26 18:00:15 [INFO] \tTesting AD_2019: 175\n",
      "2023-01-26 18:00:15 [INFO] \tTesting Lissencephaly: 40\n",
      "2023-01-26 18:00:15 [INFO] \tTesting BD_2019: 194\n",
      "2023-01-26 18:00:15 [INFO] \tTesting DevDyslexia: 24\n",
      "2023-01-26 18:00:15 [INFO] \tTesting Heterotopia: 13\n"
     ]
    },
    {
     "name": "stderr",
     "output_type": "stream",
     "text": [
      "Using Haldane correction\n",
      "\n"
     ]
    },
    {
     "name": "stdout",
     "output_type": "stream",
     "text": [
      "2023-01-26 18:00:15 [INFO] \tTesting ADHD_2019: 26\n"
     ]
    },
    {
     "name": "stderr",
     "output_type": "stream",
     "text": [
      "Using Haldane correction\n",
      "\n"
     ]
    },
    {
     "name": "stdout",
     "output_type": "stream",
     "text": [
      "2023-01-26 18:00:15 [INFO] \tTesting DD: 90\n",
      "2023-01-26 18:00:15 [INFO] \tTesting FCDandmTOR: 64\n",
      "2023-01-26 18:00:15 [INFO] \tTesting Cobblestone: 14\n"
     ]
    },
    {
     "name": "stderr",
     "output_type": "stream",
     "text": [
      "Using Haldane correction\n",
      "\n"
     ]
    },
    {
     "name": "stdout",
     "output_type": "stream",
     "text": [
      "2023-01-26 18:00:15 [INFO] \tTesting ASD: 965\n",
      "2023-01-26 18:00:15 [INFO] Regulon core RBAK: 587\n",
      "2023-01-26 18:00:15 [INFO] \tTesting Microcephaly: 64\n",
      "2023-01-26 18:00:16 [INFO] \tTesting Hydrocephaly: 105\n",
      "2023-01-26 18:00:16 [INFO] \tTesting RareMCD: 23\n"
     ]
    },
    {
     "name": "stderr",
     "output_type": "stream",
     "text": [
      "Using Haldane correction\n",
      "\n"
     ]
    },
    {
     "name": "stdout",
     "output_type": "stream",
     "text": [
      "2023-01-26 18:00:16 [INFO] \tTesting MDD_2018: 51\n",
      "2023-01-26 18:00:16 [INFO] \tTesting Polymicrogyria: 28\n",
      "2023-01-26 18:00:16 [INFO] \tTesting SCZ_2020: 108\n",
      "2023-01-26 18:00:16 [INFO] \tTesting AN_2019: 99\n"
     ]
    },
    {
     "name": "stderr",
     "output_type": "stream",
     "text": [
      "Using Haldane correction\n",
      "\n"
     ]
    },
    {
     "name": "stdout",
     "output_type": "stream",
     "text": [
      "2023-01-26 18:00:16 [INFO] \tTesting NEUROT_2018: 268\n",
      "2023-01-26 18:00:16 [INFO] \tTesting PD_2014: 29\n",
      "2023-01-26 18:00:16 [INFO] \tTesting AD_2019: 175\n",
      "2023-01-26 18:00:16 [INFO] \tTesting Lissencephaly: 40\n",
      "2023-01-26 18:00:16 [INFO] \tTesting BD_2019: 194\n",
      "2023-01-26 18:00:16 [INFO] \tTesting DevDyslexia: 24\n",
      "2023-01-26 18:00:16 [INFO] \tTesting Heterotopia: 13\n"
     ]
    },
    {
     "name": "stderr",
     "output_type": "stream",
     "text": [
      "Using Haldane correction\n",
      "\n"
     ]
    },
    {
     "name": "stdout",
     "output_type": "stream",
     "text": [
      "2023-01-26 18:00:16 [INFO] \tTesting ADHD_2019: 26\n"
     ]
    },
    {
     "name": "stderr",
     "output_type": "stream",
     "text": [
      "Using Haldane correction\n",
      "\n"
     ]
    },
    {
     "name": "stdout",
     "output_type": "stream",
     "text": [
      "2023-01-26 18:00:16 [INFO] \tTesting DD: 90\n",
      "2023-01-26 18:00:16 [INFO] \tTesting FCDandmTOR: 64\n",
      "2023-01-26 18:00:16 [INFO] \tTesting Cobblestone: 14\n"
     ]
    },
    {
     "name": "stderr",
     "output_type": "stream",
     "text": [
      "Using Haldane correction\n",
      "\n"
     ]
    },
    {
     "name": "stdout",
     "output_type": "stream",
     "text": [
      "2023-01-26 18:00:16 [INFO] \tTesting ASD: 965\n",
      "2023-01-26 18:00:16 [INFO] Regulon core SIN3A: 586\n",
      "2023-01-26 18:00:16 [INFO] \tTesting Microcephaly: 64\n",
      "2023-01-26 18:00:16 [INFO] \tTesting Hydrocephaly: 105\n",
      "2023-01-26 18:00:16 [INFO] \tTesting RareMCD: 23\n"
     ]
    },
    {
     "name": "stderr",
     "output_type": "stream",
     "text": [
      "Using Haldane correction\n",
      "\n"
     ]
    },
    {
     "name": "stdout",
     "output_type": "stream",
     "text": [
      "2023-01-26 18:00:16 [INFO] \tTesting MDD_2018: 51\n",
      "2023-01-26 18:00:16 [INFO] \tTesting Polymicrogyria: 28\n",
      "2023-01-26 18:00:16 [INFO] \tTesting SCZ_2020: 108\n",
      "2023-01-26 18:00:16 [INFO] \tTesting AN_2019: 99\n"
     ]
    },
    {
     "name": "stderr",
     "output_type": "stream",
     "text": [
      "Using Haldane correction\n",
      "\n"
     ]
    },
    {
     "name": "stdout",
     "output_type": "stream",
     "text": [
      "2023-01-26 18:00:16 [INFO] \tTesting NEUROT_2018: 268\n",
      "2023-01-26 18:00:16 [INFO] \tTesting PD_2014: 29\n",
      "2023-01-26 18:00:16 [INFO] \tTesting AD_2019: 175\n",
      "2023-01-26 18:00:16 [INFO] \tTesting Lissencephaly: 40\n",
      "2023-01-26 18:00:16 [INFO] \tTesting BD_2019: 194\n",
      "2023-01-26 18:00:16 [INFO] \tTesting DevDyslexia: 24\n",
      "2023-01-26 18:00:16 [INFO] \tTesting Heterotopia: 13\n"
     ]
    },
    {
     "name": "stderr",
     "output_type": "stream",
     "text": [
      "Using Haldane correction\n",
      "\n"
     ]
    },
    {
     "name": "stdout",
     "output_type": "stream",
     "text": [
      "2023-01-26 18:00:16 [INFO] \tTesting ADHD_2019: 26\n"
     ]
    },
    {
     "name": "stderr",
     "output_type": "stream",
     "text": [
      "Using Haldane correction\n",
      "\n"
     ]
    },
    {
     "name": "stdout",
     "output_type": "stream",
     "text": [
      "2023-01-26 18:00:16 [INFO] \tTesting DD: 90\n",
      "2023-01-26 18:00:16 [INFO] \tTesting FCDandmTOR: 64\n",
      "2023-01-26 18:00:16 [INFO] \tTesting Cobblestone: 14\n"
     ]
    },
    {
     "name": "stderr",
     "output_type": "stream",
     "text": [
      "Using Haldane correction\n",
      "\n"
     ]
    },
    {
     "name": "stdout",
     "output_type": "stream",
     "text": [
      "2023-01-26 18:00:16 [INFO] \tTesting ASD: 965\n",
      "2023-01-26 18:00:16 [INFO] Regulon core SMAD9: 655\n",
      "2023-01-26 18:00:16 [INFO] \tTesting Microcephaly: 64\n",
      "2023-01-26 18:00:16 [INFO] \tTesting Hydrocephaly: 105\n",
      "2023-01-26 18:00:16 [INFO] \tTesting RareMCD: 23\n"
     ]
    },
    {
     "name": "stderr",
     "output_type": "stream",
     "text": [
      "Using Haldane correction\n",
      "\n"
     ]
    },
    {
     "name": "stdout",
     "output_type": "stream",
     "text": [
      "2023-01-26 18:00:16 [INFO] \tTesting MDD_2018: 51\n",
      "2023-01-26 18:00:16 [INFO] \tTesting Polymicrogyria: 28\n",
      "2023-01-26 18:00:16 [INFO] \tTesting SCZ_2020: 108\n",
      "2023-01-26 18:00:16 [INFO] \tTesting AN_2019: 99\n",
      "2023-01-26 18:00:16 [INFO] \tTesting NEUROT_2018: 268\n",
      "2023-01-26 18:00:16 [INFO] \tTesting PD_2014: 29\n",
      "2023-01-26 18:00:16 [INFO] \tTesting AD_2019: 175\n",
      "2023-01-26 18:00:16 [INFO] \tTesting Lissencephaly: 40\n",
      "2023-01-26 18:00:16 [INFO] \tTesting BD_2019: 194\n",
      "2023-01-26 18:00:16 [INFO] \tTesting DevDyslexia: 24\n",
      "2023-01-26 18:00:16 [INFO] \tTesting Heterotopia: 13\n"
     ]
    },
    {
     "name": "stderr",
     "output_type": "stream",
     "text": [
      "Using Haldane correction\n",
      "\n"
     ]
    },
    {
     "name": "stdout",
     "output_type": "stream",
     "text": [
      "2023-01-26 18:00:16 [INFO] \tTesting ADHD_2019: 26\n"
     ]
    },
    {
     "name": "stderr",
     "output_type": "stream",
     "text": [
      "Using Haldane correction\n",
      "\n"
     ]
    },
    {
     "name": "stdout",
     "output_type": "stream",
     "text": [
      "2023-01-26 18:00:16 [INFO] \tTesting DD: 90\n",
      "2023-01-26 18:00:16 [INFO] \tTesting FCDandmTOR: 64\n",
      "2023-01-26 18:00:16 [INFO] \tTesting Cobblestone: 14\n"
     ]
    },
    {
     "name": "stderr",
     "output_type": "stream",
     "text": [
      "Using Haldane correction\n",
      "\n"
     ]
    },
    {
     "name": "stdout",
     "output_type": "stream",
     "text": [
      "2023-01-26 18:00:16 [INFO] \tTesting ASD: 965\n",
      "2023-01-26 18:00:16 [INFO] Regulon core SP1: 886\n",
      "2023-01-26 18:00:16 [INFO] \tTesting Microcephaly: 64\n",
      "2023-01-26 18:00:16 [INFO] \tTesting Hydrocephaly: 105\n",
      "2023-01-26 18:00:16 [INFO] \tTesting RareMCD: 23\n"
     ]
    },
    {
     "name": "stderr",
     "output_type": "stream",
     "text": [
      "Using Haldane correction\n",
      "\n"
     ]
    },
    {
     "name": "stdout",
     "output_type": "stream",
     "text": [
      "2023-01-26 18:00:16 [INFO] \tTesting MDD_2018: 51\n"
     ]
    },
    {
     "name": "stderr",
     "output_type": "stream",
     "text": [
      "Using Haldane correction\n",
      "\n"
     ]
    },
    {
     "name": "stdout",
     "output_type": "stream",
     "text": [
      "2023-01-26 18:00:16 [INFO] \tTesting Polymicrogyria: 28\n",
      "2023-01-26 18:00:16 [INFO] \tTesting SCZ_2020: 108\n",
      "2023-01-26 18:00:16 [INFO] \tTesting AN_2019: 99\n",
      "2023-01-26 18:00:16 [INFO] \tTesting NEUROT_2018: 268\n",
      "2023-01-26 18:00:16 [INFO] \tTesting PD_2014: 29\n",
      "2023-01-26 18:00:16 [INFO] \tTesting AD_2019: 175\n",
      "2023-01-26 18:00:16 [INFO] \tTesting Lissencephaly: 40\n",
      "2023-01-26 18:00:16 [INFO] \tTesting BD_2019: 194\n",
      "2023-01-26 18:00:16 [INFO] \tTesting DevDyslexia: 24\n",
      "2023-01-26 18:00:16 [INFO] \tTesting Heterotopia: 13\n"
     ]
    },
    {
     "name": "stderr",
     "output_type": "stream",
     "text": [
      "Using Haldane correction\n",
      "\n"
     ]
    },
    {
     "name": "stdout",
     "output_type": "stream",
     "text": [
      "2023-01-26 18:00:16 [INFO] \tTesting ADHD_2019: 26\n"
     ]
    },
    {
     "name": "stderr",
     "output_type": "stream",
     "text": [
      "Using Haldane correction\n",
      "\n"
     ]
    },
    {
     "name": "stdout",
     "output_type": "stream",
     "text": [
      "2023-01-26 18:00:16 [INFO] \tTesting DD: 90\n",
      "2023-01-26 18:00:16 [INFO] \tTesting FCDandmTOR: 64\n",
      "2023-01-26 18:00:16 [INFO] \tTesting Cobblestone: 14\n"
     ]
    },
    {
     "name": "stderr",
     "output_type": "stream",
     "text": [
      "Using Haldane correction\n",
      "\n"
     ]
    },
    {
     "name": "stdout",
     "output_type": "stream",
     "text": [
      "2023-01-26 18:00:16 [INFO] \tTesting ASD: 965\n",
      "2023-01-26 18:00:16 [INFO] Regulon core SP2: 766\n",
      "2023-01-26 18:00:16 [INFO] \tTesting Microcephaly: 64\n",
      "2023-01-26 18:00:16 [INFO] \tTesting Hydrocephaly: 105\n",
      "2023-01-26 18:00:16 [INFO] \tTesting RareMCD: 23\n"
     ]
    },
    {
     "name": "stderr",
     "output_type": "stream",
     "text": [
      "Using Haldane correction\n",
      "\n"
     ]
    },
    {
     "name": "stdout",
     "output_type": "stream",
     "text": [
      "2023-01-26 18:00:16 [INFO] \tTesting MDD_2018: 51\n"
     ]
    },
    {
     "name": "stderr",
     "output_type": "stream",
     "text": [
      "Using Haldane correction\n",
      "\n"
     ]
    },
    {
     "name": "stdout",
     "output_type": "stream",
     "text": [
      "2023-01-26 18:00:16 [INFO] \tTesting Polymicrogyria: 28\n",
      "2023-01-26 18:00:16 [INFO] \tTesting SCZ_2020: 108\n",
      "2023-01-26 18:00:16 [INFO] \tTesting AN_2019: 99\n",
      "2023-01-26 18:00:16 [INFO] \tTesting NEUROT_2018: 268\n",
      "2023-01-26 18:00:16 [INFO] \tTesting PD_2014: 29\n",
      "2023-01-26 18:00:16 [INFO] \tTesting AD_2019: 175\n",
      "2023-01-26 18:00:16 [INFO] \tTesting Lissencephaly: 40\n",
      "2023-01-26 18:00:16 [INFO] \tTesting BD_2019: 194\n",
      "2023-01-26 18:00:16 [INFO] \tTesting DevDyslexia: 24\n",
      "2023-01-26 18:00:16 [INFO] \tTesting Heterotopia: 13\n"
     ]
    },
    {
     "name": "stderr",
     "output_type": "stream",
     "text": [
      "Using Haldane correction\n",
      "\n"
     ]
    },
    {
     "name": "stdout",
     "output_type": "stream",
     "text": [
      "2023-01-26 18:00:16 [INFO] \tTesting ADHD_2019: 26\n"
     ]
    },
    {
     "name": "stderr",
     "output_type": "stream",
     "text": [
      "Using Haldane correction\n",
      "\n"
     ]
    },
    {
     "name": "stdout",
     "output_type": "stream",
     "text": [
      "2023-01-26 18:00:16 [INFO] \tTesting DD: 90\n",
      "2023-01-26 18:00:16 [INFO] \tTesting FCDandmTOR: 64\n",
      "2023-01-26 18:00:16 [INFO] \tTesting Cobblestone: 14\n"
     ]
    },
    {
     "name": "stderr",
     "output_type": "stream",
     "text": [
      "Using Haldane correction\n",
      "\n"
     ]
    },
    {
     "name": "stdout",
     "output_type": "stream",
     "text": [
      "2023-01-26 18:00:16 [INFO] \tTesting ASD: 965\n",
      "2023-01-26 18:00:16 [INFO] Regulon core SREBF2: 607\n",
      "2023-01-26 18:00:16 [INFO] \tTesting Microcephaly: 64\n",
      "2023-01-26 18:00:16 [INFO] \tTesting Hydrocephaly: 105\n",
      "2023-01-26 18:00:16 [INFO] \tTesting RareMCD: 23\n"
     ]
    },
    {
     "name": "stderr",
     "output_type": "stream",
     "text": [
      "Using Haldane correction\n",
      "\n"
     ]
    },
    {
     "name": "stdout",
     "output_type": "stream",
     "text": [
      "2023-01-26 18:00:16 [INFO] \tTesting MDD_2018: 51\n",
      "2023-01-26 18:00:16 [INFO] \tTesting Polymicrogyria: 28\n",
      "2023-01-26 18:00:16 [INFO] \tTesting SCZ_2020: 108\n",
      "2023-01-26 18:00:16 [INFO] \tTesting AN_2019: 99\n",
      "2023-01-26 18:00:16 [INFO] \tTesting NEUROT_2018: 268\n",
      "2023-01-26 18:00:16 [INFO] \tTesting PD_2014: 29\n",
      "2023-01-26 18:00:16 [INFO] \tTesting AD_2019: 175\n",
      "2023-01-26 18:00:16 [INFO] \tTesting Lissencephaly: 40\n",
      "2023-01-26 18:00:16 [INFO] \tTesting BD_2019: 194\n",
      "2023-01-26 18:00:16 [INFO] \tTesting DevDyslexia: 24\n",
      "2023-01-26 18:00:16 [INFO] \tTesting Heterotopia: 13\n"
     ]
    },
    {
     "name": "stderr",
     "output_type": "stream",
     "text": [
      "Using Haldane correction\n",
      "\n"
     ]
    },
    {
     "name": "stdout",
     "output_type": "stream",
     "text": [
      "2023-01-26 18:00:16 [INFO] \tTesting ADHD_2019: 26\n"
     ]
    },
    {
     "name": "stderr",
     "output_type": "stream",
     "text": [
      "Using Haldane correction\n",
      "\n"
     ]
    },
    {
     "name": "stdout",
     "output_type": "stream",
     "text": [
      "2023-01-26 18:00:16 [INFO] \tTesting DD: 90\n",
      "2023-01-26 18:00:16 [INFO] \tTesting FCDandmTOR: 64\n",
      "2023-01-26 18:00:16 [INFO] \tTesting Cobblestone: 14\n"
     ]
    },
    {
     "name": "stderr",
     "output_type": "stream",
     "text": [
      "Using Haldane correction\n",
      "\n"
     ]
    },
    {
     "name": "stdout",
     "output_type": "stream",
     "text": [
      "2023-01-26 18:00:16 [INFO] \tTesting ASD: 965\n",
      "2023-01-26 18:00:16 [INFO] Regulon core TAF1: 840\n",
      "2023-01-26 18:00:16 [INFO] \tTesting Microcephaly: 64\n",
      "2023-01-26 18:00:16 [INFO] \tTesting Hydrocephaly: 105\n",
      "2023-01-26 18:00:16 [INFO] \tTesting RareMCD: 23\n"
     ]
    },
    {
     "name": "stderr",
     "output_type": "stream",
     "text": [
      "Using Haldane correction\n",
      "\n"
     ]
    },
    {
     "name": "stdout",
     "output_type": "stream",
     "text": [
      "2023-01-26 18:00:16 [INFO] \tTesting MDD_2018: 51\n",
      "2023-01-26 18:00:16 [INFO] \tTesting Polymicrogyria: 28\n",
      "2023-01-26 18:00:16 [INFO] \tTesting SCZ_2020: 108\n",
      "2023-01-26 18:00:16 [INFO] \tTesting AN_2019: 99\n",
      "2023-01-26 18:00:16 [INFO] \tTesting NEUROT_2018: 268\n",
      "2023-01-26 18:00:16 [INFO] \tTesting PD_2014: 29\n",
      "2023-01-26 18:00:16 [INFO] \tTesting AD_2019: 175\n",
      "2023-01-26 18:00:16 [INFO] \tTesting Lissencephaly: 40\n",
      "2023-01-26 18:00:16 [INFO] \tTesting BD_2019: 194\n",
      "2023-01-26 18:00:16 [INFO] \tTesting DevDyslexia: 24\n",
      "2023-01-26 18:00:16 [INFO] \tTesting Heterotopia: 13\n"
     ]
    },
    {
     "name": "stderr",
     "output_type": "stream",
     "text": [
      "Using Haldane correction\n",
      "\n"
     ]
    },
    {
     "name": "stdout",
     "output_type": "stream",
     "text": [
      "2023-01-26 18:00:16 [INFO] \tTesting ADHD_2019: 26\n"
     ]
    },
    {
     "name": "stderr",
     "output_type": "stream",
     "text": [
      "Using Haldane correction\n",
      "\n"
     ]
    },
    {
     "name": "stdout",
     "output_type": "stream",
     "text": [
      "2023-01-26 18:00:16 [INFO] \tTesting DD: 90\n",
      "2023-01-26 18:00:16 [INFO] \tTesting FCDandmTOR: 64\n",
      "2023-01-26 18:00:16 [INFO] \tTesting Cobblestone: 14\n"
     ]
    },
    {
     "name": "stderr",
     "output_type": "stream",
     "text": [
      "Using Haldane correction\n",
      "\n"
     ]
    },
    {
     "name": "stdout",
     "output_type": "stream",
     "text": [
      "2023-01-26 18:00:16 [INFO] \tTesting ASD: 965\n",
      "2023-01-26 18:00:16 [INFO] Regulon core TFDP1: 730\n",
      "2023-01-26 18:00:16 [INFO] \tTesting Microcephaly: 64\n",
      "2023-01-26 18:00:16 [INFO] \tTesting Hydrocephaly: 105\n",
      "2023-01-26 18:00:16 [INFO] \tTesting RareMCD: 23\n"
     ]
    },
    {
     "name": "stderr",
     "output_type": "stream",
     "text": [
      "Using Haldane correction\n",
      "\n"
     ]
    },
    {
     "name": "stdout",
     "output_type": "stream",
     "text": [
      "2023-01-26 18:00:16 [INFO] \tTesting MDD_2018: 51\n",
      "2023-01-26 18:00:16 [INFO] \tTesting Polymicrogyria: 28\n",
      "2023-01-26 18:00:16 [INFO] \tTesting SCZ_2020: 108\n",
      "2023-01-26 18:00:16 [INFO] \tTesting AN_2019: 99\n",
      "2023-01-26 18:00:16 [INFO] \tTesting NEUROT_2018: 268\n",
      "2023-01-26 18:00:16 [INFO] \tTesting PD_2014: 29\n",
      "2023-01-26 18:00:16 [INFO] \tTesting AD_2019: 175\n",
      "2023-01-26 18:00:16 [INFO] \tTesting Lissencephaly: 40\n",
      "2023-01-26 18:00:16 [INFO] \tTesting BD_2019: 194\n",
      "2023-01-26 18:00:16 [INFO] \tTesting DevDyslexia: 24\n",
      "2023-01-26 18:00:16 [INFO] \tTesting Heterotopia: 13\n"
     ]
    },
    {
     "name": "stderr",
     "output_type": "stream",
     "text": [
      "Using Haldane correction\n",
      "\n"
     ]
    },
    {
     "name": "stdout",
     "output_type": "stream",
     "text": [
      "2023-01-26 18:00:16 [INFO] \tTesting ADHD_2019: 26\n"
     ]
    },
    {
     "name": "stderr",
     "output_type": "stream",
     "text": [
      "Using Haldane correction\n",
      "\n"
     ]
    },
    {
     "name": "stdout",
     "output_type": "stream",
     "text": [
      "2023-01-26 18:00:16 [INFO] \tTesting DD: 90\n",
      "2023-01-26 18:00:16 [INFO] \tTesting FCDandmTOR: 64\n",
      "2023-01-26 18:00:16 [INFO] \tTesting Cobblestone: 14\n"
     ]
    },
    {
     "name": "stderr",
     "output_type": "stream",
     "text": [
      "Using Haldane correction\n",
      "\n"
     ]
    },
    {
     "name": "stdout",
     "output_type": "stream",
     "text": [
      "2023-01-26 18:00:16 [INFO] \tTesting ASD: 965\n",
      "2023-01-26 18:00:16 [INFO] Regulon core ZBTB10: 637\n",
      "2023-01-26 18:00:16 [INFO] \tTesting Microcephaly: 64\n",
      "2023-01-26 18:00:16 [INFO] \tTesting Hydrocephaly: 105\n",
      "2023-01-26 18:00:16 [INFO] \tTesting RareMCD: 23\n"
     ]
    },
    {
     "name": "stderr",
     "output_type": "stream",
     "text": [
      "Using Haldane correction\n",
      "\n"
     ]
    },
    {
     "name": "stdout",
     "output_type": "stream",
     "text": [
      "2023-01-26 18:00:16 [INFO] \tTesting MDD_2018: 51\n",
      "2023-01-26 18:00:16 [INFO] \tTesting Polymicrogyria: 28\n",
      "2023-01-26 18:00:16 [INFO] \tTesting SCZ_2020: 108\n",
      "2023-01-26 18:00:16 [INFO] \tTesting AN_2019: 99\n",
      "2023-01-26 18:00:16 [INFO] \tTesting NEUROT_2018: 268\n",
      "2023-01-26 18:00:16 [INFO] \tTesting PD_2014: 29\n",
      "2023-01-26 18:00:16 [INFO] \tTesting AD_2019: 175\n",
      "2023-01-26 18:00:16 [INFO] \tTesting Lissencephaly: 40\n",
      "2023-01-26 18:00:16 [INFO] \tTesting BD_2019: 194\n",
      "2023-01-26 18:00:16 [INFO] \tTesting DevDyslexia: 24\n",
      "2023-01-26 18:00:16 [INFO] \tTesting Heterotopia: 13\n"
     ]
    },
    {
     "name": "stderr",
     "output_type": "stream",
     "text": [
      "Using Haldane correction\n",
      "\n"
     ]
    },
    {
     "name": "stdout",
     "output_type": "stream",
     "text": [
      "2023-01-26 18:00:16 [INFO] \tTesting ADHD_2019: 26\n"
     ]
    },
    {
     "name": "stderr",
     "output_type": "stream",
     "text": [
      "Using Haldane correction\n",
      "\n"
     ]
    },
    {
     "name": "stdout",
     "output_type": "stream",
     "text": [
      "2023-01-26 18:00:16 [INFO] \tTesting DD: 90\n",
      "2023-01-26 18:00:16 [INFO] \tTesting FCDandmTOR: 64\n",
      "2023-01-26 18:00:16 [INFO] \tTesting Cobblestone: 14\n"
     ]
    },
    {
     "name": "stderr",
     "output_type": "stream",
     "text": [
      "Using Haldane correction\n",
      "\n"
     ]
    },
    {
     "name": "stdout",
     "output_type": "stream",
     "text": [
      "2023-01-26 18:00:16 [INFO] \tTesting ASD: 965\n",
      "2023-01-26 18:00:16 [INFO] Regulon core ZBTB5: 772\n",
      "2023-01-26 18:00:16 [INFO] \tTesting Microcephaly: 64\n",
      "2023-01-26 18:00:16 [INFO] \tTesting Hydrocephaly: 105\n",
      "2023-01-26 18:00:16 [INFO] \tTesting RareMCD: 23\n"
     ]
    },
    {
     "name": "stderr",
     "output_type": "stream",
     "text": [
      "Using Haldane correction\n",
      "\n"
     ]
    },
    {
     "name": "stdout",
     "output_type": "stream",
     "text": [
      "2023-01-26 18:00:16 [INFO] \tTesting MDD_2018: 51\n",
      "2023-01-26 18:00:16 [INFO] \tTesting Polymicrogyria: 28\n",
      "2023-01-26 18:00:16 [INFO] \tTesting SCZ_2020: 108\n",
      "2023-01-26 18:00:16 [INFO] \tTesting AN_2019: 99\n",
      "2023-01-26 18:00:16 [INFO] \tTesting NEUROT_2018: 268\n",
      "2023-01-26 18:00:16 [INFO] \tTesting PD_2014: 29\n",
      "2023-01-26 18:00:16 [INFO] \tTesting AD_2019: 175\n",
      "2023-01-26 18:00:16 [INFO] \tTesting Lissencephaly: 40\n",
      "2023-01-26 18:00:16 [INFO] \tTesting BD_2019: 194\n",
      "2023-01-26 18:00:16 [INFO] \tTesting DevDyslexia: 24\n",
      "2023-01-26 18:00:16 [INFO] \tTesting Heterotopia: 13\n"
     ]
    },
    {
     "name": "stderr",
     "output_type": "stream",
     "text": [
      "Using Haldane correction\n",
      "\n"
     ]
    },
    {
     "name": "stdout",
     "output_type": "stream",
     "text": [
      "2023-01-26 18:00:16 [INFO] \tTesting ADHD_2019: 26\n"
     ]
    },
    {
     "name": "stderr",
     "output_type": "stream",
     "text": [
      "Using Haldane correction\n",
      "\n"
     ]
    },
    {
     "name": "stdout",
     "output_type": "stream",
     "text": [
      "2023-01-26 18:00:17 [INFO] \tTesting DD: 90\n",
      "2023-01-26 18:00:17 [INFO] \tTesting FCDandmTOR: 64\n",
      "2023-01-26 18:00:17 [INFO] \tTesting Cobblestone: 14\n"
     ]
    },
    {
     "name": "stderr",
     "output_type": "stream",
     "text": [
      "Using Haldane correction\n",
      "\n"
     ]
    },
    {
     "name": "stdout",
     "output_type": "stream",
     "text": [
      "2023-01-26 18:00:17 [INFO] \tTesting ASD: 965\n",
      "2023-01-26 18:00:17 [INFO] Regulon core ZBTB8A: 618\n",
      "2023-01-26 18:00:17 [INFO] \tTesting Microcephaly: 64\n",
      "2023-01-26 18:00:17 [INFO] \tTesting Hydrocephaly: 105\n",
      "2023-01-26 18:00:17 [INFO] \tTesting RareMCD: 23\n"
     ]
    },
    {
     "name": "stderr",
     "output_type": "stream",
     "text": [
      "Using Haldane correction\n",
      "\n"
     ]
    },
    {
     "name": "stdout",
     "output_type": "stream",
     "text": [
      "2023-01-26 18:00:17 [INFO] \tTesting MDD_2018: 51\n",
      "2023-01-26 18:00:17 [INFO] \tTesting Polymicrogyria: 28\n",
      "2023-01-26 18:00:17 [INFO] \tTesting SCZ_2020: 108\n",
      "2023-01-26 18:00:17 [INFO] \tTesting AN_2019: 99\n",
      "2023-01-26 18:00:17 [INFO] \tTesting NEUROT_2018: 268\n",
      "2023-01-26 18:00:17 [INFO] \tTesting PD_2014: 29\n",
      "2023-01-26 18:00:17 [INFO] \tTesting AD_2019: 175\n",
      "2023-01-26 18:00:17 [INFO] \tTesting Lissencephaly: 40\n",
      "2023-01-26 18:00:17 [INFO] \tTesting BD_2019: 194\n",
      "2023-01-26 18:00:17 [INFO] \tTesting DevDyslexia: 24\n",
      "2023-01-26 18:00:17 [INFO] \tTesting Heterotopia: 13\n"
     ]
    },
    {
     "name": "stderr",
     "output_type": "stream",
     "text": [
      "Using Haldane correction\n",
      "\n"
     ]
    },
    {
     "name": "stdout",
     "output_type": "stream",
     "text": [
      "2023-01-26 18:00:17 [INFO] \tTesting ADHD_2019: 26\n"
     ]
    },
    {
     "name": "stderr",
     "output_type": "stream",
     "text": [
      "Using Haldane correction\n",
      "\n"
     ]
    },
    {
     "name": "stdout",
     "output_type": "stream",
     "text": [
      "2023-01-26 18:00:17 [INFO] \tTesting DD: 90\n",
      "2023-01-26 18:00:17 [INFO] \tTesting FCDandmTOR: 64\n",
      "2023-01-26 18:00:17 [INFO] \tTesting Cobblestone: 14\n"
     ]
    },
    {
     "name": "stderr",
     "output_type": "stream",
     "text": [
      "Using Haldane correction\n",
      "\n"
     ]
    },
    {
     "name": "stdout",
     "output_type": "stream",
     "text": [
      "2023-01-26 18:00:17 [INFO] \tTesting ASD: 965\n",
      "2023-01-26 18:00:17 [INFO] Regulon core ZFHX2: 614\n",
      "2023-01-26 18:00:17 [INFO] \tTesting Microcephaly: 64\n",
      "2023-01-26 18:00:17 [INFO] \tTesting Hydrocephaly: 105\n",
      "2023-01-26 18:00:17 [INFO] \tTesting RareMCD: 23\n"
     ]
    },
    {
     "name": "stderr",
     "output_type": "stream",
     "text": [
      "Using Haldane correction\n",
      "\n"
     ]
    },
    {
     "name": "stdout",
     "output_type": "stream",
     "text": [
      "2023-01-26 18:00:17 [INFO] \tTesting MDD_2018: 51\n",
      "2023-01-26 18:00:17 [INFO] \tTesting Polymicrogyria: 28\n",
      "2023-01-26 18:00:17 [INFO] \tTesting SCZ_2020: 108\n",
      "2023-01-26 18:00:17 [INFO] \tTesting AN_2019: 99\n",
      "2023-01-26 18:00:17 [INFO] \tTesting NEUROT_2018: 268\n",
      "2023-01-26 18:00:17 [INFO] \tTesting PD_2014: 29\n"
     ]
    },
    {
     "name": "stderr",
     "output_type": "stream",
     "text": [
      "Using Haldane correction\n",
      "\n"
     ]
    },
    {
     "name": "stdout",
     "output_type": "stream",
     "text": [
      "2023-01-26 18:00:17 [INFO] \tTesting AD_2019: 175\n",
      "2023-01-26 18:00:17 [INFO] \tTesting Lissencephaly: 40\n",
      "2023-01-26 18:00:17 [INFO] \tTesting BD_2019: 194\n",
      "2023-01-26 18:00:17 [INFO] \tTesting DevDyslexia: 24\n",
      "2023-01-26 18:00:17 [INFO] \tTesting Heterotopia: 13\n"
     ]
    },
    {
     "name": "stderr",
     "output_type": "stream",
     "text": [
      "Using Haldane correction\n",
      "\n"
     ]
    },
    {
     "name": "stdout",
     "output_type": "stream",
     "text": [
      "2023-01-26 18:00:17 [INFO] \tTesting ADHD_2019: 26\n"
     ]
    },
    {
     "name": "stderr",
     "output_type": "stream",
     "text": [
      "Using Haldane correction\n",
      "\n"
     ]
    },
    {
     "name": "stdout",
     "output_type": "stream",
     "text": [
      "2023-01-26 18:00:17 [INFO] \tTesting DD: 90\n",
      "2023-01-26 18:00:17 [INFO] \tTesting FCDandmTOR: 64\n",
      "2023-01-26 18:00:17 [INFO] \tTesting Cobblestone: 14\n"
     ]
    },
    {
     "name": "stderr",
     "output_type": "stream",
     "text": [
      "Using Haldane correction\n",
      "\n"
     ]
    },
    {
     "name": "stdout",
     "output_type": "stream",
     "text": [
      "2023-01-26 18:00:17 [INFO] \tTesting ASD: 965\n",
      "2023-01-26 18:00:17 [INFO] Regulon core ZNF142: 622\n",
      "2023-01-26 18:00:17 [INFO] \tTesting Microcephaly: 64\n",
      "2023-01-26 18:00:17 [INFO] \tTesting Hydrocephaly: 105\n",
      "2023-01-26 18:00:17 [INFO] \tTesting RareMCD: 23\n"
     ]
    },
    {
     "name": "stderr",
     "output_type": "stream",
     "text": [
      "Using Haldane correction\n",
      "\n"
     ]
    },
    {
     "name": "stdout",
     "output_type": "stream",
     "text": [
      "2023-01-26 18:00:17 [INFO] \tTesting MDD_2018: 51\n",
      "2023-01-26 18:00:17 [INFO] \tTesting Polymicrogyria: 28\n",
      "2023-01-26 18:00:17 [INFO] \tTesting SCZ_2020: 108\n",
      "2023-01-26 18:00:17 [INFO] \tTesting AN_2019: 99\n",
      "2023-01-26 18:00:17 [INFO] \tTesting NEUROT_2018: 268\n",
      "2023-01-26 18:00:17 [INFO] \tTesting PD_2014: 29\n",
      "2023-01-26 18:00:17 [INFO] \tTesting AD_2019: 175\n",
      "2023-01-26 18:00:17 [INFO] \tTesting Lissencephaly: 40\n",
      "2023-01-26 18:00:17 [INFO] \tTesting BD_2019: 194\n",
      "2023-01-26 18:00:17 [INFO] \tTesting DevDyslexia: 24\n",
      "2023-01-26 18:00:17 [INFO] \tTesting Heterotopia: 13\n"
     ]
    },
    {
     "name": "stderr",
     "output_type": "stream",
     "text": [
      "Using Haldane correction\n",
      "\n"
     ]
    },
    {
     "name": "stdout",
     "output_type": "stream",
     "text": [
      "2023-01-26 18:00:17 [INFO] \tTesting ADHD_2019: 26\n"
     ]
    },
    {
     "name": "stderr",
     "output_type": "stream",
     "text": [
      "Using Haldane correction\n",
      "\n"
     ]
    },
    {
     "name": "stdout",
     "output_type": "stream",
     "text": [
      "2023-01-26 18:00:17 [INFO] \tTesting DD: 90\n",
      "2023-01-26 18:00:17 [INFO] \tTesting FCDandmTOR: 64\n",
      "2023-01-26 18:00:17 [INFO] \tTesting Cobblestone: 14\n"
     ]
    },
    {
     "name": "stderr",
     "output_type": "stream",
     "text": [
      "Using Haldane correction\n",
      "\n"
     ]
    },
    {
     "name": "stdout",
     "output_type": "stream",
     "text": [
      "2023-01-26 18:00:17 [INFO] \tTesting ASD: 965\n",
      "2023-01-26 18:00:17 [INFO] Regulon core ZNF37A: 603\n",
      "2023-01-26 18:00:17 [INFO] \tTesting Microcephaly: 64\n",
      "2023-01-26 18:00:17 [INFO] \tTesting Hydrocephaly: 105\n",
      "2023-01-26 18:00:17 [INFO] \tTesting RareMCD: 23\n"
     ]
    },
    {
     "name": "stderr",
     "output_type": "stream",
     "text": [
      "Using Haldane correction\n",
      "\n"
     ]
    },
    {
     "name": "stdout",
     "output_type": "stream",
     "text": [
      "2023-01-26 18:00:17 [INFO] \tTesting MDD_2018: 51\n",
      "2023-01-26 18:00:17 [INFO] \tTesting Polymicrogyria: 28\n",
      "2023-01-26 18:00:17 [INFO] \tTesting SCZ_2020: 108\n",
      "2023-01-26 18:00:17 [INFO] \tTesting AN_2019: 99\n",
      "2023-01-26 18:00:17 [INFO] \tTesting NEUROT_2018: 268\n",
      "2023-01-26 18:00:17 [INFO] \tTesting PD_2014: 29\n",
      "2023-01-26 18:00:17 [INFO] \tTesting AD_2019: 175\n",
      "2023-01-26 18:00:17 [INFO] \tTesting Lissencephaly: 40\n",
      "2023-01-26 18:00:17 [INFO] \tTesting BD_2019: 194\n",
      "2023-01-26 18:00:17 [INFO] \tTesting DevDyslexia: 24\n",
      "2023-01-26 18:00:17 [INFO] \tTesting Heterotopia: 13\n"
     ]
    },
    {
     "name": "stderr",
     "output_type": "stream",
     "text": [
      "Using Haldane correction\n",
      "\n"
     ]
    },
    {
     "name": "stdout",
     "output_type": "stream",
     "text": [
      "2023-01-26 18:00:17 [INFO] \tTesting ADHD_2019: 26\n"
     ]
    },
    {
     "name": "stderr",
     "output_type": "stream",
     "text": [
      "Using Haldane correction\n",
      "\n"
     ]
    },
    {
     "name": "stdout",
     "output_type": "stream",
     "text": [
      "2023-01-26 18:00:17 [INFO] \tTesting DD: 90\n",
      "2023-01-26 18:00:17 [INFO] \tTesting FCDandmTOR: 64\n",
      "2023-01-26 18:00:17 [INFO] \tTesting Cobblestone: 14\n"
     ]
    },
    {
     "name": "stderr",
     "output_type": "stream",
     "text": [
      "Using Haldane correction\n",
      "\n"
     ]
    },
    {
     "name": "stdout",
     "output_type": "stream",
     "text": [
      "2023-01-26 18:00:17 [INFO] \tTesting ASD: 965\n",
      "2023-01-26 18:00:17 [INFO] Regulon core ZNF383: 793\n",
      "2023-01-26 18:00:17 [INFO] \tTesting Microcephaly: 64\n",
      "2023-01-26 18:00:17 [INFO] \tTesting Hydrocephaly: 105\n",
      "2023-01-26 18:00:17 [INFO] \tTesting RareMCD: 23\n"
     ]
    },
    {
     "name": "stderr",
     "output_type": "stream",
     "text": [
      "Using Haldane correction\n",
      "\n"
     ]
    },
    {
     "name": "stdout",
     "output_type": "stream",
     "text": [
      "2023-01-26 18:00:17 [INFO] \tTesting MDD_2018: 51\n",
      "2023-01-26 18:00:17 [INFO] \tTesting Polymicrogyria: 28\n",
      "2023-01-26 18:00:17 [INFO] \tTesting SCZ_2020: 108\n",
      "2023-01-26 18:00:17 [INFO] \tTesting AN_2019: 99\n",
      "2023-01-26 18:00:17 [INFO] \tTesting NEUROT_2018: 268\n",
      "2023-01-26 18:00:17 [INFO] \tTesting PD_2014: 29\n",
      "2023-01-26 18:00:17 [INFO] \tTesting AD_2019: 175\n",
      "2023-01-26 18:00:17 [INFO] \tTesting Lissencephaly: 40\n",
      "2023-01-26 18:00:17 [INFO] \tTesting BD_2019: 194\n",
      "2023-01-26 18:00:17 [INFO] \tTesting DevDyslexia: 24\n",
      "2023-01-26 18:00:17 [INFO] \tTesting Heterotopia: 13\n"
     ]
    },
    {
     "name": "stderr",
     "output_type": "stream",
     "text": [
      "Using Haldane correction\n",
      "\n"
     ]
    },
    {
     "name": "stdout",
     "output_type": "stream",
     "text": [
      "2023-01-26 18:00:17 [INFO] \tTesting ADHD_2019: 26\n"
     ]
    },
    {
     "name": "stderr",
     "output_type": "stream",
     "text": [
      "Using Haldane correction\n",
      "\n"
     ]
    },
    {
     "name": "stdout",
     "output_type": "stream",
     "text": [
      "2023-01-26 18:00:17 [INFO] \tTesting DD: 90\n",
      "2023-01-26 18:00:17 [INFO] \tTesting FCDandmTOR: 64\n",
      "2023-01-26 18:00:17 [INFO] \tTesting Cobblestone: 14\n"
     ]
    },
    {
     "name": "stderr",
     "output_type": "stream",
     "text": [
      "Using Haldane correction\n",
      "\n"
     ]
    },
    {
     "name": "stdout",
     "output_type": "stream",
     "text": [
      "2023-01-26 18:00:17 [INFO] \tTesting ASD: 965\n",
      "2023-01-26 18:00:17 [INFO] Regulon core ZNF398: 644\n",
      "2023-01-26 18:00:17 [INFO] \tTesting Microcephaly: 64\n",
      "2023-01-26 18:00:17 [INFO] \tTesting Hydrocephaly: 105\n",
      "2023-01-26 18:00:17 [INFO] \tTesting RareMCD: 23\n"
     ]
    },
    {
     "name": "stderr",
     "output_type": "stream",
     "text": [
      "Using Haldane correction\n",
      "\n"
     ]
    },
    {
     "name": "stdout",
     "output_type": "stream",
     "text": [
      "2023-01-26 18:00:17 [INFO] \tTesting MDD_2018: 51\n",
      "2023-01-26 18:00:17 [INFO] \tTesting Polymicrogyria: 28\n",
      "2023-01-26 18:00:17 [INFO] \tTesting SCZ_2020: 108\n",
      "2023-01-26 18:00:17 [INFO] \tTesting AN_2019: 99\n",
      "2023-01-26 18:00:17 [INFO] \tTesting NEUROT_2018: 268\n",
      "2023-01-26 18:00:17 [INFO] \tTesting PD_2014: 29\n"
     ]
    },
    {
     "name": "stderr",
     "output_type": "stream",
     "text": [
      "Using Haldane correction\n",
      "\n"
     ]
    },
    {
     "name": "stdout",
     "output_type": "stream",
     "text": [
      "2023-01-26 18:00:17 [INFO] \tTesting AD_2019: 175\n",
      "2023-01-26 18:00:17 [INFO] \tTesting Lissencephaly: 40\n",
      "2023-01-26 18:00:17 [INFO] \tTesting BD_2019: 194\n",
      "2023-01-26 18:00:17 [INFO] \tTesting DevDyslexia: 24\n",
      "2023-01-26 18:00:17 [INFO] \tTesting Heterotopia: 13\n"
     ]
    },
    {
     "name": "stderr",
     "output_type": "stream",
     "text": [
      "Using Haldane correction\n",
      "\n"
     ]
    },
    {
     "name": "stdout",
     "output_type": "stream",
     "text": [
      "2023-01-26 18:00:17 [INFO] \tTesting ADHD_2019: 26\n"
     ]
    },
    {
     "name": "stderr",
     "output_type": "stream",
     "text": [
      "Using Haldane correction\n",
      "\n"
     ]
    },
    {
     "name": "stdout",
     "output_type": "stream",
     "text": [
      "2023-01-26 18:00:17 [INFO] \tTesting DD: 90\n",
      "2023-01-26 18:00:17 [INFO] \tTesting FCDandmTOR: 64\n",
      "2023-01-26 18:00:17 [INFO] \tTesting Cobblestone: 14\n"
     ]
    },
    {
     "name": "stderr",
     "output_type": "stream",
     "text": [
      "Using Haldane correction\n",
      "\n"
     ]
    },
    {
     "name": "stdout",
     "output_type": "stream",
     "text": [
      "2023-01-26 18:00:17 [INFO] \tTesting ASD: 965\n",
      "2023-01-26 18:00:17 [INFO] Regulon core ZNF460: 689\n",
      "2023-01-26 18:00:17 [INFO] \tTesting Microcephaly: 64\n",
      "2023-01-26 18:00:17 [INFO] \tTesting Hydrocephaly: 105\n",
      "2023-01-26 18:00:17 [INFO] \tTesting RareMCD: 23\n"
     ]
    },
    {
     "name": "stderr",
     "output_type": "stream",
     "text": [
      "Using Haldane correction\n",
      "\n"
     ]
    },
    {
     "name": "stdout",
     "output_type": "stream",
     "text": [
      "2023-01-26 18:00:17 [INFO] \tTesting MDD_2018: 51\n",
      "2023-01-26 18:00:17 [INFO] \tTesting Polymicrogyria: 28\n",
      "2023-01-26 18:00:17 [INFO] \tTesting SCZ_2020: 108\n",
      "2023-01-26 18:00:17 [INFO] \tTesting AN_2019: 99\n",
      "2023-01-26 18:00:17 [INFO] \tTesting NEUROT_2018: 268\n",
      "2023-01-26 18:00:17 [INFO] \tTesting PD_2014: 29\n"
     ]
    },
    {
     "name": "stderr",
     "output_type": "stream",
     "text": [
      "Using Haldane correction\n",
      "\n"
     ]
    },
    {
     "name": "stdout",
     "output_type": "stream",
     "text": [
      "2023-01-26 18:00:17 [INFO] \tTesting AD_2019: 175\n",
      "2023-01-26 18:00:17 [INFO] \tTesting Lissencephaly: 40\n",
      "2023-01-26 18:00:17 [INFO] \tTesting BD_2019: 194\n",
      "2023-01-26 18:00:17 [INFO] \tTesting DevDyslexia: 24\n",
      "2023-01-26 18:00:17 [INFO] \tTesting Heterotopia: 13\n"
     ]
    },
    {
     "name": "stderr",
     "output_type": "stream",
     "text": [
      "Using Haldane correction\n",
      "\n"
     ]
    },
    {
     "name": "stdout",
     "output_type": "stream",
     "text": [
      "2023-01-26 18:00:17 [INFO] \tTesting ADHD_2019: 26\n"
     ]
    },
    {
     "name": "stderr",
     "output_type": "stream",
     "text": [
      "Using Haldane correction\n",
      "\n"
     ]
    },
    {
     "name": "stdout",
     "output_type": "stream",
     "text": [
      "2023-01-26 18:00:17 [INFO] \tTesting DD: 90\n",
      "2023-01-26 18:00:17 [INFO] \tTesting FCDandmTOR: 64\n",
      "2023-01-26 18:00:17 [INFO] \tTesting Cobblestone: 14\n"
     ]
    },
    {
     "name": "stderr",
     "output_type": "stream",
     "text": [
      "Using Haldane correction\n",
      "\n"
     ]
    },
    {
     "name": "stdout",
     "output_type": "stream",
     "text": [
      "2023-01-26 18:00:17 [INFO] \tTesting ASD: 965\n",
      "2023-01-26 18:00:17 [INFO] Regulon core ZNF519: 634\n",
      "2023-01-26 18:00:17 [INFO] \tTesting Microcephaly: 64\n",
      "2023-01-26 18:00:17 [INFO] \tTesting Hydrocephaly: 105\n",
      "2023-01-26 18:00:17 [INFO] \tTesting RareMCD: 23\n"
     ]
    },
    {
     "name": "stderr",
     "output_type": "stream",
     "text": [
      "Using Haldane correction\n",
      "\n"
     ]
    },
    {
     "name": "stdout",
     "output_type": "stream",
     "text": [
      "2023-01-26 18:00:17 [INFO] \tTesting MDD_2018: 51\n",
      "2023-01-26 18:00:17 [INFO] \tTesting Polymicrogyria: 28\n",
      "2023-01-26 18:00:17 [INFO] \tTesting SCZ_2020: 108\n",
      "2023-01-26 18:00:17 [INFO] \tTesting AN_2019: 99\n",
      "2023-01-26 18:00:17 [INFO] \tTesting NEUROT_2018: 268\n",
      "2023-01-26 18:00:17 [INFO] \tTesting PD_2014: 29\n",
      "2023-01-26 18:00:17 [INFO] \tTesting AD_2019: 175\n",
      "2023-01-26 18:00:17 [INFO] \tTesting Lissencephaly: 40\n",
      "2023-01-26 18:00:17 [INFO] \tTesting BD_2019: 194\n",
      "2023-01-26 18:00:17 [INFO] \tTesting DevDyslexia: 24\n",
      "2023-01-26 18:00:17 [INFO] \tTesting Heterotopia: 13\n"
     ]
    },
    {
     "name": "stderr",
     "output_type": "stream",
     "text": [
      "Using Haldane correction\n",
      "\n"
     ]
    },
    {
     "name": "stdout",
     "output_type": "stream",
     "text": [
      "2023-01-26 18:00:17 [INFO] \tTesting ADHD_2019: 26\n"
     ]
    },
    {
     "name": "stderr",
     "output_type": "stream",
     "text": [
      "Using Haldane correction\n",
      "\n"
     ]
    },
    {
     "name": "stdout",
     "output_type": "stream",
     "text": [
      "2023-01-26 18:00:17 [INFO] \tTesting DD: 90\n",
      "2023-01-26 18:00:17 [INFO] \tTesting FCDandmTOR: 64\n",
      "2023-01-26 18:00:17 [INFO] \tTesting Cobblestone: 14\n"
     ]
    },
    {
     "name": "stderr",
     "output_type": "stream",
     "text": [
      "Using Haldane correction\n",
      "\n"
     ]
    },
    {
     "name": "stdout",
     "output_type": "stream",
     "text": [
      "2023-01-26 18:00:17 [INFO] \tTesting ASD: 965\n",
      "2023-01-26 18:00:17 [INFO] Regulon core ZNF704: 628\n",
      "2023-01-26 18:00:17 [INFO] \tTesting Microcephaly: 64\n",
      "2023-01-26 18:00:17 [INFO] \tTesting Hydrocephaly: 105\n",
      "2023-01-26 18:00:17 [INFO] \tTesting RareMCD: 23\n"
     ]
    },
    {
     "name": "stderr",
     "output_type": "stream",
     "text": [
      "Using Haldane correction\n",
      "\n"
     ]
    },
    {
     "name": "stdout",
     "output_type": "stream",
     "text": [
      "2023-01-26 18:00:17 [INFO] \tTesting MDD_2018: 51\n",
      "2023-01-26 18:00:17 [INFO] \tTesting Polymicrogyria: 28\n",
      "2023-01-26 18:00:17 [INFO] \tTesting SCZ_2020: 108\n",
      "2023-01-26 18:00:17 [INFO] \tTesting AN_2019: 99\n",
      "2023-01-26 18:00:17 [INFO] \tTesting NEUROT_2018: 268\n",
      "2023-01-26 18:00:17 [INFO] \tTesting PD_2014: 29\n",
      "2023-01-26 18:00:17 [INFO] \tTesting AD_2019: 175\n",
      "2023-01-26 18:00:17 [INFO] \tTesting Lissencephaly: 40\n",
      "2023-01-26 18:00:17 [INFO] \tTesting BD_2019: 194\n",
      "2023-01-26 18:00:17 [INFO] \tTesting DevDyslexia: 24\n",
      "2023-01-26 18:00:17 [INFO] \tTesting Heterotopia: 13\n",
      "2023-01-26 18:00:17 [INFO] \tTesting ADHD_2019: 26\n"
     ]
    },
    {
     "name": "stderr",
     "output_type": "stream",
     "text": [
      "Using Haldane correction\n",
      "\n"
     ]
    },
    {
     "name": "stdout",
     "output_type": "stream",
     "text": [
      "2023-01-26 18:00:17 [INFO] \tTesting DD: 90\n",
      "2023-01-26 18:00:17 [INFO] \tTesting FCDandmTOR: 64\n",
      "2023-01-26 18:00:17 [INFO] \tTesting Cobblestone: 14\n"
     ]
    },
    {
     "name": "stderr",
     "output_type": "stream",
     "text": [
      "Using Haldane correction\n",
      "\n"
     ]
    },
    {
     "name": "stdout",
     "output_type": "stream",
     "text": [
      "2023-01-26 18:00:17 [INFO] \tTesting ASD: 965\n",
      "2023-01-26 18:00:18 [INFO] Regulon core ZNF846: 606\n",
      "2023-01-26 18:00:18 [INFO] \tTesting Microcephaly: 64\n",
      "2023-01-26 18:00:18 [INFO] \tTesting Hydrocephaly: 105\n",
      "2023-01-26 18:00:18 [INFO] \tTesting RareMCD: 23\n"
     ]
    },
    {
     "name": "stderr",
     "output_type": "stream",
     "text": [
      "Using Haldane correction\n",
      "\n"
     ]
    },
    {
     "name": "stdout",
     "output_type": "stream",
     "text": [
      "2023-01-26 18:00:18 [INFO] \tTesting MDD_2018: 51\n",
      "2023-01-26 18:00:18 [INFO] \tTesting Polymicrogyria: 28\n",
      "2023-01-26 18:00:18 [INFO] \tTesting SCZ_2020: 108\n",
      "2023-01-26 18:00:18 [INFO] \tTesting AN_2019: 99\n",
      "2023-01-26 18:00:18 [INFO] \tTesting NEUROT_2018: 268\n",
      "2023-01-26 18:00:18 [INFO] \tTesting PD_2014: 29\n",
      "2023-01-26 18:00:18 [INFO] \tTesting AD_2019: 175\n",
      "2023-01-26 18:00:18 [INFO] \tTesting Lissencephaly: 40\n",
      "2023-01-26 18:00:18 [INFO] \tTesting BD_2019: 194\n",
      "2023-01-26 18:00:18 [INFO] \tTesting DevDyslexia: 24\n",
      "2023-01-26 18:00:18 [INFO] \tTesting Heterotopia: 13\n"
     ]
    },
    {
     "name": "stderr",
     "output_type": "stream",
     "text": [
      "Using Haldane correction\n",
      "\n"
     ]
    },
    {
     "name": "stdout",
     "output_type": "stream",
     "text": [
      "2023-01-26 18:00:18 [INFO] \tTesting ADHD_2019: 26\n"
     ]
    },
    {
     "name": "stderr",
     "output_type": "stream",
     "text": [
      "Using Haldane correction\n",
      "\n"
     ]
    },
    {
     "name": "stdout",
     "output_type": "stream",
     "text": [
      "2023-01-26 18:00:18 [INFO] \tTesting DD: 90\n",
      "2023-01-26 18:00:18 [INFO] \tTesting FCDandmTOR: 64\n",
      "2023-01-26 18:00:18 [INFO] \tTesting Cobblestone: 14\n"
     ]
    },
    {
     "name": "stderr",
     "output_type": "stream",
     "text": [
      "Using Haldane correction\n",
      "\n"
     ]
    },
    {
     "name": "stdout",
     "output_type": "stream",
     "text": [
      "2023-01-26 18:00:18 [INFO] \tTesting ASD: 965\n",
      "2023-01-26 18:00:18 [INFO] Regulon core ZSCAN22: 712\n",
      "2023-01-26 18:00:18 [INFO] \tTesting Microcephaly: 64\n",
      "2023-01-26 18:00:18 [INFO] \tTesting Hydrocephaly: 105\n",
      "2023-01-26 18:00:18 [INFO] \tTesting RareMCD: 23\n"
     ]
    },
    {
     "name": "stderr",
     "output_type": "stream",
     "text": [
      "Using Haldane correction\n",
      "\n"
     ]
    },
    {
     "name": "stdout",
     "output_type": "stream",
     "text": [
      "2023-01-26 18:00:18 [INFO] \tTesting MDD_2018: 51\n",
      "2023-01-26 18:00:18 [INFO] \tTesting Polymicrogyria: 28\n",
      "2023-01-26 18:00:18 [INFO] \tTesting SCZ_2020: 108\n",
      "2023-01-26 18:00:18 [INFO] \tTesting AN_2019: 99\n",
      "2023-01-26 18:00:18 [INFO] \tTesting NEUROT_2018: 268\n",
      "2023-01-26 18:00:18 [INFO] \tTesting PD_2014: 29\n",
      "2023-01-26 18:00:18 [INFO] \tTesting AD_2019: 175\n",
      "2023-01-26 18:00:18 [INFO] \tTesting Lissencephaly: 40\n",
      "2023-01-26 18:00:18 [INFO] \tTesting BD_2019: 194\n",
      "2023-01-26 18:00:18 [INFO] \tTesting DevDyslexia: 24\n",
      "2023-01-26 18:00:18 [INFO] \tTesting Heterotopia: 13\n"
     ]
    },
    {
     "name": "stderr",
     "output_type": "stream",
     "text": [
      "Using Haldane correction\n",
      "\n"
     ]
    },
    {
     "name": "stdout",
     "output_type": "stream",
     "text": [
      "2023-01-26 18:00:18 [INFO] \tTesting ADHD_2019: 26\n"
     ]
    },
    {
     "name": "stderr",
     "output_type": "stream",
     "text": [
      "Using Haldane correction\n",
      "\n"
     ]
    },
    {
     "name": "stdout",
     "output_type": "stream",
     "text": [
      "2023-01-26 18:00:18 [INFO] \tTesting DD: 90\n",
      "2023-01-26 18:00:18 [INFO] \tTesting FCDandmTOR: 64\n",
      "2023-01-26 18:00:18 [INFO] \tTesting Cobblestone: 14\n"
     ]
    },
    {
     "name": "stderr",
     "output_type": "stream",
     "text": [
      "Using Haldane correction\n",
      "\n"
     ]
    },
    {
     "name": "stdout",
     "output_type": "stream",
     "text": [
      "2023-01-26 18:00:18 [INFO] \tTesting ASD: 965\n",
      "2023-01-26 18:00:18 [INFO] Regulon core ZXDB: 596\n",
      "2023-01-26 18:00:18 [INFO] \tTesting Microcephaly: 64\n",
      "2023-01-26 18:00:18 [INFO] \tTesting Hydrocephaly: 105\n",
      "2023-01-26 18:00:18 [INFO] \tTesting RareMCD: 23\n"
     ]
    },
    {
     "name": "stderr",
     "output_type": "stream",
     "text": [
      "Using Haldane correction\n",
      "\n"
     ]
    },
    {
     "name": "stdout",
     "output_type": "stream",
     "text": [
      "2023-01-26 18:00:18 [INFO] \tTesting MDD_2018: 51\n",
      "2023-01-26 18:00:18 [INFO] \tTesting Polymicrogyria: 28\n",
      "2023-01-26 18:00:18 [INFO] \tTesting SCZ_2020: 108\n",
      "2023-01-26 18:00:18 [INFO] \tTesting AN_2019: 99\n",
      "2023-01-26 18:00:18 [INFO] \tTesting NEUROT_2018: 268\n",
      "2023-01-26 18:00:18 [INFO] \tTesting PD_2014: 29\n",
      "2023-01-26 18:00:18 [INFO] \tTesting AD_2019: 175\n",
      "2023-01-26 18:00:18 [INFO] \tTesting Lissencephaly: 40\n",
      "2023-01-26 18:00:18 [INFO] \tTesting BD_2019: 194\n",
      "2023-01-26 18:00:18 [INFO] \tTesting DevDyslexia: 24\n",
      "2023-01-26 18:00:18 [INFO] \tTesting Heterotopia: 13\n"
     ]
    },
    {
     "name": "stderr",
     "output_type": "stream",
     "text": [
      "Using Haldane correction\n",
      "\n"
     ]
    },
    {
     "name": "stdout",
     "output_type": "stream",
     "text": [
      "2023-01-26 18:00:18 [INFO] \tTesting ADHD_2019: 26\n"
     ]
    },
    {
     "name": "stderr",
     "output_type": "stream",
     "text": [
      "Using Haldane correction\n",
      "\n"
     ]
    },
    {
     "name": "stdout",
     "output_type": "stream",
     "text": [
      "2023-01-26 18:00:18 [INFO] \tTesting DD: 90\n",
      "2023-01-26 18:00:18 [INFO] \tTesting FCDandmTOR: 64\n",
      "2023-01-26 18:00:18 [INFO] \tTesting Cobblestone: 14\n"
     ]
    },
    {
     "name": "stderr",
     "output_type": "stream",
     "text": [
      "Using Haldane correction\n",
      "\n"
     ]
    },
    {
     "name": "stdout",
     "output_type": "stream",
     "text": [
      "2023-01-26 18:00:18 [INFO] \tTesting ASD: 965\n",
      "2023-01-26 18:00:18 [INFO] Regulon core ZXDC: 720\n",
      "2023-01-26 18:00:18 [INFO] \tTesting Microcephaly: 64\n",
      "2023-01-26 18:00:18 [INFO] \tTesting Hydrocephaly: 105\n",
      "2023-01-26 18:00:18 [INFO] \tTesting RareMCD: 23\n"
     ]
    },
    {
     "name": "stderr",
     "output_type": "stream",
     "text": [
      "Using Haldane correction\n",
      "\n"
     ]
    },
    {
     "name": "stdout",
     "output_type": "stream",
     "text": [
      "2023-01-26 18:00:18 [INFO] \tTesting MDD_2018: 51\n",
      "2023-01-26 18:00:18 [INFO] \tTesting Polymicrogyria: 28\n",
      "2023-01-26 18:00:18 [INFO] \tTesting SCZ_2020: 108\n",
      "2023-01-26 18:00:18 [INFO] \tTesting AN_2019: 99\n",
      "2023-01-26 18:00:18 [INFO] \tTesting NEUROT_2018: 268\n",
      "2023-01-26 18:00:18 [INFO] \tTesting PD_2014: 29\n",
      "2023-01-26 18:00:18 [INFO] \tTesting AD_2019: 175\n",
      "2023-01-26 18:00:18 [INFO] \tTesting Lissencephaly: 40\n",
      "2023-01-26 18:00:18 [INFO] \tTesting BD_2019: 194\n",
      "2023-01-26 18:00:18 [INFO] \tTesting DevDyslexia: 24\n",
      "2023-01-26 18:00:18 [INFO] \tTesting Heterotopia: 13\n"
     ]
    },
    {
     "name": "stderr",
     "output_type": "stream",
     "text": [
      "Using Haldane correction\n",
      "\n"
     ]
    },
    {
     "name": "stdout",
     "output_type": "stream",
     "text": [
      "2023-01-26 18:00:18 [INFO] \tTesting ADHD_2019: 26\n"
     ]
    },
    {
     "name": "stderr",
     "output_type": "stream",
     "text": [
      "Using Haldane correction\n",
      "\n"
     ]
    },
    {
     "name": "stdout",
     "output_type": "stream",
     "text": [
      "2023-01-26 18:00:18 [INFO] \tTesting DD: 90\n",
      "2023-01-26 18:00:18 [INFO] \tTesting FCDandmTOR: 64\n",
      "2023-01-26 18:00:18 [INFO] \tTesting Cobblestone: 14\n"
     ]
    },
    {
     "name": "stderr",
     "output_type": "stream",
     "text": [
      "Using Haldane correction\n",
      "\n"
     ]
    },
    {
     "name": "stdout",
     "output_type": "stream",
     "text": [
      "2023-01-26 18:00:18 [INFO] \tTesting ASD: 965\n",
      "2023-01-26 18:00:18 [INFO] P4.FGF10: 523\n",
      "2023-01-26 18:00:18 [INFO] Regulon core PLAG1: 165\n",
      "2023-01-26 18:00:18 [INFO] \tTesting Microcephaly: 64\n",
      "2023-01-26 18:00:18 [INFO] \tTesting Hydrocephaly: 105\n"
     ]
    },
    {
     "name": "stderr",
     "output_type": "stream",
     "text": [
      "Using Haldane correction\n",
      "\n"
     ]
    },
    {
     "name": "stdout",
     "output_type": "stream",
     "text": [
      "2023-01-26 18:00:18 [INFO] \tTesting RareMCD: 23\n"
     ]
    },
    {
     "name": "stderr",
     "output_type": "stream",
     "text": [
      "Using Haldane correction\n",
      "\n"
     ]
    },
    {
     "name": "stdout",
     "output_type": "stream",
     "text": [
      "2023-01-26 18:00:18 [INFO] \tTesting MDD_2018: 51\n"
     ]
    },
    {
     "name": "stderr",
     "output_type": "stream",
     "text": [
      "Using Haldane correction\n",
      "\n"
     ]
    },
    {
     "name": "stdout",
     "output_type": "stream",
     "text": [
      "2023-01-26 18:00:18 [INFO] \tTesting Polymicrogyria: 28\n"
     ]
    },
    {
     "name": "stderr",
     "output_type": "stream",
     "text": [
      "Using Haldane correction\n",
      "\n"
     ]
    },
    {
     "name": "stdout",
     "output_type": "stream",
     "text": [
      "2023-01-26 18:00:18 [INFO] \tTesting SCZ_2020: 108\n",
      "2023-01-26 18:00:18 [INFO] \tTesting AN_2019: 99\n"
     ]
    },
    {
     "name": "stderr",
     "output_type": "stream",
     "text": [
      "Using Haldane correction\n",
      "\n"
     ]
    },
    {
     "name": "stdout",
     "output_type": "stream",
     "text": [
      "2023-01-26 18:00:18 [INFO] \tTesting NEUROT_2018: 268\n",
      "2023-01-26 18:00:18 [INFO] \tTesting PD_2014: 29\n"
     ]
    },
    {
     "name": "stderr",
     "output_type": "stream",
     "text": [
      "Using Haldane correction\n",
      "\n"
     ]
    },
    {
     "name": "stdout",
     "output_type": "stream",
     "text": [
      "2023-01-26 18:00:18 [INFO] \tTesting AD_2019: 175\n"
     ]
    },
    {
     "name": "stderr",
     "output_type": "stream",
     "text": [
      "Using Haldane correction\n",
      "\n"
     ]
    },
    {
     "name": "stdout",
     "output_type": "stream",
     "text": [
      "2023-01-26 18:00:18 [INFO] \tTesting Lissencephaly: 40\n"
     ]
    },
    {
     "name": "stderr",
     "output_type": "stream",
     "text": [
      "Using Haldane correction\n",
      "\n"
     ]
    },
    {
     "name": "stdout",
     "output_type": "stream",
     "text": [
      "2023-01-26 18:00:18 [INFO] \tTesting BD_2019: 194\n",
      "2023-01-26 18:00:18 [INFO] \tTesting DevDyslexia: 24\n"
     ]
    },
    {
     "name": "stderr",
     "output_type": "stream",
     "text": [
      "Using Haldane correction\n",
      "\n"
     ]
    },
    {
     "name": "stdout",
     "output_type": "stream",
     "text": [
      "2023-01-26 18:00:18 [INFO] \tTesting Heterotopia: 13\n"
     ]
    },
    {
     "name": "stderr",
     "output_type": "stream",
     "text": [
      "Using Haldane correction\n",
      "\n"
     ]
    },
    {
     "name": "stdout",
     "output_type": "stream",
     "text": [
      "2023-01-26 18:00:18 [INFO] \tTesting ADHD_2019: 26\n"
     ]
    },
    {
     "name": "stderr",
     "output_type": "stream",
     "text": [
      "Using Haldane correction\n",
      "\n"
     ]
    },
    {
     "name": "stdout",
     "output_type": "stream",
     "text": [
      "2023-01-26 18:00:18 [INFO] \tTesting DD: 90\n"
     ]
    },
    {
     "name": "stderr",
     "output_type": "stream",
     "text": [
      "Using Haldane correction\n",
      "\n"
     ]
    },
    {
     "name": "stdout",
     "output_type": "stream",
     "text": [
      "2023-01-26 18:00:18 [INFO] \tTesting FCDandmTOR: 64\n",
      "2023-01-26 18:00:18 [INFO] \tTesting Cobblestone: 14\n"
     ]
    },
    {
     "name": "stderr",
     "output_type": "stream",
     "text": [
      "Using Haldane correction\n",
      "\n"
     ]
    },
    {
     "name": "stdout",
     "output_type": "stream",
     "text": [
      "2023-01-26 18:00:18 [INFO] \tTesting ASD: 965\n",
      "2023-01-26 18:00:18 [INFO] P6.FGF0.1: 592\n",
      "2023-01-26 18:00:18 [INFO] Regulon core MEIS1: 72\n",
      "2023-01-26 18:00:18 [INFO] \tTesting Microcephaly: 64\n",
      "2023-01-26 18:00:18 [INFO] \tTesting Hydrocephaly: 105\n"
     ]
    },
    {
     "name": "stderr",
     "output_type": "stream",
     "text": [
      "Using Haldane correction\n",
      "\n"
     ]
    },
    {
     "name": "stdout",
     "output_type": "stream",
     "text": [
      "2023-01-26 18:00:18 [INFO] \tTesting RareMCD: 23\n"
     ]
    },
    {
     "name": "stderr",
     "output_type": "stream",
     "text": [
      "Using Haldane correction\n",
      "\n"
     ]
    },
    {
     "name": "stdout",
     "output_type": "stream",
     "text": [
      "2023-01-26 18:00:18 [INFO] \tTesting MDD_2018: 51\n"
     ]
    },
    {
     "name": "stderr",
     "output_type": "stream",
     "text": [
      "Using Haldane correction\n",
      "\n"
     ]
    },
    {
     "name": "stdout",
     "output_type": "stream",
     "text": [
      "2023-01-26 18:00:18 [INFO] \tTesting Polymicrogyria: 28\n",
      "2023-01-26 18:00:18 [INFO] \tTesting SCZ_2020: 108\n"
     ]
    },
    {
     "name": "stderr",
     "output_type": "stream",
     "text": [
      "Using Haldane correction\n",
      "\n"
     ]
    },
    {
     "name": "stdout",
     "output_type": "stream",
     "text": [
      "2023-01-26 18:00:18 [INFO] \tTesting AN_2019: 99\n",
      "2023-01-26 18:00:18 [INFO] \tTesting NEUROT_2018: 268\n",
      "2023-01-26 18:00:18 [INFO] \tTesting PD_2014: 29\n"
     ]
    },
    {
     "name": "stderr",
     "output_type": "stream",
     "text": [
      "Using Haldane correction\n",
      "\n"
     ]
    },
    {
     "name": "stdout",
     "output_type": "stream",
     "text": [
      "2023-01-26 18:00:18 [INFO] \tTesting AD_2019: 175\n"
     ]
    },
    {
     "name": "stderr",
     "output_type": "stream",
     "text": [
      "Using Haldane correction\n",
      "\n"
     ]
    },
    {
     "name": "stdout",
     "output_type": "stream",
     "text": [
      "2023-01-26 18:00:18 [INFO] \tTesting Lissencephaly: 40\n",
      "2023-01-26 18:00:18 [INFO] \tTesting BD_2019: 194\n"
     ]
    },
    {
     "name": "stderr",
     "output_type": "stream",
     "text": [
      "Using Haldane correction\n",
      "\n"
     ]
    },
    {
     "name": "stdout",
     "output_type": "stream",
     "text": [
      "2023-01-26 18:00:18 [INFO] \tTesting DevDyslexia: 24\n"
     ]
    },
    {
     "name": "stderr",
     "output_type": "stream",
     "text": [
      "Using Haldane correction\n",
      "\n"
     ]
    },
    {
     "name": "stdout",
     "output_type": "stream",
     "text": [
      "2023-01-26 18:00:18 [INFO] \tTesting Heterotopia: 13\n"
     ]
    },
    {
     "name": "stderr",
     "output_type": "stream",
     "text": [
      "Using Haldane correction\n",
      "\n"
     ]
    },
    {
     "name": "stdout",
     "output_type": "stream",
     "text": [
      "2023-01-26 18:00:18 [INFO] \tTesting ADHD_2019: 26\n",
      "2023-01-26 18:00:18 [INFO] \tTesting DD: 90\n"
     ]
    },
    {
     "name": "stderr",
     "output_type": "stream",
     "text": [
      "Using Haldane correction\n",
      "\n"
     ]
    },
    {
     "name": "stdout",
     "output_type": "stream",
     "text": [
      "2023-01-26 18:00:18 [INFO] \tTesting FCDandmTOR: 64\n"
     ]
    },
    {
     "name": "stderr",
     "output_type": "stream",
     "text": [
      "Using Haldane correction\n",
      "\n"
     ]
    },
    {
     "name": "stdout",
     "output_type": "stream",
     "text": [
      "2023-01-26 18:00:18 [INFO] \tTesting Cobblestone: 14\n"
     ]
    },
    {
     "name": "stderr",
     "output_type": "stream",
     "text": [
      "Using Haldane correction\n",
      "\n"
     ]
    },
    {
     "name": "stdout",
     "output_type": "stream",
     "text": [
      "2023-01-26 18:00:18 [INFO] \tTesting ASD: 965\n",
      "2023-01-26 18:00:18 [INFO] Regulon core SOX4: 41\n",
      "2023-01-26 18:00:18 [INFO] \tTesting Microcephaly: 64\n"
     ]
    },
    {
     "name": "stderr",
     "output_type": "stream",
     "text": [
      "Using Haldane correction\n",
      "\n"
     ]
    },
    {
     "name": "stdout",
     "output_type": "stream",
     "text": [
      "2023-01-26 18:00:18 [INFO] \tTesting Hydrocephaly: 105\n",
      "2023-01-26 18:00:18 [INFO] \tTesting RareMCD: 23\n"
     ]
    },
    {
     "name": "stderr",
     "output_type": "stream",
     "text": [
      "Using Haldane correction\n",
      "\n"
     ]
    },
    {
     "name": "stdout",
     "output_type": "stream",
     "text": [
      "2023-01-26 18:00:18 [INFO] \tTesting MDD_2018: 51\n"
     ]
    },
    {
     "name": "stderr",
     "output_type": "stream",
     "text": [
      "Using Haldane correction\n",
      "\n"
     ]
    },
    {
     "name": "stdout",
     "output_type": "stream",
     "text": [
      "2023-01-26 18:00:18 [INFO] \tTesting Polymicrogyria: 28\n",
      "2023-01-26 18:00:18 [INFO] \tTesting SCZ_2020: 108\n"
     ]
    },
    {
     "name": "stderr",
     "output_type": "stream",
     "text": [
      "Using Haldane correction\n",
      "\n"
     ]
    },
    {
     "name": "stdout",
     "output_type": "stream",
     "text": [
      "2023-01-26 18:00:18 [INFO] \tTesting AN_2019: 99\n"
     ]
    },
    {
     "name": "stderr",
     "output_type": "stream",
     "text": [
      "Using Haldane correction\n",
      "\n"
     ]
    },
    {
     "name": "stdout",
     "output_type": "stream",
     "text": [
      "2023-01-26 18:00:18 [INFO] \tTesting NEUROT_2018: 268\n",
      "2023-01-26 18:00:18 [INFO] \tTesting PD_2014: 29\n",
      "2023-01-26 18:00:18 [INFO] \tTesting AD_2019: 175\n"
     ]
    },
    {
     "name": "stderr",
     "output_type": "stream",
     "text": [
      "Using Haldane correction\n",
      "\n"
     ]
    },
    {
     "name": "stdout",
     "output_type": "stream",
     "text": [
      "2023-01-26 18:00:18 [INFO] \tTesting Lissencephaly: 40\n",
      "2023-01-26 18:00:18 [INFO] \tTesting BD_2019: 194\n"
     ]
    },
    {
     "name": "stderr",
     "output_type": "stream",
     "text": [
      "Using Haldane correction\n",
      "\n"
     ]
    },
    {
     "name": "stdout",
     "output_type": "stream",
     "text": [
      "2023-01-26 18:00:18 [INFO] \tTesting DevDyslexia: 24\n"
     ]
    },
    {
     "name": "stderr",
     "output_type": "stream",
     "text": [
      "Using Haldane correction\n",
      "\n"
     ]
    },
    {
     "name": "stdout",
     "output_type": "stream",
     "text": [
      "2023-01-26 18:00:18 [INFO] \tTesting Heterotopia: 13\n"
     ]
    },
    {
     "name": "stderr",
     "output_type": "stream",
     "text": [
      "Using Haldane correction\n",
      "\n"
     ]
    },
    {
     "name": "stdout",
     "output_type": "stream",
     "text": [
      "2023-01-26 18:00:18 [INFO] \tTesting ADHD_2019: 26\n"
     ]
    },
    {
     "name": "stderr",
     "output_type": "stream",
     "text": [
      "Using Haldane correction\n",
      "\n"
     ]
    },
    {
     "name": "stdout",
     "output_type": "stream",
     "text": [
      "2023-01-26 18:00:18 [INFO] \tTesting DD: 90\n"
     ]
    },
    {
     "name": "stderr",
     "output_type": "stream",
     "text": [
      "Using Haldane correction\n",
      "\n"
     ]
    },
    {
     "name": "stdout",
     "output_type": "stream",
     "text": [
      "2023-01-26 18:00:18 [INFO] \tTesting FCDandmTOR: 64\n"
     ]
    },
    {
     "name": "stderr",
     "output_type": "stream",
     "text": [
      "Using Haldane correction\n",
      "\n"
     ]
    },
    {
     "name": "stdout",
     "output_type": "stream",
     "text": [
      "2023-01-26 18:00:18 [INFO] \tTesting Cobblestone: 14\n"
     ]
    },
    {
     "name": "stderr",
     "output_type": "stream",
     "text": [
      "Using Haldane correction\n",
      "\n"
     ]
    },
    {
     "name": "stdout",
     "output_type": "stream",
     "text": [
      "2023-01-26 18:00:18 [INFO] \tTesting ASD: 965\n",
      "2023-01-26 18:00:18 [INFO] P6.FGF10: 803\n",
      "2023-01-26 18:00:18 [INFO] Regulon core GMEB1: 55\n",
      "2023-01-26 18:00:18 [INFO] \tTesting Microcephaly: 64\n"
     ]
    },
    {
     "name": "stderr",
     "output_type": "stream",
     "text": [
      "Using Haldane correction\n",
      "\n"
     ]
    },
    {
     "name": "stdout",
     "output_type": "stream",
     "text": [
      "2023-01-26 18:00:18 [INFO] \tTesting Hydrocephaly: 105\n"
     ]
    },
    {
     "name": "stderr",
     "output_type": "stream",
     "text": [
      "Using Haldane correction\n",
      "\n"
     ]
    },
    {
     "name": "stdout",
     "output_type": "stream",
     "text": [
      "2023-01-26 18:00:18 [INFO] \tTesting RareMCD: 23\n"
     ]
    },
    {
     "name": "stderr",
     "output_type": "stream",
     "text": [
      "Using Haldane correction\n",
      "\n"
     ]
    },
    {
     "name": "stdout",
     "output_type": "stream",
     "text": [
      "2023-01-26 18:00:18 [INFO] \tTesting MDD_2018: 51\n"
     ]
    },
    {
     "name": "stderr",
     "output_type": "stream",
     "text": [
      "Using Haldane correction\n",
      "\n"
     ]
    },
    {
     "name": "stdout",
     "output_type": "stream",
     "text": [
      "2023-01-26 18:00:18 [INFO] \tTesting Polymicrogyria: 28\n"
     ]
    },
    {
     "name": "stderr",
     "output_type": "stream",
     "text": [
      "Using Haldane correction\n",
      "\n"
     ]
    },
    {
     "name": "stdout",
     "output_type": "stream",
     "text": [
      "2023-01-26 18:00:18 [INFO] \tTesting SCZ_2020: 108\n"
     ]
    },
    {
     "name": "stderr",
     "output_type": "stream",
     "text": [
      "Using Haldane correction\n",
      "\n"
     ]
    },
    {
     "name": "stdout",
     "output_type": "stream",
     "text": [
      "2023-01-26 18:00:18 [INFO] \tTesting AN_2019: 99\n"
     ]
    },
    {
     "name": "stderr",
     "output_type": "stream",
     "text": [
      "Using Haldane correction\n",
      "\n"
     ]
    },
    {
     "name": "stdout",
     "output_type": "stream",
     "text": [
      "2023-01-26 18:00:18 [INFO] \tTesting NEUROT_2018: 268\n",
      "2023-01-26 18:00:18 [INFO] \tTesting PD_2014: 29\n"
     ]
    },
    {
     "name": "stderr",
     "output_type": "stream",
     "text": [
      "Using Haldane correction\n",
      "\n"
     ]
    },
    {
     "name": "stdout",
     "output_type": "stream",
     "text": [
      "2023-01-26 18:00:18 [INFO] \tTesting AD_2019: 175\n",
      "2023-01-26 18:00:18 [INFO] \tTesting Lissencephaly: 40\n",
      "2023-01-26 18:00:18 [INFO] \tTesting BD_2019: 194\n"
     ]
    },
    {
     "name": "stderr",
     "output_type": "stream",
     "text": [
      "Using Haldane correction\n",
      "\n"
     ]
    },
    {
     "name": "stdout",
     "output_type": "stream",
     "text": [
      "2023-01-26 18:00:18 [INFO] \tTesting DevDyslexia: 24\n"
     ]
    },
    {
     "name": "stderr",
     "output_type": "stream",
     "text": [
      "Using Haldane correction\n",
      "\n"
     ]
    },
    {
     "name": "stdout",
     "output_type": "stream",
     "text": [
      "2023-01-26 18:00:18 [INFO] \tTesting Heterotopia: 13\n"
     ]
    },
    {
     "name": "stderr",
     "output_type": "stream",
     "text": [
      "Using Haldane correction\n",
      "\n"
     ]
    },
    {
     "name": "stdout",
     "output_type": "stream",
     "text": [
      "2023-01-26 18:00:18 [INFO] \tTesting ADHD_2019: 26\n"
     ]
    },
    {
     "name": "stderr",
     "output_type": "stream",
     "text": [
      "Using Haldane correction\n",
      "\n"
     ]
    },
    {
     "name": "stdout",
     "output_type": "stream",
     "text": [
      "2023-01-26 18:00:18 [INFO] \tTesting DD: 90\n"
     ]
    },
    {
     "name": "stderr",
     "output_type": "stream",
     "text": [
      "Using Haldane correction\n",
      "\n"
     ]
    },
    {
     "name": "stdout",
     "output_type": "stream",
     "text": [
      "2023-01-26 18:00:18 [INFO] \tTesting FCDandmTOR: 64\n"
     ]
    },
    {
     "name": "stderr",
     "output_type": "stream",
     "text": [
      "Using Haldane correction\n",
      "\n"
     ]
    },
    {
     "name": "stdout",
     "output_type": "stream",
     "text": [
      "2023-01-26 18:00:18 [INFO] \tTesting Cobblestone: 14\n"
     ]
    },
    {
     "name": "stderr",
     "output_type": "stream",
     "text": [
      "Using Haldane correction\n",
      "\n"
     ]
    },
    {
     "name": "stdout",
     "output_type": "stream",
     "text": [
      "2023-01-26 18:00:18 [INFO] \tTesting ASD: 965\n",
      "2023-01-26 18:00:18 [INFO] P6.FGF20: 344\n",
      "2023-01-26 18:00:18 [INFO] Regulon core NR1H4: 18\n",
      "2023-01-26 18:00:18 [INFO] \tTesting Microcephaly: 64\n"
     ]
    },
    {
     "name": "stderr",
     "output_type": "stream",
     "text": [
      "Using Haldane correction\n",
      "\n"
     ]
    },
    {
     "name": "stdout",
     "output_type": "stream",
     "text": [
      "2023-01-26 18:00:18 [INFO] \tTesting Hydrocephaly: 105\n"
     ]
    },
    {
     "name": "stderr",
     "output_type": "stream",
     "text": [
      "Using Haldane correction\n",
      "\n"
     ]
    },
    {
     "name": "stdout",
     "output_type": "stream",
     "text": [
      "2023-01-26 18:00:18 [INFO] \tTesting RareMCD: 23\n"
     ]
    },
    {
     "name": "stderr",
     "output_type": "stream",
     "text": [
      "Using Haldane correction\n",
      "\n"
     ]
    },
    {
     "name": "stdout",
     "output_type": "stream",
     "text": [
      "2023-01-26 18:00:18 [INFO] \tTesting MDD_2018: 51\n"
     ]
    },
    {
     "name": "stderr",
     "output_type": "stream",
     "text": [
      "Using Haldane correction\n",
      "\n"
     ]
    },
    {
     "name": "stdout",
     "output_type": "stream",
     "text": [
      "2023-01-26 18:00:18 [INFO] \tTesting Polymicrogyria: 28\n"
     ]
    },
    {
     "name": "stderr",
     "output_type": "stream",
     "text": [
      "Using Haldane correction\n",
      "\n"
     ]
    },
    {
     "name": "stdout",
     "output_type": "stream",
     "text": [
      "2023-01-26 18:00:18 [INFO] \tTesting SCZ_2020: 108\n"
     ]
    },
    {
     "name": "stderr",
     "output_type": "stream",
     "text": [
      "Using Haldane correction\n",
      "\n"
     ]
    },
    {
     "name": "stdout",
     "output_type": "stream",
     "text": [
      "2023-01-26 18:00:19 [INFO] \tTesting AN_2019: 99\n"
     ]
    },
    {
     "name": "stderr",
     "output_type": "stream",
     "text": [
      "Using Haldane correction\n",
      "\n"
     ]
    },
    {
     "name": "stdout",
     "output_type": "stream",
     "text": [
      "2023-01-26 18:00:19 [INFO] \tTesting NEUROT_2018: 268\n"
     ]
    },
    {
     "name": "stderr",
     "output_type": "stream",
     "text": [
      "Using Haldane correction\n",
      "\n"
     ]
    },
    {
     "name": "stdout",
     "output_type": "stream",
     "text": [
      "2023-01-26 18:00:19 [INFO] \tTesting PD_2014: 29\n"
     ]
    },
    {
     "name": "stderr",
     "output_type": "stream",
     "text": [
      "Using Haldane correction\n",
      "\n"
     ]
    },
    {
     "name": "stdout",
     "output_type": "stream",
     "text": [
      "2023-01-26 18:00:19 [INFO] \tTesting AD_2019: 175\n"
     ]
    },
    {
     "name": "stderr",
     "output_type": "stream",
     "text": [
      "Using Haldane correction\n",
      "\n"
     ]
    },
    {
     "name": "stdout",
     "output_type": "stream",
     "text": [
      "2023-01-26 18:00:19 [INFO] \tTesting Lissencephaly: 40\n"
     ]
    },
    {
     "name": "stderr",
     "output_type": "stream",
     "text": [
      "Using Haldane correction\n",
      "\n"
     ]
    },
    {
     "name": "stdout",
     "output_type": "stream",
     "text": [
      "2023-01-26 18:00:19 [INFO] \tTesting BD_2019: 194\n"
     ]
    },
    {
     "name": "stderr",
     "output_type": "stream",
     "text": [
      "Using Haldane correction\n",
      "\n"
     ]
    },
    {
     "name": "stdout",
     "output_type": "stream",
     "text": [
      "2023-01-26 18:00:19 [INFO] \tTesting DevDyslexia: 24\n"
     ]
    },
    {
     "name": "stderr",
     "output_type": "stream",
     "text": [
      "Using Haldane correction\n",
      "\n"
     ]
    },
    {
     "name": "stdout",
     "output_type": "stream",
     "text": [
      "2023-01-26 18:00:19 [INFO] \tTesting Heterotopia: 13\n"
     ]
    },
    {
     "name": "stderr",
     "output_type": "stream",
     "text": [
      "Using Haldane correction\n",
      "\n"
     ]
    },
    {
     "name": "stdout",
     "output_type": "stream",
     "text": [
      "2023-01-26 18:00:19 [INFO] \tTesting ADHD_2019: 26\n"
     ]
    },
    {
     "name": "stderr",
     "output_type": "stream",
     "text": [
      "Using Haldane correction\n",
      "\n"
     ]
    },
    {
     "name": "stdout",
     "output_type": "stream",
     "text": [
      "2023-01-26 18:00:19 [INFO] \tTesting DD: 90\n"
     ]
    },
    {
     "name": "stderr",
     "output_type": "stream",
     "text": [
      "Using Haldane correction\n",
      "\n"
     ]
    },
    {
     "name": "stdout",
     "output_type": "stream",
     "text": [
      "2023-01-26 18:00:19 [INFO] \tTesting FCDandmTOR: 64\n"
     ]
    },
    {
     "name": "stderr",
     "output_type": "stream",
     "text": [
      "Using Haldane correction\n",
      "\n"
     ]
    },
    {
     "name": "stdout",
     "output_type": "stream",
     "text": [
      "2023-01-26 18:00:19 [INFO] \tTesting Cobblestone: 14\n"
     ]
    },
    {
     "name": "stderr",
     "output_type": "stream",
     "text": [
      "Using Haldane correction\n",
      "\n"
     ]
    },
    {
     "name": "stdout",
     "output_type": "stream",
     "text": [
      "2023-01-26 18:00:19 [INFO] \tTesting ASD: 965\n",
      "2023-01-26 18:00:19 [INFO] P8.FGF0.1: 1260\n",
      "2023-01-26 18:00:19 [INFO] Regulon core PURA: 197\n",
      "2023-01-26 18:00:19 [INFO] \tTesting Microcephaly: 64\n"
     ]
    },
    {
     "name": "stderr",
     "output_type": "stream",
     "text": [
      "Using Haldane correction\n",
      "\n"
     ]
    },
    {
     "name": "stdout",
     "output_type": "stream",
     "text": [
      "2023-01-26 18:00:19 [INFO] \tTesting Hydrocephaly: 105\n",
      "2023-01-26 18:00:19 [INFO] \tTesting RareMCD: 23\n"
     ]
    },
    {
     "name": "stderr",
     "output_type": "stream",
     "text": [
      "Using Haldane correction\n",
      "\n"
     ]
    },
    {
     "name": "stdout",
     "output_type": "stream",
     "text": [
      "2023-01-26 18:00:19 [INFO] \tTesting MDD_2018: 51\n"
     ]
    },
    {
     "name": "stderr",
     "output_type": "stream",
     "text": [
      "Using Haldane correction\n",
      "\n"
     ]
    },
    {
     "name": "stdout",
     "output_type": "stream",
     "text": [
      "2023-01-26 18:00:19 [INFO] \tTesting Polymicrogyria: 28\n"
     ]
    },
    {
     "name": "stderr",
     "output_type": "stream",
     "text": [
      "Using Haldane correction\n",
      "\n"
     ]
    },
    {
     "name": "stdout",
     "output_type": "stream",
     "text": [
      "2023-01-26 18:00:19 [INFO] \tTesting SCZ_2020: 108\n"
     ]
    },
    {
     "name": "stderr",
     "output_type": "stream",
     "text": [
      "Using Haldane correction\n",
      "\n"
     ]
    },
    {
     "name": "stdout",
     "output_type": "stream",
     "text": [
      "2023-01-26 18:00:19 [INFO] \tTesting AN_2019: 99\n"
     ]
    },
    {
     "name": "stderr",
     "output_type": "stream",
     "text": [
      "Using Haldane correction\n",
      "\n"
     ]
    },
    {
     "name": "stdout",
     "output_type": "stream",
     "text": [
      "2023-01-26 18:00:19 [INFO] \tTesting NEUROT_2018: 268\n",
      "2023-01-26 18:00:19 [INFO] \tTesting PD_2014: 29\n"
     ]
    },
    {
     "name": "stderr",
     "output_type": "stream",
     "text": [
      "Using Haldane correction\n",
      "\n"
     ]
    },
    {
     "name": "stdout",
     "output_type": "stream",
     "text": [
      "2023-01-26 18:00:19 [INFO] \tTesting AD_2019: 175\n",
      "2023-01-26 18:00:19 [INFO] \tTesting Lissencephaly: 40\n"
     ]
    },
    {
     "name": "stderr",
     "output_type": "stream",
     "text": [
      "Using Haldane correction\n",
      "\n"
     ]
    },
    {
     "name": "stdout",
     "output_type": "stream",
     "text": [
      "2023-01-26 18:00:19 [INFO] \tTesting BD_2019: 194\n"
     ]
    },
    {
     "name": "stderr",
     "output_type": "stream",
     "text": [
      "Using Haldane correction\n",
      "\n"
     ]
    },
    {
     "name": "stdout",
     "output_type": "stream",
     "text": [
      "2023-01-26 18:00:19 [INFO] \tTesting DevDyslexia: 24\n",
      "2023-01-26 18:00:19 [INFO] \tTesting Heterotopia: 13\n"
     ]
    },
    {
     "name": "stderr",
     "output_type": "stream",
     "text": [
      "Using Haldane correction\n",
      "\n"
     ]
    },
    {
     "name": "stdout",
     "output_type": "stream",
     "text": [
      "2023-01-26 18:00:19 [INFO] \tTesting ADHD_2019: 26\n"
     ]
    },
    {
     "name": "stderr",
     "output_type": "stream",
     "text": [
      "Using Haldane correction\n",
      "\n"
     ]
    },
    {
     "name": "stdout",
     "output_type": "stream",
     "text": [
      "2023-01-26 18:00:19 [INFO] \tTesting DD: 90\n",
      "2023-01-26 18:00:19 [INFO] \tTesting FCDandmTOR: 64\n"
     ]
    },
    {
     "name": "stderr",
     "output_type": "stream",
     "text": [
      "Using Haldane correction\n",
      "\n"
     ]
    },
    {
     "name": "stdout",
     "output_type": "stream",
     "text": [
      "2023-01-26 18:00:19 [INFO] \tTesting Cobblestone: 14\n"
     ]
    },
    {
     "name": "stderr",
     "output_type": "stream",
     "text": [
      "Using Haldane correction\n",
      "\n"
     ]
    },
    {
     "name": "stdout",
     "output_type": "stream",
     "text": [
      "2023-01-26 18:00:19 [INFO] \tTesting ASD: 965\n",
      "2023-01-26 18:00:19 [INFO] P8.FGF1: 934\n",
      "2023-01-26 18:00:19 [INFO] Regulon core CEBPD: 62\n",
      "2023-01-26 18:00:19 [INFO] \tTesting Microcephaly: 64\n"
     ]
    },
    {
     "name": "stderr",
     "output_type": "stream",
     "text": [
      "Using Haldane correction\n",
      "\n"
     ]
    },
    {
     "name": "stdout",
     "output_type": "stream",
     "text": [
      "2023-01-26 18:00:19 [INFO] \tTesting Hydrocephaly: 105\n"
     ]
    },
    {
     "name": "stderr",
     "output_type": "stream",
     "text": [
      "Using Haldane correction\n",
      "\n"
     ]
    },
    {
     "name": "stdout",
     "output_type": "stream",
     "text": [
      "2023-01-26 18:00:19 [INFO] \tTesting RareMCD: 23\n",
      "2023-01-26 18:00:19 [INFO] \tTesting MDD_2018: 51\n"
     ]
    },
    {
     "name": "stderr",
     "output_type": "stream",
     "text": [
      "Using Haldane correction\n",
      "\n"
     ]
    },
    {
     "name": "stdout",
     "output_type": "stream",
     "text": [
      "2023-01-26 18:00:19 [INFO] \tTesting Polymicrogyria: 28\n"
     ]
    },
    {
     "name": "stderr",
     "output_type": "stream",
     "text": [
      "Using Haldane correction\n",
      "\n"
     ]
    },
    {
     "name": "stdout",
     "output_type": "stream",
     "text": [
      "2023-01-26 18:00:19 [INFO] \tTesting SCZ_2020: 108\n",
      "2023-01-26 18:00:19 [INFO] \tTesting AN_2019: 99\n",
      "2023-01-26 18:00:19 [INFO] \tTesting NEUROT_2018: 268\n"
     ]
    },
    {
     "name": "stderr",
     "output_type": "stream",
     "text": [
      "Using Haldane correction\n",
      "\n"
     ]
    },
    {
     "name": "stdout",
     "output_type": "stream",
     "text": [
      "2023-01-26 18:00:19 [INFO] \tTesting PD_2014: 29\n"
     ]
    },
    {
     "name": "stderr",
     "output_type": "stream",
     "text": [
      "Using Haldane correction\n",
      "\n"
     ]
    },
    {
     "name": "stdout",
     "output_type": "stream",
     "text": [
      "2023-01-26 18:00:19 [INFO] \tTesting AD_2019: 175\n",
      "2023-01-26 18:00:19 [INFO] \tTesting Lissencephaly: 40\n"
     ]
    },
    {
     "name": "stderr",
     "output_type": "stream",
     "text": [
      "Using Haldane correction\n",
      "\n"
     ]
    },
    {
     "name": "stdout",
     "output_type": "stream",
     "text": [
      "2023-01-26 18:00:19 [INFO] \tTesting BD_2019: 194\n"
     ]
    },
    {
     "name": "stderr",
     "output_type": "stream",
     "text": [
      "Using Haldane correction\n",
      "\n"
     ]
    },
    {
     "name": "stdout",
     "output_type": "stream",
     "text": [
      "2023-01-26 18:00:19 [INFO] \tTesting DevDyslexia: 24\n",
      "2023-01-26 18:00:19 [INFO] \tTesting Heterotopia: 13\n",
      "2023-01-26 18:00:19 [INFO] \tTesting ADHD_2019: 26\n"
     ]
    },
    {
     "name": "stderr",
     "output_type": "stream",
     "text": [
      "Using Haldane correction\n",
      "\n"
     ]
    },
    {
     "name": "stdout",
     "output_type": "stream",
     "text": [
      "2023-01-26 18:00:19 [INFO] \tTesting DD: 90\n",
      "2023-01-26 18:00:19 [INFO] \tTesting FCDandmTOR: 64\n"
     ]
    },
    {
     "name": "stderr",
     "output_type": "stream",
     "text": [
      "Using Haldane correction\n",
      "\n"
     ]
    },
    {
     "name": "stdout",
     "output_type": "stream",
     "text": [
      "2023-01-26 18:00:19 [INFO] \tTesting Cobblestone: 14\n"
     ]
    },
    {
     "name": "stderr",
     "output_type": "stream",
     "text": [
      "Using Haldane correction\n",
      "\n"
     ]
    },
    {
     "name": "stdout",
     "output_type": "stream",
     "text": [
      "2023-01-26 18:00:19 [INFO] \tTesting ASD: 965\n",
      "2023-01-26 18:00:19 [INFO] Regulon core PITX3: 130\n",
      "2023-01-26 18:00:19 [INFO] \tTesting Microcephaly: 64\n"
     ]
    },
    {
     "name": "stderr",
     "output_type": "stream",
     "text": [
      "Using Haldane correction\n",
      "\n"
     ]
    },
    {
     "name": "stdout",
     "output_type": "stream",
     "text": [
      "2023-01-26 18:00:19 [INFO] \tTesting Hydrocephaly: 105\n"
     ]
    },
    {
     "name": "stderr",
     "output_type": "stream",
     "text": [
      "Using Haldane correction\n",
      "\n"
     ]
    },
    {
     "name": "stdout",
     "output_type": "stream",
     "text": [
      "2023-01-26 18:00:19 [INFO] \tTesting RareMCD: 23\n"
     ]
    },
    {
     "name": "stderr",
     "output_type": "stream",
     "text": [
      "Using Haldane correction\n",
      "\n"
     ]
    },
    {
     "name": "stdout",
     "output_type": "stream",
     "text": [
      "2023-01-26 18:00:19 [INFO] \tTesting MDD_2018: 51\n"
     ]
    },
    {
     "name": "stderr",
     "output_type": "stream",
     "text": [
      "Using Haldane correction\n",
      "\n"
     ]
    },
    {
     "name": "stdout",
     "output_type": "stream",
     "text": [
      "2023-01-26 18:00:19 [INFO] \tTesting Polymicrogyria: 28\n"
     ]
    },
    {
     "name": "stderr",
     "output_type": "stream",
     "text": [
      "Using Haldane correction\n",
      "\n"
     ]
    },
    {
     "name": "stdout",
     "output_type": "stream",
     "text": [
      "2023-01-26 18:00:19 [INFO] \tTesting SCZ_2020: 108\n",
      "2023-01-26 18:00:19 [INFO] \tTesting AN_2019: 99\n",
      "2023-01-26 18:00:19 [INFO] \tTesting NEUROT_2018: 268\n",
      "2023-01-26 18:00:19 [INFO] \tTesting PD_2014: 29\n",
      "2023-01-26 18:00:19 [INFO] \tTesting AD_2019: 175\n"
     ]
    },
    {
     "name": "stderr",
     "output_type": "stream",
     "text": [
      "Using Haldane correction\n",
      "\n"
     ]
    },
    {
     "name": "stdout",
     "output_type": "stream",
     "text": [
      "2023-01-26 18:00:19 [INFO] \tTesting Lissencephaly: 40\n"
     ]
    },
    {
     "name": "stderr",
     "output_type": "stream",
     "text": [
      "Using Haldane correction\n",
      "\n"
     ]
    },
    {
     "name": "stdout",
     "output_type": "stream",
     "text": [
      "2023-01-26 18:00:19 [INFO] \tTesting BD_2019: 194\n",
      "2023-01-26 18:00:19 [INFO] \tTesting DevDyslexia: 24\n",
      "2023-01-26 18:00:19 [INFO] \tTesting Heterotopia: 13\n"
     ]
    },
    {
     "name": "stderr",
     "output_type": "stream",
     "text": [
      "Using Haldane correction\n",
      "\n"
     ]
    },
    {
     "name": "stdout",
     "output_type": "stream",
     "text": [
      "2023-01-26 18:00:19 [INFO] \tTesting ADHD_2019: 26\n"
     ]
    },
    {
     "name": "stderr",
     "output_type": "stream",
     "text": [
      "Using Haldane correction\n",
      "\n"
     ]
    },
    {
     "name": "stdout",
     "output_type": "stream",
     "text": [
      "2023-01-26 18:00:19 [INFO] \tTesting DD: 90\n",
      "2023-01-26 18:00:19 [INFO] \tTesting FCDandmTOR: 64\n",
      "2023-01-26 18:00:19 [INFO] \tTesting Cobblestone: 14\n"
     ]
    },
    {
     "name": "stderr",
     "output_type": "stream",
     "text": [
      "Using Haldane correction\n",
      "\n"
     ]
    },
    {
     "name": "stdout",
     "output_type": "stream",
     "text": [
      "2023-01-26 18:00:19 [INFO] \tTesting ASD: 965\n",
      "2023-01-26 18:00:19 [INFO] Regulon core VSX2: 62\n",
      "2023-01-26 18:00:19 [INFO] \tTesting Microcephaly: 64\n"
     ]
    },
    {
     "name": "stderr",
     "output_type": "stream",
     "text": [
      "Using Haldane correction\n",
      "\n"
     ]
    },
    {
     "name": "stdout",
     "output_type": "stream",
     "text": [
      "2023-01-26 18:00:19 [INFO] \tTesting Hydrocephaly: 105\n",
      "2023-01-26 18:00:19 [INFO] \tTesting RareMCD: 23\n"
     ]
    },
    {
     "name": "stderr",
     "output_type": "stream",
     "text": [
      "Using Haldane correction\n",
      "\n"
     ]
    },
    {
     "name": "stdout",
     "output_type": "stream",
     "text": [
      "2023-01-26 18:00:19 [INFO] \tTesting MDD_2018: 51\n"
     ]
    },
    {
     "name": "stderr",
     "output_type": "stream",
     "text": [
      "Using Haldane correction\n",
      "\n"
     ]
    },
    {
     "name": "stdout",
     "output_type": "stream",
     "text": [
      "2023-01-26 18:00:19 [INFO] \tTesting Polymicrogyria: 28\n"
     ]
    },
    {
     "name": "stderr",
     "output_type": "stream",
     "text": [
      "Using Haldane correction\n",
      "\n"
     ]
    },
    {
     "name": "stdout",
     "output_type": "stream",
     "text": [
      "2023-01-26 18:00:19 [INFO] \tTesting SCZ_2020: 108\n",
      "2023-01-26 18:00:19 [INFO] \tTesting AN_2019: 99\n"
     ]
    },
    {
     "name": "stderr",
     "output_type": "stream",
     "text": [
      "Using Haldane correction\n",
      "\n"
     ]
    },
    {
     "name": "stdout",
     "output_type": "stream",
     "text": [
      "2023-01-26 18:00:19 [INFO] \tTesting NEUROT_2018: 268\n",
      "2023-01-26 18:00:19 [INFO] \tTesting PD_2014: 29\n"
     ]
    },
    {
     "name": "stderr",
     "output_type": "stream",
     "text": [
      "Using Haldane correction\n",
      "\n"
     ]
    },
    {
     "name": "stdout",
     "output_type": "stream",
     "text": [
      "2023-01-26 18:00:19 [INFO] \tTesting AD_2019: 175\n"
     ]
    },
    {
     "name": "stderr",
     "output_type": "stream",
     "text": [
      "Using Haldane correction\n",
      "\n"
     ]
    },
    {
     "name": "stdout",
     "output_type": "stream",
     "text": [
      "2023-01-26 18:00:19 [INFO] \tTesting Lissencephaly: 40\n"
     ]
    },
    {
     "name": "stderr",
     "output_type": "stream",
     "text": [
      "Using Haldane correction\n",
      "\n"
     ]
    },
    {
     "name": "stdout",
     "output_type": "stream",
     "text": [
      "2023-01-26 18:00:19 [INFO] \tTesting BD_2019: 194\n"
     ]
    },
    {
     "name": "stderr",
     "output_type": "stream",
     "text": [
      "Using Haldane correction\n",
      "\n"
     ]
    },
    {
     "name": "stdout",
     "output_type": "stream",
     "text": [
      "2023-01-26 18:00:19 [INFO] \tTesting DevDyslexia: 24\n"
     ]
    },
    {
     "name": "stderr",
     "output_type": "stream",
     "text": [
      "Using Haldane correction\n",
      "\n"
     ]
    },
    {
     "name": "stdout",
     "output_type": "stream",
     "text": [
      "2023-01-26 18:00:19 [INFO] \tTesting Heterotopia: 13\n"
     ]
    },
    {
     "name": "stderr",
     "output_type": "stream",
     "text": [
      "Using Haldane correction\n",
      "\n"
     ]
    },
    {
     "name": "stdout",
     "output_type": "stream",
     "text": [
      "2023-01-26 18:00:19 [INFO] \tTesting ADHD_2019: 26\n"
     ]
    },
    {
     "name": "stderr",
     "output_type": "stream",
     "text": [
      "Using Haldane correction\n",
      "\n"
     ]
    },
    {
     "name": "stdout",
     "output_type": "stream",
     "text": [
      "2023-01-26 18:00:19 [INFO] \tTesting DD: 90\n",
      "2023-01-26 18:00:19 [INFO] \tTesting FCDandmTOR: 64\n"
     ]
    },
    {
     "name": "stderr",
     "output_type": "stream",
     "text": [
      "Using Haldane correction\n",
      "\n"
     ]
    },
    {
     "name": "stdout",
     "output_type": "stream",
     "text": [
      "2023-01-26 18:00:19 [INFO] \tTesting Cobblestone: 14\n"
     ]
    },
    {
     "name": "stderr",
     "output_type": "stream",
     "text": [
      "Using Haldane correction\n",
      "\n"
     ]
    },
    {
     "name": "stdout",
     "output_type": "stream",
     "text": [
      "2023-01-26 18:00:19 [INFO] \tTesting ASD: 965\n",
      "2023-01-26 18:00:19 [INFO] P8.FGF10: 772\n",
      "2023-01-26 18:00:19 [INFO] Regulon core PRDM9: 37\n",
      "2023-01-26 18:00:19 [INFO] \tTesting Microcephaly: 64\n"
     ]
    },
    {
     "name": "stderr",
     "output_type": "stream",
     "text": [
      "Using Haldane correction\n",
      "\n"
     ]
    },
    {
     "name": "stdout",
     "output_type": "stream",
     "text": [
      "2023-01-26 18:00:19 [INFO] \tTesting Hydrocephaly: 105\n"
     ]
    },
    {
     "name": "stderr",
     "output_type": "stream",
     "text": [
      "Using Haldane correction\n",
      "\n"
     ]
    },
    {
     "name": "stdout",
     "output_type": "stream",
     "text": [
      "2023-01-26 18:00:19 [INFO] \tTesting RareMCD: 23\n"
     ]
    },
    {
     "name": "stderr",
     "output_type": "stream",
     "text": [
      "Using Haldane correction\n",
      "\n"
     ]
    },
    {
     "name": "stdout",
     "output_type": "stream",
     "text": [
      "2023-01-26 18:00:19 [INFO] \tTesting MDD_2018: 51\n"
     ]
    },
    {
     "name": "stderr",
     "output_type": "stream",
     "text": [
      "Using Haldane correction\n",
      "\n"
     ]
    },
    {
     "name": "stdout",
     "output_type": "stream",
     "text": [
      "2023-01-26 18:00:19 [INFO] \tTesting Polymicrogyria: 28\n"
     ]
    },
    {
     "name": "stderr",
     "output_type": "stream",
     "text": [
      "Using Haldane correction\n",
      "\n"
     ]
    },
    {
     "name": "stdout",
     "output_type": "stream",
     "text": [
      "2023-01-26 18:00:19 [INFO] \tTesting SCZ_2020: 108\n"
     ]
    },
    {
     "name": "stderr",
     "output_type": "stream",
     "text": [
      "Using Haldane correction\n",
      "\n"
     ]
    },
    {
     "name": "stdout",
     "output_type": "stream",
     "text": [
      "2023-01-26 18:00:19 [INFO] \tTesting AN_2019: 99\n"
     ]
    },
    {
     "name": "stderr",
     "output_type": "stream",
     "text": [
      "Using Haldane correction\n",
      "\n"
     ]
    },
    {
     "name": "stdout",
     "output_type": "stream",
     "text": [
      "2023-01-26 18:00:19 [INFO] \tTesting NEUROT_2018: 268\n",
      "2023-01-26 18:00:19 [INFO] \tTesting PD_2014: 29\n"
     ]
    },
    {
     "name": "stderr",
     "output_type": "stream",
     "text": [
      "Using Haldane correction\n",
      "\n"
     ]
    },
    {
     "name": "stdout",
     "output_type": "stream",
     "text": [
      "2023-01-26 18:00:19 [INFO] \tTesting AD_2019: 175\n"
     ]
    },
    {
     "name": "stderr",
     "output_type": "stream",
     "text": [
      "Using Haldane correction\n",
      "\n"
     ]
    },
    {
     "name": "stdout",
     "output_type": "stream",
     "text": [
      "2023-01-26 18:00:19 [INFO] \tTesting Lissencephaly: 40\n"
     ]
    },
    {
     "name": "stderr",
     "output_type": "stream",
     "text": [
      "Using Haldane correction\n",
      "\n"
     ]
    },
    {
     "name": "stdout",
     "output_type": "stream",
     "text": [
      "2023-01-26 18:00:19 [INFO] \tTesting BD_2019: 194\n"
     ]
    },
    {
     "name": "stderr",
     "output_type": "stream",
     "text": [
      "Using Haldane correction\n",
      "\n"
     ]
    },
    {
     "name": "stdout",
     "output_type": "stream",
     "text": [
      "2023-01-26 18:00:19 [INFO] \tTesting DevDyslexia: 24\n"
     ]
    },
    {
     "name": "stderr",
     "output_type": "stream",
     "text": [
      "Using Haldane correction\n",
      "\n"
     ]
    },
    {
     "name": "stdout",
     "output_type": "stream",
     "text": [
      "2023-01-26 18:00:19 [INFO] \tTesting Heterotopia: 13\n"
     ]
    },
    {
     "name": "stderr",
     "output_type": "stream",
     "text": [
      "Using Haldane correction\n",
      "\n"
     ]
    },
    {
     "name": "stdout",
     "output_type": "stream",
     "text": [
      "2023-01-26 18:00:19 [INFO] \tTesting ADHD_2019: 26\n"
     ]
    },
    {
     "name": "stderr",
     "output_type": "stream",
     "text": [
      "Using Haldane correction\n",
      "\n"
     ]
    },
    {
     "name": "stdout",
     "output_type": "stream",
     "text": [
      "2023-01-26 18:00:19 [INFO] \tTesting DD: 90\n"
     ]
    },
    {
     "name": "stderr",
     "output_type": "stream",
     "text": [
      "Using Haldane correction\n",
      "\n"
     ]
    },
    {
     "name": "stdout",
     "output_type": "stream",
     "text": [
      "2023-01-26 18:00:19 [INFO] \tTesting FCDandmTOR: 64\n",
      "2023-01-26 18:00:19 [INFO] \tTesting Cobblestone: 14\n"
     ]
    },
    {
     "name": "stderr",
     "output_type": "stream",
     "text": [
      "Using Haldane correction\n",
      "\n"
     ]
    },
    {
     "name": "stdout",
     "output_type": "stream",
     "text": [
      "2023-01-26 18:00:19 [INFO] \tTesting ASD: 965\n",
      "2023-01-26 18:00:19 [INFO] P8.FGF20: 1501\n",
      "2023-01-26 18:00:19 [INFO] Regulon core EGR1: 532\n",
      "2023-01-26 18:00:19 [INFO] \tTesting Microcephaly: 64\n",
      "2023-01-26 18:00:19 [INFO] \tTesting Hydrocephaly: 105\n",
      "2023-01-26 18:00:19 [INFO] \tTesting RareMCD: 23\n"
     ]
    },
    {
     "name": "stderr",
     "output_type": "stream",
     "text": [
      "Using Haldane correction\n",
      "\n"
     ]
    },
    {
     "name": "stdout",
     "output_type": "stream",
     "text": [
      "2023-01-26 18:00:19 [INFO] \tTesting MDD_2018: 51\n"
     ]
    },
    {
     "name": "stderr",
     "output_type": "stream",
     "text": [
      "Using Haldane correction\n",
      "\n"
     ]
    },
    {
     "name": "stdout",
     "output_type": "stream",
     "text": [
      "2023-01-26 18:00:19 [INFO] \tTesting Polymicrogyria: 28\n"
     ]
    },
    {
     "name": "stderr",
     "output_type": "stream",
     "text": [
      "Using Haldane correction\n",
      "\n"
     ]
    },
    {
     "name": "stdout",
     "output_type": "stream",
     "text": [
      "2023-01-26 18:00:19 [INFO] \tTesting SCZ_2020: 108\n",
      "2023-01-26 18:00:19 [INFO] \tTesting AN_2019: 99\n"
     ]
    },
    {
     "name": "stderr",
     "output_type": "stream",
     "text": [
      "Using Haldane correction\n",
      "\n"
     ]
    },
    {
     "name": "stdout",
     "output_type": "stream",
     "text": [
      "2023-01-26 18:00:19 [INFO] \tTesting NEUROT_2018: 268\n",
      "2023-01-26 18:00:19 [INFO] \tTesting PD_2014: 29\n"
     ]
    },
    {
     "name": "stderr",
     "output_type": "stream",
     "text": [
      "Using Haldane correction\n",
      "\n"
     ]
    },
    {
     "name": "stdout",
     "output_type": "stream",
     "text": [
      "2023-01-26 18:00:19 [INFO] \tTesting AD_2019: 175\n",
      "2023-01-26 18:00:19 [INFO] \tTesting Lissencephaly: 40\n",
      "2023-01-26 18:00:19 [INFO] \tTesting BD_2019: 194\n",
      "2023-01-26 18:00:19 [INFO] \tTesting DevDyslexia: 24\n",
      "2023-01-26 18:00:19 [INFO] \tTesting Heterotopia: 13\n"
     ]
    },
    {
     "name": "stderr",
     "output_type": "stream",
     "text": [
      "Using Haldane correction\n",
      "\n"
     ]
    },
    {
     "name": "stdout",
     "output_type": "stream",
     "text": [
      "2023-01-26 18:00:19 [INFO] \tTesting ADHD_2019: 26\n",
      "2023-01-26 18:00:19 [INFO] \tTesting DD: 90\n",
      "2023-01-26 18:00:19 [INFO] \tTesting FCDandmTOR: 64\n",
      "2023-01-26 18:00:19 [INFO] \tTesting Cobblestone: 14\n"
     ]
    },
    {
     "name": "stderr",
     "output_type": "stream",
     "text": [
      "Using Haldane correction\n",
      "\n"
     ]
    },
    {
     "name": "stdout",
     "output_type": "stream",
     "text": [
      "2023-01-26 18:00:19 [INFO] \tTesting ASD: 965\n",
      "2023-01-26 18:00:19 [INFO] Regulon core EGR2: 532\n",
      "2023-01-26 18:00:19 [INFO] \tTesting Microcephaly: 64\n",
      "2023-01-26 18:00:20 [INFO] \tTesting Hydrocephaly: 105\n",
      "2023-01-26 18:00:20 [INFO] \tTesting RareMCD: 23\n"
     ]
    },
    {
     "name": "stderr",
     "output_type": "stream",
     "text": [
      "Using Haldane correction\n",
      "\n"
     ]
    },
    {
     "name": "stdout",
     "output_type": "stream",
     "text": [
      "2023-01-26 18:00:20 [INFO] \tTesting MDD_2018: 51\n"
     ]
    },
    {
     "name": "stderr",
     "output_type": "stream",
     "text": [
      "Using Haldane correction\n",
      "\n"
     ]
    },
    {
     "name": "stdout",
     "output_type": "stream",
     "text": [
      "2023-01-26 18:00:20 [INFO] \tTesting Polymicrogyria: 28\n"
     ]
    },
    {
     "name": "stderr",
     "output_type": "stream",
     "text": [
      "Using Haldane correction\n",
      "\n"
     ]
    },
    {
     "name": "stdout",
     "output_type": "stream",
     "text": [
      "2023-01-26 18:00:20 [INFO] \tTesting SCZ_2020: 108\n",
      "2023-01-26 18:00:20 [INFO] \tTesting AN_2019: 99\n"
     ]
    },
    {
     "name": "stderr",
     "output_type": "stream",
     "text": [
      "Using Haldane correction\n",
      "\n"
     ]
    },
    {
     "name": "stdout",
     "output_type": "stream",
     "text": [
      "2023-01-26 18:00:20 [INFO] \tTesting NEUROT_2018: 268\n",
      "2023-01-26 18:00:20 [INFO] \tTesting PD_2014: 29\n"
     ]
    },
    {
     "name": "stderr",
     "output_type": "stream",
     "text": [
      "Using Haldane correction\n",
      "\n"
     ]
    },
    {
     "name": "stdout",
     "output_type": "stream",
     "text": [
      "2023-01-26 18:00:20 [INFO] \tTesting AD_2019: 175\n",
      "2023-01-26 18:00:20 [INFO] \tTesting Lissencephaly: 40\n",
      "2023-01-26 18:00:20 [INFO] \tTesting BD_2019: 194\n",
      "2023-01-26 18:00:20 [INFO] \tTesting DevDyslexia: 24\n",
      "2023-01-26 18:00:20 [INFO] \tTesting Heterotopia: 13\n"
     ]
    },
    {
     "name": "stderr",
     "output_type": "stream",
     "text": [
      "Using Haldane correction\n",
      "\n"
     ]
    },
    {
     "name": "stdout",
     "output_type": "stream",
     "text": [
      "2023-01-26 18:00:20 [INFO] \tTesting ADHD_2019: 26\n",
      "2023-01-26 18:00:20 [INFO] \tTesting DD: 90\n",
      "2023-01-26 18:00:20 [INFO] \tTesting FCDandmTOR: 64\n",
      "2023-01-26 18:00:20 [INFO] \tTesting Cobblestone: 14\n"
     ]
    },
    {
     "name": "stderr",
     "output_type": "stream",
     "text": [
      "Using Haldane correction\n",
      "\n"
     ]
    },
    {
     "name": "stdout",
     "output_type": "stream",
     "text": [
      "2023-01-26 18:00:20 [INFO] \tTesting ASD: 965\n",
      "2023-01-26 18:00:20 [INFO] Regulon core ETV5: 626\n",
      "2023-01-26 18:00:20 [INFO] \tTesting Microcephaly: 64\n",
      "2023-01-26 18:00:20 [INFO] \tTesting Hydrocephaly: 105\n",
      "2023-01-26 18:00:20 [INFO] \tTesting RareMCD: 23\n"
     ]
    },
    {
     "name": "stderr",
     "output_type": "stream",
     "text": [
      "Using Haldane correction\n",
      "\n"
     ]
    },
    {
     "name": "stdout",
     "output_type": "stream",
     "text": [
      "2023-01-26 18:00:20 [INFO] \tTesting MDD_2018: 51\n"
     ]
    },
    {
     "name": "stderr",
     "output_type": "stream",
     "text": [
      "Using Haldane correction\n",
      "\n"
     ]
    },
    {
     "name": "stdout",
     "output_type": "stream",
     "text": [
      "2023-01-26 18:00:20 [INFO] \tTesting Polymicrogyria: 28\n"
     ]
    },
    {
     "name": "stderr",
     "output_type": "stream",
     "text": [
      "Using Haldane correction\n",
      "\n"
     ]
    },
    {
     "name": "stdout",
     "output_type": "stream",
     "text": [
      "2023-01-26 18:00:20 [INFO] \tTesting SCZ_2020: 108\n",
      "2023-01-26 18:00:20 [INFO] \tTesting AN_2019: 99\n"
     ]
    },
    {
     "name": "stderr",
     "output_type": "stream",
     "text": [
      "Using Haldane correction\n",
      "\n"
     ]
    },
    {
     "name": "stdout",
     "output_type": "stream",
     "text": [
      "2023-01-26 18:00:20 [INFO] \tTesting NEUROT_2018: 268\n",
      "2023-01-26 18:00:20 [INFO] \tTesting PD_2014: 29\n"
     ]
    },
    {
     "name": "stderr",
     "output_type": "stream",
     "text": [
      "Using Haldane correction\n",
      "\n"
     ]
    },
    {
     "name": "stdout",
     "output_type": "stream",
     "text": [
      "2023-01-26 18:00:20 [INFO] \tTesting AD_2019: 175\n",
      "2023-01-26 18:00:20 [INFO] \tTesting Lissencephaly: 40\n",
      "2023-01-26 18:00:20 [INFO] \tTesting BD_2019: 194\n",
      "2023-01-26 18:00:20 [INFO] \tTesting DevDyslexia: 24\n",
      "2023-01-26 18:00:20 [INFO] \tTesting Heterotopia: 13\n"
     ]
    },
    {
     "name": "stderr",
     "output_type": "stream",
     "text": [
      "Using Haldane correction\n",
      "\n"
     ]
    },
    {
     "name": "stdout",
     "output_type": "stream",
     "text": [
      "2023-01-26 18:00:20 [INFO] \tTesting ADHD_2019: 26\n",
      "2023-01-26 18:00:20 [INFO] \tTesting DD: 90\n",
      "2023-01-26 18:00:20 [INFO] \tTesting FCDandmTOR: 64\n",
      "2023-01-26 18:00:20 [INFO] \tTesting Cobblestone: 14\n"
     ]
    },
    {
     "name": "stderr",
     "output_type": "stream",
     "text": [
      "Using Haldane correction\n",
      "\n"
     ]
    },
    {
     "name": "stdout",
     "output_type": "stream",
     "text": [
      "2023-01-26 18:00:20 [INFO] \tTesting ASD: 965\n",
      "2023-01-26 18:00:20 [INFO] Regulon core KLF10: 570\n",
      "2023-01-26 18:00:20 [INFO] \tTesting Microcephaly: 64\n",
      "2023-01-26 18:00:20 [INFO] \tTesting Hydrocephaly: 105\n",
      "2023-01-26 18:00:20 [INFO] \tTesting RareMCD: 23\n"
     ]
    },
    {
     "name": "stderr",
     "output_type": "stream",
     "text": [
      "Using Haldane correction\n",
      "\n"
     ]
    },
    {
     "name": "stdout",
     "output_type": "stream",
     "text": [
      "2023-01-26 18:00:20 [INFO] \tTesting MDD_2018: 51\n"
     ]
    },
    {
     "name": "stderr",
     "output_type": "stream",
     "text": [
      "Using Haldane correction\n",
      "\n"
     ]
    },
    {
     "name": "stdout",
     "output_type": "stream",
     "text": [
      "2023-01-26 18:00:20 [INFO] \tTesting Polymicrogyria: 28\n"
     ]
    },
    {
     "name": "stderr",
     "output_type": "stream",
     "text": [
      "Using Haldane correction\n",
      "\n"
     ]
    },
    {
     "name": "stdout",
     "output_type": "stream",
     "text": [
      "2023-01-26 18:00:20 [INFO] \tTesting SCZ_2020: 108\n",
      "2023-01-26 18:00:20 [INFO] \tTesting AN_2019: 99\n"
     ]
    },
    {
     "name": "stderr",
     "output_type": "stream",
     "text": [
      "Using Haldane correction\n",
      "\n"
     ]
    },
    {
     "name": "stdout",
     "output_type": "stream",
     "text": [
      "2023-01-26 18:00:20 [INFO] \tTesting NEUROT_2018: 268\n",
      "2023-01-26 18:00:20 [INFO] \tTesting PD_2014: 29\n"
     ]
    },
    {
     "name": "stderr",
     "output_type": "stream",
     "text": [
      "Using Haldane correction\n",
      "\n"
     ]
    },
    {
     "name": "stdout",
     "output_type": "stream",
     "text": [
      "2023-01-26 18:00:20 [INFO] \tTesting AD_2019: 175\n",
      "2023-01-26 18:00:20 [INFO] \tTesting Lissencephaly: 40\n",
      "2023-01-26 18:00:20 [INFO] \tTesting BD_2019: 194\n",
      "2023-01-26 18:00:20 [INFO] \tTesting DevDyslexia: 24\n",
      "2023-01-26 18:00:20 [INFO] \tTesting Heterotopia: 13\n"
     ]
    },
    {
     "name": "stderr",
     "output_type": "stream",
     "text": [
      "Using Haldane correction\n",
      "\n"
     ]
    },
    {
     "name": "stdout",
     "output_type": "stream",
     "text": [
      "2023-01-26 18:00:20 [INFO] \tTesting ADHD_2019: 26\n",
      "2023-01-26 18:00:20 [INFO] \tTesting DD: 90\n",
      "2023-01-26 18:00:20 [INFO] \tTesting FCDandmTOR: 64\n",
      "2023-01-26 18:00:20 [INFO] \tTesting Cobblestone: 14\n"
     ]
    },
    {
     "name": "stderr",
     "output_type": "stream",
     "text": [
      "Using Haldane correction\n",
      "\n"
     ]
    },
    {
     "name": "stdout",
     "output_type": "stream",
     "text": [
      "2023-01-26 18:00:20 [INFO] \tTesting ASD: 965\n",
      "2023-01-26 18:00:20 [INFO] Regulon core KLF17: 570\n",
      "2023-01-26 18:00:20 [INFO] \tTesting Microcephaly: 64\n",
      "2023-01-26 18:00:20 [INFO] \tTesting Hydrocephaly: 105\n",
      "2023-01-26 18:00:20 [INFO] \tTesting RareMCD: 23\n"
     ]
    },
    {
     "name": "stderr",
     "output_type": "stream",
     "text": [
      "Using Haldane correction\n",
      "\n"
     ]
    },
    {
     "name": "stdout",
     "output_type": "stream",
     "text": [
      "2023-01-26 18:00:20 [INFO] \tTesting MDD_2018: 51\n"
     ]
    },
    {
     "name": "stderr",
     "output_type": "stream",
     "text": [
      "Using Haldane correction\n",
      "\n"
     ]
    },
    {
     "name": "stdout",
     "output_type": "stream",
     "text": [
      "2023-01-26 18:00:20 [INFO] \tTesting Polymicrogyria: 28\n"
     ]
    },
    {
     "name": "stderr",
     "output_type": "stream",
     "text": [
      "Using Haldane correction\n",
      "\n"
     ]
    },
    {
     "name": "stdout",
     "output_type": "stream",
     "text": [
      "2023-01-26 18:00:20 [INFO] \tTesting SCZ_2020: 108\n",
      "2023-01-26 18:00:20 [INFO] \tTesting AN_2019: 99\n"
     ]
    },
    {
     "name": "stderr",
     "output_type": "stream",
     "text": [
      "Using Haldane correction\n",
      "\n"
     ]
    },
    {
     "name": "stdout",
     "output_type": "stream",
     "text": [
      "2023-01-26 18:00:20 [INFO] \tTesting NEUROT_2018: 268\n",
      "2023-01-26 18:00:20 [INFO] \tTesting PD_2014: 29\n"
     ]
    },
    {
     "name": "stderr",
     "output_type": "stream",
     "text": [
      "Using Haldane correction\n",
      "\n"
     ]
    },
    {
     "name": "stdout",
     "output_type": "stream",
     "text": [
      "2023-01-26 18:00:20 [INFO] \tTesting AD_2019: 175\n",
      "2023-01-26 18:00:20 [INFO] \tTesting Lissencephaly: 40\n",
      "2023-01-26 18:00:20 [INFO] \tTesting BD_2019: 194\n",
      "2023-01-26 18:00:20 [INFO] \tTesting DevDyslexia: 24\n",
      "2023-01-26 18:00:20 [INFO] \tTesting Heterotopia: 13\n"
     ]
    },
    {
     "name": "stderr",
     "output_type": "stream",
     "text": [
      "Using Haldane correction\n",
      "\n"
     ]
    },
    {
     "name": "stdout",
     "output_type": "stream",
     "text": [
      "2023-01-26 18:00:20 [INFO] \tTesting ADHD_2019: 26\n",
      "2023-01-26 18:00:20 [INFO] \tTesting DD: 90\n",
      "2023-01-26 18:00:20 [INFO] \tTesting FCDandmTOR: 64\n",
      "2023-01-26 18:00:20 [INFO] \tTesting Cobblestone: 14\n"
     ]
    },
    {
     "name": "stderr",
     "output_type": "stream",
     "text": [
      "Using Haldane correction\n",
      "\n"
     ]
    },
    {
     "name": "stdout",
     "output_type": "stream",
     "text": [
      "2023-01-26 18:00:20 [INFO] \tTesting ASD: 965\n",
      "2023-01-26 18:00:20 [INFO] Regulon core KLF3: 570\n",
      "2023-01-26 18:00:20 [INFO] \tTesting Microcephaly: 64\n",
      "2023-01-26 18:00:20 [INFO] \tTesting Hydrocephaly: 105\n",
      "2023-01-26 18:00:20 [INFO] \tTesting RareMCD: 23\n"
     ]
    },
    {
     "name": "stderr",
     "output_type": "stream",
     "text": [
      "Using Haldane correction\n",
      "\n"
     ]
    },
    {
     "name": "stdout",
     "output_type": "stream",
     "text": [
      "2023-01-26 18:00:20 [INFO] \tTesting MDD_2018: 51\n"
     ]
    },
    {
     "name": "stderr",
     "output_type": "stream",
     "text": [
      "Using Haldane correction\n",
      "\n"
     ]
    },
    {
     "name": "stdout",
     "output_type": "stream",
     "text": [
      "2023-01-26 18:00:20 [INFO] \tTesting Polymicrogyria: 28\n"
     ]
    },
    {
     "name": "stderr",
     "output_type": "stream",
     "text": [
      "Using Haldane correction\n",
      "\n"
     ]
    },
    {
     "name": "stdout",
     "output_type": "stream",
     "text": [
      "2023-01-26 18:00:20 [INFO] \tTesting SCZ_2020: 108\n",
      "2023-01-26 18:00:20 [INFO] \tTesting AN_2019: 99\n"
     ]
    },
    {
     "name": "stderr",
     "output_type": "stream",
     "text": [
      "Using Haldane correction\n",
      "\n"
     ]
    },
    {
     "name": "stdout",
     "output_type": "stream",
     "text": [
      "2023-01-26 18:00:20 [INFO] \tTesting NEUROT_2018: 268\n",
      "2023-01-26 18:00:20 [INFO] \tTesting PD_2014: 29\n"
     ]
    },
    {
     "name": "stderr",
     "output_type": "stream",
     "text": [
      "Using Haldane correction\n",
      "\n"
     ]
    },
    {
     "name": "stdout",
     "output_type": "stream",
     "text": [
      "2023-01-26 18:00:20 [INFO] \tTesting AD_2019: 175\n",
      "2023-01-26 18:00:20 [INFO] \tTesting Lissencephaly: 40\n",
      "2023-01-26 18:00:20 [INFO] \tTesting BD_2019: 194\n",
      "2023-01-26 18:00:20 [INFO] \tTesting DevDyslexia: 24\n",
      "2023-01-26 18:00:20 [INFO] \tTesting Heterotopia: 13\n"
     ]
    },
    {
     "name": "stderr",
     "output_type": "stream",
     "text": [
      "Using Haldane correction\n",
      "\n"
     ]
    },
    {
     "name": "stdout",
     "output_type": "stream",
     "text": [
      "2023-01-26 18:00:20 [INFO] \tTesting ADHD_2019: 26\n",
      "2023-01-26 18:00:20 [INFO] \tTesting DD: 90\n",
      "2023-01-26 18:00:20 [INFO] \tTesting FCDandmTOR: 64\n",
      "2023-01-26 18:00:20 [INFO] \tTesting Cobblestone: 14\n"
     ]
    },
    {
     "name": "stderr",
     "output_type": "stream",
     "text": [
      "Using Haldane correction\n",
      "\n"
     ]
    },
    {
     "name": "stdout",
     "output_type": "stream",
     "text": [
      "2023-01-26 18:00:20 [INFO] \tTesting ASD: 965\n",
      "2023-01-26 18:00:20 [INFO] Regulon core NR3C1: 464\n",
      "2023-01-26 18:00:20 [INFO] \tTesting Microcephaly: 64\n",
      "2023-01-26 18:00:20 [INFO] \tTesting Hydrocephaly: 105\n",
      "2023-01-26 18:00:20 [INFO] \tTesting RareMCD: 23\n"
     ]
    },
    {
     "name": "stderr",
     "output_type": "stream",
     "text": [
      "Using Haldane correction\n",
      "\n"
     ]
    },
    {
     "name": "stdout",
     "output_type": "stream",
     "text": [
      "2023-01-26 18:00:20 [INFO] \tTesting MDD_2018: 51\n"
     ]
    },
    {
     "name": "stderr",
     "output_type": "stream",
     "text": [
      "Using Haldane correction\n",
      "\n"
     ]
    },
    {
     "name": "stdout",
     "output_type": "stream",
     "text": [
      "2023-01-26 18:00:20 [INFO] \tTesting Polymicrogyria: 28\n"
     ]
    },
    {
     "name": "stderr",
     "output_type": "stream",
     "text": [
      "Using Haldane correction\n",
      "\n"
     ]
    },
    {
     "name": "stdout",
     "output_type": "stream",
     "text": [
      "2023-01-26 18:00:20 [INFO] \tTesting SCZ_2020: 108\n",
      "2023-01-26 18:00:20 [INFO] \tTesting AN_2019: 99\n"
     ]
    },
    {
     "name": "stderr",
     "output_type": "stream",
     "text": [
      "Using Haldane correction\n",
      "\n"
     ]
    },
    {
     "name": "stdout",
     "output_type": "stream",
     "text": [
      "2023-01-26 18:00:20 [INFO] \tTesting NEUROT_2018: 268\n",
      "2023-01-26 18:00:20 [INFO] \tTesting PD_2014: 29\n"
     ]
    },
    {
     "name": "stderr",
     "output_type": "stream",
     "text": [
      "Using Haldane correction\n",
      "\n"
     ]
    },
    {
     "name": "stdout",
     "output_type": "stream",
     "text": [
      "2023-01-26 18:00:20 [INFO] \tTesting AD_2019: 175\n",
      "2023-01-26 18:00:20 [INFO] \tTesting Lissencephaly: 40\n",
      "2023-01-26 18:00:20 [INFO] \tTesting BD_2019: 194\n",
      "2023-01-26 18:00:20 [INFO] \tTesting DevDyslexia: 24\n",
      "2023-01-26 18:00:20 [INFO] \tTesting Heterotopia: 13\n"
     ]
    },
    {
     "name": "stderr",
     "output_type": "stream",
     "text": [
      "Using Haldane correction\n",
      "\n"
     ]
    },
    {
     "name": "stdout",
     "output_type": "stream",
     "text": [
      "2023-01-26 18:00:20 [INFO] \tTesting ADHD_2019: 26\n"
     ]
    },
    {
     "name": "stderr",
     "output_type": "stream",
     "text": [
      "Using Haldane correction\n",
      "\n"
     ]
    },
    {
     "name": "stdout",
     "output_type": "stream",
     "text": [
      "2023-01-26 18:00:20 [INFO] \tTesting DD: 90\n",
      "2023-01-26 18:00:20 [INFO] \tTesting FCDandmTOR: 64\n",
      "2023-01-26 18:00:20 [INFO] \tTesting Cobblestone: 14\n"
     ]
    },
    {
     "name": "stderr",
     "output_type": "stream",
     "text": [
      "Using Haldane correction\n",
      "\n"
     ]
    },
    {
     "name": "stdout",
     "output_type": "stream",
     "text": [
      "2023-01-26 18:00:20 [INFO] \tTesting ASD: 965\n",
      "2023-01-26 18:00:20 [INFO] Regulon core SP6: 571\n",
      "2023-01-26 18:00:20 [INFO] \tTesting Microcephaly: 64\n",
      "2023-01-26 18:00:20 [INFO] \tTesting Hydrocephaly: 105\n",
      "2023-01-26 18:00:20 [INFO] \tTesting RareMCD: 23\n"
     ]
    },
    {
     "name": "stderr",
     "output_type": "stream",
     "text": [
      "Using Haldane correction\n",
      "\n"
     ]
    },
    {
     "name": "stdout",
     "output_type": "stream",
     "text": [
      "2023-01-26 18:00:20 [INFO] \tTesting MDD_2018: 51\n"
     ]
    },
    {
     "name": "stderr",
     "output_type": "stream",
     "text": [
      "Using Haldane correction\n",
      "\n"
     ]
    },
    {
     "name": "stdout",
     "output_type": "stream",
     "text": [
      "2023-01-26 18:00:20 [INFO] \tTesting Polymicrogyria: 28\n"
     ]
    },
    {
     "name": "stderr",
     "output_type": "stream",
     "text": [
      "Using Haldane correction\n",
      "\n"
     ]
    },
    {
     "name": "stdout",
     "output_type": "stream",
     "text": [
      "2023-01-26 18:00:20 [INFO] \tTesting SCZ_2020: 108\n",
      "2023-01-26 18:00:20 [INFO] \tTesting AN_2019: 99\n"
     ]
    },
    {
     "name": "stderr",
     "output_type": "stream",
     "text": [
      "Using Haldane correction\n",
      "\n"
     ]
    },
    {
     "name": "stdout",
     "output_type": "stream",
     "text": [
      "2023-01-26 18:00:20 [INFO] \tTesting NEUROT_2018: 268\n",
      "2023-01-26 18:00:20 [INFO] \tTesting PD_2014: 29\n"
     ]
    },
    {
     "name": "stderr",
     "output_type": "stream",
     "text": [
      "Using Haldane correction\n",
      "\n"
     ]
    },
    {
     "name": "stdout",
     "output_type": "stream",
     "text": [
      "2023-01-26 18:00:20 [INFO] \tTesting AD_2019: 175\n",
      "2023-01-26 18:00:20 [INFO] \tTesting Lissencephaly: 40\n",
      "2023-01-26 18:00:20 [INFO] \tTesting BD_2019: 194\n",
      "2023-01-26 18:00:20 [INFO] \tTesting DevDyslexia: 24\n",
      "2023-01-26 18:00:20 [INFO] \tTesting Heterotopia: 13\n"
     ]
    },
    {
     "name": "stderr",
     "output_type": "stream",
     "text": [
      "Using Haldane correction\n",
      "\n"
     ]
    },
    {
     "name": "stdout",
     "output_type": "stream",
     "text": [
      "2023-01-26 18:00:20 [INFO] \tTesting ADHD_2019: 26\n",
      "2023-01-26 18:00:20 [INFO] \tTesting DD: 90\n",
      "2023-01-26 18:00:20 [INFO] \tTesting FCDandmTOR: 64\n",
      "2023-01-26 18:00:20 [INFO] \tTesting Cobblestone: 14\n"
     ]
    },
    {
     "name": "stderr",
     "output_type": "stream",
     "text": [
      "Using Haldane correction\n",
      "\n"
     ]
    },
    {
     "name": "stdout",
     "output_type": "stream",
     "text": [
      "2023-01-26 18:00:20 [INFO] \tTesting ASD: 965\n",
      "2023-01-26 18:00:20 [INFO] Regulon core YY2: 465\n",
      "2023-01-26 18:00:20 [INFO] \tTesting Microcephaly: 64\n",
      "2023-01-26 18:00:20 [INFO] \tTesting Hydrocephaly: 105\n",
      "2023-01-26 18:00:20 [INFO] \tTesting RareMCD: 23\n"
     ]
    },
    {
     "name": "stderr",
     "output_type": "stream",
     "text": [
      "Using Haldane correction\n",
      "\n"
     ]
    },
    {
     "name": "stdout",
     "output_type": "stream",
     "text": [
      "2023-01-26 18:00:20 [INFO] \tTesting MDD_2018: 51\n"
     ]
    },
    {
     "name": "stderr",
     "output_type": "stream",
     "text": [
      "Using Haldane correction\n",
      "\n"
     ]
    },
    {
     "name": "stdout",
     "output_type": "stream",
     "text": [
      "2023-01-26 18:00:20 [INFO] \tTesting Polymicrogyria: 28\n"
     ]
    },
    {
     "name": "stderr",
     "output_type": "stream",
     "text": [
      "Using Haldane correction\n",
      "\n"
     ]
    },
    {
     "name": "stdout",
     "output_type": "stream",
     "text": [
      "2023-01-26 18:00:20 [INFO] \tTesting SCZ_2020: 108\n",
      "2023-01-26 18:00:20 [INFO] \tTesting AN_2019: 99\n"
     ]
    },
    {
     "name": "stderr",
     "output_type": "stream",
     "text": [
      "Using Haldane correction\n",
      "\n"
     ]
    },
    {
     "name": "stdout",
     "output_type": "stream",
     "text": [
      "2023-01-26 18:00:20 [INFO] \tTesting NEUROT_2018: 268\n",
      "2023-01-26 18:00:20 [INFO] \tTesting PD_2014: 29\n"
     ]
    },
    {
     "name": "stderr",
     "output_type": "stream",
     "text": [
      "Using Haldane correction\n",
      "\n"
     ]
    },
    {
     "name": "stdout",
     "output_type": "stream",
     "text": [
      "2023-01-26 18:00:20 [INFO] \tTesting AD_2019: 175\n",
      "2023-01-26 18:00:20 [INFO] \tTesting Lissencephaly: 40\n",
      "2023-01-26 18:00:20 [INFO] \tTesting BD_2019: 194\n",
      "2023-01-26 18:00:20 [INFO] \tTesting DevDyslexia: 24\n",
      "2023-01-26 18:00:20 [INFO] \tTesting Heterotopia: 13\n"
     ]
    },
    {
     "name": "stderr",
     "output_type": "stream",
     "text": [
      "Using Haldane correction\n",
      "\n"
     ]
    },
    {
     "name": "stdout",
     "output_type": "stream",
     "text": [
      "2023-01-26 18:00:21 [INFO] \tTesting ADHD_2019: 26\n"
     ]
    },
    {
     "name": "stderr",
     "output_type": "stream",
     "text": [
      "Using Haldane correction\n",
      "\n"
     ]
    },
    {
     "name": "stdout",
     "output_type": "stream",
     "text": [
      "2023-01-26 18:00:21 [INFO] \tTesting DD: 90\n",
      "2023-01-26 18:00:21 [INFO] \tTesting FCDandmTOR: 64\n",
      "2023-01-26 18:00:21 [INFO] \tTesting Cobblestone: 14\n"
     ]
    },
    {
     "name": "stderr",
     "output_type": "stream",
     "text": [
      "Using Haldane correction\n",
      "\n"
     ]
    },
    {
     "name": "stdout",
     "output_type": "stream",
     "text": [
      "2023-01-26 18:00:21 [INFO] \tTesting ASD: 965\n",
      "2023-01-26 18:00:21 [INFO] Regulon core ZBTB37: 584\n",
      "2023-01-26 18:00:21 [INFO] \tTesting Microcephaly: 64\n",
      "2023-01-26 18:00:21 [INFO] \tTesting Hydrocephaly: 105\n",
      "2023-01-26 18:00:21 [INFO] \tTesting RareMCD: 23\n"
     ]
    },
    {
     "name": "stderr",
     "output_type": "stream",
     "text": [
      "Using Haldane correction\n",
      "\n"
     ]
    },
    {
     "name": "stdout",
     "output_type": "stream",
     "text": [
      "2023-01-26 18:00:21 [INFO] \tTesting MDD_2018: 51\n"
     ]
    },
    {
     "name": "stderr",
     "output_type": "stream",
     "text": [
      "Using Haldane correction\n",
      "\n"
     ]
    },
    {
     "name": "stdout",
     "output_type": "stream",
     "text": [
      "2023-01-26 18:00:21 [INFO] \tTesting Polymicrogyria: 28\n"
     ]
    },
    {
     "name": "stderr",
     "output_type": "stream",
     "text": [
      "Using Haldane correction\n",
      "\n"
     ]
    },
    {
     "name": "stdout",
     "output_type": "stream",
     "text": [
      "2023-01-26 18:00:21 [INFO] \tTesting SCZ_2020: 108\n",
      "2023-01-26 18:00:21 [INFO] \tTesting AN_2019: 99\n"
     ]
    },
    {
     "name": "stderr",
     "output_type": "stream",
     "text": [
      "Using Haldane correction\n",
      "\n"
     ]
    },
    {
     "name": "stdout",
     "output_type": "stream",
     "text": [
      "2023-01-26 18:00:21 [INFO] \tTesting NEUROT_2018: 268\n",
      "2023-01-26 18:00:21 [INFO] \tTesting PD_2014: 29\n"
     ]
    },
    {
     "name": "stderr",
     "output_type": "stream",
     "text": [
      "Using Haldane correction\n",
      "\n"
     ]
    },
    {
     "name": "stdout",
     "output_type": "stream",
     "text": [
      "2023-01-26 18:00:21 [INFO] \tTesting AD_2019: 175\n",
      "2023-01-26 18:00:21 [INFO] \tTesting Lissencephaly: 40\n",
      "2023-01-26 18:00:21 [INFO] \tTesting BD_2019: 194\n",
      "2023-01-26 18:00:21 [INFO] \tTesting DevDyslexia: 24\n",
      "2023-01-26 18:00:21 [INFO] \tTesting Heterotopia: 13\n"
     ]
    },
    {
     "name": "stderr",
     "output_type": "stream",
     "text": [
      "Using Haldane correction\n",
      "\n"
     ]
    },
    {
     "name": "stdout",
     "output_type": "stream",
     "text": [
      "2023-01-26 18:00:21 [INFO] \tTesting ADHD_2019: 26\n",
      "2023-01-26 18:00:21 [INFO] \tTesting DD: 90\n",
      "2023-01-26 18:00:21 [INFO] \tTesting FCDandmTOR: 64\n",
      "2023-01-26 18:00:21 [INFO] \tTesting Cobblestone: 14\n"
     ]
    },
    {
     "name": "stderr",
     "output_type": "stream",
     "text": [
      "Using Haldane correction\n",
      "\n"
     ]
    },
    {
     "name": "stdout",
     "output_type": "stream",
     "text": [
      "2023-01-26 18:00:21 [INFO] \tTesting ASD: 965\n",
      "2023-01-26 18:00:21 [INFO] Regulon core ZNF148: 499\n",
      "2023-01-26 18:00:21 [INFO] \tTesting Microcephaly: 64\n",
      "2023-01-26 18:00:21 [INFO] \tTesting Hydrocephaly: 105\n",
      "2023-01-26 18:00:21 [INFO] \tTesting RareMCD: 23\n"
     ]
    },
    {
     "name": "stderr",
     "output_type": "stream",
     "text": [
      "Using Haldane correction\n",
      "\n"
     ]
    },
    {
     "name": "stdout",
     "output_type": "stream",
     "text": [
      "2023-01-26 18:00:21 [INFO] \tTesting MDD_2018: 51\n"
     ]
    },
    {
     "name": "stderr",
     "output_type": "stream",
     "text": [
      "Using Haldane correction\n",
      "\n"
     ]
    },
    {
     "name": "stdout",
     "output_type": "stream",
     "text": [
      "2023-01-26 18:00:21 [INFO] \tTesting Polymicrogyria: 28\n"
     ]
    },
    {
     "name": "stderr",
     "output_type": "stream",
     "text": [
      "Using Haldane correction\n",
      "\n"
     ]
    },
    {
     "name": "stdout",
     "output_type": "stream",
     "text": [
      "2023-01-26 18:00:21 [INFO] \tTesting SCZ_2020: 108\n",
      "2023-01-26 18:00:21 [INFO] \tTesting AN_2019: 99\n"
     ]
    },
    {
     "name": "stderr",
     "output_type": "stream",
     "text": [
      "Using Haldane correction\n",
      "\n"
     ]
    },
    {
     "name": "stdout",
     "output_type": "stream",
     "text": [
      "2023-01-26 18:00:21 [INFO] \tTesting NEUROT_2018: 268\n",
      "2023-01-26 18:00:21 [INFO] \tTesting PD_2014: 29\n"
     ]
    },
    {
     "name": "stderr",
     "output_type": "stream",
     "text": [
      "Using Haldane correction\n",
      "\n"
     ]
    },
    {
     "name": "stdout",
     "output_type": "stream",
     "text": [
      "2023-01-26 18:00:21 [INFO] \tTesting AD_2019: 175\n",
      "2023-01-26 18:00:21 [INFO] \tTesting Lissencephaly: 40\n",
      "2023-01-26 18:00:21 [INFO] \tTesting BD_2019: 194\n",
      "2023-01-26 18:00:21 [INFO] \tTesting DevDyslexia: 24\n",
      "2023-01-26 18:00:21 [INFO] \tTesting Heterotopia: 13\n"
     ]
    },
    {
     "name": "stderr",
     "output_type": "stream",
     "text": [
      "Using Haldane correction\n",
      "\n"
     ]
    },
    {
     "name": "stdout",
     "output_type": "stream",
     "text": [
      "2023-01-26 18:00:21 [INFO] \tTesting ADHD_2019: 26\n",
      "2023-01-26 18:00:21 [INFO] \tTesting DD: 90\n",
      "2023-01-26 18:00:21 [INFO] \tTesting FCDandmTOR: 64\n",
      "2023-01-26 18:00:21 [INFO] \tTesting Cobblestone: 14\n"
     ]
    },
    {
     "name": "stderr",
     "output_type": "stream",
     "text": [
      "Using Haldane correction\n",
      "\n"
     ]
    },
    {
     "name": "stdout",
     "output_type": "stream",
     "text": [
      "2023-01-26 18:00:21 [INFO] \tTesting ASD: 965\n"
     ]
    }
   ],
   "source": [
    "RCT[['odds.ratio.diseases']] <- odds.ratio.RCT(RCT, df_to_test = diseases.df, haldane_correction = T)"
   ]
  },
  {
   "cell_type": "code",
   "execution_count": 11,
   "id": "c5c38fac-0bcd-4d0d-882b-f4de090415d2",
   "metadata": {},
   "outputs": [
    {
     "name": "stdout",
     "output_type": "stream",
     "text": [
      "2023-01-26 18:00:21 [INFO] Saving RCT to ./results/RCT_peaks/\n",
      "2023-01-26 18:00:21 [INFO] Saving results without permutations\n"
     ]
    }
   ],
   "source": [
    "save_RCT(RCT, save_dir = results.dir)"
   ]
  },
  {
   "cell_type": "markdown",
   "id": "6f3eb0d5-2861-4df3-ae5a-ce550472a23b",
   "metadata": {},
   "source": [
    "# Supplementary table 5"
   ]
  },
  {
   "cell_type": "code",
   "execution_count": 1,
   "id": "aa13e636-725e-4e70-afde-17c42c78f721",
   "metadata": {},
   "outputs": [
    {
     "name": "stderr",
     "output_type": "stream",
     "text": [
      "\n",
      "Attaching package: ‘dplyr’\n",
      "\n",
      "\n",
      "The following objects are masked from ‘package:stats’:\n",
      "\n",
      "    filter, lag\n",
      "\n",
      "\n",
      "The following objects are masked from ‘package:base’:\n",
      "\n",
      "    intersect, setdiff, setequal, union\n",
      "\n",
      "\n"
     ]
    }
   ],
   "source": [
    "library(dplyr)"
   ]
  },
  {
   "cell_type": "code",
   "execution_count": 2,
   "id": "6bf4e2ca-76fb-4ad6-8dd1-5ca67ae62a67",
   "metadata": {},
   "outputs": [],
   "source": [
    "RCT <- readRDS('results/RCT_peaks/cisTarget_results.rds')"
   ]
  },
  {
   "cell_type": "code",
   "execution_count": 19,
   "id": "cd9e4ddd-501d-4e06-b031-71cc8216a01e",
   "metadata": {},
   "outputs": [],
   "source": [
    "dfs <- list(\n",
    "    'Temporal regulons' = RCT$regulonTbl,\n",
    "    'Disease enrichment' = RCT$odds.ratio.diseases %>% select(\n",
    "        geneSet, Core, testSet, \n",
    "        `estimate.odds ratio`, OR.log2, p.value, conf.int.min, conf.int.max,\n",
    "        `REG TEST`, `REG NOT TEST`, `NOT REG TEST`, `NOT REG NOT TEST`) %>% arrange(p.value)\n",
    ")"
   ]
  },
  {
   "cell_type": "code",
   "execution_count": 20,
   "id": "1230a4c2-4989-4964-b23a-4a61ab47631f",
   "metadata": {},
   "outputs": [],
   "source": [
    "merge(dfs[[1]], diseases.df, by.x='Target', by.y='row.names', all.x=T, all.y=F) %>%\n",
    "    select_at(c(colnames(dfs[[1]]), colnames(diseases.df))) %>%\n",
    "    mutate_at(.vars = colnames(diseases.df), function(X){ifelse(is.na(X), 0, X)}) -> dfs[[1]]"
   ]
  },
  {
   "cell_type": "code",
   "execution_count": 21,
   "id": "6c5dcd72-a3a3-4bb5-b23f-cf289a01486e",
   "metadata": {},
   "outputs": [],
   "source": [
    "split(dfs[[1]], dfs[[1]]$Core) %>% lapply(function(df){\n",
    "    sapply(colnames(diseases.df), function(dis){\n",
    "        paste0(c(df[as.logical(df[,dis]),'Target'], recursive=T), collapse=',')\n",
    "    }) ->  enriched.targets\n",
    "    data.frame(Risk_Targets=enriched.targets, testSet=colnames(diseases.df))\n",
    "}) -> all.enriched.targets"
   ]
  },
  {
   "cell_type": "code",
   "execution_count": 22,
   "id": "e29ac3d8-4629-449c-9fa1-23c532f505f2",
   "metadata": {},
   "outputs": [],
   "source": [
    "for (core in names(all.enriched.targets)){\n",
    "    all.enriched.targets[[core]]$Core <- core\n",
    "}\n",
    "all.enriched.targets %>% do.call(what='rbind') -> all.enriched.targets"
   ]
  },
  {
   "cell_type": "code",
   "execution_count": 23,
   "id": "1ad718b7-dba9-4b59-8893-f7ba06e0e807",
   "metadata": {},
   "outputs": [],
   "source": [
    "merge(dfs[[2]], all.enriched.targets, by=c('Core', 'testSet'), all=T) -> dfs[[2]]"
   ]
  },
  {
   "cell_type": "code",
   "execution_count": 24,
   "id": "4bb31b1a-578f-4f75-9014-283baf769f6c",
   "metadata": {},
   "outputs": [],
   "source": [
    "dfs[[1]] %>% mutate(geneSet=factor(geneSet, levels=colnames(peaks.df))) %>% arrange(geneSet, Core) -> dfs[[1]]\n",
    "dfs[[2]] %>% mutate(conf.int.min=NULL,\n",
    "                    conf.int.max=NULL, \n",
    "                    geneSet=factor(geneSet, levels=colnames(peaks.df)),\n",
    "                    testSet=factor(testSet, levels=colnames(diseases.df))) %>% select(geneSet, everything()) %>% arrange(geneSet, Core, testSet) -> dfs[[2]]"
   ]
  },
  {
   "cell_type": "code",
   "execution_count": 25,
   "id": "0bd05eb5-1465-40ae-a471-45aec8c83ffe",
   "metadata": {},
   "outputs": [],
   "source": [
    "# Add column of enriched targets"
   ]
  },
  {
   "cell_type": "code",
   "execution_count": 26,
   "id": "dfacccfb-f1af-4f5d-ac06-5198a72ab93d",
   "metadata": {},
   "outputs": [
    {
     "data": {
      "text/html": [
       "<table class=\"dataframe\">\n",
       "<caption>A data.frame: 1140 × 11</caption>\n",
       "<thead>\n",
       "\t<tr><th scope=col>geneSet</th><th scope=col>Core</th><th scope=col>testSet</th><th scope=col>estimate.odds ratio</th><th scope=col>OR.log2</th><th scope=col>p.value</th><th scope=col>REG TEST</th><th scope=col>REG NOT TEST</th><th scope=col>NOT REG TEST</th><th scope=col>NOT REG NOT TEST</th><th scope=col>Risk_Targets</th></tr>\n",
       "\t<tr><th scope=col>&lt;fct&gt;</th><th scope=col>&lt;chr&gt;</th><th scope=col>&lt;fct&gt;</th><th scope=col>&lt;dbl&gt;</th><th scope=col>&lt;dbl&gt;</th><th scope=col>&lt;dbl&gt;</th><th scope=col>&lt;dbl&gt;</th><th scope=col>&lt;dbl&gt;</th><th scope=col>&lt;dbl&gt;</th><th scope=col>&lt;dbl&gt;</th><th scope=col>&lt;chr&gt;</th></tr>\n",
       "</thead>\n",
       "<tbody>\n",
       "\t<tr><td>P2.FGF20</td><td>THAP11</td><td>Microcephaly  </td><td>0.4624706</td><td>-1.11256641</td><td>1.00000000</td><td>0</td><td>145</td><td> 9</td><td>1278</td><td>                                  </td></tr>\n",
       "\t<tr><td>P2.FGF20</td><td>THAP11</td><td>Hydrocephaly  </td><td>1.1101331</td><td> 0.15073261</td><td>0.61850881</td><td>1</td><td>144</td><td> 8</td><td>1279</td><td>RNASEH2A                          </td></tr>\n",
       "\t<tr><td>P2.FGF20</td><td>THAP11</td><td>RareMCD       </td><td>2.9473081</td><td> 1.55939790</td><td>1.00000000</td><td>0</td><td>145</td><td> 1</td><td>1286</td><td>                                  </td></tr>\n",
       "\t<tr><td>P2.FGF20</td><td>THAP11</td><td>MDD_2018      </td><td>2.9473081</td><td> 1.55939790</td><td>1.00000000</td><td>0</td><td>145</td><td> 1</td><td>1286</td><td>                                  </td></tr>\n",
       "\t<tr><td>P2.FGF20</td><td>THAP11</td><td>Polymicrogyria</td><td>1.7670103</td><td> 0.82131046</td><td>1.00000000</td><td>0</td><td>145</td><td> 2</td><td>1285</td><td>                                  </td></tr>\n",
       "\t<tr><td>P2.FGF20</td><td>THAP11</td><td>SCZ_2020      </td><td>5.4054199</td><td> 2.43440668</td><td>0.03889343</td><td>3</td><td>142</td><td> 5</td><td>1282</td><td>BCL2L12,ELAC2,PAK6                </td></tr>\n",
       "\t<tr><td>P2.FGF20</td><td>THAP11</td><td>AN_2019       </td><td>2.6951806</td><td> 1.43038196</td><td>0.13682837</td><td>3</td><td>142</td><td>10</td><td>1277</td><td>CDC25A,CYB561D2,RBM5              </td></tr>\n",
       "\t<tr><td>P2.FGF20</td><td>THAP11</td><td>NEUROT_2018   </td><td>0.7361566</td><td>-0.44191547</td><td>0.75792001</td><td>2</td><td>143</td><td>24</td><td>1263</td><td>CLP1,GPANK1                       </td></tr>\n",
       "\t<tr><td>P2.FGF20</td><td>THAP11</td><td>PD_2014       </td><td>8.8487973</td><td> 3.14548137</td><td>1.00000000</td><td>0</td><td>145</td><td> 0</td><td>1287</td><td>                                  </td></tr>\n",
       "\t<tr><td>P2.FGF20</td><td>THAP11</td><td>AD_2019       </td><td>0.8056973</td><td>-0.31169012</td><td>0.72371433</td><td>1</td><td>144</td><td>11</td><td>1276</td><td>FBXO24                            </td></tr>\n",
       "\t<tr><td>P2.FGF20</td><td>THAP11</td><td>Lissencephaly </td><td>1.7670103</td><td> 0.82131046</td><td>1.00000000</td><td>0</td><td>145</td><td> 2</td><td>1285</td><td>                                  </td></tr>\n",
       "\t<tr><td>P2.FGF20</td><td>THAP11</td><td>BD_2019       </td><td>3.7886822</td><td> 1.92169611</td><td>0.02251013</td><td>5</td><td>140</td><td>12</td><td>1275</td><td>MRPL11,NDUFB2,POC1A,SF3B2,TMEM161A</td></tr>\n",
       "\t<tr><td>P2.FGF20</td><td>THAP11</td><td>DevDyslexia   </td><td>2.9473081</td><td> 1.55939790</td><td>1.00000000</td><td>0</td><td>145</td><td> 1</td><td>1286</td><td>                                  </td></tr>\n",
       "\t<tr><td>P2.FGF20</td><td>THAP11</td><td>Heterotopia   </td><td>8.8487973</td><td> 3.14548137</td><td>1.00000000</td><td>0</td><td>145</td><td> 0</td><td>1287</td><td>                                  </td></tr>\n",
       "\t<tr><td>P2.FGF20</td><td>THAP11</td><td>ADHD_2019     </td><td>1.2611684</td><td> 0.33476091</td><td>1.00000000</td><td>0</td><td>145</td><td> 3</td><td>1284</td><td>                                  </td></tr>\n",
       "\t<tr><td>P2.FGF20</td><td>THAP11</td><td>DD            </td><td>1.2696075</td><td> 0.34438260</td><td>0.57525922</td><td>1</td><td>144</td><td> 7</td><td>1280</td><td>HDAC8                             </td></tr>\n",
       "\t<tr><td>P2.FGF20</td><td>THAP11</td><td>FCDandmTOR    </td><td>0.9801451</td><td>-0.02893276</td><td>1.00000000</td><td>0</td><td>145</td><td> 4</td><td>1283</td><td>                                  </td></tr>\n",
       "\t<tr><td>P2.FGF20</td><td>THAP11</td><td>Cobblestone   </td><td>8.8487973</td><td> 3.14548137</td><td>1.00000000</td><td>0</td><td>145</td><td> 0</td><td>1287</td><td>                                  </td></tr>\n",
       "\t<tr><td>P2.FGF20</td><td>THAP11</td><td>ASD           </td><td>0.8836225</td><td>-0.17849794</td><td>0.67061071</td><td>5</td><td>140</td><td>50</td><td>1237</td><td>HDAC8,IQGAP3,NR1D1,PHB,TRAF7      </td></tr>\n",
       "\t<tr><td>P2.FGF10</td><td>ZNF667</td><td>Microcephaly  </td><td>0.6190476</td><td>-0.69187770</td><td>1.00000000</td><td>0</td><td> 73</td><td> 5</td><td> 500</td><td>                                  </td></tr>\n",
       "\t<tr><td>P2.FGF10</td><td>ZNF667</td><td>Hydrocephaly  </td><td>3.5162825</td><td> 1.81405098</td><td>0.16866955</td><td>2</td><td> 71</td><td> 4</td><td> 501</td><td>GFAP,RNF125                       </td></tr>\n",
       "\t<tr><td>P2.FGF10</td><td>ZNF667</td><td>RareMCD       </td><td>2.2879819</td><td> 1.19407561</td><td>1.00000000</td><td>0</td><td> 73</td><td> 1</td><td> 504</td><td>                                  </td></tr>\n",
       "\t<tr><td>P2.FGF10</td><td>ZNF667</td><td>MDD_2018      </td><td>1.3700680</td><td> 0.45424753</td><td>1.00000000</td><td>0</td><td> 73</td><td> 2</td><td> 503</td><td>                                  </td></tr>\n",
       "\t<tr><td>P2.FGF10</td><td>ZNF667</td><td>Polymicrogyria</td><td>6.8775510</td><td> 2.78189494</td><td>1.00000000</td><td>0</td><td> 73</td><td> 0</td><td> 505</td><td>                                  </td></tr>\n",
       "\t<tr><td>P2.FGF10</td><td>ZNF667</td><td>SCZ_2020      </td><td>3.4814267</td><td> 1.79967863</td><td>0.33355584</td><td>1</td><td> 72</td><td> 2</td><td> 503</td><td>FAM83D                            </td></tr>\n",
       "\t<tr><td>P2.FGF10</td><td>ZNF667</td><td>AN_2019       </td><td>0.7581255</td><td>-0.39949146</td><td>1.00000000</td><td>0</td><td> 73</td><td> 4</td><td> 501</td><td>                                  </td></tr>\n",
       "\t<tr><td>P2.FGF10</td><td>ZNF667</td><td>NEUROT_2018   </td><td>0.7581255</td><td>-0.39949146</td><td>1.00000000</td><td>0</td><td> 73</td><td> 4</td><td> 501</td><td>                                  </td></tr>\n",
       "\t<tr><td>P2.FGF10</td><td>ZNF667</td><td>PD_2014       </td><td>2.2879819</td><td> 1.19407561</td><td>1.00000000</td><td>0</td><td> 73</td><td> 1</td><td> 504</td><td>                                  </td></tr>\n",
       "\t<tr><td>P2.FGF10</td><td>ZNF667</td><td>AD_2019       </td><td>0.9881153</td><td>-0.01724871</td><td>0.66283801</td><td>1</td><td> 72</td><td> 7</td><td> 498</td><td>C7orf61                           </td></tr>\n",
       "\t<tr><td>P2.FGF10</td><td>ZNF667</td><td>Lissencephaly </td><td>2.2879819</td><td> 1.19407561</td><td>1.00000000</td><td>0</td><td> 73</td><td> 1</td><td> 504</td><td>                                  </td></tr>\n",
       "\t<tr><td>⋮</td><td>⋮</td><td>⋮</td><td>⋮</td><td>⋮</td><td>⋮</td><td>⋮</td><td>⋮</td><td>⋮</td><td>⋮</td><td>⋮</td></tr>\n",
       "\t<tr><td>P8.FGF1  </td><td>VSX2</td><td>PD_2014       </td><td> 1.9874286</td><td> 0.9909030</td><td>1.00000000</td><td> 0</td><td> 62</td><td> 3</td><td> 869</td><td>                                                                                                        </td></tr>\n",
       "\t<tr><td>P8.FGF1  </td><td>VSX2</td><td>AD_2019       </td><td> 0.9232000</td><td>-0.1152849</td><td>1.00000000</td><td> 0</td><td> 62</td><td> 7</td><td> 865</td><td>                                                                                                        </td></tr>\n",
       "\t<tr><td>P8.FGF1  </td><td>VSX2</td><td>Lissencephaly </td><td> 4.6480000</td><td> 2.2166101</td><td>1.00000000</td><td> 0</td><td> 62</td><td> 1</td><td> 871</td><td>                                                                                                        </td></tr>\n",
       "\t<tr><td>P8.FGF1  </td><td>VSX2</td><td>BD_2019       </td><td> 0.7271579</td><td>-0.4596594</td><td>1.00000000</td><td> 0</td><td> 62</td><td> 9</td><td> 863</td><td>                                                                                                        </td></tr>\n",
       "\t<tr><td>P8.FGF1  </td><td>VSX2</td><td>DevDyslexia   </td><td> 2.7856000</td><td> 1.4779881</td><td>1.00000000</td><td> 0</td><td> 62</td><td> 2</td><td> 870</td><td>                                                                                                        </td></tr>\n",
       "\t<tr><td>P8.FGF1  </td><td>VSX2</td><td>Heterotopia   </td><td> 2.7856000</td><td> 1.4779881</td><td>1.00000000</td><td> 0</td><td> 62</td><td> 2</td><td> 870</td><td>                                                                                                        </td></tr>\n",
       "\t<tr><td>P8.FGF1  </td><td>VSX2</td><td>ADHD_2019     </td><td> 4.6480000</td><td> 2.2166101</td><td>1.00000000</td><td> 0</td><td> 62</td><td> 1</td><td> 871</td><td>                                                                                                        </td></tr>\n",
       "\t<tr><td>P8.FGF1  </td><td>VSX2</td><td>DD            </td><td> 3.5490973</td><td> 1.8274521</td><td>0.29121204</td><td> 1</td><td> 61</td><td> 4</td><td> 868</td><td>WDR45                                                                                                   </td></tr>\n",
       "\t<tr><td>P8.FGF1  </td><td>VSX2</td><td>FCDandmTOR    </td><td> 1.2618182</td><td> 0.3355040</td><td>1.00000000</td><td> 0</td><td> 62</td><td> 5</td><td> 867</td><td>                                                                                                        </td></tr>\n",
       "\t<tr><td>P8.FGF1  </td><td>VSX2</td><td>Cobblestone   </td><td> 2.7856000</td><td> 1.4779881</td><td>1.00000000</td><td> 0</td><td> 62</td><td> 2</td><td> 870</td><td>                                                                                                        </td></tr>\n",
       "\t<tr><td>P8.FGF1  </td><td>VSX2</td><td>ASD           </td><td> 1.8182266</td><td> 0.8625320</td><td>0.12342290</td><td> 7</td><td> 55</td><td>57</td><td> 815</td><td>ACE,ACHE,CDH22,IGF1,KCNJ15,RPL10,SLC9A9                                                                 </td></tr>\n",
       "\t<tr><td>P8.FGF0.1</td><td>PURA</td><td>Microcephaly  </td><td>16.2366412</td><td> 4.0211813</td><td>0.15634921</td><td> 1</td><td>196</td><td> 0</td><td>1063</td><td>RAB18                                                                                                   </td></tr>\n",
       "\t<tr><td>P8.FGF0.1</td><td>PURA</td><td>Hydrocephaly  </td><td> 1.3504073</td><td> 0.4333946</td><td>0.57325037</td><td> 1</td><td>196</td><td> 4</td><td>1059</td><td>ARSB                                                                                                    </td></tr>\n",
       "\t<tr><td>P8.FGF0.1</td><td>PURA</td><td>RareMCD       </td><td>16.2366412</td><td> 4.0211813</td><td>0.15634921</td><td> 1</td><td>196</td><td> 0</td><td>1063</td><td>PRICKLE1                                                                                                </td></tr>\n",
       "\t<tr><td>P8.FGF0.1</td><td>PURA</td><td>MDD_2018      </td><td> 0.7670886</td><td>-0.3825349</td><td>1.00000000</td><td> 0</td><td>197</td><td> 3</td><td>1060</td><td>                                                                                                        </td></tr>\n",
       "\t<tr><td>P8.FGF0.1</td><td>PURA</td><td>Polymicrogyria</td><td>16.2366412</td><td> 4.0211813</td><td>0.15634921</td><td> 1</td><td>196</td><td> 0</td><td>1063</td><td>RAB18                                                                                                   </td></tr>\n",
       "\t<tr><td>P8.FGF0.1</td><td>PURA</td><td>SCZ_2020      </td><td> 0.4118793</td><td>-1.2797066</td><td>1.00000000</td><td> 0</td><td>197</td><td> 6</td><td>1057</td><td>                                                                                                        </td></tr>\n",
       "\t<tr><td>P8.FGF0.1</td><td>PURA</td><td>AN_2019       </td><td> 0.7670886</td><td>-0.3825349</td><td>1.00000000</td><td> 0</td><td>197</td><td> 3</td><td>1060</td><td>                                                                                                        </td></tr>\n",
       "\t<tr><td>P8.FGF0.1</td><td>PURA</td><td>NEUROT_2018   </td><td> 0.4470673</td><td>-1.1614360</td><td>0.89158319</td><td> 1</td><td>196</td><td>12</td><td>1051</td><td>RGS6                                                                                                    </td></tr>\n",
       "\t<tr><td>P8.FGF0.1</td><td>PURA</td><td>PD_2014       </td><td> 1.0749367</td><td> 0.1042517</td><td>1.00000000</td><td> 0</td><td>197</td><td> 2</td><td>1061</td><td>                                                                                                        </td></tr>\n",
       "\t<tr><td>P8.FGF0.1</td><td>PURA</td><td>AD_2019       </td><td> 0.5374609</td><td>-0.8957683</td><td>0.84715361</td><td> 1</td><td>196</td><td>10</td><td>1053</td><td>BTNL2                                                                                                   </td></tr>\n",
       "\t<tr><td>P8.FGF0.1</td><td>PURA</td><td>Lissencephaly </td><td> 1.7932489</td><td> 0.8425758</td><td>1.00000000</td><td> 0</td><td>197</td><td> 1</td><td>1062</td><td>                                                                                                        </td></tr>\n",
       "\t<tr><td>P8.FGF0.1</td><td>PURA</td><td>BD_2019       </td><td> 0.2540084</td><td>-1.9770517</td><td>1.00000000</td><td> 0</td><td>197</td><td>10</td><td>1053</td><td>                                                                                                        </td></tr>\n",
       "\t<tr><td>P8.FGF0.1</td><td>PURA</td><td>DevDyslexia   </td><td>10.8569497</td><td> 3.4405469</td><td>0.06547503</td><td> 2</td><td>195</td><td> 1</td><td>1062</td><td>NEDD4L,NRSN1                                                                                            </td></tr>\n",
       "\t<tr><td>P8.FGF0.1</td><td>PURA</td><td>Heterotopia   </td><td>16.2366412</td><td> 4.0211813</td><td>0.15634921</td><td> 1</td><td>196</td><td> 0</td><td>1063</td><td>NEDD4L                                                                                                  </td></tr>\n",
       "\t<tr><td>P8.FGF0.1</td><td>PURA</td><td>ADHD_2019     </td><td> 5.3848101</td><td> 2.4288955</td><td>1.00000000</td><td> 0</td><td>197</td><td> 0</td><td>1063</td><td>                                                                                                        </td></tr>\n",
       "\t<tr><td>P8.FGF0.1</td><td>PURA</td><td>DD            </td><td> 2.7123640</td><td> 1.4395508</td><td>0.23831141</td><td> 2</td><td>195</td><td> 4</td><td>1059</td><td>GNAO1                                                                                                   </td></tr>\n",
       "\t<tr><td>P8.FGF0.1</td><td>PURA</td><td>FCDandmTOR    </td><td> 0.4872267</td><td>-1.0373349</td><td>1.00000000</td><td> 0</td><td>197</td><td> 5</td><td>1058</td><td>                                                                                                        </td></tr>\n",
       "\t<tr><td>P8.FGF0.1</td><td>PURA</td><td>Cobblestone   </td><td> 5.3848101</td><td> 2.4288955</td><td>1.00000000</td><td> 0</td><td>197</td><td> 0</td><td>1063</td><td>                                                                                                        </td></tr>\n",
       "\t<tr><td>P8.FGF0.1</td><td>PURA</td><td>ASD           </td><td> 1.3601829</td><td> 0.4438006</td><td>0.17259566</td><td>17</td><td>180</td><td>69</td><td> 994</td><td>ANK2,CADPS,DDC,DNER,FGF14,GNAS,JMJD1C,LRRC4C,MPP6,NRXN1,NTRK3,PCDHA11,PLXNA4,PRICKLE1,SDC2,ZBTB20,ZNF713</td></tr>\n",
       "</tbody>\n",
       "</table>\n"
      ],
      "text/latex": [
       "A data.frame: 1140 × 11\n",
       "\\begin{tabular}{lllllllllll}\n",
       " geneSet & Core & testSet & estimate.odds ratio & OR.log2 & p.value & REG TEST & REG NOT TEST & NOT REG TEST & NOT REG NOT TEST & Risk\\_Targets\\\\\n",
       " <fct> & <chr> & <fct> & <dbl> & <dbl> & <dbl> & <dbl> & <dbl> & <dbl> & <dbl> & <chr>\\\\\n",
       "\\hline\n",
       "\t P2.FGF20 & THAP11 & Microcephaly   & 0.4624706 & -1.11256641 & 1.00000000 & 0 & 145 &  9 & 1278 &                                   \\\\\n",
       "\t P2.FGF20 & THAP11 & Hydrocephaly   & 1.1101331 &  0.15073261 & 0.61850881 & 1 & 144 &  8 & 1279 & RNASEH2A                          \\\\\n",
       "\t P2.FGF20 & THAP11 & RareMCD        & 2.9473081 &  1.55939790 & 1.00000000 & 0 & 145 &  1 & 1286 &                                   \\\\\n",
       "\t P2.FGF20 & THAP11 & MDD\\_2018       & 2.9473081 &  1.55939790 & 1.00000000 & 0 & 145 &  1 & 1286 &                                   \\\\\n",
       "\t P2.FGF20 & THAP11 & Polymicrogyria & 1.7670103 &  0.82131046 & 1.00000000 & 0 & 145 &  2 & 1285 &                                   \\\\\n",
       "\t P2.FGF20 & THAP11 & SCZ\\_2020       & 5.4054199 &  2.43440668 & 0.03889343 & 3 & 142 &  5 & 1282 & BCL2L12,ELAC2,PAK6                \\\\\n",
       "\t P2.FGF20 & THAP11 & AN\\_2019        & 2.6951806 &  1.43038196 & 0.13682837 & 3 & 142 & 10 & 1277 & CDC25A,CYB561D2,RBM5              \\\\\n",
       "\t P2.FGF20 & THAP11 & NEUROT\\_2018    & 0.7361566 & -0.44191547 & 0.75792001 & 2 & 143 & 24 & 1263 & CLP1,GPANK1                       \\\\\n",
       "\t P2.FGF20 & THAP11 & PD\\_2014        & 8.8487973 &  3.14548137 & 1.00000000 & 0 & 145 &  0 & 1287 &                                   \\\\\n",
       "\t P2.FGF20 & THAP11 & AD\\_2019        & 0.8056973 & -0.31169012 & 0.72371433 & 1 & 144 & 11 & 1276 & FBXO24                            \\\\\n",
       "\t P2.FGF20 & THAP11 & Lissencephaly  & 1.7670103 &  0.82131046 & 1.00000000 & 0 & 145 &  2 & 1285 &                                   \\\\\n",
       "\t P2.FGF20 & THAP11 & BD\\_2019        & 3.7886822 &  1.92169611 & 0.02251013 & 5 & 140 & 12 & 1275 & MRPL11,NDUFB2,POC1A,SF3B2,TMEM161A\\\\\n",
       "\t P2.FGF20 & THAP11 & DevDyslexia    & 2.9473081 &  1.55939790 & 1.00000000 & 0 & 145 &  1 & 1286 &                                   \\\\\n",
       "\t P2.FGF20 & THAP11 & Heterotopia    & 8.8487973 &  3.14548137 & 1.00000000 & 0 & 145 &  0 & 1287 &                                   \\\\\n",
       "\t P2.FGF20 & THAP11 & ADHD\\_2019      & 1.2611684 &  0.33476091 & 1.00000000 & 0 & 145 &  3 & 1284 &                                   \\\\\n",
       "\t P2.FGF20 & THAP11 & DD             & 1.2696075 &  0.34438260 & 0.57525922 & 1 & 144 &  7 & 1280 & HDAC8                             \\\\\n",
       "\t P2.FGF20 & THAP11 & FCDandmTOR     & 0.9801451 & -0.02893276 & 1.00000000 & 0 & 145 &  4 & 1283 &                                   \\\\\n",
       "\t P2.FGF20 & THAP11 & Cobblestone    & 8.8487973 &  3.14548137 & 1.00000000 & 0 & 145 &  0 & 1287 &                                   \\\\\n",
       "\t P2.FGF20 & THAP11 & ASD            & 0.8836225 & -0.17849794 & 0.67061071 & 5 & 140 & 50 & 1237 & HDAC8,IQGAP3,NR1D1,PHB,TRAF7      \\\\\n",
       "\t P2.FGF10 & ZNF667 & Microcephaly   & 0.6190476 & -0.69187770 & 1.00000000 & 0 &  73 &  5 &  500 &                                   \\\\\n",
       "\t P2.FGF10 & ZNF667 & Hydrocephaly   & 3.5162825 &  1.81405098 & 0.16866955 & 2 &  71 &  4 &  501 & GFAP,RNF125                       \\\\\n",
       "\t P2.FGF10 & ZNF667 & RareMCD        & 2.2879819 &  1.19407561 & 1.00000000 & 0 &  73 &  1 &  504 &                                   \\\\\n",
       "\t P2.FGF10 & ZNF667 & MDD\\_2018       & 1.3700680 &  0.45424753 & 1.00000000 & 0 &  73 &  2 &  503 &                                   \\\\\n",
       "\t P2.FGF10 & ZNF667 & Polymicrogyria & 6.8775510 &  2.78189494 & 1.00000000 & 0 &  73 &  0 &  505 &                                   \\\\\n",
       "\t P2.FGF10 & ZNF667 & SCZ\\_2020       & 3.4814267 &  1.79967863 & 0.33355584 & 1 &  72 &  2 &  503 & FAM83D                            \\\\\n",
       "\t P2.FGF10 & ZNF667 & AN\\_2019        & 0.7581255 & -0.39949146 & 1.00000000 & 0 &  73 &  4 &  501 &                                   \\\\\n",
       "\t P2.FGF10 & ZNF667 & NEUROT\\_2018    & 0.7581255 & -0.39949146 & 1.00000000 & 0 &  73 &  4 &  501 &                                   \\\\\n",
       "\t P2.FGF10 & ZNF667 & PD\\_2014        & 2.2879819 &  1.19407561 & 1.00000000 & 0 &  73 &  1 &  504 &                                   \\\\\n",
       "\t P2.FGF10 & ZNF667 & AD\\_2019        & 0.9881153 & -0.01724871 & 0.66283801 & 1 &  72 &  7 &  498 & C7orf61                           \\\\\n",
       "\t P2.FGF10 & ZNF667 & Lissencephaly  & 2.2879819 &  1.19407561 & 1.00000000 & 0 &  73 &  1 &  504 &                                   \\\\\n",
       "\t ⋮ & ⋮ & ⋮ & ⋮ & ⋮ & ⋮ & ⋮ & ⋮ & ⋮ & ⋮ & ⋮\\\\\n",
       "\t P8.FGF1   & VSX2 & PD\\_2014        &  1.9874286 &  0.9909030 & 1.00000000 &  0 &  62 &  3 &  869 &                                                                                                         \\\\\n",
       "\t P8.FGF1   & VSX2 & AD\\_2019        &  0.9232000 & -0.1152849 & 1.00000000 &  0 &  62 &  7 &  865 &                                                                                                         \\\\\n",
       "\t P8.FGF1   & VSX2 & Lissencephaly  &  4.6480000 &  2.2166101 & 1.00000000 &  0 &  62 &  1 &  871 &                                                                                                         \\\\\n",
       "\t P8.FGF1   & VSX2 & BD\\_2019        &  0.7271579 & -0.4596594 & 1.00000000 &  0 &  62 &  9 &  863 &                                                                                                         \\\\\n",
       "\t P8.FGF1   & VSX2 & DevDyslexia    &  2.7856000 &  1.4779881 & 1.00000000 &  0 &  62 &  2 &  870 &                                                                                                         \\\\\n",
       "\t P8.FGF1   & VSX2 & Heterotopia    &  2.7856000 &  1.4779881 & 1.00000000 &  0 &  62 &  2 &  870 &                                                                                                         \\\\\n",
       "\t P8.FGF1   & VSX2 & ADHD\\_2019      &  4.6480000 &  2.2166101 & 1.00000000 &  0 &  62 &  1 &  871 &                                                                                                         \\\\\n",
       "\t P8.FGF1   & VSX2 & DD             &  3.5490973 &  1.8274521 & 0.29121204 &  1 &  61 &  4 &  868 & WDR45                                                                                                   \\\\\n",
       "\t P8.FGF1   & VSX2 & FCDandmTOR     &  1.2618182 &  0.3355040 & 1.00000000 &  0 &  62 &  5 &  867 &                                                                                                         \\\\\n",
       "\t P8.FGF1   & VSX2 & Cobblestone    &  2.7856000 &  1.4779881 & 1.00000000 &  0 &  62 &  2 &  870 &                                                                                                         \\\\\n",
       "\t P8.FGF1   & VSX2 & ASD            &  1.8182266 &  0.8625320 & 0.12342290 &  7 &  55 & 57 &  815 & ACE,ACHE,CDH22,IGF1,KCNJ15,RPL10,SLC9A9                                                                 \\\\\n",
       "\t P8.FGF0.1 & PURA & Microcephaly   & 16.2366412 &  4.0211813 & 0.15634921 &  1 & 196 &  0 & 1063 & RAB18                                                                                                   \\\\\n",
       "\t P8.FGF0.1 & PURA & Hydrocephaly   &  1.3504073 &  0.4333946 & 0.57325037 &  1 & 196 &  4 & 1059 & ARSB                                                                                                    \\\\\n",
       "\t P8.FGF0.1 & PURA & RareMCD        & 16.2366412 &  4.0211813 & 0.15634921 &  1 & 196 &  0 & 1063 & PRICKLE1                                                                                                \\\\\n",
       "\t P8.FGF0.1 & PURA & MDD\\_2018       &  0.7670886 & -0.3825349 & 1.00000000 &  0 & 197 &  3 & 1060 &                                                                                                         \\\\\n",
       "\t P8.FGF0.1 & PURA & Polymicrogyria & 16.2366412 &  4.0211813 & 0.15634921 &  1 & 196 &  0 & 1063 & RAB18                                                                                                   \\\\\n",
       "\t P8.FGF0.1 & PURA & SCZ\\_2020       &  0.4118793 & -1.2797066 & 1.00000000 &  0 & 197 &  6 & 1057 &                                                                                                         \\\\\n",
       "\t P8.FGF0.1 & PURA & AN\\_2019        &  0.7670886 & -0.3825349 & 1.00000000 &  0 & 197 &  3 & 1060 &                                                                                                         \\\\\n",
       "\t P8.FGF0.1 & PURA & NEUROT\\_2018    &  0.4470673 & -1.1614360 & 0.89158319 &  1 & 196 & 12 & 1051 & RGS6                                                                                                    \\\\\n",
       "\t P8.FGF0.1 & PURA & PD\\_2014        &  1.0749367 &  0.1042517 & 1.00000000 &  0 & 197 &  2 & 1061 &                                                                                                         \\\\\n",
       "\t P8.FGF0.1 & PURA & AD\\_2019        &  0.5374609 & -0.8957683 & 0.84715361 &  1 & 196 & 10 & 1053 & BTNL2                                                                                                   \\\\\n",
       "\t P8.FGF0.1 & PURA & Lissencephaly  &  1.7932489 &  0.8425758 & 1.00000000 &  0 & 197 &  1 & 1062 &                                                                                                         \\\\\n",
       "\t P8.FGF0.1 & PURA & BD\\_2019        &  0.2540084 & -1.9770517 & 1.00000000 &  0 & 197 & 10 & 1053 &                                                                                                         \\\\\n",
       "\t P8.FGF0.1 & PURA & DevDyslexia    & 10.8569497 &  3.4405469 & 0.06547503 &  2 & 195 &  1 & 1062 & NEDD4L,NRSN1                                                                                            \\\\\n",
       "\t P8.FGF0.1 & PURA & Heterotopia    & 16.2366412 &  4.0211813 & 0.15634921 &  1 & 196 &  0 & 1063 & NEDD4L                                                                                                  \\\\\n",
       "\t P8.FGF0.1 & PURA & ADHD\\_2019      &  5.3848101 &  2.4288955 & 1.00000000 &  0 & 197 &  0 & 1063 &                                                                                                         \\\\\n",
       "\t P8.FGF0.1 & PURA & DD             &  2.7123640 &  1.4395508 & 0.23831141 &  2 & 195 &  4 & 1059 & GNAO1                                                                                                   \\\\\n",
       "\t P8.FGF0.1 & PURA & FCDandmTOR     &  0.4872267 & -1.0373349 & 1.00000000 &  0 & 197 &  5 & 1058 &                                                                                                         \\\\\n",
       "\t P8.FGF0.1 & PURA & Cobblestone    &  5.3848101 &  2.4288955 & 1.00000000 &  0 & 197 &  0 & 1063 &                                                                                                         \\\\\n",
       "\t P8.FGF0.1 & PURA & ASD            &  1.3601829 &  0.4438006 & 0.17259566 & 17 & 180 & 69 &  994 & ANK2,CADPS,DDC,DNER,FGF14,GNAS,JMJD1C,LRRC4C,MPP6,NRXN1,NTRK3,PCDHA11,PLXNA4,PRICKLE1,SDC2,ZBTB20,ZNF713\\\\\n",
       "\\end{tabular}\n"
      ],
      "text/markdown": [
       "\n",
       "A data.frame: 1140 × 11\n",
       "\n",
       "| geneSet &lt;fct&gt; | Core &lt;chr&gt; | testSet &lt;fct&gt; | estimate.odds ratio &lt;dbl&gt; | OR.log2 &lt;dbl&gt; | p.value &lt;dbl&gt; | REG TEST &lt;dbl&gt; | REG NOT TEST &lt;dbl&gt; | NOT REG TEST &lt;dbl&gt; | NOT REG NOT TEST &lt;dbl&gt; | Risk_Targets &lt;chr&gt; |\n",
       "|---|---|---|---|---|---|---|---|---|---|---|\n",
       "| P2.FGF20 | THAP11 | Microcephaly   | 0.4624706 | -1.11256641 | 1.00000000 | 0 | 145 |  9 | 1278 | <!----> |\n",
       "| P2.FGF20 | THAP11 | Hydrocephaly   | 1.1101331 |  0.15073261 | 0.61850881 | 1 | 144 |  8 | 1279 | RNASEH2A                           |\n",
       "| P2.FGF20 | THAP11 | RareMCD        | 2.9473081 |  1.55939790 | 1.00000000 | 0 | 145 |  1 | 1286 | <!----> |\n",
       "| P2.FGF20 | THAP11 | MDD_2018       | 2.9473081 |  1.55939790 | 1.00000000 | 0 | 145 |  1 | 1286 | <!----> |\n",
       "| P2.FGF20 | THAP11 | Polymicrogyria | 1.7670103 |  0.82131046 | 1.00000000 | 0 | 145 |  2 | 1285 | <!----> |\n",
       "| P2.FGF20 | THAP11 | SCZ_2020       | 5.4054199 |  2.43440668 | 0.03889343 | 3 | 142 |  5 | 1282 | BCL2L12,ELAC2,PAK6                 |\n",
       "| P2.FGF20 | THAP11 | AN_2019        | 2.6951806 |  1.43038196 | 0.13682837 | 3 | 142 | 10 | 1277 | CDC25A,CYB561D2,RBM5               |\n",
       "| P2.FGF20 | THAP11 | NEUROT_2018    | 0.7361566 | -0.44191547 | 0.75792001 | 2 | 143 | 24 | 1263 | CLP1,GPANK1                        |\n",
       "| P2.FGF20 | THAP11 | PD_2014        | 8.8487973 |  3.14548137 | 1.00000000 | 0 | 145 |  0 | 1287 | <!----> |\n",
       "| P2.FGF20 | THAP11 | AD_2019        | 0.8056973 | -0.31169012 | 0.72371433 | 1 | 144 | 11 | 1276 | FBXO24                             |\n",
       "| P2.FGF20 | THAP11 | Lissencephaly  | 1.7670103 |  0.82131046 | 1.00000000 | 0 | 145 |  2 | 1285 | <!----> |\n",
       "| P2.FGF20 | THAP11 | BD_2019        | 3.7886822 |  1.92169611 | 0.02251013 | 5 | 140 | 12 | 1275 | MRPL11,NDUFB2,POC1A,SF3B2,TMEM161A |\n",
       "| P2.FGF20 | THAP11 | DevDyslexia    | 2.9473081 |  1.55939790 | 1.00000000 | 0 | 145 |  1 | 1286 | <!----> |\n",
       "| P2.FGF20 | THAP11 | Heterotopia    | 8.8487973 |  3.14548137 | 1.00000000 | 0 | 145 |  0 | 1287 | <!----> |\n",
       "| P2.FGF20 | THAP11 | ADHD_2019      | 1.2611684 |  0.33476091 | 1.00000000 | 0 | 145 |  3 | 1284 | <!----> |\n",
       "| P2.FGF20 | THAP11 | DD             | 1.2696075 |  0.34438260 | 0.57525922 | 1 | 144 |  7 | 1280 | HDAC8                              |\n",
       "| P2.FGF20 | THAP11 | FCDandmTOR     | 0.9801451 | -0.02893276 | 1.00000000 | 0 | 145 |  4 | 1283 | <!----> |\n",
       "| P2.FGF20 | THAP11 | Cobblestone    | 8.8487973 |  3.14548137 | 1.00000000 | 0 | 145 |  0 | 1287 | <!----> |\n",
       "| P2.FGF20 | THAP11 | ASD            | 0.8836225 | -0.17849794 | 0.67061071 | 5 | 140 | 50 | 1237 | HDAC8,IQGAP3,NR1D1,PHB,TRAF7       |\n",
       "| P2.FGF10 | ZNF667 | Microcephaly   | 0.6190476 | -0.69187770 | 1.00000000 | 0 |  73 |  5 |  500 | <!----> |\n",
       "| P2.FGF10 | ZNF667 | Hydrocephaly   | 3.5162825 |  1.81405098 | 0.16866955 | 2 |  71 |  4 |  501 | GFAP,RNF125                        |\n",
       "| P2.FGF10 | ZNF667 | RareMCD        | 2.2879819 |  1.19407561 | 1.00000000 | 0 |  73 |  1 |  504 | <!----> |\n",
       "| P2.FGF10 | ZNF667 | MDD_2018       | 1.3700680 |  0.45424753 | 1.00000000 | 0 |  73 |  2 |  503 | <!----> |\n",
       "| P2.FGF10 | ZNF667 | Polymicrogyria | 6.8775510 |  2.78189494 | 1.00000000 | 0 |  73 |  0 |  505 | <!----> |\n",
       "| P2.FGF10 | ZNF667 | SCZ_2020       | 3.4814267 |  1.79967863 | 0.33355584 | 1 |  72 |  2 |  503 | FAM83D                             |\n",
       "| P2.FGF10 | ZNF667 | AN_2019        | 0.7581255 | -0.39949146 | 1.00000000 | 0 |  73 |  4 |  501 | <!----> |\n",
       "| P2.FGF10 | ZNF667 | NEUROT_2018    | 0.7581255 | -0.39949146 | 1.00000000 | 0 |  73 |  4 |  501 | <!----> |\n",
       "| P2.FGF10 | ZNF667 | PD_2014        | 2.2879819 |  1.19407561 | 1.00000000 | 0 |  73 |  1 |  504 | <!----> |\n",
       "| P2.FGF10 | ZNF667 | AD_2019        | 0.9881153 | -0.01724871 | 0.66283801 | 1 |  72 |  7 |  498 | C7orf61                            |\n",
       "| P2.FGF10 | ZNF667 | Lissencephaly  | 2.2879819 |  1.19407561 | 1.00000000 | 0 |  73 |  1 |  504 | <!----> |\n",
       "| ⋮ | ⋮ | ⋮ | ⋮ | ⋮ | ⋮ | ⋮ | ⋮ | ⋮ | ⋮ | ⋮ |\n",
       "| P8.FGF1   | VSX2 | PD_2014        |  1.9874286 |  0.9909030 | 1.00000000 |  0 |  62 |  3 |  869 | <!----> |\n",
       "| P8.FGF1   | VSX2 | AD_2019        |  0.9232000 | -0.1152849 | 1.00000000 |  0 |  62 |  7 |  865 | <!----> |\n",
       "| P8.FGF1   | VSX2 | Lissencephaly  |  4.6480000 |  2.2166101 | 1.00000000 |  0 |  62 |  1 |  871 | <!----> |\n",
       "| P8.FGF1   | VSX2 | BD_2019        |  0.7271579 | -0.4596594 | 1.00000000 |  0 |  62 |  9 |  863 | <!----> |\n",
       "| P8.FGF1   | VSX2 | DevDyslexia    |  2.7856000 |  1.4779881 | 1.00000000 |  0 |  62 |  2 |  870 | <!----> |\n",
       "| P8.FGF1   | VSX2 | Heterotopia    |  2.7856000 |  1.4779881 | 1.00000000 |  0 |  62 |  2 |  870 | <!----> |\n",
       "| P8.FGF1   | VSX2 | ADHD_2019      |  4.6480000 |  2.2166101 | 1.00000000 |  0 |  62 |  1 |  871 | <!----> |\n",
       "| P8.FGF1   | VSX2 | DD             |  3.5490973 |  1.8274521 | 0.29121204 |  1 |  61 |  4 |  868 | WDR45                                                                                                    |\n",
       "| P8.FGF1   | VSX2 | FCDandmTOR     |  1.2618182 |  0.3355040 | 1.00000000 |  0 |  62 |  5 |  867 | <!----> |\n",
       "| P8.FGF1   | VSX2 | Cobblestone    |  2.7856000 |  1.4779881 | 1.00000000 |  0 |  62 |  2 |  870 | <!----> |\n",
       "| P8.FGF1   | VSX2 | ASD            |  1.8182266 |  0.8625320 | 0.12342290 |  7 |  55 | 57 |  815 | ACE,ACHE,CDH22,IGF1,KCNJ15,RPL10,SLC9A9                                                                  |\n",
       "| P8.FGF0.1 | PURA | Microcephaly   | 16.2366412 |  4.0211813 | 0.15634921 |  1 | 196 |  0 | 1063 | RAB18                                                                                                    |\n",
       "| P8.FGF0.1 | PURA | Hydrocephaly   |  1.3504073 |  0.4333946 | 0.57325037 |  1 | 196 |  4 | 1059 | ARSB                                                                                                     |\n",
       "| P8.FGF0.1 | PURA | RareMCD        | 16.2366412 |  4.0211813 | 0.15634921 |  1 | 196 |  0 | 1063 | PRICKLE1                                                                                                 |\n",
       "| P8.FGF0.1 | PURA | MDD_2018       |  0.7670886 | -0.3825349 | 1.00000000 |  0 | 197 |  3 | 1060 | <!----> |\n",
       "| P8.FGF0.1 | PURA | Polymicrogyria | 16.2366412 |  4.0211813 | 0.15634921 |  1 | 196 |  0 | 1063 | RAB18                                                                                                    |\n",
       "| P8.FGF0.1 | PURA | SCZ_2020       |  0.4118793 | -1.2797066 | 1.00000000 |  0 | 197 |  6 | 1057 | <!----> |\n",
       "| P8.FGF0.1 | PURA | AN_2019        |  0.7670886 | -0.3825349 | 1.00000000 |  0 | 197 |  3 | 1060 | <!----> |\n",
       "| P8.FGF0.1 | PURA | NEUROT_2018    |  0.4470673 | -1.1614360 | 0.89158319 |  1 | 196 | 12 | 1051 | RGS6                                                                                                     |\n",
       "| P8.FGF0.1 | PURA | PD_2014        |  1.0749367 |  0.1042517 | 1.00000000 |  0 | 197 |  2 | 1061 | <!----> |\n",
       "| P8.FGF0.1 | PURA | AD_2019        |  0.5374609 | -0.8957683 | 0.84715361 |  1 | 196 | 10 | 1053 | BTNL2                                                                                                    |\n",
       "| P8.FGF0.1 | PURA | Lissencephaly  |  1.7932489 |  0.8425758 | 1.00000000 |  0 | 197 |  1 | 1062 | <!----> |\n",
       "| P8.FGF0.1 | PURA | BD_2019        |  0.2540084 | -1.9770517 | 1.00000000 |  0 | 197 | 10 | 1053 | <!----> |\n",
       "| P8.FGF0.1 | PURA | DevDyslexia    | 10.8569497 |  3.4405469 | 0.06547503 |  2 | 195 |  1 | 1062 | NEDD4L,NRSN1                                                                                             |\n",
       "| P8.FGF0.1 | PURA | Heterotopia    | 16.2366412 |  4.0211813 | 0.15634921 |  1 | 196 |  0 | 1063 | NEDD4L                                                                                                   |\n",
       "| P8.FGF0.1 | PURA | ADHD_2019      |  5.3848101 |  2.4288955 | 1.00000000 |  0 | 197 |  0 | 1063 | <!----> |\n",
       "| P8.FGF0.1 | PURA | DD             |  2.7123640 |  1.4395508 | 0.23831141 |  2 | 195 |  4 | 1059 | GNAO1                                                                                                    |\n",
       "| P8.FGF0.1 | PURA | FCDandmTOR     |  0.4872267 | -1.0373349 | 1.00000000 |  0 | 197 |  5 | 1058 | <!----> |\n",
       "| P8.FGF0.1 | PURA | Cobblestone    |  5.3848101 |  2.4288955 | 1.00000000 |  0 | 197 |  0 | 1063 | <!----> |\n",
       "| P8.FGF0.1 | PURA | ASD            |  1.3601829 |  0.4438006 | 0.17259566 | 17 | 180 | 69 |  994 | ANK2,CADPS,DDC,DNER,FGF14,GNAS,JMJD1C,LRRC4C,MPP6,NRXN1,NTRK3,PCDHA11,PLXNA4,PRICKLE1,SDC2,ZBTB20,ZNF713 |\n",
       "\n"
      ],
      "text/plain": [
       "     geneSet   Core   testSet        estimate.odds ratio OR.log2     p.value   \n",
       "1    P2.FGF20  THAP11 Microcephaly   0.4624706           -1.11256641 1.00000000\n",
       "2    P2.FGF20  THAP11 Hydrocephaly   1.1101331            0.15073261 0.61850881\n",
       "3    P2.FGF20  THAP11 RareMCD        2.9473081            1.55939790 1.00000000\n",
       "4    P2.FGF20  THAP11 MDD_2018       2.9473081            1.55939790 1.00000000\n",
       "5    P2.FGF20  THAP11 Polymicrogyria 1.7670103            0.82131046 1.00000000\n",
       "6    P2.FGF20  THAP11 SCZ_2020       5.4054199            2.43440668 0.03889343\n",
       "7    P2.FGF20  THAP11 AN_2019        2.6951806            1.43038196 0.13682837\n",
       "8    P2.FGF20  THAP11 NEUROT_2018    0.7361566           -0.44191547 0.75792001\n",
       "9    P2.FGF20  THAP11 PD_2014        8.8487973            3.14548137 1.00000000\n",
       "10   P2.FGF20  THAP11 AD_2019        0.8056973           -0.31169012 0.72371433\n",
       "11   P2.FGF20  THAP11 Lissencephaly  1.7670103            0.82131046 1.00000000\n",
       "12   P2.FGF20  THAP11 BD_2019        3.7886822            1.92169611 0.02251013\n",
       "13   P2.FGF20  THAP11 DevDyslexia    2.9473081            1.55939790 1.00000000\n",
       "14   P2.FGF20  THAP11 Heterotopia    8.8487973            3.14548137 1.00000000\n",
       "15   P2.FGF20  THAP11 ADHD_2019      1.2611684            0.33476091 1.00000000\n",
       "16   P2.FGF20  THAP11 DD             1.2696075            0.34438260 0.57525922\n",
       "17   P2.FGF20  THAP11 FCDandmTOR     0.9801451           -0.02893276 1.00000000\n",
       "18   P2.FGF20  THAP11 Cobblestone    8.8487973            3.14548137 1.00000000\n",
       "19   P2.FGF20  THAP11 ASD            0.8836225           -0.17849794 0.67061071\n",
       "20   P2.FGF10  ZNF667 Microcephaly   0.6190476           -0.69187770 1.00000000\n",
       "21   P2.FGF10  ZNF667 Hydrocephaly   3.5162825            1.81405098 0.16866955\n",
       "22   P2.FGF10  ZNF667 RareMCD        2.2879819            1.19407561 1.00000000\n",
       "23   P2.FGF10  ZNF667 MDD_2018       1.3700680            0.45424753 1.00000000\n",
       "24   P2.FGF10  ZNF667 Polymicrogyria 6.8775510            2.78189494 1.00000000\n",
       "25   P2.FGF10  ZNF667 SCZ_2020       3.4814267            1.79967863 0.33355584\n",
       "26   P2.FGF10  ZNF667 AN_2019        0.7581255           -0.39949146 1.00000000\n",
       "27   P2.FGF10  ZNF667 NEUROT_2018    0.7581255           -0.39949146 1.00000000\n",
       "28   P2.FGF10  ZNF667 PD_2014        2.2879819            1.19407561 1.00000000\n",
       "29   P2.FGF10  ZNF667 AD_2019        0.9881153           -0.01724871 0.66283801\n",
       "30   P2.FGF10  ZNF667 Lissencephaly  2.2879819            1.19407561 1.00000000\n",
       "⋮    ⋮         ⋮      ⋮              ⋮                   ⋮           ⋮         \n",
       "1111 P8.FGF1   VSX2   PD_2014         1.9874286           0.9909030  1.00000000\n",
       "1112 P8.FGF1   VSX2   AD_2019         0.9232000          -0.1152849  1.00000000\n",
       "1113 P8.FGF1   VSX2   Lissencephaly   4.6480000           2.2166101  1.00000000\n",
       "1114 P8.FGF1   VSX2   BD_2019         0.7271579          -0.4596594  1.00000000\n",
       "1115 P8.FGF1   VSX2   DevDyslexia     2.7856000           1.4779881  1.00000000\n",
       "1116 P8.FGF1   VSX2   Heterotopia     2.7856000           1.4779881  1.00000000\n",
       "1117 P8.FGF1   VSX2   ADHD_2019       4.6480000           2.2166101  1.00000000\n",
       "1118 P8.FGF1   VSX2   DD              3.5490973           1.8274521  0.29121204\n",
       "1119 P8.FGF1   VSX2   FCDandmTOR      1.2618182           0.3355040  1.00000000\n",
       "1120 P8.FGF1   VSX2   Cobblestone     2.7856000           1.4779881  1.00000000\n",
       "1121 P8.FGF1   VSX2   ASD             1.8182266           0.8625320  0.12342290\n",
       "1122 P8.FGF0.1 PURA   Microcephaly   16.2366412           4.0211813  0.15634921\n",
       "1123 P8.FGF0.1 PURA   Hydrocephaly    1.3504073           0.4333946  0.57325037\n",
       "1124 P8.FGF0.1 PURA   RareMCD        16.2366412           4.0211813  0.15634921\n",
       "1125 P8.FGF0.1 PURA   MDD_2018        0.7670886          -0.3825349  1.00000000\n",
       "1126 P8.FGF0.1 PURA   Polymicrogyria 16.2366412           4.0211813  0.15634921\n",
       "1127 P8.FGF0.1 PURA   SCZ_2020        0.4118793          -1.2797066  1.00000000\n",
       "1128 P8.FGF0.1 PURA   AN_2019         0.7670886          -0.3825349  1.00000000\n",
       "1129 P8.FGF0.1 PURA   NEUROT_2018     0.4470673          -1.1614360  0.89158319\n",
       "1130 P8.FGF0.1 PURA   PD_2014         1.0749367           0.1042517  1.00000000\n",
       "1131 P8.FGF0.1 PURA   AD_2019         0.5374609          -0.8957683  0.84715361\n",
       "1132 P8.FGF0.1 PURA   Lissencephaly   1.7932489           0.8425758  1.00000000\n",
       "1133 P8.FGF0.1 PURA   BD_2019         0.2540084          -1.9770517  1.00000000\n",
       "1134 P8.FGF0.1 PURA   DevDyslexia    10.8569497           3.4405469  0.06547503\n",
       "1135 P8.FGF0.1 PURA   Heterotopia    16.2366412           4.0211813  0.15634921\n",
       "1136 P8.FGF0.1 PURA   ADHD_2019       5.3848101           2.4288955  1.00000000\n",
       "1137 P8.FGF0.1 PURA   DD              2.7123640           1.4395508  0.23831141\n",
       "1138 P8.FGF0.1 PURA   FCDandmTOR      0.4872267          -1.0373349  1.00000000\n",
       "1139 P8.FGF0.1 PURA   Cobblestone     5.3848101           2.4288955  1.00000000\n",
       "1140 P8.FGF0.1 PURA   ASD             1.3601829           0.4438006  0.17259566\n",
       "     REG TEST REG NOT TEST NOT REG TEST NOT REG NOT TEST\n",
       "1    0        145           9           1278            \n",
       "2    1        144           8           1279            \n",
       "3    0        145           1           1286            \n",
       "4    0        145           1           1286            \n",
       "5    0        145           2           1285            \n",
       "6    3        142           5           1282            \n",
       "7    3        142          10           1277            \n",
       "8    2        143          24           1263            \n",
       "9    0        145           0           1287            \n",
       "10   1        144          11           1276            \n",
       "11   0        145           2           1285            \n",
       "12   5        140          12           1275            \n",
       "13   0        145           1           1286            \n",
       "14   0        145           0           1287            \n",
       "15   0        145           3           1284            \n",
       "16   1        144           7           1280            \n",
       "17   0        145           4           1283            \n",
       "18   0        145           0           1287            \n",
       "19   5        140          50           1237            \n",
       "20   0         73           5            500            \n",
       "21   2         71           4            501            \n",
       "22   0         73           1            504            \n",
       "23   0         73           2            503            \n",
       "24   0         73           0            505            \n",
       "25   1         72           2            503            \n",
       "26   0         73           4            501            \n",
       "27   0         73           4            501            \n",
       "28   0         73           1            504            \n",
       "29   1         72           7            498            \n",
       "30   0         73           1            504            \n",
       "⋮    ⋮        ⋮            ⋮            ⋮               \n",
       "1111  0        62           3            869            \n",
       "1112  0        62           7            865            \n",
       "1113  0        62           1            871            \n",
       "1114  0        62           9            863            \n",
       "1115  0        62           2            870            \n",
       "1116  0        62           2            870            \n",
       "1117  0        62           1            871            \n",
       "1118  1        61           4            868            \n",
       "1119  0        62           5            867            \n",
       "1120  0        62           2            870            \n",
       "1121  7        55          57            815            \n",
       "1122  1       196           0           1063            \n",
       "1123  1       196           4           1059            \n",
       "1124  1       196           0           1063            \n",
       "1125  0       197           3           1060            \n",
       "1126  1       196           0           1063            \n",
       "1127  0       197           6           1057            \n",
       "1128  0       197           3           1060            \n",
       "1129  1       196          12           1051            \n",
       "1130  0       197           2           1061            \n",
       "1131  1       196          10           1053            \n",
       "1132  0       197           1           1062            \n",
       "1133  0       197          10           1053            \n",
       "1134  2       195           1           1062            \n",
       "1135  1       196           0           1063            \n",
       "1136  0       197           0           1063            \n",
       "1137  2       195           4           1059            \n",
       "1138  0       197           5           1058            \n",
       "1139  0       197           0           1063            \n",
       "1140 17       180          69            994            \n",
       "     Risk_Targets                                                                                            \n",
       "1                                                                                                            \n",
       "2    RNASEH2A                                                                                                \n",
       "3                                                                                                            \n",
       "4                                                                                                            \n",
       "5                                                                                                            \n",
       "6    BCL2L12,ELAC2,PAK6                                                                                      \n",
       "7    CDC25A,CYB561D2,RBM5                                                                                    \n",
       "8    CLP1,GPANK1                                                                                             \n",
       "9                                                                                                            \n",
       "10   FBXO24                                                                                                  \n",
       "11                                                                                                           \n",
       "12   MRPL11,NDUFB2,POC1A,SF3B2,TMEM161A                                                                      \n",
       "13                                                                                                           \n",
       "14                                                                                                           \n",
       "15                                                                                                           \n",
       "16   HDAC8                                                                                                   \n",
       "17                                                                                                           \n",
       "18                                                                                                           \n",
       "19   HDAC8,IQGAP3,NR1D1,PHB,TRAF7                                                                            \n",
       "20                                                                                                           \n",
       "21   GFAP,RNF125                                                                                             \n",
       "22                                                                                                           \n",
       "23                                                                                                           \n",
       "24                                                                                                           \n",
       "25   FAM83D                                                                                                  \n",
       "26                                                                                                           \n",
       "27                                                                                                           \n",
       "28                                                                                                           \n",
       "29   C7orf61                                                                                                 \n",
       "30                                                                                                           \n",
       "⋮    ⋮                                                                                                       \n",
       "1111                                                                                                         \n",
       "1112                                                                                                         \n",
       "1113                                                                                                         \n",
       "1114                                                                                                         \n",
       "1115                                                                                                         \n",
       "1116                                                                                                         \n",
       "1117                                                                                                         \n",
       "1118 WDR45                                                                                                   \n",
       "1119                                                                                                         \n",
       "1120                                                                                                         \n",
       "1121 ACE,ACHE,CDH22,IGF1,KCNJ15,RPL10,SLC9A9                                                                 \n",
       "1122 RAB18                                                                                                   \n",
       "1123 ARSB                                                                                                    \n",
       "1124 PRICKLE1                                                                                                \n",
       "1125                                                                                                         \n",
       "1126 RAB18                                                                                                   \n",
       "1127                                                                                                         \n",
       "1128                                                                                                         \n",
       "1129 RGS6                                                                                                    \n",
       "1130                                                                                                         \n",
       "1131 BTNL2                                                                                                   \n",
       "1132                                                                                                         \n",
       "1133                                                                                                         \n",
       "1134 NEDD4L,NRSN1                                                                                            \n",
       "1135 NEDD4L                                                                                                  \n",
       "1136                                                                                                         \n",
       "1137 GNAO1                                                                                                   \n",
       "1138                                                                                                         \n",
       "1139                                                                                                         \n",
       "1140 ANK2,CADPS,DDC,DNER,FGF14,GNAS,JMJD1C,LRRC4C,MPP6,NRXN1,NTRK3,PCDHA11,PLXNA4,PRICKLE1,SDC2,ZBTB20,ZNF713"
      ]
     },
     "metadata": {},
     "output_type": "display_data"
    }
   ],
   "source": [
    "dfs[[2]]"
   ]
  },
  {
   "cell_type": "code",
   "execution_count": 27,
   "id": "9598d8d9-a51f-4da5-936a-2458af698916",
   "metadata": {},
   "outputs": [],
   "source": [
    "openxlsx::write.xlsx(x = dfs, file = 'results/supp_table.5.Temporal_regulons_with_disease_enrichment.xlsx')"
   ]
  },
  {
   "cell_type": "markdown",
   "id": "9d239d4f-beb8-4267-8105-d06cd34f2552",
   "metadata": {
    "tags": []
   },
   "source": [
    "### Core-Target bicor"
   ]
  },
  {
   "cell_type": "code",
   "execution_count": 13,
   "id": "7867784a-8ec7-43bb-ba96-5c6e30043c71",
   "metadata": {
    "scrolled": true,
    "tags": []
   },
   "outputs": [
    {
     "name": "stdout",
     "output_type": "stream",
     "text": [
      "2023-01-14 01:50:18 [DEBUG] [BICOR] geneSet P2.FGF1\n",
      "2023-01-14 01:50:18 [DEBUG] [BICOR]    Core OVOL1\n",
      "2023-01-14 01:50:18 [TRACE] Core in expression data: TRUE\n",
      "2023-01-14 01:50:18 [TRACE] Targets not in expression data: 0\n"
     ]
    },
    {
     "name": "stderr",
     "output_type": "stream",
     "text": [
      "\n",
      "\n",
      "Warning message in bicor(x, y, use = use, ...):\n",
      "“bicor: zero MAD in variable 'x'. Pearson correlation was used for individual columns with zero (or missing) MAD.”\n",
      "Warning message in bicor(x, y, use = use, ...):\n",
      "“bicor: zero MAD in variable 'y'. Pearson correlation was used for individual columns with zero (or missing) MAD.”\n",
      "Loading required package: doParallel\n",
      "\n",
      "Loading required package: foreach\n",
      "\n",
      "Loading required package: iterators\n",
      "\n",
      "Loading required package: parallel\n",
      "\n"
     ]
    },
    {
     "name": "stdout",
     "output_type": "stream",
     "text": [
      "2023-01-14 01:51:21 [DEBUG] [BICOR] geneSet P2.FGF10\n",
      "2023-01-14 01:51:21 [DEBUG] [BICOR]    Core ZNF667\n",
      "2023-01-14 01:51:21 [TRACE] Core in expression data: TRUE\n",
      "2023-01-14 01:51:21 [TRACE] Targets not in expression data: 0\n"
     ]
    },
    {
     "name": "stderr",
     "output_type": "stream",
     "text": [
      "Warning message in bicor(x, y, use = use, ...):\n",
      "“bicor: zero MAD in variable 'y'. Pearson correlation was used for individual columns with zero (or missing) MAD.”\n"
     ]
    },
    {
     "name": "stdout",
     "output_type": "stream",
     "text": [
      "2023-01-14 01:52:22 [DEBUG] [BICOR] geneSet P2.FGF20\n",
      "2023-01-14 01:52:22 [DEBUG] [BICOR]    Core THAP11\n",
      "2023-01-14 01:52:22 [TRACE] Core in expression data: TRUE\n",
      "2023-01-14 01:52:22 [TRACE] Targets not in expression data: 0\n"
     ]
    },
    {
     "name": "stderr",
     "output_type": "stream",
     "text": [
      "Warning message in bicor(x, y, use = use, ...):\n",
      "“bicor: zero MAD in variable 'y'. Pearson correlation was used for individual columns with zero (or missing) MAD.”\n"
     ]
    },
    {
     "name": "stdout",
     "output_type": "stream",
     "text": [
      "2023-01-14 01:53:21 [DEBUG] [BICOR] geneSet P3.FGF0.1\n",
      "2023-01-14 01:53:21 [DEBUG] [BICOR]    Core ATF4\n",
      "2023-01-14 01:53:22 [TRACE] Core in expression data: TRUE\n",
      "2023-01-14 01:53:22 [TRACE] Targets not in expression data: 0\n"
     ]
    },
    {
     "name": "stderr",
     "output_type": "stream",
     "text": [
      "Warning message in bicor(x, y, use = use, ...):\n",
      "“bicor: zero MAD in variable 'y'. Pearson correlation was used for individual columns with zero (or missing) MAD.”\n"
     ]
    },
    {
     "name": "stdout",
     "output_type": "stream",
     "text": [
      "2023-01-14 01:54:20 [DEBUG] [BICOR]    Core ZBTB6\n",
      "2023-01-14 01:54:20 [TRACE] Core in expression data: TRUE\n",
      "2023-01-14 01:54:20 [TRACE] Targets not in expression data: 0\n"
     ]
    },
    {
     "name": "stderr",
     "output_type": "stream",
     "text": [
      "Warning message in bicor(x, y, use = use, ...):\n",
      "“bicor: zero MAD in variable 'y'. Pearson correlation was used for individual columns with zero (or missing) MAD.”\n"
     ]
    },
    {
     "name": "stdout",
     "output_type": "stream",
     "text": [
      "2023-01-14 01:55:19 [DEBUG] [BICOR] geneSet P3.FGF10\n",
      "2023-01-14 01:55:19 [DEBUG] [BICOR]    Core DMRT1\n",
      "2023-01-14 01:55:20 [TRACE] Core in expression data: TRUE\n",
      "2023-01-14 01:55:20 [TRACE] Targets not in expression data: 0\n"
     ]
    },
    {
     "name": "stderr",
     "output_type": "stream",
     "text": [
      "Warning message in bicor(x, y, use = use, ...):\n",
      "“bicor: zero MAD in variable 'y'. Pearson correlation was used for individual columns with zero (or missing) MAD.”\n"
     ]
    },
    {
     "name": "stdout",
     "output_type": "stream",
     "text": [
      "2023-01-14 01:56:18 [DEBUG] [BICOR] geneSet P4.FGF0.1\n",
      "2023-01-14 01:56:18 [DEBUG] [BICOR]    Core BCL6B\n",
      "2023-01-14 01:56:18 [TRACE] Core in expression data: TRUE\n",
      "2023-01-14 01:56:18 [TRACE] Targets not in expression data: 0\n"
     ]
    },
    {
     "name": "stderr",
     "output_type": "stream",
     "text": [
      "Warning message in bicor(x, y, use = use, ...):\n",
      "“bicor: zero MAD in variable 'y'. Pearson correlation was used for individual columns with zero (or missing) MAD.”\n"
     ]
    },
    {
     "name": "stdout",
     "output_type": "stream",
     "text": [
      "2023-01-14 01:57:29 [DEBUG] [BICOR]    Core DIDO1\n",
      "2023-01-14 01:57:29 [TRACE] Core in expression data: TRUE\n",
      "2023-01-14 01:57:29 [TRACE] Targets not in expression data: 0\n"
     ]
    },
    {
     "name": "stderr",
     "output_type": "stream",
     "text": [
      "Warning message in bicor(x, y, use = use, ...):\n",
      "“bicor: zero MAD in variable 'y'. Pearson correlation was used for individual columns with zero (or missing) MAD.”\n"
     ]
    },
    {
     "name": "stdout",
     "output_type": "stream",
     "text": [
      "2023-01-14 01:58:43 [DEBUG] [BICOR]    Core E2F3\n",
      "2023-01-14 01:58:43 [TRACE] Core in expression data: TRUE\n",
      "2023-01-14 01:58:43 [TRACE] Targets not in expression data: 0\n"
     ]
    },
    {
     "name": "stderr",
     "output_type": "stream",
     "text": [
      "Warning message in bicor(x, y, use = use, ...):\n",
      "“bicor: zero MAD in variable 'y'. Pearson correlation was used for individual columns with zero (or missing) MAD.”\n"
     ]
    },
    {
     "name": "stdout",
     "output_type": "stream",
     "text": [
      "2023-01-14 02:00:06 [DEBUG] [BICOR]    Core GLIS2\n",
      "2023-01-14 02:00:06 [TRACE] Core in expression data: TRUE\n",
      "2023-01-14 02:00:06 [TRACE] Targets not in expression data: 0\n"
     ]
    },
    {
     "name": "stderr",
     "output_type": "stream",
     "text": [
      "Warning message in bicor(x, y, use = use, ...):\n",
      "“bicor: zero MAD in variable 'y'. Pearson correlation was used for individual columns with zero (or missing) MAD.”\n"
     ]
    },
    {
     "name": "stdout",
     "output_type": "stream",
     "text": [
      "2023-01-14 02:01:31 [DEBUG] [BICOR]    Core ILF3\n",
      "2023-01-14 02:01:31 [TRACE] Core in expression data: TRUE\n",
      "2023-01-14 02:01:31 [TRACE] Targets not in expression data: 0\n"
     ]
    },
    {
     "name": "stderr",
     "output_type": "stream",
     "text": [
      "Warning message in bicor(x, y, use = use, ...):\n",
      "“bicor: zero MAD in variable 'y'. Pearson correlation was used for individual columns with zero (or missing) MAD.”\n"
     ]
    },
    {
     "name": "stdout",
     "output_type": "stream",
     "text": [
      "2023-01-14 02:02:47 [DEBUG] [BICOR]    Core KLF7\n",
      "2023-01-14 02:02:47 [TRACE] Core in expression data: TRUE\n",
      "2023-01-14 02:02:47 [TRACE] Targets not in expression data: 0\n"
     ]
    },
    {
     "name": "stderr",
     "output_type": "stream",
     "text": [
      "Warning message in bicor(x, y, use = use, ...):\n",
      "“bicor: zero MAD in variable 'y'. Pearson correlation was used for individual columns with zero (or missing) MAD.”\n"
     ]
    },
    {
     "name": "stdout",
     "output_type": "stream",
     "text": [
      "2023-01-14 02:03:55 [DEBUG] [BICOR]    Core KLF8\n",
      "2023-01-14 02:03:55 [TRACE] Core in expression data: TRUE\n",
      "2023-01-14 02:03:55 [TRACE] Targets not in expression data: 0\n"
     ]
    },
    {
     "name": "stderr",
     "output_type": "stream",
     "text": [
      "Warning message in bicor(x, y, use = use, ...):\n",
      "“bicor: zero MAD in variable 'y'. Pearson correlation was used for individual columns with zero (or missing) MAD.”\n"
     ]
    },
    {
     "name": "stdout",
     "output_type": "stream",
     "text": [
      "2023-01-14 02:05:12 [DEBUG] [BICOR]    Core MECP2\n",
      "2023-01-14 02:05:12 [TRACE] Core in expression data: TRUE\n",
      "2023-01-14 02:05:12 [TRACE] Targets not in expression data: 0\n"
     ]
    },
    {
     "name": "stderr",
     "output_type": "stream",
     "text": [
      "Warning message in bicor(x, y, use = use, ...):\n",
      "“bicor: zero MAD in variable 'y'. Pearson correlation was used for individual columns with zero (or missing) MAD.”\n"
     ]
    },
    {
     "name": "stdout",
     "output_type": "stream",
     "text": [
      "2023-01-14 02:06:35 [DEBUG] [BICOR]    Core MTF1\n",
      "2023-01-14 02:06:35 [TRACE] Core in expression data: TRUE\n",
      "2023-01-14 02:06:35 [TRACE] Targets not in expression data: 0\n"
     ]
    },
    {
     "name": "stderr",
     "output_type": "stream",
     "text": [
      "Warning message in bicor(x, y, use = use, ...):\n",
      "“bicor: zero MAD in variable 'y'. Pearson correlation was used for individual columns with zero (or missing) MAD.”\n"
     ]
    },
    {
     "name": "stdout",
     "output_type": "stream",
     "text": [
      "2023-01-14 02:07:53 [DEBUG] [BICOR]    Core PLAGL1\n",
      "2023-01-14 02:07:53 [TRACE] Core in expression data: TRUE\n",
      "2023-01-14 02:07:53 [TRACE] Targets not in expression data: 0\n"
     ]
    },
    {
     "name": "stderr",
     "output_type": "stream",
     "text": [
      "Warning message in bicor(x, y, use = use, ...):\n",
      "“bicor: zero MAD in variable 'y'. Pearson correlation was used for individual columns with zero (or missing) MAD.”\n"
     ]
    },
    {
     "name": "stdout",
     "output_type": "stream",
     "text": [
      "2023-01-14 02:09:02 [DEBUG] [BICOR]    Core RBAK\n",
      "2023-01-14 02:09:02 [TRACE] Core in expression data: TRUE\n",
      "2023-01-14 02:09:02 [TRACE] Targets not in expression data: 0\n"
     ]
    },
    {
     "name": "stderr",
     "output_type": "stream",
     "text": [
      "Warning message in bicor(x, y, use = use, ...):\n",
      "“bicor: zero MAD in variable 'y'. Pearson correlation was used for individual columns with zero (or missing) MAD.”\n"
     ]
    },
    {
     "name": "stdout",
     "output_type": "stream",
     "text": [
      "2023-01-14 02:10:16 [DEBUG] [BICOR]    Core SIN3A\n",
      "2023-01-14 02:10:16 [TRACE] Core in expression data: TRUE\n",
      "2023-01-14 02:10:16 [TRACE] Targets not in expression data: 0\n"
     ]
    },
    {
     "name": "stderr",
     "output_type": "stream",
     "text": [
      "Warning message in bicor(x, y, use = use, ...):\n",
      "“bicor: zero MAD in variable 'y'. Pearson correlation was used for individual columns with zero (or missing) MAD.”\n"
     ]
    },
    {
     "name": "stdout",
     "output_type": "stream",
     "text": [
      "2023-01-14 02:11:17 [DEBUG] [BICOR]    Core SMAD9\n",
      "2023-01-14 02:11:17 [TRACE] Core in expression data: TRUE\n",
      "2023-01-14 02:11:17 [TRACE] Targets not in expression data: 0\n"
     ]
    },
    {
     "name": "stderr",
     "output_type": "stream",
     "text": [
      "Warning message in bicor(x, y, use = use, ...):\n",
      "“bicor: zero MAD in variable 'y'. Pearson correlation was used for individual columns with zero (or missing) MAD.”\n"
     ]
    },
    {
     "name": "stdout",
     "output_type": "stream",
     "text": [
      "2023-01-14 02:12:18 [DEBUG] [BICOR]    Core SP1\n",
      "2023-01-14 02:12:18 [TRACE] Core in expression data: TRUE\n",
      "2023-01-14 02:12:18 [TRACE] Targets not in expression data: 0\n"
     ]
    },
    {
     "name": "stderr",
     "output_type": "stream",
     "text": [
      "Warning message in bicor(x, y, use = use, ...):\n",
      "“bicor: zero MAD in variable 'y'. Pearson correlation was used for individual columns with zero (or missing) MAD.”\n"
     ]
    },
    {
     "name": "stdout",
     "output_type": "stream",
     "text": [
      "2023-01-14 02:13:20 [DEBUG] [BICOR]    Core SP2\n",
      "2023-01-14 02:13:20 [TRACE] Core in expression data: TRUE\n",
      "2023-01-14 02:13:20 [TRACE] Targets not in expression data: 0\n"
     ]
    },
    {
     "name": "stderr",
     "output_type": "stream",
     "text": [
      "Warning message in bicor(x, y, use = use, ...):\n",
      "“bicor: zero MAD in variable 'y'. Pearson correlation was used for individual columns with zero (or missing) MAD.”\n"
     ]
    },
    {
     "name": "stdout",
     "output_type": "stream",
     "text": [
      "2023-01-14 02:14:23 [DEBUG] [BICOR]    Core SREBF2\n",
      "2023-01-14 02:14:23 [TRACE] Core in expression data: TRUE\n",
      "2023-01-14 02:14:23 [TRACE] Targets not in expression data: 0\n"
     ]
    },
    {
     "name": "stderr",
     "output_type": "stream",
     "text": [
      "Warning message in bicor(x, y, use = use, ...):\n",
      "“bicor: zero MAD in variable 'y'. Pearson correlation was used for individual columns with zero (or missing) MAD.”\n"
     ]
    },
    {
     "name": "stdout",
     "output_type": "stream",
     "text": [
      "2023-01-14 02:15:25 [DEBUG] [BICOR]    Core TAF1\n",
      "2023-01-14 02:15:25 [TRACE] Core in expression data: TRUE\n",
      "2023-01-14 02:15:25 [TRACE] Targets not in expression data: 0\n"
     ]
    },
    {
     "name": "stderr",
     "output_type": "stream",
     "text": [
      "Warning message in bicor(x, y, use = use, ...):\n",
      "“bicor: zero MAD in variable 'y'. Pearson correlation was used for individual columns with zero (or missing) MAD.”\n"
     ]
    },
    {
     "name": "stdout",
     "output_type": "stream",
     "text": [
      "2023-01-14 02:16:28 [DEBUG] [BICOR]    Core TFDP1\n",
      "2023-01-14 02:16:28 [TRACE] Core in expression data: TRUE\n",
      "2023-01-14 02:16:28 [TRACE] Targets not in expression data: 0\n"
     ]
    },
    {
     "name": "stderr",
     "output_type": "stream",
     "text": [
      "Warning message in bicor(x, y, use = use, ...):\n",
      "“bicor: zero MAD in variable 'y'. Pearson correlation was used for individual columns with zero (or missing) MAD.”\n"
     ]
    },
    {
     "name": "stdout",
     "output_type": "stream",
     "text": [
      "2023-01-14 02:17:31 [DEBUG] [BICOR]    Core ZBTB10\n",
      "2023-01-14 02:17:31 [TRACE] Core in expression data: TRUE\n",
      "2023-01-14 02:17:31 [TRACE] Targets not in expression data: 0\n"
     ]
    },
    {
     "name": "stderr",
     "output_type": "stream",
     "text": [
      "Warning message in bicor(x, y, use = use, ...):\n",
      "“bicor: zero MAD in variable 'y'. Pearson correlation was used for individual columns with zero (or missing) MAD.”\n"
     ]
    },
    {
     "name": "stdout",
     "output_type": "stream",
     "text": [
      "2023-01-14 02:18:35 [DEBUG] [BICOR]    Core ZBTB5\n",
      "2023-01-14 02:18:35 [TRACE] Core in expression data: TRUE\n",
      "2023-01-14 02:18:35 [TRACE] Targets not in expression data: 0\n"
     ]
    },
    {
     "name": "stderr",
     "output_type": "stream",
     "text": [
      "Warning message in bicor(x, y, use = use, ...):\n",
      "“bicor: zero MAD in variable 'y'. Pearson correlation was used for individual columns with zero (or missing) MAD.”\n"
     ]
    },
    {
     "name": "stdout",
     "output_type": "stream",
     "text": [
      "2023-01-14 02:19:37 [DEBUG] [BICOR]    Core ZBTB8A\n",
      "2023-01-14 02:19:37 [TRACE] Core in expression data: TRUE\n",
      "2023-01-14 02:19:37 [TRACE] Targets not in expression data: 0\n"
     ]
    },
    {
     "name": "stderr",
     "output_type": "stream",
     "text": [
      "Warning message in bicor(x, y, use = use, ...):\n",
      "“bicor: zero MAD in variable 'y'. Pearson correlation was used for individual columns with zero (or missing) MAD.”\n"
     ]
    },
    {
     "name": "stdout",
     "output_type": "stream",
     "text": [
      "2023-01-14 02:20:39 [DEBUG] [BICOR]    Core ZFHX2\n",
      "2023-01-14 02:20:39 [TRACE] Core in expression data: TRUE\n",
      "2023-01-14 02:20:39 [TRACE] Targets not in expression data: 0\n"
     ]
    },
    {
     "name": "stderr",
     "output_type": "stream",
     "text": [
      "Warning message in bicor(x, y, use = use, ...):\n",
      "“bicor: zero MAD in variable 'y'. Pearson correlation was used for individual columns with zero (or missing) MAD.”\n"
     ]
    },
    {
     "name": "stdout",
     "output_type": "stream",
     "text": [
      "2023-01-14 02:21:41 [DEBUG] [BICOR]    Core ZNF142\n",
      "2023-01-14 02:21:41 [TRACE] Core in expression data: TRUE\n",
      "2023-01-14 02:21:41 [TRACE] Targets not in expression data: 0\n"
     ]
    },
    {
     "name": "stderr",
     "output_type": "stream",
     "text": [
      "Warning message in bicor(x, y, use = use, ...):\n",
      "“bicor: zero MAD in variable 'y'. Pearson correlation was used for individual columns with zero (or missing) MAD.”\n"
     ]
    },
    {
     "name": "stdout",
     "output_type": "stream",
     "text": [
      "2023-01-14 02:22:45 [DEBUG] [BICOR]    Core ZNF37A\n",
      "2023-01-14 02:22:45 [TRACE] Core in expression data: TRUE\n",
      "2023-01-14 02:22:45 [TRACE] Targets not in expression data: 0\n"
     ]
    },
    {
     "name": "stderr",
     "output_type": "stream",
     "text": [
      "Warning message in bicor(x, y, use = use, ...):\n",
      "“bicor: zero MAD in variable 'y'. Pearson correlation was used for individual columns with zero (or missing) MAD.”\n"
     ]
    },
    {
     "name": "stdout",
     "output_type": "stream",
     "text": [
      "2023-01-14 02:23:46 [DEBUG] [BICOR]    Core ZNF383\n",
      "2023-01-14 02:23:46 [TRACE] Core in expression data: TRUE\n",
      "2023-01-14 02:23:46 [TRACE] Targets not in expression data: 0\n"
     ]
    },
    {
     "name": "stderr",
     "output_type": "stream",
     "text": [
      "Warning message in bicor(x, y, use = use, ...):\n",
      "“bicor: zero MAD in variable 'y'. Pearson correlation was used for individual columns with zero (or missing) MAD.”\n"
     ]
    },
    {
     "name": "stdout",
     "output_type": "stream",
     "text": [
      "2023-01-14 02:24:49 [DEBUG] [BICOR]    Core ZNF398\n",
      "2023-01-14 02:24:49 [TRACE] Core in expression data: TRUE\n",
      "2023-01-14 02:24:49 [TRACE] Targets not in expression data: 0\n"
     ]
    },
    {
     "name": "stderr",
     "output_type": "stream",
     "text": [
      "Warning message in bicor(x, y, use = use, ...):\n",
      "“bicor: zero MAD in variable 'y'. Pearson correlation was used for individual columns with zero (or missing) MAD.”\n"
     ]
    },
    {
     "name": "stdout",
     "output_type": "stream",
     "text": [
      "2023-01-14 02:25:50 [DEBUG] [BICOR]    Core ZNF460\n",
      "2023-01-14 02:25:50 [TRACE] Core in expression data: TRUE\n",
      "2023-01-14 02:25:50 [TRACE] Targets not in expression data: 0\n"
     ]
    },
    {
     "name": "stderr",
     "output_type": "stream",
     "text": [
      "Warning message in bicor(x, y, use = use, ...):\n",
      "“bicor: zero MAD in variable 'y'. Pearson correlation was used for individual columns with zero (or missing) MAD.”\n"
     ]
    },
    {
     "name": "stdout",
     "output_type": "stream",
     "text": [
      "2023-01-14 02:26:53 [DEBUG] [BICOR]    Core ZNF519\n",
      "2023-01-14 02:26:53 [TRACE] Core in expression data: TRUE\n",
      "2023-01-14 02:26:53 [TRACE] Targets not in expression data: 0\n"
     ]
    },
    {
     "name": "stderr",
     "output_type": "stream",
     "text": [
      "Warning message in bicor(x, y, use = use, ...):\n",
      "“bicor: zero MAD in variable 'y'. Pearson correlation was used for individual columns with zero (or missing) MAD.”\n"
     ]
    },
    {
     "name": "stdout",
     "output_type": "stream",
     "text": [
      "2023-01-14 02:27:55 [DEBUG] [BICOR]    Core ZNF704\n",
      "2023-01-14 02:27:55 [TRACE] Core in expression data: TRUE\n",
      "2023-01-14 02:27:55 [TRACE] Targets not in expression data: 0\n"
     ]
    },
    {
     "name": "stderr",
     "output_type": "stream",
     "text": [
      "Warning message in bicor(x, y, use = use, ...):\n",
      "“bicor: zero MAD in variable 'y'. Pearson correlation was used for individual columns with zero (or missing) MAD.”\n"
     ]
    },
    {
     "name": "stdout",
     "output_type": "stream",
     "text": [
      "2023-01-14 02:28:57 [DEBUG] [BICOR]    Core ZNF846\n",
      "2023-01-14 02:28:57 [TRACE] Core in expression data: TRUE\n",
      "2023-01-14 02:28:57 [TRACE] Targets not in expression data: 0\n"
     ]
    },
    {
     "name": "stderr",
     "output_type": "stream",
     "text": [
      "Warning message in bicor(x, y, use = use, ...):\n",
      "“bicor: zero MAD in variable 'y'. Pearson correlation was used for individual columns with zero (or missing) MAD.”\n"
     ]
    },
    {
     "name": "stdout",
     "output_type": "stream",
     "text": [
      "2023-01-14 02:29:58 [DEBUG] [BICOR]    Core ZSCAN22\n",
      "2023-01-14 02:29:58 [TRACE] Core in expression data: TRUE\n",
      "2023-01-14 02:29:58 [TRACE] Targets not in expression data: 0\n"
     ]
    },
    {
     "name": "stderr",
     "output_type": "stream",
     "text": [
      "Warning message in bicor(x, y, use = use, ...):\n",
      "“bicor: zero MAD in variable 'y'. Pearson correlation was used for individual columns with zero (or missing) MAD.”\n"
     ]
    },
    {
     "name": "stdout",
     "output_type": "stream",
     "text": [
      "2023-01-14 02:31:00 [DEBUG] [BICOR]    Core ZXDB\n",
      "2023-01-14 02:31:00 [TRACE] Core in expression data: TRUE\n",
      "2023-01-14 02:31:00 [TRACE] Targets not in expression data: 0\n"
     ]
    },
    {
     "name": "stderr",
     "output_type": "stream",
     "text": [
      "Warning message in bicor(x, y, use = use, ...):\n",
      "“bicor: zero MAD in variable 'y'. Pearson correlation was used for individual columns with zero (or missing) MAD.”\n"
     ]
    },
    {
     "name": "stdout",
     "output_type": "stream",
     "text": [
      "2023-01-14 02:32:01 [DEBUG] [BICOR]    Core ZXDC\n",
      "2023-01-14 02:32:01 [TRACE] Core in expression data: TRUE\n",
      "2023-01-14 02:32:01 [TRACE] Targets not in expression data: 0\n"
     ]
    },
    {
     "name": "stderr",
     "output_type": "stream",
     "text": [
      "Warning message in bicor(x, y, use = use, ...):\n",
      "“bicor: zero MAD in variable 'y'. Pearson correlation was used for individual columns with zero (or missing) MAD.”\n"
     ]
    },
    {
     "name": "stdout",
     "output_type": "stream",
     "text": [
      "2023-01-14 02:33:04 [DEBUG] [BICOR] geneSet P4.FGF10\n",
      "2023-01-14 02:33:04 [DEBUG] [BICOR]    Core PLAG1\n",
      "2023-01-14 02:33:04 [TRACE] Core in expression data: TRUE\n",
      "2023-01-14 02:33:04 [TRACE] Targets not in expression data: 0\n"
     ]
    },
    {
     "name": "stderr",
     "output_type": "stream",
     "text": [
      "Warning message in bicor(x, y, use = use, ...):\n",
      "“bicor: zero MAD in variable 'y'. Pearson correlation was used for individual columns with zero (or missing) MAD.”\n"
     ]
    },
    {
     "name": "stdout",
     "output_type": "stream",
     "text": [
      "2023-01-14 02:33:54 [DEBUG] [BICOR] geneSet P6.FGF0.1\n",
      "2023-01-14 02:33:54 [DEBUG] [BICOR]    Core MEIS1\n",
      "2023-01-14 02:33:54 [TRACE] Core in expression data: TRUE\n",
      "2023-01-14 02:33:54 [TRACE] Targets not in expression data: 0\n"
     ]
    },
    {
     "name": "stderr",
     "output_type": "stream",
     "text": [
      "Warning message in bicor(x, y, use = use, ...):\n",
      "“bicor: zero MAD in variable 'y'. Pearson correlation was used for individual columns with zero (or missing) MAD.”\n"
     ]
    },
    {
     "name": "stdout",
     "output_type": "stream",
     "text": [
      "2023-01-14 02:34:44 [DEBUG] [BICOR]    Core SOX4\n",
      "2023-01-14 02:34:44 [TRACE] Core in expression data: TRUE\n",
      "2023-01-14 02:34:44 [TRACE] Targets not in expression data: 0\n"
     ]
    },
    {
     "name": "stderr",
     "output_type": "stream",
     "text": [
      "Warning message in bicor(x, y, use = use, ...):\n",
      "“bicor: zero MAD in variable 'y'. Pearson correlation was used for individual columns with zero (or missing) MAD.”\n"
     ]
    },
    {
     "name": "stdout",
     "output_type": "stream",
     "text": [
      "2023-01-14 02:35:33 [DEBUG] [BICOR] geneSet P6.FGF10\n",
      "2023-01-14 02:35:33 [DEBUG] [BICOR]    Core GMEB1\n",
      "2023-01-14 02:35:33 [TRACE] Core in expression data: TRUE\n",
      "2023-01-14 02:35:33 [TRACE] Targets not in expression data: 0\n"
     ]
    },
    {
     "name": "stderr",
     "output_type": "stream",
     "text": [
      "Warning message in bicor(x, y, use = use, ...):\n",
      "“bicor: zero MAD in variable 'y'. Pearson correlation was used for individual columns with zero (or missing) MAD.”\n"
     ]
    },
    {
     "name": "stdout",
     "output_type": "stream",
     "text": [
      "2023-01-14 02:36:23 [DEBUG] [BICOR] geneSet P6.FGF20\n",
      "2023-01-14 02:36:23 [DEBUG] [BICOR]    Core NR1H4\n",
      "2023-01-14 02:36:23 [TRACE] Core in expression data: TRUE\n",
      "2023-01-14 02:36:23 [TRACE] Targets not in expression data: 0\n"
     ]
    },
    {
     "name": "stderr",
     "output_type": "stream",
     "text": [
      "Warning message in bicor(x, y, use = use, ...):\n",
      "“bicor: zero MAD in variable 'x'. Pearson correlation was used for individual columns with zero (or missing) MAD.”\n",
      "Warning message in bicor(x, y, use = use, ...):\n",
      "“bicor: zero MAD in variable 'y'. Pearson correlation was used for individual columns with zero (or missing) MAD.”\n"
     ]
    },
    {
     "name": "stdout",
     "output_type": "stream",
     "text": [
      "2023-01-14 02:37:09 [DEBUG] [BICOR] geneSet P8.FGF0.1\n",
      "2023-01-14 02:37:09 [DEBUG] [BICOR]    Core PURA\n",
      "2023-01-14 02:37:09 [TRACE] Core in expression data: TRUE\n",
      "2023-01-14 02:37:09 [TRACE] Targets not in expression data: 0\n"
     ]
    },
    {
     "name": "stderr",
     "output_type": "stream",
     "text": [
      "Warning message in bicor(x, y, use = use, ...):\n",
      "“bicor: zero MAD in variable 'y'. Pearson correlation was used for individual columns with zero (or missing) MAD.”\n"
     ]
    },
    {
     "name": "stdout",
     "output_type": "stream",
     "text": [
      "2023-01-14 02:37:58 [DEBUG] [BICOR] geneSet P8.FGF1\n",
      "2023-01-14 02:37:58 [DEBUG] [BICOR]    Core CEBPD\n",
      "2023-01-14 02:37:58 [TRACE] Core in expression data: TRUE\n",
      "2023-01-14 02:37:58 [TRACE] Targets not in expression data: 0\n"
     ]
    },
    {
     "name": "stderr",
     "output_type": "stream",
     "text": [
      "Warning message in bicor(x, y, use = use, ...):\n",
      "“bicor: zero MAD in variable 'y'. Pearson correlation was used for individual columns with zero (or missing) MAD.”\n"
     ]
    },
    {
     "name": "stdout",
     "output_type": "stream",
     "text": [
      "2023-01-14 02:38:48 [DEBUG] [BICOR]    Core PITX3\n",
      "2023-01-14 02:38:48 [TRACE] Core in expression data: TRUE\n",
      "2023-01-14 02:38:48 [TRACE] Targets not in expression data: 0\n"
     ]
    },
    {
     "name": "stderr",
     "output_type": "stream",
     "text": [
      "Warning message in bicor(x, y, use = use, ...):\n",
      "“bicor: zero MAD in variable 'x'. Pearson correlation was used for individual columns with zero (or missing) MAD.”\n",
      "Warning message in bicor(x, y, use = use, ...):\n",
      "“bicor: zero MAD in variable 'y'. Pearson correlation was used for individual columns with zero (or missing) MAD.”\n"
     ]
    },
    {
     "name": "stdout",
     "output_type": "stream",
     "text": [
      "2023-01-14 02:39:37 [DEBUG] [BICOR]    Core VSX2\n",
      "2023-01-14 02:39:37 [TRACE] Core in expression data: TRUE\n",
      "2023-01-14 02:39:37 [TRACE] Targets not in expression data: 0\n"
     ]
    },
    {
     "name": "stderr",
     "output_type": "stream",
     "text": [
      "Warning message in bicor(x, y, use = use, ...):\n",
      "“bicor: zero MAD in variable 'y'. Pearson correlation was used for individual columns with zero (or missing) MAD.”\n"
     ]
    },
    {
     "name": "stdout",
     "output_type": "stream",
     "text": [
      "2023-01-14 02:40:26 [DEBUG] [BICOR] geneSet P8.FGF10\n",
      "2023-01-14 02:40:26 [DEBUG] [BICOR]    Core PRDM9\n",
      "2023-01-14 02:40:26 [TRACE] Core in expression data: TRUE\n",
      "2023-01-14 02:40:26 [TRACE] Targets not in expression data: 0\n"
     ]
    },
    {
     "name": "stderr",
     "output_type": "stream",
     "text": [
      "Warning message in bicor(x, y, use = use, ...):\n",
      "“bicor: zero MAD in variable 'x'. Pearson correlation was used for individual columns with zero (or missing) MAD.”\n",
      "Warning message in bicor(x, y, use = use, ...):\n",
      "“bicor: zero MAD in variable 'y'. Pearson correlation was used for individual columns with zero (or missing) MAD.”\n"
     ]
    },
    {
     "name": "stdout",
     "output_type": "stream",
     "text": [
      "2023-01-14 02:41:17 [DEBUG] [BICOR] geneSet P8.FGF20\n",
      "2023-01-14 02:41:17 [DEBUG] [BICOR]    Core EGR1\n",
      "2023-01-14 02:41:17 [TRACE] Core in expression data: TRUE\n",
      "2023-01-14 02:41:17 [TRACE] Targets not in expression data: 0\n"
     ]
    },
    {
     "name": "stderr",
     "output_type": "stream",
     "text": [
      "Warning message in bicor(x, y, use = use, ...):\n",
      "“bicor: zero MAD in variable 'y'. Pearson correlation was used for individual columns with zero (or missing) MAD.”\n"
     ]
    },
    {
     "name": "stdout",
     "output_type": "stream",
     "text": [
      "2023-01-14 02:42:18 [DEBUG] [BICOR]    Core EGR2\n",
      "2023-01-14 02:42:18 [TRACE] Core in expression data: TRUE\n",
      "2023-01-14 02:42:18 [TRACE] Targets not in expression data: 0\n"
     ]
    },
    {
     "name": "stderr",
     "output_type": "stream",
     "text": [
      "Warning message in bicor(x, y, use = use, ...):\n",
      "“bicor: zero MAD in variable 'y'. Pearson correlation was used for individual columns with zero (or missing) MAD.”\n"
     ]
    },
    {
     "name": "stdout",
     "output_type": "stream",
     "text": [
      "2023-01-14 02:43:20 [DEBUG] [BICOR]    Core ETV5\n",
      "2023-01-14 02:43:20 [TRACE] Core in expression data: TRUE\n",
      "2023-01-14 02:43:20 [TRACE] Targets not in expression data: 0\n"
     ]
    },
    {
     "name": "stderr",
     "output_type": "stream",
     "text": [
      "Warning message in bicor(x, y, use = use, ...):\n",
      "“bicor: zero MAD in variable 'y'. Pearson correlation was used for individual columns with zero (or missing) MAD.”\n"
     ]
    },
    {
     "name": "stdout",
     "output_type": "stream",
     "text": [
      "2023-01-14 02:44:21 [DEBUG] [BICOR]    Core KLF10\n",
      "2023-01-14 02:44:21 [TRACE] Core in expression data: TRUE\n",
      "2023-01-14 02:44:21 [TRACE] Targets not in expression data: 0\n"
     ]
    },
    {
     "name": "stderr",
     "output_type": "stream",
     "text": [
      "Warning message in bicor(x, y, use = use, ...):\n",
      "“bicor: zero MAD in variable 'y'. Pearson correlation was used for individual columns with zero (or missing) MAD.”\n"
     ]
    },
    {
     "name": "stdout",
     "output_type": "stream",
     "text": [
      "2023-01-14 02:45:23 [DEBUG] [BICOR]    Core KLF17\n",
      "2023-01-14 02:45:23 [TRACE] Core in expression data: TRUE\n",
      "2023-01-14 02:45:23 [TRACE] Targets not in expression data: 0\n"
     ]
    },
    {
     "name": "stderr",
     "output_type": "stream",
     "text": [
      "Warning message in bicor(x, y, use = use, ...):\n",
      "“bicor: zero MAD in variable 'x'. Pearson correlation was used for individual columns with zero (or missing) MAD.”\n",
      "Warning message in bicor(x, y, use = use, ...):\n",
      "“bicor: zero MAD in variable 'y'. Pearson correlation was used for individual columns with zero (or missing) MAD.”\n"
     ]
    },
    {
     "name": "stdout",
     "output_type": "stream",
     "text": [
      "2023-01-14 02:46:25 [DEBUG] [BICOR]    Core KLF3\n",
      "2023-01-14 02:46:25 [TRACE] Core in expression data: TRUE\n",
      "2023-01-14 02:46:25 [TRACE] Targets not in expression data: 0\n"
     ]
    },
    {
     "name": "stderr",
     "output_type": "stream",
     "text": [
      "Warning message in bicor(x, y, use = use, ...):\n",
      "“bicor: zero MAD in variable 'y'. Pearson correlation was used for individual columns with zero (or missing) MAD.”\n"
     ]
    },
    {
     "name": "stdout",
     "output_type": "stream",
     "text": [
      "2023-01-14 02:47:27 [DEBUG] [BICOR]    Core NR3C1\n",
      "2023-01-14 02:47:27 [TRACE] Core in expression data: TRUE\n",
      "2023-01-14 02:47:27 [TRACE] Targets not in expression data: 0\n"
     ]
    },
    {
     "name": "stderr",
     "output_type": "stream",
     "text": [
      "Warning message in bicor(x, y, use = use, ...):\n",
      "“bicor: zero MAD in variable 'y'. Pearson correlation was used for individual columns with zero (or missing) MAD.”\n"
     ]
    },
    {
     "name": "stdout",
     "output_type": "stream",
     "text": [
      "2023-01-14 02:48:27 [DEBUG] [BICOR]    Core SP6\n",
      "2023-01-14 02:48:27 [TRACE] Core in expression data: TRUE\n",
      "2023-01-14 02:48:27 [TRACE] Targets not in expression data: 0\n"
     ]
    },
    {
     "name": "stderr",
     "output_type": "stream",
     "text": [
      "Warning message in bicor(x, y, use = use, ...):\n",
      "“bicor: zero MAD in variable 'y'. Pearson correlation was used for individual columns with zero (or missing) MAD.”\n"
     ]
    },
    {
     "name": "stdout",
     "output_type": "stream",
     "text": [
      "2023-01-14 02:49:28 [DEBUG] [BICOR]    Core YY2\n",
      "2023-01-14 02:49:28 [TRACE] Core in expression data: TRUE\n",
      "2023-01-14 02:49:28 [TRACE] Targets not in expression data: 0\n"
     ]
    },
    {
     "name": "stderr",
     "output_type": "stream",
     "text": [
      "Warning message in bicor(x, y, use = use, ...):\n",
      "“bicor: zero MAD in variable 'y'. Pearson correlation was used for individual columns with zero (or missing) MAD.”\n"
     ]
    },
    {
     "name": "stdout",
     "output_type": "stream",
     "text": [
      "2023-01-14 02:50:30 [DEBUG] [BICOR]    Core ZBTB37\n",
      "2023-01-14 02:50:30 [TRACE] Core in expression data: TRUE\n",
      "2023-01-14 02:50:30 [TRACE] Targets not in expression data: 0\n"
     ]
    },
    {
     "name": "stderr",
     "output_type": "stream",
     "text": [
      "Warning message in bicor(x, y, use = use, ...):\n",
      "“bicor: zero MAD in variable 'y'. Pearson correlation was used for individual columns with zero (or missing) MAD.”\n"
     ]
    },
    {
     "name": "stdout",
     "output_type": "stream",
     "text": [
      "2023-01-14 02:51:31 [DEBUG] [BICOR]    Core ZNF148\n",
      "2023-01-14 02:51:31 [TRACE] Core in expression data: TRUE\n",
      "2023-01-14 02:51:31 [TRACE] Targets not in expression data: 0\n"
     ]
    },
    {
     "name": "stderr",
     "output_type": "stream",
     "text": [
      "Warning message in bicor(x, y, use = use, ...):\n",
      "“bicor: zero MAD in variable 'y'. Pearson correlation was used for individual columns with zero (or missing) MAD.”\n"
     ]
    }
   ],
   "source": [
    "RCT[['bicorRes']] <- compute_bicors(\n",
    "    RCT_result=RCT,\n",
    "    exp.data=exp.data,\n",
    "    n.permutations = n.perms,\n",
    "    ncores=n.cores)"
   ]
  },
  {
   "cell_type": "code",
   "execution_count": 14,
   "id": "7ef15257-42ba-4d2d-b43a-b67291b288ef",
   "metadata": {
    "tags": []
   },
   "outputs": [
    {
     "name": "stdout",
     "output_type": "stream",
     "text": [
      "2023-01-14 02:53:37 [INFO] Saving RCT to ./results/RCT_peaks/\n",
      "2023-01-14 02:53:37 [INFO] Saving results without permutations\n",
      "2023-01-14 02:57:03 [INFO] Saving results of bicorrelations\n"
     ]
    }
   ],
   "source": [
    "save_RCT(RCT, save_dir = results.dir)"
   ]
  },
  {
   "cell_type": "markdown",
   "id": "efa30272-2e4b-4b45-9593-7c84399ed7d7",
   "metadata": {
    "tags": []
   },
   "source": [
    "## Permutations of cores"
   ]
  },
  {
   "cell_type": "code",
   "execution_count": null,
   "id": "583577b3-82b5-48bf-af5f-6f99e4429b31",
   "metadata": {},
   "outputs": [],
   "source": [
    "RCT <- readRDS('results/RCT_peaks/cisTarget_results.rds')"
   ]
  },
  {
   "cell_type": "code",
   "execution_count": null,
   "id": "88e1df34-3b0d-4003-9e9a-9561a2a28dc0",
   "metadata": {},
   "outputs": [],
   "source": [
    "n.perms"
   ]
  },
  {
   "cell_type": "code",
   "execution_count": null,
   "id": "540a86f2-c2a7-4f2b-a742-a68544335aae",
   "metadata": {
    "scrolled": true,
    "tags": []
   },
   "outputs": [],
   "source": [
    "RCT.perm <- permute_RCT(\n",
    "    RCT,\n",
    "    n.permutations = n.perms\n",
    "    # n.permutations = 10\n",
    ")"
   ]
  },
  {
   "cell_type": "code",
   "execution_count": null,
   "id": "777f8908-57a9-41c0-8e61-4958076b3e8b",
   "metadata": {},
   "outputs": [],
   "source": [
    "save_RCT(RCT.perm, save_dir = results.dir)"
   ]
  },
  {
   "cell_type": "code",
   "execution_count": 20,
   "id": "4d507da9-da60-43f8-9016-123fc20b0b25",
   "metadata": {},
   "outputs": [],
   "source": [
    "\n",
    "saved <- readRDS('results/RCT_peaks/cisTarget_results.permuted.rds')"
   ]
  },
  {
   "cell_type": "code",
   "execution_count": 21,
   "id": "85cd6a75-546a-4a05-9a7f-a071a1bb0737",
   "metadata": {
    "collapsed": true,
    "jupyter": {
     "outputs_hidden": true
    },
    "tags": []
   },
   "outputs": [
    {
     "data": {
      "text/html": [
       "<table class=\"dataframe\">\n",
       "<caption>A grouped_df: 20633 × 6</caption>\n",
       "<thead>\n",
       "\t<tr><th scope=col>geneSet</th><th scope=col>TF_highConf</th><th scope=col>TFperm_counts</th><th scope=col>TFperm_pval.nom</th><th scope=col>TFperm_pval.adj</th><th scope=col>TFperm_pval.adj.geneSet</th></tr>\n",
       "\t<tr><th scope=col>&lt;chr&gt;</th><th scope=col>&lt;chr&gt;</th><th scope=col>&lt;int&gt;</th><th scope=col>&lt;dbl&gt;</th><th scope=col>&lt;dbl&gt;</th><th scope=col>&lt;dbl&gt;</th></tr>\n",
       "</thead>\n",
       "<tbody>\n",
       "\t<tr><td>P2.FGF1</td><td>ACAA1 </td><td> 7</td><td>0.007</td><td>0.01873537</td><td>0.01739212</td></tr>\n",
       "\t<tr><td>P2.FGF1</td><td>ADNP  </td><td> 2</td><td>0.002</td><td>0.01653948</td><td>0.01325114</td></tr>\n",
       "\t<tr><td>P2.FGF1</td><td>ADNP2 </td><td> 7</td><td>0.007</td><td>0.01873537</td><td>0.01739212</td></tr>\n",
       "\t<tr><td>P2.FGF1</td><td>AEBP2 </td><td> 7</td><td>0.007</td><td>0.01873537</td><td>0.01739212</td></tr>\n",
       "\t<tr><td>P2.FGF1</td><td>AFF4  </td><td> 1</td><td>0.001</td><td>0.01653948</td><td>0.01250862</td></tr>\n",
       "\t<tr><td>P2.FGF1</td><td>AHCTF1</td><td> 1</td><td>0.001</td><td>0.01653948</td><td>0.01250862</td></tr>\n",
       "\t<tr><td>P2.FGF1</td><td>AHDC1 </td><td> 2</td><td>0.002</td><td>0.01653948</td><td>0.01325114</td></tr>\n",
       "\t<tr><td>P2.FGF1</td><td>AHR   </td><td>17</td><td>0.017</td><td>0.02468931</td><td>0.02324882</td></tr>\n",
       "\t<tr><td>P2.FGF1</td><td>ALX1  </td><td> 7</td><td>0.007</td><td>0.01873537</td><td>0.01739212</td></tr>\n",
       "\t<tr><td>P2.FGF1</td><td>ALX3  </td><td> 2</td><td>0.002</td><td>0.01653948</td><td>0.01325114</td></tr>\n",
       "\t<tr><td>P2.FGF1</td><td>ALX4  </td><td>18</td><td>0.018</td><td>0.02530449</td><td>0.02396147</td></tr>\n",
       "\t<tr><td>P2.FGF1</td><td>ANHX  </td><td> 4</td><td>0.004</td><td>0.01708030</td><td>0.01535450</td></tr>\n",
       "\t<tr><td>P2.FGF1</td><td>APEX1 </td><td> 1</td><td>0.001</td><td>0.01653948</td><td>0.01250862</td></tr>\n",
       "\t<tr><td>P2.FGF1</td><td>AR    </td><td> 5</td><td>0.005</td><td>0.01764409</td><td>0.01563578</td></tr>\n",
       "\t<tr><td>P2.FGF1</td><td>ARGFX </td><td> 1</td><td>0.001</td><td>0.01653948</td><td>0.01250862</td></tr>\n",
       "\t<tr><td>P2.FGF1</td><td>ARID3A</td><td>42</td><td>0.042</td><td>0.04493342</td><td>0.04428924</td></tr>\n",
       "\t<tr><td>P2.FGF1</td><td>ARID5A</td><td> 2</td><td>0.002</td><td>0.01653948</td><td>0.01325114</td></tr>\n",
       "\t<tr><td>P2.FGF1</td><td>ARID5B</td><td> 3</td><td>0.003</td><td>0.01671139</td><td>0.01441391</td></tr>\n",
       "\t<tr><td>P2.FGF1</td><td>ARNT  </td><td>19</td><td>0.019</td><td>0.02596377</td><td>0.02461518</td></tr>\n",
       "\t<tr><td>P2.FGF1</td><td>ARNT2 </td><td> 5</td><td>0.005</td><td>0.01764409</td><td>0.01563578</td></tr>\n",
       "\t<tr><td>P2.FGF1</td><td>ARNTL </td><td>20</td><td>0.020</td><td>0.02664729</td><td>0.02536713</td></tr>\n",
       "\t<tr><td>P2.FGF1</td><td>ARNTL2</td><td> 5</td><td>0.005</td><td>0.01764409</td><td>0.01563578</td></tr>\n",
       "\t<tr><td>P2.FGF1</td><td>ARX   </td><td> 2</td><td>0.002</td><td>0.01653948</td><td>0.01325114</td></tr>\n",
       "\t<tr><td>P2.FGF1</td><td>ASCC1 </td><td> 2</td><td>0.002</td><td>0.01653948</td><td>0.01325114</td></tr>\n",
       "\t<tr><td>P2.FGF1</td><td>ASCL1 </td><td>16</td><td>0.016</td><td>0.02406532</td><td>0.02251794</td></tr>\n",
       "\t<tr><td>P2.FGF1</td><td>ASCL2 </td><td>11</td><td>0.011</td><td>0.02105603</td><td>0.01958405</td></tr>\n",
       "\t<tr><td>P2.FGF1</td><td>ASCL3 </td><td> 5</td><td>0.005</td><td>0.01764409</td><td>0.01563578</td></tr>\n",
       "\t<tr><td>P2.FGF1</td><td>ASCL4 </td><td> 5</td><td>0.005</td><td>0.01764409</td><td>0.01563578</td></tr>\n",
       "\t<tr><td>P2.FGF1</td><td>ASCL5 </td><td> 5</td><td>0.005</td><td>0.01764409</td><td>0.01563578</td></tr>\n",
       "\t<tr><td>P2.FGF1</td><td>ASH2L </td><td> 5</td><td>0.005</td><td>0.01764409</td><td>0.01563578</td></tr>\n",
       "\t<tr><td>⋮</td><td>⋮</td><td>⋮</td><td>⋮</td><td>⋮</td><td>⋮</td></tr>\n",
       "\t<tr><td>P8.FGF20</td><td>ZNF90  </td><td>16</td><td>0.016</td><td>0.02406532</td><td>0.02106592</td></tr>\n",
       "\t<tr><td>P8.FGF20</td><td>ZNF91  </td><td>55</td><td>0.055</td><td>0.05729942</td><td>0.05663762</td></tr>\n",
       "\t<tr><td>P8.FGF20</td><td>ZNF92  </td><td> 1</td><td>0.001</td><td>0.01653948</td><td>0.01176763</td></tr>\n",
       "\t<tr><td>P8.FGF20</td><td>ZNF93  </td><td> 8</td><td>0.008</td><td>0.01933060</td><td>0.01591024</td></tr>\n",
       "\t<tr><td>P8.FGF20</td><td>ZNF98  </td><td> 3</td><td>0.003</td><td>0.01671139</td><td>0.01211966</td></tr>\n",
       "\t<tr><td>P8.FGF20</td><td>ZNF99  </td><td> 6</td><td>0.006</td><td>0.01813093</td><td>0.01415641</td></tr>\n",
       "\t<tr><td>P8.FGF20</td><td>ZSCAN1 </td><td> 8</td><td>0.008</td><td>0.01933060</td><td>0.01591024</td></tr>\n",
       "\t<tr><td>P8.FGF20</td><td>ZSCAN10</td><td>19</td><td>0.019</td><td>0.02596377</td><td>0.02361262</td></tr>\n",
       "\t<tr><td>P8.FGF20</td><td>ZSCAN12</td><td>11</td><td>0.011</td><td>0.02105603</td><td>0.01766478</td></tr>\n",
       "\t<tr><td>P8.FGF20</td><td>ZSCAN16</td><td> 5</td><td>0.005</td><td>0.01764409</td><td>0.01379377</td></tr>\n",
       "\t<tr><td>P8.FGF20</td><td>ZSCAN18</td><td>14</td><td>0.014</td><td>0.02275758</td><td>0.01961660</td></tr>\n",
       "\t<tr><td>P8.FGF20</td><td>ZSCAN2 </td><td>13</td><td>0.013</td><td>0.02217502</td><td>0.01890667</td></tr>\n",
       "\t<tr><td>P8.FGF20</td><td>ZSCAN20</td><td> 8</td><td>0.008</td><td>0.01933060</td><td>0.01591024</td></tr>\n",
       "\t<tr><td>P8.FGF20</td><td>ZSCAN21</td><td>17</td><td>0.017</td><td>0.02468931</td><td>0.02181538</td></tr>\n",
       "\t<tr><td>P8.FGF20</td><td>ZSCAN22</td><td>12</td><td>0.012</td><td>0.02160712</td><td>0.01819893</td></tr>\n",
       "\t<tr><td>P8.FGF20</td><td>ZSCAN23</td><td> 2</td><td>0.002</td><td>0.01653948</td><td>0.01176763</td></tr>\n",
       "\t<tr><td>P8.FGF20</td><td>ZSCAN26</td><td>10</td><td>0.010</td><td>0.02045301</td><td>0.01702281</td></tr>\n",
       "\t<tr><td>P8.FGF20</td><td>ZSCAN29</td><td>38</td><td>0.038</td><td>0.04133344</td><td>0.04024197</td></tr>\n",
       "\t<tr><td>P8.FGF20</td><td>ZSCAN30</td><td>40</td><td>0.040</td><td>0.04311791</td><td>0.04213967</td></tr>\n",
       "\t<tr><td>P8.FGF20</td><td>ZSCAN31</td><td>12</td><td>0.012</td><td>0.02160712</td><td>0.01819893</td></tr>\n",
       "\t<tr><td>P8.FGF20</td><td>ZSCAN32</td><td> 6</td><td>0.006</td><td>0.01813093</td><td>0.01415641</td></tr>\n",
       "\t<tr><td>P8.FGF20</td><td>ZSCAN4 </td><td> 8</td><td>0.008</td><td>0.01933060</td><td>0.01591024</td></tr>\n",
       "\t<tr><td>P8.FGF20</td><td>ZSCAN5A</td><td> 4</td><td>0.004</td><td>0.01708030</td><td>0.01286168</td></tr>\n",
       "\t<tr><td>P8.FGF20</td><td>ZSCAN5B</td><td> 4</td><td>0.004</td><td>0.01708030</td><td>0.01286168</td></tr>\n",
       "\t<tr><td>P8.FGF20</td><td>ZSCAN5C</td><td> 5</td><td>0.005</td><td>0.01764409</td><td>0.01379377</td></tr>\n",
       "\t<tr><td>P8.FGF20</td><td>ZSCAN9 </td><td>11</td><td>0.011</td><td>0.02105603</td><td>0.01766478</td></tr>\n",
       "\t<tr><td>P8.FGF20</td><td>ZXDA   </td><td> 2</td><td>0.002</td><td>0.01653948</td><td>0.01176763</td></tr>\n",
       "\t<tr><td>P8.FGF20</td><td>ZXDB   </td><td> 8</td><td>0.008</td><td>0.01933060</td><td>0.01591024</td></tr>\n",
       "\t<tr><td>P8.FGF20</td><td>ZXDC   </td><td> 8</td><td>0.008</td><td>0.01933060</td><td>0.01591024</td></tr>\n",
       "\t<tr><td>P8.FGF20</td><td>ZZZ3   </td><td> 1</td><td>0.001</td><td>0.01653948</td><td>0.01176763</td></tr>\n",
       "</tbody>\n",
       "</table>\n"
      ],
      "text/latex": [
       "A grouped\\_df: 20633 × 6\n",
       "\\begin{tabular}{llllll}\n",
       " geneSet & TF\\_highConf & TFperm\\_counts & TFperm\\_pval.nom & TFperm\\_pval.adj & TFperm\\_pval.adj.geneSet\\\\\n",
       " <chr> & <chr> & <int> & <dbl> & <dbl> & <dbl>\\\\\n",
       "\\hline\n",
       "\t P2.FGF1 & ACAA1  &  7 & 0.007 & 0.01873537 & 0.01739212\\\\\n",
       "\t P2.FGF1 & ADNP   &  2 & 0.002 & 0.01653948 & 0.01325114\\\\\n",
       "\t P2.FGF1 & ADNP2  &  7 & 0.007 & 0.01873537 & 0.01739212\\\\\n",
       "\t P2.FGF1 & AEBP2  &  7 & 0.007 & 0.01873537 & 0.01739212\\\\\n",
       "\t P2.FGF1 & AFF4   &  1 & 0.001 & 0.01653948 & 0.01250862\\\\\n",
       "\t P2.FGF1 & AHCTF1 &  1 & 0.001 & 0.01653948 & 0.01250862\\\\\n",
       "\t P2.FGF1 & AHDC1  &  2 & 0.002 & 0.01653948 & 0.01325114\\\\\n",
       "\t P2.FGF1 & AHR    & 17 & 0.017 & 0.02468931 & 0.02324882\\\\\n",
       "\t P2.FGF1 & ALX1   &  7 & 0.007 & 0.01873537 & 0.01739212\\\\\n",
       "\t P2.FGF1 & ALX3   &  2 & 0.002 & 0.01653948 & 0.01325114\\\\\n",
       "\t P2.FGF1 & ALX4   & 18 & 0.018 & 0.02530449 & 0.02396147\\\\\n",
       "\t P2.FGF1 & ANHX   &  4 & 0.004 & 0.01708030 & 0.01535450\\\\\n",
       "\t P2.FGF1 & APEX1  &  1 & 0.001 & 0.01653948 & 0.01250862\\\\\n",
       "\t P2.FGF1 & AR     &  5 & 0.005 & 0.01764409 & 0.01563578\\\\\n",
       "\t P2.FGF1 & ARGFX  &  1 & 0.001 & 0.01653948 & 0.01250862\\\\\n",
       "\t P2.FGF1 & ARID3A & 42 & 0.042 & 0.04493342 & 0.04428924\\\\\n",
       "\t P2.FGF1 & ARID5A &  2 & 0.002 & 0.01653948 & 0.01325114\\\\\n",
       "\t P2.FGF1 & ARID5B &  3 & 0.003 & 0.01671139 & 0.01441391\\\\\n",
       "\t P2.FGF1 & ARNT   & 19 & 0.019 & 0.02596377 & 0.02461518\\\\\n",
       "\t P2.FGF1 & ARNT2  &  5 & 0.005 & 0.01764409 & 0.01563578\\\\\n",
       "\t P2.FGF1 & ARNTL  & 20 & 0.020 & 0.02664729 & 0.02536713\\\\\n",
       "\t P2.FGF1 & ARNTL2 &  5 & 0.005 & 0.01764409 & 0.01563578\\\\\n",
       "\t P2.FGF1 & ARX    &  2 & 0.002 & 0.01653948 & 0.01325114\\\\\n",
       "\t P2.FGF1 & ASCC1  &  2 & 0.002 & 0.01653948 & 0.01325114\\\\\n",
       "\t P2.FGF1 & ASCL1  & 16 & 0.016 & 0.02406532 & 0.02251794\\\\\n",
       "\t P2.FGF1 & ASCL2  & 11 & 0.011 & 0.02105603 & 0.01958405\\\\\n",
       "\t P2.FGF1 & ASCL3  &  5 & 0.005 & 0.01764409 & 0.01563578\\\\\n",
       "\t P2.FGF1 & ASCL4  &  5 & 0.005 & 0.01764409 & 0.01563578\\\\\n",
       "\t P2.FGF1 & ASCL5  &  5 & 0.005 & 0.01764409 & 0.01563578\\\\\n",
       "\t P2.FGF1 & ASH2L  &  5 & 0.005 & 0.01764409 & 0.01563578\\\\\n",
       "\t ⋮ & ⋮ & ⋮ & ⋮ & ⋮ & ⋮\\\\\n",
       "\t P8.FGF20 & ZNF90   & 16 & 0.016 & 0.02406532 & 0.02106592\\\\\n",
       "\t P8.FGF20 & ZNF91   & 55 & 0.055 & 0.05729942 & 0.05663762\\\\\n",
       "\t P8.FGF20 & ZNF92   &  1 & 0.001 & 0.01653948 & 0.01176763\\\\\n",
       "\t P8.FGF20 & ZNF93   &  8 & 0.008 & 0.01933060 & 0.01591024\\\\\n",
       "\t P8.FGF20 & ZNF98   &  3 & 0.003 & 0.01671139 & 0.01211966\\\\\n",
       "\t P8.FGF20 & ZNF99   &  6 & 0.006 & 0.01813093 & 0.01415641\\\\\n",
       "\t P8.FGF20 & ZSCAN1  &  8 & 0.008 & 0.01933060 & 0.01591024\\\\\n",
       "\t P8.FGF20 & ZSCAN10 & 19 & 0.019 & 0.02596377 & 0.02361262\\\\\n",
       "\t P8.FGF20 & ZSCAN12 & 11 & 0.011 & 0.02105603 & 0.01766478\\\\\n",
       "\t P8.FGF20 & ZSCAN16 &  5 & 0.005 & 0.01764409 & 0.01379377\\\\\n",
       "\t P8.FGF20 & ZSCAN18 & 14 & 0.014 & 0.02275758 & 0.01961660\\\\\n",
       "\t P8.FGF20 & ZSCAN2  & 13 & 0.013 & 0.02217502 & 0.01890667\\\\\n",
       "\t P8.FGF20 & ZSCAN20 &  8 & 0.008 & 0.01933060 & 0.01591024\\\\\n",
       "\t P8.FGF20 & ZSCAN21 & 17 & 0.017 & 0.02468931 & 0.02181538\\\\\n",
       "\t P8.FGF20 & ZSCAN22 & 12 & 0.012 & 0.02160712 & 0.01819893\\\\\n",
       "\t P8.FGF20 & ZSCAN23 &  2 & 0.002 & 0.01653948 & 0.01176763\\\\\n",
       "\t P8.FGF20 & ZSCAN26 & 10 & 0.010 & 0.02045301 & 0.01702281\\\\\n",
       "\t P8.FGF20 & ZSCAN29 & 38 & 0.038 & 0.04133344 & 0.04024197\\\\\n",
       "\t P8.FGF20 & ZSCAN30 & 40 & 0.040 & 0.04311791 & 0.04213967\\\\\n",
       "\t P8.FGF20 & ZSCAN31 & 12 & 0.012 & 0.02160712 & 0.01819893\\\\\n",
       "\t P8.FGF20 & ZSCAN32 &  6 & 0.006 & 0.01813093 & 0.01415641\\\\\n",
       "\t P8.FGF20 & ZSCAN4  &  8 & 0.008 & 0.01933060 & 0.01591024\\\\\n",
       "\t P8.FGF20 & ZSCAN5A &  4 & 0.004 & 0.01708030 & 0.01286168\\\\\n",
       "\t P8.FGF20 & ZSCAN5B &  4 & 0.004 & 0.01708030 & 0.01286168\\\\\n",
       "\t P8.FGF20 & ZSCAN5C &  5 & 0.005 & 0.01764409 & 0.01379377\\\\\n",
       "\t P8.FGF20 & ZSCAN9  & 11 & 0.011 & 0.02105603 & 0.01766478\\\\\n",
       "\t P8.FGF20 & ZXDA    &  2 & 0.002 & 0.01653948 & 0.01176763\\\\\n",
       "\t P8.FGF20 & ZXDB    &  8 & 0.008 & 0.01933060 & 0.01591024\\\\\n",
       "\t P8.FGF20 & ZXDC    &  8 & 0.008 & 0.01933060 & 0.01591024\\\\\n",
       "\t P8.FGF20 & ZZZ3    &  1 & 0.001 & 0.01653948 & 0.01176763\\\\\n",
       "\\end{tabular}\n"
      ],
      "text/markdown": [
       "\n",
       "A grouped_df: 20633 × 6\n",
       "\n",
       "| geneSet &lt;chr&gt; | TF_highConf &lt;chr&gt; | TFperm_counts &lt;int&gt; | TFperm_pval.nom &lt;dbl&gt; | TFperm_pval.adj &lt;dbl&gt; | TFperm_pval.adj.geneSet &lt;dbl&gt; |\n",
       "|---|---|---|---|---|---|\n",
       "| P2.FGF1 | ACAA1  |  7 | 0.007 | 0.01873537 | 0.01739212 |\n",
       "| P2.FGF1 | ADNP   |  2 | 0.002 | 0.01653948 | 0.01325114 |\n",
       "| P2.FGF1 | ADNP2  |  7 | 0.007 | 0.01873537 | 0.01739212 |\n",
       "| P2.FGF1 | AEBP2  |  7 | 0.007 | 0.01873537 | 0.01739212 |\n",
       "| P2.FGF1 | AFF4   |  1 | 0.001 | 0.01653948 | 0.01250862 |\n",
       "| P2.FGF1 | AHCTF1 |  1 | 0.001 | 0.01653948 | 0.01250862 |\n",
       "| P2.FGF1 | AHDC1  |  2 | 0.002 | 0.01653948 | 0.01325114 |\n",
       "| P2.FGF1 | AHR    | 17 | 0.017 | 0.02468931 | 0.02324882 |\n",
       "| P2.FGF1 | ALX1   |  7 | 0.007 | 0.01873537 | 0.01739212 |\n",
       "| P2.FGF1 | ALX3   |  2 | 0.002 | 0.01653948 | 0.01325114 |\n",
       "| P2.FGF1 | ALX4   | 18 | 0.018 | 0.02530449 | 0.02396147 |\n",
       "| P2.FGF1 | ANHX   |  4 | 0.004 | 0.01708030 | 0.01535450 |\n",
       "| P2.FGF1 | APEX1  |  1 | 0.001 | 0.01653948 | 0.01250862 |\n",
       "| P2.FGF1 | AR     |  5 | 0.005 | 0.01764409 | 0.01563578 |\n",
       "| P2.FGF1 | ARGFX  |  1 | 0.001 | 0.01653948 | 0.01250862 |\n",
       "| P2.FGF1 | ARID3A | 42 | 0.042 | 0.04493342 | 0.04428924 |\n",
       "| P2.FGF1 | ARID5A |  2 | 0.002 | 0.01653948 | 0.01325114 |\n",
       "| P2.FGF1 | ARID5B |  3 | 0.003 | 0.01671139 | 0.01441391 |\n",
       "| P2.FGF1 | ARNT   | 19 | 0.019 | 0.02596377 | 0.02461518 |\n",
       "| P2.FGF1 | ARNT2  |  5 | 0.005 | 0.01764409 | 0.01563578 |\n",
       "| P2.FGF1 | ARNTL  | 20 | 0.020 | 0.02664729 | 0.02536713 |\n",
       "| P2.FGF1 | ARNTL2 |  5 | 0.005 | 0.01764409 | 0.01563578 |\n",
       "| P2.FGF1 | ARX    |  2 | 0.002 | 0.01653948 | 0.01325114 |\n",
       "| P2.FGF1 | ASCC1  |  2 | 0.002 | 0.01653948 | 0.01325114 |\n",
       "| P2.FGF1 | ASCL1  | 16 | 0.016 | 0.02406532 | 0.02251794 |\n",
       "| P2.FGF1 | ASCL2  | 11 | 0.011 | 0.02105603 | 0.01958405 |\n",
       "| P2.FGF1 | ASCL3  |  5 | 0.005 | 0.01764409 | 0.01563578 |\n",
       "| P2.FGF1 | ASCL4  |  5 | 0.005 | 0.01764409 | 0.01563578 |\n",
       "| P2.FGF1 | ASCL5  |  5 | 0.005 | 0.01764409 | 0.01563578 |\n",
       "| P2.FGF1 | ASH2L  |  5 | 0.005 | 0.01764409 | 0.01563578 |\n",
       "| ⋮ | ⋮ | ⋮ | ⋮ | ⋮ | ⋮ |\n",
       "| P8.FGF20 | ZNF90   | 16 | 0.016 | 0.02406532 | 0.02106592 |\n",
       "| P8.FGF20 | ZNF91   | 55 | 0.055 | 0.05729942 | 0.05663762 |\n",
       "| P8.FGF20 | ZNF92   |  1 | 0.001 | 0.01653948 | 0.01176763 |\n",
       "| P8.FGF20 | ZNF93   |  8 | 0.008 | 0.01933060 | 0.01591024 |\n",
       "| P8.FGF20 | ZNF98   |  3 | 0.003 | 0.01671139 | 0.01211966 |\n",
       "| P8.FGF20 | ZNF99   |  6 | 0.006 | 0.01813093 | 0.01415641 |\n",
       "| P8.FGF20 | ZSCAN1  |  8 | 0.008 | 0.01933060 | 0.01591024 |\n",
       "| P8.FGF20 | ZSCAN10 | 19 | 0.019 | 0.02596377 | 0.02361262 |\n",
       "| P8.FGF20 | ZSCAN12 | 11 | 0.011 | 0.02105603 | 0.01766478 |\n",
       "| P8.FGF20 | ZSCAN16 |  5 | 0.005 | 0.01764409 | 0.01379377 |\n",
       "| P8.FGF20 | ZSCAN18 | 14 | 0.014 | 0.02275758 | 0.01961660 |\n",
       "| P8.FGF20 | ZSCAN2  | 13 | 0.013 | 0.02217502 | 0.01890667 |\n",
       "| P8.FGF20 | ZSCAN20 |  8 | 0.008 | 0.01933060 | 0.01591024 |\n",
       "| P8.FGF20 | ZSCAN21 | 17 | 0.017 | 0.02468931 | 0.02181538 |\n",
       "| P8.FGF20 | ZSCAN22 | 12 | 0.012 | 0.02160712 | 0.01819893 |\n",
       "| P8.FGF20 | ZSCAN23 |  2 | 0.002 | 0.01653948 | 0.01176763 |\n",
       "| P8.FGF20 | ZSCAN26 | 10 | 0.010 | 0.02045301 | 0.01702281 |\n",
       "| P8.FGF20 | ZSCAN29 | 38 | 0.038 | 0.04133344 | 0.04024197 |\n",
       "| P8.FGF20 | ZSCAN30 | 40 | 0.040 | 0.04311791 | 0.04213967 |\n",
       "| P8.FGF20 | ZSCAN31 | 12 | 0.012 | 0.02160712 | 0.01819893 |\n",
       "| P8.FGF20 | ZSCAN32 |  6 | 0.006 | 0.01813093 | 0.01415641 |\n",
       "| P8.FGF20 | ZSCAN4  |  8 | 0.008 | 0.01933060 | 0.01591024 |\n",
       "| P8.FGF20 | ZSCAN5A |  4 | 0.004 | 0.01708030 | 0.01286168 |\n",
       "| P8.FGF20 | ZSCAN5B |  4 | 0.004 | 0.01708030 | 0.01286168 |\n",
       "| P8.FGF20 | ZSCAN5C |  5 | 0.005 | 0.01764409 | 0.01379377 |\n",
       "| P8.FGF20 | ZSCAN9  | 11 | 0.011 | 0.02105603 | 0.01766478 |\n",
       "| P8.FGF20 | ZXDA    |  2 | 0.002 | 0.01653948 | 0.01176763 |\n",
       "| P8.FGF20 | ZXDB    |  8 | 0.008 | 0.01933060 | 0.01591024 |\n",
       "| P8.FGF20 | ZXDC    |  8 | 0.008 | 0.01933060 | 0.01591024 |\n",
       "| P8.FGF20 | ZZZ3    |  1 | 0.001 | 0.01653948 | 0.01176763 |\n",
       "\n"
      ],
      "text/plain": [
       "      geneSet  TF_highConf TFperm_counts TFperm_pval.nom TFperm_pval.adj\n",
       "1     P2.FGF1  ACAA1        7            0.007           0.01873537     \n",
       "2     P2.FGF1  ADNP         2            0.002           0.01653948     \n",
       "3     P2.FGF1  ADNP2        7            0.007           0.01873537     \n",
       "4     P2.FGF1  AEBP2        7            0.007           0.01873537     \n",
       "5     P2.FGF1  AFF4         1            0.001           0.01653948     \n",
       "6     P2.FGF1  AHCTF1       1            0.001           0.01653948     \n",
       "7     P2.FGF1  AHDC1        2            0.002           0.01653948     \n",
       "8     P2.FGF1  AHR         17            0.017           0.02468931     \n",
       "9     P2.FGF1  ALX1         7            0.007           0.01873537     \n",
       "10    P2.FGF1  ALX3         2            0.002           0.01653948     \n",
       "11    P2.FGF1  ALX4        18            0.018           0.02530449     \n",
       "12    P2.FGF1  ANHX         4            0.004           0.01708030     \n",
       "13    P2.FGF1  APEX1        1            0.001           0.01653948     \n",
       "14    P2.FGF1  AR           5            0.005           0.01764409     \n",
       "15    P2.FGF1  ARGFX        1            0.001           0.01653948     \n",
       "16    P2.FGF1  ARID3A      42            0.042           0.04493342     \n",
       "17    P2.FGF1  ARID5A       2            0.002           0.01653948     \n",
       "18    P2.FGF1  ARID5B       3            0.003           0.01671139     \n",
       "19    P2.FGF1  ARNT        19            0.019           0.02596377     \n",
       "20    P2.FGF1  ARNT2        5            0.005           0.01764409     \n",
       "21    P2.FGF1  ARNTL       20            0.020           0.02664729     \n",
       "22    P2.FGF1  ARNTL2       5            0.005           0.01764409     \n",
       "23    P2.FGF1  ARX          2            0.002           0.01653948     \n",
       "24    P2.FGF1  ASCC1        2            0.002           0.01653948     \n",
       "25    P2.FGF1  ASCL1       16            0.016           0.02406532     \n",
       "26    P2.FGF1  ASCL2       11            0.011           0.02105603     \n",
       "27    P2.FGF1  ASCL3        5            0.005           0.01764409     \n",
       "28    P2.FGF1  ASCL4        5            0.005           0.01764409     \n",
       "29    P2.FGF1  ASCL5        5            0.005           0.01764409     \n",
       "30    P2.FGF1  ASH2L        5            0.005           0.01764409     \n",
       "⋮     ⋮        ⋮           ⋮             ⋮               ⋮              \n",
       "20604 P8.FGF20 ZNF90       16            0.016           0.02406532     \n",
       "20605 P8.FGF20 ZNF91       55            0.055           0.05729942     \n",
       "20606 P8.FGF20 ZNF92        1            0.001           0.01653948     \n",
       "20607 P8.FGF20 ZNF93        8            0.008           0.01933060     \n",
       "20608 P8.FGF20 ZNF98        3            0.003           0.01671139     \n",
       "20609 P8.FGF20 ZNF99        6            0.006           0.01813093     \n",
       "20610 P8.FGF20 ZSCAN1       8            0.008           0.01933060     \n",
       "20611 P8.FGF20 ZSCAN10     19            0.019           0.02596377     \n",
       "20612 P8.FGF20 ZSCAN12     11            0.011           0.02105603     \n",
       "20613 P8.FGF20 ZSCAN16      5            0.005           0.01764409     \n",
       "20614 P8.FGF20 ZSCAN18     14            0.014           0.02275758     \n",
       "20615 P8.FGF20 ZSCAN2      13            0.013           0.02217502     \n",
       "20616 P8.FGF20 ZSCAN20      8            0.008           0.01933060     \n",
       "20617 P8.FGF20 ZSCAN21     17            0.017           0.02468931     \n",
       "20618 P8.FGF20 ZSCAN22     12            0.012           0.02160712     \n",
       "20619 P8.FGF20 ZSCAN23      2            0.002           0.01653948     \n",
       "20620 P8.FGF20 ZSCAN26     10            0.010           0.02045301     \n",
       "20621 P8.FGF20 ZSCAN29     38            0.038           0.04133344     \n",
       "20622 P8.FGF20 ZSCAN30     40            0.040           0.04311791     \n",
       "20623 P8.FGF20 ZSCAN31     12            0.012           0.02160712     \n",
       "20624 P8.FGF20 ZSCAN32      6            0.006           0.01813093     \n",
       "20625 P8.FGF20 ZSCAN4       8            0.008           0.01933060     \n",
       "20626 P8.FGF20 ZSCAN5A      4            0.004           0.01708030     \n",
       "20627 P8.FGF20 ZSCAN5B      4            0.004           0.01708030     \n",
       "20628 P8.FGF20 ZSCAN5C      5            0.005           0.01764409     \n",
       "20629 P8.FGF20 ZSCAN9      11            0.011           0.02105603     \n",
       "20630 P8.FGF20 ZXDA         2            0.002           0.01653948     \n",
       "20631 P8.FGF20 ZXDB         8            0.008           0.01933060     \n",
       "20632 P8.FGF20 ZXDC         8            0.008           0.01933060     \n",
       "20633 P8.FGF20 ZZZ3         1            0.001           0.01653948     \n",
       "      TFperm_pval.adj.geneSet\n",
       "1     0.01739212             \n",
       "2     0.01325114             \n",
       "3     0.01739212             \n",
       "4     0.01739212             \n",
       "5     0.01250862             \n",
       "6     0.01250862             \n",
       "7     0.01325114             \n",
       "8     0.02324882             \n",
       "9     0.01739212             \n",
       "10    0.01325114             \n",
       "11    0.02396147             \n",
       "12    0.01535450             \n",
       "13    0.01250862             \n",
       "14    0.01563578             \n",
       "15    0.01250862             \n",
       "16    0.04428924             \n",
       "17    0.01325114             \n",
       "18    0.01441391             \n",
       "19    0.02461518             \n",
       "20    0.01563578             \n",
       "21    0.02536713             \n",
       "22    0.01563578             \n",
       "23    0.01325114             \n",
       "24    0.01325114             \n",
       "25    0.02251794             \n",
       "26    0.01958405             \n",
       "27    0.01563578             \n",
       "28    0.01563578             \n",
       "29    0.01563578             \n",
       "30    0.01563578             \n",
       "⋮     ⋮                      \n",
       "20604 0.02106592             \n",
       "20605 0.05663762             \n",
       "20606 0.01176763             \n",
       "20607 0.01591024             \n",
       "20608 0.01211966             \n",
       "20609 0.01415641             \n",
       "20610 0.01591024             \n",
       "20611 0.02361262             \n",
       "20612 0.01766478             \n",
       "20613 0.01379377             \n",
       "20614 0.01961660             \n",
       "20615 0.01890667             \n",
       "20616 0.01591024             \n",
       "20617 0.02181538             \n",
       "20618 0.01819893             \n",
       "20619 0.01176763             \n",
       "20620 0.01702281             \n",
       "20621 0.04024197             \n",
       "20622 0.04213967             \n",
       "20623 0.01819893             \n",
       "20624 0.01415641             \n",
       "20625 0.01591024             \n",
       "20626 0.01286168             \n",
       "20627 0.01286168             \n",
       "20628 0.01379377             \n",
       "20629 0.01766478             \n",
       "20630 0.01176763             \n",
       "20631 0.01591024             \n",
       "20632 0.01591024             \n",
       "20633 0.01176763             "
      ]
     },
     "metadata": {},
     "output_type": "display_data"
    }
   ],
   "source": [
    "saved$permutations$perm.cores"
   ]
  },
  {
   "cell_type": "code",
   "execution_count": 22,
   "id": "e4a50f42-5880-40c6-bace-1e64c0333f63",
   "metadata": {
    "collapsed": true,
    "jupyter": {
     "outputs_hidden": true
    },
    "tags": []
   },
   "outputs": [
    {
     "data": {
      "text/html": [
       "<table class=\"dataframe\">\n",
       "<caption>A grouped_df: 20633 × 6</caption>\n",
       "<thead>\n",
       "\t<tr><th scope=col>geneSet</th><th scope=col>TF_highConf</th><th scope=col>TFperm_counts</th><th scope=col>TFperm_pval.nom</th><th scope=col>TFperm_pval.adj</th><th scope=col>TFperm_pval.adj.geneSet</th></tr>\n",
       "\t<tr><th scope=col>&lt;chr&gt;</th><th scope=col>&lt;chr&gt;</th><th scope=col>&lt;int&gt;</th><th scope=col>&lt;dbl&gt;</th><th scope=col>&lt;dbl&gt;</th><th scope=col>&lt;dbl&gt;</th></tr>\n",
       "</thead>\n",
       "<tbody>\n",
       "\t<tr><td>P2.FGF1</td><td>ACAA1 </td><td> 7</td><td>0.007</td><td>0.01873537</td><td>0.01739212</td></tr>\n",
       "\t<tr><td>P2.FGF1</td><td>ADNP  </td><td> 2</td><td>0.002</td><td>0.01653948</td><td>0.01325114</td></tr>\n",
       "\t<tr><td>P2.FGF1</td><td>ADNP2 </td><td> 7</td><td>0.007</td><td>0.01873537</td><td>0.01739212</td></tr>\n",
       "\t<tr><td>P2.FGF1</td><td>AEBP2 </td><td> 7</td><td>0.007</td><td>0.01873537</td><td>0.01739212</td></tr>\n",
       "\t<tr><td>P2.FGF1</td><td>AFF4  </td><td> 1</td><td>0.001</td><td>0.01653948</td><td>0.01250862</td></tr>\n",
       "\t<tr><td>P2.FGF1</td><td>AHCTF1</td><td> 1</td><td>0.001</td><td>0.01653948</td><td>0.01250862</td></tr>\n",
       "\t<tr><td>P2.FGF1</td><td>AHDC1 </td><td> 2</td><td>0.002</td><td>0.01653948</td><td>0.01325114</td></tr>\n",
       "\t<tr><td>P2.FGF1</td><td>AHR   </td><td>17</td><td>0.017</td><td>0.02468931</td><td>0.02324882</td></tr>\n",
       "\t<tr><td>P2.FGF1</td><td>ALX1  </td><td> 7</td><td>0.007</td><td>0.01873537</td><td>0.01739212</td></tr>\n",
       "\t<tr><td>P2.FGF1</td><td>ALX3  </td><td> 2</td><td>0.002</td><td>0.01653948</td><td>0.01325114</td></tr>\n",
       "\t<tr><td>P2.FGF1</td><td>ALX4  </td><td>18</td><td>0.018</td><td>0.02530449</td><td>0.02396147</td></tr>\n",
       "\t<tr><td>P2.FGF1</td><td>ANHX  </td><td> 4</td><td>0.004</td><td>0.01708030</td><td>0.01535450</td></tr>\n",
       "\t<tr><td>P2.FGF1</td><td>APEX1 </td><td> 1</td><td>0.001</td><td>0.01653948</td><td>0.01250862</td></tr>\n",
       "\t<tr><td>P2.FGF1</td><td>AR    </td><td> 5</td><td>0.005</td><td>0.01764409</td><td>0.01563578</td></tr>\n",
       "\t<tr><td>P2.FGF1</td><td>ARGFX </td><td> 1</td><td>0.001</td><td>0.01653948</td><td>0.01250862</td></tr>\n",
       "\t<tr><td>P2.FGF1</td><td>ARID3A</td><td>42</td><td>0.042</td><td>0.04493342</td><td>0.04428924</td></tr>\n",
       "\t<tr><td>P2.FGF1</td><td>ARID5A</td><td> 2</td><td>0.002</td><td>0.01653948</td><td>0.01325114</td></tr>\n",
       "\t<tr><td>P2.FGF1</td><td>ARID5B</td><td> 3</td><td>0.003</td><td>0.01671139</td><td>0.01441391</td></tr>\n",
       "\t<tr><td>P2.FGF1</td><td>ARNT  </td><td>19</td><td>0.019</td><td>0.02596377</td><td>0.02461518</td></tr>\n",
       "\t<tr><td>P2.FGF1</td><td>ARNT2 </td><td> 5</td><td>0.005</td><td>0.01764409</td><td>0.01563578</td></tr>\n",
       "\t<tr><td>P2.FGF1</td><td>ARNTL </td><td>20</td><td>0.020</td><td>0.02664729</td><td>0.02536713</td></tr>\n",
       "\t<tr><td>P2.FGF1</td><td>ARNTL2</td><td> 5</td><td>0.005</td><td>0.01764409</td><td>0.01563578</td></tr>\n",
       "\t<tr><td>P2.FGF1</td><td>ARX   </td><td> 2</td><td>0.002</td><td>0.01653948</td><td>0.01325114</td></tr>\n",
       "\t<tr><td>P2.FGF1</td><td>ASCC1 </td><td> 2</td><td>0.002</td><td>0.01653948</td><td>0.01325114</td></tr>\n",
       "\t<tr><td>P2.FGF1</td><td>ASCL1 </td><td>16</td><td>0.016</td><td>0.02406532</td><td>0.02251794</td></tr>\n",
       "\t<tr><td>P2.FGF1</td><td>ASCL2 </td><td>11</td><td>0.011</td><td>0.02105603</td><td>0.01958405</td></tr>\n",
       "\t<tr><td>P2.FGF1</td><td>ASCL3 </td><td> 5</td><td>0.005</td><td>0.01764409</td><td>0.01563578</td></tr>\n",
       "\t<tr><td>P2.FGF1</td><td>ASCL4 </td><td> 5</td><td>0.005</td><td>0.01764409</td><td>0.01563578</td></tr>\n",
       "\t<tr><td>P2.FGF1</td><td>ASCL5 </td><td> 5</td><td>0.005</td><td>0.01764409</td><td>0.01563578</td></tr>\n",
       "\t<tr><td>P2.FGF1</td><td>ASH2L </td><td> 5</td><td>0.005</td><td>0.01764409</td><td>0.01563578</td></tr>\n",
       "\t<tr><td>⋮</td><td>⋮</td><td>⋮</td><td>⋮</td><td>⋮</td><td>⋮</td></tr>\n",
       "\t<tr><td>P8.FGF20</td><td>ZNF90  </td><td>16</td><td>0.016</td><td>0.02406532</td><td>0.02106592</td></tr>\n",
       "\t<tr><td>P8.FGF20</td><td>ZNF91  </td><td>55</td><td>0.055</td><td>0.05729942</td><td>0.05663762</td></tr>\n",
       "\t<tr><td>P8.FGF20</td><td>ZNF92  </td><td> 1</td><td>0.001</td><td>0.01653948</td><td>0.01176763</td></tr>\n",
       "\t<tr><td>P8.FGF20</td><td>ZNF93  </td><td> 8</td><td>0.008</td><td>0.01933060</td><td>0.01591024</td></tr>\n",
       "\t<tr><td>P8.FGF20</td><td>ZNF98  </td><td> 3</td><td>0.003</td><td>0.01671139</td><td>0.01211966</td></tr>\n",
       "\t<tr><td>P8.FGF20</td><td>ZNF99  </td><td> 6</td><td>0.006</td><td>0.01813093</td><td>0.01415641</td></tr>\n",
       "\t<tr><td>P8.FGF20</td><td>ZSCAN1 </td><td> 8</td><td>0.008</td><td>0.01933060</td><td>0.01591024</td></tr>\n",
       "\t<tr><td>P8.FGF20</td><td>ZSCAN10</td><td>19</td><td>0.019</td><td>0.02596377</td><td>0.02361262</td></tr>\n",
       "\t<tr><td>P8.FGF20</td><td>ZSCAN12</td><td>11</td><td>0.011</td><td>0.02105603</td><td>0.01766478</td></tr>\n",
       "\t<tr><td>P8.FGF20</td><td>ZSCAN16</td><td> 5</td><td>0.005</td><td>0.01764409</td><td>0.01379377</td></tr>\n",
       "\t<tr><td>P8.FGF20</td><td>ZSCAN18</td><td>14</td><td>0.014</td><td>0.02275758</td><td>0.01961660</td></tr>\n",
       "\t<tr><td>P8.FGF20</td><td>ZSCAN2 </td><td>13</td><td>0.013</td><td>0.02217502</td><td>0.01890667</td></tr>\n",
       "\t<tr><td>P8.FGF20</td><td>ZSCAN20</td><td> 8</td><td>0.008</td><td>0.01933060</td><td>0.01591024</td></tr>\n",
       "\t<tr><td>P8.FGF20</td><td>ZSCAN21</td><td>17</td><td>0.017</td><td>0.02468931</td><td>0.02181538</td></tr>\n",
       "\t<tr><td>P8.FGF20</td><td>ZSCAN22</td><td>12</td><td>0.012</td><td>0.02160712</td><td>0.01819893</td></tr>\n",
       "\t<tr><td>P8.FGF20</td><td>ZSCAN23</td><td> 2</td><td>0.002</td><td>0.01653948</td><td>0.01176763</td></tr>\n",
       "\t<tr><td>P8.FGF20</td><td>ZSCAN26</td><td>10</td><td>0.010</td><td>0.02045301</td><td>0.01702281</td></tr>\n",
       "\t<tr><td>P8.FGF20</td><td>ZSCAN29</td><td>38</td><td>0.038</td><td>0.04133344</td><td>0.04024197</td></tr>\n",
       "\t<tr><td>P8.FGF20</td><td>ZSCAN30</td><td>40</td><td>0.040</td><td>0.04311791</td><td>0.04213967</td></tr>\n",
       "\t<tr><td>P8.FGF20</td><td>ZSCAN31</td><td>12</td><td>0.012</td><td>0.02160712</td><td>0.01819893</td></tr>\n",
       "\t<tr><td>P8.FGF20</td><td>ZSCAN32</td><td> 6</td><td>0.006</td><td>0.01813093</td><td>0.01415641</td></tr>\n",
       "\t<tr><td>P8.FGF20</td><td>ZSCAN4 </td><td> 8</td><td>0.008</td><td>0.01933060</td><td>0.01591024</td></tr>\n",
       "\t<tr><td>P8.FGF20</td><td>ZSCAN5A</td><td> 4</td><td>0.004</td><td>0.01708030</td><td>0.01286168</td></tr>\n",
       "\t<tr><td>P8.FGF20</td><td>ZSCAN5B</td><td> 4</td><td>0.004</td><td>0.01708030</td><td>0.01286168</td></tr>\n",
       "\t<tr><td>P8.FGF20</td><td>ZSCAN5C</td><td> 5</td><td>0.005</td><td>0.01764409</td><td>0.01379377</td></tr>\n",
       "\t<tr><td>P8.FGF20</td><td>ZSCAN9 </td><td>11</td><td>0.011</td><td>0.02105603</td><td>0.01766478</td></tr>\n",
       "\t<tr><td>P8.FGF20</td><td>ZXDA   </td><td> 2</td><td>0.002</td><td>0.01653948</td><td>0.01176763</td></tr>\n",
       "\t<tr><td>P8.FGF20</td><td>ZXDB   </td><td> 8</td><td>0.008</td><td>0.01933060</td><td>0.01591024</td></tr>\n",
       "\t<tr><td>P8.FGF20</td><td>ZXDC   </td><td> 8</td><td>0.008</td><td>0.01933060</td><td>0.01591024</td></tr>\n",
       "\t<tr><td>P8.FGF20</td><td>ZZZ3   </td><td> 1</td><td>0.001</td><td>0.01653948</td><td>0.01176763</td></tr>\n",
       "</tbody>\n",
       "</table>\n"
      ],
      "text/latex": [
       "A grouped\\_df: 20633 × 6\n",
       "\\begin{tabular}{llllll}\n",
       " geneSet & TF\\_highConf & TFperm\\_counts & TFperm\\_pval.nom & TFperm\\_pval.adj & TFperm\\_pval.adj.geneSet\\\\\n",
       " <chr> & <chr> & <int> & <dbl> & <dbl> & <dbl>\\\\\n",
       "\\hline\n",
       "\t P2.FGF1 & ACAA1  &  7 & 0.007 & 0.01873537 & 0.01739212\\\\\n",
       "\t P2.FGF1 & ADNP   &  2 & 0.002 & 0.01653948 & 0.01325114\\\\\n",
       "\t P2.FGF1 & ADNP2  &  7 & 0.007 & 0.01873537 & 0.01739212\\\\\n",
       "\t P2.FGF1 & AEBP2  &  7 & 0.007 & 0.01873537 & 0.01739212\\\\\n",
       "\t P2.FGF1 & AFF4   &  1 & 0.001 & 0.01653948 & 0.01250862\\\\\n",
       "\t P2.FGF1 & AHCTF1 &  1 & 0.001 & 0.01653948 & 0.01250862\\\\\n",
       "\t P2.FGF1 & AHDC1  &  2 & 0.002 & 0.01653948 & 0.01325114\\\\\n",
       "\t P2.FGF1 & AHR    & 17 & 0.017 & 0.02468931 & 0.02324882\\\\\n",
       "\t P2.FGF1 & ALX1   &  7 & 0.007 & 0.01873537 & 0.01739212\\\\\n",
       "\t P2.FGF1 & ALX3   &  2 & 0.002 & 0.01653948 & 0.01325114\\\\\n",
       "\t P2.FGF1 & ALX4   & 18 & 0.018 & 0.02530449 & 0.02396147\\\\\n",
       "\t P2.FGF1 & ANHX   &  4 & 0.004 & 0.01708030 & 0.01535450\\\\\n",
       "\t P2.FGF1 & APEX1  &  1 & 0.001 & 0.01653948 & 0.01250862\\\\\n",
       "\t P2.FGF1 & AR     &  5 & 0.005 & 0.01764409 & 0.01563578\\\\\n",
       "\t P2.FGF1 & ARGFX  &  1 & 0.001 & 0.01653948 & 0.01250862\\\\\n",
       "\t P2.FGF1 & ARID3A & 42 & 0.042 & 0.04493342 & 0.04428924\\\\\n",
       "\t P2.FGF1 & ARID5A &  2 & 0.002 & 0.01653948 & 0.01325114\\\\\n",
       "\t P2.FGF1 & ARID5B &  3 & 0.003 & 0.01671139 & 0.01441391\\\\\n",
       "\t P2.FGF1 & ARNT   & 19 & 0.019 & 0.02596377 & 0.02461518\\\\\n",
       "\t P2.FGF1 & ARNT2  &  5 & 0.005 & 0.01764409 & 0.01563578\\\\\n",
       "\t P2.FGF1 & ARNTL  & 20 & 0.020 & 0.02664729 & 0.02536713\\\\\n",
       "\t P2.FGF1 & ARNTL2 &  5 & 0.005 & 0.01764409 & 0.01563578\\\\\n",
       "\t P2.FGF1 & ARX    &  2 & 0.002 & 0.01653948 & 0.01325114\\\\\n",
       "\t P2.FGF1 & ASCC1  &  2 & 0.002 & 0.01653948 & 0.01325114\\\\\n",
       "\t P2.FGF1 & ASCL1  & 16 & 0.016 & 0.02406532 & 0.02251794\\\\\n",
       "\t P2.FGF1 & ASCL2  & 11 & 0.011 & 0.02105603 & 0.01958405\\\\\n",
       "\t P2.FGF1 & ASCL3  &  5 & 0.005 & 0.01764409 & 0.01563578\\\\\n",
       "\t P2.FGF1 & ASCL4  &  5 & 0.005 & 0.01764409 & 0.01563578\\\\\n",
       "\t P2.FGF1 & ASCL5  &  5 & 0.005 & 0.01764409 & 0.01563578\\\\\n",
       "\t P2.FGF1 & ASH2L  &  5 & 0.005 & 0.01764409 & 0.01563578\\\\\n",
       "\t ⋮ & ⋮ & ⋮ & ⋮ & ⋮ & ⋮\\\\\n",
       "\t P8.FGF20 & ZNF90   & 16 & 0.016 & 0.02406532 & 0.02106592\\\\\n",
       "\t P8.FGF20 & ZNF91   & 55 & 0.055 & 0.05729942 & 0.05663762\\\\\n",
       "\t P8.FGF20 & ZNF92   &  1 & 0.001 & 0.01653948 & 0.01176763\\\\\n",
       "\t P8.FGF20 & ZNF93   &  8 & 0.008 & 0.01933060 & 0.01591024\\\\\n",
       "\t P8.FGF20 & ZNF98   &  3 & 0.003 & 0.01671139 & 0.01211966\\\\\n",
       "\t P8.FGF20 & ZNF99   &  6 & 0.006 & 0.01813093 & 0.01415641\\\\\n",
       "\t P8.FGF20 & ZSCAN1  &  8 & 0.008 & 0.01933060 & 0.01591024\\\\\n",
       "\t P8.FGF20 & ZSCAN10 & 19 & 0.019 & 0.02596377 & 0.02361262\\\\\n",
       "\t P8.FGF20 & ZSCAN12 & 11 & 0.011 & 0.02105603 & 0.01766478\\\\\n",
       "\t P8.FGF20 & ZSCAN16 &  5 & 0.005 & 0.01764409 & 0.01379377\\\\\n",
       "\t P8.FGF20 & ZSCAN18 & 14 & 0.014 & 0.02275758 & 0.01961660\\\\\n",
       "\t P8.FGF20 & ZSCAN2  & 13 & 0.013 & 0.02217502 & 0.01890667\\\\\n",
       "\t P8.FGF20 & ZSCAN20 &  8 & 0.008 & 0.01933060 & 0.01591024\\\\\n",
       "\t P8.FGF20 & ZSCAN21 & 17 & 0.017 & 0.02468931 & 0.02181538\\\\\n",
       "\t P8.FGF20 & ZSCAN22 & 12 & 0.012 & 0.02160712 & 0.01819893\\\\\n",
       "\t P8.FGF20 & ZSCAN23 &  2 & 0.002 & 0.01653948 & 0.01176763\\\\\n",
       "\t P8.FGF20 & ZSCAN26 & 10 & 0.010 & 0.02045301 & 0.01702281\\\\\n",
       "\t P8.FGF20 & ZSCAN29 & 38 & 0.038 & 0.04133344 & 0.04024197\\\\\n",
       "\t P8.FGF20 & ZSCAN30 & 40 & 0.040 & 0.04311791 & 0.04213967\\\\\n",
       "\t P8.FGF20 & ZSCAN31 & 12 & 0.012 & 0.02160712 & 0.01819893\\\\\n",
       "\t P8.FGF20 & ZSCAN32 &  6 & 0.006 & 0.01813093 & 0.01415641\\\\\n",
       "\t P8.FGF20 & ZSCAN4  &  8 & 0.008 & 0.01933060 & 0.01591024\\\\\n",
       "\t P8.FGF20 & ZSCAN5A &  4 & 0.004 & 0.01708030 & 0.01286168\\\\\n",
       "\t P8.FGF20 & ZSCAN5B &  4 & 0.004 & 0.01708030 & 0.01286168\\\\\n",
       "\t P8.FGF20 & ZSCAN5C &  5 & 0.005 & 0.01764409 & 0.01379377\\\\\n",
       "\t P8.FGF20 & ZSCAN9  & 11 & 0.011 & 0.02105603 & 0.01766478\\\\\n",
       "\t P8.FGF20 & ZXDA    &  2 & 0.002 & 0.01653948 & 0.01176763\\\\\n",
       "\t P8.FGF20 & ZXDB    &  8 & 0.008 & 0.01933060 & 0.01591024\\\\\n",
       "\t P8.FGF20 & ZXDC    &  8 & 0.008 & 0.01933060 & 0.01591024\\\\\n",
       "\t P8.FGF20 & ZZZ3    &  1 & 0.001 & 0.01653948 & 0.01176763\\\\\n",
       "\\end{tabular}\n"
      ],
      "text/markdown": [
       "\n",
       "A grouped_df: 20633 × 6\n",
       "\n",
       "| geneSet &lt;chr&gt; | TF_highConf &lt;chr&gt; | TFperm_counts &lt;int&gt; | TFperm_pval.nom &lt;dbl&gt; | TFperm_pval.adj &lt;dbl&gt; | TFperm_pval.adj.geneSet &lt;dbl&gt; |\n",
       "|---|---|---|---|---|---|\n",
       "| P2.FGF1 | ACAA1  |  7 | 0.007 | 0.01873537 | 0.01739212 |\n",
       "| P2.FGF1 | ADNP   |  2 | 0.002 | 0.01653948 | 0.01325114 |\n",
       "| P2.FGF1 | ADNP2  |  7 | 0.007 | 0.01873537 | 0.01739212 |\n",
       "| P2.FGF1 | AEBP2  |  7 | 0.007 | 0.01873537 | 0.01739212 |\n",
       "| P2.FGF1 | AFF4   |  1 | 0.001 | 0.01653948 | 0.01250862 |\n",
       "| P2.FGF1 | AHCTF1 |  1 | 0.001 | 0.01653948 | 0.01250862 |\n",
       "| P2.FGF1 | AHDC1  |  2 | 0.002 | 0.01653948 | 0.01325114 |\n",
       "| P2.FGF1 | AHR    | 17 | 0.017 | 0.02468931 | 0.02324882 |\n",
       "| P2.FGF1 | ALX1   |  7 | 0.007 | 0.01873537 | 0.01739212 |\n",
       "| P2.FGF1 | ALX3   |  2 | 0.002 | 0.01653948 | 0.01325114 |\n",
       "| P2.FGF1 | ALX4   | 18 | 0.018 | 0.02530449 | 0.02396147 |\n",
       "| P2.FGF1 | ANHX   |  4 | 0.004 | 0.01708030 | 0.01535450 |\n",
       "| P2.FGF1 | APEX1  |  1 | 0.001 | 0.01653948 | 0.01250862 |\n",
       "| P2.FGF1 | AR     |  5 | 0.005 | 0.01764409 | 0.01563578 |\n",
       "| P2.FGF1 | ARGFX  |  1 | 0.001 | 0.01653948 | 0.01250862 |\n",
       "| P2.FGF1 | ARID3A | 42 | 0.042 | 0.04493342 | 0.04428924 |\n",
       "| P2.FGF1 | ARID5A |  2 | 0.002 | 0.01653948 | 0.01325114 |\n",
       "| P2.FGF1 | ARID5B |  3 | 0.003 | 0.01671139 | 0.01441391 |\n",
       "| P2.FGF1 | ARNT   | 19 | 0.019 | 0.02596377 | 0.02461518 |\n",
       "| P2.FGF1 | ARNT2  |  5 | 0.005 | 0.01764409 | 0.01563578 |\n",
       "| P2.FGF1 | ARNTL  | 20 | 0.020 | 0.02664729 | 0.02536713 |\n",
       "| P2.FGF1 | ARNTL2 |  5 | 0.005 | 0.01764409 | 0.01563578 |\n",
       "| P2.FGF1 | ARX    |  2 | 0.002 | 0.01653948 | 0.01325114 |\n",
       "| P2.FGF1 | ASCC1  |  2 | 0.002 | 0.01653948 | 0.01325114 |\n",
       "| P2.FGF1 | ASCL1  | 16 | 0.016 | 0.02406532 | 0.02251794 |\n",
       "| P2.FGF1 | ASCL2  | 11 | 0.011 | 0.02105603 | 0.01958405 |\n",
       "| P2.FGF1 | ASCL3  |  5 | 0.005 | 0.01764409 | 0.01563578 |\n",
       "| P2.FGF1 | ASCL4  |  5 | 0.005 | 0.01764409 | 0.01563578 |\n",
       "| P2.FGF1 | ASCL5  |  5 | 0.005 | 0.01764409 | 0.01563578 |\n",
       "| P2.FGF1 | ASH2L  |  5 | 0.005 | 0.01764409 | 0.01563578 |\n",
       "| ⋮ | ⋮ | ⋮ | ⋮ | ⋮ | ⋮ |\n",
       "| P8.FGF20 | ZNF90   | 16 | 0.016 | 0.02406532 | 0.02106592 |\n",
       "| P8.FGF20 | ZNF91   | 55 | 0.055 | 0.05729942 | 0.05663762 |\n",
       "| P8.FGF20 | ZNF92   |  1 | 0.001 | 0.01653948 | 0.01176763 |\n",
       "| P8.FGF20 | ZNF93   |  8 | 0.008 | 0.01933060 | 0.01591024 |\n",
       "| P8.FGF20 | ZNF98   |  3 | 0.003 | 0.01671139 | 0.01211966 |\n",
       "| P8.FGF20 | ZNF99   |  6 | 0.006 | 0.01813093 | 0.01415641 |\n",
       "| P8.FGF20 | ZSCAN1  |  8 | 0.008 | 0.01933060 | 0.01591024 |\n",
       "| P8.FGF20 | ZSCAN10 | 19 | 0.019 | 0.02596377 | 0.02361262 |\n",
       "| P8.FGF20 | ZSCAN12 | 11 | 0.011 | 0.02105603 | 0.01766478 |\n",
       "| P8.FGF20 | ZSCAN16 |  5 | 0.005 | 0.01764409 | 0.01379377 |\n",
       "| P8.FGF20 | ZSCAN18 | 14 | 0.014 | 0.02275758 | 0.01961660 |\n",
       "| P8.FGF20 | ZSCAN2  | 13 | 0.013 | 0.02217502 | 0.01890667 |\n",
       "| P8.FGF20 | ZSCAN20 |  8 | 0.008 | 0.01933060 | 0.01591024 |\n",
       "| P8.FGF20 | ZSCAN21 | 17 | 0.017 | 0.02468931 | 0.02181538 |\n",
       "| P8.FGF20 | ZSCAN22 | 12 | 0.012 | 0.02160712 | 0.01819893 |\n",
       "| P8.FGF20 | ZSCAN23 |  2 | 0.002 | 0.01653948 | 0.01176763 |\n",
       "| P8.FGF20 | ZSCAN26 | 10 | 0.010 | 0.02045301 | 0.01702281 |\n",
       "| P8.FGF20 | ZSCAN29 | 38 | 0.038 | 0.04133344 | 0.04024197 |\n",
       "| P8.FGF20 | ZSCAN30 | 40 | 0.040 | 0.04311791 | 0.04213967 |\n",
       "| P8.FGF20 | ZSCAN31 | 12 | 0.012 | 0.02160712 | 0.01819893 |\n",
       "| P8.FGF20 | ZSCAN32 |  6 | 0.006 | 0.01813093 | 0.01415641 |\n",
       "| P8.FGF20 | ZSCAN4  |  8 | 0.008 | 0.01933060 | 0.01591024 |\n",
       "| P8.FGF20 | ZSCAN5A |  4 | 0.004 | 0.01708030 | 0.01286168 |\n",
       "| P8.FGF20 | ZSCAN5B |  4 | 0.004 | 0.01708030 | 0.01286168 |\n",
       "| P8.FGF20 | ZSCAN5C |  5 | 0.005 | 0.01764409 | 0.01379377 |\n",
       "| P8.FGF20 | ZSCAN9  | 11 | 0.011 | 0.02105603 | 0.01766478 |\n",
       "| P8.FGF20 | ZXDA    |  2 | 0.002 | 0.01653948 | 0.01176763 |\n",
       "| P8.FGF20 | ZXDB    |  8 | 0.008 | 0.01933060 | 0.01591024 |\n",
       "| P8.FGF20 | ZXDC    |  8 | 0.008 | 0.01933060 | 0.01591024 |\n",
       "| P8.FGF20 | ZZZ3    |  1 | 0.001 | 0.01653948 | 0.01176763 |\n",
       "\n"
      ],
      "text/plain": [
       "      geneSet  TF_highConf TFperm_counts TFperm_pval.nom TFperm_pval.adj\n",
       "1     P2.FGF1  ACAA1        7            0.007           0.01873537     \n",
       "2     P2.FGF1  ADNP         2            0.002           0.01653948     \n",
       "3     P2.FGF1  ADNP2        7            0.007           0.01873537     \n",
       "4     P2.FGF1  AEBP2        7            0.007           0.01873537     \n",
       "5     P2.FGF1  AFF4         1            0.001           0.01653948     \n",
       "6     P2.FGF1  AHCTF1       1            0.001           0.01653948     \n",
       "7     P2.FGF1  AHDC1        2            0.002           0.01653948     \n",
       "8     P2.FGF1  AHR         17            0.017           0.02468931     \n",
       "9     P2.FGF1  ALX1         7            0.007           0.01873537     \n",
       "10    P2.FGF1  ALX3         2            0.002           0.01653948     \n",
       "11    P2.FGF1  ALX4        18            0.018           0.02530449     \n",
       "12    P2.FGF1  ANHX         4            0.004           0.01708030     \n",
       "13    P2.FGF1  APEX1        1            0.001           0.01653948     \n",
       "14    P2.FGF1  AR           5            0.005           0.01764409     \n",
       "15    P2.FGF1  ARGFX        1            0.001           0.01653948     \n",
       "16    P2.FGF1  ARID3A      42            0.042           0.04493342     \n",
       "17    P2.FGF1  ARID5A       2            0.002           0.01653948     \n",
       "18    P2.FGF1  ARID5B       3            0.003           0.01671139     \n",
       "19    P2.FGF1  ARNT        19            0.019           0.02596377     \n",
       "20    P2.FGF1  ARNT2        5            0.005           0.01764409     \n",
       "21    P2.FGF1  ARNTL       20            0.020           0.02664729     \n",
       "22    P2.FGF1  ARNTL2       5            0.005           0.01764409     \n",
       "23    P2.FGF1  ARX          2            0.002           0.01653948     \n",
       "24    P2.FGF1  ASCC1        2            0.002           0.01653948     \n",
       "25    P2.FGF1  ASCL1       16            0.016           0.02406532     \n",
       "26    P2.FGF1  ASCL2       11            0.011           0.02105603     \n",
       "27    P2.FGF1  ASCL3        5            0.005           0.01764409     \n",
       "28    P2.FGF1  ASCL4        5            0.005           0.01764409     \n",
       "29    P2.FGF1  ASCL5        5            0.005           0.01764409     \n",
       "30    P2.FGF1  ASH2L        5            0.005           0.01764409     \n",
       "⋮     ⋮        ⋮           ⋮             ⋮               ⋮              \n",
       "20604 P8.FGF20 ZNF90       16            0.016           0.02406532     \n",
       "20605 P8.FGF20 ZNF91       55            0.055           0.05729942     \n",
       "20606 P8.FGF20 ZNF92        1            0.001           0.01653948     \n",
       "20607 P8.FGF20 ZNF93        8            0.008           0.01933060     \n",
       "20608 P8.FGF20 ZNF98        3            0.003           0.01671139     \n",
       "20609 P8.FGF20 ZNF99        6            0.006           0.01813093     \n",
       "20610 P8.FGF20 ZSCAN1       8            0.008           0.01933060     \n",
       "20611 P8.FGF20 ZSCAN10     19            0.019           0.02596377     \n",
       "20612 P8.FGF20 ZSCAN12     11            0.011           0.02105603     \n",
       "20613 P8.FGF20 ZSCAN16      5            0.005           0.01764409     \n",
       "20614 P8.FGF20 ZSCAN18     14            0.014           0.02275758     \n",
       "20615 P8.FGF20 ZSCAN2      13            0.013           0.02217502     \n",
       "20616 P8.FGF20 ZSCAN20      8            0.008           0.01933060     \n",
       "20617 P8.FGF20 ZSCAN21     17            0.017           0.02468931     \n",
       "20618 P8.FGF20 ZSCAN22     12            0.012           0.02160712     \n",
       "20619 P8.FGF20 ZSCAN23      2            0.002           0.01653948     \n",
       "20620 P8.FGF20 ZSCAN26     10            0.010           0.02045301     \n",
       "20621 P8.FGF20 ZSCAN29     38            0.038           0.04133344     \n",
       "20622 P8.FGF20 ZSCAN30     40            0.040           0.04311791     \n",
       "20623 P8.FGF20 ZSCAN31     12            0.012           0.02160712     \n",
       "20624 P8.FGF20 ZSCAN32      6            0.006           0.01813093     \n",
       "20625 P8.FGF20 ZSCAN4       8            0.008           0.01933060     \n",
       "20626 P8.FGF20 ZSCAN5A      4            0.004           0.01708030     \n",
       "20627 P8.FGF20 ZSCAN5B      4            0.004           0.01708030     \n",
       "20628 P8.FGF20 ZSCAN5C      5            0.005           0.01764409     \n",
       "20629 P8.FGF20 ZSCAN9      11            0.011           0.02105603     \n",
       "20630 P8.FGF20 ZXDA         2            0.002           0.01653948     \n",
       "20631 P8.FGF20 ZXDB         8            0.008           0.01933060     \n",
       "20632 P8.FGF20 ZXDC         8            0.008           0.01933060     \n",
       "20633 P8.FGF20 ZZZ3         1            0.001           0.01653948     \n",
       "      TFperm_pval.adj.geneSet\n",
       "1     0.01739212             \n",
       "2     0.01325114             \n",
       "3     0.01739212             \n",
       "4     0.01739212             \n",
       "5     0.01250862             \n",
       "6     0.01250862             \n",
       "7     0.01325114             \n",
       "8     0.02324882             \n",
       "9     0.01739212             \n",
       "10    0.01325114             \n",
       "11    0.02396147             \n",
       "12    0.01535450             \n",
       "13    0.01250862             \n",
       "14    0.01563578             \n",
       "15    0.01250862             \n",
       "16    0.04428924             \n",
       "17    0.01325114             \n",
       "18    0.01441391             \n",
       "19    0.02461518             \n",
       "20    0.01563578             \n",
       "21    0.02536713             \n",
       "22    0.01563578             \n",
       "23    0.01325114             \n",
       "24    0.01325114             \n",
       "25    0.02251794             \n",
       "26    0.01958405             \n",
       "27    0.01563578             \n",
       "28    0.01563578             \n",
       "29    0.01563578             \n",
       "30    0.01563578             \n",
       "⋮     ⋮                      \n",
       "20604 0.02106592             \n",
       "20605 0.05663762             \n",
       "20606 0.01176763             \n",
       "20607 0.01591024             \n",
       "20608 0.01211966             \n",
       "20609 0.01415641             \n",
       "20610 0.01591024             \n",
       "20611 0.02361262             \n",
       "20612 0.01766478             \n",
       "20613 0.01379377             \n",
       "20614 0.01961660             \n",
       "20615 0.01890667             \n",
       "20616 0.01591024             \n",
       "20617 0.02181538             \n",
       "20618 0.01819893             \n",
       "20619 0.01176763             \n",
       "20620 0.01702281             \n",
       "20621 0.04024197             \n",
       "20622 0.04213967             \n",
       "20623 0.01819893             \n",
       "20624 0.01415641             \n",
       "20625 0.01591024             \n",
       "20626 0.01286168             \n",
       "20627 0.01286168             \n",
       "20628 0.01379377             \n",
       "20629 0.01766478             \n",
       "20630 0.01176763             \n",
       "20631 0.01591024             \n",
       "20632 0.01591024             \n",
       "20633 0.01176763             "
      ]
     },
     "metadata": {},
     "output_type": "display_data"
    }
   ],
   "source": [
    "RCT.perm$permutations$perm.cores"
   ]
  },
  {
   "cell_type": "code",
   "execution_count": null,
   "id": "07e7e5bb-c074-4731-a184-bdb43ab38096",
   "metadata": {},
   "outputs": [],
   "source": [
    "RCT$"
   ]
  }
 ],
 "metadata": {
  "kernelspec": {
   "display_name": "RcisTarget (R 4.2.3)",
   "language": "R",
   "name": "cano_rcistarget"
  },
  "language_info": {
   "codemirror_mode": "r",
   "file_extension": ".r",
   "mimetype": "text/x-r-source",
   "name": "R",
   "pygments_lexer": "r",
   "version": "4.2.3"
  }
 },
 "nbformat": 4,
 "nbformat_minor": 5
}
