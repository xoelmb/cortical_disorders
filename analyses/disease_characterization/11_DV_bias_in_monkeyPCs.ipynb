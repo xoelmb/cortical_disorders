{
 "cells": [
  {
   "cell_type": "markdown",
   "id": "5f9c4e65-65a1-4a09-a1ff-72b59487db36",
   "metadata": {},
   "source": [
    "# Set-up"
   ]
  },
  {
   "cell_type": "code",
   "execution_count": 1,
   "id": "f9ee7d3c-88c3-4373-aeef-9f9c83258869",
   "metadata": {},
   "outputs": [
    {
     "name": "stderr",
     "output_type": "stream",
     "text": [
      "\n",
      "Attaching package: ‘dplyr’\n",
      "\n",
      "\n",
      "The following objects are masked from ‘package:stats’:\n",
      "\n",
      "    filter, lag\n",
      "\n",
      "\n",
      "The following objects are masked from ‘package:base’:\n",
      "\n",
      "    intersect, setdiff, setequal, union\n",
      "\n",
      "\n",
      "Loading required package: S4Vectors\n",
      "\n",
      "Loading required package: stats4\n",
      "\n",
      "Loading required package: BiocGenerics\n",
      "\n",
      "\n",
      "Attaching package: ‘BiocGenerics’\n",
      "\n",
      "\n",
      "The following objects are masked from ‘package:dplyr’:\n",
      "\n",
      "    combine, intersect, setdiff, union\n",
      "\n",
      "\n",
      "The following objects are masked from ‘package:stats’:\n",
      "\n",
      "    IQR, mad, sd, var, xtabs\n",
      "\n",
      "\n",
      "The following objects are masked from ‘package:base’:\n",
      "\n",
      "    anyDuplicated, aperm, append, as.data.frame, basename, cbind,\n",
      "    colnames, dirname, do.call, duplicated, eval, evalq, Filter, Find,\n",
      "    get, grep, grepl, intersect, is.unsorted, lapply, Map, mapply,\n",
      "    match, mget, order, paste, pmax, pmax.int, pmin, pmin.int,\n",
      "    Position, rank, rbind, Reduce, rownames, sapply, setdiff, sort,\n",
      "    table, tapply, union, unique, unsplit, which.max, which.min\n",
      "\n",
      "\n",
      "\n",
      "Attaching package: ‘S4Vectors’\n",
      "\n",
      "\n",
      "The following objects are masked from ‘package:dplyr’:\n",
      "\n",
      "    first, rename\n",
      "\n",
      "\n",
      "The following objects are masked from ‘package:base’:\n",
      "\n",
      "    expand.grid, I, unname\n",
      "\n",
      "\n",
      "Loading required package: IRanges\n",
      "\n",
      "\n",
      "Attaching package: ‘IRanges’\n",
      "\n",
      "\n",
      "The following objects are masked from ‘package:dplyr’:\n",
      "\n",
      "    collapse, desc, slice\n",
      "\n",
      "\n",
      "Loading required package: GenomicRanges\n",
      "\n",
      "Loading required package: GenomeInfoDb\n",
      "\n",
      "Loading required package: SummarizedExperiment\n",
      "\n",
      "Loading required package: MatrixGenerics\n",
      "\n",
      "Loading required package: matrixStats\n",
      "\n",
      "\n",
      "Attaching package: ‘matrixStats’\n",
      "\n",
      "\n",
      "The following object is masked from ‘package:dplyr’:\n",
      "\n",
      "    count\n",
      "\n",
      "\n",
      "\n",
      "Attaching package: ‘MatrixGenerics’\n",
      "\n",
      "\n",
      "The following objects are masked from ‘package:matrixStats’:\n",
      "\n",
      "    colAlls, colAnyNAs, colAnys, colAvgsPerRowSet, colCollapse,\n",
      "    colCounts, colCummaxs, colCummins, colCumprods, colCumsums,\n",
      "    colDiffs, colIQRDiffs, colIQRs, colLogSumExps, colMadDiffs,\n",
      "    colMads, colMaxs, colMeans2, colMedians, colMins, colOrderStats,\n",
      "    colProds, colQuantiles, colRanges, colRanks, colSdDiffs, colSds,\n",
      "    colSums2, colTabulates, colVarDiffs, colVars, colWeightedMads,\n",
      "    colWeightedMeans, colWeightedMedians, colWeightedSds,\n",
      "    colWeightedVars, rowAlls, rowAnyNAs, rowAnys, rowAvgsPerColSet,\n",
      "    rowCollapse, rowCounts, rowCummaxs, rowCummins, rowCumprods,\n",
      "    rowCumsums, rowDiffs, rowIQRDiffs, rowIQRs, rowLogSumExps,\n",
      "    rowMadDiffs, rowMads, rowMaxs, rowMeans2, rowMedians, rowMins,\n",
      "    rowOrderStats, rowProds, rowQuantiles, rowRanges, rowRanks,\n",
      "    rowSdDiffs, rowSds, rowSums2, rowTabulates, rowVarDiffs, rowVars,\n",
      "    rowWeightedMads, rowWeightedMeans, rowWeightedMedians,\n",
      "    rowWeightedSds, rowWeightedVars\n",
      "\n",
      "\n",
      "Loading required package: Biobase\n",
      "\n",
      "Welcome to Bioconductor\n",
      "\n",
      "    Vignettes contain introductory material; view with\n",
      "    'browseVignettes()'. To cite Bioconductor, see\n",
      "    'citation(\"Biobase\")', and for packages 'citation(\"pkgname\")'.\n",
      "\n",
      "\n",
      "\n",
      "Attaching package: ‘Biobase’\n",
      "\n",
      "\n",
      "The following object is masked from ‘package:MatrixGenerics’:\n",
      "\n",
      "    rowMedians\n",
      "\n",
      "\n",
      "The following objects are masked from ‘package:matrixStats’:\n",
      "\n",
      "    anyMissing, rowMedians\n",
      "\n",
      "\n",
      "Attaching SeuratObject\n",
      "\n",
      "\n",
      "Attaching package: ‘Seurat’\n",
      "\n",
      "\n",
      "The following object is masked from ‘package:SummarizedExperiment’:\n",
      "\n",
      "    Assays\n",
      "\n",
      "\n"
     ]
    }
   ],
   "source": [
    "fig <- function(w=NULL, h=NULL){options(repr.plot.width = w, repr.plot.height = h)}\n",
    "\n",
    "library(dplyr)\n",
    "library(DESeq2)\n",
    "library(Seurat)\n",
    "library(ggplot2)\n",
    "library(ggpubr)"
   ]
  },
  {
   "cell_type": "markdown",
   "id": "be13bda9-c7b0-418a-aa15-5fe687b1e35b",
   "metadata": {},
   "source": [
    "# Data"
   ]
  },
  {
   "cell_type": "markdown",
   "id": "4eb3b1eb-822e-46f1-9820-55c1fce4b516",
   "metadata": {},
   "source": [
    "### Macaque data"
   ]
  },
  {
   "cell_type": "code",
   "execution_count": 2,
   "id": "94981fb9-b284-4a5e-ad73-59513b55f45c",
   "metadata": {},
   "outputs": [],
   "source": [
    "# Raw exp\n",
    "# seu <- readRDS('~/projects_ro/codebases/MacaqueDev/Processed/DATA/All.MNN.v1.org.fct.rds')\n",
    "seu <- readRDS('~/codebases/MacBrainDev/data/All.MNN.v1.org.fct.rds')"
   ]
  },
  {
   "cell_type": "code",
   "execution_count": 3,
   "id": "5e147db7-f02d-4194-bb64-9544c6edf822",
   "metadata": {},
   "outputs": [],
   "source": [
    "Idents(seu) <- 'subtype'"
   ]
  },
  {
   "cell_type": "markdown",
   "id": "f742a6f3-911c-4fd4-a732-7a9360db60b0",
   "metadata": {},
   "source": [
    "### DV bias"
   ]
  },
  {
   "cell_type": "code",
   "execution_count": 4,
   "id": "c094e5cc-179f-4076-9806-1962e0f257e1",
   "metadata": {
    "scrolled": true,
    "tags": []
   },
   "outputs": [
    {
     "name": "stdout",
     "output_type": "stream",
     "text": [
      "Loading objects:\n",
      "  r8\n",
      "  r17\n",
      "  r30\n"
     ]
    },
    {
     "data": {
      "text/plain": [
       "log2 fold change (MLE): group dorsal_8 vs ventral_8 \n",
       "Wald test p-value: group dorsal_8 vs ventral_8 \n",
       "DataFrame with 23368 rows and 6 columns\n",
       "             baseMean log2FoldChange     lfcSE       stat     pvalue      padj\n",
       "            <numeric>      <numeric> <numeric>  <numeric>  <numeric> <numeric>\n",
       "1/2-SBSRNA4 25.432990     -0.1107542  0.380075  -0.291401   0.770744  0.977093\n",
       "A1BG        85.697743     -0.0639413  0.377484  -0.169388   0.865491  0.989959\n",
       "A1BG-AS1    82.613913      0.2169445  0.425004   0.510453   0.609734  0.956519\n",
       "A1CF         0.563897      0.4269121  3.617313   0.118019   0.906052        NA\n",
       "A2LD1       93.305308      0.0906135  0.358900   0.252475   0.800674  0.979480\n",
       "...               ...            ...       ...        ...        ...       ...\n",
       "ZYG11B       2747.213     -0.1466625  0.168663 -0.8695616 0.38454003  0.889557\n",
       "ZYX           917.679      0.8941399  0.334107  2.6762075 0.00744605  0.154503\n",
       "ZZEF1        1208.910      0.1879862  0.155300  1.2104746 0.22609682  0.789911\n",
       "ZZZ3         2403.715     -0.0102037  0.165549 -0.0616355 0.95085312  1.000000\n",
       "tAKR            0.000             NA        NA         NA         NA        NA"
      ]
     },
     "metadata": {},
     "output_type": "display_data"
    }
   ],
   "source": [
    "load('./raw/TelleyDeconDV/DorsalVentralDeSeq2.rda', verbose=T)\n",
    "r8"
   ]
  },
  {
   "cell_type": "code",
   "execution_count": 5,
   "id": "87e03b1e-a5c5-481f-ac60-236c2992cfd7",
   "metadata": {},
   "outputs": [
    {
     "data": {
      "text/html": [
       "23368"
      ],
      "text/latex": [
       "23368"
      ],
      "text/markdown": [
       "23368"
      ],
      "text/plain": [
       "[1] 23368"
      ]
     },
     "metadata": {},
     "output_type": "display_data"
    },
    {
     "data": {
      "text/html": [
       "<style>\n",
       ".list-inline {list-style: none; margin:0; padding: 0}\n",
       ".list-inline>li {display: inline-block}\n",
       ".list-inline>li:not(:last-child)::after {content: \"\\00b7\"; padding: 0 .5ex}\n",
       "</style>\n",
       "<ol class=list-inline><li>70104</li><li>9</li></ol>\n"
      ],
      "text/latex": [
       "\\begin{enumerate*}\n",
       "\\item 70104\n",
       "\\item 9\n",
       "\\end{enumerate*}\n"
      ],
      "text/markdown": [
       "1. 70104\n",
       "2. 9\n",
       "\n",
       "\n"
      ],
      "text/plain": [
       "[1] 70104     9"
      ]
     },
     "metadata": {},
     "output_type": "display_data"
    },
    {
     "data": {
      "text/html": [
       "<table class=\"dataframe\">\n",
       "<caption>A data.frame: 6 × 9</caption>\n",
       "<thead>\n",
       "\t<tr><th></th><th scope=col>baseMean</th><th scope=col>log2FoldChange</th><th scope=col>lfcSE</th><th scope=col>stat</th><th scope=col>pvalue</th><th scope=col>padj</th><th scope=col>DIV</th><th scope=col>gene</th><th scope=col>DV</th></tr>\n",
       "\t<tr><th></th><th scope=col>&lt;dbl&gt;</th><th scope=col>&lt;dbl&gt;</th><th scope=col>&lt;dbl&gt;</th><th scope=col>&lt;dbl&gt;</th><th scope=col>&lt;dbl&gt;</th><th scope=col>&lt;dbl&gt;</th><th scope=col>&lt;fct&gt;</th><th scope=col>&lt;chr&gt;</th><th scope=col>&lt;fct&gt;</th></tr>\n",
       "</thead>\n",
       "<tbody>\n",
       "\t<tr><th scope=row>WASH5P2</th><td>101.8520</td><td>-16.494851</td><td>2.517314</td><td>-6.552560</td><td>5.655907e-11</td><td>3.074856e-09</td><td>D30</td><td>WASH5P  </td><td>Ventral</td></tr>\n",
       "\t<tr><th scope=row>LHX82</th><td>556.7072</td><td> -8.686007</td><td>1.559420</td><td>-5.570023</td><td>2.547051e-08</td><td>8.244862e-07</td><td>D30</td><td>LHX8    </td><td>Ventral</td></tr>\n",
       "\t<tr><th scope=row>ZNF300P12</th><td> 34.2653</td><td> -8.659899</td><td>2.605086</td><td>-3.324228</td><td>8.866371e-04</td><td>6.898687e-03</td><td>D30</td><td>ZNF300P1</td><td>Ventral</td></tr>\n",
       "\t<tr><th scope=row>ZNF300P11</th><td> 34.2653</td><td> -7.766444</td><td>2.604916</td><td>-2.981456</td><td>2.868809e-03</td><td>4.325382e-02</td><td>D17</td><td>ZNF300P1</td><td>Ventral</td></tr>\n",
       "\t<tr><th scope=row>NKX2-12</th><td>934.9149</td><td> -7.478520</td><td>1.214112</td><td>-6.159662</td><td>7.290026e-10</td><td>3.228549e-08</td><td>D30</td><td>NKX2-1  </td><td>Ventral</td></tr>\n",
       "\t<tr><th scope=row>SFTA32</th><td>190.4017</td><td> -7.373883</td><td>1.253484</td><td>-5.882709</td><td>4.036057e-09</td><td>1.552372e-07</td><td>D30</td><td>SFTA3   </td><td>Ventral</td></tr>\n",
       "</tbody>\n",
       "</table>\n"
      ],
      "text/latex": [
       "A data.frame: 6 × 9\n",
       "\\begin{tabular}{r|lllllllll}\n",
       "  & baseMean & log2FoldChange & lfcSE & stat & pvalue & padj & DIV & gene & DV\\\\\n",
       "  & <dbl> & <dbl> & <dbl> & <dbl> & <dbl> & <dbl> & <fct> & <chr> & <fct>\\\\\n",
       "\\hline\n",
       "\tWASH5P2 & 101.8520 & -16.494851 & 2.517314 & -6.552560 & 5.655907e-11 & 3.074856e-09 & D30 & WASH5P   & Ventral\\\\\n",
       "\tLHX82 & 556.7072 &  -8.686007 & 1.559420 & -5.570023 & 2.547051e-08 & 8.244862e-07 & D30 & LHX8     & Ventral\\\\\n",
       "\tZNF300P12 &  34.2653 &  -8.659899 & 2.605086 & -3.324228 & 8.866371e-04 & 6.898687e-03 & D30 & ZNF300P1 & Ventral\\\\\n",
       "\tZNF300P11 &  34.2653 &  -7.766444 & 2.604916 & -2.981456 & 2.868809e-03 & 4.325382e-02 & D17 & ZNF300P1 & Ventral\\\\\n",
       "\tNKX2-12 & 934.9149 &  -7.478520 & 1.214112 & -6.159662 & 7.290026e-10 & 3.228549e-08 & D30 & NKX2-1   & Ventral\\\\\n",
       "\tSFTA32 & 190.4017 &  -7.373883 & 1.253484 & -5.882709 & 4.036057e-09 & 1.552372e-07 & D30 & SFTA3    & Ventral\\\\\n",
       "\\end{tabular}\n"
      ],
      "text/markdown": [
       "\n",
       "A data.frame: 6 × 9\n",
       "\n",
       "| <!--/--> | baseMean &lt;dbl&gt; | log2FoldChange &lt;dbl&gt; | lfcSE &lt;dbl&gt; | stat &lt;dbl&gt; | pvalue &lt;dbl&gt; | padj &lt;dbl&gt; | DIV &lt;fct&gt; | gene &lt;chr&gt; | DV &lt;fct&gt; |\n",
       "|---|---|---|---|---|---|---|---|---|---|\n",
       "| WASH5P2 | 101.8520 | -16.494851 | 2.517314 | -6.552560 | 5.655907e-11 | 3.074856e-09 | D30 | WASH5P   | Ventral |\n",
       "| LHX82 | 556.7072 |  -8.686007 | 1.559420 | -5.570023 | 2.547051e-08 | 8.244862e-07 | D30 | LHX8     | Ventral |\n",
       "| ZNF300P12 |  34.2653 |  -8.659899 | 2.605086 | -3.324228 | 8.866371e-04 | 6.898687e-03 | D30 | ZNF300P1 | Ventral |\n",
       "| ZNF300P11 |  34.2653 |  -7.766444 | 2.604916 | -2.981456 | 2.868809e-03 | 4.325382e-02 | D17 | ZNF300P1 | Ventral |\n",
       "| NKX2-12 | 934.9149 |  -7.478520 | 1.214112 | -6.159662 | 7.290026e-10 | 3.228549e-08 | D30 | NKX2-1   | Ventral |\n",
       "| SFTA32 | 190.4017 |  -7.373883 | 1.253484 | -5.882709 | 4.036057e-09 | 1.552372e-07 | D30 | SFTA3    | Ventral |\n",
       "\n"
      ],
      "text/plain": [
       "          baseMean log2FoldChange lfcSE    stat      pvalue       padj        \n",
       "WASH5P2   101.8520 -16.494851     2.517314 -6.552560 5.655907e-11 3.074856e-09\n",
       "LHX82     556.7072  -8.686007     1.559420 -5.570023 2.547051e-08 8.244862e-07\n",
       "ZNF300P12  34.2653  -8.659899     2.605086 -3.324228 8.866371e-04 6.898687e-03\n",
       "ZNF300P11  34.2653  -7.766444     2.604916 -2.981456 2.868809e-03 4.325382e-02\n",
       "NKX2-12   934.9149  -7.478520     1.214112 -6.159662 7.290026e-10 3.228549e-08\n",
       "SFTA32    190.4017  -7.373883     1.253484 -5.882709 4.036057e-09 1.552372e-07\n",
       "          DIV gene     DV     \n",
       "WASH5P2   D30 WASH5P   Ventral\n",
       "LHX82     D30 LHX8     Ventral\n",
       "ZNF300P12 D30 ZNF300P1 Ventral\n",
       "ZNF300P11 D17 ZNF300P1 Ventral\n",
       "NKX2-12   D30 NKX2-1   Ventral\n",
       "SFTA32    D30 SFTA3    Ventral"
      ]
     },
     "metadata": {},
     "output_type": "display_data"
    }
   ],
   "source": [
    "dv.bias <- do.call(what='rbind', list(\n",
    "    data.frame(r8, DIV='D8',\n",
    "               gene=rownames(r8)),\n",
    "    data.frame(r17, DIV='D17',\n",
    "               gene=rownames(r17)),\n",
    "    data.frame(r30, DIV='D30',\n",
    "               gene=rownames(r30)))) %>%\n",
    "    mutate(DV = sign(log2FoldChange)) %>% \n",
    "    arrange(log2FoldChange) %>%\n",
    "    mutate(DV = factor(ifelse(padj < 0.05, DV, 0),\n",
    "                       levels=c(-1,0,1),\n",
    "                       labels=c('Ventral', 'None', 'Dorsal')),\n",
    "           DIV = factor(DIV, c('D8', 'D17', 'D30'))\n",
    ")\n",
    "length(unique(dv.bias$gene))\n",
    "dim(dv.bias)\n",
    "head(dv.bias)\n"
   ]
  },
  {
   "cell_type": "code",
   "execution_count": 6,
   "id": "166513f4-ddca-4cab-a90d-16b5abf5765d",
   "metadata": {},
   "outputs": [],
   "source": [
    "# dv.colors <- c(\"Dorsal\" = \"goldenrod2\", \"Ventral\" = \"forestgreen\", 'None'='white')\n",
    "# nicola pointed out that the colors are the other way rounf in the rest of the figures\n",
    "dv.colors <- c(\"Dorsal\" = \"forestgreen\", \"Ventral\" = \"goldenrod2\", 'None'='white')"
   ]
  },
  {
   "cell_type": "markdown",
   "id": "ecd476ad-c4e7-4a92-8e81-9588d54e6b7b",
   "metadata": {},
   "source": [
    "### Diseases"
   ]
  },
  {
   "cell_type": "code",
   "execution_count": 7,
   "id": "ee3174e8-5405-469d-94f4-c52d4c256aa8",
   "metadata": {},
   "outputs": [
    {
     "data": {
      "text/html": [
       "<style>\n",
       ".list-inline {list-style: none; margin:0; padding: 0}\n",
       ".list-inline>li {display: inline-block}\n",
       ".list-inline>li:not(:last-child)::after {content: \"\\00b7\"; padding: 0 .5ex}\n",
       "</style>\n",
       "<ol class=list-inline><li>2024</li><li>19</li></ol>\n"
      ],
      "text/latex": [
       "\\begin{enumerate*}\n",
       "\\item 2024\n",
       "\\item 19\n",
       "\\end{enumerate*}\n"
      ],
      "text/markdown": [
       "1. 2024\n",
       "2. 19\n",
       "\n",
       "\n"
      ],
      "text/plain": [
       "[1] 2024   19"
      ]
     },
     "metadata": {},
     "output_type": "display_data"
    },
    {
     "data": {
      "text/html": [
       "<table class=\"dataframe\">\n",
       "<caption>A data.frame: 6 × 19</caption>\n",
       "<thead>\n",
       "\t<tr><th></th><th scope=col>Microcephaly</th><th scope=col>Hydrocephaly</th><th scope=col>RareMCD</th><th scope=col>MDD_2018</th><th scope=col>Polymicrogyria</th><th scope=col>SCZ_2020</th><th scope=col>AN_2019</th><th scope=col>NEUROT_2018</th><th scope=col>PD_2014</th><th scope=col>AD_2019</th><th scope=col>Lissencephaly</th><th scope=col>BD_2019</th><th scope=col>DevDyslexia</th><th scope=col>Heterotopia</th><th scope=col>ADHD_2019</th><th scope=col>DD</th><th scope=col>FCDandmTOR</th><th scope=col>Cobblestone</th><th scope=col>ASD</th></tr>\n",
       "\t<tr><th></th><th scope=col>&lt;int&gt;</th><th scope=col>&lt;int&gt;</th><th scope=col>&lt;int&gt;</th><th scope=col>&lt;int&gt;</th><th scope=col>&lt;int&gt;</th><th scope=col>&lt;int&gt;</th><th scope=col>&lt;int&gt;</th><th scope=col>&lt;int&gt;</th><th scope=col>&lt;int&gt;</th><th scope=col>&lt;int&gt;</th><th scope=col>&lt;int&gt;</th><th scope=col>&lt;int&gt;</th><th scope=col>&lt;int&gt;</th><th scope=col>&lt;int&gt;</th><th scope=col>&lt;int&gt;</th><th scope=col>&lt;int&gt;</th><th scope=col>&lt;int&gt;</th><th scope=col>&lt;int&gt;</th><th scope=col>&lt;int&gt;</th></tr>\n",
       "</thead>\n",
       "<tbody>\n",
       "\t<tr><th scope=row>SLC25A27</th><td>0</td><td>0</td><td>0</td><td>0</td><td>0</td><td>0</td><td>0</td><td>0</td><td>0</td><td>0</td><td>0</td><td>0</td><td>0</td><td>0</td><td>0</td><td>0</td><td>0</td><td>0</td><td>1</td></tr>\n",
       "\t<tr><th scope=row>EXOC6B</th><td>0</td><td>0</td><td>0</td><td>0</td><td>0</td><td>0</td><td>0</td><td>0</td><td>0</td><td>0</td><td>0</td><td>0</td><td>0</td><td>0</td><td>0</td><td>0</td><td>0</td><td>0</td><td>1</td></tr>\n",
       "\t<tr><th scope=row>RBM4B</th><td>0</td><td>0</td><td>0</td><td>0</td><td>0</td><td>0</td><td>0</td><td>0</td><td>0</td><td>0</td><td>0</td><td>1</td><td>0</td><td>0</td><td>0</td><td>0</td><td>0</td><td>0</td><td>0</td></tr>\n",
       "\t<tr><th scope=row>NACC1</th><td>0</td><td>0</td><td>0</td><td>0</td><td>0</td><td>0</td><td>0</td><td>0</td><td>0</td><td>0</td><td>0</td><td>0</td><td>0</td><td>0</td><td>0</td><td>0</td><td>0</td><td>0</td><td>1</td></tr>\n",
       "\t<tr><th scope=row>TSPAN7</th><td>0</td><td>0</td><td>0</td><td>0</td><td>0</td><td>0</td><td>0</td><td>0</td><td>0</td><td>0</td><td>0</td><td>0</td><td>0</td><td>0</td><td>0</td><td>0</td><td>0</td><td>0</td><td>1</td></tr>\n",
       "\t<tr><th scope=row>MUC12</th><td>0</td><td>0</td><td>0</td><td>0</td><td>0</td><td>0</td><td>0</td><td>0</td><td>0</td><td>0</td><td>0</td><td>0</td><td>0</td><td>0</td><td>0</td><td>0</td><td>0</td><td>0</td><td>1</td></tr>\n",
       "</tbody>\n",
       "</table>\n"
      ],
      "text/latex": [
       "A data.frame: 6 × 19\n",
       "\\begin{tabular}{r|lllllllllllllllllll}\n",
       "  & Microcephaly & Hydrocephaly & RareMCD & MDD\\_2018 & Polymicrogyria & SCZ\\_2020 & AN\\_2019 & NEUROT\\_2018 & PD\\_2014 & AD\\_2019 & Lissencephaly & BD\\_2019 & DevDyslexia & Heterotopia & ADHD\\_2019 & DD & FCDandmTOR & Cobblestone & ASD\\\\\n",
       "  & <int> & <int> & <int> & <int> & <int> & <int> & <int> & <int> & <int> & <int> & <int> & <int> & <int> & <int> & <int> & <int> & <int> & <int> & <int>\\\\\n",
       "\\hline\n",
       "\tSLC25A27 & 0 & 0 & 0 & 0 & 0 & 0 & 0 & 0 & 0 & 0 & 0 & 0 & 0 & 0 & 0 & 0 & 0 & 0 & 1\\\\\n",
       "\tEXOC6B & 0 & 0 & 0 & 0 & 0 & 0 & 0 & 0 & 0 & 0 & 0 & 0 & 0 & 0 & 0 & 0 & 0 & 0 & 1\\\\\n",
       "\tRBM4B & 0 & 0 & 0 & 0 & 0 & 0 & 0 & 0 & 0 & 0 & 0 & 1 & 0 & 0 & 0 & 0 & 0 & 0 & 0\\\\\n",
       "\tNACC1 & 0 & 0 & 0 & 0 & 0 & 0 & 0 & 0 & 0 & 0 & 0 & 0 & 0 & 0 & 0 & 0 & 0 & 0 & 1\\\\\n",
       "\tTSPAN7 & 0 & 0 & 0 & 0 & 0 & 0 & 0 & 0 & 0 & 0 & 0 & 0 & 0 & 0 & 0 & 0 & 0 & 0 & 1\\\\\n",
       "\tMUC12 & 0 & 0 & 0 & 0 & 0 & 0 & 0 & 0 & 0 & 0 & 0 & 0 & 0 & 0 & 0 & 0 & 0 & 0 & 1\\\\\n",
       "\\end{tabular}\n"
      ],
      "text/markdown": [
       "\n",
       "A data.frame: 6 × 19\n",
       "\n",
       "| <!--/--> | Microcephaly &lt;int&gt; | Hydrocephaly &lt;int&gt; | RareMCD &lt;int&gt; | MDD_2018 &lt;int&gt; | Polymicrogyria &lt;int&gt; | SCZ_2020 &lt;int&gt; | AN_2019 &lt;int&gt; | NEUROT_2018 &lt;int&gt; | PD_2014 &lt;int&gt; | AD_2019 &lt;int&gt; | Lissencephaly &lt;int&gt; | BD_2019 &lt;int&gt; | DevDyslexia &lt;int&gt; | Heterotopia &lt;int&gt; | ADHD_2019 &lt;int&gt; | DD &lt;int&gt; | FCDandmTOR &lt;int&gt; | Cobblestone &lt;int&gt; | ASD &lt;int&gt; |\n",
       "|---|---|---|---|---|---|---|---|---|---|---|---|---|---|---|---|---|---|---|---|\n",
       "| SLC25A27 | 0 | 0 | 0 | 0 | 0 | 0 | 0 | 0 | 0 | 0 | 0 | 0 | 0 | 0 | 0 | 0 | 0 | 0 | 1 |\n",
       "| EXOC6B | 0 | 0 | 0 | 0 | 0 | 0 | 0 | 0 | 0 | 0 | 0 | 0 | 0 | 0 | 0 | 0 | 0 | 0 | 1 |\n",
       "| RBM4B | 0 | 0 | 0 | 0 | 0 | 0 | 0 | 0 | 0 | 0 | 0 | 1 | 0 | 0 | 0 | 0 | 0 | 0 | 0 |\n",
       "| NACC1 | 0 | 0 | 0 | 0 | 0 | 0 | 0 | 0 | 0 | 0 | 0 | 0 | 0 | 0 | 0 | 0 | 0 | 0 | 1 |\n",
       "| TSPAN7 | 0 | 0 | 0 | 0 | 0 | 0 | 0 | 0 | 0 | 0 | 0 | 0 | 0 | 0 | 0 | 0 | 0 | 0 | 1 |\n",
       "| MUC12 | 0 | 0 | 0 | 0 | 0 | 0 | 0 | 0 | 0 | 0 | 0 | 0 | 0 | 0 | 0 | 0 | 0 | 0 | 1 |\n",
       "\n"
      ],
      "text/plain": [
       "         Microcephaly Hydrocephaly RareMCD MDD_2018 Polymicrogyria SCZ_2020\n",
       "SLC25A27 0            0            0       0        0              0       \n",
       "EXOC6B   0            0            0       0        0              0       \n",
       "RBM4B    0            0            0       0        0              0       \n",
       "NACC1    0            0            0       0        0              0       \n",
       "TSPAN7   0            0            0       0        0              0       \n",
       "MUC12    0            0            0       0        0              0       \n",
       "         AN_2019 NEUROT_2018 PD_2014 AD_2019 Lissencephaly BD_2019 DevDyslexia\n",
       "SLC25A27 0       0           0       0       0             0       0          \n",
       "EXOC6B   0       0           0       0       0             0       0          \n",
       "RBM4B    0       0           0       0       0             1       0          \n",
       "NACC1    0       0           0       0       0             0       0          \n",
       "TSPAN7   0       0           0       0       0             0       0          \n",
       "MUC12    0       0           0       0       0             0       0          \n",
       "         Heterotopia ADHD_2019 DD FCDandmTOR Cobblestone ASD\n",
       "SLC25A27 0           0         0  0          0           1  \n",
       "EXOC6B   0           0         0  0          0           1  \n",
       "RBM4B    0           0         0  0          0           0  \n",
       "NACC1    0           0         0  0          0           1  \n",
       "TSPAN7   0           0         0  0          0           1  \n",
       "MUC12    0           0         0  0          0           1  "
      ]
     },
     "metadata": {},
     "output_type": "display_data"
    }
   ],
   "source": [
    "diseases.df <- read.csv('data/gene_disorder_associations.intersectionExpData.csv', row.names=1)\n",
    "diseases.df <- diseases.df[rowSums(diseases.df) > 0,]\n",
    "dim(diseases.df)\n",
    "head(diseases.df)"
   ]
  },
  {
   "cell_type": "code",
   "execution_count": 8,
   "id": "e208ab01-cc13-4212-8752-1be43ffd7934",
   "metadata": {},
   "outputs": [
    {
     "data": {
      "text/html": [
       "2024"
      ],
      "text/latex": [
       "2024"
      ],
      "text/markdown": [
       "2024"
      ],
      "text/plain": [
       "[1] 2024"
      ]
     },
     "metadata": {},
     "output_type": "display_data"
    }
   ],
   "source": [
    "sum(rownames(diseases.df)%in% unique(dv.bias$gene))"
   ]
  },
  {
   "cell_type": "markdown",
   "id": "26a36cf8-df76-4021-8691-9d2b9ea79fa9",
   "metadata": {},
   "source": [
    "### Macaque PC markers"
   ]
  },
  {
   "cell_type": "code",
   "execution_count": 9,
   "id": "69facbea-a5ba-412c-88fd-9f9d375d1fcc",
   "metadata": {},
   "outputs": [
    {
     "data": {
      "text/html": [
       "<table class=\"dataframe\">\n",
       "<caption>A data.table: 6 × 7</caption>\n",
       "<thead>\n",
       "\t<tr><th scope=col>p_val</th><th scope=col>avg_log2FC</th><th scope=col>pct.1</th><th scope=col>pct.2</th><th scope=col>p_val_adj</th><th scope=col>cluster</th><th scope=col>gene</th></tr>\n",
       "\t<tr><th scope=col>&lt;dbl&gt;</th><th scope=col>&lt;dbl&gt;</th><th scope=col>&lt;dbl&gt;</th><th scope=col>&lt;dbl&gt;</th><th scope=col>&lt;dbl&gt;</th><th scope=col>&lt;chr&gt;</th><th scope=col>&lt;chr&gt;</th></tr>\n",
       "</thead>\n",
       "<tbody>\n",
       "\t<tr><td>0</td><td>1.536375</td><td>0.686</td><td>0.181</td><td>0</td><td>PC FGF17</td><td>ZIC4 </td></tr>\n",
       "\t<tr><td>0</td><td>1.440335</td><td>0.795</td><td>0.230</td><td>0</td><td>PC FGF17</td><td>DLK1 </td></tr>\n",
       "\t<tr><td>0</td><td>1.345359</td><td>0.181</td><td>0.009</td><td>0</td><td>PC FGF17</td><td>FGF8 </td></tr>\n",
       "\t<tr><td>0</td><td>1.312989</td><td>0.257</td><td>0.007</td><td>0</td><td>PC FGF17</td><td>FGF18</td></tr>\n",
       "\t<tr><td>0</td><td>1.256460</td><td>0.432</td><td>0.058</td><td>0</td><td>PC FGF17</td><td>DUSP6</td></tr>\n",
       "\t<tr><td>0</td><td>1.250733</td><td>0.381</td><td>0.038</td><td>0</td><td>PC FGF17</td><td>SP8  </td></tr>\n",
       "</tbody>\n",
       "</table>\n"
      ],
      "text/latex": [
       "A data.table: 6 × 7\n",
       "\\begin{tabular}{lllllll}\n",
       " p\\_val & avg\\_log2FC & pct.1 & pct.2 & p\\_val\\_adj & cluster & gene\\\\\n",
       " <dbl> & <dbl> & <dbl> & <dbl> & <dbl> & <chr> & <chr>\\\\\n",
       "\\hline\n",
       "\t 0 & 1.536375 & 0.686 & 0.181 & 0 & PC FGF17 & ZIC4 \\\\\n",
       "\t 0 & 1.440335 & 0.795 & 0.230 & 0 & PC FGF17 & DLK1 \\\\\n",
       "\t 0 & 1.345359 & 0.181 & 0.009 & 0 & PC FGF17 & FGF8 \\\\\n",
       "\t 0 & 1.312989 & 0.257 & 0.007 & 0 & PC FGF17 & FGF18\\\\\n",
       "\t 0 & 1.256460 & 0.432 & 0.058 & 0 & PC FGF17 & DUSP6\\\\\n",
       "\t 0 & 1.250733 & 0.381 & 0.038 & 0 & PC FGF17 & SP8  \\\\\n",
       "\\end{tabular}\n"
      ],
      "text/markdown": [
       "\n",
       "A data.table: 6 × 7\n",
       "\n",
       "| p_val &lt;dbl&gt; | avg_log2FC &lt;dbl&gt; | pct.1 &lt;dbl&gt; | pct.2 &lt;dbl&gt; | p_val_adj &lt;dbl&gt; | cluster &lt;chr&gt; | gene &lt;chr&gt; |\n",
       "|---|---|---|---|---|---|---|\n",
       "| 0 | 1.536375 | 0.686 | 0.181 | 0 | PC FGF17 | ZIC4  |\n",
       "| 0 | 1.440335 | 0.795 | 0.230 | 0 | PC FGF17 | DLK1  |\n",
       "| 0 | 1.345359 | 0.181 | 0.009 | 0 | PC FGF17 | FGF8  |\n",
       "| 0 | 1.312989 | 0.257 | 0.007 | 0 | PC FGF17 | FGF18 |\n",
       "| 0 | 1.256460 | 0.432 | 0.058 | 0 | PC FGF17 | DUSP6 |\n",
       "| 0 | 1.250733 | 0.381 | 0.038 | 0 | PC FGF17 | SP8   |\n",
       "\n"
      ],
      "text/plain": [
       "  p_val avg_log2FC pct.1 pct.2 p_val_adj cluster  gene \n",
       "1 0     1.536375   0.686 0.181 0         PC FGF17 ZIC4 \n",
       "2 0     1.440335   0.795 0.230 0         PC FGF17 DLK1 \n",
       "3 0     1.345359   0.181 0.009 0         PC FGF17 FGF8 \n",
       "4 0     1.312989   0.257 0.007 0         PC FGF17 FGF18\n",
       "5 0     1.256460   0.432 0.058 0         PC FGF17 DUSP6\n",
       "6 0     1.250733   0.381 0.038 0         PC FGF17 SP8  "
      ]
     },
     "metadata": {},
     "output_type": "display_data"
    }
   ],
   "source": [
    "# pc.markers <- data.table::fread(\"~/projects_ro/codebases/MacaqueDev/Processed/DATA/Disease_expression_data.Markers.PCs_1.csv\") %>% mutate(V1=NULL)  \n",
    "# pc.markers <- data.table::fread(\"~/codebases/MacaqueDev2023/data/Disease_expression_data.Markers.PCs_1.csv\") %>% mutate(V1=NULL)  \n",
    "pc.markers <- data.table::fread(\"~/codebases/MacBrainDev/data/Disease_expression_data.Markers.PCs_1.csv\") %>% mutate(V1=NULL)  \n",
    "head(pc.markers)\n",
    "\n",
    "pc.subtypes <- unique(pc.markers$cluster)"
   ]
  },
  {
   "cell_type": "markdown",
   "id": "2a034784-5b3f-43a4-827b-d0db6af0a2a6",
   "metadata": {},
   "source": [
    "### Some checks"
   ]
  },
  {
   "cell_type": "code",
   "execution_count": 10,
   "id": "1a89d7ba-c56e-4245-8bfd-a5c146186cb9",
   "metadata": {},
   "outputs": [],
   "source": [
    "dv.bias %>% subset(DV!='None') %>% with(., {split(gene, DV)}) -> dv.list\n",
    "dv.df <- data.frame(lapply(dv.list, function(x){unique(dv.list %>%unlist()) %in% x}), row.names=unique(dv.list %>%unlist()))\n",
    "dv.df %>%apply(1, function(x){paste(sort(colnames(dv.df)[x]), collapse='&')}) -> gene.dv.bias\n",
    "gene.dv.bias <- data.frame(dv.bias=factor(gene.dv.bias, c('Ventral','Dorsal&Ventral','Dorsal', NA)))\n",
    "gene.dv.bias$gene <- rownames(gene.dv.bias)"
   ]
  },
  {
   "cell_type": "code",
   "execution_count": 11,
   "id": "fc6bfcb4-e0ad-4057-8a42-70e22761d079",
   "metadata": {},
   "outputs": [],
   "source": [
    "gene.dv.bias.colors <- dv.colors\n",
    "names(gene.dv.bias.colors)[3] <- NA\n",
    "gene.dv.bias.colors['Dorsal&Ventral'] <- 'brown'\n",
    "gene.dv.bias.colors[NA] <- 'white'"
   ]
  },
  {
   "cell_type": "code",
   "execution_count": 12,
   "id": "ce0914a6-f47c-4fae-8475-1709256e4bb6",
   "metadata": {},
   "outputs": [],
   "source": [
    "library(ggrepel)"
   ]
  },
  {
   "cell_type": "code",
   "execution_count": 13,
   "id": "f7fa0987-40e0-45e1-8787-a29abd6c7394",
   "metadata": {},
   "outputs": [],
   "source": [
    "# fig(20,40)\n",
    "fig(25,25)\n",
    "ggplot(merge(subset(pc.markers, p_val_adj < 0.05), gene.dv.bias, by='gene', all.x=T, all.y=F ), \n",
    "       aes(x=pct.2, y=pct.1, fill=dv.bias, size=avg_log2FC > .4, alpha= (pct.1/pct.2>=1.5)| (pct.2==0))) + \n",
    "    geom_hline(yintercept = 0.1, color='red') + geom_vline(xintercept = 0.5, color='red') + \n",
    "    geom_text_repel(aes(color=dv.bias, label=ifelse(is.na(dv.bias), NA, gene)), size=2, alpha=1,\n",
    "                    min.segment.length=0, max.overlaps=Inf) +\n",
    "    geom_point(shape=21, stroke=0.5) + \n",
    "    # facet_grid(rows=vars(cluster)) + \n",
    "    facet_wrap(vars(cluster)) + \n",
    "    scale_fill_manual(values=gene.dv.bias.colors, na.value = 'white') + \n",
    "    scale_color_manual(values=gene.dv.bias.colors, na.value = 'white') + \n",
    "    scale_alpha_manual(values = c('TRUE'=.9,'FALSE'=.4)) +\n",
    "    scale_size_manual(values = c('TRUE'=3,'FALSE'=1)) +\n",
    "    labs(x='% expression in other cell types', y='% expression in this cell type') +\n",
    "    theme_minimal() + labs_pubr() + \n",
    "    scale_x_continuous(labels=scales::label_percent(), limits=c(0,0.5), breaks=seq(0,1,0.1)) + \n",
    "    scale_y_continuous(labels=scales::label_percent(), limits=c(0.1, 1), breaks=seq(0,1,0.1)) + \n",
    "    theme(panel.grid.minor = element_blank(), panel.border = element_rect(fill=NA, color='black')) -> pct.scatter"
   ]
  },
  {
   "cell_type": "code",
   "execution_count": 14,
   "id": "49c3ed02-c4d0-4e82-a168-f9142ec281c0",
   "metadata": {},
   "outputs": [],
   "source": [
    "# Filter markers\n",
    "# pc.markers <- subset(pc.markers, (pct.1 - pct.2 )>=0.15)\n",
    "pc.markers <- subset(pc.markers, (pct.1/pct.2>=1.5)| (pct.2==0))\n",
    "pc.markers <- subset(pc.markers, (pct.1 >= 0.1) & (pct.2 <=0.5))\n",
    "pc.markers <- subset(pc.markers, (p_val_adj < 0.05) & (avg_log2FC > 0.4)) \n",
    "# pc.markers <- subset(pc.markers, (pct.1 >= 0.1) & (pct.2 <=0.05))\n",
    "\n",
    "marker_filter <- '.pct_ratio=1.5..pct1_min=.1..pct2_max=.5..pval_max=.05..logFC_min=.4'\n",
    "top.n <- 25\n"
   ]
  },
  {
   "cell_type": "code",
   "execution_count": 15,
   "id": "2f1268f9-fb7a-4da8-b185-a6e24be6d6f3",
   "metadata": {},
   "outputs": [],
   "source": [
    "if ((top.n>0) & is.finite(top.n)){\n",
    "    # we are only interested in that gene-cluster where pct is max\n",
    "    pc.markers %>% arrange(gene, desc(pct.1)) %>% group_by(gene)%>%slice_head(n=1) %>%ungroup()-> pc.markers\n",
    "    marker_filter <- paste0(marker_filter, '..top=', top.n)\n",
    "    pc.markers <- pc.markers %>% arrange(p_val_adj) %>% group_by(cluster) %>% slice_head(n=top.n)\n",
    "}"
   ]
  },
  {
   "cell_type": "code",
   "execution_count": 16,
   "id": "9cb9a0eb-3f08-4cc6-93f1-6ca7d25177fe",
   "metadata": {},
   "outputs": [
    {
     "data": {
      "text/html": [
       "<style>\n",
       ".list-inline {list-style: none; margin:0; padding: 0}\n",
       ".list-inline>li {display: inline-block}\n",
       ".list-inline>li:not(:last-child)::after {content: \"\\00b7\"; padding: 0 .5ex}\n",
       "</style>\n",
       "<ol class=list-inline><li>211</li><li>7</li></ol>\n"
      ],
      "text/latex": [
       "\\begin{enumerate*}\n",
       "\\item 211\n",
       "\\item 7\n",
       "\\end{enumerate*}\n"
      ],
      "text/markdown": [
       "1. 211\n",
       "2. 7\n",
       "\n",
       "\n"
      ],
      "text/plain": [
       "[1] 211   7"
      ]
     },
     "metadata": {},
     "output_type": "display_data"
    },
    {
     "data": {
      "text/html": [
       "211"
      ],
      "text/latex": [
       "211"
      ],
      "text/markdown": [
       "211"
      ],
      "text/plain": [
       "[1] 211"
      ]
     },
     "metadata": {},
     "output_type": "display_data"
    }
   ],
   "source": [
    "dim(pc.markers)\n",
    "\n",
    "length(unique(pc.markers$gene))"
   ]
  },
  {
   "cell_type": "markdown",
   "id": "f0d4da8e-1dd7-4b06-bf49-85441f39a51c",
   "metadata": {},
   "source": [
    "#### Annotate human"
   ]
  },
  {
   "cell_type": "code",
   "execution_count": 17,
   "id": "3f9f6255-65a6-4d86-92f9-9ccc5fca4721",
   "metadata": {
    "scrolled": true,
    "tags": []
   },
   "outputs": [
    {
     "name": "stderr",
     "output_type": "stream",
     "text": [
      "Preparing gene_df.\n",
      "\n",
      "character format detected.\n",
      "\n",
      "Converting to data.frame\n",
      "\n",
      "Extracting genes from input_gene.\n",
      "\n",
      "211 genes extracted.\n",
      "\n",
      "Converting mmulatta ==> hsapiens orthologs using: gprofiler\n",
      "\n",
      "Retrieving all organisms available in gprofiler.\n",
      "\n",
      "Using stored `gprofiler_orgs`.\n",
      "\n",
      "Mapping species name: mmulatta\n",
      "\n",
      "1 organism identified from search: mmulatta\n",
      "\n",
      "Retrieving all organisms available in gprofiler.\n",
      "\n",
      "Using stored `gprofiler_orgs`.\n",
      "\n",
      "Mapping species name: hsapiens\n",
      "\n",
      "1 organism identified from search: hsapiens\n",
      "\n",
      "Checking for genes without orthologs in hsapiens.\n",
      "\n",
      "Extracting genes from input_gene.\n",
      "\n",
      "211 genes extracted.\n",
      "\n",
      "Extracting genes from ortholog_gene.\n",
      "\n",
      "211 genes extracted.\n",
      "\n",
      "Dropping 2 NAs of all kinds from ortholog_gene.\n",
      "\n",
      "Checking for genes without 1:1 orthologs.\n",
      "\n",
      "Filtering gene_df with gene_map\n",
      "\n",
      "Setting ortholog_gene to rownames.\n",
      "\n",
      "\n",
      "=========== REPORT SUMMARY ===========\n",
      "\n",
      "\n",
      "Total genes dropped after convert_orthologs :\n",
      "   2 / 211 (0.95%)\n",
      "\n",
      "Total genes remaining after convert_orthologs :\n",
      "   209 / 211 (99%)\n",
      "\n"
     ]
    },
    {
     "data": {
      "text/html": [
       "<table class=\"dataframe\">\n",
       "<caption>A data.frame: 6 × 2</caption>\n",
       "<thead>\n",
       "\t<tr><th></th><th scope=col>index</th><th scope=col>input_gene</th></tr>\n",
       "\t<tr><th></th><th scope=col>&lt;int&gt;</th><th scope=col>&lt;chr&gt;</th></tr>\n",
       "</thead>\n",
       "<tbody>\n",
       "\t<tr><th scope=row>MEIS2</th><td>1</td><td>MEIS2  </td></tr>\n",
       "\t<tr><th scope=row>SFRP1</th><td>2</td><td>SFRP1  </td></tr>\n",
       "\t<tr><th scope=row>FAM181B</th><td>3</td><td>FAM181B</td></tr>\n",
       "\t<tr><th scope=row>HOPX</th><td>4</td><td>HOPX   </td></tr>\n",
       "\t<tr><th scope=row>GNG3</th><td>5</td><td>GNG3   </td></tr>\n",
       "\t<tr><th scope=row>ESRRG</th><td>6</td><td>ESRRG  </td></tr>\n",
       "</tbody>\n",
       "</table>\n"
      ],
      "text/latex": [
       "A data.frame: 6 × 2\n",
       "\\begin{tabular}{r|ll}\n",
       "  & index & input\\_gene\\\\\n",
       "  & <int> & <chr>\\\\\n",
       "\\hline\n",
       "\tMEIS2 & 1 & MEIS2  \\\\\n",
       "\tSFRP1 & 2 & SFRP1  \\\\\n",
       "\tFAM181B & 3 & FAM181B\\\\\n",
       "\tHOPX & 4 & HOPX   \\\\\n",
       "\tGNG3 & 5 & GNG3   \\\\\n",
       "\tESRRG & 6 & ESRRG  \\\\\n",
       "\\end{tabular}\n"
      ],
      "text/markdown": [
       "\n",
       "A data.frame: 6 × 2\n",
       "\n",
       "| <!--/--> | index &lt;int&gt; | input_gene &lt;chr&gt; |\n",
       "|---|---|---|\n",
       "| MEIS2 | 1 | MEIS2   |\n",
       "| SFRP1 | 2 | SFRP1   |\n",
       "| FAM181B | 3 | FAM181B |\n",
       "| HOPX | 4 | HOPX    |\n",
       "| GNG3 | 5 | GNG3    |\n",
       "| ESRRG | 6 | ESRRG   |\n",
       "\n"
      ],
      "text/plain": [
       "        index input_gene\n",
       "MEIS2   1     MEIS2     \n",
       "SFRP1   2     SFRP1     \n",
       "FAM181B 3     FAM181B   \n",
       "HOPX    4     HOPX      \n",
       "GNG3    5     GNG3      \n",
       "ESRRG   6     ESRRG     "
      ]
     },
     "metadata": {},
     "output_type": "display_data"
    }
   ],
   "source": [
    "ortho.markers <- orthogene::convert_orthologs(unique(pc.markers$gene), input_species = 'mmulatta', output_species = 'hsapiens', verbose=T)\n",
    "head(ortho.markers)"
   ]
  },
  {
   "cell_type": "code",
   "execution_count": 18,
   "id": "ffef15df-2c3e-4bfa-9923-3d4f3256c3d9",
   "metadata": {
    "scrolled": true,
    "tags": []
   },
   "outputs": [],
   "source": [
    "pc.markers$geneHuman <-plyr::mapvalues(x = pc.markers$gene, from = ortho.markers$input_gene, to = rownames(ortho.markers))"
   ]
  },
  {
   "cell_type": "code",
   "execution_count": 19,
   "id": "a6a40831-0121-4227-a2b0-1aaaf14b8b46",
   "metadata": {},
   "outputs": [],
   "source": [
    "subset(pc.markers, geneHuman%in%unique(dv.bias$gene)) -> pc.markers"
   ]
  },
  {
   "cell_type": "markdown",
   "id": "1b11afbd-83cf-42b5-9248-14ce26c620f9",
   "metadata": {},
   "source": [
    "# Overview"
   ]
  },
  {
   "cell_type": "code",
   "execution_count": 20,
   "id": "d548164b-41d4-42a0-9cc0-0bdcd43a2d94",
   "metadata": {},
   "outputs": [
    {
     "data": {
      "text/html": [
       "201"
      ],
      "text/latex": [
       "201"
      ],
      "text/markdown": [
       "201"
      ],
      "text/plain": [
       "[1] 201"
      ]
     },
     "metadata": {},
     "output_type": "display_data"
    }
   ],
   "source": [
    "unique(pc.markers$geneHuman)%>%length()"
   ]
  },
  {
   "cell_type": "code",
   "execution_count": 21,
   "id": "67e7f2e4-267d-4a80-898d-363dec600e36",
   "metadata": {
    "tags": []
   },
   "outputs": [],
   "source": [
    "venn.list <- list(\n",
    "    Diseases = unique(rownames(diseases.df)),\n",
    "    DV=unique(subset(dv.bias, DV!='None')$gene),\n",
    "    PCmarkers = unique(pc.markers$geneHuman)\n",
    ")\n",
    "\n",
    "venn.df <- lapply(venn.list,  function(x){unique(unlist(venn.list))%in%x})%>%as.data.frame()"
   ]
  },
  {
   "cell_type": "raw",
   "id": "b7a01f7a-9db6-4f88-82ca-6a0a117a9f82",
   "metadata": {
    "tags": []
   },
   "source": [
    "?venn::venn"
   ]
  },
  {
   "cell_type": "code",
   "execution_count": 22,
   "id": "f91357b9-3674-4a90-b82f-d3a8660d9197",
   "metadata": {},
   "outputs": [
    {
     "data": {
      "image/png": "[encoded data removed]",
      "text/plain": [
       "plot without title"
      ]
     },
     "metadata": {
      "image/png": {
       "height": 360,
       "width": 360
      }
     },
     "output_type": "display_data"
    }
   ],
   "source": [
    "fig(6,6)\n",
    "venn::venn(venn.df, ilabels = \"counts\", zcolor = 'style', box=F, ggplot=T) -> p\n",
    "p"
   ]
  },
  {
   "cell_type": "markdown",
   "id": "c5f5f867-50a4-4f96-a6e7-ae7131a42e24",
   "metadata": {},
   "source": [
    "#### Subset to disease **and**/or DV biased"
   ]
  },
  {
   "cell_type": "code",
   "execution_count": 23,
   "id": "0f25b6a8-f05f-448f-aa4f-5d997ad804c3",
   "metadata": {
    "scrolled": true,
    "tags": []
   },
   "outputs": [
    {
     "data": {
      "text/html": [
       "<style>\n",
       ".list-inline {list-style: none; margin:0; padding: 0}\n",
       ".list-inline>li {display: inline-block}\n",
       ".list-inline>li:not(:last-child)::after {content: \"\\00b7\"; padding: 0 .5ex}\n",
       "</style>\n",
       "<ol class=list-inline><li>128</li><li>8</li></ol>\n"
      ],
      "text/latex": [
       "\\begin{enumerate*}\n",
       "\\item 128\n",
       "\\item 8\n",
       "\\end{enumerate*}\n"
      ],
      "text/markdown": [
       "1. 128\n",
       "2. 8\n",
       "\n",
       "\n"
      ],
      "text/plain": [
       "[1] 128   8"
      ]
     },
     "metadata": {},
     "output_type": "display_data"
    },
    {
     "data": {
      "text/html": [
       "128"
      ],
      "text/latex": [
       "128"
      ],
      "text/markdown": [
       "128"
      ],
      "text/plain": [
       "[1] 128"
      ]
     },
     "metadata": {},
     "output_type": "display_data"
    },
    {
     "data": {
      "text/html": [
       "<table class=\"dataframe\">\n",
       "<caption>A grouped_df: 128 × 8</caption>\n",
       "<thead>\n",
       "\t<tr><th scope=col>p_val</th><th scope=col>avg_log2FC</th><th scope=col>pct.1</th><th scope=col>pct.2</th><th scope=col>p_val_adj</th><th scope=col>cluster</th><th scope=col>gene</th><th scope=col>geneHuman</th></tr>\n",
       "\t<tr><th scope=col>&lt;dbl&gt;</th><th scope=col>&lt;dbl&gt;</th><th scope=col>&lt;dbl&gt;</th><th scope=col>&lt;dbl&gt;</th><th scope=col>&lt;dbl&gt;</th><th scope=col>&lt;chr&gt;</th><th scope=col>&lt;chr&gt;</th><th scope=col>&lt;chr&gt;</th></tr>\n",
       "</thead>\n",
       "<tbody>\n",
       "\t<tr><td> 0.000000e+00</td><td>1.3666645</td><td>0.584</td><td>0.173</td><td> 0.000000e+00</td><td>GE RG NKX2-1 DLK1 </td><td>MEIS2  </td><td>MEIS2  </td></tr>\n",
       "\t<tr><td>4.713510e-129</td><td>0.9693123</td><td>0.418</td><td>0.186</td><td>8.171812e-125</td><td>GE RG NKX2-1 DLK1 </td><td>FAM181B</td><td>FAM181B</td></tr>\n",
       "\t<tr><td>1.136861e-105</td><td>0.9401242</td><td>0.140</td><td>0.030</td><td>1.970975e-101</td><td>GE RG NKX2-1 DLK1 </td><td>HOPX   </td><td>HOPX   </td></tr>\n",
       "\t<tr><td> 5.120328e-94</td><td>0.7826984</td><td>0.359</td><td>0.173</td><td> 8.877113e-90</td><td>GE RG NKX2-1 DLK1 </td><td>GNG3   </td><td>GNG3   </td></tr>\n",
       "\t<tr><td> 2.298225e-76</td><td>0.6694258</td><td>0.248</td><td>0.102</td><td> 3.984433e-72</td><td>GE RG NKX2-1 DLK1 </td><td>GAP43  </td><td>GAP43  </td></tr>\n",
       "\t<tr><td> 1.014015e-75</td><td>0.6474617</td><td>0.354</td><td>0.173</td><td> 1.757998e-71</td><td>GE RG NKX2-1 DLK1 </td><td>STMN2  </td><td>STMN2  </td></tr>\n",
       "\t<tr><td> 6.345716e-64</td><td>0.4915654</td><td>0.149</td><td>0.048</td><td> 1.100157e-59</td><td>GE RG NKX2-1 DLK1 </td><td>THSD4  </td><td>THSD4  </td></tr>\n",
       "\t<tr><td> 8.078482e-56</td><td>0.5809916</td><td>0.446</td><td>0.287</td><td> 1.400567e-51</td><td>GE RG NKX2-1 DLK1 </td><td>CADM1  </td><td>CADM1  </td></tr>\n",
       "\t<tr><td> 3.044122e-48</td><td>0.4638971</td><td>0.162</td><td>0.065</td><td> 5.277594e-44</td><td>GE RG NKX2-1 DLK1 </td><td>PSD3   </td><td>PSD3   </td></tr>\n",
       "\t<tr><td> 6.605167e-40</td><td>0.4706060</td><td>0.161</td><td>0.072</td><td> 1.145138e-35</td><td>GE RG NKX2-1 DLK1 </td><td>PDLIM3 </td><td>PDLIM3 </td></tr>\n",
       "\t<tr><td> 9.774189e-26</td><td>0.4221855</td><td>0.269</td><td>0.176</td><td> 1.694551e-21</td><td>GE RG NKX2-1 DLK1 </td><td>FGFR1  </td><td>FGFR1  </td></tr>\n",
       "\t<tr><td> 9.830937e-24</td><td>0.4025421</td><td>0.215</td><td>0.132</td><td> 1.704390e-19</td><td>GE RG NKX2-1 DLK1 </td><td>FRMD4B </td><td>FRMD4B </td></tr>\n",
       "\t<tr><td> 0.000000e+00</td><td>1.3635226</td><td>0.576</td><td>0.187</td><td> 0.000000e+00</td><td>GE RG NKX2-1 OLIG1</td><td>LMO1   </td><td>LMO1   </td></tr>\n",
       "\t<tr><td> 0.000000e+00</td><td>1.2806140</td><td>0.412</td><td>0.099</td><td> 0.000000e+00</td><td>GE RG NKX2-1 OLIG1</td><td>OLIG2  </td><td>OLIG2  </td></tr>\n",
       "\t<tr><td>2.240498e-204</td><td>0.9073791</td><td>0.232</td><td>0.050</td><td>3.884351e-200</td><td>GE RG NKX2-1 OLIG1</td><td>DLX1   </td><td>DLX1   </td></tr>\n",
       "\t<tr><td>3.115712e-182</td><td>1.0025623</td><td>0.370</td><td>0.143</td><td>5.401709e-178</td><td>GE RG NKX2-1 OLIG1</td><td>ASCL1  </td><td>ASCL1  </td></tr>\n",
       "\t<tr><td>6.632501e-148</td><td>0.6504931</td><td>0.173</td><td>0.037</td><td>1.149877e-143</td><td>GE RG NKX2-1 OLIG1</td><td>DLX2   </td><td>DLX2   </td></tr>\n",
       "\t<tr><td>4.568340e-128</td><td>0.7960839</td><td>0.350</td><td>0.162</td><td>7.920132e-124</td><td>GE RG NKX2-1 OLIG1</td><td>PBX3   </td><td>PBX3   </td></tr>\n",
       "\t<tr><td> 3.122829e-83</td><td>0.4726987</td><td>0.140</td><td>0.042</td><td> 5.414049e-79</td><td>GE RG NKX2-1 OLIG1</td><td>PCDH10 </td><td>PCDH10 </td></tr>\n",
       "\t<tr><td> 1.581864e-73</td><td>0.5937942</td><td>0.223</td><td>0.102</td><td> 2.742478e-69</td><td>GE RG NKX2-1 OLIG1</td><td>GLCCI1 </td><td>GLCCI1 </td></tr>\n",
       "\t<tr><td> 4.603098e-63</td><td>0.5000179</td><td>0.182</td><td>0.078</td><td> 7.980391e-59</td><td>GE RG NKX2-1 OLIG1</td><td>PCDH9  </td><td>PCDH9  </td></tr>\n",
       "\t<tr><td> 4.695513e-61</td><td>0.4234962</td><td>0.126</td><td>0.044</td><td> 8.140612e-57</td><td>GE RG NKX2-1 OLIG1</td><td>SOX8   </td><td>SOX8   </td></tr>\n",
       "\t<tr><td> 8.853919e-56</td><td>0.4325279</td><td>0.143</td><td>0.058</td><td> 1.535004e-51</td><td>GE RG NKX2-1 OLIG1</td><td>CORO1C </td><td>CORO1C </td></tr>\n",
       "\t<tr><td> 0.000000e+00</td><td>1.4403351</td><td>0.795</td><td>0.230</td><td> 0.000000e+00</td><td>PC FGF17          </td><td>DLK1   </td><td>DLK1   </td></tr>\n",
       "\t<tr><td> 0.000000e+00</td><td>1.2564596</td><td>0.432</td><td>0.058</td><td> 0.000000e+00</td><td>PC FGF17          </td><td>DUSP6  </td><td>DUSP6  </td></tr>\n",
       "\t<tr><td> 0.000000e+00</td><td>1.3453590</td><td>0.181</td><td>0.009</td><td> 0.000000e+00</td><td>PC FGF17          </td><td>FGF8   </td><td>FGF8   </td></tr>\n",
       "\t<tr><td> 0.000000e+00</td><td>1.1928744</td><td>0.385</td><td>0.065</td><td> 0.000000e+00</td><td>PC FGF17          </td><td>IL17RD </td><td>IL17RD </td></tr>\n",
       "\t<tr><td> 0.000000e+00</td><td>1.0889199</td><td>0.336</td><td>0.051</td><td> 0.000000e+00</td><td>PC FGF17          </td><td>LOX    </td><td>LOX    </td></tr>\n",
       "\t<tr><td> 0.000000e+00</td><td>1.2464115</td><td>0.389</td><td>0.057</td><td> 0.000000e+00</td><td>PC FGF17          </td><td>SPRY1  </td><td>SPRY1  </td></tr>\n",
       "\t<tr><td>6.953883e-262</td><td>0.5893188</td><td>0.157</td><td>0.011</td><td>1.205595e-257</td><td>PC FGF17          </td><td>ETV4   </td><td>ETV4   </td></tr>\n",
       "\t<tr><td>⋮</td><td>⋮</td><td>⋮</td><td>⋮</td><td>⋮</td><td>⋮</td><td>⋮</td><td>⋮</td></tr>\n",
       "\t<tr><td> 0.000000e+00</td><td>0.8279417</td><td>0.214</td><td>0.008</td><td> 0.000000e+00</td><td>PC TCF7L2</td><td>WNT3      </td><td>WNT3    </td></tr>\n",
       "\t<tr><td>7.736890e-293</td><td>0.9788987</td><td>0.272</td><td>0.025</td><td>1.341345e-288</td><td>PC TCF7L2</td><td>PDIA5     </td><td>PDIA5   </td></tr>\n",
       "\t<tr><td>2.715163e-285</td><td>0.4429761</td><td>0.111</td><td>0.001</td><td>4.707277e-281</td><td>PC TCF7L2</td><td>IRX5      </td><td>IRX5    </td></tr>\n",
       "\t<tr><td>7.915830e-275</td><td>1.3835292</td><td>0.592</td><td>0.147</td><td>1.372368e-270</td><td>PC TCF7L2</td><td>CLYBL     </td><td>CLYBL   </td></tr>\n",
       "\t<tr><td>6.490586e-269</td><td>0.9029465</td><td>0.252</td><td>0.023</td><td>1.125273e-264</td><td>PC TCF7L2</td><td>NTNG1     </td><td>NTNG1   </td></tr>\n",
       "\t<tr><td>1.971701e-255</td><td>1.4309557</td><td>0.711</td><td>0.246</td><td>3.418337e-251</td><td>PC TCF7L2</td><td>CNTNAP2   </td><td>CNTNAP2 </td></tr>\n",
       "\t<tr><td>5.440697e-187</td><td>1.2765145</td><td>0.598</td><td>0.200</td><td>9.432537e-183</td><td>PC TCF7L2</td><td>TCF7L2    </td><td>TCF7L2  </td></tr>\n",
       "\t<tr><td>2.862669e-183</td><td>1.0920956</td><td>0.558</td><td>0.171</td><td>4.963009e-179</td><td>PC TCF7L2</td><td>SIPA1L2   </td><td>SIPA1L2 </td></tr>\n",
       "\t<tr><td>2.047840e-181</td><td>1.0702127</td><td>0.425</td><td>0.102</td><td>3.550340e-177</td><td>PC TCF7L2</td><td>FST       </td><td>FST     </td></tr>\n",
       "\t<tr><td>2.845385e-159</td><td>0.5703012</td><td>0.167</td><td>0.017</td><td>4.933045e-155</td><td>PC TCF7L2</td><td>TPD52     </td><td>TPD52   </td></tr>\n",
       "\t<tr><td>3.942978e-141</td><td>0.7473263</td><td>0.258</td><td>0.049</td><td>6.835941e-137</td><td>PC TCF7L2</td><td>OTX1      </td><td>OTX1    </td></tr>\n",
       "\t<tr><td>1.863863e-138</td><td>0.9242457</td><td>0.269</td><td>0.055</td><td>3.231380e-134</td><td>PC TCF7L2</td><td>NEUROG2   </td><td>NEUROG2 </td></tr>\n",
       "\t<tr><td>1.043642e-125</td><td>0.9754466</td><td>0.488</td><td>0.177</td><td>1.809362e-121</td><td>PC TCF7L2</td><td>RSRC1     </td><td>RSRC1   </td></tr>\n",
       "\t<tr><td> 0.000000e+00</td><td>0.6626050</td><td>0.190</td><td>0.005</td><td> 0.000000e+00</td><td>PC TTR   </td><td>ADA       </td><td>ADA     </td></tr>\n",
       "\t<tr><td> 0.000000e+00</td><td>1.9178786</td><td>0.783</td><td>0.112</td><td> 0.000000e+00</td><td>PC TTR   </td><td>ANXA2     </td><td>ANXA2   </td></tr>\n",
       "\t<tr><td> 0.000000e+00</td><td>0.8537382</td><td>0.335</td><td>0.027</td><td> 0.000000e+00</td><td>PC TTR   </td><td>APOE      </td><td>APOE    </td></tr>\n",
       "\t<tr><td> 0.000000e+00</td><td>0.6199249</td><td>0.197</td><td>0.008</td><td> 0.000000e+00</td><td>PC TTR   </td><td>C3H21orf62</td><td>C21orf62</td></tr>\n",
       "\t<tr><td> 0.000000e+00</td><td>1.6650680</td><td>0.513</td><td>0.004</td><td> 0.000000e+00</td><td>PC TTR   </td><td>CA2       </td><td>CA2     </td></tr>\n",
       "\t<tr><td> 0.000000e+00</td><td>0.5706086</td><td>0.189</td><td>0.004</td><td> 0.000000e+00</td><td>PC TTR   </td><td>CACNA2D3  </td><td>CACNA2D3</td></tr>\n",
       "\t<tr><td> 0.000000e+00</td><td>0.8550540</td><td>0.219</td><td>0.001</td><td> 0.000000e+00</td><td>PC TTR   </td><td>CAPSL     </td><td>CAPSL   </td></tr>\n",
       "\t<tr><td> 0.000000e+00</td><td>1.3513910</td><td>0.362</td><td>0.014</td><td> 0.000000e+00</td><td>PC TTR   </td><td>CLDN5     </td><td>CLDN5   </td></tr>\n",
       "\t<tr><td> 0.000000e+00</td><td>2.2475015</td><td>0.687</td><td>0.003</td><td> 0.000000e+00</td><td>PC TTR   </td><td>CLIC6     </td><td>CLIC6   </td></tr>\n",
       "\t<tr><td> 0.000000e+00</td><td>1.3309016</td><td>0.421</td><td>0.005</td><td> 0.000000e+00</td><td>PC TTR   </td><td>COLEC12   </td><td>COLEC12 </td></tr>\n",
       "\t<tr><td> 0.000000e+00</td><td>1.7924649</td><td>0.297</td><td>0.015</td><td> 0.000000e+00</td><td>PC TTR   </td><td>CRABP1    </td><td>CRABP1  </td></tr>\n",
       "\t<tr><td> 0.000000e+00</td><td>0.6099066</td><td>0.198</td><td>0.008</td><td> 0.000000e+00</td><td>PC TTR   </td><td>DAB2      </td><td>DAB2    </td></tr>\n",
       "\t<tr><td> 0.000000e+00</td><td>1.1981832</td><td>0.368</td><td>0.003</td><td> 0.000000e+00</td><td>PC TTR   </td><td>DKK2      </td><td>DKK2    </td></tr>\n",
       "\t<tr><td> 0.000000e+00</td><td>1.4649366</td><td>0.533</td><td>0.067</td><td> 0.000000e+00</td><td>PC TTR   </td><td>ENO3      </td><td>ENO3    </td></tr>\n",
       "\t<tr><td> 0.000000e+00</td><td>1.4662297</td><td>0.595</td><td>0.051</td><td> 0.000000e+00</td><td>PC TTR   </td><td>FGGY      </td><td>FGGY    </td></tr>\n",
       "\t<tr><td> 0.000000e+00</td><td>1.5462404</td><td>0.343</td><td>0.035</td><td> 0.000000e+00</td><td>PC TTR   </td><td>FOXJ1     </td><td>FOXJ1   </td></tr>\n",
       "\t<tr><td> 0.000000e+00</td><td>0.6824114</td><td>0.231</td><td>0.013</td><td> 0.000000e+00</td><td>PC TTR   </td><td>GALNT10   </td><td>GALNT10 </td></tr>\n",
       "</tbody>\n",
       "</table>\n"
      ],
      "text/latex": [
       "A grouped\\_df: 128 × 8\n",
       "\\begin{tabular}{llllllll}\n",
       " p\\_val & avg\\_log2FC & pct.1 & pct.2 & p\\_val\\_adj & cluster & gene & geneHuman\\\\\n",
       " <dbl> & <dbl> & <dbl> & <dbl> & <dbl> & <chr> & <chr> & <chr>\\\\\n",
       "\\hline\n",
       "\t  0.000000e+00 & 1.3666645 & 0.584 & 0.173 &  0.000000e+00 & GE RG NKX2-1 DLK1  & MEIS2   & MEIS2  \\\\\n",
       "\t 4.713510e-129 & 0.9693123 & 0.418 & 0.186 & 8.171812e-125 & GE RG NKX2-1 DLK1  & FAM181B & FAM181B\\\\\n",
       "\t 1.136861e-105 & 0.9401242 & 0.140 & 0.030 & 1.970975e-101 & GE RG NKX2-1 DLK1  & HOPX    & HOPX   \\\\\n",
       "\t  5.120328e-94 & 0.7826984 & 0.359 & 0.173 &  8.877113e-90 & GE RG NKX2-1 DLK1  & GNG3    & GNG3   \\\\\n",
       "\t  2.298225e-76 & 0.6694258 & 0.248 & 0.102 &  3.984433e-72 & GE RG NKX2-1 DLK1  & GAP43   & GAP43  \\\\\n",
       "\t  1.014015e-75 & 0.6474617 & 0.354 & 0.173 &  1.757998e-71 & GE RG NKX2-1 DLK1  & STMN2   & STMN2  \\\\\n",
       "\t  6.345716e-64 & 0.4915654 & 0.149 & 0.048 &  1.100157e-59 & GE RG NKX2-1 DLK1  & THSD4   & THSD4  \\\\\n",
       "\t  8.078482e-56 & 0.5809916 & 0.446 & 0.287 &  1.400567e-51 & GE RG NKX2-1 DLK1  & CADM1   & CADM1  \\\\\n",
       "\t  3.044122e-48 & 0.4638971 & 0.162 & 0.065 &  5.277594e-44 & GE RG NKX2-1 DLK1  & PSD3    & PSD3   \\\\\n",
       "\t  6.605167e-40 & 0.4706060 & 0.161 & 0.072 &  1.145138e-35 & GE RG NKX2-1 DLK1  & PDLIM3  & PDLIM3 \\\\\n",
       "\t  9.774189e-26 & 0.4221855 & 0.269 & 0.176 &  1.694551e-21 & GE RG NKX2-1 DLK1  & FGFR1   & FGFR1  \\\\\n",
       "\t  9.830937e-24 & 0.4025421 & 0.215 & 0.132 &  1.704390e-19 & GE RG NKX2-1 DLK1  & FRMD4B  & FRMD4B \\\\\n",
       "\t  0.000000e+00 & 1.3635226 & 0.576 & 0.187 &  0.000000e+00 & GE RG NKX2-1 OLIG1 & LMO1    & LMO1   \\\\\n",
       "\t  0.000000e+00 & 1.2806140 & 0.412 & 0.099 &  0.000000e+00 & GE RG NKX2-1 OLIG1 & OLIG2   & OLIG2  \\\\\n",
       "\t 2.240498e-204 & 0.9073791 & 0.232 & 0.050 & 3.884351e-200 & GE RG NKX2-1 OLIG1 & DLX1    & DLX1   \\\\\n",
       "\t 3.115712e-182 & 1.0025623 & 0.370 & 0.143 & 5.401709e-178 & GE RG NKX2-1 OLIG1 & ASCL1   & ASCL1  \\\\\n",
       "\t 6.632501e-148 & 0.6504931 & 0.173 & 0.037 & 1.149877e-143 & GE RG NKX2-1 OLIG1 & DLX2    & DLX2   \\\\\n",
       "\t 4.568340e-128 & 0.7960839 & 0.350 & 0.162 & 7.920132e-124 & GE RG NKX2-1 OLIG1 & PBX3    & PBX3   \\\\\n",
       "\t  3.122829e-83 & 0.4726987 & 0.140 & 0.042 &  5.414049e-79 & GE RG NKX2-1 OLIG1 & PCDH10  & PCDH10 \\\\\n",
       "\t  1.581864e-73 & 0.5937942 & 0.223 & 0.102 &  2.742478e-69 & GE RG NKX2-1 OLIG1 & GLCCI1  & GLCCI1 \\\\\n",
       "\t  4.603098e-63 & 0.5000179 & 0.182 & 0.078 &  7.980391e-59 & GE RG NKX2-1 OLIG1 & PCDH9   & PCDH9  \\\\\n",
       "\t  4.695513e-61 & 0.4234962 & 0.126 & 0.044 &  8.140612e-57 & GE RG NKX2-1 OLIG1 & SOX8    & SOX8   \\\\\n",
       "\t  8.853919e-56 & 0.4325279 & 0.143 & 0.058 &  1.535004e-51 & GE RG NKX2-1 OLIG1 & CORO1C  & CORO1C \\\\\n",
       "\t  0.000000e+00 & 1.4403351 & 0.795 & 0.230 &  0.000000e+00 & PC FGF17           & DLK1    & DLK1   \\\\\n",
       "\t  0.000000e+00 & 1.2564596 & 0.432 & 0.058 &  0.000000e+00 & PC FGF17           & DUSP6   & DUSP6  \\\\\n",
       "\t  0.000000e+00 & 1.3453590 & 0.181 & 0.009 &  0.000000e+00 & PC FGF17           & FGF8    & FGF8   \\\\\n",
       "\t  0.000000e+00 & 1.1928744 & 0.385 & 0.065 &  0.000000e+00 & PC FGF17           & IL17RD  & IL17RD \\\\\n",
       "\t  0.000000e+00 & 1.0889199 & 0.336 & 0.051 &  0.000000e+00 & PC FGF17           & LOX     & LOX    \\\\\n",
       "\t  0.000000e+00 & 1.2464115 & 0.389 & 0.057 &  0.000000e+00 & PC FGF17           & SPRY1   & SPRY1  \\\\\n",
       "\t 6.953883e-262 & 0.5893188 & 0.157 & 0.011 & 1.205595e-257 & PC FGF17           & ETV4    & ETV4   \\\\\n",
       "\t ⋮ & ⋮ & ⋮ & ⋮ & ⋮ & ⋮ & ⋮ & ⋮\\\\\n",
       "\t  0.000000e+00 & 0.8279417 & 0.214 & 0.008 &  0.000000e+00 & PC TCF7L2 & WNT3       & WNT3    \\\\\n",
       "\t 7.736890e-293 & 0.9788987 & 0.272 & 0.025 & 1.341345e-288 & PC TCF7L2 & PDIA5      & PDIA5   \\\\\n",
       "\t 2.715163e-285 & 0.4429761 & 0.111 & 0.001 & 4.707277e-281 & PC TCF7L2 & IRX5       & IRX5    \\\\\n",
       "\t 7.915830e-275 & 1.3835292 & 0.592 & 0.147 & 1.372368e-270 & PC TCF7L2 & CLYBL      & CLYBL   \\\\\n",
       "\t 6.490586e-269 & 0.9029465 & 0.252 & 0.023 & 1.125273e-264 & PC TCF7L2 & NTNG1      & NTNG1   \\\\\n",
       "\t 1.971701e-255 & 1.4309557 & 0.711 & 0.246 & 3.418337e-251 & PC TCF7L2 & CNTNAP2    & CNTNAP2 \\\\\n",
       "\t 5.440697e-187 & 1.2765145 & 0.598 & 0.200 & 9.432537e-183 & PC TCF7L2 & TCF7L2     & TCF7L2  \\\\\n",
       "\t 2.862669e-183 & 1.0920956 & 0.558 & 0.171 & 4.963009e-179 & PC TCF7L2 & SIPA1L2    & SIPA1L2 \\\\\n",
       "\t 2.047840e-181 & 1.0702127 & 0.425 & 0.102 & 3.550340e-177 & PC TCF7L2 & FST        & FST     \\\\\n",
       "\t 2.845385e-159 & 0.5703012 & 0.167 & 0.017 & 4.933045e-155 & PC TCF7L2 & TPD52      & TPD52   \\\\\n",
       "\t 3.942978e-141 & 0.7473263 & 0.258 & 0.049 & 6.835941e-137 & PC TCF7L2 & OTX1       & OTX1    \\\\\n",
       "\t 1.863863e-138 & 0.9242457 & 0.269 & 0.055 & 3.231380e-134 & PC TCF7L2 & NEUROG2    & NEUROG2 \\\\\n",
       "\t 1.043642e-125 & 0.9754466 & 0.488 & 0.177 & 1.809362e-121 & PC TCF7L2 & RSRC1      & RSRC1   \\\\\n",
       "\t  0.000000e+00 & 0.6626050 & 0.190 & 0.005 &  0.000000e+00 & PC TTR    & ADA        & ADA     \\\\\n",
       "\t  0.000000e+00 & 1.9178786 & 0.783 & 0.112 &  0.000000e+00 & PC TTR    & ANXA2      & ANXA2   \\\\\n",
       "\t  0.000000e+00 & 0.8537382 & 0.335 & 0.027 &  0.000000e+00 & PC TTR    & APOE       & APOE    \\\\\n",
       "\t  0.000000e+00 & 0.6199249 & 0.197 & 0.008 &  0.000000e+00 & PC TTR    & C3H21orf62 & C21orf62\\\\\n",
       "\t  0.000000e+00 & 1.6650680 & 0.513 & 0.004 &  0.000000e+00 & PC TTR    & CA2        & CA2     \\\\\n",
       "\t  0.000000e+00 & 0.5706086 & 0.189 & 0.004 &  0.000000e+00 & PC TTR    & CACNA2D3   & CACNA2D3\\\\\n",
       "\t  0.000000e+00 & 0.8550540 & 0.219 & 0.001 &  0.000000e+00 & PC TTR    & CAPSL      & CAPSL   \\\\\n",
       "\t  0.000000e+00 & 1.3513910 & 0.362 & 0.014 &  0.000000e+00 & PC TTR    & CLDN5      & CLDN5   \\\\\n",
       "\t  0.000000e+00 & 2.2475015 & 0.687 & 0.003 &  0.000000e+00 & PC TTR    & CLIC6      & CLIC6   \\\\\n",
       "\t  0.000000e+00 & 1.3309016 & 0.421 & 0.005 &  0.000000e+00 & PC TTR    & COLEC12    & COLEC12 \\\\\n",
       "\t  0.000000e+00 & 1.7924649 & 0.297 & 0.015 &  0.000000e+00 & PC TTR    & CRABP1     & CRABP1  \\\\\n",
       "\t  0.000000e+00 & 0.6099066 & 0.198 & 0.008 &  0.000000e+00 & PC TTR    & DAB2       & DAB2    \\\\\n",
       "\t  0.000000e+00 & 1.1981832 & 0.368 & 0.003 &  0.000000e+00 & PC TTR    & DKK2       & DKK2    \\\\\n",
       "\t  0.000000e+00 & 1.4649366 & 0.533 & 0.067 &  0.000000e+00 & PC TTR    & ENO3       & ENO3    \\\\\n",
       "\t  0.000000e+00 & 1.4662297 & 0.595 & 0.051 &  0.000000e+00 & PC TTR    & FGGY       & FGGY    \\\\\n",
       "\t  0.000000e+00 & 1.5462404 & 0.343 & 0.035 &  0.000000e+00 & PC TTR    & FOXJ1      & FOXJ1   \\\\\n",
       "\t  0.000000e+00 & 0.6824114 & 0.231 & 0.013 &  0.000000e+00 & PC TTR    & GALNT10    & GALNT10 \\\\\n",
       "\\end{tabular}\n"
      ],
      "text/markdown": [
       "\n",
       "A grouped_df: 128 × 8\n",
       "\n",
       "| p_val &lt;dbl&gt; | avg_log2FC &lt;dbl&gt; | pct.1 &lt;dbl&gt; | pct.2 &lt;dbl&gt; | p_val_adj &lt;dbl&gt; | cluster &lt;chr&gt; | gene &lt;chr&gt; | geneHuman &lt;chr&gt; |\n",
       "|---|---|---|---|---|---|---|---|\n",
       "|  0.000000e+00 | 1.3666645 | 0.584 | 0.173 |  0.000000e+00 | GE RG NKX2-1 DLK1  | MEIS2   | MEIS2   |\n",
       "| 4.713510e-129 | 0.9693123 | 0.418 | 0.186 | 8.171812e-125 | GE RG NKX2-1 DLK1  | FAM181B | FAM181B |\n",
       "| 1.136861e-105 | 0.9401242 | 0.140 | 0.030 | 1.970975e-101 | GE RG NKX2-1 DLK1  | HOPX    | HOPX    |\n",
       "|  5.120328e-94 | 0.7826984 | 0.359 | 0.173 |  8.877113e-90 | GE RG NKX2-1 DLK1  | GNG3    | GNG3    |\n",
       "|  2.298225e-76 | 0.6694258 | 0.248 | 0.102 |  3.984433e-72 | GE RG NKX2-1 DLK1  | GAP43   | GAP43   |\n",
       "|  1.014015e-75 | 0.6474617 | 0.354 | 0.173 |  1.757998e-71 | GE RG NKX2-1 DLK1  | STMN2   | STMN2   |\n",
       "|  6.345716e-64 | 0.4915654 | 0.149 | 0.048 |  1.100157e-59 | GE RG NKX2-1 DLK1  | THSD4   | THSD4   |\n",
       "|  8.078482e-56 | 0.5809916 | 0.446 | 0.287 |  1.400567e-51 | GE RG NKX2-1 DLK1  | CADM1   | CADM1   |\n",
       "|  3.044122e-48 | 0.4638971 | 0.162 | 0.065 |  5.277594e-44 | GE RG NKX2-1 DLK1  | PSD3    | PSD3    |\n",
       "|  6.605167e-40 | 0.4706060 | 0.161 | 0.072 |  1.145138e-35 | GE RG NKX2-1 DLK1  | PDLIM3  | PDLIM3  |\n",
       "|  9.774189e-26 | 0.4221855 | 0.269 | 0.176 |  1.694551e-21 | GE RG NKX2-1 DLK1  | FGFR1   | FGFR1   |\n",
       "|  9.830937e-24 | 0.4025421 | 0.215 | 0.132 |  1.704390e-19 | GE RG NKX2-1 DLK1  | FRMD4B  | FRMD4B  |\n",
       "|  0.000000e+00 | 1.3635226 | 0.576 | 0.187 |  0.000000e+00 | GE RG NKX2-1 OLIG1 | LMO1    | LMO1    |\n",
       "|  0.000000e+00 | 1.2806140 | 0.412 | 0.099 |  0.000000e+00 | GE RG NKX2-1 OLIG1 | OLIG2   | OLIG2   |\n",
       "| 2.240498e-204 | 0.9073791 | 0.232 | 0.050 | 3.884351e-200 | GE RG NKX2-1 OLIG1 | DLX1    | DLX1    |\n",
       "| 3.115712e-182 | 1.0025623 | 0.370 | 0.143 | 5.401709e-178 | GE RG NKX2-1 OLIG1 | ASCL1   | ASCL1   |\n",
       "| 6.632501e-148 | 0.6504931 | 0.173 | 0.037 | 1.149877e-143 | GE RG NKX2-1 OLIG1 | DLX2    | DLX2    |\n",
       "| 4.568340e-128 | 0.7960839 | 0.350 | 0.162 | 7.920132e-124 | GE RG NKX2-1 OLIG1 | PBX3    | PBX3    |\n",
       "|  3.122829e-83 | 0.4726987 | 0.140 | 0.042 |  5.414049e-79 | GE RG NKX2-1 OLIG1 | PCDH10  | PCDH10  |\n",
       "|  1.581864e-73 | 0.5937942 | 0.223 | 0.102 |  2.742478e-69 | GE RG NKX2-1 OLIG1 | GLCCI1  | GLCCI1  |\n",
       "|  4.603098e-63 | 0.5000179 | 0.182 | 0.078 |  7.980391e-59 | GE RG NKX2-1 OLIG1 | PCDH9   | PCDH9   |\n",
       "|  4.695513e-61 | 0.4234962 | 0.126 | 0.044 |  8.140612e-57 | GE RG NKX2-1 OLIG1 | SOX8    | SOX8    |\n",
       "|  8.853919e-56 | 0.4325279 | 0.143 | 0.058 |  1.535004e-51 | GE RG NKX2-1 OLIG1 | CORO1C  | CORO1C  |\n",
       "|  0.000000e+00 | 1.4403351 | 0.795 | 0.230 |  0.000000e+00 | PC FGF17           | DLK1    | DLK1    |\n",
       "|  0.000000e+00 | 1.2564596 | 0.432 | 0.058 |  0.000000e+00 | PC FGF17           | DUSP6   | DUSP6   |\n",
       "|  0.000000e+00 | 1.3453590 | 0.181 | 0.009 |  0.000000e+00 | PC FGF17           | FGF8    | FGF8    |\n",
       "|  0.000000e+00 | 1.1928744 | 0.385 | 0.065 |  0.000000e+00 | PC FGF17           | IL17RD  | IL17RD  |\n",
       "|  0.000000e+00 | 1.0889199 | 0.336 | 0.051 |  0.000000e+00 | PC FGF17           | LOX     | LOX     |\n",
       "|  0.000000e+00 | 1.2464115 | 0.389 | 0.057 |  0.000000e+00 | PC FGF17           | SPRY1   | SPRY1   |\n",
       "| 6.953883e-262 | 0.5893188 | 0.157 | 0.011 | 1.205595e-257 | PC FGF17           | ETV4    | ETV4    |\n",
       "| ⋮ | ⋮ | ⋮ | ⋮ | ⋮ | ⋮ | ⋮ | ⋮ |\n",
       "|  0.000000e+00 | 0.8279417 | 0.214 | 0.008 |  0.000000e+00 | PC TCF7L2 | WNT3       | WNT3     |\n",
       "| 7.736890e-293 | 0.9788987 | 0.272 | 0.025 | 1.341345e-288 | PC TCF7L2 | PDIA5      | PDIA5    |\n",
       "| 2.715163e-285 | 0.4429761 | 0.111 | 0.001 | 4.707277e-281 | PC TCF7L2 | IRX5       | IRX5     |\n",
       "| 7.915830e-275 | 1.3835292 | 0.592 | 0.147 | 1.372368e-270 | PC TCF7L2 | CLYBL      | CLYBL    |\n",
       "| 6.490586e-269 | 0.9029465 | 0.252 | 0.023 | 1.125273e-264 | PC TCF7L2 | NTNG1      | NTNG1    |\n",
       "| 1.971701e-255 | 1.4309557 | 0.711 | 0.246 | 3.418337e-251 | PC TCF7L2 | CNTNAP2    | CNTNAP2  |\n",
       "| 5.440697e-187 | 1.2765145 | 0.598 | 0.200 | 9.432537e-183 | PC TCF7L2 | TCF7L2     | TCF7L2   |\n",
       "| 2.862669e-183 | 1.0920956 | 0.558 | 0.171 | 4.963009e-179 | PC TCF7L2 | SIPA1L2    | SIPA1L2  |\n",
       "| 2.047840e-181 | 1.0702127 | 0.425 | 0.102 | 3.550340e-177 | PC TCF7L2 | FST        | FST      |\n",
       "| 2.845385e-159 | 0.5703012 | 0.167 | 0.017 | 4.933045e-155 | PC TCF7L2 | TPD52      | TPD52    |\n",
       "| 3.942978e-141 | 0.7473263 | 0.258 | 0.049 | 6.835941e-137 | PC TCF7L2 | OTX1       | OTX1     |\n",
       "| 1.863863e-138 | 0.9242457 | 0.269 | 0.055 | 3.231380e-134 | PC TCF7L2 | NEUROG2    | NEUROG2  |\n",
       "| 1.043642e-125 | 0.9754466 | 0.488 | 0.177 | 1.809362e-121 | PC TCF7L2 | RSRC1      | RSRC1    |\n",
       "|  0.000000e+00 | 0.6626050 | 0.190 | 0.005 |  0.000000e+00 | PC TTR    | ADA        | ADA      |\n",
       "|  0.000000e+00 | 1.9178786 | 0.783 | 0.112 |  0.000000e+00 | PC TTR    | ANXA2      | ANXA2    |\n",
       "|  0.000000e+00 | 0.8537382 | 0.335 | 0.027 |  0.000000e+00 | PC TTR    | APOE       | APOE     |\n",
       "|  0.000000e+00 | 0.6199249 | 0.197 | 0.008 |  0.000000e+00 | PC TTR    | C3H21orf62 | C21orf62 |\n",
       "|  0.000000e+00 | 1.6650680 | 0.513 | 0.004 |  0.000000e+00 | PC TTR    | CA2        | CA2      |\n",
       "|  0.000000e+00 | 0.5706086 | 0.189 | 0.004 |  0.000000e+00 | PC TTR    | CACNA2D3   | CACNA2D3 |\n",
       "|  0.000000e+00 | 0.8550540 | 0.219 | 0.001 |  0.000000e+00 | PC TTR    | CAPSL      | CAPSL    |\n",
       "|  0.000000e+00 | 1.3513910 | 0.362 | 0.014 |  0.000000e+00 | PC TTR    | CLDN5      | CLDN5    |\n",
       "|  0.000000e+00 | 2.2475015 | 0.687 | 0.003 |  0.000000e+00 | PC TTR    | CLIC6      | CLIC6    |\n",
       "|  0.000000e+00 | 1.3309016 | 0.421 | 0.005 |  0.000000e+00 | PC TTR    | COLEC12    | COLEC12  |\n",
       "|  0.000000e+00 | 1.7924649 | 0.297 | 0.015 |  0.000000e+00 | PC TTR    | CRABP1     | CRABP1   |\n",
       "|  0.000000e+00 | 0.6099066 | 0.198 | 0.008 |  0.000000e+00 | PC TTR    | DAB2       | DAB2     |\n",
       "|  0.000000e+00 | 1.1981832 | 0.368 | 0.003 |  0.000000e+00 | PC TTR    | DKK2       | DKK2     |\n",
       "|  0.000000e+00 | 1.4649366 | 0.533 | 0.067 |  0.000000e+00 | PC TTR    | ENO3       | ENO3     |\n",
       "|  0.000000e+00 | 1.4662297 | 0.595 | 0.051 |  0.000000e+00 | PC TTR    | FGGY       | FGGY     |\n",
       "|  0.000000e+00 | 1.5462404 | 0.343 | 0.035 |  0.000000e+00 | PC TTR    | FOXJ1      | FOXJ1    |\n",
       "|  0.000000e+00 | 0.6824114 | 0.231 | 0.013 |  0.000000e+00 | PC TTR    | GALNT10    | GALNT10  |\n",
       "\n"
      ],
      "text/plain": [
       "    p_val         avg_log2FC pct.1 pct.2 p_val_adj     cluster           \n",
       "1    0.000000e+00 1.3666645  0.584 0.173  0.000000e+00 GE RG NKX2-1 DLK1 \n",
       "2   4.713510e-129 0.9693123  0.418 0.186 8.171812e-125 GE RG NKX2-1 DLK1 \n",
       "3   1.136861e-105 0.9401242  0.140 0.030 1.970975e-101 GE RG NKX2-1 DLK1 \n",
       "4    5.120328e-94 0.7826984  0.359 0.173  8.877113e-90 GE RG NKX2-1 DLK1 \n",
       "5    2.298225e-76 0.6694258  0.248 0.102  3.984433e-72 GE RG NKX2-1 DLK1 \n",
       "6    1.014015e-75 0.6474617  0.354 0.173  1.757998e-71 GE RG NKX2-1 DLK1 \n",
       "7    6.345716e-64 0.4915654  0.149 0.048  1.100157e-59 GE RG NKX2-1 DLK1 \n",
       "8    8.078482e-56 0.5809916  0.446 0.287  1.400567e-51 GE RG NKX2-1 DLK1 \n",
       "9    3.044122e-48 0.4638971  0.162 0.065  5.277594e-44 GE RG NKX2-1 DLK1 \n",
       "10   6.605167e-40 0.4706060  0.161 0.072  1.145138e-35 GE RG NKX2-1 DLK1 \n",
       "11   9.774189e-26 0.4221855  0.269 0.176  1.694551e-21 GE RG NKX2-1 DLK1 \n",
       "12   9.830937e-24 0.4025421  0.215 0.132  1.704390e-19 GE RG NKX2-1 DLK1 \n",
       "13   0.000000e+00 1.3635226  0.576 0.187  0.000000e+00 GE RG NKX2-1 OLIG1\n",
       "14   0.000000e+00 1.2806140  0.412 0.099  0.000000e+00 GE RG NKX2-1 OLIG1\n",
       "15  2.240498e-204 0.9073791  0.232 0.050 3.884351e-200 GE RG NKX2-1 OLIG1\n",
       "16  3.115712e-182 1.0025623  0.370 0.143 5.401709e-178 GE RG NKX2-1 OLIG1\n",
       "17  6.632501e-148 0.6504931  0.173 0.037 1.149877e-143 GE RG NKX2-1 OLIG1\n",
       "18  4.568340e-128 0.7960839  0.350 0.162 7.920132e-124 GE RG NKX2-1 OLIG1\n",
       "19   3.122829e-83 0.4726987  0.140 0.042  5.414049e-79 GE RG NKX2-1 OLIG1\n",
       "20   1.581864e-73 0.5937942  0.223 0.102  2.742478e-69 GE RG NKX2-1 OLIG1\n",
       "21   4.603098e-63 0.5000179  0.182 0.078  7.980391e-59 GE RG NKX2-1 OLIG1\n",
       "22   4.695513e-61 0.4234962  0.126 0.044  8.140612e-57 GE RG NKX2-1 OLIG1\n",
       "23   8.853919e-56 0.4325279  0.143 0.058  1.535004e-51 GE RG NKX2-1 OLIG1\n",
       "24   0.000000e+00 1.4403351  0.795 0.230  0.000000e+00 PC FGF17          \n",
       "25   0.000000e+00 1.2564596  0.432 0.058  0.000000e+00 PC FGF17          \n",
       "26   0.000000e+00 1.3453590  0.181 0.009  0.000000e+00 PC FGF17          \n",
       "27   0.000000e+00 1.1928744  0.385 0.065  0.000000e+00 PC FGF17          \n",
       "28   0.000000e+00 1.0889199  0.336 0.051  0.000000e+00 PC FGF17          \n",
       "29   0.000000e+00 1.2464115  0.389 0.057  0.000000e+00 PC FGF17          \n",
       "30  6.953883e-262 0.5893188  0.157 0.011 1.205595e-257 PC FGF17          \n",
       "⋮   ⋮             ⋮          ⋮     ⋮     ⋮             ⋮                 \n",
       "99   0.000000e+00 0.8279417  0.214 0.008  0.000000e+00 PC TCF7L2         \n",
       "100 7.736890e-293 0.9788987  0.272 0.025 1.341345e-288 PC TCF7L2         \n",
       "101 2.715163e-285 0.4429761  0.111 0.001 4.707277e-281 PC TCF7L2         \n",
       "102 7.915830e-275 1.3835292  0.592 0.147 1.372368e-270 PC TCF7L2         \n",
       "103 6.490586e-269 0.9029465  0.252 0.023 1.125273e-264 PC TCF7L2         \n",
       "104 1.971701e-255 1.4309557  0.711 0.246 3.418337e-251 PC TCF7L2         \n",
       "105 5.440697e-187 1.2765145  0.598 0.200 9.432537e-183 PC TCF7L2         \n",
       "106 2.862669e-183 1.0920956  0.558 0.171 4.963009e-179 PC TCF7L2         \n",
       "107 2.047840e-181 1.0702127  0.425 0.102 3.550340e-177 PC TCF7L2         \n",
       "108 2.845385e-159 0.5703012  0.167 0.017 4.933045e-155 PC TCF7L2         \n",
       "109 3.942978e-141 0.7473263  0.258 0.049 6.835941e-137 PC TCF7L2         \n",
       "110 1.863863e-138 0.9242457  0.269 0.055 3.231380e-134 PC TCF7L2         \n",
       "111 1.043642e-125 0.9754466  0.488 0.177 1.809362e-121 PC TCF7L2         \n",
       "112  0.000000e+00 0.6626050  0.190 0.005  0.000000e+00 PC TTR            \n",
       "113  0.000000e+00 1.9178786  0.783 0.112  0.000000e+00 PC TTR            \n",
       "114  0.000000e+00 0.8537382  0.335 0.027  0.000000e+00 PC TTR            \n",
       "115  0.000000e+00 0.6199249  0.197 0.008  0.000000e+00 PC TTR            \n",
       "116  0.000000e+00 1.6650680  0.513 0.004  0.000000e+00 PC TTR            \n",
       "117  0.000000e+00 0.5706086  0.189 0.004  0.000000e+00 PC TTR            \n",
       "118  0.000000e+00 0.8550540  0.219 0.001  0.000000e+00 PC TTR            \n",
       "119  0.000000e+00 1.3513910  0.362 0.014  0.000000e+00 PC TTR            \n",
       "120  0.000000e+00 2.2475015  0.687 0.003  0.000000e+00 PC TTR            \n",
       "121  0.000000e+00 1.3309016  0.421 0.005  0.000000e+00 PC TTR            \n",
       "122  0.000000e+00 1.7924649  0.297 0.015  0.000000e+00 PC TTR            \n",
       "123  0.000000e+00 0.6099066  0.198 0.008  0.000000e+00 PC TTR            \n",
       "124  0.000000e+00 1.1981832  0.368 0.003  0.000000e+00 PC TTR            \n",
       "125  0.000000e+00 1.4649366  0.533 0.067  0.000000e+00 PC TTR            \n",
       "126  0.000000e+00 1.4662297  0.595 0.051  0.000000e+00 PC TTR            \n",
       "127  0.000000e+00 1.5462404  0.343 0.035  0.000000e+00 PC TTR            \n",
       "128  0.000000e+00 0.6824114  0.231 0.013  0.000000e+00 PC TTR            \n",
       "    gene       geneHuman\n",
       "1   MEIS2      MEIS2    \n",
       "2   FAM181B    FAM181B  \n",
       "3   HOPX       HOPX     \n",
       "4   GNG3       GNG3     \n",
       "5   GAP43      GAP43    \n",
       "6   STMN2      STMN2    \n",
       "7   THSD4      THSD4    \n",
       "8   CADM1      CADM1    \n",
       "9   PSD3       PSD3     \n",
       "10  PDLIM3     PDLIM3   \n",
       "11  FGFR1      FGFR1    \n",
       "12  FRMD4B     FRMD4B   \n",
       "13  LMO1       LMO1     \n",
       "14  OLIG2      OLIG2    \n",
       "15  DLX1       DLX1     \n",
       "16  ASCL1      ASCL1    \n",
       "17  DLX2       DLX2     \n",
       "18  PBX3       PBX3     \n",
       "19  PCDH10     PCDH10   \n",
       "20  GLCCI1     GLCCI1   \n",
       "21  PCDH9      PCDH9    \n",
       "22  SOX8       SOX8     \n",
       "23  CORO1C     CORO1C   \n",
       "24  DLK1       DLK1     \n",
       "25  DUSP6      DUSP6    \n",
       "26  FGF8       FGF8     \n",
       "27  IL17RD     IL17RD   \n",
       "28  LOX        LOX      \n",
       "29  SPRY1      SPRY1    \n",
       "30  ETV4       ETV4     \n",
       "⋮   ⋮          ⋮        \n",
       "99  WNT3       WNT3     \n",
       "100 PDIA5      PDIA5    \n",
       "101 IRX5       IRX5     \n",
       "102 CLYBL      CLYBL    \n",
       "103 NTNG1      NTNG1    \n",
       "104 CNTNAP2    CNTNAP2  \n",
       "105 TCF7L2     TCF7L2   \n",
       "106 SIPA1L2    SIPA1L2  \n",
       "107 FST        FST      \n",
       "108 TPD52      TPD52    \n",
       "109 OTX1       OTX1     \n",
       "110 NEUROG2    NEUROG2  \n",
       "111 RSRC1      RSRC1    \n",
       "112 ADA        ADA      \n",
       "113 ANXA2      ANXA2    \n",
       "114 APOE       APOE     \n",
       "115 C3H21orf62 C21orf62 \n",
       "116 CA2        CA2      \n",
       "117 CACNA2D3   CACNA2D3 \n",
       "118 CAPSL      CAPSL    \n",
       "119 CLDN5      CLDN5    \n",
       "120 CLIC6      CLIC6    \n",
       "121 COLEC12    COLEC12  \n",
       "122 CRABP1     CRABP1   \n",
       "123 DAB2       DAB2     \n",
       "124 DKK2       DKK2     \n",
       "125 ENO3       ENO3     \n",
       "126 FGGY       FGGY     \n",
       "127 FOXJ1      FOXJ1    \n",
       "128 GALNT10    GALNT10  "
      ]
     },
     "metadata": {},
     "output_type": "display_data"
    }
   ],
   "source": [
    "# Filter markers\n",
    "# run_tag <- '.in_DV_and_Disease'\n",
    "# pc.markers <- subset(pc.markers, geneHuman %in% intersect(venn.list$DV, venn.list$Diseases))\n",
    "# run_tag <- '.in_Disease'\n",
    "# pc.markers <- subset(pc.markers, geneHuman %in% venn.list$Diseases)\n",
    "# run_tag <- '.in_DV'\n",
    "# pc.markers <- subset(pc.markers, geneHuman %in% venn.list$DV)\n",
    "# run_tag <- '.in_DV_or_Disease'\n",
    "pc.markers <- subset(pc.markers, geneHuman %in% union(venn.list$DV, venn.list$Diseases))\n",
    "run_tag <- '.no_intersections'\n",
    "dim(pc.markers)\n",
    "length(unique(pc.markers$geneHuman))\n",
    "pc.markers"
   ]
  },
  {
   "cell_type": "code",
   "execution_count": 24,
   "id": "f3752cff-6b51-4473-bcbf-2804ef5a6bda",
   "metadata": {},
   "outputs": [],
   "source": [
    "markers.per.cluster <- split(pc.markers$gene, pc.markers$cluster) "
   ]
  },
  {
   "cell_type": "code",
   "execution_count": 26,
   "id": "f3d6ca65-5599-41f8-9218-c9dc68b65268",
   "metadata": {},
   "outputs": [
    {
     "data": {
      "text/html": [
       "FALSE"
      ],
      "text/latex": [
       "FALSE"
      ],
      "text/markdown": [
       "FALSE"
      ],
      "text/plain": [
       "[1] FALSE"
      ]
     },
     "metadata": {},
     "output_type": "display_data"
    }
   ],
   "source": [
    "all(unique(pc.markers$gene) %in% unique(dv.bias$gene))"
   ]
  },
  {
   "cell_type": "code",
   "execution_count": 27,
   "id": "d6cadbb5-0143-4b83-9cb1-554e4029d044",
   "metadata": {},
   "outputs": [],
   "source": [
    "# features <- rev(unique(pc.markers$gene))"
   ]
  },
  {
   "cell_type": "code",
   "execution_count": 28,
   "id": "32d5aaf1-07c3-47d5-abe2-47e167ef3037",
   "metadata": {},
   "outputs": [],
   "source": [
    "features <- rev(unique((pc.markers %>% arrange(cluster, desc(pct.1)) )$geneHuman))"
   ]
  },
  {
   "cell_type": "code",
   "execution_count": 29,
   "id": "58b6ecb0-9ca4-4bc6-b4b7-31fad42957dc",
   "metadata": {},
   "outputs": [
    {
     "name": "stderr",
     "output_type": "stream",
     "text": [
      "Centering and scaling data matrix\n",
      "\n"
     ]
    }
   ],
   "source": [
    "seu.markers <- seu[features,]\n",
    "seu.markers <- ScaleData(seu.markers)"
   ]
  },
  {
   "cell_type": "code",
   "execution_count": 30,
   "id": "1dde9d50-db05-4276-9bac-1a1c212b96a1",
   "metadata": {},
   "outputs": [
    {
     "name": "stderr",
     "output_type": "stream",
     "text": [
      "Centering and scaling data matrix\n",
      "\n"
     ]
    }
   ],
   "source": [
    "# all(pc.markers$gene%in%rownames(seu[['RNA']]@counts))\n",
    "# all(pc.markers$geneHuman%in%rownames(seu[['RNA']]@counts))\n",
    "\n",
    "pc.seu <- subset(seu.markers, subtype %in% pc.subtypes)\n",
    "pc.seu <- ScaleData(pc.seu)"
   ]
  },
  {
   "cell_type": "markdown",
   "id": "f3b6f3e7-c276-42a5-858a-e445553d2212",
   "metadata": {},
   "source": [
    "### DotPlot of PC markers with column of DorsoVentral bias"
   ]
  },
  {
   "cell_type": "markdown",
   "id": "e1b4df88-e689-4dd6-bc6c-5189951f76c9",
   "metadata": {},
   "source": [
    "#### Panel of patterning center subtypes expression"
   ]
  },
  {
   "cell_type": "code",
   "execution_count": 31,
   "id": "c07488e1-2805-4ff1-801c-39741858a086",
   "metadata": {},
   "outputs": [
    {
     "name": "stderr",
     "output_type": "stream",
     "text": [
      "Warning message in FetchData.Seurat(object = object, vars = features, cells = cells):\n",
      "“The following requested variables were not found: C21orf62”\n"
     ]
    }
   ],
   "source": [
    "Idents(pc.seu) <- 'subtype'\n",
    "pc.dp.data <- DotPlot(pc.seu, features = features)$data\n",
    "pc.dp.data <- subset(pc.dp.data, pct.exp != 0) %>% group_by(features.plot) %>% mutate(MinMax.avg.exp.scaled = scales::rescale(x = avg.exp.scaled, to=c(0,1))) %>% ungroup()"
   ]
  },
  {
   "cell_type": "code",
   "execution_count": 32,
   "id": "5ff1d8cf-c08c-42c8-812f-4d9253ce293b",
   "metadata": {},
   "outputs": [],
   "source": [
    "(pc.dp.data%>%arrange(features.plot, desc(pct.exp)) %>% group_by(features.plot)%>%slice_head(n=1)%>%ungroup()%>%arrange(id,desc(pct.exp)))$features.plot %>% as.character %>% rev() -> features.order"
   ]
  },
  {
   "cell_type": "code",
   "execution_count": 33,
   "id": "44ac11a1-f967-4ab7-89cc-222a43c48fdc",
   "metadata": {},
   "outputs": [],
   "source": [
    "pc.dp.data$features.plot <- factor(as.character(pc.dp.data$features.plot), features.order)"
   ]
  },
  {
   "cell_type": "code",
   "execution_count": 34,
   "id": "dd8fdba3-7a77-4e11-b059-e10511295dcd",
   "metadata": {},
   "outputs": [],
   "source": [
    "DV.exp <- ggplot(pc.dp.data) + \n",
    "    geom_point(aes(y=features.plot, \n",
    "                   color=MinMax.avg.exp.scaled,\n",
    "                   # color=log10(avg.exp+1),\n",
    "                   size=pct.exp, x=id), \n",
    "               shape=16) +\n",
    "    theme_pubr(base_family='ArialMT', legend='bottom') + labs_pubr() +\n",
    "    scale_color_gradient('Expression\\nPatt. Centers', #'Log10(avg.exp+1)', \n",
    "                         guide = guide_colorbar(direction = 'vertical',\n",
    "                                                title.position = 'top', title.hjust = 0.5),\n",
    "                         breaks=c(.1,.9), labels=c('Min','Max'),\n",
    "                         low=\"blue\", high = \"red\") +\n",
    "    scale_size_area('% expressing cells', max_size=4,\n",
    "                    guide = guide_legend(title.position = 'top', label.position = 'right',\n",
    "                                         ncol = 1, title.hjust = 0.5),\n",
    "                    breaks = c(1, 25,50,75,100), limits=c(1,100)) +\n",
    "    ylab(NULL) + xlab('Patterning centers') + \n",
    "    scale_x_discrete(position = 'top') +\n",
    "\n",
    "   theme(axis.line = element_blank(), axis.ticks.y = element_blank(),\n",
    "         panel.border = element_rect(fill='transparent',color='black'),\n",
    "         plot.background = element_blank(), \n",
    "         panel.background = element_blank(), \n",
    "          panel.grid.major = element_line(color='darkgrey', linewidth=0.1),\n",
    "          axis.text.x.top = element_text(angle=45, hjust=0, vjust=0),\n",
    "          axis.text.y=element_blank()\n",
    "         )"
   ]
  },
  {
   "cell_type": "markdown",
   "id": "514d85ce-5c7e-491b-8cab-279e98a628d1",
   "metadata": {},
   "source": [
    "#### Panel of subclasses expression"
   ]
  },
  {
   "cell_type": "code",
   "execution_count": 35,
   "id": "056afbb0-e241-4caf-a48e-073c81a46d29",
   "metadata": {},
   "outputs": [],
   "source": [
    "fig(8,20)"
   ]
  },
  {
   "cell_type": "code",
   "execution_count": 36,
   "id": "917871ef-79d3-4841-8dc4-d16dd11a27eb",
   "metadata": {},
   "outputs": [],
   "source": [
    "Idents(seu.markers) <- 'subclass'\n",
    "mac.dp.data.subclass <- DotPlot(seu.markers, features = features.order)$data\n",
    "mac.dp.data.subclass <- mac.dp.data.subclass %>% group_by(features.plot) %>% mutate(MinMax.avg.exp.scaled = scales::rescale(x = avg.exp.scaled, to=c(0,1))) %>% ungroup()"
   ]
  },
  {
   "cell_type": "code",
   "execution_count": 37,
   "id": "30eccd20-1569-4841-8ea9-738d5bab01fb",
   "metadata": {},
   "outputs": [],
   "source": [
    "mac.pc.markers.exp <- ggplot(mac.dp.data.subclass) + \n",
    "    geom_point(aes(y=features.plot, color=MinMax.avg.exp.scaled, size=pct.exp, x=id), \n",
    "               shape=16) +\n",
    "    scale_color_gradient('Expression\\nMajor classes', #'Relative avg.\\nscaled expression', \n",
    "                         guide = guide_colorbar(direction = 'vertical',\n",
    "                                                title.position = 'top', title.hjust = 0.5),\n",
    "                         breaks=c(.1,.9), labels=c('Min','Max'),\n",
    "                         low=\"grey\", high = \"tomato\", limits=c(0,1)) +\n",
    "    scale_size_area('% expressing\\ncells', max_size=4,\n",
    "                    guide = guide_none(),\n",
    "                    breaks = c(1, 25,50,75,100), limits=c(1,100)) +\n",
    "    scale_x_discrete(position = 'top') +\n",
    "    ylab(NULL) + xlab('Cell class') + \n",
    "    theme_pubr(base_family='ArialMT', legend='bottom') + labs_pubr() +\n",
    "   theme(axis.line = element_blank(), axis.ticks.y = element_blank(),\n",
    "         panel.border = element_rect(fill='transparent',color='black'),\n",
    "         plot.background = element_blank(), \n",
    "         panel.background = element_blank(), \n",
    "         panel.grid.major = element_line(color='darkgrey', linewidth=0.1),\n",
    "         axis.text.x.top = element_text(angle=45, hjust=0, vjust=0),\n",
    "         axis.text.y=element_blank()\n",
    "         )"
   ]
  },
  {
   "cell_type": "markdown",
   "id": "211513ce-f303-4c88-a883-01dedcca3cd4",
   "metadata": {},
   "source": [
    "#### Panel of DV bias"
   ]
  },
  {
   "cell_type": "code",
   "execution_count": 38,
   "id": "5c176234-b0e3-45b4-9ba1-f36d42d63b4a",
   "metadata": {},
   "outputs": [],
   "source": [
    "fig(5,10)"
   ]
  },
  {
   "cell_type": "code",
   "execution_count": 39,
   "id": "d2ffaef6-dee2-442e-8872-dd6f561a118f",
   "metadata": {},
   "outputs": [],
   "source": [
    "pc.dp.data.bias <- merge(pc.dp.data, dv.bias[c('gene', 'DV', 'DIV', 'log2FoldChange', 'padj')], by.x='features.plot', by.y='gene', \n",
    "                         all.x=T, all.y=F)\n",
    "pc.dp.data.bias[is.na(pc.dp.data.bias$DV), 'DV'] <- 'None'\n",
    "pc.dp.data.bias[is.na(pc.dp.data.bias$DIV), 'DIV'] <- 'D8'\n",
    "\n",
    "pc.bias.data <- unique(pc.dp.data.bias[c('features.plot', 'DV', 'DIV', 'log2FoldChange', 'padj')])\n",
    "\n",
    "# subset(pc.dp.data.bias, is.na(DV)) "
   ]
  },
  {
   "cell_type": "code",
   "execution_count": 40,
   "id": "f1590e18-4ef7-4703-8975-318817e7438a",
   "metadata": {},
   "outputs": [],
   "source": [
    "DV.plot <- ggplot(pc.bias.data) + \n",
    "    geom_tile(aes(y=features.plot, fill=DV, x=DIV), \n",
    "              color='black') +\n",
    "    scale_fill_manual('D-V bias',\n",
    "                      guide = guide_legend(title.position = 'top', ncol = 1),\n",
    "                      values=dv.colors,\n",
    "                      na.value='grey') +\n",
    "    theme_pubr(base_family='ArialMT', legend='bottom') + labs_pubr() +\n",
    "    scale_x_discrete(position = 'top', expand=expansion(mult=c(0,0))) +\n",
    "\n",
    "          \n",
    "    # scale_y_discrete(position = 'right') +\n",
    "    ylab(NULL)  + xlab('DV bias') + \n",
    "   theme(legend.justification = c(0, 1),\n",
    "         axis.line = element_blank(), \n",
    "         panel.border = element_rect(fill='transparent',color='black'),\n",
    "         plot.background = element_blank(), \n",
    "         panel.background = element_blank(), \n",
    "          axis.text.x.top = element_text(angle=45, hjust=0, vjust=0),\n",
    "          axis.title.x=element_blank()) \n"
   ]
  },
  {
   "cell_type": "code",
   "execution_count": 48,
   "id": "4593b56a-10c0-4beb-a42e-f5289e8fbccb",
   "metadata": {},
   "outputs": [],
   "source": [
    "DV.plot2 <- ggplot(pc.bias.data, aes(y=features.plot, fill=log2FoldChange, x=DIV)) + \n",
    "    geom_tile(color='black') +\n",
    "    scale_fill_gradient2('D-V bias',\n",
    "                         guide = guide_colorbar(direction = 'vertical',\n",
    "                                                title.position = 'top', title.hjust = 0.5),\n",
    "                         low = dv.colors['Ventral'], mid='white', high = dv.colors['Dorsal'], na.value='grey',\n",
    "                         labels=c('Ventral', 'Dorsal'), breaks=c(-5,5)) +\n",
    "                         # ) +\n",
    "    theme_pubr(base_family='ArialMT', legend='bottom') + labs_pubr() +\n",
    "    scale_x_discrete(position = 'top', expand=expansion(mult=c(0,0))) +\n",
    "    geom_text(aes(label=ifelse(padj<0.05, '·', NA)), inherit.aes = T, fontface='bold') +\n",
    "          \n",
    "    # scale_y_discrete(position = 'right') +\n",
    "    ylab(NULL)  + xlab('DV bias') + \n",
    "   theme(legend.justification = c(0, 1),\n",
    "         axis.line = element_blank(), \n",
    "         panel.border = element_rect(fill='transparent',color='black'),\n",
    "         plot.background = element_blank(), \n",
    "         panel.background = element_blank(), \n",
    "          axis.text.x.top = element_text(angle=45, hjust=0, vjust=0),\n",
    "          axis.title.x=element_blank()) \n"
   ]
  },
  {
   "cell_type": "code",
   "execution_count": 49,
   "id": "632de73d-23c9-4896-9832-423d8ee239d7",
   "metadata": {},
   "outputs": [
    {
     "name": "stderr",
     "output_type": "stream",
     "text": [
      "Warning message:\n",
      "“\u001b[1m\u001b[22mRemoved 225 rows containing missing values (`geom_text()`).”\n"
     ]
    },
    {
     "data": {
      "image/png": "[encoded data removed]",
      "text/plain": [
       "plot without title"
      ]
     },
     "metadata": {
      "image/png": {
       "height": 600,
       "width": 300
      }
     },
     "output_type": "display_data"
    }
   ],
   "source": [
    "DV.plot2"
   ]
  },
  {
   "cell_type": "markdown",
   "id": "b5e2b495-cab3-4055-ba0e-a2e700b6f22f",
   "metadata": {},
   "source": [
    "#### Panel of Disease status"
   ]
  },
  {
   "cell_type": "code",
   "execution_count": 50,
   "id": "b4c477cd-c2fd-4b43-8abf-de546966f94d",
   "metadata": {},
   "outputs": [],
   "source": [
    "pc.diseases <- merge(\n",
    "    unique(pc.markers[,c('gene', 'geneHuman')]),\n",
    "    by.x = 'geneHuman',\n",
    "    reshape2::melt(diseases.df[unique(pc.markers$geneHuman),] %>% mutate(gene=unique(pc.markers$geneHuman)),\n",
    "                       id.vars='gene', variable.name='Disease', value.name='Risk'),\n",
    "    by.y='gene', all=F) %>% subset(gene %in% unique(pc.dp.data.bias$features.plot))\n",
    "subset(pc.diseases, Disease %in%\n",
    "       subset(pc.diseases%>%group_by(Disease)%>%summarise(n=sum(Risk, na.rm = T)), n!=0)$Disease) -> pc.diseases"
   ]
  },
  {
   "cell_type": "code",
   "execution_count": 51,
   "id": "6a473b97-b937-4179-917f-388a72895df0",
   "metadata": {},
   "outputs": [],
   "source": [
    "pc.dis.conf <- ggplot(data = pc.diseases,\n",
    "                   aes(y=factor(gene, features.order), x=Disease, fill=as.character(Risk))) + \n",
    "    geom_tile(color='black') + \n",
    "    scale_fill_manual('Disease association', guide=guide_none(), values=c('0'='#FAFAFA', '1'='tomato'), na.value='#FAFAFA') +\n",
    "    ylab(NULL) + xlab('Disease') + \n",
    "    theme_pubr(base_family='ArialMT', legend='bottom') + labs_pubr() +\n",
    "    scale_x_discrete(position = 'top', expand=expansion(mult=c(0,0))) +\n",
    "\n",
    "   theme(axis.line = element_blank(), axis.ticks.y = element_blank(),\n",
    "         panel.border = element_rect(fill='transparent',color='black'),\n",
    "         plot.background = element_blank(), \n",
    "         panel.background = element_blank(), \n",
    "         panel.grid.major = element_line(color='lightgrey'),\n",
    "         axis.text.x.top = element_text(angle=45, hjust=0, vjust=0),\n",
    "         axis.text.y=element_blank()\n",
    "         )"
   ]
  },
  {
   "cell_type": "markdown",
   "id": "efdd4285-aa3c-4154-8b2f-b81087dd8cd4",
   "metadata": {},
   "source": [
    "#### Combined panels"
   ]
  },
  {
   "cell_type": "code",
   "execution_count": 52,
   "id": "3ea2c960-4e93-4cd8-b821-4ef399f30d7d",
   "metadata": {},
   "outputs": [
    {
     "data": {
      "text/html": [
       "127"
      ],
      "text/latex": [
       "127"
      ],
      "text/markdown": [
       "127"
      ],
      "text/plain": [
       "[1] 127"
      ]
     },
     "metadata": {},
     "output_type": "display_data"
    },
    {
     "data": {
      "text/html": [
       "<strong>x:</strong> 20.6406142404627"
      ],
      "text/latex": [
       "\\textbf{x:} 20.6406142404627"
      ],
      "text/markdown": [
       "**x:** 20.6406142404627"
      ],
      "text/plain": [
       "       x \n",
       "20.64061 "
      ]
     },
     "metadata": {},
     "output_type": "display_data"
    }
   ],
   "source": [
    "# 57, 12\n",
    "# 95, 16\n",
    "# 295, 42\n",
    "# 333, 48\n",
    "model.h <- lm(formula = 'y~x', data = data.frame(x=c(57,95, 295,333), y=c(12,16, 42,48)))\n",
    "length(features.order)\n",
    "h <- model.h$coefficients[2]* length(features.order) +model.h$coefficients[1]\n",
    "h"
   ]
  },
  {
   "cell_type": "code",
   "execution_count": 53,
   "id": "5141d19a-e966-4790-b1b9-7f73ed8981d4",
   "metadata": {},
   "outputs": [
    {
     "data": {
      "text/html": [
       "<style>\n",
       ".list-inline {list-style: none; margin:0; padding: 0}\n",
       ".list-inline>li {display: inline-block}\n",
       ".list-inline>li:not(:last-child)::after {content: \"\\00b7\"; padding: 0 .5ex}\n",
       "</style>\n",
       "<ol class=list-inline><li>'IRX5'</li><li>'TPD52'</li><li>'SHOX2'</li><li>'WNT3'</li><li>'IRX3'</li><li>'NTNG1'</li><li>'OTX1'</li><li>'PDZRN4'</li><li>'NEUROG2'</li><li>'PDIA5'</li><li>'FST'</li><li>'RSRC1'</li><li>'SIPA1L2'</li><li>'CLYBL'</li><li>'TCF7L2'</li><li>'GRID2'</li><li>'CNTNAP2'</li><li>'HTRA1'</li><li>'COL11A1'</li><li>'FAM181A'</li><li>'NCALD'</li><li>'SNCA'</li><li>'NTRK2'</li><li>'FAM172A'</li><li>'SFRP2'</li><li>'ARL4A'</li><li>'WNT7B'</li><li>'PAX6'</li><li>'NR2F1'</li><li>'CACNA2D3'</li><li>'ADA'</li><li>'DAB2'</li><li>'CAPSL'</li><li>'GALNT10'</li><li>'CRABP1'</li><li>'APOE'</li><li>'FOXJ1'</li><li>'CLDN5'</li><li>'DKK2'</li><li>'COLEC12'</li><li>'CA2'</li><li>'ENO3'</li><li>'FGGY'</li><li>'CLIC6'</li><li>'ANXA2'</li><li>'LHX9'</li><li>'SULF2'</li><li>'EMX1'</li><li>'SP5'</li><li>'CACHD1'</li><li>'DMRTA2'</li><li>'RSPO2'</li><li>'PAM'</li><li>'FEZF2'</li><li>'FLRT3'</li><li>'TPBG'</li><li>'RSPO1'</li><li>'FHL1'</li><li>'EMX2'</li><li>'HES1'</li><li>'IFT57'</li><li>'CENPW'</li><li>'RSPO3'</li><li>'SOX8'</li><li>'PCDH10'</li><li>'CORO1C'</li><li>'DLX2'</li><li>'PCDH9'</li><li>'GLCCI1'</li><li>'DLX1'</li><li>'PBX3'</li><li>'ASCL1'</li><li>'OLIG2'</li><li>'LMO1'</li><li>'HOPX'</li><li>'THSD4'</li><li>'PDLIM3'</li><li>'PSD3'</li><li>'FRMD4B'</li><li>'GAP43'</li><li>'FGFR1'</li><li>'STMN2'</li><li>'GNG3'</li><li>'FAM181B'</li><li>'CADM1'</li><li>'MEIS2'</li><li>'SPARCL1'</li><li>'TMEM132B'</li><li>'SHH'</li><li>'SLC35D2'</li><li>'LMO2'</li><li>'NRCAM'</li><li>'SEMA5A'</li><li>'SPON1'</li><li>'FZD5'</li><li>'VAX1'</li><li>'PEG10'</li><li>'SGCE'</li><li>'NELL2'</li><li>'LHX2'</li><li>'SIX3'</li><li>'NDN'</li><li>'FOXG1'</li><li>'POMC'</li><li>'EPHB3'</li><li>'PCDH17'</li><li>'MPPED2'</li><li>'CDKN2D'</li><li>'GPC3'</li><li>'SOX6'</li><li>'FRZB'</li><li>'NKX2-1'</li><li>'MBIP'</li><li>'LYN'</li><li>'TMEM132D'</li><li>'ETV4'</li><li>'CAMK4'</li><li>'CA4'</li><li>'FGF8'</li><li>'SMOC1'</li><li>'ZIC3'</li><li>'LOX'</li><li>'IL17RD'</li><li>'SPRY1'</li><li>'DUSP6'</li><li>'NFIA'</li><li>'DLK1'</li></ol>\n"
      ],
      "text/latex": [
       "\\begin{enumerate*}\n",
       "\\item 'IRX5'\n",
       "\\item 'TPD52'\n",
       "\\item 'SHOX2'\n",
       "\\item 'WNT3'\n",
       "\\item 'IRX3'\n",
       "\\item 'NTNG1'\n",
       "\\item 'OTX1'\n",
       "\\item 'PDZRN4'\n",
       "\\item 'NEUROG2'\n",
       "\\item 'PDIA5'\n",
       "\\item 'FST'\n",
       "\\item 'RSRC1'\n",
       "\\item 'SIPA1L2'\n",
       "\\item 'CLYBL'\n",
       "\\item 'TCF7L2'\n",
       "\\item 'GRID2'\n",
       "\\item 'CNTNAP2'\n",
       "\\item 'HTRA1'\n",
       "\\item 'COL11A1'\n",
       "\\item 'FAM181A'\n",
       "\\item 'NCALD'\n",
       "\\item 'SNCA'\n",
       "\\item 'NTRK2'\n",
       "\\item 'FAM172A'\n",
       "\\item 'SFRP2'\n",
       "\\item 'ARL4A'\n",
       "\\item 'WNT7B'\n",
       "\\item 'PAX6'\n",
       "\\item 'NR2F1'\n",
       "\\item 'CACNA2D3'\n",
       "\\item 'ADA'\n",
       "\\item 'DAB2'\n",
       "\\item 'CAPSL'\n",
       "\\item 'GALNT10'\n",
       "\\item 'CRABP1'\n",
       "\\item 'APOE'\n",
       "\\item 'FOXJ1'\n",
       "\\item 'CLDN5'\n",
       "\\item 'DKK2'\n",
       "\\item 'COLEC12'\n",
       "\\item 'CA2'\n",
       "\\item 'ENO3'\n",
       "\\item 'FGGY'\n",
       "\\item 'CLIC6'\n",
       "\\item 'ANXA2'\n",
       "\\item 'LHX9'\n",
       "\\item 'SULF2'\n",
       "\\item 'EMX1'\n",
       "\\item 'SP5'\n",
       "\\item 'CACHD1'\n",
       "\\item 'DMRTA2'\n",
       "\\item 'RSPO2'\n",
       "\\item 'PAM'\n",
       "\\item 'FEZF2'\n",
       "\\item 'FLRT3'\n",
       "\\item 'TPBG'\n",
       "\\item 'RSPO1'\n",
       "\\item 'FHL1'\n",
       "\\item 'EMX2'\n",
       "\\item 'HES1'\n",
       "\\item 'IFT57'\n",
       "\\item 'CENPW'\n",
       "\\item 'RSPO3'\n",
       "\\item 'SOX8'\n",
       "\\item 'PCDH10'\n",
       "\\item 'CORO1C'\n",
       "\\item 'DLX2'\n",
       "\\item 'PCDH9'\n",
       "\\item 'GLCCI1'\n",
       "\\item 'DLX1'\n",
       "\\item 'PBX3'\n",
       "\\item 'ASCL1'\n",
       "\\item 'OLIG2'\n",
       "\\item 'LMO1'\n",
       "\\item 'HOPX'\n",
       "\\item 'THSD4'\n",
       "\\item 'PDLIM3'\n",
       "\\item 'PSD3'\n",
       "\\item 'FRMD4B'\n",
       "\\item 'GAP43'\n",
       "\\item 'FGFR1'\n",
       "\\item 'STMN2'\n",
       "\\item 'GNG3'\n",
       "\\item 'FAM181B'\n",
       "\\item 'CADM1'\n",
       "\\item 'MEIS2'\n",
       "\\item 'SPARCL1'\n",
       "\\item 'TMEM132B'\n",
       "\\item 'SHH'\n",
       "\\item 'SLC35D2'\n",
       "\\item 'LMO2'\n",
       "\\item 'NRCAM'\n",
       "\\item 'SEMA5A'\n",
       "\\item 'SPON1'\n",
       "\\item 'FZD5'\n",
       "\\item 'VAX1'\n",
       "\\item 'PEG10'\n",
       "\\item 'SGCE'\n",
       "\\item 'NELL2'\n",
       "\\item 'LHX2'\n",
       "\\item 'SIX3'\n",
       "\\item 'NDN'\n",
       "\\item 'FOXG1'\n",
       "\\item 'POMC'\n",
       "\\item 'EPHB3'\n",
       "\\item 'PCDH17'\n",
       "\\item 'MPPED2'\n",
       "\\item 'CDKN2D'\n",
       "\\item 'GPC3'\n",
       "\\item 'SOX6'\n",
       "\\item 'FRZB'\n",
       "\\item 'NKX2-1'\n",
       "\\item 'MBIP'\n",
       "\\item 'LYN'\n",
       "\\item 'TMEM132D'\n",
       "\\item 'ETV4'\n",
       "\\item 'CAMK4'\n",
       "\\item 'CA4'\n",
       "\\item 'FGF8'\n",
       "\\item 'SMOC1'\n",
       "\\item 'ZIC3'\n",
       "\\item 'LOX'\n",
       "\\item 'IL17RD'\n",
       "\\item 'SPRY1'\n",
       "\\item 'DUSP6'\n",
       "\\item 'NFIA'\n",
       "\\item 'DLK1'\n",
       "\\end{enumerate*}\n"
      ],
      "text/markdown": [
       "1. 'IRX5'\n",
       "2. 'TPD52'\n",
       "3. 'SHOX2'\n",
       "4. 'WNT3'\n",
       "5. 'IRX3'\n",
       "6. 'NTNG1'\n",
       "7. 'OTX1'\n",
       "8. 'PDZRN4'\n",
       "9. 'NEUROG2'\n",
       "10. 'PDIA5'\n",
       "11. 'FST'\n",
       "12. 'RSRC1'\n",
       "13. 'SIPA1L2'\n",
       "14. 'CLYBL'\n",
       "15. 'TCF7L2'\n",
       "16. 'GRID2'\n",
       "17. 'CNTNAP2'\n",
       "18. 'HTRA1'\n",
       "19. 'COL11A1'\n",
       "20. 'FAM181A'\n",
       "21. 'NCALD'\n",
       "22. 'SNCA'\n",
       "23. 'NTRK2'\n",
       "24. 'FAM172A'\n",
       "25. 'SFRP2'\n",
       "26. 'ARL4A'\n",
       "27. 'WNT7B'\n",
       "28. 'PAX6'\n",
       "29. 'NR2F1'\n",
       "30. 'CACNA2D3'\n",
       "31. 'ADA'\n",
       "32. 'DAB2'\n",
       "33. 'CAPSL'\n",
       "34. 'GALNT10'\n",
       "35. 'CRABP1'\n",
       "36. 'APOE'\n",
       "37. 'FOXJ1'\n",
       "38. 'CLDN5'\n",
       "39. 'DKK2'\n",
       "40. 'COLEC12'\n",
       "41. 'CA2'\n",
       "42. 'ENO3'\n",
       "43. 'FGGY'\n",
       "44. 'CLIC6'\n",
       "45. 'ANXA2'\n",
       "46. 'LHX9'\n",
       "47. 'SULF2'\n",
       "48. 'EMX1'\n",
       "49. 'SP5'\n",
       "50. 'CACHD1'\n",
       "51. 'DMRTA2'\n",
       "52. 'RSPO2'\n",
       "53. 'PAM'\n",
       "54. 'FEZF2'\n",
       "55. 'FLRT3'\n",
       "56. 'TPBG'\n",
       "57. 'RSPO1'\n",
       "58. 'FHL1'\n",
       "59. 'EMX2'\n",
       "60. 'HES1'\n",
       "61. 'IFT57'\n",
       "62. 'CENPW'\n",
       "63. 'RSPO3'\n",
       "64. 'SOX8'\n",
       "65. 'PCDH10'\n",
       "66. 'CORO1C'\n",
       "67. 'DLX2'\n",
       "68. 'PCDH9'\n",
       "69. 'GLCCI1'\n",
       "70. 'DLX1'\n",
       "71. 'PBX3'\n",
       "72. 'ASCL1'\n",
       "73. 'OLIG2'\n",
       "74. 'LMO1'\n",
       "75. 'HOPX'\n",
       "76. 'THSD4'\n",
       "77. 'PDLIM3'\n",
       "78. 'PSD3'\n",
       "79. 'FRMD4B'\n",
       "80. 'GAP43'\n",
       "81. 'FGFR1'\n",
       "82. 'STMN2'\n",
       "83. 'GNG3'\n",
       "84. 'FAM181B'\n",
       "85. 'CADM1'\n",
       "86. 'MEIS2'\n",
       "87. 'SPARCL1'\n",
       "88. 'TMEM132B'\n",
       "89. 'SHH'\n",
       "90. 'SLC35D2'\n",
       "91. 'LMO2'\n",
       "92. 'NRCAM'\n",
       "93. 'SEMA5A'\n",
       "94. 'SPON1'\n",
       "95. 'FZD5'\n",
       "96. 'VAX1'\n",
       "97. 'PEG10'\n",
       "98. 'SGCE'\n",
       "99. 'NELL2'\n",
       "100. 'LHX2'\n",
       "101. 'SIX3'\n",
       "102. 'NDN'\n",
       "103. 'FOXG1'\n",
       "104. 'POMC'\n",
       "105. 'EPHB3'\n",
       "106. 'PCDH17'\n",
       "107. 'MPPED2'\n",
       "108. 'CDKN2D'\n",
       "109. 'GPC3'\n",
       "110. 'SOX6'\n",
       "111. 'FRZB'\n",
       "112. 'NKX2-1'\n",
       "113. 'MBIP'\n",
       "114. 'LYN'\n",
       "115. 'TMEM132D'\n",
       "116. 'ETV4'\n",
       "117. 'CAMK4'\n",
       "118. 'CA4'\n",
       "119. 'FGF8'\n",
       "120. 'SMOC1'\n",
       "121. 'ZIC3'\n",
       "122. 'LOX'\n",
       "123. 'IL17RD'\n",
       "124. 'SPRY1'\n",
       "125. 'DUSP6'\n",
       "126. 'NFIA'\n",
       "127. 'DLK1'\n",
       "\n",
       "\n"
      ],
      "text/plain": [
       "  [1] \"IRX5\"     \"TPD52\"    \"SHOX2\"    \"WNT3\"     \"IRX3\"     \"NTNG1\"   \n",
       "  [7] \"OTX1\"     \"PDZRN4\"   \"NEUROG2\"  \"PDIA5\"    \"FST\"      \"RSRC1\"   \n",
       " [13] \"SIPA1L2\"  \"CLYBL\"    \"TCF7L2\"   \"GRID2\"    \"CNTNAP2\"  \"HTRA1\"   \n",
       " [19] \"COL11A1\"  \"FAM181A\"  \"NCALD\"    \"SNCA\"     \"NTRK2\"    \"FAM172A\" \n",
       " [25] \"SFRP2\"    \"ARL4A\"    \"WNT7B\"    \"PAX6\"     \"NR2F1\"    \"CACNA2D3\"\n",
       " [31] \"ADA\"      \"DAB2\"     \"CAPSL\"    \"GALNT10\"  \"CRABP1\"   \"APOE\"    \n",
       " [37] \"FOXJ1\"    \"CLDN5\"    \"DKK2\"     \"COLEC12\"  \"CA2\"      \"ENO3\"    \n",
       " [43] \"FGGY\"     \"CLIC6\"    \"ANXA2\"    \"LHX9\"     \"SULF2\"    \"EMX1\"    \n",
       " [49] \"SP5\"      \"CACHD1\"   \"DMRTA2\"   \"RSPO2\"    \"PAM\"      \"FEZF2\"   \n",
       " [55] \"FLRT3\"    \"TPBG\"     \"RSPO1\"    \"FHL1\"     \"EMX2\"     \"HES1\"    \n",
       " [61] \"IFT57\"    \"CENPW\"    \"RSPO3\"    \"SOX8\"     \"PCDH10\"   \"CORO1C\"  \n",
       " [67] \"DLX2\"     \"PCDH9\"    \"GLCCI1\"   \"DLX1\"     \"PBX3\"     \"ASCL1\"   \n",
       " [73] \"OLIG2\"    \"LMO1\"     \"HOPX\"     \"THSD4\"    \"PDLIM3\"   \"PSD3\"    \n",
       " [79] \"FRMD4B\"   \"GAP43\"    \"FGFR1\"    \"STMN2\"    \"GNG3\"     \"FAM181B\" \n",
       " [85] \"CADM1\"    \"MEIS2\"    \"SPARCL1\"  \"TMEM132B\" \"SHH\"      \"SLC35D2\" \n",
       " [91] \"LMO2\"     \"NRCAM\"    \"SEMA5A\"   \"SPON1\"    \"FZD5\"     \"VAX1\"    \n",
       " [97] \"PEG10\"    \"SGCE\"     \"NELL2\"    \"LHX2\"     \"SIX3\"     \"NDN\"     \n",
       "[103] \"FOXG1\"    \"POMC\"     \"EPHB3\"    \"PCDH17\"   \"MPPED2\"   \"CDKN2D\"  \n",
       "[109] \"GPC3\"     \"SOX6\"     \"FRZB\"     \"NKX2-1\"   \"MBIP\"     \"LYN\"     \n",
       "[115] \"TMEM132D\" \"ETV4\"     \"CAMK4\"    \"CA4\"      \"FGF8\"     \"SMOC1\"   \n",
       "[121] \"ZIC3\"     \"LOX\"      \"IL17RD\"   \"SPRY1\"    \"DUSP6\"    \"NFIA\"    \n",
       "[127] \"DLK1\"    "
      ]
     },
     "metadata": {},
     "output_type": "display_data"
    }
   ],
   "source": [
    "features.order"
   ]
  },
  {
   "cell_type": "code",
   "execution_count": 54,
   "id": "739349fd-0969-483d-99f8-22ea3cfd253d",
   "metadata": {},
   "outputs": [
    {
     "name": "stderr",
     "output_type": "stream",
     "text": [
      "Warning message:\n",
      "“\u001b[1m\u001b[22mRemoved 187 rows containing missing values (`geom_point()`).”\n",
      "Warning message:\n",
      "“\u001b[1m\u001b[22mRemoved 475 rows containing missing values (`geom_point()`).”\n",
      "Warning message:\n",
      "“\u001b[1m\u001b[22mRemoved 225 rows containing missing values (`geom_text()`).”\n",
      "Warning message:\n",
      "“\u001b[1m\u001b[22mRemoved 187 rows containing missing values (`geom_point()`).”\n",
      "Warning message:\n",
      "“\u001b[1m\u001b[22mRemoved 475 rows containing missing values (`geom_point()`).”\n"
     ]
    }
   ],
   "source": [
    "dis.pc.markers.comb <- cowplot::plot_grid(pc.dis.conf, DV.plot, DV.exp, mac.pc.markers.exp, NULL, \n",
    "                                          nrow=1, align='h', axis='tb',\n",
    "                                          rel_widths = c(5,3.5,3.5,5.5,1))\n",
    "dis.pc.markers.comb2 <- cowplot::plot_grid(pc.dis.conf, DV.plot2, DV.exp, mac.pc.markers.exp, NULL, \n",
    "                                          nrow=1, align='h', axis='tb',\n",
    "                                          rel_widths = c(5,3.5,3.5,5.5,1))\n"
   ]
  },
  {
   "cell_type": "code",
   "execution_count": null,
   "id": "9725773b-f56a-40d3-9de3-35283d25e66b",
   "metadata": {
    "scrolled": true,
    "tags": []
   },
   "outputs": [],
   "source": [
    "# pdf('Fig3B.All_PCmark_Dis.maxpct2_5.pdf', \n",
    "#     height=12, width=12, useDingbats = F)\n",
    "\n",
    "cairo_pdf(glue::glue(\n",
    "    'Fig2B.PCmarkers{run_tag}{marker_filter}.pdf'), \n",
    "    height=h, width=12, onefile=T)\n",
    "# pdf('Fig3B.All_PCmark_Dis.maxpct2_20.pdf', \n",
    "#     height=16, width=12, useDingbats = F)\n",
    "plot(dis.pc.markers.comb)\n",
    "plot(dis.pc.markers.comb2)\n",
    "dev.off()"
   ]
  },
  {
   "cell_type": "code",
   "execution_count": null,
   "id": "3d85fe4d-25a2-4129-b06f-478d578c67f5",
   "metadata": {},
   "outputs": [],
   "source": []
  },
  {
   "cell_type": "code",
   "execution_count": null,
   "id": "0a8db589-f719-4f85-959c-ec5fc02af6cf",
   "metadata": {},
   "outputs": [],
   "source": []
  },
  {
   "cell_type": "code",
   "execution_count": null,
   "id": "a7d340f7-ba7f-425f-a908-6eb60fb05571",
   "metadata": {},
   "outputs": [],
   "source": []
  }
 ],
 "metadata": {
  "kernelspec": {
   "display_name": "RcisTarget (R 4.2.3)",
   "language": "R",
   "name": "cano_rcistarget"
  },
  "language_info": {
   "codemirror_mode": "r",
   "file_extension": ".r",
   "mimetype": "text/x-r-source",
   "name": "R",
   "pygments_lexer": "r",
   "version": "4.2.3"
  }
 },
 "nbformat": 4,
 "nbformat_minor": 5
}
