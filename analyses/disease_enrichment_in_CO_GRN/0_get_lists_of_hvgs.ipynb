{
 "cells": [
  {
   "cell_type": "code",
   "execution_count": 1,
   "id": "52aa5ac4-d228-4903-9bfc-d06f07159f3f",
   "metadata": {},
   "outputs": [
    {
     "name": "stderr",
     "output_type": "stream",
     "text": [
      "/projects_ng/environments/EWCE2024/lib/python3.12/site-packages/tqdm/auto.py:21: TqdmWarning: IProgress not found. Please update jupyter and ipywidgets. See https://ipywidgets.readthedocs.io/en/stable/user_install.html\n",
      "  from .autonotebook import tqdm as notebook_tqdm\n"
     ]
    }
   ],
   "source": [
    "import scanpy as sc\n",
    "import os\n",
    "from tqdm.auto import tqdm"
   ]
  },
  {
   "cell_type": "code",
   "execution_count": 2,
   "id": "8b9011aa-a933-4ceb-8e18-f4198f59a39f",
   "metadata": {},
   "outputs": [],
   "source": [
    "hvg_per_subset = {}"
   ]
  },
  {
   "cell_type": "code",
   "execution_count": null,
   "id": "2e5d912b-56a3-427a-a4d7-5bdf0244ef9e",
   "metadata": {
    "scrolled": true
   },
   "outputs": [
    {
     "name": "stderr",
     "output_type": "stream",
     "text": [
      "100%|█████████████████████████████████████████████| 5/5 [04:34<00:00, 54.97s/it]\n"
     ]
    }
   ],
   "source": [
    "subsets = [\n",
    "    'NeuralPCW24',\n",
    "    'NeuralPCW16',\n",
    "    'Gliogenesis',\n",
    "    'NeuralPCW20',\n",
    "    'NeuralPCW21'\n",
    "]\n",
    "\n",
    "# Define the base directory containing the subset folders with processed AnnData files\n",
    "input_dir = '/home/xoel/Desktop/shiva/codebases/co_new/data'\n",
    "\n",
    "for subset in tqdm(subsets):\n",
    "    # Construct the full path to the AnnData file\n",
    "    input_file = os.path.join(input_dir, subset, 'RNA.processed.h5ad')\n",
    "    adata = sc.read_h5ad(input_file, backed=True)\n",
    "\n",
    "    hvg_per_subset[subset] = adata.var_names.tolist()\n",
    "\n",
    "    del adata\n"
   ]
  },
  {
   "cell_type": "code",
   "execution_count": 9,
   "id": "d15cce3a-2903-46eb-9f08-0bf2c7c9b0c4",
   "metadata": {},
   "outputs": [],
   "source": [
    "for subset, genes in hvg_per_subset.items():\n",
    "\n",
    "    with open(f'./hvg_{subset}.txt', 'wt') as f:\n",
    "        f.writelines('\\n'.join(genes))"
   ]
  }
 ],
 "metadata": {
  "kernelspec": {
   "display_name": "EWCE (Python 3.12.5) [NG]",
   "language": "python",
   "name": "ewce2024_py_ng"
  },
  "language_info": {
   "codemirror_mode": {
    "name": "ipython",
    "version": 3
   },
   "file_extension": ".py",
   "mimetype": "text/x-python",
   "name": "python",
   "nbconvert_exporter": "python",
   "pygments_lexer": "ipython3",
   "version": "3.12.5"
  },
  "widgets": {
   "application/vnd.jupyter.widget-state+json": {
    "state": {},
    "version_major": 2,
    "version_minor": 0
   }
  }
 },
 "nbformat": 4,
 "nbformat_minor": 5
}
