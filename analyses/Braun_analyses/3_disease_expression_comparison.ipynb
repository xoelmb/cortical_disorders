{
 "cells": [
  {
   "cell_type": "markdown",
   "id": "b01dcd8d-9ff2-4f98-ad07-ba200d67b20f",
   "metadata": {
    "tags": []
   },
   "source": [
    "# Plots"
   ]
  },
  {
   "cell_type": "code",
   "execution_count": 1,
   "id": "dc59382c-3b1f-4e73-9370-12524934c04d",
   "metadata": {
    "execution": {
     "iopub.execute_input": "2025-01-23T12:51:10.465362Z",
     "iopub.status.busy": "2025-01-23T12:51:10.463248Z",
     "iopub.status.idle": "2025-01-23T12:51:11.533288Z",
     "shell.execute_reply": "2025-01-23T12:51:11.531388Z"
    },
    "vscode": {
     "languageId": "r"
    }
   },
   "outputs": [
    {
     "name": "stderr",
     "output_type": "stream",
     "text": [
      "\n",
      "Attaching package: ‘dplyr’\n",
      "\n",
      "\n",
      "The following objects are masked from ‘package:stats’:\n",
      "\n",
      "    filter, lag\n",
      "\n",
      "\n",
      "The following objects are masked from ‘package:base’:\n",
      "\n",
      "    intersect, setdiff, setequal, union\n",
      "\n",
      "\n"
     ]
    }
   ],
   "source": [
    "library(dplyr)\n",
    "library(ggplot2)\n",
    "library(ggpubr)\n",
    "library(ggh4x)\n",
    "library(ggrepel)"
   ]
  },
  {
   "cell_type": "code",
   "execution_count": 2,
   "id": "b9fef795-1ff0-41ca-b791-156589ba81f6",
   "metadata": {
    "execution": {
     "iopub.execute_input": "2025-01-23T12:51:11.566029Z",
     "iopub.status.busy": "2025-01-23T12:51:11.536134Z",
     "iopub.status.idle": "2025-01-23T12:51:11.578396Z",
     "shell.execute_reply": "2025-01-23T12:51:11.576759Z"
    },
    "vscode": {
     "languageId": "r"
    }
   },
   "outputs": [],
   "source": [
    "figsize <- function(x,y){\n",
    "    options(repr.plot.width=x, repr.plot.height=y)\n",
    "}"
   ]
  },
  {
   "cell_type": "code",
   "execution_count": null,
   "id": "66322ac2-5b25-41be-b759-0e8ab1d0eaaa",
   "metadata": {
    "execution": {
     "iopub.execute_input": "2025-01-23T12:51:11.582266Z",
     "iopub.status.busy": "2025-01-23T12:51:11.580938Z",
     "iopub.status.idle": "2025-01-23T12:51:12.148584Z",
     "shell.execute_reply": "2025-01-23T12:51:12.146922Z"
    },
    "vscode": {
     "languageId": "r"
    }
   },
   "outputs": [
    {
     "name": "stdout",
     "output_type": "stream",
     "text": [
      "Loading objects:\n",
      "  GeneAnnotation\n",
      "  meta.colors\n",
      "  facets\n"
     ]
    }
   ],
   "source": [
    "# Define the path to the graphical data file\n",
    "graphical_data_path <- '/users/genomics/xoel/codebases/cortical_disorders2/data/graphical.rda'\n",
    "# Load graphical objects (e.g., color palettes) from an R data file (.rda)\n",
    "load(graphical_data_path, verbose=T)"
   ]
  },
  {
   "cell_type": "code",
   "execution_count": null,
   "id": "6bd76f9a",
   "metadata": {
    "vscode": {
     "languageId": "r"
    }
   },
   "outputs": [],
   "source": [
    "# Define base output directories\n",
    "output_base_dir <- './'\n",
    "selection_subdir <- 'selection'\n",
    "selection_dir <- file.path(output_base_dir, selection_subdir)"
   ]
  },
  {
   "cell_type": "code",
   "execution_count": 4,
   "id": "d4d8d393-a7e2-4dae-93ba-9b10a6013c51",
   "metadata": {
    "execution": {
     "iopub.execute_input": "2025-01-23T12:51:12.152417Z",
     "iopub.status.busy": "2025-01-23T12:51:12.151044Z",
     "iopub.status.idle": "2025-01-23T12:51:12.169760Z",
     "shell.execute_reply": "2025-01-23T12:51:12.168141Z"
    },
    "vscode": {
     "languageId": "r"
    }
   },
   "outputs": [],
   "source": [
    "selection.export <- list()"
   ]
  },
  {
   "cell_type": "markdown",
   "id": "c94b7ee0-9682-4e84-bf52-6d59a0d31ae7",
   "metadata": {},
   "source": [
    "# Diseases"
   ]
  },
  {
   "cell_type": "code",
   "execution_count": null,
   "id": "56a0e8b9-d050-4d99-93e6-202430e4e75f",
   "metadata": {
    "execution": {
     "iopub.execute_input": "2025-01-23T12:51:12.173516Z",
     "iopub.status.busy": "2025-01-23T12:51:12.172221Z",
     "iopub.status.idle": "2025-01-23T12:51:12.582687Z",
     "shell.execute_reply": "2025-01-23T12:51:12.580885Z"
    },
    "vscode": {
     "languageId": "r"
    }
   },
   "outputs": [],
   "source": [
    "# Define input and output paths for disease data\n",
    "# Input: CSV file mapping genes (rows) to diseases (columns)\n",
    "disease_input_csv_path <- '/users/genomics/xoel/codebases/gene_disease_asociation/parsed_lists_with_nicola.union.csv'\n",
    "disease_output_csv_path <- '/users//genomics//xoel//Review_CD//1.exp_linnarson//DiseasesForJay.csv'\n",
    "\n",
    "# Read, process, and write disease data\n",
    "Diseases <- read.csv(disease_input_csv_path, row.names=1)\n",
    "DiseaseExclude <- c('IQ_2018')\n",
    "Diseases <- Diseases[,!colnames(Diseases) %in% DiseaseExclude]\n",
    "Diseases <- Diseases[rowSums(Diseases) > 0 , ]\n",
    "Diseases$All <- as.numeric(rowSums(Diseases)>0)\n",
    "\n",
    "write.csv(Diseases, disease_output_csv_path)\n",
    "dis.list <- lapply(colnames(Diseases), function(x){rownames(Diseases)[as.logical(Diseases[,x])]}) %>% setNames(nm = colnames(Diseases))\n",
    "# dis.list %>% lapply(head)"
   ]
  },
  {
   "cell_type": "code",
   "execution_count": null,
   "id": "e2208f01-9960-451f-a502-ec146797c170",
   "metadata": {
    "execution": {
     "iopub.execute_input": "2025-01-23T12:51:12.586828Z",
     "iopub.status.busy": "2025-01-23T12:51:12.585468Z",
     "iopub.status.idle": "2025-01-23T12:51:12.616055Z",
     "shell.execute_reply": "2025-01-23T12:51:12.614417Z"
    },
    "vscode": {
     "languageId": "r"
    }
   },
   "outputs": [
    {
     "data": {
      "text/html": [
       "TRUE"
      ],
      "text/latex": [
       "TRUE"
      ],
      "text/markdown": [
       "TRUE"
      ],
      "text/plain": [
       "[1] TRUE"
      ]
     },
     "metadata": {},
     "output_type": "display_data"
    },
    {
     "data": {
      "text/html": [
       "0"
      ],
      "text/latex": [
       "0"
      ],
      "text/markdown": [
       "0"
      ],
      "text/plain": [
       "[1] 0"
      ]
     },
     "metadata": {},
     "output_type": "display_data"
    }
   ],
   "source": [
    "dis.info <- list(\n",
    "    'All' = c('All'='All'),\n",
    "    \n",
    "    'Cortical Malformations' = c(\n",
    "        'Microcephaly' = 'MIC',\n",
    "        'Lissencephaly' = 'LIS',\n",
    "        'Cobblestone'= 'COB', \n",
    "        'Heterotopia' = 'HET',\n",
    "        'Polymicrogyria' = 'POLY', \n",
    "        'Hydrocephaly' = 'HYD', \n",
    "        'RareMCD' = 'MCD',\n",
    "        'FCDandmTOR' = 'FCD & mTOR',\n",
    "        'DevDyslexia' = 'DevDys'\n",
    "    ),\n",
    "    'Dev.Delay-ASD' = c(\n",
    "        'DD' = 'DevDel',\n",
    "        'SFAR_Synd' = 'SFAR (SYND)',\n",
    "        'SFAR_S1' = 'SFAR (S1)',\n",
    "        'SFAR_S2' = 'SFAR (S2)', \n",
    "        'SFAR_S3' = 'SFAR (S3)',\n",
    "        'ASD_HC65' = 'ASD HC65'\n",
    "    ),\n",
    "    'GWAS Hits' = c(\n",
    "        'ASD_2019' = 'ASD 2019', \n",
    "        'ADHD_2019' = 'ADHD 2019', \n",
    "        'AN_2019' = 'AN 2019',\n",
    "        'SCZ_2020' = 'SCZ 2020',\n",
    "        'BD_2019' = 'BD 2019',\n",
    "        'MDD_2018' = 'MDD 2018',\n",
    "        'NEUROT_2018' = 'NEUROT 2018',\n",
    "        'PD_2014' = 'PD 2014',\n",
    "        'AD_2019' = 'AD 2019'\n",
    "    )\n",
    ")\n",
    "\n",
    "dis.groups <- sapply(names(dis.info), function(x){\n",
    "    diss <- dis.info[[x]]\n",
    "    rep(x, length.out = length(diss)) %>% setNames(nm=names(diss))\n",
    "}) %>% unname() %>% unlist()\n",
    "\n",
    "dis.levels <- unlist(unname(dis.info))\n",
    "\n",
    "\n",
    "\n",
    "setNames(names(dis.list) %in% unlist(lapply(dis.info, names)), nm=names(dis.list)) %>% all # TRUE\n",
    "\n",
    "duplicated(unlist(lapply(dis.info, names))) %>% sum # 0"
   ]
  },
  {
   "cell_type": "code",
   "execution_count": 7,
   "id": "c709db49-e8e5-40f2-858a-c52f84eddefa",
   "metadata": {
    "execution": {
     "iopub.execute_input": "2025-01-23T12:51:12.619837Z",
     "iopub.status.busy": "2025-01-23T12:51:12.618507Z",
     "iopub.status.idle": "2025-01-23T12:51:12.657575Z",
     "shell.execute_reply": "2025-01-23T12:51:12.655929Z"
    },
    "vscode": {
     "languageId": "r"
    }
   },
   "outputs": [],
   "source": [
    "pal.DiseaseGroup <- setNames(wesanderson::wes_palettes$FantasticFox1[c(3,2,4,5)],\n",
    "                             c('All','Cortical Malformations','Dev.Delay-ASD','GWAS Hits'))"
   ]
  },
  {
   "cell_type": "markdown",
   "id": "1a382c0a-0fa2-4d07-834a-0af98280dc22",
   "metadata": {},
   "source": [
    "# Expression in vitro"
   ]
  },
  {
   "cell_type": "code",
   "execution_count": null,
   "id": "f016a44e-6120-4f0f-b98a-d9d2b4c696c6",
   "metadata": {
    "execution": {
     "iopub.execute_input": "2025-01-23T12:51:12.661441Z",
     "iopub.status.busy": "2025-01-23T12:51:12.660119Z",
     "iopub.status.idle": "2025-01-23T12:51:13.006330Z",
     "shell.execute_reply": "2025-01-23T12:51:13.004299Z"
    },
    "vscode": {
     "languageId": "r"
    }
   },
   "outputs": [],
   "source": [
    "# Define path for in vitro expression data\n",
    "# Input: CSV file with log2 RPKM expression values (genes as rows, samples as columns)\n",
    "invitro_exp_data_path <- '/users/genomics/xoel/codebases/cortical_disorders2/data/nico_expression_log2.original_genes.csv'\n",
    "# Read in vitro expression data\n",
    "exp.data <- read.csv(invitro_exp_data_path, row.names=1)"
   ]
  },
  {
   "cell_type": "code",
   "execution_count": null,
   "id": "abf875dd-bc50-4079-b2f1-d412cbed593a",
   "metadata": {
    "execution": {
     "iopub.execute_input": "2025-01-23T12:51:13.026518Z",
     "iopub.status.busy": "2025-01-23T12:51:13.025169Z",
     "iopub.status.idle": "2025-01-23T12:51:13.178349Z",
     "shell.execute_reply": "2025-01-23T12:51:13.176532Z"
    },
    "vscode": {
     "languageId": "r"
    }
   },
   "outputs": [],
   "source": [
    "exp.df <- reshape2::melt(exp.data %>% mutate(Gene = rownames(exp.data)), id.vars = 'Gene') %>% rename(Sample = variable)"
   ]
  },
  {
   "cell_type": "code",
   "execution_count": 11,
   "id": "4d1f969d-3218-4ce3-a8bc-92c7800a1db5",
   "metadata": {
    "execution": {
     "iopub.execute_input": "2025-01-23T12:51:13.182393Z",
     "iopub.status.busy": "2025-01-23T12:51:13.181049Z",
     "iopub.status.idle": "2025-01-23T12:51:14.011659Z",
     "shell.execute_reply": "2025-01-23T12:51:14.009706Z"
    },
    "scrolled": true,
    "vscode": {
     "languageId": "r"
    }
   },
   "outputs": [],
   "source": [
    "lapply(names(dis.list), function(dis.name){\n",
    "\n",
    "    dis.genes <- dis.list[[dis.name]]\n",
    "    \n",
    "    # print(sum(dis.genes %in% unique(exp.df$Gene)))\n",
    "    # print(sum(!dis.genes %in% unique(exp.df$Gene)))\n",
    "    \n",
    "    exp.df %>% subset(Gene %in% dis.genes) %>% group_by(Gene) %>%\n",
    "    summarise(expressed=any(value>1)) %>% ungroup() %>%\n",
    "    summarise(\n",
    "        n.exp = sum(expressed),\n",
    "        # n.lowerthan1 = sum(value <1), \n",
    "        n.present = sum(dis.genes%in%Gene),\n",
    "        n.NOTpresent = sum(!dis.genes%in%Gene),\n",
    "        Disease = dis.name\n",
    "    )\n",
    "    }) %>% do.call(what='rbind') %>% mutate(\n",
    "        DiseaseLabel = factor(Disease, levels = names(dis.levels), labels = dis.levels),\n",
    "        DiseaseGroup = plyr::mapvalues(x=Disease, from = names(dis.groups), to = dis.groups) %>% factor(levels = names(dis.info)),\n",
    "        Dataset = factor('in vitro', \n",
    "                         levels = c('in vivo', 'in vitro'),\n",
    "                         labels = c('in vivo\\n(Braun et al)', 'in vitro\\n(Micali et al)'))\n",
    "    ) %>% arrange(DiseaseGroup, DiseaseLabel) -> dis.gene.exp \n"
   ]
  },
  {
   "cell_type": "code",
   "execution_count": null,
   "id": "6fcabdf5-36c1-416c-8295-f3605b0e7118",
   "metadata": {
    "execution": {
     "iopub.execute_input": "2025-01-23T12:51:14.015769Z",
     "iopub.status.busy": "2025-01-23T12:51:14.014382Z",
     "iopub.status.idle": "2025-01-23T12:51:14.283539Z",
     "shell.execute_reply": "2025-01-23T12:51:14.281761Z"
    },
    "vscode": {
     "languageId": "r"
    }
   },
   "outputs": [],
   "source": [
    "# Define output paths for disease info\n",
    "disease_info_output_path <- '/users//genomics//xoel//Review_CD//1.exp_linnarson//DiseaseInfo.csv'\n",
    "disease_info_jay_output_path <- '/users//genomics//xoel//Review_CD//1.exp_linnarson//DiseaseInfoForJay.csv'\n",
    "\n",
    "# save disease info\n",
    "write.csv(dis.gene.exp, disease_info_output_path)\n",
    "write.csv(dis.gene.exp[,(4:6)] %>% mutate(index = 1:nrow(dis.gene.exp)), disease_info_jay_output_path)"
   ]
  },
  {
   "cell_type": "markdown",
   "id": "d4bd26b2-d342-41e3-9704-e281c5b75a1e",
   "metadata": {},
   "source": [
    "# Expression in vivo  \n",
    "Data is collected in a separate script since the dataset is giant and it is easier to manage using python"
   ]
  },
  {
   "cell_type": "code",
   "execution_count": null,
   "id": "8401df03-d942-4745-bd22-53e736078e55",
   "metadata": {
    "execution": {
     "iopub.execute_input": "2025-01-23T12:51:14.287602Z",
     "iopub.status.busy": "2025-01-23T12:51:14.286218Z",
     "iopub.status.idle": "2025-01-23T12:51:14.330342Z",
     "shell.execute_reply": "2025-01-23T12:51:14.328702Z"
    },
    "vscode": {
     "languageId": "r"
    }
   },
   "outputs": [
    {
     "data": {
      "text/html": [
       "<table class=\"dataframe\">\n",
       "<caption>A data.frame: 6 × 7</caption>\n",
       "<thead>\n",
       "\t<tr><th></th><th scope=col>n.exp</th><th scope=col>n.present</th><th scope=col>n.NOTpresent</th><th scope=col>Disease</th><th scope=col>DiseaseLabel</th><th scope=col>DiseaseGroup</th><th scope=col>Dataset</th></tr>\n",
       "\t<tr><th></th><th scope=col>&lt;int&gt;</th><th scope=col>&lt;int&gt;</th><th scope=col>&lt;int&gt;</th><th scope=col>&lt;chr&gt;</th><th scope=col>&lt;fct&gt;</th><th scope=col>&lt;fct&gt;</th><th scope=col>&lt;fct&gt;</th></tr>\n",
       "</thead>\n",
       "<tbody>\n",
       "\t<tr><th scope=row>0</th><td>171</td><td>286</td><td>14</td><td>NEUROT_2018</td><td>NEUROT 2018</td><td>GWAS Hits</td><td>in vivo\n",
       "(Braun et al)</td></tr>\n",
       "\t<tr><th scope=row>1</th><td> 24</td><td> 35</td><td> 3</td><td>ADHD_2019  </td><td>ADHD 2019  </td><td>GWAS Hits</td><td>in vivo\n",
       "(Braun et al)</td></tr>\n",
       "\t<tr><th scope=row>2</th><td> 39</td><td> 64</td><td> 6</td><td>MDD_2018   </td><td>MDD 2018   </td><td>GWAS Hits</td><td>in vivo\n",
       "(Braun et al)</td></tr>\n",
       "\t<tr><th scope=row>3</th><td>137</td><td>209</td><td> 9</td><td>BD_2019    </td><td>BD 2019    </td><td>GWAS Hits</td><td>in vivo\n",
       "(Braun et al)</td></tr>\n",
       "\t<tr><th scope=row>4</th><td> 63</td><td> 98</td><td> 9</td><td>AN_2019    </td><td>AN 2019    </td><td>GWAS Hits</td><td>in vivo\n",
       "(Braun et al)</td></tr>\n",
       "\t<tr><th scope=row>5</th><td> 74</td><td>179</td><td>13</td><td>AD_2019    </td><td>AD 2019    </td><td>GWAS Hits</td><td>in vivo\n",
       "(Braun et al)</td></tr>\n",
       "</tbody>\n",
       "</table>\n"
      ],
      "text/latex": [
       "A data.frame: 6 × 7\n",
       "\\begin{tabular}{r|lllllll}\n",
       "  & n.exp & n.present & n.NOTpresent & Disease & DiseaseLabel & DiseaseGroup & Dataset\\\\\n",
       "  & <int> & <int> & <int> & <chr> & <fct> & <fct> & <fct>\\\\\n",
       "\\hline\n",
       "\t0 & 171 & 286 & 14 & NEUROT\\_2018 & NEUROT 2018 & GWAS Hits & in vivo\n",
       "(Braun et al)\\\\\n",
       "\t1 &  24 &  35 &  3 & ADHD\\_2019   & ADHD 2019   & GWAS Hits & in vivo\n",
       "(Braun et al)\\\\\n",
       "\t2 &  39 &  64 &  6 & MDD\\_2018    & MDD 2018    & GWAS Hits & in vivo\n",
       "(Braun et al)\\\\\n",
       "\t3 & 137 & 209 &  9 & BD\\_2019     & BD 2019     & GWAS Hits & in vivo\n",
       "(Braun et al)\\\\\n",
       "\t4 &  63 &  98 &  9 & AN\\_2019     & AN 2019     & GWAS Hits & in vivo\n",
       "(Braun et al)\\\\\n",
       "\t5 &  74 & 179 & 13 & AD\\_2019     & AD 2019     & GWAS Hits & in vivo\n",
       "(Braun et al)\\\\\n",
       "\\end{tabular}\n"
      ],
      "text/markdown": [
       "\n",
       "A data.frame: 6 × 7\n",
       "\n",
       "| <!--/--> | n.exp &lt;int&gt; | n.present &lt;int&gt; | n.NOTpresent &lt;int&gt; | Disease &lt;chr&gt; | DiseaseLabel &lt;fct&gt; | DiseaseGroup &lt;fct&gt; | Dataset &lt;fct&gt; |\n",
       "|---|---|---|---|---|---|---|---|\n",
       "| 0 | 171 | 286 | 14 | NEUROT_2018 | NEUROT 2018 | GWAS Hits | in vivo\n",
       "(Braun et al) |\n",
       "| 1 |  24 |  35 |  3 | ADHD_2019   | ADHD 2019   | GWAS Hits | in vivo\n",
       "(Braun et al) |\n",
       "| 2 |  39 |  64 |  6 | MDD_2018    | MDD 2018    | GWAS Hits | in vivo\n",
       "(Braun et al) |\n",
       "| 3 | 137 | 209 |  9 | BD_2019     | BD 2019     | GWAS Hits | in vivo\n",
       "(Braun et al) |\n",
       "| 4 |  63 |  98 |  9 | AN_2019     | AN 2019     | GWAS Hits | in vivo\n",
       "(Braun et al) |\n",
       "| 5 |  74 | 179 | 13 | AD_2019     | AD 2019     | GWAS Hits | in vivo\n",
       "(Braun et al) |\n",
       "\n"
      ],
      "text/plain": [
       "  n.exp n.present n.NOTpresent Disease     DiseaseLabel DiseaseGroup\n",
       "0 171   286       14           NEUROT_2018 NEUROT 2018  GWAS Hits   \n",
       "1  24    35        3           ADHD_2019   ADHD 2019    GWAS Hits   \n",
       "2  39    64        6           MDD_2018    MDD 2018     GWAS Hits   \n",
       "3 137   209        9           BD_2019     BD 2019      GWAS Hits   \n",
       "4  63    98        9           AN_2019     AN 2019      GWAS Hits   \n",
       "5  74   179       13           AD_2019     AD 2019      GWAS Hits   \n",
       "  Dataset               \n",
       "0 in vivo\\n(Braun et al)\n",
       "1 in vivo\\n(Braun et al)\n",
       "2 in vivo\\n(Braun et al)\n",
       "3 in vivo\\n(Braun et al)\n",
       "4 in vivo\\n(Braun et al)\n",
       "5 in vivo\\n(Braun et al)"
      ]
     },
     "metadata": {},
     "output_type": "display_data"
    }
   ],
   "source": [
    "# Define path for in vivo expression data\n",
    "# Input: Pre-processed CSV summarizing disease gene expression in vivo (Linnarsson data)\n",
    "invivo_exp_data_path <- '/users//genomics//xoel//Review_CD//1.exp_linnarson//disease_expression.get5pct.Linnarsson.RadialGlia.FT.FCST.csv'\n",
    "\n",
    "# Read in vivo expression data\n",
    "linnarson <- read.csv(\n",
    "    invivo_exp_data_path,\n",
    "    row.names = 1) %>% mutate(\n",
    "        DiseaseLabel = factor(DiseaseLabel, levels = levels(dis.gene.exp$DiseaseLabel)),\n",
    "        DiseaseGroup = factor(DiseaseGroup, levels = levels(dis.gene.exp$DiseaseGroup)),\n",
    "        Dataset = factor('in vivo', \n",
    "                         levels = c('in vivo', 'in vitro'),\n",
    "                         labels = c('in vivo\\n(Braun et al)', 'in vitro\\n(Micali et al)'))\n",
    "    )\n",
    "head(linnarson)"
   ]
  },
  {
   "cell_type": "code",
   "execution_count": 14,
   "id": "3d0fe4cc-a829-4149-998e-2a4d7d3d05d5",
   "metadata": {
    "execution": {
     "iopub.execute_input": "2025-01-23T12:51:14.334331Z",
     "iopub.status.busy": "2025-01-23T12:51:14.332976Z",
     "iopub.status.idle": "2025-01-23T12:51:14.348884Z",
     "shell.execute_reply": "2025-01-23T12:51:14.347154Z"
    },
    "vscode": {
     "languageId": "r"
    }
   },
   "outputs": [
    {
     "data": {
      "text/html": [
       "<style>\n",
       ".list-inline {list-style: none; margin:0; padding: 0}\n",
       ".list-inline>li {display: inline-block}\n",
       ".list-inline>li:not(:last-child)::after {content: \"\\00b7\"; padding: 0 .5ex}\n",
       "</style>\n",
       "<ol class=list-inline><li>25</li><li>7</li></ol>\n"
      ],
      "text/latex": [
       "\\begin{enumerate*}\n",
       "\\item 25\n",
       "\\item 7\n",
       "\\end{enumerate*}\n"
      ],
      "text/markdown": [
       "1. 25\n",
       "2. 7\n",
       "\n",
       "\n"
      ],
      "text/plain": [
       "[1] 25  7"
      ]
     },
     "metadata": {},
     "output_type": "display_data"
    }
   ],
   "source": [
    "dim(dis.gene.exp)"
   ]
  },
  {
   "cell_type": "code",
   "execution_count": null,
   "id": "515fe086-a5f9-4dcd-bb5d-0eeb4a2fd623",
   "metadata": {
    "execution": {
     "iopub.execute_input": "2025-01-23T12:51:14.352938Z",
     "iopub.status.busy": "2025-01-23T12:51:14.351567Z",
     "iopub.status.idle": "2025-01-23T12:51:14.365376Z",
     "shell.execute_reply": "2025-01-23T12:51:14.363660Z"
    },
    "vscode": {
     "languageId": "r"
    }
   },
   "outputs": [],
   "source": [
    "# Combine in vivo (linnarson) and in vitro (dis.gene.exp) data\n",
    "dis.gene.exp.combined <- rbind(linnarson, dis.gene.exp)"
   ]
  },
  {
   "cell_type": "code",
   "execution_count": null,
   "id": "19ea2ff3-4f3b-4904-b3f6-101efa482943",
   "metadata": {
    "execution": {
     "iopub.execute_input": "2025-01-23T12:51:14.369237Z",
     "iopub.status.busy": "2025-01-23T12:51:14.367865Z",
     "iopub.status.idle": "2025-01-23T12:51:14.382940Z",
     "shell.execute_reply": "2025-01-23T12:51:14.381309Z"
    },
    "vscode": {
     "languageId": "r"
    }
   },
   "outputs": [],
   "source": [
    "# Calculate derived metrics on the combined data\n",
    "dis.gene.exp.combined <- dis.gene.exp.combined %>% mutate(\n",
    "        EoverP = n.exp/n.present,\n",
    "        EoverT = n.exp/(n.present+n.NOTpresent),\n",
    "        NPoverT = n.NOTpresent/(n.present+n.NOTpresent)\n",
    ")"
   ]
  },
  {
   "cell_type": "code",
   "execution_count": null,
   "id": "18b46fbd-3fe1-4f83-abe0-5eb0dbef0e2e",
   "metadata": {
    "execution": {
     "iopub.execute_input": "2025-01-23T12:51:14.393500Z",
     "iopub.status.busy": "2025-01-23T12:51:14.392111Z",
     "iopub.status.idle": "2025-01-23T12:51:15.879126Z",
     "shell.execute_reply": "2025-01-23T12:51:15.877387Z"
    },
    "vscode": {
     "languageId": "r"
    }
   },
   "outputs": [
    {
     "data": {
      "text/plain": [
       "$p1\n",
       "\n",
       "$p2\n"
      ]
     },
     "metadata": {},
     "output_type": "display_data"
    },
    {
     "data": {
      "text/html": [
       "<strong>pdf:</strong> 2"
      ],
      "text/latex": [
       "\\textbf{pdf:} 2"
      ],
      "text/markdown": [
       "**pdf:** 2"
      ],
      "text/plain": [
       "pdf \n",
       "  2 "
      ]
     },
     "metadata": {},
     "output_type": "display_data"
    }
   ],
   "source": [
    "figsize(8,7)\n",
    "\n",
    "# Create plots based on the combined data\n",
    "plist <- list(\n",
    "    p1 = ggplot(dis.gene.exp.combined, aes(x = EoverP, y = forcats::fct_rev(DiseaseLabel))),\n",
    "    p2 = ggplot(dis.gene.exp.combined, aes(x = EoverT, y = forcats::fct_rev(DiseaseLabel)))\n",
    "\n",
    ")\n",
    "\n",
    "plist <- lapply(plist, function(p){\n",
    "    p +\n",
    "    geom_bar(stat='identity', fill='#92A8D1') + \n",
    "    facet_grid(rows=vars(DiseaseGroup), cols = vars(Dataset), switch = 'y', scales = 'free_y', space = 'free_y') + \n",
    "    theme_light() +\n",
    "    ggtitle('Expression of disease-risk genes in NSC',\n",
    "            subtitle = 'Minimum expression in vivo: ≥5% of RG cells\\nMinimum expression in vitro: ≥1RPKM') +\n",
    "    ggpubr::labs_pubr() +\n",
    "    scale_x_continuous(labels = scales::label_percent(), expand = expansion(mult=c(0,0)), limits = c(0,1)) +\n",
    "    labs(x = '% expressed genes over', y = 'Disease') +\n",
    "    theme(\n",
    "        strip.placement = 'outside',\n",
    "        strip.text = element_text(color = 'black', angle=0),\n",
    "        strip.text.y.left = element_text(color = 'black', angle=0),\n",
    "        strip.background = element_rect(fill='#DDDDDD', color = 'transparent'),\n",
    "        legend.position = 'left', \n",
    "        axis.text.x = element_text(angle = 90, hjust = 1, vjust=0.5), \n",
    "        panel.grid.major.y = element_blank(), \n",
    "        panel.border = element_blank(),\n",
    "        panel.spacing.y = unit(1, 'mm'),\n",
    "        panel.spacing.x = unit(4, 'mm')\n",
    "        )\n",
    "})\n",
    "\n",
    "# Define output PDF path\n",
    "output_pdf_v1 <- file.path(output_base_dir, 'Expression_of_disease_genes.Braun_and_Micali.v1.FT_FCST.pdf')\n",
    "cairo_pdf(output_pdf_v1, onefile = T, height = 7, width = 8)\n",
    "plist\n",
    "dev.off()\n",
    "\n",
    "selection.export$F1.Supp.Barplot.EoverP <- plist$p2"
   ]
  },
  {
   "cell_type": "code",
   "execution_count": null,
   "id": "9b367442-e844-410e-8652-a6a00e139544",
   "metadata": {
    "execution": {
     "iopub.execute_input": "2025-01-23T12:51:15.883003Z",
     "iopub.status.busy": "2025-01-23T12:51:15.881693Z",
     "iopub.status.idle": "2025-01-23T12:51:15.907841Z",
     "shell.execute_reply": "2025-01-23T12:51:15.906197Z"
    },
    "vscode": {
     "languageId": "r"
    }
   },
   "outputs": [
    {
     "data": {
      "text/html": [
       "<table class=\"dataframe\">\n",
       "<caption>A data.frame: 6 × 6</caption>\n",
       "<thead>\n",
       "\t<tr><th></th><th scope=col>Disease</th><th scope=col>DiseaseLabel</th><th scope=col>DiseaseGroup</th><th scope=col>Dataset</th><th scope=col>variable</th><th scope=col>value</th></tr>\n",
       "\t<tr><th></th><th scope=col>&lt;chr&gt;</th><th scope=col>&lt;fct&gt;</th><th scope=col>&lt;fct&gt;</th><th scope=col>&lt;fct&gt;</th><th scope=col>&lt;fct&gt;</th><th scope=col>&lt;dbl&gt;</th></tr>\n",
       "</thead>\n",
       "<tbody>\n",
       "\t<tr><th scope=row>1</th><td>NEUROT_2018</td><td>NEUROT 2018</td><td>GWAS Hits</td><td>in vivo\n",
       "(Braun et al)</td><td>n.exp</td><td>171</td></tr>\n",
       "\t<tr><th scope=row>2</th><td>ADHD_2019  </td><td>ADHD 2019  </td><td>GWAS Hits</td><td>in vivo\n",
       "(Braun et al)</td><td>n.exp</td><td> 24</td></tr>\n",
       "\t<tr><th scope=row>3</th><td>MDD_2018   </td><td>MDD 2018   </td><td>GWAS Hits</td><td>in vivo\n",
       "(Braun et al)</td><td>n.exp</td><td> 39</td></tr>\n",
       "\t<tr><th scope=row>4</th><td>BD_2019    </td><td>BD 2019    </td><td>GWAS Hits</td><td>in vivo\n",
       "(Braun et al)</td><td>n.exp</td><td>137</td></tr>\n",
       "\t<tr><th scope=row>5</th><td>AN_2019    </td><td>AN 2019    </td><td>GWAS Hits</td><td>in vivo\n",
       "(Braun et al)</td><td>n.exp</td><td> 63</td></tr>\n",
       "\t<tr><th scope=row>6</th><td>AD_2019    </td><td>AD 2019    </td><td>GWAS Hits</td><td>in vivo\n",
       "(Braun et al)</td><td>n.exp</td><td> 74</td></tr>\n",
       "</tbody>\n",
       "</table>\n"
      ],
      "text/latex": [
       "A data.frame: 6 × 6\n",
       "\\begin{tabular}{r|llllll}\n",
       "  & Disease & DiseaseLabel & DiseaseGroup & Dataset & variable & value\\\\\n",
       "  & <chr> & <fct> & <fct> & <fct> & <fct> & <dbl>\\\\\n",
       "\\hline\n",
       "\t1 & NEUROT\\_2018 & NEUROT 2018 & GWAS Hits & in vivo\n",
       "(Braun et al) & n.exp & 171\\\\\n",
       "\t2 & ADHD\\_2019   & ADHD 2019   & GWAS Hits & in vivo\n",
       "(Braun et al) & n.exp &  24\\\\\n",
       "\t3 & MDD\\_2018    & MDD 2018    & GWAS Hits & in vivo\n",
       "(Braun et al) & n.exp &  39\\\\\n",
       "\t4 & BD\\_2019     & BD 2019     & GWAS Hits & in vivo\n",
       "(Braun et al) & n.exp & 137\\\\\n",
       "\t5 & AN\\_2019     & AN 2019     & GWAS Hits & in vivo\n",
       "(Braun et al) & n.exp &  63\\\\\n",
       "\t6 & AD\\_2019     & AD 2019     & GWAS Hits & in vivo\n",
       "(Braun et al) & n.exp &  74\\\\\n",
       "\\end{tabular}\n"
      ],
      "text/markdown": [
       "\n",
       "A data.frame: 6 × 6\n",
       "\n",
       "| <!--/--> | Disease &lt;chr&gt; | DiseaseLabel &lt;fct&gt; | DiseaseGroup &lt;fct&gt; | Dataset &lt;fct&gt; | variable &lt;fct&gt; | value &lt;dbl&gt; |\n",
       "|---|---|---|---|---|---|---|\n",
       "| 1 | NEUROT_2018 | NEUROT 2018 | GWAS Hits | in vivo\n",
       "(Braun et al) | n.exp | 171 |\n",
       "| 2 | ADHD_2019   | ADHD 2019   | GWAS Hits | in vivo\n",
       "(Braun et al) | n.exp |  24 |\n",
       "| 3 | MDD_2018    | MDD 2018    | GWAS Hits | in vivo\n",
       "(Braun et al) | n.exp |  39 |\n",
       "| 4 | BD_2019     | BD 2019     | GWAS Hits | in vivo\n",
       "(Braun et al) | n.exp | 137 |\n",
       "| 5 | AN_2019     | AN 2019     | GWAS Hits | in vivo\n",
       "(Braun et al) | n.exp |  63 |\n",
       "| 6 | AD_2019     | AD 2019     | GWAS Hits | in vivo\n",
       "(Braun et al) | n.exp |  74 |\n",
       "\n"
      ],
      "text/plain": [
       "  Disease     DiseaseLabel DiseaseGroup Dataset                variable value\n",
       "1 NEUROT_2018 NEUROT 2018  GWAS Hits    in vivo\\n(Braun et al) n.exp    171  \n",
       "2 ADHD_2019   ADHD 2019    GWAS Hits    in vivo\\n(Braun et al) n.exp     24  \n",
       "3 MDD_2018    MDD 2018     GWAS Hits    in vivo\\n(Braun et al) n.exp     39  \n",
       "4 BD_2019     BD 2019      GWAS Hits    in vivo\\n(Braun et al) n.exp    137  \n",
       "5 AN_2019     AN 2019      GWAS Hits    in vivo\\n(Braun et al) n.exp     63  \n",
       "6 AD_2019     AD 2019      GWAS Hits    in vivo\\n(Braun et al) n.exp     74  "
      ]
     },
     "metadata": {},
     "output_type": "display_data"
    }
   ],
   "source": [
    "# Reshape the combined data for plotting\n",
    "dis.gene.stats <- reshape2::melt(dis.gene.exp.combined, id.vars = c('Disease', 'DiseaseLabel',\t'DiseaseGroup', 'Dataset'))\n",
    "head(dis.gene.stats)"
   ]
  },
  {
   "cell_type": "code",
   "execution_count": null,
   "id": "4b64d27c-1b5e-48f7-94b1-4a110a3ebdb3",
   "metadata": {
    "execution": {
     "iopub.execute_input": "2025-01-23T12:51:15.911715Z",
     "iopub.status.busy": "2025-01-23T12:51:15.910433Z",
     "iopub.status.idle": "2025-01-23T12:51:18.149124Z",
     "shell.execute_reply": "2025-01-23T12:51:18.145398Z"
    },
    "vscode": {
     "languageId": "r"
    }
   },
   "outputs": [
    {
     "data": {
      "text/html": [
       "<strong>pdf:</strong> 2"
      ],
      "text/latex": [
       "\\textbf{pdf:} 2"
      ],
      "text/markdown": [
       "**pdf:** 2"
      ],
      "text/plain": [
       "pdf \n",
       "  2 "
      ]
     },
     "metadata": {},
     "output_type": "display_data"
    },
    {
     "name": "stderr",
     "output_type": "stream",
     "text": [
      "Warning message:\n",
      "“\u001b[1m\u001b[22mUsing alpha for a discrete variable is not advised.”\n"
     ]
    },
    {
     "data": {
      "text/html": [
       "<strong>pdf:</strong> 2"
      ],
      "text/latex": [
       "\\textbf{pdf:} 2"
      ],
      "text/markdown": [
       "**pdf:** 2"
      ],
      "text/plain": [
       "pdf \n",
       "  2 "
      ]
     },
     "metadata": {},
     "output_type": "display_data"
    }
   ],
   "source": [
    "pdata <- dis.gene.stats %>% subset(variable %in% c('EoverT', 'NPoverT')) %>% \n",
    "    mutate(variable = factor(variable, levels = c('NPoverT', 'EoverT'), labels = c('Not in data', 'Expressed')))\n",
    "\n",
    "p <- ggplot(pdata, aes(x = value, fill = variable, y = forcats::fct_rev(DiseaseLabel))) +\n",
    "    geom_bar(stat='identity') + \n",
    "    scale_fill_manual('Expressed', values = c('lightgrey', '#92A8D1')) +\n",
    "    facet_grid(rows=vars(DiseaseGroup), cols = vars(Dataset), switch = 'y', scales = 'free_y', space = 'free_y') + \n",
    "    # scale_fill_manual(values=meta.colors$PeakSample) +\n",
    "    theme_light() +\n",
    "    ggtitle('Expression of disease-risk genes in NSC',\n",
    "            subtitle = 'Minimum expression in vivo: ≥5% of RG cells\\nMinimum expression in vitro: ≥1RPKM') +\n",
    "    ggpubr::labs_pubr() +\n",
    "    scale_x_continuous(labels = scales::label_percent(), expand = expansion(mult=c(0,0)), limits = c(0,1)) +\n",
    "    labs(x = '% expressed genes', y = 'Disease') +\n",
    "    theme(\n",
    "        strip.placement = 'outside',\n",
    "        strip.text = element_text(color = 'black', angle=0),\n",
    "        strip.text.y.left = element_text(color = 'black', angle=0),\n",
    "        strip.background = element_rect(fill='#DDDDDD', color = 'transparent'),\n",
    "        legend.position = 'right', \n",
    "        axis.text.x = element_text(angle = 90, hjust = 1, vjust=0.5), \n",
    "        panel.grid.major.y = element_blank(), \n",
    "        panel.border = element_blank(),\n",
    "        panel.spacing.y = unit(1, 'mm'),\n",
    "        panel.spacing.x = unit(4, 'mm')\n",
    "        )\n",
    "# Define output PDF path\n",
    "output_pdf_v2 <- file.path(output_base_dir, 'Expression_of_disease_genes.Braun_and_Micali.v2.FT_FCST.pdf')\n",
    "cairo_pdf(output_pdf_v2, onefile = T, height = 7, width = 10)\n",
    "p\n",
    "dev.off()\n",
    "\n",
    "\n",
    "\n",
    "p <- ggplot(pdata, aes(x = value, fill = DiseaseGroup, alpha = variable, y = forcats::fct_rev(DiseaseLabel))) +\n",
    "    geom_bar(stat='identity', color = 'darkgrey', linewidth = 0.3) + \n",
    "    scale_fill_manual(values = pal.DiseaseGroup) +\n",
    "    facet_grid(rows=vars(DiseaseGroup), cols = vars(Dataset), switch = 'y', scales = 'free_y', space = 'free_y') + \n",
    "    # scale_fill_manual(values=meta.colors$PeakSample) +\n",
    "    theme_light() +\n",
    "    ggtitle('Expression of disease-risk genes in NSC',\n",
    "            subtitle = 'Minimum expression in vivo: ≥5% of RG cells\\nMinimum expression in vitro: ≥1RPKM') +\n",
    "    ggpubr::labs_pubr() +\n",
    "    scale_x_continuous(labels = scales::label_percent(), expand = expansion(mult=c(0,0)), limits = c(0,1)) +\n",
    "    labs(x = '% expressed genes', y = 'Disease', alpha = 'Expressed', fill='Disease group') +\n",
    "    theme(\n",
    "        strip.placement = 'outside',\n",
    "        strip.text = element_text(color = 'black', angle=0),\n",
    "        strip.text.y.left = element_text(color = 'black', angle=0),\n",
    "        strip.background = element_rect(fill='#DDDDDD', color = 'transparent'),\n",
    "        legend.position = 'right', \n",
    "        axis.text.x = element_text(angle = 90, hjust = 1, vjust=0.5), \n",
    "        panel.grid.major.y = element_blank(), \n",
    "        panel.border = element_blank(),\n",
    "        panel.spacing.y = unit(1, 'mm'),\n",
    "        panel.spacing.x = unit(4, 'mm')\n",
    "        )\n",
    "# Define output PDF path\n",
    "output_pdf_v3 <- file.path(output_base_dir, 'Expression_of_disease_genes.Braun_and_Micali.v3.FT_FCST.pdf')\n",
    "cairo_pdf(output_pdf_v3, onefile = T, height = 7, width = 10)\n",
    "p\n",
    "dev.off()\n"
   ]
  },
  {
   "cell_type": "code",
   "execution_count": 20,
   "id": "26d9ffad-4628-4828-b179-148d7e9c567e",
   "metadata": {
    "execution": {
     "iopub.execute_input": "2025-01-23T12:51:18.156757Z",
     "iopub.status.busy": "2025-01-23T12:51:18.154598Z",
     "iopub.status.idle": "2025-01-23T12:51:18.177333Z",
     "shell.execute_reply": "2025-01-23T12:51:18.175670Z"
    },
    "vscode": {
     "languageId": "r"
    }
   },
   "outputs": [],
   "source": [
    "corrdata <- reshape2::dcast(\n",
    "    dis.gene.stats,\n",
    "    formula = 'Disease + DiseaseLabel + DiseaseGroup + variable ~ Dataset',\n",
    "    value.var = 'value')"
   ]
  },
  {
   "cell_type": "code",
   "execution_count": null,
   "id": "0bc75fc3-e7e7-48b2-909e-0601efdbb81d",
   "metadata": {
    "execution": {
     "iopub.execute_input": "2025-01-23T12:51:18.181236Z",
     "iopub.status.busy": "2025-01-23T12:51:18.179916Z",
     "iopub.status.idle": "2025-01-23T12:51:22.411457Z",
     "shell.execute_reply": "2025-01-23T12:51:22.409961Z"
    },
    "vscode": {
     "languageId": "r"
    }
   },
   "outputs": [
    {
     "name": "stderr",
     "output_type": "stream",
     "text": [
      "\u001b[1m\u001b[22mScale for \u001b[32mx\u001b[39m is already present.\n",
      "Adding another scale for \u001b[32mx\u001b[39m, which will replace the existing scale.\n",
      "\u001b[1m\u001b[22mScale for \u001b[32my\u001b[39m is already present.\n",
      "Adding another scale for \u001b[32my\u001b[39m, which will replace the existing scale.\n",
      "Warning message:\n",
      "“\u001b[1m\u001b[22mNo shared levels found between `names(values)` of the manual scale and the\n",
      "data's \u001b[32mcolour\u001b[39m values.”\n",
      "Warning message:\n",
      "“\u001b[1m\u001b[22mRemoved 7 rows containing missing values or values outside the scale range\n",
      "(`geom_smooth()`).”\n",
      "Warning message:\n",
      "“\u001b[1m\u001b[22mRemoved 7 rows containing missing values or values outside the scale range\n",
      "(`geom_smooth()`).”\n"
     ]
    },
    {
     "data": {
      "text/html": [
       "<strong>pdf:</strong> 2"
      ],
      "text/latex": [
       "\\textbf{pdf:} 2"
      ],
      "text/markdown": [
       "**pdf:** 2"
      ],
      "text/plain": [
       "pdf \n",
       "  2 "
      ]
     },
     "metadata": {},
     "output_type": "display_data"
    }
   ],
   "source": [
    "pdata <- subset(corrdata, variable  == 'EoverP')\n",
    "p <- ggplot(pdata, \n",
    "       aes(x = `in vivo\\n(Braun et al)`,\n",
    "           y = `in vitro\\n(Micali et al)`,\n",
    "           fill = DiseaseGroup, \n",
    "           color = DiseaseGroup, \n",
    "           label = DiseaseLabel\n",
    "           )) + \n",
    "    theme_light() +\n",
    "    ggtitle('Expression of disease-risk genes in NSC',\n",
    "            subtitle = 'Minimum expression in vivo: ≥5% of RG cells\\nMinimum expression in vitro: ≥1RPKM') +\n",
    "    ggpubr::labs_pubr() +\n",
    "    scale_x_continuous(labels = scales::label_percent(), limits = c(0,1), expand = expansion(mult = c(0,0))) +\n",
    "    scale_y_continuous(labels = scales::label_percent(), limits = c(0,1), expand = expansion(mult = c(0,0))) +\n",
    "    # scale_fill_manual(values = c('yellow', 'red', 'blue', 'green')) +\n",
    "    scale_fill_manual('Disease group', values = pal.DiseaseGroup) +\n",
    "    scale_color_manual('Disease group', values = pal.DiseaseGroup) +\n",
    "    # labs(x = '% expressed genes', y = 'Disease') +\n",
    "    theme(\n",
    "        strip.placement = 'outside',\n",
    "        strip.text = element_text(color = 'black', angle=0),\n",
    "        strip.text.y.left = element_text(color = 'black', angle=0),\n",
    "        strip.background = element_rect(fill='#DDDDDD', color = 'transparent'),\n",
    "        legend.position = 'right', \n",
    "        axis.text.x = element_text(angle = 90, hjust = 1, vjust=0.5), \n",
    "        # panel.grid.major.y = element_blank(), \n",
    "        # panel.border = element_blank(),\n",
    "        panel.spacing.y = unit(1, 'mm'),\n",
    "        panel.spacing.x = unit(4, 'mm')\n",
    "        ) + \n",
    "    coord_equal()\n",
    "\n",
    "\n",
    "p1 <- p +\n",
    "    geom_point(stroke = .5, color = 'black', shape = 21, size = 3) + \n",
    "    geom_text_repel(color = 'black', min.segment.length = 0, max.overlaps = Inf)\n",
    "    \n",
    "p2 <- p +\n",
    "    geom_text_repel(min.segment.length = 0, max.overlaps = Inf)\n",
    "\n",
    "p3 <- p +\n",
    "    geom_smooth(inherit.aes = F, \n",
    "                aes(x = `in vivo\\n(Braun et al)`,\n",
    "                    y = `in vitro\\n(Micali et al)`),\n",
    "                method = 'lm', formula = 'y~x', fullrange=TRUE) +\n",
    "    geom_point() \n",
    "\n",
    "p4 <- p3 + geom_text_repel(color = 'black', min.segment.length = 0, max.overlaps = Inf) +\n",
    "    scale_x_continuous(labels = scales::label_percent(), limits = c(0,1), expand = expansion(mult = c(0,0.1))) +\n",
    "    scale_y_continuous(labels = scales::label_percent(), limits = c(0,1), expand = expansion(mult = c(0,0.1))) \n",
    "\n",
    "# Define output PDF path\n",
    "output_pdf_subpanel <- file.path(output_base_dir, 'Expression_of_disease_genes.EoverP.Braun_and_Micali.subpanel.FT_FCST.pdf')\n",
    "cairo_pdf(output_pdf_subpanel, onefile = T, height = 7.5, width = 8.5)\n",
    "\n",
    "p1 \n",
    "p2\n",
    "p3\n",
    "p4\n",
    "\n",
    "dev.off()\n",
    "selection.export$F1.Main.CorrelationPlot.EoverP <- p4"
   ]
  },
  {
   "cell_type": "code",
   "execution_count": null,
   "id": "6e77c97e",
   "metadata": {
    "vscode": {
     "languageId": "r"
    }
   },
   "outputs": [],
   "source": [
    "selection.export"
   ]
  },
  {
   "cell_type": "code",
   "execution_count": null,
   "id": "4dbc4e83-19fc-44cb-8ddd-bacf30611c4d",
   "metadata": {
    "execution": {
     "iopub.execute_input": "2025-01-23T12:51:23.548696Z",
     "iopub.status.busy": "2025-01-23T12:51:23.547942Z",
     "iopub.status.idle": "2025-01-23T12:51:24.273630Z",
     "shell.execute_reply": "2025-01-23T12:51:24.272605Z"
    },
    "vscode": {
     "languageId": "r"
    }
   },
   "outputs": [
    {
     "name": "stderr",
     "output_type": "stream",
     "text": [
      "Warning message in dir.create(\"selection\"):\n",
      "“'selection' already exists”\n",
      "Warning message:\n",
      "“\u001b[1m\u001b[22mRemoved 7 rows containing missing values or values outside the scale range\n",
      "(`geom_smooth()`).”\n"
     ]
    },
    {
     "data": {
      "text/html": [
       "<strong>pdf:</strong> 2"
      ],
      "text/latex": [
       "\\textbf{pdf:} 2"
      ],
      "text/markdown": [
       "**pdf:** 2"
      ],
      "text/plain": [
       "pdf \n",
       "  2 "
      ]
     },
     "metadata": {},
     "output_type": "display_data"
    },
    {
     "data": {
      "text/html": [
       "<strong>pdf:</strong> 2"
      ],
      "text/latex": [
       "\\textbf{pdf:} 2"
      ],
      "text/markdown": [
       "**pdf:** 2"
      ],
      "text/plain": [
       "pdf \n",
       "  2 "
      ]
     },
     "metadata": {},
     "output_type": "display_data"
    }
   ],
   "source": [
    "# Create the selection directory if it doesn't exist\n",
    "dir.create(selection_dir, showWarnings = FALSE, recursive = TRUE)\n",
    "\n",
    "# Define output PDF paths for selection plots\n",
    "selection_pdf_main <- file.path(selection_dir, 'F1.Main.CorrelationPlot.EoverP.FT_FCST.pdf')\n",
    "selection_pdf_supp <- file.path(selection_dir, 'F1.Supp.Barplot.EoverP.FT_FCST.pdf')\n",
    "\n",
    "# Save main correlation plot\n",
    "cairo_pdf(selection_pdf_main, onefile = T, height = 7.5, width = 8.5)\n",
    "plot(selection.export$F1.Main.CorrelationPlot.EoverP)\n",
    "dev.off()\n",
    "\n",
    "# Save supplementary bar plot\n",
    "cairo_pdf(selection_pdf_supp, onefile = T, height = 7, width = 8)\n",
    "plot(selection.export$F1.Supp.Barplot.EoverP)\n",
    "dev.off()"
   ]
  }
 ],
 "metadata": {
  "kernelspec": {
   "display_name": "EWCE (R 4.4.1) [NG]",
   "language": "R",
   "name": "ewce2024_r_ng"
  },
  "language_info": {
   "codemirror_mode": "r",
   "file_extension": ".r",
   "mimetype": "text/x-r-source",
   "name": "R",
   "pygments_lexer": "r",
   "version": "4.4.1"
  },
  "widgets": {
   "application/vnd.jupyter.widget-state+json": {
    "state": {},
    "version_major": 2,
    "version_minor": 0
   }
  }
 },
 "nbformat": 4,
 "nbformat_minor": 5
}
