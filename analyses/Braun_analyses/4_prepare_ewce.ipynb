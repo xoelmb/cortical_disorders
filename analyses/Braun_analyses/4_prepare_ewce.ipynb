{
 "cells": [
  {
   "cell_type": "markdown",
   "id": "ad5cc860-2088-43b7-9857-f10cb00994ad",
   "metadata": {},
   "source": [
    "# Set-up"
   ]
  },
  {
   "cell_type": "code",
   "execution_count": null,
   "id": "7710c502-9feb-4205-a8a4-ab118784d239",
   "metadata": {
    "execution": {
     "iopub.execute_input": "2024-11-29T11:16:48.091474Z",
     "iopub.status.busy": "2024-11-29T11:16:48.086253Z",
     "iopub.status.idle": "2024-11-29T11:16:48.196084Z",
     "shell.execute_reply": "2024-11-29T11:16:48.191378Z"
    },
    "vscode": {
     "languageId": "r"
    }
   },
   "outputs": [],
   "source": [
    "# Define the base input directory\n",
    "base_data_path <- '/users/genomics/xoel/Review_CD/ewce_linnarson.v7/data/'\n",
    "in.dir <- base_data_path"
   ]
  },
  {
   "cell_type": "code",
   "execution_count": 2,
   "id": "b21e99a3-fd05-439a-b5d7-1c8a18fb535e",
   "metadata": {
    "execution": {
     "iopub.execute_input": "2024-11-29T11:16:48.238839Z",
     "iopub.status.busy": "2024-11-29T11:16:48.200976Z",
     "iopub.status.idle": "2024-11-29T11:16:50.045122Z",
     "shell.execute_reply": "2024-11-29T11:16:50.043363Z"
    },
    "scrolled": true,
    "vscode": {
     "languageId": "r"
    }
   },
   "outputs": [
    {
     "name": "stderr",
     "output_type": "stream",
     "text": [
      "Spam version 2.10-0 (2023-10-23) is loaded.\n",
      "Type 'help( Spam)' or 'demo( spam)' for a short introduction \n",
      "and overview of this package.\n",
      "Help for individual functions is also obtained by adding the\n",
      "suffix '.spam' to the function name, e.g. 'help( chol.spam)'.\n",
      "\n",
      "\n",
      "Attaching package: ‘spam’\n",
      "\n",
      "\n",
      "The following object is masked from ‘package:Matrix’:\n",
      "\n",
      "    det\n",
      "\n",
      "\n",
      "The following objects are masked from ‘package:base’:\n",
      "\n",
      "    backsolve, forwardsolve\n",
      "\n",
      "\n",
      "\n",
      "Attaching package: ‘dplyr’\n",
      "\n",
      "\n",
      "The following objects are masked from ‘package:stats’:\n",
      "\n",
      "    filter, lag\n",
      "\n",
      "\n",
      "The following objects are masked from ‘package:base’:\n",
      "\n",
      "    intersect, setdiff, setequal, union\n",
      "\n",
      "\n"
     ]
    }
   ],
   "source": [
    "library(glue)\n",
    "library(Matrix)\n",
    "library(spam)\n",
    "library(spam64)\n",
    "library(dplyr)"
   ]
  },
  {
   "cell_type": "markdown",
   "id": "5b074bd8-12c9-437a-a668-20ce50e25894",
   "metadata": {
    "tags": []
   },
   "source": [
    "# **Part 1: List the folders to process**"
   ]
  },
  {
   "cell_type": "code",
   "execution_count": 3,
   "id": "afb2d24b-5107-4591-bfc7-50951fdc328a",
   "metadata": {
    "execution": {
     "iopub.execute_input": "2024-11-29T11:16:50.049470Z",
     "iopub.status.busy": "2024-11-29T11:16:50.047698Z",
     "iopub.status.idle": "2024-11-29T11:16:50.711098Z",
     "shell.execute_reply": "2024-11-29T11:16:50.709261Z"
    },
    "vscode": {
     "languageId": "r"
    }
   },
   "outputs": [],
   "source": [
    "group_vars = c('Subregion', 'Age')\n",
    "\n",
    "folders <- list()\n",
    "\n",
    "region_dirs <- list.dirs(glue('{in.dir}/by_{group_vars[1]}/'), full.names = T, recursive = F)\n",
    "\n",
    "for (region_dir in region_dirs){\n",
    "    \n",
    "    region <- basename(region_dir)\n",
    "    \n",
    "    age_dirs <- paste0(region_dir, '/by_', group_vars[2], '/') %>%\n",
    "    list.dirs(full.names = T, recursive = F)\n",
    "    \n",
    "    for (age_dir in age_dirs){\n",
    "        age <- basename(age_dir)\n",
    "\n",
    "        d <- data.frame(list(region, age, normalizePath(age_dir)))\n",
    "        colnames(d) <- c(group_vars, 'path')\n",
    "        folders <- c(folders, list(d))\n",
    "    }\n",
    "}\n",
    "\n",
    "folders <- do.call(folders, what = 'rbind')\n",
    "folders$size <- paste('cd', folders$path, '; du -s ./') %>% sapply(system, intern = T) %>% gsub(pattern = '\\t./', replacement = '', fixed=T) %>% as.numeric\n",
    "folders <- folders %>% arrange(size)"
   ]
  },
  {
   "cell_type": "markdown",
   "id": "62bcb60e-adaf-40d8-a1c4-8dc34541bbf4",
   "metadata": {},
   "source": [
    "# **Part 2: Load gene metadata**"
   ]
  },
  {
   "cell_type": "code",
   "execution_count": null,
   "id": "94a85cd8-d676-41f7-8abf-ea60f1a7df49",
   "metadata": {
    "execution": {
     "iopub.execute_input": "2024-11-29T11:16:50.715169Z",
     "iopub.status.busy": "2024-11-29T11:16:50.713805Z",
     "iopub.status.idle": "2024-11-29T11:16:50.917454Z",
     "shell.execute_reply": "2024-11-29T11:16:50.915707Z"
    },
    "vscode": {
     "languageId": "r"
    }
   },
   "outputs": [
    {
     "data": {
      "text/html": [
       "1059"
      ],
      "text/latex": [
       "1059"
      ],
      "text/markdown": [
       "1059"
      ],
      "text/plain": [
       "[1] 1059"
      ]
     },
     "metadata": {},
     "output_type": "display_data"
    },
    {
     "data": {
      "text/html": [
       "0"
      ],
      "text/latex": [
       "0"
      ],
      "text/markdown": [
       "0"
      ],
      "text/plain": [
       "[1] 0"
      ]
     },
     "metadata": {},
     "output_type": "display_data"
    }
   ],
   "source": [
    "gene.file <- glue('{in.dir}GeneInfo.csv')\n",
    "Ginfo <- data.table::fread(gene.file, data.table=F)[,-1]\n",
    "sum(duplicated(Ginfo$Gene))\n",
    "Ginfo$Name <- make.unique(Ginfo$Gene)\n",
    "sum(duplicated(Ginfo$Name))"
   ]
  },
  {
   "cell_type": "code",
   "execution_count": 5,
   "id": "860d1313-ad49-4dd8-b2f4-6e58a9cf155f",
   "metadata": {
    "execution": {
     "iopub.execute_input": "2024-11-29T11:16:50.921457Z",
     "iopub.status.busy": "2024-11-29T11:16:50.920075Z",
     "iopub.status.idle": "2024-11-29T11:16:50.936402Z",
     "shell.execute_reply": "2024-11-29T11:16:50.934728Z"
    },
    "vscode": {
     "languageId": "r"
    }
   },
   "outputs": [
    {
     "data": {
      "text/html": [
       "<style>\n",
       ".list-inline {list-style: none; margin:0; padding: 0}\n",
       ".list-inline>li {display: inline-block}\n",
       ".list-inline>li:not(:last-child)::after {content: \"\\00b7\"; padding: 0 .5ex}\n",
       "</style>\n",
       "<ol class=list-inline><li>59480</li><li>11</li></ol>\n"
      ],
      "text/latex": [
       "\\begin{enumerate*}\n",
       "\\item 59480\n",
       "\\item 11\n",
       "\\end{enumerate*}\n"
      ],
      "text/markdown": [
       "1. 59480\n",
       "2. 11\n",
       "\n",
       "\n"
      ],
      "text/plain": [
       "[1] 59480    11"
      ]
     },
     "metadata": {},
     "output_type": "display_data"
    }
   ],
   "source": [
    "dim(Ginfo)"
   ]
  },
  {
   "cell_type": "markdown",
   "id": "7a2a0601-b02d-48c1-a5f2-2028186e4e6a",
   "metadata": {},
   "source": [
    "# **Part 3: Helper functions**"
   ]
  },
  {
   "cell_type": "code",
   "execution_count": 6,
   "id": "807ce26a-5afd-4107-a299-9fbe9f4b8d09",
   "metadata": {
    "execution": {
     "iopub.execute_input": "2024-11-28T13:58:47.005184Z",
     "iopub.status.busy": "2024-11-28T13:58:47.003848Z",
     "iopub.status.idle": "2024-11-28T13:58:47.017222Z",
     "shell.execute_reply": "2024-11-28T13:58:47.015511Z"
    },
    "vscode": {
     "languageId": "r"
    }
   },
   "outputs": [],
   "source": [
    "options(future.globals.maxSize = 500*(1024**3))"
   ]
  },
  {
   "cell_type": "code",
   "execution_count": 7,
   "id": "56c17d2e-d411-4c9c-9a8c-2c0a8c2d7957",
   "metadata": {
    "execution": {
     "iopub.execute_input": "2024-11-28T13:58:47.021421Z",
     "iopub.status.busy": "2024-11-28T13:58:47.020048Z",
     "iopub.status.idle": "2024-11-28T13:58:47.038659Z",
     "shell.execute_reply": "2024-11-28T13:58:47.036984Z"
    },
    "vscode": {
     "languageId": "r"
    }
   },
   "outputs": [],
   "source": [
    "# A function to normalize a expression matrix following EWCE functions\n",
    "my.sct_normalize <- function (exp, verbose = TRUE) {\n",
    "    \n",
    "    requireNamespace(\"sctransform\")\n",
    "    \n",
    "    if (verbose){print(dim(exp))}    \n",
    "    gc()\n",
    "    exp <- sctransform::vst(umi = exp, \n",
    "                            return_cell_attr = F, \n",
    "                            return_gene_attr = F, \n",
    "                            return_corrected_umi = T, \n",
    "                            verbosity = if (verbose) {2} else {0})$umi_corrected\n",
    "    \n",
    "    \n",
    "    if (verbose){message(glue('[{Sys.time()}] MaxScaling...'))}\n",
    "    exp <- Matrix::t(Matrix::t(exp) * (1/Matrix::colSums(exp)))\n",
    "    if (verbose){print(dim(exp))}\n",
    "    return(exp)\n",
    "}\n",
    "\n",
    "my_generate_ctd <- function(sct.exp, \n",
    "                            level1class, level2class = NULL,\n",
    "                            as_sparse=F, \n",
    "                            as_DelayedArray = F,\n",
    "                            input_species = 'hs', \n",
    "                            savePath = './',\n",
    "                            groupName = 'CTD_expression',\n",
    "                            no_cores = parallel::detectCores(),\n",
    "                            return_ctd = F,\n",
    "                            verbose = T){\n",
    "    \n",
    "    \n",
    "    annotLevels <- list(level1class=level1class)\n",
    "    if (!is.null(level2class)){\n",
    "        annotLevels$level2class <- level2class\n",
    "    }\n",
    "\n",
    "    annotLevels <- lapply(names(annotLevels), function(n){\n",
    "        cs <- annotLevels[[n]]\n",
    "        print(length(cs))\n",
    "        if (length(cs) != dim(sct.exp)[2]){\n",
    "            stop(glue('Length of {n} {length(cs)} is not the same as expression matrix {dim(sct.exp)[2]}'))\n",
    "        }\n",
    "        if (!is.factor(cs)){\n",
    "            cs <- factor(as.character(cs))\n",
    "        }\n",
    "        if (length(unique(cs)) == 1){\n",
    "            print(glue('Number of unique groups in {n} is 1. It will not be used.'))\n",
    "            return(NULL)\n",
    "        }\n",
    "        return(cs)\n",
    "    }) %>% setNames(nm = names(annotLevels))\n",
    "    annotLevels <- annotLevels[!sapply(annotLevels,is.null)]\n",
    "\n",
    "    \n",
    "    print(lapply(annotLevels, head))\n",
    "    dir.create(savePath, showWarnings = F)\n",
    "    \n",
    "    # Generate celltype data\n",
    "    CTD <- EWCE::generate_celltype_data(\n",
    "        exp = sct.exp,\n",
    "        annotLevels = annotLevels,\n",
    "        as_sparse=as_sparse,\n",
    "        as_DelayedArray=as_DelayedArray,\n",
    "        input_species=input_species,\n",
    "        savePath=savePath,\n",
    "        groupName=groupName,\n",
    "        no_cores=no_cores,\n",
    "        return_ctd=return_ctd,\n",
    "        verbose=verbose\n",
    "    )\n",
    "    return(CTD)\n",
    "}\n",
    "\n",
    "\n",
    "# A function to load a expression matrix, subset it, normalize it and save it\n",
    "ctd_from_exp_path <- function(exp_path, cellmeta_path, ctd_folder, \n",
    "                              overwrite = F,\n",
    "                              level1_var, level2_var = NULL, \n",
    "                              cellname_column = 'CellID', \n",
    "                              row.names = NULL, return_ctd = F,\n",
    "                              verbose = T, ...){\n",
    "    \n",
    "\n",
    "    requireNamespace(\"Matrix\")\n",
    "\n",
    "    \n",
    "    ctd_name <- c(level1_var, level2_var)\n",
    "    ctd_name <- paste0('_', paste0(ctd_name[!is.null(ctd_name)], collapse = '.'))\n",
    "    if (verbose){message(glue('[{Sys.time()}] Using name {ctd_name}'))}\n",
    "\n",
    "\n",
    "    if (verbose){message(glue('[{Sys.time()}] Loading cell metadata...'))}\n",
    "    cellmeta <- data.table::fread(cellmeta_path, nThread = parallel::detectCores(), data.table = F)\n",
    "\n",
    "    if (verbose){message(glue('[{Sys.time()}] Retrieving classes...'))}\n",
    "    level1class <- cellmeta[,level1_var, drop=T]\n",
    "    level2class <- if(is.null(level2_var)){NULL}else{cellmeta[,level2_var, drop=T]}\n",
    "    \n",
    "    if (verbose){message(glue('[{Sys.time()}] Loading file...'))}\n",
    "    mtx <- as(t(Matrix::readMM(exp_path)), 'CsparseMatrix')\n",
    "    \n",
    "    if (verbose){message(glue('[{Sys.time()}] Setting dimnames...'))}\n",
    "    colnames(mtx) <- if(is.null(cellname_column)){as.character(1:nrow(mtx))}else{cellmeta[,cellname_column]}\n",
    "    rownames(mtx) <- if(is.null(row.names)){as.character(1:nrow(mtx))}else{row.names}\n",
    "    \n",
    "    if (verbose){message(glue('[{Sys.time()}] Normalizing...'))}\n",
    "    gc()\n",
    "    mtx <- my.sct_normalize(mtx, verbose=verbose)\n",
    "\n",
    "    gc()\n",
    "    return(\n",
    "        my_generate_ctd(\n",
    "            sct.exp = mtx, \n",
    "            level1class=level1class, \n",
    "            level2class=level2class,\n",
    "            savePath = ctd_folder, groupName = ctd_name,\n",
    "            return_ctd = return_ctd, verbose = verbose)\n",
    "    )\n",
    "}"
   ]
  },
  {
   "cell_type": "markdown",
   "id": "0e4c0cd5-a1ac-4de5-89de-c8284d661f76",
   "metadata": {
    "tags": []
   },
   "source": [
    "# **Part 4: Process folders**"
   ]
  },
  {
   "cell_type": "code",
   "execution_count": 8,
   "id": "f0b18403-b06e-4afb-a782-e7dd9481ff1a",
   "metadata": {
    "execution": {
     "iopub.execute_input": "2024-11-28T13:58:47.042553Z",
     "iopub.status.busy": "2024-11-28T13:58:47.041164Z",
     "iopub.status.idle": "2024-11-28T13:58:47.071574Z",
     "shell.execute_reply": "2024-11-28T13:58:47.069937Z"
    },
    "vscode": {
     "languageId": "r"
    }
   },
   "outputs": [],
   "source": [
    "# names of rows (Genes)\n",
    "row.names <- Ginfo$Name\n",
    "\n",
    "level1var <- 'ShortName'\n",
    "level2var <- NULL\n"
   ]
  },
  {
   "cell_type": "code",
   "execution_count": 9,
   "id": "15ad096e-8bbe-45ab-a30d-ac76c9647e14",
   "metadata": {
    "execution": {
     "iopub.execute_input": "2024-11-28T13:58:47.075372Z",
     "iopub.status.busy": "2024-11-28T13:58:47.074069Z",
     "iopub.status.idle": "2024-11-28T16:30:45.681079Z",
     "shell.execute_reply": "2024-11-28T16:30:45.679937Z"
    },
    "vscode": {
     "languageId": "r"
    }
   },
   "outputs": [
    {
     "name": "stdout",
     "output_type": "stream",
     "text": [
      "1/29\n",
      "      Subregion Age\n",
      "1 Telencephalon 6.7\n",
      "                                                              path   size\n",
      "1 /scratch/xoel/ewce_data.v7/by_Subregion/Telencephalon/by_Age/6.7 231588\n"
     ]
    },
    {
     "name": "stderr",
     "output_type": "stream",
     "text": [
      "[2024-11-28 14:58:47.123345] Using name _ShortName\n",
      "\n",
      "[2024-11-28 14:58:47.127428] Loading cell metadata...\n",
      "\n",
      "[2024-11-28 14:58:47.215291] Retrieving classes...\n",
      "\n",
      "[2024-11-28 14:58:47.217697] Loading file...\n",
      "\n",
      "[2024-11-28 14:58:54.294888] Setting dimnames...\n",
      "\n",
      "[2024-11-28 14:58:54.297467] Normalizing...\n",
      "\n",
      "Loading required namespace: sctransform\n",
      "\n"
     ]
    },
    {
     "name": "stdout",
     "output_type": "stream",
     "text": [
      "[1] 59480  6903\n"
     ]
    },
    {
     "name": "stderr",
     "output_type": "stream",
     "text": [
      "Calculating cell attributes from input UMI matrix: log_umi\n",
      "\n",
      "Variance stabilizing transformation of count matrix of size 24419 by 6903\n",
      "\n",
      "Model formula is y ~ log_umi\n",
      "\n",
      "Get Negative Binomial regression parameters per gene\n",
      "\n",
      "Using 2000 genes, 6903 cells\n",
      "\n"
     ]
    },
    {
     "name": "stdout",
     "output_type": "stream",
     "text": [
      "  |======================================================================| 100%\n"
     ]
    },
    {
     "name": "stderr",
     "output_type": "stream",
     "text": [
      "Found 72 outliers - those will be ignored in fitting/regularization step\n",
      "\n",
      "\n",
      "Second step: Get residuals using fitted parameters for 24419 genes\n",
      "\n"
     ]
    },
    {
     "name": "stdout",
     "output_type": "stream",
     "text": [
      "  |======================================================================| 100%\n"
     ]
    },
    {
     "name": "stderr",
     "output_type": "stream",
     "text": [
      "Computing corrected count matrix for 24419 genes\n",
      "\n"
     ]
    },
    {
     "name": "stdout",
     "output_type": "stream",
     "text": [
      "  |======================================================================| 100%\n"
     ]
    },
    {
     "name": "stderr",
     "output_type": "stream",
     "text": [
      "Wall clock passed: Time difference of 1.152416 mins\n",
      "\n",
      "[2024-11-28 15:00:04.092713] MaxScaling...\n",
      "\n"
     ]
    },
    {
     "name": "stdout",
     "output_type": "stream",
     "text": [
      "[1] 24419  6903\n",
      "[1] 6903\n",
      "$level1class\n",
      "[1] ExNeuBl ExNeuBl ExNeuBl ExNeuBl ExNeuBl ExNeuBl\n",
      "Levels: ExNeu ExNeuBl ExNeuIPC InNeu InNeuIPC RGC\n",
      "\n"
     ]
    },
    {
     "name": "stderr",
     "output_type": "stream",
     "text": [
      "96 core(s) assigned as workers (0 reserved).\n",
      "\n",
      "Warning message in asMethod(object):\n",
      "“sparse->dense coercion: allocating vector of size 1.3 GiB”\n",
      "+ Calculating normalized mean expression.\n",
      "\n",
      "Converting to sparse matrix.\n",
      "\n",
      "+ Calculating normalized specificity.\n",
      "\n",
      "Converting to sparse matrix.\n",
      "\n",
      "Converting to sparse matrix.\n",
      "\n",
      "Loading required namespace: ggdendro\n",
      "\n",
      "+ Saving results ==>  /scratch/xoel/ewce_data.v7/by_Subregion/Telencephalon/by_Age/6.7/ctd__ShortName.rda\n",
      "\n"
     ]
    },
    {
     "name": "stdout",
     "output_type": "stream",
     "text": [
      "2/29\n",
      "  Subregion Age                                                         path\n",
      "2 Subcortex 9.5 /scratch/xoel/ewce_data.v7/by_Subregion/Subcortex/by_Age/9.5\n",
      "    size\n",
      "2 279892\n"
     ]
    },
    {
     "name": "stderr",
     "output_type": "stream",
     "text": [
      "[2024-11-28 15:00:17.250336] Using name _ShortName\n",
      "\n",
      "[2024-11-28 15:00:17.252597] Loading cell metadata...\n",
      "\n",
      "[2024-11-28 15:00:17.320913] Retrieving classes...\n",
      "\n",
      "[2024-11-28 15:00:17.322261] Loading file...\n",
      "\n",
      "[2024-11-28 15:00:23.647444] Setting dimnames...\n",
      "\n",
      "[2024-11-28 15:00:23.649379] Normalizing...\n",
      "\n"
     ]
    },
    {
     "name": "stdout",
     "output_type": "stream",
     "text": [
      "[1] 59480 12681\n"
     ]
    },
    {
     "name": "stderr",
     "output_type": "stream",
     "text": [
      "Calculating cell attributes from input UMI matrix: log_umi\n",
      "\n",
      "Variance stabilizing transformation of count matrix of size 24749 by 12681\n",
      "\n",
      "Model formula is y ~ log_umi\n",
      "\n",
      "Get Negative Binomial regression parameters per gene\n",
      "\n",
      "Using 2000 genes, 12681 cells\n",
      "\n"
     ]
    },
    {
     "name": "stdout",
     "output_type": "stream",
     "text": [
      "  |======================================================================| 100%\n"
     ]
    },
    {
     "name": "stderr",
     "output_type": "stream",
     "text": [
      "Found 68 outliers - those will be ignored in fitting/regularization step\n",
      "\n",
      "\n",
      "Second step: Get residuals using fitted parameters for 24749 genes\n",
      "\n"
     ]
    },
    {
     "name": "stdout",
     "output_type": "stream",
     "text": [
      "  |======================================================================| 100%\n"
     ]
    },
    {
     "name": "stderr",
     "output_type": "stream",
     "text": [
      "Computing corrected count matrix for 24749 genes\n",
      "\n"
     ]
    },
    {
     "name": "stdout",
     "output_type": "stream",
     "text": [
      "  |======================================================================| 100%\n"
     ]
    },
    {
     "name": "stderr",
     "output_type": "stream",
     "text": [
      "Wall clock passed: Time difference of 2.012036 mins\n",
      "\n",
      "[2024-11-28 15:02:25.362625] MaxScaling...\n",
      "\n"
     ]
    },
    {
     "name": "stdout",
     "output_type": "stream",
     "text": [
      "[1] 24749 12681\n",
      "[1] 12681\n",
      "$level1class\n",
      "[1] GlioBl GlioBl GlioBl GlioBl GlioBl GlioBl\n",
      "Levels: ExNeu ExNeuBl ExNeuIPC GlioBl InNeu InNeuIPC RGC\n",
      "\n"
     ]
    },
    {
     "name": "stderr",
     "output_type": "stream",
     "text": [
      "96 core(s) assigned as workers (0 reserved).\n",
      "\n",
      "Warning message in asMethod(object):\n",
      "“sparse->dense coercion: allocating vector of size 2.3 GiB”\n",
      "+ Calculating normalized mean expression.\n",
      "\n",
      "Converting to sparse matrix.\n",
      "\n",
      "+ Calculating normalized specificity.\n",
      "\n",
      "Converting to sparse matrix.\n",
      "\n",
      "Converting to sparse matrix.\n",
      "\n",
      "+ Saving results ==>  /scratch/xoel/ewce_data.v7/by_Subregion/Subcortex/by_Age/9.5/ctd__ShortName.rda\n",
      "\n"
     ]
    },
    {
     "name": "stdout",
     "output_type": "stream",
     "text": [
      "3/29\n",
      "    Subregion  Age\n",
      "3 Hippocampus 14.0\n",
      "                                                             path   size\n",
      "3 /scratch/xoel/ewce_data.v7/by_Subregion/Hippocampus/by_Age/14.0 286936\n"
     ]
    },
    {
     "name": "stderr",
     "output_type": "stream",
     "text": [
      "[2024-11-28 15:02:30.751765] Using name _ShortName\n",
      "\n",
      "[2024-11-28 15:02:30.754063] Loading cell metadata...\n",
      "\n",
      "[2024-11-28 15:02:30.807688] Retrieving classes...\n",
      "\n",
      "[2024-11-28 15:02:30.810278] Loading file...\n",
      "\n",
      "[2024-11-28 15:02:37.369111] Setting dimnames...\n",
      "\n",
      "[2024-11-28 15:02:37.370994] Normalizing...\n",
      "\n"
     ]
    },
    {
     "name": "stdout",
     "output_type": "stream",
     "text": [
      "[1] 59480  5034\n"
     ]
    },
    {
     "name": "stderr",
     "output_type": "stream",
     "text": [
      "Calculating cell attributes from input UMI matrix: log_umi\n",
      "\n",
      "Variance stabilizing transformation of count matrix of size 28632 by 5034\n",
      "\n",
      "Model formula is y ~ log_umi\n",
      "\n",
      "Get Negative Binomial regression parameters per gene\n",
      "\n",
      "Using 2000 genes, 5034 cells\n",
      "\n"
     ]
    },
    {
     "name": "stdout",
     "output_type": "stream",
     "text": [
      "  |======================================================================| 100%\n"
     ]
    },
    {
     "name": "stderr",
     "output_type": "stream",
     "text": [
      "Found 47 outliers - those will be ignored in fitting/regularization step\n",
      "\n",
      "\n",
      "Second step: Get residuals using fitted parameters for 28632 genes\n",
      "\n"
     ]
    },
    {
     "name": "stdout",
     "output_type": "stream",
     "text": [
      "  |======================================================================| 100%\n"
     ]
    },
    {
     "name": "stderr",
     "output_type": "stream",
     "text": [
      "Computing corrected count matrix for 28632 genes\n",
      "\n"
     ]
    },
    {
     "name": "stdout",
     "output_type": "stream",
     "text": [
      "  |======================================================================| 100%\n"
     ]
    },
    {
     "name": "stderr",
     "output_type": "stream",
     "text": [
      "Wall clock passed: Time difference of 56.5915 secs\n",
      "\n",
      "[2024-11-28 15:03:35.022229] MaxScaling...\n",
      "\n"
     ]
    },
    {
     "name": "stdout",
     "output_type": "stream",
     "text": [
      "[1] 28632  5034\n",
      "[1] 5034\n",
      "$level1class\n",
      "[1] GlioBl GlioBl GlioBl GlioBl GlioBl GlioBl\n",
      "Levels: COPs ExNeuBl ExNeuIPC GlioBl Imm InNeu\n",
      "\n"
     ]
    },
    {
     "name": "stderr",
     "output_type": "stream",
     "text": [
      "96 core(s) assigned as workers (0 reserved).\n",
      "\n",
      "Warning message in asMethod(object):\n",
      "“sparse->dense coercion: allocating vector of size 1.1 GiB”\n",
      "+ Calculating normalized mean expression.\n",
      "\n",
      "Converting to sparse matrix.\n",
      "\n",
      "+ Calculating normalized specificity.\n",
      "\n",
      "Converting to sparse matrix.\n",
      "\n",
      "Converting to sparse matrix.\n",
      "\n",
      "+ Saving results ==>  /scratch/xoel/ewce_data.v7/by_Subregion/Hippocampus/by_Age/14.0/ctd__ShortName.rda\n",
      "\n"
     ]
    },
    {
     "name": "stdout",
     "output_type": "stream",
     "text": [
      "4/29\n",
      "  Subregion Age                                                         path\n",
      "4 Subcortex 8.0 /scratch/xoel/ewce_data.v7/by_Subregion/Subcortex/by_Age/8.0\n",
      "    size\n",
      "4 323616\n"
     ]
    },
    {
     "name": "stderr",
     "output_type": "stream",
     "text": [
      "[2024-11-28 15:03:38.99414] Using name _ShortName\n",
      "\n",
      "[2024-11-28 15:03:38.996618] Loading cell metadata...\n",
      "\n",
      "[2024-11-28 15:03:39.065519] Retrieving classes...\n",
      "\n",
      "[2024-11-28 15:03:39.067004] Loading file...\n",
      "\n",
      "[2024-11-28 15:03:46.262418] Setting dimnames...\n",
      "\n",
      "[2024-11-28 15:03:46.266335] Normalizing...\n",
      "\n"
     ]
    },
    {
     "name": "stdout",
     "output_type": "stream",
     "text": [
      "[1] 59480 11644\n"
     ]
    },
    {
     "name": "stderr",
     "output_type": "stream",
     "text": [
      "Calculating cell attributes from input UMI matrix: log_umi\n",
      "\n",
      "Variance stabilizing transformation of count matrix of size 25450 by 11644\n",
      "\n",
      "Model formula is y ~ log_umi\n",
      "\n",
      "Get Negative Binomial regression parameters per gene\n",
      "\n",
      "Using 2000 genes, 11644 cells\n",
      "\n"
     ]
    },
    {
     "name": "stdout",
     "output_type": "stream",
     "text": [
      "  |======================================================================| 100%\n"
     ]
    },
    {
     "name": "stderr",
     "output_type": "stream",
     "text": [
      "Found 96 outliers - those will be ignored in fitting/regularization step\n",
      "\n",
      "\n",
      "Second step: Get residuals using fitted parameters for 25450 genes\n",
      "\n"
     ]
    },
    {
     "name": "stdout",
     "output_type": "stream",
     "text": [
      "  |======================================================================| 100%\n"
     ]
    },
    {
     "name": "stderr",
     "output_type": "stream",
     "text": [
      "Computing corrected count matrix for 25450 genes\n",
      "\n"
     ]
    },
    {
     "name": "stdout",
     "output_type": "stream",
     "text": [
      "  |======================================================================| 100%\n"
     ]
    },
    {
     "name": "stderr",
     "output_type": "stream",
     "text": [
      "Wall clock passed: Time difference of 2.001567 mins\n",
      "\n",
      "[2024-11-28 15:05:47.526727] MaxScaling...\n",
      "\n"
     ]
    },
    {
     "name": "stdout",
     "output_type": "stream",
     "text": [
      "[1] 25450 11644\n",
      "[1] 11644\n",
      "$level1class\n",
      "[1] GlioBl GlioBl GlioBl GlioBl GlioBl GlioBl\n",
      "Levels: ExNeu ExNeuBl ExNeuIPC GlioBl InNeu InNeuBl InNeuIPC RGC\n",
      "\n"
     ]
    },
    {
     "name": "stderr",
     "output_type": "stream",
     "text": [
      "96 core(s) assigned as workers (0 reserved).\n",
      "\n",
      "Warning message in asMethod(object):\n",
      "“sparse->dense coercion: allocating vector of size 2.2 GiB”\n",
      "+ Calculating normalized mean expression.\n",
      "\n",
      "Converting to sparse matrix.\n",
      "\n",
      "+ Calculating normalized specificity.\n",
      "\n",
      "Converting to sparse matrix.\n",
      "\n",
      "Converting to sparse matrix.\n",
      "\n",
      "+ Saving results ==>  /scratch/xoel/ewce_data.v7/by_Subregion/Subcortex/by_Age/8.0/ctd__ShortName.rda\n",
      "\n"
     ]
    },
    {
     "name": "stdout",
     "output_type": "stream",
     "text": [
      "5/29\n",
      "  Subregion  Age                                                          path\n",
      "5 Subcortex 13.0 /scratch/xoel/ewce_data.v7/by_Subregion/Subcortex/by_Age/13.0\n",
      "    size\n",
      "5 383016\n"
     ]
    },
    {
     "name": "stderr",
     "output_type": "stream",
     "text": [
      "[2024-11-28 15:05:53.631907] Using name _ShortName\n",
      "\n",
      "[2024-11-28 15:05:53.634336] Loading cell metadata...\n",
      "\n",
      "[2024-11-28 15:05:53.697642] Retrieving classes...\n",
      "\n",
      "[2024-11-28 15:05:53.699442] Loading file...\n",
      "\n",
      "[2024-11-28 15:06:02.60807] Setting dimnames...\n",
      "\n",
      "[2024-11-28 15:06:02.61143] Normalizing...\n",
      "\n"
     ]
    },
    {
     "name": "stdout",
     "output_type": "stream",
     "text": [
      "[1] 59480  8557\n"
     ]
    },
    {
     "name": "stderr",
     "output_type": "stream",
     "text": [
      "Calculating cell attributes from input UMI matrix: log_umi\n",
      "\n",
      "Variance stabilizing transformation of count matrix of size 28088 by 8557\n",
      "\n",
      "Model formula is y ~ log_umi\n",
      "\n",
      "Get Negative Binomial regression parameters per gene\n",
      "\n",
      "Using 2000 genes, 8557 cells\n",
      "\n"
     ]
    },
    {
     "name": "stdout",
     "output_type": "stream",
     "text": [
      "  |======================================================================| 100%\n"
     ]
    },
    {
     "name": "stderr",
     "output_type": "stream",
     "text": [
      "Found 32 outliers - those will be ignored in fitting/regularization step\n",
      "\n",
      "\n",
      "Second step: Get residuals using fitted parameters for 28088 genes\n",
      "\n"
     ]
    },
    {
     "name": "stdout",
     "output_type": "stream",
     "text": [
      "  |======================================================================| 100%\n"
     ]
    },
    {
     "name": "stderr",
     "output_type": "stream",
     "text": [
      "Computing corrected count matrix for 28088 genes\n",
      "\n"
     ]
    },
    {
     "name": "stdout",
     "output_type": "stream",
     "text": [
      "  |======================================================================| 100%\n"
     ]
    },
    {
     "name": "stderr",
     "output_type": "stream",
     "text": [
      "Wall clock passed: Time difference of 1.397725 mins\n",
      "\n",
      "[2024-11-28 15:07:27.663378] MaxScaling...\n",
      "\n"
     ]
    },
    {
     "name": "stdout",
     "output_type": "stream",
     "text": [
      "[1] 28088  8557\n",
      "[1] 8557\n",
      "$level1class\n",
      "[1] GlioBl GlioBl GlioBl GlioBl GlioBl GlioBl\n",
      "Levels: ExNeu ExNeuIPC GlioBl InNeu InNeuIPC RGC\n",
      "\n"
     ]
    },
    {
     "name": "stderr",
     "output_type": "stream",
     "text": [
      "96 core(s) assigned as workers (0 reserved).\n",
      "\n",
      "Warning message in asMethod(object):\n",
      "“sparse->dense coercion: allocating vector of size 1.8 GiB”\n",
      "+ Calculating normalized mean expression.\n",
      "\n",
      "Converting to sparse matrix.\n",
      "\n",
      "+ Calculating normalized specificity.\n",
      "\n",
      "Converting to sparse matrix.\n",
      "\n",
      "Converting to sparse matrix.\n",
      "\n",
      "+ Saving results ==>  /scratch/xoel/ewce_data.v7/by_Subregion/Subcortex/by_Age/13.0/ctd__ShortName.rda\n",
      "\n"
     ]
    },
    {
     "name": "stdout",
     "output_type": "stream",
     "text": [
      "6/29\n",
      "  Subregion Age                                                      path\n",
      "6    Cortex 9.5 /scratch/xoel/ewce_data.v7/by_Subregion/Cortex/by_Age/9.5\n",
      "    size\n",
      "6 414640\n"
     ]
    },
    {
     "name": "stderr",
     "output_type": "stream",
     "text": [
      "[2024-11-28 15:07:33.387488] Using name _ShortName\n",
      "\n",
      "[2024-11-28 15:07:33.389886] Loading cell metadata...\n",
      "\n",
      "[2024-11-28 15:07:33.462952] Retrieving classes...\n",
      "\n",
      "[2024-11-28 15:07:33.464614] Loading file...\n",
      "\n",
      "[2024-11-28 15:07:42.654641] Setting dimnames...\n",
      "\n",
      "[2024-11-28 15:07:42.657446] Normalizing...\n",
      "\n"
     ]
    },
    {
     "name": "stdout",
     "output_type": "stream",
     "text": [
      "[1] 59480 15606\n"
     ]
    },
    {
     "name": "stderr",
     "output_type": "stream",
     "text": [
      "Calculating cell attributes from input UMI matrix: log_umi\n",
      "\n",
      "Variance stabilizing transformation of count matrix of size 26046 by 15606\n",
      "\n",
      "Model formula is y ~ log_umi\n",
      "\n",
      "Get Negative Binomial regression parameters per gene\n",
      "\n",
      "Using 2000 genes, 15606 cells\n",
      "\n"
     ]
    },
    {
     "name": "stdout",
     "output_type": "stream",
     "text": [
      "  |======================================================================| 100%\n"
     ]
    },
    {
     "name": "stderr",
     "output_type": "stream",
     "text": [
      "Found 88 outliers - those will be ignored in fitting/regularization step\n",
      "\n",
      "\n",
      "Second step: Get residuals using fitted parameters for 26046 genes\n",
      "\n"
     ]
    },
    {
     "name": "stdout",
     "output_type": "stream",
     "text": [
      "  |======================================================================| 100%\n"
     ]
    },
    {
     "name": "stderr",
     "output_type": "stream",
     "text": [
      "Computing corrected count matrix for 26046 genes\n",
      "\n"
     ]
    },
    {
     "name": "stdout",
     "output_type": "stream",
     "text": [
      "  |======================================================================| 100%\n"
     ]
    },
    {
     "name": "stderr",
     "output_type": "stream",
     "text": [
      "Wall clock passed: Time difference of 2.863412 mins\n",
      "\n",
      "[2024-11-28 15:10:35.583207] MaxScaling...\n",
      "\n"
     ]
    },
    {
     "name": "stdout",
     "output_type": "stream",
     "text": [
      "[1] 26046 15606\n",
      "[1] 15606\n",
      "$level1class\n",
      "[1] Fibr Fibr Fibr Fibr Fibr Fibr\n",
      "Levels: ExNeu ExNeuBl ExNeuIPC Fibr GlioBl InNeu InNeuIPC RGC\n",
      "\n"
     ]
    },
    {
     "name": "stderr",
     "output_type": "stream",
     "text": [
      "96 core(s) assigned as workers (0 reserved).\n",
      "\n",
      "Warning message in asMethod(object):\n",
      "“sparse->dense coercion: allocating vector of size 3.0 GiB”\n",
      "+ Calculating normalized mean expression.\n",
      "\n",
      "Converting to sparse matrix.\n",
      "\n",
      "+ Calculating normalized specificity.\n",
      "\n",
      "Converting to sparse matrix.\n",
      "\n",
      "Converting to sparse matrix.\n",
      "\n",
      "+ Saving results ==>  /scratch/xoel/ewce_data.v7/by_Subregion/Cortex/by_Age/9.5/ctd__ShortName.rda\n",
      "\n"
     ]
    },
    {
     "name": "stdout",
     "output_type": "stream",
     "text": [
      "7/29\n",
      "  Subregion Age                                                         path\n",
      "7 Forebrain 9.2 /scratch/xoel/ewce_data.v7/by_Subregion/Forebrain/by_Age/9.2\n",
      "    size\n",
      "7 426304\n"
     ]
    },
    {
     "name": "stderr",
     "output_type": "stream",
     "text": [
      "[2024-11-28 15:10:42.356924] Using name _ShortName\n",
      "\n",
      "[2024-11-28 15:10:42.360096] Loading cell metadata...\n",
      "\n",
      "[2024-11-28 15:10:42.451325] Retrieving classes...\n",
      "\n",
      "[2024-11-28 15:10:42.453315] Loading file...\n",
      "\n",
      "[2024-11-28 15:10:52.111272] Setting dimnames...\n",
      "\n",
      "[2024-11-28 15:10:52.113708] Normalizing...\n",
      "\n"
     ]
    },
    {
     "name": "stdout",
     "output_type": "stream",
     "text": [
      "[1] 59480 23569\n"
     ]
    },
    {
     "name": "stderr",
     "output_type": "stream",
     "text": [
      "Calculating cell attributes from input UMI matrix: log_umi\n",
      "\n",
      "Variance stabilizing transformation of count matrix of size 27219 by 23569\n",
      "\n",
      "Model formula is y ~ log_umi\n",
      "\n",
      "Get Negative Binomial regression parameters per gene\n",
      "\n",
      "Using 2000 genes, 23569 cells\n",
      "\n"
     ]
    },
    {
     "name": "stdout",
     "output_type": "stream",
     "text": [
      "  |======================================================================| 100%\n"
     ]
    },
    {
     "name": "stderr",
     "output_type": "stream",
     "text": [
      "Found 87 outliers - those will be ignored in fitting/regularization step\n",
      "\n",
      "\n",
      "Second step: Get residuals using fitted parameters for 27219 genes\n",
      "\n"
     ]
    },
    {
     "name": "stdout",
     "output_type": "stream",
     "text": [
      "  |======================================================================| 100%\n"
     ]
    },
    {
     "name": "stderr",
     "output_type": "stream",
     "text": [
      "Computing corrected count matrix for 27219 genes\n",
      "\n"
     ]
    },
    {
     "name": "stdout",
     "output_type": "stream",
     "text": [
      "  |======================================================================| 100%\n"
     ]
    },
    {
     "name": "stderr",
     "output_type": "stream",
     "text": [
      "Wall clock passed: Time difference of 3.761197 mins\n",
      "\n",
      "[2024-11-28 15:14:39.039624] MaxScaling...\n",
      "\n"
     ]
    },
    {
     "name": "stdout",
     "output_type": "stream",
     "text": [
      "[1] 27219 23569\n",
      "[1] 23569\n",
      "$level1class\n",
      "[1] GlioBl GlioBl GlioBl GlioBl GlioBl GlioBl\n",
      "Levels: ExNeu ExNeuBl ExNeuIPC GlioBl InNeu InNeuIPC RGC\n",
      "\n"
     ]
    },
    {
     "name": "stderr",
     "output_type": "stream",
     "text": [
      "96 core(s) assigned as workers (0 reserved).\n",
      "\n",
      "Warning message in asMethod(object):\n",
      "“sparse->dense coercion: allocating vector of size 4.8 GiB”\n",
      "+ Calculating normalized mean expression.\n",
      "\n",
      "Converting to sparse matrix.\n",
      "\n",
      "+ Calculating normalized specificity.\n",
      "\n",
      "Converting to sparse matrix.\n",
      "\n",
      "Converting to sparse matrix.\n",
      "\n",
      "+ Saving results ==>  /scratch/xoel/ewce_data.v7/by_Subregion/Forebrain/by_Age/9.2/ctd__ShortName.rda\n",
      "\n"
     ]
    },
    {
     "name": "stdout",
     "output_type": "stream",
     "text": [
      "8/29\n",
      "  Subregion Age                                                    path   size\n",
      "8      Head 5.0 /scratch/xoel/ewce_data.v7/by_Subregion/Head/by_Age/5.0 484716\n"
     ]
    },
    {
     "name": "stderr",
     "output_type": "stream",
     "text": [
      "[2024-11-28 15:14:46.98318] Using name _ShortName\n",
      "\n",
      "[2024-11-28 15:14:46.985539] Loading cell metadata...\n",
      "\n",
      "[2024-11-28 15:14:47.046314] Retrieving classes...\n",
      "\n",
      "[2024-11-28 15:14:47.048728] Loading file...\n",
      "\n",
      "[2024-11-28 15:14:58.441116] Setting dimnames...\n",
      "\n",
      "[2024-11-28 15:14:58.44305] Normalizing...\n",
      "\n"
     ]
    },
    {
     "name": "stdout",
     "output_type": "stream",
     "text": [
      "[1] 59480  6539\n"
     ]
    },
    {
     "name": "stderr",
     "output_type": "stream",
     "text": [
      "Calculating cell attributes from input UMI matrix: log_umi\n",
      "\n",
      "Variance stabilizing transformation of count matrix of size 29755 by 6539\n",
      "\n",
      "Model formula is y ~ log_umi\n",
      "\n",
      "Get Negative Binomial regression parameters per gene\n",
      "\n",
      "Using 2000 genes, 6539 cells\n",
      "\n"
     ]
    },
    {
     "name": "stdout",
     "output_type": "stream",
     "text": [
      "  |======================================================================| 100%\n"
     ]
    },
    {
     "name": "stderr",
     "output_type": "stream",
     "text": [
      "Found 50 outliers - those will be ignored in fitting/regularization step\n",
      "\n",
      "\n",
      "Second step: Get residuals using fitted parameters for 29755 genes\n",
      "\n"
     ]
    },
    {
     "name": "stdout",
     "output_type": "stream",
     "text": [
      "  |======================================================================| 100%\n"
     ]
    },
    {
     "name": "stderr",
     "output_type": "stream",
     "text": [
      "Computing corrected count matrix for 29755 genes\n",
      "\n"
     ]
    },
    {
     "name": "stdout",
     "output_type": "stream",
     "text": [
      "  |======================================================================| 100%\n"
     ]
    },
    {
     "name": "stderr",
     "output_type": "stream",
     "text": [
      "Wall clock passed: Time difference of 1.22554 mins\n",
      "\n",
      "[2024-11-28 15:16:13.157755] MaxScaling...\n",
      "\n"
     ]
    },
    {
     "name": "stdout",
     "output_type": "stream",
     "text": [
      "[1] 29755  6539\n",
      "[1] 6539\n",
      "$level1class\n",
      "[1] Fibr Fibr Fibr Fibr Fibr Fibr\n",
      "Levels: Fibr Plac Schwann\n",
      "\n"
     ]
    },
    {
     "name": "stderr",
     "output_type": "stream",
     "text": [
      "96 core(s) assigned as workers (0 reserved).\n",
      "\n",
      "Warning message in asMethod(object):\n",
      "“sparse->dense coercion: allocating vector of size 1.4 GiB”\n",
      "+ Calculating normalized mean expression.\n",
      "\n",
      "Converting to sparse matrix.\n",
      "\n",
      "+ Calculating normalized specificity.\n",
      "\n",
      "Converting to sparse matrix.\n",
      "\n",
      "Converting to sparse matrix.\n",
      "\n",
      "+ Saving results ==>  /scratch/xoel/ewce_data.v7/by_Subregion/Head/by_Age/5.0/ctd__ShortName.rda\n",
      "\n"
     ]
    },
    {
     "name": "stdout",
     "output_type": "stream",
     "text": [
      "9/29\n",
      "  Subregion Age                                                      path\n",
      "9    Cortex 9.2 /scratch/xoel/ewce_data.v7/by_Subregion/Cortex/by_Age/9.2\n",
      "    size\n",
      "9 537128\n"
     ]
    },
    {
     "name": "stderr",
     "output_type": "stream",
     "text": [
      "[2024-11-28 15:16:18.878017] Using name _ShortName\n",
      "\n",
      "[2024-11-28 15:16:18.880697] Loading cell metadata...\n",
      "\n",
      "[2024-11-28 15:16:18.963957] Retrieving classes...\n",
      "\n",
      "[2024-11-28 15:16:18.965788] Loading file...\n",
      "\n",
      "[2024-11-28 15:16:31.353432] Setting dimnames...\n",
      "\n",
      "[2024-11-28 15:16:31.356544] Normalizing...\n",
      "\n"
     ]
    },
    {
     "name": "stdout",
     "output_type": "stream",
     "text": [
      "[1] 59480 22732\n"
     ]
    },
    {
     "name": "stderr",
     "output_type": "stream",
     "text": [
      "Calculating cell attributes from input UMI matrix: log_umi\n",
      "\n",
      "Variance stabilizing transformation of count matrix of size 27601 by 22732\n",
      "\n",
      "Model formula is y ~ log_umi\n",
      "\n",
      "Get Negative Binomial regression parameters per gene\n",
      "\n",
      "Using 2000 genes, 22732 cells\n",
      "\n"
     ]
    },
    {
     "name": "stdout",
     "output_type": "stream",
     "text": [
      "  |                                                                      |   0%"
     ]
    },
    {
     "name": "stderr",
     "output_type": "stream",
     "text": [
      "Warning message in size + sum(size_args, na.rm = FALSE):\n",
      "“NAs produced by integer overflow”\n"
     ]
    },
    {
     "name": "stdout",
     "output_type": "stream",
     "text": [
      "  |==================                                                    |  25%"
     ]
    },
    {
     "name": "stderr",
     "output_type": "stream",
     "text": [
      "Warning message in size + sum(size_args, na.rm = FALSE):\n",
      "“NAs produced by integer overflow”\n"
     ]
    },
    {
     "name": "stdout",
     "output_type": "stream",
     "text": [
      "  |===================================                                   |  50%"
     ]
    },
    {
     "name": "stderr",
     "output_type": "stream",
     "text": [
      "Warning message in size + sum(size_args, na.rm = FALSE):\n",
      "“NAs produced by integer overflow”\n"
     ]
    },
    {
     "name": "stdout",
     "output_type": "stream",
     "text": [
      "  |====================================================                  |  75%"
     ]
    },
    {
     "name": "stderr",
     "output_type": "stream",
     "text": [
      "Warning message in size + sum(size_args, na.rm = FALSE):\n",
      "“NAs produced by integer overflow”\n"
     ]
    },
    {
     "name": "stdout",
     "output_type": "stream",
     "text": [
      "  |======================================================================| 100%\n"
     ]
    },
    {
     "name": "stderr",
     "output_type": "stream",
     "text": [
      "Found 91 outliers - those will be ignored in fitting/regularization step\n",
      "\n",
      "\n",
      "Second step: Get residuals using fitted parameters for 27601 genes\n",
      "\n"
     ]
    },
    {
     "name": "stdout",
     "output_type": "stream",
     "text": [
      "  |======================================================================| 100%\n"
     ]
    },
    {
     "name": "stderr",
     "output_type": "stream",
     "text": [
      "Computing corrected count matrix for 27601 genes\n",
      "\n"
     ]
    },
    {
     "name": "stdout",
     "output_type": "stream",
     "text": [
      "  |======================================================================| 100%\n"
     ]
    },
    {
     "name": "stderr",
     "output_type": "stream",
     "text": [
      "Wall clock passed: Time difference of 3.863301 mins\n",
      "\n",
      "[2024-11-28 15:20:24.265099] MaxScaling...\n",
      "\n"
     ]
    },
    {
     "name": "stdout",
     "output_type": "stream",
     "text": [
      "[1] 27601 22732\n",
      "[1] 22732\n",
      "$level1class\n",
      "[1] GlioBl GlioBl GlioBl GlioBl GlioBl GlioBl\n",
      "Levels: ExNeu ExNeuBl ExNeuIPC GlioBl InNeu RGC\n",
      "\n"
     ]
    },
    {
     "name": "stderr",
     "output_type": "stream",
     "text": [
      "96 core(s) assigned as workers (0 reserved).\n",
      "\n",
      "Warning message in asMethod(object):\n",
      "“sparse->dense coercion: allocating vector of size 4.7 GiB”\n",
      "+ Calculating normalized mean expression.\n",
      "\n",
      "Converting to sparse matrix.\n",
      "\n",
      "+ Calculating normalized specificity.\n",
      "\n",
      "Converting to sparse matrix.\n",
      "\n",
      "Converting to sparse matrix.\n",
      "\n",
      "+ Saving results ==>  /scratch/xoel/ewce_data.v7/by_Subregion/Cortex/by_Age/9.2/ctd__ShortName.rda\n",
      "\n"
     ]
    },
    {
     "name": "stdout",
     "output_type": "stream",
     "text": [
      "10/29\n",
      "     Subregion  Age\n",
      "10 Hippocampus 12.0\n",
      "                                                              path   size\n",
      "10 /scratch/xoel/ewce_data.v7/by_Subregion/Hippocampus/by_Age/12.0 574880\n"
     ]
    },
    {
     "name": "stderr",
     "output_type": "stream",
     "text": [
      "[2024-11-28 15:20:33.069434] Using name _ShortName\n",
      "\n",
      "[2024-11-28 15:20:33.071779] Loading cell metadata...\n",
      "\n",
      "[2024-11-28 15:20:33.111168] Retrieving classes...\n",
      "\n",
      "[2024-11-28 15:20:33.112822] Loading file...\n",
      "\n",
      "[2024-11-28 15:20:47.012187] Setting dimnames...\n",
      "\n",
      "[2024-11-28 15:20:47.015414] Normalizing...\n",
      "\n"
     ]
    },
    {
     "name": "stdout",
     "output_type": "stream",
     "text": [
      "[1] 59480  9948\n"
     ]
    },
    {
     "name": "stderr",
     "output_type": "stream",
     "text": [
      "Calculating cell attributes from input UMI matrix: log_umi\n",
      "\n",
      "Variance stabilizing transformation of count matrix of size 30344 by 9948\n",
      "\n",
      "Model formula is y ~ log_umi\n",
      "\n",
      "Get Negative Binomial regression parameters per gene\n",
      "\n",
      "Using 2000 genes, 9948 cells\n",
      "\n"
     ]
    },
    {
     "name": "stdout",
     "output_type": "stream",
     "text": [
      "  |                                                                      |   0%"
     ]
    },
    {
     "name": "stderr",
     "output_type": "stream",
     "text": [
      "Warning message in size + sum(size_args, na.rm = FALSE):\n",
      "“NAs produced by integer overflow”\n"
     ]
    },
    {
     "name": "stdout",
     "output_type": "stream",
     "text": [
      "  |==================                                                    |  25%"
     ]
    },
    {
     "name": "stderr",
     "output_type": "stream",
     "text": [
      "Warning message in size + sum(size_args, na.rm = FALSE):\n",
      "“NAs produced by integer overflow”\n"
     ]
    },
    {
     "name": "stdout",
     "output_type": "stream",
     "text": [
      "  |===================================                                   |  50%"
     ]
    },
    {
     "name": "stderr",
     "output_type": "stream",
     "text": [
      "Warning message in size + sum(size_args, na.rm = FALSE):\n",
      "“NAs produced by integer overflow”\n"
     ]
    },
    {
     "name": "stdout",
     "output_type": "stream",
     "text": [
      "  |====================================================                  |  75%"
     ]
    },
    {
     "name": "stderr",
     "output_type": "stream",
     "text": [
      "Warning message in size + sum(size_args, na.rm = FALSE):\n",
      "“NAs produced by integer overflow”\n"
     ]
    },
    {
     "name": "stdout",
     "output_type": "stream",
     "text": [
      "  |======================================================================| 100%\n"
     ]
    },
    {
     "name": "stderr",
     "output_type": "stream",
     "text": [
      "Found 31 outliers - those will be ignored in fitting/regularization step\n",
      "\n",
      "\n",
      "Second step: Get residuals using fitted parameters for 30344 genes\n",
      "\n"
     ]
    },
    {
     "name": "stdout",
     "output_type": "stream",
     "text": [
      "  |======================================================================| 100%\n"
     ]
    },
    {
     "name": "stderr",
     "output_type": "stream",
     "text": [
      "Computing corrected count matrix for 30344 genes\n",
      "\n"
     ]
    },
    {
     "name": "stdout",
     "output_type": "stream",
     "text": [
      "  |======================================================================| 100%\n"
     ]
    },
    {
     "name": "stderr",
     "output_type": "stream",
     "text": [
      "Wall clock passed: Time difference of 1.723936 mins\n",
      "\n",
      "[2024-11-28 15:22:31.716086] MaxScaling...\n",
      "\n"
     ]
    },
    {
     "name": "stdout",
     "output_type": "stream",
     "text": [
      "[1] 30344  9948\n",
      "[1] 9948\n",
      "$level1class\n",
      "[1] GlioBl GlioBl GlioBl GlioBl GlioBl GlioBl\n",
      "Levels: ExNeu ExNeuBl ExNeuIPC GlioBl InNeu RGC\n",
      "\n"
     ]
    },
    {
     "name": "stderr",
     "output_type": "stream",
     "text": [
      "96 core(s) assigned as workers (0 reserved).\n",
      "\n",
      "Warning message in asMethod(object):\n",
      "“sparse->dense coercion: allocating vector of size 2.2 GiB”\n",
      "+ Calculating normalized mean expression.\n",
      "\n",
      "Converting to sparse matrix.\n",
      "\n",
      "+ Calculating normalized specificity.\n",
      "\n",
      "Converting to sparse matrix.\n",
      "\n",
      "Converting to sparse matrix.\n",
      "\n",
      "+ Saving results ==>  /scratch/xoel/ewce_data.v7/by_Subregion/Hippocampus/by_Age/12.0/ctd__ShortName.rda\n",
      "\n"
     ]
    },
    {
     "name": "stdout",
     "output_type": "stream",
     "text": [
      "11/29\n",
      "   Subregion Age                                                         path\n",
      "11 Forebrain 6.6 /scratch/xoel/ewce_data.v7/by_Subregion/Forebrain/by_Age/6.6\n",
      "     size\n",
      "11 621816\n"
     ]
    },
    {
     "name": "stderr",
     "output_type": "stream",
     "text": [
      "[2024-11-28 15:22:37.694873] Using name _ShortName\n",
      "\n",
      "[2024-11-28 15:22:37.69726] Loading cell metadata...\n",
      "\n",
      "[2024-11-28 15:22:37.765369] Retrieving classes...\n",
      "\n",
      "[2024-11-28 15:22:37.766816] Loading file...\n",
      "\n",
      "[2024-11-28 15:22:50.998864] Setting dimnames...\n",
      "\n",
      "[2024-11-28 15:22:51.001778] Normalizing...\n",
      "\n"
     ]
    },
    {
     "name": "stdout",
     "output_type": "stream",
     "text": [
      "[1] 59480 16514\n"
     ]
    },
    {
     "name": "stderr",
     "output_type": "stream",
     "text": [
      "Calculating cell attributes from input UMI matrix: log_umi\n",
      "\n",
      "Variance stabilizing transformation of count matrix of size 29415 by 16514\n",
      "\n",
      "Model formula is y ~ log_umi\n",
      "\n",
      "Get Negative Binomial regression parameters per gene\n",
      "\n",
      "Using 2000 genes, 16514 cells\n",
      "\n"
     ]
    },
    {
     "name": "stdout",
     "output_type": "stream",
     "text": [
      "  |                                                                      |   0%"
     ]
    },
    {
     "name": "stderr",
     "output_type": "stream",
     "text": [
      "Warning message in size + sum(size_args, na.rm = FALSE):\n",
      "“NAs produced by integer overflow”\n"
     ]
    },
    {
     "name": "stdout",
     "output_type": "stream",
     "text": [
      "  |==================                                                    |  25%"
     ]
    },
    {
     "name": "stderr",
     "output_type": "stream",
     "text": [
      "Warning message in size + sum(size_args, na.rm = FALSE):\n",
      "“NAs produced by integer overflow”\n"
     ]
    },
    {
     "name": "stdout",
     "output_type": "stream",
     "text": [
      "  |===================================                                   |  50%"
     ]
    },
    {
     "name": "stderr",
     "output_type": "stream",
     "text": [
      "Warning message in size + sum(size_args, na.rm = FALSE):\n",
      "“NAs produced by integer overflow”\n"
     ]
    },
    {
     "name": "stdout",
     "output_type": "stream",
     "text": [
      "  |====================================================                  |  75%"
     ]
    },
    {
     "name": "stderr",
     "output_type": "stream",
     "text": [
      "Warning message in size + sum(size_args, na.rm = FALSE):\n",
      "“NAs produced by integer overflow”\n"
     ]
    },
    {
     "name": "stdout",
     "output_type": "stream",
     "text": [
      "  |======================================================================| 100%\n"
     ]
    },
    {
     "name": "stderr",
     "output_type": "stream",
     "text": [
      "Found 76 outliers - those will be ignored in fitting/regularization step\n",
      "\n",
      "\n",
      "Second step: Get residuals using fitted parameters for 29415 genes\n",
      "\n"
     ]
    },
    {
     "name": "stdout",
     "output_type": "stream",
     "text": [
      "  |======================================================================| 100%\n"
     ]
    },
    {
     "name": "stderr",
     "output_type": "stream",
     "text": [
      "Computing corrected count matrix for 29415 genes\n",
      "\n"
     ]
    },
    {
     "name": "stdout",
     "output_type": "stream",
     "text": [
      "  |======================================================================| 100%\n"
     ]
    },
    {
     "name": "stderr",
     "output_type": "stream",
     "text": [
      "Wall clock passed: Time difference of 2.878552 mins\n",
      "\n",
      "[2024-11-28 15:25:44.845711] MaxScaling...\n",
      "\n"
     ]
    },
    {
     "name": "stdout",
     "output_type": "stream",
     "text": [
      "[1] 29415 16514\n",
      "[1] 16514\n",
      "$level1class\n",
      "[1] ExNeuBl ExNeuBl ExNeuBl ExNeuBl ExNeuBl ExNeuBl\n",
      "Levels: ExNeu ExNeuBl ExNeuIPC InNeu InNeuBl RGC\n",
      "\n"
     ]
    },
    {
     "name": "stderr",
     "output_type": "stream",
     "text": [
      "96 core(s) assigned as workers (0 reserved).\n",
      "\n",
      "Warning message in asMethod(object):\n",
      "“sparse->dense coercion: allocating vector of size 3.6 GiB”\n",
      "+ Calculating normalized mean expression.\n",
      "\n",
      "Converting to sparse matrix.\n",
      "\n",
      "+ Calculating normalized specificity.\n",
      "\n",
      "Converting to sparse matrix.\n",
      "\n",
      "Converting to sparse matrix.\n",
      "\n",
      "+ Saving results ==>  /scratch/xoel/ewce_data.v7/by_Subregion/Forebrain/by_Age/6.6/ctd__ShortName.rda\n",
      "\n"
     ]
    },
    {
     "name": "stdout",
     "output_type": "stream",
     "text": [
      "12/29\n",
      "   Subregion  Age                                                         path\n",
      "12  Striatum 14.0 /scratch/xoel/ewce_data.v7/by_Subregion/Striatum/by_Age/14.0\n",
      "     size\n",
      "12 639688\n"
     ]
    },
    {
     "name": "stderr",
     "output_type": "stream",
     "text": [
      "[2024-11-28 15:25:53.264112] Using name _ShortName\n",
      "\n",
      "[2024-11-28 15:25:53.26644] Loading cell metadata...\n",
      "\n",
      "[2024-11-28 15:25:53.336585] Retrieving classes...\n",
      "\n",
      "[2024-11-28 15:25:53.338036] Loading file...\n",
      "\n",
      "[2024-11-28 15:26:08.020486] Setting dimnames...\n",
      "\n",
      "[2024-11-28 15:26:08.022427] Normalizing...\n",
      "\n"
     ]
    },
    {
     "name": "stdout",
     "output_type": "stream",
     "text": [
      "[1] 59480 13123\n"
     ]
    },
    {
     "name": "stderr",
     "output_type": "stream",
     "text": [
      "Calculating cell attributes from input UMI matrix: log_umi\n",
      "\n",
      "Variance stabilizing transformation of count matrix of size 30791 by 13123\n",
      "\n",
      "Model formula is y ~ log_umi\n",
      "\n",
      "Get Negative Binomial regression parameters per gene\n",
      "\n",
      "Using 2000 genes, 13123 cells\n",
      "\n"
     ]
    },
    {
     "name": "stdout",
     "output_type": "stream",
     "text": [
      "  |                                                                      |   0%"
     ]
    },
    {
     "name": "stderr",
     "output_type": "stream",
     "text": [
      "Warning message in size + sum(size_args, na.rm = FALSE):\n",
      "“NAs produced by integer overflow”\n"
     ]
    },
    {
     "name": "stdout",
     "output_type": "stream",
     "text": [
      "  |==================                                                    |  25%"
     ]
    },
    {
     "name": "stderr",
     "output_type": "stream",
     "text": [
      "Warning message in size + sum(size_args, na.rm = FALSE):\n",
      "“NAs produced by integer overflow”\n"
     ]
    },
    {
     "name": "stdout",
     "output_type": "stream",
     "text": [
      "  |===================================                                   |  50%"
     ]
    },
    {
     "name": "stderr",
     "output_type": "stream",
     "text": [
      "Warning message in size + sum(size_args, na.rm = FALSE):\n",
      "“NAs produced by integer overflow”\n"
     ]
    },
    {
     "name": "stdout",
     "output_type": "stream",
     "text": [
      "  |====================================================                  |  75%"
     ]
    },
    {
     "name": "stderr",
     "output_type": "stream",
     "text": [
      "Warning message in size + sum(size_args, na.rm = FALSE):\n",
      "“NAs produced by integer overflow”\n"
     ]
    },
    {
     "name": "stdout",
     "output_type": "stream",
     "text": [
      "  |======================================================================| 100%\n"
     ]
    },
    {
     "name": "stderr",
     "output_type": "stream",
     "text": [
      "Found 45 outliers - those will be ignored in fitting/regularization step\n",
      "\n",
      "\n",
      "Second step: Get residuals using fitted parameters for 30791 genes\n",
      "\n"
     ]
    },
    {
     "name": "stdout",
     "output_type": "stream",
     "text": [
      "  |======================================================================| 100%\n"
     ]
    },
    {
     "name": "stderr",
     "output_type": "stream",
     "text": [
      "Computing corrected count matrix for 30791 genes\n",
      "\n"
     ]
    },
    {
     "name": "stdout",
     "output_type": "stream",
     "text": [
      "  |======================================================================| 100%\n"
     ]
    },
    {
     "name": "stderr",
     "output_type": "stream",
     "text": [
      "Wall clock passed: Time difference of 2.259472 mins\n",
      "\n",
      "[2024-11-28 15:28:24.769494] MaxScaling...\n",
      "\n"
     ]
    },
    {
     "name": "stdout",
     "output_type": "stream",
     "text": [
      "[1] 30791 13123\n",
      "[1] 13123\n",
      "$level1class\n",
      "[1] GlioBl GlioBl GlioBl GlioBl GlioBl GlioBl\n",
      "Levels: ExNeu ExNeuIPC GlioBl InNeu InNeuIPC RGC\n",
      "\n"
     ]
    },
    {
     "name": "stderr",
     "output_type": "stream",
     "text": [
      "96 core(s) assigned as workers (0 reserved).\n",
      "\n",
      "Warning message in asMethod(object):\n",
      "“sparse->dense coercion: allocating vector of size 3.0 GiB”\n",
      "+ Calculating normalized mean expression.\n",
      "\n",
      "Converting to sparse matrix.\n",
      "\n",
      "+ Calculating normalized specificity.\n",
      "\n",
      "Converting to sparse matrix.\n",
      "\n",
      "Converting to sparse matrix.\n",
      "\n",
      "+ Saving results ==>  /scratch/xoel/ewce_data.v7/by_Subregion/Striatum/by_Age/14.0/ctd__ShortName.rda\n",
      "\n"
     ]
    },
    {
     "name": "stdout",
     "output_type": "stream",
     "text": [
      "13/29\n",
      "   Subregion Age                                                      path\n",
      "13    Cortex 8.0 /scratch/xoel/ewce_data.v7/by_Subregion/Cortex/by_Age/8.0\n",
      "     size\n",
      "13 703500\n"
     ]
    },
    {
     "name": "stderr",
     "output_type": "stream",
     "text": [
      "[2024-11-28 15:28:32.685934] Using name _ShortName\n",
      "\n",
      "[2024-11-28 15:28:32.688573] Loading cell metadata...\n",
      "\n",
      "[2024-11-28 15:28:32.766549] Retrieving classes...\n",
      "\n",
      "[2024-11-28 15:28:32.768666] Loading file...\n",
      "\n",
      "[2024-11-28 15:28:49.08123] Setting dimnames...\n",
      "\n",
      "[2024-11-28 15:28:49.083616] Normalizing...\n",
      "\n"
     ]
    },
    {
     "name": "stdout",
     "output_type": "stream",
     "text": [
      "[1] 59480 18419\n"
     ]
    },
    {
     "name": "stderr",
     "output_type": "stream",
     "text": [
      "Calculating cell attributes from input UMI matrix: log_umi\n",
      "\n",
      "Variance stabilizing transformation of count matrix of size 27709 by 18419\n",
      "\n",
      "Model formula is y ~ log_umi\n",
      "\n",
      "Get Negative Binomial regression parameters per gene\n",
      "\n",
      "Using 2000 genes, 18419 cells\n",
      "\n"
     ]
    },
    {
     "name": "stdout",
     "output_type": "stream",
     "text": [
      "  |                                                                      |   0%"
     ]
    },
    {
     "name": "stderr",
     "output_type": "stream",
     "text": [
      "Warning message in size + sum(size_args, na.rm = FALSE):\n",
      "“NAs produced by integer overflow”\n"
     ]
    },
    {
     "name": "stdout",
     "output_type": "stream",
     "text": [
      "  |==================                                                    |  25%"
     ]
    },
    {
     "name": "stderr",
     "output_type": "stream",
     "text": [
      "Warning message in size + sum(size_args, na.rm = FALSE):\n",
      "“NAs produced by integer overflow”\n"
     ]
    },
    {
     "name": "stdout",
     "output_type": "stream",
     "text": [
      "  |===================================                                   |  50%"
     ]
    },
    {
     "name": "stderr",
     "output_type": "stream",
     "text": [
      "Warning message in size + sum(size_args, na.rm = FALSE):\n",
      "“NAs produced by integer overflow”\n"
     ]
    },
    {
     "name": "stdout",
     "output_type": "stream",
     "text": [
      "  |====================================================                  |  75%"
     ]
    },
    {
     "name": "stderr",
     "output_type": "stream",
     "text": [
      "Warning message in size + sum(size_args, na.rm = FALSE):\n",
      "“NAs produced by integer overflow”\n"
     ]
    },
    {
     "name": "stdout",
     "output_type": "stream",
     "text": [
      "  |======================================================================| 100%\n"
     ]
    },
    {
     "name": "stderr",
     "output_type": "stream",
     "text": [
      "Found 109 outliers - those will be ignored in fitting/regularization step\n",
      "\n",
      "\n",
      "Second step: Get residuals using fitted parameters for 27709 genes\n",
      "\n"
     ]
    },
    {
     "name": "stdout",
     "output_type": "stream",
     "text": [
      "  |======================================================================| 100%\n"
     ]
    },
    {
     "name": "stderr",
     "output_type": "stream",
     "text": [
      "Computing corrected count matrix for 27709 genes\n",
      "\n"
     ]
    },
    {
     "name": "stdout",
     "output_type": "stream",
     "text": [
      "  |======================================================================| 100%\n"
     ]
    },
    {
     "name": "stderr",
     "output_type": "stream",
     "text": [
      "Wall clock passed: Time difference of 3.028771 mins\n",
      "\n",
      "[2024-11-28 15:31:52.103866] MaxScaling...\n",
      "\n"
     ]
    },
    {
     "name": "stdout",
     "output_type": "stream",
     "text": [
      "[1] 27709 18419\n",
      "[1] 18419\n",
      "$level1class\n",
      "[1] GlioBl GlioBl GlioBl GlioBl GlioBl GlioBl\n",
      "Levels: ExNeu ExNeuBl ExNeuIPC GlioBl InNeu RGC\n",
      "\n"
     ]
    },
    {
     "name": "stderr",
     "output_type": "stream",
     "text": [
      "96 core(s) assigned as workers (0 reserved).\n",
      "\n",
      "Warning message in asMethod(object):\n",
      "“sparse->dense coercion: allocating vector of size 3.8 GiB”\n",
      "+ Calculating normalized mean expression.\n",
      "\n",
      "Converting to sparse matrix.\n",
      "\n",
      "+ Calculating normalized specificity.\n",
      "\n",
      "Converting to sparse matrix.\n",
      "\n",
      "Converting to sparse matrix.\n",
      "\n",
      "+ Saving results ==>  /scratch/xoel/ewce_data.v7/by_Subregion/Cortex/by_Age/8.0/ctd__ShortName.rda\n",
      "\n"
     ]
    },
    {
     "name": "stdout",
     "output_type": "stream",
     "text": [
      "14/29\n",
      "   Subregion Age                                                         path\n",
      "14 Subcortex 8.5 /scratch/xoel/ewce_data.v7/by_Subregion/Subcortex/by_Age/8.5\n",
      "     size\n",
      "14 825648\n"
     ]
    },
    {
     "name": "stderr",
     "output_type": "stream",
     "text": [
      "[2024-11-28 15:32:01.143846] Using name _ShortName\n",
      "\n",
      "[2024-11-28 15:32:01.146202] Loading cell metadata...\n",
      "\n",
      "[2024-11-28 15:32:01.213825] Retrieving classes...\n",
      "\n",
      "[2024-11-28 15:32:01.215237] Loading file...\n",
      "\n",
      "[2024-11-28 15:32:21.109485] Setting dimnames...\n",
      "\n",
      "[2024-11-28 15:32:21.111458] Normalizing...\n",
      "\n"
     ]
    },
    {
     "name": "stdout",
     "output_type": "stream",
     "text": [
      "[1] 59480 13916\n"
     ]
    },
    {
     "name": "stderr",
     "output_type": "stream",
     "text": [
      "Calculating cell attributes from input UMI matrix: log_umi\n",
      "\n",
      "Variance stabilizing transformation of count matrix of size 32307 by 13916\n",
      "\n",
      "Model formula is y ~ log_umi\n",
      "\n",
      "Get Negative Binomial regression parameters per gene\n",
      "\n",
      "Using 2000 genes, 13916 cells\n",
      "\n"
     ]
    },
    {
     "name": "stdout",
     "output_type": "stream",
     "text": [
      "  |                                                                      |   0%"
     ]
    },
    {
     "name": "stderr",
     "output_type": "stream",
     "text": [
      "Warning message in size + sum(size_args, na.rm = FALSE):\n",
      "“NAs produced by integer overflow”\n"
     ]
    },
    {
     "name": "stdout",
     "output_type": "stream",
     "text": [
      "  |==================                                                    |  25%"
     ]
    },
    {
     "name": "stderr",
     "output_type": "stream",
     "text": [
      "Warning message in size + sum(size_args, na.rm = FALSE):\n",
      "“NAs produced by integer overflow”\n"
     ]
    },
    {
     "name": "stdout",
     "output_type": "stream",
     "text": [
      "  |===================================                                   |  50%"
     ]
    },
    {
     "name": "stderr",
     "output_type": "stream",
     "text": [
      "Warning message in size + sum(size_args, na.rm = FALSE):\n",
      "“NAs produced by integer overflow”\n"
     ]
    },
    {
     "name": "stdout",
     "output_type": "stream",
     "text": [
      "  |====================================================                  |  75%"
     ]
    },
    {
     "name": "stderr",
     "output_type": "stream",
     "text": [
      "Warning message in size + sum(size_args, na.rm = FALSE):\n",
      "“NAs produced by integer overflow”\n"
     ]
    },
    {
     "name": "stdout",
     "output_type": "stream",
     "text": [
      "  |======================================================================| 100%\n"
     ]
    },
    {
     "name": "stderr",
     "output_type": "stream",
     "text": [
      "Found 50 outliers - those will be ignored in fitting/regularization step\n",
      "\n",
      "\n",
      "Second step: Get residuals using fitted parameters for 32307 genes\n",
      "\n"
     ]
    },
    {
     "name": "stdout",
     "output_type": "stream",
     "text": [
      "  |======================================================================| 100%\n"
     ]
    },
    {
     "name": "stderr",
     "output_type": "stream",
     "text": [
      "Computing corrected count matrix for 32307 genes\n",
      "\n"
     ]
    },
    {
     "name": "stdout",
     "output_type": "stream",
     "text": [
      "  |======================================================================| 100%\n"
     ]
    },
    {
     "name": "stderr",
     "output_type": "stream",
     "text": [
      "Wall clock passed: Time difference of 2.406043 mins\n",
      "\n",
      "[2024-11-28 15:34:46.730622] MaxScaling...\n",
      "\n"
     ]
    },
    {
     "name": "stdout",
     "output_type": "stream",
     "text": [
      "[1] 32307 13916\n",
      "[1] 13916\n",
      "$level1class\n",
      "[1] GlioBl GlioBl GlioBl GlioBl GlioBl GlioBl\n",
      "Levels: ExNeu ExNeuBl ExNeuIPC GlioBl InNeu InNeuIPC RGC\n",
      "\n"
     ]
    },
    {
     "name": "stderr",
     "output_type": "stream",
     "text": [
      "96 core(s) assigned as workers (0 reserved).\n",
      "\n",
      "Warning message in asMethod(object):\n",
      "“sparse->dense coercion: allocating vector of size 3.3 GiB”\n",
      "+ Calculating normalized mean expression.\n",
      "\n",
      "Converting to sparse matrix.\n",
      "\n",
      "+ Calculating normalized specificity.\n",
      "\n",
      "Converting to sparse matrix.\n",
      "\n",
      "Converting to sparse matrix.\n",
      "\n",
      "+ Saving results ==>  /scratch/xoel/ewce_data.v7/by_Subregion/Subcortex/by_Age/8.5/ctd__ShortName.rda\n",
      "\n"
     ]
    },
    {
     "name": "stdout",
     "output_type": "stream",
     "text": [
      "15/29\n",
      "   Subregion  Age                                                       path\n",
      "15    Cortex 14.0 /scratch/xoel/ewce_data.v7/by_Subregion/Cortex/by_Age/14.0\n",
      "     size\n",
      "15 968556\n"
     ]
    },
    {
     "name": "stderr",
     "output_type": "stream",
     "text": [
      "[2024-11-28 15:34:56.277791] Using name _ShortName\n",
      "\n",
      "[2024-11-28 15:34:56.280172] Loading cell metadata...\n",
      "\n",
      "[2024-11-28 15:34:56.35094] Retrieving classes...\n",
      "\n",
      "[2024-11-28 15:34:56.353074] Loading file...\n",
      "\n",
      "[2024-11-28 15:35:19.033172] Setting dimnames...\n",
      "\n",
      "[2024-11-28 15:35:19.035148] Normalizing...\n",
      "\n"
     ]
    },
    {
     "name": "stdout",
     "output_type": "stream",
     "text": [
      "[1] 59480 20255\n"
     ]
    },
    {
     "name": "stderr",
     "output_type": "stream",
     "text": [
      "Calculating cell attributes from input UMI matrix: log_umi\n",
      "\n",
      "Variance stabilizing transformation of count matrix of size 33045 by 20255\n",
      "\n",
      "Model formula is y ~ log_umi\n",
      "\n",
      "Get Negative Binomial regression parameters per gene\n",
      "\n",
      "Using 2000 genes, 20255 cells\n",
      "\n"
     ]
    },
    {
     "name": "stdout",
     "output_type": "stream",
     "text": [
      "  |                                                                      |   0%"
     ]
    },
    {
     "name": "stderr",
     "output_type": "stream",
     "text": [
      "Warning message in size + sum(size_args, na.rm = FALSE):\n",
      "“NAs produced by integer overflow”\n"
     ]
    },
    {
     "name": "stdout",
     "output_type": "stream",
     "text": [
      "  |==================                                                    |  25%"
     ]
    },
    {
     "name": "stderr",
     "output_type": "stream",
     "text": [
      "Warning message in size + sum(size_args, na.rm = FALSE):\n",
      "“NAs produced by integer overflow”\n"
     ]
    },
    {
     "name": "stdout",
     "output_type": "stream",
     "text": [
      "  |===================================                                   |  50%"
     ]
    },
    {
     "name": "stderr",
     "output_type": "stream",
     "text": [
      "Warning message in size + sum(size_args, na.rm = FALSE):\n",
      "“NAs produced by integer overflow”\n"
     ]
    },
    {
     "name": "stdout",
     "output_type": "stream",
     "text": [
      "  |====================================================                  |  75%"
     ]
    },
    {
     "name": "stderr",
     "output_type": "stream",
     "text": [
      "Warning message in size + sum(size_args, na.rm = FALSE):\n",
      "“NAs produced by integer overflow”\n"
     ]
    },
    {
     "name": "stdout",
     "output_type": "stream",
     "text": [
      "  |======================================================================| 100%\n"
     ]
    },
    {
     "name": "stderr",
     "output_type": "stream",
     "text": [
      "Found 65 outliers - those will be ignored in fitting/regularization step\n",
      "\n",
      "\n",
      "Second step: Get residuals using fitted parameters for 33045 genes\n",
      "\n"
     ]
    },
    {
     "name": "stdout",
     "output_type": "stream",
     "text": [
      "  |======================================================================| 100%\n"
     ]
    },
    {
     "name": "stderr",
     "output_type": "stream",
     "text": [
      "Computing corrected count matrix for 33045 genes\n",
      "\n"
     ]
    },
    {
     "name": "stdout",
     "output_type": "stream",
     "text": [
      "  |======================================================================| 100%\n"
     ]
    },
    {
     "name": "stderr",
     "output_type": "stream",
     "text": [
      "Wall clock passed: Time difference of 3.475498 mins\n",
      "\n",
      "[2024-11-28 15:38:48.811849] MaxScaling...\n",
      "\n"
     ]
    },
    {
     "name": "stdout",
     "output_type": "stream",
     "text": [
      "[1] 33045 20255\n",
      "[1] 20255\n",
      "$level1class\n",
      "[1] Eryt Eryt Eryt Eryt Eryt Eryt\n",
      "Levels: Eryt ExNeu ExNeuBl ExNeuIPC GlioBl Imm InNeu Pery RGC\n",
      "\n"
     ]
    },
    {
     "name": "stderr",
     "output_type": "stream",
     "text": [
      "96 core(s) assigned as workers (0 reserved).\n",
      "\n",
      "Warning message in asMethod(object):\n",
      "“sparse->dense coercion: allocating vector of size 5.0 GiB”\n",
      "+ Calculating normalized mean expression.\n",
      "\n",
      "Converting to sparse matrix.\n",
      "\n",
      "+ Calculating normalized specificity.\n",
      "\n",
      "Converting to sparse matrix.\n",
      "\n",
      "Converting to sparse matrix.\n",
      "\n",
      "+ Saving results ==>  /scratch/xoel/ewce_data.v7/by_Subregion/Cortex/by_Age/14.0/ctd__ShortName.rda\n",
      "\n"
     ]
    },
    {
     "name": "stdout",
     "output_type": "stream",
     "text": [
      "16/29\n",
      "   Subregion Age                                                         path\n",
      "16 Forebrain 7.5 /scratch/xoel/ewce_data.v7/by_Subregion/Forebrain/by_Age/7.5\n",
      "      size\n",
      "16 1046604\n"
     ]
    },
    {
     "name": "stderr",
     "output_type": "stream",
     "text": [
      "[2024-11-28 15:39:01.146768] Using name _ShortName\n",
      "\n",
      "[2024-11-28 15:39:01.149274] Loading cell metadata...\n",
      "\n",
      "[2024-11-28 15:39:01.242255] Retrieving classes...\n",
      "\n",
      "[2024-11-28 15:39:01.243834] Loading file...\n",
      "\n",
      "[2024-11-28 15:39:25.127088] Setting dimnames...\n",
      "\n",
      "[2024-11-28 15:39:25.13054] Normalizing...\n",
      "\n"
     ]
    },
    {
     "name": "stdout",
     "output_type": "stream",
     "text": [
      "[1] 59480 38533\n"
     ]
    },
    {
     "name": "stderr",
     "output_type": "stream",
     "text": [
      "Calculating cell attributes from input UMI matrix: log_umi\n",
      "\n",
      "Variance stabilizing transformation of count matrix of size 29817 by 38533\n",
      "\n",
      "Model formula is y ~ log_umi\n",
      "\n",
      "Get Negative Binomial regression parameters per gene\n",
      "\n",
      "Using 2000 genes, 38533 cells\n",
      "\n"
     ]
    },
    {
     "name": "stdout",
     "output_type": "stream",
     "text": [
      "  |======================================================================| 100%\n"
     ]
    },
    {
     "name": "stderr",
     "output_type": "stream",
     "text": [
      "Found 17 outliers - those will be ignored in fitting/regularization step\n",
      "\n",
      "\n",
      "Second step: Get residuals using fitted parameters for 29817 genes\n",
      "\n"
     ]
    },
    {
     "name": "stdout",
     "output_type": "stream",
     "text": [
      "  |======================================================================| 100%\n"
     ]
    },
    {
     "name": "stderr",
     "output_type": "stream",
     "text": [
      "Computing corrected count matrix for 29817 genes\n",
      "\n"
     ]
    },
    {
     "name": "stdout",
     "output_type": "stream",
     "text": [
      "  |======================================================================| 100%\n"
     ]
    },
    {
     "name": "stderr",
     "output_type": "stream",
     "text": [
      "Wall clock passed: Time difference of 6.127901 mins\n",
      "\n",
      "[2024-11-28 15:45:34.241385] MaxScaling...\n",
      "\n"
     ]
    },
    {
     "name": "stdout",
     "output_type": "stream",
     "text": [
      "[1] 29817 38533\n",
      "[1] 38533\n",
      "$level1class\n",
      "[1] GlioBl GlioBl GlioBl GlioBl GlioBl GlioBl\n",
      "Levels: ExNeu ExNeuBl ExNeuIPC GlioBl InNeu InNeuIPC RGC\n",
      "\n"
     ]
    },
    {
     "name": "stderr",
     "output_type": "stream",
     "text": [
      "96 core(s) assigned as workers (0 reserved).\n",
      "\n",
      "Warning message in asMethod(object):\n",
      "“sparse->dense coercion: allocating vector of size 8.6 GiB”\n",
      "+ Calculating normalized mean expression.\n",
      "\n",
      "Converting to sparse matrix.\n",
      "\n",
      "+ Calculating normalized specificity.\n",
      "\n",
      "Converting to sparse matrix.\n",
      "\n",
      "Converting to sparse matrix.\n",
      "\n",
      "+ Saving results ==>  /scratch/xoel/ewce_data.v7/by_Subregion/Forebrain/by_Age/7.5/ctd__ShortName.rda\n",
      "\n"
     ]
    },
    {
     "name": "stdout",
     "output_type": "stream",
     "text": [
      "17/29\n",
      "   Subregion  Age                                                          path\n",
      "17 Forebrain 10.0 /scratch/xoel/ewce_data.v7/by_Subregion/Forebrain/by_Age/10.0\n",
      "      size\n",
      "17 1079168\n"
     ]
    },
    {
     "name": "stderr",
     "output_type": "stream",
     "text": [
      "[2024-11-28 15:45:48.02532] Using name _ShortName\n",
      "\n",
      "[2024-11-28 15:45:48.027681] Loading cell metadata...\n",
      "\n",
      "[2024-11-28 15:45:48.123256] Retrieving classes...\n",
      "\n",
      "[2024-11-28 15:45:48.124788] Loading file...\n",
      "\n",
      "[2024-11-28 15:46:11.992585] Setting dimnames...\n",
      "\n",
      "[2024-11-28 15:46:11.994541] Normalizing...\n",
      "\n"
     ]
    },
    {
     "name": "stdout",
     "output_type": "stream",
     "text": [
      "[1] 59480 37180\n"
     ]
    },
    {
     "name": "stderr",
     "output_type": "stream",
     "text": [
      "Calculating cell attributes from input UMI matrix: log_umi\n",
      "\n",
      "Variance stabilizing transformation of count matrix of size 30153 by 37180\n",
      "\n",
      "Model formula is y ~ log_umi\n",
      "\n",
      "Get Negative Binomial regression parameters per gene\n",
      "\n",
      "Using 2000 genes, 37180 cells\n",
      "\n"
     ]
    },
    {
     "name": "stdout",
     "output_type": "stream",
     "text": [
      "  |======================================================================| 100%\n"
     ]
    },
    {
     "name": "stderr",
     "output_type": "stream",
     "text": [
      "Found 7 outliers - those will be ignored in fitting/regularization step\n",
      "\n",
      "\n",
      "Second step: Get residuals using fitted parameters for 30153 genes\n",
      "\n"
     ]
    },
    {
     "name": "stdout",
     "output_type": "stream",
     "text": [
      "  |======================================================================| 100%\n"
     ]
    },
    {
     "name": "stderr",
     "output_type": "stream",
     "text": [
      "Computing corrected count matrix for 30153 genes\n",
      "\n"
     ]
    },
    {
     "name": "stdout",
     "output_type": "stream",
     "text": [
      "  |======================================================================| 100%\n"
     ]
    },
    {
     "name": "stderr",
     "output_type": "stream",
     "text": [
      "Wall clock passed: Time difference of 6.003 mins\n",
      "\n",
      "[2024-11-28 15:52:13.542571] MaxScaling...\n",
      "\n"
     ]
    },
    {
     "name": "stdout",
     "output_type": "stream",
     "text": [
      "[1] 30153 37180\n",
      "[1] 37180\n",
      "$level1class\n",
      "[1] GlioBl GlioBl GlioBl GlioBl GlioBl GlioBl\n",
      "Levels: ExNeu ExNeuBl ExNeuIPC GlioBl InNeu OPC RGC\n",
      "\n"
     ]
    },
    {
     "name": "stderr",
     "output_type": "stream",
     "text": [
      "96 core(s) assigned as workers (0 reserved).\n",
      "\n",
      "Warning message in asMethod(object):\n",
      "“sparse->dense coercion: allocating vector of size 8.4 GiB”\n",
      "+ Calculating normalized mean expression.\n",
      "\n",
      "Converting to sparse matrix.\n",
      "\n",
      "+ Calculating normalized specificity.\n",
      "\n",
      "Converting to sparse matrix.\n",
      "\n",
      "Converting to sparse matrix.\n",
      "\n",
      "+ Saving results ==>  /scratch/xoel/ewce_data.v7/by_Subregion/Forebrain/by_Age/10.0/ctd__ShortName.rda\n",
      "\n"
     ]
    },
    {
     "name": "stdout",
     "output_type": "stream",
     "text": [
      "18/29\n",
      "   Subregion Age                                                         path\n",
      "18 Forebrain 5.5 /scratch/xoel/ewce_data.v7/by_Subregion/Forebrain/by_Age/5.5\n",
      "      size\n",
      "18 1151868\n"
     ]
    },
    {
     "name": "stderr",
     "output_type": "stream",
     "text": [
      "[2024-11-28 15:52:29.518347] Using name _ShortName\n",
      "\n",
      "[2024-11-28 15:52:29.520899] Loading cell metadata...\n",
      "\n",
      "[2024-11-28 15:52:29.558993] Retrieving classes...\n",
      "\n",
      "[2024-11-28 15:52:29.560747] Loading file...\n",
      "\n",
      "[2024-11-28 15:52:58.29123] Setting dimnames...\n",
      "\n",
      "[2024-11-28 15:52:58.29478] Normalizing...\n",
      "\n"
     ]
    },
    {
     "name": "stdout",
     "output_type": "stream",
     "text": [
      "[1] 59480 17574\n"
     ]
    },
    {
     "name": "stderr",
     "output_type": "stream",
     "text": [
      "Calculating cell attributes from input UMI matrix: log_umi\n",
      "\n",
      "Variance stabilizing transformation of count matrix of size 32754 by 17574\n",
      "\n",
      "Model formula is y ~ log_umi\n",
      "\n",
      "Get Negative Binomial regression parameters per gene\n",
      "\n",
      "Using 2000 genes, 17574 cells\n",
      "\n"
     ]
    },
    {
     "name": "stdout",
     "output_type": "stream",
     "text": [
      "  |======================================================================| 100%\n"
     ]
    },
    {
     "name": "stderr",
     "output_type": "stream",
     "text": [
      "Found 89 outliers - those will be ignored in fitting/regularization step\n",
      "\n",
      "\n",
      "Second step: Get residuals using fitted parameters for 32754 genes\n",
      "\n"
     ]
    },
    {
     "name": "stdout",
     "output_type": "stream",
     "text": [
      "  |======================================================================| 100%\n"
     ]
    },
    {
     "name": "stderr",
     "output_type": "stream",
     "text": [
      "Computing corrected count matrix for 32754 genes\n",
      "\n"
     ]
    },
    {
     "name": "stdout",
     "output_type": "stream",
     "text": [
      "  |======================================================================| 100%\n"
     ]
    },
    {
     "name": "stderr",
     "output_type": "stream",
     "text": [
      "Wall clock passed: Time difference of 3.169592 mins\n",
      "\n",
      "[2024-11-28 15:56:10.053575] MaxScaling...\n",
      "\n"
     ]
    },
    {
     "name": "stdout",
     "output_type": "stream",
     "text": [
      "[1] 32754 17574\n",
      "[1] 17574\n",
      "$level1class\n",
      "[1] Eryt Eryt Eryt Eryt Eryt Eryt\n",
      "Levels: Eryt ExNeu ExNeuBl ExNeuIPC Fibr InNeu InNeuBl RGC\n",
      "\n"
     ]
    },
    {
     "name": "stderr",
     "output_type": "stream",
     "text": [
      "96 core(s) assigned as workers (0 reserved).\n",
      "\n",
      "Warning message in asMethod(object):\n",
      "“sparse->dense coercion: allocating vector of size 4.3 GiB”\n",
      "+ Calculating normalized mean expression.\n",
      "\n",
      "Converting to sparse matrix.\n",
      "\n",
      "+ Calculating normalized specificity.\n",
      "\n",
      "Converting to sparse matrix.\n",
      "\n",
      "Converting to sparse matrix.\n",
      "\n",
      "+ Saving results ==>  /scratch/xoel/ewce_data.v7/by_Subregion/Forebrain/by_Age/5.5/ctd__ShortName.rda\n",
      "\n"
     ]
    },
    {
     "name": "stdout",
     "output_type": "stream",
     "text": [
      "19/29\n",
      "   Subregion Age                                                         path\n",
      "19 Forebrain 5.0 /scratch/xoel/ewce_data.v7/by_Subregion/Forebrain/by_Age/5.0\n",
      "      size\n",
      "19 1158112\n"
     ]
    },
    {
     "name": "stderr",
     "output_type": "stream",
     "text": [
      "[2024-11-28 15:56:23.116874] Using name _ShortName\n",
      "\n",
      "[2024-11-28 15:56:23.119263] Loading cell metadata...\n",
      "\n",
      "[2024-11-28 15:56:23.193474] Retrieving classes...\n",
      "\n",
      "[2024-11-28 15:56:23.195578] Loading file...\n",
      "\n",
      "[2024-11-28 15:56:50.527529] Setting dimnames...\n",
      "\n",
      "[2024-11-28 15:56:50.530369] Normalizing...\n",
      "\n"
     ]
    },
    {
     "name": "stdout",
     "output_type": "stream",
     "text": [
      "[1] 59480 25980\n"
     ]
    },
    {
     "name": "stderr",
     "output_type": "stream",
     "text": [
      "Calculating cell attributes from input UMI matrix: log_umi\n",
      "\n",
      "Variance stabilizing transformation of count matrix of size 30697 by 25980\n",
      "\n",
      "Model formula is y ~ log_umi\n",
      "\n",
      "Get Negative Binomial regression parameters per gene\n",
      "\n",
      "Using 2000 genes, 25980 cells\n",
      "\n"
     ]
    },
    {
     "name": "stdout",
     "output_type": "stream",
     "text": [
      "  |======================================================================| 100%\n"
     ]
    },
    {
     "name": "stderr",
     "output_type": "stream",
     "text": [
      "Found 89 outliers - those will be ignored in fitting/regularization step\n",
      "\n",
      "\n",
      "Second step: Get residuals using fitted parameters for 30697 genes\n",
      "\n"
     ]
    },
    {
     "name": "stdout",
     "output_type": "stream",
     "text": [
      "  |======================================================================| 100%\n"
     ]
    },
    {
     "name": "stderr",
     "output_type": "stream",
     "text": [
      "Computing corrected count matrix for 30697 genes\n",
      "\n"
     ]
    },
    {
     "name": "stdout",
     "output_type": "stream",
     "text": [
      "  |======================================================================| 100%\n"
     ]
    },
    {
     "name": "stderr",
     "output_type": "stream",
     "text": [
      "Wall clock passed: Time difference of 4.310145 mins\n",
      "\n",
      "[2024-11-28 16:01:10.232287] MaxScaling...\n",
      "\n"
     ]
    },
    {
     "name": "stdout",
     "output_type": "stream",
     "text": [
      "[1] 30697 25980\n",
      "[1] 25980\n",
      "$level1class\n",
      "[1] ExNeuBl ExNeuBl ExNeuBl ExNeuBl ExNeuBl ExNeuBl\n",
      "Levels: ExNeu ExNeuBl ExNeuIPC InNeu InNeuBl RGC\n",
      "\n"
     ]
    },
    {
     "name": "stderr",
     "output_type": "stream",
     "text": [
      "96 core(s) assigned as workers (0 reserved).\n",
      "\n",
      "Warning message in asMethod(object):\n",
      "“sparse->dense coercion: allocating vector of size 5.9 GiB”\n",
      "+ Calculating normalized mean expression.\n",
      "\n",
      "Converting to sparse matrix.\n",
      "\n",
      "+ Calculating normalized specificity.\n",
      "\n",
      "Converting to sparse matrix.\n",
      "\n",
      "Converting to sparse matrix.\n",
      "\n",
      "+ Saving results ==>  /scratch/xoel/ewce_data.v7/by_Subregion/Forebrain/by_Age/5.0/ctd__ShortName.rda\n",
      "\n"
     ]
    },
    {
     "name": "stdout",
     "output_type": "stream",
     "text": [
      "20/29\n",
      "   Subregion  Age                                                       path\n",
      "20    Cortex 13.0 /scratch/xoel/ewce_data.v7/by_Subregion/Cortex/by_Age/13.0\n",
      "      size\n",
      "20 1171456\n"
     ]
    },
    {
     "name": "stderr",
     "output_type": "stream",
     "text": [
      "[2024-11-28 16:01:23.555709] Using name _ShortName\n",
      "\n",
      "[2024-11-28 16:01:23.558053] Loading cell metadata...\n",
      "\n",
      "[2024-11-28 16:01:23.648511] Retrieving classes...\n",
      "\n",
      "[2024-11-28 16:01:23.650715] Loading file...\n",
      "\n",
      "[2024-11-28 16:01:51.057647] Setting dimnames...\n",
      "\n",
      "[2024-11-28 16:01:51.06121] Normalizing...\n",
      "\n"
     ]
    },
    {
     "name": "stdout",
     "output_type": "stream",
     "text": [
      "[1] 59480 20734\n"
     ]
    },
    {
     "name": "stderr",
     "output_type": "stream",
     "text": [
      "Calculating cell attributes from input UMI matrix: log_umi\n",
      "\n",
      "Variance stabilizing transformation of count matrix of size 32440 by 20734\n",
      "\n",
      "Model formula is y ~ log_umi\n",
      "\n",
      "Get Negative Binomial regression parameters per gene\n",
      "\n",
      "Using 2000 genes, 20734 cells\n",
      "\n"
     ]
    },
    {
     "name": "stdout",
     "output_type": "stream",
     "text": [
      "  |======================================================================| 100%\n"
     ]
    },
    {
     "name": "stderr",
     "output_type": "stream",
     "text": [
      "Found 60 outliers - those will be ignored in fitting/regularization step\n",
      "\n",
      "\n",
      "Second step: Get residuals using fitted parameters for 32440 genes\n",
      "\n"
     ]
    },
    {
     "name": "stdout",
     "output_type": "stream",
     "text": [
      "  |======================================================================| 100%\n"
     ]
    },
    {
     "name": "stderr",
     "output_type": "stream",
     "text": [
      "Computing corrected count matrix for 32440 genes\n",
      "\n"
     ]
    },
    {
     "name": "stdout",
     "output_type": "stream",
     "text": [
      "  |======================================================================| 100%\n"
     ]
    },
    {
     "name": "stderr",
     "output_type": "stream",
     "text": [
      "Wall clock passed: Time difference of 3.569477 mins\n",
      "\n",
      "[2024-11-28 16:05:26.705348] MaxScaling...\n",
      "\n"
     ]
    },
    {
     "name": "stdout",
     "output_type": "stream",
     "text": [
      "[1] 32440 20734\n",
      "[1] 20734\n",
      "$level1class\n",
      "[1] Eryt Eryt Eryt Eryt Eryt Eryt\n",
      "Levels: Eryt ExNeu ExNeuBl ExNeuIPC GlioBl Imm InNeu OPC RGC\n",
      "\n"
     ]
    },
    {
     "name": "stderr",
     "output_type": "stream",
     "text": [
      "96 core(s) assigned as workers (0 reserved).\n",
      "\n",
      "Warning message in asMethod(object):\n",
      "“sparse->dense coercion: allocating vector of size 5.0 GiB”\n",
      "+ Calculating normalized mean expression.\n",
      "\n",
      "Converting to sparse matrix.\n",
      "\n",
      "+ Calculating normalized specificity.\n",
      "\n",
      "Converting to sparse matrix.\n",
      "\n",
      "Converting to sparse matrix.\n",
      "\n",
      "+ Saving results ==>  /scratch/xoel/ewce_data.v7/by_Subregion/Cortex/by_Age/13.0/ctd__ShortName.rda\n",
      "\n"
     ]
    },
    {
     "name": "stdout",
     "output_type": "stream",
     "text": [
      "21/29\n",
      "   Subregion  Age                                                       path\n",
      "21    Cortex 12.0 /scratch/xoel/ewce_data.v7/by_Subregion/Cortex/by_Age/12.0\n",
      "      size\n",
      "21 1264352\n"
     ]
    },
    {
     "name": "stderr",
     "output_type": "stream",
     "text": [
      "[2024-11-28 16:05:40.200557] Using name _ShortName\n",
      "\n",
      "[2024-11-28 16:05:40.202966] Loading cell metadata...\n",
      "\n",
      "[2024-11-28 16:05:40.269767] Retrieving classes...\n",
      "\n",
      "[2024-11-28 16:05:40.271204] Loading file...\n",
      "\n",
      "[2024-11-28 16:06:11.115378] Setting dimnames...\n",
      "\n",
      "[2024-11-28 16:06:11.118863] Normalizing...\n",
      "\n"
     ]
    },
    {
     "name": "stdout",
     "output_type": "stream",
     "text": [
      "[1] 59480 18434\n"
     ]
    },
    {
     "name": "stderr",
     "output_type": "stream",
     "text": [
      "Calculating cell attributes from input UMI matrix: log_umi\n",
      "\n",
      "Variance stabilizing transformation of count matrix of size 33211 by 18434\n",
      "\n",
      "Model formula is y ~ log_umi\n",
      "\n",
      "Get Negative Binomial regression parameters per gene\n",
      "\n",
      "Using 2000 genes, 18434 cells\n",
      "\n"
     ]
    },
    {
     "name": "stdout",
     "output_type": "stream",
     "text": [
      "  |======================================================================| 100%\n"
     ]
    },
    {
     "name": "stderr",
     "output_type": "stream",
     "text": [
      "Found 45 outliers - those will be ignored in fitting/regularization step\n",
      "\n",
      "\n",
      "Second step: Get residuals using fitted parameters for 33211 genes\n",
      "\n"
     ]
    },
    {
     "name": "stdout",
     "output_type": "stream",
     "text": [
      "  |======================================================================| 100%\n"
     ]
    },
    {
     "name": "stderr",
     "output_type": "stream",
     "text": [
      "Computing corrected count matrix for 33211 genes\n",
      "\n"
     ]
    },
    {
     "name": "stdout",
     "output_type": "stream",
     "text": [
      "  |======================================================================| 100%\n"
     ]
    },
    {
     "name": "stderr",
     "output_type": "stream",
     "text": [
      "Wall clock passed: Time difference of 3.337141 mins\n",
      "\n",
      "[2024-11-28 16:09:32.852985] MaxScaling...\n",
      "\n"
     ]
    },
    {
     "name": "stdout",
     "output_type": "stream",
     "text": [
      "[1] 33211 18434\n",
      "[1] 18434\n",
      "$level1class\n",
      "[1] Eryt Eryt Eryt Eryt Eryt Eryt\n",
      "Levels: Eryt ExNeu ExNeuBl ExNeuIPC GlioBl InNeu Pery RGC\n",
      "\n"
     ]
    },
    {
     "name": "stderr",
     "output_type": "stream",
     "text": [
      "96 core(s) assigned as workers (0 reserved).\n",
      "\n",
      "Warning message in asMethod(object):\n",
      "“sparse->dense coercion: allocating vector of size 4.6 GiB”\n",
      "+ Calculating normalized mean expression.\n",
      "\n",
      "Converting to sparse matrix.\n",
      "\n",
      "+ Calculating normalized specificity.\n",
      "\n",
      "Converting to sparse matrix.\n",
      "\n",
      "Converting to sparse matrix.\n",
      "\n",
      "+ Saving results ==>  /scratch/xoel/ewce_data.v7/by_Subregion/Cortex/by_Age/12.0/ctd__ShortName.rda\n",
      "\n"
     ]
    },
    {
     "name": "stdout",
     "output_type": "stream",
     "text": [
      "22/29\n",
      "   Subregion  Age                                                          path\n",
      "22 Subcortex 12.0 /scratch/xoel/ewce_data.v7/by_Subregion/Subcortex/by_Age/12.0\n",
      "      size\n",
      "22 1348348\n"
     ]
    },
    {
     "name": "stderr",
     "output_type": "stream",
     "text": [
      "[2024-11-28 16:09:46.820424] Using name _ShortName\n",
      "\n",
      "[2024-11-28 16:09:46.822908] Loading cell metadata...\n",
      "\n",
      "[2024-11-28 16:09:46.910348] Retrieving classes...\n",
      "\n",
      "[2024-11-28 16:09:46.911812] Loading file...\n",
      "\n",
      "[2024-11-28 16:10:18.895221] Setting dimnames...\n",
      "\n",
      "[2024-11-28 16:10:18.897175] Normalizing...\n",
      "\n"
     ]
    },
    {
     "name": "stdout",
     "output_type": "stream",
     "text": [
      "[1] 59480 28217\n"
     ]
    },
    {
     "name": "stderr",
     "output_type": "stream",
     "text": [
      "Calculating cell attributes from input UMI matrix: log_umi\n",
      "\n",
      "Variance stabilizing transformation of count matrix of size 34076 by 28217\n",
      "\n",
      "Model formula is y ~ log_umi\n",
      "\n",
      "Get Negative Binomial regression parameters per gene\n",
      "\n",
      "Using 2000 genes, 28217 cells\n",
      "\n"
     ]
    },
    {
     "name": "stdout",
     "output_type": "stream",
     "text": [
      "  |======================================================================| 100%\n"
     ]
    },
    {
     "name": "stderr",
     "output_type": "stream",
     "text": [
      "Found 107 outliers - those will be ignored in fitting/regularization step\n",
      "\n",
      "\n",
      "Second step: Get residuals using fitted parameters for 34076 genes\n",
      "\n"
     ]
    },
    {
     "name": "stdout",
     "output_type": "stream",
     "text": [
      "  |======================================================================| 100%\n"
     ]
    },
    {
     "name": "stderr",
     "output_type": "stream",
     "text": [
      "Computing corrected count matrix for 34076 genes\n",
      "\n"
     ]
    },
    {
     "name": "stdout",
     "output_type": "stream",
     "text": [
      "  |======================================================================| 100%\n"
     ]
    },
    {
     "name": "stderr",
     "output_type": "stream",
     "text": [
      "Wall clock passed: Time difference of 4.906711 mins\n",
      "\n",
      "[2024-11-28 16:15:14.644751] MaxScaling...\n",
      "\n"
     ]
    },
    {
     "name": "stdout",
     "output_type": "stream",
     "text": [
      "[1] 34076 28217\n",
      "[1] 28217\n",
      "$level1class\n",
      "[1] Eryt Eryt Eryt Eryt Eryt Eryt\n",
      "12 Levels: Endo Eryt ExNeu ExNeuBl ExNeuIPC GlioBl Imm InNeu InNeuIPC ... RGC\n",
      "\n"
     ]
    },
    {
     "name": "stderr",
     "output_type": "stream",
     "text": [
      "96 core(s) assigned as workers (0 reserved).\n",
      "\n",
      "Warning message in asMethod(object):\n",
      "“sparse->dense coercion: allocating vector of size 7.2 GiB”\n",
      "+ Calculating normalized mean expression.\n",
      "\n",
      "Converting to sparse matrix.\n",
      "\n",
      "+ Calculating normalized specificity.\n",
      "\n",
      "Converting to sparse matrix.\n",
      "\n",
      "Converting to sparse matrix.\n",
      "\n",
      "+ Saving results ==>  /scratch/xoel/ewce_data.v7/by_Subregion/Subcortex/by_Age/12.0/ctd__ShortName.rda\n",
      "\n"
     ]
    },
    {
     "name": "stdout",
     "output_type": "stream",
     "text": [
      "23/29\n",
      "   Subregion  Age                                                          path\n",
      "23 Subcortex 11.5 /scratch/xoel/ewce_data.v7/by_Subregion/Subcortex/by_Age/11.5\n",
      "      size\n",
      "23 1479148\n"
     ]
    },
    {
     "name": "stderr",
     "output_type": "stream",
     "text": [
      "[2024-11-28 16:15:30.647633] Using name _ShortName\n",
      "\n",
      "[2024-11-28 16:15:30.650097] Loading cell metadata...\n",
      "\n",
      "[2024-11-28 16:15:30.737191] Retrieving classes...\n",
      "\n",
      "[2024-11-28 16:15:30.739312] Loading file...\n",
      "\n",
      "[2024-11-28 16:16:06.982768] Setting dimnames...\n",
      "\n",
      "[2024-11-28 16:16:06.986171] Normalizing...\n",
      "\n"
     ]
    },
    {
     "name": "stdout",
     "output_type": "stream",
     "text": [
      "[1] 59480 25699\n"
     ]
    },
    {
     "name": "stderr",
     "output_type": "stream",
     "text": [
      "Calculating cell attributes from input UMI matrix: log_umi\n",
      "\n",
      "Variance stabilizing transformation of count matrix of size 33934 by 25699\n",
      "\n",
      "Model formula is y ~ log_umi\n",
      "\n",
      "Get Negative Binomial regression parameters per gene\n",
      "\n",
      "Using 2000 genes, 25699 cells\n",
      "\n"
     ]
    },
    {
     "name": "stdout",
     "output_type": "stream",
     "text": [
      "  |======================================================================| 100%\n"
     ]
    },
    {
     "name": "stderr",
     "output_type": "stream",
     "text": [
      "Found 93 outliers - those will be ignored in fitting/regularization step\n",
      "\n",
      "\n",
      "Second step: Get residuals using fitted parameters for 33934 genes\n",
      "\n"
     ]
    },
    {
     "name": "stdout",
     "output_type": "stream",
     "text": [
      "  |======================================================================| 100%\n"
     ]
    },
    {
     "name": "stderr",
     "output_type": "stream",
     "text": [
      "Computing corrected count matrix for 33934 genes\n",
      "\n"
     ]
    },
    {
     "name": "stdout",
     "output_type": "stream",
     "text": [
      "  |======================================================================| 100%\n"
     ]
    },
    {
     "name": "stderr",
     "output_type": "stream",
     "text": [
      "Wall clock passed: Time difference of 4.395787 mins\n",
      "\n",
      "[2024-11-28 16:20:32.336175] MaxScaling...\n",
      "\n"
     ]
    },
    {
     "name": "stdout",
     "output_type": "stream",
     "text": [
      "[1] 33934 25699\n",
      "[1] 25699\n",
      "$level1class\n",
      "[1] Eryt Eryt Eryt Eryt Eryt Eryt\n",
      "12 Levels: Endo Eryt ExNeu ExNeuBl ExNeuIPC GlioBl Imm InNeu InNeuIPC ... RGC\n",
      "\n"
     ]
    },
    {
     "name": "stderr",
     "output_type": "stream",
     "text": [
      "96 core(s) assigned as workers (0 reserved).\n",
      "\n",
      "Warning message in asMethod(object):\n",
      "“sparse->dense coercion: allocating vector of size 6.5 GiB”\n",
      "+ Calculating normalized mean expression.\n",
      "\n",
      "Converting to sparse matrix.\n",
      "\n",
      "+ Calculating normalized specificity.\n",
      "\n",
      "Converting to sparse matrix.\n",
      "\n",
      "Converting to sparse matrix.\n",
      "\n",
      "+ Saving results ==>  /scratch/xoel/ewce_data.v7/by_Subregion/Subcortex/by_Age/11.5/ctd__ShortName.rda\n",
      "\n"
     ]
    },
    {
     "name": "stdout",
     "output_type": "stream",
     "text": [
      "24/29\n",
      "   Subregion Age                                                         path\n",
      "24 Forebrain 8.5 /scratch/xoel/ewce_data.v7/by_Subregion/Forebrain/by_Age/8.5\n",
      "      size\n",
      "24 1620388\n"
     ]
    },
    {
     "name": "stderr",
     "output_type": "stream",
     "text": [
      "[2024-11-28 16:20:46.648052] Using name _ShortName\n",
      "\n",
      "[2024-11-28 16:20:46.650528] Loading cell metadata...\n",
      "\n",
      "[2024-11-28 16:20:46.756599] Retrieving classes...\n",
      "\n",
      "[2024-11-28 16:20:46.759017] Loading file...\n",
      "\n",
      "[2024-11-28 16:21:23.506892] Setting dimnames...\n",
      "\n",
      "[2024-11-28 16:21:23.510293] Normalizing...\n",
      "\n"
     ]
    },
    {
     "name": "stdout",
     "output_type": "stream",
     "text": [
      "[1] 59480 50305\n"
     ]
    },
    {
     "name": "stderr",
     "output_type": "stream",
     "text": [
      "Calculating cell attributes from input UMI matrix: log_umi\n",
      "\n",
      "Variance stabilizing transformation of count matrix of size 31056 by 50305\n",
      "\n",
      "Model formula is y ~ log_umi\n",
      "\n",
      "Get Negative Binomial regression parameters per gene\n",
      "\n",
      "Using 2000 genes, 50305 cells\n",
      "\n"
     ]
    },
    {
     "name": "stdout",
     "output_type": "stream",
     "text": [
      "  |======================================================================| 100%\n"
     ]
    },
    {
     "name": "stderr",
     "output_type": "stream",
     "text": [
      "Found 30 outliers - those will be ignored in fitting/regularization step\n",
      "\n",
      "\n",
      "Second step: Get residuals using fitted parameters for 31056 genes\n",
      "\n"
     ]
    },
    {
     "name": "stdout",
     "output_type": "stream",
     "text": [
      "  |======================================================================| 100%\n"
     ]
    },
    {
     "name": "stderr",
     "output_type": "stream",
     "text": [
      "Computing corrected count matrix for 31056 genes\n",
      "\n"
     ]
    },
    {
     "name": "stdout",
     "output_type": "stream",
     "text": [
      "  |======================================================================| 100%\n"
     ]
    },
    {
     "name": "stderr",
     "output_type": "stream",
     "text": [
      "Wall clock passed: Time difference of 7.977418 mins\n",
      "\n",
      "[2024-11-28 16:29:23.423696] MaxScaling...\n",
      "\n"
     ]
    },
    {
     "name": "stdout",
     "output_type": "stream",
     "text": [
      "[1] 31056 50305\n",
      "[1] 50305\n",
      "$level1class\n",
      "[1] Eryt Eryt Eryt Eryt Eryt Eryt\n",
      "12 Levels: Eryt ExNeu ExNeuBl ExNeuIPC Fibr GlioBl Imm InNeu ... RGC\n",
      "\n"
     ]
    },
    {
     "name": "stderr",
     "output_type": "stream",
     "text": [
      "96 core(s) assigned as workers (0 reserved).\n",
      "\n",
      "Warning message in asMethod(object):\n",
      "“sparse->dense coercion: allocating vector of size 11.6 GiB”\n",
      "+ Calculating normalized mean expression.\n",
      "\n",
      "Converting to sparse matrix.\n",
      "\n",
      "+ Calculating normalized specificity.\n",
      "\n",
      "Converting to sparse matrix.\n",
      "\n",
      "Converting to sparse matrix.\n",
      "\n",
      "+ Saving results ==>  /scratch/xoel/ewce_data.v7/by_Subregion/Forebrain/by_Age/8.5/ctd__ShortName.rda\n",
      "\n"
     ]
    },
    {
     "name": "stdout",
     "output_type": "stream",
     "text": [
      "25/29\n",
      "   Subregion  Age                                                       path\n",
      "25    Cortex 10.0 /scratch/xoel/ewce_data.v7/by_Subregion/Cortex/by_Age/10.0\n",
      "      size\n",
      "25 1775284\n"
     ]
    },
    {
     "name": "stderr",
     "output_type": "stream",
     "text": [
      "[2024-11-28 16:29:43.498703] Using name _ShortName\n",
      "\n",
      "[2024-11-28 16:29:43.501509] Loading cell metadata...\n",
      "\n",
      "[2024-11-28 16:29:43.626671] Retrieving classes...\n",
      "\n",
      "[2024-11-28 16:29:43.62947] Loading file...\n",
      "\n",
      "[2024-11-28 16:30:25.618175] Setting dimnames...\n",
      "\n",
      "[2024-11-28 16:30:25.620485] Normalizing...\n",
      "\n"
     ]
    },
    {
     "name": "stdout",
     "output_type": "stream",
     "text": [
      "[1] 59480 51210\n"
     ]
    },
    {
     "name": "stderr",
     "output_type": "stream",
     "text": [
      "Calculating cell attributes from input UMI matrix: log_umi\n",
      "\n",
      "Variance stabilizing transformation of count matrix of size 31140 by 51210\n",
      "\n",
      "Model formula is y ~ log_umi\n",
      "\n",
      "Get Negative Binomial regression parameters per gene\n",
      "\n",
      "Using 2000 genes, 51210 cells\n",
      "\n"
     ]
    },
    {
     "name": "stdout",
     "output_type": "stream",
     "text": [
      "  |======================================================================| 100%\n"
     ]
    },
    {
     "name": "stderr",
     "output_type": "stream",
     "text": [
      "Found 12 outliers - those will be ignored in fitting/regularization step\n",
      "\n",
      "\n",
      "Second step: Get residuals using fitted parameters for 31140 genes\n",
      "\n"
     ]
    },
    {
     "name": "stdout",
     "output_type": "stream",
     "text": [
      "  |======================================================================| 100%\n"
     ]
    },
    {
     "name": "stderr",
     "output_type": "stream",
     "text": [
      "Computing corrected count matrix for 31140 genes\n",
      "\n"
     ]
    },
    {
     "name": "stdout",
     "output_type": "stream",
     "text": [
      "  |======================================================================| 100%\n"
     ]
    },
    {
     "name": "stderr",
     "output_type": "stream",
     "text": [
      "Wall clock passed: Time difference of 8.073132 mins\n",
      "\n",
      "[2024-11-28 16:38:31.631256] MaxScaling...\n",
      "\n"
     ]
    },
    {
     "name": "stdout",
     "output_type": "stream",
     "text": [
      "[1] 31140 51210\n",
      "[1] 51210\n",
      "$level1class\n",
      "[1] GlioBl GlioBl GlioBl GlioBl GlioBl GlioBl\n",
      "Levels: ExNeu ExNeuBl ExNeuIPC GlioBl Imm InNeu RGC\n",
      "\n"
     ]
    },
    {
     "name": "stderr",
     "output_type": "stream",
     "text": [
      "96 core(s) assigned as workers (0 reserved).\n",
      "\n",
      "Warning message in asMethod(object):\n",
      "“sparse->dense coercion: allocating vector of size 11.9 GiB”\n",
      "+ Calculating normalized mean expression.\n",
      "\n",
      "Converting to sparse matrix.\n",
      "\n",
      "+ Calculating normalized specificity.\n",
      "\n",
      "Converting to sparse matrix.\n",
      "\n",
      "Converting to sparse matrix.\n",
      "\n",
      "+ Saving results ==>  /scratch/xoel/ewce_data.v7/by_Subregion/Cortex/by_Age/10.0/ctd__ShortName.rda\n",
      "\n"
     ]
    },
    {
     "name": "stdout",
     "output_type": "stream",
     "text": [
      "26/29\n",
      "   Subregion Age                                                      path\n",
      "26    Cortex 6.9 /scratch/xoel/ewce_data.v7/by_Subregion/Cortex/by_Age/6.9\n",
      "      size\n",
      "26 1815616\n"
     ]
    },
    {
     "name": "stderr",
     "output_type": "stream",
     "text": [
      "[2024-11-28 16:38:52.924105] Using name _ShortName\n",
      "\n",
      "[2024-11-28 16:38:52.926831] Loading cell metadata...\n",
      "\n",
      "[2024-11-28 16:38:53.010751] Retrieving classes...\n",
      "\n",
      "[2024-11-28 16:38:53.013801] Loading file...\n",
      "\n",
      "[2024-11-28 16:39:36.035235] Setting dimnames...\n",
      "\n",
      "[2024-11-28 16:39:36.037385] Normalizing...\n",
      "\n"
     ]
    },
    {
     "name": "stdout",
     "output_type": "stream",
     "text": [
      "[1] 59480 35533\n"
     ]
    },
    {
     "name": "stderr",
     "output_type": "stream",
     "text": [
      "Calculating cell attributes from input UMI matrix: log_umi\n",
      "\n",
      "Variance stabilizing transformation of count matrix of size 33667 by 35533\n",
      "\n",
      "Model formula is y ~ log_umi\n",
      "\n",
      "Get Negative Binomial regression parameters per gene\n",
      "\n",
      "Using 2000 genes, 35533 cells\n",
      "\n"
     ]
    },
    {
     "name": "stdout",
     "output_type": "stream",
     "text": [
      "  |======================================================================| 100%\n"
     ]
    },
    {
     "name": "stderr",
     "output_type": "stream",
     "text": [
      "Found 30 outliers - those will be ignored in fitting/regularization step\n",
      "\n",
      "\n",
      "Second step: Get residuals using fitted parameters for 33667 genes\n",
      "\n"
     ]
    },
    {
     "name": "stdout",
     "output_type": "stream",
     "text": [
      "  |======================================================================| 100%\n"
     ]
    },
    {
     "name": "stderr",
     "output_type": "stream",
     "text": [
      "Computing corrected count matrix for 33667 genes\n",
      "\n"
     ]
    },
    {
     "name": "stdout",
     "output_type": "stream",
     "text": [
      "  |======================================================================| 100%\n"
     ]
    },
    {
     "name": "stderr",
     "output_type": "stream",
     "text": [
      "Wall clock passed: Time difference of 6.041704 mins\n",
      "\n",
      "[2024-11-28 16:45:40.277829] MaxScaling...\n",
      "\n"
     ]
    },
    {
     "name": "stdout",
     "output_type": "stream",
     "text": [
      "[1] 33667 35533\n",
      "[1] 35533\n",
      "$level1class\n",
      "[1] GlioBl GlioBl GlioBl GlioBl GlioBl GlioBl\n",
      "Levels: ExNeu ExNeuBl ExNeuIPC GlioBl InNeu InNeuIPC RGC\n",
      "\n"
     ]
    },
    {
     "name": "stderr",
     "output_type": "stream",
     "text": [
      "96 core(s) assigned as workers (0 reserved).\n",
      "\n",
      "Warning message in asMethod(object):\n",
      "“sparse->dense coercion: allocating vector of size 8.9 GiB”\n",
      "+ Calculating normalized mean expression.\n",
      "\n",
      "Converting to sparse matrix.\n",
      "\n",
      "+ Calculating normalized specificity.\n",
      "\n",
      "Converting to sparse matrix.\n",
      "\n",
      "Converting to sparse matrix.\n",
      "\n",
      "+ Saving results ==>  /scratch/xoel/ewce_data.v7/by_Subregion/Cortex/by_Age/6.9/ctd__ShortName.rda\n",
      "\n"
     ]
    },
    {
     "name": "stdout",
     "output_type": "stream",
     "text": [
      "27/29\n",
      "   Subregion Age                                                        path\n",
      "27  Striatum 6.9 /scratch/xoel/ewce_data.v7/by_Subregion/Striatum/by_Age/6.9\n",
      "      size\n",
      "27 2921816\n"
     ]
    },
    {
     "name": "stderr",
     "output_type": "stream",
     "text": [
      "[2024-11-28 16:45:58.944648] Using name _ShortName\n",
      "\n",
      "[2024-11-28 16:45:58.947123] Loading cell metadata...\n",
      "\n",
      "[2024-11-28 16:45:59.092379] Retrieving classes...\n",
      "\n",
      "[2024-11-28 16:45:59.094519] Loading file...\n",
      "\n",
      "[2024-11-28 16:47:08.12964] Setting dimnames...\n",
      "\n",
      "[2024-11-28 16:47:08.133054] Normalizing...\n",
      "\n"
     ]
    },
    {
     "name": "stdout",
     "output_type": "stream",
     "text": [
      "[1] 59480 94494\n"
     ]
    },
    {
     "name": "stderr",
     "output_type": "stream",
     "text": [
      "Calculating cell attributes from input UMI matrix: log_umi\n",
      "\n",
      "Variance stabilizing transformation of count matrix of size 35146 by 94494\n",
      "\n",
      "Model formula is y ~ log_umi\n",
      "\n",
      "Get Negative Binomial regression parameters per gene\n",
      "\n",
      "Using 2000 genes, 94494 cells\n",
      "\n"
     ]
    },
    {
     "name": "stdout",
     "output_type": "stream",
     "text": [
      "  |======================================================================| 100%\n"
     ]
    },
    {
     "name": "stderr",
     "output_type": "stream",
     "text": [
      "Found 12 outliers - those will be ignored in fitting/regularization step\n",
      "\n",
      "\n",
      "Second step: Get residuals using fitted parameters for 35146 genes\n",
      "\n"
     ]
    },
    {
     "name": "stdout",
     "output_type": "stream",
     "text": [
      "  |======================================================================| 100%\n"
     ]
    },
    {
     "name": "stderr",
     "output_type": "stream",
     "text": [
      "Computing corrected count matrix for 35146 genes\n",
      "\n"
     ]
    },
    {
     "name": "stdout",
     "output_type": "stream",
     "text": [
      "  |======================================================================| 100%\n"
     ]
    },
    {
     "name": "stderr",
     "output_type": "stream",
     "text": [
      "Wall clock passed: Time difference of 16.05395 mins\n",
      "\n",
      "[2024-11-28 17:03:13.18418] MaxScaling...\n",
      "\n"
     ]
    },
    {
     "name": "stdout",
     "output_type": "stream",
     "text": [
      "[1] 35146 94494\n",
      "[1] 94494\n",
      "$level1class\n",
      "[1] Eryt Eryt Eryt Eryt Eryt Eryt\n",
      "Levels: Eryt ExNeu ExNeuBl ExNeuIPC GlioBl Imm InNeu InNeuIPC Pery RGC\n",
      "\n"
     ]
    },
    {
     "name": "stderr",
     "output_type": "stream",
     "text": [
      "96 core(s) assigned as workers (0 reserved).\n",
      "\n",
      "Warning message in asMethod(object):\n",
      "“sparse->dense coercion: allocating vector of size 24.7 GiB”\n",
      "+ Calculating normalized mean expression.\n",
      "\n",
      "Converting to sparse matrix.\n",
      "\n",
      "+ Calculating normalized specificity.\n",
      "\n",
      "Converting to sparse matrix.\n",
      "\n",
      "Converting to sparse matrix.\n",
      "\n",
      "+ Saving results ==>  /scratch/xoel/ewce_data.v7/by_Subregion/Striatum/by_Age/6.9/ctd__ShortName.rda\n",
      "\n"
     ]
    },
    {
     "name": "stdout",
     "output_type": "stream",
     "text": [
      "28/29\n",
      "   Subregion  Age                                                       path\n",
      "28    Cortex 11.5 /scratch/xoel/ewce_data.v7/by_Subregion/Cortex/by_Age/11.5\n",
      "      size\n",
      "28 3100592\n"
     ]
    },
    {
     "name": "stderr",
     "output_type": "stream",
     "text": [
      "[2024-11-28 17:03:52.94269] Using name _ShortName\n",
      "\n",
      "[2024-11-28 17:03:52.945504] Loading cell metadata...\n",
      "\n",
      "[2024-11-28 17:03:53.042579] Retrieving classes...\n",
      "\n",
      "[2024-11-28 17:03:53.04628] Loading file...\n",
      "\n",
      "[2024-11-28 17:05:07.457139] Setting dimnames...\n",
      "\n",
      "[2024-11-28 17:05:07.45927] Normalizing...\n",
      "\n"
     ]
    },
    {
     "name": "stdout",
     "output_type": "stream",
     "text": [
      "[1] 59480 46275\n"
     ]
    },
    {
     "name": "stderr",
     "output_type": "stream",
     "text": [
      "Calculating cell attributes from input UMI matrix: log_umi\n",
      "\n",
      "Variance stabilizing transformation of count matrix of size 35440 by 46275\n",
      "\n",
      "Model formula is y ~ log_umi\n",
      "\n",
      "Get Negative Binomial regression parameters per gene\n",
      "\n",
      "Using 2000 genes, 46275 cells\n",
      "\n"
     ]
    },
    {
     "name": "stdout",
     "output_type": "stream",
     "text": [
      "  |======================================================================| 100%\n"
     ]
    },
    {
     "name": "stderr",
     "output_type": "stream",
     "text": [
      "Found 15 outliers - those will be ignored in fitting/regularization step\n",
      "\n",
      "\n",
      "Second step: Get residuals using fitted parameters for 35440 genes\n",
      "\n"
     ]
    },
    {
     "name": "stdout",
     "output_type": "stream",
     "text": [
      "  |======================================================================| 100%\n"
     ]
    },
    {
     "name": "stderr",
     "output_type": "stream",
     "text": [
      "Computing corrected count matrix for 35440 genes\n",
      "\n"
     ]
    },
    {
     "name": "stdout",
     "output_type": "stream",
     "text": [
      "  |======================================================================| 100%\n"
     ]
    },
    {
     "name": "stderr",
     "output_type": "stream",
     "text": [
      "Wall clock passed: Time difference of 8.097476 mins\n",
      "\n",
      "[2024-11-28 17:13:15.620568] MaxScaling...\n",
      "\n"
     ]
    },
    {
     "name": "stdout",
     "output_type": "stream",
     "text": [
      "[1] 35440 46275\n",
      "[1] 46275\n",
      "$level1class\n",
      "[1] Eryt Eryt Eryt Eryt Eryt Eryt\n",
      "12 Levels: Eryt ExNeu ExNeuBl ExNeuIPC Fibr GlioBl Imm InNeu InNeuIPC ... RGC\n",
      "\n"
     ]
    },
    {
     "name": "stderr",
     "output_type": "stream",
     "text": [
      "96 core(s) assigned as workers (0 reserved).\n",
      "\n",
      "Warning message in asMethod(object):\n",
      "“sparse->dense coercion: allocating vector of size 12.2 GiB”\n",
      "+ Calculating normalized mean expression.\n",
      "\n",
      "Converting to sparse matrix.\n",
      "\n",
      "+ Calculating normalized specificity.\n",
      "\n",
      "Converting to sparse matrix.\n",
      "\n",
      "Converting to sparse matrix.\n",
      "\n",
      "+ Saving results ==>  /scratch/xoel/ewce_data.v7/by_Subregion/Cortex/by_Age/11.5/ctd__ShortName.rda\n",
      "\n"
     ]
    },
    {
     "name": "stdout",
     "output_type": "stream",
     "text": [
      "29/29\n",
      "   Subregion Age                                                     path\n",
      "29     Brain 6.0 /scratch/xoel/ewce_data.v7/by_Subregion/Brain/by_Age/6.0\n",
      "      size\n",
      "29 5814324\n"
     ]
    },
    {
     "name": "stderr",
     "output_type": "stream",
     "text": [
      "[2024-11-28 17:13:41.926394] Using name _ShortName\n",
      "\n",
      "[2024-11-28 17:13:41.928809] Loading cell metadata...\n",
      "\n",
      "[2024-11-28 17:13:42.049043] Retrieving classes...\n",
      "\n",
      "[2024-11-28 17:13:42.052426] Loading file...\n",
      "\n",
      "[2024-11-28 17:15:51.683852] Setting dimnames...\n",
      "\n",
      "[2024-11-28 17:15:51.686577] Normalizing...\n",
      "\n"
     ]
    },
    {
     "name": "stdout",
     "output_type": "stream",
     "text": [
      "[1] 59480 85160\n"
     ]
    },
    {
     "name": "stderr",
     "output_type": "stream",
     "text": [
      "Calculating cell attributes from input UMI matrix: log_umi\n",
      "\n",
      "Variance stabilizing transformation of count matrix of size 37851 by 85160\n",
      "\n",
      "Model formula is y ~ log_umi\n",
      "\n",
      "Get Negative Binomial regression parameters per gene\n",
      "\n",
      "Using 2000 genes, 85160 cells\n",
      "\n"
     ]
    },
    {
     "name": "stdout",
     "output_type": "stream",
     "text": [
      "  |======================================================================| 100%\n"
     ]
    },
    {
     "name": "stderr",
     "output_type": "stream",
     "text": [
      "Found 13 outliers - those will be ignored in fitting/regularization step\n",
      "\n",
      "\n",
      "Second step: Get residuals using fitted parameters for 37851 genes\n",
      "\n"
     ]
    },
    {
     "name": "stdout",
     "output_type": "stream",
     "text": [
      "  |======================================================================| 100%\n"
     ]
    },
    {
     "name": "stderr",
     "output_type": "stream",
     "text": [
      "Computing corrected count matrix for 37851 genes\n",
      "\n"
     ]
    },
    {
     "name": "stdout",
     "output_type": "stream",
     "text": [
      "  |======================================================================| 100%\n"
     ]
    },
    {
     "name": "stderr",
     "output_type": "stream",
     "text": [
      "Wall clock passed: Time difference of 13.96203 mins\n",
      "\n",
      "[2024-11-28 17:29:50.57417] MaxScaling...\n",
      "\n"
     ]
    },
    {
     "name": "stdout",
     "output_type": "stream",
     "text": [
      "[1] 37851 85160\n",
      "[1] 85160\n",
      "$level1class\n",
      "[1] Imm Imm Imm Imm Imm Imm\n",
      "Levels: ExNeu ExNeuBl ExNeuIPC Imm InNeu InNeuBl InNeuIPC Pery RGC\n",
      "\n"
     ]
    },
    {
     "name": "stderr",
     "output_type": "stream",
     "text": [
      "96 core(s) assigned as workers (0 reserved).\n",
      "\n",
      "Warning message in asMethod(object):\n",
      "“sparse->dense coercion: allocating vector of size 24.0 GiB”\n",
      "+ Calculating normalized mean expression.\n",
      "\n",
      "Converting to sparse matrix.\n",
      "\n",
      "+ Calculating normalized specificity.\n",
      "\n",
      "Converting to sparse matrix.\n",
      "\n",
      "Converting to sparse matrix.\n",
      "\n",
      "+ Saving results ==>  /scratch/xoel/ewce_data.v7/by_Subregion/Brain/by_Age/6.0/ctd__ShortName.rda\n",
      "\n"
     ]
    }
   ],
   "source": [
    "for (row in 1:nrow(folders)){\n",
    "    path <- folders[row, 'path']\n",
    "    print(glue('{row}/{nrow(folders)}'))\n",
    "    print(folders[row,])\n",
    "    \n",
    "    cellmeta_path <- paste0(path, '/cell_meta.csv')\n",
    "    expression_path <- paste0(path, '/Expression.sparseMatrix.mtx')\n",
    "\n",
    "    ctd_from_exp_path(exp_path=expression_path, \n",
    "                      cellmeta_path=cellmeta_path,\n",
    "                      ctd_folder=path, \n",
    "                      overwrite = F,\n",
    "                      level1_var=level1var, level2_var=level2var, \n",
    "                      cellname_column = 'CellID', \n",
    "                      row.names = row.names, return_ctd = F,\n",
    "                      verbose = T)\n",
    "}"
   ]
  }
 ],
 "metadata": {
  "kernelspec": {
   "display_name": "EWCE (R 4.4.1) [NG]",
   "language": "R",
   "name": "ewce2024_r_ng"
  },
  "language_info": {
   "codemirror_mode": "r",
   "file_extension": ".r",
   "mimetype": "text/x-r-source",
   "name": "R",
   "pygments_lexer": "r",
   "version": "4.4.1"
  },
  "widgets": {
   "application/vnd.jupyter.widget-state+json": {
    "state": {},
    "version_major": 2,
    "version_minor": 0
   }
  }
 },
 "nbformat": 4,
 "nbformat_minor": 5
}
