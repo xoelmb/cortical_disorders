{
 "cells": [
  {
   "cell_type": "markdown",
   "id": "f3ce3a25-9ffd-4981-856e-5736fdf7b431",
   "metadata": {},
   "source": [
    "# Set-up"
   ]
  },
  {
   "cell_type": "code",
   "execution_count": null,
   "id": "43521e39-0a3f-4c45-b46f-a35f7d24e1b6",
   "metadata": {
    "execution": {
     "iopub.execute_input": "2024-11-29T09:41:03.266967Z",
     "iopub.status.busy": "2024-11-29T09:41:03.264752Z",
     "iopub.status.idle": "2024-11-29T09:41:03.344029Z",
     "shell.execute_reply": "2024-11-29T09:41:03.342072Z"
    },
    "vscode": {
     "languageId": "r"
    }
   },
   "outputs": [],
   "source": [
    "# Define base directory for input data\n",
    "base.data.dir <- \"/users/genomics/xoel/Review_CD/ewce_linnarson.v7/data\"\n"
   ]
  },
  {
   "cell_type": "code",
   "execution_count": 2,
   "id": "2cd87fcf-b2ad-415f-8f5d-717a9f87b6a7",
   "metadata": {
    "execution": {
     "iopub.execute_input": "2024-11-29T09:41:03.399065Z",
     "iopub.status.busy": "2024-11-29T09:41:03.346961Z",
     "iopub.status.idle": "2024-11-29T09:41:03.752815Z",
     "shell.execute_reply": "2024-11-29T09:41:03.751080Z"
    },
    "scrolled": true,
    "vscode": {
     "languageId": "r"
    }
   },
   "outputs": [
    {
     "name": "stderr",
     "output_type": "stream",
     "text": [
      "\n",
      "Attaching package: ‘dplyr’\n",
      "\n",
      "\n",
      "The following objects are masked from ‘package:stats’:\n",
      "\n",
      "    filter, lag\n",
      "\n",
      "\n",
      "The following objects are masked from ‘package:base’:\n",
      "\n",
      "    intersect, setdiff, setequal, union\n",
      "\n",
      "\n"
     ]
    }
   ],
   "source": [
    "library(dplyr)\n",
    "library(glue)"
   ]
  },
  {
   "cell_type": "code",
   "execution_count": 3,
   "id": "ad59f822-ae6a-4a2b-aa2e-687cefe9d974",
   "metadata": {
    "execution": {
     "iopub.execute_input": "2024-11-29T09:41:03.756917Z",
     "iopub.status.busy": "2024-11-29T09:41:03.755572Z",
     "iopub.status.idle": "2024-11-29T09:41:03.887568Z",
     "shell.execute_reply": "2024-11-29T09:41:03.885862Z"
    },
    "vscode": {
     "languageId": "r"
    }
   },
   "outputs": [],
   "source": [
    "rbind.fill <- plyr::rbind.fill"
   ]
  },
  {
   "cell_type": "code",
   "execution_count": null,
   "id": "e543da74-f7b9-4a8d-b973-8f4048c9f5c3",
   "metadata": {
    "execution": {
     "iopub.execute_input": "2024-11-29T09:42:47.850107Z",
     "iopub.status.busy": "2024-11-29T09:42:47.846845Z",
     "iopub.status.idle": "2024-11-29T09:42:47.867859Z",
     "shell.execute_reply": "2024-11-29T09:42:47.865963Z"
    },
    "vscode": {
     "languageId": "r"
    }
   },
   "outputs": [],
   "source": [
    "my_time <- function(t0 = NULL){\n",
    "    now <- Sys.time()\n",
    "    if(!is.null(t0)){\n",
    "        diff <- now -t0\n",
    "        message(glue('[{now}] (+{diff}s)'))\n",
    "    } else {\n",
    "        message(glue('[{now}]'))\n",
    "    }\n",
    "    return()\n",
    "}"
   ]
  },
  {
   "cell_type": "markdown",
   "id": "efd35c4b-4748-4df2-9ce4-21ce3a929f4a",
   "metadata": {
    "tags": []
   },
   "source": [
    "# **Part 1: List the CTDs to analyse**"
   ]
  },
  {
   "cell_type": "code",
   "execution_count": null,
   "id": "44284270-dbbc-44b2-a74a-4ace03b2accd",
   "metadata": {
    "execution": {
     "iopub.execute_input": "2024-11-29T09:41:03.908094Z",
     "iopub.status.busy": "2024-11-29T09:41:03.906748Z",
     "iopub.status.idle": "2024-11-29T09:41:04.215236Z",
     "shell.execute_reply": "2024-11-29T09:41:04.213687Z"
    },
    "vscode": {
     "languageId": "r"
    }
   },
   "outputs": [
    {
     "data": {
      "text/html": [
       "<style>\n",
       ".list-inline {list-style: none; margin:0; padding: 0}\n",
       ".list-inline>li {display: inline-block}\n",
       ".list-inline>li:not(:last-child)::after {content: \"\\00b7\"; padding: 0 .5ex}\n",
       "</style>\n",
       "<ol class=list-inline><li>'/users/genomics/xoel/Review_CD/ewce_linnarson.v7/data/by_Subregion//Brain/by_Age/6.0/ctd__ShortName.rda'</li><li>'/users/genomics/xoel/Review_CD/ewce_linnarson.v7/data/by_Subregion//Cortex/by_Age/10.0/ctd__ShortName.rda'</li><li>'/users/genomics/xoel/Review_CD/ewce_linnarson.v7/data/by_Subregion//Cortex/by_Age/11.5/ctd__ShortName.rda'</li><li>'/users/genomics/xoel/Review_CD/ewce_linnarson.v7/data/by_Subregion//Cortex/by_Age/12.0/ctd__ShortName.rda'</li><li>'/users/genomics/xoel/Review_CD/ewce_linnarson.v7/data/by_Subregion//Cortex/by_Age/13.0/ctd__ShortName.rda'</li><li>'/users/genomics/xoel/Review_CD/ewce_linnarson.v7/data/by_Subregion//Cortex/by_Age/14.0/ctd__ShortName.rda'</li><li>'/users/genomics/xoel/Review_CD/ewce_linnarson.v7/data/by_Subregion//Cortex/by_Age/6.9/ctd__ShortName.rda'</li><li>'/users/genomics/xoel/Review_CD/ewce_linnarson.v7/data/by_Subregion//Cortex/by_Age/8.0/ctd__ShortName.rda'</li><li>'/users/genomics/xoel/Review_CD/ewce_linnarson.v7/data/by_Subregion//Cortex/by_Age/9.2/ctd__ShortName.rda'</li><li>'/users/genomics/xoel/Review_CD/ewce_linnarson.v7/data/by_Subregion//Cortex/by_Age/9.5/ctd__ShortName.rda'</li><li>'/users/genomics/xoel/Review_CD/ewce_linnarson.v7/data/by_Subregion//Forebrain/by_Age/10.0/ctd__ShortName.rda'</li><li>'/users/genomics/xoel/Review_CD/ewce_linnarson.v7/data/by_Subregion//Forebrain/by_Age/5.0/ctd__ShortName.rda'</li><li>'/users/genomics/xoel/Review_CD/ewce_linnarson.v7/data/by_Subregion//Forebrain/by_Age/5.5/ctd__ShortName.rda'</li><li>'/users/genomics/xoel/Review_CD/ewce_linnarson.v7/data/by_Subregion//Forebrain/by_Age/6.6/ctd__ShortName.rda'</li><li>'/users/genomics/xoel/Review_CD/ewce_linnarson.v7/data/by_Subregion//Forebrain/by_Age/7.5/ctd__ShortName.rda'</li><li>'/users/genomics/xoel/Review_CD/ewce_linnarson.v7/data/by_Subregion//Forebrain/by_Age/8.5/ctd__ShortName.rda'</li><li>'/users/genomics/xoel/Review_CD/ewce_linnarson.v7/data/by_Subregion//Forebrain/by_Age/9.2/ctd__ShortName.rda'</li><li>'/users/genomics/xoel/Review_CD/ewce_linnarson.v7/data/by_Subregion//Head/by_Age/5.0/ctd__ShortName.rda'</li><li>'/users/genomics/xoel/Review_CD/ewce_linnarson.v7/data/by_Subregion//Hippocampus/by_Age/12.0/ctd__ShortName.rda'</li><li>'/users/genomics/xoel/Review_CD/ewce_linnarson.v7/data/by_Subregion//Hippocampus/by_Age/14.0/ctd__ShortName.rda'</li><li>'/users/genomics/xoel/Review_CD/ewce_linnarson.v7/data/by_Subregion//Striatum/by_Age/14.0/ctd__ShortName.rda'</li><li>'/users/genomics/xoel/Review_CD/ewce_linnarson.v7/data/by_Subregion//Striatum/by_Age/6.9/ctd__ShortName.rda'</li><li>'/users/genomics/xoel/Review_CD/ewce_linnarson.v7/data/by_Subregion//Subcortex/by_Age/11.5/ctd__ShortName.rda'</li><li>'/users/genomics/xoel/Review_CD/ewce_linnarson.v7/data/by_Subregion//Subcortex/by_Age/12.0/ctd__ShortName.rda'</li><li>'/users/genomics/xoel/Review_CD/ewce_linnarson.v7/data/by_Subregion//Subcortex/by_Age/13.0/ctd__ShortName.rda'</li><li>'/users/genomics/xoel/Review_CD/ewce_linnarson.v7/data/by_Subregion//Subcortex/by_Age/8.0/ctd__ShortName.rda'</li><li>'/users/genomics/xoel/Review_CD/ewce_linnarson.v7/data/by_Subregion//Subcortex/by_Age/8.5/ctd__ShortName.rda'</li><li>'/users/genomics/xoel/Review_CD/ewce_linnarson.v7/data/by_Subregion//Subcortex/by_Age/9.5/ctd__ShortName.rda'</li><li>'/users/genomics/xoel/Review_CD/ewce_linnarson.v7/data/by_Subregion//Telencephalon/by_Age/6.7/ctd__ShortName.rda'</li></ol>\n"
      ],
      "text/latex": [
       "\\begin{enumerate*}\n",
       "\\item '/users/genomics/xoel/Review\\_CD/ewce\\_linnarson.v7/data/by\\_Subregion//Brain/by\\_Age/6.0/ctd\\_\\_ShortName.rda'\n",
       "\\item '/users/genomics/xoel/Review\\_CD/ewce\\_linnarson.v7/data/by\\_Subregion//Cortex/by\\_Age/10.0/ctd\\_\\_ShortName.rda'\n",
       "\\item '/users/genomics/xoel/Review\\_CD/ewce\\_linnarson.v7/data/by\\_Subregion//Cortex/by\\_Age/11.5/ctd\\_\\_ShortName.rda'\n",
       "\\item '/users/genomics/xoel/Review\\_CD/ewce\\_linnarson.v7/data/by\\_Subregion//Cortex/by\\_Age/12.0/ctd\\_\\_ShortName.rda'\n",
       "\\item '/users/genomics/xoel/Review\\_CD/ewce\\_linnarson.v7/data/by\\_Subregion//Cortex/by\\_Age/13.0/ctd\\_\\_ShortName.rda'\n",
       "\\item '/users/genomics/xoel/Review\\_CD/ewce\\_linnarson.v7/data/by\\_Subregion//Cortex/by\\_Age/14.0/ctd\\_\\_ShortName.rda'\n",
       "\\item '/users/genomics/xoel/Review\\_CD/ewce\\_linnarson.v7/data/by\\_Subregion//Cortex/by\\_Age/6.9/ctd\\_\\_ShortName.rda'\n",
       "\\item '/users/genomics/xoel/Review\\_CD/ewce\\_linnarson.v7/data/by\\_Subregion//Cortex/by\\_Age/8.0/ctd\\_\\_ShortName.rda'\n",
       "\\item '/users/genomics/xoel/Review\\_CD/ewce\\_linnarson.v7/data/by\\_Subregion//Cortex/by\\_Age/9.2/ctd\\_\\_ShortName.rda'\n",
       "\\item '/users/genomics/xoel/Review\\_CD/ewce\\_linnarson.v7/data/by\\_Subregion//Cortex/by\\_Age/9.5/ctd\\_\\_ShortName.rda'\n",
       "\\item '/users/genomics/xoel/Review\\_CD/ewce\\_linnarson.v7/data/by\\_Subregion//Forebrain/by\\_Age/10.0/ctd\\_\\_ShortName.rda'\n",
       "\\item '/users/genomics/xoel/Review\\_CD/ewce\\_linnarson.v7/data/by\\_Subregion//Forebrain/by\\_Age/5.0/ctd\\_\\_ShortName.rda'\n",
       "\\item '/users/genomics/xoel/Review\\_CD/ewce\\_linnarson.v7/data/by\\_Subregion//Forebrain/by\\_Age/5.5/ctd\\_\\_ShortName.rda'\n",
       "\\item '/users/genomics/xoel/Review\\_CD/ewce\\_linnarson.v7/data/by\\_Subregion//Forebrain/by\\_Age/6.6/ctd\\_\\_ShortName.rda'\n",
       "\\item '/users/genomics/xoel/Review\\_CD/ewce\\_linnarson.v7/data/by\\_Subregion//Forebrain/by\\_Age/7.5/ctd\\_\\_ShortName.rda'\n",
       "\\item '/users/genomics/xoel/Review\\_CD/ewce\\_linnarson.v7/data/by\\_Subregion//Forebrain/by\\_Age/8.5/ctd\\_\\_ShortName.rda'\n",
       "\\item '/users/genomics/xoel/Review\\_CD/ewce\\_linnarson.v7/data/by\\_Subregion//Forebrain/by\\_Age/9.2/ctd\\_\\_ShortName.rda'\n",
       "\\item '/users/genomics/xoel/Review\\_CD/ewce\\_linnarson.v7/data/by\\_Subregion//Head/by\\_Age/5.0/ctd\\_\\_ShortName.rda'\n",
       "\\item '/users/genomics/xoel/Review\\_CD/ewce\\_linnarson.v7/data/by\\_Subregion//Hippocampus/by\\_Age/12.0/ctd\\_\\_ShortName.rda'\n",
       "\\item '/users/genomics/xoel/Review\\_CD/ewce\\_linnarson.v7/data/by\\_Subregion//Hippocampus/by\\_Age/14.0/ctd\\_\\_ShortName.rda'\n",
       "\\item '/users/genomics/xoel/Review\\_CD/ewce\\_linnarson.v7/data/by\\_Subregion//Striatum/by\\_Age/14.0/ctd\\_\\_ShortName.rda'\n",
       "\\item '/users/genomics/xoel/Review\\_CD/ewce\\_linnarson.v7/data/by\\_Subregion//Striatum/by\\_Age/6.9/ctd\\_\\_ShortName.rda'\n",
       "\\item '/users/genomics/xoel/Review\\_CD/ewce\\_linnarson.v7/data/by\\_Subregion//Subcortex/by\\_Age/11.5/ctd\\_\\_ShortName.rda'\n",
       "\\item '/users/genomics/xoel/Review\\_CD/ewce\\_linnarson.v7/data/by\\_Subregion//Subcortex/by\\_Age/12.0/ctd\\_\\_ShortName.rda'\n",
       "\\item '/users/genomics/xoel/Review\\_CD/ewce\\_linnarson.v7/data/by\\_Subregion//Subcortex/by\\_Age/13.0/ctd\\_\\_ShortName.rda'\n",
       "\\item '/users/genomics/xoel/Review\\_CD/ewce\\_linnarson.v7/data/by\\_Subregion//Subcortex/by\\_Age/8.0/ctd\\_\\_ShortName.rda'\n",
       "\\item '/users/genomics/xoel/Review\\_CD/ewce\\_linnarson.v7/data/by\\_Subregion//Subcortex/by\\_Age/8.5/ctd\\_\\_ShortName.rda'\n",
       "\\item '/users/genomics/xoel/Review\\_CD/ewce\\_linnarson.v7/data/by\\_Subregion//Subcortex/by\\_Age/9.5/ctd\\_\\_ShortName.rda'\n",
       "\\item '/users/genomics/xoel/Review\\_CD/ewce\\_linnarson.v7/data/by\\_Subregion//Telencephalon/by\\_Age/6.7/ctd\\_\\_ShortName.rda'\n",
       "\\end{enumerate*}\n"
      ],
      "text/markdown": [
       "1. '/users/genomics/xoel/Review_CD/ewce_linnarson.v7/data/by_Subregion//Brain/by_Age/6.0/ctd__ShortName.rda'\n",
       "2. '/users/genomics/xoel/Review_CD/ewce_linnarson.v7/data/by_Subregion//Cortex/by_Age/10.0/ctd__ShortName.rda'\n",
       "3. '/users/genomics/xoel/Review_CD/ewce_linnarson.v7/data/by_Subregion//Cortex/by_Age/11.5/ctd__ShortName.rda'\n",
       "4. '/users/genomics/xoel/Review_CD/ewce_linnarson.v7/data/by_Subregion//Cortex/by_Age/12.0/ctd__ShortName.rda'\n",
       "5. '/users/genomics/xoel/Review_CD/ewce_linnarson.v7/data/by_Subregion//Cortex/by_Age/13.0/ctd__ShortName.rda'\n",
       "6. '/users/genomics/xoel/Review_CD/ewce_linnarson.v7/data/by_Subregion//Cortex/by_Age/14.0/ctd__ShortName.rda'\n",
       "7. '/users/genomics/xoel/Review_CD/ewce_linnarson.v7/data/by_Subregion//Cortex/by_Age/6.9/ctd__ShortName.rda'\n",
       "8. '/users/genomics/xoel/Review_CD/ewce_linnarson.v7/data/by_Subregion//Cortex/by_Age/8.0/ctd__ShortName.rda'\n",
       "9. '/users/genomics/xoel/Review_CD/ewce_linnarson.v7/data/by_Subregion//Cortex/by_Age/9.2/ctd__ShortName.rda'\n",
       "10. '/users/genomics/xoel/Review_CD/ewce_linnarson.v7/data/by_Subregion//Cortex/by_Age/9.5/ctd__ShortName.rda'\n",
       "11. '/users/genomics/xoel/Review_CD/ewce_linnarson.v7/data/by_Subregion//Forebrain/by_Age/10.0/ctd__ShortName.rda'\n",
       "12. '/users/genomics/xoel/Review_CD/ewce_linnarson.v7/data/by_Subregion//Forebrain/by_Age/5.0/ctd__ShortName.rda'\n",
       "13. '/users/genomics/xoel/Review_CD/ewce_linnarson.v7/data/by_Subregion//Forebrain/by_Age/5.5/ctd__ShortName.rda'\n",
       "14. '/users/genomics/xoel/Review_CD/ewce_linnarson.v7/data/by_Subregion//Forebrain/by_Age/6.6/ctd__ShortName.rda'\n",
       "15. '/users/genomics/xoel/Review_CD/ewce_linnarson.v7/data/by_Subregion//Forebrain/by_Age/7.5/ctd__ShortName.rda'\n",
       "16. '/users/genomics/xoel/Review_CD/ewce_linnarson.v7/data/by_Subregion//Forebrain/by_Age/8.5/ctd__ShortName.rda'\n",
       "17. '/users/genomics/xoel/Review_CD/ewce_linnarson.v7/data/by_Subregion//Forebrain/by_Age/9.2/ctd__ShortName.rda'\n",
       "18. '/users/genomics/xoel/Review_CD/ewce_linnarson.v7/data/by_Subregion//Head/by_Age/5.0/ctd__ShortName.rda'\n",
       "19. '/users/genomics/xoel/Review_CD/ewce_linnarson.v7/data/by_Subregion//Hippocampus/by_Age/12.0/ctd__ShortName.rda'\n",
       "20. '/users/genomics/xoel/Review_CD/ewce_linnarson.v7/data/by_Subregion//Hippocampus/by_Age/14.0/ctd__ShortName.rda'\n",
       "21. '/users/genomics/xoel/Review_CD/ewce_linnarson.v7/data/by_Subregion//Striatum/by_Age/14.0/ctd__ShortName.rda'\n",
       "22. '/users/genomics/xoel/Review_CD/ewce_linnarson.v7/data/by_Subregion//Striatum/by_Age/6.9/ctd__ShortName.rda'\n",
       "23. '/users/genomics/xoel/Review_CD/ewce_linnarson.v7/data/by_Subregion//Subcortex/by_Age/11.5/ctd__ShortName.rda'\n",
       "24. '/users/genomics/xoel/Review_CD/ewce_linnarson.v7/data/by_Subregion//Subcortex/by_Age/12.0/ctd__ShortName.rda'\n",
       "25. '/users/genomics/xoel/Review_CD/ewce_linnarson.v7/data/by_Subregion//Subcortex/by_Age/13.0/ctd__ShortName.rda'\n",
       "26. '/users/genomics/xoel/Review_CD/ewce_linnarson.v7/data/by_Subregion//Subcortex/by_Age/8.0/ctd__ShortName.rda'\n",
       "27. '/users/genomics/xoel/Review_CD/ewce_linnarson.v7/data/by_Subregion//Subcortex/by_Age/8.5/ctd__ShortName.rda'\n",
       "28. '/users/genomics/xoel/Review_CD/ewce_linnarson.v7/data/by_Subregion//Subcortex/by_Age/9.5/ctd__ShortName.rda'\n",
       "29. '/users/genomics/xoel/Review_CD/ewce_linnarson.v7/data/by_Subregion//Telencephalon/by_Age/6.7/ctd__ShortName.rda'\n",
       "\n",
       "\n"
      ],
      "text/plain": [
       " [1] \"/users/genomics/xoel/Review_CD/ewce_linnarson.v7/data/by_Subregion//Brain/by_Age/6.0/ctd__ShortName.rda\"        \n",
       " [2] \"/users/genomics/xoel/Review_CD/ewce_linnarson.v7/data/by_Subregion//Cortex/by_Age/10.0/ctd__ShortName.rda\"      \n",
       " [3] \"/users/genomics/xoel/Review_CD/ewce_linnarson.v7/data/by_Subregion//Cortex/by_Age/11.5/ctd__ShortName.rda\"      \n",
       " [4] \"/users/genomics/xoel/Review_CD/ewce_linnarson.v7/data/by_Subregion//Cortex/by_Age/12.0/ctd__ShortName.rda\"      \n",
       " [5] \"/users/genomics/xoel/Review_CD/ewce_linnarson.v7/data/by_Subregion//Cortex/by_Age/13.0/ctd__ShortName.rda\"      \n",
       " [6] \"/users/genomics/xoel/Review_CD/ewce_linnarson.v7/data/by_Subregion//Cortex/by_Age/14.0/ctd__ShortName.rda\"      \n",
       " [7] \"/users/genomics/xoel/Review_CD/ewce_linnarson.v7/data/by_Subregion//Cortex/by_Age/6.9/ctd__ShortName.rda\"       \n",
       " [8] \"/users/genomics/xoel/Review_CD/ewce_linnarson.v7/data/by_Subregion//Cortex/by_Age/8.0/ctd__ShortName.rda\"       \n",
       " [9] \"/users/genomics/xoel/Review_CD/ewce_linnarson.v7/data/by_Subregion//Cortex/by_Age/9.2/ctd__ShortName.rda\"       \n",
       "[10] \"/users/genomics/xoel/Review_CD/ewce_linnarson.v7/data/by_Subregion//Cortex/by_Age/9.5/ctd__ShortName.rda\"       \n",
       "[11] \"/users/genomics/xoel/Review_CD/ewce_linnarson.v7/data/by_Subregion//Forebrain/by_Age/10.0/ctd__ShortName.rda\"   \n",
       "[12] \"/users/genomics/xoel/Review_CD/ewce_linnarson.v7/data/by_Subregion//Forebrain/by_Age/5.0/ctd__ShortName.rda\"    \n",
       "[13] \"/users/genomics/xoel/Review_CD/ewce_linnarson.v7/data/by_Subregion//Forebrain/by_Age/5.5/ctd__ShortName.rda\"    \n",
       "[14] \"/users/genomics/xoel/Review_CD/ewce_linnarson.v7/data/by_Subregion//Forebrain/by_Age/6.6/ctd__ShortName.rda\"    \n",
       "[15] \"/users/genomics/xoel/Review_CD/ewce_linnarson.v7/data/by_Subregion//Forebrain/by_Age/7.5/ctd__ShortName.rda\"    \n",
       "[16] \"/users/genomics/xoel/Review_CD/ewce_linnarson.v7/data/by_Subregion//Forebrain/by_Age/8.5/ctd__ShortName.rda\"    \n",
       "[17] \"/users/genomics/xoel/Review_CD/ewce_linnarson.v7/data/by_Subregion//Forebrain/by_Age/9.2/ctd__ShortName.rda\"    \n",
       "[18] \"/users/genomics/xoel/Review_CD/ewce_linnarson.v7/data/by_Subregion//Head/by_Age/5.0/ctd__ShortName.rda\"         \n",
       "[19] \"/users/genomics/xoel/Review_CD/ewce_linnarson.v7/data/by_Subregion//Hippocampus/by_Age/12.0/ctd__ShortName.rda\" \n",
       "[20] \"/users/genomics/xoel/Review_CD/ewce_linnarson.v7/data/by_Subregion//Hippocampus/by_Age/14.0/ctd__ShortName.rda\" \n",
       "[21] \"/users/genomics/xoel/Review_CD/ewce_linnarson.v7/data/by_Subregion//Striatum/by_Age/14.0/ctd__ShortName.rda\"    \n",
       "[22] \"/users/genomics/xoel/Review_CD/ewce_linnarson.v7/data/by_Subregion//Striatum/by_Age/6.9/ctd__ShortName.rda\"     \n",
       "[23] \"/users/genomics/xoel/Review_CD/ewce_linnarson.v7/data/by_Subregion//Subcortex/by_Age/11.5/ctd__ShortName.rda\"   \n",
       "[24] \"/users/genomics/xoel/Review_CD/ewce_linnarson.v7/data/by_Subregion//Subcortex/by_Age/12.0/ctd__ShortName.rda\"   \n",
       "[25] \"/users/genomics/xoel/Review_CD/ewce_linnarson.v7/data/by_Subregion//Subcortex/by_Age/13.0/ctd__ShortName.rda\"   \n",
       "[26] \"/users/genomics/xoel/Review_CD/ewce_linnarson.v7/data/by_Subregion//Subcortex/by_Age/8.0/ctd__ShortName.rda\"    \n",
       "[27] \"/users/genomics/xoel/Review_CD/ewce_linnarson.v7/data/by_Subregion//Subcortex/by_Age/8.5/ctd__ShortName.rda\"    \n",
       "[28] \"/users/genomics/xoel/Review_CD/ewce_linnarson.v7/data/by_Subregion//Subcortex/by_Age/9.5/ctd__ShortName.rda\"    \n",
       "[29] \"/users/genomics/xoel/Review_CD/ewce_linnarson.v7/data/by_Subregion//Telencephalon/by_Age/6.7/ctd__ShortName.rda\""
      ]
     },
     "metadata": {},
     "output_type": "display_data"
    },
    {
     "data": {
      "text/html": [
       "29"
      ],
      "text/latex": [
       "29"
      ],
      "text/markdown": [
       "29"
      ],
      "text/plain": [
       "[1] 29"
      ]
     },
     "metadata": {},
     "output_type": "display_data"
    }
   ],
   "source": [
    "# Define input directory for CTD files\n",
    "in.dir <- file.path(base.data.dir, \"by_Subregion\")\n",
    "\n",
    "ctd.files <- list.files(in.dir, full.names = T, recursive = T) %>% grep(value = T, pattern = 'ctd_', fixed=T) %>% sort\n",
    "ctd.files\n",
    "length(ctd.files)"
   ]
  },
  {
   "cell_type": "markdown",
   "id": "4c4810f1-fa10-4179-845b-70cd1fac18f0",
   "metadata": {
    "tags": []
   },
   "source": [
    "# **Part 2: List the lists to analyse**"
   ]
  },
  {
   "cell_type": "code",
   "execution_count": 10,
   "id": "63f7bf34-219e-43c2-8ae4-e4fde39b70a1",
   "metadata": {
    "execution": {
     "iopub.execute_input": "2024-11-29T09:42:19.361515Z",
     "iopub.status.busy": "2024-11-29T09:42:19.357343Z",
     "iopub.status.idle": "2024-11-29T09:42:19.387677Z",
     "shell.execute_reply": "2024-11-29T09:42:19.386091Z"
    },
    "vscode": {
     "languageId": "r"
    }
   },
   "outputs": [
    {
     "data": {
      "text/html": [
       "'Diseases_2024-11-28'"
      ],
      "text/latex": [
       "'Diseases\\_2024-11-28'"
      ],
      "text/markdown": [
       "'Diseases_2024-11-28'"
      ],
      "text/plain": [
       "[1] \"Diseases_2024-11-28\""
      ]
     },
     "metadata": {},
     "output_type": "display_data"
    }
   ],
   "source": [
    "# results_name <-paste0('Diseases_',Sys.Date())\n",
    "results_name <-'Diseases_2024-11-28'\n",
    "results_name"
   ]
  },
  {
   "cell_type": "code",
   "execution_count": null,
   "id": "c7d03a77-4731-49ad-9fd8-09cb0d5a224b",
   "metadata": {
    "execution": {
     "iopub.execute_input": "2024-11-29T09:42:20.479972Z",
     "iopub.status.busy": "2024-11-29T09:42:20.477218Z",
     "iopub.status.idle": "2024-11-29T09:42:20.518121Z",
     "shell.execute_reply": "2024-11-29T09:42:20.516525Z"
    },
    "vscode": {
     "languageId": "r"
    }
   },
   "outputs": [],
   "source": [
    "# Define path to gene list file\n",
    "gene.list.file <- '/users/genomics/xoel/codebases/gene_disease_asociation/parsed_lists_with_nicola.union.csv'\n",
    "\n",
    "disease.associations <- data.table::fread(\n",
    "    file = gene.list.file, \n",
    "    data.table=F) %>% rename(Gene=V1)\n",
    "disease.associations.lists <- lapply(colnames(disease.associations)[-1], \n",
    "                                     function(x){disease.associations$Gene[as.logical(disease.associations[,x])]}) %>% \n",
    "    setNames(nm=colnames(disease.associations)[-1])\n",
    "diseases <- names(disease.associations.lists)"
   ]
  },
  {
   "cell_type": "markdown",
   "id": "5dab80d7-4895-4dc5-a13e-3407d3e9cd72",
   "metadata": {
    "tags": []
   },
   "source": [
    "# **Part 3: Run EWCE**"
   ]
  },
  {
   "cell_type": "code",
   "execution_count": null,
   "id": "46f9450f-e924-4f25-b45c-7d21f23180b0",
   "metadata": {
    "execution": {
     "iopub.execute_input": "2024-11-29T09:42:20.900474Z",
     "iopub.status.busy": "2024-11-29T09:42:20.897728Z",
     "iopub.status.idle": "2024-11-29T09:42:20.919488Z",
     "shell.execute_reply": "2024-11-29T09:42:20.917924Z"
    },
    "vscode": {
     "languageId": "r"
    }
   },
   "outputs": [],
   "source": [
    "reps <- 10000\n",
    "overwrite <- F\n",
    "\n",
    "lists <-  disease.associations.lists\n",
    "list.names <- names(lists)"
   ]
  },
  {
   "cell_type": "code",
   "execution_count": null,
   "id": "061e3287-8523-448b-bea3-0a4e65602721",
   "metadata": {
    "execution": {
     "iopub.execute_input": "2024-11-29T09:42:58.916733Z",
     "iopub.status.busy": "2024-11-29T09:42:58.912966Z",
     "iopub.status.idle": "2024-11-29T09:42:59.254895Z",
     "shell.execute_reply": "2024-11-29T09:42:59.253019Z"
    },
    "vscode": {
     "languageId": "r"
    }
   },
   "outputs": [
    {
     "name": "stderr",
     "output_type": "stream",
     "text": [
      "[2024-11-29 10:42:58.983694] (+1.00135803222656e-05s)\n",
      "\n"
     ]
    },
    {
     "name": "stdout",
     "output_type": "stream",
     "text": [
      "/users/genomics/xoel/Review_CD/ewce_linnarson.v7/data/by_Subregion//Brain/by_Age/6.0/EWCE.Diseases_2024-11-28.10000_reps.results.csv\n"
     ]
    },
    {
     "name": "stderr",
     "output_type": "stream",
     "text": [
      "Not re-running because results were found or overwrite is set to F\n",
      "\n",
      "[2024-11-29 10:42:59.002458] (+0.00571775436401367s)\n",
      "\n"
     ]
    },
    {
     "name": "stdout",
     "output_type": "stream",
     "text": [
      "/users/genomics/xoel/Review_CD/ewce_linnarson.v7/data/by_Subregion//Cortex/by_Age/10.0/EWCE.Diseases_2024-11-28.10000_reps.results.csv\n"
     ]
    },
    {
     "name": "stderr",
     "output_type": "stream",
     "text": [
      "Not re-running because results were found or overwrite is set to F\n",
      "\n",
      "[2024-11-29 10:42:59.011504] (+6.91413879394531e-06s)\n",
      "\n"
     ]
    },
    {
     "name": "stdout",
     "output_type": "stream",
     "text": [
      "/users/genomics/xoel/Review_CD/ewce_linnarson.v7/data/by_Subregion//Cortex/by_Age/11.5/EWCE.Diseases_2024-11-28.10000_reps.results.csv\n"
     ]
    },
    {
     "name": "stderr",
     "output_type": "stream",
     "text": [
      "Not re-running because results were found or overwrite is set to F\n",
      "\n",
      "[2024-11-29 10:42:59.020414] (+6.91413879394531e-06s)\n",
      "\n"
     ]
    },
    {
     "name": "stdout",
     "output_type": "stream",
     "text": [
      "/users/genomics/xoel/Review_CD/ewce_linnarson.v7/data/by_Subregion//Cortex/by_Age/12.0/EWCE.Diseases_2024-11-28.10000_reps.results.csv\n"
     ]
    },
    {
     "name": "stderr",
     "output_type": "stream",
     "text": [
      "Not re-running because results were found or overwrite is set to F\n",
      "\n",
      "[2024-11-29 10:42:59.029267] (+6.91413879394531e-06s)\n",
      "\n"
     ]
    },
    {
     "name": "stdout",
     "output_type": "stream",
     "text": [
      "/users/genomics/xoel/Review_CD/ewce_linnarson.v7/data/by_Subregion//Cortex/by_Age/13.0/EWCE.Diseases_2024-11-28.10000_reps.results.csv\n"
     ]
    },
    {
     "name": "stderr",
     "output_type": "stream",
     "text": [
      "Not re-running because results were found or overwrite is set to F\n",
      "\n",
      "[2024-11-29 10:42:59.038127] (+6.91413879394531e-06s)\n",
      "\n"
     ]
    },
    {
     "name": "stdout",
     "output_type": "stream",
     "text": [
      "/users/genomics/xoel/Review_CD/ewce_linnarson.v7/data/by_Subregion//Cortex/by_Age/14.0/EWCE.Diseases_2024-11-28.10000_reps.results.csv\n"
     ]
    },
    {
     "name": "stderr",
     "output_type": "stream",
     "text": [
      "Not re-running because results were found or overwrite is set to F\n",
      "\n",
      "[2024-11-29 10:42:59.046938] (+6.91413879394531e-06s)\n",
      "\n"
     ]
    },
    {
     "name": "stdout",
     "output_type": "stream",
     "text": [
      "/users/genomics/xoel/Review_CD/ewce_linnarson.v7/data/by_Subregion//Cortex/by_Age/6.9/EWCE.Diseases_2024-11-28.10000_reps.results.csv\n"
     ]
    },
    {
     "name": "stderr",
     "output_type": "stream",
     "text": [
      "Not re-running because results were found or overwrite is set to F\n",
      "\n",
      "[2024-11-29 10:42:59.055791] (+6.91413879394531e-06s)\n",
      "\n"
     ]
    },
    {
     "name": "stdout",
     "output_type": "stream",
     "text": [
      "/users/genomics/xoel/Review_CD/ewce_linnarson.v7/data/by_Subregion//Cortex/by_Age/8.0/EWCE.Diseases_2024-11-28.10000_reps.results.csv\n"
     ]
    },
    {
     "name": "stderr",
     "output_type": "stream",
     "text": [
      "Not re-running because results were found or overwrite is set to F\n",
      "\n",
      "[2024-11-29 10:42:59.064655] (+1.19209289550781e-05s)\n",
      "\n"
     ]
    },
    {
     "name": "stdout",
     "output_type": "stream",
     "text": [
      "/users/genomics/xoel/Review_CD/ewce_linnarson.v7/data/by_Subregion//Cortex/by_Age/9.2/EWCE.Diseases_2024-11-28.10000_reps.results.csv\n"
     ]
    },
    {
     "name": "stderr",
     "output_type": "stream",
     "text": [
      "Not re-running because results were found or overwrite is set to F\n",
      "\n",
      "[2024-11-29 10:42:59.073533] (+6.67572021484375e-06s)\n",
      "\n"
     ]
    },
    {
     "name": "stdout",
     "output_type": "stream",
     "text": [
      "/users/genomics/xoel/Review_CD/ewce_linnarson.v7/data/by_Subregion//Cortex/by_Age/9.5/EWCE.Diseases_2024-11-28.10000_reps.results.csv\n"
     ]
    },
    {
     "name": "stderr",
     "output_type": "stream",
     "text": [
      "Not re-running because results were found or overwrite is set to F\n",
      "\n",
      "[2024-11-29 10:42:59.082395] (+7.15255737304688e-06s)\n",
      "\n"
     ]
    },
    {
     "name": "stdout",
     "output_type": "stream",
     "text": [
      "/users/genomics/xoel/Review_CD/ewce_linnarson.v7/data/by_Subregion//Forebrain/by_Age/10.0/EWCE.Diseases_2024-11-28.10000_reps.results.csv\n"
     ]
    },
    {
     "name": "stderr",
     "output_type": "stream",
     "text": [
      "Not re-running because results were found or overwrite is set to F\n",
      "\n",
      "[2024-11-29 10:42:59.091514] (+7.15255737304688e-06s)\n",
      "\n"
     ]
    },
    {
     "name": "stdout",
     "output_type": "stream",
     "text": [
      "/users/genomics/xoel/Review_CD/ewce_linnarson.v7/data/by_Subregion//Forebrain/by_Age/5.0/EWCE.Diseases_2024-11-28.10000_reps.results.csv\n"
     ]
    },
    {
     "name": "stderr",
     "output_type": "stream",
     "text": [
      "Not re-running because results were found or overwrite is set to F\n",
      "\n",
      "[2024-11-29 10:42:59.100729] (+6.91413879394531e-06s)\n",
      "\n"
     ]
    },
    {
     "name": "stdout",
     "output_type": "stream",
     "text": [
      "/users/genomics/xoel/Review_CD/ewce_linnarson.v7/data/by_Subregion//Forebrain/by_Age/5.5/EWCE.Diseases_2024-11-28.10000_reps.results.csv\n"
     ]
    },
    {
     "name": "stderr",
     "output_type": "stream",
     "text": [
      "Not re-running because results were found or overwrite is set to F\n",
      "\n",
      "[2024-11-29 10:42:59.109588] (+7.15255737304688e-06s)\n",
      "\n"
     ]
    },
    {
     "name": "stdout",
     "output_type": "stream",
     "text": [
      "/users/genomics/xoel/Review_CD/ewce_linnarson.v7/data/by_Subregion//Forebrain/by_Age/6.6/EWCE.Diseases_2024-11-28.10000_reps.results.csv\n"
     ]
    },
    {
     "name": "stderr",
     "output_type": "stream",
     "text": [
      "Not re-running because results were found or overwrite is set to F\n",
      "\n",
      "[2024-11-29 10:42:59.118475] (+7.39097595214844e-06s)\n",
      "\n"
     ]
    },
    {
     "name": "stdout",
     "output_type": "stream",
     "text": [
      "/users/genomics/xoel/Review_CD/ewce_linnarson.v7/data/by_Subregion//Forebrain/by_Age/7.5/EWCE.Diseases_2024-11-28.10000_reps.results.csv\n"
     ]
    },
    {
     "name": "stderr",
     "output_type": "stream",
     "text": [
      "Not re-running because results were found or overwrite is set to F\n",
      "\n",
      "[2024-11-29 10:42:59.127376] (+6.67572021484375e-06s)\n",
      "\n"
     ]
    },
    {
     "name": "stdout",
     "output_type": "stream",
     "text": [
      "/users/genomics/xoel/Review_CD/ewce_linnarson.v7/data/by_Subregion//Forebrain/by_Age/8.5/EWCE.Diseases_2024-11-28.10000_reps.results.csv\n"
     ]
    },
    {
     "name": "stderr",
     "output_type": "stream",
     "text": [
      "Not re-running because results were found or overwrite is set to F\n",
      "\n",
      "[2024-11-29 10:42:59.136209] (+1.26361846923828e-05s)\n",
      "\n"
     ]
    },
    {
     "name": "stdout",
     "output_type": "stream",
     "text": [
      "/users/genomics/xoel/Review_CD/ewce_linnarson.v7/data/by_Subregion//Forebrain/by_Age/9.2/EWCE.Diseases_2024-11-28.10000_reps.results.csv\n"
     ]
    },
    {
     "name": "stderr",
     "output_type": "stream",
     "text": [
      "Not re-running because results were found or overwrite is set to F\n",
      "\n",
      "[2024-11-29 10:42:59.145062] (+7.15255737304688e-06s)\n",
      "\n"
     ]
    },
    {
     "name": "stdout",
     "output_type": "stream",
     "text": [
      "/users/genomics/xoel/Review_CD/ewce_linnarson.v7/data/by_Subregion//Head/by_Age/5.0/EWCE.Diseases_2024-11-28.10000_reps.results.csv\n"
     ]
    },
    {
     "name": "stderr",
     "output_type": "stream",
     "text": [
      "Not re-running because results were found or overwrite is set to F\n",
      "\n",
      "[2024-11-29 10:42:59.15392] (+6.91413879394531e-06s)\n",
      "\n"
     ]
    },
    {
     "name": "stdout",
     "output_type": "stream",
     "text": [
      "/users/genomics/xoel/Review_CD/ewce_linnarson.v7/data/by_Subregion//Hippocampus/by_Age/12.0/EWCE.Diseases_2024-11-28.10000_reps.results.csv\n"
     ]
    },
    {
     "name": "stderr",
     "output_type": "stream",
     "text": [
      "Not re-running because results were found or overwrite is set to F\n",
      "\n",
      "[2024-11-29 10:42:59.162729] (+6.67572021484375e-06s)\n",
      "\n"
     ]
    },
    {
     "name": "stdout",
     "output_type": "stream",
     "text": [
      "/users/genomics/xoel/Review_CD/ewce_linnarson.v7/data/by_Subregion//Hippocampus/by_Age/14.0/EWCE.Diseases_2024-11-28.10000_reps.results.csv\n"
     ]
    },
    {
     "name": "stderr",
     "output_type": "stream",
     "text": [
      "Not re-running because results were found or overwrite is set to F\n",
      "\n",
      "[2024-11-29 10:42:59.171566] (+6.91413879394531e-06s)\n",
      "\n"
     ]
    },
    {
     "name": "stdout",
     "output_type": "stream",
     "text": [
      "/users/genomics/xoel/Review_CD/ewce_linnarson.v7/data/by_Subregion//Striatum/by_Age/14.0/EWCE.Diseases_2024-11-28.10000_reps.results.csv\n"
     ]
    },
    {
     "name": "stderr",
     "output_type": "stream",
     "text": [
      "Not re-running because results were found or overwrite is set to F\n",
      "\n",
      "[2024-11-29 10:42:59.180604] (+6.91413879394531e-06s)\n",
      "\n"
     ]
    },
    {
     "name": "stdout",
     "output_type": "stream",
     "text": [
      "/users/genomics/xoel/Review_CD/ewce_linnarson.v7/data/by_Subregion//Striatum/by_Age/6.9/EWCE.Diseases_2024-11-28.10000_reps.results.csv\n"
     ]
    },
    {
     "name": "stderr",
     "output_type": "stream",
     "text": [
      "Not re-running because results were found or overwrite is set to F\n",
      "\n",
      "[2024-11-29 10:42:59.189452] (+6.43730163574219e-06s)\n",
      "\n"
     ]
    },
    {
     "name": "stdout",
     "output_type": "stream",
     "text": [
      "/users/genomics/xoel/Review_CD/ewce_linnarson.v7/data/by_Subregion//Subcortex/by_Age/11.5/EWCE.Diseases_2024-11-28.10000_reps.results.csv\n"
     ]
    },
    {
     "name": "stderr",
     "output_type": "stream",
     "text": [
      "Not re-running because results were found or overwrite is set to F\n",
      "\n",
      "[2024-11-29 10:42:59.198282] (+7.15255737304688e-06s)\n",
      "\n"
     ]
    },
    {
     "name": "stdout",
     "output_type": "stream",
     "text": [
      "/users/genomics/xoel/Review_CD/ewce_linnarson.v7/data/by_Subregion//Subcortex/by_Age/12.0/EWCE.Diseases_2024-11-28.10000_reps.results.csv\n"
     ]
    },
    {
     "name": "stderr",
     "output_type": "stream",
     "text": [
      "Not re-running because results were found or overwrite is set to F\n",
      "\n",
      "[2024-11-29 10:42:59.207122] (+1.02519989013672e-05s)\n",
      "\n"
     ]
    },
    {
     "name": "stdout",
     "output_type": "stream",
     "text": [
      "/users/genomics/xoel/Review_CD/ewce_linnarson.v7/data/by_Subregion//Subcortex/by_Age/13.0/EWCE.Diseases_2024-11-28.10000_reps.results.csv\n"
     ]
    },
    {
     "name": "stderr",
     "output_type": "stream",
     "text": [
      "Not re-running because results were found or overwrite is set to F\n",
      "\n",
      "[2024-11-29 10:42:59.216007] (+6.67572021484375e-06s)\n",
      "\n"
     ]
    },
    {
     "name": "stdout",
     "output_type": "stream",
     "text": [
      "/users/genomics/xoel/Review_CD/ewce_linnarson.v7/data/by_Subregion//Subcortex/by_Age/8.0/EWCE.Diseases_2024-11-28.10000_reps.results.csv\n"
     ]
    },
    {
     "name": "stderr",
     "output_type": "stream",
     "text": [
      "Not re-running because results were found or overwrite is set to F\n",
      "\n",
      "[2024-11-29 10:42:59.224856] (+6.43730163574219e-06s)\n",
      "\n"
     ]
    },
    {
     "name": "stdout",
     "output_type": "stream",
     "text": [
      "/users/genomics/xoel/Review_CD/ewce_linnarson.v7/data/by_Subregion//Subcortex/by_Age/8.5/EWCE.Diseases_2024-11-28.10000_reps.results.csv\n"
     ]
    },
    {
     "name": "stderr",
     "output_type": "stream",
     "text": [
      "Not re-running because results were found or overwrite is set to F\n",
      "\n",
      "[2024-11-29 10:42:59.233774] (+6.67572021484375e-06s)\n",
      "\n"
     ]
    },
    {
     "name": "stdout",
     "output_type": "stream",
     "text": [
      "/users/genomics/xoel/Review_CD/ewce_linnarson.v7/data/by_Subregion//Subcortex/by_Age/9.5/EWCE.Diseases_2024-11-28.10000_reps.results.csv\n"
     ]
    },
    {
     "name": "stderr",
     "output_type": "stream",
     "text": [
      "Not re-running because results were found or overwrite is set to F\n",
      "\n",
      "[2024-11-29 10:42:59.242697] (+6.91413879394531e-06s)\n",
      "\n"
     ]
    },
    {
     "name": "stdout",
     "output_type": "stream",
     "text": [
      "/users/genomics/xoel/Review_CD/ewce_linnarson.v7/data/by_Subregion//Telencephalon/by_Age/6.7/EWCE.Diseases_2024-11-28.10000_reps.results.csv\n"
     ]
    },
    {
     "name": "stderr",
     "output_type": "stream",
     "text": [
      "Not re-running because results were found or overwrite is set to F\n",
      "\n"
     ]
    }
   ],
   "source": [
    "for (ctd.file in ctd.files){\n",
    "\n",
    "    path <- dirname(ctd.file)\n",
    "    t0 <- Sys.time()\n",
    "    \n",
    "    my_time(t0)\n",
    "\n",
    "    res.file <- glue('{path}/EWCE.{results_name}.{reps}_reps.results.csv')\n",
    "    print(res.file)    \n",
    "    \n",
    "    if (overwrite | !file.exists(res.file)){\n",
    "        message('Running because results were not found or overwrite is set to T')\n",
    "\n",
    "        load(ctd.file, verbose=T)\n",
    "                \n",
    "        n.levels <- length(ctd)\n",
    "        print(glue('There are {n.levels} annotation levels in this CTD'))\n",
    "        \n",
    "        #########################################################\n",
    "        # FOR N LEVELS\n",
    "        # Bootstrap significance test, no control for transcript length and GC content\n",
    "        lapply(1:n.levels, function(annotLevel){\n",
    "        \n",
    "            #########################################################\n",
    "            # FOR EACH LIST\n",
    "            level.results <- lapply(1:length(list.names), function(list.i){\n",
    "                list.name <- list.names[list.i]\n",
    "                print(glue('{list.i+(annotLevel-1)*length(list.names)}/{length(list.names)*n.levels}:\\t{list.name}'))\n",
    "                my_time(t0)\n",
    "                \n",
    "                full_results <- EWCE::bootstrap_enrichment_test(sct_data = ctd, \n",
    "                                                                geneSizeControl = F,\n",
    "                                                                no_cores = parallel::detectCores(),\n",
    "                                                                sctSpecies = \"human\",\n",
    "                                                                genelistSpecies = \"human\",\n",
    "                                                                hits = lists[[list.name]], \n",
    "                                                                reps = reps,\n",
    "                                                                annotLevel = annotLevel)\n",
    "                for (a in names(full_results)){\n",
    "                    if (!is.data.frame(full_results[[a]])){\n",
    "                        full_results[[a]] <- data.frame(hit.cells = full_results[[a]]) %>% t() %>% as.data.frame()\n",
    "                    }\n",
    "                    full_results[[a]] <- full_results[[a]] %>% mutate(\n",
    "                    annotLevel = annotLevel, list = list.name)\n",
    "                }\n",
    "                \n",
    "                return(full_results)\n",
    "                \n",
    "            }) %>% setNames(nm = list.names)\n",
    "            #########################################################\n",
    "            gc()\n",
    "            # Aggregate results across lists for the current annotation level\n",
    "            lapply(names(level.results[[1]]), function(x){\n",
    "                lapply(level.results, function(y){y[[x]]}) %>% do.call(what='rbind')\n",
    "            }) %>% setNames(names(level.results[[1]])) -> level.results\n",
    "            \n",
    "            return(level.results)\n",
    "            \n",
    "        }) -> full_results\n",
    "        #########################################################\n",
    "        my_time(t0)\n",
    "        \n",
    "        # Aggregate results across all annotation levels\n",
    "        lapply(names(full_results[[1]]), function(x){\n",
    "            lapply(full_results, function(y){y[[x]]}) %>% do.call(what='rbind.fill')\n",
    "        }) %>% setNames(names(full_results[[1]])) -> full_results\n",
    "            \n",
    "        #########################################################\n",
    "        # Save\n",
    "        for (iname in names(full_results)){\n",
    "            data.table::fwrite(full_results[[iname]], glue('{path}/EWCE.{results_name}.{reps}_reps.{iname}.csv'))\n",
    "        }\n",
    "        \n",
    "        ctd <- NULL\n",
    "        full_results <- NULL\n",
    "        \n",
    "    } else  {\n",
    "        message('Not re-running because results were found or overwrite is set to F')\n",
    "    }\n",
    "}"
   ]
  }
 ],
 "metadata": {
  "kernelspec": {
   "display_name": "EWCE (R 4.4.1) [NG]",
   "language": "R",
   "name": "ewce2024_r_ng"
  },
  "language_info": {
   "codemirror_mode": "r",
   "file_extension": ".r",
   "mimetype": "text/x-r-source",
   "name": "R",
   "pygments_lexer": "r",
   "version": "4.4.1"
  },
  "widgets": {
   "application/vnd.jupyter.widget-state+json": {
    "state": {},
    "version_major": 2,
    "version_minor": 0
   }
  }
 },
 "nbformat": 4,
 "nbformat_minor": 5
}
