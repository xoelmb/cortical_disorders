{
 "cells": [
  {
   "cell_type": "code",
   "execution_count": null,
   "id": "c0430ea3-4e51-4e0c-99d4-c5923437d1e1",
   "metadata": {
    "execution": {
     "iopub.execute_input": "2025-01-23T12:09:51.758837Z",
     "iopub.status.busy": "2025-01-23T12:09:51.758597Z",
     "iopub.status.idle": "2025-01-23T12:10:13.967731Z",
     "shell.execute_reply": "2025-01-23T12:10:13.966122Z",
     "shell.execute_reply.started": "2025-01-23T12:09:51.758812Z"
    }
   },
   "outputs": [],
   "source": [
    "import h5py\n",
    "from scipy.sparse import csr_matrix\n",
    "from scipy.io import mmwrite\n",
    "import numpy as np\n",
    "import pandas as pd\n",
    "import anndata as ad\n",
    "import scanpy as sc\n",
    "from tqdm.auto import tqdm\n",
    "\n",
    "indir = '/projects_ng/SC_DATA/LinnarsonBraun/'\n",
    "outdir = '/scratch/xoel/'"
   ]
  },
  {
   "cell_type": "code",
   "execution_count": 2,
   "id": "eec0e9bb-1c3c-4e49-b6f0-67198f23b9b3",
   "metadata": {
    "execution": {
     "iopub.execute_input": "2025-01-23T12:10:13.969236Z",
     "iopub.status.busy": "2025-01-23T12:10:13.968662Z",
     "iopub.status.idle": "2025-01-23T12:10:14.643132Z",
     "shell.execute_reply": "2025-01-23T12:10:14.641334Z",
     "shell.execute_reply.started": "2025-01-23T12:10:13.969208Z"
    }
   },
   "outputs": [
    {
     "name": "stdout",
     "output_type": "stream",
     "text": [
      "File ‘/projects_ng/SC_DATA/LinnarsonBraun/HumanFetalBrainPool.h5’ already there; not retrieving.\n"
     ]
    }
   ],
   "source": [
    "data_url = 'https://storage.googleapis.com/linnarsson-lab-human/HumanFetalBrainPool.h5'\n",
    "data_fname = f\"{indir}HumanFetalBrainPool.h5\"\n",
    "\n",
    "!mkdir -p $(dirname {data_fname})\n",
    "!wget -nc -O {data_fname} {data_url}"
   ]
  },
  {
   "cell_type": "code",
   "execution_count": null,
   "id": "a95840cb-1eaa-41ea-b9b8-87b56f8c05c4",
   "metadata": {
    "execution": {
     "iopub.execute_input": "2025-01-23T12:10:14.646534Z",
     "iopub.status.busy": "2025-01-23T12:10:14.646119Z",
     "iopub.status.idle": "2025-01-23T12:10:15.121469Z",
     "shell.execute_reply": "2025-01-23T12:10:15.119406Z",
     "shell.execute_reply.started": "2025-01-23T12:10:14.646491Z"
    }
   },
   "outputs": [
    {
     "name": "stdout",
     "output_type": "stream",
     "text": [
      "File ‘/scratch/xoel/human_dev.h5ad’ already there; not retrieving.\n"
     ]
    }
   ],
   "source": [
    "data_url = 'https://storage.googleapis.com/linnarsson-lab-human/human_dev.h5ad'\n",
    "data_fname = f\"{outdir}human_dev.h5ad\"\n",
    "\n",
    "\n",
    "!mkdir -p $(dirname {data_fname})\n",
    "!wget -nc -O {data_fname} {data_url}"
   ]
  },
  {
   "cell_type": "markdown",
   "id": "cb00265e-8c0d-4d62-bea5-2821db8b097d",
   "metadata": {
    "tags": []
   },
   "source": [
    "# .h5 load"
   ]
  },
  {
   "cell_type": "code",
   "execution_count": 4,
   "id": "319485b8-5908-4561-a864-6a509d31461d",
   "metadata": {
    "execution": {
     "iopub.execute_input": "2025-01-23T12:10:15.123978Z",
     "iopub.status.busy": "2025-01-23T12:10:15.123422Z",
     "iopub.status.idle": "2025-01-23T12:10:15.136694Z",
     "shell.execute_reply": "2025-01-23T12:10:15.135300Z",
     "shell.execute_reply.started": "2025-01-23T12:10:15.123921Z"
    }
   },
   "outputs": [],
   "source": [
    "filename =  f\"{indir}HumanFetalBrainPool.h5\"\n",
    "f = h5py.File(filename, \"r\")\n"
   ]
  },
  {
   "cell_type": "code",
   "execution_count": null,
   "id": "568e1a8d-3911-4b09-a90e-d72fcf0dd155",
   "metadata": {
    "execution": {
     "iopub.execute_input": "2025-01-23T12:10:15.137808Z",
     "iopub.status.busy": "2025-01-23T12:10:15.137596Z",
     "iopub.status.idle": "2025-01-23T12:10:15.499252Z",
     "shell.execute_reply": "2025-01-23T12:10:15.497607Z",
     "shell.execute_reply.started": "2025-01-23T12:10:15.137789Z"
    }
   },
   "outputs": [],
   "source": [
    "# atts: DataFrame storing HDF5 dataset keys and their dimensions\n",
    "atts = pd.DataFrame([{k: f['shoji'][k].shape for k in f['shoji'].keys()}]).T.reset_index().rename({'index': 'key', 0: 'dims'}, axis=1)\n",
    "atts = atts.sort_values('dims')"
   ]
  },
  {
   "cell_type": "code",
   "execution_count": null,
   "id": "290e38ea-1355-4d80-9482-ce26d1d03e4c",
   "metadata": {
    "execution": {
     "iopub.execute_input": "2025-01-23T12:10:15.501091Z",
     "iopub.status.busy": "2025-01-23T12:10:15.500795Z",
     "iopub.status.idle": "2025-01-23T12:10:16.108831Z",
     "shell.execute_reply": "2025-01-23T12:10:16.107121Z",
     "shell.execute_reply.started": "2025-01-23T12:10:15.501064Z"
    }
   },
   "outputs": [],
   "source": [
    "dim_names = {\n",
    "    '51': 'annotation',\n",
    "    '617': 'clusters',\n",
    "    '59480': 'genes',\n",
    "    '1665937': 'ncells'\n",
    "}\n",
    "a = atts['dims'].astype(str)\n",
    "for s,r in dim_names.items():\n",
    "    a = a.str.replace(s,r)\n",
    "atts['dim_names'] = a\n",
    "# att_groups: Dictionary grouping HDF5 keys by dimension names (e.g., 'genes', 'ncells')\n",
    "att_groups = {k: v.values for k, v in atts.groupby('dim_names')['key']}\n"
   ]
  },
  {
   "cell_type": "code",
   "execution_count": null,
   "id": "3e720e75-58ed-4b18-b8ca-a7edfe2634a0",
   "metadata": {
    "execution": {
     "iopub.execute_input": "2025-01-23T12:10:16.110110Z",
     "iopub.status.busy": "2025-01-23T12:10:16.109883Z",
     "iopub.status.idle": "2025-01-23T12:33:10.214695Z",
     "shell.execute_reply": "2025-01-23T12:33:10.213509Z",
     "shell.execute_reply.started": "2025-01-23T12:10:16.110091Z"
    }
   },
   "outputs": [],
   "source": [
    "# factors and embeddings:\n",
    "# dfs: Dictionary to hold extracted metadata DataFrames (e.g., CellInfo, GeneInfo)\n",
    "dfs = dict()\n",
    "\n",
    "# CellInfo\n",
    "CellInfo = {k: f['shoji'][k][()] for k in att_groups['(ncells,)']}\n",
    "dfs.update(dict(CellInfo = pd.DataFrame(CellInfo).apply(lambda x: x if not x.dtype == 'O' else x.str.decode(\"utf-8\") , 0)))\n",
    "\n",
    "# GeneInfo\n",
    "GeneInfo = {k: f['shoji'][k][()] for k in att_groups['(genes,)']}\n",
    "dfs.update(dict(GeneInfo = pd.DataFrame(GeneInfo).apply(lambda x: x if not x.dtype == 'O' else x.str.decode(\"utf-8\") , 0)))\n",
    "\n",
    "# Expression\n",
    "Expression = csr_matrix(f['shoji'][att_groups['(ncells, genes)'][0]][()])"
   ]
  },
  {
   "cell_type": "code",
   "execution_count": 8,
   "id": "b5764952-759d-4169-a265-c6e23ed9636c",
   "metadata": {
    "execution": {
     "iopub.execute_input": "2025-01-23T12:33:10.216239Z",
     "iopub.status.busy": "2025-01-23T12:33:10.216010Z",
     "iopub.status.idle": "2025-01-23T12:33:10.224160Z",
     "shell.execute_reply": "2025-01-23T12:33:10.223389Z",
     "shell.execute_reply.started": "2025-01-23T12:33:10.216218Z"
    }
   },
   "outputs": [],
   "source": [
    "f.close()"
   ]
  },
  {
   "cell_type": "markdown",
   "id": "5741d9a6-1803-41a4-a965-0d1775d0d585",
   "metadata": {},
   "source": [
    "# Disease expression"
   ]
  },
  {
   "cell_type": "code",
   "execution_count": null,
   "id": "4573474c-5611-4cb1-9f82-b3d226e71a8e",
   "metadata": {
    "execution": {
     "iopub.execute_input": "2025-01-23T12:39:49.289860Z",
     "iopub.status.busy": "2025-01-23T12:39:49.289372Z",
     "iopub.status.idle": "2025-01-23T12:39:49.362041Z",
     "shell.execute_reply": "2025-01-23T12:39:49.360562Z",
     "shell.execute_reply.started": "2025-01-23T12:39:49.289824Z"
    }
   },
   "outputs": [],
   "source": [
    "disease_info_path = './DiseaseInfo.csv'\n",
    "disease_gene_path = '/users/genomics/xoel/codebases/gene_disease_asociation/parsed_lists_with_nicola.union.csv'\n",
    "\n",
    "# dis_info: DataFrame containing metadata for each disease\n",
    "dis_info = pd.read_csv(disease_info_path, index_col = 0).iloc[:,3:]\n",
    "# diseases: DataFrame mapping genes (index) to diseases (columns, 1=associated)\n",
    "diseases = pd.read_csv(disease_gene_path, index_col=0)\n",
    "diseases['All'] = (diseases.sum(1)>0).astype(int)\n",
    "# disease_genes: Dictionary mapping each disease name to a list of its associated genes\n",
    "disease_genes = {d: diseases.index[diseases[d].astype(bool)].tolist() for d in diseases.columns}"
   ]
  },
  {
   "cell_type": "code",
   "execution_count": null,
   "id": "98d40509-f2f5-4570-b943-9e32856b6530",
   "metadata": {
    "execution": {
     "iopub.execute_input": "2025-01-23T12:39:49.924316Z",
     "iopub.status.busy": "2025-01-23T12:39:49.923798Z",
     "iopub.status.idle": "2025-01-23T12:39:53.822609Z",
     "shell.execute_reply": "2025-01-23T12:39:53.821693Z",
     "shell.execute_reply.started": "2025-01-23T12:39:49.924270Z"
    }
   },
   "outputs": [
    {
     "name": "stderr",
     "output_type": "stream",
     "text": [
      "/projects_ng/environments/EWCE2024/lib/python3.12/site-packages/anndata/_core/aligned_df.py:68: ImplicitModificationWarning: Transforming to str index.\n",
      "  warnings.warn(\"Transforming to str index.\", ImplicitModificationWarning)\n",
      "/projects_ng/environments/EWCE2024/lib/python3.12/site-packages/anndata/_core/anndata.py:1756: UserWarning: Variable names are not unique. To make them unique, call `.var_names_make_unique`.\n",
      "  utils.warn_names_duplicates(\"var\")\n"
     ]
    },
    {
     "data": {
      "text/plain": [
       "AnnData object with n_obs × n_vars = 193379 × 59480\n",
       "    obs: 'SampleID', 'UnsplicedFraction', 'Age', 'TotalUMIs', 'TopLevelCluster', 'Tissue', 'Subregion', 'Subdivision', 'CellClass', 'CellCycleFraction', 'CellID', 'Sex', 'Chemistry', 'PrevClusters', 'Region', 'Clusters', 'Donor', 'NGenes', 'DoubletFlag', 'MitoFraction', 'DoubletScore', 'DropletClass', 'ValidCells'\n",
       "    var: 'SelectedFeatures', 'Start', 'StdevExpression', 'GeneTotalUMIs', 'Accession', 'Chromosome', 'GeneNonzeros', 'End', 'ValidGenes'"
      ]
     },
     "execution_count": 32,
     "metadata": {},
     "output_type": "execute_result"
    }
   ],
   "source": [
    "selected_regions = ['Forebrain', 'Telencephalon']\n",
    "selected_subregions = ['Forebrain', 'Cortex', 'Striatum', 'Telencephalon']\n",
    "\n",
    "# rg_mask: Boolean mask for selecting radial glia cells based on region, subregion, and cell class\n",
    "rg_mask = (dfs['CellInfo']['Region'].isin(selected_regions) & dfs['CellInfo']['Subregion'].isin(selected_subregions) & dfs['CellInfo']['CellClass'].isin(['Radial glia']))\n",
    "\n",
    "\n",
    "adataRG = ad.AnnData(X=Expression[rg_mask,:],\n",
    "                     obs = dfs['CellInfo'].loc[rg_mask,:], \n",
    "                     var=dfs['GeneInfo'].set_index('Gene'))\n",
    "adataRG.var_names_make_unique(join='--')\n",
    "adataRG"
   ]
  },
  {
   "cell_type": "code",
   "execution_count": null,
   "id": "b3679e7b-49f6-47c8-ac25-3632329e1c37",
   "metadata": {
    "execution": {
     "iopub.execute_input": "2025-01-23T12:39:53.823948Z",
     "iopub.status.busy": "2025-01-23T12:39:53.823723Z",
     "iopub.status.idle": "2025-01-23T12:40:05.880874Z",
     "shell.execute_reply": "2025-01-23T12:40:05.880113Z",
     "shell.execute_reply.started": "2025-01-23T12:39:53.823929Z"
    }
   },
   "outputs": [],
   "source": [
    "# texp: Total expression count per gene across selected cells\n",
    "texp = adataRG.X.sum(axis = 0)\n",
    "# pctexp: Percentage of selected cells expressing each gene\n",
    "pctexp = (adataRG.X > 0).mean(axis = 0)\n",
    "# avgexp: Average expression per gene across selected cells\n",
    "avgexp = adataRG.X.mean(axis = 0)"
   ]
  },
  {
   "cell_type": "code",
   "execution_count": null,
   "id": "a1ae51b9-3221-464a-8f82-dc38ae744c54",
   "metadata": {
    "execution": {
     "iopub.execute_input": "2025-01-23T12:40:05.881785Z",
     "iopub.status.busy": "2025-01-23T12:40:05.881633Z",
     "iopub.status.idle": "2025-01-23T12:40:05.914135Z",
     "shell.execute_reply": "2025-01-23T12:40:05.913510Z",
     "shell.execute_reply.started": "2025-01-23T12:40:05.881772Z"
    }
   },
   "outputs": [],
   "source": [
    "# expdata: DataFrame combining total, percentage, and average expression statistics per gene\n",
    "expdata = pd.concat([\n",
    "    pd.DataFrame(texp, columns=adataRG.var_names, index=['Total expression']),\n",
    "    pd.DataFrame(pctexp, columns=adataRG.var_names, index=['Percentage expression']),\n",
    "    pd.DataFrame(avgexp, columns=adataRG.var_names, index=['Average expression'])\n",
    "], axis=0).T\n"
   ]
  },
  {
   "cell_type": "code",
   "execution_count": 35,
   "id": "73a3812e-5430-4f7e-87cf-86b8aa9abcdf",
   "metadata": {
    "execution": {
     "iopub.execute_input": "2025-01-23T12:40:05.915209Z",
     "iopub.status.busy": "2025-01-23T12:40:05.915071Z",
     "iopub.status.idle": "2025-01-23T12:40:06.223452Z",
     "shell.execute_reply": "2025-01-23T12:40:06.222607Z",
     "shell.execute_reply.started": "2025-01-23T12:40:05.915196Z"
    },
    "scrolled": true
   },
   "outputs": [
    {
     "data": {
      "text/html": [
       "<div>\n",
       "<style scoped>\n",
       "    .dataframe tbody tr th:only-of-type {\n",
       "        vertical-align: middle;\n",
       "    }\n",
       "\n",
       "    .dataframe tbody tr th {\n",
       "        vertical-align: top;\n",
       "    }\n",
       "\n",
       "    .dataframe thead th {\n",
       "        text-align: right;\n",
       "    }\n",
       "</style>\n",
       "<table border=\"1\" class=\"dataframe\">\n",
       "  <thead>\n",
       "    <tr style=\"text-align: right;\">\n",
       "      <th></th>\n",
       "      <th>Disease</th>\n",
       "      <th>DiseaseLabel</th>\n",
       "      <th>DiseaseGroup</th>\n",
       "      <th>Dataset</th>\n",
       "    </tr>\n",
       "  </thead>\n",
       "  <tbody>\n",
       "    <tr>\n",
       "      <th>1</th>\n",
       "      <td>All</td>\n",
       "      <td>All</td>\n",
       "      <td>All</td>\n",
       "      <td>in vitro\\n(Micali et al)</td>\n",
       "    </tr>\n",
       "    <tr>\n",
       "      <th>2</th>\n",
       "      <td>Microcephaly</td>\n",
       "      <td>MIC</td>\n",
       "      <td>Cortical Malformations</td>\n",
       "      <td>in vitro\\n(Micali et al)</td>\n",
       "    </tr>\n",
       "    <tr>\n",
       "      <th>3</th>\n",
       "      <td>Lissencephaly</td>\n",
       "      <td>LIS</td>\n",
       "      <td>Cortical Malformations</td>\n",
       "      <td>in vitro\\n(Micali et al)</td>\n",
       "    </tr>\n",
       "    <tr>\n",
       "      <th>4</th>\n",
       "      <td>Cobblestone</td>\n",
       "      <td>COB</td>\n",
       "      <td>Cortical Malformations</td>\n",
       "      <td>in vitro\\n(Micali et al)</td>\n",
       "    </tr>\n",
       "    <tr>\n",
       "      <th>5</th>\n",
       "      <td>Heterotopia</td>\n",
       "      <td>HET</td>\n",
       "      <td>Cortical Malformations</td>\n",
       "      <td>in vitro\\n(Micali et al)</td>\n",
       "    </tr>\n",
       "    <tr>\n",
       "      <th>6</th>\n",
       "      <td>Polymicrogyria</td>\n",
       "      <td>POLY</td>\n",
       "      <td>Cortical Malformations</td>\n",
       "      <td>in vitro\\n(Micali et al)</td>\n",
       "    </tr>\n",
       "    <tr>\n",
       "      <th>7</th>\n",
       "      <td>Hydrocephaly</td>\n",
       "      <td>HYD</td>\n",
       "      <td>Cortical Malformations</td>\n",
       "      <td>in vitro\\n(Micali et al)</td>\n",
       "    </tr>\n",
       "    <tr>\n",
       "      <th>8</th>\n",
       "      <td>RareMCD</td>\n",
       "      <td>MCD</td>\n",
       "      <td>Cortical Malformations</td>\n",
       "      <td>in vitro\\n(Micali et al)</td>\n",
       "    </tr>\n",
       "    <tr>\n",
       "      <th>9</th>\n",
       "      <td>FCDandmTOR</td>\n",
       "      <td>FCD &amp; mTOR</td>\n",
       "      <td>Cortical Malformations</td>\n",
       "      <td>in vitro\\n(Micali et al)</td>\n",
       "    </tr>\n",
       "    <tr>\n",
       "      <th>10</th>\n",
       "      <td>DevDyslexia</td>\n",
       "      <td>DevDys</td>\n",
       "      <td>Cortical Malformations</td>\n",
       "      <td>in vitro\\n(Micali et al)</td>\n",
       "    </tr>\n",
       "    <tr>\n",
       "      <th>11</th>\n",
       "      <td>DD</td>\n",
       "      <td>DevDel</td>\n",
       "      <td>Dev.Delay-ASD</td>\n",
       "      <td>in vitro\\n(Micali et al)</td>\n",
       "    </tr>\n",
       "    <tr>\n",
       "      <th>12</th>\n",
       "      <td>SFAR_Synd</td>\n",
       "      <td>SFAR (SYND)</td>\n",
       "      <td>Dev.Delay-ASD</td>\n",
       "      <td>in vitro\\n(Micali et al)</td>\n",
       "    </tr>\n",
       "    <tr>\n",
       "      <th>13</th>\n",
       "      <td>SFAR_S1</td>\n",
       "      <td>SFAR (S1)</td>\n",
       "      <td>Dev.Delay-ASD</td>\n",
       "      <td>in vitro\\n(Micali et al)</td>\n",
       "    </tr>\n",
       "    <tr>\n",
       "      <th>14</th>\n",
       "      <td>SFAR_S2</td>\n",
       "      <td>SFAR (S2)</td>\n",
       "      <td>Dev.Delay-ASD</td>\n",
       "      <td>in vitro\\n(Micali et al)</td>\n",
       "    </tr>\n",
       "    <tr>\n",
       "      <th>15</th>\n",
       "      <td>SFAR_S3</td>\n",
       "      <td>SFAR (S3)</td>\n",
       "      <td>Dev.Delay-ASD</td>\n",
       "      <td>in vitro\\n(Micali et al)</td>\n",
       "    </tr>\n",
       "    <tr>\n",
       "      <th>16</th>\n",
       "      <td>ASD_HC65</td>\n",
       "      <td>ASD HC65</td>\n",
       "      <td>Dev.Delay-ASD</td>\n",
       "      <td>in vitro\\n(Micali et al)</td>\n",
       "    </tr>\n",
       "    <tr>\n",
       "      <th>17</th>\n",
       "      <td>ASD_2019</td>\n",
       "      <td>ASD 2019</td>\n",
       "      <td>GWAS Hits</td>\n",
       "      <td>in vitro\\n(Micali et al)</td>\n",
       "    </tr>\n",
       "    <tr>\n",
       "      <th>18</th>\n",
       "      <td>ADHD_2019</td>\n",
       "      <td>ADHD 2019</td>\n",
       "      <td>GWAS Hits</td>\n",
       "      <td>in vitro\\n(Micali et al)</td>\n",
       "    </tr>\n",
       "    <tr>\n",
       "      <th>19</th>\n",
       "      <td>AN_2019</td>\n",
       "      <td>AN 2019</td>\n",
       "      <td>GWAS Hits</td>\n",
       "      <td>in vitro\\n(Micali et al)</td>\n",
       "    </tr>\n",
       "    <tr>\n",
       "      <th>20</th>\n",
       "      <td>SCZ_2020</td>\n",
       "      <td>SCZ 2020</td>\n",
       "      <td>GWAS Hits</td>\n",
       "      <td>in vitro\\n(Micali et al)</td>\n",
       "    </tr>\n",
       "    <tr>\n",
       "      <th>21</th>\n",
       "      <td>BD_2019</td>\n",
       "      <td>BD 2019</td>\n",
       "      <td>GWAS Hits</td>\n",
       "      <td>in vitro\\n(Micali et al)</td>\n",
       "    </tr>\n",
       "    <tr>\n",
       "      <th>22</th>\n",
       "      <td>MDD_2018</td>\n",
       "      <td>MDD 2018</td>\n",
       "      <td>GWAS Hits</td>\n",
       "      <td>in vitro\\n(Micali et al)</td>\n",
       "    </tr>\n",
       "    <tr>\n",
       "      <th>23</th>\n",
       "      <td>NEUROT_2018</td>\n",
       "      <td>NEUROT 2018</td>\n",
       "      <td>GWAS Hits</td>\n",
       "      <td>in vitro\\n(Micali et al)</td>\n",
       "    </tr>\n",
       "    <tr>\n",
       "      <th>24</th>\n",
       "      <td>PD_2014</td>\n",
       "      <td>PD 2014</td>\n",
       "      <td>GWAS Hits</td>\n",
       "      <td>in vitro\\n(Micali et al)</td>\n",
       "    </tr>\n",
       "    <tr>\n",
       "      <th>25</th>\n",
       "      <td>AD_2019</td>\n",
       "      <td>AD 2019</td>\n",
       "      <td>GWAS Hits</td>\n",
       "      <td>in vitro\\n(Micali et al)</td>\n",
       "    </tr>\n",
       "  </tbody>\n",
       "</table>\n",
       "</div>"
      ],
      "text/plain": [
       "           Disease DiseaseLabel            DiseaseGroup  \\\n",
       "1              All          All                     All   \n",
       "2     Microcephaly          MIC  Cortical Malformations   \n",
       "3    Lissencephaly          LIS  Cortical Malformations   \n",
       "4      Cobblestone          COB  Cortical Malformations   \n",
       "5      Heterotopia          HET  Cortical Malformations   \n",
       "6   Polymicrogyria         POLY  Cortical Malformations   \n",
       "7     Hydrocephaly          HYD  Cortical Malformations   \n",
       "8          RareMCD          MCD  Cortical Malformations   \n",
       "9       FCDandmTOR   FCD & mTOR  Cortical Malformations   \n",
       "10     DevDyslexia       DevDys  Cortical Malformations   \n",
       "11              DD       DevDel           Dev.Delay-ASD   \n",
       "12       SFAR_Synd  SFAR (SYND)           Dev.Delay-ASD   \n",
       "13         SFAR_S1    SFAR (S1)           Dev.Delay-ASD   \n",
       "14         SFAR_S2    SFAR (S2)           Dev.Delay-ASD   \n",
       "15         SFAR_S3    SFAR (S3)           Dev.Delay-ASD   \n",
       "16        ASD_HC65     ASD HC65           Dev.Delay-ASD   \n",
       "17        ASD_2019     ASD 2019               GWAS Hits   \n",
       "18       ADHD_2019    ADHD 2019               GWAS Hits   \n",
       "19         AN_2019      AN 2019               GWAS Hits   \n",
       "20        SCZ_2020     SCZ 2020               GWAS Hits   \n",
       "21         BD_2019      BD 2019               GWAS Hits   \n",
       "22        MDD_2018     MDD 2018               GWAS Hits   \n",
       "23     NEUROT_2018  NEUROT 2018               GWAS Hits   \n",
       "24         PD_2014      PD 2014               GWAS Hits   \n",
       "25         AD_2019      AD 2019               GWAS Hits   \n",
       "\n",
       "                     Dataset  \n",
       "1   in vitro\\n(Micali et al)  \n",
       "2   in vitro\\n(Micali et al)  \n",
       "3   in vitro\\n(Micali et al)  \n",
       "4   in vitro\\n(Micali et al)  \n",
       "5   in vitro\\n(Micali et al)  \n",
       "6   in vitro\\n(Micali et al)  \n",
       "7   in vitro\\n(Micali et al)  \n",
       "8   in vitro\\n(Micali et al)  \n",
       "9   in vitro\\n(Micali et al)  \n",
       "10  in vitro\\n(Micali et al)  \n",
       "11  in vitro\\n(Micali et al)  \n",
       "12  in vitro\\n(Micali et al)  \n",
       "13  in vitro\\n(Micali et al)  \n",
       "14  in vitro\\n(Micali et al)  \n",
       "15  in vitro\\n(Micali et al)  \n",
       "16  in vitro\\n(Micali et al)  \n",
       "17  in vitro\\n(Micali et al)  \n",
       "18  in vitro\\n(Micali et al)  \n",
       "19  in vitro\\n(Micali et al)  \n",
       "20  in vitro\\n(Micali et al)  \n",
       "21  in vitro\\n(Micali et al)  \n",
       "22  in vitro\\n(Micali et al)  \n",
       "23  in vitro\\n(Micali et al)  \n",
       "24  in vitro\\n(Micali et al)  \n",
       "25  in vitro\\n(Micali et al)  "
      ]
     },
     "execution_count": 35,
     "metadata": {},
     "output_type": "execute_result"
    }
   ],
   "source": [
    "dis_info"
   ]
  },
  {
   "cell_type": "code",
   "execution_count": null,
   "id": "cea72935-d9ed-4002-91cb-995577625059",
   "metadata": {
    "execution": {
     "iopub.execute_input": "2025-01-23T12:40:34.241556Z",
     "iopub.status.busy": "2025-01-23T12:40:34.240912Z",
     "iopub.status.idle": "2025-01-23T12:40:35.158019Z",
     "shell.execute_reply": "2025-01-23T12:40:35.155973Z",
     "shell.execute_reply.started": "2025-01-23T12:40:34.241502Z"
    }
   },
   "outputs": [],
   "source": [
    "## Using at least 1 count\n",
    "\n",
    "dis_exp = {}\n",
    "for disease in diseases.columns:\n",
    "    \n",
    "    \n",
    "    dis_genes = diseases.index[diseases.loc[:, disease].astype(bool)]\n",
    "    dis_genes_clean = dis_genes[dis_genes.isin(adataRG.var_names)]\n",
    "    n_exp = (expdata.loc[dis_genes_clean,'Total expression'] > 0).sum()\n",
    "    \n",
    "    \n",
    "    dis_exp[disease] = {\n",
    "        'n.exp': n_exp,\n",
    "        'n.present': len(dis_genes_clean),\n",
    "        'n.NOTpresent': len(dis_genes) - len(dis_genes_clean),\n",
    "        'Disease': disease\n",
    "    }\n",
    "\n",
    "# dis_exp: Dictionary storing expression summary for each disease (using >=1 count threshold)\n",
    "dis_exp = pd.DataFrame(dis_exp).T\n",
    "dis_exp = pd.merge(dis_exp, dis_info, on = 'Disease')\n",
    "\n",
    "output_csv_path_1count = './disease_expression.get1count.Linnarsson.RadialGlia.FT.FCST.csv'\n",
    "dis_exp.to_csv(output_csv_path_1count)"
   ]
  },
  {
   "cell_type": "code",
   "execution_count": null,
   "id": "8b1008ca-d0b2-455a-8ca6-b1d4635297bb",
   "metadata": {
    "execution": {
     "iopub.execute_input": "2025-01-23T12:40:35.161540Z",
     "iopub.status.busy": "2025-01-23T12:40:35.160966Z",
     "iopub.status.idle": "2025-01-23T12:40:35.395587Z",
     "shell.execute_reply": "2025-01-23T12:40:35.394091Z",
     "shell.execute_reply.started": "2025-01-23T12:40:35.161488Z"
    }
   },
   "outputs": [],
   "source": [
    "## Using at least 5 count\n",
    "\n",
    "dis_exp = {}\n",
    "for disease in diseases.columns:\n",
    "    \n",
    "    \n",
    "    dis_genes = diseases.index[diseases.loc[:, disease].astype(bool)]\n",
    "    dis_genes_clean = dis_genes[dis_genes.isin(adataRG.var_names)]\n",
    "    n_exp = (expdata.loc[dis_genes_clean,'Total expression'] >= 5).sum()\n",
    "    \n",
    "    dis_exp[disease] = {\n",
    "        'n.exp': n_exp,\n",
    "        'n.present': len(dis_genes_clean),\n",
    "        'n.NOTpresent': len(dis_genes) - len(dis_genes_clean),\n",
    "        'Disease': disease\n",
    "    }\n",
    "\n",
    "# dis_exp: Dictionary storing expression summary for each disease (using >=5 count threshold)\n",
    "dis_exp = pd.DataFrame(dis_exp).T\n",
    "dis_exp = pd.merge(dis_exp, dis_info, on = 'Disease')\n",
    "\n",
    "output_csv_path_5count = './disease_expression.get5count.Linnarsson.RadialGlia.FT.FCST.csv'\n",
    "dis_exp.to_csv(output_csv_path_5count)"
   ]
  },
  {
   "cell_type": "code",
   "execution_count": null,
   "id": "99895b0f-1e9c-48e1-9f8a-16df8b8b3919",
   "metadata": {
    "execution": {
     "iopub.execute_input": "2025-01-23T12:40:35.397448Z",
     "iopub.status.busy": "2025-01-23T12:40:35.397192Z",
     "iopub.status.idle": "2025-01-23T12:40:35.756875Z",
     "shell.execute_reply": "2025-01-23T12:40:35.755245Z",
     "shell.execute_reply.started": "2025-01-23T12:40:35.397426Z"
    }
   },
   "outputs": [],
   "source": [
    "## Using at least 5 percent of cells\n",
    "\n",
    "dis_exp = {}\n",
    "for disease in diseases.columns:\n",
    "    \n",
    "    \n",
    "    dis_genes = diseases.index[diseases.loc[:, disease].astype(bool)]\n",
    "    dis_genes_clean = dis_genes[dis_genes.isin(adataRG.var_names)]\n",
    "    n_exp = (expdata.loc[dis_genes_clean,'Percentage expression'] >= .05).sum()\n",
    "    \n",
    "    \n",
    "    dis_exp[disease] = {\n",
    "        'n.exp': n_exp,\n",
    "        'n.present': len(dis_genes_clean),\n",
    "        'n.NOTpresent': len(dis_genes) - len(dis_genes_clean),\n",
    "        'Disease': disease\n",
    "    }\n",
    "\n",
    "# dis_exp: Dictionary storing expression summary for each disease (using >=5% cell threshold)\n",
    "dis_exp = pd.DataFrame(dis_exp).T\n",
    "dis_exp = pd.merge(dis_exp, dis_info, on = 'Disease')\n",
    "\n",
    "output_csv_path_5pct = './disease_expression.get5pct.Linnarsson.RadialGlia.FT.FCST.csv'\n",
    "dis_exp.to_csv(output_csv_path_5pct)"
   ]
  }
 ],
 "metadata": {
  "kernelspec": {
   "display_name": "EWCE (Python 3.12.5) [NG]",
   "language": "python",
   "name": "ewce2024_py_ng"
  },
  "language_info": {
   "codemirror_mode": {
    "name": "ipython",
    "version": 3
   },
   "file_extension": ".py",
   "mimetype": "text/x-python",
   "name": "python",
   "nbconvert_exporter": "python",
   "pygments_lexer": "ipython3",
   "version": "3.12.5"
  },
  "widgets": {
   "application/vnd.jupyter.widget-state+json": {
    "state": {},
    "version_major": 2,
    "version_minor": 0
   }
  }
 },
 "nbformat": 4,
 "nbformat_minor": 5
}
