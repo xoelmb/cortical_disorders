{
 "cells": [
  {
   "cell_type": "markdown",
   "id": "08c0d429-1666-4395-b9cf-6f62657cede2",
   "metadata": {},
   "source": [
    "# Set-up"
   ]
  },
  {
   "cell_type": "code",
   "execution_count": null,
   "id": "c0430ea3-4e51-4e0c-99d4-c5923437d1e1",
   "metadata": {
    "execution": {
     "iopub.execute_input": "2024-11-28T09:42:09.253404Z",
     "iopub.status.busy": "2024-11-28T09:42:09.252799Z",
     "iopub.status.idle": "2024-11-28T09:42:16.884545Z",
     "shell.execute_reply": "2024-11-28T09:42:16.882806Z",
     "shell.execute_reply.started": "2024-11-28T09:42:09.253346Z"
    },
    "tags": []
   },
   "outputs": [
    {
     "name": "stderr",
     "output_type": "stream",
     "text": [
      "/projects_ng/environments/EWCE2024/lib/python3.12/site-packages/tqdm/auto.py:21: TqdmWarning: IProgress not found. Please update jupyter and ipywidgets. See https://ipywidgets.readthedocs.io/en/stable/user_install.html\n",
      "  from .autonotebook import tqdm as notebook_tqdm\n"
     ]
    }
   ],
   "source": [
    "import h5py\n",
    "from scipy.sparse import csr_matrix\n",
    "from scipy.io import mmwrite\n",
    "import numpy as np\n",
    "import pandas as pd\n",
    "import anndata as ad\n",
    "import scanpy as sc\n",
    "from tqdm.auto import tqdm\n",
    "\n",
    "indir = '/projects_ng/SC_DATA/LinnarsonBraun/'\n",
    "outdir = './data/'"
   ]
  },
  {
   "cell_type": "code",
   "execution_count": 2,
   "id": "eec0e9bb-1c3c-4e49-b6f0-67198f23b9b3",
   "metadata": {
    "execution": {
     "iopub.execute_input": "2024-11-28T09:42:16.886789Z",
     "iopub.status.busy": "2024-11-28T09:42:16.886315Z",
     "iopub.status.idle": "2024-11-28T09:42:17.208753Z",
     "shell.execute_reply": "2024-11-28T09:42:17.206615Z",
     "shell.execute_reply.started": "2024-11-28T09:42:16.886755Z"
    }
   },
   "outputs": [
    {
     "name": "stdout",
     "output_type": "stream",
     "text": [
      "File ‘/projects_ng/SC_DATA/LinnarsonBraun/HumanFetalBrainPool.h5’ already there; not retrieving.\n"
     ]
    }
   ],
   "source": [
    "data_url = 'https://storage.googleapis.com/linnarsson-lab-human/HumanFetalBrainPool.h5'\n",
    "data_fname = f\"{indir}HumanFetalBrainPool.h5\"\n",
    "\n",
    "!mkdir -p $(dirname {data_fname})\n",
    "!wget -nc -O {data_fname} {data_url}"
   ]
  },
  {
   "cell_type": "code",
   "execution_count": null,
   "id": "a95840cb-1eaa-41ea-b9b8-87b56f8c05c4",
   "metadata": {
    "execution": {
     "iopub.execute_input": "2024-11-28T09:42:17.211887Z",
     "iopub.status.busy": "2024-11-28T09:42:17.211268Z",
     "iopub.status.idle": "2024-11-28T09:42:17.477897Z",
     "shell.execute_reply": "2024-11-28T09:42:17.475863Z",
     "shell.execute_reply.started": "2024-11-28T09:42:17.211822Z"
    }
   },
   "outputs": [
    {
     "name": "stdout",
     "output_type": "stream",
     "text": [
      "File ‘/projects_ng/SC_DATA/LinnarsonBraun/human_dev.h5ad’ already there; not retrieving.\n"
     ]
    }
   ],
   "source": [
    "data_url = 'https://storage.googleapis.com/linnarsson-lab-human/human_dev.h5ad'\n",
    "data_fname = f\"{indir}human_dev.h5ad\"\n",
    "\n",
    "\n",
    "!mkdir -p $(dirname {data_fname})\n",
    "!wget -nc -O {data_fname} {data_url}"
   ]
  },
  {
   "cell_type": "markdown",
   "id": "cb00265e-8c0d-4d62-bea5-2821db8b097d",
   "metadata": {
    "tags": []
   },
   "source": [
    "# **Part 1: Load the data** `.h5 -> .csv + .mtx`"
   ]
  },
  {
   "cell_type": "code",
   "execution_count": 4,
   "id": "319485b8-5908-4561-a864-6a509d31461d",
   "metadata": {
    "execution": {
     "iopub.execute_input": "2024-11-28T09:42:21.575229Z",
     "iopub.status.busy": "2024-11-28T09:42:21.574556Z",
     "iopub.status.idle": "2024-11-28T09:42:21.586268Z",
     "shell.execute_reply": "2024-11-28T09:42:21.584426Z",
     "shell.execute_reply.started": "2024-11-28T09:42:21.575162Z"
    }
   },
   "outputs": [],
   "source": [
    "filename =  f\"{indir}HumanFetalBrainPool.h5\"\n",
    "f = h5py.File(filename, \"r\")\n"
   ]
  },
  {
   "cell_type": "code",
   "execution_count": 5,
   "id": "568e1a8d-3911-4b09-a90e-d72fcf0dd155",
   "metadata": {
    "execution": {
     "iopub.execute_input": "2024-11-28T09:42:28.152176Z",
     "iopub.status.busy": "2024-11-28T09:42:28.151492Z",
     "iopub.status.idle": "2024-11-28T09:42:28.182048Z",
     "shell.execute_reply": "2024-11-28T09:42:28.180586Z",
     "shell.execute_reply.started": "2024-11-28T09:42:28.152119Z"
    }
   },
   "outputs": [],
   "source": [
    "atts = pd.DataFrame([{k: f['shoji'][k].shape for k in f['shoji'].keys()}]).T.reset_index().rename({'index': 'key', 0: 'dims'}, axis=1)\n",
    "atts = atts.sort_values('dims')"
   ]
  },
  {
   "cell_type": "code",
   "execution_count": 6,
   "id": "290e38ea-1355-4d80-9482-ce26d1d03e4c",
   "metadata": {
    "execution": {
     "iopub.execute_input": "2024-11-28T09:42:28.844445Z",
     "iopub.status.busy": "2024-11-28T09:42:28.843882Z",
     "iopub.status.idle": "2024-11-28T09:42:28.925350Z",
     "shell.execute_reply": "2024-11-28T09:42:28.923615Z",
     "shell.execute_reply.started": "2024-11-28T09:42:28.844394Z"
    }
   },
   "outputs": [],
   "source": [
    "dim_names = {\n",
    "    '51': 'annotation',\n",
    "    '617': 'clusters',\n",
    "    '59480': 'genes',\n",
    "    '1665937': 'ncells'\n",
    "}\n",
    "a = atts['dims'].astype(str)\n",
    "for s,r in dim_names.items():\n",
    "    a = a.str.replace(s,r)\n",
    "atts['dim_names'] = a\n",
    "att_groups = {k: v.values for k, v in atts.groupby('dim_names')['key']}\n"
   ]
  },
  {
   "cell_type": "code",
   "execution_count": 7,
   "id": "290c49da-0740-4058-8f21-cb0d7049bab3",
   "metadata": {
    "execution": {
     "iopub.execute_input": "2024-11-28T09:42:33.372703Z",
     "iopub.status.busy": "2024-11-28T09:42:33.372127Z",
     "iopub.status.idle": "2024-11-28T09:42:36.111897Z",
     "shell.execute_reply": "2024-11-28T09:42:36.110921Z",
     "shell.execute_reply.started": "2024-11-28T09:42:33.372653Z"
    }
   },
   "outputs": [],
   "source": [
    "# factors and embeddings:\n",
    "dfs = dict(\n",
    "    Embedding = f['shoji'][att_groups['(ncells, 2)'][0]][()],\n",
    "    Factors = f['shoji'][att_groups['(ncells, 50)'][0]][()],\n",
    "    Loadings = f['shoji'][att_groups['(genes, 50)'][0]][()])"
   ]
  },
  {
   "cell_type": "code",
   "execution_count": 8,
   "id": "6b78ab95-3365-44e1-96d7-2f06a4cb5a2e",
   "metadata": {
    "execution": {
     "iopub.execute_input": "2024-11-28T09:42:36.113369Z",
     "iopub.status.busy": "2024-11-28T09:42:36.113204Z",
     "iopub.status.idle": "2024-11-28T09:42:36.117779Z",
     "shell.execute_reply": "2024-11-28T09:42:36.117135Z",
     "shell.execute_reply.started": "2024-11-28T09:42:36.113356Z"
    }
   },
   "outputs": [],
   "source": [
    "# Clusters x annotations\n",
    "dfs.update(dict(ClusterAnnotationPosterior = f['shoji'][att_groups['(clusters, annotation)'][0]][()]))"
   ]
  },
  {
   "cell_type": "code",
   "execution_count": 9,
   "id": "9a09ef1b-041a-4766-933d-a284000662f4",
   "metadata": {
    "execution": {
     "iopub.execute_input": "2024-11-28T09:42:36.118703Z",
     "iopub.status.busy": "2024-11-28T09:42:36.118434Z",
     "iopub.status.idle": "2024-11-28T09:42:39.544387Z",
     "shell.execute_reply": "2024-11-28T09:42:39.543671Z",
     "shell.execute_reply.started": "2024-11-28T09:42:36.118684Z"
    }
   },
   "outputs": [],
   "source": [
    "# Clusters x genes\n",
    "dfs.update({f'ClusterGenes.{k}': f['shoji'][k][()] for k in att_groups['(clusters, genes)']})"
   ]
  },
  {
   "cell_type": "code",
   "execution_count": 10,
   "id": "b331e4c8-ef67-4280-996a-1f594f5eb4b0",
   "metadata": {
    "execution": {
     "iopub.execute_input": "2024-11-28T09:42:39.545254Z",
     "iopub.status.busy": "2024-11-28T09:42:39.545108Z",
     "iopub.status.idle": "2024-11-28T09:42:39.552458Z",
     "shell.execute_reply": "2024-11-28T09:42:39.551785Z",
     "shell.execute_reply.started": "2024-11-28T09:42:39.545241Z"
    }
   },
   "outputs": [],
   "source": [
    "# AnnotationInfo\n",
    "AnnotationInfo = {k: f['shoji'][k][()] for k in att_groups['(annotation,)']}\n",
    "dfs.update(dict(AnnotationInfo = pd.DataFrame(AnnotationInfo).apply(lambda x: x.str.decode(\"utf-8\") , 0)))"
   ]
  },
  {
   "cell_type": "code",
   "execution_count": 29,
   "id": "24d5c162-4f62-452e-adaa-56740a5dde6b",
   "metadata": {
    "execution": {
     "iopub.execute_input": "2024-11-28T09:50:51.699324Z",
     "iopub.status.busy": "2024-11-28T09:50:51.698704Z",
     "iopub.status.idle": "2024-11-28T09:50:59.426473Z",
     "shell.execute_reply": "2024-11-28T09:50:59.425706Z",
     "shell.execute_reply.started": "2024-11-28T09:50:51.699272Z"
    }
   },
   "outputs": [],
   "source": [
    "# CellInfo\n",
    "CellInfo = {k: f['shoji'][k][()] for k in att_groups['(ncells,)']}\n",
    "dfs.update(dict(CellInfo = pd.DataFrame(CellInfo).apply(lambda x: x if not x.dtype == 'O' else x.str.decode(\"utf-8\") , 0)))"
   ]
  },
  {
   "cell_type": "code",
   "execution_count": 12,
   "id": "dfe15325-bae0-4148-9e7f-f4ff4d3f82c1",
   "metadata": {
    "execution": {
     "iopub.execute_input": "2024-11-28T09:42:47.335368Z",
     "iopub.status.busy": "2024-11-28T09:42:47.335144Z",
     "iopub.status.idle": "2024-11-28T09:42:47.344882Z",
     "shell.execute_reply": "2024-11-28T09:42:47.344332Z",
     "shell.execute_reply.started": "2024-11-28T09:42:47.335348Z"
    }
   },
   "outputs": [],
   "source": [
    "# ClusterInfo\n",
    "ClusterInfo = {k: f['shoji'][k][()] for k in att_groups['(clusters,)']}\n",
    "dfs.update(dict(ClusterInfo = pd.DataFrame(ClusterInfo).apply(lambda x: x if not x.dtype == 'O' else x.str.decode(\"utf-8\") , 0)))"
   ]
  },
  {
   "cell_type": "code",
   "execution_count": 13,
   "id": "e8247774-3e4c-448c-bb6e-f346dc30e4f4",
   "metadata": {
    "execution": {
     "iopub.execute_input": "2024-11-28T09:42:47.345746Z",
     "iopub.status.busy": "2024-11-28T09:42:47.345593Z",
     "iopub.status.idle": "2024-11-28T09:42:48.418759Z",
     "shell.execute_reply": "2024-11-28T09:42:48.418035Z",
     "shell.execute_reply.started": "2024-11-28T09:42:47.345732Z"
    }
   },
   "outputs": [],
   "source": [
    "# GeneInfo\n",
    "GeneInfo = {k: f['shoji'][k][()] for k in att_groups['(genes,)']}\n",
    "dfs.update(dict(GeneInfo = pd.DataFrame(GeneInfo).apply(lambda x: x if not x.dtype == 'O' else x.str.decode(\"utf-8\") , 0)))"
   ]
  },
  {
   "cell_type": "code",
   "execution_count": 120,
   "id": "7dd3d951-7b6b-4966-9911-a6904026e8e6",
   "metadata": {
    "execution": {
     "iopub.execute_input": "2024-11-28T10:57:05.023921Z",
     "iopub.status.busy": "2024-11-28T10:57:05.023253Z",
     "iopub.status.idle": "2024-11-28T10:57:05.031817Z",
     "shell.execute_reply": "2024-11-28T10:57:05.029831Z",
     "shell.execute_reply.started": "2024-11-28T10:57:05.023867Z"
    }
   },
   "outputs": [],
   "source": [
    "expression_is_loaded = False"
   ]
  },
  {
   "cell_type": "code",
   "execution_count": null,
   "id": "9074f08d-80d7-43cf-a35a-1d6cbef75930",
   "metadata": {
    "execution": {
     "iopub.execute_input": "2024-11-28T09:25:03.705369Z",
     "iopub.status.busy": "2024-11-28T09:25:03.705235Z"
    }
   },
   "outputs": [],
   "source": [
    "# Expression\n",
    "Expression = csr_matrix(f['shoji'][att_groups['(ncells, genes)'][0]][()])\n",
    "expression_is_loaded = True"
   ]
  },
  {
   "cell_type": "code",
   "execution_count": null,
   "id": "f7e47525-89b4-4a7e-9ab0-3e9314507d89",
   "metadata": {},
   "outputs": [],
   "source": [
    "f.close()"
   ]
  },
  {
   "cell_type": "markdown",
   "id": "5ff67af5-f980-4266-80aa-57c186bbd819",
   "metadata": {},
   "source": [
    "## Save the dataframes"
   ]
  },
  {
   "cell_type": "code",
   "execution_count": 14,
   "id": "bb341bef-943f-46d5-9046-15a51f1ac2cc",
   "metadata": {
    "execution": {
     "iopub.execute_input": "2024-11-28T09:42:48.419641Z",
     "iopub.status.busy": "2024-11-28T09:42:48.419504Z",
     "iopub.status.idle": "2024-11-28T09:44:53.199631Z",
     "shell.execute_reply": "2024-11-28T09:44:53.198917Z",
     "shell.execute_reply.started": "2024-11-28T09:42:48.419628Z"
    }
   },
   "outputs": [
    {
     "name": "stderr",
     "output_type": "stream",
     "text": [
      "100%|██████████| 12/12 [02:04<00:00, 10.39s/it]\n"
     ]
    }
   ],
   "source": [
    "for k, df in tqdm(dfs.items()):\n",
    "    if isinstance(df, pd.DataFrame):\n",
    "        df.to_csv(f'{outdir}{k}.csv')\n",
    "    else:\n",
    "        np.savetxt(f'{outdir}{k}.csv', df, delimiter=',')"
   ]
  },
  {
   "cell_type": "markdown",
   "id": "9ad703cf-f438-40ee-8f87-aaf9b24f9135",
   "metadata": {},
   "source": [
    "## Save the expression matrix"
   ]
  },
  {
   "cell_type": "code",
   "execution_count": null,
   "id": "cff4432f-69cc-4293-8fca-72222d934506",
   "metadata": {},
   "outputs": [],
   "source": [
    "mmwrite(f'{outdir}Expression_ValidGenes.sparseMatrix.mtx', \n",
    "        Expression[:,dfs['GeneInfo']['ValidGenes']], \n",
    "        comment = 'Expression_ValidGenes')\n",
    "\n",
    "mmwrite(f'{outdir}Expression.sparseMatrix.mtx', \n",
    "        Expression, \n",
    "        comment = 'Expression')"
   ]
  },
  {
   "cell_type": "markdown",
   "id": "a9750064-460f-4b05-9f05-62efd8389fce",
   "metadata": {
    "tags": []
   },
   "source": [
    "# **Part 2: Update the annotation**  \n",
    "## `Run after processing the lineage annotation` "
   ]
  },
  {
   "cell_type": "code",
   "execution_count": 71,
   "id": "704293f6-916d-4e0b-9ab2-3568115036d0",
   "metadata": {
    "execution": {
     "iopub.execute_input": "2024-11-28T10:24:37.386672Z",
     "iopub.status.busy": "2024-11-28T10:24:37.386096Z",
     "iopub.status.idle": "2024-11-28T10:24:37.641719Z",
     "shell.execute_reply": "2024-11-28T10:24:37.640188Z",
     "shell.execute_reply.started": "2024-11-28T10:24:37.386621Z"
    }
   },
   "outputs": [],
   "source": [
    "cellmeta = dfs['CellInfo'].copy()"
   ]
  },
  {
   "cell_type": "code",
   "execution_count": 73,
   "id": "0d78789f-20f5-42e0-9aff-884107fc4d47",
   "metadata": {
    "execution": {
     "iopub.execute_input": "2024-11-28T10:24:37.992705Z",
     "iopub.status.busy": "2024-11-28T10:24:37.992466Z",
     "iopub.status.idle": "2024-11-28T10:24:38.469533Z",
     "shell.execute_reply": "2024-11-28T10:24:38.467962Z",
     "shell.execute_reply.started": "2024-11-28T10:24:37.992684Z"
    }
   },
   "outputs": [],
   "source": [
    "new_anno = pd.read_excel('./cluster_lineage_annotation.summary.xlsx')"
   ]
  },
  {
   "cell_type": "code",
   "execution_count": 74,
   "id": "ea7a2cd7-7666-4b07-ac71-e8bd64f01088",
   "metadata": {
    "execution": {
     "iopub.execute_input": "2024-11-28T10:24:38.471243Z",
     "iopub.status.busy": "2024-11-28T10:24:38.471003Z",
     "iopub.status.idle": "2024-11-28T10:24:49.977434Z",
     "shell.execute_reply": "2024-11-28T10:24:49.976749Z",
     "shell.execute_reply.started": "2024-11-28T10:24:38.471222Z"
    }
   },
   "outputs": [],
   "source": [
    "cellmeta = cellmeta.merge(new_anno[['ClusterID.(PoolClean)', 'LongName', 'ShortName', 'discarded']], \n",
    "                          left_on='Clusters', right_on = 'ClusterID.(PoolClean)', sort=False)\n",
    "\n",
    "cellmeta.to_csv(f'{outdir}CellInfo.annotated.csv')"
   ]
  },
  {
   "cell_type": "markdown",
   "id": "a3c0af81-f2aa-4da0-a778-f0f59e3ef5d0",
   "metadata": {
    "tags": []
   },
   "source": [
    "# **Part 3: Save the subsets for analysis**  "
   ]
  },
  {
   "cell_type": "code",
   "execution_count": 86,
   "id": "841a43ae-36c6-4a11-b228-d31837f527d2",
   "metadata": {
    "execution": {
     "iopub.execute_input": "2024-11-28T10:28:46.805108Z",
     "iopub.status.busy": "2024-11-28T10:28:46.804534Z",
     "iopub.status.idle": "2024-11-28T10:28:46.812290Z",
     "shell.execute_reply": "2024-11-28T10:28:46.810219Z",
     "shell.execute_reply.started": "2024-11-28T10:28:46.805058Z"
    }
   },
   "outputs": [],
   "source": [
    "import time\n"
   ]
  },
  {
   "cell_type": "code",
   "execution_count": 88,
   "id": "f2601a7c-1223-4630-9099-fb6f2991fd69",
   "metadata": {
    "execution": {
     "iopub.execute_input": "2024-11-28T10:35:28.305986Z",
     "iopub.status.busy": "2024-11-28T10:35:28.305296Z",
     "iopub.status.idle": "2024-11-28T10:35:28.925086Z",
     "shell.execute_reply": "2024-11-28T10:35:28.923581Z",
     "shell.execute_reply.started": "2024-11-28T10:35:28.305921Z"
    }
   },
   "outputs": [],
   "source": [
    "cellmeta.Age.nunique() == cellmeta.Age.round(2).nunique()\n",
    "cellmeta.Age = cellmeta.Age.round(2).astype(str)\n",
    "\n",
    "cellmeta.Subregion = cellmeta.Subregion.str.replace(' ', '_')"
   ]
  },
  {
   "cell_type": "code",
   "execution_count": null,
   "id": "ce57a166-30a5-4e04-a16e-5ce28a17b111",
   "metadata": {
    "execution": {
     "iopub.execute_input": "2024-11-28T10:59:56.923266Z",
     "iopub.status.busy": "2024-11-28T10:59:56.922635Z",
     "iopub.status.idle": "2024-11-28T11:52:06.560766Z",
     "shell.execute_reply": "2024-11-28T11:52:06.559247Z",
     "shell.execute_reply.started": "2024-11-28T10:59:56.923211Z"
    },
    "scrolled": true
   },
   "outputs": [
    {
     "name": "stderr",
     "output_type": "stream",
     "text": [
      "\n",
      "100%|██████████| 84/84 [05:17<00:00,  3.78s/it]\n"
     ]
    },
    {
     "name": "stdout",
     "output_type": "stream",
     "text": [
      "[Brain][6.0]\n",
      "    - Starting 85999 cells\n",
      "    - Selected 85160 cells\n",
      "    - Included cell types: RGC, ExNeuBl, ExNeu, InNeu, InNeuBl, ExNeuIPC, InNeuIPC, Imm, Pery\n",
      "    - Excluded cell types: Endo, Eryt, OPC, GlioBl, COPs, Fibr\n",
      "    -> Saving to ./data//by_Subregion/Brain/by_Age/6.0/...\n",
      "    \n",
      "...Saving metadata\n",
      "...Getting expression\n",
      "...Saving expression\n"
     ]
    },
    {
     "name": "stderr",
     "output_type": "stream",
     "text": [
      "\n",
      "  1%|          | 1/84 [05:15<7:16:01, 315.20s/it]\u001b[A\n",
      "  2%|▏         | 2/84 [05:15<2:57:28, 129.86s/it]\u001b[A"
     ]
    },
    {
     "name": "stdout",
     "output_type": "stream",
     "text": [
      "-> Done in 314.65 seconds!#########################\n",
      "\n",
      "[Cortex][10.0]\n",
      "    - Starting 51372 cells\n",
      "    - Selected 51210 cells\n",
      "    - Included cell types: ExNeu, RGC, ExNeuBl, ExNeuIPC, GlioBl, InNeu, Imm\n",
      "    - Excluded cell types: Pery, Eryt, OPC, Endo, COPs, VSMC, InNeuIPC\n",
      "    -> Saving to ./data//by_Subregion/Cortex/by_Age/10.0/...\n",
      "    \n",
      "...Saving metadata\n",
      "...Getting expression\n",
      "...Saving expression\n"
     ]
    },
    {
     "name": "stderr",
     "output_type": "stream",
     "text": [
      "\n",
      " 13%|█▎        | 11/84 [08:11<39:28, 32.44s/it]  \u001b[A"
     ]
    },
    {
     "name": "stdout",
     "output_type": "stream",
     "text": [
      "-> Done in 175.85 seconds!#########################\n",
      "\n",
      "[Cortex][11.5]\n",
      "    - Starting 46401 cells\n",
      "    - Selected 46275 cells\n",
      "    - Included cell types: ExNeu, ExNeuBl, GlioBl, RGC, ExNeuIPC, InNeu, Imm, Fibr, Eryt, OPC, InNeuIPC, Pery\n",
      "    - Excluded cell types: Endo, COPs, VSMC, Schwann\n",
      "    -> Saving to ./data//by_Subregion/Cortex/by_Age/11.5/...\n",
      "    \n",
      "...Saving metadata\n",
      "...Getting expression\n",
      "...Saving expression\n"
     ]
    },
    {
     "name": "stderr",
     "output_type": "stream",
     "text": [
      "\n",
      " 14%|█▍        | 12/84 [11:00<59:08, 49.28s/it]\u001b[A"
     ]
    },
    {
     "name": "stdout",
     "output_type": "stream",
     "text": [
      "-> Done in 169.4 seconds!#########################\n",
      "\n",
      "[Cortex][12.0]\n",
      "    - Starting 18668 cells\n",
      "    - Selected 18434 cells\n",
      "    - Included cell types: ExNeuBl, ExNeu, GlioBl, RGC, ExNeuIPC, InNeu, Eryt, Pery\n",
      "    - Excluded cell types: Imm, OPC, Endo, COPs, VSMC\n",
      "    -> Saving to ./data//by_Subregion/Cortex/by_Age/12.0/...\n",
      "    \n",
      "...Saving metadata\n",
      "...Getting expression\n",
      "...Saving expression\n"
     ]
    },
    {
     "name": "stderr",
     "output_type": "stream",
     "text": [
      "\n",
      " 15%|█▌        | 13/84 [12:12<1:02:13, 52.58s/it]\u001b[A"
     ]
    },
    {
     "name": "stdout",
     "output_type": "stream",
     "text": [
      "-> Done in 71.35 seconds!#########################\n",
      "\n",
      "[Cortex][13.0]\n",
      "    - Starting 21012 cells\n",
      "    - Selected 20734 cells\n",
      "    - Included cell types: ExNeu, ExNeuBl, GlioBl, ExNeuIPC, InNeu, RGC, Imm, OPC, Eryt\n",
      "    - Excluded cell types: Pery, InNeuIPC, Endo, COPs, Fibr, VSMC, Schwann\n",
      "    -> Saving to ./data//by_Subregion/Cortex/by_Age/13.0/...\n",
      "    \n",
      "...Saving metadata\n",
      "...Getting expression\n",
      "...Saving expression\n"
     ]
    },
    {
     "name": "stderr",
     "output_type": "stream",
     "text": [
      "\n",
      " 17%|█▋        | 14/84 [13:41<1:08:49, 59.00s/it]\u001b[A"
     ]
    },
    {
     "name": "stdout",
     "output_type": "stream",
     "text": [
      "-> Done in 89.06 seconds!#########################\n",
      "\n",
      "[Cortex][14.0]\n",
      "    - Starting 20441 cells\n",
      "    - Selected 20255 cells\n",
      "    - Included cell types: ExNeu, ExNeuBl, ExNeuIPC, GlioBl, RGC, InNeu, Eryt, Imm, Pery\n",
      "    - Excluded cell types: Endo, OPC, COPs, VSMC, InNeuIPC\n",
      "    -> Saving to ./data//by_Subregion/Cortex/by_Age/14.0/...\n",
      "    \n",
      "...Saving metadata\n",
      "...Getting expression\n",
      "...Saving expression\n"
     ]
    },
    {
     "name": "stderr",
     "output_type": "stream",
     "text": [
      "\n",
      " 18%|█▊        | 15/84 [15:02<1:12:54, 63.40s/it]\u001b[A"
     ]
    },
    {
     "name": "stdout",
     "output_type": "stream",
     "text": [
      "-> Done in 80.94 seconds!#########################\n",
      "\n",
      "[Cortex][6.9]\n",
      "    - Starting 35629 cells\n",
      "    - Selected 35533 cells\n",
      "    - Included cell types: RGC, ExNeuBl, ExNeuIPC, ExNeu, InNeu, InNeuIPC, GlioBl\n",
      "    - Excluded cell types: Imm, Pery, Eryt, Endo, Schwann, InNeuBl\n",
      "    -> Saving to ./data//by_Subregion/Cortex/by_Age/6.9/...\n",
      "    \n",
      "...Saving metadata\n",
      "...Getting expression\n",
      "...Saving expression\n"
     ]
    },
    {
     "name": "stderr",
     "output_type": "stream",
     "text": [
      "\n",
      " 19%|█▉        | 16/84 [17:37<1:35:05, 83.90s/it]\u001b[A"
     ]
    },
    {
     "name": "stdout",
     "output_type": "stream",
     "text": [
      "-> Done in 155.35 seconds!#########################\n",
      "\n",
      "[Cortex][8.0]\n",
      "    - Starting 18546 cells\n",
      "    - Selected 18419 cells\n",
      "    - Included cell types: RGC, ExNeuBl, ExNeu, ExNeuIPC, InNeu, GlioBl\n",
      "    - Excluded cell types: InNeuIPC, Imm, Eryt, Pery, Fibr, Endo, Schwann\n",
      "    -> Saving to ./data//by_Subregion/Cortex/by_Age/8.0/...\n",
      "    \n",
      "...Saving metadata\n",
      "...Getting expression\n",
      "...Saving expression\n"
     ]
    },
    {
     "name": "stderr",
     "output_type": "stream",
     "text": [
      "\n",
      " 20%|██        | 17/84 [18:57<1:32:41, 83.01s/it]\u001b[A"
     ]
    },
    {
     "name": "stdout",
     "output_type": "stream",
     "text": [
      "-> Done in 80.22 seconds!#########################\n",
      "\n",
      "[Cortex][9.2]\n",
      "    - Starting 22850 cells\n",
      "    - Selected 22732 cells\n",
      "    - Included cell types: RGC, ExNeu, ExNeuBl, ExNeuIPC, GlioBl, InNeu\n",
      "    - Excluded cell types: Imm, Pery, Eryt, Endo, Fibr, OPC, InNeuIPC, VSMC\n",
      "    -> Saving to ./data//by_Subregion/Cortex/by_Age/9.2/...\n",
      "    \n",
      "...Saving metadata\n",
      "...Getting expression\n",
      "...Saving expression\n"
     ]
    },
    {
     "name": "stderr",
     "output_type": "stream",
     "text": [
      "\n",
      " 21%|██▏       | 18/84 [20:25<1:32:45, 84.32s/it]\u001b[A"
     ]
    },
    {
     "name": "stdout",
     "output_type": "stream",
     "text": [
      "-> Done in 88.11 seconds!#########################\n",
      "\n",
      "[Cortex][9.5]\n",
      "    - Starting 15788 cells\n",
      "    - Selected 15606 cells\n",
      "    - Included cell types: ExNeu, RGC, ExNeuBl, ExNeuIPC, GlioBl, Fibr, InNeu, InNeuIPC\n",
      "    - Excluded cell types: Eryt, Imm, OPC, Endo, Pery, COPs, VSMC\n",
      "    -> Saving to ./data//by_Subregion/Cortex/by_Age/9.5/...\n",
      "    \n",
      "...Saving metadata\n",
      "...Getting expression\n",
      "...Saving expression\n",
      "-> Done in 65.88 seconds!#########################\n",
      "\n"
     ]
    },
    {
     "name": "stderr",
     "output_type": "stream",
     "text": [
      "\n",
      " 23%|██▎       | 19/84 [21:31<1:25:59, 79.38s/it]\u001b[A\n",
      " 24%|██▍       | 20/84 [21:31<1:01:14, 57.42s/it]\u001b[A"
     ]
    },
    {
     "name": "stdout",
     "output_type": "stream",
     "text": [
      "[Forebrain][10.0]\n",
      "    - Starting 37487 cells\n",
      "    - Selected 37180 cells\n",
      "    - Included cell types: ExNeu, ExNeuBl, GlioBl, RGC, ExNeuIPC, InNeu, OPC\n",
      "    - Excluded cell types: Imm, Pery, InNeuIPC, Endo, Eryt, COPs, VSMC\n",
      "    -> Saving to ./data//by_Subregion/Forebrain/by_Age/10.0/...\n",
      "    \n",
      "...Saving metadata\n",
      "...Getting expression\n",
      "...Saving expression\n"
     ]
    },
    {
     "name": "stderr",
     "output_type": "stream",
     "text": [
      "\n",
      " 26%|██▌       | 22/84 [23:47<1:04:09, 62.09s/it]\u001b[A"
     ]
    },
    {
     "name": "stdout",
     "output_type": "stream",
     "text": [
      "-> Done in 135.86 seconds!#########################\n",
      "\n",
      "[Forebrain][5.0]\n",
      "    - Starting 26405 cells\n",
      "    - Selected 25980 cells\n",
      "    - Included cell types: RGC, InNeu, ExNeuBl, ExNeu, InNeuBl, ExNeuIPC\n",
      "    - Excluded cell types: Fibr, Eryt, Imm, InNeuIPC, Pery, Endo\n",
      "    -> Saving to ./data//by_Subregion/Forebrain/by_Age/5.0/...\n",
      "    \n",
      "...Saving metadata\n",
      "...Getting expression\n",
      "...Saving expression\n"
     ]
    },
    {
     "name": "stderr",
     "output_type": "stream",
     "text": [
      "\n",
      " 27%|██▋       | 23/84 [25:26<1:11:57, 70.79s/it]\u001b[A"
     ]
    },
    {
     "name": "stdout",
     "output_type": "stream",
     "text": [
      "-> Done in 98.33 seconds!#########################\n",
      "\n",
      "[Forebrain][5.5]\n",
      "    - Starting 17912 cells\n",
      "    - Selected 17574 cells\n",
      "    - Included cell types: RGC, Fibr, InNeu, ExNeuBl, ExNeu, ExNeuIPC, InNeuBl, Eryt\n",
      "    - Excluded cell types: InNeuIPC, Schwann, Imm, Endo, Pery, VSMC, Plac\n",
      "    -> Saving to ./data//by_Subregion/Forebrain/by_Age/5.5/...\n",
      "    \n",
      "...Saving metadata\n",
      "...Getting expression\n",
      "...Saving expression\n"
     ]
    },
    {
     "name": "stderr",
     "output_type": "stream",
     "text": [
      "\n",
      " 29%|██▊       | 24/84 [26:43<1:12:21, 72.35s/it]\u001b[A"
     ]
    },
    {
     "name": "stdout",
     "output_type": "stream",
     "text": [
      "-> Done in 76.92 seconds!#########################\n",
      "\n",
      "[Forebrain][6.6]\n",
      "    - Starting 16797 cells\n",
      "    - Selected 16514 cells\n",
      "    - Included cell types: RGC, InNeu, ExNeu, ExNeuBl, InNeuBl, ExNeuIPC\n",
      "    - Excluded cell types: InNeuIPC, Pery, GlioBl, Imm, Eryt, Endo\n",
      "    -> Saving to ./data//by_Subregion/Forebrain/by_Age/6.6/...\n",
      "    \n",
      "...Saving metadata\n",
      "...Getting expression\n",
      "...Saving expression\n"
     ]
    },
    {
     "name": "stderr",
     "output_type": "stream",
     "text": [
      "\n",
      " 30%|██▉       | 25/84 [27:54<1:10:47, 72.00s/it]\u001b[A"
     ]
    },
    {
     "name": "stdout",
     "output_type": "stream",
     "text": [
      "-> Done in 71.02 seconds!#########################\n",
      "\n",
      "[Forebrain][7.5]\n",
      "    - Starting 38870 cells\n",
      "    - Selected 38533 cells\n",
      "    - Included cell types: RGC, ExNeu, InNeu, ExNeuBl, ExNeuIPC, GlioBl, InNeuIPC\n",
      "    - Excluded cell types: Eryt, InNeuBl, Pery, Imm, Endo, OPC, VSMC, COPs\n",
      "    -> Saving to ./data//by_Subregion/Forebrain/by_Age/7.5/...\n",
      "    \n",
      "...Saving metadata\n",
      "...Getting expression\n",
      "...Saving expression\n"
     ]
    },
    {
     "name": "stderr",
     "output_type": "stream",
     "text": [
      "\n",
      " 31%|███       | 26/84 [30:19<1:29:08, 92.22s/it]\u001b[A"
     ]
    },
    {
     "name": "stdout",
     "output_type": "stream",
     "text": [
      "-> Done in 145.21 seconds!#########################\n",
      "\n",
      "[Forebrain][8.5]\n",
      "    - Starting 50807 cells\n",
      "    - Selected 50305 cells\n",
      "    - Included cell types: RGC, ExNeuBl, ExNeu, InNeu, GlioBl, ExNeuIPC, InNeuIPC, Fibr, Eryt, InNeuBl, Imm, Pery\n",
      "    - Excluded cell types: Endo, OPC, VSMC, Schwann, COPs\n",
      "    -> Saving to ./data//by_Subregion/Forebrain/by_Age/8.5/...\n",
      "    \n",
      "...Saving metadata\n",
      "...Getting expression\n",
      "...Saving expression\n"
     ]
    },
    {
     "name": "stderr",
     "output_type": "stream",
     "text": [
      "\n",
      " 32%|███▏      | 27/84 [33:27<1:53:23, 119.35s/it]\u001b[A"
     ]
    },
    {
     "name": "stdout",
     "output_type": "stream",
     "text": [
      "-> Done in 188.09 seconds!#########################\n",
      "\n",
      "[Forebrain][9.2]\n",
      "    - Starting 23917 cells\n",
      "    - Selected 23569 cells\n",
      "    - Included cell types: ExNeu, InNeu, RGC, ExNeuBl, GlioBl, ExNeuIPC, InNeuIPC\n",
      "    - Excluded cell types: Eryt, OPC, Imm, InNeuBl, Pery, Endo, COPs, VSMC, Fibr\n",
      "    -> Saving to ./data//by_Subregion/Forebrain/by_Age/9.2/...\n",
      "    \n",
      "...Saving metadata\n",
      "...Getting expression\n",
      "...Saving expression\n"
     ]
    },
    {
     "name": "stderr",
     "output_type": "stream",
     "text": [
      "\n",
      " 33%|███▎      | 28/84 [35:11<1:47:11, 114.85s/it]\u001b[A"
     ]
    },
    {
     "name": "stdout",
     "output_type": "stream",
     "text": [
      "-> Done in 103.71 seconds!#########################\n",
      "\n",
      "[Head][5.0]\n",
      "    - Starting 6801 cells\n",
      "    - Selected 6539 cells\n",
      "    - Included cell types: Fibr, Schwann, Plac\n",
      "    - Excluded cell types: RGC, Eryt, Imm, ExNeuBl, Endo, ExNeu, ExNeuIPC, Pery, VSMC, InNeuIPC, InNeu, InNeuBl\n",
      "    -> Saving to ./data//by_Subregion/Head/by_Age/5.0/...\n",
      "    \n",
      "...Saving metadata\n",
      "...Getting expression\n",
      "...Saving expression\n"
     ]
    },
    {
     "name": "stderr",
     "output_type": "stream",
     "text": [
      "\n",
      " 35%|███▍      | 29/84 [35:36<1:21:20, 88.74s/it] \u001b[A"
     ]
    },
    {
     "name": "stdout",
     "output_type": "stream",
     "text": [
      "-> Done in 25.17 seconds!#########################\n",
      "\n",
      "[Hippocampus][12.0]\n",
      "    - Starting 10276 cells\n",
      "    - Selected 9948 cells\n",
      "    - Included cell types: ExNeuBl, GlioBl, ExNeu, RGC, ExNeuIPC, InNeu\n",
      "    - Excluded cell types: OPC, Eryt, Imm, COPs, Pery, Endo, VSMC\n",
      "    -> Saving to ./data//by_Subregion/Hippocampus/by_Age/12.0/...\n",
      "    \n",
      "...Saving metadata\n",
      "...Getting expression\n",
      "...Saving expression\n"
     ]
    },
    {
     "name": "stderr",
     "output_type": "stream",
     "text": [
      "\n",
      " 40%|████      | 34/84 [36:21<29:05, 34.91s/it]  \u001b[A"
     ]
    },
    {
     "name": "stdout",
     "output_type": "stream",
     "text": [
      "-> Done in 45.2 seconds!#########################\n",
      "\n",
      "[Hippocampus][14.0]\n",
      "    - Starting 5329 cells\n",
      "    - Selected 5034 cells\n",
      "    - Included cell types: ExNeuBl, GlioBl, InNeu, ExNeuIPC, COPs, Imm\n",
      "    - Excluded cell types: OPC, Pery, RGC, Endo, Eryt, Fibr, ExNeu, VSMC\n",
      "    -> Saving to ./data//by_Subregion/Hippocampus/by_Age/14.0/...\n",
      "    \n",
      "...Saving metadata\n",
      "...Getting expression\n",
      "...Saving expression\n"
     ]
    },
    {
     "name": "stderr",
     "output_type": "stream",
     "text": [
      "\n",
      " 42%|████▏     | 35/84 [36:47<27:20, 33.47s/it]\u001b[A\n",
      " 48%|████▊     | 40/84 [36:47<11:23, 15.54s/it]\u001b[A"
     ]
    },
    {
     "name": "stdout",
     "output_type": "stream",
     "text": [
      "-> Done in 25.99 seconds!#########################\n",
      "\n"
     ]
    },
    {
     "name": "stderr",
     "output_type": "stream",
     "text": [
      "\n",
      " 57%|█████▋    | 48/84 [36:47<04:11,  6.99s/it]\u001b[A\n",
      " 76%|███████▌  | 64/84 [36:48<00:54,  2.72s/it]\u001b[A"
     ]
    },
    {
     "name": "stdout",
     "output_type": "stream",
     "text": [
      "[Striatum][14.0]\n",
      "    - Starting 13184 cells\n",
      "    - Selected 13123 cells\n",
      "    - Included cell types: InNeu, GlioBl, InNeuIPC, ExNeuIPC, RGC, ExNeu\n",
      "    - Excluded cell types: Eryt, Pery, ExNeuBl, Endo, Imm, COPs, OPC, VSMC\n",
      "    -> Saving to ./data//by_Subregion/Striatum/by_Age/14.0/...\n",
      "    \n",
      "...Saving metadata\n",
      "...Getting expression\n"
     ]
    },
    {
     "name": "stderr",
     "output_type": "stream",
     "text": [
      "\n",
      " 83%|████████▎ | 70/84 [37:05<00:38,  2.72s/it]\u001b[A"
     ]
    },
    {
     "name": "stdout",
     "output_type": "stream",
     "text": [
      "...Saving expression\n"
     ]
    },
    {
     "name": "stderr",
     "output_type": "stream",
     "text": [
      "\n",
      " 85%|████████▍ | 71/84 [37:40<00:52,  4.04s/it]\u001b[A"
     ]
    },
    {
     "name": "stdout",
     "output_type": "stream",
     "text": [
      "-> Done in 52.27 seconds!#########################\n",
      "\n",
      "[Striatum][6.9]\n",
      "    - Starting 95228 cells\n",
      "    - Selected 94494 cells\n",
      "    - Included cell types: RGC, InNeu, ExNeu, ExNeuBl, InNeuIPC, ExNeuIPC, GlioBl, Eryt, Pery, Imm\n",
      "    - Excluded cell types: Endo, InNeuBl, OPC, VSMC, Schwann\n",
      "    -> Saving to ./data//by_Subregion/Striatum/by_Age/6.9/...\n",
      "    \n",
      "...Saving metadata\n",
      "...Getting expression\n",
      "...Saving expression\n"
     ]
    },
    {
     "name": "stderr",
     "output_type": "stream",
     "text": [
      "\n",
      " 86%|████████▌ | 72/84 [43:43<04:38, 23.22s/it]\u001b[A"
     ]
    },
    {
     "name": "stdout",
     "output_type": "stream",
     "text": [
      "-> Done in 363.15 seconds!#########################\n",
      "\n",
      "[Subcortex][11.5]\n",
      "    - Starting 25951 cells\n",
      "    - Selected 25699 cells\n",
      "    - Included cell types: InNeu, GlioBl, InNeuIPC, ExNeuBl, RGC, ExNeu, ExNeuIPC, Eryt, Endo, Imm, Pery, OPC\n",
      "    - Excluded cell types: VSMC, Fibr, COPs, Schwann, InNeuBl\n",
      "    -> Saving to ./data//by_Subregion/Subcortex/by_Age/11.5/...\n",
      "    \n",
      "...Saving metadata\n",
      "...Getting expression\n",
      "...Saving expression\n"
     ]
    },
    {
     "name": "stderr",
     "output_type": "stream",
     "text": [
      "\n",
      " 87%|████████▋ | 73/84 [45:36<05:25, 29.61s/it]\u001b[A"
     ]
    },
    {
     "name": "stdout",
     "output_type": "stream",
     "text": [
      "-> Done in 113.29 seconds!#########################\n",
      "\n",
      "[Subcortex][12.0]\n",
      "    - Starting 28814 cells\n",
      "    - Selected 28217 cells\n",
      "    - Included cell types: InNeu, GlioBl, InNeuIPC, ExNeuIPC, RGC, ExNeuBl, ExNeu, Eryt, Pery, Endo, Imm, OPC\n",
      "    - Excluded cell types: COPs, InNeuBl, VSMC, Schwann, Fibr\n",
      "    -> Saving to ./data//by_Subregion/Subcortex/by_Age/12.0/...\n",
      "    \n",
      "...Saving metadata\n",
      "...Getting expression\n",
      "...Saving expression\n"
     ]
    },
    {
     "name": "stderr",
     "output_type": "stream",
     "text": [
      "\n",
      " 88%|████████▊ | 74/84 [47:41<06:23, 38.33s/it]\u001b[A"
     ]
    },
    {
     "name": "stdout",
     "output_type": "stream",
     "text": [
      "-> Done in 124.42 seconds!#########################\n",
      "\n",
      "[Subcortex][13.0]\n",
      "    - Starting 8761 cells\n",
      "    - Selected 8557 cells\n",
      "    - Included cell types: InNeu, InNeuIPC, GlioBl, ExNeuIPC, RGC, ExNeu\n",
      "    - Excluded cell types: Eryt, ExNeuBl, Endo, Pery, Imm, OPC, COPs, VSMC\n",
      "    -> Saving to ./data//by_Subregion/Subcortex/by_Age/13.0/...\n",
      "    \n",
      "...Saving metadata\n",
      "...Getting expression\n",
      "...Saving expression\n"
     ]
    },
    {
     "name": "stderr",
     "output_type": "stream",
     "text": [
      "\n",
      " 89%|████████▉ | 75/84 [48:19<05:44, 38.30s/it]\u001b[A"
     ]
    },
    {
     "name": "stdout",
     "output_type": "stream",
     "text": [
      "-> Done in 38.12 seconds!#########################\n",
      "\n",
      "[Subcortex][8.0]\n",
      "    - Starting 11804 cells\n",
      "    - Selected 11644 cells\n",
      "    - Included cell types: ExNeu, InNeu, RGC, ExNeuBl, ExNeuIPC, GlioBl, InNeuIPC, InNeuBl\n",
      "    - Excluded cell types: Pery, Imm, Eryt, OPC, Endo, VSMC, COPs\n",
      "    -> Saving to ./data//by_Subregion/Subcortex/by_Age/8.0/...\n",
      "    \n",
      "...Saving metadata\n",
      "...Getting expression\n",
      "...Saving expression\n"
     ]
    },
    {
     "name": "stderr",
     "output_type": "stream",
     "text": [
      "\n",
      " 90%|█████████ | 76/84 [49:21<05:33, 41.73s/it]\u001b[A"
     ]
    },
    {
     "name": "stdout",
     "output_type": "stream",
     "text": [
      "-> Done in 62.41 seconds!#########################\n",
      "\n",
      "[Subcortex][8.5]\n",
      "    - Starting 14179 cells\n",
      "    - Selected 13916 cells\n",
      "    - Included cell types: InNeu, ExNeu, RGC, ExNeuBl, GlioBl, ExNeuIPC, InNeuIPC\n",
      "    - Excluded cell types: InNeuBl, Eryt, Imm, Pery, Endo, OPC, VSMC, Schwann\n",
      "    -> Saving to ./data//by_Subregion/Subcortex/by_Age/8.5/...\n",
      "    \n",
      "...Saving metadata\n",
      "...Getting expression\n",
      "...Saving expression\n"
     ]
    },
    {
     "name": "stderr",
     "output_type": "stream",
     "text": [
      "\n",
      " 92%|█████████▏| 77/84 [50:34<05:28, 46.89s/it]\u001b[A"
     ]
    },
    {
     "name": "stdout",
     "output_type": "stream",
     "text": [
      "-> Done in 72.26 seconds!#########################\n",
      "\n",
      "[Subcortex][9.5]\n",
      "    - Starting 12859 cells\n",
      "    - Selected 12681 cells\n",
      "    - Included cell types: InNeu, ExNeu, GlioBl, InNeuIPC, RGC, ExNeuBl, ExNeuIPC\n",
      "    - Excluded cell types: Eryt, Imm, OPC, Pery, Endo, COPs, VSMC\n",
      "    -> Saving to ./data//by_Subregion/Subcortex/by_Age/9.5/...\n",
      "    \n",
      "...Saving metadata\n",
      "...Getting expression\n",
      "...Saving expression\n"
     ]
    },
    {
     "name": "stderr",
     "output_type": "stream",
     "text": [
      "\n",
      " 93%|█████████▎| 78/84 [51:27<04:49, 48.24s/it]\u001b[A"
     ]
    },
    {
     "name": "stdout",
     "output_type": "stream",
     "text": [
      "-> Done in 53.81 seconds!#########################\n",
      "\n",
      "[Telencephalon][6.7]\n",
      "    - Starting 7052 cells\n",
      "    - Selected 6903 cells\n",
      "    - Included cell types: RGC, InNeu, ExNeu, ExNeuBl, ExNeuIPC, InNeuIPC\n",
      "    - Excluded cell types: GlioBl, Imm, Eryt, Pery, Endo\n",
      "    -> Saving to ./data//by_Subregion/Telencephalon/by_Age/6.7/...\n",
      "    \n",
      "...Saving metadata\n",
      "...Getting expression\n",
      "...Saving expression\n"
     ]
    },
    {
     "name": "stderr",
     "output_type": "stream",
     "text": [
      "\n",
      " 94%|█████████▍| 79/84 [52:07<03:52, 46.44s/it]\u001b[A"
     ]
    },
    {
     "name": "stdout",
     "output_type": "stream",
     "text": [
      "-> Done in 39.93 seconds!#########################\n",
      "\n"
     ]
    }
   ],
   "source": [
    "# we want to analyse the data by subregion and timepoint, and then measure celltype differences.\n",
    "# celltypes that don't have enough cells are not included\n",
    "# we also save the cell metadata of the subset to keep things clear\n",
    "# And we don't include the discarded cells\n",
    "# And we want to include only the selected regions \n",
    "\n",
    "selected_regions = ['Brain', 'Head', 'Forebrain', 'Telencephalon']\n",
    "group_vars = ['Subregion', 'Age']\n",
    "celltype_var = ['ShortName']\n",
    "enough_cells = 100\n",
    "\n",
    "meta = cellmeta.copy()\n",
    "meta.discarded = meta.discarded | ~meta.Region.isin(selected_regions)\n",
    "\n",
    "pbar = tqdm(total = (~meta[group_vars].duplicated()).sum())\n",
    "\n",
    "for region, rmeta in meta.groupby(group_vars[0]):\n",
    "\n",
    "    for age, ameta in rmeta.groupby(group_vars[1]):\n",
    "\n",
    "        t0 = time.time()\n",
    "\n",
    "        if not ameta.discarded.all():\n",
    "                                    \n",
    "            cinfo = ameta[celltype_var].value_counts().reset_index()\n",
    "            cinfo['include'] = cinfo.iloc[:,-1] >= enough_cells\n",
    "        \n",
    "            included = cinfo.iloc[:,0][cinfo['include'] & ~cinfo.iloc[:,0].isna()].values\n",
    "    \n",
    "            selmeta = pd.concat([\n",
    "                ~meta.discarded,\n",
    "                meta[celltype_var].isin(included),\n",
    "                meta[group_vars[0]] == region,\n",
    "                meta[group_vars[1]] == age], axis=1).all(1)\n",
    "    \n",
    "            print(f'[{region}][{age}]')\n",
    "    \n",
    "            if (selmeta.sum() > 0):\n",
    "    \n",
    "                path = f'{outdir}/by_{group_vars[0]}/{region}/by_{group_vars[1]}/{age}/'\n",
    "                !mkdir -p {path}\n",
    "                \n",
    "                print(f'''\\\n",
    "    - Starting {ameta.shape[0]} cells\n",
    "    - Selected {selmeta.sum()} cells\n",
    "    - Included cell types: {\", \".join(included)}\n",
    "    - Excluded cell types: {\", \".join(cinfo.iloc[:,0][~cinfo.iloc[:,0].isin(included)])}\n",
    "    -> Saving to {path}...\n",
    "    ''')\n",
    "    \n",
    "                print('...Saving metadata')\n",
    "                meta[selmeta].to_csv(f'{path}cell_meta.csv')\n",
    "\n",
    "                \n",
    "                print('...Getting expression')\n",
    "                if not expression_is_loaded:\n",
    "                    exp = csr_matrix(f['shoji'][att_groups['(ncells, genes)'][0]][selmeta.to_numpy(),:])\n",
    "                else:\n",
    "                    exp = Expression[selmeta,:]\n",
    "\n",
    "                print('...Saving expression')\n",
    "                mmwrite(f'{path}Expression.sparseMatrix.mtx', \n",
    "                        exp, \n",
    "                        comment = 'Expression')\n",
    "                \n",
    "                print(f'-> Done in {round(time.time()-t0,2)} seconds!#########################\\n')\n",
    "            else:\n",
    "                print('-> Not saving\\n')\n",
    "    \n",
    "            \n",
    "        pbar.update(1)\n",
    "\n"
   ]
  },
  {
   "cell_type": "code",
   "execution_count": 122,
   "id": "dd088d9a-970d-41b0-b5ea-83d10ad1c083",
   "metadata": {
    "execution": {
     "iopub.execute_input": "2024-11-28T13:15:17.805059Z",
     "iopub.status.busy": "2024-11-28T13:15:17.804734Z",
     "iopub.status.idle": "2024-11-28T13:15:17.811420Z",
     "shell.execute_reply": "2024-11-28T13:15:17.810300Z",
     "shell.execute_reply.started": "2024-11-28T13:15:17.805026Z"
    }
   },
   "outputs": [
    {
     "name": "stdout",
     "output_type": "stream",
     "text": [
      "Done\n"
     ]
    }
   ],
   "source": [
    "print('Done')"
   ]
  }
 ],
 "metadata": {
  "kernelspec": {
   "display_name": "EWCE (Python 3.12.5) [NG]",
   "language": "python",
   "name": "ewce2024_py_ng"
  },
  "language_info": {
   "codemirror_mode": {
    "name": "ipython",
    "version": 3
   },
   "file_extension": ".py",
   "mimetype": "text/x-python",
   "name": "python",
   "nbconvert_exporter": "python",
   "pygments_lexer": "ipython3",
   "version": "3.12.5"
  },
  "widgets": {
   "application/vnd.jupyter.widget-state+json": {
    "state": {},
    "version_major": 2,
    "version_minor": 0
   }
  }
 },
 "nbformat": 4,
 "nbformat_minor": 5
}
